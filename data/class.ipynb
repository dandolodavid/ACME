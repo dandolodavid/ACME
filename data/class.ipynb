{
 "cells": [
  {
   "cell_type": "code",
   "execution_count": 57,
   "metadata": {},
   "outputs": [],
   "source": [
    "import pandas as pd\n",
    "import numpy as np\n",
    "from statwolfml import Builder\n",
    "from ACME import ACME "
   ]
  },
  {
   "cell_type": "code",
   "execution_count": 58,
   "metadata": {},
   "outputs": [],
   "source": [
    "from data_science.modules.load_dataset import create as createLD"
   ]
  },
  {
   "cell_type": "code",
   "execution_count": 59,
   "metadata": {},
   "outputs": [],
   "source": [
    "df = createLD().classification_bin().dataframe()\n",
    "features = df.drop(columns='target').columns"
   ]
  },
  {
   "cell_type": "code",
   "execution_count": 60,
   "metadata": {},
   "outputs": [],
   "source": [
    "from data_science.modules.encoding import create as createENC"
   ]
  },
  {
   "cell_type": "code",
   "execution_count": 61,
   "metadata": {},
   "outputs": [],
   "source": [
    "df['Sex'] = createENC().label_encoder(df,'Sex').dataframe()"
   ]
  },
  {
   "cell_type": "code",
   "execution_count": 62,
   "metadata": {},
   "outputs": [],
   "source": [
    "df = df[['Pclass','Sex','Age','Siblings/Spouses Aboard','Parents/Children Aboard','Fare','target']]"
   ]
  },
  {
   "cell_type": "code",
   "execution_count": 64,
   "metadata": {},
   "outputs": [],
   "source": [
    "model= 'random_forest_classifier'\n",
    "build_model = Builder(model).feature_names([]).labels(['target']).build()\n",
    "train_model = build_model.train(df)"
   ]
  },
  {
   "cell_type": "code",
   "execution_count": 65,
   "metadata": {},
   "outputs": [],
   "source": [
    "model = train_model.base_model()['model']"
   ]
  },
  {
   "cell_type": "code",
   "execution_count": 81,
   "metadata": {},
   "outputs": [],
   "source": [
    "acme_rf = ACME(model, qualitative_features=['Sex'], target='target',K=50, task = 'class')"
   ]
  },
  {
   "cell_type": "code",
   "execution_count": 82,
   "metadata": {},
   "outputs": [],
   "source": [
    "acme_rf = acme_rf.fit(df,label_class=None)"
   ]
  },
  {
   "cell_type": "code",
   "execution_count": 83,
   "metadata": {},
   "outputs": [
    {
     "data": {
      "application/vnd.plotly.v1+json": {
       "config": {
        "plotlyServerURL": "https://plot.ly"
       },
       "data": [
        {
         "alignmentgroup": "True",
         "hovertemplate": "class=1<br>Importance=%{x}<br>Feature=%{y}<extra></extra>",
         "legendgroup": "1",
         "marker": {
          "color": "#636efa"
         },
         "name": "1",
         "offsetgroup": "1",
         "orientation": "h",
         "showlegend": true,
         "textposition": "auto",
         "type": "bar",
         "x": [
          0.03738426746580949,
          0.038287535642109585,
          0.10060273604906317,
          0.2275326528707042,
          0.45696951904794614,
          0.899777860048449
         ],
         "xaxis": "x",
         "y": [
          "Siblings/Spouses Aboard",
          "Parents/Children Aboard",
          "Pclass",
          "Fare",
          "Age",
          "Sex"
         ],
         "yaxis": "y"
        },
        {
         "alignmentgroup": "True",
         "hovertemplate": "class=0<br>Importance=%{x}<br>Feature=%{y}<extra></extra>",
         "legendgroup": "0",
         "marker": {
          "color": "#EF553B"
         },
         "name": "0",
         "offsetgroup": "0",
         "orientation": "h",
         "showlegend": true,
         "textposition": "auto",
         "type": "bar",
         "x": [
          0.03738426746580954,
          0.03828753564210954,
          0.10060273604906317,
          0.22753265287070432,
          0.45696951904794614,
          0.8997778600484491
         ],
         "xaxis": "x",
         "y": [
          "Siblings/Spouses Aboard",
          "Parents/Children Aboard",
          "Pclass",
          "Fare",
          "Age",
          "Sex"
         ],
         "yaxis": "y"
        }
       ],
       "layout": {
        "barmode": "relative",
        "legend": {
         "title": {
          "text": "class"
         },
         "tracegroupgap": 0
        },
        "template": {
         "data": {
          "bar": [
           {
            "error_x": {
             "color": "#2a3f5f"
            },
            "error_y": {
             "color": "#2a3f5f"
            },
            "marker": {
             "line": {
              "color": "#E5ECF6",
              "width": 0.5
             }
            },
            "type": "bar"
           }
          ],
          "barpolar": [
           {
            "marker": {
             "line": {
              "color": "#E5ECF6",
              "width": 0.5
             }
            },
            "type": "barpolar"
           }
          ],
          "carpet": [
           {
            "aaxis": {
             "endlinecolor": "#2a3f5f",
             "gridcolor": "white",
             "linecolor": "white",
             "minorgridcolor": "white",
             "startlinecolor": "#2a3f5f"
            },
            "baxis": {
             "endlinecolor": "#2a3f5f",
             "gridcolor": "white",
             "linecolor": "white",
             "minorgridcolor": "white",
             "startlinecolor": "#2a3f5f"
            },
            "type": "carpet"
           }
          ],
          "choropleth": [
           {
            "colorbar": {
             "outlinewidth": 0,
             "ticks": ""
            },
            "type": "choropleth"
           }
          ],
          "contour": [
           {
            "colorbar": {
             "outlinewidth": 0,
             "ticks": ""
            },
            "colorscale": [
             [
              0,
              "#0d0887"
             ],
             [
              0.1111111111111111,
              "#46039f"
             ],
             [
              0.2222222222222222,
              "#7201a8"
             ],
             [
              0.3333333333333333,
              "#9c179e"
             ],
             [
              0.4444444444444444,
              "#bd3786"
             ],
             [
              0.5555555555555556,
              "#d8576b"
             ],
             [
              0.6666666666666666,
              "#ed7953"
             ],
             [
              0.7777777777777778,
              "#fb9f3a"
             ],
             [
              0.8888888888888888,
              "#fdca26"
             ],
             [
              1,
              "#f0f921"
             ]
            ],
            "type": "contour"
           }
          ],
          "contourcarpet": [
           {
            "colorbar": {
             "outlinewidth": 0,
             "ticks": ""
            },
            "type": "contourcarpet"
           }
          ],
          "heatmap": [
           {
            "colorbar": {
             "outlinewidth": 0,
             "ticks": ""
            },
            "colorscale": [
             [
              0,
              "#0d0887"
             ],
             [
              0.1111111111111111,
              "#46039f"
             ],
             [
              0.2222222222222222,
              "#7201a8"
             ],
             [
              0.3333333333333333,
              "#9c179e"
             ],
             [
              0.4444444444444444,
              "#bd3786"
             ],
             [
              0.5555555555555556,
              "#d8576b"
             ],
             [
              0.6666666666666666,
              "#ed7953"
             ],
             [
              0.7777777777777778,
              "#fb9f3a"
             ],
             [
              0.8888888888888888,
              "#fdca26"
             ],
             [
              1,
              "#f0f921"
             ]
            ],
            "type": "heatmap"
           }
          ],
          "heatmapgl": [
           {
            "colorbar": {
             "outlinewidth": 0,
             "ticks": ""
            },
            "colorscale": [
             [
              0,
              "#0d0887"
             ],
             [
              0.1111111111111111,
              "#46039f"
             ],
             [
              0.2222222222222222,
              "#7201a8"
             ],
             [
              0.3333333333333333,
              "#9c179e"
             ],
             [
              0.4444444444444444,
              "#bd3786"
             ],
             [
              0.5555555555555556,
              "#d8576b"
             ],
             [
              0.6666666666666666,
              "#ed7953"
             ],
             [
              0.7777777777777778,
              "#fb9f3a"
             ],
             [
              0.8888888888888888,
              "#fdca26"
             ],
             [
              1,
              "#f0f921"
             ]
            ],
            "type": "heatmapgl"
           }
          ],
          "histogram": [
           {
            "marker": {
             "colorbar": {
              "outlinewidth": 0,
              "ticks": ""
             }
            },
            "type": "histogram"
           }
          ],
          "histogram2d": [
           {
            "colorbar": {
             "outlinewidth": 0,
             "ticks": ""
            },
            "colorscale": [
             [
              0,
              "#0d0887"
             ],
             [
              0.1111111111111111,
              "#46039f"
             ],
             [
              0.2222222222222222,
              "#7201a8"
             ],
             [
              0.3333333333333333,
              "#9c179e"
             ],
             [
              0.4444444444444444,
              "#bd3786"
             ],
             [
              0.5555555555555556,
              "#d8576b"
             ],
             [
              0.6666666666666666,
              "#ed7953"
             ],
             [
              0.7777777777777778,
              "#fb9f3a"
             ],
             [
              0.8888888888888888,
              "#fdca26"
             ],
             [
              1,
              "#f0f921"
             ]
            ],
            "type": "histogram2d"
           }
          ],
          "histogram2dcontour": [
           {
            "colorbar": {
             "outlinewidth": 0,
             "ticks": ""
            },
            "colorscale": [
             [
              0,
              "#0d0887"
             ],
             [
              0.1111111111111111,
              "#46039f"
             ],
             [
              0.2222222222222222,
              "#7201a8"
             ],
             [
              0.3333333333333333,
              "#9c179e"
             ],
             [
              0.4444444444444444,
              "#bd3786"
             ],
             [
              0.5555555555555556,
              "#d8576b"
             ],
             [
              0.6666666666666666,
              "#ed7953"
             ],
             [
              0.7777777777777778,
              "#fb9f3a"
             ],
             [
              0.8888888888888888,
              "#fdca26"
             ],
             [
              1,
              "#f0f921"
             ]
            ],
            "type": "histogram2dcontour"
           }
          ],
          "mesh3d": [
           {
            "colorbar": {
             "outlinewidth": 0,
             "ticks": ""
            },
            "type": "mesh3d"
           }
          ],
          "parcoords": [
           {
            "line": {
             "colorbar": {
              "outlinewidth": 0,
              "ticks": ""
             }
            },
            "type": "parcoords"
           }
          ],
          "pie": [
           {
            "automargin": true,
            "type": "pie"
           }
          ],
          "scatter": [
           {
            "marker": {
             "colorbar": {
              "outlinewidth": 0,
              "ticks": ""
             }
            },
            "type": "scatter"
           }
          ],
          "scatter3d": [
           {
            "line": {
             "colorbar": {
              "outlinewidth": 0,
              "ticks": ""
             }
            },
            "marker": {
             "colorbar": {
              "outlinewidth": 0,
              "ticks": ""
             }
            },
            "type": "scatter3d"
           }
          ],
          "scattercarpet": [
           {
            "marker": {
             "colorbar": {
              "outlinewidth": 0,
              "ticks": ""
             }
            },
            "type": "scattercarpet"
           }
          ],
          "scattergeo": [
           {
            "marker": {
             "colorbar": {
              "outlinewidth": 0,
              "ticks": ""
             }
            },
            "type": "scattergeo"
           }
          ],
          "scattergl": [
           {
            "marker": {
             "colorbar": {
              "outlinewidth": 0,
              "ticks": ""
             }
            },
            "type": "scattergl"
           }
          ],
          "scattermapbox": [
           {
            "marker": {
             "colorbar": {
              "outlinewidth": 0,
              "ticks": ""
             }
            },
            "type": "scattermapbox"
           }
          ],
          "scatterpolar": [
           {
            "marker": {
             "colorbar": {
              "outlinewidth": 0,
              "ticks": ""
             }
            },
            "type": "scatterpolar"
           }
          ],
          "scatterpolargl": [
           {
            "marker": {
             "colorbar": {
              "outlinewidth": 0,
              "ticks": ""
             }
            },
            "type": "scatterpolargl"
           }
          ],
          "scatterternary": [
           {
            "marker": {
             "colorbar": {
              "outlinewidth": 0,
              "ticks": ""
             }
            },
            "type": "scatterternary"
           }
          ],
          "surface": [
           {
            "colorbar": {
             "outlinewidth": 0,
             "ticks": ""
            },
            "colorscale": [
             [
              0,
              "#0d0887"
             ],
             [
              0.1111111111111111,
              "#46039f"
             ],
             [
              0.2222222222222222,
              "#7201a8"
             ],
             [
              0.3333333333333333,
              "#9c179e"
             ],
             [
              0.4444444444444444,
              "#bd3786"
             ],
             [
              0.5555555555555556,
              "#d8576b"
             ],
             [
              0.6666666666666666,
              "#ed7953"
             ],
             [
              0.7777777777777778,
              "#fb9f3a"
             ],
             [
              0.8888888888888888,
              "#fdca26"
             ],
             [
              1,
              "#f0f921"
             ]
            ],
            "type": "surface"
           }
          ],
          "table": [
           {
            "cells": {
             "fill": {
              "color": "#EBF0F8"
             },
             "line": {
              "color": "white"
             }
            },
            "header": {
             "fill": {
              "color": "#C8D4E3"
             },
             "line": {
              "color": "white"
             }
            },
            "type": "table"
           }
          ]
         },
         "layout": {
          "annotationdefaults": {
           "arrowcolor": "#2a3f5f",
           "arrowhead": 0,
           "arrowwidth": 1
          },
          "coloraxis": {
           "colorbar": {
            "outlinewidth": 0,
            "ticks": ""
           }
          },
          "colorscale": {
           "diverging": [
            [
             0,
             "#8e0152"
            ],
            [
             0.1,
             "#c51b7d"
            ],
            [
             0.2,
             "#de77ae"
            ],
            [
             0.3,
             "#f1b6da"
            ],
            [
             0.4,
             "#fde0ef"
            ],
            [
             0.5,
             "#f7f7f7"
            ],
            [
             0.6,
             "#e6f5d0"
            ],
            [
             0.7,
             "#b8e186"
            ],
            [
             0.8,
             "#7fbc41"
            ],
            [
             0.9,
             "#4d9221"
            ],
            [
             1,
             "#276419"
            ]
           ],
           "sequential": [
            [
             0,
             "#0d0887"
            ],
            [
             0.1111111111111111,
             "#46039f"
            ],
            [
             0.2222222222222222,
             "#7201a8"
            ],
            [
             0.3333333333333333,
             "#9c179e"
            ],
            [
             0.4444444444444444,
             "#bd3786"
            ],
            [
             0.5555555555555556,
             "#d8576b"
            ],
            [
             0.6666666666666666,
             "#ed7953"
            ],
            [
             0.7777777777777778,
             "#fb9f3a"
            ],
            [
             0.8888888888888888,
             "#fdca26"
            ],
            [
             1,
             "#f0f921"
            ]
           ],
           "sequentialminus": [
            [
             0,
             "#0d0887"
            ],
            [
             0.1111111111111111,
             "#46039f"
            ],
            [
             0.2222222222222222,
             "#7201a8"
            ],
            [
             0.3333333333333333,
             "#9c179e"
            ],
            [
             0.4444444444444444,
             "#bd3786"
            ],
            [
             0.5555555555555556,
             "#d8576b"
            ],
            [
             0.6666666666666666,
             "#ed7953"
            ],
            [
             0.7777777777777778,
             "#fb9f3a"
            ],
            [
             0.8888888888888888,
             "#fdca26"
            ],
            [
             1,
             "#f0f921"
            ]
           ]
          },
          "colorway": [
           "#636efa",
           "#EF553B",
           "#00cc96",
           "#ab63fa",
           "#FFA15A",
           "#19d3f3",
           "#FF6692",
           "#B6E880",
           "#FF97FF",
           "#FECB52"
          ],
          "font": {
           "color": "#2a3f5f"
          },
          "geo": {
           "bgcolor": "white",
           "lakecolor": "white",
           "landcolor": "#E5ECF6",
           "showlakes": true,
           "showland": true,
           "subunitcolor": "white"
          },
          "hoverlabel": {
           "align": "left"
          },
          "hovermode": "closest",
          "mapbox": {
           "style": "light"
          },
          "paper_bgcolor": "white",
          "plot_bgcolor": "#E5ECF6",
          "polar": {
           "angularaxis": {
            "gridcolor": "white",
            "linecolor": "white",
            "ticks": ""
           },
           "bgcolor": "#E5ECF6",
           "radialaxis": {
            "gridcolor": "white",
            "linecolor": "white",
            "ticks": ""
           }
          },
          "scene": {
           "xaxis": {
            "backgroundcolor": "#E5ECF6",
            "gridcolor": "white",
            "gridwidth": 2,
            "linecolor": "white",
            "showbackground": true,
            "ticks": "",
            "zerolinecolor": "white"
           },
           "yaxis": {
            "backgroundcolor": "#E5ECF6",
            "gridcolor": "white",
            "gridwidth": 2,
            "linecolor": "white",
            "showbackground": true,
            "ticks": "",
            "zerolinecolor": "white"
           },
           "zaxis": {
            "backgroundcolor": "#E5ECF6",
            "gridcolor": "white",
            "gridwidth": 2,
            "linecolor": "white",
            "showbackground": true,
            "ticks": "",
            "zerolinecolor": "white"
           }
          },
          "shapedefaults": {
           "line": {
            "color": "#2a3f5f"
           }
          },
          "ternary": {
           "aaxis": {
            "gridcolor": "white",
            "linecolor": "white",
            "ticks": ""
           },
           "baxis": {
            "gridcolor": "white",
            "linecolor": "white",
            "ticks": ""
           },
           "bgcolor": "#E5ECF6",
           "caxis": {
            "gridcolor": "white",
            "linecolor": "white",
            "ticks": ""
           }
          },
          "title": {
           "x": 0.05
          },
          "xaxis": {
           "automargin": true,
           "gridcolor": "white",
           "linecolor": "white",
           "ticks": "",
           "title": {
            "standoff": 15
           },
           "zerolinecolor": "white",
           "zerolinewidth": 2
          },
          "yaxis": {
           "automargin": true,
           "gridcolor": "white",
           "linecolor": "white",
           "ticks": "",
           "title": {
            "standoff": 15
           },
           "zerolinecolor": "white",
           "zerolinewidth": 2
          }
         }
        },
        "title": {
         "text": "Overall Classification Importance"
        },
        "xaxis": {
         "anchor": "y",
         "domain": [
          0,
          1
         ],
         "title": {
          "text": "Importance"
         }
        },
        "yaxis": {
         "anchor": "x",
         "domain": [
          0,
          1
         ],
         "title": {
          "text": "Feature"
         }
        }
       }
      },
      "text/html": [
       "<div>\n",
       "        \n",
       "        \n",
       "            <div id=\"d1b4f6ed-f9e2-4b09-a241-b92cd4901537\" class=\"plotly-graph-div\" style=\"height:525px; width:100%;\"></div>\n",
       "            <script type=\"text/javascript\">\n",
       "                require([\"plotly\"], function(Plotly) {\n",
       "                    window.PLOTLYENV=window.PLOTLYENV || {};\n",
       "                    \n",
       "                if (document.getElementById(\"d1b4f6ed-f9e2-4b09-a241-b92cd4901537\")) {\n",
       "                    Plotly.newPlot(\n",
       "                        'd1b4f6ed-f9e2-4b09-a241-b92cd4901537',\n",
       "                        [{\"alignmentgroup\": \"True\", \"hovertemplate\": \"class=1<br>Importance=%{x}<br>Feature=%{y}<extra></extra>\", \"legendgroup\": \"1\", \"marker\": {\"color\": \"#636efa\"}, \"name\": \"1\", \"offsetgroup\": \"1\", \"orientation\": \"h\", \"showlegend\": true, \"textposition\": \"auto\", \"type\": \"bar\", \"x\": [0.03738426746580949, 0.038287535642109585, 0.10060273604906317, 0.2275326528707042, 0.45696951904794614, 0.899777860048449], \"xaxis\": \"x\", \"y\": [\"Siblings/Spouses Aboard\", \"Parents/Children Aboard\", \"Pclass\", \"Fare\", \"Age\", \"Sex\"], \"yaxis\": \"y\"}, {\"alignmentgroup\": \"True\", \"hovertemplate\": \"class=0<br>Importance=%{x}<br>Feature=%{y}<extra></extra>\", \"legendgroup\": \"0\", \"marker\": {\"color\": \"#EF553B\"}, \"name\": \"0\", \"offsetgroup\": \"0\", \"orientation\": \"h\", \"showlegend\": true, \"textposition\": \"auto\", \"type\": \"bar\", \"x\": [0.03738426746580954, 0.03828753564210954, 0.10060273604906317, 0.22753265287070432, 0.45696951904794614, 0.8997778600484491], \"xaxis\": \"x\", \"y\": [\"Siblings/Spouses Aboard\", \"Parents/Children Aboard\", \"Pclass\", \"Fare\", \"Age\", \"Sex\"], \"yaxis\": \"y\"}],\n",
       "                        {\"barmode\": \"relative\", \"legend\": {\"title\": {\"text\": \"class\"}, \"tracegroupgap\": 0}, \"template\": {\"data\": {\"bar\": [{\"error_x\": {\"color\": \"#2a3f5f\"}, \"error_y\": {\"color\": \"#2a3f5f\"}, \"marker\": {\"line\": {\"color\": \"#E5ECF6\", \"width\": 0.5}}, \"type\": \"bar\"}], \"barpolar\": [{\"marker\": {\"line\": {\"color\": \"#E5ECF6\", \"width\": 0.5}}, \"type\": \"barpolar\"}], \"carpet\": [{\"aaxis\": {\"endlinecolor\": \"#2a3f5f\", \"gridcolor\": \"white\", \"linecolor\": \"white\", \"minorgridcolor\": \"white\", \"startlinecolor\": \"#2a3f5f\"}, \"baxis\": {\"endlinecolor\": \"#2a3f5f\", \"gridcolor\": \"white\", \"linecolor\": \"white\", \"minorgridcolor\": \"white\", \"startlinecolor\": \"#2a3f5f\"}, \"type\": \"carpet\"}], \"choropleth\": [{\"colorbar\": {\"outlinewidth\": 0, \"ticks\": \"\"}, \"type\": \"choropleth\"}], \"contour\": [{\"colorbar\": {\"outlinewidth\": 0, \"ticks\": \"\"}, \"colorscale\": [[0.0, \"#0d0887\"], [0.1111111111111111, \"#46039f\"], [0.2222222222222222, \"#7201a8\"], [0.3333333333333333, \"#9c179e\"], [0.4444444444444444, \"#bd3786\"], [0.5555555555555556, \"#d8576b\"], [0.6666666666666666, \"#ed7953\"], [0.7777777777777778, \"#fb9f3a\"], [0.8888888888888888, \"#fdca26\"], [1.0, \"#f0f921\"]], \"type\": \"contour\"}], \"contourcarpet\": [{\"colorbar\": {\"outlinewidth\": 0, \"ticks\": \"\"}, \"type\": \"contourcarpet\"}], \"heatmap\": [{\"colorbar\": {\"outlinewidth\": 0, \"ticks\": \"\"}, \"colorscale\": [[0.0, \"#0d0887\"], [0.1111111111111111, \"#46039f\"], [0.2222222222222222, \"#7201a8\"], [0.3333333333333333, \"#9c179e\"], [0.4444444444444444, \"#bd3786\"], [0.5555555555555556, \"#d8576b\"], [0.6666666666666666, \"#ed7953\"], [0.7777777777777778, \"#fb9f3a\"], [0.8888888888888888, \"#fdca26\"], [1.0, \"#f0f921\"]], \"type\": \"heatmap\"}], \"heatmapgl\": [{\"colorbar\": {\"outlinewidth\": 0, \"ticks\": \"\"}, \"colorscale\": [[0.0, \"#0d0887\"], [0.1111111111111111, \"#46039f\"], [0.2222222222222222, \"#7201a8\"], [0.3333333333333333, \"#9c179e\"], [0.4444444444444444, \"#bd3786\"], [0.5555555555555556, \"#d8576b\"], [0.6666666666666666, \"#ed7953\"], [0.7777777777777778, \"#fb9f3a\"], [0.8888888888888888, \"#fdca26\"], [1.0, \"#f0f921\"]], \"type\": \"heatmapgl\"}], \"histogram\": [{\"marker\": {\"colorbar\": {\"outlinewidth\": 0, \"ticks\": \"\"}}, \"type\": \"histogram\"}], \"histogram2d\": [{\"colorbar\": {\"outlinewidth\": 0, \"ticks\": \"\"}, \"colorscale\": [[0.0, \"#0d0887\"], [0.1111111111111111, \"#46039f\"], [0.2222222222222222, \"#7201a8\"], [0.3333333333333333, \"#9c179e\"], [0.4444444444444444, \"#bd3786\"], [0.5555555555555556, \"#d8576b\"], [0.6666666666666666, \"#ed7953\"], [0.7777777777777778, \"#fb9f3a\"], [0.8888888888888888, \"#fdca26\"], [1.0, \"#f0f921\"]], \"type\": \"histogram2d\"}], \"histogram2dcontour\": [{\"colorbar\": {\"outlinewidth\": 0, \"ticks\": \"\"}, \"colorscale\": [[0.0, \"#0d0887\"], [0.1111111111111111, \"#46039f\"], [0.2222222222222222, \"#7201a8\"], [0.3333333333333333, \"#9c179e\"], [0.4444444444444444, \"#bd3786\"], [0.5555555555555556, \"#d8576b\"], [0.6666666666666666, \"#ed7953\"], [0.7777777777777778, \"#fb9f3a\"], [0.8888888888888888, \"#fdca26\"], [1.0, \"#f0f921\"]], \"type\": \"histogram2dcontour\"}], \"mesh3d\": [{\"colorbar\": {\"outlinewidth\": 0, \"ticks\": \"\"}, \"type\": \"mesh3d\"}], \"parcoords\": [{\"line\": {\"colorbar\": {\"outlinewidth\": 0, \"ticks\": \"\"}}, \"type\": \"parcoords\"}], \"pie\": [{\"automargin\": true, \"type\": \"pie\"}], \"scatter\": [{\"marker\": {\"colorbar\": {\"outlinewidth\": 0, \"ticks\": \"\"}}, \"type\": \"scatter\"}], \"scatter3d\": [{\"line\": {\"colorbar\": {\"outlinewidth\": 0, \"ticks\": \"\"}}, \"marker\": {\"colorbar\": {\"outlinewidth\": 0, \"ticks\": \"\"}}, \"type\": \"scatter3d\"}], \"scattercarpet\": [{\"marker\": {\"colorbar\": {\"outlinewidth\": 0, \"ticks\": \"\"}}, \"type\": \"scattercarpet\"}], \"scattergeo\": [{\"marker\": {\"colorbar\": {\"outlinewidth\": 0, \"ticks\": \"\"}}, \"type\": \"scattergeo\"}], \"scattergl\": [{\"marker\": {\"colorbar\": {\"outlinewidth\": 0, \"ticks\": \"\"}}, \"type\": \"scattergl\"}], \"scattermapbox\": [{\"marker\": {\"colorbar\": {\"outlinewidth\": 0, \"ticks\": \"\"}}, \"type\": \"scattermapbox\"}], \"scatterpolar\": [{\"marker\": {\"colorbar\": {\"outlinewidth\": 0, \"ticks\": \"\"}}, \"type\": \"scatterpolar\"}], \"scatterpolargl\": [{\"marker\": {\"colorbar\": {\"outlinewidth\": 0, \"ticks\": \"\"}}, \"type\": \"scatterpolargl\"}], \"scatterternary\": [{\"marker\": {\"colorbar\": {\"outlinewidth\": 0, \"ticks\": \"\"}}, \"type\": \"scatterternary\"}], \"surface\": [{\"colorbar\": {\"outlinewidth\": 0, \"ticks\": \"\"}, \"colorscale\": [[0.0, \"#0d0887\"], [0.1111111111111111, \"#46039f\"], [0.2222222222222222, \"#7201a8\"], [0.3333333333333333, \"#9c179e\"], [0.4444444444444444, \"#bd3786\"], [0.5555555555555556, \"#d8576b\"], [0.6666666666666666, \"#ed7953\"], [0.7777777777777778, \"#fb9f3a\"], [0.8888888888888888, \"#fdca26\"], [1.0, \"#f0f921\"]], \"type\": \"surface\"}], \"table\": [{\"cells\": {\"fill\": {\"color\": \"#EBF0F8\"}, \"line\": {\"color\": \"white\"}}, \"header\": {\"fill\": {\"color\": \"#C8D4E3\"}, \"line\": {\"color\": \"white\"}}, \"type\": \"table\"}]}, \"layout\": {\"annotationdefaults\": {\"arrowcolor\": \"#2a3f5f\", \"arrowhead\": 0, \"arrowwidth\": 1}, \"coloraxis\": {\"colorbar\": {\"outlinewidth\": 0, \"ticks\": \"\"}}, \"colorscale\": {\"diverging\": [[0, \"#8e0152\"], [0.1, \"#c51b7d\"], [0.2, \"#de77ae\"], [0.3, \"#f1b6da\"], [0.4, \"#fde0ef\"], [0.5, \"#f7f7f7\"], [0.6, \"#e6f5d0\"], [0.7, \"#b8e186\"], [0.8, \"#7fbc41\"], [0.9, \"#4d9221\"], [1, \"#276419\"]], \"sequential\": [[0.0, \"#0d0887\"], [0.1111111111111111, \"#46039f\"], [0.2222222222222222, \"#7201a8\"], [0.3333333333333333, \"#9c179e\"], [0.4444444444444444, \"#bd3786\"], [0.5555555555555556, \"#d8576b\"], [0.6666666666666666, \"#ed7953\"], [0.7777777777777778, \"#fb9f3a\"], [0.8888888888888888, \"#fdca26\"], [1.0, \"#f0f921\"]], \"sequentialminus\": [[0.0, \"#0d0887\"], [0.1111111111111111, \"#46039f\"], [0.2222222222222222, \"#7201a8\"], [0.3333333333333333, \"#9c179e\"], [0.4444444444444444, \"#bd3786\"], [0.5555555555555556, \"#d8576b\"], [0.6666666666666666, \"#ed7953\"], [0.7777777777777778, \"#fb9f3a\"], [0.8888888888888888, \"#fdca26\"], [1.0, \"#f0f921\"]]}, \"colorway\": [\"#636efa\", \"#EF553B\", \"#00cc96\", \"#ab63fa\", \"#FFA15A\", \"#19d3f3\", \"#FF6692\", \"#B6E880\", \"#FF97FF\", \"#FECB52\"], \"font\": {\"color\": \"#2a3f5f\"}, \"geo\": {\"bgcolor\": \"white\", \"lakecolor\": \"white\", \"landcolor\": \"#E5ECF6\", \"showlakes\": true, \"showland\": true, \"subunitcolor\": \"white\"}, \"hoverlabel\": {\"align\": \"left\"}, \"hovermode\": \"closest\", \"mapbox\": {\"style\": \"light\"}, \"paper_bgcolor\": \"white\", \"plot_bgcolor\": \"#E5ECF6\", \"polar\": {\"angularaxis\": {\"gridcolor\": \"white\", \"linecolor\": \"white\", \"ticks\": \"\"}, \"bgcolor\": \"#E5ECF6\", \"radialaxis\": {\"gridcolor\": \"white\", \"linecolor\": \"white\", \"ticks\": \"\"}}, \"scene\": {\"xaxis\": {\"backgroundcolor\": \"#E5ECF6\", \"gridcolor\": \"white\", \"gridwidth\": 2, \"linecolor\": \"white\", \"showbackground\": true, \"ticks\": \"\", \"zerolinecolor\": \"white\"}, \"yaxis\": {\"backgroundcolor\": \"#E5ECF6\", \"gridcolor\": \"white\", \"gridwidth\": 2, \"linecolor\": \"white\", \"showbackground\": true, \"ticks\": \"\", \"zerolinecolor\": \"white\"}, \"zaxis\": {\"backgroundcolor\": \"#E5ECF6\", \"gridcolor\": \"white\", \"gridwidth\": 2, \"linecolor\": \"white\", \"showbackground\": true, \"ticks\": \"\", \"zerolinecolor\": \"white\"}}, \"shapedefaults\": {\"line\": {\"color\": \"#2a3f5f\"}}, \"ternary\": {\"aaxis\": {\"gridcolor\": \"white\", \"linecolor\": \"white\", \"ticks\": \"\"}, \"baxis\": {\"gridcolor\": \"white\", \"linecolor\": \"white\", \"ticks\": \"\"}, \"bgcolor\": \"#E5ECF6\", \"caxis\": {\"gridcolor\": \"white\", \"linecolor\": \"white\", \"ticks\": \"\"}}, \"title\": {\"x\": 0.05}, \"xaxis\": {\"automargin\": true, \"gridcolor\": \"white\", \"linecolor\": \"white\", \"ticks\": \"\", \"title\": {\"standoff\": 15}, \"zerolinecolor\": \"white\", \"zerolinewidth\": 2}, \"yaxis\": {\"automargin\": true, \"gridcolor\": \"white\", \"linecolor\": \"white\", \"ticks\": \"\", \"title\": {\"standoff\": 15}, \"zerolinecolor\": \"white\", \"zerolinewidth\": 2}}}, \"title\": {\"text\": \"Overall Classification Importance\"}, \"xaxis\": {\"anchor\": \"y\", \"domain\": [0.0, 1.0], \"title\": {\"text\": \"Importance\"}}, \"yaxis\": {\"anchor\": \"x\", \"domain\": [0.0, 1.0], \"title\": {\"text\": \"Feature\"}}},\n",
       "                        {\"responsive\": true}\n",
       "                    ).then(function(){\n",
       "                            \n",
       "var gd = document.getElementById('d1b4f6ed-f9e2-4b09-a241-b92cd4901537');\n",
       "var x = new MutationObserver(function (mutations, observer) {{\n",
       "        var display = window.getComputedStyle(gd).display;\n",
       "        if (!display || display === 'none') {{\n",
       "            console.log([gd, 'removed!']);\n",
       "            Plotly.purge(gd);\n",
       "            observer.disconnect();\n",
       "        }}\n",
       "}});\n",
       "\n",
       "// Listen for the removal of the full notebook cells\n",
       "var notebookContainer = gd.closest('#notebook-container');\n",
       "if (notebookContainer) {{\n",
       "    x.observe(notebookContainer, {childList: true});\n",
       "}}\n",
       "\n",
       "// Listen for the clearing of the current output cell\n",
       "var outputEl = gd.closest('.output');\n",
       "if (outputEl) {{\n",
       "    x.observe(outputEl, {childList: true});\n",
       "}}\n",
       "\n",
       "                        })\n",
       "                };\n",
       "                });\n",
       "            </script>\n",
       "        </div>"
      ]
     },
     "metadata": {},
     "output_type": "display_data"
    }
   ],
   "source": [
    "acme_rf.summary_plot()"
   ]
  },
  {
   "cell_type": "code",
   "execution_count": 84,
   "metadata": {},
   "outputs": [],
   "source": [
    "from data_science.modules.feature_importance import create as createFI"
   ]
  },
  {
   "cell_type": "code",
   "execution_count": 85,
   "metadata": {},
   "outputs": [
    {
     "data": {
      "text/html": [
       "<div>\n",
       "<style scoped>\n",
       "    .dataframe tbody tr th:only-of-type {\n",
       "        vertical-align: middle;\n",
       "    }\n",
       "\n",
       "    .dataframe tbody tr th {\n",
       "        vertical-align: top;\n",
       "    }\n",
       "\n",
       "    .dataframe thead th {\n",
       "        text-align: right;\n",
       "    }\n",
       "</style>\n",
       "<table border=\"1\" class=\"dataframe\">\n",
       "  <thead>\n",
       "    <tr style=\"text-align: right;\">\n",
       "      <th></th>\n",
       "      <th>weight</th>\n",
       "      <th>std</th>\n",
       "      <th>lower</th>\n",
       "      <th>upper</th>\n",
       "    </tr>\n",
       "  </thead>\n",
       "  <tbody>\n",
       "    <tr>\n",
       "      <th>Fare</th>\n",
       "      <td>0.286194</td>\n",
       "      <td>0.050791</td>\n",
       "      <td>0.276239</td>\n",
       "      <td>0.296149</td>\n",
       "    </tr>\n",
       "    <tr>\n",
       "      <th>Age</th>\n",
       "      <td>0.283532</td>\n",
       "      <td>0.030301</td>\n",
       "      <td>0.277593</td>\n",
       "      <td>0.289471</td>\n",
       "    </tr>\n",
       "    <tr>\n",
       "      <th>Sex</th>\n",
       "      <td>0.259788</td>\n",
       "      <td>0.049777</td>\n",
       "      <td>0.250031</td>\n",
       "      <td>0.269544</td>\n",
       "    </tr>\n",
       "    <tr>\n",
       "      <th>Pclass</th>\n",
       "      <td>0.082935</td>\n",
       "      <td>0.034876</td>\n",
       "      <td>0.076099</td>\n",
       "      <td>0.089771</td>\n",
       "    </tr>\n",
       "    <tr>\n",
       "      <th>Siblings/Spouses Aboard</th>\n",
       "      <td>0.052603</td>\n",
       "      <td>0.020342</td>\n",
       "      <td>0.048616</td>\n",
       "      <td>0.056590</td>\n",
       "    </tr>\n",
       "    <tr>\n",
       "      <th>Parents/Children Aboard</th>\n",
       "      <td>0.034948</td>\n",
       "      <td>0.015341</td>\n",
       "      <td>0.031941</td>\n",
       "      <td>0.037955</td>\n",
       "    </tr>\n",
       "  </tbody>\n",
       "</table>\n",
       "</div>"
      ],
      "text/plain": [
       "                           weight       std     lower     upper\n",
       "Fare                     0.286194  0.050791  0.276239  0.296149\n",
       "Age                      0.283532  0.030301  0.277593  0.289471\n",
       "Sex                      0.259788  0.049777  0.250031  0.269544\n",
       "Pclass                   0.082935  0.034876  0.076099  0.089771\n",
       "Siblings/Spouses Aboard  0.052603  0.020342  0.048616  0.056590\n",
       "Parents/Children Aboard  0.034948  0.015341  0.031941  0.037955"
      ]
     },
     "execution_count": 85,
     "metadata": {},
     "output_type": "execute_result"
    }
   ],
   "source": [
    "createFI().random_forest_output(train_model,df.drop(columns='target').columns).dataframe()"
   ]
  },
  {
   "cell_type": "code",
   "execution_count": 86,
   "metadata": {},
   "outputs": [
    {
     "data": {
      "application/vnd.plotly.v1+json": {
       "config": {
        "plotlyServerURL": "https://plot.ly"
       },
       "data": [
        {
         "hovertemplate": "effect=%{x}<br>feature=%{y}<br>quantile=%{marker.color}<extra></extra>",
         "legendgroup": "",
         "marker": {
          "color": [
           0,
           0.3877551020408163,
           0.4081632653061224,
           0.42857142857142855,
           0.44897959183673464,
           0.4693877551020408,
           0.5102040816326531,
           0.36734693877551017,
           0.5306122448979591,
           0.5714285714285714,
           0.5918367346938775,
           0.6122448979591836,
           0.6326530612244897,
           0.6530612244897959,
           0.673469387755102,
           0.5510204081632653,
           0.3469387755102041,
           0.4897959183673469,
           0.3061224489795918,
           0.32653061224489793,
           0.04081632653061224,
           0.061224489795918366,
           0.08163265306122448,
           0.1020408163265306,
           0.12244897959183673,
           0.14285714285714285,
           0.02040816326530612,
           0.18367346938775508,
           0.2040816326530612,
           0.22448979591836732,
           0.24489795918367346,
           0.26530612244897955,
           0.2857142857142857,
           0.16326530612244897,
           0.8979591836734693,
           0.8775510204081632,
           0.8571428571428571,
           0.836734693877551,
           0.8163265306122448,
           0.7755102040816326,
           0.7551020408163265,
           0.7346938775510203,
           0.7142857142857142,
           0.6938775510204082,
           0.7959183673469387,
           0.9183673469387754,
           0.9387755102040816,
           0.9591836734693877,
           0.9795918367346939,
           1,
           0,
           0.42857142857142855,
           0.44897959183673464,
           0.4693877551020408,
           0.5102040816326531,
           0.5306122448979591,
           0.5510204081632653,
           0.5714285714285714,
           0.4081632653061224,
           0.5918367346938775,
           0.6326530612244897,
           0.6530612244897959,
           0.673469387755102,
           0.6938775510204082,
           0.7142857142857142,
           0.7346938775510203,
           0.7551020408163265,
           0.6122448979591836,
           0.3877551020408163,
           0.4897959183673469,
           0.3469387755102041,
           0.02040816326530612,
           0.04081632653061224,
           0.061224489795918366,
           0.36734693877551017,
           0.1020408163265306,
           0.12244897959183673,
           0.14285714285714285,
           0.16326530612244897,
           0.08163265306122448,
           0.2040816326530612,
           0.22448979591836732,
           0.24489795918367346,
           0.26530612244897955,
           0.2857142857142857,
           0.3061224489795918,
           0.32653061224489793,
           0.18367346938775508,
           0.8775510204081632,
           0.8571428571428571,
           0.836734693877551,
           0.7959183673469387,
           0.7755102040816326,
           0.8163265306122448,
           0.9795918367346939,
           0.8979591836734693,
           0.9183673469387754,
           0.9387755102040816,
           0.9591836734693877,
           1,
           0,
           0.22448979591836732,
           0.2040816326530612,
           0.18367346938775508,
           0.14285714285714285,
           0.12244897959183673,
           0.16326530612244897,
           0.08163265306122448,
           0.061224489795918366,
           0.04081632653061224,
           0.02040816326530612,
           0.1020408163265306,
           0.3877551020408163,
           0.44897959183673464,
           0.42857142857142855,
           0.4081632653061224,
           0.36734693877551017,
           0.3469387755102041,
           0.32653061224489793,
           0.3061224489795918,
           0.2857142857142857,
           0.26530612244897955,
           0.24489795918367346,
           0.7755102040816326,
           0.7959183673469387,
           0.8163265306122448,
           0.836734693877551,
           0.8571428571428571,
           0.8979591836734693,
           0.7551020408163265,
           0.9183673469387754,
           0.9387755102040816,
           0.9591836734693877,
           0.8775510204081632,
           0.7346938775510203,
           0.4897959183673469,
           0.6938775510204082,
           0.673469387755102,
           0.6530612244897959,
           0.6326530612244897,
           0.6122448979591836,
           0.5918367346938775,
           0.5714285714285714,
           0.5510204081632653,
           0.5306122448979591,
           0.5102040816326531,
           0.9795918367346939,
           0.4693877551020408,
           0.7142857142857142,
           1,
           0,
           0.02040816326530612,
           0.04081632653061224,
           0.061224489795918366,
           0.08163265306122448,
           0.1020408163265306,
           0.12244897959183673,
           0.14285714285714285,
           0.16326530612244897,
           0.18367346938775508,
           0.2040816326530612,
           0.22448979591836732,
           0.24489795918367346,
           0.26530612244897955,
           0.2857142857142857,
           0.3061224489795918,
           0.32653061224489793,
           0.3469387755102041,
           0.36734693877551017,
           0.3877551020408163,
           0.4081632653061224,
           0.42857142857142855,
           0.44897959183673464,
           0.4693877551020408,
           0.4897959183673469,
           0.5102040816326531,
           0.5306122448979591,
           0.5510204081632653,
           0.5714285714285714,
           0.5918367346938775,
           0.6122448979591836,
           0.6326530612244897,
           0.6530612244897959,
           0.673469387755102,
           0.6938775510204082,
           0.7142857142857142,
           0.7346938775510203,
           0.7551020408163265,
           0.7755102040816326,
           0.7959183673469387,
           0.8163265306122448,
           0.836734693877551,
           0.8571428571428571,
           0.8775510204081632,
           0.8979591836734693,
           0.9183673469387754,
           0.9387755102040816,
           0.9591836734693877,
           0.9795918367346939,
           1,
           0,
           0.02040816326530612,
           0.04081632653061224,
           0.061224489795918366,
           0.08163265306122448,
           0.1020408163265306,
           0.12244897959183673,
           0.14285714285714285,
           0.16326530612244897,
           0.18367346938775508,
           0.2040816326530612,
           0.22448979591836732,
           0.24489795918367346,
           0.26530612244897955,
           0.2857142857142857,
           0.3061224489795918,
           0.32653061224489793,
           0.3469387755102041,
           0.36734693877551017,
           0.3877551020408163,
           0.4081632653061224,
           0.42857142857142855,
           0.44897959183673464,
           0.4693877551020408,
           0.5102040816326531,
           0.4897959183673469,
           0.5306122448979591,
           0.5510204081632653,
           0.5714285714285714,
           0.5918367346938775,
           0.6122448979591836,
           0.6326530612244897,
           0.6530612244897959,
           0.673469387755102,
           0.6938775510204082,
           0.7142857142857142,
           0.7346938775510203,
           0.7551020408163265,
           0.7755102040816326,
           0.7959183673469387,
           0.8163265306122448,
           0.836734693877551,
           0.8571428571428571,
           0.8775510204081632,
           0.8979591836734693,
           0.9183673469387754,
           0.9387755102040816,
           0.9591836734693877,
           0.9795918367346939,
           1,
           0,
           1
          ],
          "coloraxis": "coloraxis",
          "symbol": "circle"
         },
         "mode": "markers",
         "name": "",
         "orientation": "h",
         "showlegend": false,
         "type": "scatter",
         "x": [
          -0.008809488905824862,
          -0.008809488905824862,
          -0.008809488905824862,
          -0.008809488905824862,
          -0.008809488905824862,
          -0.008809488905824862,
          -0.008809488905824862,
          -0.008809488905824862,
          -0.008809488905824862,
          -0.008809488905824862,
          -0.008809488905824862,
          -0.008809488905824862,
          -0.008809488905824862,
          -0.008809488905824862,
          -0.008809488905824862,
          -0.008809488905824862,
          -0.008809488905824862,
          -0.008809488905824862,
          -0.008809488905824862,
          -0.008809488905824862,
          -0.008809488905824862,
          -0.008809488905824862,
          -0.008809488905824862,
          -0.008809488905824862,
          -0.008809488905824862,
          -0.008809488905824862,
          -0.008809488905824862,
          -0.008809488905824862,
          -0.008809488905824862,
          -0.008809488905824862,
          -0.008809488905824862,
          -0.008809488905824862,
          -0.008809488905824862,
          -0.008809488905824862,
          -0.048852620295937836,
          -0.048852620295937836,
          -0.048852620295937836,
          -0.048852620295937836,
          -0.048852620295937836,
          -0.048852620295937836,
          -0.048852620295937836,
          -0.048852620295937836,
          -0.048852620295937836,
          -0.048852620295937836,
          -0.048852620295937836,
          -0.048852620295937836,
          -0.048852620295937836,
          0.31153556221507916,
          0.31153556221507916,
          0.31153556221507916,
          0.016163974298247438,
          0.016163974298247438,
          0.016163974298247438,
          0.016163974298247438,
          0.016163974298247438,
          0.016163974298247438,
          0.016163974298247438,
          0.016163974298247438,
          0.016163974298247438,
          0.016163974298247438,
          0.016163974298247438,
          0.016163974298247438,
          0.016163974298247438,
          0.016163974298247438,
          0.016163974298247438,
          0.016163974298247438,
          0.016163974298247438,
          0.016163974298247438,
          0.016163974298247438,
          0.016163974298247438,
          0.016163974298247438,
          0.016163974298247438,
          0.016163974298247438,
          0.016163974298247438,
          0.016163974298247438,
          0.016163974298247438,
          0.016163974298247438,
          0.016163974298247438,
          0.016163974298247438,
          0.016163974298247438,
          0.016163974298247438,
          0.016163974298247438,
          0.016163974298247438,
          0.016163974298247438,
          0.016163974298247438,
          0.016163974298247438,
          0.016163974298247438,
          0.016163974298247438,
          -0.15953139850878995,
          -0.15953139850878995,
          -0.15953139850878995,
          -0.15953139850878995,
          -0.15953139850878995,
          -0.15953139850878995,
          0.05130304885965489,
          0.05130304885965489,
          0.05130304885965489,
          0.05130304885965489,
          0.05130304885965489,
          0.08644212342106235,
          0.20958903343554833,
          0.20958903343554833,
          0.20958903343554833,
          0.20958903343554833,
          0.20958903343554833,
          0.20958903343554833,
          0.20958903343554833,
          0.20958903343554833,
          0.20958903343554833,
          0.20958903343554833,
          0.20958903343554833,
          0.20958903343554833,
          -0.06618601055859419,
          -0.06618601055859419,
          -0.06618601055859419,
          -0.06618601055859419,
          -0.06618601055859419,
          -0.06618601055859419,
          -0.06618601055859419,
          -0.06618601055859419,
          -0.06618601055859419,
          -0.06618601055859419,
          -0.06618601055859419,
          -0.06618601055859419,
          -0.06618601055859419,
          -0.06618601055859419,
          -0.06618601055859419,
          -0.06618601055859419,
          -0.06618601055859419,
          -0.06618601055859419,
          -0.06618601055859419,
          -0.06618601055859419,
          -0.06618601055859419,
          -0.06618601055859419,
          -0.06618601055859419,
          -0.06618601055859419,
          -0.06618601055859419,
          -0.06618601055859419,
          -0.06618601055859419,
          -0.06618601055859419,
          -0.06618601055859419,
          -0.06618601055859419,
          -0.06618601055859419,
          -0.06618601055859419,
          -0.06618601055859419,
          -0.06618601055859419,
          -0.06618601055859419,
          -0.06618601055859419,
          -0.06618601055859419,
          -0.06618601055859419,
          -0.37760316550819584,
          -0.37760316550819584,
          -0.37760316550819584,
          -0.35142318800585715,
          -0.2925182386255951,
          -0.09616840735805511,
          -0.05689844110454711,
          -0.05689844110454711,
          0.1171984092860051,
          -0.14198336798714775,
          -0.1747083398650711,
          0.00200650827571491,
          0.00200650827571491,
          0.2642737828973578,
          0.07400144640714634,
          0.07400144640714634,
          0.19181134516767037,
          0.1132714126606543,
          0.30962124392819446,
          -0.004538486099869693,
          0.05436646328039233,
          -0.10271340173363976,
          -0.2205233004941638,
          -0.2205233004941638,
          -0.06344343548013172,
          -0.10271340173363976,
          -0.18125333424065573,
          -0.2205233004941638,
          -0.2205233004941638,
          -0.37760316550819584,
          -0.2205233004941638,
          0.40779615956196447,
          0.40779615956196447,
          0.4863360920689805,
          0.21144632829442442,
          -0.2990632330011798,
          -0.2205233004941638,
          -0.18125333424065573,
          -0.10271340173363976,
          -0.2205233004941638,
          -0.14198336798714775,
          0.2899862608014404,
          0.3292562270549485,
          -0.18125333424065573,
          0.05436646328039233,
          -0.10271340173363976,
          0.5256060583224885,
          0.5256060583224885,
          0.5256060583224885,
          0.7219558895900285,
          2.518729632547735,
          2.398254682011332,
          2.237621414629461,
          1.9163548798657197,
          1.3541384440291715,
          0.26986388920154303,
          -0.051402645562198646,
          -0.051402645562198646,
          -0.25219422978953726,
          -0.25219422978953726,
          -0.29235254663500493,
          -0.29235254663500493,
          -0.29235254663500493,
          -0.3325108634804727,
          -0.3325108634804727,
          -0.29235254663500493,
          -0.29235254663500493,
          -0.25219422978953726,
          -0.29235254663500493,
          -0.29235254663500493,
          -0.25219422978953726,
          -0.25219422978953726,
          -0.17187759609860181,
          -0.051402645562198646,
          -0.3325108634804727,
          -0.3325108634804727,
          -0.29235254663500493,
          -0.29235254663500493,
          -0.29235254663500493,
          -0.25219422978953726,
          0.06907230497420451,
          0.6312887408107526,
          0.028913988128736752,
          -0.3325108634804727,
          -0.3325108634804727,
          -0.3325108634804727,
          -0.29235254663500493,
          -0.29235254663500493,
          -0.29235254663500493,
          -0.29235254663500493,
          -0.29235254663500493,
          -0.3726691803259404,
          -0.29235254663500493,
          -0.25219422978953726,
          -0.09156096240766641,
          -0.29235254663500493,
          -0.4128274971714081,
          -0.4128274971714081,
          -0.4128274971714081,
          -0.3325108634804727,
          0.899777860048449,
          -0.899777860048449
         ],
         "xaxis": "x",
         "y": [
          "Siblings/Spouses Aboard",
          "Siblings/Spouses Aboard",
          "Siblings/Spouses Aboard",
          "Siblings/Spouses Aboard",
          "Siblings/Spouses Aboard",
          "Siblings/Spouses Aboard",
          "Siblings/Spouses Aboard",
          "Siblings/Spouses Aboard",
          "Siblings/Spouses Aboard",
          "Siblings/Spouses Aboard",
          "Siblings/Spouses Aboard",
          "Siblings/Spouses Aboard",
          "Siblings/Spouses Aboard",
          "Siblings/Spouses Aboard",
          "Siblings/Spouses Aboard",
          "Siblings/Spouses Aboard",
          "Siblings/Spouses Aboard",
          "Siblings/Spouses Aboard",
          "Siblings/Spouses Aboard",
          "Siblings/Spouses Aboard",
          "Siblings/Spouses Aboard",
          "Siblings/Spouses Aboard",
          "Siblings/Spouses Aboard",
          "Siblings/Spouses Aboard",
          "Siblings/Spouses Aboard",
          "Siblings/Spouses Aboard",
          "Siblings/Spouses Aboard",
          "Siblings/Spouses Aboard",
          "Siblings/Spouses Aboard",
          "Siblings/Spouses Aboard",
          "Siblings/Spouses Aboard",
          "Siblings/Spouses Aboard",
          "Siblings/Spouses Aboard",
          "Siblings/Spouses Aboard",
          "Siblings/Spouses Aboard",
          "Siblings/Spouses Aboard",
          "Siblings/Spouses Aboard",
          "Siblings/Spouses Aboard",
          "Siblings/Spouses Aboard",
          "Siblings/Spouses Aboard",
          "Siblings/Spouses Aboard",
          "Siblings/Spouses Aboard",
          "Siblings/Spouses Aboard",
          "Siblings/Spouses Aboard",
          "Siblings/Spouses Aboard",
          "Siblings/Spouses Aboard",
          "Siblings/Spouses Aboard",
          "Siblings/Spouses Aboard",
          "Siblings/Spouses Aboard",
          "Siblings/Spouses Aboard",
          "Parents/Children Aboard",
          "Parents/Children Aboard",
          "Parents/Children Aboard",
          "Parents/Children Aboard",
          "Parents/Children Aboard",
          "Parents/Children Aboard",
          "Parents/Children Aboard",
          "Parents/Children Aboard",
          "Parents/Children Aboard",
          "Parents/Children Aboard",
          "Parents/Children Aboard",
          "Parents/Children Aboard",
          "Parents/Children Aboard",
          "Parents/Children Aboard",
          "Parents/Children Aboard",
          "Parents/Children Aboard",
          "Parents/Children Aboard",
          "Parents/Children Aboard",
          "Parents/Children Aboard",
          "Parents/Children Aboard",
          "Parents/Children Aboard",
          "Parents/Children Aboard",
          "Parents/Children Aboard",
          "Parents/Children Aboard",
          "Parents/Children Aboard",
          "Parents/Children Aboard",
          "Parents/Children Aboard",
          "Parents/Children Aboard",
          "Parents/Children Aboard",
          "Parents/Children Aboard",
          "Parents/Children Aboard",
          "Parents/Children Aboard",
          "Parents/Children Aboard",
          "Parents/Children Aboard",
          "Parents/Children Aboard",
          "Parents/Children Aboard",
          "Parents/Children Aboard",
          "Parents/Children Aboard",
          "Parents/Children Aboard",
          "Parents/Children Aboard",
          "Parents/Children Aboard",
          "Parents/Children Aboard",
          "Parents/Children Aboard",
          "Parents/Children Aboard",
          "Parents/Children Aboard",
          "Parents/Children Aboard",
          "Parents/Children Aboard",
          "Parents/Children Aboard",
          "Parents/Children Aboard",
          "Parents/Children Aboard",
          "Pclass",
          "Pclass",
          "Pclass",
          "Pclass",
          "Pclass",
          "Pclass",
          "Pclass",
          "Pclass",
          "Pclass",
          "Pclass",
          "Pclass",
          "Pclass",
          "Pclass",
          "Pclass",
          "Pclass",
          "Pclass",
          "Pclass",
          "Pclass",
          "Pclass",
          "Pclass",
          "Pclass",
          "Pclass",
          "Pclass",
          "Pclass",
          "Pclass",
          "Pclass",
          "Pclass",
          "Pclass",
          "Pclass",
          "Pclass",
          "Pclass",
          "Pclass",
          "Pclass",
          "Pclass",
          "Pclass",
          "Pclass",
          "Pclass",
          "Pclass",
          "Pclass",
          "Pclass",
          "Pclass",
          "Pclass",
          "Pclass",
          "Pclass",
          "Pclass",
          "Pclass",
          "Pclass",
          "Pclass",
          "Pclass",
          "Pclass",
          "Fare",
          "Fare",
          "Fare",
          "Fare",
          "Fare",
          "Fare",
          "Fare",
          "Fare",
          "Fare",
          "Fare",
          "Fare",
          "Fare",
          "Fare",
          "Fare",
          "Fare",
          "Fare",
          "Fare",
          "Fare",
          "Fare",
          "Fare",
          "Fare",
          "Fare",
          "Fare",
          "Fare",
          "Fare",
          "Fare",
          "Fare",
          "Fare",
          "Fare",
          "Fare",
          "Fare",
          "Fare",
          "Fare",
          "Fare",
          "Fare",
          "Fare",
          "Fare",
          "Fare",
          "Fare",
          "Fare",
          "Fare",
          "Fare",
          "Fare",
          "Fare",
          "Fare",
          "Fare",
          "Fare",
          "Fare",
          "Fare",
          "Fare",
          "Age",
          "Age",
          "Age",
          "Age",
          "Age",
          "Age",
          "Age",
          "Age",
          "Age",
          "Age",
          "Age",
          "Age",
          "Age",
          "Age",
          "Age",
          "Age",
          "Age",
          "Age",
          "Age",
          "Age",
          "Age",
          "Age",
          "Age",
          "Age",
          "Age",
          "Age",
          "Age",
          "Age",
          "Age",
          "Age",
          "Age",
          "Age",
          "Age",
          "Age",
          "Age",
          "Age",
          "Age",
          "Age",
          "Age",
          "Age",
          "Age",
          "Age",
          "Age",
          "Age",
          "Age",
          "Age",
          "Age",
          "Age",
          "Age",
          "Age",
          "Sex",
          "Sex"
         ],
         "yaxis": "y"
        }
       ],
       "layout": {
        "coloraxis": {
         "colorbar": {
          "title": {
           "text": "quantile"
          }
         },
         "colorscale": [
          [
           0,
           "royalblue"
          ],
          [
           1,
           "red"
          ]
         ]
        },
        "legend": {
         "tracegroupgap": 0
        },
        "margin": {
         "t": 60
        },
        "shapes": [
         {
          "line": {
           "color": "black",
           "dash": "dash",
           "width": 2
          },
          "type": "line",
          "x0": 0,
          "x1": 0,
          "y0": "Siblings/Spouses Aboard",
          "y1": "Sex"
         }
        ],
        "template": {
         "data": {
          "bar": [
           {
            "error_x": {
             "color": "#2a3f5f"
            },
            "error_y": {
             "color": "#2a3f5f"
            },
            "marker": {
             "line": {
              "color": "#E5ECF6",
              "width": 0.5
             }
            },
            "type": "bar"
           }
          ],
          "barpolar": [
           {
            "marker": {
             "line": {
              "color": "#E5ECF6",
              "width": 0.5
             }
            },
            "type": "barpolar"
           }
          ],
          "carpet": [
           {
            "aaxis": {
             "endlinecolor": "#2a3f5f",
             "gridcolor": "white",
             "linecolor": "white",
             "minorgridcolor": "white",
             "startlinecolor": "#2a3f5f"
            },
            "baxis": {
             "endlinecolor": "#2a3f5f",
             "gridcolor": "white",
             "linecolor": "white",
             "minorgridcolor": "white",
             "startlinecolor": "#2a3f5f"
            },
            "type": "carpet"
           }
          ],
          "choropleth": [
           {
            "colorbar": {
             "outlinewidth": 0,
             "ticks": ""
            },
            "type": "choropleth"
           }
          ],
          "contour": [
           {
            "colorbar": {
             "outlinewidth": 0,
             "ticks": ""
            },
            "colorscale": [
             [
              0,
              "#0d0887"
             ],
             [
              0.1111111111111111,
              "#46039f"
             ],
             [
              0.2222222222222222,
              "#7201a8"
             ],
             [
              0.3333333333333333,
              "#9c179e"
             ],
             [
              0.4444444444444444,
              "#bd3786"
             ],
             [
              0.5555555555555556,
              "#d8576b"
             ],
             [
              0.6666666666666666,
              "#ed7953"
             ],
             [
              0.7777777777777778,
              "#fb9f3a"
             ],
             [
              0.8888888888888888,
              "#fdca26"
             ],
             [
              1,
              "#f0f921"
             ]
            ],
            "type": "contour"
           }
          ],
          "contourcarpet": [
           {
            "colorbar": {
             "outlinewidth": 0,
             "ticks": ""
            },
            "type": "contourcarpet"
           }
          ],
          "heatmap": [
           {
            "colorbar": {
             "outlinewidth": 0,
             "ticks": ""
            },
            "colorscale": [
             [
              0,
              "#0d0887"
             ],
             [
              0.1111111111111111,
              "#46039f"
             ],
             [
              0.2222222222222222,
              "#7201a8"
             ],
             [
              0.3333333333333333,
              "#9c179e"
             ],
             [
              0.4444444444444444,
              "#bd3786"
             ],
             [
              0.5555555555555556,
              "#d8576b"
             ],
             [
              0.6666666666666666,
              "#ed7953"
             ],
             [
              0.7777777777777778,
              "#fb9f3a"
             ],
             [
              0.8888888888888888,
              "#fdca26"
             ],
             [
              1,
              "#f0f921"
             ]
            ],
            "type": "heatmap"
           }
          ],
          "heatmapgl": [
           {
            "colorbar": {
             "outlinewidth": 0,
             "ticks": ""
            },
            "colorscale": [
             [
              0,
              "#0d0887"
             ],
             [
              0.1111111111111111,
              "#46039f"
             ],
             [
              0.2222222222222222,
              "#7201a8"
             ],
             [
              0.3333333333333333,
              "#9c179e"
             ],
             [
              0.4444444444444444,
              "#bd3786"
             ],
             [
              0.5555555555555556,
              "#d8576b"
             ],
             [
              0.6666666666666666,
              "#ed7953"
             ],
             [
              0.7777777777777778,
              "#fb9f3a"
             ],
             [
              0.8888888888888888,
              "#fdca26"
             ],
             [
              1,
              "#f0f921"
             ]
            ],
            "type": "heatmapgl"
           }
          ],
          "histogram": [
           {
            "marker": {
             "colorbar": {
              "outlinewidth": 0,
              "ticks": ""
             }
            },
            "type": "histogram"
           }
          ],
          "histogram2d": [
           {
            "colorbar": {
             "outlinewidth": 0,
             "ticks": ""
            },
            "colorscale": [
             [
              0,
              "#0d0887"
             ],
             [
              0.1111111111111111,
              "#46039f"
             ],
             [
              0.2222222222222222,
              "#7201a8"
             ],
             [
              0.3333333333333333,
              "#9c179e"
             ],
             [
              0.4444444444444444,
              "#bd3786"
             ],
             [
              0.5555555555555556,
              "#d8576b"
             ],
             [
              0.6666666666666666,
              "#ed7953"
             ],
             [
              0.7777777777777778,
              "#fb9f3a"
             ],
             [
              0.8888888888888888,
              "#fdca26"
             ],
             [
              1,
              "#f0f921"
             ]
            ],
            "type": "histogram2d"
           }
          ],
          "histogram2dcontour": [
           {
            "colorbar": {
             "outlinewidth": 0,
             "ticks": ""
            },
            "colorscale": [
             [
              0,
              "#0d0887"
             ],
             [
              0.1111111111111111,
              "#46039f"
             ],
             [
              0.2222222222222222,
              "#7201a8"
             ],
             [
              0.3333333333333333,
              "#9c179e"
             ],
             [
              0.4444444444444444,
              "#bd3786"
             ],
             [
              0.5555555555555556,
              "#d8576b"
             ],
             [
              0.6666666666666666,
              "#ed7953"
             ],
             [
              0.7777777777777778,
              "#fb9f3a"
             ],
             [
              0.8888888888888888,
              "#fdca26"
             ],
             [
              1,
              "#f0f921"
             ]
            ],
            "type": "histogram2dcontour"
           }
          ],
          "mesh3d": [
           {
            "colorbar": {
             "outlinewidth": 0,
             "ticks": ""
            },
            "type": "mesh3d"
           }
          ],
          "parcoords": [
           {
            "line": {
             "colorbar": {
              "outlinewidth": 0,
              "ticks": ""
             }
            },
            "type": "parcoords"
           }
          ],
          "pie": [
           {
            "automargin": true,
            "type": "pie"
           }
          ],
          "scatter": [
           {
            "marker": {
             "colorbar": {
              "outlinewidth": 0,
              "ticks": ""
             }
            },
            "type": "scatter"
           }
          ],
          "scatter3d": [
           {
            "line": {
             "colorbar": {
              "outlinewidth": 0,
              "ticks": ""
             }
            },
            "marker": {
             "colorbar": {
              "outlinewidth": 0,
              "ticks": ""
             }
            },
            "type": "scatter3d"
           }
          ],
          "scattercarpet": [
           {
            "marker": {
             "colorbar": {
              "outlinewidth": 0,
              "ticks": ""
             }
            },
            "type": "scattercarpet"
           }
          ],
          "scattergeo": [
           {
            "marker": {
             "colorbar": {
              "outlinewidth": 0,
              "ticks": ""
             }
            },
            "type": "scattergeo"
           }
          ],
          "scattergl": [
           {
            "marker": {
             "colorbar": {
              "outlinewidth": 0,
              "ticks": ""
             }
            },
            "type": "scattergl"
           }
          ],
          "scattermapbox": [
           {
            "marker": {
             "colorbar": {
              "outlinewidth": 0,
              "ticks": ""
             }
            },
            "type": "scattermapbox"
           }
          ],
          "scatterpolar": [
           {
            "marker": {
             "colorbar": {
              "outlinewidth": 0,
              "ticks": ""
             }
            },
            "type": "scatterpolar"
           }
          ],
          "scatterpolargl": [
           {
            "marker": {
             "colorbar": {
              "outlinewidth": 0,
              "ticks": ""
             }
            },
            "type": "scatterpolargl"
           }
          ],
          "scatterternary": [
           {
            "marker": {
             "colorbar": {
              "outlinewidth": 0,
              "ticks": ""
             }
            },
            "type": "scatterternary"
           }
          ],
          "surface": [
           {
            "colorbar": {
             "outlinewidth": 0,
             "ticks": ""
            },
            "colorscale": [
             [
              0,
              "#0d0887"
             ],
             [
              0.1111111111111111,
              "#46039f"
             ],
             [
              0.2222222222222222,
              "#7201a8"
             ],
             [
              0.3333333333333333,
              "#9c179e"
             ],
             [
              0.4444444444444444,
              "#bd3786"
             ],
             [
              0.5555555555555556,
              "#d8576b"
             ],
             [
              0.6666666666666666,
              "#ed7953"
             ],
             [
              0.7777777777777778,
              "#fb9f3a"
             ],
             [
              0.8888888888888888,
              "#fdca26"
             ],
             [
              1,
              "#f0f921"
             ]
            ],
            "type": "surface"
           }
          ],
          "table": [
           {
            "cells": {
             "fill": {
              "color": "#EBF0F8"
             },
             "line": {
              "color": "white"
             }
            },
            "header": {
             "fill": {
              "color": "#C8D4E3"
             },
             "line": {
              "color": "white"
             }
            },
            "type": "table"
           }
          ]
         },
         "layout": {
          "annotationdefaults": {
           "arrowcolor": "#2a3f5f",
           "arrowhead": 0,
           "arrowwidth": 1
          },
          "coloraxis": {
           "colorbar": {
            "outlinewidth": 0,
            "ticks": ""
           }
          },
          "colorscale": {
           "diverging": [
            [
             0,
             "#8e0152"
            ],
            [
             0.1,
             "#c51b7d"
            ],
            [
             0.2,
             "#de77ae"
            ],
            [
             0.3,
             "#f1b6da"
            ],
            [
             0.4,
             "#fde0ef"
            ],
            [
             0.5,
             "#f7f7f7"
            ],
            [
             0.6,
             "#e6f5d0"
            ],
            [
             0.7,
             "#b8e186"
            ],
            [
             0.8,
             "#7fbc41"
            ],
            [
             0.9,
             "#4d9221"
            ],
            [
             1,
             "#276419"
            ]
           ],
           "sequential": [
            [
             0,
             "#0d0887"
            ],
            [
             0.1111111111111111,
             "#46039f"
            ],
            [
             0.2222222222222222,
             "#7201a8"
            ],
            [
             0.3333333333333333,
             "#9c179e"
            ],
            [
             0.4444444444444444,
             "#bd3786"
            ],
            [
             0.5555555555555556,
             "#d8576b"
            ],
            [
             0.6666666666666666,
             "#ed7953"
            ],
            [
             0.7777777777777778,
             "#fb9f3a"
            ],
            [
             0.8888888888888888,
             "#fdca26"
            ],
            [
             1,
             "#f0f921"
            ]
           ],
           "sequentialminus": [
            [
             0,
             "#0d0887"
            ],
            [
             0.1111111111111111,
             "#46039f"
            ],
            [
             0.2222222222222222,
             "#7201a8"
            ],
            [
             0.3333333333333333,
             "#9c179e"
            ],
            [
             0.4444444444444444,
             "#bd3786"
            ],
            [
             0.5555555555555556,
             "#d8576b"
            ],
            [
             0.6666666666666666,
             "#ed7953"
            ],
            [
             0.7777777777777778,
             "#fb9f3a"
            ],
            [
             0.8888888888888888,
             "#fdca26"
            ],
            [
             1,
             "#f0f921"
            ]
           ]
          },
          "colorway": [
           "#636efa",
           "#EF553B",
           "#00cc96",
           "#ab63fa",
           "#FFA15A",
           "#19d3f3",
           "#FF6692",
           "#B6E880",
           "#FF97FF",
           "#FECB52"
          ],
          "font": {
           "color": "#2a3f5f"
          },
          "geo": {
           "bgcolor": "white",
           "lakecolor": "white",
           "landcolor": "#E5ECF6",
           "showlakes": true,
           "showland": true,
           "subunitcolor": "white"
          },
          "hoverlabel": {
           "align": "left"
          },
          "hovermode": "closest",
          "mapbox": {
           "style": "light"
          },
          "paper_bgcolor": "white",
          "plot_bgcolor": "#E5ECF6",
          "polar": {
           "angularaxis": {
            "gridcolor": "white",
            "linecolor": "white",
            "ticks": ""
           },
           "bgcolor": "#E5ECF6",
           "radialaxis": {
            "gridcolor": "white",
            "linecolor": "white",
            "ticks": ""
           }
          },
          "scene": {
           "xaxis": {
            "backgroundcolor": "#E5ECF6",
            "gridcolor": "white",
            "gridwidth": 2,
            "linecolor": "white",
            "showbackground": true,
            "ticks": "",
            "zerolinecolor": "white"
           },
           "yaxis": {
            "backgroundcolor": "#E5ECF6",
            "gridcolor": "white",
            "gridwidth": 2,
            "linecolor": "white",
            "showbackground": true,
            "ticks": "",
            "zerolinecolor": "white"
           },
           "zaxis": {
            "backgroundcolor": "#E5ECF6",
            "gridcolor": "white",
            "gridwidth": 2,
            "linecolor": "white",
            "showbackground": true,
            "ticks": "",
            "zerolinecolor": "white"
           }
          },
          "shapedefaults": {
           "line": {
            "color": "#2a3f5f"
           }
          },
          "ternary": {
           "aaxis": {
            "gridcolor": "white",
            "linecolor": "white",
            "ticks": ""
           },
           "baxis": {
            "gridcolor": "white",
            "linecolor": "white",
            "ticks": ""
           },
           "bgcolor": "#E5ECF6",
           "caxis": {
            "gridcolor": "white",
            "linecolor": "white",
            "ticks": ""
           }
          },
          "title": {
           "x": 0.05
          },
          "xaxis": {
           "automargin": true,
           "gridcolor": "white",
           "linecolor": "white",
           "ticks": "",
           "title": {
            "standoff": 15
           },
           "zerolinecolor": "white",
           "zerolinewidth": 2
          },
          "yaxis": {
           "automargin": true,
           "gridcolor": "white",
           "linecolor": "white",
           "ticks": "",
           "title": {
            "standoff": 15
           },
           "zerolinecolor": "white",
           "zerolinewidth": 2
          }
         }
        },
        "xaxis": {
         "anchor": "y",
         "domain": [
          0,
          1
         ],
         "title": {
          "text": "effect"
         }
        },
        "yaxis": {
         "anchor": "x",
         "domain": [
          0,
          1
         ],
         "title": {
          "text": "feature"
         }
        }
       }
      },
      "text/html": [
       "<div>\n",
       "        \n",
       "        \n",
       "            <div id=\"a8cc8426-3109-477c-bc6a-1d08c1754009\" class=\"plotly-graph-div\" style=\"height:525px; width:100%;\"></div>\n",
       "            <script type=\"text/javascript\">\n",
       "                require([\"plotly\"], function(Plotly) {\n",
       "                    window.PLOTLYENV=window.PLOTLYENV || {};\n",
       "                    \n",
       "                if (document.getElementById(\"a8cc8426-3109-477c-bc6a-1d08c1754009\")) {\n",
       "                    Plotly.newPlot(\n",
       "                        'a8cc8426-3109-477c-bc6a-1d08c1754009',\n",
       "                        [{\"hovertemplate\": \"effect=%{x}<br>feature=%{y}<br>quantile=%{marker.color}<extra></extra>\", \"legendgroup\": \"\", \"marker\": {\"color\": [0.0, 0.3877551020408163, 0.4081632653061224, 0.42857142857142855, 0.44897959183673464, 0.4693877551020408, 0.5102040816326531, 0.36734693877551017, 0.5306122448979591, 0.5714285714285714, 0.5918367346938775, 0.6122448979591836, 0.6326530612244897, 0.6530612244897959, 0.673469387755102, 0.5510204081632653, 0.3469387755102041, 0.4897959183673469, 0.3061224489795918, 0.32653061224489793, 0.04081632653061224, 0.061224489795918366, 0.08163265306122448, 0.1020408163265306, 0.12244897959183673, 0.14285714285714285, 0.02040816326530612, 0.18367346938775508, 0.2040816326530612, 0.22448979591836732, 0.24489795918367346, 0.26530612244897955, 0.2857142857142857, 0.16326530612244897, 0.8979591836734693, 0.8775510204081632, 0.8571428571428571, 0.836734693877551, 0.8163265306122448, 0.7755102040816326, 0.7551020408163265, 0.7346938775510203, 0.7142857142857142, 0.6938775510204082, 0.7959183673469387, 0.9183673469387754, 0.9387755102040816, 0.9591836734693877, 0.9795918367346939, 1.0, 0.0, 0.42857142857142855, 0.44897959183673464, 0.4693877551020408, 0.5102040816326531, 0.5306122448979591, 0.5510204081632653, 0.5714285714285714, 0.4081632653061224, 0.5918367346938775, 0.6326530612244897, 0.6530612244897959, 0.673469387755102, 0.6938775510204082, 0.7142857142857142, 0.7346938775510203, 0.7551020408163265, 0.6122448979591836, 0.3877551020408163, 0.4897959183673469, 0.3469387755102041, 0.02040816326530612, 0.04081632653061224, 0.061224489795918366, 0.36734693877551017, 0.1020408163265306, 0.12244897959183673, 0.14285714285714285, 0.16326530612244897, 0.08163265306122448, 0.2040816326530612, 0.22448979591836732, 0.24489795918367346, 0.26530612244897955, 0.2857142857142857, 0.3061224489795918, 0.32653061224489793, 0.18367346938775508, 0.8775510204081632, 0.8571428571428571, 0.836734693877551, 0.7959183673469387, 0.7755102040816326, 0.8163265306122448, 0.9795918367346939, 0.8979591836734693, 0.9183673469387754, 0.9387755102040816, 0.9591836734693877, 1.0, 0.0, 0.22448979591836732, 0.2040816326530612, 0.18367346938775508, 0.14285714285714285, 0.12244897959183673, 0.16326530612244897, 0.08163265306122448, 0.061224489795918366, 0.04081632653061224, 0.02040816326530612, 0.1020408163265306, 0.3877551020408163, 0.44897959183673464, 0.42857142857142855, 0.4081632653061224, 0.36734693877551017, 0.3469387755102041, 0.32653061224489793, 0.3061224489795918, 0.2857142857142857, 0.26530612244897955, 0.24489795918367346, 0.7755102040816326, 0.7959183673469387, 0.8163265306122448, 0.836734693877551, 0.8571428571428571, 0.8979591836734693, 0.7551020408163265, 0.9183673469387754, 0.9387755102040816, 0.9591836734693877, 0.8775510204081632, 0.7346938775510203, 0.4897959183673469, 0.6938775510204082, 0.673469387755102, 0.6530612244897959, 0.6326530612244897, 0.6122448979591836, 0.5918367346938775, 0.5714285714285714, 0.5510204081632653, 0.5306122448979591, 0.5102040816326531, 0.9795918367346939, 0.4693877551020408, 0.7142857142857142, 1.0, 0.0, 0.02040816326530612, 0.04081632653061224, 0.061224489795918366, 0.08163265306122448, 0.1020408163265306, 0.12244897959183673, 0.14285714285714285, 0.16326530612244897, 0.18367346938775508, 0.2040816326530612, 0.22448979591836732, 0.24489795918367346, 0.26530612244897955, 0.2857142857142857, 0.3061224489795918, 0.32653061224489793, 0.3469387755102041, 0.36734693877551017, 0.3877551020408163, 0.4081632653061224, 0.42857142857142855, 0.44897959183673464, 0.4693877551020408, 0.4897959183673469, 0.5102040816326531, 0.5306122448979591, 0.5510204081632653, 0.5714285714285714, 0.5918367346938775, 0.6122448979591836, 0.6326530612244897, 0.6530612244897959, 0.673469387755102, 0.6938775510204082, 0.7142857142857142, 0.7346938775510203, 0.7551020408163265, 0.7755102040816326, 0.7959183673469387, 0.8163265306122448, 0.836734693877551, 0.8571428571428571, 0.8775510204081632, 0.8979591836734693, 0.9183673469387754, 0.9387755102040816, 0.9591836734693877, 0.9795918367346939, 1.0, 0.0, 0.02040816326530612, 0.04081632653061224, 0.061224489795918366, 0.08163265306122448, 0.1020408163265306, 0.12244897959183673, 0.14285714285714285, 0.16326530612244897, 0.18367346938775508, 0.2040816326530612, 0.22448979591836732, 0.24489795918367346, 0.26530612244897955, 0.2857142857142857, 0.3061224489795918, 0.32653061224489793, 0.3469387755102041, 0.36734693877551017, 0.3877551020408163, 0.4081632653061224, 0.42857142857142855, 0.44897959183673464, 0.4693877551020408, 0.5102040816326531, 0.4897959183673469, 0.5306122448979591, 0.5510204081632653, 0.5714285714285714, 0.5918367346938775, 0.6122448979591836, 0.6326530612244897, 0.6530612244897959, 0.673469387755102, 0.6938775510204082, 0.7142857142857142, 0.7346938775510203, 0.7551020408163265, 0.7755102040816326, 0.7959183673469387, 0.8163265306122448, 0.836734693877551, 0.8571428571428571, 0.8775510204081632, 0.8979591836734693, 0.9183673469387754, 0.9387755102040816, 0.9591836734693877, 0.9795918367346939, 1.0, 0.0, 1.0], \"coloraxis\": \"coloraxis\", \"symbol\": \"circle\"}, \"mode\": \"markers\", \"name\": \"\", \"orientation\": \"h\", \"showlegend\": false, \"type\": \"scatter\", \"x\": [-0.008809488905824862, -0.008809488905824862, -0.008809488905824862, -0.008809488905824862, -0.008809488905824862, -0.008809488905824862, -0.008809488905824862, -0.008809488905824862, -0.008809488905824862, -0.008809488905824862, -0.008809488905824862, -0.008809488905824862, -0.008809488905824862, -0.008809488905824862, -0.008809488905824862, -0.008809488905824862, -0.008809488905824862, -0.008809488905824862, -0.008809488905824862, -0.008809488905824862, -0.008809488905824862, -0.008809488905824862, -0.008809488905824862, -0.008809488905824862, -0.008809488905824862, -0.008809488905824862, -0.008809488905824862, -0.008809488905824862, -0.008809488905824862, -0.008809488905824862, -0.008809488905824862, -0.008809488905824862, -0.008809488905824862, -0.008809488905824862, -0.048852620295937836, -0.048852620295937836, -0.048852620295937836, -0.048852620295937836, -0.048852620295937836, -0.048852620295937836, -0.048852620295937836, -0.048852620295937836, -0.048852620295937836, -0.048852620295937836, -0.048852620295937836, -0.048852620295937836, -0.048852620295937836, 0.31153556221507916, 0.31153556221507916, 0.31153556221507916, 0.016163974298247438, 0.016163974298247438, 0.016163974298247438, 0.016163974298247438, 0.016163974298247438, 0.016163974298247438, 0.016163974298247438, 0.016163974298247438, 0.016163974298247438, 0.016163974298247438, 0.016163974298247438, 0.016163974298247438, 0.016163974298247438, 0.016163974298247438, 0.016163974298247438, 0.016163974298247438, 0.016163974298247438, 0.016163974298247438, 0.016163974298247438, 0.016163974298247438, 0.016163974298247438, 0.016163974298247438, 0.016163974298247438, 0.016163974298247438, 0.016163974298247438, 0.016163974298247438, 0.016163974298247438, 0.016163974298247438, 0.016163974298247438, 0.016163974298247438, 0.016163974298247438, 0.016163974298247438, 0.016163974298247438, 0.016163974298247438, 0.016163974298247438, 0.016163974298247438, 0.016163974298247438, 0.016163974298247438, -0.15953139850878995, -0.15953139850878995, -0.15953139850878995, -0.15953139850878995, -0.15953139850878995, -0.15953139850878995, 0.05130304885965489, 0.05130304885965489, 0.05130304885965489, 0.05130304885965489, 0.05130304885965489, 0.08644212342106235, 0.20958903343554833, 0.20958903343554833, 0.20958903343554833, 0.20958903343554833, 0.20958903343554833, 0.20958903343554833, 0.20958903343554833, 0.20958903343554833, 0.20958903343554833, 0.20958903343554833, 0.20958903343554833, 0.20958903343554833, -0.06618601055859419, -0.06618601055859419, -0.06618601055859419, -0.06618601055859419, -0.06618601055859419, -0.06618601055859419, -0.06618601055859419, -0.06618601055859419, -0.06618601055859419, -0.06618601055859419, -0.06618601055859419, -0.06618601055859419, -0.06618601055859419, -0.06618601055859419, -0.06618601055859419, -0.06618601055859419, -0.06618601055859419, -0.06618601055859419, -0.06618601055859419, -0.06618601055859419, -0.06618601055859419, -0.06618601055859419, -0.06618601055859419, -0.06618601055859419, -0.06618601055859419, -0.06618601055859419, -0.06618601055859419, -0.06618601055859419, -0.06618601055859419, -0.06618601055859419, -0.06618601055859419, -0.06618601055859419, -0.06618601055859419, -0.06618601055859419, -0.06618601055859419, -0.06618601055859419, -0.06618601055859419, -0.06618601055859419, -0.37760316550819584, -0.37760316550819584, -0.37760316550819584, -0.35142318800585715, -0.2925182386255951, -0.09616840735805511, -0.05689844110454711, -0.05689844110454711, 0.1171984092860051, -0.14198336798714775, -0.1747083398650711, 0.00200650827571491, 0.00200650827571491, 0.2642737828973578, 0.07400144640714634, 0.07400144640714634, 0.19181134516767037, 0.1132714126606543, 0.30962124392819446, -0.004538486099869693, 0.05436646328039233, -0.10271340173363976, -0.2205233004941638, -0.2205233004941638, -0.06344343548013172, -0.10271340173363976, -0.18125333424065573, -0.2205233004941638, -0.2205233004941638, -0.37760316550819584, -0.2205233004941638, 0.40779615956196447, 0.40779615956196447, 0.4863360920689805, 0.21144632829442442, -0.2990632330011798, -0.2205233004941638, -0.18125333424065573, -0.10271340173363976, -0.2205233004941638, -0.14198336798714775, 0.2899862608014404, 0.3292562270549485, -0.18125333424065573, 0.05436646328039233, -0.10271340173363976, 0.5256060583224885, 0.5256060583224885, 0.5256060583224885, 0.7219558895900285, 2.518729632547735, 2.398254682011332, 2.237621414629461, 1.9163548798657197, 1.3541384440291715, 0.26986388920154303, -0.051402645562198646, -0.051402645562198646, -0.25219422978953726, -0.25219422978953726, -0.29235254663500493, -0.29235254663500493, -0.29235254663500493, -0.3325108634804727, -0.3325108634804727, -0.29235254663500493, -0.29235254663500493, -0.25219422978953726, -0.29235254663500493, -0.29235254663500493, -0.25219422978953726, -0.25219422978953726, -0.17187759609860181, -0.051402645562198646, -0.3325108634804727, -0.3325108634804727, -0.29235254663500493, -0.29235254663500493, -0.29235254663500493, -0.25219422978953726, 0.06907230497420451, 0.6312887408107526, 0.028913988128736752, -0.3325108634804727, -0.3325108634804727, -0.3325108634804727, -0.29235254663500493, -0.29235254663500493, -0.29235254663500493, -0.29235254663500493, -0.29235254663500493, -0.3726691803259404, -0.29235254663500493, -0.25219422978953726, -0.09156096240766641, -0.29235254663500493, -0.4128274971714081, -0.4128274971714081, -0.4128274971714081, -0.3325108634804727, 0.899777860048449, -0.899777860048449], \"xaxis\": \"x\", \"y\": [\"Siblings/Spouses Aboard\", \"Siblings/Spouses Aboard\", \"Siblings/Spouses Aboard\", \"Siblings/Spouses Aboard\", \"Siblings/Spouses Aboard\", \"Siblings/Spouses Aboard\", \"Siblings/Spouses Aboard\", \"Siblings/Spouses Aboard\", \"Siblings/Spouses Aboard\", \"Siblings/Spouses Aboard\", \"Siblings/Spouses Aboard\", \"Siblings/Spouses Aboard\", \"Siblings/Spouses Aboard\", \"Siblings/Spouses Aboard\", \"Siblings/Spouses Aboard\", \"Siblings/Spouses Aboard\", \"Siblings/Spouses Aboard\", \"Siblings/Spouses Aboard\", \"Siblings/Spouses Aboard\", \"Siblings/Spouses Aboard\", \"Siblings/Spouses Aboard\", \"Siblings/Spouses Aboard\", \"Siblings/Spouses Aboard\", \"Siblings/Spouses Aboard\", \"Siblings/Spouses Aboard\", \"Siblings/Spouses Aboard\", \"Siblings/Spouses Aboard\", \"Siblings/Spouses Aboard\", \"Siblings/Spouses Aboard\", \"Siblings/Spouses Aboard\", \"Siblings/Spouses Aboard\", \"Siblings/Spouses Aboard\", \"Siblings/Spouses Aboard\", \"Siblings/Spouses Aboard\", \"Siblings/Spouses Aboard\", \"Siblings/Spouses Aboard\", \"Siblings/Spouses Aboard\", \"Siblings/Spouses Aboard\", \"Siblings/Spouses Aboard\", \"Siblings/Spouses Aboard\", \"Siblings/Spouses Aboard\", \"Siblings/Spouses Aboard\", \"Siblings/Spouses Aboard\", \"Siblings/Spouses Aboard\", \"Siblings/Spouses Aboard\", \"Siblings/Spouses Aboard\", \"Siblings/Spouses Aboard\", \"Siblings/Spouses Aboard\", \"Siblings/Spouses Aboard\", \"Siblings/Spouses Aboard\", \"Parents/Children Aboard\", \"Parents/Children Aboard\", \"Parents/Children Aboard\", \"Parents/Children Aboard\", \"Parents/Children Aboard\", \"Parents/Children Aboard\", \"Parents/Children Aboard\", \"Parents/Children Aboard\", \"Parents/Children Aboard\", \"Parents/Children Aboard\", \"Parents/Children Aboard\", \"Parents/Children Aboard\", \"Parents/Children Aboard\", \"Parents/Children Aboard\", \"Parents/Children Aboard\", \"Parents/Children Aboard\", \"Parents/Children Aboard\", \"Parents/Children Aboard\", \"Parents/Children Aboard\", \"Parents/Children Aboard\", \"Parents/Children Aboard\", \"Parents/Children Aboard\", \"Parents/Children Aboard\", \"Parents/Children Aboard\", \"Parents/Children Aboard\", \"Parents/Children Aboard\", \"Parents/Children Aboard\", \"Parents/Children Aboard\", \"Parents/Children Aboard\", \"Parents/Children Aboard\", \"Parents/Children Aboard\", \"Parents/Children Aboard\", \"Parents/Children Aboard\", \"Parents/Children Aboard\", \"Parents/Children Aboard\", \"Parents/Children Aboard\", \"Parents/Children Aboard\", \"Parents/Children Aboard\", \"Parents/Children Aboard\", \"Parents/Children Aboard\", \"Parents/Children Aboard\", \"Parents/Children Aboard\", \"Parents/Children Aboard\", \"Parents/Children Aboard\", \"Parents/Children Aboard\", \"Parents/Children Aboard\", \"Parents/Children Aboard\", \"Parents/Children Aboard\", \"Parents/Children Aboard\", \"Parents/Children Aboard\", \"Pclass\", \"Pclass\", \"Pclass\", \"Pclass\", \"Pclass\", \"Pclass\", \"Pclass\", \"Pclass\", \"Pclass\", \"Pclass\", \"Pclass\", \"Pclass\", \"Pclass\", \"Pclass\", \"Pclass\", \"Pclass\", \"Pclass\", \"Pclass\", \"Pclass\", \"Pclass\", \"Pclass\", \"Pclass\", \"Pclass\", \"Pclass\", \"Pclass\", \"Pclass\", \"Pclass\", \"Pclass\", \"Pclass\", \"Pclass\", \"Pclass\", \"Pclass\", \"Pclass\", \"Pclass\", \"Pclass\", \"Pclass\", \"Pclass\", \"Pclass\", \"Pclass\", \"Pclass\", \"Pclass\", \"Pclass\", \"Pclass\", \"Pclass\", \"Pclass\", \"Pclass\", \"Pclass\", \"Pclass\", \"Pclass\", \"Pclass\", \"Fare\", \"Fare\", \"Fare\", \"Fare\", \"Fare\", \"Fare\", \"Fare\", \"Fare\", \"Fare\", \"Fare\", \"Fare\", \"Fare\", \"Fare\", \"Fare\", \"Fare\", \"Fare\", \"Fare\", \"Fare\", \"Fare\", \"Fare\", \"Fare\", \"Fare\", \"Fare\", \"Fare\", \"Fare\", \"Fare\", \"Fare\", \"Fare\", \"Fare\", \"Fare\", \"Fare\", \"Fare\", \"Fare\", \"Fare\", \"Fare\", \"Fare\", \"Fare\", \"Fare\", \"Fare\", \"Fare\", \"Fare\", \"Fare\", \"Fare\", \"Fare\", \"Fare\", \"Fare\", \"Fare\", \"Fare\", \"Fare\", \"Fare\", \"Age\", \"Age\", \"Age\", \"Age\", \"Age\", \"Age\", \"Age\", \"Age\", \"Age\", \"Age\", \"Age\", \"Age\", \"Age\", \"Age\", \"Age\", \"Age\", \"Age\", \"Age\", \"Age\", \"Age\", \"Age\", \"Age\", \"Age\", \"Age\", \"Age\", \"Age\", \"Age\", \"Age\", \"Age\", \"Age\", \"Age\", \"Age\", \"Age\", \"Age\", \"Age\", \"Age\", \"Age\", \"Age\", \"Age\", \"Age\", \"Age\", \"Age\", \"Age\", \"Age\", \"Age\", \"Age\", \"Age\", \"Age\", \"Age\", \"Age\", \"Sex\", \"Sex\"], \"yaxis\": \"y\"}],\n",
       "                        {\"coloraxis\": {\"colorbar\": {\"title\": {\"text\": \"quantile\"}}, \"colorscale\": [[0.0, \"royalblue\"], [1.0, \"red\"]]}, \"legend\": {\"tracegroupgap\": 0}, \"margin\": {\"t\": 60}, \"shapes\": [{\"line\": {\"color\": \"black\", \"dash\": \"dash\", \"width\": 2}, \"type\": \"line\", \"x0\": 0, \"x1\": 0, \"y0\": \"Siblings/Spouses Aboard\", \"y1\": \"Sex\"}], \"template\": {\"data\": {\"bar\": [{\"error_x\": {\"color\": \"#2a3f5f\"}, \"error_y\": {\"color\": \"#2a3f5f\"}, \"marker\": {\"line\": {\"color\": \"#E5ECF6\", \"width\": 0.5}}, \"type\": \"bar\"}], \"barpolar\": [{\"marker\": {\"line\": {\"color\": \"#E5ECF6\", \"width\": 0.5}}, \"type\": \"barpolar\"}], \"carpet\": [{\"aaxis\": {\"endlinecolor\": \"#2a3f5f\", \"gridcolor\": \"white\", \"linecolor\": \"white\", \"minorgridcolor\": \"white\", \"startlinecolor\": \"#2a3f5f\"}, \"baxis\": {\"endlinecolor\": \"#2a3f5f\", \"gridcolor\": \"white\", \"linecolor\": \"white\", \"minorgridcolor\": \"white\", \"startlinecolor\": \"#2a3f5f\"}, \"type\": \"carpet\"}], \"choropleth\": [{\"colorbar\": {\"outlinewidth\": 0, \"ticks\": \"\"}, \"type\": \"choropleth\"}], \"contour\": [{\"colorbar\": {\"outlinewidth\": 0, \"ticks\": \"\"}, \"colorscale\": [[0.0, \"#0d0887\"], [0.1111111111111111, \"#46039f\"], [0.2222222222222222, \"#7201a8\"], [0.3333333333333333, \"#9c179e\"], [0.4444444444444444, \"#bd3786\"], [0.5555555555555556, \"#d8576b\"], [0.6666666666666666, \"#ed7953\"], [0.7777777777777778, \"#fb9f3a\"], [0.8888888888888888, \"#fdca26\"], [1.0, \"#f0f921\"]], \"type\": \"contour\"}], \"contourcarpet\": [{\"colorbar\": {\"outlinewidth\": 0, \"ticks\": \"\"}, \"type\": \"contourcarpet\"}], \"heatmap\": [{\"colorbar\": {\"outlinewidth\": 0, \"ticks\": \"\"}, \"colorscale\": [[0.0, \"#0d0887\"], [0.1111111111111111, \"#46039f\"], [0.2222222222222222, \"#7201a8\"], [0.3333333333333333, \"#9c179e\"], [0.4444444444444444, \"#bd3786\"], [0.5555555555555556, \"#d8576b\"], [0.6666666666666666, \"#ed7953\"], [0.7777777777777778, \"#fb9f3a\"], [0.8888888888888888, \"#fdca26\"], [1.0, \"#f0f921\"]], \"type\": \"heatmap\"}], \"heatmapgl\": [{\"colorbar\": {\"outlinewidth\": 0, \"ticks\": \"\"}, \"colorscale\": [[0.0, \"#0d0887\"], [0.1111111111111111, \"#46039f\"], [0.2222222222222222, \"#7201a8\"], [0.3333333333333333, \"#9c179e\"], [0.4444444444444444, \"#bd3786\"], [0.5555555555555556, \"#d8576b\"], [0.6666666666666666, \"#ed7953\"], [0.7777777777777778, \"#fb9f3a\"], [0.8888888888888888, \"#fdca26\"], [1.0, \"#f0f921\"]], \"type\": \"heatmapgl\"}], \"histogram\": [{\"marker\": {\"colorbar\": {\"outlinewidth\": 0, \"ticks\": \"\"}}, \"type\": \"histogram\"}], \"histogram2d\": [{\"colorbar\": {\"outlinewidth\": 0, \"ticks\": \"\"}, \"colorscale\": [[0.0, \"#0d0887\"], [0.1111111111111111, \"#46039f\"], [0.2222222222222222, \"#7201a8\"], [0.3333333333333333, \"#9c179e\"], [0.4444444444444444, \"#bd3786\"], [0.5555555555555556, \"#d8576b\"], [0.6666666666666666, \"#ed7953\"], [0.7777777777777778, \"#fb9f3a\"], [0.8888888888888888, \"#fdca26\"], [1.0, \"#f0f921\"]], \"type\": \"histogram2d\"}], \"histogram2dcontour\": [{\"colorbar\": {\"outlinewidth\": 0, \"ticks\": \"\"}, \"colorscale\": [[0.0, \"#0d0887\"], [0.1111111111111111, \"#46039f\"], [0.2222222222222222, \"#7201a8\"], [0.3333333333333333, \"#9c179e\"], [0.4444444444444444, \"#bd3786\"], [0.5555555555555556, \"#d8576b\"], [0.6666666666666666, \"#ed7953\"], [0.7777777777777778, \"#fb9f3a\"], [0.8888888888888888, \"#fdca26\"], [1.0, \"#f0f921\"]], \"type\": \"histogram2dcontour\"}], \"mesh3d\": [{\"colorbar\": {\"outlinewidth\": 0, \"ticks\": \"\"}, \"type\": \"mesh3d\"}], \"parcoords\": [{\"line\": {\"colorbar\": {\"outlinewidth\": 0, \"ticks\": \"\"}}, \"type\": \"parcoords\"}], \"pie\": [{\"automargin\": true, \"type\": \"pie\"}], \"scatter\": [{\"marker\": {\"colorbar\": {\"outlinewidth\": 0, \"ticks\": \"\"}}, \"type\": \"scatter\"}], \"scatter3d\": [{\"line\": {\"colorbar\": {\"outlinewidth\": 0, \"ticks\": \"\"}}, \"marker\": {\"colorbar\": {\"outlinewidth\": 0, \"ticks\": \"\"}}, \"type\": \"scatter3d\"}], \"scattercarpet\": [{\"marker\": {\"colorbar\": {\"outlinewidth\": 0, \"ticks\": \"\"}}, \"type\": \"scattercarpet\"}], \"scattergeo\": [{\"marker\": {\"colorbar\": {\"outlinewidth\": 0, \"ticks\": \"\"}}, \"type\": \"scattergeo\"}], \"scattergl\": [{\"marker\": {\"colorbar\": {\"outlinewidth\": 0, \"ticks\": \"\"}}, \"type\": \"scattergl\"}], \"scattermapbox\": [{\"marker\": {\"colorbar\": {\"outlinewidth\": 0, \"ticks\": \"\"}}, \"type\": \"scattermapbox\"}], \"scatterpolar\": [{\"marker\": {\"colorbar\": {\"outlinewidth\": 0, \"ticks\": \"\"}}, \"type\": \"scatterpolar\"}], \"scatterpolargl\": [{\"marker\": {\"colorbar\": {\"outlinewidth\": 0, \"ticks\": \"\"}}, \"type\": \"scatterpolargl\"}], \"scatterternary\": [{\"marker\": {\"colorbar\": {\"outlinewidth\": 0, \"ticks\": \"\"}}, \"type\": \"scatterternary\"}], \"surface\": [{\"colorbar\": {\"outlinewidth\": 0, \"ticks\": \"\"}, \"colorscale\": [[0.0, \"#0d0887\"], [0.1111111111111111, \"#46039f\"], [0.2222222222222222, \"#7201a8\"], [0.3333333333333333, \"#9c179e\"], [0.4444444444444444, \"#bd3786\"], [0.5555555555555556, \"#d8576b\"], [0.6666666666666666, \"#ed7953\"], [0.7777777777777778, \"#fb9f3a\"], [0.8888888888888888, \"#fdca26\"], [1.0, \"#f0f921\"]], \"type\": \"surface\"}], \"table\": [{\"cells\": {\"fill\": {\"color\": \"#EBF0F8\"}, \"line\": {\"color\": \"white\"}}, \"header\": {\"fill\": {\"color\": \"#C8D4E3\"}, \"line\": {\"color\": \"white\"}}, \"type\": \"table\"}]}, \"layout\": {\"annotationdefaults\": {\"arrowcolor\": \"#2a3f5f\", \"arrowhead\": 0, \"arrowwidth\": 1}, \"coloraxis\": {\"colorbar\": {\"outlinewidth\": 0, \"ticks\": \"\"}}, \"colorscale\": {\"diverging\": [[0, \"#8e0152\"], [0.1, \"#c51b7d\"], [0.2, \"#de77ae\"], [0.3, \"#f1b6da\"], [0.4, \"#fde0ef\"], [0.5, \"#f7f7f7\"], [0.6, \"#e6f5d0\"], [0.7, \"#b8e186\"], [0.8, \"#7fbc41\"], [0.9, \"#4d9221\"], [1, \"#276419\"]], \"sequential\": [[0.0, \"#0d0887\"], [0.1111111111111111, \"#46039f\"], [0.2222222222222222, \"#7201a8\"], [0.3333333333333333, \"#9c179e\"], [0.4444444444444444, \"#bd3786\"], [0.5555555555555556, \"#d8576b\"], [0.6666666666666666, \"#ed7953\"], [0.7777777777777778, \"#fb9f3a\"], [0.8888888888888888, \"#fdca26\"], [1.0, \"#f0f921\"]], \"sequentialminus\": [[0.0, \"#0d0887\"], [0.1111111111111111, \"#46039f\"], [0.2222222222222222, \"#7201a8\"], [0.3333333333333333, \"#9c179e\"], [0.4444444444444444, \"#bd3786\"], [0.5555555555555556, \"#d8576b\"], [0.6666666666666666, \"#ed7953\"], [0.7777777777777778, \"#fb9f3a\"], [0.8888888888888888, \"#fdca26\"], [1.0, \"#f0f921\"]]}, \"colorway\": [\"#636efa\", \"#EF553B\", \"#00cc96\", \"#ab63fa\", \"#FFA15A\", \"#19d3f3\", \"#FF6692\", \"#B6E880\", \"#FF97FF\", \"#FECB52\"], \"font\": {\"color\": \"#2a3f5f\"}, \"geo\": {\"bgcolor\": \"white\", \"lakecolor\": \"white\", \"landcolor\": \"#E5ECF6\", \"showlakes\": true, \"showland\": true, \"subunitcolor\": \"white\"}, \"hoverlabel\": {\"align\": \"left\"}, \"hovermode\": \"closest\", \"mapbox\": {\"style\": \"light\"}, \"paper_bgcolor\": \"white\", \"plot_bgcolor\": \"#E5ECF6\", \"polar\": {\"angularaxis\": {\"gridcolor\": \"white\", \"linecolor\": \"white\", \"ticks\": \"\"}, \"bgcolor\": \"#E5ECF6\", \"radialaxis\": {\"gridcolor\": \"white\", \"linecolor\": \"white\", \"ticks\": \"\"}}, \"scene\": {\"xaxis\": {\"backgroundcolor\": \"#E5ECF6\", \"gridcolor\": \"white\", \"gridwidth\": 2, \"linecolor\": \"white\", \"showbackground\": true, \"ticks\": \"\", \"zerolinecolor\": \"white\"}, \"yaxis\": {\"backgroundcolor\": \"#E5ECF6\", \"gridcolor\": \"white\", \"gridwidth\": 2, \"linecolor\": \"white\", \"showbackground\": true, \"ticks\": \"\", \"zerolinecolor\": \"white\"}, \"zaxis\": {\"backgroundcolor\": \"#E5ECF6\", \"gridcolor\": \"white\", \"gridwidth\": 2, \"linecolor\": \"white\", \"showbackground\": true, \"ticks\": \"\", \"zerolinecolor\": \"white\"}}, \"shapedefaults\": {\"line\": {\"color\": \"#2a3f5f\"}}, \"ternary\": {\"aaxis\": {\"gridcolor\": \"white\", \"linecolor\": \"white\", \"ticks\": \"\"}, \"baxis\": {\"gridcolor\": \"white\", \"linecolor\": \"white\", \"ticks\": \"\"}, \"bgcolor\": \"#E5ECF6\", \"caxis\": {\"gridcolor\": \"white\", \"linecolor\": \"white\", \"ticks\": \"\"}}, \"title\": {\"x\": 0.05}, \"xaxis\": {\"automargin\": true, \"gridcolor\": \"white\", \"linecolor\": \"white\", \"ticks\": \"\", \"title\": {\"standoff\": 15}, \"zerolinecolor\": \"white\", \"zerolinewidth\": 2}, \"yaxis\": {\"automargin\": true, \"gridcolor\": \"white\", \"linecolor\": \"white\", \"ticks\": \"\", \"title\": {\"standoff\": 15}, \"zerolinecolor\": \"white\", \"zerolinewidth\": 2}}}, \"xaxis\": {\"anchor\": \"y\", \"domain\": [0.0, 1.0], \"title\": {\"text\": \"effect\"}}, \"yaxis\": {\"anchor\": \"x\", \"domain\": [0.0, 1.0], \"title\": {\"text\": \"feature\"}}},\n",
       "                        {\"responsive\": true}\n",
       "                    ).then(function(){\n",
       "                            \n",
       "var gd = document.getElementById('a8cc8426-3109-477c-bc6a-1d08c1754009');\n",
       "var x = new MutationObserver(function (mutations, observer) {{\n",
       "        var display = window.getComputedStyle(gd).display;\n",
       "        if (!display || display === 'none') {{\n",
       "            console.log([gd, 'removed!']);\n",
       "            Plotly.purge(gd);\n",
       "            observer.disconnect();\n",
       "        }}\n",
       "}});\n",
       "\n",
       "// Listen for the removal of the full notebook cells\n",
       "var notebookContainer = gd.closest('#notebook-container');\n",
       "if (notebookContainer) {{\n",
       "    x.observe(notebookContainer, {childList: true});\n",
       "}}\n",
       "\n",
       "// Listen for the clearing of the current output cell\n",
       "var outputEl = gd.closest('.output');\n",
       "if (outputEl) {{\n",
       "    x.observe(outputEl, {childList: true});\n",
       "}}\n",
       "\n",
       "                        })\n",
       "                };\n",
       "                });\n",
       "            </script>\n",
       "        </div>"
      ]
     },
     "metadata": {},
     "output_type": "display_data"
    }
   ],
   "source": [
    "acme_rf.fit(df,label_class=1).summary_plot()"
   ]
  },
  {
   "cell_type": "code",
   "execution_count": 97,
   "metadata": {},
   "outputs": [
    {
     "data": {
      "text/plain": [
       "0.68125"
      ]
     },
     "execution_count": 97,
     "metadata": {},
     "output_type": "execute_result"
    }
   ],
   "source": [
    "df.loc[df['Fare']>50].target.mean()"
   ]
  },
  {
   "cell_type": "code",
   "execution_count": 98,
   "metadata": {},
   "outputs": [
    {
     "data": {
      "text/plain": [
       "0.3209366391184573"
      ]
     },
     "execution_count": 98,
     "metadata": {},
     "output_type": "execute_result"
    }
   ],
   "source": [
    "df.loc[df['Fare']<50].target.mean()"
   ]
  },
  {
   "cell_type": "code",
   "execution_count": null,
   "metadata": {},
   "outputs": [],
   "source": []
  }
 ],
 "metadata": {
  "kernelspec": {
   "display_name": "Python 3",
   "language": "python",
   "name": "python3"
  },
  "language_info": {
   "codemirror_mode": {
    "name": "ipython",
    "version": 3
   },
   "file_extension": ".py",
   "mimetype": "text/x-python",
   "name": "python",
   "nbconvert_exporter": "python",
   "pygments_lexer": "ipython3",
   "version": "3.6.9"
  }
 },
 "nbformat": 4,
 "nbformat_minor": 2
}
