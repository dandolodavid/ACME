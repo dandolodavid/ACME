{
 "cells": [
  {
   "cell_type": "code",
   "execution_count": 1,
   "metadata": {},
   "outputs": [],
   "source": [
    "import sys\n",
    "import os\n",
    "sys.path.append(os.getcwd()[:-8])"
   ]
  },
  {
   "cell_type": "code",
   "execution_count": 2,
   "metadata": {},
   "outputs": [],
   "source": [
    "import warnings\n",
    "warnings.filterwarnings(\"ignore\")"
   ]
  },
  {
   "cell_type": "code",
   "execution_count": 3,
   "metadata": {},
   "outputs": [],
   "source": [
    "import plotly.io as pio\n",
    "pio.renderers.default = 'colab'"
   ]
  },
  {
   "cell_type": "code",
   "execution_count": 4,
   "metadata": {},
   "outputs": [],
   "source": [
    "from ACME.ACME import ACME\n",
    "import numpy as np\n",
    "import pandas as pd"
   ]
  },
  {
   "cell_type": "code",
   "execution_count": 5,
   "metadata": {},
   "outputs": [],
   "source": [
    "mean = [5,5,5,5,5,5]\n",
    "cov = np.identity(6)\n",
    "x_normal = pd.DataFrame(np.random.multivariate_normal(mean, cov, 5000), columns = ['f'+str(i) for i in range(1,7)] )\n",
    "x_normal['is_out'] = 0"
   ]
  },
  {
   "cell_type": "code",
   "execution_count": 6,
   "metadata": {},
   "outputs": [],
   "source": [
    "mean = [5,3,5,5,10,0]\n",
    "cov = np.identity(6)\n",
    "x_outliers = pd.DataFrame(np.random.multivariate_normal(mean, cov, 200), columns = ['f'+str(i) for i in range(1,7)] )\n",
    "x_outliers['is_out'] = 1"
   ]
  },
  {
   "cell_type": "code",
   "execution_count": 7,
   "metadata": {},
   "outputs": [],
   "source": [
    "X = pd.concat([x_normal,x_outliers],ignore_index=True, sort=False).reset_index(drop=True)"
   ]
  },
  {
   "cell_type": "code",
   "execution_count": 8,
   "metadata": {},
   "outputs": [
    {
     "data": {
      "text/html": [
       "<div>\n",
       "<style scoped>\n",
       "    .dataframe tbody tr th:only-of-type {\n",
       "        vertical-align: middle;\n",
       "    }\n",
       "\n",
       "    .dataframe tbody tr th {\n",
       "        vertical-align: top;\n",
       "    }\n",
       "\n",
       "    .dataframe thead th {\n",
       "        text-align: right;\n",
       "    }\n",
       "</style>\n",
       "<table border=\"1\" class=\"dataframe\">\n",
       "  <thead>\n",
       "    <tr style=\"text-align: right;\">\n",
       "      <th></th>\n",
       "      <th>f1</th>\n",
       "      <th>f2</th>\n",
       "      <th>f3</th>\n",
       "      <th>f4</th>\n",
       "      <th>f5</th>\n",
       "      <th>f6</th>\n",
       "      <th>is_out</th>\n",
       "    </tr>\n",
       "  </thead>\n",
       "  <tbody>\n",
       "    <tr>\n",
       "      <th>0</th>\n",
       "      <td>5.451259</td>\n",
       "      <td>4.763743</td>\n",
       "      <td>5.433215</td>\n",
       "      <td>3.627454</td>\n",
       "      <td>8.460058</td>\n",
       "      <td>6.194635</td>\n",
       "      <td>0</td>\n",
       "    </tr>\n",
       "    <tr>\n",
       "      <th>1</th>\n",
       "      <td>4.215127</td>\n",
       "      <td>6.029022</td>\n",
       "      <td>5.229701</td>\n",
       "      <td>5.768882</td>\n",
       "      <td>6.551292</td>\n",
       "      <td>5.400953</td>\n",
       "      <td>0</td>\n",
       "    </tr>\n",
       "    <tr>\n",
       "      <th>2</th>\n",
       "      <td>6.149577</td>\n",
       "      <td>4.090795</td>\n",
       "      <td>3.661920</td>\n",
       "      <td>6.184722</td>\n",
       "      <td>4.478790</td>\n",
       "      <td>5.343349</td>\n",
       "      <td>0</td>\n",
       "    </tr>\n",
       "  </tbody>\n",
       "</table>\n",
       "</div>"
      ],
      "text/plain": [
       "         f1        f2        f3        f4        f5        f6  is_out\n",
       "0  5.451259  4.763743  5.433215  3.627454  8.460058  6.194635       0\n",
       "1  4.215127  6.029022  5.229701  5.768882  6.551292  5.400953       0\n",
       "2  6.149577  4.090795  3.661920  6.184722  4.478790  5.343349       0"
      ]
     },
     "execution_count": 8,
     "metadata": {},
     "output_type": "execute_result"
    }
   ],
   "source": [
    "X.head(3)"
   ]
  },
  {
   "cell_type": "code",
   "execution_count": 9,
   "metadata": {},
   "outputs": [],
   "source": [
    "features = ['f'+str(i) for i in range(1,7)]"
   ]
  },
  {
   "cell_type": "code",
   "execution_count": 10,
   "metadata": {},
   "outputs": [],
   "source": [
    "from sklearn.ensemble import IsolationForest\n",
    "if_model = IsolationForest(random_state=0).fit(X[features])"
   ]
  },
  {
   "cell_type": "code",
   "execution_count": 11,
   "metadata": {},
   "outputs": [
    {
     "data": {
      "text/html": [
       "<div>\n",
       "<style scoped>\n",
       "    .dataframe tbody tr th:only-of-type {\n",
       "        vertical-align: middle;\n",
       "    }\n",
       "\n",
       "    .dataframe tbody tr th {\n",
       "        vertical-align: top;\n",
       "    }\n",
       "\n",
       "    .dataframe thead th {\n",
       "        text-align: right;\n",
       "    }\n",
       "</style>\n",
       "<table border=\"1\" class=\"dataframe\">\n",
       "  <thead>\n",
       "    <tr style=\"text-align: right;\">\n",
       "      <th></th>\n",
       "      <th>f1</th>\n",
       "      <th>f2</th>\n",
       "      <th>f3</th>\n",
       "      <th>f4</th>\n",
       "      <th>f5</th>\n",
       "      <th>f6</th>\n",
       "      <th>is_out</th>\n",
       "      <th>pred_AD_score</th>\n",
       "    </tr>\n",
       "  </thead>\n",
       "  <tbody>\n",
       "    <tr>\n",
       "      <th>5195</th>\n",
       "      <td>5.246719</td>\n",
       "      <td>2.335135</td>\n",
       "      <td>6.680622</td>\n",
       "      <td>6.445316</td>\n",
       "      <td>11.252835</td>\n",
       "      <td>-0.823410</td>\n",
       "      <td>1</td>\n",
       "      <td>0.158615</td>\n",
       "    </tr>\n",
       "    <tr>\n",
       "      <th>5196</th>\n",
       "      <td>2.591363</td>\n",
       "      <td>3.634174</td>\n",
       "      <td>4.035704</td>\n",
       "      <td>6.727754</td>\n",
       "      <td>9.176601</td>\n",
       "      <td>1.729152</td>\n",
       "      <td>1</td>\n",
       "      <td>0.125389</td>\n",
       "    </tr>\n",
       "    <tr>\n",
       "      <th>5197</th>\n",
       "      <td>3.731431</td>\n",
       "      <td>0.586555</td>\n",
       "      <td>3.864337</td>\n",
       "      <td>4.787120</td>\n",
       "      <td>9.451596</td>\n",
       "      <td>-0.584835</td>\n",
       "      <td>1</td>\n",
       "      <td>0.136085</td>\n",
       "    </tr>\n",
       "    <tr>\n",
       "      <th>5198</th>\n",
       "      <td>6.240268</td>\n",
       "      <td>3.713027</td>\n",
       "      <td>5.070517</td>\n",
       "      <td>4.085483</td>\n",
       "      <td>9.618007</td>\n",
       "      <td>-1.099903</td>\n",
       "      <td>1</td>\n",
       "      <td>0.119100</td>\n",
       "    </tr>\n",
       "    <tr>\n",
       "      <th>5199</th>\n",
       "      <td>5.103153</td>\n",
       "      <td>5.474457</td>\n",
       "      <td>4.896490</td>\n",
       "      <td>5.301103</td>\n",
       "      <td>10.680816</td>\n",
       "      <td>1.006071</td>\n",
       "      <td>1</td>\n",
       "      <td>0.060271</td>\n",
       "    </tr>\n",
       "  </tbody>\n",
       "</table>\n",
       "</div>"
      ],
      "text/plain": [
       "            f1        f2        f3        f4         f5        f6  is_out  \\\n",
       "5195  5.246719  2.335135  6.680622  6.445316  11.252835 -0.823410       1   \n",
       "5196  2.591363  3.634174  4.035704  6.727754   9.176601  1.729152       1   \n",
       "5197  3.731431  0.586555  3.864337  4.787120   9.451596 -0.584835       1   \n",
       "5198  6.240268  3.713027  5.070517  4.085483   9.618007 -1.099903       1   \n",
       "5199  5.103153  5.474457  4.896490  5.301103  10.680816  1.006071       1   \n",
       "\n",
       "      pred_AD_score  \n",
       "5195       0.158615  \n",
       "5196       0.125389  \n",
       "5197       0.136085  \n",
       "5198       0.119100  \n",
       "5199       0.060271  "
      ]
     },
     "execution_count": 11,
     "metadata": {},
     "output_type": "execute_result"
    }
   ],
   "source": [
    "X['pred_AD_score'] = if_model.decision_function(X[features])\n",
    "X.tail()"
   ]
  },
  {
   "cell_type": "code",
   "execution_count": 12,
   "metadata": {},
   "outputs": [
    {
     "data": {
      "text/plain": [
       "<AxesSubplot:ylabel='Frequency'>"
      ]
     },
     "execution_count": 12,
     "metadata": {},
     "output_type": "execute_result"
    },
    {
     "data": {
      "image/png": "[encoded data removed]",
      "text/plain": [
       "<Figure size 432x288 with 1 Axes>"
      ]
     },
     "metadata": {
      "needs_background": "light"
     },
     "output_type": "display_data"
    }
   ],
   "source": [
    "X['pred_AD_score'].plot(kind='hist')"
   ]
  },
  {
   "cell_type": "code",
   "execution_count": null,
   "metadata": {},
   "outputs": [],
   "source": []
  },
  {
   "cell_type": "code",
   "execution_count": 13,
   "metadata": {},
   "outputs": [
    {
     "data": {
      "text/html": [
       "<div>\n",
       "<style scoped>\n",
       "    .dataframe tbody tr th:only-of-type {\n",
       "        vertical-align: middle;\n",
       "    }\n",
       "\n",
       "    .dataframe tbody tr th {\n",
       "        vertical-align: top;\n",
       "    }\n",
       "\n",
       "    .dataframe thead th {\n",
       "        text-align: right;\n",
       "    }\n",
       "</style>\n",
       "<table border=\"1\" class=\"dataframe\">\n",
       "  <thead>\n",
       "    <tr style=\"text-align: right;\">\n",
       "      <th></th>\n",
       "      <th>f1</th>\n",
       "      <th>f2</th>\n",
       "      <th>f3</th>\n",
       "      <th>f4</th>\n",
       "      <th>f5</th>\n",
       "      <th>f6</th>\n",
       "      <th>is_out</th>\n",
       "      <th>pred_AD_score</th>\n",
       "    </tr>\n",
       "  </thead>\n",
       "  <tbody>\n",
       "    <tr>\n",
       "      <th>4625</th>\n",
       "      <td>7.505392</td>\n",
       "      <td>5.290536</td>\n",
       "      <td>7.200113</td>\n",
       "      <td>5.036404</td>\n",
       "      <td>5.711419</td>\n",
       "      <td>5.506047</td>\n",
       "      <td>0</td>\n",
       "      <td>-0.009584</td>\n",
       "    </tr>\n",
       "    <tr>\n",
       "      <th>3845</th>\n",
       "      <td>3.586814</td>\n",
       "      <td>3.399716</td>\n",
       "      <td>6.736997</td>\n",
       "      <td>3.436930</td>\n",
       "      <td>4.734071</td>\n",
       "      <td>6.323964</td>\n",
       "      <td>0</td>\n",
       "      <td>-0.009240</td>\n",
       "    </tr>\n",
       "    <tr>\n",
       "      <th>3174</th>\n",
       "      <td>4.886822</td>\n",
       "      <td>7.723372</td>\n",
       "      <td>5.362516</td>\n",
       "      <td>3.616223</td>\n",
       "      <td>4.275236</td>\n",
       "      <td>4.484905</td>\n",
       "      <td>0</td>\n",
       "      <td>-0.009238</td>\n",
       "    </tr>\n",
       "    <tr>\n",
       "      <th>3851</th>\n",
       "      <td>4.572504</td>\n",
       "      <td>4.509557</td>\n",
       "      <td>2.396950</td>\n",
       "      <td>6.091499</td>\n",
       "      <td>4.443675</td>\n",
       "      <td>6.393909</td>\n",
       "      <td>0</td>\n",
       "      <td>-0.009157</td>\n",
       "    </tr>\n",
       "    <tr>\n",
       "      <th>3030</th>\n",
       "      <td>5.364940</td>\n",
       "      <td>6.420384</td>\n",
       "      <td>4.945175</td>\n",
       "      <td>8.492813</td>\n",
       "      <td>3.398721</td>\n",
       "      <td>5.818602</td>\n",
       "      <td>0</td>\n",
       "      <td>-0.009047</td>\n",
       "    </tr>\n",
       "    <tr>\n",
       "      <th>2640</th>\n",
       "      <td>7.486103</td>\n",
       "      <td>5.746101</td>\n",
       "      <td>4.579300</td>\n",
       "      <td>6.222311</td>\n",
       "      <td>6.689354</td>\n",
       "      <td>6.049775</td>\n",
       "      <td>0</td>\n",
       "      <td>-0.008999</td>\n",
       "    </tr>\n",
       "    <tr>\n",
       "      <th>1010</th>\n",
       "      <td>3.608457</td>\n",
       "      <td>4.544999</td>\n",
       "      <td>7.820532</td>\n",
       "      <td>4.039317</td>\n",
       "      <td>5.691060</td>\n",
       "      <td>3.454153</td>\n",
       "      <td>0</td>\n",
       "      <td>-0.008897</td>\n",
       "    </tr>\n",
       "    <tr>\n",
       "      <th>3707</th>\n",
       "      <td>2.901075</td>\n",
       "      <td>6.149805</td>\n",
       "      <td>3.596474</td>\n",
       "      <td>5.987495</td>\n",
       "      <td>6.279421</td>\n",
       "      <td>4.087001</td>\n",
       "      <td>0</td>\n",
       "      <td>-0.008783</td>\n",
       "    </tr>\n",
       "    <tr>\n",
       "      <th>3153</th>\n",
       "      <td>7.023113</td>\n",
       "      <td>6.799617</td>\n",
       "      <td>4.401602</td>\n",
       "      <td>4.955285</td>\n",
       "      <td>6.186143</td>\n",
       "      <td>6.111459</td>\n",
       "      <td>0</td>\n",
       "      <td>-0.008771</td>\n",
       "    </tr>\n",
       "    <tr>\n",
       "      <th>3795</th>\n",
       "      <td>5.441406</td>\n",
       "      <td>7.403870</td>\n",
       "      <td>5.591726</td>\n",
       "      <td>4.133044</td>\n",
       "      <td>3.432385</td>\n",
       "      <td>5.402305</td>\n",
       "      <td>0</td>\n",
       "      <td>-0.008651</td>\n",
       "    </tr>\n",
       "  </tbody>\n",
       "</table>\n",
       "</div>"
      ],
      "text/plain": [
       "            f1        f2        f3        f4        f5        f6  is_out  \\\n",
       "4625  7.505392  5.290536  7.200113  5.036404  5.711419  5.506047       0   \n",
       "3845  3.586814  3.399716  6.736997  3.436930  4.734071  6.323964       0   \n",
       "3174  4.886822  7.723372  5.362516  3.616223  4.275236  4.484905       0   \n",
       "3851  4.572504  4.509557  2.396950  6.091499  4.443675  6.393909       0   \n",
       "3030  5.364940  6.420384  4.945175  8.492813  3.398721  5.818602       0   \n",
       "2640  7.486103  5.746101  4.579300  6.222311  6.689354  6.049775       0   \n",
       "1010  3.608457  4.544999  7.820532  4.039317  5.691060  3.454153       0   \n",
       "3707  2.901075  6.149805  3.596474  5.987495  6.279421  4.087001       0   \n",
       "3153  7.023113  6.799617  4.401602  4.955285  6.186143  6.111459       0   \n",
       "3795  5.441406  7.403870  5.591726  4.133044  3.432385  5.402305       0   \n",
       "\n",
       "      pred_AD_score  \n",
       "4625      -0.009584  \n",
       "3845      -0.009240  \n",
       "3174      -0.009238  \n",
       "3851      -0.009157  \n",
       "3030      -0.009047  \n",
       "2640      -0.008999  \n",
       "1010      -0.008897  \n",
       "3707      -0.008783  \n",
       "3153      -0.008771  \n",
       "3795      -0.008651  "
      ]
     },
     "execution_count": 13,
     "metadata": {},
     "output_type": "execute_result"
    }
   ],
   "source": [
    "X.loc[(-0.01<X['pred_AD_score']) & (X['pred_AD_score']<0)].sort_values(by='pred_AD_score', ascending=True).head(10)"
   ]
  },
  {
   "cell_type": "code",
   "execution_count": 88,
   "metadata": {},
   "outputs": [],
   "source": [
    "k = 30\n",
    "def score_function(model, data):\n",
    "    try: # for global\n",
    "        df = model.decision_function(data)\n",
    "    except: # for local\n",
    "        df = model.decision_function(data.reshape(1,-1))\n",
    "    \n",
    "    return -1*df\n",
    "\n",
    "acme_ifo = ACME(if_model, 'AD_score', K=k, task='regression', score_function=score_function, features=features)\n",
    "acme_ifo = acme_ifo.fit(X[features], robust = True)"
   ]
  },
  {
   "cell_type": "code",
   "execution_count": 89,
   "metadata": {
    "tags": []
   },
   "outputs": [],
   "source": [
    "#acme_local = acme_ifo.fit_local(X, 5100)\n",
    "acme_local = acme_ifo.fit_local(X[features], 4277)"
   ]
  },
  {
   "cell_type": "code",
   "execution_count": 90,
   "metadata": {},
   "outputs": [],
   "source": [
    "local_table = acme_local.local_table()"
   ]
  },
  {
   "cell_type": "code",
   "execution_count": 91,
   "metadata": {},
   "outputs": [
    {
     "data": {
      "text/plain": [
       "(180, 7)"
      ]
     },
     "execution_count": 91,
     "metadata": {},
     "output_type": "execute_result"
    }
   ],
   "source": [
    "local_table.shape #(n_rows = n_features x quantiles)"
   ]
  },
  {
   "cell_type": "code",
   "execution_count": 92,
   "metadata": {},
   "outputs": [
    {
     "data": {
      "text/html": [
       "<div>\n",
       "<style scoped>\n",
       "    .dataframe tbody tr th:only-of-type {\n",
       "        vertical-align: middle;\n",
       "    }\n",
       "\n",
       "    .dataframe tbody tr th {\n",
       "        vertical-align: top;\n",
       "    }\n",
       "\n",
       "    .dataframe thead th {\n",
       "        text-align: right;\n",
       "    }\n",
       "</style>\n",
       "<table border=\"1\" class=\"dataframe\">\n",
       "  <thead>\n",
       "    <tr style=\"text-align: right;\">\n",
       "      <th></th>\n",
       "      <th>effect</th>\n",
       "      <th>predictions</th>\n",
       "      <th>mean_prediction</th>\n",
       "      <th>original</th>\n",
       "      <th>quantile</th>\n",
       "      <th>Importance</th>\n",
       "      <th>local_quantile</th>\n",
       "    </tr>\n",
       "  </thead>\n",
       "  <tbody>\n",
       "    <tr>\n",
       "      <th>f2</th>\n",
       "      <td>0.028010</td>\n",
       "      <td>0.028010</td>\n",
       "      <td>-0.046369</td>\n",
       "      <td>-0.690634</td>\n",
       "      <td>0.000000</td>\n",
       "      <td>0.030630</td>\n",
       "      <td>0.275862</td>\n",
       "    </tr>\n",
       "    <tr>\n",
       "      <th>f2</th>\n",
       "      <td>0.010201</td>\n",
       "      <td>0.010201</td>\n",
       "      <td>-0.046369</td>\n",
       "      <td>2.855548</td>\n",
       "      <td>0.034483</td>\n",
       "      <td>0.030630</td>\n",
       "      <td>0.275862</td>\n",
       "    </tr>\n",
       "    <tr>\n",
       "      <th>f2</th>\n",
       "      <td>-0.008760</td>\n",
       "      <td>-0.008760</td>\n",
       "      <td>-0.046369</td>\n",
       "      <td>3.318358</td>\n",
       "      <td>0.068966</td>\n",
       "      <td>0.030630</td>\n",
       "      <td>0.275862</td>\n",
       "    </tr>\n",
       "    <tr>\n",
       "      <th>f2</th>\n",
       "      <td>-0.026490</td>\n",
       "      <td>-0.026490</td>\n",
       "      <td>-0.046369</td>\n",
       "      <td>3.581936</td>\n",
       "      <td>0.103448</td>\n",
       "      <td>0.030630</td>\n",
       "      <td>0.275862</td>\n",
       "    </tr>\n",
       "    <tr>\n",
       "      <th>f2</th>\n",
       "      <td>-0.034664</td>\n",
       "      <td>-0.034664</td>\n",
       "      <td>-0.046369</td>\n",
       "      <td>3.787819</td>\n",
       "      <td>0.137931</td>\n",
       "      <td>0.030630</td>\n",
       "      <td>0.275862</td>\n",
       "    </tr>\n",
       "    <tr>\n",
       "      <th>...</th>\n",
       "      <td>...</td>\n",
       "      <td>...</td>\n",
       "      <td>...</td>\n",
       "      <td>...</td>\n",
       "      <td>...</td>\n",
       "      <td>...</td>\n",
       "      <td>...</td>\n",
       "    </tr>\n",
       "    <tr>\n",
       "      <th>f5</th>\n",
       "      <td>-0.038184</td>\n",
       "      <td>-0.038184</td>\n",
       "      <td>-0.046369</td>\n",
       "      <td>6.268078</td>\n",
       "      <td>0.862069</td>\n",
       "      <td>0.017292</td>\n",
       "      <td>0.206897</td>\n",
       "    </tr>\n",
       "    <tr>\n",
       "      <th>f5</th>\n",
       "      <td>-0.032163</td>\n",
       "      <td>-0.032163</td>\n",
       "      <td>-0.046369</td>\n",
       "      <td>6.486370</td>\n",
       "      <td>0.896552</td>\n",
       "      <td>0.017292</td>\n",
       "      <td>0.206897</td>\n",
       "    </tr>\n",
       "    <tr>\n",
       "      <th>f5</th>\n",
       "      <td>-0.024984</td>\n",
       "      <td>-0.024984</td>\n",
       "      <td>-0.046369</td>\n",
       "      <td>6.849848</td>\n",
       "      <td>0.931034</td>\n",
       "      <td>0.017292</td>\n",
       "      <td>0.206897</td>\n",
       "    </tr>\n",
       "    <tr>\n",
       "      <th>f5</th>\n",
       "      <td>0.042707</td>\n",
       "      <td>0.042707</td>\n",
       "      <td>-0.046369</td>\n",
       "      <td>8.732333</td>\n",
       "      <td>0.965517</td>\n",
       "      <td>0.017292</td>\n",
       "      <td>0.206897</td>\n",
       "    </tr>\n",
       "    <tr>\n",
       "      <th>f5</th>\n",
       "      <td>0.070720</td>\n",
       "      <td>0.070720</td>\n",
       "      <td>-0.046369</td>\n",
       "      <td>12.306370</td>\n",
       "      <td>1.000000</td>\n",
       "      <td>0.017292</td>\n",
       "      <td>0.206897</td>\n",
       "    </tr>\n",
       "  </tbody>\n",
       "</table>\n",
       "<p>180 rows × 7 columns</p>\n",
       "</div>"
      ],
      "text/plain": [
       "      effect  predictions  mean_prediction   original  quantile  Importance  \\\n",
       "f2  0.028010     0.028010        -0.046369  -0.690634  0.000000    0.030630   \n",
       "f2  0.010201     0.010201        -0.046369   2.855548  0.034483    0.030630   \n",
       "f2 -0.008760    -0.008760        -0.046369   3.318358  0.068966    0.030630   \n",
       "f2 -0.026490    -0.026490        -0.046369   3.581936  0.103448    0.030630   \n",
       "f2 -0.034664    -0.034664        -0.046369   3.787819  0.137931    0.030630   \n",
       "..       ...          ...              ...        ...       ...         ...   \n",
       "f5 -0.038184    -0.038184        -0.046369   6.268078  0.862069    0.017292   \n",
       "f5 -0.032163    -0.032163        -0.046369   6.486370  0.896552    0.017292   \n",
       "f5 -0.024984    -0.024984        -0.046369   6.849848  0.931034    0.017292   \n",
       "f5  0.042707     0.042707        -0.046369   8.732333  0.965517    0.017292   \n",
       "f5  0.070720     0.070720        -0.046369  12.306370  1.000000    0.017292   \n",
       "\n",
       "    local_quantile  \n",
       "f2        0.275862  \n",
       "f2        0.275862  \n",
       "f2        0.275862  \n",
       "f2        0.275862  \n",
       "f2        0.275862  \n",
       "..             ...  \n",
       "f5        0.206897  \n",
       "f5        0.206897  \n",
       "f5        0.206897  \n",
       "f5        0.206897  \n",
       "f5        0.206897  \n",
       "\n",
       "[180 rows x 7 columns]"
      ]
     },
     "execution_count": 92,
     "metadata": {},
     "output_type": "execute_result"
    }
   ],
   "source": [
    "local_table"
   ]
  },
  {
   "cell_type": "code",
   "execution_count": 93,
   "metadata": {},
   "outputs": [],
   "source": [
    "change_anomalies = {}\n",
    "no_change_anomalies = {}\n",
    "importance_change = {}\n",
    "\n",
    "for feature in local_table.index.unique():\n",
    "    min_pred = local_table.loc[feature,'predictions'].min()\n",
    "    max_pred = local_table.loc[feature,'predictions'].max()\n",
    "    if np.sign(min_pred) !=  np.sign(max_pred):\n",
    "        change_anomalies[feature] = [min_pred,max_pred]\n",
    "        #importance_change[feature] = np.abs(np.abs(min_pred)-np.abs(max_pred)) #why not just max - min (by default, min is negative)?\n",
    "        importance_change[feature] = max_pred - min_pred #why not just max - min (by default, min is negative)?\n",
    "    else:\n",
    "        importance_change[feature] = 0\n",
    "        no_change_anomalies[feature] = [min_pred, max_pred]\n",
    "        \n",
    "#we could also define importance more generally as max - min (also for features without sign change)\n",
    "#is there a notion of margin we can take into account to assess who normal/abnormal a sample is? \n",
    "#   (e.g. this observation can never be normal if we change a value at a time)"
   ]
  },
  {
   "cell_type": "code",
   "execution_count": 94,
   "metadata": {},
   "outputs": [
    {
     "data": {
      "text/plain": [
       "{'f2': [-0.05834568069296164, 0.05980742777852188],\n",
       " 'f3': [-0.07250365517282575, 0.035117488789374374],\n",
       " 'f6': [-0.05515728496481398, 0.06620982149319232],\n",
       " 'f4': [-0.07522849951800653, 0.013467516602212126],\n",
       " 'f1': [-0.07191499558621589, 0.028875928268084383],\n",
       " 'f5': [-0.052706993749914, 0.07072014619123956]}"
      ]
     },
     "execution_count": 94,
     "metadata": {},
     "output_type": "execute_result"
    }
   ],
   "source": [
    "change_anomalies"
   ]
  },
  {
   "cell_type": "code",
   "execution_count": 95,
   "metadata": {},
   "outputs": [
    {
     "data": {
      "text/plain": [
       "{}"
      ]
     },
     "execution_count": 95,
     "metadata": {},
     "output_type": "execute_result"
    }
   ],
   "source": [
    "no_change_anomalies"
   ]
  },
  {
   "cell_type": "code",
   "execution_count": 96,
   "metadata": {},
   "outputs": [
    {
     "data": {
      "text/plain": [
       "{'f2': 0.11815310847148353,\n",
       " 'f3': 0.10762114396220013,\n",
       " 'f6': 0.1213671064580063,\n",
       " 'f4': 0.08869601612021866,\n",
       " 'f1': 0.10079092385430027,\n",
       " 'f5': 0.12342713994115356}"
      ]
     },
     "execution_count": 96,
     "metadata": {},
     "output_type": "execute_result"
    }
   ],
   "source": [
    "importance_change"
   ]
  },
  {
   "cell_type": "code",
   "execution_count": 97,
   "metadata": {},
   "outputs": [
    {
     "data": {
      "text/html": [
       "<div>\n",
       "<style scoped>\n",
       "    .dataframe tbody tr th:only-of-type {\n",
       "        vertical-align: middle;\n",
       "    }\n",
       "\n",
       "    .dataframe tbody tr th {\n",
       "        vertical-align: top;\n",
       "    }\n",
       "\n",
       "    .dataframe thead th {\n",
       "        text-align: right;\n",
       "    }\n",
       "</style>\n",
       "<table border=\"1\" class=\"dataframe\">\n",
       "  <thead>\n",
       "    <tr style=\"text-align: right;\">\n",
       "      <th></th>\n",
       "      <th>AD importance score</th>\n",
       "      <th>Min</th>\n",
       "      <th>Max</th>\n",
       "    </tr>\n",
       "  </thead>\n",
       "  <tbody>\n",
       "    <tr>\n",
       "      <th>f5</th>\n",
       "      <td>0.123427</td>\n",
       "      <td>-0.052707</td>\n",
       "      <td>0.070720</td>\n",
       "    </tr>\n",
       "    <tr>\n",
       "      <th>f6</th>\n",
       "      <td>0.121367</td>\n",
       "      <td>-0.055157</td>\n",
       "      <td>0.066210</td>\n",
       "    </tr>\n",
       "    <tr>\n",
       "      <th>f2</th>\n",
       "      <td>0.118153</td>\n",
       "      <td>-0.058346</td>\n",
       "      <td>0.059807</td>\n",
       "    </tr>\n",
       "    <tr>\n",
       "      <th>f3</th>\n",
       "      <td>0.107621</td>\n",
       "      <td>-0.072504</td>\n",
       "      <td>0.035117</td>\n",
       "    </tr>\n",
       "    <tr>\n",
       "      <th>f1</th>\n",
       "      <td>0.100791</td>\n",
       "      <td>-0.071915</td>\n",
       "      <td>0.028876</td>\n",
       "    </tr>\n",
       "    <tr>\n",
       "      <th>f4</th>\n",
       "      <td>0.088696</td>\n",
       "      <td>-0.075228</td>\n",
       "      <td>0.013468</td>\n",
       "    </tr>\n",
       "  </tbody>\n",
       "</table>\n",
       "</div>"
      ],
      "text/plain": [
       "    AD importance score       Min       Max\n",
       "f5             0.123427 -0.052707  0.070720\n",
       "f6             0.121367 -0.055157  0.066210\n",
       "f2             0.118153 -0.058346  0.059807\n",
       "f3             0.107621 -0.072504  0.035117\n",
       "f1             0.100791 -0.071915  0.028876\n",
       "f4             0.088696 -0.075228  0.013468"
      ]
     },
     "execution_count": 97,
     "metadata": {},
     "output_type": "execute_result"
    }
   ],
   "source": [
    "pd.concat([pd.DataFrame(importance_change,index=['AD importance score']).T,pd.DataFrame(change_anomalies,index=['Min','Max']).T],axis=1).sort_values('AD importance score',ascending=False)"
   ]
  },
  {
   "cell_type": "code",
   "execution_count": 113,
   "metadata": {},
   "outputs": [],
   "source": [
    "feature = 'f6'\n",
    "imp_table = local_table.loc[feature]"
   ]
  },
  {
   "cell_type": "code",
   "execution_count": 114,
   "metadata": {},
   "outputs": [],
   "source": [
    "imp_table['direction'] = 'normal'\n",
    "imp_table.loc[imp_table.predictions<0,'direction'] = 'anomalies'\n",
    "imp_table['effect'] = np.abs(imp_table['predictions'] - imp_table['mean_prediction'] )*np.sign(imp_table['predictions'])"
   ]
  },
  {
   "cell_type": "code",
   "execution_count": 116,
   "metadata": {},
   "outputs": [
    {
     "data": {
      "text/html": [
       "<html>\n",
       "<head><meta charset=\"utf-8\" /></head>\n",
       "<body>\n",
       "    <div>            <script src=\"https://cdnjs.cloudflare.com/ajax/libs/mathjax/2.7.5/MathJax.js?config=TeX-AMS-MML_SVG\"></script><script type=\"text/javascript\">if (window.MathJax) {MathJax.Hub.Config({SVG: {font: \"STIX-Web\"}});}</script>                <script type=\"text/javascript\">window.PlotlyConfig = {MathJaxConfig: 'local'};</script>\n",
       "        <script src=\"https://cdn.plot.ly/plotly-2.11.1.min.js\"></script>                <div id=\"3491f59d-60ac-405f-b9c9-60f60c869674\" class=\"plotly-graph-div\" style=\"height:1000px; width:800px;\"></div>            <script type=\"text/javascript\">                                    window.PLOTLYENV=window.PLOTLYENV || {};                                    if (document.getElementById(\"3491f59d-60ac-405f-b9c9-60f60c869674\")) {                    Plotly.newPlot(                        \"3491f59d-60ac-405f-b9c9-60f60c869674\",                        [{\"base\":-0.046368911994486395,\"marker\":{\"color\":\"blue\"},\"name\":\"Anomalies\",\"orientation\":\"h\",\"x\":[-0.03342571702589808,-0.018041198091910626,-0.007499359847134346,-0.001487933048277712,-0.0016296931313384833,-0.0024017362139759912,-0.0008643517982499516,-0.004269205439236368,-0.004269205439236368,-0.004609820841239898,-0.004913519734936478,-0.002323907567530481,-0.0053271545088635075,-0.007037979709820119,-0.008697578334437628,-0.007061919055106003,-0.007099590567327896,-0.008788372970327585,-0.007280952190494849,-0.008787659828999816,-0.008663231425084017,-0.008663231425084017,-0.005923942312047681,-0.0035625686103089027,-0.0024219322052705383,-0.006834088636418656,-0.014849692260453073,-0.046143538633967474],\"y\":[3.1590634549411223,3.496217229282261,3.7708930571983643,3.9371377289771723,4.098741934708225,4.224893600357839,4.336764791213813,4.453252344360575,4.55848560417411,4.655224140375446,4.74954763100526,4.850551842252762,4.944672108734631,5.030138389702439,5.121355456683432,5.2099688050952135,5.3059109167237875,5.4127604140726,5.505089789431955,5.610422449525787,5.7273402858436375,5.836327885962519,5.9552563272358165,6.100169852586292,6.300834851859846,6.510594532396106,6.823501890525196,8.247019810037123],\"type\":\"bar\"},{\"base\":-0.046368911994486395,\"marker\":{\"color\":\"red\"},\"name\":\"Normal\",\"orientation\":\"h\",\"x\":[0.11257873348767872,0.0706412164683024],\"y\":[-2.4073095311177224,1.0608469002229557],\"type\":\"bar\"},{\"line\":{\"color\":\"blue\",\"dash\":\"dash\",\"width\":2},\"mode\":\"lines\",\"name\":\"actual score\",\"x\":[-0.046368911994486395,-0.046368911994486395],\"y\":[-2.16657857800595,8.65937080053898],\"type\":\"scatter\"},{\"line\":{\"color\":\"black\",\"width\":2},\"mode\":\"lines\",\"name\":\"change point\",\"x\":[0,0],\"y\":[-2.16657857800595,8.65937080053898],\"type\":\"scatter\"},{\"marker\":{\"color\":\"blue\",\"size\":20},\"mode\":\"markers\",\"name\":\"current value\",\"x\":[-0.046368911994486395],\"y\":[4.224893600357839],\"type\":\"scatter\"}],                        {\"template\":{\"data\":{\"histogram2dcontour\":[{\"type\":\"histogram2dcontour\",\"colorbar\":{\"outlinewidth\":0,\"ticks\":\"\"},\"colorscale\":[[0.0,\"#0d0887\"],[0.1111111111111111,\"#46039f\"],[0.2222222222222222,\"#7201a8\"],[0.3333333333333333,\"#9c179e\"],[0.4444444444444444,\"#bd3786\"],[0.5555555555555556,\"#d8576b\"],[0.6666666666666666,\"#ed7953\"],[0.7777777777777778,\"#fb9f3a\"],[0.8888888888888888,\"#fdca26\"],[1.0,\"#f0f921\"]]}],\"choropleth\":[{\"type\":\"choropleth\",\"colorbar\":{\"outlinewidth\":0,\"ticks\":\"\"}}],\"histogram2d\":[{\"type\":\"histogram2d\",\"colorbar\":{\"outlinewidth\":0,\"ticks\":\"\"},\"colorscale\":[[0.0,\"#0d0887\"],[0.1111111111111111,\"#46039f\"],[0.2222222222222222,\"#7201a8\"],[0.3333333333333333,\"#9c179e\"],[0.4444444444444444,\"#bd3786\"],[0.5555555555555556,\"#d8576b\"],[0.6666666666666666,\"#ed7953\"],[0.7777777777777778,\"#fb9f3a\"],[0.8888888888888888,\"#fdca26\"],[1.0,\"#f0f921\"]]}],\"heatmap\":[{\"type\":\"heatmap\",\"colorbar\":{\"outlinewidth\":0,\"ticks\":\"\"},\"colorscale\":[[0.0,\"#0d0887\"],[0.1111111111111111,\"#46039f\"],[0.2222222222222222,\"#7201a8\"],[0.3333333333333333,\"#9c179e\"],[0.4444444444444444,\"#bd3786\"],[0.5555555555555556,\"#d8576b\"],[0.6666666666666666,\"#ed7953\"],[0.7777777777777778,\"#fb9f3a\"],[0.8888888888888888,\"#fdca26\"],[1.0,\"#f0f921\"]]}],\"heatmapgl\":[{\"type\":\"heatmapgl\",\"colorbar\":{\"outlinewidth\":0,\"ticks\":\"\"},\"colorscale\":[[0.0,\"#0d0887\"],[0.1111111111111111,\"#46039f\"],[0.2222222222222222,\"#7201a8\"],[0.3333333333333333,\"#9c179e\"],[0.4444444444444444,\"#bd3786\"],[0.5555555555555556,\"#d8576b\"],[0.6666666666666666,\"#ed7953\"],[0.7777777777777778,\"#fb9f3a\"],[0.8888888888888888,\"#fdca26\"],[1.0,\"#f0f921\"]]}],\"contourcarpet\":[{\"type\":\"contourcarpet\",\"colorbar\":{\"outlinewidth\":0,\"ticks\":\"\"}}],\"contour\":[{\"type\":\"contour\",\"colorbar\":{\"outlinewidth\":0,\"ticks\":\"\"},\"colorscale\":[[0.0,\"#0d0887\"],[0.1111111111111111,\"#46039f\"],[0.2222222222222222,\"#7201a8\"],[0.3333333333333333,\"#9c179e\"],[0.4444444444444444,\"#bd3786\"],[0.5555555555555556,\"#d8576b\"],[0.6666666666666666,\"#ed7953\"],[0.7777777777777778,\"#fb9f3a\"],[0.8888888888888888,\"#fdca26\"],[1.0,\"#f0f921\"]]}],\"surface\":[{\"type\":\"surface\",\"colorbar\":{\"outlinewidth\":0,\"ticks\":\"\"},\"colorscale\":[[0.0,\"#0d0887\"],[0.1111111111111111,\"#46039f\"],[0.2222222222222222,\"#7201a8\"],[0.3333333333333333,\"#9c179e\"],[0.4444444444444444,\"#bd3786\"],[0.5555555555555556,\"#d8576b\"],[0.6666666666666666,\"#ed7953\"],[0.7777777777777778,\"#fb9f3a\"],[0.8888888888888888,\"#fdca26\"],[1.0,\"#f0f921\"]]}],\"mesh3d\":[{\"type\":\"mesh3d\",\"colorbar\":{\"outlinewidth\":0,\"ticks\":\"\"}}],\"scatter\":[{\"fillpattern\":{\"fillmode\":\"overlay\",\"size\":10,\"solidity\":0.2},\"type\":\"scatter\"}],\"parcoords\":[{\"type\":\"parcoords\",\"line\":{\"colorbar\":{\"outlinewidth\":0,\"ticks\":\"\"}}}],\"scatterpolargl\":[{\"type\":\"scatterpolargl\",\"marker\":{\"colorbar\":{\"outlinewidth\":0,\"ticks\":\"\"}}}],\"bar\":[{\"error_x\":{\"color\":\"#2a3f5f\"},\"error_y\":{\"color\":\"#2a3f5f\"},\"marker\":{\"line\":{\"color\":\"#E5ECF6\",\"width\":0.5},\"pattern\":{\"fillmode\":\"overlay\",\"size\":10,\"solidity\":0.2}},\"type\":\"bar\"}],\"scattergeo\":[{\"type\":\"scattergeo\",\"marker\":{\"colorbar\":{\"outlinewidth\":0,\"ticks\":\"\"}}}],\"scatterpolar\":[{\"type\":\"scatterpolar\",\"marker\":{\"colorbar\":{\"outlinewidth\":0,\"ticks\":\"\"}}}],\"histogram\":[{\"marker\":{\"pattern\":{\"fillmode\":\"overlay\",\"size\":10,\"solidity\":0.2}},\"type\":\"histogram\"}],\"scattergl\":[{\"type\":\"scattergl\",\"marker\":{\"colorbar\":{\"outlinewidth\":0,\"ticks\":\"\"}}}],\"scatter3d\":[{\"type\":\"scatter3d\",\"line\":{\"colorbar\":{\"outlinewidth\":0,\"ticks\":\"\"}},\"marker\":{\"colorbar\":{\"outlinewidth\":0,\"ticks\":\"\"}}}],\"scattermapbox\":[{\"type\":\"scattermapbox\",\"marker\":{\"colorbar\":{\"outlinewidth\":0,\"ticks\":\"\"}}}],\"scatterternary\":[{\"type\":\"scatterternary\",\"marker\":{\"colorbar\":{\"outlinewidth\":0,\"ticks\":\"\"}}}],\"scattercarpet\":[{\"type\":\"scattercarpet\",\"marker\":{\"colorbar\":{\"outlinewidth\":0,\"ticks\":\"\"}}}],\"carpet\":[{\"aaxis\":{\"endlinecolor\":\"#2a3f5f\",\"gridcolor\":\"white\",\"linecolor\":\"white\",\"minorgridcolor\":\"white\",\"startlinecolor\":\"#2a3f5f\"},\"baxis\":{\"endlinecolor\":\"#2a3f5f\",\"gridcolor\":\"white\",\"linecolor\":\"white\",\"minorgridcolor\":\"white\",\"startlinecolor\":\"#2a3f5f\"},\"type\":\"carpet\"}],\"table\":[{\"cells\":{\"fill\":{\"color\":\"#EBF0F8\"},\"line\":{\"color\":\"white\"}},\"header\":{\"fill\":{\"color\":\"#C8D4E3\"},\"line\":{\"color\":\"white\"}},\"type\":\"table\"}],\"barpolar\":[{\"marker\":{\"line\":{\"color\":\"#E5ECF6\",\"width\":0.5},\"pattern\":{\"fillmode\":\"overlay\",\"size\":10,\"solidity\":0.2}},\"type\":\"barpolar\"}],\"pie\":[{\"automargin\":true,\"type\":\"pie\"}]},\"layout\":{\"autotypenumbers\":\"strict\",\"colorway\":[\"#636efa\",\"#EF553B\",\"#00cc96\",\"#ab63fa\",\"#FFA15A\",\"#19d3f3\",\"#FF6692\",\"#B6E880\",\"#FF97FF\",\"#FECB52\"],\"font\":{\"color\":\"#2a3f5f\"},\"hovermode\":\"closest\",\"hoverlabel\":{\"align\":\"left\"},\"paper_bgcolor\":\"white\",\"plot_bgcolor\":\"#E5ECF6\",\"polar\":{\"bgcolor\":\"#E5ECF6\",\"angularaxis\":{\"gridcolor\":\"white\",\"linecolor\":\"white\",\"ticks\":\"\"},\"radialaxis\":{\"gridcolor\":\"white\",\"linecolor\":\"white\",\"ticks\":\"\"}},\"ternary\":{\"bgcolor\":\"#E5ECF6\",\"aaxis\":{\"gridcolor\":\"white\",\"linecolor\":\"white\",\"ticks\":\"\"},\"baxis\":{\"gridcolor\":\"white\",\"linecolor\":\"white\",\"ticks\":\"\"},\"caxis\":{\"gridcolor\":\"white\",\"linecolor\":\"white\",\"ticks\":\"\"}},\"coloraxis\":{\"colorbar\":{\"outlinewidth\":0,\"ticks\":\"\"}},\"colorscale\":{\"sequential\":[[0.0,\"#0d0887\"],[0.1111111111111111,\"#46039f\"],[0.2222222222222222,\"#7201a8\"],[0.3333333333333333,\"#9c179e\"],[0.4444444444444444,\"#bd3786\"],[0.5555555555555556,\"#d8576b\"],[0.6666666666666666,\"#ed7953\"],[0.7777777777777778,\"#fb9f3a\"],[0.8888888888888888,\"#fdca26\"],[1.0,\"#f0f921\"]],\"sequentialminus\":[[0.0,\"#0d0887\"],[0.1111111111111111,\"#46039f\"],[0.2222222222222222,\"#7201a8\"],[0.3333333333333333,\"#9c179e\"],[0.4444444444444444,\"#bd3786\"],[0.5555555555555556,\"#d8576b\"],[0.6666666666666666,\"#ed7953\"],[0.7777777777777778,\"#fb9f3a\"],[0.8888888888888888,\"#fdca26\"],[1.0,\"#f0f921\"]],\"diverging\":[[0,\"#8e0152\"],[0.1,\"#c51b7d\"],[0.2,\"#de77ae\"],[0.3,\"#f1b6da\"],[0.4,\"#fde0ef\"],[0.5,\"#f7f7f7\"],[0.6,\"#e6f5d0\"],[0.7,\"#b8e186\"],[0.8,\"#7fbc41\"],[0.9,\"#4d9221\"],[1,\"#276419\"]]},\"xaxis\":{\"gridcolor\":\"white\",\"linecolor\":\"white\",\"ticks\":\"\",\"title\":{\"standoff\":15},\"zerolinecolor\":\"white\",\"automargin\":true,\"zerolinewidth\":2},\"yaxis\":{\"gridcolor\":\"white\",\"linecolor\":\"white\",\"ticks\":\"\",\"title\":{\"standoff\":15},\"zerolinecolor\":\"white\",\"automargin\":true,\"zerolinewidth\":2},\"scene\":{\"xaxis\":{\"backgroundcolor\":\"#E5ECF6\",\"gridcolor\":\"white\",\"linecolor\":\"white\",\"showbackground\":true,\"ticks\":\"\",\"zerolinecolor\":\"white\",\"gridwidth\":2},\"yaxis\":{\"backgroundcolor\":\"#E5ECF6\",\"gridcolor\":\"white\",\"linecolor\":\"white\",\"showbackground\":true,\"ticks\":\"\",\"zerolinecolor\":\"white\",\"gridwidth\":2},\"zaxis\":{\"backgroundcolor\":\"#E5ECF6\",\"gridcolor\":\"white\",\"linecolor\":\"white\",\"showbackground\":true,\"ticks\":\"\",\"zerolinecolor\":\"white\",\"gridwidth\":2}},\"shapedefaults\":{\"line\":{\"color\":\"#2a3f5f\"}},\"annotationdefaults\":{\"arrowcolor\":\"#2a3f5f\",\"arrowhead\":0,\"arrowwidth\":1},\"geo\":{\"bgcolor\":\"white\",\"landcolor\":\"#E5ECF6\",\"subunitcolor\":\"white\",\"showland\":true,\"showlakes\":true,\"lakecolor\":\"white\"},\"title\":{\"x\":0.05},\"mapbox\":{\"style\":\"light\"}}},\"title\":{\"text\":\"Feature f6\"},\"yaxis\":{\"title\":{\"text\":\"Feature values\"}},\"xaxis\":{\"title\":{\"text\":\"Anomaly Score\"}},\"autosize\":false,\"width\":800,\"height\":1000},                        {\"responsive\": true}                    ).then(function(){\n",
       "                            \n",
       "var gd = document.getElementById('3491f59d-60ac-405f-b9c9-60f60c869674');\n",
       "var x = new MutationObserver(function (mutations, observer) {{\n",
       "        var display = window.getComputedStyle(gd).display;\n",
       "        if (!display || display === 'none') {{\n",
       "            console.log([gd, 'removed!']);\n",
       "            Plotly.purge(gd);\n",
       "            observer.disconnect();\n",
       "        }}\n",
       "}});\n",
       "\n",
       "// Listen for the removal of the full notebook cells\n",
       "var notebookContainer = gd.closest('#notebook-container');\n",
       "if (notebookContainer) {{\n",
       "    x.observe(notebookContainer, {childList: true});\n",
       "}}\n",
       "\n",
       "// Listen for the clearing of the current output cell\n",
       "var outputEl = gd.closest('.output');\n",
       "if (outputEl) {{\n",
       "    x.observe(outputEl, {childList: true});\n",
       "}}\n",
       "\n",
       "                        })                };                            </script>        </div>\n",
       "</body>\n",
       "</html>"
      ]
     },
     "metadata": {},
     "output_type": "display_data"
    }
   ],
   "source": [
    "import plotly.graph_objects as go\n",
    "\n",
    "actual_score = imp_table['mean_prediction'].values[0]\n",
    "actual_values = imp_table.loc[imp_table['quantile'] == imp_table['local_quantile'].values[0], 'original'].values[0]\n",
    "color = 'red' if actual_score > 0 else 'blue'\n",
    "\n",
    "fig = go.Figure()\n",
    "fig.add_bar(x = imp_table.loc[imp_table.direction=='anomalies','effect'], y = imp_table.loc[imp_table.direction=='anomalies','original'].values, base =  imp_table['mean_prediction'].values[0], marker=dict(color = 'blue'), name = 'Anomalies',orientation='h', )\n",
    "\n",
    "fig.add_bar(x = imp_table.loc[imp_table.direction=='normal','effect'], y = imp_table.loc[imp_table.direction=='normal','original'].values, base =  imp_table['mean_prediction'].values[0], marker=dict(color = 'red'), name = 'Normal', orientation='h',)\n",
    "\n",
    "fig.add_scatter( y = [ imp_table['original'].values[0]*0.9 ,imp_table['original'].values[-1]*1.05 ],\n",
    "                 x = [ actual_score,actual_score ], mode='lines',\n",
    "                name = 'actual score', line=dict(color = color ,width=2,dash=\"dash\") )\n",
    "\n",
    "fig.add_scatter( y = [ imp_table['original'].values[0]*0.9 ,imp_table['original'].values[-1]*1.05 ],\n",
    "                 x = [ 0,0 ], mode='lines',\n",
    "                 line=dict(color=\"black\",width=2),  name = 'change point')\n",
    "\n",
    "\n",
    "fig.add_scatter( x = [ actual_score ],\n",
    "                 y = [ actual_values], mode='markers',\n",
    "                 marker=dict(size=20,color=color),  name = 'current value')\n",
    "\n",
    "fig.update_layout(title='Feature ' + str(feature), \n",
    "                  yaxis_title = \"Feature values\",\n",
    "                  xaxis_title = \"Anomaly Score\", autosize=False, width=800, height=1000 )\n",
    "\n",
    "fig.show()"
   ]
  },
  {
   "cell_type": "code",
   "execution_count": null,
   "metadata": {},
   "outputs": [],
   "source": []
  },
  {
   "cell_type": "code",
   "execution_count": null,
   "metadata": {},
   "outputs": [],
   "source": []
  }
 ],
 "metadata": {
  "kernelspec": {
   "display_name": "Python 3 (ipykernel)",
   "language": "python",
   "name": "python3"
  },
  "language_info": {
   "codemirror_mode": {
    "name": "ipython",
    "version": 3
   },
   "file_extension": ".py",
   "mimetype": "text/x-python",
   "name": "python",
   "nbconvert_exporter": "python",
   "pygments_lexer": "ipython3",
   "version": "3.8.12"
  }
 },
 "nbformat": 4,
 "nbformat_minor": 4
}
