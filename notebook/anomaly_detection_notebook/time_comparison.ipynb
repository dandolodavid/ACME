{
 "cells": [
  {
   "cell_type": "code",
   "execution_count": 10,
   "metadata": {},
   "outputs": [],
   "source": [
    "import numpy as np\n",
    "import pandas as pd \n",
    "import sys\n",
    "import os \n",
    "import time\n",
    "import random\n",
    "import shap\n",
    "from sklearn.ensemble import IsolationForest\n",
    "from sklearn.metrics import precision_recall_fscore_support\n",
    "\n",
    "sys.path.append(\"../../\")\n",
    "from ACME.ACME import ACME \n",
    "sys.path.remove(\"../../\")\n",
    "\n",
    "np.random.seed(0)\n",
    "random.seed(0)"
   ]
  },
  {
   "cell_type": "markdown",
   "metadata": {},
   "source": [
    "# Time comparison between AcME-AD and KernelSHAP on Satellite\n",
    "In this notebook we compute the time required by AcME-AD to compute explanations by respect to the time required by KernelSHAP, showing AcME-AD computational efficiency. \n",
    "We perform experiments on the Satellite Dataset.\n",
    "\n",
    "We compare the times to explain different number of anomalies or by using various percentages of subsample of the background data for KernelSHAP or with different number of coalitions, as suggested in the official documentation (https://shap-lrjball.readthedocs.io/en/latest/generated/shap.KernelExplainer.html). \n",
    "\n",
    "- fix size of background sample (entire dataset) and default number of coalitions: explain 20, 40, 60, 80, 100% of predicted anomalies \n",
    "- explain 10 anomalies by using random 25, 50 , 75 and 100 % samples of the dataset as background samples, with default number of coalitions\n",
    "- explain 10 anomalies by using entire dataset and background sample by considering 25, 50, 75, 100 percentage of default number of coalitions. "
   ]
  },
  {
   "cell_type": "markdown",
   "metadata": {},
   "source": [
    "## Dataset \n",
    "Satellite dataset (https://archive.ics.uci.edu/dataset/146/statlog+landsat+satellite) is a classification dataset with 36 integer features, 6435 instances and 7 classes. To make it a anomaly detection dataset, we merge the training and test set and we mark the smallest classes, that is 2-4-5 as outliers, while the others as inliers. \n",
    "\n",
    "Class 1: 1533 samples | Class 2: 703 samples | Class 3: 1358 samples | Class 4: 626 samples | Class 5: 707 samples | Class 7: 1508 samples"
   ]
  },
  {
   "cell_type": "code",
   "execution_count": 2,
   "metadata": {},
   "outputs": [
    {
     "data": {
      "text/html": [
       "<div>\n",
       "<style scoped>\n",
       "    .dataframe tbody tr th:only-of-type {\n",
       "        vertical-align: middle;\n",
       "    }\n",
       "\n",
       "    .dataframe tbody tr th {\n",
       "        vertical-align: top;\n",
       "    }\n",
       "\n",
       "    .dataframe thead th {\n",
       "        text-align: right;\n",
       "    }\n",
       "</style>\n",
       "<table border=\"1\" class=\"dataframe\">\n",
       "  <thead>\n",
       "    <tr style=\"text-align: right;\">\n",
       "      <th></th>\n",
       "      <th>0</th>\n",
       "      <th>1</th>\n",
       "      <th>2</th>\n",
       "      <th>3</th>\n",
       "      <th>4</th>\n",
       "      <th>5</th>\n",
       "      <th>6</th>\n",
       "      <th>7</th>\n",
       "      <th>8</th>\n",
       "      <th>9</th>\n",
       "      <th>...</th>\n",
       "      <th>28</th>\n",
       "      <th>29</th>\n",
       "      <th>30</th>\n",
       "      <th>31</th>\n",
       "      <th>32</th>\n",
       "      <th>33</th>\n",
       "      <th>34</th>\n",
       "      <th>35</th>\n",
       "      <th>type</th>\n",
       "      <th>Target</th>\n",
       "    </tr>\n",
       "  </thead>\n",
       "  <tbody>\n",
       "    <tr>\n",
       "      <th>0</th>\n",
       "      <td>92</td>\n",
       "      <td>115</td>\n",
       "      <td>120</td>\n",
       "      <td>94</td>\n",
       "      <td>84</td>\n",
       "      <td>102</td>\n",
       "      <td>106</td>\n",
       "      <td>79</td>\n",
       "      <td>84</td>\n",
       "      <td>102</td>\n",
       "      <td>...</td>\n",
       "      <td>88</td>\n",
       "      <td>121</td>\n",
       "      <td>128</td>\n",
       "      <td>100</td>\n",
       "      <td>84</td>\n",
       "      <td>107</td>\n",
       "      <td>113</td>\n",
       "      <td>87</td>\n",
       "      <td>3</td>\n",
       "      <td>0</td>\n",
       "    </tr>\n",
       "    <tr>\n",
       "      <th>1</th>\n",
       "      <td>84</td>\n",
       "      <td>102</td>\n",
       "      <td>106</td>\n",
       "      <td>79</td>\n",
       "      <td>84</td>\n",
       "      <td>102</td>\n",
       "      <td>102</td>\n",
       "      <td>83</td>\n",
       "      <td>80</td>\n",
       "      <td>102</td>\n",
       "      <td>...</td>\n",
       "      <td>84</td>\n",
       "      <td>107</td>\n",
       "      <td>113</td>\n",
       "      <td>87</td>\n",
       "      <td>84</td>\n",
       "      <td>99</td>\n",
       "      <td>104</td>\n",
       "      <td>79</td>\n",
       "      <td>3</td>\n",
       "      <td>0</td>\n",
       "    </tr>\n",
       "    <tr>\n",
       "      <th>2</th>\n",
       "      <td>84</td>\n",
       "      <td>102</td>\n",
       "      <td>102</td>\n",
       "      <td>83</td>\n",
       "      <td>80</td>\n",
       "      <td>102</td>\n",
       "      <td>102</td>\n",
       "      <td>79</td>\n",
       "      <td>84</td>\n",
       "      <td>94</td>\n",
       "      <td>...</td>\n",
       "      <td>84</td>\n",
       "      <td>99</td>\n",
       "      <td>104</td>\n",
       "      <td>79</td>\n",
       "      <td>84</td>\n",
       "      <td>99</td>\n",
       "      <td>104</td>\n",
       "      <td>79</td>\n",
       "      <td>3</td>\n",
       "      <td>0</td>\n",
       "    </tr>\n",
       "    <tr>\n",
       "      <th>3</th>\n",
       "      <td>80</td>\n",
       "      <td>102</td>\n",
       "      <td>102</td>\n",
       "      <td>79</td>\n",
       "      <td>84</td>\n",
       "      <td>94</td>\n",
       "      <td>102</td>\n",
       "      <td>79</td>\n",
       "      <td>80</td>\n",
       "      <td>94</td>\n",
       "      <td>...</td>\n",
       "      <td>84</td>\n",
       "      <td>99</td>\n",
       "      <td>104</td>\n",
       "      <td>79</td>\n",
       "      <td>84</td>\n",
       "      <td>103</td>\n",
       "      <td>104</td>\n",
       "      <td>79</td>\n",
       "      <td>3</td>\n",
       "      <td>0</td>\n",
       "    </tr>\n",
       "    <tr>\n",
       "      <th>4</th>\n",
       "      <td>84</td>\n",
       "      <td>94</td>\n",
       "      <td>102</td>\n",
       "      <td>79</td>\n",
       "      <td>80</td>\n",
       "      <td>94</td>\n",
       "      <td>98</td>\n",
       "      <td>76</td>\n",
       "      <td>80</td>\n",
       "      <td>102</td>\n",
       "      <td>...</td>\n",
       "      <td>84</td>\n",
       "      <td>103</td>\n",
       "      <td>104</td>\n",
       "      <td>79</td>\n",
       "      <td>79</td>\n",
       "      <td>107</td>\n",
       "      <td>109</td>\n",
       "      <td>87</td>\n",
       "      <td>3</td>\n",
       "      <td>0</td>\n",
       "    </tr>\n",
       "    <tr>\n",
       "      <th>...</th>\n",
       "      <td>...</td>\n",
       "      <td>...</td>\n",
       "      <td>...</td>\n",
       "      <td>...</td>\n",
       "      <td>...</td>\n",
       "      <td>...</td>\n",
       "      <td>...</td>\n",
       "      <td>...</td>\n",
       "      <td>...</td>\n",
       "      <td>...</td>\n",
       "      <td>...</td>\n",
       "      <td>...</td>\n",
       "      <td>...</td>\n",
       "      <td>...</td>\n",
       "      <td>...</td>\n",
       "      <td>...</td>\n",
       "      <td>...</td>\n",
       "      <td>...</td>\n",
       "      <td>...</td>\n",
       "      <td>...</td>\n",
       "      <td>...</td>\n",
       "    </tr>\n",
       "    <tr>\n",
       "      <th>6430</th>\n",
       "      <td>60</td>\n",
       "      <td>83</td>\n",
       "      <td>96</td>\n",
       "      <td>85</td>\n",
       "      <td>64</td>\n",
       "      <td>87</td>\n",
       "      <td>100</td>\n",
       "      <td>88</td>\n",
       "      <td>64</td>\n",
       "      <td>83</td>\n",
       "      <td>...</td>\n",
       "      <td>66</td>\n",
       "      <td>87</td>\n",
       "      <td>108</td>\n",
       "      <td>89</td>\n",
       "      <td>63</td>\n",
       "      <td>83</td>\n",
       "      <td>104</td>\n",
       "      <td>85</td>\n",
       "      <td>1</td>\n",
       "      <td>0</td>\n",
       "    </tr>\n",
       "    <tr>\n",
       "      <th>6431</th>\n",
       "      <td>64</td>\n",
       "      <td>79</td>\n",
       "      <td>100</td>\n",
       "      <td>85</td>\n",
       "      <td>56</td>\n",
       "      <td>71</td>\n",
       "      <td>96</td>\n",
       "      <td>85</td>\n",
       "      <td>56</td>\n",
       "      <td>68</td>\n",
       "      <td>...</td>\n",
       "      <td>66</td>\n",
       "      <td>83</td>\n",
       "      <td>100</td>\n",
       "      <td>85</td>\n",
       "      <td>63</td>\n",
       "      <td>83</td>\n",
       "      <td>100</td>\n",
       "      <td>81</td>\n",
       "      <td>1</td>\n",
       "      <td>0</td>\n",
       "    </tr>\n",
       "    <tr>\n",
       "      <th>6432</th>\n",
       "      <td>56</td>\n",
       "      <td>68</td>\n",
       "      <td>91</td>\n",
       "      <td>81</td>\n",
       "      <td>56</td>\n",
       "      <td>64</td>\n",
       "      <td>91</td>\n",
       "      <td>81</td>\n",
       "      <td>53</td>\n",
       "      <td>64</td>\n",
       "      <td>...</td>\n",
       "      <td>59</td>\n",
       "      <td>87</td>\n",
       "      <td>96</td>\n",
       "      <td>81</td>\n",
       "      <td>63</td>\n",
       "      <td>83</td>\n",
       "      <td>92</td>\n",
       "      <td>74</td>\n",
       "      <td>5</td>\n",
       "      <td>1</td>\n",
       "    </tr>\n",
       "    <tr>\n",
       "      <th>6433</th>\n",
       "      <td>56</td>\n",
       "      <td>68</td>\n",
       "      <td>87</td>\n",
       "      <td>74</td>\n",
       "      <td>60</td>\n",
       "      <td>71</td>\n",
       "      <td>91</td>\n",
       "      <td>81</td>\n",
       "      <td>60</td>\n",
       "      <td>64</td>\n",
       "      <td>...</td>\n",
       "      <td>59</td>\n",
       "      <td>83</td>\n",
       "      <td>92</td>\n",
       "      <td>74</td>\n",
       "      <td>59</td>\n",
       "      <td>83</td>\n",
       "      <td>92</td>\n",
       "      <td>70</td>\n",
       "      <td>5</td>\n",
       "      <td>1</td>\n",
       "    </tr>\n",
       "    <tr>\n",
       "      <th>6434</th>\n",
       "      <td>60</td>\n",
       "      <td>71</td>\n",
       "      <td>91</td>\n",
       "      <td>81</td>\n",
       "      <td>60</td>\n",
       "      <td>64</td>\n",
       "      <td>104</td>\n",
       "      <td>99</td>\n",
       "      <td>56</td>\n",
       "      <td>64</td>\n",
       "      <td>...</td>\n",
       "      <td>59</td>\n",
       "      <td>83</td>\n",
       "      <td>92</td>\n",
       "      <td>70</td>\n",
       "      <td>63</td>\n",
       "      <td>79</td>\n",
       "      <td>108</td>\n",
       "      <td>92</td>\n",
       "      <td>5</td>\n",
       "      <td>1</td>\n",
       "    </tr>\n",
       "  </tbody>\n",
       "</table>\n",
       "<p>6435 rows × 38 columns</p>\n",
       "</div>"
      ],
      "text/plain": [
       "       0    1    2   3   4    5    6   7   8    9  ...  28   29   30   31  32  \\\n",
       "0     92  115  120  94  84  102  106  79  84  102  ...  88  121  128  100  84   \n",
       "1     84  102  106  79  84  102  102  83  80  102  ...  84  107  113   87  84   \n",
       "2     84  102  102  83  80  102  102  79  84   94  ...  84   99  104   79  84   \n",
       "3     80  102  102  79  84   94  102  79  80   94  ...  84   99  104   79  84   \n",
       "4     84   94  102  79  80   94   98  76  80  102  ...  84  103  104   79  79   \n",
       "...   ..  ...  ...  ..  ..  ...  ...  ..  ..  ...  ...  ..  ...  ...  ...  ..   \n",
       "6430  60   83   96  85  64   87  100  88  64   83  ...  66   87  108   89  63   \n",
       "6431  64   79  100  85  56   71   96  85  56   68  ...  66   83  100   85  63   \n",
       "6432  56   68   91  81  56   64   91  81  53   64  ...  59   87   96   81  63   \n",
       "6433  56   68   87  74  60   71   91  81  60   64  ...  59   83   92   74  59   \n",
       "6434  60   71   91  81  60   64  104  99  56   64  ...  59   83   92   70  63   \n",
       "\n",
       "       33   34  35  type  Target  \n",
       "0     107  113  87     3       0  \n",
       "1      99  104  79     3       0  \n",
       "2      99  104  79     3       0  \n",
       "3     103  104  79     3       0  \n",
       "4     107  109  87     3       0  \n",
       "...   ...  ...  ..   ...     ...  \n",
       "6430   83  104  85     1       0  \n",
       "6431   83  100  81     1       0  \n",
       "6432   83   92  74     5       1  \n",
       "6433   83   92  70     5       1  \n",
       "6434   79  108  92     5       1  \n",
       "\n",
       "[6435 rows x 38 columns]"
      ]
     },
     "metadata": {},
     "output_type": "display_data"
    }
   ],
   "source": [
    "with open(\"ad_datasets/satellite/sat.trn\", \"r\") as f:\n",
    "    data = f.readlines()\n",
    "data = [x.strip().split() for x in data]\n",
    "df = pd.DataFrame(data)\n",
    "\n",
    "with open(\"ad_datasets/satellite/sat.tst\", \"r\") as f:\n",
    "    data = f.readlines()\n",
    "data = [x.strip().split() for x in data]\n",
    "df_test = pd.DataFrame(data)\n",
    "\n",
    "data = pd.concat([df, df_test]).reset_index(drop=True)\n",
    "data.rename(columns={36: \"type\"}, inplace=True)\n",
    "\n",
    "# drop nan, replace empty strings with 0, convert to int \n",
    "data = data.replace(\"\", 0)\n",
    "data = data.astype(int)\n",
    "data = data.dropna()\n",
    "\n",
    "# classes 2-4-5 have \"Target\" = 1, else 0\n",
    "data[\"Target\"] = data[\"type\"].apply(lambda x: 1 if x in [2, 4, 5] else 0)\n",
    "features = data.columns[:-2]\n",
    "display(data)"
   ]
  },
  {
   "cell_type": "markdown",
   "metadata": {},
   "source": [
    "## Training of Isolation Forest"
   ]
  },
  {
   "cell_type": "code",
   "execution_count": 3,
   "metadata": {},
   "outputs": [],
   "source": [
    "def score_function(model, X): \n",
    "    return 0.5 * (-model.decision_function(X) + 1)"
   ]
  },
  {
   "cell_type": "code",
   "execution_count": 4,
   "metadata": {},
   "outputs": [
    {
     "name": "stdout",
     "output_type": "stream",
     "text": [
      "Precision: 0.825, Recall: 0.432, F1: 0.567\n"
     ]
    }
   ],
   "source": [
    "iforest = IsolationForest().fit(data[features])\n",
    "data[\"Score\"] = score_function(iforest, data[features])\n",
    "data[\"Prediction\"] = iforest.predict(data[features])\n",
    "data[\"Prediction\"] = data[\"Prediction\"].apply(lambda x: 1 if x == -1 else 0)\n",
    "precision, recall, f1, _ = precision_recall_fscore_support(data[\"Target\"], data[\"Prediction\"], average=\"binary\")\n",
    "print(\"Precision: {:.3f}, Recall: {:.3f}, F1: {:.3f}\".format(precision, recall, f1))"
   ]
  },
  {
   "cell_type": "markdown",
   "metadata": {},
   "source": [
    "## Explanations"
   ]
  },
  {
   "cell_type": "code",
   "execution_count": 5,
   "metadata": {},
   "outputs": [],
   "source": [
    "data_to_explain = data[data[\"Prediction\"]==1].reset_index(drop=True)"
   ]
  },
  {
   "cell_type": "code",
   "execution_count": 6,
   "metadata": {},
   "outputs": [],
   "source": [
    "def score_functions_shap(X): \n",
    "    return 0.5 * (iforest.decision_function(X) + 1)"
   ]
  },
  {
   "cell_type": "markdown",
   "metadata": {},
   "source": [
    "### Explanations for different size of background dataset\n",
    "Explain 10 anomalies using different sizes of backround dataset for KernelSHAP"
   ]
  },
  {
   "cell_type": "code",
   "execution_count": null,
   "metadata": {},
   "outputs": [],
   "source": [
    "file_path = \"results/shap_times_satellite_background.txt\"\n",
    "\n",
    "percentages = [0.25, 0.5, 0.75, 1]\n",
    "reduced_datasets = [data.sample(frac=percentage, random_state=0) for percentage in percentages]\n",
    "anomalies_back = data_to_explain.sample(n=10).reset_index(drop=True)\n",
    "\n",
    "shap_background_times = []\n",
    "for i in range(len(reduced_datasets)): \n",
    "    start_time = time.time()\n",
    "    shap_explainer = shap.KernelExplainer(score_functions_shap, reduced_datasets[i][features].values)\n",
    "    shap_exp = shap_explainer.shap_values(anomalies_back[features].values)\n",
    "    stop_time = time.time()\n",
    "    shap_background_times.append(stop_time - start_time)\n",
    "    print(\"KernelSHAP {:d}: {:.3f} seconds\".format(i, stop_time - start_time))\n",
    "    with open(file_path, \"a\") as f: \n",
    "        f.write(\"KernelSHAP {:d}:: {:.3f} seconds\\n\".format(i, stop_time - start_time))"
   ]
  },
  {
   "cell_type": "code",
   "execution_count": null,
   "metadata": {},
   "outputs": [],
   "source": [
    "# acme-ad for 10 anomalies \n",
    "start_time = time.time()\n",
    "acme_exp = ACME(iforest, \"Score\", features, K=50, task=\"ad\", score_function=score_function)\n",
    "acme_exp = acme_exp.explain(data, True)\n",
    "for i in range(len(anomalies_back)): \n",
    "    acme_loc = acme_exp.explain_local(anomalies_back.iloc[i])\n",
    "    acme_loc.feature_importance(local=True)\n",
    "stop_time = time.time()\n",
    "print(\"ACME-AD: {:.3f} seconds\".format(stop_time - start_time))\n",
    "with open(file_path, \"a\") as f: \n",
    "    f.write(\"ACME-AD: {:.3f} seconds\\n\".format(stop_time - start_time))"
   ]
  },
  {
   "cell_type": "markdown",
   "metadata": {},
   "source": [
    "### Explanations for different number of coalitions"
   ]
  },
  {
   "cell_type": "code",
   "execution_count": null,
   "metadata": {},
   "outputs": [],
   "source": [
    "file_path = \"results/shap_times_satellite_coalitions.txt\"\n",
    "\n",
    "percentages = [0.25, 0.5, 0.75, 1]\n",
    "anomalies_coal = data_to_explain.sample(n=10).reset_index(drop=True)\n",
    "K = 2*len(features) + 2048\n",
    "coalitions = [int(K*percentage) for percentage in percentages]\n",
    "\n",
    "shap_coalition_times = []\n",
    "for i in range(len(coalitions)): \n",
    "    start_time = time.time()\n",
    "    shap_explainer = shap.KernelExplainer(score_functions_shap, data[features].values)\n",
    "    shap_exp = shap_explainer.shap_values(anomalies_coal[features].values, nsamples=coalitions[i])\n",
    "    stop_time = time.time()\n",
    "    shap_coalition_times.append(stop_time - start_time)\n",
    "    print(\"KernelSHAP {:d}: {:.3f} seconds\".format(i, stop_time - start_time))\n",
    "    with open(file_path, \"a\") as f: \n",
    "        f.write(\"KernelSHAP {:d}: {:.3f} seconds\\n\".format(i, stop_time - start_time))"
   ]
  },
  {
   "cell_type": "markdown",
   "metadata": {},
   "source": [
    "### Explanation for different numer of anomalies\n",
    "We fix the size of the background sample as the complete dataset, we keep the default number of coalitions and we compute the time to explain the 0.2, 0.4, 0.6, 0.6 and 1.0 of the predicted anomalies. "
   ]
  },
  {
   "cell_type": "code",
   "execution_count": 7,
   "metadata": {},
   "outputs": [],
   "source": [
    "percentages = [0.2, 0.4, 0.6, 0.8, 1.0]\n",
    "sampled_anomalies = [data_to_explain.sample(frac=percentage, random_state=0).reset_index(drop=True) for percentage in percentages]\n",
    "\n",
    "# AcME-AD explantion times \n",
    "file_path = \"results/acme_ad_times_satellite.txt\"\n",
    "acme_times = []\n",
    "for i in range(len(sampled_anomalies)): \n",
    "    start_time = time.time()\n",
    "    acme_exp = ACME(iforest, \"Score\", features, K=50, task=\"ad\", score_function=score_function)\n",
    "    acme_exp = acme_exp.explain(data, True)\n",
    "\n",
    "    for idx in sampled_anomalies[i].index: \n",
    "        acme_loc = acme_exp.explain_local(sampled_anomalies[i].loc[idx])\n",
    "        acme_loc.feature_importance(local=True)\n",
    "    \n",
    "    stop_time = time.time()\n",
    "    acme_times.append(stop_time - start_time)\n",
    "    print(\"AcME-AD {:d}: {:.3f} seconds\".format(i, stop_time - start_time))\n",
    "    with open(file_path, \"a\") as f: \n",
    "        f.write(\"AcME-AD {:d}: {:.3f} seconds\\n\".format(i, stop_time - start_time))"
   ]
  },
  {
   "cell_type": "code",
   "execution_count": null,
   "metadata": {},
   "outputs": [],
   "source": [
    "# KernelSHAP explanation times \n",
    "shap_times = []\n",
    "for i in range(len(sampled_anomalies)): \n",
    "    start_time = time.time()\n",
    "    shap_explainer = shap.KernelExplainer(score_functions_shap, data[features].values)\n",
    "    shap_exp = shap_explainer.shap_values(sampled_anomalies[i][features].values)\n",
    "    stop_time = time.time()\n",
    "    shap_times.append(stop_time - start_time)\n",
    "    print(\"KernelSHAP {:d}: {:.3f} seconds\".format(i, stop_time - start_time))\n",
    "    with open(file_path, \"a\") as f: \n",
    "        f.write(\"KernelSHAP {:d}: {:.3f} seconds\\n\".format(i, stop_time - start_time))\n"
   ]
  },
  {
   "cell_type": "markdown",
   "metadata": {},
   "source": [
    "#### Plot the time comparison"
   ]
  },
  {
   "cell_type": "code",
   "execution_count": 8,
   "metadata": {},
   "outputs": [
    {
     "name": "stdout",
     "output_type": "stream",
     "text": [
      "['AcME-AD 0: 276.163 seconds\\n', 'AcME-AD 1: 551.755 seconds\\n', 'AcME-AD 2: 832.436 seconds\\n', 'AcME-AD 3: 1126.952 seconds\\n', 'AcME-AD 4: 1386.858 seconds\\n', 'KernelSHAP 0: 13570.471 seconds\\n', 'KernelSHAP 1: 27405.015 seconds\\n', 'KernelSHAP 2: 40946.524 seconds\\n', 'KernelSHAP 3: 57697.510 seconds\\n', 'KernelSHAP 4: 69216.735 seconds\\n']\n"
     ]
    }
   ],
   "source": [
    "# # upload saved results\n",
    "# acme_times, shap_times = [], []\n",
    "\n",
    "# with open(\"results/acme_ad_times_satellite.txt\", \"r\") as f:\n",
    "#     lines = f.readlines()\n",
    "\n",
    "# print(lines)\n",
    "\n",
    "# for line in lines: \n",
    "#     method, time = line.strip().split(\": \")\n",
    "#     if \"AcME-AD\" in method: \n",
    "#         acme_times.append(float(time.split()[0]))\n",
    "#     elif \"KernelSHAP\" in method:\n",
    "#         shap_times.append(float(time.split()[0]))"
   ]
  },
  {
   "cell_type": "code",
   "execution_count": 15,
   "metadata": {},
   "outputs": [
    {
     "data": {
      "application/vnd.plotly.v1+json": {
       "config": {
        "plotlyServerURL": "https://plot.ly"
       },
       "data": [
        {
         "line": {
          "color": "blue"
         },
         "marker": {
          "color": "blue"
         },
         "mode": "lines+markers",
         "name": "AcME-AD",
         "type": "scatter",
         "x": [
          213,
          426,
          639,
          852,
          1065
         ],
         "y": [
          276.163,
          551.755,
          832.436,
          1126.952,
          1386.858
         ]
        },
        {
         "line": {
          "color": "orange"
         },
         "marker": {
          "color": "orange"
         },
         "mode": "lines+markers",
         "name": "KernelSHAP",
         "type": "scatter",
         "x": [
          213,
          426,
          639,
          852,
          1065
         ],
         "y": [
          13570.471,
          27405.015,
          40946.524,
          57697.51,
          69216.735
         ]
        }
       ],
       "layout": {
        "font": {
         "size": 18
        },
        "height": 719.9999999999999,
        "hovermode": "x",
        "showlegend": true,
        "template": {
         "data": {
          "bar": [
           {
            "error_x": {
             "color": "#2a3f5f"
            },
            "error_y": {
             "color": "#2a3f5f"
            },
            "marker": {
             "line": {
              "color": "#E5ECF6",
              "width": 0.5
             },
             "pattern": {
              "fillmode": "overlay",
              "size": 10,
              "solidity": 0.2
             }
            },
            "type": "bar"
           }
          ],
          "barpolar": [
           {
            "marker": {
             "line": {
              "color": "#E5ECF6",
              "width": 0.5
             },
             "pattern": {
              "fillmode": "overlay",
              "size": 10,
              "solidity": 0.2
             }
            },
            "type": "barpolar"
           }
          ],
          "carpet": [
           {
            "aaxis": {
             "endlinecolor": "#2a3f5f",
             "gridcolor": "white",
             "linecolor": "white",
             "minorgridcolor": "white",
             "startlinecolor": "#2a3f5f"
            },
            "baxis": {
             "endlinecolor": "#2a3f5f",
             "gridcolor": "white",
             "linecolor": "white",
             "minorgridcolor": "white",
             "startlinecolor": "#2a3f5f"
            },
            "type": "carpet"
           }
          ],
          "choropleth": [
           {
            "colorbar": {
             "outlinewidth": 0,
             "ticks": ""
            },
            "type": "choropleth"
           }
          ],
          "contour": [
           {
            "colorbar": {
             "outlinewidth": 0,
             "ticks": ""
            },
            "colorscale": [
             [
              0,
              "#0d0887"
             ],
             [
              0.1111111111111111,
              "#46039f"
             ],
             [
              0.2222222222222222,
              "#7201a8"
             ],
             [
              0.3333333333333333,
              "#9c179e"
             ],
             [
              0.4444444444444444,
              "#bd3786"
             ],
             [
              0.5555555555555556,
              "#d8576b"
             ],
             [
              0.6666666666666666,
              "#ed7953"
             ],
             [
              0.7777777777777778,
              "#fb9f3a"
             ],
             [
              0.8888888888888888,
              "#fdca26"
             ],
             [
              1,
              "#f0f921"
             ]
            ],
            "type": "contour"
           }
          ],
          "contourcarpet": [
           {
            "colorbar": {
             "outlinewidth": 0,
             "ticks": ""
            },
            "type": "contourcarpet"
           }
          ],
          "heatmap": [
           {
            "colorbar": {
             "outlinewidth": 0,
             "ticks": ""
            },
            "colorscale": [
             [
              0,
              "#0d0887"
             ],
             [
              0.1111111111111111,
              "#46039f"
             ],
             [
              0.2222222222222222,
              "#7201a8"
             ],
             [
              0.3333333333333333,
              "#9c179e"
             ],
             [
              0.4444444444444444,
              "#bd3786"
             ],
             [
              0.5555555555555556,
              "#d8576b"
             ],
             [
              0.6666666666666666,
              "#ed7953"
             ],
             [
              0.7777777777777778,
              "#fb9f3a"
             ],
             [
              0.8888888888888888,
              "#fdca26"
             ],
             [
              1,
              "#f0f921"
             ]
            ],
            "type": "heatmap"
           }
          ],
          "heatmapgl": [
           {
            "colorbar": {
             "outlinewidth": 0,
             "ticks": ""
            },
            "colorscale": [
             [
              0,
              "#0d0887"
             ],
             [
              0.1111111111111111,
              "#46039f"
             ],
             [
              0.2222222222222222,
              "#7201a8"
             ],
             [
              0.3333333333333333,
              "#9c179e"
             ],
             [
              0.4444444444444444,
              "#bd3786"
             ],
             [
              0.5555555555555556,
              "#d8576b"
             ],
             [
              0.6666666666666666,
              "#ed7953"
             ],
             [
              0.7777777777777778,
              "#fb9f3a"
             ],
             [
              0.8888888888888888,
              "#fdca26"
             ],
             [
              1,
              "#f0f921"
             ]
            ],
            "type": "heatmapgl"
           }
          ],
          "histogram": [
           {
            "marker": {
             "pattern": {
              "fillmode": "overlay",
              "size": 10,
              "solidity": 0.2
             }
            },
            "type": "histogram"
           }
          ],
          "histogram2d": [
           {
            "colorbar": {
             "outlinewidth": 0,
             "ticks": ""
            },
            "colorscale": [
             [
              0,
              "#0d0887"
             ],
             [
              0.1111111111111111,
              "#46039f"
             ],
             [
              0.2222222222222222,
              "#7201a8"
             ],
             [
              0.3333333333333333,
              "#9c179e"
             ],
             [
              0.4444444444444444,
              "#bd3786"
             ],
             [
              0.5555555555555556,
              "#d8576b"
             ],
             [
              0.6666666666666666,
              "#ed7953"
             ],
             [
              0.7777777777777778,
              "#fb9f3a"
             ],
             [
              0.8888888888888888,
              "#fdca26"
             ],
             [
              1,
              "#f0f921"
             ]
            ],
            "type": "histogram2d"
           }
          ],
          "histogram2dcontour": [
           {
            "colorbar": {
             "outlinewidth": 0,
             "ticks": ""
            },
            "colorscale": [
             [
              0,
              "#0d0887"
             ],
             [
              0.1111111111111111,
              "#46039f"
             ],
             [
              0.2222222222222222,
              "#7201a8"
             ],
             [
              0.3333333333333333,
              "#9c179e"
             ],
             [
              0.4444444444444444,
              "#bd3786"
             ],
             [
              0.5555555555555556,
              "#d8576b"
             ],
             [
              0.6666666666666666,
              "#ed7953"
             ],
             [
              0.7777777777777778,
              "#fb9f3a"
             ],
             [
              0.8888888888888888,
              "#fdca26"
             ],
             [
              1,
              "#f0f921"
             ]
            ],
            "type": "histogram2dcontour"
           }
          ],
          "mesh3d": [
           {
            "colorbar": {
             "outlinewidth": 0,
             "ticks": ""
            },
            "type": "mesh3d"
           }
          ],
          "parcoords": [
           {
            "line": {
             "colorbar": {
              "outlinewidth": 0,
              "ticks": ""
             }
            },
            "type": "parcoords"
           }
          ],
          "pie": [
           {
            "automargin": true,
            "type": "pie"
           }
          ],
          "scatter": [
           {
            "fillpattern": {
             "fillmode": "overlay",
             "size": 10,
             "solidity": 0.2
            },
            "type": "scatter"
           }
          ],
          "scatter3d": [
           {
            "line": {
             "colorbar": {
              "outlinewidth": 0,
              "ticks": ""
             }
            },
            "marker": {
             "colorbar": {
              "outlinewidth": 0,
              "ticks": ""
             }
            },
            "type": "scatter3d"
           }
          ],
          "scattercarpet": [
           {
            "marker": {
             "colorbar": {
              "outlinewidth": 0,
              "ticks": ""
             }
            },
            "type": "scattercarpet"
           }
          ],
          "scattergeo": [
           {
            "marker": {
             "colorbar": {
              "outlinewidth": 0,
              "ticks": ""
             }
            },
            "type": "scattergeo"
           }
          ],
          "scattergl": [
           {
            "marker": {
             "colorbar": {
              "outlinewidth": 0,
              "ticks": ""
             }
            },
            "type": "scattergl"
           }
          ],
          "scattermapbox": [
           {
            "marker": {
             "colorbar": {
              "outlinewidth": 0,
              "ticks": ""
             }
            },
            "type": "scattermapbox"
           }
          ],
          "scatterpolar": [
           {
            "marker": {
             "colorbar": {
              "outlinewidth": 0,
              "ticks": ""
             }
            },
            "type": "scatterpolar"
           }
          ],
          "scatterpolargl": [
           {
            "marker": {
             "colorbar": {
              "outlinewidth": 0,
              "ticks": ""
             }
            },
            "type": "scatterpolargl"
           }
          ],
          "scatterternary": [
           {
            "marker": {
             "colorbar": {
              "outlinewidth": 0,
              "ticks": ""
             }
            },
            "type": "scatterternary"
           }
          ],
          "surface": [
           {
            "colorbar": {
             "outlinewidth": 0,
             "ticks": ""
            },
            "colorscale": [
             [
              0,
              "#0d0887"
             ],
             [
              0.1111111111111111,
              "#46039f"
             ],
             [
              0.2222222222222222,
              "#7201a8"
             ],
             [
              0.3333333333333333,
              "#9c179e"
             ],
             [
              0.4444444444444444,
              "#bd3786"
             ],
             [
              0.5555555555555556,
              "#d8576b"
             ],
             [
              0.6666666666666666,
              "#ed7953"
             ],
             [
              0.7777777777777778,
              "#fb9f3a"
             ],
             [
              0.8888888888888888,
              "#fdca26"
             ],
             [
              1,
              "#f0f921"
             ]
            ],
            "type": "surface"
           }
          ],
          "table": [
           {
            "cells": {
             "fill": {
              "color": "#EBF0F8"
             },
             "line": {
              "color": "white"
             }
            },
            "header": {
             "fill": {
              "color": "#C8D4E3"
             },
             "line": {
              "color": "white"
             }
            },
            "type": "table"
           }
          ]
         },
         "layout": {
          "annotationdefaults": {
           "arrowcolor": "#2a3f5f",
           "arrowhead": 0,
           "arrowwidth": 1
          },
          "autotypenumbers": "strict",
          "coloraxis": {
           "colorbar": {
            "outlinewidth": 0,
            "ticks": ""
           }
          },
          "colorscale": {
           "diverging": [
            [
             0,
             "#8e0152"
            ],
            [
             0.1,
             "#c51b7d"
            ],
            [
             0.2,
             "#de77ae"
            ],
            [
             0.3,
             "#f1b6da"
            ],
            [
             0.4,
             "#fde0ef"
            ],
            [
             0.5,
             "#f7f7f7"
            ],
            [
             0.6,
             "#e6f5d0"
            ],
            [
             0.7,
             "#b8e186"
            ],
            [
             0.8,
             "#7fbc41"
            ],
            [
             0.9,
             "#4d9221"
            ],
            [
             1,
             "#276419"
            ]
           ],
           "sequential": [
            [
             0,
             "#0d0887"
            ],
            [
             0.1111111111111111,
             "#46039f"
            ],
            [
             0.2222222222222222,
             "#7201a8"
            ],
            [
             0.3333333333333333,
             "#9c179e"
            ],
            [
             0.4444444444444444,
             "#bd3786"
            ],
            [
             0.5555555555555556,
             "#d8576b"
            ],
            [
             0.6666666666666666,
             "#ed7953"
            ],
            [
             0.7777777777777778,
             "#fb9f3a"
            ],
            [
             0.8888888888888888,
             "#fdca26"
            ],
            [
             1,
             "#f0f921"
            ]
           ],
           "sequentialminus": [
            [
             0,
             "#0d0887"
            ],
            [
             0.1111111111111111,
             "#46039f"
            ],
            [
             0.2222222222222222,
             "#7201a8"
            ],
            [
             0.3333333333333333,
             "#9c179e"
            ],
            [
             0.4444444444444444,
             "#bd3786"
            ],
            [
             0.5555555555555556,
             "#d8576b"
            ],
            [
             0.6666666666666666,
             "#ed7953"
            ],
            [
             0.7777777777777778,
             "#fb9f3a"
            ],
            [
             0.8888888888888888,
             "#fdca26"
            ],
            [
             1,
             "#f0f921"
            ]
           ]
          },
          "colorway": [
           "#636efa",
           "#EF553B",
           "#00cc96",
           "#ab63fa",
           "#FFA15A",
           "#19d3f3",
           "#FF6692",
           "#B6E880",
           "#FF97FF",
           "#FECB52"
          ],
          "font": {
           "color": "#2a3f5f"
          },
          "geo": {
           "bgcolor": "white",
           "lakecolor": "white",
           "landcolor": "#E5ECF6",
           "showlakes": true,
           "showland": true,
           "subunitcolor": "white"
          },
          "hoverlabel": {
           "align": "left"
          },
          "hovermode": "closest",
          "mapbox": {
           "style": "light"
          },
          "paper_bgcolor": "white",
          "plot_bgcolor": "#E5ECF6",
          "polar": {
           "angularaxis": {
            "gridcolor": "white",
            "linecolor": "white",
            "ticks": ""
           },
           "bgcolor": "#E5ECF6",
           "radialaxis": {
            "gridcolor": "white",
            "linecolor": "white",
            "ticks": ""
           }
          },
          "scene": {
           "xaxis": {
            "backgroundcolor": "#E5ECF6",
            "gridcolor": "white",
            "gridwidth": 2,
            "linecolor": "white",
            "showbackground": true,
            "ticks": "",
            "zerolinecolor": "white"
           },
           "yaxis": {
            "backgroundcolor": "#E5ECF6",
            "gridcolor": "white",
            "gridwidth": 2,
            "linecolor": "white",
            "showbackground": true,
            "ticks": "",
            "zerolinecolor": "white"
           },
           "zaxis": {
            "backgroundcolor": "#E5ECF6",
            "gridcolor": "white",
            "gridwidth": 2,
            "linecolor": "white",
            "showbackground": true,
            "ticks": "",
            "zerolinecolor": "white"
           }
          },
          "shapedefaults": {
           "line": {
            "color": "#2a3f5f"
           }
          },
          "ternary": {
           "aaxis": {
            "gridcolor": "white",
            "linecolor": "white",
            "ticks": ""
           },
           "baxis": {
            "gridcolor": "white",
            "linecolor": "white",
            "ticks": ""
           },
           "bgcolor": "#E5ECF6",
           "caxis": {
            "gridcolor": "white",
            "linecolor": "white",
            "ticks": ""
           }
          },
          "title": {
           "x": 0.05
          },
          "xaxis": {
           "automargin": true,
           "gridcolor": "white",
           "linecolor": "white",
           "ticks": "",
           "title": {
            "standoff": 15
           },
           "zerolinecolor": "white",
           "zerolinewidth": 2
          },
          "yaxis": {
           "automargin": true,
           "gridcolor": "white",
           "linecolor": "white",
           "ticks": "",
           "title": {
            "standoff": 15
           },
           "zerolinecolor": "white",
           "zerolinewidth": 2
          }
         }
        },
        "title": {
         "text": "Explanation Time vs. Number of Anomalies (Satellite)"
        },
        "width": 1200,
        "xaxis": {
         "autorange": true,
         "range": [
          161.35893702220602,
          1116.641062977794
         ],
         "tickmode": "array",
         "tickvals": [
          213,
          426,
          639,
          852,
          1065
         ],
         "title": {
          "text": "Number of Anomalies"
         },
         "type": "linear"
        },
        "yaxis": {
         "autorange": true,
         "range": [
          2.286994848728658,
          4.994381752616136
         ],
         "title": {
          "text": "Time (s)"
         },
         "type": "log"
        }
       }
      },
      "image/png": "[encoded data removed]"
     },
     "metadata": {},
     "output_type": "display_data"
    }
   ],
   "source": [
    "import plotly.graph_objects as go\n",
    "n_sampled_anomalies = [len(x) for x in sampled_anomalies]\n",
    "\n",
    "time_fig = go.Figure()\n",
    "time_fig.add_trace(go.Scatter(\n",
    "    x=n_sampled_anomalies, \n",
    "    y=acme_times, \n",
    "    mode=\"lines+markers\", \n",
    "    name=\"AcME-AD\", \n",
    "    line=dict(color=\"blue\"), \n",
    "    marker=dict(color=\"blue\")\n",
    "))\n",
    "time_fig.add_trace(go.Scatter(\n",
    "    x=n_sampled_anomalies, \n",
    "    y=shap_times, \n",
    "    mode=\"lines+markers\", \n",
    "    name=\"KernelSHAP\", \n",
    "    line=dict(color=\"orange\"), \n",
    "    marker=dict(color=\"orange\")\n",
    "))\n",
    "time_fig.update_layout(\n",
    "    title=\"Explanation Time vs. Number of Anomalies (Satellite)\",\n",
    "    xaxis_title=\"Number of Anomalies\",\n",
    "    yaxis_title=\"Time (s)\",\n",
    "    showlegend=True, \n",
    "    hovermode=\"x\", \n",
    "    yaxis_type=\"log\"\n",
    ")\n",
    "time_fig.update_xaxes(tickmode=\"array\", tickvals=n_sampled_anomalies)\n",
    "time_fig.update_layout(width = 10*1.2*100, height=6*1.2*100, font=dict(size=18))\n",
    "time_fig.show()"
   ]
  }
 ],
 "metadata": {
  "kernelspec": {
   "display_name": "Python 3 (ipykernel)",
   "language": "python",
   "name": "python3"
  },
  "language_info": {
   "codemirror_mode": {
    "name": "ipython",
    "version": 3
   },
   "file_extension": ".py",
   "mimetype": "text/x-python",
   "name": "python",
   "nbconvert_exporter": "python",
   "pygments_lexer": "ipython3",
   "version": "3.9.13"
  }
 },
 "nbformat": 4,
 "nbformat_minor": 4
}
