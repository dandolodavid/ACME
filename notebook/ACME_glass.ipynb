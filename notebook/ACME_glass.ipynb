{
 "cells": [
  {
   "cell_type": "code",
   "execution_count": 1,
   "metadata": {},
   "outputs": [],
   "source": [
    "import sys\n",
    "import os\n",
    "sys.path.append(os.getcwd()[:-8])"
   ]
  },
  {
   "cell_type": "code",
   "execution_count": 2,
   "metadata": {},
   "outputs": [],
   "source": [
    "import pandas as pd\n",
    "import numpy as np\n",
    "from catboost import CatBoostClassifier\n",
    "from ACME.ACME import ACME \n",
    "import time"
   ]
  },
  {
   "cell_type": "code",
   "execution_count": 3,
   "metadata": {},
   "outputs": [],
   "source": [
    "from plotly.io import write_image\n",
    "import matplotlib.pyplot as plt"
   ]
  },
  {
   "cell_type": "code",
   "execution_count": 4,
   "metadata": {},
   "outputs": [],
   "source": [
    "glass_data = pd.read_csv('https://archive.ics.uci.edu/ml/machine-learning-databases/glass/glass.data',index_col=[0])\n",
    "glass_data.columns = ['RI','Na','Mg','Al','Si','K','Ca','Ba','Fe','Type']"
   ]
  },
  {
   "cell_type": "code",
   "execution_count": 5,
   "metadata": {},
   "outputs": [],
   "source": [
    "features = glass_data.drop(columns='Type').columns.to_list()"
   ]
  },
  {
   "cell_type": "code",
   "execution_count": 6,
   "metadata": {},
   "outputs": [
    {
     "data": {
      "text/html": [
       "<div>\n",
       "<style scoped>\n",
       "    .dataframe tbody tr th:only-of-type {\n",
       "        vertical-align: middle;\n",
       "    }\n",
       "\n",
       "    .dataframe tbody tr th {\n",
       "        vertical-align: top;\n",
       "    }\n",
       "\n",
       "    .dataframe thead th {\n",
       "        text-align: right;\n",
       "    }\n",
       "</style>\n",
       "<table border=\"1\" class=\"dataframe\">\n",
       "  <thead>\n",
       "    <tr style=\"text-align: right;\">\n",
       "      <th></th>\n",
       "      <th>RI</th>\n",
       "      <th>Na</th>\n",
       "      <th>Mg</th>\n",
       "      <th>Al</th>\n",
       "      <th>Si</th>\n",
       "      <th>K</th>\n",
       "      <th>Ca</th>\n",
       "      <th>Ba</th>\n",
       "      <th>Fe</th>\n",
       "      <th>Type</th>\n",
       "    </tr>\n",
       "    <tr>\n",
       "      <th>1</th>\n",
       "      <th></th>\n",
       "      <th></th>\n",
       "      <th></th>\n",
       "      <th></th>\n",
       "      <th></th>\n",
       "      <th></th>\n",
       "      <th></th>\n",
       "      <th></th>\n",
       "      <th></th>\n",
       "      <th></th>\n",
       "    </tr>\n",
       "  </thead>\n",
       "  <tbody>\n",
       "    <tr>\n",
       "      <th>2</th>\n",
       "      <td>1.51761</td>\n",
       "      <td>13.89</td>\n",
       "      <td>3.60</td>\n",
       "      <td>1.36</td>\n",
       "      <td>72.73</td>\n",
       "      <td>0.48</td>\n",
       "      <td>7.83</td>\n",
       "      <td>0.00</td>\n",
       "      <td>0.00</td>\n",
       "      <td>1</td>\n",
       "    </tr>\n",
       "    <tr>\n",
       "      <th>3</th>\n",
       "      <td>1.51618</td>\n",
       "      <td>13.53</td>\n",
       "      <td>3.55</td>\n",
       "      <td>1.54</td>\n",
       "      <td>72.99</td>\n",
       "      <td>0.39</td>\n",
       "      <td>7.78</td>\n",
       "      <td>0.00</td>\n",
       "      <td>0.00</td>\n",
       "      <td>1</td>\n",
       "    </tr>\n",
       "    <tr>\n",
       "      <th>4</th>\n",
       "      <td>1.51766</td>\n",
       "      <td>13.21</td>\n",
       "      <td>3.69</td>\n",
       "      <td>1.29</td>\n",
       "      <td>72.61</td>\n",
       "      <td>0.57</td>\n",
       "      <td>8.22</td>\n",
       "      <td>0.00</td>\n",
       "      <td>0.00</td>\n",
       "      <td>1</td>\n",
       "    </tr>\n",
       "    <tr>\n",
       "      <th>5</th>\n",
       "      <td>1.51742</td>\n",
       "      <td>13.27</td>\n",
       "      <td>3.62</td>\n",
       "      <td>1.24</td>\n",
       "      <td>73.08</td>\n",
       "      <td>0.55</td>\n",
       "      <td>8.07</td>\n",
       "      <td>0.00</td>\n",
       "      <td>0.00</td>\n",
       "      <td>1</td>\n",
       "    </tr>\n",
       "    <tr>\n",
       "      <th>6</th>\n",
       "      <td>1.51596</td>\n",
       "      <td>12.79</td>\n",
       "      <td>3.61</td>\n",
       "      <td>1.62</td>\n",
       "      <td>72.97</td>\n",
       "      <td>0.64</td>\n",
       "      <td>8.07</td>\n",
       "      <td>0.00</td>\n",
       "      <td>0.26</td>\n",
       "      <td>1</td>\n",
       "    </tr>\n",
       "    <tr>\n",
       "      <th>...</th>\n",
       "      <td>...</td>\n",
       "      <td>...</td>\n",
       "      <td>...</td>\n",
       "      <td>...</td>\n",
       "      <td>...</td>\n",
       "      <td>...</td>\n",
       "      <td>...</td>\n",
       "      <td>...</td>\n",
       "      <td>...</td>\n",
       "      <td>...</td>\n",
       "    </tr>\n",
       "    <tr>\n",
       "      <th>210</th>\n",
       "      <td>1.51623</td>\n",
       "      <td>14.14</td>\n",
       "      <td>0.00</td>\n",
       "      <td>2.88</td>\n",
       "      <td>72.61</td>\n",
       "      <td>0.08</td>\n",
       "      <td>9.18</td>\n",
       "      <td>1.06</td>\n",
       "      <td>0.00</td>\n",
       "      <td>7</td>\n",
       "    </tr>\n",
       "    <tr>\n",
       "      <th>211</th>\n",
       "      <td>1.51685</td>\n",
       "      <td>14.92</td>\n",
       "      <td>0.00</td>\n",
       "      <td>1.99</td>\n",
       "      <td>73.06</td>\n",
       "      <td>0.00</td>\n",
       "      <td>8.40</td>\n",
       "      <td>1.59</td>\n",
       "      <td>0.00</td>\n",
       "      <td>7</td>\n",
       "    </tr>\n",
       "    <tr>\n",
       "      <th>212</th>\n",
       "      <td>1.52065</td>\n",
       "      <td>14.36</td>\n",
       "      <td>0.00</td>\n",
       "      <td>2.02</td>\n",
       "      <td>73.42</td>\n",
       "      <td>0.00</td>\n",
       "      <td>8.44</td>\n",
       "      <td>1.64</td>\n",
       "      <td>0.00</td>\n",
       "      <td>7</td>\n",
       "    </tr>\n",
       "    <tr>\n",
       "      <th>213</th>\n",
       "      <td>1.51651</td>\n",
       "      <td>14.38</td>\n",
       "      <td>0.00</td>\n",
       "      <td>1.94</td>\n",
       "      <td>73.61</td>\n",
       "      <td>0.00</td>\n",
       "      <td>8.48</td>\n",
       "      <td>1.57</td>\n",
       "      <td>0.00</td>\n",
       "      <td>7</td>\n",
       "    </tr>\n",
       "    <tr>\n",
       "      <th>214</th>\n",
       "      <td>1.51711</td>\n",
       "      <td>14.23</td>\n",
       "      <td>0.00</td>\n",
       "      <td>2.08</td>\n",
       "      <td>73.36</td>\n",
       "      <td>0.00</td>\n",
       "      <td>8.62</td>\n",
       "      <td>1.67</td>\n",
       "      <td>0.00</td>\n",
       "      <td>7</td>\n",
       "    </tr>\n",
       "  </tbody>\n",
       "</table>\n",
       "<p>213 rows × 10 columns</p>\n",
       "</div>"
      ],
      "text/plain": [
       "          RI     Na    Mg    Al     Si     K    Ca    Ba    Fe  Type\n",
       "1                                                                   \n",
       "2    1.51761  13.89  3.60  1.36  72.73  0.48  7.83  0.00  0.00     1\n",
       "3    1.51618  13.53  3.55  1.54  72.99  0.39  7.78  0.00  0.00     1\n",
       "4    1.51766  13.21  3.69  1.29  72.61  0.57  8.22  0.00  0.00     1\n",
       "5    1.51742  13.27  3.62  1.24  73.08  0.55  8.07  0.00  0.00     1\n",
       "6    1.51596  12.79  3.61  1.62  72.97  0.64  8.07  0.00  0.26     1\n",
       "..       ...    ...   ...   ...    ...   ...   ...   ...   ...   ...\n",
       "210  1.51623  14.14  0.00  2.88  72.61  0.08  9.18  1.06  0.00     7\n",
       "211  1.51685  14.92  0.00  1.99  73.06  0.00  8.40  1.59  0.00     7\n",
       "212  1.52065  14.36  0.00  2.02  73.42  0.00  8.44  1.64  0.00     7\n",
       "213  1.51651  14.38  0.00  1.94  73.61  0.00  8.48  1.57  0.00     7\n",
       "214  1.51711  14.23  0.00  2.08  73.36  0.00  8.62  1.67  0.00     7\n",
       "\n",
       "[213 rows x 10 columns]"
      ]
     },
     "execution_count": 6,
     "metadata": {},
     "output_type": "execute_result"
    }
   ],
   "source": [
    "glass_data"
   ]
  },
  {
   "cell_type": "code",
   "execution_count": 7,
   "metadata": {},
   "outputs": [],
   "source": [
    "from sklearn.model_selection import train_test_split\n",
    "train, test = train_test_split(glass_data, test_size=0.3, stratify=glass_data['Type'].values, random_state=1234)"
   ]
  },
  {
   "cell_type": "code",
   "execution_count": 21,
   "metadata": {
    "collapsed": true,
    "jupyter": {
     "outputs_hidden": true
    },
    "tags": []
   },
   "outputs": [
    {
     "name": "stdout",
     "output_type": "stream",
     "text": [
      "Learning rate set to 0.071805\n",
      "0:\tlearn: 1.7408948\ttotal: 3.47ms\tremaining: 3.46s\n",
      "1:\tlearn: 1.6666088\ttotal: 5.41ms\tremaining: 2.7s\n",
      "2:\tlearn: 1.6174880\ttotal: 7.15ms\tremaining: 2.38s\n",
      "3:\tlearn: 1.5704830\ttotal: 8.9ms\tremaining: 2.22s\n",
      "4:\tlearn: 1.5288786\ttotal: 11.4ms\tremaining: 2.26s\n",
      "5:\tlearn: 1.4749263\ttotal: 13.8ms\tremaining: 2.28s\n",
      "6:\tlearn: 1.4268523\ttotal: 15.9ms\tremaining: 2.26s\n",
      "7:\tlearn: 1.3894817\ttotal: 18.2ms\tremaining: 2.25s\n",
      "8:\tlearn: 1.3610985\ttotal: 19.8ms\tremaining: 2.18s\n",
      "9:\tlearn: 1.3318217\ttotal: 21.4ms\tremaining: 2.11s\n",
      "10:\tlearn: 1.2973148\ttotal: 22.6ms\tremaining: 2.03s\n",
      "11:\tlearn: 1.2689710\ttotal: 23.9ms\tremaining: 1.97s\n",
      "12:\tlearn: 1.2439952\ttotal: 25.2ms\tremaining: 1.91s\n",
      "13:\tlearn: 1.2154543\ttotal: 26.5ms\tremaining: 1.86s\n",
      "14:\tlearn: 1.1916688\ttotal: 28.4ms\tremaining: 1.86s\n",
      "15:\tlearn: 1.1665618\ttotal: 29.8ms\tremaining: 1.83s\n",
      "16:\tlearn: 1.1389104\ttotal: 31.3ms\tremaining: 1.81s\n",
      "17:\tlearn: 1.1152426\ttotal: 32.8ms\tremaining: 1.79s\n",
      "18:\tlearn: 1.0968550\ttotal: 34ms\tremaining: 1.75s\n",
      "19:\tlearn: 1.0713047\ttotal: 35.1ms\tremaining: 1.72s\n",
      "20:\tlearn: 1.0554811\ttotal: 36.5ms\tremaining: 1.7s\n",
      "21:\tlearn: 1.0354448\ttotal: 37.6ms\tremaining: 1.67s\n",
      "22:\tlearn: 1.0151652\ttotal: 38.8ms\tremaining: 1.65s\n",
      "23:\tlearn: 0.9997540\ttotal: 40ms\tremaining: 1.63s\n",
      "24:\tlearn: 0.9803922\ttotal: 41.3ms\tremaining: 1.61s\n",
      "25:\tlearn: 0.9631535\ttotal: 42.7ms\tremaining: 1.6s\n",
      "26:\tlearn: 0.9473861\ttotal: 43.9ms\tremaining: 1.58s\n",
      "27:\tlearn: 0.9328058\ttotal: 45.3ms\tremaining: 1.57s\n",
      "28:\tlearn: 0.9150559\ttotal: 46.5ms\tremaining: 1.56s\n",
      "29:\tlearn: 0.9007509\ttotal: 48ms\tremaining: 1.55s\n",
      "30:\tlearn: 0.8888115\ttotal: 49.3ms\tremaining: 1.54s\n",
      "31:\tlearn: 0.8773999\ttotal: 50.6ms\tremaining: 1.53s\n",
      "32:\tlearn: 0.8657183\ttotal: 51.8ms\tremaining: 1.52s\n",
      "33:\tlearn: 0.8506070\ttotal: 53ms\tremaining: 1.51s\n",
      "34:\tlearn: 0.8400317\ttotal: 54.5ms\tremaining: 1.5s\n",
      "35:\tlearn: 0.8288473\ttotal: 55.8ms\tremaining: 1.5s\n",
      "36:\tlearn: 0.8174721\ttotal: 57.1ms\tremaining: 1.49s\n",
      "37:\tlearn: 0.8069571\ttotal: 58.4ms\tremaining: 1.48s\n",
      "38:\tlearn: 0.7982345\ttotal: 59.5ms\tremaining: 1.47s\n",
      "39:\tlearn: 0.7880950\ttotal: 60.7ms\tremaining: 1.46s\n",
      "40:\tlearn: 0.7780312\ttotal: 62ms\tremaining: 1.45s\n",
      "41:\tlearn: 0.7683143\ttotal: 63.2ms\tremaining: 1.44s\n",
      "42:\tlearn: 0.7565163\ttotal: 64.4ms\tremaining: 1.43s\n",
      "43:\tlearn: 0.7451320\ttotal: 65.6ms\tremaining: 1.42s\n",
      "44:\tlearn: 0.7352765\ttotal: 66.8ms\tremaining: 1.42s\n",
      "45:\tlearn: 0.7252484\ttotal: 68ms\tremaining: 1.41s\n",
      "46:\tlearn: 0.7152453\ttotal: 69.2ms\tremaining: 1.4s\n",
      "47:\tlearn: 0.7061583\ttotal: 70.4ms\tremaining: 1.4s\n",
      "48:\tlearn: 0.6972301\ttotal: 71.9ms\tremaining: 1.4s\n",
      "49:\tlearn: 0.6888133\ttotal: 73.2ms\tremaining: 1.39s\n",
      "50:\tlearn: 0.6777927\ttotal: 74.7ms\tremaining: 1.39s\n",
      "51:\tlearn: 0.6684478\ttotal: 76ms\tremaining: 1.39s\n",
      "52:\tlearn: 0.6624258\ttotal: 77.4ms\tremaining: 1.38s\n",
      "53:\tlearn: 0.6563579\ttotal: 78.6ms\tremaining: 1.38s\n",
      "54:\tlearn: 0.6508941\ttotal: 79.8ms\tremaining: 1.37s\n",
      "55:\tlearn: 0.6435204\ttotal: 80.9ms\tremaining: 1.36s\n",
      "56:\tlearn: 0.6376653\ttotal: 82.2ms\tremaining: 1.36s\n",
      "57:\tlearn: 0.6319788\ttotal: 83.3ms\tremaining: 1.35s\n",
      "58:\tlearn: 0.6242774\ttotal: 84.7ms\tremaining: 1.35s\n",
      "59:\tlearn: 0.6166142\ttotal: 85.9ms\tremaining: 1.34s\n",
      "60:\tlearn: 0.6096269\ttotal: 87.1ms\tremaining: 1.34s\n",
      "61:\tlearn: 0.6040095\ttotal: 88.3ms\tremaining: 1.33s\n",
      "62:\tlearn: 0.5967050\ttotal: 89.6ms\tremaining: 1.33s\n",
      "63:\tlearn: 0.5916844\ttotal: 90.8ms\tremaining: 1.33s\n",
      "64:\tlearn: 0.5846842\ttotal: 92ms\tremaining: 1.32s\n",
      "65:\tlearn: 0.5798431\ttotal: 93.2ms\tremaining: 1.32s\n",
      "66:\tlearn: 0.5733914\ttotal: 94.3ms\tremaining: 1.31s\n",
      "67:\tlearn: 0.5693188\ttotal: 95.7ms\tremaining: 1.31s\n",
      "68:\tlearn: 0.5641332\ttotal: 96.9ms\tremaining: 1.31s\n",
      "69:\tlearn: 0.5600359\ttotal: 98.1ms\tremaining: 1.3s\n",
      "70:\tlearn: 0.5536555\ttotal: 99.3ms\tremaining: 1.3s\n",
      "71:\tlearn: 0.5491008\ttotal: 101ms\tremaining: 1.3s\n",
      "72:\tlearn: 0.5454743\ttotal: 102ms\tremaining: 1.29s\n",
      "73:\tlearn: 0.5385673\ttotal: 103ms\tremaining: 1.29s\n",
      "74:\tlearn: 0.5335773\ttotal: 104ms\tremaining: 1.29s\n",
      "75:\tlearn: 0.5286975\ttotal: 105ms\tremaining: 1.28s\n",
      "76:\tlearn: 0.5200934\ttotal: 107ms\tremaining: 1.28s\n",
      "77:\tlearn: 0.5150180\ttotal: 108ms\tremaining: 1.27s\n",
      "78:\tlearn: 0.5088271\ttotal: 109ms\tremaining: 1.27s\n",
      "79:\tlearn: 0.5052016\ttotal: 110ms\tremaining: 1.27s\n",
      "80:\tlearn: 0.4995433\ttotal: 112ms\tremaining: 1.26s\n",
      "81:\tlearn: 0.4944077\ttotal: 113ms\tremaining: 1.26s\n",
      "82:\tlearn: 0.4891049\ttotal: 114ms\tremaining: 1.26s\n",
      "83:\tlearn: 0.4864349\ttotal: 116ms\tremaining: 1.26s\n",
      "84:\tlearn: 0.4828321\ttotal: 117ms\tremaining: 1.26s\n",
      "85:\tlearn: 0.4798586\ttotal: 118ms\tremaining: 1.26s\n",
      "86:\tlearn: 0.4747128\ttotal: 120ms\tremaining: 1.25s\n",
      "87:\tlearn: 0.4702858\ttotal: 121ms\tremaining: 1.25s\n",
      "88:\tlearn: 0.4656015\ttotal: 122ms\tremaining: 1.25s\n",
      "89:\tlearn: 0.4624726\ttotal: 123ms\tremaining: 1.25s\n",
      "90:\tlearn: 0.4574544\ttotal: 125ms\tremaining: 1.24s\n",
      "91:\tlearn: 0.4535698\ttotal: 126ms\tremaining: 1.24s\n",
      "92:\tlearn: 0.4485449\ttotal: 127ms\tremaining: 1.24s\n",
      "93:\tlearn: 0.4438287\ttotal: 128ms\tremaining: 1.24s\n",
      "94:\tlearn: 0.4406808\ttotal: 129ms\tremaining: 1.23s\n",
      "95:\tlearn: 0.4361768\ttotal: 130ms\tremaining: 1.23s\n",
      "96:\tlearn: 0.4320777\ttotal: 131ms\tremaining: 1.22s\n",
      "97:\tlearn: 0.4274237\ttotal: 133ms\tremaining: 1.22s\n",
      "98:\tlearn: 0.4245862\ttotal: 134ms\tremaining: 1.22s\n",
      "99:\tlearn: 0.4205582\ttotal: 135ms\tremaining: 1.21s\n",
      "100:\tlearn: 0.4161349\ttotal: 136ms\tremaining: 1.21s\n",
      "101:\tlearn: 0.4115642\ttotal: 137ms\tremaining: 1.21s\n",
      "102:\tlearn: 0.4069065\ttotal: 139ms\tremaining: 1.21s\n",
      "103:\tlearn: 0.4050424\ttotal: 140ms\tremaining: 1.21s\n",
      "104:\tlearn: 0.4006772\ttotal: 141ms\tremaining: 1.2s\n",
      "105:\tlearn: 0.3974498\ttotal: 142ms\tremaining: 1.2s\n",
      "106:\tlearn: 0.3944652\ttotal: 144ms\tremaining: 1.2s\n",
      "107:\tlearn: 0.3920836\ttotal: 145ms\tremaining: 1.2s\n",
      "108:\tlearn: 0.3879396\ttotal: 146ms\tremaining: 1.19s\n",
      "109:\tlearn: 0.3842389\ttotal: 147ms\tremaining: 1.19s\n",
      "110:\tlearn: 0.3804409\ttotal: 148ms\tremaining: 1.19s\n",
      "111:\tlearn: 0.3787003\ttotal: 149ms\tremaining: 1.18s\n",
      "112:\tlearn: 0.3752446\ttotal: 151ms\tremaining: 1.18s\n",
      "113:\tlearn: 0.3714253\ttotal: 152ms\tremaining: 1.18s\n",
      "114:\tlearn: 0.3678279\ttotal: 153ms\tremaining: 1.18s\n",
      "115:\tlearn: 0.3656546\ttotal: 154ms\tremaining: 1.18s\n",
      "116:\tlearn: 0.3634733\ttotal: 156ms\tremaining: 1.18s\n",
      "117:\tlearn: 0.3597973\ttotal: 157ms\tremaining: 1.17s\n",
      "118:\tlearn: 0.3571725\ttotal: 158ms\tremaining: 1.17s\n",
      "119:\tlearn: 0.3544247\ttotal: 159ms\tremaining: 1.17s\n",
      "120:\tlearn: 0.3514111\ttotal: 160ms\tremaining: 1.17s\n",
      "121:\tlearn: 0.3496777\ttotal: 162ms\tremaining: 1.16s\n",
      "122:\tlearn: 0.3466860\ttotal: 163ms\tremaining: 1.16s\n",
      "123:\tlearn: 0.3433982\ttotal: 164ms\tremaining: 1.16s\n",
      "124:\tlearn: 0.3399687\ttotal: 165ms\tremaining: 1.16s\n",
      "125:\tlearn: 0.3378088\ttotal: 166ms\tremaining: 1.15s\n",
      "126:\tlearn: 0.3346441\ttotal: 168ms\tremaining: 1.15s\n",
      "127:\tlearn: 0.3315595\ttotal: 169ms\tremaining: 1.15s\n",
      "128:\tlearn: 0.3299823\ttotal: 170ms\tremaining: 1.15s\n",
      "129:\tlearn: 0.3269436\ttotal: 171ms\tremaining: 1.15s\n",
      "130:\tlearn: 0.3234259\ttotal: 173ms\tremaining: 1.14s\n",
      "131:\tlearn: 0.3210247\ttotal: 174ms\tremaining: 1.14s\n",
      "132:\tlearn: 0.3182939\ttotal: 175ms\tremaining: 1.14s\n",
      "133:\tlearn: 0.3156636\ttotal: 177ms\tremaining: 1.14s\n",
      "134:\tlearn: 0.3134512\ttotal: 178ms\tremaining: 1.14s\n",
      "135:\tlearn: 0.3115686\ttotal: 179ms\tremaining: 1.14s\n",
      "136:\tlearn: 0.3089200\ttotal: 181ms\tremaining: 1.14s\n",
      "137:\tlearn: 0.3065045\ttotal: 182ms\tremaining: 1.14s\n",
      "138:\tlearn: 0.3033523\ttotal: 184ms\tremaining: 1.14s\n",
      "139:\tlearn: 0.3007380\ttotal: 185ms\tremaining: 1.14s\n",
      "140:\tlearn: 0.2982404\ttotal: 187ms\tremaining: 1.14s\n",
      "141:\tlearn: 0.2965138\ttotal: 188ms\tremaining: 1.14s\n",
      "142:\tlearn: 0.2944957\ttotal: 189ms\tremaining: 1.14s\n",
      "143:\tlearn: 0.2921564\ttotal: 191ms\tremaining: 1.14s\n",
      "144:\tlearn: 0.2902363\ttotal: 192ms\tremaining: 1.13s\n",
      "145:\tlearn: 0.2879212\ttotal: 194ms\tremaining: 1.13s\n",
      "146:\tlearn: 0.2857213\ttotal: 195ms\tremaining: 1.13s\n",
      "147:\tlearn: 0.2848332\ttotal: 197ms\tremaining: 1.14s\n",
      "148:\tlearn: 0.2824691\ttotal: 198ms\tremaining: 1.13s\n",
      "149:\tlearn: 0.2813863\ttotal: 200ms\tremaining: 1.13s\n",
      "150:\tlearn: 0.2803347\ttotal: 201ms\tremaining: 1.13s\n",
      "151:\tlearn: 0.2782817\ttotal: 202ms\tremaining: 1.13s\n",
      "152:\tlearn: 0.2759021\ttotal: 203ms\tremaining: 1.12s\n",
      "153:\tlearn: 0.2729201\ttotal: 205ms\tremaining: 1.12s\n",
      "154:\tlearn: 0.2721989\ttotal: 206ms\tremaining: 1.12s\n",
      "155:\tlearn: 0.2697302\ttotal: 207ms\tremaining: 1.12s\n",
      "156:\tlearn: 0.2673965\ttotal: 209ms\tremaining: 1.12s\n",
      "157:\tlearn: 0.2653325\ttotal: 210ms\tremaining: 1.12s\n",
      "158:\tlearn: 0.2634719\ttotal: 211ms\tremaining: 1.11s\n",
      "159:\tlearn: 0.2617162\ttotal: 212ms\tremaining: 1.11s\n",
      "160:\tlearn: 0.2597890\ttotal: 213ms\tremaining: 1.11s\n",
      "161:\tlearn: 0.2583006\ttotal: 215ms\tremaining: 1.11s\n",
      "162:\tlearn: 0.2562989\ttotal: 216ms\tremaining: 1.11s\n",
      "163:\tlearn: 0.2546922\ttotal: 217ms\tremaining: 1.11s\n",
      "164:\tlearn: 0.2527474\ttotal: 218ms\tremaining: 1.1s\n",
      "165:\tlearn: 0.2505071\ttotal: 220ms\tremaining: 1.1s\n",
      "166:\tlearn: 0.2487809\ttotal: 221ms\tremaining: 1.1s\n",
      "167:\tlearn: 0.2472314\ttotal: 222ms\tremaining: 1.1s\n",
      "168:\tlearn: 0.2457848\ttotal: 223ms\tremaining: 1.1s\n",
      "169:\tlearn: 0.2435234\ttotal: 224ms\tremaining: 1.09s\n",
      "170:\tlearn: 0.2428552\ttotal: 226ms\tremaining: 1.09s\n",
      "171:\tlearn: 0.2411550\ttotal: 227ms\tremaining: 1.09s\n",
      "172:\tlearn: 0.2396696\ttotal: 228ms\tremaining: 1.09s\n",
      "173:\tlearn: 0.2382120\ttotal: 229ms\tremaining: 1.09s\n",
      "174:\tlearn: 0.2367402\ttotal: 230ms\tremaining: 1.09s\n",
      "175:\tlearn: 0.2348693\ttotal: 232ms\tremaining: 1.08s\n",
      "176:\tlearn: 0.2338627\ttotal: 233ms\tremaining: 1.08s\n",
      "177:\tlearn: 0.2326517\ttotal: 234ms\tremaining: 1.08s\n",
      "178:\tlearn: 0.2310411\ttotal: 235ms\tremaining: 1.08s\n",
      "179:\tlearn: 0.2297182\ttotal: 237ms\tremaining: 1.08s\n",
      "180:\tlearn: 0.2283177\ttotal: 238ms\tremaining: 1.07s\n",
      "181:\tlearn: 0.2264993\ttotal: 239ms\tremaining: 1.07s\n",
      "182:\tlearn: 0.2245812\ttotal: 241ms\tremaining: 1.07s\n",
      "183:\tlearn: 0.2232323\ttotal: 242ms\tremaining: 1.07s\n",
      "184:\tlearn: 0.2215930\ttotal: 243ms\tremaining: 1.07s\n",
      "185:\tlearn: 0.2197684\ttotal: 244ms\tremaining: 1.07s\n",
      "186:\tlearn: 0.2187638\ttotal: 246ms\tremaining: 1.07s\n",
      "187:\tlearn: 0.2179036\ttotal: 247ms\tremaining: 1.07s\n",
      "188:\tlearn: 0.2162426\ttotal: 248ms\tremaining: 1.06s\n",
      "189:\tlearn: 0.2150590\ttotal: 249ms\tremaining: 1.06s\n",
      "190:\tlearn: 0.2138350\ttotal: 251ms\tremaining: 1.06s\n",
      "191:\tlearn: 0.2118525\ttotal: 252ms\tremaining: 1.06s\n",
      "192:\tlearn: 0.2106109\ttotal: 253ms\tremaining: 1.06s\n",
      "193:\tlearn: 0.2098171\ttotal: 254ms\tremaining: 1.06s\n",
      "194:\tlearn: 0.2087048\ttotal: 256ms\tremaining: 1.06s\n",
      "195:\tlearn: 0.2076922\ttotal: 257ms\tremaining: 1.05s\n",
      "196:\tlearn: 0.2059213\ttotal: 258ms\tremaining: 1.05s\n",
      "197:\tlearn: 0.2047521\ttotal: 260ms\tremaining: 1.05s\n",
      "198:\tlearn: 0.2036074\ttotal: 261ms\tremaining: 1.05s\n",
      "199:\tlearn: 0.2026633\ttotal: 262ms\tremaining: 1.05s\n",
      "200:\tlearn: 0.2014577\ttotal: 263ms\tremaining: 1.05s\n",
      "201:\tlearn: 0.2003056\ttotal: 265ms\tremaining: 1.04s\n",
      "202:\tlearn: 0.1993886\ttotal: 266ms\tremaining: 1.04s\n",
      "203:\tlearn: 0.1983181\ttotal: 267ms\tremaining: 1.04s\n",
      "204:\tlearn: 0.1973315\ttotal: 268ms\tremaining: 1.04s\n",
      "205:\tlearn: 0.1963381\ttotal: 269ms\tremaining: 1.04s\n",
      "206:\tlearn: 0.1953074\ttotal: 271ms\tremaining: 1.04s\n",
      "207:\tlearn: 0.1937285\ttotal: 272ms\tremaining: 1.03s\n",
      "208:\tlearn: 0.1929469\ttotal: 273ms\tremaining: 1.03s\n",
      "209:\tlearn: 0.1913841\ttotal: 274ms\tremaining: 1.03s\n",
      "210:\tlearn: 0.1904709\ttotal: 276ms\tremaining: 1.03s\n",
      "211:\tlearn: 0.1892624\ttotal: 277ms\tremaining: 1.03s\n",
      "212:\tlearn: 0.1882550\ttotal: 278ms\tremaining: 1.03s\n",
      "213:\tlearn: 0.1871725\ttotal: 279ms\tremaining: 1.02s\n",
      "214:\tlearn: 0.1863029\ttotal: 281ms\tremaining: 1.02s\n",
      "215:\tlearn: 0.1854243\ttotal: 282ms\tremaining: 1.02s\n",
      "216:\tlearn: 0.1837339\ttotal: 283ms\tremaining: 1.02s\n",
      "217:\tlearn: 0.1825661\ttotal: 284ms\tremaining: 1.02s\n",
      "218:\tlearn: 0.1821007\ttotal: 285ms\tremaining: 1.02s\n",
      "219:\tlearn: 0.1810566\ttotal: 287ms\tremaining: 1.02s\n",
      "220:\tlearn: 0.1799017\ttotal: 288ms\tremaining: 1.01s\n",
      "221:\tlearn: 0.1787264\ttotal: 289ms\tremaining: 1.01s\n",
      "222:\tlearn: 0.1780027\ttotal: 290ms\tremaining: 1.01s\n",
      "223:\tlearn: 0.1773017\ttotal: 292ms\tremaining: 1.01s\n",
      "224:\tlearn: 0.1760964\ttotal: 293ms\tremaining: 1.01s\n",
      "225:\tlearn: 0.1752622\ttotal: 294ms\tremaining: 1.01s\n",
      "226:\tlearn: 0.1743234\ttotal: 295ms\tremaining: 1s\n",
      "227:\tlearn: 0.1731231\ttotal: 297ms\tremaining: 1s\n",
      "228:\tlearn: 0.1722675\ttotal: 298ms\tremaining: 1s\n",
      "229:\tlearn: 0.1714796\ttotal: 299ms\tremaining: 1s\n",
      "230:\tlearn: 0.1710700\ttotal: 300ms\tremaining: 1000ms\n",
      "231:\tlearn: 0.1698087\ttotal: 302ms\tremaining: 999ms\n",
      "232:\tlearn: 0.1687858\ttotal: 303ms\tremaining: 997ms\n",
      "233:\tlearn: 0.1676430\ttotal: 304ms\tremaining: 997ms\n",
      "234:\tlearn: 0.1665339\ttotal: 306ms\tremaining: 995ms\n",
      "235:\tlearn: 0.1660549\ttotal: 307ms\tremaining: 994ms\n",
      "236:\tlearn: 0.1654335\ttotal: 308ms\tremaining: 992ms\n",
      "237:\tlearn: 0.1644464\ttotal: 309ms\tremaining: 991ms\n",
      "238:\tlearn: 0.1634710\ttotal: 311ms\tremaining: 989ms\n",
      "239:\tlearn: 0.1625535\ttotal: 312ms\tremaining: 987ms\n",
      "240:\tlearn: 0.1618207\ttotal: 313ms\tremaining: 985ms\n",
      "241:\tlearn: 0.1610855\ttotal: 314ms\tremaining: 984ms\n",
      "242:\tlearn: 0.1601157\ttotal: 316ms\tremaining: 983ms\n",
      "243:\tlearn: 0.1593701\ttotal: 317ms\tremaining: 982ms\n",
      "244:\tlearn: 0.1582878\ttotal: 318ms\tremaining: 980ms\n",
      "245:\tlearn: 0.1573911\ttotal: 320ms\tremaining: 979ms\n",
      "246:\tlearn: 0.1566906\ttotal: 321ms\tremaining: 978ms\n",
      "247:\tlearn: 0.1556301\ttotal: 322ms\tremaining: 976ms\n",
      "248:\tlearn: 0.1554221\ttotal: 323ms\tremaining: 974ms\n",
      "249:\tlearn: 0.1544930\ttotal: 324ms\tremaining: 972ms\n",
      "250:\tlearn: 0.1539734\ttotal: 325ms\tremaining: 971ms\n",
      "251:\tlearn: 0.1533215\ttotal: 326ms\tremaining: 969ms\n",
      "252:\tlearn: 0.1523782\ttotal: 328ms\tremaining: 968ms\n",
      "253:\tlearn: 0.1515541\ttotal: 329ms\tremaining: 966ms\n",
      "254:\tlearn: 0.1509955\ttotal: 331ms\tremaining: 966ms\n",
      "255:\tlearn: 0.1504869\ttotal: 332ms\tremaining: 964ms\n",
      "256:\tlearn: 0.1496922\ttotal: 333ms\tremaining: 962ms\n",
      "257:\tlearn: 0.1488564\ttotal: 334ms\tremaining: 961ms\n",
      "258:\tlearn: 0.1483170\ttotal: 335ms\tremaining: 960ms\n",
      "259:\tlearn: 0.1473808\ttotal: 337ms\tremaining: 958ms\n",
      "260:\tlearn: 0.1466414\ttotal: 338ms\tremaining: 957ms\n",
      "261:\tlearn: 0.1459754\ttotal: 339ms\tremaining: 955ms\n",
      "262:\tlearn: 0.1453448\ttotal: 340ms\tremaining: 953ms\n",
      "263:\tlearn: 0.1441246\ttotal: 341ms\tremaining: 952ms\n",
      "264:\tlearn: 0.1435233\ttotal: 343ms\tremaining: 950ms\n",
      "265:\tlearn: 0.1428066\ttotal: 344ms\tremaining: 949ms\n",
      "266:\tlearn: 0.1421032\ttotal: 345ms\tremaining: 948ms\n",
      "267:\tlearn: 0.1414752\ttotal: 347ms\tremaining: 946ms\n",
      "268:\tlearn: 0.1410382\ttotal: 348ms\tremaining: 945ms\n",
      "269:\tlearn: 0.1402582\ttotal: 349ms\tremaining: 943ms\n",
      "270:\tlearn: 0.1396977\ttotal: 350ms\tremaining: 942ms\n",
      "271:\tlearn: 0.1389923\ttotal: 351ms\tremaining: 940ms\n",
      "272:\tlearn: 0.1383778\ttotal: 352ms\tremaining: 938ms\n",
      "273:\tlearn: 0.1377018\ttotal: 354ms\tremaining: 937ms\n",
      "274:\tlearn: 0.1371575\ttotal: 355ms\tremaining: 936ms\n",
      "275:\tlearn: 0.1366326\ttotal: 356ms\tremaining: 934ms\n",
      "276:\tlearn: 0.1363309\ttotal: 358ms\tremaining: 933ms\n",
      "277:\tlearn: 0.1358030\ttotal: 359ms\tremaining: 932ms\n",
      "278:\tlearn: 0.1352947\ttotal: 361ms\tremaining: 932ms\n",
      "279:\tlearn: 0.1347034\ttotal: 362ms\tremaining: 931ms\n",
      "280:\tlearn: 0.1340692\ttotal: 364ms\tremaining: 930ms\n",
      "281:\tlearn: 0.1335043\ttotal: 365ms\tremaining: 929ms\n",
      "282:\tlearn: 0.1330940\ttotal: 367ms\tremaining: 929ms\n",
      "283:\tlearn: 0.1325897\ttotal: 368ms\tremaining: 928ms\n",
      "284:\tlearn: 0.1317561\ttotal: 369ms\tremaining: 927ms\n",
      "285:\tlearn: 0.1313416\ttotal: 371ms\tremaining: 926ms\n",
      "286:\tlearn: 0.1309499\ttotal: 372ms\tremaining: 925ms\n",
      "287:\tlearn: 0.1305624\ttotal: 374ms\tremaining: 924ms\n",
      "288:\tlearn: 0.1301087\ttotal: 376ms\tremaining: 925ms\n",
      "289:\tlearn: 0.1295246\ttotal: 377ms\tremaining: 924ms\n",
      "290:\tlearn: 0.1289022\ttotal: 379ms\tremaining: 923ms\n",
      "291:\tlearn: 0.1281336\ttotal: 380ms\tremaining: 922ms\n",
      "292:\tlearn: 0.1275139\ttotal: 382ms\tremaining: 921ms\n",
      "293:\tlearn: 0.1269328\ttotal: 384ms\tremaining: 921ms\n",
      "294:\tlearn: 0.1263339\ttotal: 385ms\tremaining: 920ms\n",
      "295:\tlearn: 0.1258277\ttotal: 386ms\tremaining: 919ms\n",
      "296:\tlearn: 0.1251734\ttotal: 388ms\tremaining: 917ms\n",
      "297:\tlearn: 0.1245053\ttotal: 389ms\tremaining: 916ms\n",
      "298:\tlearn: 0.1241248\ttotal: 390ms\tremaining: 915ms\n",
      "299:\tlearn: 0.1237211\ttotal: 391ms\tremaining: 913ms\n",
      "300:\tlearn: 0.1234364\ttotal: 393ms\tremaining: 912ms\n",
      "301:\tlearn: 0.1229650\ttotal: 394ms\tremaining: 910ms\n",
      "302:\tlearn: 0.1223009\ttotal: 395ms\tremaining: 909ms\n",
      "303:\tlearn: 0.1219324\ttotal: 396ms\tremaining: 907ms\n",
      "304:\tlearn: 0.1216193\ttotal: 398ms\tremaining: 906ms\n",
      "305:\tlearn: 0.1210329\ttotal: 399ms\tremaining: 904ms\n",
      "306:\tlearn: 0.1204769\ttotal: 400ms\tremaining: 903ms\n",
      "307:\tlearn: 0.1199436\ttotal: 401ms\tremaining: 901ms\n",
      "308:\tlearn: 0.1196266\ttotal: 402ms\tremaining: 900ms\n",
      "309:\tlearn: 0.1191038\ttotal: 404ms\tremaining: 898ms\n",
      "310:\tlearn: 0.1185922\ttotal: 405ms\tremaining: 898ms\n",
      "311:\tlearn: 0.1182262\ttotal: 407ms\tremaining: 897ms\n",
      "312:\tlearn: 0.1177128\ttotal: 408ms\tremaining: 895ms\n",
      "313:\tlearn: 0.1173237\ttotal: 409ms\tremaining: 894ms\n",
      "314:\tlearn: 0.1167001\ttotal: 410ms\tremaining: 892ms\n",
      "315:\tlearn: 0.1162509\ttotal: 411ms\tremaining: 890ms\n",
      "316:\tlearn: 0.1159221\ttotal: 413ms\tremaining: 889ms\n",
      "317:\tlearn: 0.1153578\ttotal: 414ms\tremaining: 888ms\n",
      "318:\tlearn: 0.1150276\ttotal: 415ms\tremaining: 886ms\n",
      "319:\tlearn: 0.1144950\ttotal: 416ms\tremaining: 885ms\n",
      "320:\tlearn: 0.1141173\ttotal: 418ms\tremaining: 883ms\n",
      "321:\tlearn: 0.1136664\ttotal: 419ms\tremaining: 882ms\n",
      "322:\tlearn: 0.1133814\ttotal: 420ms\tremaining: 881ms\n",
      "323:\tlearn: 0.1129060\ttotal: 421ms\tremaining: 879ms\n",
      "324:\tlearn: 0.1125917\ttotal: 422ms\tremaining: 877ms\n",
      "325:\tlearn: 0.1121183\ttotal: 424ms\tremaining: 876ms\n",
      "326:\tlearn: 0.1117781\ttotal: 425ms\tremaining: 874ms\n",
      "327:\tlearn: 0.1112048\ttotal: 426ms\tremaining: 873ms\n",
      "328:\tlearn: 0.1108269\ttotal: 427ms\tremaining: 872ms\n",
      "329:\tlearn: 0.1102822\ttotal: 429ms\tremaining: 870ms\n",
      "330:\tlearn: 0.1099019\ttotal: 430ms\tremaining: 869ms\n",
      "331:\tlearn: 0.1094002\ttotal: 431ms\tremaining: 867ms\n",
      "332:\tlearn: 0.1088876\ttotal: 432ms\tremaining: 866ms\n",
      "333:\tlearn: 0.1083968\ttotal: 434ms\tremaining: 866ms\n",
      "334:\tlearn: 0.1077743\ttotal: 436ms\tremaining: 865ms\n",
      "335:\tlearn: 0.1072939\ttotal: 437ms\tremaining: 865ms\n",
      "336:\tlearn: 0.1070029\ttotal: 439ms\tremaining: 864ms\n",
      "337:\tlearn: 0.1065815\ttotal: 440ms\tremaining: 862ms\n",
      "338:\tlearn: 0.1061878\ttotal: 442ms\tremaining: 862ms\n",
      "339:\tlearn: 0.1055978\ttotal: 444ms\tremaining: 861ms\n",
      "340:\tlearn: 0.1051529\ttotal: 446ms\tremaining: 862ms\n",
      "341:\tlearn: 0.1046183\ttotal: 448ms\tremaining: 862ms\n",
      "342:\tlearn: 0.1042911\ttotal: 450ms\tremaining: 862ms\n",
      "343:\tlearn: 0.1039735\ttotal: 452ms\tremaining: 862ms\n",
      "344:\tlearn: 0.1035531\ttotal: 454ms\tremaining: 862ms\n",
      "345:\tlearn: 0.1032131\ttotal: 456ms\tremaining: 863ms\n",
      "346:\tlearn: 0.1028624\ttotal: 458ms\tremaining: 863ms\n",
      "347:\tlearn: 0.1024828\ttotal: 460ms\tremaining: 862ms\n",
      "348:\tlearn: 0.1020685\ttotal: 462ms\tremaining: 861ms\n",
      "349:\tlearn: 0.1016629\ttotal: 463ms\tremaining: 860ms\n",
      "350:\tlearn: 0.1012444\ttotal: 465ms\tremaining: 859ms\n",
      "351:\tlearn: 0.1009519\ttotal: 466ms\tremaining: 858ms\n",
      "352:\tlearn: 0.1005831\ttotal: 468ms\tremaining: 858ms\n",
      "353:\tlearn: 0.1002411\ttotal: 470ms\tremaining: 857ms\n",
      "354:\tlearn: 0.0998857\ttotal: 471ms\tremaining: 856ms\n",
      "355:\tlearn: 0.0996395\ttotal: 473ms\tremaining: 855ms\n",
      "356:\tlearn: 0.0992116\ttotal: 474ms\tremaining: 854ms\n",
      "357:\tlearn: 0.0987767\ttotal: 476ms\tremaining: 853ms\n",
      "358:\tlearn: 0.0983969\ttotal: 477ms\tremaining: 852ms\n",
      "359:\tlearn: 0.0979696\ttotal: 479ms\tremaining: 851ms\n",
      "360:\tlearn: 0.0975885\ttotal: 480ms\tremaining: 850ms\n",
      "361:\tlearn: 0.0972074\ttotal: 482ms\tremaining: 849ms\n",
      "362:\tlearn: 0.0969226\ttotal: 484ms\tremaining: 849ms\n",
      "363:\tlearn: 0.0964311\ttotal: 485ms\tremaining: 848ms\n",
      "364:\tlearn: 0.0962854\ttotal: 487ms\tremaining: 847ms\n",
      "365:\tlearn: 0.0958058\ttotal: 489ms\tremaining: 847ms\n",
      "366:\tlearn: 0.0953141\ttotal: 491ms\tremaining: 846ms\n",
      "367:\tlearn: 0.0949711\ttotal: 492ms\tremaining: 845ms\n",
      "368:\tlearn: 0.0946239\ttotal: 493ms\tremaining: 844ms\n",
      "369:\tlearn: 0.0943478\ttotal: 495ms\tremaining: 843ms\n",
      "370:\tlearn: 0.0940295\ttotal: 497ms\tremaining: 842ms\n",
      "371:\tlearn: 0.0938155\ttotal: 498ms\tremaining: 841ms\n",
      "372:\tlearn: 0.0935766\ttotal: 499ms\tremaining: 840ms\n",
      "373:\tlearn: 0.0932225\ttotal: 501ms\tremaining: 839ms\n",
      "374:\tlearn: 0.0928500\ttotal: 502ms\tremaining: 837ms\n",
      "375:\tlearn: 0.0924919\ttotal: 504ms\tremaining: 836ms\n",
      "376:\tlearn: 0.0922254\ttotal: 505ms\tremaining: 835ms\n",
      "377:\tlearn: 0.0918661\ttotal: 507ms\tremaining: 834ms\n",
      "378:\tlearn: 0.0915286\ttotal: 508ms\tremaining: 833ms\n",
      "379:\tlearn: 0.0911418\ttotal: 510ms\tremaining: 832ms\n",
      "380:\tlearn: 0.0908461\ttotal: 511ms\tremaining: 830ms\n",
      "381:\tlearn: 0.0906172\ttotal: 512ms\tremaining: 829ms\n",
      "382:\tlearn: 0.0902083\ttotal: 514ms\tremaining: 828ms\n",
      "383:\tlearn: 0.0898501\ttotal: 515ms\tremaining: 827ms\n",
      "384:\tlearn: 0.0895325\ttotal: 517ms\tremaining: 825ms\n",
      "385:\tlearn: 0.0892407\ttotal: 518ms\tremaining: 824ms\n",
      "386:\tlearn: 0.0888997\ttotal: 520ms\tremaining: 823ms\n",
      "387:\tlearn: 0.0885605\ttotal: 521ms\tremaining: 822ms\n",
      "388:\tlearn: 0.0882375\ttotal: 522ms\tremaining: 820ms\n",
      "389:\tlearn: 0.0879707\ttotal: 523ms\tremaining: 819ms\n",
      "390:\tlearn: 0.0877210\ttotal: 525ms\tremaining: 818ms\n",
      "391:\tlearn: 0.0874494\ttotal: 526ms\tremaining: 816ms\n",
      "392:\tlearn: 0.0872020\ttotal: 527ms\tremaining: 814ms\n",
      "393:\tlearn: 0.0869044\ttotal: 529ms\tremaining: 813ms\n",
      "394:\tlearn: 0.0867236\ttotal: 530ms\tremaining: 812ms\n",
      "395:\tlearn: 0.0865034\ttotal: 531ms\tremaining: 810ms\n",
      "396:\tlearn: 0.0863001\ttotal: 533ms\tremaining: 809ms\n",
      "397:\tlearn: 0.0859864\ttotal: 534ms\tremaining: 808ms\n",
      "398:\tlearn: 0.0857980\ttotal: 535ms\tremaining: 806ms\n",
      "399:\tlearn: 0.0855196\ttotal: 537ms\tremaining: 805ms\n",
      "400:\tlearn: 0.0852373\ttotal: 539ms\tremaining: 805ms\n",
      "401:\tlearn: 0.0850363\ttotal: 540ms\tremaining: 803ms\n",
      "402:\tlearn: 0.0847137\ttotal: 541ms\tremaining: 802ms\n",
      "403:\tlearn: 0.0844115\ttotal: 543ms\tremaining: 800ms\n",
      "404:\tlearn: 0.0841111\ttotal: 544ms\tremaining: 799ms\n",
      "405:\tlearn: 0.0838753\ttotal: 545ms\tremaining: 798ms\n",
      "406:\tlearn: 0.0836775\ttotal: 546ms\tremaining: 796ms\n",
      "407:\tlearn: 0.0834916\ttotal: 548ms\tremaining: 795ms\n",
      "408:\tlearn: 0.0833035\ttotal: 549ms\tremaining: 794ms\n",
      "409:\tlearn: 0.0831194\ttotal: 551ms\tremaining: 793ms\n",
      "410:\tlearn: 0.0827355\ttotal: 553ms\tremaining: 792ms\n",
      "411:\tlearn: 0.0825342\ttotal: 555ms\tremaining: 792ms\n",
      "412:\tlearn: 0.0820886\ttotal: 556ms\tremaining: 790ms\n",
      "413:\tlearn: 0.0818134\ttotal: 558ms\tremaining: 790ms\n",
      "414:\tlearn: 0.0815685\ttotal: 560ms\tremaining: 789ms\n",
      "415:\tlearn: 0.0812450\ttotal: 562ms\tremaining: 788ms\n",
      "416:\tlearn: 0.0808748\ttotal: 563ms\tremaining: 787ms\n",
      "417:\tlearn: 0.0805625\ttotal: 565ms\tremaining: 786ms\n",
      "418:\tlearn: 0.0803624\ttotal: 566ms\tremaining: 785ms\n",
      "419:\tlearn: 0.0800638\ttotal: 568ms\tremaining: 784ms\n",
      "420:\tlearn: 0.0798971\ttotal: 569ms\tremaining: 782ms\n",
      "421:\tlearn: 0.0796717\ttotal: 571ms\tremaining: 782ms\n",
      "422:\tlearn: 0.0794202\ttotal: 572ms\tremaining: 781ms\n",
      "423:\tlearn: 0.0792574\ttotal: 574ms\tremaining: 780ms\n",
      "424:\tlearn: 0.0790064\ttotal: 575ms\tremaining: 778ms\n",
      "425:\tlearn: 0.0786710\ttotal: 576ms\tremaining: 777ms\n",
      "426:\tlearn: 0.0784260\ttotal: 578ms\tremaining: 775ms\n",
      "427:\tlearn: 0.0782515\ttotal: 580ms\tremaining: 775ms\n",
      "428:\tlearn: 0.0780822\ttotal: 581ms\tremaining: 774ms\n",
      "429:\tlearn: 0.0779066\ttotal: 583ms\tremaining: 772ms\n",
      "430:\tlearn: 0.0775997\ttotal: 584ms\tremaining: 771ms\n",
      "431:\tlearn: 0.0773191\ttotal: 585ms\tremaining: 770ms\n",
      "432:\tlearn: 0.0771312\ttotal: 587ms\tremaining: 768ms\n",
      "433:\tlearn: 0.0769319\ttotal: 588ms\tremaining: 767ms\n",
      "434:\tlearn: 0.0767615\ttotal: 589ms\tremaining: 766ms\n",
      "435:\tlearn: 0.0765103\ttotal: 591ms\tremaining: 764ms\n",
      "436:\tlearn: 0.0762942\ttotal: 592ms\tremaining: 762ms\n",
      "437:\tlearn: 0.0761759\ttotal: 593ms\tremaining: 761ms\n",
      "438:\tlearn: 0.0759648\ttotal: 595ms\tremaining: 760ms\n",
      "439:\tlearn: 0.0757118\ttotal: 596ms\tremaining: 759ms\n",
      "440:\tlearn: 0.0754841\ttotal: 597ms\tremaining: 757ms\n",
      "441:\tlearn: 0.0753044\ttotal: 598ms\tremaining: 755ms\n",
      "442:\tlearn: 0.0751933\ttotal: 600ms\tremaining: 754ms\n",
      "443:\tlearn: 0.0749573\ttotal: 601ms\tremaining: 753ms\n",
      "444:\tlearn: 0.0747356\ttotal: 602ms\tremaining: 751ms\n",
      "445:\tlearn: 0.0744656\ttotal: 603ms\tremaining: 750ms\n",
      "446:\tlearn: 0.0743364\ttotal: 605ms\tremaining: 748ms\n",
      "447:\tlearn: 0.0741218\ttotal: 606ms\tremaining: 747ms\n",
      "448:\tlearn: 0.0739525\ttotal: 607ms\tremaining: 745ms\n",
      "449:\tlearn: 0.0737725\ttotal: 609ms\tremaining: 744ms\n",
      "450:\tlearn: 0.0735167\ttotal: 610ms\tremaining: 742ms\n",
      "451:\tlearn: 0.0732880\ttotal: 611ms\tremaining: 741ms\n",
      "452:\tlearn: 0.0731924\ttotal: 612ms\tremaining: 739ms\n",
      "453:\tlearn: 0.0730164\ttotal: 614ms\tremaining: 738ms\n",
      "454:\tlearn: 0.0728100\ttotal: 615ms\tremaining: 737ms\n",
      "455:\tlearn: 0.0725938\ttotal: 616ms\tremaining: 735ms\n",
      "456:\tlearn: 0.0723599\ttotal: 617ms\tremaining: 734ms\n",
      "457:\tlearn: 0.0721773\ttotal: 619ms\tremaining: 732ms\n",
      "458:\tlearn: 0.0719574\ttotal: 620ms\tremaining: 731ms\n",
      "459:\tlearn: 0.0717028\ttotal: 621ms\tremaining: 729ms\n",
      "460:\tlearn: 0.0714570\ttotal: 623ms\tremaining: 728ms\n",
      "461:\tlearn: 0.0712269\ttotal: 624ms\tremaining: 726ms\n",
      "462:\tlearn: 0.0709668\ttotal: 625ms\tremaining: 725ms\n",
      "463:\tlearn: 0.0706613\ttotal: 626ms\tremaining: 723ms\n",
      "464:\tlearn: 0.0704858\ttotal: 627ms\tremaining: 722ms\n",
      "465:\tlearn: 0.0703167\ttotal: 629ms\tremaining: 720ms\n",
      "466:\tlearn: 0.0701629\ttotal: 630ms\tremaining: 719ms\n",
      "467:\tlearn: 0.0700660\ttotal: 631ms\tremaining: 717ms\n",
      "468:\tlearn: 0.0698643\ttotal: 632ms\tremaining: 716ms\n",
      "469:\tlearn: 0.0696469\ttotal: 634ms\tremaining: 715ms\n",
      "470:\tlearn: 0.0694923\ttotal: 635ms\tremaining: 713ms\n",
      "471:\tlearn: 0.0693762\ttotal: 636ms\tremaining: 712ms\n",
      "472:\tlearn: 0.0692587\ttotal: 638ms\tremaining: 710ms\n",
      "473:\tlearn: 0.0690475\ttotal: 639ms\tremaining: 709ms\n",
      "474:\tlearn: 0.0688099\ttotal: 640ms\tremaining: 707ms\n",
      "475:\tlearn: 0.0685599\ttotal: 641ms\tremaining: 706ms\n",
      "476:\tlearn: 0.0684933\ttotal: 642ms\tremaining: 704ms\n",
      "477:\tlearn: 0.0682981\ttotal: 643ms\tremaining: 703ms\n",
      "478:\tlearn: 0.0681454\ttotal: 645ms\tremaining: 701ms\n",
      "479:\tlearn: 0.0679299\ttotal: 646ms\tremaining: 700ms\n",
      "480:\tlearn: 0.0678533\ttotal: 647ms\tremaining: 698ms\n",
      "481:\tlearn: 0.0676530\ttotal: 648ms\tremaining: 697ms\n",
      "482:\tlearn: 0.0675070\ttotal: 649ms\tremaining: 695ms\n",
      "483:\tlearn: 0.0672551\ttotal: 651ms\tremaining: 694ms\n",
      "484:\tlearn: 0.0670711\ttotal: 652ms\tremaining: 693ms\n",
      "485:\tlearn: 0.0668888\ttotal: 654ms\tremaining: 691ms\n",
      "486:\tlearn: 0.0666548\ttotal: 655ms\tremaining: 690ms\n",
      "487:\tlearn: 0.0665025\ttotal: 656ms\tremaining: 688ms\n",
      "488:\tlearn: 0.0663528\ttotal: 657ms\tremaining: 687ms\n",
      "489:\tlearn: 0.0662104\ttotal: 658ms\tremaining: 685ms\n",
      "490:\tlearn: 0.0660098\ttotal: 659ms\tremaining: 684ms\n",
      "491:\tlearn: 0.0658512\ttotal: 661ms\tremaining: 682ms\n",
      "492:\tlearn: 0.0656512\ttotal: 662ms\tremaining: 681ms\n",
      "493:\tlearn: 0.0654605\ttotal: 663ms\tremaining: 679ms\n",
      "494:\tlearn: 0.0652848\ttotal: 664ms\tremaining: 678ms\n",
      "495:\tlearn: 0.0651818\ttotal: 665ms\tremaining: 676ms\n",
      "496:\tlearn: 0.0650621\ttotal: 667ms\tremaining: 675ms\n",
      "497:\tlearn: 0.0648579\ttotal: 668ms\tremaining: 673ms\n",
      "498:\tlearn: 0.0647285\ttotal: 669ms\tremaining: 672ms\n",
      "499:\tlearn: 0.0645740\ttotal: 670ms\tremaining: 670ms\n",
      "500:\tlearn: 0.0643270\ttotal: 672ms\tremaining: 669ms\n",
      "501:\tlearn: 0.0642760\ttotal: 673ms\tremaining: 667ms\n",
      "502:\tlearn: 0.0641307\ttotal: 674ms\tremaining: 666ms\n",
      "503:\tlearn: 0.0638962\ttotal: 676ms\tremaining: 665ms\n",
      "504:\tlearn: 0.0636215\ttotal: 677ms\tremaining: 663ms\n",
      "505:\tlearn: 0.0634401\ttotal: 678ms\tremaining: 662ms\n",
      "506:\tlearn: 0.0633234\ttotal: 679ms\tremaining: 661ms\n",
      "507:\tlearn: 0.0631672\ttotal: 681ms\tremaining: 659ms\n",
      "508:\tlearn: 0.0630086\ttotal: 682ms\tremaining: 658ms\n",
      "509:\tlearn: 0.0629323\ttotal: 684ms\tremaining: 657ms\n",
      "510:\tlearn: 0.0627357\ttotal: 685ms\tremaining: 656ms\n",
      "511:\tlearn: 0.0626412\ttotal: 686ms\tremaining: 654ms\n",
      "512:\tlearn: 0.0624394\ttotal: 688ms\tremaining: 653ms\n",
      "513:\tlearn: 0.0622994\ttotal: 689ms\tremaining: 651ms\n",
      "514:\tlearn: 0.0621370\ttotal: 690ms\tremaining: 650ms\n",
      "515:\tlearn: 0.0619943\ttotal: 691ms\tremaining: 648ms\n",
      "516:\tlearn: 0.0617977\ttotal: 693ms\tremaining: 647ms\n",
      "517:\tlearn: 0.0616934\ttotal: 694ms\tremaining: 645ms\n",
      "518:\tlearn: 0.0615705\ttotal: 695ms\tremaining: 644ms\n",
      "519:\tlearn: 0.0614160\ttotal: 696ms\tremaining: 642ms\n",
      "520:\tlearn: 0.0612848\ttotal: 697ms\tremaining: 641ms\n",
      "521:\tlearn: 0.0611827\ttotal: 699ms\tremaining: 640ms\n",
      "522:\tlearn: 0.0609892\ttotal: 700ms\tremaining: 638ms\n",
      "523:\tlearn: 0.0608700\ttotal: 701ms\tremaining: 637ms\n",
      "524:\tlearn: 0.0607940\ttotal: 702ms\tremaining: 635ms\n",
      "525:\tlearn: 0.0606693\ttotal: 703ms\tremaining: 634ms\n",
      "526:\tlearn: 0.0605558\ttotal: 705ms\tremaining: 633ms\n",
      "527:\tlearn: 0.0603794\ttotal: 706ms\tremaining: 631ms\n",
      "528:\tlearn: 0.0601932\ttotal: 707ms\tremaining: 630ms\n",
      "529:\tlearn: 0.0600581\ttotal: 709ms\tremaining: 628ms\n",
      "530:\tlearn: 0.0598709\ttotal: 710ms\tremaining: 627ms\n",
      "531:\tlearn: 0.0597343\ttotal: 710ms\tremaining: 625ms\n",
      "532:\tlearn: 0.0595779\ttotal: 712ms\tremaining: 624ms\n",
      "533:\tlearn: 0.0594427\ttotal: 713ms\tremaining: 622ms\n",
      "534:\tlearn: 0.0592525\ttotal: 714ms\tremaining: 621ms\n",
      "535:\tlearn: 0.0591415\ttotal: 716ms\tremaining: 619ms\n",
      "536:\tlearn: 0.0590518\ttotal: 717ms\tremaining: 618ms\n",
      "537:\tlearn: 0.0588744\ttotal: 719ms\tremaining: 617ms\n",
      "538:\tlearn: 0.0586867\ttotal: 720ms\tremaining: 616ms\n",
      "539:\tlearn: 0.0585816\ttotal: 722ms\tremaining: 615ms\n",
      "540:\tlearn: 0.0584533\ttotal: 723ms\tremaining: 614ms\n",
      "541:\tlearn: 0.0582438\ttotal: 725ms\tremaining: 612ms\n",
      "542:\tlearn: 0.0580800\ttotal: 726ms\tremaining: 611ms\n",
      "543:\tlearn: 0.0579479\ttotal: 728ms\tremaining: 610ms\n",
      "544:\tlearn: 0.0578340\ttotal: 729ms\tremaining: 609ms\n",
      "545:\tlearn: 0.0577137\ttotal: 731ms\tremaining: 608ms\n",
      "546:\tlearn: 0.0575731\ttotal: 732ms\tremaining: 606ms\n",
      "547:\tlearn: 0.0574606\ttotal: 734ms\tremaining: 605ms\n",
      "548:\tlearn: 0.0573615\ttotal: 735ms\tremaining: 604ms\n",
      "549:\tlearn: 0.0571318\ttotal: 737ms\tremaining: 603ms\n",
      "550:\tlearn: 0.0570005\ttotal: 739ms\tremaining: 602ms\n",
      "551:\tlearn: 0.0568291\ttotal: 740ms\tremaining: 601ms\n",
      "552:\tlearn: 0.0567334\ttotal: 742ms\tremaining: 599ms\n",
      "553:\tlearn: 0.0566672\ttotal: 743ms\tremaining: 598ms\n",
      "554:\tlearn: 0.0564992\ttotal: 744ms\tremaining: 597ms\n",
      "555:\tlearn: 0.0564336\ttotal: 746ms\tremaining: 596ms\n",
      "556:\tlearn: 0.0562893\ttotal: 747ms\tremaining: 594ms\n",
      "557:\tlearn: 0.0561873\ttotal: 750ms\tremaining: 594ms\n",
      "558:\tlearn: 0.0559088\ttotal: 751ms\tremaining: 593ms\n",
      "559:\tlearn: 0.0557625\ttotal: 753ms\tremaining: 591ms\n",
      "560:\tlearn: 0.0556532\ttotal: 754ms\tremaining: 590ms\n",
      "561:\tlearn: 0.0554870\ttotal: 756ms\tremaining: 589ms\n",
      "562:\tlearn: 0.0553513\ttotal: 757ms\tremaining: 588ms\n",
      "563:\tlearn: 0.0552263\ttotal: 759ms\tremaining: 587ms\n",
      "564:\tlearn: 0.0550887\ttotal: 760ms\tremaining: 585ms\n",
      "565:\tlearn: 0.0549436\ttotal: 762ms\tremaining: 584ms\n",
      "566:\tlearn: 0.0548071\ttotal: 763ms\tremaining: 583ms\n",
      "567:\tlearn: 0.0547087\ttotal: 765ms\tremaining: 582ms\n",
      "568:\tlearn: 0.0545498\ttotal: 766ms\tremaining: 580ms\n",
      "569:\tlearn: 0.0543906\ttotal: 767ms\tremaining: 579ms\n",
      "570:\tlearn: 0.0542458\ttotal: 769ms\tremaining: 578ms\n",
      "571:\tlearn: 0.0541368\ttotal: 770ms\tremaining: 576ms\n",
      "572:\tlearn: 0.0540143\ttotal: 771ms\tremaining: 575ms\n",
      "573:\tlearn: 0.0539130\ttotal: 773ms\tremaining: 574ms\n",
      "574:\tlearn: 0.0538156\ttotal: 774ms\tremaining: 572ms\n",
      "575:\tlearn: 0.0536738\ttotal: 775ms\tremaining: 571ms\n",
      "576:\tlearn: 0.0535767\ttotal: 777ms\tremaining: 569ms\n",
      "577:\tlearn: 0.0534408\ttotal: 778ms\tremaining: 568ms\n",
      "578:\tlearn: 0.0533581\ttotal: 780ms\tremaining: 567ms\n",
      "579:\tlearn: 0.0532549\ttotal: 781ms\tremaining: 565ms\n",
      "580:\tlearn: 0.0531675\ttotal: 782ms\tremaining: 564ms\n",
      "581:\tlearn: 0.0530719\ttotal: 783ms\tremaining: 563ms\n",
      "582:\tlearn: 0.0529689\ttotal: 784ms\tremaining: 561ms\n",
      "583:\tlearn: 0.0528398\ttotal: 786ms\tremaining: 560ms\n",
      "584:\tlearn: 0.0527385\ttotal: 787ms\tremaining: 558ms\n",
      "585:\tlearn: 0.0526468\ttotal: 788ms\tremaining: 557ms\n",
      "586:\tlearn: 0.0525457\ttotal: 790ms\tremaining: 555ms\n",
      "587:\tlearn: 0.0523828\ttotal: 791ms\tremaining: 554ms\n",
      "588:\tlearn: 0.0522632\ttotal: 792ms\tremaining: 553ms\n",
      "589:\tlearn: 0.0521368\ttotal: 793ms\tremaining: 551ms\n",
      "590:\tlearn: 0.0519695\ttotal: 795ms\tremaining: 550ms\n",
      "591:\tlearn: 0.0518664\ttotal: 796ms\tremaining: 548ms\n",
      "592:\tlearn: 0.0517765\ttotal: 797ms\tremaining: 547ms\n",
      "593:\tlearn: 0.0516148\ttotal: 798ms\tremaining: 546ms\n",
      "594:\tlearn: 0.0514494\ttotal: 800ms\tremaining: 544ms\n",
      "595:\tlearn: 0.0513269\ttotal: 801ms\tremaining: 543ms\n",
      "596:\tlearn: 0.0511811\ttotal: 802ms\tremaining: 541ms\n",
      "597:\tlearn: 0.0509958\ttotal: 803ms\tremaining: 540ms\n",
      "598:\tlearn: 0.0508761\ttotal: 804ms\tremaining: 539ms\n",
      "599:\tlearn: 0.0507857\ttotal: 806ms\tremaining: 537ms\n",
      "600:\tlearn: 0.0506338\ttotal: 807ms\tremaining: 536ms\n",
      "601:\tlearn: 0.0505513\ttotal: 808ms\tremaining: 534ms\n",
      "602:\tlearn: 0.0504147\ttotal: 809ms\tremaining: 533ms\n",
      "603:\tlearn: 0.0503206\ttotal: 811ms\tremaining: 531ms\n",
      "604:\tlearn: 0.0502044\ttotal: 812ms\tremaining: 530ms\n",
      "605:\tlearn: 0.0500953\ttotal: 813ms\tremaining: 529ms\n",
      "606:\tlearn: 0.0500102\ttotal: 814ms\tremaining: 527ms\n",
      "607:\tlearn: 0.0499229\ttotal: 815ms\tremaining: 526ms\n",
      "608:\tlearn: 0.0498292\ttotal: 817ms\tremaining: 524ms\n",
      "609:\tlearn: 0.0497142\ttotal: 818ms\tremaining: 523ms\n",
      "610:\tlearn: 0.0496223\ttotal: 819ms\tremaining: 522ms\n",
      "611:\tlearn: 0.0494677\ttotal: 821ms\tremaining: 520ms\n",
      "612:\tlearn: 0.0493958\ttotal: 822ms\tremaining: 519ms\n",
      "613:\tlearn: 0.0493133\ttotal: 823ms\tremaining: 517ms\n",
      "614:\tlearn: 0.0492338\ttotal: 825ms\tremaining: 516ms\n",
      "615:\tlearn: 0.0491454\ttotal: 826ms\tremaining: 515ms\n",
      "616:\tlearn: 0.0490385\ttotal: 827ms\tremaining: 513ms\n",
      "617:\tlearn: 0.0489439\ttotal: 828ms\tremaining: 512ms\n",
      "618:\tlearn: 0.0488355\ttotal: 830ms\tremaining: 511ms\n",
      "619:\tlearn: 0.0487711\ttotal: 831ms\tremaining: 509ms\n",
      "620:\tlearn: 0.0487003\ttotal: 832ms\tremaining: 508ms\n",
      "621:\tlearn: 0.0486061\ttotal: 833ms\tremaining: 506ms\n",
      "622:\tlearn: 0.0485117\ttotal: 834ms\tremaining: 505ms\n",
      "623:\tlearn: 0.0484304\ttotal: 836ms\tremaining: 504ms\n",
      "624:\tlearn: 0.0483333\ttotal: 837ms\tremaining: 502ms\n",
      "625:\tlearn: 0.0482733\ttotal: 838ms\tremaining: 501ms\n",
      "626:\tlearn: 0.0481888\ttotal: 839ms\tremaining: 499ms\n",
      "627:\tlearn: 0.0481219\ttotal: 841ms\tremaining: 498ms\n",
      "628:\tlearn: 0.0480081\ttotal: 842ms\tremaining: 497ms\n",
      "629:\tlearn: 0.0478865\ttotal: 843ms\tremaining: 495ms\n",
      "630:\tlearn: 0.0477783\ttotal: 845ms\tremaining: 494ms\n",
      "631:\tlearn: 0.0476619\ttotal: 846ms\tremaining: 492ms\n",
      "632:\tlearn: 0.0475661\ttotal: 847ms\tremaining: 491ms\n",
      "633:\tlearn: 0.0475167\ttotal: 848ms\tremaining: 490ms\n",
      "634:\tlearn: 0.0474694\ttotal: 850ms\tremaining: 488ms\n",
      "635:\tlearn: 0.0474391\ttotal: 851ms\tremaining: 487ms\n",
      "636:\tlearn: 0.0473207\ttotal: 852ms\tremaining: 485ms\n",
      "637:\tlearn: 0.0472222\ttotal: 853ms\tremaining: 484ms\n",
      "638:\tlearn: 0.0471513\ttotal: 855ms\tremaining: 483ms\n",
      "639:\tlearn: 0.0470710\ttotal: 856ms\tremaining: 481ms\n",
      "640:\tlearn: 0.0469781\ttotal: 857ms\tremaining: 480ms\n",
      "641:\tlearn: 0.0469238\ttotal: 858ms\tremaining: 479ms\n",
      "642:\tlearn: 0.0468462\ttotal: 859ms\tremaining: 477ms\n",
      "643:\tlearn: 0.0467413\ttotal: 861ms\tremaining: 476ms\n",
      "644:\tlearn: 0.0466298\ttotal: 862ms\tremaining: 474ms\n",
      "645:\tlearn: 0.0465714\ttotal: 863ms\tremaining: 473ms\n",
      "646:\tlearn: 0.0464627\ttotal: 864ms\tremaining: 472ms\n",
      "647:\tlearn: 0.0463637\ttotal: 865ms\tremaining: 470ms\n",
      "648:\tlearn: 0.0463106\ttotal: 867ms\tremaining: 469ms\n",
      "649:\tlearn: 0.0462431\ttotal: 868ms\tremaining: 467ms\n",
      "650:\tlearn: 0.0461265\ttotal: 869ms\tremaining: 466ms\n",
      "651:\tlearn: 0.0460076\ttotal: 870ms\tremaining: 464ms\n",
      "652:\tlearn: 0.0459230\ttotal: 871ms\tremaining: 463ms\n",
      "653:\tlearn: 0.0458233\ttotal: 873ms\tremaining: 462ms\n",
      "654:\tlearn: 0.0457238\ttotal: 874ms\tremaining: 460ms\n",
      "655:\tlearn: 0.0456499\ttotal: 875ms\tremaining: 459ms\n",
      "656:\tlearn: 0.0454976\ttotal: 877ms\tremaining: 458ms\n",
      "657:\tlearn: 0.0453996\ttotal: 878ms\tremaining: 456ms\n",
      "658:\tlearn: 0.0453479\ttotal: 879ms\tremaining: 455ms\n",
      "659:\tlearn: 0.0452843\ttotal: 880ms\tremaining: 453ms\n",
      "660:\tlearn: 0.0451997\ttotal: 881ms\tremaining: 452ms\n",
      "661:\tlearn: 0.0451078\ttotal: 882ms\tremaining: 451ms\n",
      "662:\tlearn: 0.0450337\ttotal: 884ms\tremaining: 449ms\n",
      "663:\tlearn: 0.0449667\ttotal: 885ms\tremaining: 448ms\n",
      "664:\tlearn: 0.0448536\ttotal: 887ms\tremaining: 447ms\n",
      "665:\tlearn: 0.0447782\ttotal: 888ms\tremaining: 445ms\n",
      "666:\tlearn: 0.0446769\ttotal: 889ms\tremaining: 444ms\n",
      "667:\tlearn: 0.0445486\ttotal: 890ms\tremaining: 442ms\n",
      "668:\tlearn: 0.0445006\ttotal: 891ms\tremaining: 441ms\n",
      "669:\tlearn: 0.0444139\ttotal: 893ms\tremaining: 440ms\n",
      "670:\tlearn: 0.0443249\ttotal: 894ms\tremaining: 438ms\n",
      "671:\tlearn: 0.0442377\ttotal: 895ms\tremaining: 437ms\n",
      "672:\tlearn: 0.0441508\ttotal: 896ms\tremaining: 436ms\n",
      "673:\tlearn: 0.0440841\ttotal: 898ms\tremaining: 434ms\n",
      "674:\tlearn: 0.0440260\ttotal: 900ms\tremaining: 433ms\n",
      "675:\tlearn: 0.0439485\ttotal: 901ms\tremaining: 432ms\n",
      "676:\tlearn: 0.0438992\ttotal: 902ms\tremaining: 431ms\n",
      "677:\tlearn: 0.0438059\ttotal: 904ms\tremaining: 429ms\n",
      "678:\tlearn: 0.0436579\ttotal: 906ms\tremaining: 428ms\n",
      "679:\tlearn: 0.0435851\ttotal: 907ms\tremaining: 427ms\n",
      "680:\tlearn: 0.0435177\ttotal: 909ms\tremaining: 426ms\n",
      "681:\tlearn: 0.0434354\ttotal: 910ms\tremaining: 424ms\n",
      "682:\tlearn: 0.0433834\ttotal: 911ms\tremaining: 423ms\n",
      "683:\tlearn: 0.0433053\ttotal: 913ms\tremaining: 422ms\n",
      "684:\tlearn: 0.0432146\ttotal: 915ms\tremaining: 421ms\n",
      "685:\tlearn: 0.0431488\ttotal: 916ms\tremaining: 419ms\n",
      "686:\tlearn: 0.0430774\ttotal: 918ms\tremaining: 418ms\n",
      "687:\tlearn: 0.0430229\ttotal: 920ms\tremaining: 417ms\n",
      "688:\tlearn: 0.0429127\ttotal: 921ms\tremaining: 416ms\n",
      "689:\tlearn: 0.0428429\ttotal: 923ms\tremaining: 415ms\n",
      "690:\tlearn: 0.0428119\ttotal: 924ms\tremaining: 413ms\n",
      "691:\tlearn: 0.0427380\ttotal: 926ms\tremaining: 412ms\n",
      "692:\tlearn: 0.0426586\ttotal: 928ms\tremaining: 411ms\n",
      "693:\tlearn: 0.0425726\ttotal: 929ms\tremaining: 410ms\n",
      "694:\tlearn: 0.0425040\ttotal: 931ms\tremaining: 409ms\n",
      "695:\tlearn: 0.0424513\ttotal: 933ms\tremaining: 407ms\n",
      "696:\tlearn: 0.0423929\ttotal: 934ms\tremaining: 406ms\n",
      "697:\tlearn: 0.0423260\ttotal: 936ms\tremaining: 405ms\n",
      "698:\tlearn: 0.0422488\ttotal: 937ms\tremaining: 404ms\n",
      "699:\tlearn: 0.0421572\ttotal: 939ms\tremaining: 402ms\n",
      "700:\tlearn: 0.0420563\ttotal: 941ms\tremaining: 401ms\n",
      "701:\tlearn: 0.0419997\ttotal: 942ms\tremaining: 400ms\n",
      "702:\tlearn: 0.0419110\ttotal: 944ms\tremaining: 399ms\n",
      "703:\tlearn: 0.0418392\ttotal: 946ms\tremaining: 398ms\n",
      "704:\tlearn: 0.0417533\ttotal: 948ms\tremaining: 396ms\n",
      "705:\tlearn: 0.0416927\ttotal: 949ms\tremaining: 395ms\n",
      "706:\tlearn: 0.0416518\ttotal: 950ms\tremaining: 394ms\n",
      "707:\tlearn: 0.0415798\ttotal: 952ms\tremaining: 393ms\n",
      "708:\tlearn: 0.0414927\ttotal: 954ms\tremaining: 391ms\n",
      "709:\tlearn: 0.0414039\ttotal: 955ms\tremaining: 390ms\n",
      "710:\tlearn: 0.0413174\ttotal: 956ms\tremaining: 389ms\n",
      "711:\tlearn: 0.0412359\ttotal: 957ms\tremaining: 387ms\n",
      "712:\tlearn: 0.0411682\ttotal: 959ms\tremaining: 386ms\n",
      "713:\tlearn: 0.0410799\ttotal: 960ms\tremaining: 385ms\n",
      "714:\tlearn: 0.0409847\ttotal: 962ms\tremaining: 383ms\n",
      "715:\tlearn: 0.0409046\ttotal: 963ms\tremaining: 382ms\n",
      "716:\tlearn: 0.0408024\ttotal: 965ms\tremaining: 381ms\n",
      "717:\tlearn: 0.0407425\ttotal: 967ms\tremaining: 380ms\n",
      "718:\tlearn: 0.0406943\ttotal: 969ms\tremaining: 379ms\n",
      "719:\tlearn: 0.0406158\ttotal: 971ms\tremaining: 378ms\n",
      "720:\tlearn: 0.0405586\ttotal: 973ms\tremaining: 377ms\n",
      "721:\tlearn: 0.0405003\ttotal: 974ms\tremaining: 375ms\n",
      "722:\tlearn: 0.0404312\ttotal: 976ms\tremaining: 374ms\n",
      "723:\tlearn: 0.0403788\ttotal: 977ms\tremaining: 372ms\n",
      "724:\tlearn: 0.0403305\ttotal: 978ms\tremaining: 371ms\n",
      "725:\tlearn: 0.0402303\ttotal: 980ms\tremaining: 370ms\n",
      "726:\tlearn: 0.0401863\ttotal: 981ms\tremaining: 369ms\n",
      "727:\tlearn: 0.0401058\ttotal: 983ms\tremaining: 367ms\n",
      "728:\tlearn: 0.0400085\ttotal: 985ms\tremaining: 366ms\n",
      "729:\tlearn: 0.0399082\ttotal: 986ms\tremaining: 365ms\n",
      "730:\tlearn: 0.0398467\ttotal: 988ms\tremaining: 364ms\n",
      "731:\tlearn: 0.0397822\ttotal: 990ms\tremaining: 362ms\n",
      "732:\tlearn: 0.0397262\ttotal: 991ms\tremaining: 361ms\n",
      "733:\tlearn: 0.0396460\ttotal: 993ms\tremaining: 360ms\n",
      "734:\tlearn: 0.0395764\ttotal: 994ms\tremaining: 359ms\n",
      "735:\tlearn: 0.0395258\ttotal: 996ms\tremaining: 357ms\n",
      "736:\tlearn: 0.0394667\ttotal: 998ms\tremaining: 356ms\n",
      "737:\tlearn: 0.0394276\ttotal: 999ms\tremaining: 355ms\n",
      "738:\tlearn: 0.0393702\ttotal: 1s\tremaining: 353ms\n",
      "739:\tlearn: 0.0393062\ttotal: 1s\tremaining: 352ms\n",
      "740:\tlearn: 0.0392305\ttotal: 1s\tremaining: 351ms\n",
      "741:\tlearn: 0.0391858\ttotal: 1s\tremaining: 349ms\n",
      "742:\tlearn: 0.0391243\ttotal: 1.01s\tremaining: 348ms\n",
      "743:\tlearn: 0.0390467\ttotal: 1.01s\tremaining: 347ms\n",
      "744:\tlearn: 0.0389765\ttotal: 1.01s\tremaining: 346ms\n",
      "745:\tlearn: 0.0389225\ttotal: 1.01s\tremaining: 344ms\n",
      "746:\tlearn: 0.0388769\ttotal: 1.01s\tremaining: 343ms\n",
      "747:\tlearn: 0.0387866\ttotal: 1.01s\tremaining: 342ms\n",
      "748:\tlearn: 0.0387330\ttotal: 1.01s\tremaining: 340ms\n",
      "749:\tlearn: 0.0386798\ttotal: 1.02s\tremaining: 339ms\n",
      "750:\tlearn: 0.0386069\ttotal: 1.02s\tremaining: 337ms\n",
      "751:\tlearn: 0.0385517\ttotal: 1.02s\tremaining: 336ms\n",
      "752:\tlearn: 0.0384868\ttotal: 1.02s\tremaining: 335ms\n",
      "753:\tlearn: 0.0384048\ttotal: 1.02s\tremaining: 333ms\n",
      "754:\tlearn: 0.0383062\ttotal: 1.02s\tremaining: 332ms\n",
      "755:\tlearn: 0.0382257\ttotal: 1.02s\tremaining: 330ms\n",
      "756:\tlearn: 0.0381571\ttotal: 1.02s\tremaining: 329ms\n",
      "757:\tlearn: 0.0381059\ttotal: 1.03s\tremaining: 328ms\n",
      "758:\tlearn: 0.0380611\ttotal: 1.03s\tremaining: 326ms\n",
      "759:\tlearn: 0.0379940\ttotal: 1.03s\tremaining: 325ms\n",
      "760:\tlearn: 0.0379250\ttotal: 1.03s\tremaining: 323ms\n",
      "761:\tlearn: 0.0378780\ttotal: 1.03s\tremaining: 322ms\n",
      "762:\tlearn: 0.0378318\ttotal: 1.03s\tremaining: 321ms\n",
      "763:\tlearn: 0.0377571\ttotal: 1.03s\tremaining: 319ms\n",
      "764:\tlearn: 0.0376953\ttotal: 1.03s\tremaining: 318ms\n",
      "765:\tlearn: 0.0376422\ttotal: 1.04s\tremaining: 316ms\n",
      "766:\tlearn: 0.0375374\ttotal: 1.04s\tremaining: 315ms\n",
      "767:\tlearn: 0.0374880\ttotal: 1.04s\tremaining: 314ms\n",
      "768:\tlearn: 0.0374432\ttotal: 1.04s\tremaining: 312ms\n",
      "769:\tlearn: 0.0373941\ttotal: 1.04s\tremaining: 311ms\n",
      "770:\tlearn: 0.0373393\ttotal: 1.04s\tremaining: 309ms\n",
      "771:\tlearn: 0.0372701\ttotal: 1.04s\tremaining: 308ms\n",
      "772:\tlearn: 0.0372156\ttotal: 1.04s\tremaining: 307ms\n",
      "773:\tlearn: 0.0371663\ttotal: 1.04s\tremaining: 305ms\n",
      "774:\tlearn: 0.0371080\ttotal: 1.04s\tremaining: 304ms\n",
      "775:\tlearn: 0.0370390\ttotal: 1.05s\tremaining: 302ms\n",
      "776:\tlearn: 0.0369871\ttotal: 1.05s\tremaining: 301ms\n",
      "777:\tlearn: 0.0369295\ttotal: 1.05s\tremaining: 300ms\n",
      "778:\tlearn: 0.0369016\ttotal: 1.05s\tremaining: 299ms\n",
      "779:\tlearn: 0.0368472\ttotal: 1.05s\tremaining: 297ms\n",
      "780:\tlearn: 0.0368050\ttotal: 1.05s\tremaining: 296ms\n",
      "781:\tlearn: 0.0367375\ttotal: 1.06s\tremaining: 295ms\n",
      "782:\tlearn: 0.0366841\ttotal: 1.06s\tremaining: 293ms\n",
      "783:\tlearn: 0.0365978\ttotal: 1.06s\tremaining: 292ms\n",
      "784:\tlearn: 0.0365469\ttotal: 1.06s\tremaining: 291ms\n",
      "785:\tlearn: 0.0365121\ttotal: 1.06s\tremaining: 290ms\n",
      "786:\tlearn: 0.0364721\ttotal: 1.06s\tremaining: 288ms\n",
      "787:\tlearn: 0.0364304\ttotal: 1.07s\tremaining: 287ms\n",
      "788:\tlearn: 0.0363462\ttotal: 1.07s\tremaining: 286ms\n",
      "789:\tlearn: 0.0362937\ttotal: 1.07s\tremaining: 284ms\n",
      "790:\tlearn: 0.0362596\ttotal: 1.07s\tremaining: 283ms\n",
      "791:\tlearn: 0.0361825\ttotal: 1.07s\tremaining: 282ms\n",
      "792:\tlearn: 0.0361296\ttotal: 1.07s\tremaining: 280ms\n",
      "793:\tlearn: 0.0360553\ttotal: 1.07s\tremaining: 279ms\n",
      "794:\tlearn: 0.0360240\ttotal: 1.08s\tremaining: 278ms\n",
      "795:\tlearn: 0.0359478\ttotal: 1.08s\tremaining: 277ms\n",
      "796:\tlearn: 0.0359028\ttotal: 1.08s\tremaining: 275ms\n",
      "797:\tlearn: 0.0358617\ttotal: 1.08s\tremaining: 274ms\n",
      "798:\tlearn: 0.0358009\ttotal: 1.08s\tremaining: 273ms\n",
      "799:\tlearn: 0.0357146\ttotal: 1.09s\tremaining: 272ms\n",
      "800:\tlearn: 0.0356590\ttotal: 1.09s\tremaining: 271ms\n",
      "801:\tlearn: 0.0356215\ttotal: 1.09s\tremaining: 270ms\n",
      "802:\tlearn: 0.0355730\ttotal: 1.09s\tremaining: 269ms\n",
      "803:\tlearn: 0.0355164\ttotal: 1.1s\tremaining: 267ms\n",
      "804:\tlearn: 0.0354419\ttotal: 1.1s\tremaining: 266ms\n",
      "805:\tlearn: 0.0353997\ttotal: 1.1s\tremaining: 265ms\n",
      "806:\tlearn: 0.0353605\ttotal: 1.1s\tremaining: 263ms\n",
      "807:\tlearn: 0.0352818\ttotal: 1.1s\tremaining: 262ms\n",
      "808:\tlearn: 0.0352202\ttotal: 1.1s\tremaining: 261ms\n",
      "809:\tlearn: 0.0351579\ttotal: 1.1s\tremaining: 259ms\n",
      "810:\tlearn: 0.0350921\ttotal: 1.11s\tremaining: 258ms\n",
      "811:\tlearn: 0.0350381\ttotal: 1.11s\tremaining: 257ms\n",
      "812:\tlearn: 0.0349818\ttotal: 1.11s\tremaining: 255ms\n",
      "813:\tlearn: 0.0349218\ttotal: 1.11s\tremaining: 254ms\n",
      "814:\tlearn: 0.0348987\ttotal: 1.11s\tremaining: 253ms\n",
      "815:\tlearn: 0.0348255\ttotal: 1.11s\tremaining: 251ms\n",
      "816:\tlearn: 0.0347749\ttotal: 1.11s\tremaining: 250ms\n",
      "817:\tlearn: 0.0347221\ttotal: 1.12s\tremaining: 249ms\n",
      "818:\tlearn: 0.0346809\ttotal: 1.12s\tremaining: 247ms\n",
      "819:\tlearn: 0.0346231\ttotal: 1.12s\tremaining: 246ms\n",
      "820:\tlearn: 0.0345775\ttotal: 1.12s\tremaining: 245ms\n",
      "821:\tlearn: 0.0345318\ttotal: 1.12s\tremaining: 244ms\n",
      "822:\tlearn: 0.0344717\ttotal: 1.13s\tremaining: 242ms\n",
      "823:\tlearn: 0.0343923\ttotal: 1.13s\tremaining: 241ms\n",
      "824:\tlearn: 0.0343666\ttotal: 1.13s\tremaining: 239ms\n",
      "825:\tlearn: 0.0343088\ttotal: 1.13s\tremaining: 238ms\n",
      "826:\tlearn: 0.0342532\ttotal: 1.13s\tremaining: 237ms\n",
      "827:\tlearn: 0.0341754\ttotal: 1.13s\tremaining: 235ms\n",
      "828:\tlearn: 0.0341185\ttotal: 1.13s\tremaining: 234ms\n",
      "829:\tlearn: 0.0340675\ttotal: 1.14s\tremaining: 233ms\n",
      "830:\tlearn: 0.0339955\ttotal: 1.14s\tremaining: 231ms\n",
      "831:\tlearn: 0.0339342\ttotal: 1.14s\tremaining: 230ms\n",
      "832:\tlearn: 0.0338848\ttotal: 1.14s\tremaining: 229ms\n",
      "833:\tlearn: 0.0338236\ttotal: 1.14s\tremaining: 227ms\n",
      "834:\tlearn: 0.0337875\ttotal: 1.14s\tremaining: 226ms\n",
      "835:\tlearn: 0.0337452\ttotal: 1.14s\tremaining: 224ms\n",
      "836:\tlearn: 0.0336870\ttotal: 1.15s\tremaining: 223ms\n",
      "837:\tlearn: 0.0336389\ttotal: 1.15s\tremaining: 222ms\n",
      "838:\tlearn: 0.0335699\ttotal: 1.15s\tremaining: 220ms\n",
      "839:\tlearn: 0.0335475\ttotal: 1.15s\tremaining: 219ms\n",
      "840:\tlearn: 0.0335258\ttotal: 1.15s\tremaining: 218ms\n",
      "841:\tlearn: 0.0334696\ttotal: 1.15s\tremaining: 216ms\n",
      "842:\tlearn: 0.0334291\ttotal: 1.15s\tremaining: 215ms\n",
      "843:\tlearn: 0.0333885\ttotal: 1.16s\tremaining: 214ms\n",
      "844:\tlearn: 0.0333323\ttotal: 1.16s\tremaining: 212ms\n",
      "845:\tlearn: 0.0332743\ttotal: 1.16s\tremaining: 211ms\n",
      "846:\tlearn: 0.0332215\ttotal: 1.16s\tremaining: 210ms\n",
      "847:\tlearn: 0.0331910\ttotal: 1.16s\tremaining: 208ms\n",
      "848:\tlearn: 0.0331652\ttotal: 1.16s\tremaining: 207ms\n",
      "849:\tlearn: 0.0331187\ttotal: 1.17s\tremaining: 206ms\n",
      "850:\tlearn: 0.0330520\ttotal: 1.17s\tremaining: 204ms\n",
      "851:\tlearn: 0.0329980\ttotal: 1.17s\tremaining: 203ms\n",
      "852:\tlearn: 0.0329648\ttotal: 1.17s\tremaining: 202ms\n",
      "853:\tlearn: 0.0329199\ttotal: 1.17s\tremaining: 200ms\n",
      "854:\tlearn: 0.0328630\ttotal: 1.17s\tremaining: 199ms\n",
      "855:\tlearn: 0.0328237\ttotal: 1.17s\tremaining: 197ms\n",
      "856:\tlearn: 0.0327628\ttotal: 1.18s\tremaining: 196ms\n",
      "857:\tlearn: 0.0327365\ttotal: 1.18s\tremaining: 195ms\n",
      "858:\tlearn: 0.0327046\ttotal: 1.18s\tremaining: 193ms\n",
      "859:\tlearn: 0.0326549\ttotal: 1.18s\tremaining: 192ms\n",
      "860:\tlearn: 0.0325923\ttotal: 1.18s\tremaining: 191ms\n",
      "861:\tlearn: 0.0325367\ttotal: 1.18s\tremaining: 189ms\n",
      "862:\tlearn: 0.0324949\ttotal: 1.18s\tremaining: 188ms\n",
      "863:\tlearn: 0.0324205\ttotal: 1.19s\tremaining: 187ms\n",
      "864:\tlearn: 0.0323752\ttotal: 1.19s\tremaining: 185ms\n",
      "865:\tlearn: 0.0323127\ttotal: 1.19s\tremaining: 184ms\n",
      "866:\tlearn: 0.0322549\ttotal: 1.19s\tremaining: 183ms\n",
      "867:\tlearn: 0.0322049\ttotal: 1.19s\tremaining: 181ms\n",
      "868:\tlearn: 0.0321799\ttotal: 1.19s\tremaining: 180ms\n",
      "869:\tlearn: 0.0321390\ttotal: 1.2s\tremaining: 179ms\n",
      "870:\tlearn: 0.0320983\ttotal: 1.2s\tremaining: 177ms\n",
      "871:\tlearn: 0.0320302\ttotal: 1.2s\tremaining: 176ms\n",
      "872:\tlearn: 0.0319894\ttotal: 1.2s\tremaining: 175ms\n",
      "873:\tlearn: 0.0319469\ttotal: 1.2s\tremaining: 173ms\n",
      "874:\tlearn: 0.0318964\ttotal: 1.2s\tremaining: 172ms\n",
      "875:\tlearn: 0.0318522\ttotal: 1.21s\tremaining: 171ms\n",
      "876:\tlearn: 0.0318143\ttotal: 1.21s\tremaining: 169ms\n",
      "877:\tlearn: 0.0317757\ttotal: 1.21s\tremaining: 168ms\n",
      "878:\tlearn: 0.0317241\ttotal: 1.21s\tremaining: 167ms\n",
      "879:\tlearn: 0.0316762\ttotal: 1.21s\tremaining: 165ms\n",
      "880:\tlearn: 0.0316182\ttotal: 1.21s\tremaining: 164ms\n",
      "881:\tlearn: 0.0315958\ttotal: 1.21s\tremaining: 162ms\n",
      "882:\tlearn: 0.0315408\ttotal: 1.22s\tremaining: 161ms\n",
      "883:\tlearn: 0.0315171\ttotal: 1.22s\tremaining: 160ms\n",
      "884:\tlearn: 0.0314742\ttotal: 1.22s\tremaining: 158ms\n",
      "885:\tlearn: 0.0314418\ttotal: 1.22s\tremaining: 157ms\n",
      "886:\tlearn: 0.0313890\ttotal: 1.22s\tremaining: 156ms\n",
      "887:\tlearn: 0.0313352\ttotal: 1.22s\tremaining: 154ms\n",
      "888:\tlearn: 0.0312829\ttotal: 1.22s\tremaining: 153ms\n",
      "889:\tlearn: 0.0312202\ttotal: 1.23s\tremaining: 151ms\n",
      "890:\tlearn: 0.0312069\ttotal: 1.23s\tremaining: 150ms\n",
      "891:\tlearn: 0.0311365\ttotal: 1.23s\tremaining: 149ms\n",
      "892:\tlearn: 0.0311098\ttotal: 1.23s\tremaining: 148ms\n",
      "893:\tlearn: 0.0310581\ttotal: 1.23s\tremaining: 146ms\n",
      "894:\tlearn: 0.0310022\ttotal: 1.24s\tremaining: 145ms\n",
      "895:\tlearn: 0.0309534\ttotal: 1.24s\tremaining: 144ms\n",
      "896:\tlearn: 0.0309020\ttotal: 1.24s\tremaining: 142ms\n",
      "897:\tlearn: 0.0308613\ttotal: 1.24s\tremaining: 141ms\n",
      "898:\tlearn: 0.0308201\ttotal: 1.24s\tremaining: 140ms\n",
      "899:\tlearn: 0.0307792\ttotal: 1.25s\tremaining: 138ms\n",
      "900:\tlearn: 0.0307474\ttotal: 1.25s\tremaining: 137ms\n",
      "901:\tlearn: 0.0307049\ttotal: 1.25s\tremaining: 136ms\n",
      "902:\tlearn: 0.0306536\ttotal: 1.25s\tremaining: 134ms\n",
      "903:\tlearn: 0.0306128\ttotal: 1.25s\tremaining: 133ms\n",
      "904:\tlearn: 0.0305859\ttotal: 1.25s\tremaining: 131ms\n",
      "905:\tlearn: 0.0305501\ttotal: 1.25s\tremaining: 130ms\n",
      "906:\tlearn: 0.0305046\ttotal: 1.25s\tremaining: 129ms\n",
      "907:\tlearn: 0.0304621\ttotal: 1.26s\tremaining: 127ms\n",
      "908:\tlearn: 0.0304209\ttotal: 1.26s\tremaining: 126ms\n",
      "909:\tlearn: 0.0303584\ttotal: 1.26s\tremaining: 125ms\n",
      "910:\tlearn: 0.0303209\ttotal: 1.26s\tremaining: 123ms\n",
      "911:\tlearn: 0.0302751\ttotal: 1.26s\tremaining: 122ms\n",
      "912:\tlearn: 0.0302273\ttotal: 1.26s\tremaining: 121ms\n",
      "913:\tlearn: 0.0301808\ttotal: 1.27s\tremaining: 119ms\n",
      "914:\tlearn: 0.0301240\ttotal: 1.27s\tremaining: 118ms\n",
      "915:\tlearn: 0.0300817\ttotal: 1.27s\tremaining: 117ms\n",
      "916:\tlearn: 0.0300647\ttotal: 1.28s\tremaining: 116ms\n",
      "917:\tlearn: 0.0300319\ttotal: 1.28s\tremaining: 114ms\n",
      "918:\tlearn: 0.0300005\ttotal: 1.28s\tremaining: 113ms\n",
      "919:\tlearn: 0.0299695\ttotal: 1.28s\tremaining: 112ms\n",
      "920:\tlearn: 0.0299242\ttotal: 1.29s\tremaining: 110ms\n",
      "921:\tlearn: 0.0299023\ttotal: 1.29s\tremaining: 109ms\n",
      "922:\tlearn: 0.0298335\ttotal: 1.29s\tremaining: 108ms\n",
      "923:\tlearn: 0.0297854\ttotal: 1.29s\tremaining: 106ms\n",
      "924:\tlearn: 0.0297220\ttotal: 1.29s\tremaining: 105ms\n",
      "925:\tlearn: 0.0296907\ttotal: 1.29s\tremaining: 103ms\n",
      "926:\tlearn: 0.0296512\ttotal: 1.3s\tremaining: 102ms\n",
      "927:\tlearn: 0.0296102\ttotal: 1.3s\tremaining: 101ms\n",
      "928:\tlearn: 0.0295883\ttotal: 1.3s\tremaining: 99.3ms\n",
      "929:\tlearn: 0.0295568\ttotal: 1.3s\tremaining: 97.9ms\n",
      "930:\tlearn: 0.0295094\ttotal: 1.3s\tremaining: 96.5ms\n",
      "931:\tlearn: 0.0294869\ttotal: 1.3s\tremaining: 95.1ms\n",
      "932:\tlearn: 0.0294693\ttotal: 1.3s\tremaining: 93.7ms\n",
      "933:\tlearn: 0.0294377\ttotal: 1.3s\tremaining: 92.3ms\n",
      "934:\tlearn: 0.0294173\ttotal: 1.31s\tremaining: 90.9ms\n",
      "935:\tlearn: 0.0293774\ttotal: 1.31s\tremaining: 89.5ms\n",
      "936:\tlearn: 0.0293229\ttotal: 1.31s\tremaining: 88.1ms\n",
      "937:\tlearn: 0.0292858\ttotal: 1.31s\tremaining: 86.7ms\n",
      "938:\tlearn: 0.0292378\ttotal: 1.31s\tremaining: 85.3ms\n",
      "939:\tlearn: 0.0291859\ttotal: 1.31s\tremaining: 83.9ms\n",
      "940:\tlearn: 0.0291514\ttotal: 1.31s\tremaining: 82.5ms\n",
      "941:\tlearn: 0.0291042\ttotal: 1.32s\tremaining: 81.1ms\n",
      "942:\tlearn: 0.0290620\ttotal: 1.32s\tremaining: 79.7ms\n",
      "943:\tlearn: 0.0290356\ttotal: 1.32s\tremaining: 78.3ms\n",
      "944:\tlearn: 0.0289881\ttotal: 1.32s\tremaining: 76.9ms\n",
      "945:\tlearn: 0.0289466\ttotal: 1.32s\tremaining: 75.5ms\n",
      "946:\tlearn: 0.0289287\ttotal: 1.32s\tremaining: 74.1ms\n",
      "947:\tlearn: 0.0288851\ttotal: 1.32s\tremaining: 72.7ms\n",
      "948:\tlearn: 0.0288614\ttotal: 1.33s\tremaining: 71.3ms\n",
      "949:\tlearn: 0.0288163\ttotal: 1.33s\tremaining: 69.9ms\n",
      "950:\tlearn: 0.0287847\ttotal: 1.33s\tremaining: 68.5ms\n",
      "951:\tlearn: 0.0287460\ttotal: 1.33s\tremaining: 67.1ms\n",
      "952:\tlearn: 0.0287172\ttotal: 1.33s\tremaining: 65.7ms\n",
      "953:\tlearn: 0.0286877\ttotal: 1.33s\tremaining: 64.3ms\n",
      "954:\tlearn: 0.0286557\ttotal: 1.33s\tremaining: 62.9ms\n",
      "955:\tlearn: 0.0286100\ttotal: 1.33s\tremaining: 61.5ms\n",
      "956:\tlearn: 0.0285687\ttotal: 1.34s\tremaining: 60.1ms\n",
      "957:\tlearn: 0.0285247\ttotal: 1.34s\tremaining: 58.7ms\n",
      "958:\tlearn: 0.0284980\ttotal: 1.34s\tremaining: 57.3ms\n",
      "959:\tlearn: 0.0284747\ttotal: 1.34s\tremaining: 55.9ms\n",
      "960:\tlearn: 0.0284589\ttotal: 1.34s\tremaining: 54.5ms\n",
      "961:\tlearn: 0.0284084\ttotal: 1.34s\tremaining: 53.1ms\n",
      "962:\tlearn: 0.0283685\ttotal: 1.34s\tremaining: 51.6ms\n",
      "963:\tlearn: 0.0283176\ttotal: 1.34s\tremaining: 50.3ms\n",
      "964:\tlearn: 0.0282899\ttotal: 1.35s\tremaining: 48.9ms\n",
      "965:\tlearn: 0.0282484\ttotal: 1.35s\tremaining: 47.5ms\n",
      "966:\tlearn: 0.0282127\ttotal: 1.35s\tremaining: 46ms\n",
      "967:\tlearn: 0.0281931\ttotal: 1.35s\tremaining: 44.6ms\n",
      "968:\tlearn: 0.0281565\ttotal: 1.35s\tremaining: 43.2ms\n",
      "969:\tlearn: 0.0281347\ttotal: 1.35s\tremaining: 41.8ms\n",
      "970:\tlearn: 0.0280939\ttotal: 1.35s\tremaining: 40.4ms\n",
      "971:\tlearn: 0.0280263\ttotal: 1.35s\tremaining: 39ms\n",
      "972:\tlearn: 0.0279895\ttotal: 1.36s\tremaining: 37.6ms\n",
      "973:\tlearn: 0.0279568\ttotal: 1.36s\tremaining: 36.3ms\n",
      "974:\tlearn: 0.0279058\ttotal: 1.36s\tremaining: 34.9ms\n",
      "975:\tlearn: 0.0278676\ttotal: 1.36s\tremaining: 33.5ms\n",
      "976:\tlearn: 0.0278122\ttotal: 1.36s\tremaining: 32.1ms\n",
      "977:\tlearn: 0.0277812\ttotal: 1.36s\tremaining: 30.7ms\n",
      "978:\tlearn: 0.0277565\ttotal: 1.36s\tremaining: 29.3ms\n",
      "979:\tlearn: 0.0277234\ttotal: 1.36s\tremaining: 27.9ms\n",
      "980:\tlearn: 0.0276900\ttotal: 1.37s\tremaining: 26.5ms\n",
      "981:\tlearn: 0.0276570\ttotal: 1.37s\tremaining: 25.1ms\n",
      "982:\tlearn: 0.0276126\ttotal: 1.37s\tremaining: 23.7ms\n",
      "983:\tlearn: 0.0275862\ttotal: 1.37s\tremaining: 22.3ms\n",
      "984:\tlearn: 0.0275638\ttotal: 1.37s\tremaining: 20.9ms\n",
      "985:\tlearn: 0.0275417\ttotal: 1.37s\tremaining: 19.5ms\n",
      "986:\tlearn: 0.0275085\ttotal: 1.37s\tremaining: 18.1ms\n",
      "987:\tlearn: 0.0274901\ttotal: 1.38s\tremaining: 16.7ms\n",
      "988:\tlearn: 0.0274659\ttotal: 1.38s\tremaining: 15.3ms\n",
      "989:\tlearn: 0.0274328\ttotal: 1.38s\tremaining: 13.9ms\n",
      "990:\tlearn: 0.0273872\ttotal: 1.38s\tremaining: 12.5ms\n",
      "991:\tlearn: 0.0273683\ttotal: 1.38s\tremaining: 11.1ms\n",
      "992:\tlearn: 0.0273295\ttotal: 1.38s\tremaining: 9.74ms\n",
      "993:\tlearn: 0.0272840\ttotal: 1.38s\tremaining: 8.35ms\n",
      "994:\tlearn: 0.0272583\ttotal: 1.38s\tremaining: 6.95ms\n",
      "995:\tlearn: 0.0272047\ttotal: 1.39s\tremaining: 5.56ms\n",
      "996:\tlearn: 0.0271918\ttotal: 1.39s\tremaining: 4.17ms\n",
      "997:\tlearn: 0.0271722\ttotal: 1.39s\tremaining: 2.78ms\n",
      "998:\tlearn: 0.0271372\ttotal: 1.39s\tremaining: 1.39ms\n",
      "999:\tlearn: 0.0271035\ttotal: 1.39s\tremaining: 0us\n"
     ]
    }
   ],
   "source": [
    "cbc = CatBoostClassifier().fit( train[features].values, train['Type'].values )"
   ]
  },
  {
   "cell_type": "code",
   "execution_count": 22,
   "metadata": {},
   "outputs": [
    {
     "data": {
      "text/plain": [
       "0.84375"
      ]
     },
     "execution_count": 22,
     "metadata": {},
     "output_type": "execute_result"
    }
   ],
   "source": [
    "from sklearn.metrics import accuracy_score\n",
    "accuracy_score(test['Type'].values, cbc.predict(test[features].values), normalize=True)"
   ]
  },
  {
   "cell_type": "code",
   "execution_count": 36,
   "metadata": {},
   "outputs": [],
   "source": [
    "acme_cb = ACME(cbc, 'Type',K=50, task = 'class')"
   ]
  },
  {
   "cell_type": "code",
   "execution_count": 37,
   "metadata": {},
   "outputs": [
    {
     "name": "stdout",
     "output_type": "stream",
     "text": [
      "0.5799081325531006\n"
     ]
    }
   ],
   "source": [
    "start = time.time()\n",
    "acme_cb = acme_cb.fit(glass_data,robust = True, label_class=None)\n",
    "print(time.time()-start)"
   ]
  },
  {
   "cell_type": "code",
   "execution_count": 25,
   "metadata": {},
   "outputs": [
    {
     "name": "stderr",
     "output_type": "stream",
     "text": [
      "Using 213 background data samples could cause slower run times. Consider using shap.sample(data, K) or shap.kmeans(data, K) to summarize the background as K samples.\n"
     ]
    },
    {
     "data": {
      "application/vnd.jupyter.widget-view+json": {
       "model_id": "36c1d9e0cefc42ecb7ecf2e16354ea5a",
       "version_major": 2,
       "version_minor": 0
      },
      "text/plain": [
       "  0%|          | 0/213 [00:00<?, ?it/s]"
      ]
     },
     "metadata": {},
     "output_type": "display_data"
    },
    {
     "name": "stdout",
     "output_type": "stream",
     "text": [
      "194.37456011772156\n"
     ]
    }
   ],
   "source": [
    "import shap \n",
    "start = time.time()\n",
    "shap_cb = shap.KernelExplainer(cbc.predict, glass_data[features].values)\n",
    "shap_ct_values = shap_cb.shap_values(glass_data[features].values)\n",
    "print(time.time()-start)"
   ]
  },
  {
   "cell_type": "code",
   "execution_count": 41,
   "metadata": {},
   "outputs": [],
   "source": [
    "acme_cb.summary_plot()"
   ]
  },
  {
   "cell_type": "code",
   "execution_count": 27,
   "metadata": {
    "tags": []
   },
   "outputs": [
    {
     "data": {
      "application/vnd.plotly.v1+json": {
       "config": {
        "plotlyServerURL": "https://plot.ly"
       },
       "data": [
        {
         "alignmentgroup": "True",
         "hovertemplate": "Importance=%{x}<br>Feature=%{y}<extra></extra>",
         "legendgroup": "",
         "marker": {
          "color": "#636efa",
          "pattern": {
           "shape": ""
          }
         },
         "name": "",
         "offsetgroup": "",
         "orientation": "h",
         "showlegend": false,
         "textposition": "auto",
         "type": "bar",
         "x": [
          0.16988125502004148,
          0.5914954028111403,
          0.8467866282733418,
          0.9700618027384885,
          0.9935184980245115,
          1.0716326936229406,
          1.13217374710181,
          1.2869891421503863,
          1.700054354821766
         ],
         "xaxis": "x",
         "y": [
          "Ba",
          "Si",
          "Fe",
          "K",
          "RI",
          "Al",
          "Ca",
          "Na",
          "Mg"
         ],
         "yaxis": "y"
        }
       ],
       "layout": {
        "barmode": "relative",
        "legend": {
         "tracegroupgap": 0
        },
        "template": {
         "data": {
          "bar": [
           {
            "error_x": {
             "color": "#2a3f5f"
            },
            "error_y": {
             "color": "#2a3f5f"
            },
            "marker": {
             "line": {
              "color": "#E5ECF6",
              "width": 0.5
             },
             "pattern": {
              "fillmode": "overlay",
              "size": 10,
              "solidity": 0.2
             }
            },
            "type": "bar"
           }
          ],
          "barpolar": [
           {
            "marker": {
             "line": {
              "color": "#E5ECF6",
              "width": 0.5
             },
             "pattern": {
              "fillmode": "overlay",
              "size": 10,
              "solidity": 0.2
             }
            },
            "type": "barpolar"
           }
          ],
          "carpet": [
           {
            "aaxis": {
             "endlinecolor": "#2a3f5f",
             "gridcolor": "white",
             "linecolor": "white",
             "minorgridcolor": "white",
             "startlinecolor": "#2a3f5f"
            },
            "baxis": {
             "endlinecolor": "#2a3f5f",
             "gridcolor": "white",
             "linecolor": "white",
             "minorgridcolor": "white",
             "startlinecolor": "#2a3f5f"
            },
            "type": "carpet"
           }
          ],
          "choropleth": [
           {
            "colorbar": {
             "outlinewidth": 0,
             "ticks": ""
            },
            "type": "choropleth"
           }
          ],
          "contour": [
           {
            "colorbar": {
             "outlinewidth": 0,
             "ticks": ""
            },
            "colorscale": [
             [
              0,
              "#0d0887"
             ],
             [
              0.1111111111111111,
              "#46039f"
             ],
             [
              0.2222222222222222,
              "#7201a8"
             ],
             [
              0.3333333333333333,
              "#9c179e"
             ],
             [
              0.4444444444444444,
              "#bd3786"
             ],
             [
              0.5555555555555556,
              "#d8576b"
             ],
             [
              0.6666666666666666,
              "#ed7953"
             ],
             [
              0.7777777777777778,
              "#fb9f3a"
             ],
             [
              0.8888888888888888,
              "#fdca26"
             ],
             [
              1,
              "#f0f921"
             ]
            ],
            "type": "contour"
           }
          ],
          "contourcarpet": [
           {
            "colorbar": {
             "outlinewidth": 0,
             "ticks": ""
            },
            "type": "contourcarpet"
           }
          ],
          "heatmap": [
           {
            "colorbar": {
             "outlinewidth": 0,
             "ticks": ""
            },
            "colorscale": [
             [
              0,
              "#0d0887"
             ],
             [
              0.1111111111111111,
              "#46039f"
             ],
             [
              0.2222222222222222,
              "#7201a8"
             ],
             [
              0.3333333333333333,
              "#9c179e"
             ],
             [
              0.4444444444444444,
              "#bd3786"
             ],
             [
              0.5555555555555556,
              "#d8576b"
             ],
             [
              0.6666666666666666,
              "#ed7953"
             ],
             [
              0.7777777777777778,
              "#fb9f3a"
             ],
             [
              0.8888888888888888,
              "#fdca26"
             ],
             [
              1,
              "#f0f921"
             ]
            ],
            "type": "heatmap"
           }
          ],
          "heatmapgl": [
           {
            "colorbar": {
             "outlinewidth": 0,
             "ticks": ""
            },
            "colorscale": [
             [
              0,
              "#0d0887"
             ],
             [
              0.1111111111111111,
              "#46039f"
             ],
             [
              0.2222222222222222,
              "#7201a8"
             ],
             [
              0.3333333333333333,
              "#9c179e"
             ],
             [
              0.4444444444444444,
              "#bd3786"
             ],
             [
              0.5555555555555556,
              "#d8576b"
             ],
             [
              0.6666666666666666,
              "#ed7953"
             ],
             [
              0.7777777777777778,
              "#fb9f3a"
             ],
             [
              0.8888888888888888,
              "#fdca26"
             ],
             [
              1,
              "#f0f921"
             ]
            ],
            "type": "heatmapgl"
           }
          ],
          "histogram": [
           {
            "marker": {
             "pattern": {
              "fillmode": "overlay",
              "size": 10,
              "solidity": 0.2
             }
            },
            "type": "histogram"
           }
          ],
          "histogram2d": [
           {
            "colorbar": {
             "outlinewidth": 0,
             "ticks": ""
            },
            "colorscale": [
             [
              0,
              "#0d0887"
             ],
             [
              0.1111111111111111,
              "#46039f"
             ],
             [
              0.2222222222222222,
              "#7201a8"
             ],
             [
              0.3333333333333333,
              "#9c179e"
             ],
             [
              0.4444444444444444,
              "#bd3786"
             ],
             [
              0.5555555555555556,
              "#d8576b"
             ],
             [
              0.6666666666666666,
              "#ed7953"
             ],
             [
              0.7777777777777778,
              "#fb9f3a"
             ],
             [
              0.8888888888888888,
              "#fdca26"
             ],
             [
              1,
              "#f0f921"
             ]
            ],
            "type": "histogram2d"
           }
          ],
          "histogram2dcontour": [
           {
            "colorbar": {
             "outlinewidth": 0,
             "ticks": ""
            },
            "colorscale": [
             [
              0,
              "#0d0887"
             ],
             [
              0.1111111111111111,
              "#46039f"
             ],
             [
              0.2222222222222222,
              "#7201a8"
             ],
             [
              0.3333333333333333,
              "#9c179e"
             ],
             [
              0.4444444444444444,
              "#bd3786"
             ],
             [
              0.5555555555555556,
              "#d8576b"
             ],
             [
              0.6666666666666666,
              "#ed7953"
             ],
             [
              0.7777777777777778,
              "#fb9f3a"
             ],
             [
              0.8888888888888888,
              "#fdca26"
             ],
             [
              1,
              "#f0f921"
             ]
            ],
            "type": "histogram2dcontour"
           }
          ],
          "mesh3d": [
           {
            "colorbar": {
             "outlinewidth": 0,
             "ticks": ""
            },
            "type": "mesh3d"
           }
          ],
          "parcoords": [
           {
            "line": {
             "colorbar": {
              "outlinewidth": 0,
              "ticks": ""
             }
            },
            "type": "parcoords"
           }
          ],
          "pie": [
           {
            "automargin": true,
            "type": "pie"
           }
          ],
          "scatter": [
           {
            "fillpattern": {
             "fillmode": "overlay",
             "size": 10,
             "solidity": 0.2
            },
            "type": "scatter"
           }
          ],
          "scatter3d": [
           {
            "line": {
             "colorbar": {
              "outlinewidth": 0,
              "ticks": ""
             }
            },
            "marker": {
             "colorbar": {
              "outlinewidth": 0,
              "ticks": ""
             }
            },
            "type": "scatter3d"
           }
          ],
          "scattercarpet": [
           {
            "marker": {
             "colorbar": {
              "outlinewidth": 0,
              "ticks": ""
             }
            },
            "type": "scattercarpet"
           }
          ],
          "scattergeo": [
           {
            "marker": {
             "colorbar": {
              "outlinewidth": 0,
              "ticks": ""
             }
            },
            "type": "scattergeo"
           }
          ],
          "scattergl": [
           {
            "marker": {
             "colorbar": {
              "outlinewidth": 0,
              "ticks": ""
             }
            },
            "type": "scattergl"
           }
          ],
          "scattermapbox": [
           {
            "marker": {
             "colorbar": {
              "outlinewidth": 0,
              "ticks": ""
             }
            },
            "type": "scattermapbox"
           }
          ],
          "scatterpolar": [
           {
            "marker": {
             "colorbar": {
              "outlinewidth": 0,
              "ticks": ""
             }
            },
            "type": "scatterpolar"
           }
          ],
          "scatterpolargl": [
           {
            "marker": {
             "colorbar": {
              "outlinewidth": 0,
              "ticks": ""
             }
            },
            "type": "scatterpolargl"
           }
          ],
          "scatterternary": [
           {
            "marker": {
             "colorbar": {
              "outlinewidth": 0,
              "ticks": ""
             }
            },
            "type": "scatterternary"
           }
          ],
          "surface": [
           {
            "colorbar": {
             "outlinewidth": 0,
             "ticks": ""
            },
            "colorscale": [
             [
              0,
              "#0d0887"
             ],
             [
              0.1111111111111111,
              "#46039f"
             ],
             [
              0.2222222222222222,
              "#7201a8"
             ],
             [
              0.3333333333333333,
              "#9c179e"
             ],
             [
              0.4444444444444444,
              "#bd3786"
             ],
             [
              0.5555555555555556,
              "#d8576b"
             ],
             [
              0.6666666666666666,
              "#ed7953"
             ],
             [
              0.7777777777777778,
              "#fb9f3a"
             ],
             [
              0.8888888888888888,
              "#fdca26"
             ],
             [
              1,
              "#f0f921"
             ]
            ],
            "type": "surface"
           }
          ],
          "table": [
           {
            "cells": {
             "fill": {
              "color": "#EBF0F8"
             },
             "line": {
              "color": "white"
             }
            },
            "header": {
             "fill": {
              "color": "#C8D4E3"
             },
             "line": {
              "color": "white"
             }
            },
            "type": "table"
           }
          ]
         },
         "layout": {
          "annotationdefaults": {
           "arrowcolor": "#2a3f5f",
           "arrowhead": 0,
           "arrowwidth": 1
          },
          "autotypenumbers": "strict",
          "coloraxis": {
           "colorbar": {
            "outlinewidth": 0,
            "ticks": ""
           }
          },
          "colorscale": {
           "diverging": [
            [
             0,
             "#8e0152"
            ],
            [
             0.1,
             "#c51b7d"
            ],
            [
             0.2,
             "#de77ae"
            ],
            [
             0.3,
             "#f1b6da"
            ],
            [
             0.4,
             "#fde0ef"
            ],
            [
             0.5,
             "#f7f7f7"
            ],
            [
             0.6,
             "#e6f5d0"
            ],
            [
             0.7,
             "#b8e186"
            ],
            [
             0.8,
             "#7fbc41"
            ],
            [
             0.9,
             "#4d9221"
            ],
            [
             1,
             "#276419"
            ]
           ],
           "sequential": [
            [
             0,
             "#0d0887"
            ],
            [
             0.1111111111111111,
             "#46039f"
            ],
            [
             0.2222222222222222,
             "#7201a8"
            ],
            [
             0.3333333333333333,
             "#9c179e"
            ],
            [
             0.4444444444444444,
             "#bd3786"
            ],
            [
             0.5555555555555556,
             "#d8576b"
            ],
            [
             0.6666666666666666,
             "#ed7953"
            ],
            [
             0.7777777777777778,
             "#fb9f3a"
            ],
            [
             0.8888888888888888,
             "#fdca26"
            ],
            [
             1,
             "#f0f921"
            ]
           ],
           "sequentialminus": [
            [
             0,
             "#0d0887"
            ],
            [
             0.1111111111111111,
             "#46039f"
            ],
            [
             0.2222222222222222,
             "#7201a8"
            ],
            [
             0.3333333333333333,
             "#9c179e"
            ],
            [
             0.4444444444444444,
             "#bd3786"
            ],
            [
             0.5555555555555556,
             "#d8576b"
            ],
            [
             0.6666666666666666,
             "#ed7953"
            ],
            [
             0.7777777777777778,
             "#fb9f3a"
            ],
            [
             0.8888888888888888,
             "#fdca26"
            ],
            [
             1,
             "#f0f921"
            ]
           ]
          },
          "colorway": [
           "#636efa",
           "#EF553B",
           "#00cc96",
           "#ab63fa",
           "#FFA15A",
           "#19d3f3",
           "#FF6692",
           "#B6E880",
           "#FF97FF",
           "#FECB52"
          ],
          "font": {
           "color": "#2a3f5f"
          },
          "geo": {
           "bgcolor": "white",
           "lakecolor": "white",
           "landcolor": "#E5ECF6",
           "showlakes": true,
           "showland": true,
           "subunitcolor": "white"
          },
          "hoverlabel": {
           "align": "left"
          },
          "hovermode": "closest",
          "mapbox": {
           "style": "light"
          },
          "paper_bgcolor": "white",
          "plot_bgcolor": "#E5ECF6",
          "polar": {
           "angularaxis": {
            "gridcolor": "white",
            "linecolor": "white",
            "ticks": ""
           },
           "bgcolor": "#E5ECF6",
           "radialaxis": {
            "gridcolor": "white",
            "linecolor": "white",
            "ticks": ""
           }
          },
          "scene": {
           "xaxis": {
            "backgroundcolor": "#E5ECF6",
            "gridcolor": "white",
            "gridwidth": 2,
            "linecolor": "white",
            "showbackground": true,
            "ticks": "",
            "zerolinecolor": "white"
           },
           "yaxis": {
            "backgroundcolor": "#E5ECF6",
            "gridcolor": "white",
            "gridwidth": 2,
            "linecolor": "white",
            "showbackground": true,
            "ticks": "",
            "zerolinecolor": "white"
           },
           "zaxis": {
            "backgroundcolor": "#E5ECF6",
            "gridcolor": "white",
            "gridwidth": 2,
            "linecolor": "white",
            "showbackground": true,
            "ticks": "",
            "zerolinecolor": "white"
           }
          },
          "shapedefaults": {
           "line": {
            "color": "#2a3f5f"
           }
          },
          "ternary": {
           "aaxis": {
            "gridcolor": "white",
            "linecolor": "white",
            "ticks": ""
           },
           "baxis": {
            "gridcolor": "white",
            "linecolor": "white",
            "ticks": ""
           },
           "bgcolor": "#E5ECF6",
           "caxis": {
            "gridcolor": "white",
            "linecolor": "white",
            "ticks": ""
           }
          },
          "title": {
           "x": 0.05
          },
          "xaxis": {
           "automargin": true,
           "gridcolor": "white",
           "linecolor": "white",
           "ticks": "",
           "title": {
            "standoff": 15
           },
           "zerolinecolor": "white",
           "zerolinewidth": 2
          },
          "yaxis": {
           "automargin": true,
           "gridcolor": "white",
           "linecolor": "white",
           "ticks": "",
           "title": {
            "standoff": 15
           },
           "zerolinecolor": "white",
           "zerolinewidth": 2
          }
         }
        },
        "title": {
         "text": "Barplot of feature importance: classification",
         "x": 0.5,
         "xanchor": "center",
         "y": 0.9,
         "yanchor": "top"
        },
        "xaxis": {
         "anchor": "y",
         "domain": [
          0,
          1
         ],
         "title": {
          "text": "Importance"
         }
        },
        "yaxis": {
         "anchor": "x",
         "domain": [
          0,
          1
         ],
         "title": {
          "text": "Feature"
         }
        }
       }
      },
      "text/html": [
       "<div>                            <div id=\"61a98192-621f-4bd8-bd3b-52ccc228b233\" class=\"plotly-graph-div\" style=\"height:525px; width:100%;\"></div>            <script type=\"text/javascript\">                require([\"plotly\"], function(Plotly) {                    window.PLOTLYENV=window.PLOTLYENV || {};                                    if (document.getElementById(\"61a98192-621f-4bd8-bd3b-52ccc228b233\")) {                    Plotly.newPlot(                        \"61a98192-621f-4bd8-bd3b-52ccc228b233\",                        [{\"alignmentgroup\":\"True\",\"hovertemplate\":\"Importance=%{x}<br>Feature=%{y}<extra></extra>\",\"legendgroup\":\"\",\"marker\":{\"color\":\"#636efa\",\"pattern\":{\"shape\":\"\"}},\"name\":\"\",\"offsetgroup\":\"\",\"orientation\":\"h\",\"showlegend\":false,\"textposition\":\"auto\",\"x\":[0.16988125502004148,0.5914954028111403,0.8467866282733418,0.9700618027384885,0.9935184980245115,1.0716326936229406,1.13217374710181,1.2869891421503863,1.700054354821766],\"xaxis\":\"x\",\"y\":[\"Ba\",\"Si\",\"Fe\",\"K\",\"RI\",\"Al\",\"Ca\",\"Na\",\"Mg\"],\"yaxis\":\"y\",\"type\":\"bar\"}],                        {\"template\":{\"data\":{\"histogram2dcontour\":[{\"type\":\"histogram2dcontour\",\"colorbar\":{\"outlinewidth\":0,\"ticks\":\"\"},\"colorscale\":[[0.0,\"#0d0887\"],[0.1111111111111111,\"#46039f\"],[0.2222222222222222,\"#7201a8\"],[0.3333333333333333,\"#9c179e\"],[0.4444444444444444,\"#bd3786\"],[0.5555555555555556,\"#d8576b\"],[0.6666666666666666,\"#ed7953\"],[0.7777777777777778,\"#fb9f3a\"],[0.8888888888888888,\"#fdca26\"],[1.0,\"#f0f921\"]]}],\"choropleth\":[{\"type\":\"choropleth\",\"colorbar\":{\"outlinewidth\":0,\"ticks\":\"\"}}],\"histogram2d\":[{\"type\":\"histogram2d\",\"colorbar\":{\"outlinewidth\":0,\"ticks\":\"\"},\"colorscale\":[[0.0,\"#0d0887\"],[0.1111111111111111,\"#46039f\"],[0.2222222222222222,\"#7201a8\"],[0.3333333333333333,\"#9c179e\"],[0.4444444444444444,\"#bd3786\"],[0.5555555555555556,\"#d8576b\"],[0.6666666666666666,\"#ed7953\"],[0.7777777777777778,\"#fb9f3a\"],[0.8888888888888888,\"#fdca26\"],[1.0,\"#f0f921\"]]}],\"heatmap\":[{\"type\":\"heatmap\",\"colorbar\":{\"outlinewidth\":0,\"ticks\":\"\"},\"colorscale\":[[0.0,\"#0d0887\"],[0.1111111111111111,\"#46039f\"],[0.2222222222222222,\"#7201a8\"],[0.3333333333333333,\"#9c179e\"],[0.4444444444444444,\"#bd3786\"],[0.5555555555555556,\"#d8576b\"],[0.6666666666666666,\"#ed7953\"],[0.7777777777777778,\"#fb9f3a\"],[0.8888888888888888,\"#fdca26\"],[1.0,\"#f0f921\"]]}],\"heatmapgl\":[{\"type\":\"heatmapgl\",\"colorbar\":{\"outlinewidth\":0,\"ticks\":\"\"},\"colorscale\":[[0.0,\"#0d0887\"],[0.1111111111111111,\"#46039f\"],[0.2222222222222222,\"#7201a8\"],[0.3333333333333333,\"#9c179e\"],[0.4444444444444444,\"#bd3786\"],[0.5555555555555556,\"#d8576b\"],[0.6666666666666666,\"#ed7953\"],[0.7777777777777778,\"#fb9f3a\"],[0.8888888888888888,\"#fdca26\"],[1.0,\"#f0f921\"]]}],\"contourcarpet\":[{\"type\":\"contourcarpet\",\"colorbar\":{\"outlinewidth\":0,\"ticks\":\"\"}}],\"contour\":[{\"type\":\"contour\",\"colorbar\":{\"outlinewidth\":0,\"ticks\":\"\"},\"colorscale\":[[0.0,\"#0d0887\"],[0.1111111111111111,\"#46039f\"],[0.2222222222222222,\"#7201a8\"],[0.3333333333333333,\"#9c179e\"],[0.4444444444444444,\"#bd3786\"],[0.5555555555555556,\"#d8576b\"],[0.6666666666666666,\"#ed7953\"],[0.7777777777777778,\"#fb9f3a\"],[0.8888888888888888,\"#fdca26\"],[1.0,\"#f0f921\"]]}],\"surface\":[{\"type\":\"surface\",\"colorbar\":{\"outlinewidth\":0,\"ticks\":\"\"},\"colorscale\":[[0.0,\"#0d0887\"],[0.1111111111111111,\"#46039f\"],[0.2222222222222222,\"#7201a8\"],[0.3333333333333333,\"#9c179e\"],[0.4444444444444444,\"#bd3786\"],[0.5555555555555556,\"#d8576b\"],[0.6666666666666666,\"#ed7953\"],[0.7777777777777778,\"#fb9f3a\"],[0.8888888888888888,\"#fdca26\"],[1.0,\"#f0f921\"]]}],\"mesh3d\":[{\"type\":\"mesh3d\",\"colorbar\":{\"outlinewidth\":0,\"ticks\":\"\"}}],\"scatter\":[{\"fillpattern\":{\"fillmode\":\"overlay\",\"size\":10,\"solidity\":0.2},\"type\":\"scatter\"}],\"parcoords\":[{\"type\":\"parcoords\",\"line\":{\"colorbar\":{\"outlinewidth\":0,\"ticks\":\"\"}}}],\"scatterpolargl\":[{\"type\":\"scatterpolargl\",\"marker\":{\"colorbar\":{\"outlinewidth\":0,\"ticks\":\"\"}}}],\"bar\":[{\"error_x\":{\"color\":\"#2a3f5f\"},\"error_y\":{\"color\":\"#2a3f5f\"},\"marker\":{\"line\":{\"color\":\"#E5ECF6\",\"width\":0.5},\"pattern\":{\"fillmode\":\"overlay\",\"size\":10,\"solidity\":0.2}},\"type\":\"bar\"}],\"scattergeo\":[{\"type\":\"scattergeo\",\"marker\":{\"colorbar\":{\"outlinewidth\":0,\"ticks\":\"\"}}}],\"scatterpolar\":[{\"type\":\"scatterpolar\",\"marker\":{\"colorbar\":{\"outlinewidth\":0,\"ticks\":\"\"}}}],\"histogram\":[{\"marker\":{\"pattern\":{\"fillmode\":\"overlay\",\"size\":10,\"solidity\":0.2}},\"type\":\"histogram\"}],\"scattergl\":[{\"type\":\"scattergl\",\"marker\":{\"colorbar\":{\"outlinewidth\":0,\"ticks\":\"\"}}}],\"scatter3d\":[{\"type\":\"scatter3d\",\"line\":{\"colorbar\":{\"outlinewidth\":0,\"ticks\":\"\"}},\"marker\":{\"colorbar\":{\"outlinewidth\":0,\"ticks\":\"\"}}}],\"scattermapbox\":[{\"type\":\"scattermapbox\",\"marker\":{\"colorbar\":{\"outlinewidth\":0,\"ticks\":\"\"}}}],\"scatterternary\":[{\"type\":\"scatterternary\",\"marker\":{\"colorbar\":{\"outlinewidth\":0,\"ticks\":\"\"}}}],\"scattercarpet\":[{\"type\":\"scattercarpet\",\"marker\":{\"colorbar\":{\"outlinewidth\":0,\"ticks\":\"\"}}}],\"carpet\":[{\"aaxis\":{\"endlinecolor\":\"#2a3f5f\",\"gridcolor\":\"white\",\"linecolor\":\"white\",\"minorgridcolor\":\"white\",\"startlinecolor\":\"#2a3f5f\"},\"baxis\":{\"endlinecolor\":\"#2a3f5f\",\"gridcolor\":\"white\",\"linecolor\":\"white\",\"minorgridcolor\":\"white\",\"startlinecolor\":\"#2a3f5f\"},\"type\":\"carpet\"}],\"table\":[{\"cells\":{\"fill\":{\"color\":\"#EBF0F8\"},\"line\":{\"color\":\"white\"}},\"header\":{\"fill\":{\"color\":\"#C8D4E3\"},\"line\":{\"color\":\"white\"}},\"type\":\"table\"}],\"barpolar\":[{\"marker\":{\"line\":{\"color\":\"#E5ECF6\",\"width\":0.5},\"pattern\":{\"fillmode\":\"overlay\",\"size\":10,\"solidity\":0.2}},\"type\":\"barpolar\"}],\"pie\":[{\"automargin\":true,\"type\":\"pie\"}]},\"layout\":{\"autotypenumbers\":\"strict\",\"colorway\":[\"#636efa\",\"#EF553B\",\"#00cc96\",\"#ab63fa\",\"#FFA15A\",\"#19d3f3\",\"#FF6692\",\"#B6E880\",\"#FF97FF\",\"#FECB52\"],\"font\":{\"color\":\"#2a3f5f\"},\"hovermode\":\"closest\",\"hoverlabel\":{\"align\":\"left\"},\"paper_bgcolor\":\"white\",\"plot_bgcolor\":\"#E5ECF6\",\"polar\":{\"bgcolor\":\"#E5ECF6\",\"angularaxis\":{\"gridcolor\":\"white\",\"linecolor\":\"white\",\"ticks\":\"\"},\"radialaxis\":{\"gridcolor\":\"white\",\"linecolor\":\"white\",\"ticks\":\"\"}},\"ternary\":{\"bgcolor\":\"#E5ECF6\",\"aaxis\":{\"gridcolor\":\"white\",\"linecolor\":\"white\",\"ticks\":\"\"},\"baxis\":{\"gridcolor\":\"white\",\"linecolor\":\"white\",\"ticks\":\"\"},\"caxis\":{\"gridcolor\":\"white\",\"linecolor\":\"white\",\"ticks\":\"\"}},\"coloraxis\":{\"colorbar\":{\"outlinewidth\":0,\"ticks\":\"\"}},\"colorscale\":{\"sequential\":[[0.0,\"#0d0887\"],[0.1111111111111111,\"#46039f\"],[0.2222222222222222,\"#7201a8\"],[0.3333333333333333,\"#9c179e\"],[0.4444444444444444,\"#bd3786\"],[0.5555555555555556,\"#d8576b\"],[0.6666666666666666,\"#ed7953\"],[0.7777777777777778,\"#fb9f3a\"],[0.8888888888888888,\"#fdca26\"],[1.0,\"#f0f921\"]],\"sequentialminus\":[[0.0,\"#0d0887\"],[0.1111111111111111,\"#46039f\"],[0.2222222222222222,\"#7201a8\"],[0.3333333333333333,\"#9c179e\"],[0.4444444444444444,\"#bd3786\"],[0.5555555555555556,\"#d8576b\"],[0.6666666666666666,\"#ed7953\"],[0.7777777777777778,\"#fb9f3a\"],[0.8888888888888888,\"#fdca26\"],[1.0,\"#f0f921\"]],\"diverging\":[[0,\"#8e0152\"],[0.1,\"#c51b7d\"],[0.2,\"#de77ae\"],[0.3,\"#f1b6da\"],[0.4,\"#fde0ef\"],[0.5,\"#f7f7f7\"],[0.6,\"#e6f5d0\"],[0.7,\"#b8e186\"],[0.8,\"#7fbc41\"],[0.9,\"#4d9221\"],[1,\"#276419\"]]},\"xaxis\":{\"gridcolor\":\"white\",\"linecolor\":\"white\",\"ticks\":\"\",\"title\":{\"standoff\":15},\"zerolinecolor\":\"white\",\"automargin\":true,\"zerolinewidth\":2},\"yaxis\":{\"gridcolor\":\"white\",\"linecolor\":\"white\",\"ticks\":\"\",\"title\":{\"standoff\":15},\"zerolinecolor\":\"white\",\"automargin\":true,\"zerolinewidth\":2},\"scene\":{\"xaxis\":{\"backgroundcolor\":\"#E5ECF6\",\"gridcolor\":\"white\",\"linecolor\":\"white\",\"showbackground\":true,\"ticks\":\"\",\"zerolinecolor\":\"white\",\"gridwidth\":2},\"yaxis\":{\"backgroundcolor\":\"#E5ECF6\",\"gridcolor\":\"white\",\"linecolor\":\"white\",\"showbackground\":true,\"ticks\":\"\",\"zerolinecolor\":\"white\",\"gridwidth\":2},\"zaxis\":{\"backgroundcolor\":\"#E5ECF6\",\"gridcolor\":\"white\",\"linecolor\":\"white\",\"showbackground\":true,\"ticks\":\"\",\"zerolinecolor\":\"white\",\"gridwidth\":2}},\"shapedefaults\":{\"line\":{\"color\":\"#2a3f5f\"}},\"annotationdefaults\":{\"arrowcolor\":\"#2a3f5f\",\"arrowhead\":0,\"arrowwidth\":1},\"geo\":{\"bgcolor\":\"white\",\"landcolor\":\"#E5ECF6\",\"subunitcolor\":\"white\",\"showland\":true,\"showlakes\":true,\"lakecolor\":\"white\"},\"title\":{\"x\":0.05},\"mapbox\":{\"style\":\"light\"}}},\"xaxis\":{\"anchor\":\"y\",\"domain\":[0.0,1.0],\"title\":{\"text\":\"Importance\"}},\"yaxis\":{\"anchor\":\"x\",\"domain\":[0.0,1.0],\"title\":{\"text\":\"Feature\"}},\"legend\":{\"tracegroupgap\":0},\"title\":{\"text\":\"Barplot of feature importance: classification\",\"y\":0.9,\"x\":0.5,\"xanchor\":\"center\",\"yanchor\":\"top\"},\"barmode\":\"relative\"},                        {\"responsive\": true}                    ).then(function(){\n",
       "                            \n",
       "var gd = document.getElementById('61a98192-621f-4bd8-bd3b-52ccc228b233');\n",
       "var x = new MutationObserver(function (mutations, observer) {{\n",
       "        var display = window.getComputedStyle(gd).display;\n",
       "        if (!display || display === 'none') {{\n",
       "            console.log([gd, 'removed!']);\n",
       "            Plotly.purge(gd);\n",
       "            observer.disconnect();\n",
       "        }}\n",
       "}});\n",
       "\n",
       "// Listen for the removal of the full notebook cells\n",
       "var notebookContainer = gd.closest('#notebook-container');\n",
       "if (notebookContainer) {{\n",
       "    x.observe(notebookContainer, {childList: true});\n",
       "}}\n",
       "\n",
       "// Listen for the clearing of the current output cell\n",
       "var outputEl = gd.closest('.output');\n",
       "if (outputEl) {{\n",
       "    x.observe(outputEl, {childList: true});\n",
       "}}\n",
       "\n",
       "                        })                };                });            </script>        </div>"
      ]
     },
     "metadata": {},
     "output_type": "display_data"
    }
   ],
   "source": [
    "acme_cb.bar_plot()"
   ]
  },
  {
   "cell_type": "code",
   "execution_count": 28,
   "metadata": {},
   "outputs": [],
   "source": [
    "acme_class =  acme_cb.fit(glass_data,robust = True, label_class=1)"
   ]
  },
  {
   "cell_type": "code",
   "execution_count": 29,
   "metadata": {
    "tags": []
   },
   "outputs": [
    {
     "data": {
      "application/vnd.plotly.v1+json": {
       "config": {
        "plotlyServerURL": "https://plot.ly"
       },
       "data": [
        {
         "customdata": [
          [
           0
          ],
          [
           0
          ],
          [
           0
          ],
          [
           0
          ],
          [
           0
          ],
          [
           0
          ],
          [
           0
          ],
          [
           0
          ],
          [
           0
          ],
          [
           0
          ],
          [
           0
          ],
          [
           0
          ],
          [
           0
          ],
          [
           0
          ],
          [
           0
          ],
          [
           0
          ],
          [
           0
          ],
          [
           0
          ],
          [
           0
          ],
          [
           0
          ],
          [
           0
          ],
          [
           0
          ],
          [
           0
          ],
          [
           0
          ],
          [
           0
          ],
          [
           0
          ],
          [
           0
          ],
          [
           0
          ],
          [
           0
          ],
          [
           0
          ],
          [
           0
          ],
          [
           0
          ],
          [
           0
          ],
          [
           0
          ],
          [
           0
          ],
          [
           0
          ],
          [
           0
          ],
          [
           0
          ],
          [
           0
          ],
          [
           0
          ],
          [
           0
          ],
          [
           0.09775510204081626
          ],
          [
           0.21428571428571244
          ],
          [
           0.5408163265306121
          ],
          [
           0.64
          ],
          [
           0.7385714285714274
          ],
          [
           1.3834693877551012
          ],
          [
           1.59
          ],
          [
           1.676734693877551
          ],
          [
           3.15
          ],
          [
           0
          ],
          [
           0
          ],
          [
           0
          ],
          [
           0
          ],
          [
           0
          ],
          [
           0
          ],
          [
           0
          ],
          [
           0.022857142857142847
          ],
          [
           0.056122448979591795
          ],
          [
           0.07938775510204081
          ],
          [
           0.09
          ],
          [
           0.11
          ],
          [
           0.12
          ],
          [
           0.1424489795918367
          ],
          [
           0.17571428571428568
          ],
          [
           0.22591836734693857
          ],
          [
           0.3222448979591836
          ],
          [
           0.37551020408163266
          ],
          [
           0.39
          ],
          [
           0.47204081632653055
          ],
          [
           0.51
          ],
          [
           0.52
          ],
          [
           0.54
          ],
          [
           0.5451020408163265
          ],
          [
           0.55
          ],
          [
           0.56
          ],
          [
           0.56
          ],
          [
           0.5681632653061223
          ],
          [
           0.57
          ],
          [
           0.57
          ],
          [
           0.58
          ],
          [
           0.58
          ],
          [
           0.5844897959183671
          ],
          [
           0.59
          ],
          [
           0.6
          ],
          [
           0.6
          ],
          [
           0.6
          ],
          [
           0.61
          ],
          [
           0.6140816326530611
          ],
          [
           0.62
          ],
          [
           0.64
          ],
          [
           0.64
          ],
          [
           0.65
          ],
          [
           0.67
          ],
          [
           0.68
          ],
          [
           0.69
          ],
          [
           0.720204081632653
          ],
          [
           0.8655102040816292
          ],
          [
           1.60816326530612
          ],
          [
           6.21
          ],
          [
           0
          ],
          [
           0
          ],
          [
           0
          ],
          [
           0
          ],
          [
           0
          ],
          [
           0
          ],
          [
           0
          ],
          [
           0
          ],
          [
           0
          ],
          [
           0
          ],
          [
           0
          ],
          [
           0
          ],
          [
           0
          ],
          [
           0
          ],
          [
           0
          ],
          [
           0
          ],
          [
           0
          ],
          [
           0
          ],
          [
           0
          ],
          [
           0
          ],
          [
           0
          ],
          [
           0
          ],
          [
           0
          ],
          [
           0
          ],
          [
           0
          ],
          [
           0
          ],
          [
           0
          ],
          [
           0
          ],
          [
           0
          ],
          [
           0
          ],
          [
           0
          ],
          [
           0
          ],
          [
           0
          ],
          [
           0.007755102040816269
          ],
          [
           0.07
          ],
          [
           0.08428571428571416
          ],
          [
           0.09
          ],
          [
           0.1
          ],
          [
           0.11
          ],
          [
           0.12
          ],
          [
           0.15
          ],
          [
           0.16387755102040813
          ],
          [
           0.17
          ],
          [
           0.19
          ],
          [
           0.22
          ],
          [
           0.24
          ],
          [
           0.240204081632653
          ],
          [
           0.28
          ],
          [
           0.31673469387755093
          ],
          [
           0.51
          ],
          [
           1.51115
          ],
          [
           1.5131763265306122
          ],
          [
           1.51514
          ],
          [
           1.515667755102041
          ],
          [
           1.5158830612244898
          ],
          [
           1.5159126530612244
          ],
          [
           1.5159591836734694
          ],
          [
           1.5160928571428571
          ],
          [
           1.5161544897959183
          ],
          [
           1.51623
          ],
          [
           1.5163338775510204
          ],
          [
           1.51645
          ],
          [
           1.516505918367347
          ],
          [
           1.5165573469387756
          ],
          [
           1.5166414285714285
          ],
          [
           1.51672693877551
          ],
          [
           1.5168544897959184
          ],
          [
           1.5170116326530612
          ],
          [
           1.51711
          ],
          [
           1.5172761224489795
          ],
          [
           1.517391836734694
          ],
          [
           1.5174785714285715
          ],
          [
           1.51754
          ],
          [
           1.5175855102040816
          ],
          [
           1.517638367346939
          ],
          [
           1.51769
          ],
          [
           1.5177848979591837
          ],
          [
           1.51784
          ],
          [
           1.5179342857142857
          ],
          [
           1.5180693877551021
          ],
          [
           1.5181697959183673
          ],
          [
           1.5182924489795917
          ],
          [
           1.5183844897959184
          ],
          [
           1.5184555102040815
          ],
          [
           1.5185281632653063
          ],
          [
           1.518897142857143
          ],
          [
           1.51905
          ],
          [
           1.5191616326530613
          ],
          [
           1.5194883673469388
          ],
          [
           1.5198948979591838
          ],
          [
           1.520651836734694
          ],
          [
           1.5211977551020408
          ],
          [
           1.52152
          ],
          [
           1.5217220408163266
          ],
          [
           1.5221036734693878
          ],
          [
           1.52222693877551
          ],
          [
           1.5231510204081633
          ],
          [
           1.5243255102040816
          ],
          [
           1.527060612244898
          ],
          [
           1.53393
          ],
          [
           10.73
          ],
          [
           11.485918367346938
          ],
          [
           12.26530612244898
          ],
          [
           12.559795918367348
          ],
          [
           12.64
          ],
          [
           12.686326530612245
          ],
          [
           12.729591836734695
          ],
          [
           12.782857142857143
          ],
          [
           12.806122448979592
          ],
          [
           12.838775510204082
          ],
          [
           12.852653061224489
          ],
          [
           12.865918367346938
          ],
          [
           12.889183673469388
          ],
          [
           12.932448979591836
          ],
          [
           12.985714285714286
          ],
          [
           13
          ],
          [
           13.02
          ],
          [
           13.031020408163265
          ],
          [
           13.088775510204082
          ],
          [
           13.124081632653061
          ],
          [
           13.19
          ],
          [
           13.20857142857143
          ],
          [
           13.213673469387755
          ],
          [
           13.24
          ],
          [
           13.27
          ],
          [
           13.31326530612245
          ],
          [
           13.334897959183673
          ],
          [
           13.38
          ],
          [
           13.41
          ],
          [
           13.43469387755102
          ],
          [
           13.475918367346939
          ],
          [
           13.501224489795918
          ],
          [
           13.554489795918368
          ],
          [
           13.64
          ],
          [
           13.691020408163265
          ],
          [
           13.72
          ],
          [
           13.787551020408163
          ],
          [
           13.870816326530612
          ],
          [
           13.908163265306122
          ],
          [
           14.007346938775509
          ],
          [
           14.14
          ],
          [
           14.193877551020407
          ],
          [
           14.244285714285715
          ],
          [
           14.360408163265305
          ],
          [
           14.393673469387755
          ],
          [
           14.56
          ],
          [
           14.801020408163266
          ],
          [
           14.88081632653061
          ],
          [
           14.976938775510204
          ],
          [
           17.38
          ],
          [
           69.81
          ],
          [
           70.44632653061225
          ],
          [
           71.20877551020408
          ],
          [
           71.36
          ],
          [
           71.7530612244898
          ],
          [
           71.7826530612245
          ],
          [
           71.86755102040817
          ],
          [
           71.96857142857142
          ],
          [
           72.01612244897959
          ],
          [
           72.07877551020408
          ],
          [
           72.18
          ],
          [
           72.21183673469388
          ],
          [
           72.27836734693878
          ],
          [
           72.33244897959183
          ],
          [
           72.38
          ],
          [
           72.43591836734694
          ],
          [
           72.50224489795919
          ],
          [
           72.54551020408164
          ],
          [
           72.61
          ],
          [
           72.65
          ],
          [
           72.67
          ],
          [
           72.71714285714286
          ],
          [
           72.73183673469389
          ],
          [
           72.75
          ],
          [
           72.77836734693878
          ],
          [
           72.81326530612245
          ],
          [
           72.84489795918367
          ],
          [
           72.86
          ],
          [
           72.87
          ],
          [
           72.90408163265306
          ],
          [
           72.95795918367347
          ],
          [
           72.97
          ],
          [
           72.99
          ],
          [
           73
          ],
          [
           73.02
          ],
          [
           73.04428571428572
          ],
          [
           73.07755102040817
          ],
          [
           73.1
          ],
          [
           73.11
          ],
          [
           73.13469387755102
          ],
          [
           73.20061224489797
          ],
          [
           73.23
          ],
          [
           73.25714285714287
          ],
          [
           73.28
          ],
          [
           73.29367346938776
          ],
          [
           73.39
          ],
          [
           73.4604081632653
          ],
          [
           73.64122448979592
          ],
          [
           73.85714285714285
          ],
          [
           75.41
          ],
          [
           5.43
          ],
          [
           6.741428571428571
          ],
          [
           7.5102040816326525
          ],
          [
           7.859387755102041
          ],
          [
           7.912244897959184
          ],
          [
           7.97
          ],
          [
           8.03
          ],
          [
           8.042857142857143
          ],
          [
           8.076122448979591
          ],
          [
           8.1
          ],
          [
           8.127959183673468
          ],
          [
           8.21
          ],
          [
           8.229183673469388
          ],
          [
           8.272448979591836
          ],
          [
           8.315714285714286
          ],
          [
           8.348979591836734
          ],
          [
           8.39
          ],
          [
           8.405510204081633
          ],
          [
           8.43
          ],
          [
           8.44
          ],
          [
           8.49530612244898
          ],
          [
           8.528571428571428
          ],
          [
           8.541836734693877
          ],
          [
           8.56
          ],
          [
           8.59
          ],
          [
           8.61
          ],
          [
           8.659795918367347
          ],
          [
           8.68
          ],
          [
           8.715714285714286
          ],
          [
           8.76469387755102
          ],
          [
           8.79
          ],
          [
           8.83
          ],
          [
           8.894489795918368
          ],
          [
           8.945510204081632
          ],
          [
           9.00204081632653
          ],
          [
           9.064285714285715
          ],
          [
           9.137551020408164
          ],
          [
           9.232448979591837
          ],
          [
           9.414081632653062
          ],
          [
           9.56204081632653
          ],
          [
           9.612448979591836
          ],
          [
           9.747755102040816
          ],
          [
           9.84142857142857
          ],
          [
           10.021632653061223
          ],
          [
           10.313265306122439
          ],
          [
           11.09408163265306
          ],
          [
           11.412244897959184
          ],
          [
           11.848163265306109
          ],
          [
           13.394285714285713
          ],
          [
           16.19
          ],
          [
           0.29
          ],
          [
           0.5263265306122449
          ],
          [
           0.656530612244898
          ],
          [
           0.7493877551020408
          ],
          [
           0.7991836734693877
          ],
          [
           0.87
          ],
          [
           0.9
          ],
          [
           1.052857142857143
          ],
          [
           1.11
          ],
          [
           1.12
          ],
          [
           1.1526530612244896
          ],
          [
           1.1759183673469387
          ],
          [
           1.19
          ],
          [
           1.1924489795918367
          ],
          [
           1.2257142857142858
          ],
          [
           1.23
          ],
          [
           1.25
          ],
          [
           1.2655102040816326
          ],
          [
           1.28
          ],
          [
           1.29
          ],
          [
           1.3
          ],
          [
           1.3185714285714285
          ],
          [
           1.33
          ],
          [
           1.35
          ],
          [
           1.36
          ],
          [
           1.38
          ],
          [
           1.41
          ],
          [
           1.43
          ],
          [
           1.4528571428571426
          ],
          [
           1.48
          ],
          [
           1.5059183673469385
          ],
          [
           1.5212244897959182
          ],
          [
           1.54
          ],
          [
           1.54
          ],
          [
           1.56
          ],
          [
           1.5742857142857143
          ],
          [
           1.62
          ],
          [
           1.630816326530612
          ],
          [
           1.6781632653061223
          ],
          [
           1.74
          ],
          [
           1.7906122448979591
          ],
          [
           1.8238775510204082
          ],
          [
           1.877142857142857
          ],
          [
           1.99
          ],
          [
           2.06734693877551
          ],
          [
           2.113877551020408
          ],
          [
           2.271428571428571
          ],
          [
           2.5204081632653055
          ],
          [
           2.7736734693877545
          ],
          [
           3.5
          ],
          [
           0
          ],
          [
           0
          ],
          [
           0
          ],
          [
           0
          ],
          [
           0
          ],
          [
           0
          ],
          [
           0
          ],
          [
           0
          ],
          [
           0
          ],
          [
           0
          ],
          [
           0.8410204081632645
          ],
          [
           1.7277551020408162
          ],
          [
           1.8775510204081631
          ],
          [
           2.249795918367347
          ],
          [
           2.697142857142857
          ],
          [
           2.836938775510204
          ],
          [
           2.9134693877551014
          ],
          [
           3.1910204081632654
          ],
          [
           3.33
          ],
          [
           3.3520408163265305
          ],
          [
           3.3953061224489796
          ],
          [
           3.4185714285714286
          ],
          [
           3.441836734693877
          ],
          [
           3.4651020408163267
          ],
          [
           3.48
          ],
          [
           3.48
          ],
          [
           3.49
          ],
          [
           3.5
          ],
          [
           3.52
          ],
          [
           3.5246938775510204
          ],
          [
           3.54
          ],
          [
           3.54
          ],
          [
           3.554489795918367
          ],
          [
           3.5677551020408163
          ],
          [
           3.58
          ],
          [
           3.58
          ],
          [
           3.59
          ],
          [
           3.6008163265306123
          ],
          [
           3.614081632653061
          ],
          [
           3.62
          ],
          [
           3.65
          ],
          [
           3.66
          ],
          [
           3.677142857142857
          ],
          [
           3.720408163265306
          ],
          [
           3.743673469387755
          ],
          [
           3.776938775510204
          ],
          [
           3.820204081632653
          ],
          [
           3.853469387755102
          ],
          [
           3.9
          ],
          [
           3.98
          ]
         ],
         "hovertemplate": "standardized effect=%{x}<br>Feature=%{y}<br>original=%{customdata[0]}<br>quantile=%{marker.color}<extra></extra>",
         "legendgroup": "",
         "marker": {
          "color": [
           0,
           0.4693877551020408,
           0.5102040816326531,
           0.5306122448979591,
           0.5510204081632653,
           0.5714285714285714,
           0.5918367346938775,
           0.6122448979591836,
           0.6326530612244897,
           0.6530612244897959,
           0.673469387755102,
           0.6938775510204082,
           0.7142857142857142,
           0.7346938775510203,
           0.7551020408163265,
           0.7755102040816326,
           0.7959183673469387,
           0.8163265306122448,
           0.44897959183673464,
           0.42857142857142855,
           0.4897959183673469,
           0.3877551020408163,
           0.02040816326530612,
           0.04081632653061224,
           0.061224489795918366,
           0.08163265306122448,
           0.1020408163265306,
           0.4081632653061224,
           0.14285714285714285,
           0.16326530612244897,
           0.18367346938775508,
           0.12244897959183673,
           0.22448979591836732,
           0.2040816326530612,
           0.3469387755102041,
           0.32653061224489793,
           0.36734693877551017,
           0.2857142857142857,
           0.26530612244897955,
           0.24489795918367346,
           0.3061224489795918,
           0.836734693877551,
           0.8571428571428571,
           0.8775510204081632,
           0.8979591836734693,
           0.9183673469387754,
           0.9387755102040816,
           0.9591836734693877,
           0.9795918367346939,
           1,
           0,
           0.02040816326530612,
           0.04081632653061224,
           0.061224489795918366,
           0.08163265306122448,
           0.1020408163265306,
           0.12244897959183673,
           0.14285714285714285,
           0.16326530612244897,
           0.18367346938775508,
           0.2040816326530612,
           0.22448979591836732,
           0.24489795918367346,
           0.26530612244897955,
           0.2857142857142857,
           0.3061224489795918,
           0.32653061224489793,
           0.3469387755102041,
           0.36734693877551017,
           0.3877551020408163,
           0.4081632653061224,
           0.42857142857142855,
           0.44897959183673464,
           0.4693877551020408,
           0.4897959183673469,
           0.5102040816326531,
           0.5306122448979591,
           0.5510204081632653,
           0.5714285714285714,
           0.5918367346938775,
           0.6122448979591836,
           0.6326530612244897,
           0.6530612244897959,
           0.673469387755102,
           0.6938775510204082,
           0.7142857142857142,
           0.7346938775510203,
           0.7551020408163265,
           0.7755102040816326,
           0.7959183673469387,
           0.8163265306122448,
           0.836734693877551,
           0.8571428571428571,
           0.8775510204081632,
           0.8979591836734693,
           0.9183673469387754,
           0.9387755102040816,
           0.9591836734693877,
           0.9795918367346939,
           1,
           0,
           0.6530612244897959,
           0.6326530612244897,
           0.6122448979591836,
           0.5918367346938775,
           0.5714285714285714,
           0.5510204081632653,
           0.5306122448979591,
           0.5102040816326531,
           0.4693877551020408,
           0.44897959183673464,
           0.42857142857142855,
           0.4081632653061224,
           0.3877551020408163,
           0.36734693877551017,
           0.3469387755102041,
           0.4897959183673469,
           0.3061224489795918,
           0.2857142857142857,
           0.26530612244897955,
           0.24489795918367346,
           0.22448979591836732,
           0.2040816326530612,
           0.18367346938775508,
           0.32653061224489793,
           0.16326530612244897,
           0.14285714285714285,
           0.12244897959183673,
           0.1020408163265306,
           0.08163265306122448,
           0.061224489795918366,
           0.04081632653061224,
           0.02040816326530612,
           0.673469387755102,
           0.6938775510204082,
           0.7142857142857142,
           0.7346938775510203,
           0.7551020408163265,
           0.7755102040816326,
           0.7959183673469387,
           0.8163265306122448,
           0.836734693877551,
           0.8571428571428571,
           0.8775510204081632,
           0.8979591836734693,
           0.9183673469387754,
           0.9387755102040816,
           0.9591836734693877,
           0.9795918367346939,
           1,
           0,
           0.02040816326530612,
           0.04081632653061224,
           0.061224489795918366,
           0.08163265306122448,
           0.1020408163265306,
           0.12244897959183673,
           0.14285714285714285,
           0.16326530612244897,
           0.18367346938775508,
           0.2040816326530612,
           0.22448979591836732,
           0.24489795918367346,
           0.26530612244897955,
           0.2857142857142857,
           0.3061224489795918,
           0.32653061224489793,
           0.3469387755102041,
           0.36734693877551017,
           0.3877551020408163,
           0.4081632653061224,
           0.42857142857142855,
           0.44897959183673464,
           0.4693877551020408,
           0.4897959183673469,
           0.5102040816326531,
           0.5306122448979591,
           0.5510204081632653,
           0.5714285714285714,
           0.5918367346938775,
           0.6122448979591836,
           0.6326530612244897,
           0.6530612244897959,
           0.673469387755102,
           0.6938775510204082,
           0.7142857142857142,
           0.7346938775510203,
           0.7551020408163265,
           0.7755102040816326,
           0.7959183673469387,
           0.8163265306122448,
           0.836734693877551,
           0.8571428571428571,
           0.8775510204081632,
           0.8979591836734693,
           0.9183673469387754,
           0.9387755102040816,
           0.9591836734693877,
           0.9795918367346939,
           1,
           0,
           0.02040816326530612,
           0.04081632653061224,
           0.061224489795918366,
           0.08163265306122448,
           0.1020408163265306,
           0.12244897959183673,
           0.14285714285714285,
           0.16326530612244897,
           0.18367346938775508,
           0.2040816326530612,
           0.22448979591836732,
           0.24489795918367346,
           0.26530612244897955,
           0.2857142857142857,
           0.3061224489795918,
           0.32653061224489793,
           0.3469387755102041,
           0.36734693877551017,
           0.3877551020408163,
           0.4081632653061224,
           0.42857142857142855,
           0.44897959183673464,
           0.4693877551020408,
           0.4897959183673469,
           0.5102040816326531,
           0.5306122448979591,
           0.5510204081632653,
           0.5714285714285714,
           0.5918367346938775,
           0.6122448979591836,
           0.6326530612244897,
           0.6530612244897959,
           0.673469387755102,
           0.6938775510204082,
           0.7142857142857142,
           0.7346938775510203,
           0.7551020408163265,
           0.7755102040816326,
           0.7959183673469387,
           0.8163265306122448,
           0.836734693877551,
           0.8571428571428571,
           0.8775510204081632,
           0.8979591836734693,
           0.9183673469387754,
           0.9387755102040816,
           0.9591836734693877,
           0.9795918367346939,
           1,
           0,
           0.02040816326530612,
           0.04081632653061224,
           0.061224489795918366,
           0.08163265306122448,
           0.1020408163265306,
           0.12244897959183673,
           0.14285714285714285,
           0.16326530612244897,
           0.18367346938775508,
           0.2040816326530612,
           0.22448979591836732,
           0.24489795918367346,
           0.26530612244897955,
           0.2857142857142857,
           0.3061224489795918,
           0.32653061224489793,
           0.3469387755102041,
           0.36734693877551017,
           0.3877551020408163,
           0.4081632653061224,
           0.42857142857142855,
           0.44897959183673464,
           0.4693877551020408,
           0.4897959183673469,
           0.5102040816326531,
           0.5306122448979591,
           0.5510204081632653,
           0.5714285714285714,
           0.5918367346938775,
           0.6122448979591836,
           0.6326530612244897,
           0.6530612244897959,
           0.673469387755102,
           0.6938775510204082,
           0.7142857142857142,
           0.7346938775510203,
           0.7551020408163265,
           0.7755102040816326,
           0.7959183673469387,
           0.8163265306122448,
           0.836734693877551,
           0.8571428571428571,
           0.8775510204081632,
           0.8979591836734693,
           0.9183673469387754,
           0.9387755102040816,
           0.9591836734693877,
           0.9795918367346939,
           1,
           0,
           0.02040816326530612,
           0.04081632653061224,
           0.061224489795918366,
           0.08163265306122448,
           0.1020408163265306,
           0.12244897959183673,
           0.14285714285714285,
           0.16326530612244897,
           0.18367346938775508,
           0.2040816326530612,
           0.22448979591836732,
           0.24489795918367346,
           0.26530612244897955,
           0.2857142857142857,
           0.3061224489795918,
           0.32653061224489793,
           0.3469387755102041,
           0.36734693877551017,
           0.3877551020408163,
           0.4081632653061224,
           0.42857142857142855,
           0.44897959183673464,
           0.4693877551020408,
           0.4897959183673469,
           0.5102040816326531,
           0.5306122448979591,
           0.5510204081632653,
           0.5714285714285714,
           0.5918367346938775,
           0.6122448979591836,
           0.6326530612244897,
           0.6530612244897959,
           0.673469387755102,
           0.6938775510204082,
           0.7142857142857142,
           0.7346938775510203,
           0.7551020408163265,
           0.7755102040816326,
           0.7959183673469387,
           0.8163265306122448,
           0.836734693877551,
           0.8571428571428571,
           0.8775510204081632,
           0.8979591836734693,
           0.9183673469387754,
           0.9387755102040816,
           0.9591836734693877,
           0.9795918367346939,
           1,
           0,
           0.02040816326530612,
           0.04081632653061224,
           0.061224489795918366,
           0.08163265306122448,
           0.1020408163265306,
           0.12244897959183673,
           0.14285714285714285,
           0.16326530612244897,
           0.18367346938775508,
           0.2040816326530612,
           0.22448979591836732,
           0.24489795918367346,
           0.26530612244897955,
           0.2857142857142857,
           0.3061224489795918,
           0.32653061224489793,
           0.3469387755102041,
           0.36734693877551017,
           0.3877551020408163,
           0.4081632653061224,
           0.42857142857142855,
           0.44897959183673464,
           0.4693877551020408,
           0.4897959183673469,
           0.5102040816326531,
           0.5306122448979591,
           0.5510204081632653,
           0.5714285714285714,
           0.5918367346938775,
           0.6122448979591836,
           0.6326530612244897,
           0.6530612244897959,
           0.673469387755102,
           0.6938775510204082,
           0.7142857142857142,
           0.7346938775510203,
           0.7551020408163265,
           0.7755102040816326,
           0.7959183673469387,
           0.8163265306122448,
           0.836734693877551,
           0.8571428571428571,
           0.8775510204081632,
           0.8979591836734693,
           0.9183673469387754,
           0.9387755102040816,
           0.9591836734693877,
           0.9795918367346939,
           1,
           0,
           0.02040816326530612,
           0.04081632653061224,
           0.061224489795918366,
           0.08163265306122448,
           0.1020408163265306,
           0.12244897959183673,
           0.14285714285714285,
           0.16326530612244897,
           0.18367346938775508,
           0.2040816326530612,
           0.22448979591836732,
           0.24489795918367346,
           0.26530612244897955,
           0.2857142857142857,
           0.3061224489795918,
           0.32653061224489793,
           0.3469387755102041,
           0.36734693877551017,
           0.3877551020408163,
           0.4081632653061224,
           0.42857142857142855,
           0.44897959183673464,
           0.4693877551020408,
           0.5102040816326531,
           0.4897959183673469,
           0.5306122448979591,
           0.5510204081632653,
           0.5714285714285714,
           0.5918367346938775,
           0.6122448979591836,
           0.6326530612244897,
           0.6530612244897959,
           0.673469387755102,
           0.6938775510204082,
           0.7142857142857142,
           0.7346938775510203,
           0.7551020408163265,
           0.7755102040816326,
           0.7959183673469387,
           0.8163265306122448,
           0.836734693877551,
           0.8571428571428571,
           0.8775510204081632,
           0.8979591836734693,
           0.9183673469387754,
           0.9387755102040816,
           0.9591836734693877,
           0.9795918367346939,
           1
          ],
          "coloraxis": "coloraxis",
          "symbol": "circle"
         },
         "mode": "markers",
         "name": "",
         "orientation": "h",
         "showlegend": false,
         "type": "scatter",
         "x": [
          0.042879942248804294,
          0.042879942248804294,
          0.042879942248804294,
          0.042879942248804294,
          0.042879942248804294,
          0.042879942248804294,
          0.042879942248804294,
          0.042879942248804294,
          0.042879942248804294,
          0.042879942248804294,
          0.042879942248804294,
          0.042879942248804294,
          0.042879942248804294,
          0.042879942248804294,
          0.042879942248804294,
          0.042879942248804294,
          0.042879942248804294,
          0.042879942248804294,
          0.042879942248804294,
          0.042879942248804294,
          0.042879942248804294,
          0.042879942248804294,
          0.042879942248804294,
          0.042879942248804294,
          0.042879942248804294,
          0.042879942248804294,
          0.042879942248804294,
          0.042879942248804294,
          0.042879942248804294,
          0.042879942248804294,
          0.042879942248804294,
          0.042879942248804294,
          0.042879942248804294,
          0.042879942248804294,
          0.042879942248804294,
          0.042879942248804294,
          0.042879942248804294,
          0.042879942248804294,
          0.042879942248804294,
          0.042879942248804294,
          0.042879942248804294,
          -0.08753262787240168,
          -0.15032371708912598,
          -0.19278944988435046,
          -0.22414800483859929,
          -0.22409374632234524,
          -0.2199557178158657,
          -0.2199557178158657,
          -0.22026739549819416,
          -0.2190112550642281,
          -0.12460259324955894,
          -0.12460259324955894,
          -0.12460259324955894,
          -0.12460259324955894,
          -0.12460259324955894,
          -0.12460259324955894,
          -0.12460259324955894,
          -0.10743333706226102,
          -0.07145203951838419,
          -0.044203577819065955,
          -0.027332746809688998,
          -0.02758157952210609,
          -0.02758157952210609,
          -0.008308080250017745,
          0.014523422865325628,
          0.03487263121513809,
          0.09666902612839265,
          0.11659575283189802,
          0.11069582154945738,
          0.1034605187719977,
          0.12222913616140473,
          0.1231622210366193,
          0.21625506829452026,
          0.1846067139703865,
          0.1846067139703865,
          0.16735224624596415,
          0.16735224624596415,
          0.13996110547885296,
          0.13996110547885296,
          0.13996110547885296,
          0.13339419418438242,
          0.13339419418438242,
          0.13339419418438242,
          0.10722747624198399,
          -0.013120511142811634,
          -0.013120511142811634,
          -0.013120511142811634,
          -0.02432435790246573,
          -0.02432435790246573,
          -0.07193267986247705,
          -0.08265888162335201,
          -0.08265888162335201,
          -0.08315722466294119,
          -0.1073344365682255,
          -0.14375384937855745,
          -0.1385070734911818,
          -0.14997974276745507,
          -0.1368555488915915,
          -0.15395851705908536,
          -0.1447567161070166,
          0.07057772846379028,
          0.07057772846379028,
          0.07057772846379028,
          0.07057772846379028,
          0.07057772846379028,
          0.07057772846379028,
          0.07057772846379028,
          0.07057772846379028,
          0.07057772846379028,
          0.07057772846379028,
          0.07057772846379028,
          0.07057772846379028,
          0.07057772846379028,
          0.07057772846379028,
          0.07057772846379028,
          0.07057772846379028,
          0.07057772846379028,
          0.07057772846379028,
          0.07057772846379028,
          0.07057772846379028,
          0.07057772846379028,
          0.07057772846379028,
          0.07057772846379028,
          0.07057772846379028,
          0.07057772846379028,
          0.07057772846379028,
          0.07057772846379028,
          0.07057772846379028,
          0.07057772846379028,
          0.07057772846379028,
          0.07057772846379028,
          0.07057772846379028,
          0.07057772846379028,
          0.10324415689383104,
          0.12382493964018373,
          0.1170877263691671,
          0.1170877263691671,
          0.08174784126462735,
          0.0763258191013153,
          -0.15174402790528205,
          -0.1952407332558338,
          -0.20933460777118001,
          -0.2401694047549116,
          -0.2534975641555019,
          -0.2926452251562821,
          -0.33687393146831157,
          -0.33687393146831157,
          -0.3449775131833043,
          -0.33368721657406225,
          -0.2533390932503893,
          -0.051350805401391204,
          -0.07108410765186622,
          -0.06827737902200773,
          -0.06392532910506783,
          -0.14890616142089141,
          -0.1822048912390974,
          -0.18521595425307696,
          -0.2135261973529774,
          -0.21250868714146393,
          -0.21187947088262576,
          -0.2128027433586254,
          -0.21307209219115084,
          -0.20921034641088654,
          -0.21119740048875207,
          -0.2057053118304841,
          -0.19487107637973825,
          -0.19488032932180208,
          -0.18834281725042348,
          -0.17857556306689165,
          -0.1482393611728806,
          0.09859964608735955,
          0.12394712700010119,
          0.13942592799681544,
          0.16604201807031926,
          0.18264277952270516,
          0.20837082472609444,
          0.2086696047927537,
          0.2015851353135945,
          0.17820215250475388,
          0.22907484152362975,
          0.2287502590742475,
          0.21827511309413244,
          0.223217321464635,
          0.24566025411753137,
          0.25118754620737027,
          0.23981569231145183,
          0.22436307385776116,
          0.22273152194984114,
          0.21274033971131004,
          0.1343350037616179,
          0.11849505839851154,
          0.10553934718102144,
          0.07046996243090634,
          0.007216376070366104,
          -0.08532926459229062,
          -0.10900840069768387,
          -0.17614473444064635,
          -0.17183572021117943,
          -0.16709251932405073,
          -0.16417026296087883,
          -0.08924588509376306,
          -0.08924588509376306,
          -0.09840180958740297,
          -0.01871306517825259,
          0.006265472459811274,
          0.00790267007063861,
          0.00790267007063861,
          0.01310651706360669,
          0.016998431686820595,
          0.07296981431650788,
          0.07296981431650788,
          0.07467220251156849,
          0.06559082150759037,
          -0.03226320808814723,
          0.023986553530037934,
          0.07909374517985567,
          0.1705176974031459,
          0.3168928704009187,
          0.3824317069982521,
          0.41904095392474366,
          0.4361768514616434,
          0.37120288460568357,
          0.37120288460568357,
          0.3421685884313286,
          0.31557300581128045,
          0.19462339432493905,
          0.12148808218148437,
          0.08908181355351436,
          0.08847425832167402,
          0.07631003059619135,
          0.0516235986893801,
          0.06534670510423322,
          0.005601343655409294,
          -0.05529873062273703,
          -0.05982643178447696,
          -0.047041976737813684,
          -0.05390065527641362,
          -0.043151310813472454,
          -0.09298867413232817,
          -0.161703267325414,
          -0.2205500443544759,
          -0.2840627362060778,
          -0.3535439779520818,
          -0.3579506520069824,
          -0.3665699754884336,
          -0.3672187181251997,
          -0.3672187181251997,
          -0.3672187181251997,
          -0.3672187181251997,
          -0.36588222454025454,
          -0.27161278827400787,
          -0.2750279441407045,
          -0.28090239601467265,
          -0.2781233252966292,
          -0.2781233252966292,
          -0.27696862723059457,
          -0.2557275856565561,
          -0.2569856014012721,
          -0.2605658668904164,
          -0.2616825790154509,
          -0.28725762557979345,
          -0.26682819822180237,
          -0.2616735617530462,
          -0.2302644162846569,
          -0.19841579853552913,
          -0.18621717215330494,
          -0.18727214075565177,
          -0.1718535905929283,
          -0.1325500735625387,
          -0.02647883369816897,
          -0.03264854030629608,
          0.12284528902339051,
          0.2054727827125719,
          0.1996940826069939,
          0.20242879647043813,
          0.20287931080800634,
          0.19925874246035044,
          0.1713703130128276,
          0.1701674257237546,
          0.09892623842117858,
          0.16056512030157113,
          0.16423694684467466,
          0.18719304782902035,
          0.18750891069039663,
          0.18659093044951447,
          0.18557427879347144,
          0.18444776034803861,
          0.1860488375912855,
          0.1860488375912855,
          0.1860488375912855,
          0.17212380842883238,
          0.1644680790507557,
          0.13890267252870625,
          0.13890267252870625,
          0.13890267252870625,
          0.13890267252870625,
          0.15596624895664277,
          0.10690308737731843,
          0.07298427504169061,
          0.06181731242052928,
          0.47383464181141915,
          0.47350869400049933,
          0.47350869400049933,
          0.0943605555800858,
          0.05113860304584899,
          0.08264721469380365,
          0.07886165805415224,
          0.0778870361305773,
          0.07973092658918085,
          0.07973092658918085,
          0.06986754173089345,
          0.11007988443929398,
          0.09460254200042369,
          0.12626069181569768,
          0.1543603461959795,
          0.19985268030189832,
          0.18278688271356364,
          0.1873214103221462,
          0.22805264738849468,
          0.22513939673476094,
          0.1893126914110742,
          0.18743725479297413,
          0.183419956726456,
          0.16896184170994272,
          0.12004196922182367,
          0.10032315604766646,
          0.016022425734643853,
          0.016022425734643853,
          -0.006194011709567561,
          -0.0009085891043578642,
          -0.019222279611689735,
          -0.03685134435119965,
          -0.033362229021846705,
          0.015902560573454686,
          0.10459332625178794,
          0.08622696789814348,
          0.06474837913506881,
          -0.007839323498532395,
          -0.047228565782736785,
          -0.17640446203489626,
          -0.18461885868804542,
          -0.2614214016006438,
          -0.3065992749308595,
          -0.33073007035692875,
          -0.4132572399935117,
          -0.4662854004428049,
          -0.6065214301668763,
          -0.6272608134383058,
          -0.6359203173216382,
          -0.6359203173216382,
          -0.11183668195912275,
          -0.1405421282863361,
          0.017791023812074324,
          0.020332523929022652,
          0.10859416963514919,
          0.15936718370244052,
          0.15936718370244052,
          0.17251607133236002,
          0.2516953344478935,
          0.511902818921259,
          0.5142674297233302,
          0.7374567171801494,
          0.7546453094299002,
          0.7546453094299002,
          0.6449860164104801,
          0.6449860164104801,
          0.6554257208853836,
          0.7152278083502984,
          0.7025029382587653,
          0.6417955274819777,
          0.6142513870181145,
          0.5461975913497356,
          0.5279335299486466,
          0.49858088545956203,
          0.46315489474551996,
          0.36994144073694113,
          0.05717856613908016,
          -0.2797280942172723,
          -0.33898581361626196,
          -0.35828105424507484,
          -0.36589281921042793,
          -0.36589281921042793,
          -0.3995295771344362,
          -0.3995295771344362,
          -0.48461179635189516,
          -0.5020400952946413,
          -0.523634896225549,
          -0.5247559691956306,
          -0.520204567580813,
          -0.521776162436981,
          -0.5450416628795128,
          -0.5429733836251638,
          -0.5340661740071806,
          -0.5439976273663669,
          -0.5466318643967409,
          -0.5375432220658717,
          -0.5380322604671678,
          -0.5380322604671678,
          -0.5380776514547484,
          -0.5431052396116773,
          -0.6326814934411787,
          -0.6326814934411787,
          -0.6326814934411787,
          -0.6326814934411787,
          -0.6326814934411787,
          -0.6326814934411787,
          -0.6326814934411787,
          -0.6326814934411787,
          -0.6326814934411787,
          -0.6326814934411787,
          -0.6150137538447521,
          -0.5732376813875399,
          -0.5652808177502692,
          -0.47251478342090353,
          -0.4321757190063777,
          -0.4080428501726502,
          -0.29372374886923475,
          -0.2914613308251382,
          -0.16115993203875156,
          -0.3365607623316771,
          -0.25151127638510673,
          0.2491203447642476,
          0.37538512607603775,
          0.601863524073711,
          0.6927612121754964,
          0.6927612121754964,
          0.6577966377467706,
          0.6802855270568106,
          0.7376059652179526,
          0.7376059652179526,
          0.7633493364717151,
          0.7633493364717151,
          0.7713125808910803,
          0.769389763878453,
          0.7461654095724262,
          0.7461654095724262,
          0.7202616396359004,
          0.6743174849385348,
          0.4240006654798034,
          0.3814103664342707,
          0.35732974988715754,
          0.36188569489044564,
          0.21954681226701925,
          0.29290301656062356,
          0.29290301656062356,
          -0.37401904160015814,
          -0.5470366804812266,
          -0.651253055956091,
          -0.704816424394506,
          -0.704853005140503
         ],
         "xaxis": "x",
         "y": [
          "Ba",
          "Ba",
          "Ba",
          "Ba",
          "Ba",
          "Ba",
          "Ba",
          "Ba",
          "Ba",
          "Ba",
          "Ba",
          "Ba",
          "Ba",
          "Ba",
          "Ba",
          "Ba",
          "Ba",
          "Ba",
          "Ba",
          "Ba",
          "Ba",
          "Ba",
          "Ba",
          "Ba",
          "Ba",
          "Ba",
          "Ba",
          "Ba",
          "Ba",
          "Ba",
          "Ba",
          "Ba",
          "Ba",
          "Ba",
          "Ba",
          "Ba",
          "Ba",
          "Ba",
          "Ba",
          "Ba",
          "Ba",
          "Ba",
          "Ba",
          "Ba",
          "Ba",
          "Ba",
          "Ba",
          "Ba",
          "Ba",
          "Ba",
          "K",
          "K",
          "K",
          "K",
          "K",
          "K",
          "K",
          "K",
          "K",
          "K",
          "K",
          "K",
          "K",
          "K",
          "K",
          "K",
          "K",
          "K",
          "K",
          "K",
          "K",
          "K",
          "K",
          "K",
          "K",
          "K",
          "K",
          "K",
          "K",
          "K",
          "K",
          "K",
          "K",
          "K",
          "K",
          "K",
          "K",
          "K",
          "K",
          "K",
          "K",
          "K",
          "K",
          "K",
          "K",
          "K",
          "K",
          "K",
          "K",
          "K",
          "Fe",
          "Fe",
          "Fe",
          "Fe",
          "Fe",
          "Fe",
          "Fe",
          "Fe",
          "Fe",
          "Fe",
          "Fe",
          "Fe",
          "Fe",
          "Fe",
          "Fe",
          "Fe",
          "Fe",
          "Fe",
          "Fe",
          "Fe",
          "Fe",
          "Fe",
          "Fe",
          "Fe",
          "Fe",
          "Fe",
          "Fe",
          "Fe",
          "Fe",
          "Fe",
          "Fe",
          "Fe",
          "Fe",
          "Fe",
          "Fe",
          "Fe",
          "Fe",
          "Fe",
          "Fe",
          "Fe",
          "Fe",
          "Fe",
          "Fe",
          "Fe",
          "Fe",
          "Fe",
          "Fe",
          "Fe",
          "Fe",
          "Fe",
          "RI",
          "RI",
          "RI",
          "RI",
          "RI",
          "RI",
          "RI",
          "RI",
          "RI",
          "RI",
          "RI",
          "RI",
          "RI",
          "RI",
          "RI",
          "RI",
          "RI",
          "RI",
          "RI",
          "RI",
          "RI",
          "RI",
          "RI",
          "RI",
          "RI",
          "RI",
          "RI",
          "RI",
          "RI",
          "RI",
          "RI",
          "RI",
          "RI",
          "RI",
          "RI",
          "RI",
          "RI",
          "RI",
          "RI",
          "RI",
          "RI",
          "RI",
          "RI",
          "RI",
          "RI",
          "RI",
          "RI",
          "RI",
          "RI",
          "RI",
          "Na",
          "Na",
          "Na",
          "Na",
          "Na",
          "Na",
          "Na",
          "Na",
          "Na",
          "Na",
          "Na",
          "Na",
          "Na",
          "Na",
          "Na",
          "Na",
          "Na",
          "Na",
          "Na",
          "Na",
          "Na",
          "Na",
          "Na",
          "Na",
          "Na",
          "Na",
          "Na",
          "Na",
          "Na",
          "Na",
          "Na",
          "Na",
          "Na",
          "Na",
          "Na",
          "Na",
          "Na",
          "Na",
          "Na",
          "Na",
          "Na",
          "Na",
          "Na",
          "Na",
          "Na",
          "Na",
          "Na",
          "Na",
          "Na",
          "Na",
          "Si",
          "Si",
          "Si",
          "Si",
          "Si",
          "Si",
          "Si",
          "Si",
          "Si",
          "Si",
          "Si",
          "Si",
          "Si",
          "Si",
          "Si",
          "Si",
          "Si",
          "Si",
          "Si",
          "Si",
          "Si",
          "Si",
          "Si",
          "Si",
          "Si",
          "Si",
          "Si",
          "Si",
          "Si",
          "Si",
          "Si",
          "Si",
          "Si",
          "Si",
          "Si",
          "Si",
          "Si",
          "Si",
          "Si",
          "Si",
          "Si",
          "Si",
          "Si",
          "Si",
          "Si",
          "Si",
          "Si",
          "Si",
          "Si",
          "Si",
          "Ca",
          "Ca",
          "Ca",
          "Ca",
          "Ca",
          "Ca",
          "Ca",
          "Ca",
          "Ca",
          "Ca",
          "Ca",
          "Ca",
          "Ca",
          "Ca",
          "Ca",
          "Ca",
          "Ca",
          "Ca",
          "Ca",
          "Ca",
          "Ca",
          "Ca",
          "Ca",
          "Ca",
          "Ca",
          "Ca",
          "Ca",
          "Ca",
          "Ca",
          "Ca",
          "Ca",
          "Ca",
          "Ca",
          "Ca",
          "Ca",
          "Ca",
          "Ca",
          "Ca",
          "Ca",
          "Ca",
          "Ca",
          "Ca",
          "Ca",
          "Ca",
          "Ca",
          "Ca",
          "Ca",
          "Ca",
          "Ca",
          "Ca",
          "Al",
          "Al",
          "Al",
          "Al",
          "Al",
          "Al",
          "Al",
          "Al",
          "Al",
          "Al",
          "Al",
          "Al",
          "Al",
          "Al",
          "Al",
          "Al",
          "Al",
          "Al",
          "Al",
          "Al",
          "Al",
          "Al",
          "Al",
          "Al",
          "Al",
          "Al",
          "Al",
          "Al",
          "Al",
          "Al",
          "Al",
          "Al",
          "Al",
          "Al",
          "Al",
          "Al",
          "Al",
          "Al",
          "Al",
          "Al",
          "Al",
          "Al",
          "Al",
          "Al",
          "Al",
          "Al",
          "Al",
          "Al",
          "Al",
          "Al",
          "Mg",
          "Mg",
          "Mg",
          "Mg",
          "Mg",
          "Mg",
          "Mg",
          "Mg",
          "Mg",
          "Mg",
          "Mg",
          "Mg",
          "Mg",
          "Mg",
          "Mg",
          "Mg",
          "Mg",
          "Mg",
          "Mg",
          "Mg",
          "Mg",
          "Mg",
          "Mg",
          "Mg",
          "Mg",
          "Mg",
          "Mg",
          "Mg",
          "Mg",
          "Mg",
          "Mg",
          "Mg",
          "Mg",
          "Mg",
          "Mg",
          "Mg",
          "Mg",
          "Mg",
          "Mg",
          "Mg",
          "Mg",
          "Mg",
          "Mg",
          "Mg",
          "Mg",
          "Mg",
          "Mg",
          "Mg",
          "Mg",
          "Mg"
         ],
         "yaxis": "y"
        }
       ],
       "layout": {
        "coloraxis": {
         "colorbar": {
          "title": {
           "text": "quantile"
          }
         },
         "colorscale": [
          [
           0,
           "royalblue"
          ],
          [
           1,
           "red"
          ]
         ]
        },
        "legend": {
         "tracegroupgap": 0
        },
        "shapes": [
         {
          "line": {
           "color": "black",
           "dash": "dash",
           "width": 2
          },
          "type": "line",
          "x0": 0,
          "x1": 0,
          "y0": "Ba",
          "y1": "Mg"
         }
        ],
        "template": {
         "data": {
          "bar": [
           {
            "error_x": {
             "color": "#2a3f5f"
            },
            "error_y": {
             "color": "#2a3f5f"
            },
            "marker": {
             "line": {
              "color": "#E5ECF6",
              "width": 0.5
             },
             "pattern": {
              "fillmode": "overlay",
              "size": 10,
              "solidity": 0.2
             }
            },
            "type": "bar"
           }
          ],
          "barpolar": [
           {
            "marker": {
             "line": {
              "color": "#E5ECF6",
              "width": 0.5
             },
             "pattern": {
              "fillmode": "overlay",
              "size": 10,
              "solidity": 0.2
             }
            },
            "type": "barpolar"
           }
          ],
          "carpet": [
           {
            "aaxis": {
             "endlinecolor": "#2a3f5f",
             "gridcolor": "white",
             "linecolor": "white",
             "minorgridcolor": "white",
             "startlinecolor": "#2a3f5f"
            },
            "baxis": {
             "endlinecolor": "#2a3f5f",
             "gridcolor": "white",
             "linecolor": "white",
             "minorgridcolor": "white",
             "startlinecolor": "#2a3f5f"
            },
            "type": "carpet"
           }
          ],
          "choropleth": [
           {
            "colorbar": {
             "outlinewidth": 0,
             "ticks": ""
            },
            "type": "choropleth"
           }
          ],
          "contour": [
           {
            "colorbar": {
             "outlinewidth": 0,
             "ticks": ""
            },
            "colorscale": [
             [
              0,
              "#0d0887"
             ],
             [
              0.1111111111111111,
              "#46039f"
             ],
             [
              0.2222222222222222,
              "#7201a8"
             ],
             [
              0.3333333333333333,
              "#9c179e"
             ],
             [
              0.4444444444444444,
              "#bd3786"
             ],
             [
              0.5555555555555556,
              "#d8576b"
             ],
             [
              0.6666666666666666,
              "#ed7953"
             ],
             [
              0.7777777777777778,
              "#fb9f3a"
             ],
             [
              0.8888888888888888,
              "#fdca26"
             ],
             [
              1,
              "#f0f921"
             ]
            ],
            "type": "contour"
           }
          ],
          "contourcarpet": [
           {
            "colorbar": {
             "outlinewidth": 0,
             "ticks": ""
            },
            "type": "contourcarpet"
           }
          ],
          "heatmap": [
           {
            "colorbar": {
             "outlinewidth": 0,
             "ticks": ""
            },
            "colorscale": [
             [
              0,
              "#0d0887"
             ],
             [
              0.1111111111111111,
              "#46039f"
             ],
             [
              0.2222222222222222,
              "#7201a8"
             ],
             [
              0.3333333333333333,
              "#9c179e"
             ],
             [
              0.4444444444444444,
              "#bd3786"
             ],
             [
              0.5555555555555556,
              "#d8576b"
             ],
             [
              0.6666666666666666,
              "#ed7953"
             ],
             [
              0.7777777777777778,
              "#fb9f3a"
             ],
             [
              0.8888888888888888,
              "#fdca26"
             ],
             [
              1,
              "#f0f921"
             ]
            ],
            "type": "heatmap"
           }
          ],
          "heatmapgl": [
           {
            "colorbar": {
             "outlinewidth": 0,
             "ticks": ""
            },
            "colorscale": [
             [
              0,
              "#0d0887"
             ],
             [
              0.1111111111111111,
              "#46039f"
             ],
             [
              0.2222222222222222,
              "#7201a8"
             ],
             [
              0.3333333333333333,
              "#9c179e"
             ],
             [
              0.4444444444444444,
              "#bd3786"
             ],
             [
              0.5555555555555556,
              "#d8576b"
             ],
             [
              0.6666666666666666,
              "#ed7953"
             ],
             [
              0.7777777777777778,
              "#fb9f3a"
             ],
             [
              0.8888888888888888,
              "#fdca26"
             ],
             [
              1,
              "#f0f921"
             ]
            ],
            "type": "heatmapgl"
           }
          ],
          "histogram": [
           {
            "marker": {
             "pattern": {
              "fillmode": "overlay",
              "size": 10,
              "solidity": 0.2
             }
            },
            "type": "histogram"
           }
          ],
          "histogram2d": [
           {
            "colorbar": {
             "outlinewidth": 0,
             "ticks": ""
            },
            "colorscale": [
             [
              0,
              "#0d0887"
             ],
             [
              0.1111111111111111,
              "#46039f"
             ],
             [
              0.2222222222222222,
              "#7201a8"
             ],
             [
              0.3333333333333333,
              "#9c179e"
             ],
             [
              0.4444444444444444,
              "#bd3786"
             ],
             [
              0.5555555555555556,
              "#d8576b"
             ],
             [
              0.6666666666666666,
              "#ed7953"
             ],
             [
              0.7777777777777778,
              "#fb9f3a"
             ],
             [
              0.8888888888888888,
              "#fdca26"
             ],
             [
              1,
              "#f0f921"
             ]
            ],
            "type": "histogram2d"
           }
          ],
          "histogram2dcontour": [
           {
            "colorbar": {
             "outlinewidth": 0,
             "ticks": ""
            },
            "colorscale": [
             [
              0,
              "#0d0887"
             ],
             [
              0.1111111111111111,
              "#46039f"
             ],
             [
              0.2222222222222222,
              "#7201a8"
             ],
             [
              0.3333333333333333,
              "#9c179e"
             ],
             [
              0.4444444444444444,
              "#bd3786"
             ],
             [
              0.5555555555555556,
              "#d8576b"
             ],
             [
              0.6666666666666666,
              "#ed7953"
             ],
             [
              0.7777777777777778,
              "#fb9f3a"
             ],
             [
              0.8888888888888888,
              "#fdca26"
             ],
             [
              1,
              "#f0f921"
             ]
            ],
            "type": "histogram2dcontour"
           }
          ],
          "mesh3d": [
           {
            "colorbar": {
             "outlinewidth": 0,
             "ticks": ""
            },
            "type": "mesh3d"
           }
          ],
          "parcoords": [
           {
            "line": {
             "colorbar": {
              "outlinewidth": 0,
              "ticks": ""
             }
            },
            "type": "parcoords"
           }
          ],
          "pie": [
           {
            "automargin": true,
            "type": "pie"
           }
          ],
          "scatter": [
           {
            "fillpattern": {
             "fillmode": "overlay",
             "size": 10,
             "solidity": 0.2
            },
            "type": "scatter"
           }
          ],
          "scatter3d": [
           {
            "line": {
             "colorbar": {
              "outlinewidth": 0,
              "ticks": ""
             }
            },
            "marker": {
             "colorbar": {
              "outlinewidth": 0,
              "ticks": ""
             }
            },
            "type": "scatter3d"
           }
          ],
          "scattercarpet": [
           {
            "marker": {
             "colorbar": {
              "outlinewidth": 0,
              "ticks": ""
             }
            },
            "type": "scattercarpet"
           }
          ],
          "scattergeo": [
           {
            "marker": {
             "colorbar": {
              "outlinewidth": 0,
              "ticks": ""
             }
            },
            "type": "scattergeo"
           }
          ],
          "scattergl": [
           {
            "marker": {
             "colorbar": {
              "outlinewidth": 0,
              "ticks": ""
             }
            },
            "type": "scattergl"
           }
          ],
          "scattermapbox": [
           {
            "marker": {
             "colorbar": {
              "outlinewidth": 0,
              "ticks": ""
             }
            },
            "type": "scattermapbox"
           }
          ],
          "scatterpolar": [
           {
            "marker": {
             "colorbar": {
              "outlinewidth": 0,
              "ticks": ""
             }
            },
            "type": "scatterpolar"
           }
          ],
          "scatterpolargl": [
           {
            "marker": {
             "colorbar": {
              "outlinewidth": 0,
              "ticks": ""
             }
            },
            "type": "scatterpolargl"
           }
          ],
          "scatterternary": [
           {
            "marker": {
             "colorbar": {
              "outlinewidth": 0,
              "ticks": ""
             }
            },
            "type": "scatterternary"
           }
          ],
          "surface": [
           {
            "colorbar": {
             "outlinewidth": 0,
             "ticks": ""
            },
            "colorscale": [
             [
              0,
              "#0d0887"
             ],
             [
              0.1111111111111111,
              "#46039f"
             ],
             [
              0.2222222222222222,
              "#7201a8"
             ],
             [
              0.3333333333333333,
              "#9c179e"
             ],
             [
              0.4444444444444444,
              "#bd3786"
             ],
             [
              0.5555555555555556,
              "#d8576b"
             ],
             [
              0.6666666666666666,
              "#ed7953"
             ],
             [
              0.7777777777777778,
              "#fb9f3a"
             ],
             [
              0.8888888888888888,
              "#fdca26"
             ],
             [
              1,
              "#f0f921"
             ]
            ],
            "type": "surface"
           }
          ],
          "table": [
           {
            "cells": {
             "fill": {
              "color": "#EBF0F8"
             },
             "line": {
              "color": "white"
             }
            },
            "header": {
             "fill": {
              "color": "#C8D4E3"
             },
             "line": {
              "color": "white"
             }
            },
            "type": "table"
           }
          ]
         },
         "layout": {
          "annotationdefaults": {
           "arrowcolor": "#2a3f5f",
           "arrowhead": 0,
           "arrowwidth": 1
          },
          "autotypenumbers": "strict",
          "coloraxis": {
           "colorbar": {
            "outlinewidth": 0,
            "ticks": ""
           }
          },
          "colorscale": {
           "diverging": [
            [
             0,
             "#8e0152"
            ],
            [
             0.1,
             "#c51b7d"
            ],
            [
             0.2,
             "#de77ae"
            ],
            [
             0.3,
             "#f1b6da"
            ],
            [
             0.4,
             "#fde0ef"
            ],
            [
             0.5,
             "#f7f7f7"
            ],
            [
             0.6,
             "#e6f5d0"
            ],
            [
             0.7,
             "#b8e186"
            ],
            [
             0.8,
             "#7fbc41"
            ],
            [
             0.9,
             "#4d9221"
            ],
            [
             1,
             "#276419"
            ]
           ],
           "sequential": [
            [
             0,
             "#0d0887"
            ],
            [
             0.1111111111111111,
             "#46039f"
            ],
            [
             0.2222222222222222,
             "#7201a8"
            ],
            [
             0.3333333333333333,
             "#9c179e"
            ],
            [
             0.4444444444444444,
             "#bd3786"
            ],
            [
             0.5555555555555556,
             "#d8576b"
            ],
            [
             0.6666666666666666,
             "#ed7953"
            ],
            [
             0.7777777777777778,
             "#fb9f3a"
            ],
            [
             0.8888888888888888,
             "#fdca26"
            ],
            [
             1,
             "#f0f921"
            ]
           ],
           "sequentialminus": [
            [
             0,
             "#0d0887"
            ],
            [
             0.1111111111111111,
             "#46039f"
            ],
            [
             0.2222222222222222,
             "#7201a8"
            ],
            [
             0.3333333333333333,
             "#9c179e"
            ],
            [
             0.4444444444444444,
             "#bd3786"
            ],
            [
             0.5555555555555556,
             "#d8576b"
            ],
            [
             0.6666666666666666,
             "#ed7953"
            ],
            [
             0.7777777777777778,
             "#fb9f3a"
            ],
            [
             0.8888888888888888,
             "#fdca26"
            ],
            [
             1,
             "#f0f921"
            ]
           ]
          },
          "colorway": [
           "#636efa",
           "#EF553B",
           "#00cc96",
           "#ab63fa",
           "#FFA15A",
           "#19d3f3",
           "#FF6692",
           "#B6E880",
           "#FF97FF",
           "#FECB52"
          ],
          "font": {
           "color": "#2a3f5f"
          },
          "geo": {
           "bgcolor": "white",
           "lakecolor": "white",
           "landcolor": "#E5ECF6",
           "showlakes": true,
           "showland": true,
           "subunitcolor": "white"
          },
          "hoverlabel": {
           "align": "left"
          },
          "hovermode": "closest",
          "mapbox": {
           "style": "light"
          },
          "paper_bgcolor": "white",
          "plot_bgcolor": "#E5ECF6",
          "polar": {
           "angularaxis": {
            "gridcolor": "white",
            "linecolor": "white",
            "ticks": ""
           },
           "bgcolor": "#E5ECF6",
           "radialaxis": {
            "gridcolor": "white",
            "linecolor": "white",
            "ticks": ""
           }
          },
          "scene": {
           "xaxis": {
            "backgroundcolor": "#E5ECF6",
            "gridcolor": "white",
            "gridwidth": 2,
            "linecolor": "white",
            "showbackground": true,
            "ticks": "",
            "zerolinecolor": "white"
           },
           "yaxis": {
            "backgroundcolor": "#E5ECF6",
            "gridcolor": "white",
            "gridwidth": 2,
            "linecolor": "white",
            "showbackground": true,
            "ticks": "",
            "zerolinecolor": "white"
           },
           "zaxis": {
            "backgroundcolor": "#E5ECF6",
            "gridcolor": "white",
            "gridwidth": 2,
            "linecolor": "white",
            "showbackground": true,
            "ticks": "",
            "zerolinecolor": "white"
           }
          },
          "shapedefaults": {
           "line": {
            "color": "#2a3f5f"
           }
          },
          "ternary": {
           "aaxis": {
            "gridcolor": "white",
            "linecolor": "white",
            "ticks": ""
           },
           "baxis": {
            "gridcolor": "white",
            "linecolor": "white",
            "ticks": ""
           },
           "bgcolor": "#E5ECF6",
           "caxis": {
            "gridcolor": "white",
            "linecolor": "white",
            "ticks": ""
           }
          },
          "title": {
           "x": 0.05
          },
          "xaxis": {
           "automargin": true,
           "gridcolor": "white",
           "linecolor": "white",
           "ticks": "",
           "title": {
            "standoff": 15
           },
           "zerolinecolor": "white",
           "zerolinewidth": 2
          },
          "yaxis": {
           "automargin": true,
           "gridcolor": "white",
           "linecolor": "white",
           "ticks": "",
           "title": {
            "standoff": 15
           },
           "zerolinecolor": "white",
           "zerolinewidth": 2
          }
         }
        },
        "title": {
         "text": "AcME Global Importance : classification. Label_class : 1",
         "x": 0.5,
         "xanchor": "center",
         "y": 0.9,
         "yanchor": "top"
        },
        "xaxis": {
         "anchor": "y",
         "domain": [
          0,
          1
         ],
         "title": {
          "text": "standardized effect"
         }
        },
        "yaxis": {
         "anchor": "x",
         "domain": [
          0,
          1
         ],
         "title": {
          "text": "Feature"
         }
        }
       }
      },
      "text/html": [
       "<div>                            <div id=\"63f0a8f5-1f57-4b77-b81f-fd0a66c8de97\" class=\"plotly-graph-div\" style=\"height:525px; width:100%;\"></div>            <script type=\"text/javascript\">                require([\"plotly\"], function(Plotly) {                    window.PLOTLYENV=window.PLOTLYENV || {};                                    if (document.getElementById(\"63f0a8f5-1f57-4b77-b81f-fd0a66c8de97\")) {                    Plotly.newPlot(                        \"63f0a8f5-1f57-4b77-b81f-fd0a66c8de97\",                        [{\"customdata\":[[0.0],[0.0],[0.0],[0.0],[0.0],[0.0],[0.0],[0.0],[0.0],[0.0],[0.0],[0.0],[0.0],[0.0],[0.0],[0.0],[0.0],[0.0],[0.0],[0.0],[0.0],[0.0],[0.0],[0.0],[0.0],[0.0],[0.0],[0.0],[0.0],[0.0],[0.0],[0.0],[0.0],[0.0],[0.0],[0.0],[0.0],[0.0],[0.0],[0.0],[0.0],[0.09775510204081626],[0.21428571428571244],[0.5408163265306121],[0.64],[0.7385714285714274],[1.3834693877551012],[1.59],[1.676734693877551],[3.15],[0.0],[0.0],[0.0],[0.0],[0.0],[0.0],[0.0],[0.022857142857142847],[0.056122448979591795],[0.07938775510204081],[0.09],[0.11],[0.12],[0.1424489795918367],[0.17571428571428568],[0.22591836734693857],[0.3222448979591836],[0.37551020408163266],[0.39],[0.47204081632653055],[0.51],[0.52],[0.54],[0.5451020408163265],[0.55],[0.56],[0.56],[0.5681632653061223],[0.57],[0.57],[0.58],[0.58],[0.5844897959183671],[0.59],[0.6],[0.6],[0.6],[0.61],[0.6140816326530611],[0.62],[0.64],[0.64],[0.65],[0.67],[0.68],[0.69],[0.720204081632653],[0.8655102040816292],[1.60816326530612],[6.21],[0.0],[0.0],[0.0],[0.0],[0.0],[0.0],[0.0],[0.0],[0.0],[0.0],[0.0],[0.0],[0.0],[0.0],[0.0],[0.0],[0.0],[0.0],[0.0],[0.0],[0.0],[0.0],[0.0],[0.0],[0.0],[0.0],[0.0],[0.0],[0.0],[0.0],[0.0],[0.0],[0.0],[0.007755102040816269],[0.07],[0.08428571428571416],[0.09],[0.1],[0.11],[0.12],[0.15],[0.16387755102040813],[0.17],[0.19],[0.22],[0.24],[0.240204081632653],[0.28],[0.31673469387755093],[0.51],[1.51115],[1.5131763265306122],[1.51514],[1.515667755102041],[1.5158830612244898],[1.5159126530612244],[1.5159591836734694],[1.5160928571428571],[1.5161544897959183],[1.51623],[1.5163338775510204],[1.51645],[1.516505918367347],[1.5165573469387756],[1.5166414285714285],[1.51672693877551],[1.5168544897959184],[1.5170116326530612],[1.51711],[1.5172761224489795],[1.517391836734694],[1.5174785714285715],[1.51754],[1.5175855102040816],[1.517638367346939],[1.51769],[1.5177848979591837],[1.51784],[1.5179342857142857],[1.5180693877551021],[1.5181697959183673],[1.5182924489795917],[1.5183844897959184],[1.5184555102040815],[1.5185281632653063],[1.518897142857143],[1.51905],[1.5191616326530613],[1.5194883673469388],[1.5198948979591838],[1.520651836734694],[1.5211977551020408],[1.52152],[1.5217220408163266],[1.5221036734693878],[1.52222693877551],[1.5231510204081633],[1.5243255102040816],[1.527060612244898],[1.53393],[10.73],[11.485918367346938],[12.26530612244898],[12.559795918367348],[12.64],[12.686326530612245],[12.729591836734695],[12.782857142857143],[12.806122448979592],[12.838775510204082],[12.852653061224489],[12.865918367346938],[12.889183673469388],[12.932448979591836],[12.985714285714286],[13.0],[13.02],[13.031020408163265],[13.088775510204082],[13.124081632653061],[13.19],[13.20857142857143],[13.213673469387755],[13.24],[13.27],[13.31326530612245],[13.334897959183673],[13.38],[13.41],[13.43469387755102],[13.475918367346939],[13.501224489795918],[13.554489795918368],[13.64],[13.691020408163265],[13.72],[13.787551020408163],[13.870816326530612],[13.908163265306122],[14.007346938775509],[14.14],[14.193877551020407],[14.244285714285715],[14.360408163265305],[14.393673469387755],[14.56],[14.801020408163266],[14.88081632653061],[14.976938775510204],[17.38],[69.81],[70.44632653061225],[71.20877551020408],[71.36],[71.7530612244898],[71.7826530612245],[71.86755102040817],[71.96857142857142],[72.01612244897959],[72.07877551020408],[72.18],[72.21183673469388],[72.27836734693878],[72.33244897959183],[72.38],[72.43591836734694],[72.50224489795919],[72.54551020408164],[72.61],[72.65],[72.67],[72.71714285714286],[72.73183673469389],[72.75],[72.77836734693878],[72.81326530612245],[72.84489795918367],[72.86],[72.87],[72.90408163265306],[72.95795918367347],[72.97],[72.99],[73.0],[73.02],[73.04428571428572],[73.07755102040817],[73.1],[73.11],[73.13469387755102],[73.20061224489797],[73.23],[73.25714285714287],[73.28],[73.29367346938776],[73.39],[73.4604081632653],[73.64122448979592],[73.85714285714285],[75.41],[5.43],[6.741428571428571],[7.5102040816326525],[7.859387755102041],[7.912244897959184],[7.97],[8.03],[8.042857142857143],[8.076122448979591],[8.1],[8.127959183673468],[8.21],[8.229183673469388],[8.272448979591836],[8.315714285714286],[8.348979591836734],[8.39],[8.405510204081633],[8.43],[8.44],[8.49530612244898],[8.528571428571428],[8.541836734693877],[8.56],[8.59],[8.61],[8.659795918367347],[8.68],[8.715714285714286],[8.76469387755102],[8.79],[8.83],[8.894489795918368],[8.945510204081632],[9.00204081632653],[9.064285714285715],[9.137551020408164],[9.232448979591837],[9.414081632653062],[9.56204081632653],[9.612448979591836],[9.747755102040816],[9.84142857142857],[10.021632653061223],[10.313265306122439],[11.09408163265306],[11.412244897959184],[11.848163265306109],[13.394285714285713],[16.19],[0.29],[0.5263265306122449],[0.656530612244898],[0.7493877551020408],[0.7991836734693877],[0.87],[0.9],[1.052857142857143],[1.11],[1.12],[1.1526530612244896],[1.1759183673469387],[1.19],[1.1924489795918367],[1.2257142857142858],[1.23],[1.25],[1.2655102040816326],[1.28],[1.29],[1.3],[1.3185714285714285],[1.33],[1.35],[1.36],[1.38],[1.41],[1.43],[1.4528571428571426],[1.48],[1.5059183673469385],[1.5212244897959182],[1.54],[1.54],[1.56],[1.5742857142857143],[1.62],[1.630816326530612],[1.6781632653061223],[1.74],[1.7906122448979591],[1.8238775510204082],[1.877142857142857],[1.99],[2.06734693877551],[2.113877551020408],[2.271428571428571],[2.5204081632653055],[2.7736734693877545],[3.5],[0.0],[0.0],[0.0],[0.0],[0.0],[0.0],[0.0],[0.0],[0.0],[0.0],[0.8410204081632645],[1.7277551020408162],[1.8775510204081631],[2.249795918367347],[2.697142857142857],[2.836938775510204],[2.9134693877551014],[3.1910204081632654],[3.33],[3.3520408163265305],[3.3953061224489796],[3.4185714285714286],[3.441836734693877],[3.4651020408163267],[3.48],[3.48],[3.49],[3.5],[3.52],[3.5246938775510204],[3.54],[3.54],[3.554489795918367],[3.5677551020408163],[3.58],[3.58],[3.59],[3.6008163265306123],[3.614081632653061],[3.62],[3.65],[3.66],[3.677142857142857],[3.720408163265306],[3.743673469387755],[3.776938775510204],[3.820204081632653],[3.853469387755102],[3.9],[3.98]],\"hovertemplate\":\"standardized effect=%{x}<br>Feature=%{y}<br>original=%{customdata[0]}<br>quantile=%{marker.color}<extra></extra>\",\"legendgroup\":\"\",\"marker\":{\"color\":[0.0,0.4693877551020408,0.5102040816326531,0.5306122448979591,0.5510204081632653,0.5714285714285714,0.5918367346938775,0.6122448979591836,0.6326530612244897,0.6530612244897959,0.673469387755102,0.6938775510204082,0.7142857142857142,0.7346938775510203,0.7551020408163265,0.7755102040816326,0.7959183673469387,0.8163265306122448,0.44897959183673464,0.42857142857142855,0.4897959183673469,0.3877551020408163,0.02040816326530612,0.04081632653061224,0.061224489795918366,0.08163265306122448,0.1020408163265306,0.4081632653061224,0.14285714285714285,0.16326530612244897,0.18367346938775508,0.12244897959183673,0.22448979591836732,0.2040816326530612,0.3469387755102041,0.32653061224489793,0.36734693877551017,0.2857142857142857,0.26530612244897955,0.24489795918367346,0.3061224489795918,0.836734693877551,0.8571428571428571,0.8775510204081632,0.8979591836734693,0.9183673469387754,0.9387755102040816,0.9591836734693877,0.9795918367346939,1.0,0.0,0.02040816326530612,0.04081632653061224,0.061224489795918366,0.08163265306122448,0.1020408163265306,0.12244897959183673,0.14285714285714285,0.16326530612244897,0.18367346938775508,0.2040816326530612,0.22448979591836732,0.24489795918367346,0.26530612244897955,0.2857142857142857,0.3061224489795918,0.32653061224489793,0.3469387755102041,0.36734693877551017,0.3877551020408163,0.4081632653061224,0.42857142857142855,0.44897959183673464,0.4693877551020408,0.4897959183673469,0.5102040816326531,0.5306122448979591,0.5510204081632653,0.5714285714285714,0.5918367346938775,0.6122448979591836,0.6326530612244897,0.6530612244897959,0.673469387755102,0.6938775510204082,0.7142857142857142,0.7346938775510203,0.7551020408163265,0.7755102040816326,0.7959183673469387,0.8163265306122448,0.836734693877551,0.8571428571428571,0.8775510204081632,0.8979591836734693,0.9183673469387754,0.9387755102040816,0.9591836734693877,0.9795918367346939,1.0,0.0,0.6530612244897959,0.6326530612244897,0.6122448979591836,0.5918367346938775,0.5714285714285714,0.5510204081632653,0.5306122448979591,0.5102040816326531,0.4693877551020408,0.44897959183673464,0.42857142857142855,0.4081632653061224,0.3877551020408163,0.36734693877551017,0.3469387755102041,0.4897959183673469,0.3061224489795918,0.2857142857142857,0.26530612244897955,0.24489795918367346,0.22448979591836732,0.2040816326530612,0.18367346938775508,0.32653061224489793,0.16326530612244897,0.14285714285714285,0.12244897959183673,0.1020408163265306,0.08163265306122448,0.061224489795918366,0.04081632653061224,0.02040816326530612,0.673469387755102,0.6938775510204082,0.7142857142857142,0.7346938775510203,0.7551020408163265,0.7755102040816326,0.7959183673469387,0.8163265306122448,0.836734693877551,0.8571428571428571,0.8775510204081632,0.8979591836734693,0.9183673469387754,0.9387755102040816,0.9591836734693877,0.9795918367346939,1.0,0.0,0.02040816326530612,0.04081632653061224,0.061224489795918366,0.08163265306122448,0.1020408163265306,0.12244897959183673,0.14285714285714285,0.16326530612244897,0.18367346938775508,0.2040816326530612,0.22448979591836732,0.24489795918367346,0.26530612244897955,0.2857142857142857,0.3061224489795918,0.32653061224489793,0.3469387755102041,0.36734693877551017,0.3877551020408163,0.4081632653061224,0.42857142857142855,0.44897959183673464,0.4693877551020408,0.4897959183673469,0.5102040816326531,0.5306122448979591,0.5510204081632653,0.5714285714285714,0.5918367346938775,0.6122448979591836,0.6326530612244897,0.6530612244897959,0.673469387755102,0.6938775510204082,0.7142857142857142,0.7346938775510203,0.7551020408163265,0.7755102040816326,0.7959183673469387,0.8163265306122448,0.836734693877551,0.8571428571428571,0.8775510204081632,0.8979591836734693,0.9183673469387754,0.9387755102040816,0.9591836734693877,0.9795918367346939,1.0,0.0,0.02040816326530612,0.04081632653061224,0.061224489795918366,0.08163265306122448,0.1020408163265306,0.12244897959183673,0.14285714285714285,0.16326530612244897,0.18367346938775508,0.2040816326530612,0.22448979591836732,0.24489795918367346,0.26530612244897955,0.2857142857142857,0.3061224489795918,0.32653061224489793,0.3469387755102041,0.36734693877551017,0.3877551020408163,0.4081632653061224,0.42857142857142855,0.44897959183673464,0.4693877551020408,0.4897959183673469,0.5102040816326531,0.5306122448979591,0.5510204081632653,0.5714285714285714,0.5918367346938775,0.6122448979591836,0.6326530612244897,0.6530612244897959,0.673469387755102,0.6938775510204082,0.7142857142857142,0.7346938775510203,0.7551020408163265,0.7755102040816326,0.7959183673469387,0.8163265306122448,0.836734693877551,0.8571428571428571,0.8775510204081632,0.8979591836734693,0.9183673469387754,0.9387755102040816,0.9591836734693877,0.9795918367346939,1.0,0.0,0.02040816326530612,0.04081632653061224,0.061224489795918366,0.08163265306122448,0.1020408163265306,0.12244897959183673,0.14285714285714285,0.16326530612244897,0.18367346938775508,0.2040816326530612,0.22448979591836732,0.24489795918367346,0.26530612244897955,0.2857142857142857,0.3061224489795918,0.32653061224489793,0.3469387755102041,0.36734693877551017,0.3877551020408163,0.4081632653061224,0.42857142857142855,0.44897959183673464,0.4693877551020408,0.4897959183673469,0.5102040816326531,0.5306122448979591,0.5510204081632653,0.5714285714285714,0.5918367346938775,0.6122448979591836,0.6326530612244897,0.6530612244897959,0.673469387755102,0.6938775510204082,0.7142857142857142,0.7346938775510203,0.7551020408163265,0.7755102040816326,0.7959183673469387,0.8163265306122448,0.836734693877551,0.8571428571428571,0.8775510204081632,0.8979591836734693,0.9183673469387754,0.9387755102040816,0.9591836734693877,0.9795918367346939,1.0,0.0,0.02040816326530612,0.04081632653061224,0.061224489795918366,0.08163265306122448,0.1020408163265306,0.12244897959183673,0.14285714285714285,0.16326530612244897,0.18367346938775508,0.2040816326530612,0.22448979591836732,0.24489795918367346,0.26530612244897955,0.2857142857142857,0.3061224489795918,0.32653061224489793,0.3469387755102041,0.36734693877551017,0.3877551020408163,0.4081632653061224,0.42857142857142855,0.44897959183673464,0.4693877551020408,0.4897959183673469,0.5102040816326531,0.5306122448979591,0.5510204081632653,0.5714285714285714,0.5918367346938775,0.6122448979591836,0.6326530612244897,0.6530612244897959,0.673469387755102,0.6938775510204082,0.7142857142857142,0.7346938775510203,0.7551020408163265,0.7755102040816326,0.7959183673469387,0.8163265306122448,0.836734693877551,0.8571428571428571,0.8775510204081632,0.8979591836734693,0.9183673469387754,0.9387755102040816,0.9591836734693877,0.9795918367346939,1.0,0.0,0.02040816326530612,0.04081632653061224,0.061224489795918366,0.08163265306122448,0.1020408163265306,0.12244897959183673,0.14285714285714285,0.16326530612244897,0.18367346938775508,0.2040816326530612,0.22448979591836732,0.24489795918367346,0.26530612244897955,0.2857142857142857,0.3061224489795918,0.32653061224489793,0.3469387755102041,0.36734693877551017,0.3877551020408163,0.4081632653061224,0.42857142857142855,0.44897959183673464,0.4693877551020408,0.4897959183673469,0.5102040816326531,0.5306122448979591,0.5510204081632653,0.5714285714285714,0.5918367346938775,0.6122448979591836,0.6326530612244897,0.6530612244897959,0.673469387755102,0.6938775510204082,0.7142857142857142,0.7346938775510203,0.7551020408163265,0.7755102040816326,0.7959183673469387,0.8163265306122448,0.836734693877551,0.8571428571428571,0.8775510204081632,0.8979591836734693,0.9183673469387754,0.9387755102040816,0.9591836734693877,0.9795918367346939,1.0,0.0,0.02040816326530612,0.04081632653061224,0.061224489795918366,0.08163265306122448,0.1020408163265306,0.12244897959183673,0.14285714285714285,0.16326530612244897,0.18367346938775508,0.2040816326530612,0.22448979591836732,0.24489795918367346,0.26530612244897955,0.2857142857142857,0.3061224489795918,0.32653061224489793,0.3469387755102041,0.36734693877551017,0.3877551020408163,0.4081632653061224,0.42857142857142855,0.44897959183673464,0.4693877551020408,0.5102040816326531,0.4897959183673469,0.5306122448979591,0.5510204081632653,0.5714285714285714,0.5918367346938775,0.6122448979591836,0.6326530612244897,0.6530612244897959,0.673469387755102,0.6938775510204082,0.7142857142857142,0.7346938775510203,0.7551020408163265,0.7755102040816326,0.7959183673469387,0.8163265306122448,0.836734693877551,0.8571428571428571,0.8775510204081632,0.8979591836734693,0.9183673469387754,0.9387755102040816,0.9591836734693877,0.9795918367346939,1.0],\"coloraxis\":\"coloraxis\",\"symbol\":\"circle\"},\"mode\":\"markers\",\"name\":\"\",\"orientation\":\"h\",\"showlegend\":false,\"x\":[0.042879942248804294,0.042879942248804294,0.042879942248804294,0.042879942248804294,0.042879942248804294,0.042879942248804294,0.042879942248804294,0.042879942248804294,0.042879942248804294,0.042879942248804294,0.042879942248804294,0.042879942248804294,0.042879942248804294,0.042879942248804294,0.042879942248804294,0.042879942248804294,0.042879942248804294,0.042879942248804294,0.042879942248804294,0.042879942248804294,0.042879942248804294,0.042879942248804294,0.042879942248804294,0.042879942248804294,0.042879942248804294,0.042879942248804294,0.042879942248804294,0.042879942248804294,0.042879942248804294,0.042879942248804294,0.042879942248804294,0.042879942248804294,0.042879942248804294,0.042879942248804294,0.042879942248804294,0.042879942248804294,0.042879942248804294,0.042879942248804294,0.042879942248804294,0.042879942248804294,0.042879942248804294,-0.08753262787240168,-0.15032371708912598,-0.19278944988435046,-0.22414800483859929,-0.22409374632234524,-0.2199557178158657,-0.2199557178158657,-0.22026739549819416,-0.2190112550642281,-0.12460259324955894,-0.12460259324955894,-0.12460259324955894,-0.12460259324955894,-0.12460259324955894,-0.12460259324955894,-0.12460259324955894,-0.10743333706226102,-0.07145203951838419,-0.044203577819065955,-0.027332746809688998,-0.02758157952210609,-0.02758157952210609,-0.008308080250017745,0.014523422865325628,0.03487263121513809,0.09666902612839265,0.11659575283189802,0.11069582154945738,0.1034605187719977,0.12222913616140473,0.1231622210366193,0.21625506829452026,0.1846067139703865,0.1846067139703865,0.16735224624596415,0.16735224624596415,0.13996110547885296,0.13996110547885296,0.13996110547885296,0.13339419418438242,0.13339419418438242,0.13339419418438242,0.10722747624198399,-0.013120511142811634,-0.013120511142811634,-0.013120511142811634,-0.02432435790246573,-0.02432435790246573,-0.07193267986247705,-0.08265888162335201,-0.08265888162335201,-0.08315722466294119,-0.1073344365682255,-0.14375384937855745,-0.1385070734911818,-0.14997974276745507,-0.1368555488915915,-0.15395851705908536,-0.1447567161070166,0.07057772846379028,0.07057772846379028,0.07057772846379028,0.07057772846379028,0.07057772846379028,0.07057772846379028,0.07057772846379028,0.07057772846379028,0.07057772846379028,0.07057772846379028,0.07057772846379028,0.07057772846379028,0.07057772846379028,0.07057772846379028,0.07057772846379028,0.07057772846379028,0.07057772846379028,0.07057772846379028,0.07057772846379028,0.07057772846379028,0.07057772846379028,0.07057772846379028,0.07057772846379028,0.07057772846379028,0.07057772846379028,0.07057772846379028,0.07057772846379028,0.07057772846379028,0.07057772846379028,0.07057772846379028,0.07057772846379028,0.07057772846379028,0.07057772846379028,0.10324415689383104,0.12382493964018373,0.1170877263691671,0.1170877263691671,0.08174784126462735,0.0763258191013153,-0.15174402790528205,-0.1952407332558338,-0.20933460777118001,-0.2401694047549116,-0.2534975641555019,-0.2926452251562821,-0.33687393146831157,-0.33687393146831157,-0.3449775131833043,-0.33368721657406225,-0.2533390932503893,-0.051350805401391204,-0.07108410765186622,-0.06827737902200773,-0.06392532910506783,-0.14890616142089141,-0.1822048912390974,-0.18521595425307696,-0.2135261973529774,-0.21250868714146393,-0.21187947088262576,-0.2128027433586254,-0.21307209219115084,-0.20921034641088654,-0.21119740048875207,-0.2057053118304841,-0.19487107637973825,-0.19488032932180208,-0.18834281725042348,-0.17857556306689165,-0.1482393611728806,0.09859964608735955,0.12394712700010119,0.13942592799681544,0.16604201807031926,0.18264277952270516,0.20837082472609444,0.2086696047927537,0.2015851353135945,0.17820215250475388,0.22907484152362975,0.2287502590742475,0.21827511309413244,0.223217321464635,0.24566025411753137,0.25118754620737027,0.23981569231145183,0.22436307385776116,0.22273152194984114,0.21274033971131004,0.1343350037616179,0.11849505839851154,0.10553934718102144,0.07046996243090634,0.007216376070366104,-0.08532926459229062,-0.10900840069768387,-0.17614473444064635,-0.17183572021117943,-0.16709251932405073,-0.16417026296087883,-0.08924588509376306,-0.08924588509376306,-0.09840180958740297,-0.01871306517825259,0.006265472459811274,0.00790267007063861,0.00790267007063861,0.01310651706360669,0.016998431686820595,0.07296981431650788,0.07296981431650788,0.07467220251156849,0.06559082150759037,-0.03226320808814723,0.023986553530037934,0.07909374517985567,0.1705176974031459,0.3168928704009187,0.3824317069982521,0.41904095392474366,0.4361768514616434,0.37120288460568357,0.37120288460568357,0.3421685884313286,0.31557300581128045,0.19462339432493905,0.12148808218148437,0.08908181355351436,0.08847425832167402,0.07631003059619135,0.0516235986893801,0.06534670510423322,0.005601343655409294,-0.05529873062273703,-0.05982643178447696,-0.047041976737813684,-0.05390065527641362,-0.043151310813472454,-0.09298867413232817,-0.161703267325414,-0.2205500443544759,-0.2840627362060778,-0.3535439779520818,-0.3579506520069824,-0.3665699754884336,-0.3672187181251997,-0.3672187181251997,-0.3672187181251997,-0.3672187181251997,-0.36588222454025454,-0.27161278827400787,-0.2750279441407045,-0.28090239601467265,-0.2781233252966292,-0.2781233252966292,-0.27696862723059457,-0.2557275856565561,-0.2569856014012721,-0.2605658668904164,-0.2616825790154509,-0.28725762557979345,-0.26682819822180237,-0.2616735617530462,-0.2302644162846569,-0.19841579853552913,-0.18621717215330494,-0.18727214075565177,-0.1718535905929283,-0.1325500735625387,-0.02647883369816897,-0.03264854030629608,0.12284528902339051,0.2054727827125719,0.1996940826069939,0.20242879647043813,0.20287931080800634,0.19925874246035044,0.1713703130128276,0.1701674257237546,0.09892623842117858,0.16056512030157113,0.16423694684467466,0.18719304782902035,0.18750891069039663,0.18659093044951447,0.18557427879347144,0.18444776034803861,0.1860488375912855,0.1860488375912855,0.1860488375912855,0.17212380842883238,0.1644680790507557,0.13890267252870625,0.13890267252870625,0.13890267252870625,0.13890267252870625,0.15596624895664277,0.10690308737731843,0.07298427504169061,0.06181731242052928,0.47383464181141915,0.47350869400049933,0.47350869400049933,0.0943605555800858,0.05113860304584899,0.08264721469380365,0.07886165805415224,0.0778870361305773,0.07973092658918085,0.07973092658918085,0.06986754173089345,0.11007988443929398,0.09460254200042369,0.12626069181569768,0.1543603461959795,0.19985268030189832,0.18278688271356364,0.1873214103221462,0.22805264738849468,0.22513939673476094,0.1893126914110742,0.18743725479297413,0.183419956726456,0.16896184170994272,0.12004196922182367,0.10032315604766646,0.016022425734643853,0.016022425734643853,-0.006194011709567561,-0.0009085891043578642,-0.019222279611689735,-0.03685134435119965,-0.033362229021846705,0.015902560573454686,0.10459332625178794,0.08622696789814348,0.06474837913506881,-0.007839323498532395,-0.047228565782736785,-0.17640446203489626,-0.18461885868804542,-0.2614214016006438,-0.3065992749308595,-0.33073007035692875,-0.4132572399935117,-0.4662854004428049,-0.6065214301668763,-0.6272608134383058,-0.6359203173216382,-0.6359203173216382,-0.11183668195912275,-0.1405421282863361,0.017791023812074324,0.020332523929022652,0.10859416963514919,0.15936718370244052,0.15936718370244052,0.17251607133236002,0.2516953344478935,0.511902818921259,0.5142674297233302,0.7374567171801494,0.7546453094299002,0.7546453094299002,0.6449860164104801,0.6449860164104801,0.6554257208853836,0.7152278083502984,0.7025029382587653,0.6417955274819777,0.6142513870181145,0.5461975913497356,0.5279335299486466,0.49858088545956203,0.46315489474551996,0.36994144073694113,0.05717856613908016,-0.2797280942172723,-0.33898581361626196,-0.35828105424507484,-0.36589281921042793,-0.36589281921042793,-0.3995295771344362,-0.3995295771344362,-0.48461179635189516,-0.5020400952946413,-0.523634896225549,-0.5247559691956306,-0.520204567580813,-0.521776162436981,-0.5450416628795128,-0.5429733836251638,-0.5340661740071806,-0.5439976273663669,-0.5466318643967409,-0.5375432220658717,-0.5380322604671678,-0.5380322604671678,-0.5380776514547484,-0.5431052396116773,-0.6326814934411787,-0.6326814934411787,-0.6326814934411787,-0.6326814934411787,-0.6326814934411787,-0.6326814934411787,-0.6326814934411787,-0.6326814934411787,-0.6326814934411787,-0.6326814934411787,-0.6150137538447521,-0.5732376813875399,-0.5652808177502692,-0.47251478342090353,-0.4321757190063777,-0.4080428501726502,-0.29372374886923475,-0.2914613308251382,-0.16115993203875156,-0.3365607623316771,-0.25151127638510673,0.2491203447642476,0.37538512607603775,0.601863524073711,0.6927612121754964,0.6927612121754964,0.6577966377467706,0.6802855270568106,0.7376059652179526,0.7376059652179526,0.7633493364717151,0.7633493364717151,0.7713125808910803,0.769389763878453,0.7461654095724262,0.7461654095724262,0.7202616396359004,0.6743174849385348,0.4240006654798034,0.3814103664342707,0.35732974988715754,0.36188569489044564,0.21954681226701925,0.29290301656062356,0.29290301656062356,-0.37401904160015814,-0.5470366804812266,-0.651253055956091,-0.704816424394506,-0.704853005140503],\"xaxis\":\"x\",\"y\":[\"Ba\",\"Ba\",\"Ba\",\"Ba\",\"Ba\",\"Ba\",\"Ba\",\"Ba\",\"Ba\",\"Ba\",\"Ba\",\"Ba\",\"Ba\",\"Ba\",\"Ba\",\"Ba\",\"Ba\",\"Ba\",\"Ba\",\"Ba\",\"Ba\",\"Ba\",\"Ba\",\"Ba\",\"Ba\",\"Ba\",\"Ba\",\"Ba\",\"Ba\",\"Ba\",\"Ba\",\"Ba\",\"Ba\",\"Ba\",\"Ba\",\"Ba\",\"Ba\",\"Ba\",\"Ba\",\"Ba\",\"Ba\",\"Ba\",\"Ba\",\"Ba\",\"Ba\",\"Ba\",\"Ba\",\"Ba\",\"Ba\",\"Ba\",\"K\",\"K\",\"K\",\"K\",\"K\",\"K\",\"K\",\"K\",\"K\",\"K\",\"K\",\"K\",\"K\",\"K\",\"K\",\"K\",\"K\",\"K\",\"K\",\"K\",\"K\",\"K\",\"K\",\"K\",\"K\",\"K\",\"K\",\"K\",\"K\",\"K\",\"K\",\"K\",\"K\",\"K\",\"K\",\"K\",\"K\",\"K\",\"K\",\"K\",\"K\",\"K\",\"K\",\"K\",\"K\",\"K\",\"K\",\"K\",\"K\",\"K\",\"Fe\",\"Fe\",\"Fe\",\"Fe\",\"Fe\",\"Fe\",\"Fe\",\"Fe\",\"Fe\",\"Fe\",\"Fe\",\"Fe\",\"Fe\",\"Fe\",\"Fe\",\"Fe\",\"Fe\",\"Fe\",\"Fe\",\"Fe\",\"Fe\",\"Fe\",\"Fe\",\"Fe\",\"Fe\",\"Fe\",\"Fe\",\"Fe\",\"Fe\",\"Fe\",\"Fe\",\"Fe\",\"Fe\",\"Fe\",\"Fe\",\"Fe\",\"Fe\",\"Fe\",\"Fe\",\"Fe\",\"Fe\",\"Fe\",\"Fe\",\"Fe\",\"Fe\",\"Fe\",\"Fe\",\"Fe\",\"Fe\",\"Fe\",\"RI\",\"RI\",\"RI\",\"RI\",\"RI\",\"RI\",\"RI\",\"RI\",\"RI\",\"RI\",\"RI\",\"RI\",\"RI\",\"RI\",\"RI\",\"RI\",\"RI\",\"RI\",\"RI\",\"RI\",\"RI\",\"RI\",\"RI\",\"RI\",\"RI\",\"RI\",\"RI\",\"RI\",\"RI\",\"RI\",\"RI\",\"RI\",\"RI\",\"RI\",\"RI\",\"RI\",\"RI\",\"RI\",\"RI\",\"RI\",\"RI\",\"RI\",\"RI\",\"RI\",\"RI\",\"RI\",\"RI\",\"RI\",\"RI\",\"RI\",\"Na\",\"Na\",\"Na\",\"Na\",\"Na\",\"Na\",\"Na\",\"Na\",\"Na\",\"Na\",\"Na\",\"Na\",\"Na\",\"Na\",\"Na\",\"Na\",\"Na\",\"Na\",\"Na\",\"Na\",\"Na\",\"Na\",\"Na\",\"Na\",\"Na\",\"Na\",\"Na\",\"Na\",\"Na\",\"Na\",\"Na\",\"Na\",\"Na\",\"Na\",\"Na\",\"Na\",\"Na\",\"Na\",\"Na\",\"Na\",\"Na\",\"Na\",\"Na\",\"Na\",\"Na\",\"Na\",\"Na\",\"Na\",\"Na\",\"Na\",\"Si\",\"Si\",\"Si\",\"Si\",\"Si\",\"Si\",\"Si\",\"Si\",\"Si\",\"Si\",\"Si\",\"Si\",\"Si\",\"Si\",\"Si\",\"Si\",\"Si\",\"Si\",\"Si\",\"Si\",\"Si\",\"Si\",\"Si\",\"Si\",\"Si\",\"Si\",\"Si\",\"Si\",\"Si\",\"Si\",\"Si\",\"Si\",\"Si\",\"Si\",\"Si\",\"Si\",\"Si\",\"Si\",\"Si\",\"Si\",\"Si\",\"Si\",\"Si\",\"Si\",\"Si\",\"Si\",\"Si\",\"Si\",\"Si\",\"Si\",\"Ca\",\"Ca\",\"Ca\",\"Ca\",\"Ca\",\"Ca\",\"Ca\",\"Ca\",\"Ca\",\"Ca\",\"Ca\",\"Ca\",\"Ca\",\"Ca\",\"Ca\",\"Ca\",\"Ca\",\"Ca\",\"Ca\",\"Ca\",\"Ca\",\"Ca\",\"Ca\",\"Ca\",\"Ca\",\"Ca\",\"Ca\",\"Ca\",\"Ca\",\"Ca\",\"Ca\",\"Ca\",\"Ca\",\"Ca\",\"Ca\",\"Ca\",\"Ca\",\"Ca\",\"Ca\",\"Ca\",\"Ca\",\"Ca\",\"Ca\",\"Ca\",\"Ca\",\"Ca\",\"Ca\",\"Ca\",\"Ca\",\"Ca\",\"Al\",\"Al\",\"Al\",\"Al\",\"Al\",\"Al\",\"Al\",\"Al\",\"Al\",\"Al\",\"Al\",\"Al\",\"Al\",\"Al\",\"Al\",\"Al\",\"Al\",\"Al\",\"Al\",\"Al\",\"Al\",\"Al\",\"Al\",\"Al\",\"Al\",\"Al\",\"Al\",\"Al\",\"Al\",\"Al\",\"Al\",\"Al\",\"Al\",\"Al\",\"Al\",\"Al\",\"Al\",\"Al\",\"Al\",\"Al\",\"Al\",\"Al\",\"Al\",\"Al\",\"Al\",\"Al\",\"Al\",\"Al\",\"Al\",\"Al\",\"Mg\",\"Mg\",\"Mg\",\"Mg\",\"Mg\",\"Mg\",\"Mg\",\"Mg\",\"Mg\",\"Mg\",\"Mg\",\"Mg\",\"Mg\",\"Mg\",\"Mg\",\"Mg\",\"Mg\",\"Mg\",\"Mg\",\"Mg\",\"Mg\",\"Mg\",\"Mg\",\"Mg\",\"Mg\",\"Mg\",\"Mg\",\"Mg\",\"Mg\",\"Mg\",\"Mg\",\"Mg\",\"Mg\",\"Mg\",\"Mg\",\"Mg\",\"Mg\",\"Mg\",\"Mg\",\"Mg\",\"Mg\",\"Mg\",\"Mg\",\"Mg\",\"Mg\",\"Mg\",\"Mg\",\"Mg\",\"Mg\",\"Mg\"],\"yaxis\":\"y\",\"type\":\"scatter\"}],                        {\"template\":{\"data\":{\"histogram2dcontour\":[{\"type\":\"histogram2dcontour\",\"colorbar\":{\"outlinewidth\":0,\"ticks\":\"\"},\"colorscale\":[[0.0,\"#0d0887\"],[0.1111111111111111,\"#46039f\"],[0.2222222222222222,\"#7201a8\"],[0.3333333333333333,\"#9c179e\"],[0.4444444444444444,\"#bd3786\"],[0.5555555555555556,\"#d8576b\"],[0.6666666666666666,\"#ed7953\"],[0.7777777777777778,\"#fb9f3a\"],[0.8888888888888888,\"#fdca26\"],[1.0,\"#f0f921\"]]}],\"choropleth\":[{\"type\":\"choropleth\",\"colorbar\":{\"outlinewidth\":0,\"ticks\":\"\"}}],\"histogram2d\":[{\"type\":\"histogram2d\",\"colorbar\":{\"outlinewidth\":0,\"ticks\":\"\"},\"colorscale\":[[0.0,\"#0d0887\"],[0.1111111111111111,\"#46039f\"],[0.2222222222222222,\"#7201a8\"],[0.3333333333333333,\"#9c179e\"],[0.4444444444444444,\"#bd3786\"],[0.5555555555555556,\"#d8576b\"],[0.6666666666666666,\"#ed7953\"],[0.7777777777777778,\"#fb9f3a\"],[0.8888888888888888,\"#fdca26\"],[1.0,\"#f0f921\"]]}],\"heatmap\":[{\"type\":\"heatmap\",\"colorbar\":{\"outlinewidth\":0,\"ticks\":\"\"},\"colorscale\":[[0.0,\"#0d0887\"],[0.1111111111111111,\"#46039f\"],[0.2222222222222222,\"#7201a8\"],[0.3333333333333333,\"#9c179e\"],[0.4444444444444444,\"#bd3786\"],[0.5555555555555556,\"#d8576b\"],[0.6666666666666666,\"#ed7953\"],[0.7777777777777778,\"#fb9f3a\"],[0.8888888888888888,\"#fdca26\"],[1.0,\"#f0f921\"]]}],\"heatmapgl\":[{\"type\":\"heatmapgl\",\"colorbar\":{\"outlinewidth\":0,\"ticks\":\"\"},\"colorscale\":[[0.0,\"#0d0887\"],[0.1111111111111111,\"#46039f\"],[0.2222222222222222,\"#7201a8\"],[0.3333333333333333,\"#9c179e\"],[0.4444444444444444,\"#bd3786\"],[0.5555555555555556,\"#d8576b\"],[0.6666666666666666,\"#ed7953\"],[0.7777777777777778,\"#fb9f3a\"],[0.8888888888888888,\"#fdca26\"],[1.0,\"#f0f921\"]]}],\"contourcarpet\":[{\"type\":\"contourcarpet\",\"colorbar\":{\"outlinewidth\":0,\"ticks\":\"\"}}],\"contour\":[{\"type\":\"contour\",\"colorbar\":{\"outlinewidth\":0,\"ticks\":\"\"},\"colorscale\":[[0.0,\"#0d0887\"],[0.1111111111111111,\"#46039f\"],[0.2222222222222222,\"#7201a8\"],[0.3333333333333333,\"#9c179e\"],[0.4444444444444444,\"#bd3786\"],[0.5555555555555556,\"#d8576b\"],[0.6666666666666666,\"#ed7953\"],[0.7777777777777778,\"#fb9f3a\"],[0.8888888888888888,\"#fdca26\"],[1.0,\"#f0f921\"]]}],\"surface\":[{\"type\":\"surface\",\"colorbar\":{\"outlinewidth\":0,\"ticks\":\"\"},\"colorscale\":[[0.0,\"#0d0887\"],[0.1111111111111111,\"#46039f\"],[0.2222222222222222,\"#7201a8\"],[0.3333333333333333,\"#9c179e\"],[0.4444444444444444,\"#bd3786\"],[0.5555555555555556,\"#d8576b\"],[0.6666666666666666,\"#ed7953\"],[0.7777777777777778,\"#fb9f3a\"],[0.8888888888888888,\"#fdca26\"],[1.0,\"#f0f921\"]]}],\"mesh3d\":[{\"type\":\"mesh3d\",\"colorbar\":{\"outlinewidth\":0,\"ticks\":\"\"}}],\"scatter\":[{\"fillpattern\":{\"fillmode\":\"overlay\",\"size\":10,\"solidity\":0.2},\"type\":\"scatter\"}],\"parcoords\":[{\"type\":\"parcoords\",\"line\":{\"colorbar\":{\"outlinewidth\":0,\"ticks\":\"\"}}}],\"scatterpolargl\":[{\"type\":\"scatterpolargl\",\"marker\":{\"colorbar\":{\"outlinewidth\":0,\"ticks\":\"\"}}}],\"bar\":[{\"error_x\":{\"color\":\"#2a3f5f\"},\"error_y\":{\"color\":\"#2a3f5f\"},\"marker\":{\"line\":{\"color\":\"#E5ECF6\",\"width\":0.5},\"pattern\":{\"fillmode\":\"overlay\",\"size\":10,\"solidity\":0.2}},\"type\":\"bar\"}],\"scattergeo\":[{\"type\":\"scattergeo\",\"marker\":{\"colorbar\":{\"outlinewidth\":0,\"ticks\":\"\"}}}],\"scatterpolar\":[{\"type\":\"scatterpolar\",\"marker\":{\"colorbar\":{\"outlinewidth\":0,\"ticks\":\"\"}}}],\"histogram\":[{\"marker\":{\"pattern\":{\"fillmode\":\"overlay\",\"size\":10,\"solidity\":0.2}},\"type\":\"histogram\"}],\"scattergl\":[{\"type\":\"scattergl\",\"marker\":{\"colorbar\":{\"outlinewidth\":0,\"ticks\":\"\"}}}],\"scatter3d\":[{\"type\":\"scatter3d\",\"line\":{\"colorbar\":{\"outlinewidth\":0,\"ticks\":\"\"}},\"marker\":{\"colorbar\":{\"outlinewidth\":0,\"ticks\":\"\"}}}],\"scattermapbox\":[{\"type\":\"scattermapbox\",\"marker\":{\"colorbar\":{\"outlinewidth\":0,\"ticks\":\"\"}}}],\"scatterternary\":[{\"type\":\"scatterternary\",\"marker\":{\"colorbar\":{\"outlinewidth\":0,\"ticks\":\"\"}}}],\"scattercarpet\":[{\"type\":\"scattercarpet\",\"marker\":{\"colorbar\":{\"outlinewidth\":0,\"ticks\":\"\"}}}],\"carpet\":[{\"aaxis\":{\"endlinecolor\":\"#2a3f5f\",\"gridcolor\":\"white\",\"linecolor\":\"white\",\"minorgridcolor\":\"white\",\"startlinecolor\":\"#2a3f5f\"},\"baxis\":{\"endlinecolor\":\"#2a3f5f\",\"gridcolor\":\"white\",\"linecolor\":\"white\",\"minorgridcolor\":\"white\",\"startlinecolor\":\"#2a3f5f\"},\"type\":\"carpet\"}],\"table\":[{\"cells\":{\"fill\":{\"color\":\"#EBF0F8\"},\"line\":{\"color\":\"white\"}},\"header\":{\"fill\":{\"color\":\"#C8D4E3\"},\"line\":{\"color\":\"white\"}},\"type\":\"table\"}],\"barpolar\":[{\"marker\":{\"line\":{\"color\":\"#E5ECF6\",\"width\":0.5},\"pattern\":{\"fillmode\":\"overlay\",\"size\":10,\"solidity\":0.2}},\"type\":\"barpolar\"}],\"pie\":[{\"automargin\":true,\"type\":\"pie\"}]},\"layout\":{\"autotypenumbers\":\"strict\",\"colorway\":[\"#636efa\",\"#EF553B\",\"#00cc96\",\"#ab63fa\",\"#FFA15A\",\"#19d3f3\",\"#FF6692\",\"#B6E880\",\"#FF97FF\",\"#FECB52\"],\"font\":{\"color\":\"#2a3f5f\"},\"hovermode\":\"closest\",\"hoverlabel\":{\"align\":\"left\"},\"paper_bgcolor\":\"white\",\"plot_bgcolor\":\"#E5ECF6\",\"polar\":{\"bgcolor\":\"#E5ECF6\",\"angularaxis\":{\"gridcolor\":\"white\",\"linecolor\":\"white\",\"ticks\":\"\"},\"radialaxis\":{\"gridcolor\":\"white\",\"linecolor\":\"white\",\"ticks\":\"\"}},\"ternary\":{\"bgcolor\":\"#E5ECF6\",\"aaxis\":{\"gridcolor\":\"white\",\"linecolor\":\"white\",\"ticks\":\"\"},\"baxis\":{\"gridcolor\":\"white\",\"linecolor\":\"white\",\"ticks\":\"\"},\"caxis\":{\"gridcolor\":\"white\",\"linecolor\":\"white\",\"ticks\":\"\"}},\"coloraxis\":{\"colorbar\":{\"outlinewidth\":0,\"ticks\":\"\"}},\"colorscale\":{\"sequential\":[[0.0,\"#0d0887\"],[0.1111111111111111,\"#46039f\"],[0.2222222222222222,\"#7201a8\"],[0.3333333333333333,\"#9c179e\"],[0.4444444444444444,\"#bd3786\"],[0.5555555555555556,\"#d8576b\"],[0.6666666666666666,\"#ed7953\"],[0.7777777777777778,\"#fb9f3a\"],[0.8888888888888888,\"#fdca26\"],[1.0,\"#f0f921\"]],\"sequentialminus\":[[0.0,\"#0d0887\"],[0.1111111111111111,\"#46039f\"],[0.2222222222222222,\"#7201a8\"],[0.3333333333333333,\"#9c179e\"],[0.4444444444444444,\"#bd3786\"],[0.5555555555555556,\"#d8576b\"],[0.6666666666666666,\"#ed7953\"],[0.7777777777777778,\"#fb9f3a\"],[0.8888888888888888,\"#fdca26\"],[1.0,\"#f0f921\"]],\"diverging\":[[0,\"#8e0152\"],[0.1,\"#c51b7d\"],[0.2,\"#de77ae\"],[0.3,\"#f1b6da\"],[0.4,\"#fde0ef\"],[0.5,\"#f7f7f7\"],[0.6,\"#e6f5d0\"],[0.7,\"#b8e186\"],[0.8,\"#7fbc41\"],[0.9,\"#4d9221\"],[1,\"#276419\"]]},\"xaxis\":{\"gridcolor\":\"white\",\"linecolor\":\"white\",\"ticks\":\"\",\"title\":{\"standoff\":15},\"zerolinecolor\":\"white\",\"automargin\":true,\"zerolinewidth\":2},\"yaxis\":{\"gridcolor\":\"white\",\"linecolor\":\"white\",\"ticks\":\"\",\"title\":{\"standoff\":15},\"zerolinecolor\":\"white\",\"automargin\":true,\"zerolinewidth\":2},\"scene\":{\"xaxis\":{\"backgroundcolor\":\"#E5ECF6\",\"gridcolor\":\"white\",\"linecolor\":\"white\",\"showbackground\":true,\"ticks\":\"\",\"zerolinecolor\":\"white\",\"gridwidth\":2},\"yaxis\":{\"backgroundcolor\":\"#E5ECF6\",\"gridcolor\":\"white\",\"linecolor\":\"white\",\"showbackground\":true,\"ticks\":\"\",\"zerolinecolor\":\"white\",\"gridwidth\":2},\"zaxis\":{\"backgroundcolor\":\"#E5ECF6\",\"gridcolor\":\"white\",\"linecolor\":\"white\",\"showbackground\":true,\"ticks\":\"\",\"zerolinecolor\":\"white\",\"gridwidth\":2}},\"shapedefaults\":{\"line\":{\"color\":\"#2a3f5f\"}},\"annotationdefaults\":{\"arrowcolor\":\"#2a3f5f\",\"arrowhead\":0,\"arrowwidth\":1},\"geo\":{\"bgcolor\":\"white\",\"landcolor\":\"#E5ECF6\",\"subunitcolor\":\"white\",\"showland\":true,\"showlakes\":true,\"lakecolor\":\"white\"},\"title\":{\"x\":0.05},\"mapbox\":{\"style\":\"light\"}}},\"xaxis\":{\"anchor\":\"y\",\"domain\":[0.0,1.0],\"title\":{\"text\":\"standardized effect\"}},\"yaxis\":{\"anchor\":\"x\",\"domain\":[0.0,1.0],\"title\":{\"text\":\"Feature\"}},\"coloraxis\":{\"colorbar\":{\"title\":{\"text\":\"quantile\"}},\"colorscale\":[[0.0,\"royalblue\"],[1.0,\"red\"]]},\"legend\":{\"tracegroupgap\":0},\"title\":{\"text\":\"AcME Global Importance : classification. Label_class : 1\",\"y\":0.9,\"x\":0.5,\"xanchor\":\"center\",\"yanchor\":\"top\"},\"shapes\":[{\"line\":{\"color\":\"black\",\"dash\":\"dash\",\"width\":2},\"type\":\"line\",\"x0\":0,\"x1\":0,\"y0\":\"Ba\",\"y1\":\"Mg\"}]},                        {\"responsive\": true}                    ).then(function(){\n",
       "                            \n",
       "var gd = document.getElementById('63f0a8f5-1f57-4b77-b81f-fd0a66c8de97');\n",
       "var x = new MutationObserver(function (mutations, observer) {{\n",
       "        var display = window.getComputedStyle(gd).display;\n",
       "        if (!display || display === 'none') {{\n",
       "            console.log([gd, 'removed!']);\n",
       "            Plotly.purge(gd);\n",
       "            observer.disconnect();\n",
       "        }}\n",
       "}});\n",
       "\n",
       "// Listen for the removal of the full notebook cells\n",
       "var notebookContainer = gd.closest('#notebook-container');\n",
       "if (notebookContainer) {{\n",
       "    x.observe(notebookContainer, {childList: true});\n",
       "}}\n",
       "\n",
       "// Listen for the clearing of the current output cell\n",
       "var outputEl = gd.closest('.output');\n",
       "if (outputEl) {{\n",
       "    x.observe(outputEl, {childList: true});\n",
       "}}\n",
       "\n",
       "                        })                };                });            </script>        </div>"
      ]
     },
     "metadata": {},
     "output_type": "display_data"
    }
   ],
   "source": [
    "acme_class.summary_plot()"
   ]
  },
  {
   "cell_type": "code",
   "execution_count": 30,
   "metadata": {},
   "outputs": [],
   "source": [
    "local_acme = acme_class.fit_local(glass_data,local=100, label_class=1)"
   ]
  },
  {
   "cell_type": "code",
   "execution_count": 31,
   "metadata": {},
   "outputs": [
    {
     "data": {
      "application/vnd.plotly.v1+json": {
       "config": {
        "plotlyServerURL": "https://plot.ly"
       },
       "data": [
        {
         "customdata": [
          [
           0
          ],
          [
           0
          ],
          [
           0
          ],
          [
           0
          ],
          [
           0
          ],
          [
           0
          ],
          [
           0
          ],
          [
           0
          ],
          [
           0
          ],
          [
           0
          ],
          [
           0
          ],
          [
           0
          ],
          [
           0
          ],
          [
           0
          ],
          [
           0
          ],
          [
           0
          ],
          [
           0
          ],
          [
           0
          ],
          [
           0
          ],
          [
           0
          ],
          [
           0
          ],
          [
           0
          ],
          [
           0
          ],
          [
           0
          ],
          [
           0
          ],
          [
           0
          ],
          [
           0
          ],
          [
           0
          ],
          [
           0
          ],
          [
           0
          ],
          [
           0
          ],
          [
           0
          ],
          [
           0
          ],
          [
           0
          ],
          [
           0
          ],
          [
           0
          ],
          [
           0
          ],
          [
           0
          ],
          [
           0
          ],
          [
           0
          ],
          [
           0
          ],
          [
           0.09775510204081626
          ],
          [
           0.21428571428571244
          ],
          [
           0.5408163265306121
          ],
          [
           0.64
          ],
          [
           0.7385714285714274
          ],
          [
           1.3834693877551012
          ],
          [
           1.59
          ],
          [
           1.676734693877551
          ],
          [
           3.15
          ],
          [
           0
          ],
          [
           0
          ],
          [
           0
          ],
          [
           0
          ],
          [
           0
          ],
          [
           0
          ],
          [
           0
          ],
          [
           0.022857142857142847
          ],
          [
           0.056122448979591795
          ],
          [
           0.07938775510204081
          ],
          [
           0.09
          ],
          [
           0.11
          ],
          [
           0.12
          ],
          [
           0.1424489795918367
          ],
          [
           0.17571428571428568
          ],
          [
           0.22591836734693857
          ],
          [
           0.3222448979591836
          ],
          [
           0.37551020408163266
          ],
          [
           0.39
          ],
          [
           0.47204081632653055
          ],
          [
           0.51
          ],
          [
           0.52
          ],
          [
           0.54
          ],
          [
           0.5451020408163265
          ],
          [
           0.55
          ],
          [
           0.56
          ],
          [
           0.56
          ],
          [
           0.5681632653061223
          ],
          [
           0.57
          ],
          [
           0.57
          ],
          [
           0.58
          ],
          [
           0.58
          ],
          [
           0.5844897959183671
          ],
          [
           0.59
          ],
          [
           0.6
          ],
          [
           0.6
          ],
          [
           0.6
          ],
          [
           0.61
          ],
          [
           0.6140816326530611
          ],
          [
           0.62
          ],
          [
           0.64
          ],
          [
           0.64
          ],
          [
           0.65
          ],
          [
           0.67
          ],
          [
           0.68
          ],
          [
           0.69
          ],
          [
           0.720204081632653
          ],
          [
           0.8655102040816292
          ],
          [
           1.60816326530612
          ],
          [
           6.21
          ],
          [
           0
          ],
          [
           0
          ],
          [
           0
          ],
          [
           0
          ],
          [
           0
          ],
          [
           0
          ],
          [
           0
          ],
          [
           0
          ],
          [
           0
          ],
          [
           0
          ],
          [
           0
          ],
          [
           0
          ],
          [
           0
          ],
          [
           0
          ],
          [
           0
          ],
          [
           0
          ],
          [
           0
          ],
          [
           0
          ],
          [
           0
          ],
          [
           0
          ],
          [
           0
          ],
          [
           0
          ],
          [
           0
          ],
          [
           0
          ],
          [
           0
          ],
          [
           0
          ],
          [
           0
          ],
          [
           0
          ],
          [
           0
          ],
          [
           0
          ],
          [
           0
          ],
          [
           0
          ],
          [
           0
          ],
          [
           0.007755102040816269
          ],
          [
           0.07
          ],
          [
           0.08428571428571416
          ],
          [
           0.09
          ],
          [
           0.1
          ],
          [
           0.11
          ],
          [
           0.12
          ],
          [
           0.15
          ],
          [
           0.16387755102040813
          ],
          [
           0.17
          ],
          [
           0.19
          ],
          [
           0.22
          ],
          [
           0.24
          ],
          [
           0.240204081632653
          ],
          [
           0.28
          ],
          [
           0.31673469387755093
          ],
          [
           0.51
          ],
          [
           1.51115
          ],
          [
           1.5131763265306122
          ],
          [
           1.51514
          ],
          [
           1.515667755102041
          ],
          [
           1.5158830612244898
          ],
          [
           1.5159126530612244
          ],
          [
           1.5159591836734694
          ],
          [
           1.5160928571428571
          ],
          [
           1.5161544897959183
          ],
          [
           1.51623
          ],
          [
           1.5163338775510204
          ],
          [
           1.51645
          ],
          [
           1.516505918367347
          ],
          [
           1.5165573469387756
          ],
          [
           1.5166414285714285
          ],
          [
           1.51672693877551
          ],
          [
           1.5168544897959184
          ],
          [
           1.5170116326530612
          ],
          [
           1.51711
          ],
          [
           1.5172761224489795
          ],
          [
           1.517391836734694
          ],
          [
           1.5174785714285715
          ],
          [
           1.51754
          ],
          [
           1.5175855102040816
          ],
          [
           1.517638367346939
          ],
          [
           1.51769
          ],
          [
           1.5177848979591837
          ],
          [
           1.51784
          ],
          [
           1.5179342857142857
          ],
          [
           1.5180693877551021
          ],
          [
           1.5181697959183673
          ],
          [
           1.5182924489795917
          ],
          [
           1.5183844897959184
          ],
          [
           1.5184555102040815
          ],
          [
           1.5185281632653063
          ],
          [
           1.518897142857143
          ],
          [
           1.51905
          ],
          [
           1.5191616326530613
          ],
          [
           1.5194883673469388
          ],
          [
           1.5198948979591838
          ],
          [
           1.520651836734694
          ],
          [
           1.5211977551020408
          ],
          [
           1.52152
          ],
          [
           1.5217220408163266
          ],
          [
           1.5221036734693878
          ],
          [
           1.52222693877551
          ],
          [
           1.5231510204081633
          ],
          [
           1.5243255102040816
          ],
          [
           1.527060612244898
          ],
          [
           1.53393
          ],
          [
           10.73
          ],
          [
           11.485918367346938
          ],
          [
           12.26530612244898
          ],
          [
           12.559795918367348
          ],
          [
           12.64
          ],
          [
           12.686326530612245
          ],
          [
           12.729591836734695
          ],
          [
           12.782857142857143
          ],
          [
           12.806122448979592
          ],
          [
           12.838775510204082
          ],
          [
           12.852653061224489
          ],
          [
           12.865918367346938
          ],
          [
           12.889183673469388
          ],
          [
           12.932448979591836
          ],
          [
           12.985714285714286
          ],
          [
           13
          ],
          [
           13.02
          ],
          [
           13.031020408163265
          ],
          [
           13.088775510204082
          ],
          [
           13.124081632653061
          ],
          [
           13.19
          ],
          [
           13.20857142857143
          ],
          [
           13.213673469387755
          ],
          [
           13.24
          ],
          [
           13.27
          ],
          [
           13.31326530612245
          ],
          [
           13.334897959183673
          ],
          [
           13.38
          ],
          [
           13.41
          ],
          [
           13.43469387755102
          ],
          [
           13.475918367346939
          ],
          [
           13.501224489795918
          ],
          [
           13.554489795918368
          ],
          [
           13.64
          ],
          [
           13.691020408163265
          ],
          [
           13.72
          ],
          [
           13.787551020408163
          ],
          [
           13.870816326530612
          ],
          [
           13.908163265306122
          ],
          [
           14.007346938775509
          ],
          [
           14.14
          ],
          [
           14.193877551020407
          ],
          [
           14.244285714285715
          ],
          [
           14.360408163265305
          ],
          [
           14.393673469387755
          ],
          [
           14.56
          ],
          [
           14.801020408163266
          ],
          [
           14.88081632653061
          ],
          [
           14.976938775510204
          ],
          [
           17.38
          ],
          [
           69.81
          ],
          [
           70.44632653061225
          ],
          [
           71.20877551020408
          ],
          [
           71.36
          ],
          [
           71.7530612244898
          ],
          [
           71.7826530612245
          ],
          [
           71.86755102040817
          ],
          [
           71.96857142857142
          ],
          [
           72.01612244897959
          ],
          [
           72.07877551020408
          ],
          [
           72.18
          ],
          [
           72.21183673469388
          ],
          [
           72.27836734693878
          ],
          [
           72.33244897959183
          ],
          [
           72.38
          ],
          [
           72.43591836734694
          ],
          [
           72.50224489795919
          ],
          [
           72.54551020408164
          ],
          [
           72.61
          ],
          [
           72.65
          ],
          [
           72.67
          ],
          [
           72.71714285714286
          ],
          [
           72.73183673469389
          ],
          [
           72.75
          ],
          [
           72.77836734693878
          ],
          [
           72.81326530612245
          ],
          [
           72.84489795918367
          ],
          [
           72.86
          ],
          [
           72.87
          ],
          [
           72.90408163265306
          ],
          [
           72.95795918367347
          ],
          [
           72.97
          ],
          [
           72.99
          ],
          [
           73
          ],
          [
           73.02
          ],
          [
           73.04428571428572
          ],
          [
           73.07755102040817
          ],
          [
           73.1
          ],
          [
           73.11
          ],
          [
           73.13469387755102
          ],
          [
           73.20061224489797
          ],
          [
           73.23
          ],
          [
           73.25714285714287
          ],
          [
           73.28
          ],
          [
           73.29367346938776
          ],
          [
           73.39
          ],
          [
           73.4604081632653
          ],
          [
           73.64122448979592
          ],
          [
           73.85714285714285
          ],
          [
           75.41
          ],
          [
           5.43
          ],
          [
           6.741428571428571
          ],
          [
           7.5102040816326525
          ],
          [
           7.859387755102041
          ],
          [
           7.912244897959184
          ],
          [
           7.97
          ],
          [
           8.03
          ],
          [
           8.042857142857143
          ],
          [
           8.076122448979591
          ],
          [
           8.1
          ],
          [
           8.127959183673468
          ],
          [
           8.21
          ],
          [
           8.229183673469388
          ],
          [
           8.272448979591836
          ],
          [
           8.315714285714286
          ],
          [
           8.348979591836734
          ],
          [
           8.39
          ],
          [
           8.405510204081633
          ],
          [
           8.43
          ],
          [
           8.44
          ],
          [
           8.49530612244898
          ],
          [
           8.528571428571428
          ],
          [
           8.541836734693877
          ],
          [
           8.56
          ],
          [
           8.59
          ],
          [
           8.61
          ],
          [
           8.659795918367347
          ],
          [
           8.68
          ],
          [
           8.715714285714286
          ],
          [
           8.76469387755102
          ],
          [
           8.79
          ],
          [
           8.83
          ],
          [
           8.894489795918368
          ],
          [
           8.945510204081632
          ],
          [
           9.00204081632653
          ],
          [
           9.064285714285715
          ],
          [
           9.137551020408164
          ],
          [
           9.232448979591837
          ],
          [
           9.414081632653062
          ],
          [
           9.56204081632653
          ],
          [
           9.612448979591836
          ],
          [
           9.747755102040816
          ],
          [
           9.84142857142857
          ],
          [
           10.021632653061223
          ],
          [
           10.313265306122439
          ],
          [
           11.09408163265306
          ],
          [
           11.412244897959184
          ],
          [
           11.848163265306109
          ],
          [
           13.394285714285713
          ],
          [
           16.19
          ],
          [
           0.29
          ],
          [
           0.5263265306122449
          ],
          [
           0.656530612244898
          ],
          [
           0.7493877551020408
          ],
          [
           0.7991836734693877
          ],
          [
           0.87
          ],
          [
           0.9
          ],
          [
           1.052857142857143
          ],
          [
           1.11
          ],
          [
           1.12
          ],
          [
           1.1526530612244896
          ],
          [
           1.1759183673469387
          ],
          [
           1.19
          ],
          [
           1.1924489795918367
          ],
          [
           1.2257142857142858
          ],
          [
           1.23
          ],
          [
           1.25
          ],
          [
           1.2655102040816326
          ],
          [
           1.28
          ],
          [
           1.29
          ],
          [
           1.3
          ],
          [
           1.3185714285714285
          ],
          [
           1.33
          ],
          [
           1.35
          ],
          [
           1.36
          ],
          [
           1.38
          ],
          [
           1.41
          ],
          [
           1.43
          ],
          [
           1.4528571428571426
          ],
          [
           1.48
          ],
          [
           1.5059183673469385
          ],
          [
           1.5212244897959182
          ],
          [
           1.54
          ],
          [
           1.54
          ],
          [
           1.56
          ],
          [
           1.5742857142857143
          ],
          [
           1.62
          ],
          [
           1.630816326530612
          ],
          [
           1.6781632653061223
          ],
          [
           1.74
          ],
          [
           1.7906122448979591
          ],
          [
           1.8238775510204082
          ],
          [
           1.877142857142857
          ],
          [
           1.99
          ],
          [
           2.06734693877551
          ],
          [
           2.113877551020408
          ],
          [
           2.271428571428571
          ],
          [
           2.5204081632653055
          ],
          [
           2.7736734693877545
          ],
          [
           3.5
          ],
          [
           0
          ],
          [
           0
          ],
          [
           0
          ],
          [
           0
          ],
          [
           0
          ],
          [
           0
          ],
          [
           0
          ],
          [
           0
          ],
          [
           0
          ],
          [
           0
          ],
          [
           0.8410204081632645
          ],
          [
           1.7277551020408162
          ],
          [
           1.8775510204081631
          ],
          [
           2.249795918367347
          ],
          [
           2.697142857142857
          ],
          [
           2.836938775510204
          ],
          [
           2.9134693877551014
          ],
          [
           3.1910204081632654
          ],
          [
           3.33
          ],
          [
           3.3520408163265305
          ],
          [
           3.3953061224489796
          ],
          [
           3.4185714285714286
          ],
          [
           3.441836734693877
          ],
          [
           3.4651020408163267
          ],
          [
           3.48
          ],
          [
           3.48
          ],
          [
           3.49
          ],
          [
           3.5
          ],
          [
           3.52
          ],
          [
           3.5246938775510204
          ],
          [
           3.54
          ],
          [
           3.54
          ],
          [
           3.554489795918367
          ],
          [
           3.5677551020408163
          ],
          [
           3.58
          ],
          [
           3.58
          ],
          [
           3.59
          ],
          [
           3.6008163265306123
          ],
          [
           3.614081632653061
          ],
          [
           3.62
          ],
          [
           3.65
          ],
          [
           3.66
          ],
          [
           3.677142857142857
          ],
          [
           3.720408163265306
          ],
          [
           3.743673469387755
          ],
          [
           3.776938775510204
          ],
          [
           3.820204081632653
          ],
          [
           3.853469387755102
          ],
          [
           3.9
          ],
          [
           3.98
          ]
         ],
         "hovertemplate": "prediction=%{x}<br>Feature=%{y}<br>size=%{marker.size}<br>original=%{customdata[0]}<br>quantile=%{marker.color}<extra></extra>",
         "legendgroup": "",
         "marker": {
          "color": [
           0,
           0.4693877551020408,
           0.5102040816326531,
           0.5306122448979591,
           0.5510204081632653,
           0.5714285714285714,
           0.5918367346938775,
           0.6122448979591836,
           0.6326530612244897,
           0.6530612244897959,
           0.673469387755102,
           0.6938775510204082,
           0.7142857142857142,
           0.7346938775510203,
           0.7551020408163265,
           0.7755102040816326,
           0.7959183673469387,
           0.8163265306122448,
           0.44897959183673464,
           0.42857142857142855,
           0.4897959183673469,
           0.3877551020408163,
           0.02040816326530612,
           0.04081632653061224,
           0.061224489795918366,
           0.08163265306122448,
           0.1020408163265306,
           0.4081632653061224,
           0.14285714285714285,
           0.16326530612244897,
           0.18367346938775508,
           0.12244897959183673,
           0.22448979591836732,
           0.2040816326530612,
           0.3469387755102041,
           0.32653061224489793,
           0.36734693877551017,
           0.2857142857142857,
           0.26530612244897955,
           0.24489795918367346,
           0.3061224489795918,
           0.836734693877551,
           0.8571428571428571,
           0.8775510204081632,
           0.8979591836734693,
           0.9183673469387754,
           0.9387755102040816,
           0.9591836734693877,
           0.9795918367346939,
           1,
           0,
           0.02040816326530612,
           0.04081632653061224,
           0.061224489795918366,
           0.08163265306122448,
           0.1020408163265306,
           0.12244897959183673,
           0.14285714285714285,
           0.16326530612244897,
           0.18367346938775508,
           0.2040816326530612,
           0.22448979591836732,
           0.24489795918367346,
           0.26530612244897955,
           0.2857142857142857,
           0.3061224489795918,
           0.32653061224489793,
           0.3469387755102041,
           0.36734693877551017,
           0.3877551020408163,
           0.4081632653061224,
           0.42857142857142855,
           0.44897959183673464,
           0.4693877551020408,
           0.4897959183673469,
           0.5102040816326531,
           0.5306122448979591,
           0.5510204081632653,
           0.5714285714285714,
           0.5918367346938775,
           0.6122448979591836,
           0.6326530612244897,
           0.6530612244897959,
           0.673469387755102,
           0.6938775510204082,
           0.7142857142857142,
           0.7346938775510203,
           0.7551020408163265,
           0.7755102040816326,
           0.7959183673469387,
           0.8163265306122448,
           0.836734693877551,
           0.8571428571428571,
           0.8775510204081632,
           0.8979591836734693,
           0.9183673469387754,
           0.9387755102040816,
           0.9591836734693877,
           0.9795918367346939,
           1,
           0,
           0.6530612244897959,
           0.6326530612244897,
           0.6122448979591836,
           0.5918367346938775,
           0.5714285714285714,
           0.5510204081632653,
           0.5306122448979591,
           0.5102040816326531,
           0.4693877551020408,
           0.44897959183673464,
           0.42857142857142855,
           0.4081632653061224,
           0.3877551020408163,
           0.36734693877551017,
           0.3469387755102041,
           0.4897959183673469,
           0.3061224489795918,
           0.2857142857142857,
           0.26530612244897955,
           0.24489795918367346,
           0.22448979591836732,
           0.2040816326530612,
           0.18367346938775508,
           0.32653061224489793,
           0.16326530612244897,
           0.14285714285714285,
           0.12244897959183673,
           0.1020408163265306,
           0.08163265306122448,
           0.061224489795918366,
           0.04081632653061224,
           0.02040816326530612,
           0.673469387755102,
           0.6938775510204082,
           0.7142857142857142,
           0.7346938775510203,
           0.7551020408163265,
           0.7755102040816326,
           0.7959183673469387,
           0.8163265306122448,
           0.836734693877551,
           0.8571428571428571,
           0.8775510204081632,
           0.8979591836734693,
           0.9183673469387754,
           0.9387755102040816,
           0.9591836734693877,
           0.9795918367346939,
           1,
           0,
           0.02040816326530612,
           0.04081632653061224,
           0.061224489795918366,
           0.08163265306122448,
           0.1020408163265306,
           0.12244897959183673,
           0.14285714285714285,
           0.16326530612244897,
           0.18367346938775508,
           0.2040816326530612,
           0.22448979591836732,
           0.24489795918367346,
           0.26530612244897955,
           0.2857142857142857,
           0.3061224489795918,
           0.32653061224489793,
           0.3469387755102041,
           0.36734693877551017,
           0.3877551020408163,
           0.4081632653061224,
           0.42857142857142855,
           0.44897959183673464,
           0.4693877551020408,
           0.4897959183673469,
           0.5102040816326531,
           0.5306122448979591,
           0.5510204081632653,
           0.5714285714285714,
           0.5918367346938775,
           0.6122448979591836,
           0.6326530612244897,
           0.6530612244897959,
           0.673469387755102,
           0.6938775510204082,
           0.7142857142857142,
           0.7346938775510203,
           0.7551020408163265,
           0.7755102040816326,
           0.7959183673469387,
           0.8163265306122448,
           0.836734693877551,
           0.8571428571428571,
           0.8775510204081632,
           0.8979591836734693,
           0.9183673469387754,
           0.9387755102040816,
           0.9591836734693877,
           0.9795918367346939,
           1,
           0,
           0.02040816326530612,
           0.04081632653061224,
           0.061224489795918366,
           0.08163265306122448,
           0.1020408163265306,
           0.12244897959183673,
           0.14285714285714285,
           0.16326530612244897,
           0.18367346938775508,
           0.2040816326530612,
           0.22448979591836732,
           0.24489795918367346,
           0.26530612244897955,
           0.2857142857142857,
           0.3061224489795918,
           0.32653061224489793,
           0.3469387755102041,
           0.36734693877551017,
           0.3877551020408163,
           0.4081632653061224,
           0.42857142857142855,
           0.44897959183673464,
           0.4693877551020408,
           0.4897959183673469,
           0.5102040816326531,
           0.5306122448979591,
           0.5510204081632653,
           0.5714285714285714,
           0.5918367346938775,
           0.6122448979591836,
           0.6326530612244897,
           0.6530612244897959,
           0.673469387755102,
           0.6938775510204082,
           0.7142857142857142,
           0.7346938775510203,
           0.7551020408163265,
           0.7755102040816326,
           0.7959183673469387,
           0.8163265306122448,
           0.836734693877551,
           0.8571428571428571,
           0.8775510204081632,
           0.8979591836734693,
           0.9183673469387754,
           0.9387755102040816,
           0.9591836734693877,
           0.9795918367346939,
           1,
           0,
           0.02040816326530612,
           0.04081632653061224,
           0.061224489795918366,
           0.08163265306122448,
           0.1020408163265306,
           0.12244897959183673,
           0.14285714285714285,
           0.16326530612244897,
           0.18367346938775508,
           0.2040816326530612,
           0.22448979591836732,
           0.24489795918367346,
           0.26530612244897955,
           0.2857142857142857,
           0.3061224489795918,
           0.32653061224489793,
           0.3469387755102041,
           0.36734693877551017,
           0.3877551020408163,
           0.4081632653061224,
           0.42857142857142855,
           0.44897959183673464,
           0.4693877551020408,
           0.4897959183673469,
           0.5102040816326531,
           0.5306122448979591,
           0.5510204081632653,
           0.5714285714285714,
           0.5918367346938775,
           0.6122448979591836,
           0.6326530612244897,
           0.6530612244897959,
           0.673469387755102,
           0.6938775510204082,
           0.7142857142857142,
           0.7346938775510203,
           0.7551020408163265,
           0.7755102040816326,
           0.7959183673469387,
           0.8163265306122448,
           0.836734693877551,
           0.8571428571428571,
           0.8775510204081632,
           0.8979591836734693,
           0.9183673469387754,
           0.9387755102040816,
           0.9591836734693877,
           0.9795918367346939,
           1,
           0,
           0.02040816326530612,
           0.04081632653061224,
           0.061224489795918366,
           0.08163265306122448,
           0.1020408163265306,
           0.12244897959183673,
           0.14285714285714285,
           0.16326530612244897,
           0.18367346938775508,
           0.2040816326530612,
           0.22448979591836732,
           0.24489795918367346,
           0.26530612244897955,
           0.2857142857142857,
           0.3061224489795918,
           0.32653061224489793,
           0.3469387755102041,
           0.36734693877551017,
           0.3877551020408163,
           0.4081632653061224,
           0.42857142857142855,
           0.44897959183673464,
           0.4693877551020408,
           0.4897959183673469,
           0.5102040816326531,
           0.5306122448979591,
           0.5510204081632653,
           0.5714285714285714,
           0.5918367346938775,
           0.6122448979591836,
           0.6326530612244897,
           0.6530612244897959,
           0.673469387755102,
           0.6938775510204082,
           0.7142857142857142,
           0.7346938775510203,
           0.7551020408163265,
           0.7755102040816326,
           0.7959183673469387,
           0.8163265306122448,
           0.836734693877551,
           0.8571428571428571,
           0.8775510204081632,
           0.8979591836734693,
           0.9183673469387754,
           0.9387755102040816,
           0.9591836734693877,
           0.9795918367346939,
           1,
           0,
           0.02040816326530612,
           0.04081632653061224,
           0.061224489795918366,
           0.08163265306122448,
           0.1020408163265306,
           0.12244897959183673,
           0.14285714285714285,
           0.16326530612244897,
           0.18367346938775508,
           0.2040816326530612,
           0.22448979591836732,
           0.24489795918367346,
           0.26530612244897955,
           0.2857142857142857,
           0.3061224489795918,
           0.32653061224489793,
           0.3469387755102041,
           0.36734693877551017,
           0.3877551020408163,
           0.4081632653061224,
           0.42857142857142855,
           0.44897959183673464,
           0.4693877551020408,
           0.4897959183673469,
           0.5102040816326531,
           0.5306122448979591,
           0.5510204081632653,
           0.5714285714285714,
           0.5918367346938775,
           0.6122448979591836,
           0.6326530612244897,
           0.6530612244897959,
           0.673469387755102,
           0.6938775510204082,
           0.7142857142857142,
           0.7346938775510203,
           0.7551020408163265,
           0.7755102040816326,
           0.7959183673469387,
           0.8163265306122448,
           0.836734693877551,
           0.8571428571428571,
           0.8775510204081632,
           0.8979591836734693,
           0.9183673469387754,
           0.9387755102040816,
           0.9591836734693877,
           0.9795918367346939,
           1,
           0,
           0.02040816326530612,
           0.04081632653061224,
           0.061224489795918366,
           0.08163265306122448,
           0.1020408163265306,
           0.12244897959183673,
           0.14285714285714285,
           0.16326530612244897,
           0.18367346938775508,
           0.2040816326530612,
           0.22448979591836732,
           0.24489795918367346,
           0.26530612244897955,
           0.2857142857142857,
           0.3061224489795918,
           0.32653061224489793,
           0.3469387755102041,
           0.36734693877551017,
           0.3877551020408163,
           0.4081632653061224,
           0.42857142857142855,
           0.44897959183673464,
           0.4693877551020408,
           0.5102040816326531,
           0.4897959183673469,
           0.5306122448979591,
           0.5510204081632653,
           0.5714285714285714,
           0.5918367346938775,
           0.6122448979591836,
           0.6326530612244897,
           0.6530612244897959,
           0.673469387755102,
           0.6938775510204082,
           0.7142857142857142,
           0.7346938775510203,
           0.7551020408163265,
           0.7755102040816326,
           0.7959183673469387,
           0.8163265306122448,
           0.836734693877551,
           0.8571428571428571,
           0.8775510204081632,
           0.8979591836734693,
           0.9183673469387754,
           0.9387755102040816,
           0.9591836734693877,
           0.9795918367346939,
           1
          ],
          "coloraxis": "coloraxis",
          "size": [
           0.2,
           0.2,
           0.2,
           0.2,
           0.2,
           0.2,
           0.2,
           0.2,
           0.2,
           0.2,
           0.2,
           0.2,
           0.2,
           0.2,
           0.2,
           0.2,
           0.2,
           0.2,
           0.2,
           0.2,
           0.2,
           0.2,
           0.2,
           0.2,
           0.2,
           0.2,
           0.2,
           0.2,
           0.2,
           0.2,
           0.2,
           0.2,
           0.2,
           0.2,
           0.2,
           0.2,
           0.2,
           0.2,
           0.2,
           0.2,
           0.2,
           1,
           0.2,
           0.2,
           0.2,
           0.2,
           0.2,
           0.2,
           0.2,
           0.2,
           0.2,
           0.2,
           0.2,
           0.2,
           0.2,
           0.2,
           0.2,
           0.2,
           0.2,
           0.2,
           0.2,
           0.2,
           0.2,
           0.2,
           0.2,
           0.2,
           0.2,
           0.2,
           0.2,
           0.2,
           0.2,
           0.2,
           0.2,
           0.2,
           0.2,
           0.2,
           0.2,
           0.2,
           0.2,
           0.2,
           0.2,
           0.2,
           0.2,
           0.2,
           1,
           0.2,
           0.2,
           0.2,
           0.2,
           0.2,
           0.2,
           0.2,
           0.2,
           0.2,
           0.2,
           0.2,
           0.2,
           0.2,
           0.2,
           0.2,
           1,
           0.2,
           0.2,
           0.2,
           0.2,
           0.2,
           0.2,
           0.2,
           0.2,
           0.2,
           0.2,
           0.2,
           0.2,
           0.2,
           0.2,
           0.2,
           0.2,
           0.2,
           0.2,
           0.2,
           0.2,
           0.2,
           0.2,
           0.2,
           0.2,
           0.2,
           0.2,
           0.2,
           0.2,
           0.2,
           0.2,
           0.2,
           0.2,
           0.2,
           0.2,
           0.2,
           0.2,
           0.2,
           0.2,
           0.2,
           0.2,
           0.2,
           0.2,
           0.2,
           0.2,
           0.2,
           0.2,
           0.2,
           0.2,
           0.2,
           0.2,
           0.2,
           0.2,
           0.2,
           0.2,
           0.2,
           0.2,
           0.2,
           0.2,
           0.2,
           0.2,
           0.2,
           0.2,
           0.2,
           0.2,
           0.2,
           0.2,
           0.2,
           0.2,
           0.2,
           0.2,
           0.2,
           0.2,
           0.2,
           0.2,
           0.2,
           0.2,
           0.2,
           0.2,
           1,
           0.2,
           0.2,
           0.2,
           0.2,
           0.2,
           0.2,
           0.2,
           0.2,
           0.2,
           0.2,
           0.2,
           0.2,
           0.2,
           0.2,
           0.2,
           0.2,
           0.2,
           0.2,
           0.2,
           0.2,
           0.2,
           0.2,
           0.2,
           0.2,
           0.2,
           0.2,
           0.2,
           0.2,
           0.2,
           0.2,
           0.2,
           0.2,
           0.2,
           0.2,
           1,
           0.2,
           0.2,
           0.2,
           0.2,
           0.2,
           0.2,
           0.2,
           0.2,
           0.2,
           0.2,
           0.2,
           0.2,
           0.2,
           0.2,
           0.2,
           0.2,
           0.2,
           0.2,
           0.2,
           0.2,
           0.2,
           0.2,
           0.2,
           0.2,
           0.2,
           0.2,
           0.2,
           0.2,
           0.2,
           0.2,
           0.2,
           0.2,
           0.2,
           0.2,
           0.2,
           0.2,
           0.2,
           0.2,
           0.2,
           0.2,
           0.2,
           0.2,
           0.2,
           0.2,
           0.2,
           0.2,
           0.2,
           0.2,
           0.2,
           0.2,
           0.2,
           0.2,
           0.2,
           0.2,
           0.2,
           0.2,
           0.2,
           0.2,
           0.2,
           0.2,
           0.2,
           0.2,
           0.2,
           0.2,
           1,
           0.2,
           0.2,
           0.2,
           0.2,
           0.2,
           0.2,
           0.2,
           0.2,
           0.2,
           0.2,
           0.2,
           0.2,
           0.2,
           0.2,
           0.2,
           0.2,
           0.2,
           0.2,
           0.2,
           0.2,
           0.2,
           0.2,
           0.2,
           0.2,
           0.2,
           0.2,
           0.2,
           0.2,
           0.2,
           0.2,
           0.2,
           0.2,
           0.2,
           0.2,
           0.2,
           0.2,
           0.2,
           0.2,
           0.2,
           0.2,
           0.2,
           0.2,
           0.2,
           0.2,
           0.2,
           0.2,
           0.2,
           0.2,
           0.2,
           0.2,
           1,
           0.2,
           0.2,
           0.2,
           0.2,
           0.2,
           0.2,
           0.2,
           0.2,
           0.2,
           0.2,
           0.2,
           0.2,
           0.2,
           0.2,
           0.2,
           0.2,
           0.2,
           0.2,
           0.2,
           0.2,
           0.2,
           0.2,
           0.2,
           0.2,
           0.2,
           0.2,
           0.2,
           0.2,
           0.2,
           0.2,
           0.2,
           0.2,
           0.2,
           0.2,
           0.2,
           0.2,
           0.2,
           0.2,
           0.2,
           0.2,
           0.2,
           0.2,
           0.2,
           0.2,
           0.2,
           0.2,
           1,
           0.2,
           0.2,
           0.2,
           0.2,
           0.2,
           0.2,
           0.2,
           0.2,
           0.2,
           0.2,
           0.2,
           0.2,
           0.2,
           0.2,
           0.2,
           0.2,
           0.2,
           0.2,
           0.2,
           0.2,
           0.2,
           0.2,
           0.2,
           0.2,
           0.2,
           0.2,
           0.2,
           0.2,
           0.2,
           0.2,
           0.2,
           0.2,
           0.2,
           0.2,
           0.2,
           0.2,
           0.2,
           0.2,
           1,
           0.2,
           0.2,
           0.2,
           0.2,
           0.2,
           0.2,
           0.2,
           0.2,
           0.2,
           0.2,
           0.2,
           0.2,
           0.2,
           0.2,
           0.2,
           0.2,
           0.2,
           0.2,
           0.2,
           0.2,
           0.2,
           0.2,
           0.2,
           0.2,
           0.2,
           0.2,
           0.2,
           0.2,
           0.2,
           0.2,
           0.2,
           0.2,
           0.2
          ],
          "sizemode": "area",
          "sizeref": 0.0025,
          "symbol": "circle"
         },
         "mode": "markers",
         "name": "",
         "orientation": "h",
         "showlegend": false,
         "type": "scatter",
         "x": [
          0.08922970469581558,
          0.08922970469581558,
          0.08922970469581558,
          0.08922970469581558,
          0.08922970469581558,
          0.08922970469581558,
          0.08922970469581558,
          0.08922970469581558,
          0.08922970469581558,
          0.08922970469581558,
          0.08922970469581558,
          0.08922970469581558,
          0.08922970469581558,
          0.08922970469581558,
          0.08922970469581558,
          0.08922970469581558,
          0.08922970469581558,
          0.08922970469581558,
          0.08922970469581558,
          0.08922970469581558,
          0.08922970469581558,
          0.08922970469581558,
          0.08922970469581558,
          0.08922970469581558,
          0.08922970469581558,
          0.08922970469581558,
          0.08922970469581558,
          0.08922970469581558,
          0.08922970469581558,
          0.08922970469581558,
          0.08922970469581558,
          0.08922970469581558,
          0.08922970469581558,
          0.08922970469581558,
          0.08922970469581558,
          0.08922970469581558,
          0.08922970469581558,
          0.08922970469581558,
          0.08922970469581558,
          0.08922970469581558,
          0.08922970469581558,
          0.060941066986879774,
          0.04688321617809246,
          0.03995663909110574,
          0.03627158414152847,
          0.036225225504756875,
          0.037188513988929556,
          0.037188513988929556,
          0.03704658883761931,
          0.037068324622321513,
          0.12860151561784477,
          0.12860151561784477,
          0.12860151561784477,
          0.12860151561784477,
          0.12860151561784477,
          0.12860151561784477,
          0.12860151561784477,
          0.12691020594327912,
          0.1270697297754609,
          0.12648544109872503,
          0.12781518709881554,
          0.1285633242144856,
          0.1285633242144856,
          0.13448549604772853,
          0.13083600254482525,
          0.1331613245192999,
          0.1416354559843617,
          0.1433202931459515,
          0.1412115403851664,
          0.13558282819732034,
          0.13291065140593114,
          0.1323077066719288,
          0.13767870680574995,
          0.12141050494454618,
          0.12141050494454618,
          0.1125381433904963,
          0.1125381433904963,
          0.0844972728329619,
          0.0844972728329619,
          0.0844972728329619,
          0.07503357158552679,
          0.07503357158552679,
          0.07503357158552679,
          0.06963914251937334,
          0.04554240030995674,
          0.04554240030995674,
          0.04554240030995674,
          0.044404313988499186,
          0.044404313988499186,
          0.04124769942539564,
          0.03788805531605116,
          0.03788805531605116,
          0.03856528685379366,
          0.03634401891991468,
          0.03479363013122797,
          0.0365571572971867,
          0.03740897550815071,
          0.052974620406462204,
          0.05663632179144997,
          0.0622377806723035,
          0.04554240030995674,
          0.04554240030995674,
          0.04554240030995674,
          0.04554240030995674,
          0.04554240030995674,
          0.04554240030995674,
          0.04554240030995674,
          0.04554240030995674,
          0.04554240030995674,
          0.04554240030995674,
          0.04554240030995674,
          0.04554240030995674,
          0.04554240030995674,
          0.04554240030995674,
          0.04554240030995674,
          0.04554240030995674,
          0.04554240030995674,
          0.04554240030995674,
          0.04554240030995674,
          0.04554240030995674,
          0.04554240030995674,
          0.04554240030995674,
          0.04554240030995674,
          0.04554240030995674,
          0.04554240030995674,
          0.04554240030995674,
          0.04554240030995674,
          0.04554240030995674,
          0.04554240030995674,
          0.04554240030995674,
          0.04554240030995674,
          0.04554240030995674,
          0.04554240030995674,
          0.049279352206086466,
          0.04642563190864277,
          0.04487073005954365,
          0.04487073005954365,
          0.046986065994050794,
          0.04543881029427418,
          0.03690912256305709,
          0.03559867380200826,
          0.03385065162748056,
          0.03427232524614503,
          0.03318486767746068,
          0.02789208212527672,
          0.02344605906010902,
          0.02344605906010902,
          0.023984140780885694,
          0.020066616728720753,
          0.03578086685141332,
          0.041361074415583676,
          0.03528383096913943,
          0.034297472425791654,
          0.03448084764234704,
          0.01627397938015208,
          0.010739733673286789,
          0.010498927271513445,
          0.008079033448444297,
          0.007922918069200684,
          0.006808312715410892,
          0.006237375912688252,
          0.006227704202027672,
          0.006366384199560445,
          0.006052663097702489,
          0.005944343311135991,
          0.006288603475771755,
          0.006304173338206536,
          0.007823505333077714,
          0.00789275193290046,
          0.00985902661729704,
          0.040350884758375616,
          0.05369888682739088,
          0.06542452280090633,
          0.06771303247287527,
          0.06927512779864581,
          0.07013239462376017,
          0.06958859702037763,
          0.06625124310436226,
          0.058852110460447866,
          0.04853941075211121,
          0.04554240030995674,
          0.04818555207234696,
          0.058955167322395155,
          0.06513637896857746,
          0.06704285733590538,
          0.07273884631828412,
          0.07130332192296732,
          0.0721277703216241,
          0.07279011589429003,
          0.06074233938372654,
          0.06059217815317469,
          0.06597779853642113,
          0.060951263210748015,
          0.048011691225064476,
          0.03894479634506691,
          0.0383098137934163,
          0.03671318020192653,
          0.03481636429027093,
          0.03517128337633556,
          0.035115903438404074,
          0.062267726400024266,
          0.062267726400024266,
          0.060397553209733,
          0.07047221031887639,
          0.07439931770781613,
          0.0751494193866161,
          0.0751494193866161,
          0.07508623171133351,
          0.07491283430820259,
          0.07432227131692938,
          0.07432227131692938,
          0.07467400763553811,
          0.07249424600571673,
          0.0488362419009654,
          0.05472307393147855,
          0.0614074625177958,
          0.07701840069598413,
          0.12062287764326231,
          0.1261365068250858,
          0.13938952185713369,
          0.1582838294756484,
          0.15433330169024218,
          0.15433330169024218,
          0.15243389887515935,
          0.15833502168687086,
          0.17266011200170112,
          0.16211376514218137,
          0.16926096620025596,
          0.1775271535210889,
          0.17727303163425667,
          0.19610779600528216,
          0.21038455148761215,
          0.2062431502074532,
          0.22752931188731884,
          0.2209467003875963,
          0.22497738280969568,
          0.228957184802057,
          0.2429450919075894,
          0.2519453212085694,
          0.24124686664945313,
          0.229136715075147,
          0.20165479788593485,
          0.17722148288912404,
          0.174637088875921,
          0.1721551936690096,
          0.1719409371497384,
          0.1719409371497384,
          0.1719409371497384,
          0.1719409371497384,
          0.1724891742875293,
          0.09309555973098002,
          0.08863181883940915,
          0.08593943895643633,
          0.0897389344654932,
          0.0897389344654932,
          0.09651987839726449,
          0.10513663109378817,
          0.10483789126791619,
          0.10382483641806917,
          0.10344255961260221,
          0.0992245800822547,
          0.09863006563836156,
          0.09905956835721123,
          0.106076966520024,
          0.10341690381756197,
          0.10604515804849562,
          0.10065714863144201,
          0.1003668539066649,
          0.10773187693314623,
          0.1055959717243332,
          0.10279360783646223,
          0.1112718587060001,
          0.10995068485791791,
          0.08044912174582022,
          0.07157661159033886,
          0.06335163739089968,
          0.06443317906277025,
          0.06263511258467433,
          0.06194703355123191,
          0.04554240030995674,
          0.058191209059469236,
          0.06135298621610145,
          0.06420853770696495,
          0.06547012386616272,
          0.06527519618382358,
          0.06574827306419928,
          0.06560631219454961,
          0.06581081455120837,
          0.06581081455120837,
          0.06581081455120837,
          0.06423681578906142,
          0.06387748443893562,
          0.06105462875789413,
          0.06105462875789413,
          0.06105462875789413,
          0.06105462875789413,
          0.06358641628029943,
          0.060709882703614895,
          0.058857077493805095,
          0.06750004280499756,
          0.21247215024624028,
          0.21129875277495475,
          0.21129875277495475,
          0.09506975167619663,
          0.09636179415729797,
          0.10047900420692674,
          0.0995937524116408,
          0.09963231274232202,
          0.09710404249813913,
          0.09710404249813913,
          0.09479304106112874,
          0.09158956622190963,
          0.0816797399945207,
          0.08232880837192445,
          0.09172291664398124,
          0.09981063569715483,
          0.09563375106450558,
          0.0961699749657703,
          0.09987309437257037,
          0.09894668539400986,
          0.09579403718799358,
          0.09605159025739235,
          0.09476451599587997,
          0.09568134844324816,
          0.07319751992157039,
          0.06614085311968197,
          0.05772541571091172,
          0.05772541571091172,
          0.055093660237135515,
          0.05547737082704024,
          0.04554240030995674,
          0.048691382356592955,
          0.05092378428209793,
          0.0513720105496751,
          0.0719026964224539,
          0.07483058045409328,
          0.07258491963086659,
          0.06746216073543974,
          0.07088933554058419,
          0.06431162243586915,
          0.06643464400445141,
          0.06744071016342622,
          0.06839887195519176,
          0.06851468621012889,
          0.061661911739430114,
          0.06210698141054294,
          0.0535695548791861,
          0.05196422575030553,
          0.050034242010726045,
          0.050034242010726045,
          0.2213629342899039,
          0.21182666855565277,
          0.20208048048521055,
          0.20094799170605857,
          0.23148474028393404,
          0.23214627917737315,
          0.23214627917737315,
          0.2335698787450486,
          0.25188730483576427,
          0.33263933373557236,
          0.3282284498251727,
          0.40257189204062005,
          0.4151369979629346,
          0.4151369979629346,
          0.39592480437453176,
          0.39592480437453176,
          0.3721237294658688,
          0.3979169700810788,
          0.40162247070792934,
          0.37763741814548063,
          0.3666704375918011,
          0.35045118057961705,
          0.3484115859616468,
          0.3277291523153837,
          0.3097224895514281,
          0.25323535292556487,
          0.13447554575526907,
          0.04554240030995674,
          0.05010629264594368,
          0.049774406085234736,
          0.051581239833073965,
          0.051581239833073965,
          0.050087146795391835,
          0.050087146795391835,
          0.04779509013638864,
          0.045834783734995034,
          0.04693995115704831,
          0.04712075748141169,
          0.04875226568450374,
          0.05251084887826006,
          0.05994832456170808,
          0.06127387602660662,
          0.0610712000612154,
          0.06292577317459112,
          0.06326189588434197,
          0.06265709141089817,
          0.06234874692461422,
          0.06234874692461422,
          0.06234874692461422,
          0.06234733070534941,
          0.03449049440068399,
          0.03449049440068399,
          0.03449049440068399,
          0.03449049440068399,
          0.03449049440068399,
          0.03449049440068399,
          0.03449049440068399,
          0.03449049440068399,
          0.03449049440068399,
          0.03449049440068399,
          0.034312421664080835,
          0.03494379732443482,
          0.03644748076192098,
          0.03784160243032884,
          0.035641404170080354,
          0.041672545460508685,
          0.05103187835230012,
          0.04642645744202954,
          0.2247607217556489,
          0.2794109194024414,
          0.3369368313563757,
          0.5454162467116728,
          0.6287749558677391,
          0.7046850141218788,
          0.7325911337726,
          0.7325911337726,
          0.7253584015886223,
          0.7096117018030736,
          0.7205655652757457,
          0.7205655652757457,
          0.7565014830110008,
          0.7565014830110008,
          0.7465356220436457,
          0.7459897737756203,
          0.7300164758279701,
          0.7300164758279701,
          0.6988400845920228,
          0.6524251455075155,
          0.543859624460641,
          0.4984610460638547,
          0.48921543489194547,
          0.4816188468877097,
          0.40023237313846644,
          0.4367981750059744,
          0.4367981750059744,
          0.1876715877404478,
          0.12093359033713746,
          0.08818354339464045,
          0.07442393700410536,
          0.07106940650751255
         ],
         "xaxis": "x",
         "y": [
          "Ba",
          "Ba",
          "Ba",
          "Ba",
          "Ba",
          "Ba",
          "Ba",
          "Ba",
          "Ba",
          "Ba",
          "Ba",
          "Ba",
          "Ba",
          "Ba",
          "Ba",
          "Ba",
          "Ba",
          "Ba",
          "Ba",
          "Ba",
          "Ba",
          "Ba",
          "Ba",
          "Ba",
          "Ba",
          "Ba",
          "Ba",
          "Ba",
          "Ba",
          "Ba",
          "Ba",
          "Ba",
          "Ba",
          "Ba",
          "Ba",
          "Ba",
          "Ba",
          "Ba",
          "Ba",
          "Ba",
          "Ba",
          "Ba",
          "Ba",
          "Ba",
          "Ba",
          "Ba",
          "Ba",
          "Ba",
          "Ba",
          "Ba",
          "K",
          "K",
          "K",
          "K",
          "K",
          "K",
          "K",
          "K",
          "K",
          "K",
          "K",
          "K",
          "K",
          "K",
          "K",
          "K",
          "K",
          "K",
          "K",
          "K",
          "K",
          "K",
          "K",
          "K",
          "K",
          "K",
          "K",
          "K",
          "K",
          "K",
          "K",
          "K",
          "K",
          "K",
          "K",
          "K",
          "K",
          "K",
          "K",
          "K",
          "K",
          "K",
          "K",
          "K",
          "K",
          "K",
          "K",
          "K",
          "K",
          "K",
          "Fe",
          "Fe",
          "Fe",
          "Fe",
          "Fe",
          "Fe",
          "Fe",
          "Fe",
          "Fe",
          "Fe",
          "Fe",
          "Fe",
          "Fe",
          "Fe",
          "Fe",
          "Fe",
          "Fe",
          "Fe",
          "Fe",
          "Fe",
          "Fe",
          "Fe",
          "Fe",
          "Fe",
          "Fe",
          "Fe",
          "Fe",
          "Fe",
          "Fe",
          "Fe",
          "Fe",
          "Fe",
          "Fe",
          "Fe",
          "Fe",
          "Fe",
          "Fe",
          "Fe",
          "Fe",
          "Fe",
          "Fe",
          "Fe",
          "Fe",
          "Fe",
          "Fe",
          "Fe",
          "Fe",
          "Fe",
          "Fe",
          "Fe",
          "RI",
          "RI",
          "RI",
          "RI",
          "RI",
          "RI",
          "RI",
          "RI",
          "RI",
          "RI",
          "RI",
          "RI",
          "RI",
          "RI",
          "RI",
          "RI",
          "RI",
          "RI",
          "RI",
          "RI",
          "RI",
          "RI",
          "RI",
          "RI",
          "RI",
          "RI",
          "RI",
          "RI",
          "RI",
          "RI",
          "RI",
          "RI",
          "RI",
          "RI",
          "RI",
          "RI",
          "RI",
          "RI",
          "RI",
          "RI",
          "RI",
          "RI",
          "RI",
          "RI",
          "RI",
          "RI",
          "RI",
          "RI",
          "RI",
          "RI",
          "Na",
          "Na",
          "Na",
          "Na",
          "Na",
          "Na",
          "Na",
          "Na",
          "Na",
          "Na",
          "Na",
          "Na",
          "Na",
          "Na",
          "Na",
          "Na",
          "Na",
          "Na",
          "Na",
          "Na",
          "Na",
          "Na",
          "Na",
          "Na",
          "Na",
          "Na",
          "Na",
          "Na",
          "Na",
          "Na",
          "Na",
          "Na",
          "Na",
          "Na",
          "Na",
          "Na",
          "Na",
          "Na",
          "Na",
          "Na",
          "Na",
          "Na",
          "Na",
          "Na",
          "Na",
          "Na",
          "Na",
          "Na",
          "Na",
          "Na",
          "Si",
          "Si",
          "Si",
          "Si",
          "Si",
          "Si",
          "Si",
          "Si",
          "Si",
          "Si",
          "Si",
          "Si",
          "Si",
          "Si",
          "Si",
          "Si",
          "Si",
          "Si",
          "Si",
          "Si",
          "Si",
          "Si",
          "Si",
          "Si",
          "Si",
          "Si",
          "Si",
          "Si",
          "Si",
          "Si",
          "Si",
          "Si",
          "Si",
          "Si",
          "Si",
          "Si",
          "Si",
          "Si",
          "Si",
          "Si",
          "Si",
          "Si",
          "Si",
          "Si",
          "Si",
          "Si",
          "Si",
          "Si",
          "Si",
          "Si",
          "Ca",
          "Ca",
          "Ca",
          "Ca",
          "Ca",
          "Ca",
          "Ca",
          "Ca",
          "Ca",
          "Ca",
          "Ca",
          "Ca",
          "Ca",
          "Ca",
          "Ca",
          "Ca",
          "Ca",
          "Ca",
          "Ca",
          "Ca",
          "Ca",
          "Ca",
          "Ca",
          "Ca",
          "Ca",
          "Ca",
          "Ca",
          "Ca",
          "Ca",
          "Ca",
          "Ca",
          "Ca",
          "Ca",
          "Ca",
          "Ca",
          "Ca",
          "Ca",
          "Ca",
          "Ca",
          "Ca",
          "Ca",
          "Ca",
          "Ca",
          "Ca",
          "Ca",
          "Ca",
          "Ca",
          "Ca",
          "Ca",
          "Ca",
          "Al",
          "Al",
          "Al",
          "Al",
          "Al",
          "Al",
          "Al",
          "Al",
          "Al",
          "Al",
          "Al",
          "Al",
          "Al",
          "Al",
          "Al",
          "Al",
          "Al",
          "Al",
          "Al",
          "Al",
          "Al",
          "Al",
          "Al",
          "Al",
          "Al",
          "Al",
          "Al",
          "Al",
          "Al",
          "Al",
          "Al",
          "Al",
          "Al",
          "Al",
          "Al",
          "Al",
          "Al",
          "Al",
          "Al",
          "Al",
          "Al",
          "Al",
          "Al",
          "Al",
          "Al",
          "Al",
          "Al",
          "Al",
          "Al",
          "Al",
          "Mg",
          "Mg",
          "Mg",
          "Mg",
          "Mg",
          "Mg",
          "Mg",
          "Mg",
          "Mg",
          "Mg",
          "Mg",
          "Mg",
          "Mg",
          "Mg",
          "Mg",
          "Mg",
          "Mg",
          "Mg",
          "Mg",
          "Mg",
          "Mg",
          "Mg",
          "Mg",
          "Mg",
          "Mg",
          "Mg",
          "Mg",
          "Mg",
          "Mg",
          "Mg",
          "Mg",
          "Mg",
          "Mg",
          "Mg",
          "Mg",
          "Mg",
          "Mg",
          "Mg",
          "Mg",
          "Mg",
          "Mg",
          "Mg",
          "Mg",
          "Mg",
          "Mg",
          "Mg",
          "Mg",
          "Mg",
          "Mg",
          "Mg"
         ],
         "yaxis": "y"
        }
       ],
       "layout": {
        "coloraxis": {
         "colorbar": {
          "title": {
           "text": "quantile"
          }
         },
         "colorscale": [
          [
           0,
           "royalblue"
          ],
          [
           1,
           "red"
          ]
         ]
        },
        "legend": {
         "itemsizing": "constant",
         "tracegroupgap": 0
        },
        "shapes": [
         {
          "line": {
           "color": "blue",
           "dash": "dash",
           "width": 2
          },
          "type": "line",
          "x0": 0.04554240030995674,
          "x1": 0.04554240030995674,
          "y0": "Ba",
          "y1": "Mg"
         }
        ],
        "template": {
         "data": {
          "bar": [
           {
            "error_x": {
             "color": "#2a3f5f"
            },
            "error_y": {
             "color": "#2a3f5f"
            },
            "marker": {
             "line": {
              "color": "#E5ECF6",
              "width": 0.5
             },
             "pattern": {
              "fillmode": "overlay",
              "size": 10,
              "solidity": 0.2
             }
            },
            "type": "bar"
           }
          ],
          "barpolar": [
           {
            "marker": {
             "line": {
              "color": "#E5ECF6",
              "width": 0.5
             },
             "pattern": {
              "fillmode": "overlay",
              "size": 10,
              "solidity": 0.2
             }
            },
            "type": "barpolar"
           }
          ],
          "carpet": [
           {
            "aaxis": {
             "endlinecolor": "#2a3f5f",
             "gridcolor": "white",
             "linecolor": "white",
             "minorgridcolor": "white",
             "startlinecolor": "#2a3f5f"
            },
            "baxis": {
             "endlinecolor": "#2a3f5f",
             "gridcolor": "white",
             "linecolor": "white",
             "minorgridcolor": "white",
             "startlinecolor": "#2a3f5f"
            },
            "type": "carpet"
           }
          ],
          "choropleth": [
           {
            "colorbar": {
             "outlinewidth": 0,
             "ticks": ""
            },
            "type": "choropleth"
           }
          ],
          "contour": [
           {
            "colorbar": {
             "outlinewidth": 0,
             "ticks": ""
            },
            "colorscale": [
             [
              0,
              "#0d0887"
             ],
             [
              0.1111111111111111,
              "#46039f"
             ],
             [
              0.2222222222222222,
              "#7201a8"
             ],
             [
              0.3333333333333333,
              "#9c179e"
             ],
             [
              0.4444444444444444,
              "#bd3786"
             ],
             [
              0.5555555555555556,
              "#d8576b"
             ],
             [
              0.6666666666666666,
              "#ed7953"
             ],
             [
              0.7777777777777778,
              "#fb9f3a"
             ],
             [
              0.8888888888888888,
              "#fdca26"
             ],
             [
              1,
              "#f0f921"
             ]
            ],
            "type": "contour"
           }
          ],
          "contourcarpet": [
           {
            "colorbar": {
             "outlinewidth": 0,
             "ticks": ""
            },
            "type": "contourcarpet"
           }
          ],
          "heatmap": [
           {
            "colorbar": {
             "outlinewidth": 0,
             "ticks": ""
            },
            "colorscale": [
             [
              0,
              "#0d0887"
             ],
             [
              0.1111111111111111,
              "#46039f"
             ],
             [
              0.2222222222222222,
              "#7201a8"
             ],
             [
              0.3333333333333333,
              "#9c179e"
             ],
             [
              0.4444444444444444,
              "#bd3786"
             ],
             [
              0.5555555555555556,
              "#d8576b"
             ],
             [
              0.6666666666666666,
              "#ed7953"
             ],
             [
              0.7777777777777778,
              "#fb9f3a"
             ],
             [
              0.8888888888888888,
              "#fdca26"
             ],
             [
              1,
              "#f0f921"
             ]
            ],
            "type": "heatmap"
           }
          ],
          "heatmapgl": [
           {
            "colorbar": {
             "outlinewidth": 0,
             "ticks": ""
            },
            "colorscale": [
             [
              0,
              "#0d0887"
             ],
             [
              0.1111111111111111,
              "#46039f"
             ],
             [
              0.2222222222222222,
              "#7201a8"
             ],
             [
              0.3333333333333333,
              "#9c179e"
             ],
             [
              0.4444444444444444,
              "#bd3786"
             ],
             [
              0.5555555555555556,
              "#d8576b"
             ],
             [
              0.6666666666666666,
              "#ed7953"
             ],
             [
              0.7777777777777778,
              "#fb9f3a"
             ],
             [
              0.8888888888888888,
              "#fdca26"
             ],
             [
              1,
              "#f0f921"
             ]
            ],
            "type": "heatmapgl"
           }
          ],
          "histogram": [
           {
            "marker": {
             "pattern": {
              "fillmode": "overlay",
              "size": 10,
              "solidity": 0.2
             }
            },
            "type": "histogram"
           }
          ],
          "histogram2d": [
           {
            "colorbar": {
             "outlinewidth": 0,
             "ticks": ""
            },
            "colorscale": [
             [
              0,
              "#0d0887"
             ],
             [
              0.1111111111111111,
              "#46039f"
             ],
             [
              0.2222222222222222,
              "#7201a8"
             ],
             [
              0.3333333333333333,
              "#9c179e"
             ],
             [
              0.4444444444444444,
              "#bd3786"
             ],
             [
              0.5555555555555556,
              "#d8576b"
             ],
             [
              0.6666666666666666,
              "#ed7953"
             ],
             [
              0.7777777777777778,
              "#fb9f3a"
             ],
             [
              0.8888888888888888,
              "#fdca26"
             ],
             [
              1,
              "#f0f921"
             ]
            ],
            "type": "histogram2d"
           }
          ],
          "histogram2dcontour": [
           {
            "colorbar": {
             "outlinewidth": 0,
             "ticks": ""
            },
            "colorscale": [
             [
              0,
              "#0d0887"
             ],
             [
              0.1111111111111111,
              "#46039f"
             ],
             [
              0.2222222222222222,
              "#7201a8"
             ],
             [
              0.3333333333333333,
              "#9c179e"
             ],
             [
              0.4444444444444444,
              "#bd3786"
             ],
             [
              0.5555555555555556,
              "#d8576b"
             ],
             [
              0.6666666666666666,
              "#ed7953"
             ],
             [
              0.7777777777777778,
              "#fb9f3a"
             ],
             [
              0.8888888888888888,
              "#fdca26"
             ],
             [
              1,
              "#f0f921"
             ]
            ],
            "type": "histogram2dcontour"
           }
          ],
          "mesh3d": [
           {
            "colorbar": {
             "outlinewidth": 0,
             "ticks": ""
            },
            "type": "mesh3d"
           }
          ],
          "parcoords": [
           {
            "line": {
             "colorbar": {
              "outlinewidth": 0,
              "ticks": ""
             }
            },
            "type": "parcoords"
           }
          ],
          "pie": [
           {
            "automargin": true,
            "type": "pie"
           }
          ],
          "scatter": [
           {
            "fillpattern": {
             "fillmode": "overlay",
             "size": 10,
             "solidity": 0.2
            },
            "type": "scatter"
           }
          ],
          "scatter3d": [
           {
            "line": {
             "colorbar": {
              "outlinewidth": 0,
              "ticks": ""
             }
            },
            "marker": {
             "colorbar": {
              "outlinewidth": 0,
              "ticks": ""
             }
            },
            "type": "scatter3d"
           }
          ],
          "scattercarpet": [
           {
            "marker": {
             "colorbar": {
              "outlinewidth": 0,
              "ticks": ""
             }
            },
            "type": "scattercarpet"
           }
          ],
          "scattergeo": [
           {
            "marker": {
             "colorbar": {
              "outlinewidth": 0,
              "ticks": ""
             }
            },
            "type": "scattergeo"
           }
          ],
          "scattergl": [
           {
            "marker": {
             "colorbar": {
              "outlinewidth": 0,
              "ticks": ""
             }
            },
            "type": "scattergl"
           }
          ],
          "scattermapbox": [
           {
            "marker": {
             "colorbar": {
              "outlinewidth": 0,
              "ticks": ""
             }
            },
            "type": "scattermapbox"
           }
          ],
          "scatterpolar": [
           {
            "marker": {
             "colorbar": {
              "outlinewidth": 0,
              "ticks": ""
             }
            },
            "type": "scatterpolar"
           }
          ],
          "scatterpolargl": [
           {
            "marker": {
             "colorbar": {
              "outlinewidth": 0,
              "ticks": ""
             }
            },
            "type": "scatterpolargl"
           }
          ],
          "scatterternary": [
           {
            "marker": {
             "colorbar": {
              "outlinewidth": 0,
              "ticks": ""
             }
            },
            "type": "scatterternary"
           }
          ],
          "surface": [
           {
            "colorbar": {
             "outlinewidth": 0,
             "ticks": ""
            },
            "colorscale": [
             [
              0,
              "#0d0887"
             ],
             [
              0.1111111111111111,
              "#46039f"
             ],
             [
              0.2222222222222222,
              "#7201a8"
             ],
             [
              0.3333333333333333,
              "#9c179e"
             ],
             [
              0.4444444444444444,
              "#bd3786"
             ],
             [
              0.5555555555555556,
              "#d8576b"
             ],
             [
              0.6666666666666666,
              "#ed7953"
             ],
             [
              0.7777777777777778,
              "#fb9f3a"
             ],
             [
              0.8888888888888888,
              "#fdca26"
             ],
             [
              1,
              "#f0f921"
             ]
            ],
            "type": "surface"
           }
          ],
          "table": [
           {
            "cells": {
             "fill": {
              "color": "#EBF0F8"
             },
             "line": {
              "color": "white"
             }
            },
            "header": {
             "fill": {
              "color": "#C8D4E3"
             },
             "line": {
              "color": "white"
             }
            },
            "type": "table"
           }
          ]
         },
         "layout": {
          "annotationdefaults": {
           "arrowcolor": "#2a3f5f",
           "arrowhead": 0,
           "arrowwidth": 1
          },
          "autotypenumbers": "strict",
          "coloraxis": {
           "colorbar": {
            "outlinewidth": 0,
            "ticks": ""
           }
          },
          "colorscale": {
           "diverging": [
            [
             0,
             "#8e0152"
            ],
            [
             0.1,
             "#c51b7d"
            ],
            [
             0.2,
             "#de77ae"
            ],
            [
             0.3,
             "#f1b6da"
            ],
            [
             0.4,
             "#fde0ef"
            ],
            [
             0.5,
             "#f7f7f7"
            ],
            [
             0.6,
             "#e6f5d0"
            ],
            [
             0.7,
             "#b8e186"
            ],
            [
             0.8,
             "#7fbc41"
            ],
            [
             0.9,
             "#4d9221"
            ],
            [
             1,
             "#276419"
            ]
           ],
           "sequential": [
            [
             0,
             "#0d0887"
            ],
            [
             0.1111111111111111,
             "#46039f"
            ],
            [
             0.2222222222222222,
             "#7201a8"
            ],
            [
             0.3333333333333333,
             "#9c179e"
            ],
            [
             0.4444444444444444,
             "#bd3786"
            ],
            [
             0.5555555555555556,
             "#d8576b"
            ],
            [
             0.6666666666666666,
             "#ed7953"
            ],
            [
             0.7777777777777778,
             "#fb9f3a"
            ],
            [
             0.8888888888888888,
             "#fdca26"
            ],
            [
             1,
             "#f0f921"
            ]
           ],
           "sequentialminus": [
            [
             0,
             "#0d0887"
            ],
            [
             0.1111111111111111,
             "#46039f"
            ],
            [
             0.2222222222222222,
             "#7201a8"
            ],
            [
             0.3333333333333333,
             "#9c179e"
            ],
            [
             0.4444444444444444,
             "#bd3786"
            ],
            [
             0.5555555555555556,
             "#d8576b"
            ],
            [
             0.6666666666666666,
             "#ed7953"
            ],
            [
             0.7777777777777778,
             "#fb9f3a"
            ],
            [
             0.8888888888888888,
             "#fdca26"
            ],
            [
             1,
             "#f0f921"
            ]
           ]
          },
          "colorway": [
           "#636efa",
           "#EF553B",
           "#00cc96",
           "#ab63fa",
           "#FFA15A",
           "#19d3f3",
           "#FF6692",
           "#B6E880",
           "#FF97FF",
           "#FECB52"
          ],
          "font": {
           "color": "#2a3f5f"
          },
          "geo": {
           "bgcolor": "white",
           "lakecolor": "white",
           "landcolor": "#E5ECF6",
           "showlakes": true,
           "showland": true,
           "subunitcolor": "white"
          },
          "hoverlabel": {
           "align": "left"
          },
          "hovermode": "closest",
          "mapbox": {
           "style": "light"
          },
          "paper_bgcolor": "white",
          "plot_bgcolor": "#E5ECF6",
          "polar": {
           "angularaxis": {
            "gridcolor": "white",
            "linecolor": "white",
            "ticks": ""
           },
           "bgcolor": "#E5ECF6",
           "radialaxis": {
            "gridcolor": "white",
            "linecolor": "white",
            "ticks": ""
           }
          },
          "scene": {
           "xaxis": {
            "backgroundcolor": "#E5ECF6",
            "gridcolor": "white",
            "gridwidth": 2,
            "linecolor": "white",
            "showbackground": true,
            "ticks": "",
            "zerolinecolor": "white"
           },
           "yaxis": {
            "backgroundcolor": "#E5ECF6",
            "gridcolor": "white",
            "gridwidth": 2,
            "linecolor": "white",
            "showbackground": true,
            "ticks": "",
            "zerolinecolor": "white"
           },
           "zaxis": {
            "backgroundcolor": "#E5ECF6",
            "gridcolor": "white",
            "gridwidth": 2,
            "linecolor": "white",
            "showbackground": true,
            "ticks": "",
            "zerolinecolor": "white"
           }
          },
          "shapedefaults": {
           "line": {
            "color": "#2a3f5f"
           }
          },
          "ternary": {
           "aaxis": {
            "gridcolor": "white",
            "linecolor": "white",
            "ticks": ""
           },
           "baxis": {
            "gridcolor": "white",
            "linecolor": "white",
            "ticks": ""
           },
           "bgcolor": "#E5ECF6",
           "caxis": {
            "gridcolor": "white",
            "linecolor": "white",
            "ticks": ""
           }
          },
          "title": {
           "x": 0.05
          },
          "xaxis": {
           "automargin": true,
           "gridcolor": "white",
           "linecolor": "white",
           "ticks": "",
           "title": {
            "standoff": 15
           },
           "zerolinecolor": "white",
           "zerolinewidth": 2
          },
          "yaxis": {
           "automargin": true,
           "gridcolor": "white",
           "linecolor": "white",
           "ticks": "",
           "title": {
            "standoff": 15
           },
           "zerolinecolor": "white",
           "zerolinewidth": 2
          }
         }
        },
        "title": {
         "text": "Local AcME: observation ID 100. Predicted: 0.046 ( label_class : 1 )",
         "x": 0.5,
         "xanchor": "center",
         "y": 0.9,
         "yanchor": "top"
        },
        "xaxis": {
         "anchor": "y",
         "domain": [
          0,
          1
         ],
         "title": {
          "text": "prediction"
         }
        },
        "yaxis": {
         "anchor": "x",
         "domain": [
          0,
          1
         ],
         "title": {
          "text": "Feature"
         }
        }
       }
      },
      "text/html": [
       "<div>                            <div id=\"23597b15-8dd8-4812-a776-b2665ab73f14\" class=\"plotly-graph-div\" style=\"height:525px; width:100%;\"></div>            <script type=\"text/javascript\">                require([\"plotly\"], function(Plotly) {                    window.PLOTLYENV=window.PLOTLYENV || {};                                    if (document.getElementById(\"23597b15-8dd8-4812-a776-b2665ab73f14\")) {                    Plotly.newPlot(                        \"23597b15-8dd8-4812-a776-b2665ab73f14\",                        [{\"customdata\":[[0.0],[0.0],[0.0],[0.0],[0.0],[0.0],[0.0],[0.0],[0.0],[0.0],[0.0],[0.0],[0.0],[0.0],[0.0],[0.0],[0.0],[0.0],[0.0],[0.0],[0.0],[0.0],[0.0],[0.0],[0.0],[0.0],[0.0],[0.0],[0.0],[0.0],[0.0],[0.0],[0.0],[0.0],[0.0],[0.0],[0.0],[0.0],[0.0],[0.0],[0.0],[0.09775510204081626],[0.21428571428571244],[0.5408163265306121],[0.64],[0.7385714285714274],[1.3834693877551012],[1.59],[1.676734693877551],[3.15],[0.0],[0.0],[0.0],[0.0],[0.0],[0.0],[0.0],[0.022857142857142847],[0.056122448979591795],[0.07938775510204081],[0.09],[0.11],[0.12],[0.1424489795918367],[0.17571428571428568],[0.22591836734693857],[0.3222448979591836],[0.37551020408163266],[0.39],[0.47204081632653055],[0.51],[0.52],[0.54],[0.5451020408163265],[0.55],[0.56],[0.56],[0.5681632653061223],[0.57],[0.57],[0.58],[0.58],[0.5844897959183671],[0.59],[0.6],[0.6],[0.6],[0.61],[0.6140816326530611],[0.62],[0.64],[0.64],[0.65],[0.67],[0.68],[0.69],[0.720204081632653],[0.8655102040816292],[1.60816326530612],[6.21],[0.0],[0.0],[0.0],[0.0],[0.0],[0.0],[0.0],[0.0],[0.0],[0.0],[0.0],[0.0],[0.0],[0.0],[0.0],[0.0],[0.0],[0.0],[0.0],[0.0],[0.0],[0.0],[0.0],[0.0],[0.0],[0.0],[0.0],[0.0],[0.0],[0.0],[0.0],[0.0],[0.0],[0.007755102040816269],[0.07],[0.08428571428571416],[0.09],[0.1],[0.11],[0.12],[0.15],[0.16387755102040813],[0.17],[0.19],[0.22],[0.24],[0.240204081632653],[0.28],[0.31673469387755093],[0.51],[1.51115],[1.5131763265306122],[1.51514],[1.515667755102041],[1.5158830612244898],[1.5159126530612244],[1.5159591836734694],[1.5160928571428571],[1.5161544897959183],[1.51623],[1.5163338775510204],[1.51645],[1.516505918367347],[1.5165573469387756],[1.5166414285714285],[1.51672693877551],[1.5168544897959184],[1.5170116326530612],[1.51711],[1.5172761224489795],[1.517391836734694],[1.5174785714285715],[1.51754],[1.5175855102040816],[1.517638367346939],[1.51769],[1.5177848979591837],[1.51784],[1.5179342857142857],[1.5180693877551021],[1.5181697959183673],[1.5182924489795917],[1.5183844897959184],[1.5184555102040815],[1.5185281632653063],[1.518897142857143],[1.51905],[1.5191616326530613],[1.5194883673469388],[1.5198948979591838],[1.520651836734694],[1.5211977551020408],[1.52152],[1.5217220408163266],[1.5221036734693878],[1.52222693877551],[1.5231510204081633],[1.5243255102040816],[1.527060612244898],[1.53393],[10.73],[11.485918367346938],[12.26530612244898],[12.559795918367348],[12.64],[12.686326530612245],[12.729591836734695],[12.782857142857143],[12.806122448979592],[12.838775510204082],[12.852653061224489],[12.865918367346938],[12.889183673469388],[12.932448979591836],[12.985714285714286],[13.0],[13.02],[13.031020408163265],[13.088775510204082],[13.124081632653061],[13.19],[13.20857142857143],[13.213673469387755],[13.24],[13.27],[13.31326530612245],[13.334897959183673],[13.38],[13.41],[13.43469387755102],[13.475918367346939],[13.501224489795918],[13.554489795918368],[13.64],[13.691020408163265],[13.72],[13.787551020408163],[13.870816326530612],[13.908163265306122],[14.007346938775509],[14.14],[14.193877551020407],[14.244285714285715],[14.360408163265305],[14.393673469387755],[14.56],[14.801020408163266],[14.88081632653061],[14.976938775510204],[17.38],[69.81],[70.44632653061225],[71.20877551020408],[71.36],[71.7530612244898],[71.7826530612245],[71.86755102040817],[71.96857142857142],[72.01612244897959],[72.07877551020408],[72.18],[72.21183673469388],[72.27836734693878],[72.33244897959183],[72.38],[72.43591836734694],[72.50224489795919],[72.54551020408164],[72.61],[72.65],[72.67],[72.71714285714286],[72.73183673469389],[72.75],[72.77836734693878],[72.81326530612245],[72.84489795918367],[72.86],[72.87],[72.90408163265306],[72.95795918367347],[72.97],[72.99],[73.0],[73.02],[73.04428571428572],[73.07755102040817],[73.1],[73.11],[73.13469387755102],[73.20061224489797],[73.23],[73.25714285714287],[73.28],[73.29367346938776],[73.39],[73.4604081632653],[73.64122448979592],[73.85714285714285],[75.41],[5.43],[6.741428571428571],[7.5102040816326525],[7.859387755102041],[7.912244897959184],[7.97],[8.03],[8.042857142857143],[8.076122448979591],[8.1],[8.127959183673468],[8.21],[8.229183673469388],[8.272448979591836],[8.315714285714286],[8.348979591836734],[8.39],[8.405510204081633],[8.43],[8.44],[8.49530612244898],[8.528571428571428],[8.541836734693877],[8.56],[8.59],[8.61],[8.659795918367347],[8.68],[8.715714285714286],[8.76469387755102],[8.79],[8.83],[8.894489795918368],[8.945510204081632],[9.00204081632653],[9.064285714285715],[9.137551020408164],[9.232448979591837],[9.414081632653062],[9.56204081632653],[9.612448979591836],[9.747755102040816],[9.84142857142857],[10.021632653061223],[10.313265306122439],[11.09408163265306],[11.412244897959184],[11.848163265306109],[13.394285714285713],[16.19],[0.29],[0.5263265306122449],[0.656530612244898],[0.7493877551020408],[0.7991836734693877],[0.87],[0.9],[1.052857142857143],[1.11],[1.12],[1.1526530612244896],[1.1759183673469387],[1.19],[1.1924489795918367],[1.2257142857142858],[1.23],[1.25],[1.2655102040816326],[1.28],[1.29],[1.3],[1.3185714285714285],[1.33],[1.35],[1.36],[1.38],[1.41],[1.43],[1.4528571428571426],[1.48],[1.5059183673469385],[1.5212244897959182],[1.54],[1.54],[1.56],[1.5742857142857143],[1.62],[1.630816326530612],[1.6781632653061223],[1.74],[1.7906122448979591],[1.8238775510204082],[1.877142857142857],[1.99],[2.06734693877551],[2.113877551020408],[2.271428571428571],[2.5204081632653055],[2.7736734693877545],[3.5],[0.0],[0.0],[0.0],[0.0],[0.0],[0.0],[0.0],[0.0],[0.0],[0.0],[0.8410204081632645],[1.7277551020408162],[1.8775510204081631],[2.249795918367347],[2.697142857142857],[2.836938775510204],[2.9134693877551014],[3.1910204081632654],[3.33],[3.3520408163265305],[3.3953061224489796],[3.4185714285714286],[3.441836734693877],[3.4651020408163267],[3.48],[3.48],[3.49],[3.5],[3.52],[3.5246938775510204],[3.54],[3.54],[3.554489795918367],[3.5677551020408163],[3.58],[3.58],[3.59],[3.6008163265306123],[3.614081632653061],[3.62],[3.65],[3.66],[3.677142857142857],[3.720408163265306],[3.743673469387755],[3.776938775510204],[3.820204081632653],[3.853469387755102],[3.9],[3.98]],\"hovertemplate\":\"prediction=%{x}<br>Feature=%{y}<br>size=%{marker.size}<br>original=%{customdata[0]}<br>quantile=%{marker.color}<extra></extra>\",\"legendgroup\":\"\",\"marker\":{\"color\":[0.0,0.4693877551020408,0.5102040816326531,0.5306122448979591,0.5510204081632653,0.5714285714285714,0.5918367346938775,0.6122448979591836,0.6326530612244897,0.6530612244897959,0.673469387755102,0.6938775510204082,0.7142857142857142,0.7346938775510203,0.7551020408163265,0.7755102040816326,0.7959183673469387,0.8163265306122448,0.44897959183673464,0.42857142857142855,0.4897959183673469,0.3877551020408163,0.02040816326530612,0.04081632653061224,0.061224489795918366,0.08163265306122448,0.1020408163265306,0.4081632653061224,0.14285714285714285,0.16326530612244897,0.18367346938775508,0.12244897959183673,0.22448979591836732,0.2040816326530612,0.3469387755102041,0.32653061224489793,0.36734693877551017,0.2857142857142857,0.26530612244897955,0.24489795918367346,0.3061224489795918,0.836734693877551,0.8571428571428571,0.8775510204081632,0.8979591836734693,0.9183673469387754,0.9387755102040816,0.9591836734693877,0.9795918367346939,1.0,0.0,0.02040816326530612,0.04081632653061224,0.061224489795918366,0.08163265306122448,0.1020408163265306,0.12244897959183673,0.14285714285714285,0.16326530612244897,0.18367346938775508,0.2040816326530612,0.22448979591836732,0.24489795918367346,0.26530612244897955,0.2857142857142857,0.3061224489795918,0.32653061224489793,0.3469387755102041,0.36734693877551017,0.3877551020408163,0.4081632653061224,0.42857142857142855,0.44897959183673464,0.4693877551020408,0.4897959183673469,0.5102040816326531,0.5306122448979591,0.5510204081632653,0.5714285714285714,0.5918367346938775,0.6122448979591836,0.6326530612244897,0.6530612244897959,0.673469387755102,0.6938775510204082,0.7142857142857142,0.7346938775510203,0.7551020408163265,0.7755102040816326,0.7959183673469387,0.8163265306122448,0.836734693877551,0.8571428571428571,0.8775510204081632,0.8979591836734693,0.9183673469387754,0.9387755102040816,0.9591836734693877,0.9795918367346939,1.0,0.0,0.6530612244897959,0.6326530612244897,0.6122448979591836,0.5918367346938775,0.5714285714285714,0.5510204081632653,0.5306122448979591,0.5102040816326531,0.4693877551020408,0.44897959183673464,0.42857142857142855,0.4081632653061224,0.3877551020408163,0.36734693877551017,0.3469387755102041,0.4897959183673469,0.3061224489795918,0.2857142857142857,0.26530612244897955,0.24489795918367346,0.22448979591836732,0.2040816326530612,0.18367346938775508,0.32653061224489793,0.16326530612244897,0.14285714285714285,0.12244897959183673,0.1020408163265306,0.08163265306122448,0.061224489795918366,0.04081632653061224,0.02040816326530612,0.673469387755102,0.6938775510204082,0.7142857142857142,0.7346938775510203,0.7551020408163265,0.7755102040816326,0.7959183673469387,0.8163265306122448,0.836734693877551,0.8571428571428571,0.8775510204081632,0.8979591836734693,0.9183673469387754,0.9387755102040816,0.9591836734693877,0.9795918367346939,1.0,0.0,0.02040816326530612,0.04081632653061224,0.061224489795918366,0.08163265306122448,0.1020408163265306,0.12244897959183673,0.14285714285714285,0.16326530612244897,0.18367346938775508,0.2040816326530612,0.22448979591836732,0.24489795918367346,0.26530612244897955,0.2857142857142857,0.3061224489795918,0.32653061224489793,0.3469387755102041,0.36734693877551017,0.3877551020408163,0.4081632653061224,0.42857142857142855,0.44897959183673464,0.4693877551020408,0.4897959183673469,0.5102040816326531,0.5306122448979591,0.5510204081632653,0.5714285714285714,0.5918367346938775,0.6122448979591836,0.6326530612244897,0.6530612244897959,0.673469387755102,0.6938775510204082,0.7142857142857142,0.7346938775510203,0.7551020408163265,0.7755102040816326,0.7959183673469387,0.8163265306122448,0.836734693877551,0.8571428571428571,0.8775510204081632,0.8979591836734693,0.9183673469387754,0.9387755102040816,0.9591836734693877,0.9795918367346939,1.0,0.0,0.02040816326530612,0.04081632653061224,0.061224489795918366,0.08163265306122448,0.1020408163265306,0.12244897959183673,0.14285714285714285,0.16326530612244897,0.18367346938775508,0.2040816326530612,0.22448979591836732,0.24489795918367346,0.26530612244897955,0.2857142857142857,0.3061224489795918,0.32653061224489793,0.3469387755102041,0.36734693877551017,0.3877551020408163,0.4081632653061224,0.42857142857142855,0.44897959183673464,0.4693877551020408,0.4897959183673469,0.5102040816326531,0.5306122448979591,0.5510204081632653,0.5714285714285714,0.5918367346938775,0.6122448979591836,0.6326530612244897,0.6530612244897959,0.673469387755102,0.6938775510204082,0.7142857142857142,0.7346938775510203,0.7551020408163265,0.7755102040816326,0.7959183673469387,0.8163265306122448,0.836734693877551,0.8571428571428571,0.8775510204081632,0.8979591836734693,0.9183673469387754,0.9387755102040816,0.9591836734693877,0.9795918367346939,1.0,0.0,0.02040816326530612,0.04081632653061224,0.061224489795918366,0.08163265306122448,0.1020408163265306,0.12244897959183673,0.14285714285714285,0.16326530612244897,0.18367346938775508,0.2040816326530612,0.22448979591836732,0.24489795918367346,0.26530612244897955,0.2857142857142857,0.3061224489795918,0.32653061224489793,0.3469387755102041,0.36734693877551017,0.3877551020408163,0.4081632653061224,0.42857142857142855,0.44897959183673464,0.4693877551020408,0.4897959183673469,0.5102040816326531,0.5306122448979591,0.5510204081632653,0.5714285714285714,0.5918367346938775,0.6122448979591836,0.6326530612244897,0.6530612244897959,0.673469387755102,0.6938775510204082,0.7142857142857142,0.7346938775510203,0.7551020408163265,0.7755102040816326,0.7959183673469387,0.8163265306122448,0.836734693877551,0.8571428571428571,0.8775510204081632,0.8979591836734693,0.9183673469387754,0.9387755102040816,0.9591836734693877,0.9795918367346939,1.0,0.0,0.02040816326530612,0.04081632653061224,0.061224489795918366,0.08163265306122448,0.1020408163265306,0.12244897959183673,0.14285714285714285,0.16326530612244897,0.18367346938775508,0.2040816326530612,0.22448979591836732,0.24489795918367346,0.26530612244897955,0.2857142857142857,0.3061224489795918,0.32653061224489793,0.3469387755102041,0.36734693877551017,0.3877551020408163,0.4081632653061224,0.42857142857142855,0.44897959183673464,0.4693877551020408,0.4897959183673469,0.5102040816326531,0.5306122448979591,0.5510204081632653,0.5714285714285714,0.5918367346938775,0.6122448979591836,0.6326530612244897,0.6530612244897959,0.673469387755102,0.6938775510204082,0.7142857142857142,0.7346938775510203,0.7551020408163265,0.7755102040816326,0.7959183673469387,0.8163265306122448,0.836734693877551,0.8571428571428571,0.8775510204081632,0.8979591836734693,0.9183673469387754,0.9387755102040816,0.9591836734693877,0.9795918367346939,1.0,0.0,0.02040816326530612,0.04081632653061224,0.061224489795918366,0.08163265306122448,0.1020408163265306,0.12244897959183673,0.14285714285714285,0.16326530612244897,0.18367346938775508,0.2040816326530612,0.22448979591836732,0.24489795918367346,0.26530612244897955,0.2857142857142857,0.3061224489795918,0.32653061224489793,0.3469387755102041,0.36734693877551017,0.3877551020408163,0.4081632653061224,0.42857142857142855,0.44897959183673464,0.4693877551020408,0.4897959183673469,0.5102040816326531,0.5306122448979591,0.5510204081632653,0.5714285714285714,0.5918367346938775,0.6122448979591836,0.6326530612244897,0.6530612244897959,0.673469387755102,0.6938775510204082,0.7142857142857142,0.7346938775510203,0.7551020408163265,0.7755102040816326,0.7959183673469387,0.8163265306122448,0.836734693877551,0.8571428571428571,0.8775510204081632,0.8979591836734693,0.9183673469387754,0.9387755102040816,0.9591836734693877,0.9795918367346939,1.0,0.0,0.02040816326530612,0.04081632653061224,0.061224489795918366,0.08163265306122448,0.1020408163265306,0.12244897959183673,0.14285714285714285,0.16326530612244897,0.18367346938775508,0.2040816326530612,0.22448979591836732,0.24489795918367346,0.26530612244897955,0.2857142857142857,0.3061224489795918,0.32653061224489793,0.3469387755102041,0.36734693877551017,0.3877551020408163,0.4081632653061224,0.42857142857142855,0.44897959183673464,0.4693877551020408,0.5102040816326531,0.4897959183673469,0.5306122448979591,0.5510204081632653,0.5714285714285714,0.5918367346938775,0.6122448979591836,0.6326530612244897,0.6530612244897959,0.673469387755102,0.6938775510204082,0.7142857142857142,0.7346938775510203,0.7551020408163265,0.7755102040816326,0.7959183673469387,0.8163265306122448,0.836734693877551,0.8571428571428571,0.8775510204081632,0.8979591836734693,0.9183673469387754,0.9387755102040816,0.9591836734693877,0.9795918367346939,1.0],\"coloraxis\":\"coloraxis\",\"size\":[0.2,0.2,0.2,0.2,0.2,0.2,0.2,0.2,0.2,0.2,0.2,0.2,0.2,0.2,0.2,0.2,0.2,0.2,0.2,0.2,0.2,0.2,0.2,0.2,0.2,0.2,0.2,0.2,0.2,0.2,0.2,0.2,0.2,0.2,0.2,0.2,0.2,0.2,0.2,0.2,0.2,1.0,0.2,0.2,0.2,0.2,0.2,0.2,0.2,0.2,0.2,0.2,0.2,0.2,0.2,0.2,0.2,0.2,0.2,0.2,0.2,0.2,0.2,0.2,0.2,0.2,0.2,0.2,0.2,0.2,0.2,0.2,0.2,0.2,0.2,0.2,0.2,0.2,0.2,0.2,0.2,0.2,0.2,0.2,1.0,0.2,0.2,0.2,0.2,0.2,0.2,0.2,0.2,0.2,0.2,0.2,0.2,0.2,0.2,0.2,1.0,0.2,0.2,0.2,0.2,0.2,0.2,0.2,0.2,0.2,0.2,0.2,0.2,0.2,0.2,0.2,0.2,0.2,0.2,0.2,0.2,0.2,0.2,0.2,0.2,0.2,0.2,0.2,0.2,0.2,0.2,0.2,0.2,0.2,0.2,0.2,0.2,0.2,0.2,0.2,0.2,0.2,0.2,0.2,0.2,0.2,0.2,0.2,0.2,0.2,0.2,0.2,0.2,0.2,0.2,0.2,0.2,0.2,0.2,0.2,0.2,0.2,0.2,0.2,0.2,0.2,0.2,0.2,0.2,0.2,0.2,0.2,0.2,0.2,0.2,0.2,0.2,0.2,0.2,1.0,0.2,0.2,0.2,0.2,0.2,0.2,0.2,0.2,0.2,0.2,0.2,0.2,0.2,0.2,0.2,0.2,0.2,0.2,0.2,0.2,0.2,0.2,0.2,0.2,0.2,0.2,0.2,0.2,0.2,0.2,0.2,0.2,0.2,0.2,1.0,0.2,0.2,0.2,0.2,0.2,0.2,0.2,0.2,0.2,0.2,0.2,0.2,0.2,0.2,0.2,0.2,0.2,0.2,0.2,0.2,0.2,0.2,0.2,0.2,0.2,0.2,0.2,0.2,0.2,0.2,0.2,0.2,0.2,0.2,0.2,0.2,0.2,0.2,0.2,0.2,0.2,0.2,0.2,0.2,0.2,0.2,0.2,0.2,0.2,0.2,0.2,0.2,0.2,0.2,0.2,0.2,0.2,0.2,0.2,0.2,0.2,0.2,0.2,0.2,1.0,0.2,0.2,0.2,0.2,0.2,0.2,0.2,0.2,0.2,0.2,0.2,0.2,0.2,0.2,0.2,0.2,0.2,0.2,0.2,0.2,0.2,0.2,0.2,0.2,0.2,0.2,0.2,0.2,0.2,0.2,0.2,0.2,0.2,0.2,0.2,0.2,0.2,0.2,0.2,0.2,0.2,0.2,0.2,0.2,0.2,0.2,0.2,0.2,0.2,0.2,1.0,0.2,0.2,0.2,0.2,0.2,0.2,0.2,0.2,0.2,0.2,0.2,0.2,0.2,0.2,0.2,0.2,0.2,0.2,0.2,0.2,0.2,0.2,0.2,0.2,0.2,0.2,0.2,0.2,0.2,0.2,0.2,0.2,0.2,0.2,0.2,0.2,0.2,0.2,0.2,0.2,0.2,0.2,0.2,0.2,0.2,0.2,1.0,0.2,0.2,0.2,0.2,0.2,0.2,0.2,0.2,0.2,0.2,0.2,0.2,0.2,0.2,0.2,0.2,0.2,0.2,0.2,0.2,0.2,0.2,0.2,0.2,0.2,0.2,0.2,0.2,0.2,0.2,0.2,0.2,0.2,0.2,0.2,0.2,0.2,0.2,1.0,0.2,0.2,0.2,0.2,0.2,0.2,0.2,0.2,0.2,0.2,0.2,0.2,0.2,0.2,0.2,0.2,0.2,0.2,0.2,0.2,0.2,0.2,0.2,0.2,0.2,0.2,0.2,0.2,0.2,0.2,0.2,0.2,0.2],\"sizemode\":\"area\",\"sizeref\":0.0025,\"symbol\":\"circle\"},\"mode\":\"markers\",\"name\":\"\",\"orientation\":\"h\",\"showlegend\":false,\"x\":[0.08922970469581558,0.08922970469581558,0.08922970469581558,0.08922970469581558,0.08922970469581558,0.08922970469581558,0.08922970469581558,0.08922970469581558,0.08922970469581558,0.08922970469581558,0.08922970469581558,0.08922970469581558,0.08922970469581558,0.08922970469581558,0.08922970469581558,0.08922970469581558,0.08922970469581558,0.08922970469581558,0.08922970469581558,0.08922970469581558,0.08922970469581558,0.08922970469581558,0.08922970469581558,0.08922970469581558,0.08922970469581558,0.08922970469581558,0.08922970469581558,0.08922970469581558,0.08922970469581558,0.08922970469581558,0.08922970469581558,0.08922970469581558,0.08922970469581558,0.08922970469581558,0.08922970469581558,0.08922970469581558,0.08922970469581558,0.08922970469581558,0.08922970469581558,0.08922970469581558,0.08922970469581558,0.060941066986879774,0.04688321617809246,0.03995663909110574,0.03627158414152847,0.036225225504756875,0.037188513988929556,0.037188513988929556,0.03704658883761931,0.037068324622321513,0.12860151561784477,0.12860151561784477,0.12860151561784477,0.12860151561784477,0.12860151561784477,0.12860151561784477,0.12860151561784477,0.12691020594327912,0.1270697297754609,0.12648544109872503,0.12781518709881554,0.1285633242144856,0.1285633242144856,0.13448549604772853,0.13083600254482525,0.1331613245192999,0.1416354559843617,0.1433202931459515,0.1412115403851664,0.13558282819732034,0.13291065140593114,0.1323077066719288,0.13767870680574995,0.12141050494454618,0.12141050494454618,0.1125381433904963,0.1125381433904963,0.0844972728329619,0.0844972728329619,0.0844972728329619,0.07503357158552679,0.07503357158552679,0.07503357158552679,0.06963914251937334,0.04554240030995674,0.04554240030995674,0.04554240030995674,0.044404313988499186,0.044404313988499186,0.04124769942539564,0.03788805531605116,0.03788805531605116,0.03856528685379366,0.03634401891991468,0.03479363013122797,0.0365571572971867,0.03740897550815071,0.052974620406462204,0.05663632179144997,0.0622377806723035,0.04554240030995674,0.04554240030995674,0.04554240030995674,0.04554240030995674,0.04554240030995674,0.04554240030995674,0.04554240030995674,0.04554240030995674,0.04554240030995674,0.04554240030995674,0.04554240030995674,0.04554240030995674,0.04554240030995674,0.04554240030995674,0.04554240030995674,0.04554240030995674,0.04554240030995674,0.04554240030995674,0.04554240030995674,0.04554240030995674,0.04554240030995674,0.04554240030995674,0.04554240030995674,0.04554240030995674,0.04554240030995674,0.04554240030995674,0.04554240030995674,0.04554240030995674,0.04554240030995674,0.04554240030995674,0.04554240030995674,0.04554240030995674,0.04554240030995674,0.049279352206086466,0.04642563190864277,0.04487073005954365,0.04487073005954365,0.046986065994050794,0.04543881029427418,0.03690912256305709,0.03559867380200826,0.03385065162748056,0.03427232524614503,0.03318486767746068,0.02789208212527672,0.02344605906010902,0.02344605906010902,0.023984140780885694,0.020066616728720753,0.03578086685141332,0.041361074415583676,0.03528383096913943,0.034297472425791654,0.03448084764234704,0.01627397938015208,0.010739733673286789,0.010498927271513445,0.008079033448444297,0.007922918069200684,0.006808312715410892,0.006237375912688252,0.006227704202027672,0.006366384199560445,0.006052663097702489,0.005944343311135991,0.006288603475771755,0.006304173338206536,0.007823505333077714,0.00789275193290046,0.00985902661729704,0.040350884758375616,0.05369888682739088,0.06542452280090633,0.06771303247287527,0.06927512779864581,0.07013239462376017,0.06958859702037763,0.06625124310436226,0.058852110460447866,0.04853941075211121,0.04554240030995674,0.04818555207234696,0.058955167322395155,0.06513637896857746,0.06704285733590538,0.07273884631828412,0.07130332192296732,0.0721277703216241,0.07279011589429003,0.06074233938372654,0.06059217815317469,0.06597779853642113,0.060951263210748015,0.048011691225064476,0.03894479634506691,0.0383098137934163,0.03671318020192653,0.03481636429027093,0.03517128337633556,0.035115903438404074,0.062267726400024266,0.062267726400024266,0.060397553209733,0.07047221031887639,0.07439931770781613,0.0751494193866161,0.0751494193866161,0.07508623171133351,0.07491283430820259,0.07432227131692938,0.07432227131692938,0.07467400763553811,0.07249424600571673,0.0488362419009654,0.05472307393147855,0.0614074625177958,0.07701840069598413,0.12062287764326231,0.1261365068250858,0.13938952185713369,0.1582838294756484,0.15433330169024218,0.15433330169024218,0.15243389887515935,0.15833502168687086,0.17266011200170112,0.16211376514218137,0.16926096620025596,0.1775271535210889,0.17727303163425667,0.19610779600528216,0.21038455148761215,0.2062431502074532,0.22752931188731884,0.2209467003875963,0.22497738280969568,0.228957184802057,0.2429450919075894,0.2519453212085694,0.24124686664945313,0.229136715075147,0.20165479788593485,0.17722148288912404,0.174637088875921,0.1721551936690096,0.1719409371497384,0.1719409371497384,0.1719409371497384,0.1719409371497384,0.1724891742875293,0.09309555973098002,0.08863181883940915,0.08593943895643633,0.0897389344654932,0.0897389344654932,0.09651987839726449,0.10513663109378817,0.10483789126791619,0.10382483641806917,0.10344255961260221,0.0992245800822547,0.09863006563836156,0.09905956835721123,0.106076966520024,0.10341690381756197,0.10604515804849562,0.10065714863144201,0.1003668539066649,0.10773187693314623,0.1055959717243332,0.10279360783646223,0.1112718587060001,0.10995068485791791,0.08044912174582022,0.07157661159033886,0.06335163739089968,0.06443317906277025,0.06263511258467433,0.06194703355123191,0.04554240030995674,0.058191209059469236,0.06135298621610145,0.06420853770696495,0.06547012386616272,0.06527519618382358,0.06574827306419928,0.06560631219454961,0.06581081455120837,0.06581081455120837,0.06581081455120837,0.06423681578906142,0.06387748443893562,0.06105462875789413,0.06105462875789413,0.06105462875789413,0.06105462875789413,0.06358641628029943,0.060709882703614895,0.058857077493805095,0.06750004280499756,0.21247215024624028,0.21129875277495475,0.21129875277495475,0.09506975167619663,0.09636179415729797,0.10047900420692674,0.0995937524116408,0.09963231274232202,0.09710404249813913,0.09710404249813913,0.09479304106112874,0.09158956622190963,0.0816797399945207,0.08232880837192445,0.09172291664398124,0.09981063569715483,0.09563375106450558,0.0961699749657703,0.09987309437257037,0.09894668539400986,0.09579403718799358,0.09605159025739235,0.09476451599587997,0.09568134844324816,0.07319751992157039,0.06614085311968197,0.05772541571091172,0.05772541571091172,0.055093660237135515,0.05547737082704024,0.04554240030995674,0.048691382356592955,0.05092378428209793,0.0513720105496751,0.0719026964224539,0.07483058045409328,0.07258491963086659,0.06746216073543974,0.07088933554058419,0.06431162243586915,0.06643464400445141,0.06744071016342622,0.06839887195519176,0.06851468621012889,0.061661911739430114,0.06210698141054294,0.0535695548791861,0.05196422575030553,0.050034242010726045,0.050034242010726045,0.2213629342899039,0.21182666855565277,0.20208048048521055,0.20094799170605857,0.23148474028393404,0.23214627917737315,0.23214627917737315,0.2335698787450486,0.25188730483576427,0.33263933373557236,0.3282284498251727,0.40257189204062005,0.4151369979629346,0.4151369979629346,0.39592480437453176,0.39592480437453176,0.3721237294658688,0.3979169700810788,0.40162247070792934,0.37763741814548063,0.3666704375918011,0.35045118057961705,0.3484115859616468,0.3277291523153837,0.3097224895514281,0.25323535292556487,0.13447554575526907,0.04554240030995674,0.05010629264594368,0.049774406085234736,0.051581239833073965,0.051581239833073965,0.050087146795391835,0.050087146795391835,0.04779509013638864,0.045834783734995034,0.04693995115704831,0.04712075748141169,0.04875226568450374,0.05251084887826006,0.05994832456170808,0.06127387602660662,0.0610712000612154,0.06292577317459112,0.06326189588434197,0.06265709141089817,0.06234874692461422,0.06234874692461422,0.06234874692461422,0.06234733070534941,0.03449049440068399,0.03449049440068399,0.03449049440068399,0.03449049440068399,0.03449049440068399,0.03449049440068399,0.03449049440068399,0.03449049440068399,0.03449049440068399,0.03449049440068399,0.034312421664080835,0.03494379732443482,0.03644748076192098,0.03784160243032884,0.035641404170080354,0.041672545460508685,0.05103187835230012,0.04642645744202954,0.2247607217556489,0.2794109194024414,0.3369368313563757,0.5454162467116728,0.6287749558677391,0.7046850141218788,0.7325911337726,0.7325911337726,0.7253584015886223,0.7096117018030736,0.7205655652757457,0.7205655652757457,0.7565014830110008,0.7565014830110008,0.7465356220436457,0.7459897737756203,0.7300164758279701,0.7300164758279701,0.6988400845920228,0.6524251455075155,0.543859624460641,0.4984610460638547,0.48921543489194547,0.4816188468877097,0.40023237313846644,0.4367981750059744,0.4367981750059744,0.1876715877404478,0.12093359033713746,0.08818354339464045,0.07442393700410536,0.07106940650751255],\"xaxis\":\"x\",\"y\":[\"Ba\",\"Ba\",\"Ba\",\"Ba\",\"Ba\",\"Ba\",\"Ba\",\"Ba\",\"Ba\",\"Ba\",\"Ba\",\"Ba\",\"Ba\",\"Ba\",\"Ba\",\"Ba\",\"Ba\",\"Ba\",\"Ba\",\"Ba\",\"Ba\",\"Ba\",\"Ba\",\"Ba\",\"Ba\",\"Ba\",\"Ba\",\"Ba\",\"Ba\",\"Ba\",\"Ba\",\"Ba\",\"Ba\",\"Ba\",\"Ba\",\"Ba\",\"Ba\",\"Ba\",\"Ba\",\"Ba\",\"Ba\",\"Ba\",\"Ba\",\"Ba\",\"Ba\",\"Ba\",\"Ba\",\"Ba\",\"Ba\",\"Ba\",\"K\",\"K\",\"K\",\"K\",\"K\",\"K\",\"K\",\"K\",\"K\",\"K\",\"K\",\"K\",\"K\",\"K\",\"K\",\"K\",\"K\",\"K\",\"K\",\"K\",\"K\",\"K\",\"K\",\"K\",\"K\",\"K\",\"K\",\"K\",\"K\",\"K\",\"K\",\"K\",\"K\",\"K\",\"K\",\"K\",\"K\",\"K\",\"K\",\"K\",\"K\",\"K\",\"K\",\"K\",\"K\",\"K\",\"K\",\"K\",\"K\",\"K\",\"Fe\",\"Fe\",\"Fe\",\"Fe\",\"Fe\",\"Fe\",\"Fe\",\"Fe\",\"Fe\",\"Fe\",\"Fe\",\"Fe\",\"Fe\",\"Fe\",\"Fe\",\"Fe\",\"Fe\",\"Fe\",\"Fe\",\"Fe\",\"Fe\",\"Fe\",\"Fe\",\"Fe\",\"Fe\",\"Fe\",\"Fe\",\"Fe\",\"Fe\",\"Fe\",\"Fe\",\"Fe\",\"Fe\",\"Fe\",\"Fe\",\"Fe\",\"Fe\",\"Fe\",\"Fe\",\"Fe\",\"Fe\",\"Fe\",\"Fe\",\"Fe\",\"Fe\",\"Fe\",\"Fe\",\"Fe\",\"Fe\",\"Fe\",\"RI\",\"RI\",\"RI\",\"RI\",\"RI\",\"RI\",\"RI\",\"RI\",\"RI\",\"RI\",\"RI\",\"RI\",\"RI\",\"RI\",\"RI\",\"RI\",\"RI\",\"RI\",\"RI\",\"RI\",\"RI\",\"RI\",\"RI\",\"RI\",\"RI\",\"RI\",\"RI\",\"RI\",\"RI\",\"RI\",\"RI\",\"RI\",\"RI\",\"RI\",\"RI\",\"RI\",\"RI\",\"RI\",\"RI\",\"RI\",\"RI\",\"RI\",\"RI\",\"RI\",\"RI\",\"RI\",\"RI\",\"RI\",\"RI\",\"RI\",\"Na\",\"Na\",\"Na\",\"Na\",\"Na\",\"Na\",\"Na\",\"Na\",\"Na\",\"Na\",\"Na\",\"Na\",\"Na\",\"Na\",\"Na\",\"Na\",\"Na\",\"Na\",\"Na\",\"Na\",\"Na\",\"Na\",\"Na\",\"Na\",\"Na\",\"Na\",\"Na\",\"Na\",\"Na\",\"Na\",\"Na\",\"Na\",\"Na\",\"Na\",\"Na\",\"Na\",\"Na\",\"Na\",\"Na\",\"Na\",\"Na\",\"Na\",\"Na\",\"Na\",\"Na\",\"Na\",\"Na\",\"Na\",\"Na\",\"Na\",\"Si\",\"Si\",\"Si\",\"Si\",\"Si\",\"Si\",\"Si\",\"Si\",\"Si\",\"Si\",\"Si\",\"Si\",\"Si\",\"Si\",\"Si\",\"Si\",\"Si\",\"Si\",\"Si\",\"Si\",\"Si\",\"Si\",\"Si\",\"Si\",\"Si\",\"Si\",\"Si\",\"Si\",\"Si\",\"Si\",\"Si\",\"Si\",\"Si\",\"Si\",\"Si\",\"Si\",\"Si\",\"Si\",\"Si\",\"Si\",\"Si\",\"Si\",\"Si\",\"Si\",\"Si\",\"Si\",\"Si\",\"Si\",\"Si\",\"Si\",\"Ca\",\"Ca\",\"Ca\",\"Ca\",\"Ca\",\"Ca\",\"Ca\",\"Ca\",\"Ca\",\"Ca\",\"Ca\",\"Ca\",\"Ca\",\"Ca\",\"Ca\",\"Ca\",\"Ca\",\"Ca\",\"Ca\",\"Ca\",\"Ca\",\"Ca\",\"Ca\",\"Ca\",\"Ca\",\"Ca\",\"Ca\",\"Ca\",\"Ca\",\"Ca\",\"Ca\",\"Ca\",\"Ca\",\"Ca\",\"Ca\",\"Ca\",\"Ca\",\"Ca\",\"Ca\",\"Ca\",\"Ca\",\"Ca\",\"Ca\",\"Ca\",\"Ca\",\"Ca\",\"Ca\",\"Ca\",\"Ca\",\"Ca\",\"Al\",\"Al\",\"Al\",\"Al\",\"Al\",\"Al\",\"Al\",\"Al\",\"Al\",\"Al\",\"Al\",\"Al\",\"Al\",\"Al\",\"Al\",\"Al\",\"Al\",\"Al\",\"Al\",\"Al\",\"Al\",\"Al\",\"Al\",\"Al\",\"Al\",\"Al\",\"Al\",\"Al\",\"Al\",\"Al\",\"Al\",\"Al\",\"Al\",\"Al\",\"Al\",\"Al\",\"Al\",\"Al\",\"Al\",\"Al\",\"Al\",\"Al\",\"Al\",\"Al\",\"Al\",\"Al\",\"Al\",\"Al\",\"Al\",\"Al\",\"Mg\",\"Mg\",\"Mg\",\"Mg\",\"Mg\",\"Mg\",\"Mg\",\"Mg\",\"Mg\",\"Mg\",\"Mg\",\"Mg\",\"Mg\",\"Mg\",\"Mg\",\"Mg\",\"Mg\",\"Mg\",\"Mg\",\"Mg\",\"Mg\",\"Mg\",\"Mg\",\"Mg\",\"Mg\",\"Mg\",\"Mg\",\"Mg\",\"Mg\",\"Mg\",\"Mg\",\"Mg\",\"Mg\",\"Mg\",\"Mg\",\"Mg\",\"Mg\",\"Mg\",\"Mg\",\"Mg\",\"Mg\",\"Mg\",\"Mg\",\"Mg\",\"Mg\",\"Mg\",\"Mg\",\"Mg\",\"Mg\",\"Mg\"],\"yaxis\":\"y\",\"type\":\"scatter\"}],                        {\"template\":{\"data\":{\"histogram2dcontour\":[{\"type\":\"histogram2dcontour\",\"colorbar\":{\"outlinewidth\":0,\"ticks\":\"\"},\"colorscale\":[[0.0,\"#0d0887\"],[0.1111111111111111,\"#46039f\"],[0.2222222222222222,\"#7201a8\"],[0.3333333333333333,\"#9c179e\"],[0.4444444444444444,\"#bd3786\"],[0.5555555555555556,\"#d8576b\"],[0.6666666666666666,\"#ed7953\"],[0.7777777777777778,\"#fb9f3a\"],[0.8888888888888888,\"#fdca26\"],[1.0,\"#f0f921\"]]}],\"choropleth\":[{\"type\":\"choropleth\",\"colorbar\":{\"outlinewidth\":0,\"ticks\":\"\"}}],\"histogram2d\":[{\"type\":\"histogram2d\",\"colorbar\":{\"outlinewidth\":0,\"ticks\":\"\"},\"colorscale\":[[0.0,\"#0d0887\"],[0.1111111111111111,\"#46039f\"],[0.2222222222222222,\"#7201a8\"],[0.3333333333333333,\"#9c179e\"],[0.4444444444444444,\"#bd3786\"],[0.5555555555555556,\"#d8576b\"],[0.6666666666666666,\"#ed7953\"],[0.7777777777777778,\"#fb9f3a\"],[0.8888888888888888,\"#fdca26\"],[1.0,\"#f0f921\"]]}],\"heatmap\":[{\"type\":\"heatmap\",\"colorbar\":{\"outlinewidth\":0,\"ticks\":\"\"},\"colorscale\":[[0.0,\"#0d0887\"],[0.1111111111111111,\"#46039f\"],[0.2222222222222222,\"#7201a8\"],[0.3333333333333333,\"#9c179e\"],[0.4444444444444444,\"#bd3786\"],[0.5555555555555556,\"#d8576b\"],[0.6666666666666666,\"#ed7953\"],[0.7777777777777778,\"#fb9f3a\"],[0.8888888888888888,\"#fdca26\"],[1.0,\"#f0f921\"]]}],\"heatmapgl\":[{\"type\":\"heatmapgl\",\"colorbar\":{\"outlinewidth\":0,\"ticks\":\"\"},\"colorscale\":[[0.0,\"#0d0887\"],[0.1111111111111111,\"#46039f\"],[0.2222222222222222,\"#7201a8\"],[0.3333333333333333,\"#9c179e\"],[0.4444444444444444,\"#bd3786\"],[0.5555555555555556,\"#d8576b\"],[0.6666666666666666,\"#ed7953\"],[0.7777777777777778,\"#fb9f3a\"],[0.8888888888888888,\"#fdca26\"],[1.0,\"#f0f921\"]]}],\"contourcarpet\":[{\"type\":\"contourcarpet\",\"colorbar\":{\"outlinewidth\":0,\"ticks\":\"\"}}],\"contour\":[{\"type\":\"contour\",\"colorbar\":{\"outlinewidth\":0,\"ticks\":\"\"},\"colorscale\":[[0.0,\"#0d0887\"],[0.1111111111111111,\"#46039f\"],[0.2222222222222222,\"#7201a8\"],[0.3333333333333333,\"#9c179e\"],[0.4444444444444444,\"#bd3786\"],[0.5555555555555556,\"#d8576b\"],[0.6666666666666666,\"#ed7953\"],[0.7777777777777778,\"#fb9f3a\"],[0.8888888888888888,\"#fdca26\"],[1.0,\"#f0f921\"]]}],\"surface\":[{\"type\":\"surface\",\"colorbar\":{\"outlinewidth\":0,\"ticks\":\"\"},\"colorscale\":[[0.0,\"#0d0887\"],[0.1111111111111111,\"#46039f\"],[0.2222222222222222,\"#7201a8\"],[0.3333333333333333,\"#9c179e\"],[0.4444444444444444,\"#bd3786\"],[0.5555555555555556,\"#d8576b\"],[0.6666666666666666,\"#ed7953\"],[0.7777777777777778,\"#fb9f3a\"],[0.8888888888888888,\"#fdca26\"],[1.0,\"#f0f921\"]]}],\"mesh3d\":[{\"type\":\"mesh3d\",\"colorbar\":{\"outlinewidth\":0,\"ticks\":\"\"}}],\"scatter\":[{\"fillpattern\":{\"fillmode\":\"overlay\",\"size\":10,\"solidity\":0.2},\"type\":\"scatter\"}],\"parcoords\":[{\"type\":\"parcoords\",\"line\":{\"colorbar\":{\"outlinewidth\":0,\"ticks\":\"\"}}}],\"scatterpolargl\":[{\"type\":\"scatterpolargl\",\"marker\":{\"colorbar\":{\"outlinewidth\":0,\"ticks\":\"\"}}}],\"bar\":[{\"error_x\":{\"color\":\"#2a3f5f\"},\"error_y\":{\"color\":\"#2a3f5f\"},\"marker\":{\"line\":{\"color\":\"#E5ECF6\",\"width\":0.5},\"pattern\":{\"fillmode\":\"overlay\",\"size\":10,\"solidity\":0.2}},\"type\":\"bar\"}],\"scattergeo\":[{\"type\":\"scattergeo\",\"marker\":{\"colorbar\":{\"outlinewidth\":0,\"ticks\":\"\"}}}],\"scatterpolar\":[{\"type\":\"scatterpolar\",\"marker\":{\"colorbar\":{\"outlinewidth\":0,\"ticks\":\"\"}}}],\"histogram\":[{\"marker\":{\"pattern\":{\"fillmode\":\"overlay\",\"size\":10,\"solidity\":0.2}},\"type\":\"histogram\"}],\"scattergl\":[{\"type\":\"scattergl\",\"marker\":{\"colorbar\":{\"outlinewidth\":0,\"ticks\":\"\"}}}],\"scatter3d\":[{\"type\":\"scatter3d\",\"line\":{\"colorbar\":{\"outlinewidth\":0,\"ticks\":\"\"}},\"marker\":{\"colorbar\":{\"outlinewidth\":0,\"ticks\":\"\"}}}],\"scattermapbox\":[{\"type\":\"scattermapbox\",\"marker\":{\"colorbar\":{\"outlinewidth\":0,\"ticks\":\"\"}}}],\"scatterternary\":[{\"type\":\"scatterternary\",\"marker\":{\"colorbar\":{\"outlinewidth\":0,\"ticks\":\"\"}}}],\"scattercarpet\":[{\"type\":\"scattercarpet\",\"marker\":{\"colorbar\":{\"outlinewidth\":0,\"ticks\":\"\"}}}],\"carpet\":[{\"aaxis\":{\"endlinecolor\":\"#2a3f5f\",\"gridcolor\":\"white\",\"linecolor\":\"white\",\"minorgridcolor\":\"white\",\"startlinecolor\":\"#2a3f5f\"},\"baxis\":{\"endlinecolor\":\"#2a3f5f\",\"gridcolor\":\"white\",\"linecolor\":\"white\",\"minorgridcolor\":\"white\",\"startlinecolor\":\"#2a3f5f\"},\"type\":\"carpet\"}],\"table\":[{\"cells\":{\"fill\":{\"color\":\"#EBF0F8\"},\"line\":{\"color\":\"white\"}},\"header\":{\"fill\":{\"color\":\"#C8D4E3\"},\"line\":{\"color\":\"white\"}},\"type\":\"table\"}],\"barpolar\":[{\"marker\":{\"line\":{\"color\":\"#E5ECF6\",\"width\":0.5},\"pattern\":{\"fillmode\":\"overlay\",\"size\":10,\"solidity\":0.2}},\"type\":\"barpolar\"}],\"pie\":[{\"automargin\":true,\"type\":\"pie\"}]},\"layout\":{\"autotypenumbers\":\"strict\",\"colorway\":[\"#636efa\",\"#EF553B\",\"#00cc96\",\"#ab63fa\",\"#FFA15A\",\"#19d3f3\",\"#FF6692\",\"#B6E880\",\"#FF97FF\",\"#FECB52\"],\"font\":{\"color\":\"#2a3f5f\"},\"hovermode\":\"closest\",\"hoverlabel\":{\"align\":\"left\"},\"paper_bgcolor\":\"white\",\"plot_bgcolor\":\"#E5ECF6\",\"polar\":{\"bgcolor\":\"#E5ECF6\",\"angularaxis\":{\"gridcolor\":\"white\",\"linecolor\":\"white\",\"ticks\":\"\"},\"radialaxis\":{\"gridcolor\":\"white\",\"linecolor\":\"white\",\"ticks\":\"\"}},\"ternary\":{\"bgcolor\":\"#E5ECF6\",\"aaxis\":{\"gridcolor\":\"white\",\"linecolor\":\"white\",\"ticks\":\"\"},\"baxis\":{\"gridcolor\":\"white\",\"linecolor\":\"white\",\"ticks\":\"\"},\"caxis\":{\"gridcolor\":\"white\",\"linecolor\":\"white\",\"ticks\":\"\"}},\"coloraxis\":{\"colorbar\":{\"outlinewidth\":0,\"ticks\":\"\"}},\"colorscale\":{\"sequential\":[[0.0,\"#0d0887\"],[0.1111111111111111,\"#46039f\"],[0.2222222222222222,\"#7201a8\"],[0.3333333333333333,\"#9c179e\"],[0.4444444444444444,\"#bd3786\"],[0.5555555555555556,\"#d8576b\"],[0.6666666666666666,\"#ed7953\"],[0.7777777777777778,\"#fb9f3a\"],[0.8888888888888888,\"#fdca26\"],[1.0,\"#f0f921\"]],\"sequentialminus\":[[0.0,\"#0d0887\"],[0.1111111111111111,\"#46039f\"],[0.2222222222222222,\"#7201a8\"],[0.3333333333333333,\"#9c179e\"],[0.4444444444444444,\"#bd3786\"],[0.5555555555555556,\"#d8576b\"],[0.6666666666666666,\"#ed7953\"],[0.7777777777777778,\"#fb9f3a\"],[0.8888888888888888,\"#fdca26\"],[1.0,\"#f0f921\"]],\"diverging\":[[0,\"#8e0152\"],[0.1,\"#c51b7d\"],[0.2,\"#de77ae\"],[0.3,\"#f1b6da\"],[0.4,\"#fde0ef\"],[0.5,\"#f7f7f7\"],[0.6,\"#e6f5d0\"],[0.7,\"#b8e186\"],[0.8,\"#7fbc41\"],[0.9,\"#4d9221\"],[1,\"#276419\"]]},\"xaxis\":{\"gridcolor\":\"white\",\"linecolor\":\"white\",\"ticks\":\"\",\"title\":{\"standoff\":15},\"zerolinecolor\":\"white\",\"automargin\":true,\"zerolinewidth\":2},\"yaxis\":{\"gridcolor\":\"white\",\"linecolor\":\"white\",\"ticks\":\"\",\"title\":{\"standoff\":15},\"zerolinecolor\":\"white\",\"automargin\":true,\"zerolinewidth\":2},\"scene\":{\"xaxis\":{\"backgroundcolor\":\"#E5ECF6\",\"gridcolor\":\"white\",\"linecolor\":\"white\",\"showbackground\":true,\"ticks\":\"\",\"zerolinecolor\":\"white\",\"gridwidth\":2},\"yaxis\":{\"backgroundcolor\":\"#E5ECF6\",\"gridcolor\":\"white\",\"linecolor\":\"white\",\"showbackground\":true,\"ticks\":\"\",\"zerolinecolor\":\"white\",\"gridwidth\":2},\"zaxis\":{\"backgroundcolor\":\"#E5ECF6\",\"gridcolor\":\"white\",\"linecolor\":\"white\",\"showbackground\":true,\"ticks\":\"\",\"zerolinecolor\":\"white\",\"gridwidth\":2}},\"shapedefaults\":{\"line\":{\"color\":\"#2a3f5f\"}},\"annotationdefaults\":{\"arrowcolor\":\"#2a3f5f\",\"arrowhead\":0,\"arrowwidth\":1},\"geo\":{\"bgcolor\":\"white\",\"landcolor\":\"#E5ECF6\",\"subunitcolor\":\"white\",\"showland\":true,\"showlakes\":true,\"lakecolor\":\"white\"},\"title\":{\"x\":0.05},\"mapbox\":{\"style\":\"light\"}}},\"xaxis\":{\"anchor\":\"y\",\"domain\":[0.0,1.0],\"title\":{\"text\":\"prediction\"}},\"yaxis\":{\"anchor\":\"x\",\"domain\":[0.0,1.0],\"title\":{\"text\":\"Feature\"}},\"coloraxis\":{\"colorbar\":{\"title\":{\"text\":\"quantile\"}},\"colorscale\":[[0.0,\"royalblue\"],[1.0,\"red\"]]},\"legend\":{\"tracegroupgap\":0,\"itemsizing\":\"constant\"},\"title\":{\"text\":\"Local AcME: observation ID 100. Predicted: 0.046 ( label_class : 1 )\",\"y\":0.9,\"x\":0.5,\"xanchor\":\"center\",\"yanchor\":\"top\"},\"shapes\":[{\"line\":{\"color\":\"blue\",\"dash\":\"dash\",\"width\":2},\"type\":\"line\",\"x0\":0.04554240030995674,\"x1\":0.04554240030995674,\"y0\":\"Ba\",\"y1\":\"Mg\"}]},                        {\"responsive\": true}                    ).then(function(){\n",
       "                            \n",
       "var gd = document.getElementById('23597b15-8dd8-4812-a776-b2665ab73f14');\n",
       "var x = new MutationObserver(function (mutations, observer) {{\n",
       "        var display = window.getComputedStyle(gd).display;\n",
       "        if (!display || display === 'none') {{\n",
       "            console.log([gd, 'removed!']);\n",
       "            Plotly.purge(gd);\n",
       "            observer.disconnect();\n",
       "        }}\n",
       "}});\n",
       "\n",
       "// Listen for the removal of the full notebook cells\n",
       "var notebookContainer = gd.closest('#notebook-container');\n",
       "if (notebookContainer) {{\n",
       "    x.observe(notebookContainer, {childList: true});\n",
       "}}\n",
       "\n",
       "// Listen for the clearing of the current output cell\n",
       "var outputEl = gd.closest('.output');\n",
       "if (outputEl) {{\n",
       "    x.observe(outputEl, {childList: true});\n",
       "}}\n",
       "\n",
       "                        })                };                });            </script>        </div>"
      ]
     },
     "metadata": {},
     "output_type": "display_data"
    }
   ],
   "source": [
    "local_acme.summary_plot(local=True)"
   ]
  },
  {
   "cell_type": "code",
   "execution_count": null,
   "metadata": {},
   "outputs": [],
   "source": []
  },
  {
   "cell_type": "code",
   "execution_count": null,
   "metadata": {},
   "outputs": [],
   "source": []
  }
 ],
 "metadata": {
  "kernelspec": {
   "display_name": "Python 3 (ipykernel)",
   "language": "python",
   "name": "python3"
  },
  "language_info": {
   "codemirror_mode": {
    "name": "ipython",
    "version": 3
   },
   "file_extension": ".py",
   "mimetype": "text/x-python",
   "name": "python",
   "nbconvert_exporter": "python",
   "pygments_lexer": "ipython3",
   "version": "3.8.12"
  }
 },
 "nbformat": 4,
 "nbformat_minor": 4
}
