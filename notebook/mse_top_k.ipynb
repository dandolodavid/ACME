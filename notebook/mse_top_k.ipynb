{
  "cells": [
    {
      "cell_type": "code",
      "execution_count": 1,
      "metadata": {
        "id": "l16fFLCn1XNh"
      },
      "outputs": [],
      "source": [
        "import pandas as pd\n",
        "import numpy as np\n",
        "import time\n",
        "import warnings\n",
        "import shap\n",
        "from ACME.ACME import ACME\n",
        "from sklearn.linear_model import LinearRegression\n",
        "from sklearn.ensemble import RandomForestRegressor\n",
        "from sklearn.svm import SVR\n",
        "from catboost import CatBoostRegressor\n",
        "from sklearn.metrics import mean_squared_error\n",
        "import xgboost as xgb\n",
        "import lightgbm as lgb"
      ]
    },
    {
      "cell_type": "code",
      "execution_count": 2,
      "metadata": {
        "id": "ZAxlA-dE114G"
      },
      "outputs": [],
      "source": [
        "#! pip install catboost"
      ]
    },
    {
      "cell_type": "code",
      "execution_count": 3,
      "metadata": {
        "id": "sFVhmuyv1zOZ"
      },
      "outputs": [],
      "source": [
        "#! pip install shap"
      ]
    },
    {
      "cell_type": "code",
      "execution_count": 4,
      "metadata": {
        "id": "dYRni76B1fg8"
      },
      "outputs": [],
      "source": [
        "#! pip install lightgbm"
      ]
    },
    {
      "cell_type": "code",
      "execution_count": 5,
      "metadata": {
        "id": "y_8P1YGA1iCw"
      },
      "outputs": [],
      "source": [
        "#! pip install statwolfACME"
      ]
    },
    {
      "cell_type": "code",
      "execution_count": 6,
      "metadata": {
        "id": "W6uPhfy_1kHC"
      },
      "outputs": [],
      "source": [
        "#! pip install xgboost"
      ]
    },
    {
      "cell_type": "code",
      "execution_count": 7,
      "metadata": {
        "colab": {
          "base_uri": "https://localhost:8080/"
        },
        "id": "YECu1LHm1mgO",
        "outputId": "99ccf2d1-cd42-4e62-afbd-dbd8f58482d3"
      },
      "outputs": [
        {
          "name": "stderr",
          "output_type": "stream",
          "text": [
            "Function load_boston is deprecated; `load_boston` is deprecated in 1.0 and will be removed in 1.2.\n",
            "\n",
            "    The Boston housing prices dataset has an ethical problem. You can refer to\n",
            "    the documentation of this function for further details.\n",
            "\n",
            "    The scikit-learn maintainers therefore strongly discourage the use of this\n",
            "    dataset unless the purpose of the code is to study and educate about\n",
            "    ethical issues in data science and machine learning.\n",
            "\n",
            "    In this special case, you can fetch the dataset from the original\n",
            "    source::\n",
            "\n",
            "        import pandas as pd\n",
            "        import numpy as np\n",
            "\n",
            "\n",
            "        data_url = \"http://lib.stat.cmu.edu/datasets/boston\"\n",
            "        raw_df = pd.read_csv(data_url, sep=\"\\s+\", skiprows=22, header=None)\n",
            "        data = np.hstack([raw_df.values[::2, :], raw_df.values[1::2, :2]])\n",
            "        target = raw_df.values[1::2, 2]\n",
            "\n",
            "    Alternative datasets include the California housing dataset (i.e.\n",
            "    :func:`~sklearn.datasets.fetch_california_housing`) and the Ames housing\n",
            "    dataset. You can load the datasets as follows::\n",
            "\n",
            "        from sklearn.datasets import fetch_california_housing\n",
            "        housing = fetch_california_housing()\n",
            "\n",
            "    for the California housing dataset and::\n",
            "\n",
            "        from sklearn.datasets import fetch_openml\n",
            "        housing = fetch_openml(name=\"house_prices\", as_frame=True)\n",
            "\n",
            "    for the Ames housing dataset.\n",
            "    \n"
          ]
        }
      ],
      "source": [
        "from sklearn import datasets\n",
        "boston = datasets.load_boston()\n",
        "X = boston.data\n",
        "y = boston.target\n",
        "dataframe = pd.DataFrame(X, columns=boston.feature_names)\n",
        "dataframe['target'] = y"
      ]
    },
    {
      "cell_type": "code",
      "execution_count": 8,
      "metadata": {
        "id": "Y1l02AYG2uPQ"
      },
      "outputs": [],
      "source": [
        "features = dataframe.drop(columns='target').columns.tolist()\n",
        "X = dataframe[features]\n",
        "y = dataframe['target']"
      ]
    },
    {
      "cell_type": "code",
      "execution_count": 9,
      "metadata": {
        "colab": {
          "base_uri": "https://localhost:8080/"
        },
        "id": "vHDalhI22EZf",
        "outputId": "728fe7fa-e3cb-490d-8701-76825ee26f00"
      },
      "outputs": [
        {
          "name": "stdout",
          "output_type": "stream",
          "text": [
            "[07:50:08] WARNING: /workspace/src/objective/regression_obj.cu:152: reg:linear is now deprecated in favor of reg:squarederror.\n"
          ]
        }
      ],
      "source": [
        "models = {}\n",
        "models['linear_regression'] = LinearRegression().fit(X,y)\n",
        "models['random_forest_regressor'] = RandomForestRegressor().fit(X,y)\n",
        "models['cat_boost_regressor'] = CatBoostRegressor(verbose=False).fit(X,y)\n",
        "models['svr'] = SVR().fit(X,y) \n",
        "models['xgboost'] = xgb.XGBRegressor().fit(X,y)\n",
        "models['lightgbm'] = lgb.LGBMRegressor().fit(X,y)"
      ]
    },
    {
      "cell_type": "code",
      "execution_count": 10,
      "metadata": {
        "id": "EGGesbDe2Ujk"
      },
      "outputs": [],
      "source": [
        "mse_full = {}\n",
        "for model in models.keys():\n",
        "    mse_full[model] = mean_squared_error(models[model].predict(X),y)"
      ]
    },
    {
      "cell_type": "code",
      "execution_count": 11,
      "metadata": {
        "id": "WB1RQFwW2gtE"
      },
      "outputs": [],
      "source": [
        "acme = {}\n",
        "for model in models.keys():\n",
        "    acme[model] = ACME(models[model],'target')\n",
        "    acme[model] = acme[model].fit(dataframe, robust=True)"
      ]
    },
    {
      "cell_type": "code",
      "execution_count": 12,
      "metadata": {
        "id": "02OiNs0V2h3x"
      },
      "outputs": [],
      "source": [
        "k = 5\n",
        "top_k = {}\n",
        "last_k = {}\n",
        "for model in models.keys():\n",
        "    top_k[model] = acme[model].feature_importance().index.tolist()[0:k]\n",
        "    last_k[model] = acme[model].feature_importance().index.tolist()[-k:]"
      ]
    },
    {
      "cell_type": "code",
      "execution_count": 13,
      "metadata": {
        "colab": {
          "base_uri": "https://localhost:8080/"
        },
        "id": "rNw4zQOH2-3u",
        "outputId": "35236364-815c-465c-a90b-0667e3605b16"
      },
      "outputs": [
        {
          "name": "stdout",
          "output_type": "stream",
          "text": [
            "[07:50:12] WARNING: /workspace/src/objective/regression_obj.cu:152: reg:linear is now deprecated in favor of reg:squarederror.\n"
          ]
        }
      ],
      "source": [
        "models_top_k = {}\n",
        "models_top_k['linear_regression'] = LinearRegression().fit(dataframe[top_k['linear_regression']],y)\n",
        "models_top_k['random_forest_regressor'] = RandomForestRegressor().fit(dataframe[top_k['random_forest_regressor']],y)\n",
        "models_top_k['cat_boost_regressor'] = CatBoostRegressor(verbose=False).fit(dataframe[top_k['cat_boost_regressor']],y)\n",
        "models_top_k['svr'] = SVR().fit(dataframe[top_k['svr']],y)\n",
        "models_top_k['xgboost'] = xgb.XGBRegressor().fit(dataframe[top_k['xgboost']],y)\n",
        "models_top_k['lightgbm'] = lgb.LGBMRegressor().fit(dataframe[top_k['lightgbm']],y)"
      ]
    },
    {
      "cell_type": "code",
      "execution_count": 14,
      "metadata": {
        "id": "XvoY7jiX3MDp"
      },
      "outputs": [],
      "source": [
        "mse_top_k = {}\n",
        "for model in models.keys():\n",
        "    mse_top_k[model] = mean_squared_error(models_top_k[model].predict(dataframe[top_k[model]]),y)"
      ]
    },
    {
      "cell_type": "code",
      "execution_count": 15,
      "metadata": {
        "colab": {
          "base_uri": "https://localhost:8080/"
        },
        "id": "6-tiQvLb3Ul-",
        "outputId": "69ac2b14-d38a-4358-e71d-285f6724052b"
      },
      "outputs": [
        {
          "name": "stdout",
          "output_type": "stream",
          "text": [
            "[07:50:15] WARNING: /workspace/src/objective/regression_obj.cu:152: reg:linear is now deprecated in favor of reg:squarederror.\n"
          ]
        }
      ],
      "source": [
        "models_last_k = {}\n",
        "models_last_k['linear_regression'] = LinearRegression().fit(dataframe.drop(columns = top_k['linear_regression'] + ['target']),y)\n",
        "models_last_k['random_forest_regressor'] = RandomForestRegressor().fit(dataframe.drop(columns = top_k['random_forest_regressor']+ ['target']),y)\n",
        "models_last_k['cat_boost_regressor'] = CatBoostRegressor(verbose=False).fit(dataframe.drop(columns = top_k['cat_boost_regressor']+ ['target']),y)\n",
        "models_last_k['svr'] = SVR().fit(dataframe.drop(columns = top_k['svr']+ ['target']),y)\n",
        "models_last_k['xgboost'] = xgb.XGBRegressor().fit(dataframe.drop(columns = top_k['xgboost']+ ['target']),y)\n",
        "models_last_k['lightgbm'] = lgb.LGBMRegressor().fit(dataframe.drop(columns = top_k['lightgbm'] + ['target']),y)"
      ]
    },
    {
      "cell_type": "code",
      "execution_count": 16,
      "metadata": {
        "id": "Vd7iGlpj4G97"
      },
      "outputs": [],
      "source": [
        "mse_last_k = {}\n",
        "for model in models.keys():\n",
        "    mse_last_k[model] = mean_squared_error(models_last_k[model].predict(dataframe.drop(columns = top_k[model]+ ['target'])),y)"
      ]
    },
    {
      "cell_type": "code",
      "execution_count": 17,
      "metadata": {
        "colab": {
          "base_uri": "https://localhost:8080/"
        },
        "id": "a4ropUpc3MLL",
        "outputId": "34c9c329-915e-439c-9b01-4fe32babdb92"
      },
      "outputs": [
        {
          "data": {
            "text/plain": [
              "{'linear_regression': 21.894831181729202,\n",
              " 'random_forest_regressor': 1.477642837944662,\n",
              " 'cat_boost_regressor': 0.3362474873976234,\n",
              " 'svr': 66.81823779202165,\n",
              " 'xgboost': 2.366729052275626,\n",
              " 'lightgbm': 1.542319288669038}"
            ]
          },
          "execution_count": 17,
          "metadata": {},
          "output_type": "execute_result"
        }
      ],
      "source": [
        "mse_full"
      ]
    },
    {
      "cell_type": "code",
      "execution_count": 18,
      "metadata": {
        "colab": {
          "base_uri": "https://localhost:8080/"
        },
        "id": "XMCCxWxH3t9R",
        "outputId": "4e607216-3c06-4ca6-c5ad-95abf254a8fd"
      },
      "outputs": [
        {
          "data": {
            "text/plain": [
              "{'linear_regression': 26.099816903706003,\n",
              " 'random_forest_regressor': 2.0337227015810266,\n",
              " 'cat_boost_regressor': 0.8634103986654711,\n",
              " 'svr': 66.50031825228734,\n",
              " 'xgboost': 4.094807811132808,\n",
              " 'lightgbm': 2.660220295152345}"
            ]
          },
          "execution_count": 18,
          "metadata": {},
          "output_type": "execute_result"
        }
      ],
      "source": [
        "mse_top_k"
      ]
    },
    {
      "cell_type": "code",
      "execution_count": 19,
      "metadata": {
        "colab": {
          "base_uri": "https://localhost:8080/"
        },
        "id": "qDbDhrV33zYY",
        "outputId": "c4677afe-fb55-454d-8e2e-38c17e9f1df5"
      },
      "outputs": [
        {
          "data": {
            "text/plain": [
              "{'linear_regression': 55.155023598342325,\n",
              " 'random_forest_regressor': 4.172156482213433,\n",
              " 'cat_boost_regressor': 3.802887869326224,\n",
              " 'svr': 55.163510150619736,\n",
              " 'xgboost': 14.539022122762113,\n",
              " 'lightgbm': 13.367604985812358}"
            ]
          },
          "execution_count": 19,
          "metadata": {},
          "output_type": "execute_result"
        }
      ],
      "source": [
        "mse_last_k"
      ]
    },
    {
      "cell_type": "code",
      "execution_count": 19,
      "metadata": {
        "id": "7M8DuSsa31jp"
      },
      "outputs": [],
      "source": []
    }
  ],
  "metadata": {
    "colab": {
      "name": "acme_lightgbm.ipynb",
      "provenance": []
    },
    "kernelspec": {
      "display_name": "Python 3.8.9 64-bit",
      "language": "python",
      "name": "python3"
    },
    "language_info": {
      "name": "python",
      "version": "3.8.9"
    },
    "vscode": {
      "interpreter": {
        "hash": "31f2aee4e71d21fbe5cf8b01ff0e069b9275f58929596ceb00d14d90e3e16cd6"
      }
    }
  },
  "nbformat": 4,
  "nbformat_minor": 0
}
