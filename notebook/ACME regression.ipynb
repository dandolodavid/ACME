{
 "cells": [
  {
   "cell_type": "code",
   "execution_count": 1,
   "metadata": {},
   "outputs": [],
   "source": [
    "import sys\n",
    "import os\n",
    "sys.path.append(os.getcwd()[:-8])"
   ]
  },
  {
   "cell_type": "code",
   "execution_count": 2,
   "metadata": {},
   "outputs": [],
   "source": [
    "import pandas as pd\n",
    "import numpy as np\n",
    "from ACME.ACME import ACME \n",
    "from sklearn.ensemble import RandomForestRegressor"
   ]
  },
  {
   "cell_type": "code",
   "execution_count": 3,
   "metadata": {},
   "outputs": [
    {
     "name": "stderr",
     "output_type": "stream",
     "text": [
      "/Users/david/.local/lib/python3.8/site-packages/sklearn/utils/deprecation.py:87: FutureWarning: Function load_boston is deprecated; `load_boston` is deprecated in 1.0 and will be removed in 1.2.\n",
      "\n",
      "    The Boston housing prices dataset has an ethical problem. You can refer to\n",
      "    the documentation of this function for further details.\n",
      "\n",
      "    The scikit-learn maintainers therefore strongly discourage the use of this\n",
      "    dataset unless the purpose of the code is to study and educate about\n",
      "    ethical issues in data science and machine learning.\n",
      "\n",
      "    In this case special case, you can fetch the dataset from the original\n",
      "    source::\n",
      "\n",
      "        import pandas as pd\n",
      "        import numpy as np\n",
      "\n",
      "\n",
      "        data_url = \"http://lib.stat.cmu.edu/datasets/boston\"\n",
      "        raw_df = pd.read_csv(data_url, sep=\"\\s+\", skiprows=22, header=None)\n",
      "        data = np.hstack([raw_df.values[::2, :], raw_df.values[1::2, :2]])\n",
      "        target = raw_df.values[1::2, 2]\n",
      "\n",
      "    Alternative datasets include the California housing dataset (i.e.\n",
      "    func:`~sklearn.datasets.fetch_california_housing`) and the Ames housing\n",
      "    dataset. You can load the datasets as follows:\n",
      "\n",
      "        from sklearn.datasets import fetch_california_housing\n",
      "        housing = fetch_california_housing()\n",
      "\n",
      "    for the California housing dataset and:\n",
      "\n",
      "        from sklearn.datasets import fetch_openml\n",
      "        housing = fetch_openml(name=\"house_prices\", as_frame=True)\n",
      "\n",
      "    for the Ames housing dataset.\n",
      "    \n",
      "  warnings.warn(msg, category=FutureWarning)\n"
     ]
    }
   ],
   "source": [
    "from sklearn import datasets\n",
    "boston = datasets.load_boston()\n",
    "X = boston.data\n",
    "y = boston.target\n",
    "        \n",
    "dataset = pd.DataFrame(X, columns=boston.feature_names)\n",
    "dataset['target'] = y"
   ]
  },
  {
   "cell_type": "code",
   "execution_count": 19,
   "metadata": {},
   "outputs": [
    {
     "data": {
      "text/plain": [
       "RandomForestRegressor(n_estimators=200)"
      ]
     },
     "execution_count": 19,
     "metadata": {},
     "output_type": "execute_result"
    }
   ],
   "source": [
    "rf = RandomForestRegressor(n_estimators=200)\n",
    "rf.fit(dataset.drop(columns='target'),y)"
   ]
  },
  {
   "cell_type": "code",
   "execution_count": 31,
   "metadata": {},
   "outputs": [],
   "source": [
    "acme_rf = ACME(rf,'target',qualitative_features=['CHAS'], K=50)"
   ]
  },
  {
   "cell_type": "code",
   "execution_count": 32,
   "metadata": {},
   "outputs": [],
   "source": [
    "acme_rf = acme_rf.fit(dataset)"
   ]
  },
  {
   "cell_type": "code",
   "execution_count": 33,
   "metadata": {},
   "outputs": [
    {
     "data": {
      "text/html": [
       "<div>\n",
       "<style scoped>\n",
       "    .dataframe tbody tr th:only-of-type {\n",
       "        vertical-align: middle;\n",
       "    }\n",
       "\n",
       "    .dataframe tbody tr th {\n",
       "        vertical-align: top;\n",
       "    }\n",
       "\n",
       "    .dataframe thead th {\n",
       "        text-align: right;\n",
       "    }\n",
       "</style>\n",
       "<table border=\"1\" class=\"dataframe\">\n",
       "  <thead>\n",
       "    <tr style=\"text-align: right;\">\n",
       "      <th></th>\n",
       "      <th>effect</th>\n",
       "      <th>predictions</th>\n",
       "      <th>mean_prediction</th>\n",
       "      <th>original</th>\n",
       "      <th>quantile</th>\n",
       "      <th>Importance</th>\n",
       "      <th>type_feature</th>\n",
       "    </tr>\n",
       "  </thead>\n",
       "  <tbody>\n",
       "    <tr>\n",
       "      <th>CRIM</th>\n",
       "      <td>-0.492297</td>\n",
       "      <td>21.0215</td>\n",
       "      <td>21.286</td>\n",
       "      <td>0.006320</td>\n",
       "      <td>0.000000</td>\n",
       "      <td>0.471764</td>\n",
       "      <td>numeric</td>\n",
       "    </tr>\n",
       "    <tr>\n",
       "      <th>CRIM</th>\n",
       "      <td>-0.492297</td>\n",
       "      <td>21.0215</td>\n",
       "      <td>21.286</td>\n",
       "      <td>0.015123</td>\n",
       "      <td>0.020408</td>\n",
       "      <td>0.471764</td>\n",
       "      <td>numeric</td>\n",
       "    </tr>\n",
       "    <tr>\n",
       "      <th>CRIM</th>\n",
       "      <td>-0.492297</td>\n",
       "      <td>21.0215</td>\n",
       "      <td>21.286</td>\n",
       "      <td>0.023774</td>\n",
       "      <td>0.040816</td>\n",
       "      <td>0.471764</td>\n",
       "      <td>numeric</td>\n",
       "    </tr>\n",
       "    <tr>\n",
       "      <th>CRIM</th>\n",
       "      <td>-0.466794</td>\n",
       "      <td>21.0265</td>\n",
       "      <td>21.286</td>\n",
       "      <td>0.031078</td>\n",
       "      <td>0.061224</td>\n",
       "      <td>0.471764</td>\n",
       "      <td>numeric</td>\n",
       "    </tr>\n",
       "    <tr>\n",
       "      <th>CRIM</th>\n",
       "      <td>-0.252575</td>\n",
       "      <td>21.0685</td>\n",
       "      <td>21.286</td>\n",
       "      <td>0.035395</td>\n",
       "      <td>0.081633</td>\n",
       "      <td>0.471764</td>\n",
       "      <td>numeric</td>\n",
       "    </tr>\n",
       "    <tr>\n",
       "      <th>CRIM</th>\n",
       "      <td>-0.015403</td>\n",
       "      <td>21.1150</td>\n",
       "      <td>21.286</td>\n",
       "      <td>0.039034</td>\n",
       "      <td>0.102041</td>\n",
       "      <td>0.471764</td>\n",
       "      <td>numeric</td>\n",
       "    </tr>\n",
       "    <tr>\n",
       "      <th>CRIM</th>\n",
       "      <td>-0.017954</td>\n",
       "      <td>21.1145</td>\n",
       "      <td>21.286</td>\n",
       "      <td>0.044108</td>\n",
       "      <td>0.122449</td>\n",
       "      <td>0.471764</td>\n",
       "      <td>numeric</td>\n",
       "    </tr>\n",
       "    <tr>\n",
       "      <th>CRIM</th>\n",
       "      <td>0.142711</td>\n",
       "      <td>21.1460</td>\n",
       "      <td>21.286</td>\n",
       "      <td>0.049390</td>\n",
       "      <td>0.142857</td>\n",
       "      <td>0.471764</td>\n",
       "      <td>numeric</td>\n",
       "    </tr>\n",
       "    <tr>\n",
       "      <th>CRIM</th>\n",
       "      <td>0.122309</td>\n",
       "      <td>21.1420</td>\n",
       "      <td>21.286</td>\n",
       "      <td>0.054871</td>\n",
       "      <td>0.163265</td>\n",
       "      <td>0.471764</td>\n",
       "      <td>numeric</td>\n",
       "    </tr>\n",
       "    <tr>\n",
       "      <th>CRIM</th>\n",
       "      <td>0.132510</td>\n",
       "      <td>21.1440</td>\n",
       "      <td>21.286</td>\n",
       "      <td>0.059838</td>\n",
       "      <td>0.183673</td>\n",
       "      <td>0.471764</td>\n",
       "      <td>numeric</td>\n",
       "    </tr>\n",
       "    <tr>\n",
       "      <th>CRIM</th>\n",
       "      <td>0.191165</td>\n",
       "      <td>21.1555</td>\n",
       "      <td>21.286</td>\n",
       "      <td>0.065898</td>\n",
       "      <td>0.204082</td>\n",
       "      <td>0.471764</td>\n",
       "      <td>numeric</td>\n",
       "    </tr>\n",
       "    <tr>\n",
       "      <th>CRIM</th>\n",
       "      <td>0.091706</td>\n",
       "      <td>21.1360</td>\n",
       "      <td>21.286</td>\n",
       "      <td>0.070163</td>\n",
       "      <td>0.224490</td>\n",
       "      <td>0.471764</td>\n",
       "      <td>numeric</td>\n",
       "    </tr>\n",
       "    <tr>\n",
       "      <th>CRIM</th>\n",
       "      <td>0.004998</td>\n",
       "      <td>21.1190</td>\n",
       "      <td>21.286</td>\n",
       "      <td>0.080022</td>\n",
       "      <td>0.244898</td>\n",
       "      <td>0.471764</td>\n",
       "      <td>numeric</td>\n",
       "    </tr>\n",
       "    <tr>\n",
       "      <th>CRIM</th>\n",
       "      <td>-0.002652</td>\n",
       "      <td>21.1175</td>\n",
       "      <td>21.286</td>\n",
       "      <td>0.086596</td>\n",
       "      <td>0.265306</td>\n",
       "      <td>0.471764</td>\n",
       "      <td>numeric</td>\n",
       "    </tr>\n",
       "    <tr>\n",
       "      <th>CRIM</th>\n",
       "      <td>0.020300</td>\n",
       "      <td>21.1220</td>\n",
       "      <td>21.286</td>\n",
       "      <td>0.092560</td>\n",
       "      <td>0.285714</td>\n",
       "      <td>0.471764</td>\n",
       "      <td>numeric</td>\n",
       "    </tr>\n",
       "    <tr>\n",
       "      <th>CRIM</th>\n",
       "      <td>0.012649</td>\n",
       "      <td>21.1205</td>\n",
       "      <td>21.286</td>\n",
       "      <td>0.101248</td>\n",
       "      <td>0.306122</td>\n",
       "      <td>0.471764</td>\n",
       "      <td>numeric</td>\n",
       "    </tr>\n",
       "    <tr>\n",
       "      <th>CRIM</th>\n",
       "      <td>0.040702</td>\n",
       "      <td>21.1260</td>\n",
       "      <td>21.286</td>\n",
       "      <td>0.110647</td>\n",
       "      <td>0.326531</td>\n",
       "      <td>0.471764</td>\n",
       "      <td>numeric</td>\n",
       "    </tr>\n",
       "    <tr>\n",
       "      <th>CRIM</th>\n",
       "      <td>0.002448</td>\n",
       "      <td>21.1185</td>\n",
       "      <td>21.286</td>\n",
       "      <td>0.122812</td>\n",
       "      <td>0.346939</td>\n",
       "      <td>0.471764</td>\n",
       "      <td>numeric</td>\n",
       "    </tr>\n",
       "    <tr>\n",
       "      <th>CRIM</th>\n",
       "      <td>0.022850</td>\n",
       "      <td>21.1225</td>\n",
       "      <td>21.286</td>\n",
       "      <td>0.131379</td>\n",
       "      <td>0.367347</td>\n",
       "      <td>0.471764</td>\n",
       "      <td>numeric</td>\n",
       "    </tr>\n",
       "    <tr>\n",
       "      <th>CRIM</th>\n",
       "      <td>-0.244924</td>\n",
       "      <td>21.0700</td>\n",
       "      <td>21.286</td>\n",
       "      <td>0.141414</td>\n",
       "      <td>0.387755</td>\n",
       "      <td>0.471764</td>\n",
       "      <td>numeric</td>\n",
       "    </tr>\n",
       "    <tr>\n",
       "      <th>CRIM</th>\n",
       "      <td>-0.229623</td>\n",
       "      <td>21.0730</td>\n",
       "      <td>21.286</td>\n",
       "      <td>0.158833</td>\n",
       "      <td>0.408163</td>\n",
       "      <td>0.471764</td>\n",
       "      <td>numeric</td>\n",
       "    </tr>\n",
       "    <tr>\n",
       "      <th>CRIM</th>\n",
       "      <td>-0.150566</td>\n",
       "      <td>21.0885</td>\n",
       "      <td>21.286</td>\n",
       "      <td>0.172396</td>\n",
       "      <td>0.428571</td>\n",
       "      <td>0.471764</td>\n",
       "      <td>numeric</td>\n",
       "    </tr>\n",
       "    <tr>\n",
       "      <th>CRIM</th>\n",
       "      <td>-0.135264</td>\n",
       "      <td>21.0915</td>\n",
       "      <td>21.286</td>\n",
       "      <td>0.191719</td>\n",
       "      <td>0.448980</td>\n",
       "      <td>0.471764</td>\n",
       "      <td>numeric</td>\n",
       "    </tr>\n",
       "    <tr>\n",
       "      <th>CRIM</th>\n",
       "      <td>-0.188819</td>\n",
       "      <td>21.0810</td>\n",
       "      <td>21.286</td>\n",
       "      <td>0.217295</td>\n",
       "      <td>0.469388</td>\n",
       "      <td>0.471764</td>\n",
       "      <td>numeric</td>\n",
       "    </tr>\n",
       "    <tr>\n",
       "      <th>CRIM</th>\n",
       "      <td>0.056003</td>\n",
       "      <td>21.1290</td>\n",
       "      <td>21.286</td>\n",
       "      <td>0.242484</td>\n",
       "      <td>0.489796</td>\n",
       "      <td>0.471764</td>\n",
       "      <td>numeric</td>\n",
       "    </tr>\n",
       "    <tr>\n",
       "      <th>CRIM</th>\n",
       "      <td>0.374782</td>\n",
       "      <td>21.1915</td>\n",
       "      <td>21.286</td>\n",
       "      <td>0.276035</td>\n",
       "      <td>0.510204</td>\n",
       "      <td>0.471764</td>\n",
       "      <td>numeric</td>\n",
       "    </tr>\n",
       "    <tr>\n",
       "      <th>CRIM</th>\n",
       "      <td>0.532896</td>\n",
       "      <td>21.2225</td>\n",
       "      <td>21.286</td>\n",
       "      <td>0.322462</td>\n",
       "      <td>0.530612</td>\n",
       "      <td>0.471764</td>\n",
       "      <td>numeric</td>\n",
       "    </tr>\n",
       "    <tr>\n",
       "      <th>CRIM</th>\n",
       "      <td>0.606853</td>\n",
       "      <td>21.2370</td>\n",
       "      <td>21.286</td>\n",
       "      <td>0.353858</td>\n",
       "      <td>0.551020</td>\n",
       "      <td>0.471764</td>\n",
       "      <td>numeric</td>\n",
       "    </tr>\n",
       "    <tr>\n",
       "      <th>CRIM</th>\n",
       "      <td>0.609403</td>\n",
       "      <td>21.2375</td>\n",
       "      <td>21.286</td>\n",
       "      <td>0.439179</td>\n",
       "      <td>0.571429</td>\n",
       "      <td>0.471764</td>\n",
       "      <td>numeric</td>\n",
       "    </tr>\n",
       "    <tr>\n",
       "      <th>CRIM</th>\n",
       "      <td>0.619604</td>\n",
       "      <td>21.2395</td>\n",
       "      <td>21.286</td>\n",
       "      <td>0.536647</td>\n",
       "      <td>0.591837</td>\n",
       "      <td>0.471764</td>\n",
       "      <td>numeric</td>\n",
       "    </tr>\n",
       "    <tr>\n",
       "      <th>CRIM</th>\n",
       "      <td>0.619604</td>\n",
       "      <td>21.2395</td>\n",
       "      <td>21.286</td>\n",
       "      <td>0.616327</td>\n",
       "      <td>0.612245</td>\n",
       "      <td>0.471764</td>\n",
       "      <td>numeric</td>\n",
       "    </tr>\n",
       "    <tr>\n",
       "      <th>CRIM</th>\n",
       "      <td>0.619604</td>\n",
       "      <td>21.2395</td>\n",
       "      <td>21.286</td>\n",
       "      <td>0.767189</td>\n",
       "      <td>0.632653</td>\n",
       "      <td>0.471764</td>\n",
       "      <td>numeric</td>\n",
       "    </tr>\n",
       "    <tr>\n",
       "      <th>CRIM</th>\n",
       "      <td>0.731815</td>\n",
       "      <td>21.2615</td>\n",
       "      <td>21.286</td>\n",
       "      <td>0.972007</td>\n",
       "      <td>0.653061</td>\n",
       "      <td>0.471764</td>\n",
       "      <td>numeric</td>\n",
       "    </tr>\n",
       "    <tr>\n",
       "      <th>CRIM</th>\n",
       "      <td>0.515045</td>\n",
       "      <td>21.2190</td>\n",
       "      <td>21.286</td>\n",
       "      <td>1.234441</td>\n",
       "      <td>0.673469</td>\n",
       "      <td>0.471764</td>\n",
       "      <td>numeric</td>\n",
       "    </tr>\n",
       "    <tr>\n",
       "      <th>CRIM</th>\n",
       "      <td>0.650207</td>\n",
       "      <td>21.2455</td>\n",
       "      <td>21.286</td>\n",
       "      <td>1.557306</td>\n",
       "      <td>0.693878</td>\n",
       "      <td>0.471764</td>\n",
       "      <td>numeric</td>\n",
       "    </tr>\n",
       "    <tr>\n",
       "      <th>CRIM</th>\n",
       "      <td>0.591552</td>\n",
       "      <td>21.2340</td>\n",
       "      <td>21.286</td>\n",
       "      <td>2.310043</td>\n",
       "      <td>0.714286</td>\n",
       "      <td>0.471764</td>\n",
       "      <td>numeric</td>\n",
       "    </tr>\n",
       "    <tr>\n",
       "      <th>CRIM</th>\n",
       "      <td>0.897580</td>\n",
       "      <td>21.2940</td>\n",
       "      <td>21.286</td>\n",
       "      <td>2.820536</td>\n",
       "      <td>0.734694</td>\n",
       "      <td>0.471764</td>\n",
       "      <td>numeric</td>\n",
       "    </tr>\n",
       "    <tr>\n",
       "      <th>CRIM</th>\n",
       "      <td>0.803221</td>\n",
       "      <td>21.2755</td>\n",
       "      <td>21.286</td>\n",
       "      <td>3.722429</td>\n",
       "      <td>0.755102</td>\n",
       "      <td>0.471764</td>\n",
       "      <td>numeric</td>\n",
       "    </tr>\n",
       "    <tr>\n",
       "      <th>CRIM</th>\n",
       "      <td>0.935833</td>\n",
       "      <td>21.3015</td>\n",
       "      <td>21.286</td>\n",
       "      <td>4.550746</td>\n",
       "      <td>0.775510</td>\n",
       "      <td>0.471764</td>\n",
       "      <td>numeric</td>\n",
       "    </tr>\n",
       "    <tr>\n",
       "      <th>CRIM</th>\n",
       "      <td>0.917981</td>\n",
       "      <td>21.2980</td>\n",
       "      <td>21.286</td>\n",
       "      <td>5.287461</td>\n",
       "      <td>0.795918</td>\n",
       "      <td>0.471764</td>\n",
       "      <td>numeric</td>\n",
       "    </tr>\n",
       "    <tr>\n",
       "      <th>CRIM</th>\n",
       "      <td>0.430887</td>\n",
       "      <td>21.2025</td>\n",
       "      <td>21.286</td>\n",
       "      <td>5.973932</td>\n",
       "      <td>0.816327</td>\n",
       "      <td>0.471764</td>\n",
       "      <td>numeric</td>\n",
       "    </tr>\n",
       "    <tr>\n",
       "      <th>CRIM</th>\n",
       "      <td>0.198816</td>\n",
       "      <td>21.1570</td>\n",
       "      <td>21.286</td>\n",
       "      <td>7.224923</td>\n",
       "      <td>0.836735</td>\n",
       "      <td>0.471764</td>\n",
       "      <td>numeric</td>\n",
       "    </tr>\n",
       "    <tr>\n",
       "      <th>CRIM</th>\n",
       "      <td>0.247270</td>\n",
       "      <td>21.1665</td>\n",
       "      <td>21.286</td>\n",
       "      <td>8.241303</td>\n",
       "      <td>0.857143</td>\n",
       "      <td>0.471764</td>\n",
       "      <td>numeric</td>\n",
       "    </tr>\n",
       "    <tr>\n",
       "      <th>CRIM</th>\n",
       "      <td>0.025400</td>\n",
       "      <td>21.1230</td>\n",
       "      <td>21.286</td>\n",
       "      <td>9.347337</td>\n",
       "      <td>0.877551</td>\n",
       "      <td>0.471764</td>\n",
       "      <td>numeric</td>\n",
       "    </tr>\n",
       "    <tr>\n",
       "      <th>CRIM</th>\n",
       "      <td>0.025400</td>\n",
       "      <td>21.1230</td>\n",
       "      <td>21.286</td>\n",
       "      <td>10.438967</td>\n",
       "      <td>0.897959</td>\n",
       "      <td>0.471764</td>\n",
       "      <td>numeric</td>\n",
       "    </tr>\n",
       "    <tr>\n",
       "      <th>CRIM</th>\n",
       "      <td>-0.280628</td>\n",
       "      <td>21.0630</td>\n",
       "      <td>21.286</td>\n",
       "      <td>12.677686</td>\n",
       "      <td>0.918367</td>\n",
       "      <td>0.471764</td>\n",
       "      <td>numeric</td>\n",
       "    </tr>\n",
       "    <tr>\n",
       "      <th>CRIM</th>\n",
       "      <td>-0.270427</td>\n",
       "      <td>21.0650</td>\n",
       "      <td>21.286</td>\n",
       "      <td>14.422229</td>\n",
       "      <td>0.938776</td>\n",
       "      <td>0.471764</td>\n",
       "      <td>numeric</td>\n",
       "    </tr>\n",
       "    <tr>\n",
       "      <th>CRIM</th>\n",
       "      <td>-2.496779</td>\n",
       "      <td>20.6285</td>\n",
       "      <td>21.286</td>\n",
       "      <td>18.244976</td>\n",
       "      <td>0.959184</td>\n",
       "      <td>0.471764</td>\n",
       "      <td>numeric</td>\n",
       "    </tr>\n",
       "    <tr>\n",
       "      <th>CRIM</th>\n",
       "      <td>-2.496779</td>\n",
       "      <td>20.6285</td>\n",
       "      <td>21.286</td>\n",
       "      <td>24.971284</td>\n",
       "      <td>0.979592</td>\n",
       "      <td>0.471764</td>\n",
       "      <td>numeric</td>\n",
       "    </tr>\n",
       "    <tr>\n",
       "      <th>CRIM</th>\n",
       "      <td>-3.068031</td>\n",
       "      <td>20.5165</td>\n",
       "      <td>21.286</td>\n",
       "      <td>88.976200</td>\n",
       "      <td>1.000000</td>\n",
       "      <td>0.471764</td>\n",
       "      <td>numeric</td>\n",
       "    </tr>\n",
       "  </tbody>\n",
       "</table>\n",
       "</div>"
      ],
      "text/plain": [
       "        effect  predictions  mean_prediction   original  quantile  Importance  \\\n",
       "CRIM -0.492297      21.0215           21.286   0.006320  0.000000    0.471764   \n",
       "CRIM -0.492297      21.0215           21.286   0.015123  0.020408    0.471764   \n",
       "CRIM -0.492297      21.0215           21.286   0.023774  0.040816    0.471764   \n",
       "CRIM -0.466794      21.0265           21.286   0.031078  0.061224    0.471764   \n",
       "CRIM -0.252575      21.0685           21.286   0.035395  0.081633    0.471764   \n",
       "CRIM -0.015403      21.1150           21.286   0.039034  0.102041    0.471764   \n",
       "CRIM -0.017954      21.1145           21.286   0.044108  0.122449    0.471764   \n",
       "CRIM  0.142711      21.1460           21.286   0.049390  0.142857    0.471764   \n",
       "CRIM  0.122309      21.1420           21.286   0.054871  0.163265    0.471764   \n",
       "CRIM  0.132510      21.1440           21.286   0.059838  0.183673    0.471764   \n",
       "CRIM  0.191165      21.1555           21.286   0.065898  0.204082    0.471764   \n",
       "CRIM  0.091706      21.1360           21.286   0.070163  0.224490    0.471764   \n",
       "CRIM  0.004998      21.1190           21.286   0.080022  0.244898    0.471764   \n",
       "CRIM -0.002652      21.1175           21.286   0.086596  0.265306    0.471764   \n",
       "CRIM  0.020300      21.1220           21.286   0.092560  0.285714    0.471764   \n",
       "CRIM  0.012649      21.1205           21.286   0.101248  0.306122    0.471764   \n",
       "CRIM  0.040702      21.1260           21.286   0.110647  0.326531    0.471764   \n",
       "CRIM  0.002448      21.1185           21.286   0.122812  0.346939    0.471764   \n",
       "CRIM  0.022850      21.1225           21.286   0.131379  0.367347    0.471764   \n",
       "CRIM -0.244924      21.0700           21.286   0.141414  0.387755    0.471764   \n",
       "CRIM -0.229623      21.0730           21.286   0.158833  0.408163    0.471764   \n",
       "CRIM -0.150566      21.0885           21.286   0.172396  0.428571    0.471764   \n",
       "CRIM -0.135264      21.0915           21.286   0.191719  0.448980    0.471764   \n",
       "CRIM -0.188819      21.0810           21.286   0.217295  0.469388    0.471764   \n",
       "CRIM  0.056003      21.1290           21.286   0.242484  0.489796    0.471764   \n",
       "CRIM  0.374782      21.1915           21.286   0.276035  0.510204    0.471764   \n",
       "CRIM  0.532896      21.2225           21.286   0.322462  0.530612    0.471764   \n",
       "CRIM  0.606853      21.2370           21.286   0.353858  0.551020    0.471764   \n",
       "CRIM  0.609403      21.2375           21.286   0.439179  0.571429    0.471764   \n",
       "CRIM  0.619604      21.2395           21.286   0.536647  0.591837    0.471764   \n",
       "CRIM  0.619604      21.2395           21.286   0.616327  0.612245    0.471764   \n",
       "CRIM  0.619604      21.2395           21.286   0.767189  0.632653    0.471764   \n",
       "CRIM  0.731815      21.2615           21.286   0.972007  0.653061    0.471764   \n",
       "CRIM  0.515045      21.2190           21.286   1.234441  0.673469    0.471764   \n",
       "CRIM  0.650207      21.2455           21.286   1.557306  0.693878    0.471764   \n",
       "CRIM  0.591552      21.2340           21.286   2.310043  0.714286    0.471764   \n",
       "CRIM  0.897580      21.2940           21.286   2.820536  0.734694    0.471764   \n",
       "CRIM  0.803221      21.2755           21.286   3.722429  0.755102    0.471764   \n",
       "CRIM  0.935833      21.3015           21.286   4.550746  0.775510    0.471764   \n",
       "CRIM  0.917981      21.2980           21.286   5.287461  0.795918    0.471764   \n",
       "CRIM  0.430887      21.2025           21.286   5.973932  0.816327    0.471764   \n",
       "CRIM  0.198816      21.1570           21.286   7.224923  0.836735    0.471764   \n",
       "CRIM  0.247270      21.1665           21.286   8.241303  0.857143    0.471764   \n",
       "CRIM  0.025400      21.1230           21.286   9.347337  0.877551    0.471764   \n",
       "CRIM  0.025400      21.1230           21.286  10.438967  0.897959    0.471764   \n",
       "CRIM -0.280628      21.0630           21.286  12.677686  0.918367    0.471764   \n",
       "CRIM -0.270427      21.0650           21.286  14.422229  0.938776    0.471764   \n",
       "CRIM -2.496779      20.6285           21.286  18.244976  0.959184    0.471764   \n",
       "CRIM -2.496779      20.6285           21.286  24.971284  0.979592    0.471764   \n",
       "CRIM -3.068031      20.5165           21.286  88.976200  1.000000    0.471764   \n",
       "\n",
       "     type_feature  \n",
       "CRIM      numeric  \n",
       "CRIM      numeric  \n",
       "CRIM      numeric  \n",
       "CRIM      numeric  \n",
       "CRIM      numeric  \n",
       "CRIM      numeric  \n",
       "CRIM      numeric  \n",
       "CRIM      numeric  \n",
       "CRIM      numeric  \n",
       "CRIM      numeric  \n",
       "CRIM      numeric  \n",
       "CRIM      numeric  \n",
       "CRIM      numeric  \n",
       "CRIM      numeric  \n",
       "CRIM      numeric  \n",
       "CRIM      numeric  \n",
       "CRIM      numeric  \n",
       "CRIM      numeric  \n",
       "CRIM      numeric  \n",
       "CRIM      numeric  \n",
       "CRIM      numeric  \n",
       "CRIM      numeric  \n",
       "CRIM      numeric  \n",
       "CRIM      numeric  \n",
       "CRIM      numeric  \n",
       "CRIM      numeric  \n",
       "CRIM      numeric  \n",
       "CRIM      numeric  \n",
       "CRIM      numeric  \n",
       "CRIM      numeric  \n",
       "CRIM      numeric  \n",
       "CRIM      numeric  \n",
       "CRIM      numeric  \n",
       "CRIM      numeric  \n",
       "CRIM      numeric  \n",
       "CRIM      numeric  \n",
       "CRIM      numeric  \n",
       "CRIM      numeric  \n",
       "CRIM      numeric  \n",
       "CRIM      numeric  \n",
       "CRIM      numeric  \n",
       "CRIM      numeric  \n",
       "CRIM      numeric  \n",
       "CRIM      numeric  \n",
       "CRIM      numeric  \n",
       "CRIM      numeric  \n",
       "CRIM      numeric  \n",
       "CRIM      numeric  \n",
       "CRIM      numeric  \n",
       "CRIM      numeric  "
      ]
     },
     "execution_count": 33,
     "metadata": {},
     "output_type": "execute_result"
    }
   ],
   "source": [
    "acme_rf.summary_table().loc['CRIM']"
   ]
  },
  {
   "cell_type": "code",
   "execution_count": 34,
   "metadata": {},
   "outputs": [],
   "source": [
    "fig = acme_rf.summary_plot()\n",
    "fig.write_html('fig.html')"
   ]
  },
  {
   "cell_type": "code",
   "execution_count": 40,
   "metadata": {},
   "outputs": [],
   "source": [
    "acme_local = acme_rf.fit_local(dataset, local=100)"
   ]
  },
  {
   "cell_type": "code",
   "execution_count": 41,
   "metadata": {},
   "outputs": [],
   "source": [
    "fig_local = acme_local.summary_plot(local=True)\n",
    "fig_local.write_html('fig_local.html')"
   ]
  },
  {
   "cell_type": "code",
   "execution_count": null,
   "metadata": {},
   "outputs": [],
   "source": []
  },
  {
   "cell_type": "code",
   "execution_count": 37,
   "metadata": {},
   "outputs": [
    {
     "data": {
      "text/html": [
       "<div>\n",
       "<style scoped>\n",
       "    .dataframe tbody tr th:only-of-type {\n",
       "        vertical-align: middle;\n",
       "    }\n",
       "\n",
       "    .dataframe tbody tr th {\n",
       "        vertical-align: top;\n",
       "    }\n",
       "\n",
       "    .dataframe thead th {\n",
       "        text-align: right;\n",
       "    }\n",
       "</style>\n",
       "<table border=\"1\" class=\"dataframe\">\n",
       "  <thead>\n",
       "    <tr style=\"text-align: right;\">\n",
       "      <th></th>\n",
       "      <th>effect</th>\n",
       "      <th>predictions</th>\n",
       "      <th>mean_prediction</th>\n",
       "      <th>original</th>\n",
       "      <th>quantile</th>\n",
       "      <th>Importance</th>\n",
       "      <th>local_quantile</th>\n",
       "    </tr>\n",
       "  </thead>\n",
       "  <tbody>\n",
       "    <tr>\n",
       "      <th>RM</th>\n",
       "      <td>22.9810</td>\n",
       "      <td>22.9810</td>\n",
       "      <td>33.483</td>\n",
       "      <td>3.561000</td>\n",
       "      <td>0.000000</td>\n",
       "      <td>10.75429</td>\n",
       "      <td>0.897959</td>\n",
       "    </tr>\n",
       "    <tr>\n",
       "      <th>RM</th>\n",
       "      <td>22.8080</td>\n",
       "      <td>22.8080</td>\n",
       "      <td>33.483</td>\n",
       "      <td>4.912122</td>\n",
       "      <td>0.020408</td>\n",
       "      <td>10.75429</td>\n",
       "      <td>0.897959</td>\n",
       "    </tr>\n",
       "    <tr>\n",
       "      <th>RM</th>\n",
       "      <td>22.8080</td>\n",
       "      <td>22.8080</td>\n",
       "      <td>33.483</td>\n",
       "      <td>5.173980</td>\n",
       "      <td>0.040816</td>\n",
       "      <td>10.75429</td>\n",
       "      <td>0.897959</td>\n",
       "    </tr>\n",
       "    <tr>\n",
       "      <th>RM</th>\n",
       "      <td>22.8445</td>\n",
       "      <td>22.8445</td>\n",
       "      <td>33.483</td>\n",
       "      <td>5.398265</td>\n",
       "      <td>0.061224</td>\n",
       "      <td>10.75429</td>\n",
       "      <td>0.897959</td>\n",
       "    </tr>\n",
       "    <tr>\n",
       "      <th>RM</th>\n",
       "      <td>22.8445</td>\n",
       "      <td>22.8445</td>\n",
       "      <td>33.483</td>\n",
       "      <td>5.479673</td>\n",
       "      <td>0.081633</td>\n",
       "      <td>10.75429</td>\n",
       "      <td>0.897959</td>\n",
       "    </tr>\n",
       "  </tbody>\n",
       "</table>\n",
       "</div>"
      ],
      "text/plain": [
       "     effect  predictions  mean_prediction  original  quantile  Importance  \\\n",
       "RM  22.9810      22.9810           33.483  3.561000  0.000000    10.75429   \n",
       "RM  22.8080      22.8080           33.483  4.912122  0.020408    10.75429   \n",
       "RM  22.8080      22.8080           33.483  5.173980  0.040816    10.75429   \n",
       "RM  22.8445      22.8445           33.483  5.398265  0.061224    10.75429   \n",
       "RM  22.8445      22.8445           33.483  5.479673  0.081633    10.75429   \n",
       "\n",
       "    local_quantile  \n",
       "RM        0.897959  \n",
       "RM        0.897959  \n",
       "RM        0.897959  \n",
       "RM        0.897959  \n",
       "RM        0.897959  "
      ]
     },
     "execution_count": 37,
     "metadata": {},
     "output_type": "execute_result"
    }
   ],
   "source": [
    "acme_rf.local_table().head()"
   ]
  },
  {
   "cell_type": "code",
   "execution_count": 38,
   "metadata": {},
   "outputs": [
    {
     "data": {
      "text/html": [
       "<div>\n",
       "<style scoped>\n",
       "    .dataframe tbody tr th:only-of-type {\n",
       "        vertical-align: middle;\n",
       "    }\n",
       "\n",
       "    .dataframe tbody tr th {\n",
       "        vertical-align: top;\n",
       "    }\n",
       "\n",
       "    .dataframe thead th {\n",
       "        text-align: right;\n",
       "    }\n",
       "</style>\n",
       "<table border=\"1\" class=\"dataframe\">\n",
       "  <thead>\n",
       "    <tr style=\"text-align: right;\">\n",
       "      <th></th>\n",
       "      <th>effect</th>\n",
       "      <th>predictions</th>\n",
       "      <th>mean_prediction</th>\n",
       "      <th>original</th>\n",
       "      <th>quantile</th>\n",
       "      <th>Importance</th>\n",
       "      <th>type_feature</th>\n",
       "    </tr>\n",
       "  </thead>\n",
       "  <tbody>\n",
       "    <tr>\n",
       "      <th>CRIM</th>\n",
       "      <td>-0.492297</td>\n",
       "      <td>21.0215</td>\n",
       "      <td>21.286</td>\n",
       "      <td>0.006320</td>\n",
       "      <td>0.000000</td>\n",
       "      <td>0.471764</td>\n",
       "      <td>numeric</td>\n",
       "    </tr>\n",
       "    <tr>\n",
       "      <th>CRIM</th>\n",
       "      <td>-0.492297</td>\n",
       "      <td>21.0215</td>\n",
       "      <td>21.286</td>\n",
       "      <td>0.015123</td>\n",
       "      <td>0.020408</td>\n",
       "      <td>0.471764</td>\n",
       "      <td>numeric</td>\n",
       "    </tr>\n",
       "    <tr>\n",
       "      <th>CRIM</th>\n",
       "      <td>-0.492297</td>\n",
       "      <td>21.0215</td>\n",
       "      <td>21.286</td>\n",
       "      <td>0.023774</td>\n",
       "      <td>0.040816</td>\n",
       "      <td>0.471764</td>\n",
       "      <td>numeric</td>\n",
       "    </tr>\n",
       "    <tr>\n",
       "      <th>CRIM</th>\n",
       "      <td>-0.466794</td>\n",
       "      <td>21.0265</td>\n",
       "      <td>21.286</td>\n",
       "      <td>0.031078</td>\n",
       "      <td>0.061224</td>\n",
       "      <td>0.471764</td>\n",
       "      <td>numeric</td>\n",
       "    </tr>\n",
       "    <tr>\n",
       "      <th>CRIM</th>\n",
       "      <td>-0.252575</td>\n",
       "      <td>21.0685</td>\n",
       "      <td>21.286</td>\n",
       "      <td>0.035395</td>\n",
       "      <td>0.081633</td>\n",
       "      <td>0.471764</td>\n",
       "      <td>numeric</td>\n",
       "    </tr>\n",
       "  </tbody>\n",
       "</table>\n",
       "</div>"
      ],
      "text/plain": [
       "        effect  predictions  mean_prediction  original  quantile  Importance  \\\n",
       "CRIM -0.492297      21.0215           21.286  0.006320  0.000000    0.471764   \n",
       "CRIM -0.492297      21.0215           21.286  0.015123  0.020408    0.471764   \n",
       "CRIM -0.492297      21.0215           21.286  0.023774  0.040816    0.471764   \n",
       "CRIM -0.466794      21.0265           21.286  0.031078  0.061224    0.471764   \n",
       "CRIM -0.252575      21.0685           21.286  0.035395  0.081633    0.471764   \n",
       "\n",
       "     type_feature  \n",
       "CRIM      numeric  \n",
       "CRIM      numeric  \n",
       "CRIM      numeric  \n",
       "CRIM      numeric  \n",
       "CRIM      numeric  "
      ]
     },
     "execution_count": 38,
     "metadata": {},
     "output_type": "execute_result"
    }
   ],
   "source": [
    "acme_rf.summary_table().head()"
   ]
  },
  {
   "cell_type": "code",
   "execution_count": 39,
   "metadata": {},
   "outputs": [
    {
     "data": {
      "application/vnd.plotly.v1+json": {
       "config": {
        "plotlyServerURL": "https://plot.ly"
       },
       "data": [
        {
         "alignmentgroup": "True",
         "hovertemplate": "Importance=%{x}<br>Feature=%{y}<extra></extra>",
         "legendgroup": "",
         "marker": {
          "color": "#636efa",
          "pattern": {
           "shape": ""
          }
         },
         "name": "",
         "offsetgroup": "",
         "orientation": "h",
         "showlegend": false,
         "textposition": "auto",
         "type": "bar",
         "x": [
          0.02825900588087214,
          0.11482029990154641,
          0.18188618534684342,
          0.4241143254999453,
          0.47176435032646635,
          0.8092886584166109,
          1.1061432503883384,
          1.5444737380076656,
          1.984616408579235,
          2.1590921830049683,
          6.556089337755152,
          8.043095543451027,
          10.754290285009724
         ],
         "xaxis": "x",
         "y": [
          "ZN",
          "CHAS",
          "NOX",
          "RAD",
          "CRIM",
          "INDUS",
          "B",
          "PTRATIO",
          "AGE",
          "TAX",
          "DIS",
          "LSTAT",
          "RM"
         ],
         "yaxis": "y"
        }
       ],
       "layout": {
        "barmode": "relative",
        "legend": {
         "tracegroupgap": 0
        },
        "template": {
         "data": {
          "bar": [
           {
            "error_x": {
             "color": "#2a3f5f"
            },
            "error_y": {
             "color": "#2a3f5f"
            },
            "marker": {
             "line": {
              "color": "#E5ECF6",
              "width": 0.5
             },
             "pattern": {
              "fillmode": "overlay",
              "size": 10,
              "solidity": 0.2
             }
            },
            "type": "bar"
           }
          ],
          "barpolar": [
           {
            "marker": {
             "line": {
              "color": "#E5ECF6",
              "width": 0.5
             },
             "pattern": {
              "fillmode": "overlay",
              "size": 10,
              "solidity": 0.2
             }
            },
            "type": "barpolar"
           }
          ],
          "carpet": [
           {
            "aaxis": {
             "endlinecolor": "#2a3f5f",
             "gridcolor": "white",
             "linecolor": "white",
             "minorgridcolor": "white",
             "startlinecolor": "#2a3f5f"
            },
            "baxis": {
             "endlinecolor": "#2a3f5f",
             "gridcolor": "white",
             "linecolor": "white",
             "minorgridcolor": "white",
             "startlinecolor": "#2a3f5f"
            },
            "type": "carpet"
           }
          ],
          "choropleth": [
           {
            "colorbar": {
             "outlinewidth": 0,
             "ticks": ""
            },
            "type": "choropleth"
           }
          ],
          "contour": [
           {
            "colorbar": {
             "outlinewidth": 0,
             "ticks": ""
            },
            "colorscale": [
             [
              0,
              "#0d0887"
             ],
             [
              0.1111111111111111,
              "#46039f"
             ],
             [
              0.2222222222222222,
              "#7201a8"
             ],
             [
              0.3333333333333333,
              "#9c179e"
             ],
             [
              0.4444444444444444,
              "#bd3786"
             ],
             [
              0.5555555555555556,
              "#d8576b"
             ],
             [
              0.6666666666666666,
              "#ed7953"
             ],
             [
              0.7777777777777778,
              "#fb9f3a"
             ],
             [
              0.8888888888888888,
              "#fdca26"
             ],
             [
              1,
              "#f0f921"
             ]
            ],
            "type": "contour"
           }
          ],
          "contourcarpet": [
           {
            "colorbar": {
             "outlinewidth": 0,
             "ticks": ""
            },
            "type": "contourcarpet"
           }
          ],
          "heatmap": [
           {
            "colorbar": {
             "outlinewidth": 0,
             "ticks": ""
            },
            "colorscale": [
             [
              0,
              "#0d0887"
             ],
             [
              0.1111111111111111,
              "#46039f"
             ],
             [
              0.2222222222222222,
              "#7201a8"
             ],
             [
              0.3333333333333333,
              "#9c179e"
             ],
             [
              0.4444444444444444,
              "#bd3786"
             ],
             [
              0.5555555555555556,
              "#d8576b"
             ],
             [
              0.6666666666666666,
              "#ed7953"
             ],
             [
              0.7777777777777778,
              "#fb9f3a"
             ],
             [
              0.8888888888888888,
              "#fdca26"
             ],
             [
              1,
              "#f0f921"
             ]
            ],
            "type": "heatmap"
           }
          ],
          "heatmapgl": [
           {
            "colorbar": {
             "outlinewidth": 0,
             "ticks": ""
            },
            "colorscale": [
             [
              0,
              "#0d0887"
             ],
             [
              0.1111111111111111,
              "#46039f"
             ],
             [
              0.2222222222222222,
              "#7201a8"
             ],
             [
              0.3333333333333333,
              "#9c179e"
             ],
             [
              0.4444444444444444,
              "#bd3786"
             ],
             [
              0.5555555555555556,
              "#d8576b"
             ],
             [
              0.6666666666666666,
              "#ed7953"
             ],
             [
              0.7777777777777778,
              "#fb9f3a"
             ],
             [
              0.8888888888888888,
              "#fdca26"
             ],
             [
              1,
              "#f0f921"
             ]
            ],
            "type": "heatmapgl"
           }
          ],
          "histogram": [
           {
            "marker": {
             "pattern": {
              "fillmode": "overlay",
              "size": 10,
              "solidity": 0.2
             }
            },
            "type": "histogram"
           }
          ],
          "histogram2d": [
           {
            "colorbar": {
             "outlinewidth": 0,
             "ticks": ""
            },
            "colorscale": [
             [
              0,
              "#0d0887"
             ],
             [
              0.1111111111111111,
              "#46039f"
             ],
             [
              0.2222222222222222,
              "#7201a8"
             ],
             [
              0.3333333333333333,
              "#9c179e"
             ],
             [
              0.4444444444444444,
              "#bd3786"
             ],
             [
              0.5555555555555556,
              "#d8576b"
             ],
             [
              0.6666666666666666,
              "#ed7953"
             ],
             [
              0.7777777777777778,
              "#fb9f3a"
             ],
             [
              0.8888888888888888,
              "#fdca26"
             ],
             [
              1,
              "#f0f921"
             ]
            ],
            "type": "histogram2d"
           }
          ],
          "histogram2dcontour": [
           {
            "colorbar": {
             "outlinewidth": 0,
             "ticks": ""
            },
            "colorscale": [
             [
              0,
              "#0d0887"
             ],
             [
              0.1111111111111111,
              "#46039f"
             ],
             [
              0.2222222222222222,
              "#7201a8"
             ],
             [
              0.3333333333333333,
              "#9c179e"
             ],
             [
              0.4444444444444444,
              "#bd3786"
             ],
             [
              0.5555555555555556,
              "#d8576b"
             ],
             [
              0.6666666666666666,
              "#ed7953"
             ],
             [
              0.7777777777777778,
              "#fb9f3a"
             ],
             [
              0.8888888888888888,
              "#fdca26"
             ],
             [
              1,
              "#f0f921"
             ]
            ],
            "type": "histogram2dcontour"
           }
          ],
          "mesh3d": [
           {
            "colorbar": {
             "outlinewidth": 0,
             "ticks": ""
            },
            "type": "mesh3d"
           }
          ],
          "parcoords": [
           {
            "line": {
             "colorbar": {
              "outlinewidth": 0,
              "ticks": ""
             }
            },
            "type": "parcoords"
           }
          ],
          "pie": [
           {
            "automargin": true,
            "type": "pie"
           }
          ],
          "scatter": [
           {
            "marker": {
             "colorbar": {
              "outlinewidth": 0,
              "ticks": ""
             }
            },
            "type": "scatter"
           }
          ],
          "scatter3d": [
           {
            "line": {
             "colorbar": {
              "outlinewidth": 0,
              "ticks": ""
             }
            },
            "marker": {
             "colorbar": {
              "outlinewidth": 0,
              "ticks": ""
             }
            },
            "type": "scatter3d"
           }
          ],
          "scattercarpet": [
           {
            "marker": {
             "colorbar": {
              "outlinewidth": 0,
              "ticks": ""
             }
            },
            "type": "scattercarpet"
           }
          ],
          "scattergeo": [
           {
            "marker": {
             "colorbar": {
              "outlinewidth": 0,
              "ticks": ""
             }
            },
            "type": "scattergeo"
           }
          ],
          "scattergl": [
           {
            "marker": {
             "colorbar": {
              "outlinewidth": 0,
              "ticks": ""
             }
            },
            "type": "scattergl"
           }
          ],
          "scattermapbox": [
           {
            "marker": {
             "colorbar": {
              "outlinewidth": 0,
              "ticks": ""
             }
            },
            "type": "scattermapbox"
           }
          ],
          "scatterpolar": [
           {
            "marker": {
             "colorbar": {
              "outlinewidth": 0,
              "ticks": ""
             }
            },
            "type": "scatterpolar"
           }
          ],
          "scatterpolargl": [
           {
            "marker": {
             "colorbar": {
              "outlinewidth": 0,
              "ticks": ""
             }
            },
            "type": "scatterpolargl"
           }
          ],
          "scatterternary": [
           {
            "marker": {
             "colorbar": {
              "outlinewidth": 0,
              "ticks": ""
             }
            },
            "type": "scatterternary"
           }
          ],
          "surface": [
           {
            "colorbar": {
             "outlinewidth": 0,
             "ticks": ""
            },
            "colorscale": [
             [
              0,
              "#0d0887"
             ],
             [
              0.1111111111111111,
              "#46039f"
             ],
             [
              0.2222222222222222,
              "#7201a8"
             ],
             [
              0.3333333333333333,
              "#9c179e"
             ],
             [
              0.4444444444444444,
              "#bd3786"
             ],
             [
              0.5555555555555556,
              "#d8576b"
             ],
             [
              0.6666666666666666,
              "#ed7953"
             ],
             [
              0.7777777777777778,
              "#fb9f3a"
             ],
             [
              0.8888888888888888,
              "#fdca26"
             ],
             [
              1,
              "#f0f921"
             ]
            ],
            "type": "surface"
           }
          ],
          "table": [
           {
            "cells": {
             "fill": {
              "color": "#EBF0F8"
             },
             "line": {
              "color": "white"
             }
            },
            "header": {
             "fill": {
              "color": "#C8D4E3"
             },
             "line": {
              "color": "white"
             }
            },
            "type": "table"
           }
          ]
         },
         "layout": {
          "annotationdefaults": {
           "arrowcolor": "#2a3f5f",
           "arrowhead": 0,
           "arrowwidth": 1
          },
          "autotypenumbers": "strict",
          "coloraxis": {
           "colorbar": {
            "outlinewidth": 0,
            "ticks": ""
           }
          },
          "colorscale": {
           "diverging": [
            [
             0,
             "#8e0152"
            ],
            [
             0.1,
             "#c51b7d"
            ],
            [
             0.2,
             "#de77ae"
            ],
            [
             0.3,
             "#f1b6da"
            ],
            [
             0.4,
             "#fde0ef"
            ],
            [
             0.5,
             "#f7f7f7"
            ],
            [
             0.6,
             "#e6f5d0"
            ],
            [
             0.7,
             "#b8e186"
            ],
            [
             0.8,
             "#7fbc41"
            ],
            [
             0.9,
             "#4d9221"
            ],
            [
             1,
             "#276419"
            ]
           ],
           "sequential": [
            [
             0,
             "#0d0887"
            ],
            [
             0.1111111111111111,
             "#46039f"
            ],
            [
             0.2222222222222222,
             "#7201a8"
            ],
            [
             0.3333333333333333,
             "#9c179e"
            ],
            [
             0.4444444444444444,
             "#bd3786"
            ],
            [
             0.5555555555555556,
             "#d8576b"
            ],
            [
             0.6666666666666666,
             "#ed7953"
            ],
            [
             0.7777777777777778,
             "#fb9f3a"
            ],
            [
             0.8888888888888888,
             "#fdca26"
            ],
            [
             1,
             "#f0f921"
            ]
           ],
           "sequentialminus": [
            [
             0,
             "#0d0887"
            ],
            [
             0.1111111111111111,
             "#46039f"
            ],
            [
             0.2222222222222222,
             "#7201a8"
            ],
            [
             0.3333333333333333,
             "#9c179e"
            ],
            [
             0.4444444444444444,
             "#bd3786"
            ],
            [
             0.5555555555555556,
             "#d8576b"
            ],
            [
             0.6666666666666666,
             "#ed7953"
            ],
            [
             0.7777777777777778,
             "#fb9f3a"
            ],
            [
             0.8888888888888888,
             "#fdca26"
            ],
            [
             1,
             "#f0f921"
            ]
           ]
          },
          "colorway": [
           "#636efa",
           "#EF553B",
           "#00cc96",
           "#ab63fa",
           "#FFA15A",
           "#19d3f3",
           "#FF6692",
           "#B6E880",
           "#FF97FF",
           "#FECB52"
          ],
          "font": {
           "color": "#2a3f5f"
          },
          "geo": {
           "bgcolor": "white",
           "lakecolor": "white",
           "landcolor": "#E5ECF6",
           "showlakes": true,
           "showland": true,
           "subunitcolor": "white"
          },
          "hoverlabel": {
           "align": "left"
          },
          "hovermode": "closest",
          "mapbox": {
           "style": "light"
          },
          "paper_bgcolor": "white",
          "plot_bgcolor": "#E5ECF6",
          "polar": {
           "angularaxis": {
            "gridcolor": "white",
            "linecolor": "white",
            "ticks": ""
           },
           "bgcolor": "#E5ECF6",
           "radialaxis": {
            "gridcolor": "white",
            "linecolor": "white",
            "ticks": ""
           }
          },
          "scene": {
           "xaxis": {
            "backgroundcolor": "#E5ECF6",
            "gridcolor": "white",
            "gridwidth": 2,
            "linecolor": "white",
            "showbackground": true,
            "ticks": "",
            "zerolinecolor": "white"
           },
           "yaxis": {
            "backgroundcolor": "#E5ECF6",
            "gridcolor": "white",
            "gridwidth": 2,
            "linecolor": "white",
            "showbackground": true,
            "ticks": "",
            "zerolinecolor": "white"
           },
           "zaxis": {
            "backgroundcolor": "#E5ECF6",
            "gridcolor": "white",
            "gridwidth": 2,
            "linecolor": "white",
            "showbackground": true,
            "ticks": "",
            "zerolinecolor": "white"
           }
          },
          "shapedefaults": {
           "line": {
            "color": "#2a3f5f"
           }
          },
          "ternary": {
           "aaxis": {
            "gridcolor": "white",
            "linecolor": "white",
            "ticks": ""
           },
           "baxis": {
            "gridcolor": "white",
            "linecolor": "white",
            "ticks": ""
           },
           "bgcolor": "#E5ECF6",
           "caxis": {
            "gridcolor": "white",
            "linecolor": "white",
            "ticks": ""
           }
          },
          "title": {
           "x": 0.05
          },
          "xaxis": {
           "automargin": true,
           "gridcolor": "white",
           "linecolor": "white",
           "ticks": "",
           "title": {
            "standoff": 15
           },
           "zerolinecolor": "white",
           "zerolinewidth": 2
          },
          "yaxis": {
           "automargin": true,
           "gridcolor": "white",
           "linecolor": "white",
           "ticks": "",
           "title": {
            "standoff": 15
           },
           "zerolinecolor": "white",
           "zerolinewidth": 2
          }
         }
        },
        "title": {
         "text": "Barplot of feature importance: regression",
         "x": 0.5,
         "xanchor": "center",
         "y": 0.9,
         "yanchor": "top"
        },
        "xaxis": {
         "anchor": "y",
         "domain": [
          0,
          1
         ],
         "title": {
          "text": "Importance"
         }
        },
        "yaxis": {
         "anchor": "x",
         "domain": [
          0,
          1
         ],
         "title": {
          "text": "Feature"
         }
        }
       }
      },
      "text/html": [
       "<div>                            <div id=\"9dc38ffc-7bdc-4389-925d-9ee3e09eed5d\" class=\"plotly-graph-div\" style=\"height:525px; width:100%;\"></div>            <script type=\"text/javascript\">                require([\"plotly\"], function(Plotly) {                    window.PLOTLYENV=window.PLOTLYENV || {};                                    if (document.getElementById(\"9dc38ffc-7bdc-4389-925d-9ee3e09eed5d\")) {                    Plotly.newPlot(                        \"9dc38ffc-7bdc-4389-925d-9ee3e09eed5d\",                        [{\"alignmentgroup\":\"True\",\"hovertemplate\":\"Importance=%{x}<br>Feature=%{y}<extra></extra>\",\"legendgroup\":\"\",\"marker\":{\"color\":\"#636efa\",\"pattern\":{\"shape\":\"\"}},\"name\":\"\",\"offsetgroup\":\"\",\"orientation\":\"h\",\"showlegend\":false,\"textposition\":\"auto\",\"type\":\"bar\",\"x\":[0.02825900588087214,0.11482029990154641,0.18188618534684342,0.4241143254999453,0.47176435032646635,0.8092886584166109,1.1061432503883384,1.5444737380076656,1.984616408579235,2.1590921830049683,6.556089337755152,8.043095543451027,10.754290285009724],\"xaxis\":\"x\",\"y\":[\"ZN\",\"CHAS\",\"NOX\",\"RAD\",\"CRIM\",\"INDUS\",\"B\",\"PTRATIO\",\"AGE\",\"TAX\",\"DIS\",\"LSTAT\",\"RM\"],\"yaxis\":\"y\"}],                        {\"barmode\":\"relative\",\"legend\":{\"tracegroupgap\":0},\"template\":{\"data\":{\"bar\":[{\"error_x\":{\"color\":\"#2a3f5f\"},\"error_y\":{\"color\":\"#2a3f5f\"},\"marker\":{\"line\":{\"color\":\"#E5ECF6\",\"width\":0.5},\"pattern\":{\"fillmode\":\"overlay\",\"size\":10,\"solidity\":0.2}},\"type\":\"bar\"}],\"barpolar\":[{\"marker\":{\"line\":{\"color\":\"#E5ECF6\",\"width\":0.5},\"pattern\":{\"fillmode\":\"overlay\",\"size\":10,\"solidity\":0.2}},\"type\":\"barpolar\"}],\"carpet\":[{\"aaxis\":{\"endlinecolor\":\"#2a3f5f\",\"gridcolor\":\"white\",\"linecolor\":\"white\",\"minorgridcolor\":\"white\",\"startlinecolor\":\"#2a3f5f\"},\"baxis\":{\"endlinecolor\":\"#2a3f5f\",\"gridcolor\":\"white\",\"linecolor\":\"white\",\"minorgridcolor\":\"white\",\"startlinecolor\":\"#2a3f5f\"},\"type\":\"carpet\"}],\"choropleth\":[{\"colorbar\":{\"outlinewidth\":0,\"ticks\":\"\"},\"type\":\"choropleth\"}],\"contour\":[{\"colorbar\":{\"outlinewidth\":0,\"ticks\":\"\"},\"colorscale\":[[0.0,\"#0d0887\"],[0.1111111111111111,\"#46039f\"],[0.2222222222222222,\"#7201a8\"],[0.3333333333333333,\"#9c179e\"],[0.4444444444444444,\"#bd3786\"],[0.5555555555555556,\"#d8576b\"],[0.6666666666666666,\"#ed7953\"],[0.7777777777777778,\"#fb9f3a\"],[0.8888888888888888,\"#fdca26\"],[1.0,\"#f0f921\"]],\"type\":\"contour\"}],\"contourcarpet\":[{\"colorbar\":{\"outlinewidth\":0,\"ticks\":\"\"},\"type\":\"contourcarpet\"}],\"heatmap\":[{\"colorbar\":{\"outlinewidth\":0,\"ticks\":\"\"},\"colorscale\":[[0.0,\"#0d0887\"],[0.1111111111111111,\"#46039f\"],[0.2222222222222222,\"#7201a8\"],[0.3333333333333333,\"#9c179e\"],[0.4444444444444444,\"#bd3786\"],[0.5555555555555556,\"#d8576b\"],[0.6666666666666666,\"#ed7953\"],[0.7777777777777778,\"#fb9f3a\"],[0.8888888888888888,\"#fdca26\"],[1.0,\"#f0f921\"]],\"type\":\"heatmap\"}],\"heatmapgl\":[{\"colorbar\":{\"outlinewidth\":0,\"ticks\":\"\"},\"colorscale\":[[0.0,\"#0d0887\"],[0.1111111111111111,\"#46039f\"],[0.2222222222222222,\"#7201a8\"],[0.3333333333333333,\"#9c179e\"],[0.4444444444444444,\"#bd3786\"],[0.5555555555555556,\"#d8576b\"],[0.6666666666666666,\"#ed7953\"],[0.7777777777777778,\"#fb9f3a\"],[0.8888888888888888,\"#fdca26\"],[1.0,\"#f0f921\"]],\"type\":\"heatmapgl\"}],\"histogram\":[{\"marker\":{\"pattern\":{\"fillmode\":\"overlay\",\"size\":10,\"solidity\":0.2}},\"type\":\"histogram\"}],\"histogram2d\":[{\"colorbar\":{\"outlinewidth\":0,\"ticks\":\"\"},\"colorscale\":[[0.0,\"#0d0887\"],[0.1111111111111111,\"#46039f\"],[0.2222222222222222,\"#7201a8\"],[0.3333333333333333,\"#9c179e\"],[0.4444444444444444,\"#bd3786\"],[0.5555555555555556,\"#d8576b\"],[0.6666666666666666,\"#ed7953\"],[0.7777777777777778,\"#fb9f3a\"],[0.8888888888888888,\"#fdca26\"],[1.0,\"#f0f921\"]],\"type\":\"histogram2d\"}],\"histogram2dcontour\":[{\"colorbar\":{\"outlinewidth\":0,\"ticks\":\"\"},\"colorscale\":[[0.0,\"#0d0887\"],[0.1111111111111111,\"#46039f\"],[0.2222222222222222,\"#7201a8\"],[0.3333333333333333,\"#9c179e\"],[0.4444444444444444,\"#bd3786\"],[0.5555555555555556,\"#d8576b\"],[0.6666666666666666,\"#ed7953\"],[0.7777777777777778,\"#fb9f3a\"],[0.8888888888888888,\"#fdca26\"],[1.0,\"#f0f921\"]],\"type\":\"histogram2dcontour\"}],\"mesh3d\":[{\"colorbar\":{\"outlinewidth\":0,\"ticks\":\"\"},\"type\":\"mesh3d\"}],\"parcoords\":[{\"line\":{\"colorbar\":{\"outlinewidth\":0,\"ticks\":\"\"}},\"type\":\"parcoords\"}],\"pie\":[{\"automargin\":true,\"type\":\"pie\"}],\"scatter\":[{\"marker\":{\"colorbar\":{\"outlinewidth\":0,\"ticks\":\"\"}},\"type\":\"scatter\"}],\"scatter3d\":[{\"line\":{\"colorbar\":{\"outlinewidth\":0,\"ticks\":\"\"}},\"marker\":{\"colorbar\":{\"outlinewidth\":0,\"ticks\":\"\"}},\"type\":\"scatter3d\"}],\"scattercarpet\":[{\"marker\":{\"colorbar\":{\"outlinewidth\":0,\"ticks\":\"\"}},\"type\":\"scattercarpet\"}],\"scattergeo\":[{\"marker\":{\"colorbar\":{\"outlinewidth\":0,\"ticks\":\"\"}},\"type\":\"scattergeo\"}],\"scattergl\":[{\"marker\":{\"colorbar\":{\"outlinewidth\":0,\"ticks\":\"\"}},\"type\":\"scattergl\"}],\"scattermapbox\":[{\"marker\":{\"colorbar\":{\"outlinewidth\":0,\"ticks\":\"\"}},\"type\":\"scattermapbox\"}],\"scatterpolar\":[{\"marker\":{\"colorbar\":{\"outlinewidth\":0,\"ticks\":\"\"}},\"type\":\"scatterpolar\"}],\"scatterpolargl\":[{\"marker\":{\"colorbar\":{\"outlinewidth\":0,\"ticks\":\"\"}},\"type\":\"scatterpolargl\"}],\"scatterternary\":[{\"marker\":{\"colorbar\":{\"outlinewidth\":0,\"ticks\":\"\"}},\"type\":\"scatterternary\"}],\"surface\":[{\"colorbar\":{\"outlinewidth\":0,\"ticks\":\"\"},\"colorscale\":[[0.0,\"#0d0887\"],[0.1111111111111111,\"#46039f\"],[0.2222222222222222,\"#7201a8\"],[0.3333333333333333,\"#9c179e\"],[0.4444444444444444,\"#bd3786\"],[0.5555555555555556,\"#d8576b\"],[0.6666666666666666,\"#ed7953\"],[0.7777777777777778,\"#fb9f3a\"],[0.8888888888888888,\"#fdca26\"],[1.0,\"#f0f921\"]],\"type\":\"surface\"}],\"table\":[{\"cells\":{\"fill\":{\"color\":\"#EBF0F8\"},\"line\":{\"color\":\"white\"}},\"header\":{\"fill\":{\"color\":\"#C8D4E3\"},\"line\":{\"color\":\"white\"}},\"type\":\"table\"}]},\"layout\":{\"annotationdefaults\":{\"arrowcolor\":\"#2a3f5f\",\"arrowhead\":0,\"arrowwidth\":1},\"autotypenumbers\":\"strict\",\"coloraxis\":{\"colorbar\":{\"outlinewidth\":0,\"ticks\":\"\"}},\"colorscale\":{\"diverging\":[[0,\"#8e0152\"],[0.1,\"#c51b7d\"],[0.2,\"#de77ae\"],[0.3,\"#f1b6da\"],[0.4,\"#fde0ef\"],[0.5,\"#f7f7f7\"],[0.6,\"#e6f5d0\"],[0.7,\"#b8e186\"],[0.8,\"#7fbc41\"],[0.9,\"#4d9221\"],[1,\"#276419\"]],\"sequential\":[[0.0,\"#0d0887\"],[0.1111111111111111,\"#46039f\"],[0.2222222222222222,\"#7201a8\"],[0.3333333333333333,\"#9c179e\"],[0.4444444444444444,\"#bd3786\"],[0.5555555555555556,\"#d8576b\"],[0.6666666666666666,\"#ed7953\"],[0.7777777777777778,\"#fb9f3a\"],[0.8888888888888888,\"#fdca26\"],[1.0,\"#f0f921\"]],\"sequentialminus\":[[0.0,\"#0d0887\"],[0.1111111111111111,\"#46039f\"],[0.2222222222222222,\"#7201a8\"],[0.3333333333333333,\"#9c179e\"],[0.4444444444444444,\"#bd3786\"],[0.5555555555555556,\"#d8576b\"],[0.6666666666666666,\"#ed7953\"],[0.7777777777777778,\"#fb9f3a\"],[0.8888888888888888,\"#fdca26\"],[1.0,\"#f0f921\"]]},\"colorway\":[\"#636efa\",\"#EF553B\",\"#00cc96\",\"#ab63fa\",\"#FFA15A\",\"#19d3f3\",\"#FF6692\",\"#B6E880\",\"#FF97FF\",\"#FECB52\"],\"font\":{\"color\":\"#2a3f5f\"},\"geo\":{\"bgcolor\":\"white\",\"lakecolor\":\"white\",\"landcolor\":\"#E5ECF6\",\"showlakes\":true,\"showland\":true,\"subunitcolor\":\"white\"},\"hoverlabel\":{\"align\":\"left\"},\"hovermode\":\"closest\",\"mapbox\":{\"style\":\"light\"},\"paper_bgcolor\":\"white\",\"plot_bgcolor\":\"#E5ECF6\",\"polar\":{\"angularaxis\":{\"gridcolor\":\"white\",\"linecolor\":\"white\",\"ticks\":\"\"},\"bgcolor\":\"#E5ECF6\",\"radialaxis\":{\"gridcolor\":\"white\",\"linecolor\":\"white\",\"ticks\":\"\"}},\"scene\":{\"xaxis\":{\"backgroundcolor\":\"#E5ECF6\",\"gridcolor\":\"white\",\"gridwidth\":2,\"linecolor\":\"white\",\"showbackground\":true,\"ticks\":\"\",\"zerolinecolor\":\"white\"},\"yaxis\":{\"backgroundcolor\":\"#E5ECF6\",\"gridcolor\":\"white\",\"gridwidth\":2,\"linecolor\":\"white\",\"showbackground\":true,\"ticks\":\"\",\"zerolinecolor\":\"white\"},\"zaxis\":{\"backgroundcolor\":\"#E5ECF6\",\"gridcolor\":\"white\",\"gridwidth\":2,\"linecolor\":\"white\",\"showbackground\":true,\"ticks\":\"\",\"zerolinecolor\":\"white\"}},\"shapedefaults\":{\"line\":{\"color\":\"#2a3f5f\"}},\"ternary\":{\"aaxis\":{\"gridcolor\":\"white\",\"linecolor\":\"white\",\"ticks\":\"\"},\"baxis\":{\"gridcolor\":\"white\",\"linecolor\":\"white\",\"ticks\":\"\"},\"bgcolor\":\"#E5ECF6\",\"caxis\":{\"gridcolor\":\"white\",\"linecolor\":\"white\",\"ticks\":\"\"}},\"title\":{\"x\":0.05},\"xaxis\":{\"automargin\":true,\"gridcolor\":\"white\",\"linecolor\":\"white\",\"ticks\":\"\",\"title\":{\"standoff\":15},\"zerolinecolor\":\"white\",\"zerolinewidth\":2},\"yaxis\":{\"automargin\":true,\"gridcolor\":\"white\",\"linecolor\":\"white\",\"ticks\":\"\",\"title\":{\"standoff\":15},\"zerolinecolor\":\"white\",\"zerolinewidth\":2}}},\"title\":{\"text\":\"Barplot of feature importance: regression\",\"x\":0.5,\"xanchor\":\"center\",\"y\":0.9,\"yanchor\":\"top\"},\"xaxis\":{\"anchor\":\"y\",\"domain\":[0.0,1.0],\"title\":{\"text\":\"Importance\"}},\"yaxis\":{\"anchor\":\"x\",\"domain\":[0.0,1.0],\"title\":{\"text\":\"Feature\"}}},                        {\"responsive\": true}                    ).then(function(){\n",
       "                            \n",
       "var gd = document.getElementById('9dc38ffc-7bdc-4389-925d-9ee3e09eed5d');\n",
       "var x = new MutationObserver(function (mutations, observer) {{\n",
       "        var display = window.getComputedStyle(gd).display;\n",
       "        if (!display || display === 'none') {{\n",
       "            console.log([gd, 'removed!']);\n",
       "            Plotly.purge(gd);\n",
       "            observer.disconnect();\n",
       "        }}\n",
       "}});\n",
       "\n",
       "// Listen for the removal of the full notebook cells\n",
       "var notebookContainer = gd.closest('#notebook-container');\n",
       "if (notebookContainer) {{\n",
       "    x.observe(notebookContainer, {childList: true});\n",
       "}}\n",
       "\n",
       "// Listen for the clearing of the current output cell\n",
       "var outputEl = gd.closest('.output');\n",
       "if (outputEl) {{\n",
       "    x.observe(outputEl, {childList: true});\n",
       "}}\n",
       "\n",
       "                        })                };                });            </script>        </div>"
      ]
     },
     "metadata": {},
     "output_type": "display_data"
    }
   ],
   "source": [
    "acme_rf.bar_plot()"
   ]
  },
  {
   "cell_type": "code",
   "execution_count": null,
   "metadata": {},
   "outputs": [],
   "source": []
  }
 ],
 "metadata": {
  "kernelspec": {
   "display_name": "Python 3 (ipykernel)",
   "language": "python",
   "name": "python3"
  },
  "language_info": {
   "codemirror_mode": {
    "name": "ipython",
    "version": 3
   },
   "file_extension": ".py",
   "mimetype": "text/x-python",
   "name": "python",
   "nbconvert_exporter": "python",
   "pygments_lexer": "ipython3",
   "version": "3.8.12"
  }
 },
 "nbformat": 4,
 "nbformat_minor": 4
}
