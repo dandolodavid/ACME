{
 "cells": [
  {
   "cell_type": "code",
   "execution_count": 1,
   "metadata": {},
   "outputs": [],
   "source": [
    "import sys\n",
    "import os\n",
    "sys.path.append(os.getcwd()[:-8])"
   ]
  },
  {
   "cell_type": "code",
   "execution_count": 18,
   "metadata": {},
   "outputs": [],
   "source": [
    "import pandas as pd\n",
    "import numpy as np\n",
    "from sklearn.ensemble import RandomForestClassifier\n",
    "from catboost import CatBoostClassifier\n",
    "from ACME.ACME import ACME "
   ]
  },
  {
   "cell_type": "code",
   "execution_count": 3,
   "metadata": {},
   "outputs": [],
   "source": [
    "from plotly.io import write_image\n",
    "import matplotlib.pyplot as plt"
   ]
  },
  {
   "cell_type": "code",
   "execution_count": 4,
   "metadata": {},
   "outputs": [],
   "source": [
    "glass_data = pd.read_csv('https://archive.ics.uci.edu/ml/machine-learning-databases/glass/glass.data',index_col=[0])\n",
    "glass_data.columns = ['RI','Na','Mg','Al','Si','K','Ca','Ba','Fe','Type']"
   ]
  },
  {
   "cell_type": "code",
   "execution_count": 5,
   "metadata": {},
   "outputs": [],
   "source": [
    "features = glass_data.drop(columns='Type').columns.to_list()"
   ]
  },
  {
   "cell_type": "code",
   "execution_count": 6,
   "metadata": {},
   "outputs": [
    {
     "data": {
      "text/html": [
       "<div>\n",
       "<style scoped>\n",
       "    .dataframe tbody tr th:only-of-type {\n",
       "        vertical-align: middle;\n",
       "    }\n",
       "\n",
       "    .dataframe tbody tr th {\n",
       "        vertical-align: top;\n",
       "    }\n",
       "\n",
       "    .dataframe thead th {\n",
       "        text-align: right;\n",
       "    }\n",
       "</style>\n",
       "<table border=\"1\" class=\"dataframe\">\n",
       "  <thead>\n",
       "    <tr style=\"text-align: right;\">\n",
       "      <th></th>\n",
       "      <th>RI</th>\n",
       "      <th>Na</th>\n",
       "      <th>Mg</th>\n",
       "      <th>Al</th>\n",
       "      <th>Si</th>\n",
       "      <th>K</th>\n",
       "      <th>Ca</th>\n",
       "      <th>Ba</th>\n",
       "      <th>Fe</th>\n",
       "      <th>Type</th>\n",
       "    </tr>\n",
       "    <tr>\n",
       "      <th>1</th>\n",
       "      <th></th>\n",
       "      <th></th>\n",
       "      <th></th>\n",
       "      <th></th>\n",
       "      <th></th>\n",
       "      <th></th>\n",
       "      <th></th>\n",
       "      <th></th>\n",
       "      <th></th>\n",
       "      <th></th>\n",
       "    </tr>\n",
       "  </thead>\n",
       "  <tbody>\n",
       "    <tr>\n",
       "      <th>2</th>\n",
       "      <td>1.51761</td>\n",
       "      <td>13.89</td>\n",
       "      <td>3.60</td>\n",
       "      <td>1.36</td>\n",
       "      <td>72.73</td>\n",
       "      <td>0.48</td>\n",
       "      <td>7.83</td>\n",
       "      <td>0.00</td>\n",
       "      <td>0.00</td>\n",
       "      <td>1</td>\n",
       "    </tr>\n",
       "    <tr>\n",
       "      <th>3</th>\n",
       "      <td>1.51618</td>\n",
       "      <td>13.53</td>\n",
       "      <td>3.55</td>\n",
       "      <td>1.54</td>\n",
       "      <td>72.99</td>\n",
       "      <td>0.39</td>\n",
       "      <td>7.78</td>\n",
       "      <td>0.00</td>\n",
       "      <td>0.00</td>\n",
       "      <td>1</td>\n",
       "    </tr>\n",
       "    <tr>\n",
       "      <th>4</th>\n",
       "      <td>1.51766</td>\n",
       "      <td>13.21</td>\n",
       "      <td>3.69</td>\n",
       "      <td>1.29</td>\n",
       "      <td>72.61</td>\n",
       "      <td>0.57</td>\n",
       "      <td>8.22</td>\n",
       "      <td>0.00</td>\n",
       "      <td>0.00</td>\n",
       "      <td>1</td>\n",
       "    </tr>\n",
       "    <tr>\n",
       "      <th>5</th>\n",
       "      <td>1.51742</td>\n",
       "      <td>13.27</td>\n",
       "      <td>3.62</td>\n",
       "      <td>1.24</td>\n",
       "      <td>73.08</td>\n",
       "      <td>0.55</td>\n",
       "      <td>8.07</td>\n",
       "      <td>0.00</td>\n",
       "      <td>0.00</td>\n",
       "      <td>1</td>\n",
       "    </tr>\n",
       "    <tr>\n",
       "      <th>6</th>\n",
       "      <td>1.51596</td>\n",
       "      <td>12.79</td>\n",
       "      <td>3.61</td>\n",
       "      <td>1.62</td>\n",
       "      <td>72.97</td>\n",
       "      <td>0.64</td>\n",
       "      <td>8.07</td>\n",
       "      <td>0.00</td>\n",
       "      <td>0.26</td>\n",
       "      <td>1</td>\n",
       "    </tr>\n",
       "    <tr>\n",
       "      <th>...</th>\n",
       "      <td>...</td>\n",
       "      <td>...</td>\n",
       "      <td>...</td>\n",
       "      <td>...</td>\n",
       "      <td>...</td>\n",
       "      <td>...</td>\n",
       "      <td>...</td>\n",
       "      <td>...</td>\n",
       "      <td>...</td>\n",
       "      <td>...</td>\n",
       "    </tr>\n",
       "    <tr>\n",
       "      <th>210</th>\n",
       "      <td>1.51623</td>\n",
       "      <td>14.14</td>\n",
       "      <td>0.00</td>\n",
       "      <td>2.88</td>\n",
       "      <td>72.61</td>\n",
       "      <td>0.08</td>\n",
       "      <td>9.18</td>\n",
       "      <td>1.06</td>\n",
       "      <td>0.00</td>\n",
       "      <td>7</td>\n",
       "    </tr>\n",
       "    <tr>\n",
       "      <th>211</th>\n",
       "      <td>1.51685</td>\n",
       "      <td>14.92</td>\n",
       "      <td>0.00</td>\n",
       "      <td>1.99</td>\n",
       "      <td>73.06</td>\n",
       "      <td>0.00</td>\n",
       "      <td>8.40</td>\n",
       "      <td>1.59</td>\n",
       "      <td>0.00</td>\n",
       "      <td>7</td>\n",
       "    </tr>\n",
       "    <tr>\n",
       "      <th>212</th>\n",
       "      <td>1.52065</td>\n",
       "      <td>14.36</td>\n",
       "      <td>0.00</td>\n",
       "      <td>2.02</td>\n",
       "      <td>73.42</td>\n",
       "      <td>0.00</td>\n",
       "      <td>8.44</td>\n",
       "      <td>1.64</td>\n",
       "      <td>0.00</td>\n",
       "      <td>7</td>\n",
       "    </tr>\n",
       "    <tr>\n",
       "      <th>213</th>\n",
       "      <td>1.51651</td>\n",
       "      <td>14.38</td>\n",
       "      <td>0.00</td>\n",
       "      <td>1.94</td>\n",
       "      <td>73.61</td>\n",
       "      <td>0.00</td>\n",
       "      <td>8.48</td>\n",
       "      <td>1.57</td>\n",
       "      <td>0.00</td>\n",
       "      <td>7</td>\n",
       "    </tr>\n",
       "    <tr>\n",
       "      <th>214</th>\n",
       "      <td>1.51711</td>\n",
       "      <td>14.23</td>\n",
       "      <td>0.00</td>\n",
       "      <td>2.08</td>\n",
       "      <td>73.36</td>\n",
       "      <td>0.00</td>\n",
       "      <td>8.62</td>\n",
       "      <td>1.67</td>\n",
       "      <td>0.00</td>\n",
       "      <td>7</td>\n",
       "    </tr>\n",
       "  </tbody>\n",
       "</table>\n",
       "<p>213 rows × 10 columns</p>\n",
       "</div>"
      ],
      "text/plain": [
       "          RI     Na    Mg    Al     Si     K    Ca    Ba    Fe  Type\n",
       "1                                                                   \n",
       "2    1.51761  13.89  3.60  1.36  72.73  0.48  7.83  0.00  0.00     1\n",
       "3    1.51618  13.53  3.55  1.54  72.99  0.39  7.78  0.00  0.00     1\n",
       "4    1.51766  13.21  3.69  1.29  72.61  0.57  8.22  0.00  0.00     1\n",
       "5    1.51742  13.27  3.62  1.24  73.08  0.55  8.07  0.00  0.00     1\n",
       "6    1.51596  12.79  3.61  1.62  72.97  0.64  8.07  0.00  0.26     1\n",
       "..       ...    ...   ...   ...    ...   ...   ...   ...   ...   ...\n",
       "210  1.51623  14.14  0.00  2.88  72.61  0.08  9.18  1.06  0.00     7\n",
       "211  1.51685  14.92  0.00  1.99  73.06  0.00  8.40  1.59  0.00     7\n",
       "212  1.52065  14.36  0.00  2.02  73.42  0.00  8.44  1.64  0.00     7\n",
       "213  1.51651  14.38  0.00  1.94  73.61  0.00  8.48  1.57  0.00     7\n",
       "214  1.51711  14.23  0.00  2.08  73.36  0.00  8.62  1.67  0.00     7\n",
       "\n",
       "[213 rows x 10 columns]"
      ]
     },
     "execution_count": 6,
     "metadata": {},
     "output_type": "execute_result"
    }
   ],
   "source": [
    "glass_data"
   ]
  },
  {
   "cell_type": "code",
   "execution_count": 34,
   "metadata": {
    "tags": []
   },
   "outputs": [],
   "source": [
    "rfc = RandomForestClassifier(verbose=False).fit( glass_data[features], glass_data['Type'].values )"
   ]
  },
  {
   "cell_type": "code",
   "execution_count": 35,
   "metadata": {},
   "outputs": [],
   "source": [
    "acme_rf = ACME(rfc, 'Type',K=50, task = 'class')"
   ]
  },
  {
   "cell_type": "code",
   "execution_count": 36,
   "metadata": {},
   "outputs": [],
   "source": [
    "acme_rf = acme_rf.fit(glass_data,robust = True, label_class=None)"
   ]
  },
  {
   "cell_type": "code",
   "execution_count": 37,
   "metadata": {},
   "outputs": [
    {
     "data": {
      "application/vnd.plotly.v1+json": {
       "config": {
        "plotlyServerURL": "https://plot.ly"
       },
       "data": [
        {
         "alignmentgroup": "True",
         "hovertemplate": "class=7<br>Importance=%{x}<br>Feature=%{y}<extra></extra>",
         "legendgroup": "7",
         "marker": {
          "color": "#636efa",
          "pattern": {
           "shape": ""
          }
         },
         "name": "7",
         "offsetgroup": "7",
         "orientation": "h",
         "showlegend": true,
         "textposition": "auto",
         "type": "bar",
         "x": [
          0.0029711254108328307,
          0.009437621170851968,
          0.01625091220157328,
          0.22736631985167802,
          0.02087025563597265,
          0.03844875384922834,
          0.07669443293979065,
          0.07929736071997225,
          0.05575869954961319
         ],
         "xaxis": "x",
         "y": [
          "Fe",
          "Si",
          "K",
          "Ba",
          "RI",
          "Ca",
          "Na",
          "Mg",
          "Al"
         ],
         "yaxis": "y"
        },
        {
         "alignmentgroup": "True",
         "hovertemplate": "class=6<br>Importance=%{x}<br>Feature=%{y}<extra></extra>",
         "legendgroup": "6",
         "marker": {
          "color": "#EF553B",
          "pattern": {
           "shape": ""
          }
         },
         "name": "6",
         "offsetgroup": "6",
         "orientation": "h",
         "showlegend": true,
         "textposition": "auto",
         "type": "bar",
         "x": [
          0,
          0,
          0.17110536510327598,
          0.02145813043738211,
          0.02784656768711489,
          0.026526862120595553,
          0.1635188364586071,
          0.12289647885738596,
          0.014675736885126174
         ],
         "xaxis": "x",
         "y": [
          "Fe",
          "Si",
          "K",
          "Ba",
          "RI",
          "Ca",
          "Na",
          "Mg",
          "Al"
         ],
         "yaxis": "y"
        },
        {
         "alignmentgroup": "True",
         "hovertemplate": "class=5<br>Importance=%{x}<br>Feature=%{y}<extra></extra>",
         "legendgroup": "5",
         "marker": {
          "color": "#00cc96",
          "pattern": {
           "shape": ""
          }
         },
         "name": "5",
         "offsetgroup": "5",
         "orientation": "h",
         "showlegend": true,
         "textposition": "auto",
         "type": "bar",
         "x": [
          0.00801406763135925,
          0.012974374051277849,
          0.014938812169277744,
          0.01921008986353736,
          0.02537597486688594,
          0.15220637287105443,
          0.04476552490616064,
          0.2653386908854501,
          0.16164205931565528
         ],
         "xaxis": "x",
         "y": [
          "Fe",
          "Si",
          "K",
          "Ba",
          "RI",
          "Ca",
          "Na",
          "Mg",
          "Al"
         ],
         "yaxis": "y"
        },
        {
         "alignmentgroup": "True",
         "hovertemplate": "class=3<br>Importance=%{x}<br>Feature=%{y}<extra></extra>",
         "legendgroup": "3",
         "marker": {
          "color": "#ab63fa",
          "pattern": {
           "shape": ""
          }
         },
         "name": "3",
         "offsetgroup": "3",
         "orientation": "h",
         "showlegend": true,
         "textposition": "auto",
         "type": "bar",
         "x": [
          0.06138883160000832,
          0.11968009858833593,
          0.048726510857474085,
          0.05314533253621933,
          0.13634669897824003,
          0.10663242889555978,
          0.09813094272293434,
          0.2723499306210635,
          0.1419245195849378
         ],
         "xaxis": "x",
         "y": [
          "Fe",
          "Si",
          "K",
          "Ba",
          "RI",
          "Ca",
          "Na",
          "Mg",
          "Al"
         ],
         "yaxis": "y"
        },
        {
         "alignmentgroup": "True",
         "hovertemplate": "class=2<br>Importance=%{x}<br>Feature=%{y}<extra></extra>",
         "legendgroup": "2",
         "marker": {
          "color": "#FFA15A",
          "pattern": {
           "shape": ""
          }
         },
         "name": "2",
         "offsetgroup": "2",
         "orientation": "h",
         "showlegend": true,
         "textposition": "auto",
         "type": "bar",
         "x": [
          0.03355976854086046,
          0.08366127102986293,
          0.172484732156331,
          0.13404062201182873,
          0.12044854644068405,
          0.22884567081186907,
          0.2043524244051497,
          0.1858626989650994,
          0.34657075856183533
         ],
         "xaxis": "x",
         "y": [
          "Fe",
          "Si",
          "K",
          "Ba",
          "RI",
          "Ca",
          "Na",
          "Mg",
          "Al"
         ],
         "yaxis": "y"
        },
        {
         "alignmentgroup": "True",
         "hovertemplate": "class=1<br>Importance=%{x}<br>Feature=%{y}<extra></extra>",
         "legendgroup": "1",
         "marker": {
          "color": "#19d3f3",
          "pattern": {
           "shape": ""
          }
         },
         "name": "1",
         "offsetgroup": "1",
         "orientation": "h",
         "showlegend": true,
         "textposition": "auto",
         "type": "bar",
         "x": [
          0.044646389113390486,
          0.08552396070330122,
          0.046416324240113015,
          0.07135374359849395,
          0.20218186424902487,
          0.09736817046001633,
          0.0925723619323935,
          0.18435131740341898,
          0.45401856178762684
         ],
         "xaxis": "x",
         "y": [
          "Fe",
          "Si",
          "K",
          "Ba",
          "RI",
          "Ca",
          "Na",
          "Mg",
          "Al"
         ],
         "yaxis": "y"
        }
       ],
       "layout": {
        "barmode": "relative",
        "legend": {
         "title": {
          "text": "class"
         },
         "tracegroupgap": 0
        },
        "template": {
         "data": {
          "bar": [
           {
            "error_x": {
             "color": "#2a3f5f"
            },
            "error_y": {
             "color": "#2a3f5f"
            },
            "marker": {
             "line": {
              "color": "#E5ECF6",
              "width": 0.5
             },
             "pattern": {
              "fillmode": "overlay",
              "size": 10,
              "solidity": 0.2
             }
            },
            "type": "bar"
           }
          ],
          "barpolar": [
           {
            "marker": {
             "line": {
              "color": "#E5ECF6",
              "width": 0.5
             },
             "pattern": {
              "fillmode": "overlay",
              "size": 10,
              "solidity": 0.2
             }
            },
            "type": "barpolar"
           }
          ],
          "carpet": [
           {
            "aaxis": {
             "endlinecolor": "#2a3f5f",
             "gridcolor": "white",
             "linecolor": "white",
             "minorgridcolor": "white",
             "startlinecolor": "#2a3f5f"
            },
            "baxis": {
             "endlinecolor": "#2a3f5f",
             "gridcolor": "white",
             "linecolor": "white",
             "minorgridcolor": "white",
             "startlinecolor": "#2a3f5f"
            },
            "type": "carpet"
           }
          ],
          "choropleth": [
           {
            "colorbar": {
             "outlinewidth": 0,
             "ticks": ""
            },
            "type": "choropleth"
           }
          ],
          "contour": [
           {
            "colorbar": {
             "outlinewidth": 0,
             "ticks": ""
            },
            "colorscale": [
             [
              0,
              "#0d0887"
             ],
             [
              0.1111111111111111,
              "#46039f"
             ],
             [
              0.2222222222222222,
              "#7201a8"
             ],
             [
              0.3333333333333333,
              "#9c179e"
             ],
             [
              0.4444444444444444,
              "#bd3786"
             ],
             [
              0.5555555555555556,
              "#d8576b"
             ],
             [
              0.6666666666666666,
              "#ed7953"
             ],
             [
              0.7777777777777778,
              "#fb9f3a"
             ],
             [
              0.8888888888888888,
              "#fdca26"
             ],
             [
              1,
              "#f0f921"
             ]
            ],
            "type": "contour"
           }
          ],
          "contourcarpet": [
           {
            "colorbar": {
             "outlinewidth": 0,
             "ticks": ""
            },
            "type": "contourcarpet"
           }
          ],
          "heatmap": [
           {
            "colorbar": {
             "outlinewidth": 0,
             "ticks": ""
            },
            "colorscale": [
             [
              0,
              "#0d0887"
             ],
             [
              0.1111111111111111,
              "#46039f"
             ],
             [
              0.2222222222222222,
              "#7201a8"
             ],
             [
              0.3333333333333333,
              "#9c179e"
             ],
             [
              0.4444444444444444,
              "#bd3786"
             ],
             [
              0.5555555555555556,
              "#d8576b"
             ],
             [
              0.6666666666666666,
              "#ed7953"
             ],
             [
              0.7777777777777778,
              "#fb9f3a"
             ],
             [
              0.8888888888888888,
              "#fdca26"
             ],
             [
              1,
              "#f0f921"
             ]
            ],
            "type": "heatmap"
           }
          ],
          "heatmapgl": [
           {
            "colorbar": {
             "outlinewidth": 0,
             "ticks": ""
            },
            "colorscale": [
             [
              0,
              "#0d0887"
             ],
             [
              0.1111111111111111,
              "#46039f"
             ],
             [
              0.2222222222222222,
              "#7201a8"
             ],
             [
              0.3333333333333333,
              "#9c179e"
             ],
             [
              0.4444444444444444,
              "#bd3786"
             ],
             [
              0.5555555555555556,
              "#d8576b"
             ],
             [
              0.6666666666666666,
              "#ed7953"
             ],
             [
              0.7777777777777778,
              "#fb9f3a"
             ],
             [
              0.8888888888888888,
              "#fdca26"
             ],
             [
              1,
              "#f0f921"
             ]
            ],
            "type": "heatmapgl"
           }
          ],
          "histogram": [
           {
            "marker": {
             "pattern": {
              "fillmode": "overlay",
              "size": 10,
              "solidity": 0.2
             }
            },
            "type": "histogram"
           }
          ],
          "histogram2d": [
           {
            "colorbar": {
             "outlinewidth": 0,
             "ticks": ""
            },
            "colorscale": [
             [
              0,
              "#0d0887"
             ],
             [
              0.1111111111111111,
              "#46039f"
             ],
             [
              0.2222222222222222,
              "#7201a8"
             ],
             [
              0.3333333333333333,
              "#9c179e"
             ],
             [
              0.4444444444444444,
              "#bd3786"
             ],
             [
              0.5555555555555556,
              "#d8576b"
             ],
             [
              0.6666666666666666,
              "#ed7953"
             ],
             [
              0.7777777777777778,
              "#fb9f3a"
             ],
             [
              0.8888888888888888,
              "#fdca26"
             ],
             [
              1,
              "#f0f921"
             ]
            ],
            "type": "histogram2d"
           }
          ],
          "histogram2dcontour": [
           {
            "colorbar": {
             "outlinewidth": 0,
             "ticks": ""
            },
            "colorscale": [
             [
              0,
              "#0d0887"
             ],
             [
              0.1111111111111111,
              "#46039f"
             ],
             [
              0.2222222222222222,
              "#7201a8"
             ],
             [
              0.3333333333333333,
              "#9c179e"
             ],
             [
              0.4444444444444444,
              "#bd3786"
             ],
             [
              0.5555555555555556,
              "#d8576b"
             ],
             [
              0.6666666666666666,
              "#ed7953"
             ],
             [
              0.7777777777777778,
              "#fb9f3a"
             ],
             [
              0.8888888888888888,
              "#fdca26"
             ],
             [
              1,
              "#f0f921"
             ]
            ],
            "type": "histogram2dcontour"
           }
          ],
          "mesh3d": [
           {
            "colorbar": {
             "outlinewidth": 0,
             "ticks": ""
            },
            "type": "mesh3d"
           }
          ],
          "parcoords": [
           {
            "line": {
             "colorbar": {
              "outlinewidth": 0,
              "ticks": ""
             }
            },
            "type": "parcoords"
           }
          ],
          "pie": [
           {
            "automargin": true,
            "type": "pie"
           }
          ],
          "scatter": [
           {
            "marker": {
             "colorbar": {
              "outlinewidth": 0,
              "ticks": ""
             }
            },
            "type": "scatter"
           }
          ],
          "scatter3d": [
           {
            "line": {
             "colorbar": {
              "outlinewidth": 0,
              "ticks": ""
             }
            },
            "marker": {
             "colorbar": {
              "outlinewidth": 0,
              "ticks": ""
             }
            },
            "type": "scatter3d"
           }
          ],
          "scattercarpet": [
           {
            "marker": {
             "colorbar": {
              "outlinewidth": 0,
              "ticks": ""
             }
            },
            "type": "scattercarpet"
           }
          ],
          "scattergeo": [
           {
            "marker": {
             "colorbar": {
              "outlinewidth": 0,
              "ticks": ""
             }
            },
            "type": "scattergeo"
           }
          ],
          "scattergl": [
           {
            "marker": {
             "colorbar": {
              "outlinewidth": 0,
              "ticks": ""
             }
            },
            "type": "scattergl"
           }
          ],
          "scattermapbox": [
           {
            "marker": {
             "colorbar": {
              "outlinewidth": 0,
              "ticks": ""
             }
            },
            "type": "scattermapbox"
           }
          ],
          "scatterpolar": [
           {
            "marker": {
             "colorbar": {
              "outlinewidth": 0,
              "ticks": ""
             }
            },
            "type": "scatterpolar"
           }
          ],
          "scatterpolargl": [
           {
            "marker": {
             "colorbar": {
              "outlinewidth": 0,
              "ticks": ""
             }
            },
            "type": "scatterpolargl"
           }
          ],
          "scatterternary": [
           {
            "marker": {
             "colorbar": {
              "outlinewidth": 0,
              "ticks": ""
             }
            },
            "type": "scatterternary"
           }
          ],
          "surface": [
           {
            "colorbar": {
             "outlinewidth": 0,
             "ticks": ""
            },
            "colorscale": [
             [
              0,
              "#0d0887"
             ],
             [
              0.1111111111111111,
              "#46039f"
             ],
             [
              0.2222222222222222,
              "#7201a8"
             ],
             [
              0.3333333333333333,
              "#9c179e"
             ],
             [
              0.4444444444444444,
              "#bd3786"
             ],
             [
              0.5555555555555556,
              "#d8576b"
             ],
             [
              0.6666666666666666,
              "#ed7953"
             ],
             [
              0.7777777777777778,
              "#fb9f3a"
             ],
             [
              0.8888888888888888,
              "#fdca26"
             ],
             [
              1,
              "#f0f921"
             ]
            ],
            "type": "surface"
           }
          ],
          "table": [
           {
            "cells": {
             "fill": {
              "color": "#EBF0F8"
             },
             "line": {
              "color": "white"
             }
            },
            "header": {
             "fill": {
              "color": "#C8D4E3"
             },
             "line": {
              "color": "white"
             }
            },
            "type": "table"
           }
          ]
         },
         "layout": {
          "annotationdefaults": {
           "arrowcolor": "#2a3f5f",
           "arrowhead": 0,
           "arrowwidth": 1
          },
          "autotypenumbers": "strict",
          "coloraxis": {
           "colorbar": {
            "outlinewidth": 0,
            "ticks": ""
           }
          },
          "colorscale": {
           "diverging": [
            [
             0,
             "#8e0152"
            ],
            [
             0.1,
             "#c51b7d"
            ],
            [
             0.2,
             "#de77ae"
            ],
            [
             0.3,
             "#f1b6da"
            ],
            [
             0.4,
             "#fde0ef"
            ],
            [
             0.5,
             "#f7f7f7"
            ],
            [
             0.6,
             "#e6f5d0"
            ],
            [
             0.7,
             "#b8e186"
            ],
            [
             0.8,
             "#7fbc41"
            ],
            [
             0.9,
             "#4d9221"
            ],
            [
             1,
             "#276419"
            ]
           ],
           "sequential": [
            [
             0,
             "#0d0887"
            ],
            [
             0.1111111111111111,
             "#46039f"
            ],
            [
             0.2222222222222222,
             "#7201a8"
            ],
            [
             0.3333333333333333,
             "#9c179e"
            ],
            [
             0.4444444444444444,
             "#bd3786"
            ],
            [
             0.5555555555555556,
             "#d8576b"
            ],
            [
             0.6666666666666666,
             "#ed7953"
            ],
            [
             0.7777777777777778,
             "#fb9f3a"
            ],
            [
             0.8888888888888888,
             "#fdca26"
            ],
            [
             1,
             "#f0f921"
            ]
           ],
           "sequentialminus": [
            [
             0,
             "#0d0887"
            ],
            [
             0.1111111111111111,
             "#46039f"
            ],
            [
             0.2222222222222222,
             "#7201a8"
            ],
            [
             0.3333333333333333,
             "#9c179e"
            ],
            [
             0.4444444444444444,
             "#bd3786"
            ],
            [
             0.5555555555555556,
             "#d8576b"
            ],
            [
             0.6666666666666666,
             "#ed7953"
            ],
            [
             0.7777777777777778,
             "#fb9f3a"
            ],
            [
             0.8888888888888888,
             "#fdca26"
            ],
            [
             1,
             "#f0f921"
            ]
           ]
          },
          "colorway": [
           "#636efa",
           "#EF553B",
           "#00cc96",
           "#ab63fa",
           "#FFA15A",
           "#19d3f3",
           "#FF6692",
           "#B6E880",
           "#FF97FF",
           "#FECB52"
          ],
          "font": {
           "color": "#2a3f5f"
          },
          "geo": {
           "bgcolor": "white",
           "lakecolor": "white",
           "landcolor": "#E5ECF6",
           "showlakes": true,
           "showland": true,
           "subunitcolor": "white"
          },
          "hoverlabel": {
           "align": "left"
          },
          "hovermode": "closest",
          "mapbox": {
           "style": "light"
          },
          "paper_bgcolor": "white",
          "plot_bgcolor": "#E5ECF6",
          "polar": {
           "angularaxis": {
            "gridcolor": "white",
            "linecolor": "white",
            "ticks": ""
           },
           "bgcolor": "#E5ECF6",
           "radialaxis": {
            "gridcolor": "white",
            "linecolor": "white",
            "ticks": ""
           }
          },
          "scene": {
           "xaxis": {
            "backgroundcolor": "#E5ECF6",
            "gridcolor": "white",
            "gridwidth": 2,
            "linecolor": "white",
            "showbackground": true,
            "ticks": "",
            "zerolinecolor": "white"
           },
           "yaxis": {
            "backgroundcolor": "#E5ECF6",
            "gridcolor": "white",
            "gridwidth": 2,
            "linecolor": "white",
            "showbackground": true,
            "ticks": "",
            "zerolinecolor": "white"
           },
           "zaxis": {
            "backgroundcolor": "#E5ECF6",
            "gridcolor": "white",
            "gridwidth": 2,
            "linecolor": "white",
            "showbackground": true,
            "ticks": "",
            "zerolinecolor": "white"
           }
          },
          "shapedefaults": {
           "line": {
            "color": "#2a3f5f"
           }
          },
          "ternary": {
           "aaxis": {
            "gridcolor": "white",
            "linecolor": "white",
            "ticks": ""
           },
           "baxis": {
            "gridcolor": "white",
            "linecolor": "white",
            "ticks": ""
           },
           "bgcolor": "#E5ECF6",
           "caxis": {
            "gridcolor": "white",
            "linecolor": "white",
            "ticks": ""
           }
          },
          "title": {
           "x": 0.05
          },
          "xaxis": {
           "automargin": true,
           "gridcolor": "white",
           "linecolor": "white",
           "ticks": "",
           "title": {
            "standoff": 15
           },
           "zerolinecolor": "white",
           "zerolinewidth": 2
          },
          "yaxis": {
           "automargin": true,
           "gridcolor": "white",
           "linecolor": "white",
           "ticks": "",
           "title": {
            "standoff": 15
           },
           "zerolinecolor": "white",
           "zerolinewidth": 2
          }
         }
        },
        "title": {
         "text": "Overall Classification Importance",
         "x": 0.5,
         "xanchor": "center",
         "y": 0.9,
         "yanchor": "top"
        },
        "xaxis": {
         "anchor": "y",
         "domain": [
          0,
          1
         ],
         "title": {
          "text": "Importance"
         }
        },
        "yaxis": {
         "anchor": "x",
         "domain": [
          0,
          1
         ],
         "title": {
          "text": "Feature"
         }
        }
       }
      },
      "text/html": [
       "<div>                            <div id=\"4ed5fafc-bc23-47f7-b45d-91624f88e58d\" class=\"plotly-graph-div\" style=\"height:525px; width:100%;\"></div>            <script type=\"text/javascript\">                require([\"plotly\"], function(Plotly) {                    window.PLOTLYENV=window.PLOTLYENV || {};                                    if (document.getElementById(\"4ed5fafc-bc23-47f7-b45d-91624f88e58d\")) {                    Plotly.newPlot(                        \"4ed5fafc-bc23-47f7-b45d-91624f88e58d\",                        [{\"alignmentgroup\":\"True\",\"hovertemplate\":\"class=7<br>Importance=%{x}<br>Feature=%{y}<extra></extra>\",\"legendgroup\":\"7\",\"marker\":{\"color\":\"#636efa\",\"pattern\":{\"shape\":\"\"}},\"name\":\"7\",\"offsetgroup\":\"7\",\"orientation\":\"h\",\"showlegend\":true,\"textposition\":\"auto\",\"type\":\"bar\",\"x\":[0.0029711254108328307,0.009437621170851968,0.01625091220157328,0.22736631985167802,0.02087025563597265,0.03844875384922834,0.07669443293979065,0.07929736071997225,0.05575869954961319],\"xaxis\":\"x\",\"y\":[\"Fe\",\"Si\",\"K\",\"Ba\",\"RI\",\"Ca\",\"Na\",\"Mg\",\"Al\"],\"yaxis\":\"y\"},{\"alignmentgroup\":\"True\",\"hovertemplate\":\"class=6<br>Importance=%{x}<br>Feature=%{y}<extra></extra>\",\"legendgroup\":\"6\",\"marker\":{\"color\":\"#EF553B\",\"pattern\":{\"shape\":\"\"}},\"name\":\"6\",\"offsetgroup\":\"6\",\"orientation\":\"h\",\"showlegend\":true,\"textposition\":\"auto\",\"type\":\"bar\",\"x\":[0.0,0.0,0.17110536510327598,0.02145813043738211,0.02784656768711489,0.026526862120595553,0.1635188364586071,0.12289647885738596,0.014675736885126174],\"xaxis\":\"x\",\"y\":[\"Fe\",\"Si\",\"K\",\"Ba\",\"RI\",\"Ca\",\"Na\",\"Mg\",\"Al\"],\"yaxis\":\"y\"},{\"alignmentgroup\":\"True\",\"hovertemplate\":\"class=5<br>Importance=%{x}<br>Feature=%{y}<extra></extra>\",\"legendgroup\":\"5\",\"marker\":{\"color\":\"#00cc96\",\"pattern\":{\"shape\":\"\"}},\"name\":\"5\",\"offsetgroup\":\"5\",\"orientation\":\"h\",\"showlegend\":true,\"textposition\":\"auto\",\"type\":\"bar\",\"x\":[0.00801406763135925,0.012974374051277849,0.014938812169277744,0.01921008986353736,0.02537597486688594,0.15220637287105443,0.04476552490616064,0.2653386908854501,0.16164205931565528],\"xaxis\":\"x\",\"y\":[\"Fe\",\"Si\",\"K\",\"Ba\",\"RI\",\"Ca\",\"Na\",\"Mg\",\"Al\"],\"yaxis\":\"y\"},{\"alignmentgroup\":\"True\",\"hovertemplate\":\"class=3<br>Importance=%{x}<br>Feature=%{y}<extra></extra>\",\"legendgroup\":\"3\",\"marker\":{\"color\":\"#ab63fa\",\"pattern\":{\"shape\":\"\"}},\"name\":\"3\",\"offsetgroup\":\"3\",\"orientation\":\"h\",\"showlegend\":true,\"textposition\":\"auto\",\"type\":\"bar\",\"x\":[0.06138883160000832,0.11968009858833593,0.048726510857474085,0.05314533253621933,0.13634669897824003,0.10663242889555978,0.09813094272293434,0.2723499306210635,0.1419245195849378],\"xaxis\":\"x\",\"y\":[\"Fe\",\"Si\",\"K\",\"Ba\",\"RI\",\"Ca\",\"Na\",\"Mg\",\"Al\"],\"yaxis\":\"y\"},{\"alignmentgroup\":\"True\",\"hovertemplate\":\"class=2<br>Importance=%{x}<br>Feature=%{y}<extra></extra>\",\"legendgroup\":\"2\",\"marker\":{\"color\":\"#FFA15A\",\"pattern\":{\"shape\":\"\"}},\"name\":\"2\",\"offsetgroup\":\"2\",\"orientation\":\"h\",\"showlegend\":true,\"textposition\":\"auto\",\"type\":\"bar\",\"x\":[0.03355976854086046,0.08366127102986293,0.172484732156331,0.13404062201182873,0.12044854644068405,0.22884567081186907,0.2043524244051497,0.1858626989650994,0.34657075856183533],\"xaxis\":\"x\",\"y\":[\"Fe\",\"Si\",\"K\",\"Ba\",\"RI\",\"Ca\",\"Na\",\"Mg\",\"Al\"],\"yaxis\":\"y\"},{\"alignmentgroup\":\"True\",\"hovertemplate\":\"class=1<br>Importance=%{x}<br>Feature=%{y}<extra></extra>\",\"legendgroup\":\"1\",\"marker\":{\"color\":\"#19d3f3\",\"pattern\":{\"shape\":\"\"}},\"name\":\"1\",\"offsetgroup\":\"1\",\"orientation\":\"h\",\"showlegend\":true,\"textposition\":\"auto\",\"type\":\"bar\",\"x\":[0.044646389113390486,0.08552396070330122,0.046416324240113015,0.07135374359849395,0.20218186424902487,0.09736817046001633,0.0925723619323935,0.18435131740341898,0.45401856178762684],\"xaxis\":\"x\",\"y\":[\"Fe\",\"Si\",\"K\",\"Ba\",\"RI\",\"Ca\",\"Na\",\"Mg\",\"Al\"],\"yaxis\":\"y\"}],                        {\"barmode\":\"relative\",\"legend\":{\"title\":{\"text\":\"class\"},\"tracegroupgap\":0},\"template\":{\"data\":{\"bar\":[{\"error_x\":{\"color\":\"#2a3f5f\"},\"error_y\":{\"color\":\"#2a3f5f\"},\"marker\":{\"line\":{\"color\":\"#E5ECF6\",\"width\":0.5},\"pattern\":{\"fillmode\":\"overlay\",\"size\":10,\"solidity\":0.2}},\"type\":\"bar\"}],\"barpolar\":[{\"marker\":{\"line\":{\"color\":\"#E5ECF6\",\"width\":0.5},\"pattern\":{\"fillmode\":\"overlay\",\"size\":10,\"solidity\":0.2}},\"type\":\"barpolar\"}],\"carpet\":[{\"aaxis\":{\"endlinecolor\":\"#2a3f5f\",\"gridcolor\":\"white\",\"linecolor\":\"white\",\"minorgridcolor\":\"white\",\"startlinecolor\":\"#2a3f5f\"},\"baxis\":{\"endlinecolor\":\"#2a3f5f\",\"gridcolor\":\"white\",\"linecolor\":\"white\",\"minorgridcolor\":\"white\",\"startlinecolor\":\"#2a3f5f\"},\"type\":\"carpet\"}],\"choropleth\":[{\"colorbar\":{\"outlinewidth\":0,\"ticks\":\"\"},\"type\":\"choropleth\"}],\"contour\":[{\"colorbar\":{\"outlinewidth\":0,\"ticks\":\"\"},\"colorscale\":[[0.0,\"#0d0887\"],[0.1111111111111111,\"#46039f\"],[0.2222222222222222,\"#7201a8\"],[0.3333333333333333,\"#9c179e\"],[0.4444444444444444,\"#bd3786\"],[0.5555555555555556,\"#d8576b\"],[0.6666666666666666,\"#ed7953\"],[0.7777777777777778,\"#fb9f3a\"],[0.8888888888888888,\"#fdca26\"],[1.0,\"#f0f921\"]],\"type\":\"contour\"}],\"contourcarpet\":[{\"colorbar\":{\"outlinewidth\":0,\"ticks\":\"\"},\"type\":\"contourcarpet\"}],\"heatmap\":[{\"colorbar\":{\"outlinewidth\":0,\"ticks\":\"\"},\"colorscale\":[[0.0,\"#0d0887\"],[0.1111111111111111,\"#46039f\"],[0.2222222222222222,\"#7201a8\"],[0.3333333333333333,\"#9c179e\"],[0.4444444444444444,\"#bd3786\"],[0.5555555555555556,\"#d8576b\"],[0.6666666666666666,\"#ed7953\"],[0.7777777777777778,\"#fb9f3a\"],[0.8888888888888888,\"#fdca26\"],[1.0,\"#f0f921\"]],\"type\":\"heatmap\"}],\"heatmapgl\":[{\"colorbar\":{\"outlinewidth\":0,\"ticks\":\"\"},\"colorscale\":[[0.0,\"#0d0887\"],[0.1111111111111111,\"#46039f\"],[0.2222222222222222,\"#7201a8\"],[0.3333333333333333,\"#9c179e\"],[0.4444444444444444,\"#bd3786\"],[0.5555555555555556,\"#d8576b\"],[0.6666666666666666,\"#ed7953\"],[0.7777777777777778,\"#fb9f3a\"],[0.8888888888888888,\"#fdca26\"],[1.0,\"#f0f921\"]],\"type\":\"heatmapgl\"}],\"histogram\":[{\"marker\":{\"pattern\":{\"fillmode\":\"overlay\",\"size\":10,\"solidity\":0.2}},\"type\":\"histogram\"}],\"histogram2d\":[{\"colorbar\":{\"outlinewidth\":0,\"ticks\":\"\"},\"colorscale\":[[0.0,\"#0d0887\"],[0.1111111111111111,\"#46039f\"],[0.2222222222222222,\"#7201a8\"],[0.3333333333333333,\"#9c179e\"],[0.4444444444444444,\"#bd3786\"],[0.5555555555555556,\"#d8576b\"],[0.6666666666666666,\"#ed7953\"],[0.7777777777777778,\"#fb9f3a\"],[0.8888888888888888,\"#fdca26\"],[1.0,\"#f0f921\"]],\"type\":\"histogram2d\"}],\"histogram2dcontour\":[{\"colorbar\":{\"outlinewidth\":0,\"ticks\":\"\"},\"colorscale\":[[0.0,\"#0d0887\"],[0.1111111111111111,\"#46039f\"],[0.2222222222222222,\"#7201a8\"],[0.3333333333333333,\"#9c179e\"],[0.4444444444444444,\"#bd3786\"],[0.5555555555555556,\"#d8576b\"],[0.6666666666666666,\"#ed7953\"],[0.7777777777777778,\"#fb9f3a\"],[0.8888888888888888,\"#fdca26\"],[1.0,\"#f0f921\"]],\"type\":\"histogram2dcontour\"}],\"mesh3d\":[{\"colorbar\":{\"outlinewidth\":0,\"ticks\":\"\"},\"type\":\"mesh3d\"}],\"parcoords\":[{\"line\":{\"colorbar\":{\"outlinewidth\":0,\"ticks\":\"\"}},\"type\":\"parcoords\"}],\"pie\":[{\"automargin\":true,\"type\":\"pie\"}],\"scatter\":[{\"marker\":{\"colorbar\":{\"outlinewidth\":0,\"ticks\":\"\"}},\"type\":\"scatter\"}],\"scatter3d\":[{\"line\":{\"colorbar\":{\"outlinewidth\":0,\"ticks\":\"\"}},\"marker\":{\"colorbar\":{\"outlinewidth\":0,\"ticks\":\"\"}},\"type\":\"scatter3d\"}],\"scattercarpet\":[{\"marker\":{\"colorbar\":{\"outlinewidth\":0,\"ticks\":\"\"}},\"type\":\"scattercarpet\"}],\"scattergeo\":[{\"marker\":{\"colorbar\":{\"outlinewidth\":0,\"ticks\":\"\"}},\"type\":\"scattergeo\"}],\"scattergl\":[{\"marker\":{\"colorbar\":{\"outlinewidth\":0,\"ticks\":\"\"}},\"type\":\"scattergl\"}],\"scattermapbox\":[{\"marker\":{\"colorbar\":{\"outlinewidth\":0,\"ticks\":\"\"}},\"type\":\"scattermapbox\"}],\"scatterpolar\":[{\"marker\":{\"colorbar\":{\"outlinewidth\":0,\"ticks\":\"\"}},\"type\":\"scatterpolar\"}],\"scatterpolargl\":[{\"marker\":{\"colorbar\":{\"outlinewidth\":0,\"ticks\":\"\"}},\"type\":\"scatterpolargl\"}],\"scatterternary\":[{\"marker\":{\"colorbar\":{\"outlinewidth\":0,\"ticks\":\"\"}},\"type\":\"scatterternary\"}],\"surface\":[{\"colorbar\":{\"outlinewidth\":0,\"ticks\":\"\"},\"colorscale\":[[0.0,\"#0d0887\"],[0.1111111111111111,\"#46039f\"],[0.2222222222222222,\"#7201a8\"],[0.3333333333333333,\"#9c179e\"],[0.4444444444444444,\"#bd3786\"],[0.5555555555555556,\"#d8576b\"],[0.6666666666666666,\"#ed7953\"],[0.7777777777777778,\"#fb9f3a\"],[0.8888888888888888,\"#fdca26\"],[1.0,\"#f0f921\"]],\"type\":\"surface\"}],\"table\":[{\"cells\":{\"fill\":{\"color\":\"#EBF0F8\"},\"line\":{\"color\":\"white\"}},\"header\":{\"fill\":{\"color\":\"#C8D4E3\"},\"line\":{\"color\":\"white\"}},\"type\":\"table\"}]},\"layout\":{\"annotationdefaults\":{\"arrowcolor\":\"#2a3f5f\",\"arrowhead\":0,\"arrowwidth\":1},\"autotypenumbers\":\"strict\",\"coloraxis\":{\"colorbar\":{\"outlinewidth\":0,\"ticks\":\"\"}},\"colorscale\":{\"diverging\":[[0,\"#8e0152\"],[0.1,\"#c51b7d\"],[0.2,\"#de77ae\"],[0.3,\"#f1b6da\"],[0.4,\"#fde0ef\"],[0.5,\"#f7f7f7\"],[0.6,\"#e6f5d0\"],[0.7,\"#b8e186\"],[0.8,\"#7fbc41\"],[0.9,\"#4d9221\"],[1,\"#276419\"]],\"sequential\":[[0.0,\"#0d0887\"],[0.1111111111111111,\"#46039f\"],[0.2222222222222222,\"#7201a8\"],[0.3333333333333333,\"#9c179e\"],[0.4444444444444444,\"#bd3786\"],[0.5555555555555556,\"#d8576b\"],[0.6666666666666666,\"#ed7953\"],[0.7777777777777778,\"#fb9f3a\"],[0.8888888888888888,\"#fdca26\"],[1.0,\"#f0f921\"]],\"sequentialminus\":[[0.0,\"#0d0887\"],[0.1111111111111111,\"#46039f\"],[0.2222222222222222,\"#7201a8\"],[0.3333333333333333,\"#9c179e\"],[0.4444444444444444,\"#bd3786\"],[0.5555555555555556,\"#d8576b\"],[0.6666666666666666,\"#ed7953\"],[0.7777777777777778,\"#fb9f3a\"],[0.8888888888888888,\"#fdca26\"],[1.0,\"#f0f921\"]]},\"colorway\":[\"#636efa\",\"#EF553B\",\"#00cc96\",\"#ab63fa\",\"#FFA15A\",\"#19d3f3\",\"#FF6692\",\"#B6E880\",\"#FF97FF\",\"#FECB52\"],\"font\":{\"color\":\"#2a3f5f\"},\"geo\":{\"bgcolor\":\"white\",\"lakecolor\":\"white\",\"landcolor\":\"#E5ECF6\",\"showlakes\":true,\"showland\":true,\"subunitcolor\":\"white\"},\"hoverlabel\":{\"align\":\"left\"},\"hovermode\":\"closest\",\"mapbox\":{\"style\":\"light\"},\"paper_bgcolor\":\"white\",\"plot_bgcolor\":\"#E5ECF6\",\"polar\":{\"angularaxis\":{\"gridcolor\":\"white\",\"linecolor\":\"white\",\"ticks\":\"\"},\"bgcolor\":\"#E5ECF6\",\"radialaxis\":{\"gridcolor\":\"white\",\"linecolor\":\"white\",\"ticks\":\"\"}},\"scene\":{\"xaxis\":{\"backgroundcolor\":\"#E5ECF6\",\"gridcolor\":\"white\",\"gridwidth\":2,\"linecolor\":\"white\",\"showbackground\":true,\"ticks\":\"\",\"zerolinecolor\":\"white\"},\"yaxis\":{\"backgroundcolor\":\"#E5ECF6\",\"gridcolor\":\"white\",\"gridwidth\":2,\"linecolor\":\"white\",\"showbackground\":true,\"ticks\":\"\",\"zerolinecolor\":\"white\"},\"zaxis\":{\"backgroundcolor\":\"#E5ECF6\",\"gridcolor\":\"white\",\"gridwidth\":2,\"linecolor\":\"white\",\"showbackground\":true,\"ticks\":\"\",\"zerolinecolor\":\"white\"}},\"shapedefaults\":{\"line\":{\"color\":\"#2a3f5f\"}},\"ternary\":{\"aaxis\":{\"gridcolor\":\"white\",\"linecolor\":\"white\",\"ticks\":\"\"},\"baxis\":{\"gridcolor\":\"white\",\"linecolor\":\"white\",\"ticks\":\"\"},\"bgcolor\":\"#E5ECF6\",\"caxis\":{\"gridcolor\":\"white\",\"linecolor\":\"white\",\"ticks\":\"\"}},\"title\":{\"x\":0.05},\"xaxis\":{\"automargin\":true,\"gridcolor\":\"white\",\"linecolor\":\"white\",\"ticks\":\"\",\"title\":{\"standoff\":15},\"zerolinecolor\":\"white\",\"zerolinewidth\":2},\"yaxis\":{\"automargin\":true,\"gridcolor\":\"white\",\"linecolor\":\"white\",\"ticks\":\"\",\"title\":{\"standoff\":15},\"zerolinecolor\":\"white\",\"zerolinewidth\":2}}},\"title\":{\"text\":\"Overall Classification Importance\",\"x\":0.5,\"xanchor\":\"center\",\"y\":0.9,\"yanchor\":\"top\"},\"xaxis\":{\"anchor\":\"y\",\"domain\":[0.0,1.0],\"title\":{\"text\":\"Importance\"}},\"yaxis\":{\"anchor\":\"x\",\"domain\":[0.0,1.0],\"title\":{\"text\":\"Feature\"}}},                        {\"responsive\": true}                    ).then(function(){\n",
       "                            \n",
       "var gd = document.getElementById('4ed5fafc-bc23-47f7-b45d-91624f88e58d');\n",
       "var x = new MutationObserver(function (mutations, observer) {{\n",
       "        var display = window.getComputedStyle(gd).display;\n",
       "        if (!display || display === 'none') {{\n",
       "            console.log([gd, 'removed!']);\n",
       "            Plotly.purge(gd);\n",
       "            observer.disconnect();\n",
       "        }}\n",
       "}});\n",
       "\n",
       "// Listen for the removal of the full notebook cells\n",
       "var notebookContainer = gd.closest('#notebook-container');\n",
       "if (notebookContainer) {{\n",
       "    x.observe(notebookContainer, {childList: true});\n",
       "}}\n",
       "\n",
       "// Listen for the clearing of the current output cell\n",
       "var outputEl = gd.closest('.output');\n",
       "if (outputEl) {{\n",
       "    x.observe(outputEl, {childList: true});\n",
       "}}\n",
       "\n",
       "                        })                };                });            </script>        </div>"
      ]
     },
     "metadata": {},
     "output_type": "display_data"
    }
   ],
   "source": [
    "acme_rf.summary_plot()"
   ]
  },
  {
   "cell_type": "code",
   "execution_count": 38,
   "metadata": {},
   "outputs": [
    {
     "data": {
      "application/vnd.plotly.v1+json": {
       "config": {
        "plotlyServerURL": "https://plot.ly"
       },
       "data": [
        {
         "alignmentgroup": "True",
         "hovertemplate": "Importance=%{x}<br>Feature=%{y}<extra></extra>",
         "legendgroup": "",
         "marker": {
          "color": "#636efa",
          "pattern": {
           "shape": ""
          }
         },
         "name": "",
         "offsetgroup": "",
         "orientation": "h",
         "showlegend": false,
         "textposition": "auto",
         "type": "bar",
         "x": [
          0.15058018229645134,
          0.31127732554362986,
          0.4699226567280451,
          0.5265742382991394,
          0.5330699078579224,
          0.6500282590083235,
          0.6800345233650359,
          1.11009647745239,
          1.1745903356847947
         ],
         "xaxis": "x",
         "y": [
          "Fe",
          "Si",
          "K",
          "Ba",
          "RI",
          "Ca",
          "Na",
          "Mg",
          "Al"
         ],
         "yaxis": "y"
        }
       ],
       "layout": {
        "barmode": "relative",
        "legend": {
         "tracegroupgap": 0
        },
        "template": {
         "data": {
          "bar": [
           {
            "error_x": {
             "color": "#2a3f5f"
            },
            "error_y": {
             "color": "#2a3f5f"
            },
            "marker": {
             "line": {
              "color": "#E5ECF6",
              "width": 0.5
             },
             "pattern": {
              "fillmode": "overlay",
              "size": 10,
              "solidity": 0.2
             }
            },
            "type": "bar"
           }
          ],
          "barpolar": [
           {
            "marker": {
             "line": {
              "color": "#E5ECF6",
              "width": 0.5
             },
             "pattern": {
              "fillmode": "overlay",
              "size": 10,
              "solidity": 0.2
             }
            },
            "type": "barpolar"
           }
          ],
          "carpet": [
           {
            "aaxis": {
             "endlinecolor": "#2a3f5f",
             "gridcolor": "white",
             "linecolor": "white",
             "minorgridcolor": "white",
             "startlinecolor": "#2a3f5f"
            },
            "baxis": {
             "endlinecolor": "#2a3f5f",
             "gridcolor": "white",
             "linecolor": "white",
             "minorgridcolor": "white",
             "startlinecolor": "#2a3f5f"
            },
            "type": "carpet"
           }
          ],
          "choropleth": [
           {
            "colorbar": {
             "outlinewidth": 0,
             "ticks": ""
            },
            "type": "choropleth"
           }
          ],
          "contour": [
           {
            "colorbar": {
             "outlinewidth": 0,
             "ticks": ""
            },
            "colorscale": [
             [
              0,
              "#0d0887"
             ],
             [
              0.1111111111111111,
              "#46039f"
             ],
             [
              0.2222222222222222,
              "#7201a8"
             ],
             [
              0.3333333333333333,
              "#9c179e"
             ],
             [
              0.4444444444444444,
              "#bd3786"
             ],
             [
              0.5555555555555556,
              "#d8576b"
             ],
             [
              0.6666666666666666,
              "#ed7953"
             ],
             [
              0.7777777777777778,
              "#fb9f3a"
             ],
             [
              0.8888888888888888,
              "#fdca26"
             ],
             [
              1,
              "#f0f921"
             ]
            ],
            "type": "contour"
           }
          ],
          "contourcarpet": [
           {
            "colorbar": {
             "outlinewidth": 0,
             "ticks": ""
            },
            "type": "contourcarpet"
           }
          ],
          "heatmap": [
           {
            "colorbar": {
             "outlinewidth": 0,
             "ticks": ""
            },
            "colorscale": [
             [
              0,
              "#0d0887"
             ],
             [
              0.1111111111111111,
              "#46039f"
             ],
             [
              0.2222222222222222,
              "#7201a8"
             ],
             [
              0.3333333333333333,
              "#9c179e"
             ],
             [
              0.4444444444444444,
              "#bd3786"
             ],
             [
              0.5555555555555556,
              "#d8576b"
             ],
             [
              0.6666666666666666,
              "#ed7953"
             ],
             [
              0.7777777777777778,
              "#fb9f3a"
             ],
             [
              0.8888888888888888,
              "#fdca26"
             ],
             [
              1,
              "#f0f921"
             ]
            ],
            "type": "heatmap"
           }
          ],
          "heatmapgl": [
           {
            "colorbar": {
             "outlinewidth": 0,
             "ticks": ""
            },
            "colorscale": [
             [
              0,
              "#0d0887"
             ],
             [
              0.1111111111111111,
              "#46039f"
             ],
             [
              0.2222222222222222,
              "#7201a8"
             ],
             [
              0.3333333333333333,
              "#9c179e"
             ],
             [
              0.4444444444444444,
              "#bd3786"
             ],
             [
              0.5555555555555556,
              "#d8576b"
             ],
             [
              0.6666666666666666,
              "#ed7953"
             ],
             [
              0.7777777777777778,
              "#fb9f3a"
             ],
             [
              0.8888888888888888,
              "#fdca26"
             ],
             [
              1,
              "#f0f921"
             ]
            ],
            "type": "heatmapgl"
           }
          ],
          "histogram": [
           {
            "marker": {
             "pattern": {
              "fillmode": "overlay",
              "size": 10,
              "solidity": 0.2
             }
            },
            "type": "histogram"
           }
          ],
          "histogram2d": [
           {
            "colorbar": {
             "outlinewidth": 0,
             "ticks": ""
            },
            "colorscale": [
             [
              0,
              "#0d0887"
             ],
             [
              0.1111111111111111,
              "#46039f"
             ],
             [
              0.2222222222222222,
              "#7201a8"
             ],
             [
              0.3333333333333333,
              "#9c179e"
             ],
             [
              0.4444444444444444,
              "#bd3786"
             ],
             [
              0.5555555555555556,
              "#d8576b"
             ],
             [
              0.6666666666666666,
              "#ed7953"
             ],
             [
              0.7777777777777778,
              "#fb9f3a"
             ],
             [
              0.8888888888888888,
              "#fdca26"
             ],
             [
              1,
              "#f0f921"
             ]
            ],
            "type": "histogram2d"
           }
          ],
          "histogram2dcontour": [
           {
            "colorbar": {
             "outlinewidth": 0,
             "ticks": ""
            },
            "colorscale": [
             [
              0,
              "#0d0887"
             ],
             [
              0.1111111111111111,
              "#46039f"
             ],
             [
              0.2222222222222222,
              "#7201a8"
             ],
             [
              0.3333333333333333,
              "#9c179e"
             ],
             [
              0.4444444444444444,
              "#bd3786"
             ],
             [
              0.5555555555555556,
              "#d8576b"
             ],
             [
              0.6666666666666666,
              "#ed7953"
             ],
             [
              0.7777777777777778,
              "#fb9f3a"
             ],
             [
              0.8888888888888888,
              "#fdca26"
             ],
             [
              1,
              "#f0f921"
             ]
            ],
            "type": "histogram2dcontour"
           }
          ],
          "mesh3d": [
           {
            "colorbar": {
             "outlinewidth": 0,
             "ticks": ""
            },
            "type": "mesh3d"
           }
          ],
          "parcoords": [
           {
            "line": {
             "colorbar": {
              "outlinewidth": 0,
              "ticks": ""
             }
            },
            "type": "parcoords"
           }
          ],
          "pie": [
           {
            "automargin": true,
            "type": "pie"
           }
          ],
          "scatter": [
           {
            "marker": {
             "colorbar": {
              "outlinewidth": 0,
              "ticks": ""
             }
            },
            "type": "scatter"
           }
          ],
          "scatter3d": [
           {
            "line": {
             "colorbar": {
              "outlinewidth": 0,
              "ticks": ""
             }
            },
            "marker": {
             "colorbar": {
              "outlinewidth": 0,
              "ticks": ""
             }
            },
            "type": "scatter3d"
           }
          ],
          "scattercarpet": [
           {
            "marker": {
             "colorbar": {
              "outlinewidth": 0,
              "ticks": ""
             }
            },
            "type": "scattercarpet"
           }
          ],
          "scattergeo": [
           {
            "marker": {
             "colorbar": {
              "outlinewidth": 0,
              "ticks": ""
             }
            },
            "type": "scattergeo"
           }
          ],
          "scattergl": [
           {
            "marker": {
             "colorbar": {
              "outlinewidth": 0,
              "ticks": ""
             }
            },
            "type": "scattergl"
           }
          ],
          "scattermapbox": [
           {
            "marker": {
             "colorbar": {
              "outlinewidth": 0,
              "ticks": ""
             }
            },
            "type": "scattermapbox"
           }
          ],
          "scatterpolar": [
           {
            "marker": {
             "colorbar": {
              "outlinewidth": 0,
              "ticks": ""
             }
            },
            "type": "scatterpolar"
           }
          ],
          "scatterpolargl": [
           {
            "marker": {
             "colorbar": {
              "outlinewidth": 0,
              "ticks": ""
             }
            },
            "type": "scatterpolargl"
           }
          ],
          "scatterternary": [
           {
            "marker": {
             "colorbar": {
              "outlinewidth": 0,
              "ticks": ""
             }
            },
            "type": "scatterternary"
           }
          ],
          "surface": [
           {
            "colorbar": {
             "outlinewidth": 0,
             "ticks": ""
            },
            "colorscale": [
             [
              0,
              "#0d0887"
             ],
             [
              0.1111111111111111,
              "#46039f"
             ],
             [
              0.2222222222222222,
              "#7201a8"
             ],
             [
              0.3333333333333333,
              "#9c179e"
             ],
             [
              0.4444444444444444,
              "#bd3786"
             ],
             [
              0.5555555555555556,
              "#d8576b"
             ],
             [
              0.6666666666666666,
              "#ed7953"
             ],
             [
              0.7777777777777778,
              "#fb9f3a"
             ],
             [
              0.8888888888888888,
              "#fdca26"
             ],
             [
              1,
              "#f0f921"
             ]
            ],
            "type": "surface"
           }
          ],
          "table": [
           {
            "cells": {
             "fill": {
              "color": "#EBF0F8"
             },
             "line": {
              "color": "white"
             }
            },
            "header": {
             "fill": {
              "color": "#C8D4E3"
             },
             "line": {
              "color": "white"
             }
            },
            "type": "table"
           }
          ]
         },
         "layout": {
          "annotationdefaults": {
           "arrowcolor": "#2a3f5f",
           "arrowhead": 0,
           "arrowwidth": 1
          },
          "autotypenumbers": "strict",
          "coloraxis": {
           "colorbar": {
            "outlinewidth": 0,
            "ticks": ""
           }
          },
          "colorscale": {
           "diverging": [
            [
             0,
             "#8e0152"
            ],
            [
             0.1,
             "#c51b7d"
            ],
            [
             0.2,
             "#de77ae"
            ],
            [
             0.3,
             "#f1b6da"
            ],
            [
             0.4,
             "#fde0ef"
            ],
            [
             0.5,
             "#f7f7f7"
            ],
            [
             0.6,
             "#e6f5d0"
            ],
            [
             0.7,
             "#b8e186"
            ],
            [
             0.8,
             "#7fbc41"
            ],
            [
             0.9,
             "#4d9221"
            ],
            [
             1,
             "#276419"
            ]
           ],
           "sequential": [
            [
             0,
             "#0d0887"
            ],
            [
             0.1111111111111111,
             "#46039f"
            ],
            [
             0.2222222222222222,
             "#7201a8"
            ],
            [
             0.3333333333333333,
             "#9c179e"
            ],
            [
             0.4444444444444444,
             "#bd3786"
            ],
            [
             0.5555555555555556,
             "#d8576b"
            ],
            [
             0.6666666666666666,
             "#ed7953"
            ],
            [
             0.7777777777777778,
             "#fb9f3a"
            ],
            [
             0.8888888888888888,
             "#fdca26"
            ],
            [
             1,
             "#f0f921"
            ]
           ],
           "sequentialminus": [
            [
             0,
             "#0d0887"
            ],
            [
             0.1111111111111111,
             "#46039f"
            ],
            [
             0.2222222222222222,
             "#7201a8"
            ],
            [
             0.3333333333333333,
             "#9c179e"
            ],
            [
             0.4444444444444444,
             "#bd3786"
            ],
            [
             0.5555555555555556,
             "#d8576b"
            ],
            [
             0.6666666666666666,
             "#ed7953"
            ],
            [
             0.7777777777777778,
             "#fb9f3a"
            ],
            [
             0.8888888888888888,
             "#fdca26"
            ],
            [
             1,
             "#f0f921"
            ]
           ]
          },
          "colorway": [
           "#636efa",
           "#EF553B",
           "#00cc96",
           "#ab63fa",
           "#FFA15A",
           "#19d3f3",
           "#FF6692",
           "#B6E880",
           "#FF97FF",
           "#FECB52"
          ],
          "font": {
           "color": "#2a3f5f"
          },
          "geo": {
           "bgcolor": "white",
           "lakecolor": "white",
           "landcolor": "#E5ECF6",
           "showlakes": true,
           "showland": true,
           "subunitcolor": "white"
          },
          "hoverlabel": {
           "align": "left"
          },
          "hovermode": "closest",
          "mapbox": {
           "style": "light"
          },
          "paper_bgcolor": "white",
          "plot_bgcolor": "#E5ECF6",
          "polar": {
           "angularaxis": {
            "gridcolor": "white",
            "linecolor": "white",
            "ticks": ""
           },
           "bgcolor": "#E5ECF6",
           "radialaxis": {
            "gridcolor": "white",
            "linecolor": "white",
            "ticks": ""
           }
          },
          "scene": {
           "xaxis": {
            "backgroundcolor": "#E5ECF6",
            "gridcolor": "white",
            "gridwidth": 2,
            "linecolor": "white",
            "showbackground": true,
            "ticks": "",
            "zerolinecolor": "white"
           },
           "yaxis": {
            "backgroundcolor": "#E5ECF6",
            "gridcolor": "white",
            "gridwidth": 2,
            "linecolor": "white",
            "showbackground": true,
            "ticks": "",
            "zerolinecolor": "white"
           },
           "zaxis": {
            "backgroundcolor": "#E5ECF6",
            "gridcolor": "white",
            "gridwidth": 2,
            "linecolor": "white",
            "showbackground": true,
            "ticks": "",
            "zerolinecolor": "white"
           }
          },
          "shapedefaults": {
           "line": {
            "color": "#2a3f5f"
           }
          },
          "ternary": {
           "aaxis": {
            "gridcolor": "white",
            "linecolor": "white",
            "ticks": ""
           },
           "baxis": {
            "gridcolor": "white",
            "linecolor": "white",
            "ticks": ""
           },
           "bgcolor": "#E5ECF6",
           "caxis": {
            "gridcolor": "white",
            "linecolor": "white",
            "ticks": ""
           }
          },
          "title": {
           "x": 0.05
          },
          "xaxis": {
           "automargin": true,
           "gridcolor": "white",
           "linecolor": "white",
           "ticks": "",
           "title": {
            "standoff": 15
           },
           "zerolinecolor": "white",
           "zerolinewidth": 2
          },
          "yaxis": {
           "automargin": true,
           "gridcolor": "white",
           "linecolor": "white",
           "ticks": "",
           "title": {
            "standoff": 15
           },
           "zerolinecolor": "white",
           "zerolinewidth": 2
          }
         }
        },
        "title": {
         "text": "Barplot of feature importance: classification",
         "x": 0.5,
         "xanchor": "center",
         "y": 0.9,
         "yanchor": "top"
        },
        "xaxis": {
         "anchor": "y",
         "domain": [
          0,
          1
         ],
         "title": {
          "text": "Importance"
         }
        },
        "yaxis": {
         "anchor": "x",
         "domain": [
          0,
          1
         ],
         "title": {
          "text": "Feature"
         }
        }
       }
      },
      "text/html": [
       "<div>                            <div id=\"5c0d4b15-0c1d-4fb2-846a-257ea918babd\" class=\"plotly-graph-div\" style=\"height:525px; width:100%;\"></div>            <script type=\"text/javascript\">                require([\"plotly\"], function(Plotly) {                    window.PLOTLYENV=window.PLOTLYENV || {};                                    if (document.getElementById(\"5c0d4b15-0c1d-4fb2-846a-257ea918babd\")) {                    Plotly.newPlot(                        \"5c0d4b15-0c1d-4fb2-846a-257ea918babd\",                        [{\"alignmentgroup\":\"True\",\"hovertemplate\":\"Importance=%{x}<br>Feature=%{y}<extra></extra>\",\"legendgroup\":\"\",\"marker\":{\"color\":\"#636efa\",\"pattern\":{\"shape\":\"\"}},\"name\":\"\",\"offsetgroup\":\"\",\"orientation\":\"h\",\"showlegend\":false,\"textposition\":\"auto\",\"type\":\"bar\",\"x\":[0.15058018229645134,0.31127732554362986,0.4699226567280451,0.5265742382991394,0.5330699078579224,0.6500282590083235,0.6800345233650359,1.11009647745239,1.1745903356847947],\"xaxis\":\"x\",\"y\":[\"Fe\",\"Si\",\"K\",\"Ba\",\"RI\",\"Ca\",\"Na\",\"Mg\",\"Al\"],\"yaxis\":\"y\"}],                        {\"barmode\":\"relative\",\"legend\":{\"tracegroupgap\":0},\"template\":{\"data\":{\"bar\":[{\"error_x\":{\"color\":\"#2a3f5f\"},\"error_y\":{\"color\":\"#2a3f5f\"},\"marker\":{\"line\":{\"color\":\"#E5ECF6\",\"width\":0.5},\"pattern\":{\"fillmode\":\"overlay\",\"size\":10,\"solidity\":0.2}},\"type\":\"bar\"}],\"barpolar\":[{\"marker\":{\"line\":{\"color\":\"#E5ECF6\",\"width\":0.5},\"pattern\":{\"fillmode\":\"overlay\",\"size\":10,\"solidity\":0.2}},\"type\":\"barpolar\"}],\"carpet\":[{\"aaxis\":{\"endlinecolor\":\"#2a3f5f\",\"gridcolor\":\"white\",\"linecolor\":\"white\",\"minorgridcolor\":\"white\",\"startlinecolor\":\"#2a3f5f\"},\"baxis\":{\"endlinecolor\":\"#2a3f5f\",\"gridcolor\":\"white\",\"linecolor\":\"white\",\"minorgridcolor\":\"white\",\"startlinecolor\":\"#2a3f5f\"},\"type\":\"carpet\"}],\"choropleth\":[{\"colorbar\":{\"outlinewidth\":0,\"ticks\":\"\"},\"type\":\"choropleth\"}],\"contour\":[{\"colorbar\":{\"outlinewidth\":0,\"ticks\":\"\"},\"colorscale\":[[0.0,\"#0d0887\"],[0.1111111111111111,\"#46039f\"],[0.2222222222222222,\"#7201a8\"],[0.3333333333333333,\"#9c179e\"],[0.4444444444444444,\"#bd3786\"],[0.5555555555555556,\"#d8576b\"],[0.6666666666666666,\"#ed7953\"],[0.7777777777777778,\"#fb9f3a\"],[0.8888888888888888,\"#fdca26\"],[1.0,\"#f0f921\"]],\"type\":\"contour\"}],\"contourcarpet\":[{\"colorbar\":{\"outlinewidth\":0,\"ticks\":\"\"},\"type\":\"contourcarpet\"}],\"heatmap\":[{\"colorbar\":{\"outlinewidth\":0,\"ticks\":\"\"},\"colorscale\":[[0.0,\"#0d0887\"],[0.1111111111111111,\"#46039f\"],[0.2222222222222222,\"#7201a8\"],[0.3333333333333333,\"#9c179e\"],[0.4444444444444444,\"#bd3786\"],[0.5555555555555556,\"#d8576b\"],[0.6666666666666666,\"#ed7953\"],[0.7777777777777778,\"#fb9f3a\"],[0.8888888888888888,\"#fdca26\"],[1.0,\"#f0f921\"]],\"type\":\"heatmap\"}],\"heatmapgl\":[{\"colorbar\":{\"outlinewidth\":0,\"ticks\":\"\"},\"colorscale\":[[0.0,\"#0d0887\"],[0.1111111111111111,\"#46039f\"],[0.2222222222222222,\"#7201a8\"],[0.3333333333333333,\"#9c179e\"],[0.4444444444444444,\"#bd3786\"],[0.5555555555555556,\"#d8576b\"],[0.6666666666666666,\"#ed7953\"],[0.7777777777777778,\"#fb9f3a\"],[0.8888888888888888,\"#fdca26\"],[1.0,\"#f0f921\"]],\"type\":\"heatmapgl\"}],\"histogram\":[{\"marker\":{\"pattern\":{\"fillmode\":\"overlay\",\"size\":10,\"solidity\":0.2}},\"type\":\"histogram\"}],\"histogram2d\":[{\"colorbar\":{\"outlinewidth\":0,\"ticks\":\"\"},\"colorscale\":[[0.0,\"#0d0887\"],[0.1111111111111111,\"#46039f\"],[0.2222222222222222,\"#7201a8\"],[0.3333333333333333,\"#9c179e\"],[0.4444444444444444,\"#bd3786\"],[0.5555555555555556,\"#d8576b\"],[0.6666666666666666,\"#ed7953\"],[0.7777777777777778,\"#fb9f3a\"],[0.8888888888888888,\"#fdca26\"],[1.0,\"#f0f921\"]],\"type\":\"histogram2d\"}],\"histogram2dcontour\":[{\"colorbar\":{\"outlinewidth\":0,\"ticks\":\"\"},\"colorscale\":[[0.0,\"#0d0887\"],[0.1111111111111111,\"#46039f\"],[0.2222222222222222,\"#7201a8\"],[0.3333333333333333,\"#9c179e\"],[0.4444444444444444,\"#bd3786\"],[0.5555555555555556,\"#d8576b\"],[0.6666666666666666,\"#ed7953\"],[0.7777777777777778,\"#fb9f3a\"],[0.8888888888888888,\"#fdca26\"],[1.0,\"#f0f921\"]],\"type\":\"histogram2dcontour\"}],\"mesh3d\":[{\"colorbar\":{\"outlinewidth\":0,\"ticks\":\"\"},\"type\":\"mesh3d\"}],\"parcoords\":[{\"line\":{\"colorbar\":{\"outlinewidth\":0,\"ticks\":\"\"}},\"type\":\"parcoords\"}],\"pie\":[{\"automargin\":true,\"type\":\"pie\"}],\"scatter\":[{\"marker\":{\"colorbar\":{\"outlinewidth\":0,\"ticks\":\"\"}},\"type\":\"scatter\"}],\"scatter3d\":[{\"line\":{\"colorbar\":{\"outlinewidth\":0,\"ticks\":\"\"}},\"marker\":{\"colorbar\":{\"outlinewidth\":0,\"ticks\":\"\"}},\"type\":\"scatter3d\"}],\"scattercarpet\":[{\"marker\":{\"colorbar\":{\"outlinewidth\":0,\"ticks\":\"\"}},\"type\":\"scattercarpet\"}],\"scattergeo\":[{\"marker\":{\"colorbar\":{\"outlinewidth\":0,\"ticks\":\"\"}},\"type\":\"scattergeo\"}],\"scattergl\":[{\"marker\":{\"colorbar\":{\"outlinewidth\":0,\"ticks\":\"\"}},\"type\":\"scattergl\"}],\"scattermapbox\":[{\"marker\":{\"colorbar\":{\"outlinewidth\":0,\"ticks\":\"\"}},\"type\":\"scattermapbox\"}],\"scatterpolar\":[{\"marker\":{\"colorbar\":{\"outlinewidth\":0,\"ticks\":\"\"}},\"type\":\"scatterpolar\"}],\"scatterpolargl\":[{\"marker\":{\"colorbar\":{\"outlinewidth\":0,\"ticks\":\"\"}},\"type\":\"scatterpolargl\"}],\"scatterternary\":[{\"marker\":{\"colorbar\":{\"outlinewidth\":0,\"ticks\":\"\"}},\"type\":\"scatterternary\"}],\"surface\":[{\"colorbar\":{\"outlinewidth\":0,\"ticks\":\"\"},\"colorscale\":[[0.0,\"#0d0887\"],[0.1111111111111111,\"#46039f\"],[0.2222222222222222,\"#7201a8\"],[0.3333333333333333,\"#9c179e\"],[0.4444444444444444,\"#bd3786\"],[0.5555555555555556,\"#d8576b\"],[0.6666666666666666,\"#ed7953\"],[0.7777777777777778,\"#fb9f3a\"],[0.8888888888888888,\"#fdca26\"],[1.0,\"#f0f921\"]],\"type\":\"surface\"}],\"table\":[{\"cells\":{\"fill\":{\"color\":\"#EBF0F8\"},\"line\":{\"color\":\"white\"}},\"header\":{\"fill\":{\"color\":\"#C8D4E3\"},\"line\":{\"color\":\"white\"}},\"type\":\"table\"}]},\"layout\":{\"annotationdefaults\":{\"arrowcolor\":\"#2a3f5f\",\"arrowhead\":0,\"arrowwidth\":1},\"autotypenumbers\":\"strict\",\"coloraxis\":{\"colorbar\":{\"outlinewidth\":0,\"ticks\":\"\"}},\"colorscale\":{\"diverging\":[[0,\"#8e0152\"],[0.1,\"#c51b7d\"],[0.2,\"#de77ae\"],[0.3,\"#f1b6da\"],[0.4,\"#fde0ef\"],[0.5,\"#f7f7f7\"],[0.6,\"#e6f5d0\"],[0.7,\"#b8e186\"],[0.8,\"#7fbc41\"],[0.9,\"#4d9221\"],[1,\"#276419\"]],\"sequential\":[[0.0,\"#0d0887\"],[0.1111111111111111,\"#46039f\"],[0.2222222222222222,\"#7201a8\"],[0.3333333333333333,\"#9c179e\"],[0.4444444444444444,\"#bd3786\"],[0.5555555555555556,\"#d8576b\"],[0.6666666666666666,\"#ed7953\"],[0.7777777777777778,\"#fb9f3a\"],[0.8888888888888888,\"#fdca26\"],[1.0,\"#f0f921\"]],\"sequentialminus\":[[0.0,\"#0d0887\"],[0.1111111111111111,\"#46039f\"],[0.2222222222222222,\"#7201a8\"],[0.3333333333333333,\"#9c179e\"],[0.4444444444444444,\"#bd3786\"],[0.5555555555555556,\"#d8576b\"],[0.6666666666666666,\"#ed7953\"],[0.7777777777777778,\"#fb9f3a\"],[0.8888888888888888,\"#fdca26\"],[1.0,\"#f0f921\"]]},\"colorway\":[\"#636efa\",\"#EF553B\",\"#00cc96\",\"#ab63fa\",\"#FFA15A\",\"#19d3f3\",\"#FF6692\",\"#B6E880\",\"#FF97FF\",\"#FECB52\"],\"font\":{\"color\":\"#2a3f5f\"},\"geo\":{\"bgcolor\":\"white\",\"lakecolor\":\"white\",\"landcolor\":\"#E5ECF6\",\"showlakes\":true,\"showland\":true,\"subunitcolor\":\"white\"},\"hoverlabel\":{\"align\":\"left\"},\"hovermode\":\"closest\",\"mapbox\":{\"style\":\"light\"},\"paper_bgcolor\":\"white\",\"plot_bgcolor\":\"#E5ECF6\",\"polar\":{\"angularaxis\":{\"gridcolor\":\"white\",\"linecolor\":\"white\",\"ticks\":\"\"},\"bgcolor\":\"#E5ECF6\",\"radialaxis\":{\"gridcolor\":\"white\",\"linecolor\":\"white\",\"ticks\":\"\"}},\"scene\":{\"xaxis\":{\"backgroundcolor\":\"#E5ECF6\",\"gridcolor\":\"white\",\"gridwidth\":2,\"linecolor\":\"white\",\"showbackground\":true,\"ticks\":\"\",\"zerolinecolor\":\"white\"},\"yaxis\":{\"backgroundcolor\":\"#E5ECF6\",\"gridcolor\":\"white\",\"gridwidth\":2,\"linecolor\":\"white\",\"showbackground\":true,\"ticks\":\"\",\"zerolinecolor\":\"white\"},\"zaxis\":{\"backgroundcolor\":\"#E5ECF6\",\"gridcolor\":\"white\",\"gridwidth\":2,\"linecolor\":\"white\",\"showbackground\":true,\"ticks\":\"\",\"zerolinecolor\":\"white\"}},\"shapedefaults\":{\"line\":{\"color\":\"#2a3f5f\"}},\"ternary\":{\"aaxis\":{\"gridcolor\":\"white\",\"linecolor\":\"white\",\"ticks\":\"\"},\"baxis\":{\"gridcolor\":\"white\",\"linecolor\":\"white\",\"ticks\":\"\"},\"bgcolor\":\"#E5ECF6\",\"caxis\":{\"gridcolor\":\"white\",\"linecolor\":\"white\",\"ticks\":\"\"}},\"title\":{\"x\":0.05},\"xaxis\":{\"automargin\":true,\"gridcolor\":\"white\",\"linecolor\":\"white\",\"ticks\":\"\",\"title\":{\"standoff\":15},\"zerolinecolor\":\"white\",\"zerolinewidth\":2},\"yaxis\":{\"automargin\":true,\"gridcolor\":\"white\",\"linecolor\":\"white\",\"ticks\":\"\",\"title\":{\"standoff\":15},\"zerolinecolor\":\"white\",\"zerolinewidth\":2}}},\"title\":{\"text\":\"Barplot of feature importance: classification\",\"x\":0.5,\"xanchor\":\"center\",\"y\":0.9,\"yanchor\":\"top\"},\"xaxis\":{\"anchor\":\"y\",\"domain\":[0.0,1.0],\"title\":{\"text\":\"Importance\"}},\"yaxis\":{\"anchor\":\"x\",\"domain\":[0.0,1.0],\"title\":{\"text\":\"Feature\"}}},                        {\"responsive\": true}                    ).then(function(){\n",
       "                            \n",
       "var gd = document.getElementById('5c0d4b15-0c1d-4fb2-846a-257ea918babd');\n",
       "var x = new MutationObserver(function (mutations, observer) {{\n",
       "        var display = window.getComputedStyle(gd).display;\n",
       "        if (!display || display === 'none') {{\n",
       "            console.log([gd, 'removed!']);\n",
       "            Plotly.purge(gd);\n",
       "            observer.disconnect();\n",
       "        }}\n",
       "}});\n",
       "\n",
       "// Listen for the removal of the full notebook cells\n",
       "var notebookContainer = gd.closest('#notebook-container');\n",
       "if (notebookContainer) {{\n",
       "    x.observe(notebookContainer, {childList: true});\n",
       "}}\n",
       "\n",
       "// Listen for the clearing of the current output cell\n",
       "var outputEl = gd.closest('.output');\n",
       "if (outputEl) {{\n",
       "    x.observe(outputEl, {childList: true});\n",
       "}}\n",
       "\n",
       "                        })                };                });            </script>        </div>"
      ]
     },
     "metadata": {},
     "output_type": "display_data"
    }
   ],
   "source": [
    "acme_rf.bar_plot()"
   ]
  },
  {
   "cell_type": "code",
   "execution_count": 39,
   "metadata": {},
   "outputs": [],
   "source": [
    "acme_class =  acme_rf.fit(glass_data,robust = True, label_class=1)"
   ]
  },
  {
   "cell_type": "code",
   "execution_count": 40,
   "metadata": {},
   "outputs": [
    {
     "data": {
      "application/vnd.plotly.v1+json": {
       "config": {
        "plotlyServerURL": "https://plot.ly"
       },
       "data": [
        {
         "customdata": [
          [
           0
          ],
          [
           0
          ],
          [
           0
          ],
          [
           0
          ],
          [
           0
          ],
          [
           0
          ],
          [
           0
          ],
          [
           0
          ],
          [
           0
          ],
          [
           0
          ],
          [
           0
          ],
          [
           0
          ],
          [
           0
          ],
          [
           0
          ],
          [
           0
          ],
          [
           0
          ],
          [
           0
          ],
          [
           0
          ],
          [
           0
          ],
          [
           0
          ],
          [
           0
          ],
          [
           0
          ],
          [
           0
          ],
          [
           0
          ],
          [
           0
          ],
          [
           0
          ],
          [
           0
          ],
          [
           0
          ],
          [
           0
          ],
          [
           0
          ],
          [
           0
          ],
          [
           0
          ],
          [
           0
          ],
          [
           0.007755102040816269
          ],
          [
           0.07
          ],
          [
           0.08428571428571416
          ],
          [
           0.09
          ],
          [
           0.1
          ],
          [
           0.11
          ],
          [
           0.12
          ],
          [
           0.15
          ],
          [
           0.16387755102040813
          ],
          [
           0.17
          ],
          [
           0.19
          ],
          [
           0.22
          ],
          [
           0.24
          ],
          [
           0.240204081632653
          ],
          [
           0.28
          ],
          [
           0.31673469387755093
          ],
          [
           0.51
          ],
          [
           0
          ],
          [
           0
          ],
          [
           0
          ],
          [
           0
          ],
          [
           0
          ],
          [
           0
          ],
          [
           0
          ],
          [
           0.022857142857142847
          ],
          [
           0.056122448979591795
          ],
          [
           0.07938775510204081
          ],
          [
           0.09
          ],
          [
           0.11
          ],
          [
           0.12
          ],
          [
           0.1424489795918367
          ],
          [
           0.17571428571428568
          ],
          [
           0.22591836734693857
          ],
          [
           0.3222448979591836
          ],
          [
           0.37551020408163266
          ],
          [
           0.39
          ],
          [
           0.47204081632653055
          ],
          [
           0.51
          ],
          [
           0.52
          ],
          [
           0.54
          ],
          [
           0.5451020408163265
          ],
          [
           0.55
          ],
          [
           0.56
          ],
          [
           0.56
          ],
          [
           0.5681632653061223
          ],
          [
           0.57
          ],
          [
           0.57
          ],
          [
           0.58
          ],
          [
           0.58
          ],
          [
           0.5844897959183671
          ],
          [
           0.59
          ],
          [
           0.6
          ],
          [
           0.6
          ],
          [
           0.6
          ],
          [
           0.61
          ],
          [
           0.6140816326530611
          ],
          [
           0.62
          ],
          [
           0.64
          ],
          [
           0.64
          ],
          [
           0.65
          ],
          [
           0.67
          ],
          [
           0.68
          ],
          [
           0.69
          ],
          [
           0.720204081632653
          ],
          [
           0.8655102040816292
          ],
          [
           1.60816326530612
          ],
          [
           6.21
          ],
          [
           0
          ],
          [
           0
          ],
          [
           0
          ],
          [
           0
          ],
          [
           0
          ],
          [
           0
          ],
          [
           0
          ],
          [
           0
          ],
          [
           0
          ],
          [
           0
          ],
          [
           0
          ],
          [
           0
          ],
          [
           0
          ],
          [
           0
          ],
          [
           0
          ],
          [
           0
          ],
          [
           0
          ],
          [
           0
          ],
          [
           0
          ],
          [
           0
          ],
          [
           0
          ],
          [
           0
          ],
          [
           0
          ],
          [
           0
          ],
          [
           0
          ],
          [
           0
          ],
          [
           0
          ],
          [
           0
          ],
          [
           0
          ],
          [
           0
          ],
          [
           0
          ],
          [
           0
          ],
          [
           0
          ],
          [
           0
          ],
          [
           0
          ],
          [
           0
          ],
          [
           0
          ],
          [
           0
          ],
          [
           0
          ],
          [
           0
          ],
          [
           0
          ],
          [
           0.09775510204081626
          ],
          [
           0.21428571428571244
          ],
          [
           0.5408163265306121
          ],
          [
           0.64
          ],
          [
           0.7385714285714274
          ],
          [
           1.3834693877551012
          ],
          [
           1.59
          ],
          [
           1.676734693877551
          ],
          [
           3.15
          ],
          [
           69.81
          ],
          [
           70.44632653061225
          ],
          [
           71.20877551020408
          ],
          [
           71.36
          ],
          [
           71.7530612244898
          ],
          [
           71.7826530612245
          ],
          [
           71.86755102040817
          ],
          [
           71.96857142857142
          ],
          [
           72.01612244897959
          ],
          [
           72.07877551020408
          ],
          [
           72.18
          ],
          [
           72.21183673469388
          ],
          [
           72.27836734693878
          ],
          [
           72.33244897959183
          ],
          [
           72.38
          ],
          [
           72.43591836734694
          ],
          [
           72.50224489795919
          ],
          [
           72.54551020408164
          ],
          [
           72.61
          ],
          [
           72.65
          ],
          [
           72.67
          ],
          [
           72.71714285714286
          ],
          [
           72.73183673469389
          ],
          [
           72.75
          ],
          [
           72.77836734693878
          ],
          [
           72.81326530612245
          ],
          [
           72.84489795918367
          ],
          [
           72.86
          ],
          [
           72.87
          ],
          [
           72.90408163265306
          ],
          [
           72.95795918367347
          ],
          [
           72.97
          ],
          [
           72.99
          ],
          [
           73
          ],
          [
           73.02
          ],
          [
           73.04428571428572
          ],
          [
           73.07755102040817
          ],
          [
           73.1
          ],
          [
           73.11
          ],
          [
           73.13469387755102
          ],
          [
           73.20061224489797
          ],
          [
           73.23
          ],
          [
           73.25714285714287
          ],
          [
           73.28
          ],
          [
           73.29367346938776
          ],
          [
           73.39
          ],
          [
           73.4604081632653
          ],
          [
           73.64122448979592
          ],
          [
           73.85714285714285
          ],
          [
           75.41
          ],
          [
           10.73
          ],
          [
           11.485918367346938
          ],
          [
           12.26530612244898
          ],
          [
           12.559795918367348
          ],
          [
           12.64
          ],
          [
           12.686326530612245
          ],
          [
           12.729591836734695
          ],
          [
           12.782857142857143
          ],
          [
           12.806122448979592
          ],
          [
           12.838775510204082
          ],
          [
           12.852653061224489
          ],
          [
           12.865918367346938
          ],
          [
           12.889183673469388
          ],
          [
           12.932448979591836
          ],
          [
           12.985714285714286
          ],
          [
           13
          ],
          [
           13.02
          ],
          [
           13.031020408163265
          ],
          [
           13.088775510204082
          ],
          [
           13.124081632653061
          ],
          [
           13.19
          ],
          [
           13.20857142857143
          ],
          [
           13.213673469387755
          ],
          [
           13.24
          ],
          [
           13.27
          ],
          [
           13.31326530612245
          ],
          [
           13.334897959183673
          ],
          [
           13.38
          ],
          [
           13.41
          ],
          [
           13.43469387755102
          ],
          [
           13.475918367346939
          ],
          [
           13.501224489795918
          ],
          [
           13.554489795918368
          ],
          [
           13.64
          ],
          [
           13.691020408163265
          ],
          [
           13.72
          ],
          [
           13.787551020408163
          ],
          [
           13.870816326530612
          ],
          [
           13.908163265306122
          ],
          [
           14.007346938775509
          ],
          [
           14.14
          ],
          [
           14.193877551020407
          ],
          [
           14.244285714285715
          ],
          [
           14.360408163265305
          ],
          [
           14.393673469387755
          ],
          [
           14.56
          ],
          [
           14.801020408163266
          ],
          [
           14.88081632653061
          ],
          [
           14.976938775510204
          ],
          [
           17.38
          ],
          [
           5.43
          ],
          [
           6.741428571428571
          ],
          [
           7.5102040816326525
          ],
          [
           7.859387755102041
          ],
          [
           7.912244897959184
          ],
          [
           7.97
          ],
          [
           8.03
          ],
          [
           8.042857142857143
          ],
          [
           8.076122448979591
          ],
          [
           8.1
          ],
          [
           8.127959183673468
          ],
          [
           8.21
          ],
          [
           8.229183673469388
          ],
          [
           8.272448979591836
          ],
          [
           8.315714285714286
          ],
          [
           8.348979591836734
          ],
          [
           8.39
          ],
          [
           8.405510204081633
          ],
          [
           8.43
          ],
          [
           8.44
          ],
          [
           8.49530612244898
          ],
          [
           8.528571428571428
          ],
          [
           8.541836734693877
          ],
          [
           8.56
          ],
          [
           8.59
          ],
          [
           8.61
          ],
          [
           8.659795918367347
          ],
          [
           8.68
          ],
          [
           8.715714285714286
          ],
          [
           8.76469387755102
          ],
          [
           8.79
          ],
          [
           8.83
          ],
          [
           8.894489795918368
          ],
          [
           8.945510204081632
          ],
          [
           9.00204081632653
          ],
          [
           9.064285714285715
          ],
          [
           9.137551020408164
          ],
          [
           9.232448979591837
          ],
          [
           9.414081632653062
          ],
          [
           9.56204081632653
          ],
          [
           9.612448979591836
          ],
          [
           9.747755102040816
          ],
          [
           9.84142857142857
          ],
          [
           10.021632653061223
          ],
          [
           10.313265306122439
          ],
          [
           11.09408163265306
          ],
          [
           11.412244897959184
          ],
          [
           11.848163265306109
          ],
          [
           13.394285714285713
          ],
          [
           16.19
          ],
          [
           0
          ],
          [
           0
          ],
          [
           0
          ],
          [
           0
          ],
          [
           0
          ],
          [
           0
          ],
          [
           0
          ],
          [
           0
          ],
          [
           0
          ],
          [
           0
          ],
          [
           0.8410204081632645
          ],
          [
           1.7277551020408162
          ],
          [
           1.8775510204081631
          ],
          [
           2.249795918367347
          ],
          [
           2.697142857142857
          ],
          [
           2.836938775510204
          ],
          [
           2.9134693877551014
          ],
          [
           3.1910204081632654
          ],
          [
           3.33
          ],
          [
           3.3520408163265305
          ],
          [
           3.3953061224489796
          ],
          [
           3.4185714285714286
          ],
          [
           3.441836734693877
          ],
          [
           3.4651020408163267
          ],
          [
           3.48
          ],
          [
           3.48
          ],
          [
           3.49
          ],
          [
           3.5
          ],
          [
           3.52
          ],
          [
           3.5246938775510204
          ],
          [
           3.54
          ],
          [
           3.54
          ],
          [
           3.554489795918367
          ],
          [
           3.5677551020408163
          ],
          [
           3.58
          ],
          [
           3.58
          ],
          [
           3.59
          ],
          [
           3.6008163265306123
          ],
          [
           3.614081632653061
          ],
          [
           3.62
          ],
          [
           3.65
          ],
          [
           3.66
          ],
          [
           3.677142857142857
          ],
          [
           3.720408163265306
          ],
          [
           3.743673469387755
          ],
          [
           3.776938775510204
          ],
          [
           3.820204081632653
          ],
          [
           3.853469387755102
          ],
          [
           3.9
          ],
          [
           3.98
          ],
          [
           1.51115
          ],
          [
           1.5131763265306122
          ],
          [
           1.51514
          ],
          [
           1.515667755102041
          ],
          [
           1.5158830612244898
          ],
          [
           1.5159126530612244
          ],
          [
           1.5159591836734694
          ],
          [
           1.5160928571428571
          ],
          [
           1.5161544897959183
          ],
          [
           1.51623
          ],
          [
           1.5163338775510204
          ],
          [
           1.51645
          ],
          [
           1.516505918367347
          ],
          [
           1.5165573469387756
          ],
          [
           1.5166414285714285
          ],
          [
           1.51672693877551
          ],
          [
           1.5168544897959184
          ],
          [
           1.5170116326530612
          ],
          [
           1.51711
          ],
          [
           1.5172761224489795
          ],
          [
           1.517391836734694
          ],
          [
           1.5174785714285715
          ],
          [
           1.51754
          ],
          [
           1.5175855102040816
          ],
          [
           1.517638367346939
          ],
          [
           1.51769
          ],
          [
           1.5177848979591837
          ],
          [
           1.51784
          ],
          [
           1.5179342857142857
          ],
          [
           1.5180693877551021
          ],
          [
           1.5181697959183673
          ],
          [
           1.5182924489795917
          ],
          [
           1.5183844897959184
          ],
          [
           1.5184555102040815
          ],
          [
           1.5185281632653063
          ],
          [
           1.518897142857143
          ],
          [
           1.51905
          ],
          [
           1.5191616326530613
          ],
          [
           1.5194883673469388
          ],
          [
           1.5198948979591838
          ],
          [
           1.520651836734694
          ],
          [
           1.5211977551020408
          ],
          [
           1.52152
          ],
          [
           1.5217220408163266
          ],
          [
           1.5221036734693878
          ],
          [
           1.52222693877551
          ],
          [
           1.5231510204081633
          ],
          [
           1.5243255102040816
          ],
          [
           1.527060612244898
          ],
          [
           1.53393
          ],
          [
           0.29
          ],
          [
           0.5263265306122449
          ],
          [
           0.656530612244898
          ],
          [
           0.7493877551020408
          ],
          [
           0.7991836734693877
          ],
          [
           0.87
          ],
          [
           0.9
          ],
          [
           1.052857142857143
          ],
          [
           1.11
          ],
          [
           1.12
          ],
          [
           1.1526530612244896
          ],
          [
           1.1759183673469387
          ],
          [
           1.19
          ],
          [
           1.1924489795918367
          ],
          [
           1.2257142857142858
          ],
          [
           1.23
          ],
          [
           1.25
          ],
          [
           1.2655102040816326
          ],
          [
           1.28
          ],
          [
           1.29
          ],
          [
           1.3
          ],
          [
           1.3185714285714285
          ],
          [
           1.33
          ],
          [
           1.35
          ],
          [
           1.36
          ],
          [
           1.38
          ],
          [
           1.41
          ],
          [
           1.43
          ],
          [
           1.4528571428571426
          ],
          [
           1.48
          ],
          [
           1.5059183673469385
          ],
          [
           1.5212244897959182
          ],
          [
           1.54
          ],
          [
           1.54
          ],
          [
           1.56
          ],
          [
           1.5742857142857143
          ],
          [
           1.62
          ],
          [
           1.630816326530612
          ],
          [
           1.6781632653061223
          ],
          [
           1.74
          ],
          [
           1.7906122448979591
          ],
          [
           1.8238775510204082
          ],
          [
           1.877142857142857
          ],
          [
           1.99
          ],
          [
           2.06734693877551
          ],
          [
           2.113877551020408
          ],
          [
           2.271428571428571
          ],
          [
           2.5204081632653055
          ],
          [
           2.7736734693877545
          ],
          [
           3.5
          ]
         ],
         "hovertemplate": "standardized effect=%{x}<br>Feature=%{y}<br>original=%{customdata[0]}<br>quantile=%{marker.color}<extra></extra>",
         "legendgroup": "",
         "marker": {
          "color": [
           0,
           0.6530612244897959,
           0.6326530612244897,
           0.6122448979591836,
           0.5918367346938775,
           0.5714285714285714,
           0.5510204081632653,
           0.5306122448979591,
           0.5102040816326531,
           0.4693877551020408,
           0.44897959183673464,
           0.42857142857142855,
           0.4081632653061224,
           0.3877551020408163,
           0.36734693877551017,
           0.3469387755102041,
           0.4897959183673469,
           0.3061224489795918,
           0.2857142857142857,
           0.26530612244897955,
           0.24489795918367346,
           0.22448979591836732,
           0.2040816326530612,
           0.18367346938775508,
           0.32653061224489793,
           0.16326530612244897,
           0.14285714285714285,
           0.12244897959183673,
           0.1020408163265306,
           0.08163265306122448,
           0.061224489795918366,
           0.04081632653061224,
           0.02040816326530612,
           0.673469387755102,
           0.6938775510204082,
           0.7142857142857142,
           0.7346938775510203,
           0.7551020408163265,
           0.7755102040816326,
           0.7959183673469387,
           0.8163265306122448,
           0.836734693877551,
           0.8571428571428571,
           0.8775510204081632,
           0.8979591836734693,
           0.9183673469387754,
           0.9387755102040816,
           0.9591836734693877,
           0.9795918367346939,
           1,
           0,
           0.02040816326530612,
           0.04081632653061224,
           0.061224489795918366,
           0.08163265306122448,
           0.1020408163265306,
           0.12244897959183673,
           0.14285714285714285,
           0.16326530612244897,
           0.18367346938775508,
           0.2040816326530612,
           0.22448979591836732,
           0.24489795918367346,
           0.26530612244897955,
           0.2857142857142857,
           0.3061224489795918,
           0.32653061224489793,
           0.3469387755102041,
           0.36734693877551017,
           0.3877551020408163,
           0.4081632653061224,
           0.42857142857142855,
           0.44897959183673464,
           0.4693877551020408,
           0.4897959183673469,
           0.5102040816326531,
           0.5306122448979591,
           0.5510204081632653,
           0.5714285714285714,
           0.5918367346938775,
           0.6122448979591836,
           0.6326530612244897,
           0.6530612244897959,
           0.673469387755102,
           0.6938775510204082,
           0.7142857142857142,
           0.7346938775510203,
           0.7551020408163265,
           0.7755102040816326,
           0.7959183673469387,
           0.8163265306122448,
           0.836734693877551,
           0.8571428571428571,
           0.8775510204081632,
           0.8979591836734693,
           0.9183673469387754,
           0.9387755102040816,
           0.9591836734693877,
           0.9795918367346939,
           1,
           0,
           0.4693877551020408,
           0.5102040816326531,
           0.5306122448979591,
           0.5510204081632653,
           0.5714285714285714,
           0.5918367346938775,
           0.6122448979591836,
           0.6326530612244897,
           0.6530612244897959,
           0.673469387755102,
           0.6938775510204082,
           0.7142857142857142,
           0.7346938775510203,
           0.7551020408163265,
           0.7755102040816326,
           0.7959183673469387,
           0.8163265306122448,
           0.44897959183673464,
           0.42857142857142855,
           0.4897959183673469,
           0.3877551020408163,
           0.02040816326530612,
           0.04081632653061224,
           0.061224489795918366,
           0.08163265306122448,
           0.1020408163265306,
           0.4081632653061224,
           0.14285714285714285,
           0.16326530612244897,
           0.18367346938775508,
           0.12244897959183673,
           0.22448979591836732,
           0.2040816326530612,
           0.3469387755102041,
           0.32653061224489793,
           0.36734693877551017,
           0.2857142857142857,
           0.26530612244897955,
           0.24489795918367346,
           0.3061224489795918,
           0.836734693877551,
           0.8571428571428571,
           0.8775510204081632,
           0.8979591836734693,
           0.9183673469387754,
           0.9387755102040816,
           0.9591836734693877,
           0.9795918367346939,
           1,
           0,
           0.02040816326530612,
           0.04081632653061224,
           0.061224489795918366,
           0.08163265306122448,
           0.1020408163265306,
           0.12244897959183673,
           0.14285714285714285,
           0.16326530612244897,
           0.18367346938775508,
           0.2040816326530612,
           0.22448979591836732,
           0.24489795918367346,
           0.26530612244897955,
           0.2857142857142857,
           0.3061224489795918,
           0.32653061224489793,
           0.3469387755102041,
           0.36734693877551017,
           0.3877551020408163,
           0.4081632653061224,
           0.42857142857142855,
           0.44897959183673464,
           0.4693877551020408,
           0.4897959183673469,
           0.5102040816326531,
           0.5306122448979591,
           0.5510204081632653,
           0.5714285714285714,
           0.5918367346938775,
           0.6122448979591836,
           0.6326530612244897,
           0.6530612244897959,
           0.673469387755102,
           0.6938775510204082,
           0.7142857142857142,
           0.7346938775510203,
           0.7551020408163265,
           0.7755102040816326,
           0.7959183673469387,
           0.8163265306122448,
           0.836734693877551,
           0.8571428571428571,
           0.8775510204081632,
           0.8979591836734693,
           0.9183673469387754,
           0.9387755102040816,
           0.9591836734693877,
           0.9795918367346939,
           1,
           0,
           0.02040816326530612,
           0.04081632653061224,
           0.061224489795918366,
           0.08163265306122448,
           0.1020408163265306,
           0.12244897959183673,
           0.14285714285714285,
           0.16326530612244897,
           0.18367346938775508,
           0.2040816326530612,
           0.22448979591836732,
           0.24489795918367346,
           0.26530612244897955,
           0.2857142857142857,
           0.3061224489795918,
           0.32653061224489793,
           0.3469387755102041,
           0.36734693877551017,
           0.3877551020408163,
           0.4081632653061224,
           0.42857142857142855,
           0.44897959183673464,
           0.4693877551020408,
           0.4897959183673469,
           0.5102040816326531,
           0.5306122448979591,
           0.5510204081632653,
           0.5714285714285714,
           0.5918367346938775,
           0.6122448979591836,
           0.6326530612244897,
           0.6530612244897959,
           0.673469387755102,
           0.6938775510204082,
           0.7142857142857142,
           0.7346938775510203,
           0.7551020408163265,
           0.7755102040816326,
           0.7959183673469387,
           0.8163265306122448,
           0.836734693877551,
           0.8571428571428571,
           0.8775510204081632,
           0.8979591836734693,
           0.9183673469387754,
           0.9387755102040816,
           0.9591836734693877,
           0.9795918367346939,
           1,
           0,
           0.02040816326530612,
           0.04081632653061224,
           0.061224489795918366,
           0.08163265306122448,
           0.1020408163265306,
           0.12244897959183673,
           0.14285714285714285,
           0.16326530612244897,
           0.18367346938775508,
           0.2040816326530612,
           0.22448979591836732,
           0.24489795918367346,
           0.26530612244897955,
           0.2857142857142857,
           0.3061224489795918,
           0.32653061224489793,
           0.3469387755102041,
           0.36734693877551017,
           0.3877551020408163,
           0.4081632653061224,
           0.42857142857142855,
           0.44897959183673464,
           0.4693877551020408,
           0.4897959183673469,
           0.5102040816326531,
           0.5306122448979591,
           0.5510204081632653,
           0.5714285714285714,
           0.5918367346938775,
           0.6122448979591836,
           0.6326530612244897,
           0.6530612244897959,
           0.673469387755102,
           0.6938775510204082,
           0.7142857142857142,
           0.7346938775510203,
           0.7551020408163265,
           0.7755102040816326,
           0.7959183673469387,
           0.8163265306122448,
           0.836734693877551,
           0.8571428571428571,
           0.8775510204081632,
           0.8979591836734693,
           0.9183673469387754,
           0.9387755102040816,
           0.9591836734693877,
           0.9795918367346939,
           1,
           0,
           0.02040816326530612,
           0.04081632653061224,
           0.061224489795918366,
           0.08163265306122448,
           0.1020408163265306,
           0.12244897959183673,
           0.14285714285714285,
           0.16326530612244897,
           0.18367346938775508,
           0.2040816326530612,
           0.22448979591836732,
           0.24489795918367346,
           0.26530612244897955,
           0.2857142857142857,
           0.3061224489795918,
           0.32653061224489793,
           0.3469387755102041,
           0.36734693877551017,
           0.3877551020408163,
           0.4081632653061224,
           0.42857142857142855,
           0.44897959183673464,
           0.4693877551020408,
           0.5102040816326531,
           0.4897959183673469,
           0.5306122448979591,
           0.5510204081632653,
           0.5714285714285714,
           0.5918367346938775,
           0.6122448979591836,
           0.6326530612244897,
           0.6530612244897959,
           0.673469387755102,
           0.6938775510204082,
           0.7142857142857142,
           0.7346938775510203,
           0.7551020408163265,
           0.7755102040816326,
           0.7959183673469387,
           0.8163265306122448,
           0.836734693877551,
           0.8571428571428571,
           0.8775510204081632,
           0.8979591836734693,
           0.9183673469387754,
           0.9387755102040816,
           0.9591836734693877,
           0.9795918367346939,
           1,
           0,
           0.02040816326530612,
           0.04081632653061224,
           0.061224489795918366,
           0.08163265306122448,
           0.1020408163265306,
           0.12244897959183673,
           0.14285714285714285,
           0.16326530612244897,
           0.18367346938775508,
           0.2040816326530612,
           0.22448979591836732,
           0.24489795918367346,
           0.26530612244897955,
           0.2857142857142857,
           0.3061224489795918,
           0.32653061224489793,
           0.3469387755102041,
           0.36734693877551017,
           0.3877551020408163,
           0.4081632653061224,
           0.42857142857142855,
           0.44897959183673464,
           0.4693877551020408,
           0.4897959183673469,
           0.5102040816326531,
           0.5306122448979591,
           0.5510204081632653,
           0.5714285714285714,
           0.5918367346938775,
           0.6122448979591836,
           0.6326530612244897,
           0.6530612244897959,
           0.673469387755102,
           0.6938775510204082,
           0.7142857142857142,
           0.7346938775510203,
           0.7551020408163265,
           0.7755102040816326,
           0.7959183673469387,
           0.8163265306122448,
           0.836734693877551,
           0.8571428571428571,
           0.8775510204081632,
           0.8979591836734693,
           0.9183673469387754,
           0.9387755102040816,
           0.9591836734693877,
           0.9795918367346939,
           1,
           0,
           0.02040816326530612,
           0.04081632653061224,
           0.061224489795918366,
           0.08163265306122448,
           0.1020408163265306,
           0.12244897959183673,
           0.14285714285714285,
           0.16326530612244897,
           0.18367346938775508,
           0.2040816326530612,
           0.22448979591836732,
           0.24489795918367346,
           0.26530612244897955,
           0.2857142857142857,
           0.3061224489795918,
           0.32653061224489793,
           0.3469387755102041,
           0.36734693877551017,
           0.3877551020408163,
           0.4081632653061224,
           0.42857142857142855,
           0.44897959183673464,
           0.4693877551020408,
           0.4897959183673469,
           0.5102040816326531,
           0.5306122448979591,
           0.5510204081632653,
           0.5714285714285714,
           0.5918367346938775,
           0.6122448979591836,
           0.6326530612244897,
           0.6530612244897959,
           0.673469387755102,
           0.6938775510204082,
           0.7142857142857142,
           0.7346938775510203,
           0.7551020408163265,
           0.7755102040816326,
           0.7959183673469387,
           0.8163265306122448,
           0.836734693877551,
           0.8571428571428571,
           0.8775510204081632,
           0.8979591836734693,
           0.9183673469387754,
           0.9387755102040816,
           0.9591836734693877,
           0.9795918367346939,
           1
          ],
          "coloraxis": "coloraxis",
          "symbol": "circle"
         },
         "mode": "markers",
         "name": "",
         "orientation": "h",
         "showlegend": false,
         "type": "scatter",
         "x": [
          -0.03189027793813606,
          -0.03189027793813606,
          -0.03189027793813606,
          -0.03189027793813606,
          -0.03189027793813606,
          -0.03189027793813606,
          -0.03189027793813606,
          -0.03189027793813606,
          -0.03189027793813606,
          -0.03189027793813606,
          -0.03189027793813606,
          -0.03189027793813606,
          -0.03189027793813606,
          -0.03189027793813606,
          -0.03189027793813606,
          -0.03189027793813606,
          -0.03189027793813606,
          -0.03189027793813606,
          -0.03189027793813606,
          -0.03189027793813606,
          -0.03189027793813606,
          -0.03189027793813606,
          -0.03189027793813606,
          -0.03189027793813606,
          -0.03189027793813606,
          -0.03189027793813606,
          -0.03189027793813606,
          -0.03189027793813606,
          -0.03189027793813606,
          -0.03189027793813606,
          -0.03189027793813606,
          -0.03189027793813606,
          -0.03189027793813606,
          -0.03189027793813606,
          -0.03189027793813606,
          0.024057578093681635,
          0.024057578093681635,
          0.052031506109590404,
          0.052031506109590404,
          0.052031506109590404,
          0.052031506109590404,
          0.052031506109590404,
          0.024057578093681635,
          0.10797936214140809,
          0.08000543412549925,
          0.10797936214140809,
          0.10797936214140809,
          0.13595329015731686,
          0.13595329015731686,
          0.10797936214140809,
          -0.14092811623290127,
          -0.14092811623290127,
          -0.14092811623290127,
          -0.14092811623290127,
          -0.14092811623290127,
          -0.14092811623290127,
          -0.14092811623290127,
          -0.1109434106514329,
          0.008995411674440545,
          0.008995411674440545,
          0.008995411674440545,
          0.008995411674440545,
          0.008995411674440545,
          0.008995411674440545,
          0.008995411674440545,
          0.008995411674440545,
          0.008995411674440545,
          0.038980117255908844,
          0.038980117255908844,
          0.038980117255908844,
          0.038980117255908844,
          0.038980117255908844,
          0.038980117255908844,
          0.038980117255908844,
          0.038980117255908844,
          0.038980117255908844,
          0.038980117255908844,
          0.06896482283737723,
          0.06896482283737723,
          0.06896482283737723,
          0.038980117255908844,
          0.038980117255908844,
          0.038980117255908844,
          0.038980117255908844,
          -0.020989293907027837,
          -0.020989293907027837,
          -0.020989293907027837,
          0.008995411674440545,
          0.008995411674440545,
          0.008995411674440545,
          0.038980117255908844,
          0.038980117255908844,
          0.038980117255908844,
          0.038980117255908844,
          0.038980117255908844,
          0.038980117255908844,
          0.038980117255908844,
          0.008995411674440545,
          0.008995411674440545,
          0.008995411674440545,
          0.04350838024298411,
          0.04350838024298411,
          0.04350838024298411,
          0.04350838024298411,
          0.04350838024298411,
          0.04350838024298411,
          0.04350838024298411,
          0.04350838024298411,
          0.04350838024298411,
          0.04350838024298411,
          0.04350838024298411,
          0.04350838024298411,
          0.04350838024298411,
          0.04350838024298411,
          0.04350838024298411,
          0.04350838024298411,
          0.04350838024298411,
          0.04350838024298411,
          0.04350838024298411,
          0.04350838024298411,
          0.04350838024298411,
          0.04350838024298411,
          0.04350838024298411,
          0.04350838024298411,
          0.04350838024298411,
          0.04350838024298411,
          0.04350838024298411,
          0.04350838024298411,
          0.04350838024298411,
          0.04350838024298411,
          0.04350838024298411,
          0.04350838024298411,
          0.04350838024298411,
          0.04350838024298411,
          0.04350838024298411,
          0.04350838024298411,
          0.04350838024298411,
          0.04350838024298411,
          0.04350838024298411,
          0.04350838024298411,
          0.04350838024298411,
          -0.06950039960892264,
          -0.1260047895348761,
          -0.2107613744238062,
          -0.2107613744238062,
          -0.2107613744238062,
          -0.23901356938678284,
          -0.23901356938678284,
          -0.23901356938678284,
          -0.23901356938678284,
          -0.19060106540316715,
          -0.19060106540316715,
          -0.19060106540316715,
          -0.13047454634854028,
          -0.13047454634854028,
          -0.13047454634854028,
          -0.13047454634854028,
          -0.13047454634854028,
          -0.13047454634854028,
          -0.13047454634854028,
          -0.13047454634854028,
          -0.10041128682122687,
          -0.10041128682122687,
          -0.10041128682122687,
          -0.10041128682122687,
          -0.07034802729391341,
          -0.040284767766599956,
          -0.010221508239286588,
          0.019841751288026867,
          0.07996827034265369,
          0.07996827034265369,
          0.07996827034265369,
          0.07996827034265369,
          0.07996827034265369,
          0.07996827034265369,
          0.11003152986996714,
          0.04990501081534032,
          0.04990501081534032,
          0.04990501081534032,
          0.019841751288026867,
          0.07996827034265369,
          0.07996827034265369,
          0.07996827034265369,
          0.07996827034265369,
          0.07996827034265369,
          0.07996827034265369,
          0.07996827034265369,
          0.07996827034265369,
          0.07996827034265369,
          0.07996827034265369,
          0.07996827034265369,
          0.07996827034265369,
          0.07996827034265369,
          0.07996827034265369,
          0.07996827034265369,
          0.07996827034265369,
          0.019841751288026867,
          0.019841751288026867,
          0.019841751288026867,
          0.019841751288026867,
          0.13829119440870843,
          0.13829119440870843,
          0.13829119440870843,
          0.16784059492338965,
          0.16784059492338965,
          0.13829119440870843,
          0.13829119440870843,
          0.13829119440870843,
          0.13829119440870843,
          0.10874179389402712,
          0.04964299286466459,
          0.04964299286466459,
          0.04964299286466459,
          0.04964299286466459,
          0.04964299286466459,
          0.04964299286466459,
          0.04964299286466459,
          0.04964299286466459,
          0.10874179389402712,
          0.07919239337934582,
          0.07919239337934582,
          0.07919239337934582,
          0.07919239337934582,
          0.07919239337934582,
          -0.009455808164698038,
          -0.009455808164698038,
          -0.009455808164698038,
          -0.009455808164698038,
          -0.009455808164698038,
          -0.009455808164698038,
          -0.009455808164698038,
          -0.06855460919406056,
          -0.06855460919406056,
          -0.06855460919406056,
          -0.06855460919406056,
          -0.06855460919406056,
          -0.06855460919406056,
          -0.09810400970874188,
          -0.09810400970874188,
          -0.09810400970874188,
          -0.1276534102234231,
          -0.15720281073810444,
          -0.15720281073810444,
          -0.15720281073810444,
          -0.15720281073810444,
          -0.15720281073810444,
          -0.15720281073810444,
          -0.15720281073810444,
          -0.15720281073810444,
          -0.15720281073810444,
          0.17300831033010344,
          0.17300831033010344,
          0.17300831033010344,
          -0.015865390903633925,
          -0.015865390903633925,
          -0.05364013115038144,
          -0.05364013115038144,
          -0.05364013115038144,
          -0.05364013115038144,
          -0.05364013115038144,
          -0.05364013115038144,
          -0.05364013115038144,
          -0.015865390903633925,
          0.059684089589860996,
          0.0974588298366085,
          0.13523357008335601,
          0.17300831033010344,
          0.17300831033010344,
          0.28633253107034595,
          0.28633253107034595,
          0.24855779082359847,
          0.21078305057685093,
          0.0974588298366085,
          0.02190934934311359,
          0.02190934934311359,
          0.02190934934311359,
          -0.05364013115038144,
          -0.05364013115038144,
          -0.05364013115038144,
          -0.05364013115038144,
          -0.05364013115038144,
          -0.05364013115038144,
          -0.05364013115038144,
          -0.05364013115038144,
          -0.015865390903633925,
          0.02190934934311359,
          0.059684089589860996,
          -0.015865390903633925,
          -0.015865390903633925,
          -0.05364013115038144,
          -0.05364013115038144,
          -0.05364013115038144,
          -0.09141487139712884,
          -0.09141487139712884,
          -0.16696435189062386,
          -0.2047390921373713,
          -0.2047390921373713,
          -0.2047390921373713,
          -0.2047390921373713,
          -0.2047390921373713,
          -0.32528869962115387,
          -0.32528869962115387,
          -0.32528869962115387,
          -0.32528869962115387,
          -0.32528869962115387,
          -0.32528869962115387,
          -0.32528869962115387,
          -0.32528869962115387,
          -0.32528869962115387,
          -0.32528869962115387,
          -0.32528869962115387,
          -0.29897084366474985,
          -0.29897084366474985,
          -0.2726529877083458,
          0.06947913972490663,
          0.12211485163771477,
          0.06947913972490663,
          0.12211485163771477,
          0.043161283768502645,
          0.12211485163771477,
          0.06947913972490663,
          0.06947913972490663,
          0.06947913972490663,
          0.14843270759411872,
          0.14843270759411872,
          0.14843270759411872,
          0.14843270759411872,
          0.14843270759411872,
          0.20106841950692686,
          0.20106841950692686,
          0.22738627546333096,
          0.22738627546333096,
          0.22738627546333096,
          0.20106841950692686,
          0.20106841950692686,
          0.20106841950692686,
          0.1747505635505228,
          0.1747505635505228,
          0.1747505635505228,
          0.1747505635505228,
          0.12211485163771477,
          0.12211485163771477,
          0.12211485163771477,
          0.12211485163771477,
          0.12211485163771477,
          0.06947913972490663,
          0.043161283768502645,
          -0.009474428144305477,
          -0.06211014005711352,
          -0.08842799601351757,
          -0.08973295288289654,
          -0.12046341619895695,
          -0.12046341619895695,
          -0.12046341619895695,
          -0.1819243428310779,
          -0.2741157327792592,
          -0.2741157327792592,
          -0.3355766594113801,
          -0.3355766594113801,
          -0.3355766594113801,
          -0.3355766594113801,
          -0.3355766594113801,
          -0.3355766594113801,
          -0.3355766594113801,
          -0.3355766594113801,
          -0.3355766594113801,
          -0.3355766594113801,
          -0.2741157327792592,
          -0.24338526946319874,
          0.217571680277708,
          0.34049353354194983,
          0.34049353354194983,
          0.34049353354194983,
          0.34049353354194983,
          0.4019544601740708,
          0.4019544601740708,
          0.34049353354194983,
          0.34049353354194983,
          0.2790326069098289,
          0.18684121696164752,
          0.09464982701346615,
          0.09464982701346615,
          0.12538029032952663,
          0.12538029032952663,
          0.12538029032952663,
          0.12538029032952663,
          0.12538029032952663,
          0.12538029032952663,
          0.09464982701346615,
          0.09464982701346615,
          0.09464982701346615,
          0.09464982701346615,
          0.06391936369740576,
          0.06391936369740576,
          0.03318890038134529,
          0.03318890038134529,
          0.0024584370652848105,
          0.0024584370652848105,
          0.0024584370652848105,
          0.0024584370652848105,
          0.21387146248407726,
          0.21387146248407726,
          0.21387146248407726,
          0.2647932392660005,
          0.2647932392660005,
          0.3157150160479235,
          0.3157150160479235,
          0.3411759044388851,
          0.36663679282984674,
          0.4430194580027315,
          0.4684803463936931,
          0.49394123478465474,
          0.5194021231756163,
          0.5194021231756163,
          0.49394123478465474,
          0.49394123478465474,
          0.49394123478465474,
          0.5703238999575392,
          0.5957847883485008,
          0.5957847883485008,
          0.5703238999575392,
          0.5703238999575392,
          0.5448630115665779,
          0.5194021231756163,
          0.4684803463936931,
          0.4430194580027315,
          0.03564524374734624,
          -0.32080719372611577,
          -0.4226507472899621,
          -0.4481116356809236,
          -0.4481116356809236,
          -0.4481116356809236,
          -0.4481116356809236,
          -0.4481116356809236,
          -0.47357252407188516,
          -0.49903341246284677,
          -0.49903341246284677,
          -0.47357252407188516,
          -0.47357252407188516,
          -0.47357252407188516,
          -0.49903341246284677,
          -0.5244943008538083,
          -0.5244943008538083,
          -0.5499551892447699,
          -0.5499551892447699,
          -0.5499551892447699,
          -0.5499551892447699,
          -0.5499551892447699,
          -0.5754160776357315,
          -0.6008769660266932
         ],
         "xaxis": "x",
         "y": [
          "Fe",
          "Fe",
          "Fe",
          "Fe",
          "Fe",
          "Fe",
          "Fe",
          "Fe",
          "Fe",
          "Fe",
          "Fe",
          "Fe",
          "Fe",
          "Fe",
          "Fe",
          "Fe",
          "Fe",
          "Fe",
          "Fe",
          "Fe",
          "Fe",
          "Fe",
          "Fe",
          "Fe",
          "Fe",
          "Fe",
          "Fe",
          "Fe",
          "Fe",
          "Fe",
          "Fe",
          "Fe",
          "Fe",
          "Fe",
          "Fe",
          "Fe",
          "Fe",
          "Fe",
          "Fe",
          "Fe",
          "Fe",
          "Fe",
          "Fe",
          "Fe",
          "Fe",
          "Fe",
          "Fe",
          "Fe",
          "Fe",
          "Fe",
          "K",
          "K",
          "K",
          "K",
          "K",
          "K",
          "K",
          "K",
          "K",
          "K",
          "K",
          "K",
          "K",
          "K",
          "K",
          "K",
          "K",
          "K",
          "K",
          "K",
          "K",
          "K",
          "K",
          "K",
          "K",
          "K",
          "K",
          "K",
          "K",
          "K",
          "K",
          "K",
          "K",
          "K",
          "K",
          "K",
          "K",
          "K",
          "K",
          "K",
          "K",
          "K",
          "K",
          "K",
          "K",
          "K",
          "K",
          "K",
          "K",
          "K",
          "Ba",
          "Ba",
          "Ba",
          "Ba",
          "Ba",
          "Ba",
          "Ba",
          "Ba",
          "Ba",
          "Ba",
          "Ba",
          "Ba",
          "Ba",
          "Ba",
          "Ba",
          "Ba",
          "Ba",
          "Ba",
          "Ba",
          "Ba",
          "Ba",
          "Ba",
          "Ba",
          "Ba",
          "Ba",
          "Ba",
          "Ba",
          "Ba",
          "Ba",
          "Ba",
          "Ba",
          "Ba",
          "Ba",
          "Ba",
          "Ba",
          "Ba",
          "Ba",
          "Ba",
          "Ba",
          "Ba",
          "Ba",
          "Ba",
          "Ba",
          "Ba",
          "Ba",
          "Ba",
          "Ba",
          "Ba",
          "Ba",
          "Ba",
          "Si",
          "Si",
          "Si",
          "Si",
          "Si",
          "Si",
          "Si",
          "Si",
          "Si",
          "Si",
          "Si",
          "Si",
          "Si",
          "Si",
          "Si",
          "Si",
          "Si",
          "Si",
          "Si",
          "Si",
          "Si",
          "Si",
          "Si",
          "Si",
          "Si",
          "Si",
          "Si",
          "Si",
          "Si",
          "Si",
          "Si",
          "Si",
          "Si",
          "Si",
          "Si",
          "Si",
          "Si",
          "Si",
          "Si",
          "Si",
          "Si",
          "Si",
          "Si",
          "Si",
          "Si",
          "Si",
          "Si",
          "Si",
          "Si",
          "Si",
          "Na",
          "Na",
          "Na",
          "Na",
          "Na",
          "Na",
          "Na",
          "Na",
          "Na",
          "Na",
          "Na",
          "Na",
          "Na",
          "Na",
          "Na",
          "Na",
          "Na",
          "Na",
          "Na",
          "Na",
          "Na",
          "Na",
          "Na",
          "Na",
          "Na",
          "Na",
          "Na",
          "Na",
          "Na",
          "Na",
          "Na",
          "Na",
          "Na",
          "Na",
          "Na",
          "Na",
          "Na",
          "Na",
          "Na",
          "Na",
          "Na",
          "Na",
          "Na",
          "Na",
          "Na",
          "Na",
          "Na",
          "Na",
          "Na",
          "Na",
          "Ca",
          "Ca",
          "Ca",
          "Ca",
          "Ca",
          "Ca",
          "Ca",
          "Ca",
          "Ca",
          "Ca",
          "Ca",
          "Ca",
          "Ca",
          "Ca",
          "Ca",
          "Ca",
          "Ca",
          "Ca",
          "Ca",
          "Ca",
          "Ca",
          "Ca",
          "Ca",
          "Ca",
          "Ca",
          "Ca",
          "Ca",
          "Ca",
          "Ca",
          "Ca",
          "Ca",
          "Ca",
          "Ca",
          "Ca",
          "Ca",
          "Ca",
          "Ca",
          "Ca",
          "Ca",
          "Ca",
          "Ca",
          "Ca",
          "Ca",
          "Ca",
          "Ca",
          "Ca",
          "Ca",
          "Ca",
          "Ca",
          "Ca",
          "Mg",
          "Mg",
          "Mg",
          "Mg",
          "Mg",
          "Mg",
          "Mg",
          "Mg",
          "Mg",
          "Mg",
          "Mg",
          "Mg",
          "Mg",
          "Mg",
          "Mg",
          "Mg",
          "Mg",
          "Mg",
          "Mg",
          "Mg",
          "Mg",
          "Mg",
          "Mg",
          "Mg",
          "Mg",
          "Mg",
          "Mg",
          "Mg",
          "Mg",
          "Mg",
          "Mg",
          "Mg",
          "Mg",
          "Mg",
          "Mg",
          "Mg",
          "Mg",
          "Mg",
          "Mg",
          "Mg",
          "Mg",
          "Mg",
          "Mg",
          "Mg",
          "Mg",
          "Mg",
          "Mg",
          "Mg",
          "Mg",
          "Mg",
          "RI",
          "RI",
          "RI",
          "RI",
          "RI",
          "RI",
          "RI",
          "RI",
          "RI",
          "RI",
          "RI",
          "RI",
          "RI",
          "RI",
          "RI",
          "RI",
          "RI",
          "RI",
          "RI",
          "RI",
          "RI",
          "RI",
          "RI",
          "RI",
          "RI",
          "RI",
          "RI",
          "RI",
          "RI",
          "RI",
          "RI",
          "RI",
          "RI",
          "RI",
          "RI",
          "RI",
          "RI",
          "RI",
          "RI",
          "RI",
          "RI",
          "RI",
          "RI",
          "RI",
          "RI",
          "RI",
          "RI",
          "RI",
          "RI",
          "RI",
          "Al",
          "Al",
          "Al",
          "Al",
          "Al",
          "Al",
          "Al",
          "Al",
          "Al",
          "Al",
          "Al",
          "Al",
          "Al",
          "Al",
          "Al",
          "Al",
          "Al",
          "Al",
          "Al",
          "Al",
          "Al",
          "Al",
          "Al",
          "Al",
          "Al",
          "Al",
          "Al",
          "Al",
          "Al",
          "Al",
          "Al",
          "Al",
          "Al",
          "Al",
          "Al",
          "Al",
          "Al",
          "Al",
          "Al",
          "Al",
          "Al",
          "Al",
          "Al",
          "Al",
          "Al",
          "Al",
          "Al",
          "Al",
          "Al",
          "Al"
         ],
         "yaxis": "y"
        }
       ],
       "layout": {
        "coloraxis": {
         "colorbar": {
          "title": {
           "text": "quantile"
          }
         },
         "colorscale": [
          [
           0,
           "royalblue"
          ],
          [
           1,
           "red"
          ]
         ]
        },
        "legend": {
         "tracegroupgap": 0
        },
        "shapes": [
         {
          "line": {
           "color": "black",
           "dash": "dash",
           "width": 2
          },
          "type": "line",
          "x0": 0,
          "x1": 0,
          "y0": "Fe",
          "y1": "Al"
         }
        ],
        "template": {
         "data": {
          "bar": [
           {
            "error_x": {
             "color": "#2a3f5f"
            },
            "error_y": {
             "color": "#2a3f5f"
            },
            "marker": {
             "line": {
              "color": "#E5ECF6",
              "width": 0.5
             },
             "pattern": {
              "fillmode": "overlay",
              "size": 10,
              "solidity": 0.2
             }
            },
            "type": "bar"
           }
          ],
          "barpolar": [
           {
            "marker": {
             "line": {
              "color": "#E5ECF6",
              "width": 0.5
             },
             "pattern": {
              "fillmode": "overlay",
              "size": 10,
              "solidity": 0.2
             }
            },
            "type": "barpolar"
           }
          ],
          "carpet": [
           {
            "aaxis": {
             "endlinecolor": "#2a3f5f",
             "gridcolor": "white",
             "linecolor": "white",
             "minorgridcolor": "white",
             "startlinecolor": "#2a3f5f"
            },
            "baxis": {
             "endlinecolor": "#2a3f5f",
             "gridcolor": "white",
             "linecolor": "white",
             "minorgridcolor": "white",
             "startlinecolor": "#2a3f5f"
            },
            "type": "carpet"
           }
          ],
          "choropleth": [
           {
            "colorbar": {
             "outlinewidth": 0,
             "ticks": ""
            },
            "type": "choropleth"
           }
          ],
          "contour": [
           {
            "colorbar": {
             "outlinewidth": 0,
             "ticks": ""
            },
            "colorscale": [
             [
              0,
              "#0d0887"
             ],
             [
              0.1111111111111111,
              "#46039f"
             ],
             [
              0.2222222222222222,
              "#7201a8"
             ],
             [
              0.3333333333333333,
              "#9c179e"
             ],
             [
              0.4444444444444444,
              "#bd3786"
             ],
             [
              0.5555555555555556,
              "#d8576b"
             ],
             [
              0.6666666666666666,
              "#ed7953"
             ],
             [
              0.7777777777777778,
              "#fb9f3a"
             ],
             [
              0.8888888888888888,
              "#fdca26"
             ],
             [
              1,
              "#f0f921"
             ]
            ],
            "type": "contour"
           }
          ],
          "contourcarpet": [
           {
            "colorbar": {
             "outlinewidth": 0,
             "ticks": ""
            },
            "type": "contourcarpet"
           }
          ],
          "heatmap": [
           {
            "colorbar": {
             "outlinewidth": 0,
             "ticks": ""
            },
            "colorscale": [
             [
              0,
              "#0d0887"
             ],
             [
              0.1111111111111111,
              "#46039f"
             ],
             [
              0.2222222222222222,
              "#7201a8"
             ],
             [
              0.3333333333333333,
              "#9c179e"
             ],
             [
              0.4444444444444444,
              "#bd3786"
             ],
             [
              0.5555555555555556,
              "#d8576b"
             ],
             [
              0.6666666666666666,
              "#ed7953"
             ],
             [
              0.7777777777777778,
              "#fb9f3a"
             ],
             [
              0.8888888888888888,
              "#fdca26"
             ],
             [
              1,
              "#f0f921"
             ]
            ],
            "type": "heatmap"
           }
          ],
          "heatmapgl": [
           {
            "colorbar": {
             "outlinewidth": 0,
             "ticks": ""
            },
            "colorscale": [
             [
              0,
              "#0d0887"
             ],
             [
              0.1111111111111111,
              "#46039f"
             ],
             [
              0.2222222222222222,
              "#7201a8"
             ],
             [
              0.3333333333333333,
              "#9c179e"
             ],
             [
              0.4444444444444444,
              "#bd3786"
             ],
             [
              0.5555555555555556,
              "#d8576b"
             ],
             [
              0.6666666666666666,
              "#ed7953"
             ],
             [
              0.7777777777777778,
              "#fb9f3a"
             ],
             [
              0.8888888888888888,
              "#fdca26"
             ],
             [
              1,
              "#f0f921"
             ]
            ],
            "type": "heatmapgl"
           }
          ],
          "histogram": [
           {
            "marker": {
             "pattern": {
              "fillmode": "overlay",
              "size": 10,
              "solidity": 0.2
             }
            },
            "type": "histogram"
           }
          ],
          "histogram2d": [
           {
            "colorbar": {
             "outlinewidth": 0,
             "ticks": ""
            },
            "colorscale": [
             [
              0,
              "#0d0887"
             ],
             [
              0.1111111111111111,
              "#46039f"
             ],
             [
              0.2222222222222222,
              "#7201a8"
             ],
             [
              0.3333333333333333,
              "#9c179e"
             ],
             [
              0.4444444444444444,
              "#bd3786"
             ],
             [
              0.5555555555555556,
              "#d8576b"
             ],
             [
              0.6666666666666666,
              "#ed7953"
             ],
             [
              0.7777777777777778,
              "#fb9f3a"
             ],
             [
              0.8888888888888888,
              "#fdca26"
             ],
             [
              1,
              "#f0f921"
             ]
            ],
            "type": "histogram2d"
           }
          ],
          "histogram2dcontour": [
           {
            "colorbar": {
             "outlinewidth": 0,
             "ticks": ""
            },
            "colorscale": [
             [
              0,
              "#0d0887"
             ],
             [
              0.1111111111111111,
              "#46039f"
             ],
             [
              0.2222222222222222,
              "#7201a8"
             ],
             [
              0.3333333333333333,
              "#9c179e"
             ],
             [
              0.4444444444444444,
              "#bd3786"
             ],
             [
              0.5555555555555556,
              "#d8576b"
             ],
             [
              0.6666666666666666,
              "#ed7953"
             ],
             [
              0.7777777777777778,
              "#fb9f3a"
             ],
             [
              0.8888888888888888,
              "#fdca26"
             ],
             [
              1,
              "#f0f921"
             ]
            ],
            "type": "histogram2dcontour"
           }
          ],
          "mesh3d": [
           {
            "colorbar": {
             "outlinewidth": 0,
             "ticks": ""
            },
            "type": "mesh3d"
           }
          ],
          "parcoords": [
           {
            "line": {
             "colorbar": {
              "outlinewidth": 0,
              "ticks": ""
             }
            },
            "type": "parcoords"
           }
          ],
          "pie": [
           {
            "automargin": true,
            "type": "pie"
           }
          ],
          "scatter": [
           {
            "marker": {
             "colorbar": {
              "outlinewidth": 0,
              "ticks": ""
             }
            },
            "type": "scatter"
           }
          ],
          "scatter3d": [
           {
            "line": {
             "colorbar": {
              "outlinewidth": 0,
              "ticks": ""
             }
            },
            "marker": {
             "colorbar": {
              "outlinewidth": 0,
              "ticks": ""
             }
            },
            "type": "scatter3d"
           }
          ],
          "scattercarpet": [
           {
            "marker": {
             "colorbar": {
              "outlinewidth": 0,
              "ticks": ""
             }
            },
            "type": "scattercarpet"
           }
          ],
          "scattergeo": [
           {
            "marker": {
             "colorbar": {
              "outlinewidth": 0,
              "ticks": ""
             }
            },
            "type": "scattergeo"
           }
          ],
          "scattergl": [
           {
            "marker": {
             "colorbar": {
              "outlinewidth": 0,
              "ticks": ""
             }
            },
            "type": "scattergl"
           }
          ],
          "scattermapbox": [
           {
            "marker": {
             "colorbar": {
              "outlinewidth": 0,
              "ticks": ""
             }
            },
            "type": "scattermapbox"
           }
          ],
          "scatterpolar": [
           {
            "marker": {
             "colorbar": {
              "outlinewidth": 0,
              "ticks": ""
             }
            },
            "type": "scatterpolar"
           }
          ],
          "scatterpolargl": [
           {
            "marker": {
             "colorbar": {
              "outlinewidth": 0,
              "ticks": ""
             }
            },
            "type": "scatterpolargl"
           }
          ],
          "scatterternary": [
           {
            "marker": {
             "colorbar": {
              "outlinewidth": 0,
              "ticks": ""
             }
            },
            "type": "scatterternary"
           }
          ],
          "surface": [
           {
            "colorbar": {
             "outlinewidth": 0,
             "ticks": ""
            },
            "colorscale": [
             [
              0,
              "#0d0887"
             ],
             [
              0.1111111111111111,
              "#46039f"
             ],
             [
              0.2222222222222222,
              "#7201a8"
             ],
             [
              0.3333333333333333,
              "#9c179e"
             ],
             [
              0.4444444444444444,
              "#bd3786"
             ],
             [
              0.5555555555555556,
              "#d8576b"
             ],
             [
              0.6666666666666666,
              "#ed7953"
             ],
             [
              0.7777777777777778,
              "#fb9f3a"
             ],
             [
              0.8888888888888888,
              "#fdca26"
             ],
             [
              1,
              "#f0f921"
             ]
            ],
            "type": "surface"
           }
          ],
          "table": [
           {
            "cells": {
             "fill": {
              "color": "#EBF0F8"
             },
             "line": {
              "color": "white"
             }
            },
            "header": {
             "fill": {
              "color": "#C8D4E3"
             },
             "line": {
              "color": "white"
             }
            },
            "type": "table"
           }
          ]
         },
         "layout": {
          "annotationdefaults": {
           "arrowcolor": "#2a3f5f",
           "arrowhead": 0,
           "arrowwidth": 1
          },
          "autotypenumbers": "strict",
          "coloraxis": {
           "colorbar": {
            "outlinewidth": 0,
            "ticks": ""
           }
          },
          "colorscale": {
           "diverging": [
            [
             0,
             "#8e0152"
            ],
            [
             0.1,
             "#c51b7d"
            ],
            [
             0.2,
             "#de77ae"
            ],
            [
             0.3,
             "#f1b6da"
            ],
            [
             0.4,
             "#fde0ef"
            ],
            [
             0.5,
             "#f7f7f7"
            ],
            [
             0.6,
             "#e6f5d0"
            ],
            [
             0.7,
             "#b8e186"
            ],
            [
             0.8,
             "#7fbc41"
            ],
            [
             0.9,
             "#4d9221"
            ],
            [
             1,
             "#276419"
            ]
           ],
           "sequential": [
            [
             0,
             "#0d0887"
            ],
            [
             0.1111111111111111,
             "#46039f"
            ],
            [
             0.2222222222222222,
             "#7201a8"
            ],
            [
             0.3333333333333333,
             "#9c179e"
            ],
            [
             0.4444444444444444,
             "#bd3786"
            ],
            [
             0.5555555555555556,
             "#d8576b"
            ],
            [
             0.6666666666666666,
             "#ed7953"
            ],
            [
             0.7777777777777778,
             "#fb9f3a"
            ],
            [
             0.8888888888888888,
             "#fdca26"
            ],
            [
             1,
             "#f0f921"
            ]
           ],
           "sequentialminus": [
            [
             0,
             "#0d0887"
            ],
            [
             0.1111111111111111,
             "#46039f"
            ],
            [
             0.2222222222222222,
             "#7201a8"
            ],
            [
             0.3333333333333333,
             "#9c179e"
            ],
            [
             0.4444444444444444,
             "#bd3786"
            ],
            [
             0.5555555555555556,
             "#d8576b"
            ],
            [
             0.6666666666666666,
             "#ed7953"
            ],
            [
             0.7777777777777778,
             "#fb9f3a"
            ],
            [
             0.8888888888888888,
             "#fdca26"
            ],
            [
             1,
             "#f0f921"
            ]
           ]
          },
          "colorway": [
           "#636efa",
           "#EF553B",
           "#00cc96",
           "#ab63fa",
           "#FFA15A",
           "#19d3f3",
           "#FF6692",
           "#B6E880",
           "#FF97FF",
           "#FECB52"
          ],
          "font": {
           "color": "#2a3f5f"
          },
          "geo": {
           "bgcolor": "white",
           "lakecolor": "white",
           "landcolor": "#E5ECF6",
           "showlakes": true,
           "showland": true,
           "subunitcolor": "white"
          },
          "hoverlabel": {
           "align": "left"
          },
          "hovermode": "closest",
          "mapbox": {
           "style": "light"
          },
          "paper_bgcolor": "white",
          "plot_bgcolor": "#E5ECF6",
          "polar": {
           "angularaxis": {
            "gridcolor": "white",
            "linecolor": "white",
            "ticks": ""
           },
           "bgcolor": "#E5ECF6",
           "radialaxis": {
            "gridcolor": "white",
            "linecolor": "white",
            "ticks": ""
           }
          },
          "scene": {
           "xaxis": {
            "backgroundcolor": "#E5ECF6",
            "gridcolor": "white",
            "gridwidth": 2,
            "linecolor": "white",
            "showbackground": true,
            "ticks": "",
            "zerolinecolor": "white"
           },
           "yaxis": {
            "backgroundcolor": "#E5ECF6",
            "gridcolor": "white",
            "gridwidth": 2,
            "linecolor": "white",
            "showbackground": true,
            "ticks": "",
            "zerolinecolor": "white"
           },
           "zaxis": {
            "backgroundcolor": "#E5ECF6",
            "gridcolor": "white",
            "gridwidth": 2,
            "linecolor": "white",
            "showbackground": true,
            "ticks": "",
            "zerolinecolor": "white"
           }
          },
          "shapedefaults": {
           "line": {
            "color": "#2a3f5f"
           }
          },
          "ternary": {
           "aaxis": {
            "gridcolor": "white",
            "linecolor": "white",
            "ticks": ""
           },
           "baxis": {
            "gridcolor": "white",
            "linecolor": "white",
            "ticks": ""
           },
           "bgcolor": "#E5ECF6",
           "caxis": {
            "gridcolor": "white",
            "linecolor": "white",
            "ticks": ""
           }
          },
          "title": {
           "x": 0.05
          },
          "xaxis": {
           "automargin": true,
           "gridcolor": "white",
           "linecolor": "white",
           "ticks": "",
           "title": {
            "standoff": 15
           },
           "zerolinecolor": "white",
           "zerolinewidth": 2
          },
          "yaxis": {
           "automargin": true,
           "gridcolor": "white",
           "linecolor": "white",
           "ticks": "",
           "title": {
            "standoff": 15
           },
           "zerolinecolor": "white",
           "zerolinewidth": 2
          }
         }
        },
        "title": {
         "text": "AcME Global Importance : classification. Label_class : 1",
         "x": 0.5,
         "xanchor": "center",
         "y": 0.9,
         "yanchor": "top"
        },
        "xaxis": {
         "anchor": "y",
         "domain": [
          0,
          1
         ],
         "title": {
          "text": "standardized effect"
         }
        },
        "yaxis": {
         "anchor": "x",
         "domain": [
          0,
          1
         ],
         "title": {
          "text": "Feature"
         }
        }
       }
      },
      "text/html": [
       "<div>                            <div id=\"e59f5278-ab14-44bb-ac31-961be3db3e43\" class=\"plotly-graph-div\" style=\"height:525px; width:100%;\"></div>            <script type=\"text/javascript\">                require([\"plotly\"], function(Plotly) {                    window.PLOTLYENV=window.PLOTLYENV || {};                                    if (document.getElementById(\"e59f5278-ab14-44bb-ac31-961be3db3e43\")) {                    Plotly.newPlot(                        \"e59f5278-ab14-44bb-ac31-961be3db3e43\",                        [{\"customdata\":[[0.0],[0.0],[0.0],[0.0],[0.0],[0.0],[0.0],[0.0],[0.0],[0.0],[0.0],[0.0],[0.0],[0.0],[0.0],[0.0],[0.0],[0.0],[0.0],[0.0],[0.0],[0.0],[0.0],[0.0],[0.0],[0.0],[0.0],[0.0],[0.0],[0.0],[0.0],[0.0],[0.0],[0.007755102040816269],[0.07],[0.08428571428571416],[0.09],[0.1],[0.11],[0.12],[0.15],[0.16387755102040813],[0.17],[0.19],[0.22],[0.24],[0.240204081632653],[0.28],[0.31673469387755093],[0.51],[0.0],[0.0],[0.0],[0.0],[0.0],[0.0],[0.0],[0.022857142857142847],[0.056122448979591795],[0.07938775510204081],[0.09],[0.11],[0.12],[0.1424489795918367],[0.17571428571428568],[0.22591836734693857],[0.3222448979591836],[0.37551020408163266],[0.39],[0.47204081632653055],[0.51],[0.52],[0.54],[0.5451020408163265],[0.55],[0.56],[0.56],[0.5681632653061223],[0.57],[0.57],[0.58],[0.58],[0.5844897959183671],[0.59],[0.6],[0.6],[0.6],[0.61],[0.6140816326530611],[0.62],[0.64],[0.64],[0.65],[0.67],[0.68],[0.69],[0.720204081632653],[0.8655102040816292],[1.60816326530612],[6.21],[0.0],[0.0],[0.0],[0.0],[0.0],[0.0],[0.0],[0.0],[0.0],[0.0],[0.0],[0.0],[0.0],[0.0],[0.0],[0.0],[0.0],[0.0],[0.0],[0.0],[0.0],[0.0],[0.0],[0.0],[0.0],[0.0],[0.0],[0.0],[0.0],[0.0],[0.0],[0.0],[0.0],[0.0],[0.0],[0.0],[0.0],[0.0],[0.0],[0.0],[0.0],[0.09775510204081626],[0.21428571428571244],[0.5408163265306121],[0.64],[0.7385714285714274],[1.3834693877551012],[1.59],[1.676734693877551],[3.15],[69.81],[70.44632653061225],[71.20877551020408],[71.36],[71.7530612244898],[71.7826530612245],[71.86755102040817],[71.96857142857142],[72.01612244897959],[72.07877551020408],[72.18],[72.21183673469388],[72.27836734693878],[72.33244897959183],[72.38],[72.43591836734694],[72.50224489795919],[72.54551020408164],[72.61],[72.65],[72.67],[72.71714285714286],[72.73183673469389],[72.75],[72.77836734693878],[72.81326530612245],[72.84489795918367],[72.86],[72.87],[72.90408163265306],[72.95795918367347],[72.97],[72.99],[73.0],[73.02],[73.04428571428572],[73.07755102040817],[73.1],[73.11],[73.13469387755102],[73.20061224489797],[73.23],[73.25714285714287],[73.28],[73.29367346938776],[73.39],[73.4604081632653],[73.64122448979592],[73.85714285714285],[75.41],[10.73],[11.485918367346938],[12.26530612244898],[12.559795918367348],[12.64],[12.686326530612245],[12.729591836734695],[12.782857142857143],[12.806122448979592],[12.838775510204082],[12.852653061224489],[12.865918367346938],[12.889183673469388],[12.932448979591836],[12.985714285714286],[13.0],[13.02],[13.031020408163265],[13.088775510204082],[13.124081632653061],[13.19],[13.20857142857143],[13.213673469387755],[13.24],[13.27],[13.31326530612245],[13.334897959183673],[13.38],[13.41],[13.43469387755102],[13.475918367346939],[13.501224489795918],[13.554489795918368],[13.64],[13.691020408163265],[13.72],[13.787551020408163],[13.870816326530612],[13.908163265306122],[14.007346938775509],[14.14],[14.193877551020407],[14.244285714285715],[14.360408163265305],[14.393673469387755],[14.56],[14.801020408163266],[14.88081632653061],[14.976938775510204],[17.38],[5.43],[6.741428571428571],[7.5102040816326525],[7.859387755102041],[7.912244897959184],[7.97],[8.03],[8.042857142857143],[8.076122448979591],[8.1],[8.127959183673468],[8.21],[8.229183673469388],[8.272448979591836],[8.315714285714286],[8.348979591836734],[8.39],[8.405510204081633],[8.43],[8.44],[8.49530612244898],[8.528571428571428],[8.541836734693877],[8.56],[8.59],[8.61],[8.659795918367347],[8.68],[8.715714285714286],[8.76469387755102],[8.79],[8.83],[8.894489795918368],[8.945510204081632],[9.00204081632653],[9.064285714285715],[9.137551020408164],[9.232448979591837],[9.414081632653062],[9.56204081632653],[9.612448979591836],[9.747755102040816],[9.84142857142857],[10.021632653061223],[10.313265306122439],[11.09408163265306],[11.412244897959184],[11.848163265306109],[13.394285714285713],[16.19],[0.0],[0.0],[0.0],[0.0],[0.0],[0.0],[0.0],[0.0],[0.0],[0.0],[0.8410204081632645],[1.7277551020408162],[1.8775510204081631],[2.249795918367347],[2.697142857142857],[2.836938775510204],[2.9134693877551014],[3.1910204081632654],[3.33],[3.3520408163265305],[3.3953061224489796],[3.4185714285714286],[3.441836734693877],[3.4651020408163267],[3.48],[3.48],[3.49],[3.5],[3.52],[3.5246938775510204],[3.54],[3.54],[3.554489795918367],[3.5677551020408163],[3.58],[3.58],[3.59],[3.6008163265306123],[3.614081632653061],[3.62],[3.65],[3.66],[3.677142857142857],[3.720408163265306],[3.743673469387755],[3.776938775510204],[3.820204081632653],[3.853469387755102],[3.9],[3.98],[1.51115],[1.5131763265306122],[1.51514],[1.515667755102041],[1.5158830612244898],[1.5159126530612244],[1.5159591836734694],[1.5160928571428571],[1.5161544897959183],[1.51623],[1.5163338775510204],[1.51645],[1.516505918367347],[1.5165573469387756],[1.5166414285714285],[1.51672693877551],[1.5168544897959184],[1.5170116326530612],[1.51711],[1.5172761224489795],[1.517391836734694],[1.5174785714285715],[1.51754],[1.5175855102040816],[1.517638367346939],[1.51769],[1.5177848979591837],[1.51784],[1.5179342857142857],[1.5180693877551021],[1.5181697959183673],[1.5182924489795917],[1.5183844897959184],[1.5184555102040815],[1.5185281632653063],[1.518897142857143],[1.51905],[1.5191616326530613],[1.5194883673469388],[1.5198948979591838],[1.520651836734694],[1.5211977551020408],[1.52152],[1.5217220408163266],[1.5221036734693878],[1.52222693877551],[1.5231510204081633],[1.5243255102040816],[1.527060612244898],[1.53393],[0.29],[0.5263265306122449],[0.656530612244898],[0.7493877551020408],[0.7991836734693877],[0.87],[0.9],[1.052857142857143],[1.11],[1.12],[1.1526530612244896],[1.1759183673469387],[1.19],[1.1924489795918367],[1.2257142857142858],[1.23],[1.25],[1.2655102040816326],[1.28],[1.29],[1.3],[1.3185714285714285],[1.33],[1.35],[1.36],[1.38],[1.41],[1.43],[1.4528571428571426],[1.48],[1.5059183673469385],[1.5212244897959182],[1.54],[1.54],[1.56],[1.5742857142857143],[1.62],[1.630816326530612],[1.6781632653061223],[1.74],[1.7906122448979591],[1.8238775510204082],[1.877142857142857],[1.99],[2.06734693877551],[2.113877551020408],[2.271428571428571],[2.5204081632653055],[2.7736734693877545],[3.5]],\"hovertemplate\":\"standardized effect=%{x}<br>Feature=%{y}<br>original=%{customdata[0]}<br>quantile=%{marker.color}<extra></extra>\",\"legendgroup\":\"\",\"marker\":{\"color\":[0.0,0.6530612244897959,0.6326530612244897,0.6122448979591836,0.5918367346938775,0.5714285714285714,0.5510204081632653,0.5306122448979591,0.5102040816326531,0.4693877551020408,0.44897959183673464,0.42857142857142855,0.4081632653061224,0.3877551020408163,0.36734693877551017,0.3469387755102041,0.4897959183673469,0.3061224489795918,0.2857142857142857,0.26530612244897955,0.24489795918367346,0.22448979591836732,0.2040816326530612,0.18367346938775508,0.32653061224489793,0.16326530612244897,0.14285714285714285,0.12244897959183673,0.1020408163265306,0.08163265306122448,0.061224489795918366,0.04081632653061224,0.02040816326530612,0.673469387755102,0.6938775510204082,0.7142857142857142,0.7346938775510203,0.7551020408163265,0.7755102040816326,0.7959183673469387,0.8163265306122448,0.836734693877551,0.8571428571428571,0.8775510204081632,0.8979591836734693,0.9183673469387754,0.9387755102040816,0.9591836734693877,0.9795918367346939,1.0,0.0,0.02040816326530612,0.04081632653061224,0.061224489795918366,0.08163265306122448,0.1020408163265306,0.12244897959183673,0.14285714285714285,0.16326530612244897,0.18367346938775508,0.2040816326530612,0.22448979591836732,0.24489795918367346,0.26530612244897955,0.2857142857142857,0.3061224489795918,0.32653061224489793,0.3469387755102041,0.36734693877551017,0.3877551020408163,0.4081632653061224,0.42857142857142855,0.44897959183673464,0.4693877551020408,0.4897959183673469,0.5102040816326531,0.5306122448979591,0.5510204081632653,0.5714285714285714,0.5918367346938775,0.6122448979591836,0.6326530612244897,0.6530612244897959,0.673469387755102,0.6938775510204082,0.7142857142857142,0.7346938775510203,0.7551020408163265,0.7755102040816326,0.7959183673469387,0.8163265306122448,0.836734693877551,0.8571428571428571,0.8775510204081632,0.8979591836734693,0.9183673469387754,0.9387755102040816,0.9591836734693877,0.9795918367346939,1.0,0.0,0.4693877551020408,0.5102040816326531,0.5306122448979591,0.5510204081632653,0.5714285714285714,0.5918367346938775,0.6122448979591836,0.6326530612244897,0.6530612244897959,0.673469387755102,0.6938775510204082,0.7142857142857142,0.7346938775510203,0.7551020408163265,0.7755102040816326,0.7959183673469387,0.8163265306122448,0.44897959183673464,0.42857142857142855,0.4897959183673469,0.3877551020408163,0.02040816326530612,0.04081632653061224,0.061224489795918366,0.08163265306122448,0.1020408163265306,0.4081632653061224,0.14285714285714285,0.16326530612244897,0.18367346938775508,0.12244897959183673,0.22448979591836732,0.2040816326530612,0.3469387755102041,0.32653061224489793,0.36734693877551017,0.2857142857142857,0.26530612244897955,0.24489795918367346,0.3061224489795918,0.836734693877551,0.8571428571428571,0.8775510204081632,0.8979591836734693,0.9183673469387754,0.9387755102040816,0.9591836734693877,0.9795918367346939,1.0,0.0,0.02040816326530612,0.04081632653061224,0.061224489795918366,0.08163265306122448,0.1020408163265306,0.12244897959183673,0.14285714285714285,0.16326530612244897,0.18367346938775508,0.2040816326530612,0.22448979591836732,0.24489795918367346,0.26530612244897955,0.2857142857142857,0.3061224489795918,0.32653061224489793,0.3469387755102041,0.36734693877551017,0.3877551020408163,0.4081632653061224,0.42857142857142855,0.44897959183673464,0.4693877551020408,0.4897959183673469,0.5102040816326531,0.5306122448979591,0.5510204081632653,0.5714285714285714,0.5918367346938775,0.6122448979591836,0.6326530612244897,0.6530612244897959,0.673469387755102,0.6938775510204082,0.7142857142857142,0.7346938775510203,0.7551020408163265,0.7755102040816326,0.7959183673469387,0.8163265306122448,0.836734693877551,0.8571428571428571,0.8775510204081632,0.8979591836734693,0.9183673469387754,0.9387755102040816,0.9591836734693877,0.9795918367346939,1.0,0.0,0.02040816326530612,0.04081632653061224,0.061224489795918366,0.08163265306122448,0.1020408163265306,0.12244897959183673,0.14285714285714285,0.16326530612244897,0.18367346938775508,0.2040816326530612,0.22448979591836732,0.24489795918367346,0.26530612244897955,0.2857142857142857,0.3061224489795918,0.32653061224489793,0.3469387755102041,0.36734693877551017,0.3877551020408163,0.4081632653061224,0.42857142857142855,0.44897959183673464,0.4693877551020408,0.4897959183673469,0.5102040816326531,0.5306122448979591,0.5510204081632653,0.5714285714285714,0.5918367346938775,0.6122448979591836,0.6326530612244897,0.6530612244897959,0.673469387755102,0.6938775510204082,0.7142857142857142,0.7346938775510203,0.7551020408163265,0.7755102040816326,0.7959183673469387,0.8163265306122448,0.836734693877551,0.8571428571428571,0.8775510204081632,0.8979591836734693,0.9183673469387754,0.9387755102040816,0.9591836734693877,0.9795918367346939,1.0,0.0,0.02040816326530612,0.04081632653061224,0.061224489795918366,0.08163265306122448,0.1020408163265306,0.12244897959183673,0.14285714285714285,0.16326530612244897,0.18367346938775508,0.2040816326530612,0.22448979591836732,0.24489795918367346,0.26530612244897955,0.2857142857142857,0.3061224489795918,0.32653061224489793,0.3469387755102041,0.36734693877551017,0.3877551020408163,0.4081632653061224,0.42857142857142855,0.44897959183673464,0.4693877551020408,0.4897959183673469,0.5102040816326531,0.5306122448979591,0.5510204081632653,0.5714285714285714,0.5918367346938775,0.6122448979591836,0.6326530612244897,0.6530612244897959,0.673469387755102,0.6938775510204082,0.7142857142857142,0.7346938775510203,0.7551020408163265,0.7755102040816326,0.7959183673469387,0.8163265306122448,0.836734693877551,0.8571428571428571,0.8775510204081632,0.8979591836734693,0.9183673469387754,0.9387755102040816,0.9591836734693877,0.9795918367346939,1.0,0.0,0.02040816326530612,0.04081632653061224,0.061224489795918366,0.08163265306122448,0.1020408163265306,0.12244897959183673,0.14285714285714285,0.16326530612244897,0.18367346938775508,0.2040816326530612,0.22448979591836732,0.24489795918367346,0.26530612244897955,0.2857142857142857,0.3061224489795918,0.32653061224489793,0.3469387755102041,0.36734693877551017,0.3877551020408163,0.4081632653061224,0.42857142857142855,0.44897959183673464,0.4693877551020408,0.5102040816326531,0.4897959183673469,0.5306122448979591,0.5510204081632653,0.5714285714285714,0.5918367346938775,0.6122448979591836,0.6326530612244897,0.6530612244897959,0.673469387755102,0.6938775510204082,0.7142857142857142,0.7346938775510203,0.7551020408163265,0.7755102040816326,0.7959183673469387,0.8163265306122448,0.836734693877551,0.8571428571428571,0.8775510204081632,0.8979591836734693,0.9183673469387754,0.9387755102040816,0.9591836734693877,0.9795918367346939,1.0,0.0,0.02040816326530612,0.04081632653061224,0.061224489795918366,0.08163265306122448,0.1020408163265306,0.12244897959183673,0.14285714285714285,0.16326530612244897,0.18367346938775508,0.2040816326530612,0.22448979591836732,0.24489795918367346,0.26530612244897955,0.2857142857142857,0.3061224489795918,0.32653061224489793,0.3469387755102041,0.36734693877551017,0.3877551020408163,0.4081632653061224,0.42857142857142855,0.44897959183673464,0.4693877551020408,0.4897959183673469,0.5102040816326531,0.5306122448979591,0.5510204081632653,0.5714285714285714,0.5918367346938775,0.6122448979591836,0.6326530612244897,0.6530612244897959,0.673469387755102,0.6938775510204082,0.7142857142857142,0.7346938775510203,0.7551020408163265,0.7755102040816326,0.7959183673469387,0.8163265306122448,0.836734693877551,0.8571428571428571,0.8775510204081632,0.8979591836734693,0.9183673469387754,0.9387755102040816,0.9591836734693877,0.9795918367346939,1.0,0.0,0.02040816326530612,0.04081632653061224,0.061224489795918366,0.08163265306122448,0.1020408163265306,0.12244897959183673,0.14285714285714285,0.16326530612244897,0.18367346938775508,0.2040816326530612,0.22448979591836732,0.24489795918367346,0.26530612244897955,0.2857142857142857,0.3061224489795918,0.32653061224489793,0.3469387755102041,0.36734693877551017,0.3877551020408163,0.4081632653061224,0.42857142857142855,0.44897959183673464,0.4693877551020408,0.4897959183673469,0.5102040816326531,0.5306122448979591,0.5510204081632653,0.5714285714285714,0.5918367346938775,0.6122448979591836,0.6326530612244897,0.6530612244897959,0.673469387755102,0.6938775510204082,0.7142857142857142,0.7346938775510203,0.7551020408163265,0.7755102040816326,0.7959183673469387,0.8163265306122448,0.836734693877551,0.8571428571428571,0.8775510204081632,0.8979591836734693,0.9183673469387754,0.9387755102040816,0.9591836734693877,0.9795918367346939,1.0],\"coloraxis\":\"coloraxis\",\"symbol\":\"circle\"},\"mode\":\"markers\",\"name\":\"\",\"orientation\":\"h\",\"showlegend\":false,\"type\":\"scatter\",\"x\":[-0.03189027793813606,-0.03189027793813606,-0.03189027793813606,-0.03189027793813606,-0.03189027793813606,-0.03189027793813606,-0.03189027793813606,-0.03189027793813606,-0.03189027793813606,-0.03189027793813606,-0.03189027793813606,-0.03189027793813606,-0.03189027793813606,-0.03189027793813606,-0.03189027793813606,-0.03189027793813606,-0.03189027793813606,-0.03189027793813606,-0.03189027793813606,-0.03189027793813606,-0.03189027793813606,-0.03189027793813606,-0.03189027793813606,-0.03189027793813606,-0.03189027793813606,-0.03189027793813606,-0.03189027793813606,-0.03189027793813606,-0.03189027793813606,-0.03189027793813606,-0.03189027793813606,-0.03189027793813606,-0.03189027793813606,-0.03189027793813606,-0.03189027793813606,0.024057578093681635,0.024057578093681635,0.052031506109590404,0.052031506109590404,0.052031506109590404,0.052031506109590404,0.052031506109590404,0.024057578093681635,0.10797936214140809,0.08000543412549925,0.10797936214140809,0.10797936214140809,0.13595329015731686,0.13595329015731686,0.10797936214140809,-0.14092811623290127,-0.14092811623290127,-0.14092811623290127,-0.14092811623290127,-0.14092811623290127,-0.14092811623290127,-0.14092811623290127,-0.1109434106514329,0.008995411674440545,0.008995411674440545,0.008995411674440545,0.008995411674440545,0.008995411674440545,0.008995411674440545,0.008995411674440545,0.008995411674440545,0.008995411674440545,0.038980117255908844,0.038980117255908844,0.038980117255908844,0.038980117255908844,0.038980117255908844,0.038980117255908844,0.038980117255908844,0.038980117255908844,0.038980117255908844,0.038980117255908844,0.06896482283737723,0.06896482283737723,0.06896482283737723,0.038980117255908844,0.038980117255908844,0.038980117255908844,0.038980117255908844,-0.020989293907027837,-0.020989293907027837,-0.020989293907027837,0.008995411674440545,0.008995411674440545,0.008995411674440545,0.038980117255908844,0.038980117255908844,0.038980117255908844,0.038980117255908844,0.038980117255908844,0.038980117255908844,0.038980117255908844,0.008995411674440545,0.008995411674440545,0.008995411674440545,0.04350838024298411,0.04350838024298411,0.04350838024298411,0.04350838024298411,0.04350838024298411,0.04350838024298411,0.04350838024298411,0.04350838024298411,0.04350838024298411,0.04350838024298411,0.04350838024298411,0.04350838024298411,0.04350838024298411,0.04350838024298411,0.04350838024298411,0.04350838024298411,0.04350838024298411,0.04350838024298411,0.04350838024298411,0.04350838024298411,0.04350838024298411,0.04350838024298411,0.04350838024298411,0.04350838024298411,0.04350838024298411,0.04350838024298411,0.04350838024298411,0.04350838024298411,0.04350838024298411,0.04350838024298411,0.04350838024298411,0.04350838024298411,0.04350838024298411,0.04350838024298411,0.04350838024298411,0.04350838024298411,0.04350838024298411,0.04350838024298411,0.04350838024298411,0.04350838024298411,0.04350838024298411,-0.06950039960892264,-0.1260047895348761,-0.2107613744238062,-0.2107613744238062,-0.2107613744238062,-0.23901356938678284,-0.23901356938678284,-0.23901356938678284,-0.23901356938678284,-0.19060106540316715,-0.19060106540316715,-0.19060106540316715,-0.13047454634854028,-0.13047454634854028,-0.13047454634854028,-0.13047454634854028,-0.13047454634854028,-0.13047454634854028,-0.13047454634854028,-0.13047454634854028,-0.10041128682122687,-0.10041128682122687,-0.10041128682122687,-0.10041128682122687,-0.07034802729391341,-0.040284767766599956,-0.010221508239286588,0.019841751288026867,0.07996827034265369,0.07996827034265369,0.07996827034265369,0.07996827034265369,0.07996827034265369,0.07996827034265369,0.11003152986996714,0.04990501081534032,0.04990501081534032,0.04990501081534032,0.019841751288026867,0.07996827034265369,0.07996827034265369,0.07996827034265369,0.07996827034265369,0.07996827034265369,0.07996827034265369,0.07996827034265369,0.07996827034265369,0.07996827034265369,0.07996827034265369,0.07996827034265369,0.07996827034265369,0.07996827034265369,0.07996827034265369,0.07996827034265369,0.07996827034265369,0.019841751288026867,0.019841751288026867,0.019841751288026867,0.019841751288026867,0.13829119440870843,0.13829119440870843,0.13829119440870843,0.16784059492338965,0.16784059492338965,0.13829119440870843,0.13829119440870843,0.13829119440870843,0.13829119440870843,0.10874179389402712,0.04964299286466459,0.04964299286466459,0.04964299286466459,0.04964299286466459,0.04964299286466459,0.04964299286466459,0.04964299286466459,0.04964299286466459,0.10874179389402712,0.07919239337934582,0.07919239337934582,0.07919239337934582,0.07919239337934582,0.07919239337934582,-0.009455808164698038,-0.009455808164698038,-0.009455808164698038,-0.009455808164698038,-0.009455808164698038,-0.009455808164698038,-0.009455808164698038,-0.06855460919406056,-0.06855460919406056,-0.06855460919406056,-0.06855460919406056,-0.06855460919406056,-0.06855460919406056,-0.09810400970874188,-0.09810400970874188,-0.09810400970874188,-0.1276534102234231,-0.15720281073810444,-0.15720281073810444,-0.15720281073810444,-0.15720281073810444,-0.15720281073810444,-0.15720281073810444,-0.15720281073810444,-0.15720281073810444,-0.15720281073810444,0.17300831033010344,0.17300831033010344,0.17300831033010344,-0.015865390903633925,-0.015865390903633925,-0.05364013115038144,-0.05364013115038144,-0.05364013115038144,-0.05364013115038144,-0.05364013115038144,-0.05364013115038144,-0.05364013115038144,-0.015865390903633925,0.059684089589860996,0.0974588298366085,0.13523357008335601,0.17300831033010344,0.17300831033010344,0.28633253107034595,0.28633253107034595,0.24855779082359847,0.21078305057685093,0.0974588298366085,0.02190934934311359,0.02190934934311359,0.02190934934311359,-0.05364013115038144,-0.05364013115038144,-0.05364013115038144,-0.05364013115038144,-0.05364013115038144,-0.05364013115038144,-0.05364013115038144,-0.05364013115038144,-0.015865390903633925,0.02190934934311359,0.059684089589860996,-0.015865390903633925,-0.015865390903633925,-0.05364013115038144,-0.05364013115038144,-0.05364013115038144,-0.09141487139712884,-0.09141487139712884,-0.16696435189062386,-0.2047390921373713,-0.2047390921373713,-0.2047390921373713,-0.2047390921373713,-0.2047390921373713,-0.32528869962115387,-0.32528869962115387,-0.32528869962115387,-0.32528869962115387,-0.32528869962115387,-0.32528869962115387,-0.32528869962115387,-0.32528869962115387,-0.32528869962115387,-0.32528869962115387,-0.32528869962115387,-0.29897084366474985,-0.29897084366474985,-0.2726529877083458,0.06947913972490663,0.12211485163771477,0.06947913972490663,0.12211485163771477,0.043161283768502645,0.12211485163771477,0.06947913972490663,0.06947913972490663,0.06947913972490663,0.14843270759411872,0.14843270759411872,0.14843270759411872,0.14843270759411872,0.14843270759411872,0.20106841950692686,0.20106841950692686,0.22738627546333096,0.22738627546333096,0.22738627546333096,0.20106841950692686,0.20106841950692686,0.20106841950692686,0.1747505635505228,0.1747505635505228,0.1747505635505228,0.1747505635505228,0.12211485163771477,0.12211485163771477,0.12211485163771477,0.12211485163771477,0.12211485163771477,0.06947913972490663,0.043161283768502645,-0.009474428144305477,-0.06211014005711352,-0.08842799601351757,-0.08973295288289654,-0.12046341619895695,-0.12046341619895695,-0.12046341619895695,-0.1819243428310779,-0.2741157327792592,-0.2741157327792592,-0.3355766594113801,-0.3355766594113801,-0.3355766594113801,-0.3355766594113801,-0.3355766594113801,-0.3355766594113801,-0.3355766594113801,-0.3355766594113801,-0.3355766594113801,-0.3355766594113801,-0.2741157327792592,-0.24338526946319874,0.217571680277708,0.34049353354194983,0.34049353354194983,0.34049353354194983,0.34049353354194983,0.4019544601740708,0.4019544601740708,0.34049353354194983,0.34049353354194983,0.2790326069098289,0.18684121696164752,0.09464982701346615,0.09464982701346615,0.12538029032952663,0.12538029032952663,0.12538029032952663,0.12538029032952663,0.12538029032952663,0.12538029032952663,0.09464982701346615,0.09464982701346615,0.09464982701346615,0.09464982701346615,0.06391936369740576,0.06391936369740576,0.03318890038134529,0.03318890038134529,0.0024584370652848105,0.0024584370652848105,0.0024584370652848105,0.0024584370652848105,0.21387146248407726,0.21387146248407726,0.21387146248407726,0.2647932392660005,0.2647932392660005,0.3157150160479235,0.3157150160479235,0.3411759044388851,0.36663679282984674,0.4430194580027315,0.4684803463936931,0.49394123478465474,0.5194021231756163,0.5194021231756163,0.49394123478465474,0.49394123478465474,0.49394123478465474,0.5703238999575392,0.5957847883485008,0.5957847883485008,0.5703238999575392,0.5703238999575392,0.5448630115665779,0.5194021231756163,0.4684803463936931,0.4430194580027315,0.03564524374734624,-0.32080719372611577,-0.4226507472899621,-0.4481116356809236,-0.4481116356809236,-0.4481116356809236,-0.4481116356809236,-0.4481116356809236,-0.47357252407188516,-0.49903341246284677,-0.49903341246284677,-0.47357252407188516,-0.47357252407188516,-0.47357252407188516,-0.49903341246284677,-0.5244943008538083,-0.5244943008538083,-0.5499551892447699,-0.5499551892447699,-0.5499551892447699,-0.5499551892447699,-0.5499551892447699,-0.5754160776357315,-0.6008769660266932],\"xaxis\":\"x\",\"y\":[\"Fe\",\"Fe\",\"Fe\",\"Fe\",\"Fe\",\"Fe\",\"Fe\",\"Fe\",\"Fe\",\"Fe\",\"Fe\",\"Fe\",\"Fe\",\"Fe\",\"Fe\",\"Fe\",\"Fe\",\"Fe\",\"Fe\",\"Fe\",\"Fe\",\"Fe\",\"Fe\",\"Fe\",\"Fe\",\"Fe\",\"Fe\",\"Fe\",\"Fe\",\"Fe\",\"Fe\",\"Fe\",\"Fe\",\"Fe\",\"Fe\",\"Fe\",\"Fe\",\"Fe\",\"Fe\",\"Fe\",\"Fe\",\"Fe\",\"Fe\",\"Fe\",\"Fe\",\"Fe\",\"Fe\",\"Fe\",\"Fe\",\"Fe\",\"K\",\"K\",\"K\",\"K\",\"K\",\"K\",\"K\",\"K\",\"K\",\"K\",\"K\",\"K\",\"K\",\"K\",\"K\",\"K\",\"K\",\"K\",\"K\",\"K\",\"K\",\"K\",\"K\",\"K\",\"K\",\"K\",\"K\",\"K\",\"K\",\"K\",\"K\",\"K\",\"K\",\"K\",\"K\",\"K\",\"K\",\"K\",\"K\",\"K\",\"K\",\"K\",\"K\",\"K\",\"K\",\"K\",\"K\",\"K\",\"K\",\"K\",\"Ba\",\"Ba\",\"Ba\",\"Ba\",\"Ba\",\"Ba\",\"Ba\",\"Ba\",\"Ba\",\"Ba\",\"Ba\",\"Ba\",\"Ba\",\"Ba\",\"Ba\",\"Ba\",\"Ba\",\"Ba\",\"Ba\",\"Ba\",\"Ba\",\"Ba\",\"Ba\",\"Ba\",\"Ba\",\"Ba\",\"Ba\",\"Ba\",\"Ba\",\"Ba\",\"Ba\",\"Ba\",\"Ba\",\"Ba\",\"Ba\",\"Ba\",\"Ba\",\"Ba\",\"Ba\",\"Ba\",\"Ba\",\"Ba\",\"Ba\",\"Ba\",\"Ba\",\"Ba\",\"Ba\",\"Ba\",\"Ba\",\"Ba\",\"Si\",\"Si\",\"Si\",\"Si\",\"Si\",\"Si\",\"Si\",\"Si\",\"Si\",\"Si\",\"Si\",\"Si\",\"Si\",\"Si\",\"Si\",\"Si\",\"Si\",\"Si\",\"Si\",\"Si\",\"Si\",\"Si\",\"Si\",\"Si\",\"Si\",\"Si\",\"Si\",\"Si\",\"Si\",\"Si\",\"Si\",\"Si\",\"Si\",\"Si\",\"Si\",\"Si\",\"Si\",\"Si\",\"Si\",\"Si\",\"Si\",\"Si\",\"Si\",\"Si\",\"Si\",\"Si\",\"Si\",\"Si\",\"Si\",\"Si\",\"Na\",\"Na\",\"Na\",\"Na\",\"Na\",\"Na\",\"Na\",\"Na\",\"Na\",\"Na\",\"Na\",\"Na\",\"Na\",\"Na\",\"Na\",\"Na\",\"Na\",\"Na\",\"Na\",\"Na\",\"Na\",\"Na\",\"Na\",\"Na\",\"Na\",\"Na\",\"Na\",\"Na\",\"Na\",\"Na\",\"Na\",\"Na\",\"Na\",\"Na\",\"Na\",\"Na\",\"Na\",\"Na\",\"Na\",\"Na\",\"Na\",\"Na\",\"Na\",\"Na\",\"Na\",\"Na\",\"Na\",\"Na\",\"Na\",\"Na\",\"Ca\",\"Ca\",\"Ca\",\"Ca\",\"Ca\",\"Ca\",\"Ca\",\"Ca\",\"Ca\",\"Ca\",\"Ca\",\"Ca\",\"Ca\",\"Ca\",\"Ca\",\"Ca\",\"Ca\",\"Ca\",\"Ca\",\"Ca\",\"Ca\",\"Ca\",\"Ca\",\"Ca\",\"Ca\",\"Ca\",\"Ca\",\"Ca\",\"Ca\",\"Ca\",\"Ca\",\"Ca\",\"Ca\",\"Ca\",\"Ca\",\"Ca\",\"Ca\",\"Ca\",\"Ca\",\"Ca\",\"Ca\",\"Ca\",\"Ca\",\"Ca\",\"Ca\",\"Ca\",\"Ca\",\"Ca\",\"Ca\",\"Ca\",\"Mg\",\"Mg\",\"Mg\",\"Mg\",\"Mg\",\"Mg\",\"Mg\",\"Mg\",\"Mg\",\"Mg\",\"Mg\",\"Mg\",\"Mg\",\"Mg\",\"Mg\",\"Mg\",\"Mg\",\"Mg\",\"Mg\",\"Mg\",\"Mg\",\"Mg\",\"Mg\",\"Mg\",\"Mg\",\"Mg\",\"Mg\",\"Mg\",\"Mg\",\"Mg\",\"Mg\",\"Mg\",\"Mg\",\"Mg\",\"Mg\",\"Mg\",\"Mg\",\"Mg\",\"Mg\",\"Mg\",\"Mg\",\"Mg\",\"Mg\",\"Mg\",\"Mg\",\"Mg\",\"Mg\",\"Mg\",\"Mg\",\"Mg\",\"RI\",\"RI\",\"RI\",\"RI\",\"RI\",\"RI\",\"RI\",\"RI\",\"RI\",\"RI\",\"RI\",\"RI\",\"RI\",\"RI\",\"RI\",\"RI\",\"RI\",\"RI\",\"RI\",\"RI\",\"RI\",\"RI\",\"RI\",\"RI\",\"RI\",\"RI\",\"RI\",\"RI\",\"RI\",\"RI\",\"RI\",\"RI\",\"RI\",\"RI\",\"RI\",\"RI\",\"RI\",\"RI\",\"RI\",\"RI\",\"RI\",\"RI\",\"RI\",\"RI\",\"RI\",\"RI\",\"RI\",\"RI\",\"RI\",\"RI\",\"Al\",\"Al\",\"Al\",\"Al\",\"Al\",\"Al\",\"Al\",\"Al\",\"Al\",\"Al\",\"Al\",\"Al\",\"Al\",\"Al\",\"Al\",\"Al\",\"Al\",\"Al\",\"Al\",\"Al\",\"Al\",\"Al\",\"Al\",\"Al\",\"Al\",\"Al\",\"Al\",\"Al\",\"Al\",\"Al\",\"Al\",\"Al\",\"Al\",\"Al\",\"Al\",\"Al\",\"Al\",\"Al\",\"Al\",\"Al\",\"Al\",\"Al\",\"Al\",\"Al\",\"Al\",\"Al\",\"Al\",\"Al\",\"Al\",\"Al\"],\"yaxis\":\"y\"}],                        {\"coloraxis\":{\"colorbar\":{\"title\":{\"text\":\"quantile\"}},\"colorscale\":[[0.0,\"royalblue\"],[1.0,\"red\"]]},\"legend\":{\"tracegroupgap\":0},\"shapes\":[{\"line\":{\"color\":\"black\",\"dash\":\"dash\",\"width\":2},\"type\":\"line\",\"x0\":0,\"x1\":0,\"y0\":\"Fe\",\"y1\":\"Al\"}],\"template\":{\"data\":{\"bar\":[{\"error_x\":{\"color\":\"#2a3f5f\"},\"error_y\":{\"color\":\"#2a3f5f\"},\"marker\":{\"line\":{\"color\":\"#E5ECF6\",\"width\":0.5},\"pattern\":{\"fillmode\":\"overlay\",\"size\":10,\"solidity\":0.2}},\"type\":\"bar\"}],\"barpolar\":[{\"marker\":{\"line\":{\"color\":\"#E5ECF6\",\"width\":0.5},\"pattern\":{\"fillmode\":\"overlay\",\"size\":10,\"solidity\":0.2}},\"type\":\"barpolar\"}],\"carpet\":[{\"aaxis\":{\"endlinecolor\":\"#2a3f5f\",\"gridcolor\":\"white\",\"linecolor\":\"white\",\"minorgridcolor\":\"white\",\"startlinecolor\":\"#2a3f5f\"},\"baxis\":{\"endlinecolor\":\"#2a3f5f\",\"gridcolor\":\"white\",\"linecolor\":\"white\",\"minorgridcolor\":\"white\",\"startlinecolor\":\"#2a3f5f\"},\"type\":\"carpet\"}],\"choropleth\":[{\"colorbar\":{\"outlinewidth\":0,\"ticks\":\"\"},\"type\":\"choropleth\"}],\"contour\":[{\"colorbar\":{\"outlinewidth\":0,\"ticks\":\"\"},\"colorscale\":[[0.0,\"#0d0887\"],[0.1111111111111111,\"#46039f\"],[0.2222222222222222,\"#7201a8\"],[0.3333333333333333,\"#9c179e\"],[0.4444444444444444,\"#bd3786\"],[0.5555555555555556,\"#d8576b\"],[0.6666666666666666,\"#ed7953\"],[0.7777777777777778,\"#fb9f3a\"],[0.8888888888888888,\"#fdca26\"],[1.0,\"#f0f921\"]],\"type\":\"contour\"}],\"contourcarpet\":[{\"colorbar\":{\"outlinewidth\":0,\"ticks\":\"\"},\"type\":\"contourcarpet\"}],\"heatmap\":[{\"colorbar\":{\"outlinewidth\":0,\"ticks\":\"\"},\"colorscale\":[[0.0,\"#0d0887\"],[0.1111111111111111,\"#46039f\"],[0.2222222222222222,\"#7201a8\"],[0.3333333333333333,\"#9c179e\"],[0.4444444444444444,\"#bd3786\"],[0.5555555555555556,\"#d8576b\"],[0.6666666666666666,\"#ed7953\"],[0.7777777777777778,\"#fb9f3a\"],[0.8888888888888888,\"#fdca26\"],[1.0,\"#f0f921\"]],\"type\":\"heatmap\"}],\"heatmapgl\":[{\"colorbar\":{\"outlinewidth\":0,\"ticks\":\"\"},\"colorscale\":[[0.0,\"#0d0887\"],[0.1111111111111111,\"#46039f\"],[0.2222222222222222,\"#7201a8\"],[0.3333333333333333,\"#9c179e\"],[0.4444444444444444,\"#bd3786\"],[0.5555555555555556,\"#d8576b\"],[0.6666666666666666,\"#ed7953\"],[0.7777777777777778,\"#fb9f3a\"],[0.8888888888888888,\"#fdca26\"],[1.0,\"#f0f921\"]],\"type\":\"heatmapgl\"}],\"histogram\":[{\"marker\":{\"pattern\":{\"fillmode\":\"overlay\",\"size\":10,\"solidity\":0.2}},\"type\":\"histogram\"}],\"histogram2d\":[{\"colorbar\":{\"outlinewidth\":0,\"ticks\":\"\"},\"colorscale\":[[0.0,\"#0d0887\"],[0.1111111111111111,\"#46039f\"],[0.2222222222222222,\"#7201a8\"],[0.3333333333333333,\"#9c179e\"],[0.4444444444444444,\"#bd3786\"],[0.5555555555555556,\"#d8576b\"],[0.6666666666666666,\"#ed7953\"],[0.7777777777777778,\"#fb9f3a\"],[0.8888888888888888,\"#fdca26\"],[1.0,\"#f0f921\"]],\"type\":\"histogram2d\"}],\"histogram2dcontour\":[{\"colorbar\":{\"outlinewidth\":0,\"ticks\":\"\"},\"colorscale\":[[0.0,\"#0d0887\"],[0.1111111111111111,\"#46039f\"],[0.2222222222222222,\"#7201a8\"],[0.3333333333333333,\"#9c179e\"],[0.4444444444444444,\"#bd3786\"],[0.5555555555555556,\"#d8576b\"],[0.6666666666666666,\"#ed7953\"],[0.7777777777777778,\"#fb9f3a\"],[0.8888888888888888,\"#fdca26\"],[1.0,\"#f0f921\"]],\"type\":\"histogram2dcontour\"}],\"mesh3d\":[{\"colorbar\":{\"outlinewidth\":0,\"ticks\":\"\"},\"type\":\"mesh3d\"}],\"parcoords\":[{\"line\":{\"colorbar\":{\"outlinewidth\":0,\"ticks\":\"\"}},\"type\":\"parcoords\"}],\"pie\":[{\"automargin\":true,\"type\":\"pie\"}],\"scatter\":[{\"marker\":{\"colorbar\":{\"outlinewidth\":0,\"ticks\":\"\"}},\"type\":\"scatter\"}],\"scatter3d\":[{\"line\":{\"colorbar\":{\"outlinewidth\":0,\"ticks\":\"\"}},\"marker\":{\"colorbar\":{\"outlinewidth\":0,\"ticks\":\"\"}},\"type\":\"scatter3d\"}],\"scattercarpet\":[{\"marker\":{\"colorbar\":{\"outlinewidth\":0,\"ticks\":\"\"}},\"type\":\"scattercarpet\"}],\"scattergeo\":[{\"marker\":{\"colorbar\":{\"outlinewidth\":0,\"ticks\":\"\"}},\"type\":\"scattergeo\"}],\"scattergl\":[{\"marker\":{\"colorbar\":{\"outlinewidth\":0,\"ticks\":\"\"}},\"type\":\"scattergl\"}],\"scattermapbox\":[{\"marker\":{\"colorbar\":{\"outlinewidth\":0,\"ticks\":\"\"}},\"type\":\"scattermapbox\"}],\"scatterpolar\":[{\"marker\":{\"colorbar\":{\"outlinewidth\":0,\"ticks\":\"\"}},\"type\":\"scatterpolar\"}],\"scatterpolargl\":[{\"marker\":{\"colorbar\":{\"outlinewidth\":0,\"ticks\":\"\"}},\"type\":\"scatterpolargl\"}],\"scatterternary\":[{\"marker\":{\"colorbar\":{\"outlinewidth\":0,\"ticks\":\"\"}},\"type\":\"scatterternary\"}],\"surface\":[{\"colorbar\":{\"outlinewidth\":0,\"ticks\":\"\"},\"colorscale\":[[0.0,\"#0d0887\"],[0.1111111111111111,\"#46039f\"],[0.2222222222222222,\"#7201a8\"],[0.3333333333333333,\"#9c179e\"],[0.4444444444444444,\"#bd3786\"],[0.5555555555555556,\"#d8576b\"],[0.6666666666666666,\"#ed7953\"],[0.7777777777777778,\"#fb9f3a\"],[0.8888888888888888,\"#fdca26\"],[1.0,\"#f0f921\"]],\"type\":\"surface\"}],\"table\":[{\"cells\":{\"fill\":{\"color\":\"#EBF0F8\"},\"line\":{\"color\":\"white\"}},\"header\":{\"fill\":{\"color\":\"#C8D4E3\"},\"line\":{\"color\":\"white\"}},\"type\":\"table\"}]},\"layout\":{\"annotationdefaults\":{\"arrowcolor\":\"#2a3f5f\",\"arrowhead\":0,\"arrowwidth\":1},\"autotypenumbers\":\"strict\",\"coloraxis\":{\"colorbar\":{\"outlinewidth\":0,\"ticks\":\"\"}},\"colorscale\":{\"diverging\":[[0,\"#8e0152\"],[0.1,\"#c51b7d\"],[0.2,\"#de77ae\"],[0.3,\"#f1b6da\"],[0.4,\"#fde0ef\"],[0.5,\"#f7f7f7\"],[0.6,\"#e6f5d0\"],[0.7,\"#b8e186\"],[0.8,\"#7fbc41\"],[0.9,\"#4d9221\"],[1,\"#276419\"]],\"sequential\":[[0.0,\"#0d0887\"],[0.1111111111111111,\"#46039f\"],[0.2222222222222222,\"#7201a8\"],[0.3333333333333333,\"#9c179e\"],[0.4444444444444444,\"#bd3786\"],[0.5555555555555556,\"#d8576b\"],[0.6666666666666666,\"#ed7953\"],[0.7777777777777778,\"#fb9f3a\"],[0.8888888888888888,\"#fdca26\"],[1.0,\"#f0f921\"]],\"sequentialminus\":[[0.0,\"#0d0887\"],[0.1111111111111111,\"#46039f\"],[0.2222222222222222,\"#7201a8\"],[0.3333333333333333,\"#9c179e\"],[0.4444444444444444,\"#bd3786\"],[0.5555555555555556,\"#d8576b\"],[0.6666666666666666,\"#ed7953\"],[0.7777777777777778,\"#fb9f3a\"],[0.8888888888888888,\"#fdca26\"],[1.0,\"#f0f921\"]]},\"colorway\":[\"#636efa\",\"#EF553B\",\"#00cc96\",\"#ab63fa\",\"#FFA15A\",\"#19d3f3\",\"#FF6692\",\"#B6E880\",\"#FF97FF\",\"#FECB52\"],\"font\":{\"color\":\"#2a3f5f\"},\"geo\":{\"bgcolor\":\"white\",\"lakecolor\":\"white\",\"landcolor\":\"#E5ECF6\",\"showlakes\":true,\"showland\":true,\"subunitcolor\":\"white\"},\"hoverlabel\":{\"align\":\"left\"},\"hovermode\":\"closest\",\"mapbox\":{\"style\":\"light\"},\"paper_bgcolor\":\"white\",\"plot_bgcolor\":\"#E5ECF6\",\"polar\":{\"angularaxis\":{\"gridcolor\":\"white\",\"linecolor\":\"white\",\"ticks\":\"\"},\"bgcolor\":\"#E5ECF6\",\"radialaxis\":{\"gridcolor\":\"white\",\"linecolor\":\"white\",\"ticks\":\"\"}},\"scene\":{\"xaxis\":{\"backgroundcolor\":\"#E5ECF6\",\"gridcolor\":\"white\",\"gridwidth\":2,\"linecolor\":\"white\",\"showbackground\":true,\"ticks\":\"\",\"zerolinecolor\":\"white\"},\"yaxis\":{\"backgroundcolor\":\"#E5ECF6\",\"gridcolor\":\"white\",\"gridwidth\":2,\"linecolor\":\"white\",\"showbackground\":true,\"ticks\":\"\",\"zerolinecolor\":\"white\"},\"zaxis\":{\"backgroundcolor\":\"#E5ECF6\",\"gridcolor\":\"white\",\"gridwidth\":2,\"linecolor\":\"white\",\"showbackground\":true,\"ticks\":\"\",\"zerolinecolor\":\"white\"}},\"shapedefaults\":{\"line\":{\"color\":\"#2a3f5f\"}},\"ternary\":{\"aaxis\":{\"gridcolor\":\"white\",\"linecolor\":\"white\",\"ticks\":\"\"},\"baxis\":{\"gridcolor\":\"white\",\"linecolor\":\"white\",\"ticks\":\"\"},\"bgcolor\":\"#E5ECF6\",\"caxis\":{\"gridcolor\":\"white\",\"linecolor\":\"white\",\"ticks\":\"\"}},\"title\":{\"x\":0.05},\"xaxis\":{\"automargin\":true,\"gridcolor\":\"white\",\"linecolor\":\"white\",\"ticks\":\"\",\"title\":{\"standoff\":15},\"zerolinecolor\":\"white\",\"zerolinewidth\":2},\"yaxis\":{\"automargin\":true,\"gridcolor\":\"white\",\"linecolor\":\"white\",\"ticks\":\"\",\"title\":{\"standoff\":15},\"zerolinecolor\":\"white\",\"zerolinewidth\":2}}},\"title\":{\"text\":\"AcME Global Importance : classification. Label_class : 1\",\"x\":0.5,\"xanchor\":\"center\",\"y\":0.9,\"yanchor\":\"top\"},\"xaxis\":{\"anchor\":\"y\",\"domain\":[0.0,1.0],\"title\":{\"text\":\"standardized effect\"}},\"yaxis\":{\"anchor\":\"x\",\"domain\":[0.0,1.0],\"title\":{\"text\":\"Feature\"}}},                        {\"responsive\": true}                    ).then(function(){\n",
       "                            \n",
       "var gd = document.getElementById('e59f5278-ab14-44bb-ac31-961be3db3e43');\n",
       "var x = new MutationObserver(function (mutations, observer) {{\n",
       "        var display = window.getComputedStyle(gd).display;\n",
       "        if (!display || display === 'none') {{\n",
       "            console.log([gd, 'removed!']);\n",
       "            Plotly.purge(gd);\n",
       "            observer.disconnect();\n",
       "        }}\n",
       "}});\n",
       "\n",
       "// Listen for the removal of the full notebook cells\n",
       "var notebookContainer = gd.closest('#notebook-container');\n",
       "if (notebookContainer) {{\n",
       "    x.observe(notebookContainer, {childList: true});\n",
       "}}\n",
       "\n",
       "// Listen for the clearing of the current output cell\n",
       "var outputEl = gd.closest('.output');\n",
       "if (outputEl) {{\n",
       "    x.observe(outputEl, {childList: true});\n",
       "}}\n",
       "\n",
       "                        })                };                });            </script>        </div>"
      ]
     },
     "metadata": {},
     "output_type": "display_data"
    }
   ],
   "source": [
    "acme_class.summary_plot()"
   ]
  },
  {
   "cell_type": "code",
   "execution_count": 41,
   "metadata": {},
   "outputs": [],
   "source": [
    "local_acme = acme_class.fit_local(glass_data,local=100, label_class=1)"
   ]
  },
  {
   "cell_type": "code",
   "execution_count": 42,
   "metadata": {},
   "outputs": [],
   "source": [
    "fig = local_acme.summary_plot(local=True)"
   ]
  },
  {
   "cell_type": "code",
   "execution_count": 45,
   "metadata": {},
   "outputs": [],
   "source": [
    "fig.write_html(\"file.html\")"
   ]
  },
  {
   "cell_type": "code",
   "execution_count": 44,
   "metadata": {},
   "outputs": [
    {
     "data": {
      "text/html": [
       "<div>\n",
       "<style scoped>\n",
       "    .dataframe tbody tr th:only-of-type {\n",
       "        vertical-align: middle;\n",
       "    }\n",
       "\n",
       "    .dataframe tbody tr th {\n",
       "        vertical-align: top;\n",
       "    }\n",
       "\n",
       "    .dataframe thead th {\n",
       "        text-align: right;\n",
       "    }\n",
       "</style>\n",
       "<table border=\"1\" class=\"dataframe\">\n",
       "  <thead>\n",
       "    <tr style=\"text-align: right;\">\n",
       "      <th></th>\n",
       "      <th>effect</th>\n",
       "      <th>predictions</th>\n",
       "      <th>mean_prediction</th>\n",
       "      <th>original</th>\n",
       "      <th>quantile</th>\n",
       "      <th>Importance</th>\n",
       "      <th>local_quantile</th>\n",
       "    </tr>\n",
       "  </thead>\n",
       "  <tbody>\n",
       "    <tr>\n",
       "      <th>Al</th>\n",
       "      <td>0.40</td>\n",
       "      <td>0.40</td>\n",
       "      <td>0.19</td>\n",
       "      <td>0.29000</td>\n",
       "      <td>0.0</td>\n",
       "      <td>0.454019</td>\n",
       "      <td>0.551020</td>\n",
       "    </tr>\n",
       "    <tr>\n",
       "      <th>RI</th>\n",
       "      <td>0.15</td>\n",
       "      <td>0.15</td>\n",
       "      <td>0.19</td>\n",
       "      <td>1.51115</td>\n",
       "      <td>0.0</td>\n",
       "      <td>0.202182</td>\n",
       "      <td>0.591837</td>\n",
       "    </tr>\n",
       "    <tr>\n",
       "      <th>Mg</th>\n",
       "      <td>0.09</td>\n",
       "      <td>0.09</td>\n",
       "      <td>0.19</td>\n",
       "      <td>0.00000</td>\n",
       "      <td>0.0</td>\n",
       "      <td>0.184351</td>\n",
       "      <td>0.326531</td>\n",
       "    </tr>\n",
       "    <tr>\n",
       "      <th>Ca</th>\n",
       "      <td>0.27</td>\n",
       "      <td>0.27</td>\n",
       "      <td>0.19</td>\n",
       "      <td>5.43000</td>\n",
       "      <td>0.0</td>\n",
       "      <td>0.097368</td>\n",
       "      <td>0.612245</td>\n",
       "    </tr>\n",
       "    <tr>\n",
       "      <th>Na</th>\n",
       "      <td>0.24</td>\n",
       "      <td>0.24</td>\n",
       "      <td>0.19</td>\n",
       "      <td>10.73000</td>\n",
       "      <td>0.0</td>\n",
       "      <td>0.092572</td>\n",
       "      <td>0.285714</td>\n",
       "    </tr>\n",
       "    <tr>\n",
       "      <th>Ba</th>\n",
       "      <td>0.25</td>\n",
       "      <td>0.25</td>\n",
       "      <td>0.19</td>\n",
       "      <td>0.00000</td>\n",
       "      <td>0.0</td>\n",
       "      <td>0.071354</td>\n",
       "      <td>0.836735</td>\n",
       "    </tr>\n",
       "    <tr>\n",
       "      <th>K</th>\n",
       "      <td>0.21</td>\n",
       "      <td>0.21</td>\n",
       "      <td>0.19</td>\n",
       "      <td>0.00000</td>\n",
       "      <td>0.0</td>\n",
       "      <td>0.046416</td>\n",
       "      <td>0.693878</td>\n",
       "    </tr>\n",
       "    <tr>\n",
       "      <th>Fe</th>\n",
       "      <td>0.19</td>\n",
       "      <td>0.19</td>\n",
       "      <td>0.19</td>\n",
       "      <td>0.00000</td>\n",
       "      <td>0.0</td>\n",
       "      <td>0.044646</td>\n",
       "      <td>0.000000</td>\n",
       "    </tr>\n",
       "  </tbody>\n",
       "</table>\n",
       "</div>"
      ],
      "text/plain": [
       "    effect  predictions  mean_prediction  original  quantile  Importance  \\\n",
       "Al    0.40         0.40             0.19   0.29000       0.0    0.454019   \n",
       "RI    0.15         0.15             0.19   1.51115       0.0    0.202182   \n",
       "Mg    0.09         0.09             0.19   0.00000       0.0    0.184351   \n",
       "Ca    0.27         0.27             0.19   5.43000       0.0    0.097368   \n",
       "Na    0.24         0.24             0.19  10.73000       0.0    0.092572   \n",
       "Ba    0.25         0.25             0.19   0.00000       0.0    0.071354   \n",
       "K     0.21         0.21             0.19   0.00000       0.0    0.046416   \n",
       "Fe    0.19         0.19             0.19   0.00000       0.0    0.044646   \n",
       "\n",
       "    local_quantile  \n",
       "Al        0.551020  \n",
       "RI        0.591837  \n",
       "Mg        0.326531  \n",
       "Ca        0.612245  \n",
       "Na        0.285714  \n",
       "Ba        0.836735  \n",
       "K         0.693878  \n",
       "Fe        0.000000  "
      ]
     },
     "execution_count": 44,
     "metadata": {},
     "output_type": "execute_result"
    }
   ],
   "source": [
    "local_acme.local_table().drop_duplicates(['local_quantile'])"
   ]
  },
  {
   "cell_type": "code",
   "execution_count": null,
   "metadata": {},
   "outputs": [],
   "source": []
  }
 ],
 "metadata": {
  "kernelspec": {
   "display_name": "Python 3 (ipykernel)",
   "language": "python",
   "name": "python3"
  },
  "language_info": {
   "codemirror_mode": {
    "name": "ipython",
    "version": 3
   },
   "file_extension": ".py",
   "mimetype": "text/x-python",
   "name": "python",
   "nbconvert_exporter": "python",
   "pygments_lexer": "ipython3",
   "version": "3.8.12"
  }
 },
 "nbformat": 4,
 "nbformat_minor": 4
}
