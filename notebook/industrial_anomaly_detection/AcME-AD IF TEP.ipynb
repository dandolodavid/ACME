{
 "cells": [
  {
   "cell_type": "code",
   "execution_count": 1,
   "metadata": {},
   "outputs": [],
   "source": [
    "import numpy as np\n",
    "import pandas as pd \n",
    "import random \n",
    "import copy \n",
    "import warnings\n",
    "import sys\n",
    "import pickle\n",
    "import pyreadr as py\n",
    "import itertools\n",
    "\n",
    "from tqdm import tqdm\n",
    "from copy import deepcopy\n",
    "from scipy.io import loadmat\n",
    "from sklearn.ensemble import IsolationForest\n",
    "from sklearn.metrics import precision_recall_fscore_support, average_precision_score\n",
    "\n",
    "sys.path.append('../../')\n",
    "from ACME.ACME import ACME\n",
    "from ACME.visual_utils import * \n",
    "sys.path.remove('../../')\n",
    "\n",
    "warnings.filterwarnings('ignore')\n",
    "\n",
    "# set seed for reproducibility\n",
    "np.random.seed(0)\n",
    "random.seed(0)"
   ]
  },
  {
   "cell_type": "markdown",
   "metadata": {},
   "source": [
    "# AcME-AD to explain IF in TEP dataset"
   ]
  },
  {
   "cell_type": "markdown",
   "metadata": {},
   "source": [
    "We subsample the original dataset to resort to a typical anomaly detection scenario where anomalies are rare. "
   ]
  },
  {
   "cell_type": "code",
   "execution_count": 2,
   "metadata": {},
   "outputs": [],
   "source": [
    "n_normal_simulations = 70 \n",
    "n_faulty_simulations = 3"
   ]
  },
  {
   "cell_type": "code",
   "execution_count": 3,
   "metadata": {},
   "outputs": [],
   "source": [
    "# # load the dataset and sample n_normal_simulations and n_faulty_simulations\n",
    "# normal_data = py.read_r('ad_industrial_datasets/TEP_FaultFree_Training.RData')['fault_free_training']\n",
    "# normal_data = normal_data[normal_data['simulationRun'].isin(random.sample(list(normal_data['simulationRun'].unique()), n_normal_simulations))].reset_index(drop=True)\n",
    "# normal_data['Target'] = 0\n",
    "\n",
    "# fault_data = py.read_r('ad_industrial_datasets/TEP_Faulty_Training.RData')['faulty_training']\n",
    "# fault_data = fault_data[fault_data['simulationRun'].isin(random.sample(list(fault_data['simulationRun'].unique()), n_faulty_simulations))].reset_index(drop=True)\n",
    "# fault_data['Target'] = 1\n",
    "\n",
    "# # remove the first 20 samples from fault_data because are not faulty \n",
    "# fault_data = fault_data.groupby('simulationRun').apply(lambda x: x.iloc[20:]).reset_index(drop=True)\n",
    "\n",
    "# # save this data for future use\n",
    "# normal_data.to_csv('ad_industrial_datasets/TEP_FaultFree_Training_subsample_70_3.csv', index=False)\n",
    "# fault_data.to_csv('ad_industrial_datasets/TEP_Faulty_Training_subsample_70_3_removedfirst20.csv', index=False)"
   ]
  },
  {
   "cell_type": "code",
   "execution_count": 4,
   "metadata": {},
   "outputs": [],
   "source": [
    "# load the data\n",
    "normal_data = pd.read_csv('ad_industrial_datasets/TEP_FaultFree_Training_subsample_70_3.csv')\n",
    "fault_data = pd.read_csv('ad_industrial_datasets/TEP_Faulty_Training_subsample_70_3_removedfirst20.csv')"
   ]
  },
  {
   "cell_type": "code",
   "execution_count": 5,
   "metadata": {},
   "outputs": [],
   "source": [
    "# create 20 datasets, each one containing only 1 specific fault \n",
    "faulty_data, data = [], []\n",
    "for i in range(20): \n",
    "    faulty_data.append(fault_data[fault_data['faultNumber'] == i+1].reset_index(drop=True))\n",
    "    data.append(pd.concat([normal_data, faulty_data[i]]).reset_index(drop=True))"
   ]
  },
  {
   "cell_type": "code",
   "execution_count": 6,
   "metadata": {},
   "outputs": [],
   "source": [
    "features = data[0].columns[3:-1] \n",
    "contamination = faulty_data[0].shape[0] / data[0].shape[0]"
   ]
  },
  {
   "cell_type": "markdown",
   "metadata": {},
   "source": [
    "## Training\n",
    "Train Isolation Forest on each dataset and evaluate it. "
   ]
  },
  {
   "cell_type": "code",
   "execution_count": 7,
   "metadata": {},
   "outputs": [
    {
     "data": {
      "text/html": [
       "<div>\n",
       "<style scoped>\n",
       "    .dataframe tbody tr th:only-of-type {\n",
       "        vertical-align: middle;\n",
       "    }\n",
       "\n",
       "    .dataframe tbody tr th {\n",
       "        vertical-align: top;\n",
       "    }\n",
       "\n",
       "    .dataframe thead th {\n",
       "        text-align: right;\n",
       "    }\n",
       "</style>\n",
       "<table border=\"1\" class=\"dataframe\">\n",
       "  <thead>\n",
       "    <tr style=\"text-align: right;\">\n",
       "      <th></th>\n",
       "      <th>Fault</th>\n",
       "      <th>Precision</th>\n",
       "      <th>Recall</th>\n",
       "      <th>F1</th>\n",
       "      <th>Average Precision</th>\n",
       "    </tr>\n",
       "  </thead>\n",
       "  <tbody>\n",
       "    <tr>\n",
       "      <th>0</th>\n",
       "      <td>1</td>\n",
       "      <td>0.939583</td>\n",
       "      <td>0.939583</td>\n",
       "      <td>0.939583</td>\n",
       "      <td>0.885204</td>\n",
       "    </tr>\n",
       "    <tr>\n",
       "      <th>1</th>\n",
       "      <td>2</td>\n",
       "      <td>0.934858</td>\n",
       "      <td>0.899333</td>\n",
       "      <td>0.916752</td>\n",
       "      <td>0.844886</td>\n",
       "    </tr>\n",
       "    <tr>\n",
       "      <th>2</th>\n",
       "      <td>3</td>\n",
       "      <td>0.072072</td>\n",
       "      <td>0.069333</td>\n",
       "      <td>0.070676</td>\n",
       "      <td>0.043244</td>\n",
       "    </tr>\n",
       "    <tr>\n",
       "      <th>3</th>\n",
       "      <td>4</td>\n",
       "      <td>0.146916</td>\n",
       "      <td>0.141333</td>\n",
       "      <td>0.144071</td>\n",
       "      <td>0.056052</td>\n",
       "    </tr>\n",
       "    <tr>\n",
       "      <th>4</th>\n",
       "      <td>5</td>\n",
       "      <td>0.391545</td>\n",
       "      <td>0.376667</td>\n",
       "      <td>0.383962</td>\n",
       "      <td>0.173099</td>\n",
       "    </tr>\n",
       "    <tr>\n",
       "      <th>5</th>\n",
       "      <td>6</td>\n",
       "      <td>0.973666</td>\n",
       "      <td>0.936667</td>\n",
       "      <td>0.954808</td>\n",
       "      <td>0.914603</td>\n",
       "    </tr>\n",
       "    <tr>\n",
       "      <th>6</th>\n",
       "      <td>7</td>\n",
       "      <td>0.635482</td>\n",
       "      <td>0.611333</td>\n",
       "      <td>0.623174</td>\n",
       "      <td>0.404464</td>\n",
       "    </tr>\n",
       "    <tr>\n",
       "      <th>7</th>\n",
       "      <td>8</td>\n",
       "      <td>0.918226</td>\n",
       "      <td>0.883333</td>\n",
       "      <td>0.900442</td>\n",
       "      <td>0.815894</td>\n",
       "    </tr>\n",
       "    <tr>\n",
       "      <th>8</th>\n",
       "      <td>9</td>\n",
       "      <td>0.072072</td>\n",
       "      <td>0.069333</td>\n",
       "      <td>0.070676</td>\n",
       "      <td>0.043244</td>\n",
       "    </tr>\n",
       "    <tr>\n",
       "      <th>9</th>\n",
       "      <td>10</td>\n",
       "      <td>0.228690</td>\n",
       "      <td>0.220000</td>\n",
       "      <td>0.224261</td>\n",
       "      <td>0.082367</td>\n",
       "    </tr>\n",
       "    <tr>\n",
       "      <th>10</th>\n",
       "      <td>11</td>\n",
       "      <td>0.144144</td>\n",
       "      <td>0.138667</td>\n",
       "      <td>0.141352</td>\n",
       "      <td>0.055385</td>\n",
       "    </tr>\n",
       "    <tr>\n",
       "      <th>11</th>\n",
       "      <td>12</td>\n",
       "      <td>0.882883</td>\n",
       "      <td>0.849333</td>\n",
       "      <td>0.865783</td>\n",
       "      <td>0.756054</td>\n",
       "    </tr>\n",
       "    <tr>\n",
       "      <th>12</th>\n",
       "      <td>13</td>\n",
       "      <td>0.898822</td>\n",
       "      <td>0.864667</td>\n",
       "      <td>0.881414</td>\n",
       "      <td>0.782743</td>\n",
       "    </tr>\n",
       "    <tr>\n",
       "      <th>13</th>\n",
       "      <td>14</td>\n",
       "      <td>0.203742</td>\n",
       "      <td>0.196000</td>\n",
       "      <td>0.199796</td>\n",
       "      <td>0.072975</td>\n",
       "    </tr>\n",
       "    <tr>\n",
       "      <th>14</th>\n",
       "      <td>15</td>\n",
       "      <td>0.072765</td>\n",
       "      <td>0.070000</td>\n",
       "      <td>0.071356</td>\n",
       "      <td>0.043313</td>\n",
       "    </tr>\n",
       "    <tr>\n",
       "      <th>15</th>\n",
       "      <td>16</td>\n",
       "      <td>0.172557</td>\n",
       "      <td>0.166000</td>\n",
       "      <td>0.169215</td>\n",
       "      <td>0.062918</td>\n",
       "    </tr>\n",
       "    <tr>\n",
       "      <th>16</th>\n",
       "      <td>17</td>\n",
       "      <td>0.243243</td>\n",
       "      <td>0.234000</td>\n",
       "      <td>0.238532</td>\n",
       "      <td>0.088398</td>\n",
       "    </tr>\n",
       "    <tr>\n",
       "      <th>17</th>\n",
       "      <td>18</td>\n",
       "      <td>0.896743</td>\n",
       "      <td>0.862667</td>\n",
       "      <td>0.879375</td>\n",
       "      <td>0.779234</td>\n",
       "    </tr>\n",
       "    <tr>\n",
       "      <th>18</th>\n",
       "      <td>19</td>\n",
       "      <td>0.114345</td>\n",
       "      <td>0.110000</td>\n",
       "      <td>0.112130</td>\n",
       "      <td>0.049153</td>\n",
       "    </tr>\n",
       "    <tr>\n",
       "      <th>19</th>\n",
       "      <td>20</td>\n",
       "      <td>0.220374</td>\n",
       "      <td>0.212000</td>\n",
       "      <td>0.216106</td>\n",
       "      <td>0.079103</td>\n",
       "    </tr>\n",
       "  </tbody>\n",
       "</table>\n",
       "</div>"
      ],
      "text/plain": [
       "    Fault  Precision    Recall        F1  Average Precision\n",
       "0       1   0.939583  0.939583  0.939583           0.885204\n",
       "1       2   0.934858  0.899333  0.916752           0.844886\n",
       "2       3   0.072072  0.069333  0.070676           0.043244\n",
       "3       4   0.146916  0.141333  0.144071           0.056052\n",
       "4       5   0.391545  0.376667  0.383962           0.173099\n",
       "5       6   0.973666  0.936667  0.954808           0.914603\n",
       "6       7   0.635482  0.611333  0.623174           0.404464\n",
       "7       8   0.918226  0.883333  0.900442           0.815894\n",
       "8       9   0.072072  0.069333  0.070676           0.043244\n",
       "9      10   0.228690  0.220000  0.224261           0.082367\n",
       "10     11   0.144144  0.138667  0.141352           0.055385\n",
       "11     12   0.882883  0.849333  0.865783           0.756054\n",
       "12     13   0.898822  0.864667  0.881414           0.782743\n",
       "13     14   0.203742  0.196000  0.199796           0.072975\n",
       "14     15   0.072765  0.070000  0.071356           0.043313\n",
       "15     16   0.172557  0.166000  0.169215           0.062918\n",
       "16     17   0.243243  0.234000  0.238532           0.088398\n",
       "17     18   0.896743  0.862667  0.879375           0.779234\n",
       "18     19   0.114345  0.110000  0.112130           0.049153\n",
       "19     20   0.220374  0.212000  0.216106           0.079103"
      ]
     },
     "metadata": {},
     "output_type": "display_data"
    }
   ],
   "source": [
    "results = []\n",
    "for i in range(20): \n",
    "    ad_model = IsolationForest(n_estimators=200, max_samples=128, contamination=contamination, random_state=0, n_jobs=-1).fit(data[i][features])\n",
    "    data[i]['Prediction'] = ad_model.predict(data[i][features])\n",
    "    data[i]['Prediction'] = data[i]['Prediction'].apply(lambda x: 1 if x == -1 else 0) # need to convert the predictions to 0 for normal and 1 for faulty\n",
    "\n",
    "    prec, rec, f1, _ = precision_recall_fscore_support(data[i]['Target'], data[i]['Prediction'], average='binary')\n",
    "    avg_prec = average_precision_score(data[i]['Target'], data[i]['Prediction'])\n",
    "\n",
    "    results.append({'Fault': i+1, 'Precision': prec, 'Recall': rec, 'F1': f1, 'Average Precision': avg_prec})\n",
    "\n",
    "results = pd.DataFrame(results)\n",
    "display(results)"
   ]
  },
  {
   "cell_type": "markdown",
   "metadata": {},
   "source": [
    "## Explain fault 12\n",
    "Performances are good on fault 12 and we have prior knowledge on the fact that xmeas 11 is 'root cause' of the fault. \n",
    "[Harinarayan, R. Rajesh Alias, and S. Mercy Shalinie. \"XFDDC: eXplainable Fault Detection Diagnosis and Correction framework for chemical process systems.\" Process Safety and Environmental Protection 165 (2022): 463-474.]"
   ]
  },
  {
   "cell_type": "code",
   "execution_count": 8,
   "metadata": {},
   "outputs": [],
   "source": [
    "data_12 = data[11].copy()"
   ]
  },
  {
   "cell_type": "code",
   "execution_count": 9,
   "metadata": {},
   "outputs": [
    {
     "name": "stdout",
     "output_type": "stream",
     "text": [
      "Best config:  {'max_samples': 256, 'n_estimators': 200}  | Best avg prec:  0.794499498444704\n"
     ]
    }
   ],
   "source": [
    "# hyperparameters tuning \n",
    "from sklearn.model_selection import ParameterGrid\n",
    "param_grid = {\n",
    "    'n_estimators': [100, 200, 300],\n",
    "    'max_samples': [64, 128, 256]\n",
    "}\n",
    "best_avg_prec = 0\n",
    "best_config = None\n",
    "\n",
    "for config in ParameterGrid(param_grid):\n",
    "    iforest = IsolationForest(contamination=contamination, random_state=0, n_jobs=-1, **config).fit(data_12[features])\n",
    "    data_12['Prediction'] = iforest.predict(data_12[features])\n",
    "    data_12['Prediction'] = data_12['Prediction'].apply(lambda x: 1 if x == -1 else 0)\n",
    "\n",
    "    avg_prec = average_precision_score(data_12['Target'], data_12['Prediction'])\n",
    "    if avg_prec > best_avg_prec: \n",
    "        best_avg_prec = avg_prec\n",
    "        best_config = config\n",
    "\n",
    "print(\"Best config: \", best_config, \" | Best avg prec: \", best_avg_prec)"
   ]
  },
  {
   "cell_type": "code",
   "execution_count": 10,
   "metadata": {},
   "outputs": [],
   "source": [
    "# define score function needed for AcME-AD\n",
    "def if_score_function(model, X): \n",
    "    return 0.5 * (- model.decision_function(X) + 1)\n",
    "\n",
    "# train isolation forest with the best config\n",
    "ad_model = IsolationForest(contamination=contamination, random_state=0, n_jobs=-1, **best_config).fit(data_12[features])\n",
    "data_12['Prediction'] = ad_model.predict(data_12[features])\n",
    "data_12['Prediction'] = data_12['Prediction'].apply(lambda x: 1 if x == -1 else 0)\n",
    "data_12['Score'] = if_score_function(ad_model, data_12[features])"
   ]
  },
  {
   "cell_type": "code",
   "execution_count": 11,
   "metadata": {},
   "outputs": [
    {
     "name": "stdout",
     "output_type": "stream",
     "text": [
      "Normal as faulty:  136  | Faulty as faulty:  1307  | Normal as normal:  34864  | Faulty as normal:  193\n",
      "[[34864   193]\n",
      " [  136  1307]]\n"
     ]
    }
   ],
   "source": [
    "# Confusion matrix \n",
    "n_normal_as_faulty = data_12[(data_12['Target'] == 0) & (data_12['Prediction'] == 1)].shape[0]\n",
    "n_faulty_as_faulty = data_12[(data_12['Target'] == 1) & (data_12['Prediction'] == 1)].shape[0]\n",
    "n_normal_as_normal = data_12[(data_12['Target'] == 0) & (data_12['Prediction'] == 0)].shape[0]\n",
    "n_faulty_as_normal = data_12[(data_12['Target'] == 1) & (data_12['Prediction'] == 0)].shape[0]\n",
    "\n",
    "print(\"Normal as faulty: \", n_normal_as_faulty, \" | Faulty as faulty: \", n_faulty_as_faulty, \" | Normal as normal: \", n_normal_as_normal, \" | Faulty as normal: \", n_faulty_as_normal)\n",
    "\n",
    "conf_matrix = np.array([[n_normal_as_normal, n_faulty_as_normal], [n_normal_as_faulty, n_faulty_as_faulty]])\n",
    "print(conf_matrix)"
   ]
  },
  {
   "cell_type": "markdown",
   "metadata": {},
   "source": [
    "## AcME-AD explanations"
   ]
  },
  {
   "cell_type": "code",
   "execution_count": 12,
   "metadata": {},
   "outputs": [],
   "source": [
    "data_to_explain = data_12[data_12['Prediction'] == 1].reset_index(drop=True)"
   ]
  },
  {
   "cell_type": "code",
   "execution_count": 13,
   "metadata": {},
   "outputs": [],
   "source": [
    "# # uncomment this part to generate your own explanations\n",
    "# acme = ACME(ad_model, 'Score', features, task='ad', score_function=if_score_function)\n",
    "# acme = acme.explain(data_12, robust = True)\n",
    "\n",
    "# local_explanations = []\n",
    "# rankings = pd.DataFrame(columns = features)\n",
    "# for j in tqdm(data_to_explain.index): \n",
    "#     local_exp = acme.explain_local(data_to_explain.loc[j])\n",
    "#     feature_table = local_exp.feature_importance(local=True, weights={'delta':0.3, 'change':0.3, 'distance':0.2, 'ratio':0.2})\n",
    "#     ranking = feature_table['importance'].rank(ascending=False, method='min')\n",
    "\n",
    "#     local_explanations.append(local_exp)\n",
    "#     rankings.loc[j] = ranking"
   ]
  },
  {
   "cell_type": "code",
   "execution_count": 14,
   "metadata": {},
   "outputs": [],
   "source": [
    "# # save data\n",
    "# with open('results/TEP_IF_acme_local_exp.pkl', 'wb') as f: \n",
    "#     pickle.dump(local_explanations, f)\n",
    "\n",
    "# rankings.to_csv('results/TEP_IF_rankings.csv', index=False)"
   ]
  },
  {
   "cell_type": "code",
   "execution_count": 15,
   "metadata": {},
   "outputs": [],
   "source": [
    "# load our computed explanations \n",
    "with open('results/TEP_IF_acme_local_exp.pkl', 'rb') as f: \n",
    "    local_explanations = pickle.load(f)\n",
    "\n",
    "rankings = pd.read_csv('results/TEP_IF_rankings.csv')"
   ]
  },
  {
   "cell_type": "code",
   "execution_count": 16,
   "metadata": {},
   "outputs": [],
   "source": [
    "acme_rank_counting = rankings.apply(lambda x: x.value_counts()).fillna(0).astype(int)\n",
    "acme_rank_counting = acme_rank_counting / acme_rank_counting.sum()"
   ]
  },
  {
   "cell_type": "code",
   "execution_count": 17,
   "metadata": {},
   "outputs": [
    {
     "data": {
      "application/vnd.plotly.v1+json": {
       "config": {
        "plotlyServerURL": "https://plot.ly"
       },
       "data": [
        {
         "marker": {
          "color": "midnightblue",
          "pattern": {
           "shape": "x",
           "size": 6
          }
         },
         "name": "xmeas_11",
         "showlegend": true,
         "type": "bar",
         "width": 0.6,
         "x": [
          1,
          2,
          3,
          4,
          5
         ],
         "y": [
          0.13236313236313235,
          0.09078309078309078,
          0,
          0,
          0
         ]
        },
        {
         "marker": {
          "color": "crimson",
          "pattern": {
           "shape": "/",
           "size": 6
          }
         },
         "name": "xmeas_13",
         "showlegend": true,
         "type": "bar",
         "width": 0.6,
         "x": [
          1,
          2,
          3,
          4,
          5
         ],
         "y": [
          0,
          0,
          0,
          0.05058905058905059,
          0.06791406791406791
         ]
        },
        {
         "marker": {
          "color": "mediumpurple",
          "pattern": {
           "shape": "\\",
           "size": 6
          }
         },
         "name": "xmeas_38",
         "showlegend": true,
         "type": "bar",
         "width": 0.6,
         "x": [
          1,
          2,
          3,
          4,
          5
         ],
         "y": [
          0,
          0.05474705474705475,
          0.05058905058905059,
          0,
          0
         ]
        },
        {
         "marker": {
          "color": "limegreen",
          "pattern": {
           "shape": "",
           "size": 6
          }
         },
         "name": "xmeas_4",
         "showlegend": true,
         "type": "bar",
         "width": 0.6,
         "x": [
          1,
          2,
          3,
          4,
          5
         ],
         "y": [
          0.09216909216909216,
          0.05197505197505198,
          0,
          0,
          0
         ]
        },
        {
         "marker": {
          "color": "lightskyblue",
          "pattern": {
           "shape": ".",
           "size": 6
          }
         },
         "name": "xmeas_7",
         "showlegend": true,
         "type": "bar",
         "width": 0.6,
         "x": [
          1,
          2,
          3,
          4,
          5
         ],
         "y": [
          0.21483021483021483,
          0.05751905751905752,
          0,
          0,
          0
         ]
        },
        {
         "marker": {
          "color": "aquamarine",
          "pattern": {
           "shape": "+",
           "size": 6
          }
         },
         "name": "xmv_2",
         "showlegend": true,
         "type": "bar",
         "width": 0.6,
         "x": [
          1,
          2,
          3,
          4,
          5
         ],
         "y": [
          0.0595980595980596,
          0,
          0,
          0,
          0
         ]
        },
        {
         "marker": {
          "color": "#abb0b8"
         },
         "name": "others",
         "showlegend": true,
         "type": "bar",
         "width": 0.6,
         "x": [
          1,
          2,
          3,
          4,
          5
         ],
         "y": [
          0.501039501039501,
          0.744975744975745,
          0.9494109494109494,
          0.9494109494109494,
          0.932085932085932
         ]
        }
       ],
       "layout": {
        "bargap": 0.1,
        "barmode": "stack",
        "legend": {
         "entrywidth": 0.5,
         "font": {
          "size": 18
         },
         "title": {
          "text": "Feature"
         }
        },
        "template": {
         "data": {
          "bar": [
           {
            "error_x": {
             "color": "#2a3f5f"
            },
            "error_y": {
             "color": "#2a3f5f"
            },
            "marker": {
             "line": {
              "color": "#E5ECF6",
              "width": 0.5
             },
             "pattern": {
              "fillmode": "overlay",
              "size": 10,
              "solidity": 0.2
             }
            },
            "type": "bar"
           }
          ],
          "barpolar": [
           {
            "marker": {
             "line": {
              "color": "#E5ECF6",
              "width": 0.5
             },
             "pattern": {
              "fillmode": "overlay",
              "size": 10,
              "solidity": 0.2
             }
            },
            "type": "barpolar"
           }
          ],
          "carpet": [
           {
            "aaxis": {
             "endlinecolor": "#2a3f5f",
             "gridcolor": "white",
             "linecolor": "white",
             "minorgridcolor": "white",
             "startlinecolor": "#2a3f5f"
            },
            "baxis": {
             "endlinecolor": "#2a3f5f",
             "gridcolor": "white",
             "linecolor": "white",
             "minorgridcolor": "white",
             "startlinecolor": "#2a3f5f"
            },
            "type": "carpet"
           }
          ],
          "choropleth": [
           {
            "colorbar": {
             "outlinewidth": 0,
             "ticks": ""
            },
            "type": "choropleth"
           }
          ],
          "contour": [
           {
            "colorbar": {
             "outlinewidth": 0,
             "ticks": ""
            },
            "colorscale": [
             [
              0,
              "#0d0887"
             ],
             [
              0.1111111111111111,
              "#46039f"
             ],
             [
              0.2222222222222222,
              "#7201a8"
             ],
             [
              0.3333333333333333,
              "#9c179e"
             ],
             [
              0.4444444444444444,
              "#bd3786"
             ],
             [
              0.5555555555555556,
              "#d8576b"
             ],
             [
              0.6666666666666666,
              "#ed7953"
             ],
             [
              0.7777777777777778,
              "#fb9f3a"
             ],
             [
              0.8888888888888888,
              "#fdca26"
             ],
             [
              1,
              "#f0f921"
             ]
            ],
            "type": "contour"
           }
          ],
          "contourcarpet": [
           {
            "colorbar": {
             "outlinewidth": 0,
             "ticks": ""
            },
            "type": "contourcarpet"
           }
          ],
          "heatmap": [
           {
            "colorbar": {
             "outlinewidth": 0,
             "ticks": ""
            },
            "colorscale": [
             [
              0,
              "#0d0887"
             ],
             [
              0.1111111111111111,
              "#46039f"
             ],
             [
              0.2222222222222222,
              "#7201a8"
             ],
             [
              0.3333333333333333,
              "#9c179e"
             ],
             [
              0.4444444444444444,
              "#bd3786"
             ],
             [
              0.5555555555555556,
              "#d8576b"
             ],
             [
              0.6666666666666666,
              "#ed7953"
             ],
             [
              0.7777777777777778,
              "#fb9f3a"
             ],
             [
              0.8888888888888888,
              "#fdca26"
             ],
             [
              1,
              "#f0f921"
             ]
            ],
            "type": "heatmap"
           }
          ],
          "heatmapgl": [
           {
            "colorbar": {
             "outlinewidth": 0,
             "ticks": ""
            },
            "colorscale": [
             [
              0,
              "#0d0887"
             ],
             [
              0.1111111111111111,
              "#46039f"
             ],
             [
              0.2222222222222222,
              "#7201a8"
             ],
             [
              0.3333333333333333,
              "#9c179e"
             ],
             [
              0.4444444444444444,
              "#bd3786"
             ],
             [
              0.5555555555555556,
              "#d8576b"
             ],
             [
              0.6666666666666666,
              "#ed7953"
             ],
             [
              0.7777777777777778,
              "#fb9f3a"
             ],
             [
              0.8888888888888888,
              "#fdca26"
             ],
             [
              1,
              "#f0f921"
             ]
            ],
            "type": "heatmapgl"
           }
          ],
          "histogram": [
           {
            "marker": {
             "pattern": {
              "fillmode": "overlay",
              "size": 10,
              "solidity": 0.2
             }
            },
            "type": "histogram"
           }
          ],
          "histogram2d": [
           {
            "colorbar": {
             "outlinewidth": 0,
             "ticks": ""
            },
            "colorscale": [
             [
              0,
              "#0d0887"
             ],
             [
              0.1111111111111111,
              "#46039f"
             ],
             [
              0.2222222222222222,
              "#7201a8"
             ],
             [
              0.3333333333333333,
              "#9c179e"
             ],
             [
              0.4444444444444444,
              "#bd3786"
             ],
             [
              0.5555555555555556,
              "#d8576b"
             ],
             [
              0.6666666666666666,
              "#ed7953"
             ],
             [
              0.7777777777777778,
              "#fb9f3a"
             ],
             [
              0.8888888888888888,
              "#fdca26"
             ],
             [
              1,
              "#f0f921"
             ]
            ],
            "type": "histogram2d"
           }
          ],
          "histogram2dcontour": [
           {
            "colorbar": {
             "outlinewidth": 0,
             "ticks": ""
            },
            "colorscale": [
             [
              0,
              "#0d0887"
             ],
             [
              0.1111111111111111,
              "#46039f"
             ],
             [
              0.2222222222222222,
              "#7201a8"
             ],
             [
              0.3333333333333333,
              "#9c179e"
             ],
             [
              0.4444444444444444,
              "#bd3786"
             ],
             [
              0.5555555555555556,
              "#d8576b"
             ],
             [
              0.6666666666666666,
              "#ed7953"
             ],
             [
              0.7777777777777778,
              "#fb9f3a"
             ],
             [
              0.8888888888888888,
              "#fdca26"
             ],
             [
              1,
              "#f0f921"
             ]
            ],
            "type": "histogram2dcontour"
           }
          ],
          "mesh3d": [
           {
            "colorbar": {
             "outlinewidth": 0,
             "ticks": ""
            },
            "type": "mesh3d"
           }
          ],
          "parcoords": [
           {
            "line": {
             "colorbar": {
              "outlinewidth": 0,
              "ticks": ""
             }
            },
            "type": "parcoords"
           }
          ],
          "pie": [
           {
            "automargin": true,
            "type": "pie"
           }
          ],
          "scatter": [
           {
            "fillpattern": {
             "fillmode": "overlay",
             "size": 10,
             "solidity": 0.2
            },
            "type": "scatter"
           }
          ],
          "scatter3d": [
           {
            "line": {
             "colorbar": {
              "outlinewidth": 0,
              "ticks": ""
             }
            },
            "marker": {
             "colorbar": {
              "outlinewidth": 0,
              "ticks": ""
             }
            },
            "type": "scatter3d"
           }
          ],
          "scattercarpet": [
           {
            "marker": {
             "colorbar": {
              "outlinewidth": 0,
              "ticks": ""
             }
            },
            "type": "scattercarpet"
           }
          ],
          "scattergeo": [
           {
            "marker": {
             "colorbar": {
              "outlinewidth": 0,
              "ticks": ""
             }
            },
            "type": "scattergeo"
           }
          ],
          "scattergl": [
           {
            "marker": {
             "colorbar": {
              "outlinewidth": 0,
              "ticks": ""
             }
            },
            "type": "scattergl"
           }
          ],
          "scattermapbox": [
           {
            "marker": {
             "colorbar": {
              "outlinewidth": 0,
              "ticks": ""
             }
            },
            "type": "scattermapbox"
           }
          ],
          "scatterpolar": [
           {
            "marker": {
             "colorbar": {
              "outlinewidth": 0,
              "ticks": ""
             }
            },
            "type": "scatterpolar"
           }
          ],
          "scatterpolargl": [
           {
            "marker": {
             "colorbar": {
              "outlinewidth": 0,
              "ticks": ""
             }
            },
            "type": "scatterpolargl"
           }
          ],
          "scatterternary": [
           {
            "marker": {
             "colorbar": {
              "outlinewidth": 0,
              "ticks": ""
             }
            },
            "type": "scatterternary"
           }
          ],
          "surface": [
           {
            "colorbar": {
             "outlinewidth": 0,
             "ticks": ""
            },
            "colorscale": [
             [
              0,
              "#0d0887"
             ],
             [
              0.1111111111111111,
              "#46039f"
             ],
             [
              0.2222222222222222,
              "#7201a8"
             ],
             [
              0.3333333333333333,
              "#9c179e"
             ],
             [
              0.4444444444444444,
              "#bd3786"
             ],
             [
              0.5555555555555556,
              "#d8576b"
             ],
             [
              0.6666666666666666,
              "#ed7953"
             ],
             [
              0.7777777777777778,
              "#fb9f3a"
             ],
             [
              0.8888888888888888,
              "#fdca26"
             ],
             [
              1,
              "#f0f921"
             ]
            ],
            "type": "surface"
           }
          ],
          "table": [
           {
            "cells": {
             "fill": {
              "color": "#EBF0F8"
             },
             "line": {
              "color": "white"
             }
            },
            "header": {
             "fill": {
              "color": "#C8D4E3"
             },
             "line": {
              "color": "white"
             }
            },
            "type": "table"
           }
          ]
         },
         "layout": {
          "annotationdefaults": {
           "arrowcolor": "#2a3f5f",
           "arrowhead": 0,
           "arrowwidth": 1
          },
          "autotypenumbers": "strict",
          "coloraxis": {
           "colorbar": {
            "outlinewidth": 0,
            "ticks": ""
           }
          },
          "colorscale": {
           "diverging": [
            [
             0,
             "#8e0152"
            ],
            [
             0.1,
             "#c51b7d"
            ],
            [
             0.2,
             "#de77ae"
            ],
            [
             0.3,
             "#f1b6da"
            ],
            [
             0.4,
             "#fde0ef"
            ],
            [
             0.5,
             "#f7f7f7"
            ],
            [
             0.6,
             "#e6f5d0"
            ],
            [
             0.7,
             "#b8e186"
            ],
            [
             0.8,
             "#7fbc41"
            ],
            [
             0.9,
             "#4d9221"
            ],
            [
             1,
             "#276419"
            ]
           ],
           "sequential": [
            [
             0,
             "#0d0887"
            ],
            [
             0.1111111111111111,
             "#46039f"
            ],
            [
             0.2222222222222222,
             "#7201a8"
            ],
            [
             0.3333333333333333,
             "#9c179e"
            ],
            [
             0.4444444444444444,
             "#bd3786"
            ],
            [
             0.5555555555555556,
             "#d8576b"
            ],
            [
             0.6666666666666666,
             "#ed7953"
            ],
            [
             0.7777777777777778,
             "#fb9f3a"
            ],
            [
             0.8888888888888888,
             "#fdca26"
            ],
            [
             1,
             "#f0f921"
            ]
           ],
           "sequentialminus": [
            [
             0,
             "#0d0887"
            ],
            [
             0.1111111111111111,
             "#46039f"
            ],
            [
             0.2222222222222222,
             "#7201a8"
            ],
            [
             0.3333333333333333,
             "#9c179e"
            ],
            [
             0.4444444444444444,
             "#bd3786"
            ],
            [
             0.5555555555555556,
             "#d8576b"
            ],
            [
             0.6666666666666666,
             "#ed7953"
            ],
            [
             0.7777777777777778,
             "#fb9f3a"
            ],
            [
             0.8888888888888888,
             "#fdca26"
            ],
            [
             1,
             "#f0f921"
            ]
           ]
          },
          "colorway": [
           "#636efa",
           "#EF553B",
           "#00cc96",
           "#ab63fa",
           "#FFA15A",
           "#19d3f3",
           "#FF6692",
           "#B6E880",
           "#FF97FF",
           "#FECB52"
          ],
          "font": {
           "color": "#2a3f5f"
          },
          "geo": {
           "bgcolor": "white",
           "lakecolor": "white",
           "landcolor": "#E5ECF6",
           "showlakes": true,
           "showland": true,
           "subunitcolor": "white"
          },
          "hoverlabel": {
           "align": "left"
          },
          "hovermode": "closest",
          "mapbox": {
           "style": "light"
          },
          "paper_bgcolor": "white",
          "plot_bgcolor": "#E5ECF6",
          "polar": {
           "angularaxis": {
            "gridcolor": "white",
            "linecolor": "white",
            "ticks": ""
           },
           "bgcolor": "#E5ECF6",
           "radialaxis": {
            "gridcolor": "white",
            "linecolor": "white",
            "ticks": ""
           }
          },
          "scene": {
           "xaxis": {
            "backgroundcolor": "#E5ECF6",
            "gridcolor": "white",
            "gridwidth": 2,
            "linecolor": "white",
            "showbackground": true,
            "ticks": "",
            "zerolinecolor": "white"
           },
           "yaxis": {
            "backgroundcolor": "#E5ECF6",
            "gridcolor": "white",
            "gridwidth": 2,
            "linecolor": "white",
            "showbackground": true,
            "ticks": "",
            "zerolinecolor": "white"
           },
           "zaxis": {
            "backgroundcolor": "#E5ECF6",
            "gridcolor": "white",
            "gridwidth": 2,
            "linecolor": "white",
            "showbackground": true,
            "ticks": "",
            "zerolinecolor": "white"
           }
          },
          "shapedefaults": {
           "line": {
            "color": "#2a3f5f"
           }
          },
          "ternary": {
           "aaxis": {
            "gridcolor": "white",
            "linecolor": "white",
            "ticks": ""
           },
           "baxis": {
            "gridcolor": "white",
            "linecolor": "white",
            "ticks": ""
           },
           "bgcolor": "#E5ECF6",
           "caxis": {
            "gridcolor": "white",
            "linecolor": "white",
            "ticks": ""
           }
          },
          "title": {
           "x": 0.05
          },
          "xaxis": {
           "automargin": true,
           "gridcolor": "white",
           "linecolor": "white",
           "ticks": "",
           "title": {
            "standoff": 15
           },
           "zerolinecolor": "white",
           "zerolinewidth": 2
          },
          "yaxis": {
           "automargin": true,
           "gridcolor": "white",
           "linecolor": "white",
           "ticks": "",
           "title": {
            "standoff": 15
           },
           "zerolinecolor": "white",
           "zerolinewidth": 2
          }
         }
        },
        "title": {},
        "xaxis": {
         "tickfont": {
          "size": 18
         },
         "tickmode": "array",
         "tickvals": [
          1,
          2,
          3,
          4,
          5
         ],
         "title": {
          "font": {
           "size": 18
          },
          "text": "Ranking Position"
         }
        },
        "yaxis": {
         "tickfont": {
          "size": 18
         },
         "title": {
          "font": {
           "size": 18
          },
          "text": "Normalized Count"
         }
        }
       }
      }
     },
     "metadata": {},
     "output_type": "display_data"
    }
   ],
   "source": [
    "# define custom color and pattern for the features for the paper\n",
    "visual_dict = {\n",
    "    'xmeas_4': {\"color\": \"limegreen\", \"pattern\": \"\"}, \n",
    "    'xmeas_7': {'color': 'lightskyblue', 'pattern': '.'},  \n",
    "    'xmeas_11':{\"color\": \"midnightblue\", \"pattern\": \"x\"},\n",
    "    'xmeas_13':{\"color\": \"crimson\", \"pattern\": \"/\"},\n",
    "    'xmeas_38':{\"color\":\"mediumpurple\" , \"pattern\": \"\\\\\"}, \n",
    "    'xmv_2': {\"color\": \"aquamarine\", \"pattern\": \"+\"}, \n",
    "}\n",
    "\n",
    "acme_stacked_barplot_fig = feature_importance_distribution_barplot(acme_rank_counting, n_positions=5, threshold=0.05, color_pattern_dict=visual_dict)\n",
    "acme_stacked_barplot_fig.show()"
   ]
  },
  {
   "cell_type": "markdown",
   "metadata": {},
   "source": [
    "## Local explanation\n",
    "Explain  random anomaly"
   ]
  },
  {
   "cell_type": "code",
   "execution_count": 18,
   "metadata": {},
   "outputs": [
    {
     "name": "stdout",
     "output_type": "stream",
     "text": [
      "Using default weights for anomaly detection feature importance\n"
     ]
    },
    {
     "data": {
      "application/vnd.plotly.v1+json": {
       "config": {
        "plotlyServerURL": "https://plot.ly"
       },
       "data": [
        {
         "customdata": [
          [
           66.101
          ],
          [
           66.072
          ],
          [
           66.045
          ],
          [
           65.951
          ],
          [
           65.997
          ],
          [
           65.974
          ],
          [
           66.132
          ],
          [
           65.927
          ],
          [
           66.021
          ],
          [
           66.163
          ],
          [
           66.365
          ],
          [
           66.232
          ],
          [
           66.27
          ],
          [
           66.316
          ],
          [
           66.419
          ],
          [
           66.485
          ],
          [
           66.576
          ],
          [
           68.044
          ],
          [
           65.395
          ],
          [
           65.905
          ],
          [
           65.359
          ],
          [
           66.198
          ],
          [
           65.882
          ],
          [
           65.705
          ],
          [
           65.842
          ],
          [
           65.32
          ],
          [
           65.425
          ],
          [
           65.454
          ],
          [
           65.482
          ],
          [
           65.51
          ],
          [
           65.535
          ],
          [
           65.561
          ],
          [
           65.584
          ],
          [
           65.606
          ],
          [
           65.627
          ],
          [
           65.647
          ],
          [
           65.668
          ],
          [
           65.687
          ],
          [
           65.721
          ],
          [
           65.737
          ],
          [
           65.752
          ],
          [
           65.768
          ],
          [
           65.785
          ],
          [
           65.803
          ],
          [
           65.8135
          ],
          [
           65.822
          ],
          [
           65.861
          ],
          [
           65.223
          ],
          [
           65.275
          ],
          [
           65.159
          ],
          [
           65.075
          ],
          [
           4544.2
          ],
          [
           4486.5
          ],
          [
           4484.3
          ],
          [
           4481.9
          ],
          [
           4479.5
          ],
          [
           4476.9
          ],
          [
           4474.4
          ],
          [
           4471.4
          ],
          [
           4468.3
          ],
          [
           4461.3
          ],
          [
           4457.6
          ],
          [
           4453
          ],
          [
           4447.2
          ],
          [
           4440.3
          ],
          [
           4397.8
          ],
          [
           4574.605
          ],
          [
           4567.9
          ],
          [
           4562.7
          ],
          [
           4558
          ],
          [
           4554.1
          ],
          [
           4550.5
          ],
          [
           4547.2912
          ],
          [
           4541.4
          ],
          [
           4488.6
          ],
          [
           4490.8
          ],
          [
           4464.7
          ],
          [
           4494.7
          ],
          [
           4538.7
          ],
          [
           4536.1
          ],
          [
           4492.9
          ],
          [
           4531.6
          ],
          [
           4529.3
          ],
          [
           4527.2
          ],
          [
           4525.1
          ],
          [
           4523.1
          ],
          [
           4521.2
          ],
          [
           4519.2
          ],
          [
           4517.4
          ],
          [
           4515.5
          ],
          [
           4533.9
          ],
          [
           4511.7
          ],
          [
           4513.7
          ],
          [
           4498.7
          ],
          [
           4502.4
          ],
          [
           4504.2
          ],
          [
           4506.1
          ],
          [
           4500.5
          ],
          [
           4508
          ],
          [
           4496.7
          ],
          [
           4509.9
          ],
          [
           4507.6504
          ],
          [
           0.8335
          ],
          [
           0.8259
          ],
          [
           0.8326
          ],
          [
           0.8317
          ],
          [
           0.8307
          ],
          [
           0.8297
          ],
          [
           0.8287
          ],
          [
           0.8343
          ],
          [
           0.8278
          ],
          [
           0.8268
          ],
          [
           0.825
          ],
          [
           0.819
          ],
          [
           0.8228
          ],
          [
           0.8217
          ],
          [
           0.8203
          ],
          [
           0.8175
          ],
          [
           0.8159
          ],
          [
           0.8142
          ],
          [
           0.8122
          ],
          [
           0.8097
          ],
          [
           0.8028
          ],
          [
           0.7405
          ],
          [
           0.835
          ],
          [
           0.8241
          ],
          [
           0.8357
          ],
          [
           0.8067
          ],
          [
           0.8363
          ],
          [
           0.8359
          ],
          [
           0.8694
          ],
          [
           0.8649
          ],
          [
           0.8617
          ],
          [
           0.8594
          ],
          [
           0.8575
          ],
          [
           0.8559
          ],
          [
           0.8541
          ],
          [
           0.8522
          ],
          [
           0.851
          ],
          [
           0.8498
          ],
          [
           0.839
          ],
          [
           0.8475
          ],
          [
           0.8488
          ],
          [
           0.84
          ],
          [
           0.841
          ],
          [
           0.8418
          ],
          [
           0.8381
          ],
          [
           0.8438
          ],
          [
           0.8448
          ],
          [
           0.8456
          ],
          [
           0.8465
          ],
          [
           0.8428
          ],
          [
           0.8372
          ],
          [
           77.118
          ],
          [
           77.217
          ],
          [
           77.203
          ],
          [
           77.19
          ],
          [
           77.177
          ],
          [
           77.163
          ],
          [
           77.147
          ],
          [
           77.133
          ],
          [
           77.028
          ],
          [
           77.085
          ],
          [
           77.067
          ],
          [
           77.048
          ],
          [
           77.231
          ],
          [
           77.006
          ],
          [
           76.981
          ],
          [
           76.954
          ],
          [
           76.921
          ],
          [
           76.879
          ],
          [
           76.824
          ],
          [
           77.102
          ],
          [
           77.244
          ],
          [
           77.307
          ],
          [
           77.27
          ],
          [
           77.564
          ],
          [
           77.542
          ],
          [
           77.523
          ],
          [
           77.504
          ],
          [
           77.487
          ],
          [
           77.47
          ],
          [
           77.455
          ],
          [
           77.441
          ],
          [
           77.427
          ],
          [
           77.413
          ],
          [
           77.399
          ],
          [
           77.372
          ],
          [
           77.359
          ],
          [
           77.346
          ],
          [
           77.333
          ],
          [
           77.32
          ],
          [
           77.295
          ],
          [
           77.2945
          ],
          [
           77.282
          ],
          [
           77.257
          ],
          [
           77.386
          ],
          [
           77.764
          ],
          [
           74.015
          ],
          [
           77.586
          ],
          [
           77.611
          ],
          [
           77.712
          ],
          [
           77.673
          ],
          [
           77.639
          ],
          [
           47.3277
          ],
          [
           47.225
          ],
          [
           47.099
          ],
          [
           46.974
          ],
          [
           46.8403
          ],
          [
           46.7079
          ],
          [
           46.568
          ],
          [
           46.421
          ],
          [
           46.27
          ],
          [
           46.113
          ],
          [
           47.409
          ],
          [
           45.584
          ],
          [
           45.3671
          ],
          [
           45.1437
          ],
          [
           44.8914
          ],
          [
           44.616
          ],
          [
           44.305
          ],
          [
           43.947
          ],
          [
           43.4389
          ],
          [
           45.9602
          ],
          [
           45.777
          ],
          [
           47.493
          ],
          [
           47.707
          ],
          [
           51.558
          ],
          [
           51.229
          ],
          [
           50.926
          ],
          [
           50.6709
          ],
          [
           50.442
          ],
          [
           52.3247
          ],
          [
           50.208
          ],
          [
           50.0068
          ],
          [
           49.8175
          ],
          [
           49.645
          ],
          [
           49.492
          ],
          [
           47.594
          ],
          [
           49.331
          ],
          [
           49.017
          ],
          [
           48.864
          ],
          [
           48.719
          ],
          [
           48.577
          ],
          [
           48.444
          ],
          [
           48.315
          ],
          [
           48.194
          ],
          [
           48.0795
          ],
          [
           48.069
          ],
          [
           47.946
          ],
          [
           47.829
          ],
          [
           49.175
          ],
          [
           51.9003
          ],
          [
           66.933
          ],
          [
           52.9921
          ],
          [
           9.3462
          ],
          [
           9.3509
          ],
          [
           9.3551
          ],
          [
           9.3592
          ],
          [
           9.3632
          ],
          [
           9.3677
          ],
          [
           9.372
          ],
          [
           9.3761
          ],
          [
           9.3808
          ],
          [
           9.3854
          ],
          [
           9.39
          ],
          [
           9.3946
          ],
          [
           9.3996
          ],
          [
           9.4047
          ],
          [
           9.4099
          ],
          [
           9.4153
          ],
          [
           9.4208
          ],
          [
           9.4271
          ],
          [
           9.4334
          ],
          [
           9.4409
          ],
          [
           9.4486
          ],
          [
           9.4575
          ],
          [
           9.4675
          ],
          [
           9.3468
          ],
          [
           9.5484
          ],
          [
           9.3426
          ],
          [
           9.3387
          ],
          [
           9.1952
          ],
          [
           9.2126
          ],
          [
           9.2243
          ],
          [
           9.2342
          ],
          [
           9.2436
          ],
          [
           9.2514
          ],
          [
           9.2587
          ],
          [
           9.2654
          ],
          [
           9.2718
          ],
          [
           9.2777
          ],
          [
           9.4799
          ],
          [
           9.2834
          ],
          [
           9.294
          ],
          [
           9.2988
          ],
          [
           9.3037
          ],
          [
           9.3082
          ],
          [
           9.3128
          ],
          [
           9.3174
          ],
          [
           9.3221
          ],
          [
           9.3265
          ],
          [
           9.3305
          ],
          [
           9.3344
          ],
          [
           9.2885
          ],
          [
           9.4954
          ],
          [
           2716.8
          ],
          [
           2718.2
          ],
          [
           2704.9
          ],
          [
           2708.2
          ],
          [
           2704.6
          ],
          [
           2704.9498
          ],
          [
           2705.3
          ],
          [
           2705.6
          ],
          [
           2706
          ],
          [
           2706.3
          ],
          [
           2706.7
          ],
          [
           2707.1
          ],
          [
           2707.4
          ],
          [
           2707.8
          ],
          [
           2708.6
          ],
          [
           2709
          ],
          [
           2709.4
          ],
          [
           2709.9
          ],
          [
           2710.4
          ],
          [
           2710.9
          ],
          [
           2711.4
          ],
          [
           2712
          ],
          [
           2712.5
          ],
          [
           2713.2
          ],
          [
           2713.9
          ],
          [
           2704.2
          ],
          [
           2714.7
          ],
          [
           2703.8
          ],
          [
           2703.1
          ],
          [
           2651.4
          ],
          [
           2691.5
          ],
          [
           2693.1
          ],
          [
           2694.3
          ],
          [
           2695.3
          ],
          [
           2696.1
          ],
          [
           2696.8
          ],
          [
           2697.4
          ],
          [
           2697.9
          ],
          [
           2703.5
          ],
          [
           2698.5
          ],
          [
           2699.4
          ],
          [
           2699.9
          ],
          [
           2700.3
          ],
          [
           2700.8
          ],
          [
           2701.2
          ],
          [
           2701.6
          ],
          [
           2702
          ],
          [
           2702.4
          ],
          [
           2702.8
          ],
          [
           2699
          ],
          [
           2715.7
          ],
          [
           2647.5
          ],
          [
           2646.0694
          ],
          [
           2644.9
          ],
          [
           2619.7
          ],
          [
           2634
          ],
          [
           2634.4
          ],
          [
           2634.7
          ],
          [
           2635.1
          ],
          [
           2635.5
          ],
          [
           2635.9
          ],
          [
           2636.3
          ],
          [
           2636.7
          ],
          [
           2637.1
          ],
          [
           2578.1
          ],
          [
           2637.9
          ],
          [
           2638.4
          ],
          [
           2638.9
          ],
          [
           2639.4
          ],
          [
           2639.9
          ],
          [
           2640.5
          ],
          [
           2641
          ],
          [
           2641.6
          ],
          [
           2642.3
          ],
          [
           2643.1
          ],
          [
           2643.9
          ],
          [
           2633.65
          ],
          [
           2633.6
          ],
          [
           2637.5
          ],
          [
           2632.9
          ],
          [
           2633.3
          ],
          [
           2622.5662
          ],
          [
           2623.6
          ],
          [
           2624.5
          ],
          [
           2625.2
          ],
          [
           2625.8
          ],
          [
           2626.4
          ],
          [
           2626.9
          ],
          [
           2627.4
          ],
          [
           2627.9
          ],
          [
           2621.3
          ],
          [
           2628.9
          ],
          [
           2629.3
          ],
          [
           2629.8
          ],
          [
           2630.2
          ],
          [
           2630.6
          ],
          [
           2631
          ],
          [
           2631.4
          ],
          [
           2631.8
          ],
          [
           2632.2
          ],
          [
           2632.5
          ],
          [
           2628.4
          ],
          [
           26.44
          ],
          [
           26.593
          ],
          [
           26.575
          ],
          [
           26.557
          ],
          [
           26.538
          ],
          [
           26.471
          ],
          [
           26.504
          ],
          [
           26.487
          ],
          [
           26.614
          ],
          [
           26.455
          ],
          [
           26.52
          ],
          [
           26.636
          ],
          [
           26.797
          ],
          [
           26.6826
          ],
          [
           26.707
          ],
          [
           26.734
          ],
          [
           26.762
          ],
          [
           26.834
          ],
          [
           26.884
          ],
          [
           26.941
          ],
          [
           25.928
          ],
          [
           25.883
          ],
          [
           25.825
          ],
          [
           25.247
          ],
          [
           26.658
          ],
          [
           26.424
          ],
          [
           25.965
          ],
          [
           26.392
          ],
          [
           26.407
          ],
          [
           25.998
          ],
          [
           26.027
          ],
          [
           26.055
          ],
          [
           26.081
          ],
          [
           26.104
          ],
          [
           26.126
          ],
          [
           26.165
          ],
          [
           26.183
          ],
          [
           26.2016
          ],
          [
           26.22
          ],
          [
           26.147
          ],
          [
           26.254
          ],
          [
           26.271
          ],
          [
           26.287
          ],
          [
           26.381
          ],
          [
           26.304
          ],
          [
           26.319
          ],
          [
           26.334
          ],
          [
           26.35
          ],
          [
           26.366
          ],
          [
           26.3775
          ],
          [
           26.239
          ],
          [
           80.227
          ],
          [
           80.213
          ],
          [
           80.201
          ],
          [
           80.142
          ],
          [
           80.177
          ],
          [
           80.164
          ],
          [
           80.153
          ],
          [
           80.241
          ],
          [
           80.189
          ],
          [
           80.255
          ],
          [
           80.532
          ],
          [
           80.284
          ],
          [
           80.299
          ],
          [
           80.316
          ],
          [
           80.333
          ],
          [
           80.352
          ],
          [
           80.372
          ],
          [
           80.394
          ],
          [
           80.418
          ],
          [
           80.448
          ],
          [
           80.483
          ],
          [
           80.132
          ],
          [
           80.27
          ],
          [
           80.109
          ],
          [
           79.978
          ],
          [
           80.098
          ],
          [
           77.477
          ],
          [
           79.681
          ],
          [
           79.731
          ],
          [
           79.768
          ],
          [
           79.799
          ],
          [
           79.825
          ],
          [
           79.848
          ],
          [
           79.869
          ],
          [
           79.887
          ],
          [
           79.904
          ],
          [
           79.921
          ],
          [
           79.935
          ],
          [
           79.95
          ],
          [
           79.964
          ],
          [
           79.991
          ],
          [
           80.005
          ],
          [
           80.018
          ],
          [
           80.03
          ],
          [
           80.041
          ],
          [
           80.053
          ],
          [
           80.065
          ],
          [
           80.076
          ],
          [
           80.087
          ],
          [
           80.1075
          ],
          [
           80.121
          ]
         ],
         "hovertemplate": "Feature: <b>%{y}</b><br><br>Predict: %{x}<br>Original value: %{customdata[0]}<br>Quantile: %{marker.color}",
         "legendgroup": "",
         "marker": {
          "color": [
           0.7625,
           0.7438,
           0.725,
           0.65,
           0.6875,
           0.6688,
           0.7812,
           0.6312,
           0.7062,
           0.8,
           0.8938,
           0.8375,
           0.8562,
           0.875,
           0.9125,
           0.9312,
           0.95,
           0.9937,
           0.1625,
           0.6125,
           0.1438,
           0.8188,
           0.5938,
           0.4062,
           0.5562,
           0.125,
           0.1813,
           0.2,
           0.2188,
           0.2375,
           0.2562,
           0.275,
           0.2938,
           0.3125,
           0.3312,
           0.35,
           0.3687,
           0.3875,
           0.425,
           0.4438,
           0.4625,
           0.4812,
           0.5,
           0.5188,
           0.5293,
           0.5375,
           0.575,
           0.0875,
           0.1062,
           0.0688,
           0.05,
           0.8188,
           0.2938,
           0.275,
           0.2562,
           0.2375,
           0.2188,
           0.2,
           0.1813,
           0.1625,
           0.125,
           0.1062,
           0.0875,
           0.0688,
           0.05,
           0.0095,
           0.95,
           0.9312,
           0.9125,
           0.8938,
           0.875,
           0.8562,
           0.8375,
           0.8,
           0.3125,
           0.3312,
           0.1438,
           0.3687,
           0.7812,
           0.7625,
           0.35,
           0.725,
           0.7062,
           0.6875,
           0.6688,
           0.65,
           0.6312,
           0.6125,
           0.5938,
           0.575,
           0.7438,
           0.5375,
           0.5562,
           0.4062,
           0.4438,
           0.4625,
           0.4812,
           0.425,
           0.5,
           0.3875,
           0.5188,
           0.496,
           0.4438,
           0.2938,
           0.425,
           0.4062,
           0.3875,
           0.3687,
           0.35,
           0.4625,
           0.3312,
           0.3125,
           0.275,
           0.1813,
           0.2375,
           0.2188,
           0.2,
           0.1625,
           0.1438,
           0.125,
           0.1062,
           0.0875,
           0.05,
           0.0064,
           0.4812,
           0.2562,
           0.5,
           0.0688,
           0.5188,
           0.509,
           0.95,
           0.9312,
           0.9125,
           0.8938,
           0.875,
           0.8562,
           0.8375,
           0.8188,
           0.8,
           0.7812,
           0.575,
           0.7438,
           0.7625,
           0.5938,
           0.6125,
           0.6312,
           0.5562,
           0.6688,
           0.6875,
           0.7062,
           0.725,
           0.65,
           0.5375,
           0.2562,
           0.3875,
           0.3687,
           0.35,
           0.3312,
           0.3125,
           0.2938,
           0.275,
           0.1625,
           0.2188,
           0.2,
           0.1813,
           0.4062,
           0.1438,
           0.125,
           0.1062,
           0.0875,
           0.0688,
           0.05,
           0.2375,
           0.425,
           0.5188,
           0.4625,
           0.8375,
           0.8188,
           0.8,
           0.7812,
           0.7625,
           0.7438,
           0.725,
           0.7062,
           0.6875,
           0.6688,
           0.65,
           0.6125,
           0.5938,
           0.575,
           0.5562,
           0.5375,
           0.5,
           0.4999,
           0.4812,
           0.4438,
           0.6312,
           0.95,
           0.001,
           0.8562,
           0.875,
           0.9312,
           0.9125,
           0.8938,
           0.4062,
           0.3875,
           0.3687,
           0.35,
           0.3312,
           0.3125,
           0.2938,
           0.275,
           0.2562,
           0.2375,
           0.425,
           0.1813,
           0.1625,
           0.1438,
           0.125,
           0.1062,
           0.0875,
           0.0688,
           0.05,
           0.2188,
           0.2,
           0.4438,
           0.4812,
           0.8938,
           0.875,
           0.8562,
           0.8375,
           0.8188,
           0.9312,
           0.8,
           0.7812,
           0.7625,
           0.7438,
           0.725,
           0.4625,
           0.7062,
           0.6688,
           0.65,
           0.6312,
           0.6125,
           0.5938,
           0.575,
           0.5562,
           0.5394,
           0.5375,
           0.5188,
           0.5,
           0.6875,
           0.9125,
           0.996,
           0.95,
           0.4969,
           0.5188,
           0.5375,
           0.5562,
           0.575,
           0.5938,
           0.6125,
           0.6312,
           0.65,
           0.6688,
           0.6875,
           0.7062,
           0.725,
           0.7438,
           0.7625,
           0.7812,
           0.8,
           0.8188,
           0.8375,
           0.8562,
           0.875,
           0.8938,
           0.9125,
           0.5,
           0.9818,
           0.4812,
           0.4625,
           0.05,
           0.0688,
           0.0875,
           0.1062,
           0.125,
           0.1438,
           0.1625,
           0.1813,
           0.2,
           0.2188,
           0.9312,
           0.2375,
           0.275,
           0.2938,
           0.3125,
           0.3312,
           0.35,
           0.3687,
           0.3875,
           0.4062,
           0.425,
           0.4438,
           0.2562,
           0.95,
           0.9312,
           0.95,
           0.5,
           0.6688,
           0.4812,
           0.5023,
           0.5188,
           0.5375,
           0.5562,
           0.575,
           0.5938,
           0.6125,
           0.6312,
           0.65,
           0.6875,
           0.7062,
           0.725,
           0.7438,
           0.7625,
           0.7812,
           0.8,
           0.8188,
           0.8375,
           0.8562,
           0.875,
           0.4625,
           0.8938,
           0.4438,
           0.4062,
           0.0051,
           0.05,
           0.0688,
           0.0875,
           0.1062,
           0.125,
           0.1438,
           0.1625,
           0.1813,
           0.425,
           0.2,
           0.2375,
           0.2562,
           0.275,
           0.2938,
           0.3125,
           0.3312,
           0.35,
           0.3687,
           0.3875,
           0.2188,
           0.9125,
           0.95,
           0.9312,
           0.9125,
           0.05,
           0.5188,
           0.5375,
           0.5562,
           0.575,
           0.5938,
           0.6125,
           0.6312,
           0.65,
           0.6688,
           0.0052,
           0.7062,
           0.725,
           0.7438,
           0.7625,
           0.7812,
           0.8,
           0.8188,
           0.8375,
           0.8562,
           0.875,
           0.8938,
           0.5003,
           0.5,
           0.6875,
           0.4625,
           0.4812,
           0.0875,
           0.1062,
           0.125,
           0.1438,
           0.1625,
           0.1813,
           0.2,
           0.2188,
           0.2375,
           0.0688,
           0.275,
           0.2938,
           0.3125,
           0.3312,
           0.35,
           0.3687,
           0.3875,
           0.4062,
           0.425,
           0.4438,
           0.2562,
           0.575,
           0.7438,
           0.725,
           0.7062,
           0.6875,
           0.6125,
           0.65,
           0.6312,
           0.7625,
           0.5938,
           0.6688,
           0.7812,
           0.8938,
           0.8188,
           0.8375,
           0.8562,
           0.875,
           0.9125,
           0.9312,
           0.95,
           0.0875,
           0.0688,
           0.05,
           0.0066,
           0.8,
           0.5562,
           0.1062,
           0.5188,
           0.5375,
           0.125,
           0.1438,
           0.1625,
           0.1813,
           0.2,
           0.2188,
           0.2562,
           0.275,
           0.2938,
           0.3125,
           0.2375,
           0.35,
           0.3687,
           0.3875,
           0.5,
           0.4062,
           0.425,
           0.4438,
           0.4625,
           0.4812,
           0.4957,
           0.3312,
           0.6875,
           0.6688,
           0.65,
           0.5562,
           0.6125,
           0.5938,
           0.575,
           0.7062,
           0.6312,
           0.725,
           0.95,
           0.7625,
           0.7812,
           0.8,
           0.8188,
           0.8375,
           0.8562,
           0.875,
           0.8938,
           0.9125,
           0.9312,
           0.5375,
           0.7438,
           0.5,
           0.2938,
           0.4812,
           0.0028,
           0.05,
           0.0688,
           0.0875,
           0.1062,
           0.125,
           0.1438,
           0.1625,
           0.1813,
           0.2,
           0.2188,
           0.2375,
           0.2562,
           0.275,
           0.3125,
           0.3312,
           0.35,
           0.3687,
           0.3875,
           0.4062,
           0.425,
           0.4438,
           0.4625,
           0.4977,
           0.5188
          ],
          "coloraxis": "coloraxis",
          "size": [
           0.05,
           0.05,
           0.05,
           0.05,
           0.05,
           0.05,
           0.05,
           0.05,
           0.05,
           0.05,
           0.05,
           0.05,
           0.05,
           0.05,
           0.05,
           0.05,
           0.05,
           0.3,
           0.05,
           0.05,
           0.05,
           0.05,
           0.05,
           0.05,
           0.05,
           0.05,
           0.05,
           0.05,
           0.05,
           0.05,
           0.05,
           0.05,
           0.05,
           0.05,
           0.05,
           0.05,
           0.05,
           0.05,
           0.05,
           0.05,
           0.05,
           0.05,
           0.05,
           0.05,
           0.05,
           0.05,
           0.05,
           0.05,
           0.05,
           0.05,
           0.05,
           0.05,
           0.05,
           0.05,
           0.05,
           0.05,
           0.05,
           0.05,
           0.05,
           0.05,
           0.05,
           0.05,
           0.05,
           0.05,
           0.05,
           0.3,
           0.05,
           0.05,
           0.05,
           0.05,
           0.05,
           0.05,
           0.05,
           0.05,
           0.05,
           0.05,
           0.05,
           0.05,
           0.05,
           0.05,
           0.05,
           0.05,
           0.05,
           0.05,
           0.05,
           0.05,
           0.05,
           0.05,
           0.05,
           0.05,
           0.05,
           0.05,
           0.05,
           0.05,
           0.05,
           0.05,
           0.05,
           0.05,
           0.05,
           0.05,
           0.05,
           0.05,
           0.05,
           0.05,
           0.05,
           0.05,
           0.05,
           0.05,
           0.05,
           0.05,
           0.05,
           0.05,
           0.05,
           0.05,
           0.05,
           0.05,
           0.05,
           0.05,
           0.05,
           0.05,
           0.05,
           0.05,
           0.05,
           0.3,
           0.05,
           0.05,
           0.05,
           0.05,
           0.05,
           0.05,
           0.05,
           0.05,
           0.05,
           0.05,
           0.05,
           0.05,
           0.05,
           0.05,
           0.05,
           0.05,
           0.05,
           0.05,
           0.05,
           0.05,
           0.05,
           0.05,
           0.05,
           0.05,
           0.05,
           0.05,
           0.05,
           0.05,
           0.05,
           0.05,
           0.05,
           0.05,
           0.05,
           0.05,
           0.05,
           0.05,
           0.05,
           0.05,
           0.05,
           0.05,
           0.05,
           0.05,
           0.05,
           0.05,
           0.05,
           0.05,
           0.05,
           0.05,
           0.05,
           0.05,
           0.05,
           0.05,
           0.05,
           0.05,
           0.05,
           0.05,
           0.05,
           0.05,
           0.05,
           0.05,
           0.05,
           0.05,
           0.05,
           0.05,
           0.05,
           0.05,
           0.05,
           0.05,
           0.05,
           0.05,
           0.05,
           0.05,
           0.05,
           0.05,
           0.3,
           0.05,
           0.05,
           0.05,
           0.05,
           0.05,
           0.05,
           0.05,
           0.05,
           0.05,
           0.05,
           0.05,
           0.05,
           0.05,
           0.05,
           0.05,
           0.05,
           0.05,
           0.05,
           0.05,
           0.05,
           0.05,
           0.05,
           0.05,
           0.05,
           0.05,
           0.05,
           0.05,
           0.05,
           0.05,
           0.05,
           0.05,
           0.05,
           0.05,
           0.05,
           0.05,
           0.05,
           0.05,
           0.05,
           0.05,
           0.05,
           0.05,
           0.05,
           0.05,
           0.05,
           0.05,
           0.05,
           0.05,
           0.05,
           0.05,
           0.05,
           0.05,
           0.05,
           0.05,
           0.05,
           0.3,
           0.05,
           0.05,
           0.05,
           0.05,
           0.05,
           0.05,
           0.05,
           0.05,
           0.05,
           0.05,
           0.05,
           0.05,
           0.05,
           0.05,
           0.05,
           0.05,
           0.05,
           0.05,
           0.05,
           0.05,
           0.05,
           0.05,
           0.05,
           0.05,
           0.05,
           0.3,
           0.05,
           0.05,
           0.05,
           0.05,
           0.05,
           0.05,
           0.05,
           0.05,
           0.05,
           0.05,
           0.05,
           0.05,
           0.05,
           0.05,
           0.05,
           0.05,
           0.05,
           0.05,
           0.05,
           0.05,
           0.05,
           0.05,
           0.05,
           0.05,
           0.05,
           0.05,
           0.05,
           0.05,
           0.05,
           0.05,
           0.05,
           0.05,
           0.05,
           0.05,
           0.05,
           0.05,
           0.05,
           0.05,
           0.05,
           0.05,
           0.05,
           0.05,
           0.05,
           0.05,
           0.05,
           0.05,
           0.05,
           0.05,
           0.05,
           0.05,
           0.05,
           0.05,
           0.05,
           0.05,
           0.05,
           0.3,
           0.05,
           0.05,
           0.05,
           0.05,
           0.05,
           0.05,
           0.05,
           0.05,
           0.05,
           0.05,
           0.05,
           0.05,
           0.05,
           0.05,
           0.05,
           0.05,
           0.05,
           0.05,
           0.05,
           0.05,
           0.05,
           0.05,
           0.05,
           0.05,
           0.05,
           0.05,
           0.05,
           0.05,
           0.05,
           0.05,
           0.05,
           0.05,
           0.05,
           0.05,
           0.3,
           0.05,
           0.05,
           0.05,
           0.05,
           0.05,
           0.05,
           0.05,
           0.05,
           0.05,
           0.05,
           0.05,
           0.05,
           0.05,
           0.05,
           0.05,
           0.05,
           0.05,
           0.05,
           0.05,
           0.05,
           0.05,
           0.05,
           0.05,
           0.05,
           0.05,
           0.05,
           0.05,
           0.05,
           0.05,
           0.05,
           0.05,
           0.05,
           0.05,
           0.05,
           0.05,
           0.05,
           0.05,
           0.05,
           0.05,
           0.05,
           0.05,
           0.05,
           0.05,
           0.05,
           0.05,
           0.05,
           0.05,
           0.05,
           0.05,
           0.05,
           0.05,
           0.05,
           0.05,
           0.05,
           0.05,
           0.05,
           0.05,
           0.05,
           0.05,
           0.05,
           0.3,
           0.05,
           0.05,
           0.05,
           0.05,
           0.05,
           0.05,
           0.05,
           0.05,
           0.05,
           0.05,
           0.05,
           0.05,
           0.05,
           0.05,
           0.05,
           0.05,
           0.05,
           0.05,
           0.05,
           0.05,
           0.05,
           0.05,
           0.05,
           0.05,
           0.05,
           0.05,
           0.05,
           0.05,
           0.05,
           0.05,
           0.05,
           0.05,
           0.05,
           0.05,
           0.05,
           0.05,
           0.05,
           0.05,
           0.05,
           0.05,
           0.05,
           0.05,
           0.05,
           0.05,
           0.05,
           0.05,
           0.05,
           0.05,
           0.05,
           0.05,
           0.05,
           0.05,
           0.05,
           0.3,
           0.05,
           0.05,
           0.05,
           0.05,
           0.05,
           0.05,
           0.05,
           0.05,
           0.05,
           0.05,
           0.05,
           0.05,
           0.05,
           0.05,
           0.05,
           0.05,
           0.05,
           0.05,
           0.05,
           0.05,
           0.05,
           0.05,
           0.05,
           0.05
          ],
          "sizemode": "area",
          "sizeref": 0.00075,
          "symbol": "circle"
         },
         "mode": "markers",
         "name": "",
         "orientation": "h",
         "showlegend": false,
         "type": "scatter",
         "x": [
          0.5802,
          0.5802,
          0.5802,
          0.5802,
          0.5802,
          0.5802,
          0.5802,
          0.5802,
          0.5802,
          0.5802,
          0.5808,
          0.5802,
          0.5808,
          0.5808,
          0.5819,
          0.582,
          0.582,
          0.5838,
          0.5807,
          0.5801,
          0.5807,
          0.5802,
          0.5801,
          0.5801,
          0.58,
          0.5807,
          0.5807,
          0.5807,
          0.5804,
          0.5804,
          0.5804,
          0.5804,
          0.5801,
          0.5801,
          0.5801,
          0.5801,
          0.5801,
          0.5801,
          0.5801,
          0.5801,
          0.5801,
          0.5801,
          0.5801,
          0.58,
          0.58,
          0.58,
          0.58,
          0.581,
          0.5807,
          0.581,
          0.581,
          0.5805,
          0.581,
          0.581,
          0.5811,
          0.5811,
          0.5811,
          0.5811,
          0.5813,
          0.5813,
          0.5813,
          0.5813,
          0.5811,
          0.5813,
          0.5814,
          0.5838,
          0.5826,
          0.5814,
          0.5814,
          0.5806,
          0.5806,
          0.5806,
          0.5805,
          0.5803,
          0.5804,
          0.5804,
          0.5813,
          0.5804,
          0.5803,
          0.5803,
          0.5804,
          0.5803,
          0.5803,
          0.5803,
          0.5803,
          0.5806,
          0.5806,
          0.5806,
          0.5806,
          0.5806,
          0.5803,
          0.5806,
          0.5806,
          0.58,
          0.5806,
          0.5806,
          0.5806,
          0.58,
          0.5806,
          0.58,
          0.5806,
          0.5806,
          0.5814,
          0.5814,
          0.5814,
          0.5814,
          0.5814,
          0.5814,
          0.5814,
          0.5814,
          0.5814,
          0.5814,
          0.5814,
          0.5799,
          0.5814,
          0.5814,
          0.5814,
          0.5799,
          0.5799,
          0.58,
          0.58,
          0.58,
          0.5811,
          0.5838,
          0.5814,
          0.5814,
          0.5814,
          0.5799,
          0.5811,
          0.5814,
          0.5812,
          0.5808,
          0.5808,
          0.5808,
          0.5811,
          0.5811,
          0.5811,
          0.5811,
          0.5811,
          0.5811,
          0.5811,
          0.5811,
          0.5811,
          0.5811,
          0.5811,
          0.5811,
          0.5811,
          0.5811,
          0.5811,
          0.5811,
          0.5811,
          0.5811,
          0.5811,
          0.581,
          0.5806,
          0.5806,
          0.5806,
          0.5806,
          0.5806,
          0.5806,
          0.5806,
          0.581,
          0.581,
          0.581,
          0.581,
          0.5806,
          0.581,
          0.581,
          0.581,
          0.5813,
          0.5812,
          0.5812,
          0.581,
          0.5806,
          0.5803,
          0.5806,
          0.5799,
          0.5799,
          0.5801,
          0.5801,
          0.5801,
          0.5801,
          0.5801,
          0.5801,
          0.5801,
          0.5801,
          0.5801,
          0.5803,
          0.5803,
          0.5803,
          0.5803,
          0.5803,
          0.5803,
          0.5803,
          0.5806,
          0.5806,
          0.5801,
          0.5803,
          0.5838,
          0.5799,
          0.5799,
          0.5799,
          0.5799,
          0.5799,
          0.5805,
          0.5805,
          0.5805,
          0.5805,
          0.5805,
          0.5805,
          0.5805,
          0.5805,
          0.5805,
          0.5805,
          0.5805,
          0.5805,
          0.5801,
          0.5801,
          0.5799,
          0.58,
          0.5802,
          0.5802,
          0.5803,
          0.5805,
          0.5805,
          0.5801,
          0.5801,
          0.5816,
          0.5816,
          0.5804,
          0.5804,
          0.5804,
          0.5813,
          0.5804,
          0.5804,
          0.5805,
          0.5803,
          0.5803,
          0.5801,
          0.5803,
          0.5803,
          0.5803,
          0.5803,
          0.5803,
          0.5803,
          0.5803,
          0.5803,
          0.5801,
          0.5801,
          0.5801,
          0.5801,
          0.5803,
          0.5816,
          0.5838,
          0.5813,
          0.58,
          0.5799,
          0.5799,
          0.5799,
          0.5799,
          0.5799,
          0.5799,
          0.5799,
          0.5799,
          0.5799,
          0.5799,
          0.5799,
          0.5799,
          0.5799,
          0.5799,
          0.5798,
          0.5798,
          0.5798,
          0.5798,
          0.5798,
          0.5812,
          0.5812,
          0.5821,
          0.58,
          0.5838,
          0.58,
          0.5801,
          0.5814,
          0.5811,
          0.5811,
          0.5811,
          0.5811,
          0.5811,
          0.5811,
          0.5811,
          0.5801,
          0.5801,
          0.583,
          0.5801,
          0.5801,
          0.5801,
          0.5801,
          0.5801,
          0.5801,
          0.5801,
          0.5801,
          0.5801,
          0.5801,
          0.5801,
          0.5801,
          0.5829,
          0.5802,
          0.5802,
          0.58,
          0.5801,
          0.58,
          0.58,
          0.58,
          0.58,
          0.58,
          0.58,
          0.5801,
          0.5801,
          0.5801,
          0.5801,
          0.5798,
          0.5798,
          0.5801,
          0.5801,
          0.5801,
          0.5801,
          0.5803,
          0.5803,
          0.5803,
          0.5802,
          0.5802,
          0.58,
          0.5802,
          0.58,
          0.58,
          0.5838,
          0.581,
          0.5801,
          0.5801,
          0.5801,
          0.5801,
          0.5797,
          0.5797,
          0.5797,
          0.58,
          0.58,
          0.58,
          0.58,
          0.58,
          0.58,
          0.58,
          0.58,
          0.58,
          0.58,
          0.58,
          0.58,
          0.5802,
          0.5793,
          0.5793,
          0.5792,
          0.5805,
          0.5788,
          0.5787,
          0.5787,
          0.5787,
          0.5787,
          0.5787,
          0.5787,
          0.5788,
          0.5788,
          0.5838,
          0.5788,
          0.5788,
          0.5788,
          0.5788,
          0.5788,
          0.5788,
          0.5788,
          0.5788,
          0.5788,
          0.5789,
          0.5792,
          0.5788,
          0.5788,
          0.5788,
          0.5788,
          0.5788,
          0.5805,
          0.5795,
          0.5791,
          0.5791,
          0.5791,
          0.5791,
          0.5791,
          0.5791,
          0.5791,
          0.5805,
          0.5787,
          0.5787,
          0.5787,
          0.5787,
          0.5787,
          0.5787,
          0.5787,
          0.5787,
          0.5787,
          0.5788,
          0.5787,
          0.5792,
          0.5784,
          0.5784,
          0.5784,
          0.5784,
          0.5792,
          0.5784,
          0.5792,
          0.579,
          0.5792,
          0.5784,
          0.579,
          0.5793,
          0.579,
          0.579,
          0.579,
          0.579,
          0.5798,
          0.5798,
          0.5798,
          0.5794,
          0.5797,
          0.5796,
          0.5838,
          0.579,
          0.5792,
          0.5794,
          0.5788,
          0.5788,
          0.5793,
          0.5793,
          0.5793,
          0.5793,
          0.5793,
          0.5793,
          0.5788,
          0.5788,
          0.5788,
          0.5788,
          0.5793,
          0.5788,
          0.5788,
          0.5788,
          0.5788,
          0.5788,
          0.5788,
          0.5788,
          0.5788,
          0.5788,
          0.5788,
          0.5788,
          0.5781,
          0.5781,
          0.5781,
          0.5781,
          0.5781,
          0.5781,
          0.5781,
          0.5781,
          0.5781,
          0.5781,
          0.5787,
          0.5781,
          0.5781,
          0.5781,
          0.5781,
          0.5781,
          0.5781,
          0.5781,
          0.5781,
          0.5781,
          0.5787,
          0.5781,
          0.5781,
          0.5779,
          0.5779,
          0.5779,
          0.5838,
          0.5784,
          0.5784,
          0.5784,
          0.5784,
          0.5779,
          0.5779,
          0.5779,
          0.5779,
          0.5779,
          0.5779,
          0.5779,
          0.5779,
          0.5779,
          0.5779,
          0.5779,
          0.5779,
          0.5779,
          0.5779,
          0.5779,
          0.5779,
          0.5779,
          0.5779,
          0.5779,
          0.5781
         ],
         "xaxis": "x",
         "y": [
          "xmeas_18",
          "xmeas_18",
          "xmeas_18",
          "xmeas_18",
          "xmeas_18",
          "xmeas_18",
          "xmeas_18",
          "xmeas_18",
          "xmeas_18",
          "xmeas_18",
          "xmeas_18",
          "xmeas_18",
          "xmeas_18",
          "xmeas_18",
          "xmeas_18",
          "xmeas_18",
          "xmeas_18",
          "xmeas_18",
          "xmeas_18",
          "xmeas_18",
          "xmeas_18",
          "xmeas_18",
          "xmeas_18",
          "xmeas_18",
          "xmeas_18",
          "xmeas_18",
          "xmeas_18",
          "xmeas_18",
          "xmeas_18",
          "xmeas_18",
          "xmeas_18",
          "xmeas_18",
          "xmeas_18",
          "xmeas_18",
          "xmeas_18",
          "xmeas_18",
          "xmeas_18",
          "xmeas_18",
          "xmeas_18",
          "xmeas_18",
          "xmeas_18",
          "xmeas_18",
          "xmeas_18",
          "xmeas_18",
          "xmeas_18",
          "xmeas_18",
          "xmeas_18",
          "xmeas_18",
          "xmeas_18",
          "xmeas_18",
          "xmeas_18",
          "xmeas_3",
          "xmeas_3",
          "xmeas_3",
          "xmeas_3",
          "xmeas_3",
          "xmeas_3",
          "xmeas_3",
          "xmeas_3",
          "xmeas_3",
          "xmeas_3",
          "xmeas_3",
          "xmeas_3",
          "xmeas_3",
          "xmeas_3",
          "xmeas_3",
          "xmeas_3",
          "xmeas_3",
          "xmeas_3",
          "xmeas_3",
          "xmeas_3",
          "xmeas_3",
          "xmeas_3",
          "xmeas_3",
          "xmeas_3",
          "xmeas_3",
          "xmeas_3",
          "xmeas_3",
          "xmeas_3",
          "xmeas_3",
          "xmeas_3",
          "xmeas_3",
          "xmeas_3",
          "xmeas_3",
          "xmeas_3",
          "xmeas_3",
          "xmeas_3",
          "xmeas_3",
          "xmeas_3",
          "xmeas_3",
          "xmeas_3",
          "xmeas_3",
          "xmeas_3",
          "xmeas_3",
          "xmeas_3",
          "xmeas_3",
          "xmeas_3",
          "xmeas_3",
          "xmeas_3",
          "xmeas_3",
          "xmeas_3",
          "xmeas_3",
          "xmeas_38",
          "xmeas_38",
          "xmeas_38",
          "xmeas_38",
          "xmeas_38",
          "xmeas_38",
          "xmeas_38",
          "xmeas_38",
          "xmeas_38",
          "xmeas_38",
          "xmeas_38",
          "xmeas_38",
          "xmeas_38",
          "xmeas_38",
          "xmeas_38",
          "xmeas_38",
          "xmeas_38",
          "xmeas_38",
          "xmeas_38",
          "xmeas_38",
          "xmeas_38",
          "xmeas_38",
          "xmeas_38",
          "xmeas_38",
          "xmeas_38",
          "xmeas_38",
          "xmeas_38",
          "xmeas_38",
          "xmeas_38",
          "xmeas_38",
          "xmeas_38",
          "xmeas_38",
          "xmeas_38",
          "xmeas_38",
          "xmeas_38",
          "xmeas_38",
          "xmeas_38",
          "xmeas_38",
          "xmeas_38",
          "xmeas_38",
          "xmeas_38",
          "xmeas_38",
          "xmeas_38",
          "xmeas_38",
          "xmeas_38",
          "xmeas_38",
          "xmeas_38",
          "xmeas_38",
          "xmeas_38",
          "xmeas_38",
          "xmeas_38",
          "xmeas_22",
          "xmeas_22",
          "xmeas_22",
          "xmeas_22",
          "xmeas_22",
          "xmeas_22",
          "xmeas_22",
          "xmeas_22",
          "xmeas_22",
          "xmeas_22",
          "xmeas_22",
          "xmeas_22",
          "xmeas_22",
          "xmeas_22",
          "xmeas_22",
          "xmeas_22",
          "xmeas_22",
          "xmeas_22",
          "xmeas_22",
          "xmeas_22",
          "xmeas_22",
          "xmeas_22",
          "xmeas_22",
          "xmeas_22",
          "xmeas_22",
          "xmeas_22",
          "xmeas_22",
          "xmeas_22",
          "xmeas_22",
          "xmeas_22",
          "xmeas_22",
          "xmeas_22",
          "xmeas_22",
          "xmeas_22",
          "xmeas_22",
          "xmeas_22",
          "xmeas_22",
          "xmeas_22",
          "xmeas_22",
          "xmeas_22",
          "xmeas_22",
          "xmeas_22",
          "xmeas_22",
          "xmeas_22",
          "xmeas_22",
          "xmeas_22",
          "xmeas_22",
          "xmeas_22",
          "xmeas_22",
          "xmeas_22",
          "xmeas_22",
          "xmv_9",
          "xmv_9",
          "xmv_9",
          "xmv_9",
          "xmv_9",
          "xmv_9",
          "xmv_9",
          "xmv_9",
          "xmv_9",
          "xmv_9",
          "xmv_9",
          "xmv_9",
          "xmv_9",
          "xmv_9",
          "xmv_9",
          "xmv_9",
          "xmv_9",
          "xmv_9",
          "xmv_9",
          "xmv_9",
          "xmv_9",
          "xmv_9",
          "xmv_9",
          "xmv_9",
          "xmv_9",
          "xmv_9",
          "xmv_9",
          "xmv_9",
          "xmv_9",
          "xmv_9",
          "xmv_9",
          "xmv_9",
          "xmv_9",
          "xmv_9",
          "xmv_9",
          "xmv_9",
          "xmv_9",
          "xmv_9",
          "xmv_9",
          "xmv_9",
          "xmv_9",
          "xmv_9",
          "xmv_9",
          "xmv_9",
          "xmv_9",
          "xmv_9",
          "xmv_9",
          "xmv_9",
          "xmv_9",
          "xmv_9",
          "xmv_9",
          "xmeas_4",
          "xmeas_4",
          "xmeas_4",
          "xmeas_4",
          "xmeas_4",
          "xmeas_4",
          "xmeas_4",
          "xmeas_4",
          "xmeas_4",
          "xmeas_4",
          "xmeas_4",
          "xmeas_4",
          "xmeas_4",
          "xmeas_4",
          "xmeas_4",
          "xmeas_4",
          "xmeas_4",
          "xmeas_4",
          "xmeas_4",
          "xmeas_4",
          "xmeas_4",
          "xmeas_4",
          "xmeas_4",
          "xmeas_4",
          "xmeas_4",
          "xmeas_4",
          "xmeas_4",
          "xmeas_4",
          "xmeas_4",
          "xmeas_4",
          "xmeas_4",
          "xmeas_4",
          "xmeas_4",
          "xmeas_4",
          "xmeas_4",
          "xmeas_4",
          "xmeas_4",
          "xmeas_4",
          "xmeas_4",
          "xmeas_4",
          "xmeas_4",
          "xmeas_4",
          "xmeas_4",
          "xmeas_4",
          "xmeas_4",
          "xmeas_4",
          "xmeas_4",
          "xmeas_4",
          "xmeas_4",
          "xmeas_4",
          "xmeas_4",
          "xmeas_7",
          "xmeas_7",
          "xmeas_7",
          "xmeas_7",
          "xmeas_7",
          "xmeas_7",
          "xmeas_7",
          "xmeas_7",
          "xmeas_7",
          "xmeas_7",
          "xmeas_7",
          "xmeas_7",
          "xmeas_7",
          "xmeas_7",
          "xmeas_7",
          "xmeas_7",
          "xmeas_7",
          "xmeas_7",
          "xmeas_7",
          "xmeas_7",
          "xmeas_7",
          "xmeas_7",
          "xmeas_7",
          "xmeas_7",
          "xmeas_7",
          "xmeas_7",
          "xmeas_7",
          "xmeas_7",
          "xmeas_7",
          "xmeas_7",
          "xmeas_7",
          "xmeas_7",
          "xmeas_7",
          "xmeas_7",
          "xmeas_7",
          "xmeas_7",
          "xmeas_7",
          "xmeas_7",
          "xmeas_7",
          "xmeas_7",
          "xmeas_7",
          "xmeas_7",
          "xmeas_7",
          "xmeas_7",
          "xmeas_7",
          "xmeas_7",
          "xmeas_7",
          "xmeas_7",
          "xmeas_7",
          "xmeas_7",
          "xmeas_7",
          "xmeas_13",
          "xmeas_13",
          "xmeas_13",
          "xmeas_13",
          "xmeas_13",
          "xmeas_13",
          "xmeas_13",
          "xmeas_13",
          "xmeas_13",
          "xmeas_13",
          "xmeas_13",
          "xmeas_13",
          "xmeas_13",
          "xmeas_13",
          "xmeas_13",
          "xmeas_13",
          "xmeas_13",
          "xmeas_13",
          "xmeas_13",
          "xmeas_13",
          "xmeas_13",
          "xmeas_13",
          "xmeas_13",
          "xmeas_13",
          "xmeas_13",
          "xmeas_13",
          "xmeas_13",
          "xmeas_13",
          "xmeas_13",
          "xmeas_13",
          "xmeas_13",
          "xmeas_13",
          "xmeas_13",
          "xmeas_13",
          "xmeas_13",
          "xmeas_13",
          "xmeas_13",
          "xmeas_13",
          "xmeas_13",
          "xmeas_13",
          "xmeas_13",
          "xmeas_13",
          "xmeas_13",
          "xmeas_13",
          "xmeas_13",
          "xmeas_13",
          "xmeas_13",
          "xmeas_13",
          "xmeas_13",
          "xmeas_13",
          "xmeas_13",
          "xmeas_25",
          "xmeas_25",
          "xmeas_25",
          "xmeas_25",
          "xmeas_25",
          "xmeas_25",
          "xmeas_25",
          "xmeas_25",
          "xmeas_25",
          "xmeas_25",
          "xmeas_25",
          "xmeas_25",
          "xmeas_25",
          "xmeas_25",
          "xmeas_25",
          "xmeas_25",
          "xmeas_25",
          "xmeas_25",
          "xmeas_25",
          "xmeas_25",
          "xmeas_25",
          "xmeas_25",
          "xmeas_25",
          "xmeas_25",
          "xmeas_25",
          "xmeas_25",
          "xmeas_25",
          "xmeas_25",
          "xmeas_25",
          "xmeas_25",
          "xmeas_25",
          "xmeas_25",
          "xmeas_25",
          "xmeas_25",
          "xmeas_25",
          "xmeas_25",
          "xmeas_25",
          "xmeas_25",
          "xmeas_25",
          "xmeas_25",
          "xmeas_25",
          "xmeas_25",
          "xmeas_25",
          "xmeas_25",
          "xmeas_25",
          "xmeas_25",
          "xmeas_25",
          "xmeas_25",
          "xmeas_25",
          "xmeas_25",
          "xmeas_25",
          "xmeas_11",
          "xmeas_11",
          "xmeas_11",
          "xmeas_11",
          "xmeas_11",
          "xmeas_11",
          "xmeas_11",
          "xmeas_11",
          "xmeas_11",
          "xmeas_11",
          "xmeas_11",
          "xmeas_11",
          "xmeas_11",
          "xmeas_11",
          "xmeas_11",
          "xmeas_11",
          "xmeas_11",
          "xmeas_11",
          "xmeas_11",
          "xmeas_11",
          "xmeas_11",
          "xmeas_11",
          "xmeas_11",
          "xmeas_11",
          "xmeas_11",
          "xmeas_11",
          "xmeas_11",
          "xmeas_11",
          "xmeas_11",
          "xmeas_11",
          "xmeas_11",
          "xmeas_11",
          "xmeas_11",
          "xmeas_11",
          "xmeas_11",
          "xmeas_11",
          "xmeas_11",
          "xmeas_11",
          "xmeas_11",
          "xmeas_11",
          "xmeas_11",
          "xmeas_11",
          "xmeas_11",
          "xmeas_11",
          "xmeas_11",
          "xmeas_11",
          "xmeas_11",
          "xmeas_11",
          "xmeas_11",
          "xmeas_11",
          "xmeas_11"
         ],
         "yaxis": "y"
        }
       ],
       "layout": {
        "coloraxis": {
         "colorbar": {
          "title": {
           "text": "quantile"
          }
         },
         "colorscale": [
          [
           0,
           "midnightblue"
          ],
          [
           0.5,
           "lightskyblue"
          ],
          [
           1,
           "limegreen"
          ]
         ]
        },
        "legend": {
         "itemsizing": "constant",
         "tracegroupgap": 0
        },
        "shapes": [
         {
          "line": {
           "color": "red",
           "dash": "dash",
           "width": 2
          },
          "type": "line",
          "x0": 0.5837678569287879,
          "x1": 0.5837678569287879,
          "y0": "xmeas_18",
          "y1": "xmeas_11"
         },
         {
          "line": {
           "color": "black",
           "dash": "solid",
           "width": 2
          },
          "type": "line",
          "x0": 0.5,
          "x1": 0.5,
          "y0": "xmeas_18",
          "y1": "xmeas_11"
         }
        ],
        "template": {
         "data": {
          "bar": [
           {
            "error_x": {
             "color": "#2a3f5f"
            },
            "error_y": {
             "color": "#2a3f5f"
            },
            "marker": {
             "line": {
              "color": "#E5ECF6",
              "width": 0.5
             },
             "pattern": {
              "fillmode": "overlay",
              "size": 10,
              "solidity": 0.2
             }
            },
            "type": "bar"
           }
          ],
          "barpolar": [
           {
            "marker": {
             "line": {
              "color": "#E5ECF6",
              "width": 0.5
             },
             "pattern": {
              "fillmode": "overlay",
              "size": 10,
              "solidity": 0.2
             }
            },
            "type": "barpolar"
           }
          ],
          "carpet": [
           {
            "aaxis": {
             "endlinecolor": "#2a3f5f",
             "gridcolor": "white",
             "linecolor": "white",
             "minorgridcolor": "white",
             "startlinecolor": "#2a3f5f"
            },
            "baxis": {
             "endlinecolor": "#2a3f5f",
             "gridcolor": "white",
             "linecolor": "white",
             "minorgridcolor": "white",
             "startlinecolor": "#2a3f5f"
            },
            "type": "carpet"
           }
          ],
          "choropleth": [
           {
            "colorbar": {
             "outlinewidth": 0,
             "ticks": ""
            },
            "type": "choropleth"
           }
          ],
          "contour": [
           {
            "colorbar": {
             "outlinewidth": 0,
             "ticks": ""
            },
            "colorscale": [
             [
              0,
              "#0d0887"
             ],
             [
              0.1111111111111111,
              "#46039f"
             ],
             [
              0.2222222222222222,
              "#7201a8"
             ],
             [
              0.3333333333333333,
              "#9c179e"
             ],
             [
              0.4444444444444444,
              "#bd3786"
             ],
             [
              0.5555555555555556,
              "#d8576b"
             ],
             [
              0.6666666666666666,
              "#ed7953"
             ],
             [
              0.7777777777777778,
              "#fb9f3a"
             ],
             [
              0.8888888888888888,
              "#fdca26"
             ],
             [
              1,
              "#f0f921"
             ]
            ],
            "type": "contour"
           }
          ],
          "contourcarpet": [
           {
            "colorbar": {
             "outlinewidth": 0,
             "ticks": ""
            },
            "type": "contourcarpet"
           }
          ],
          "heatmap": [
           {
            "colorbar": {
             "outlinewidth": 0,
             "ticks": ""
            },
            "colorscale": [
             [
              0,
              "#0d0887"
             ],
             [
              0.1111111111111111,
              "#46039f"
             ],
             [
              0.2222222222222222,
              "#7201a8"
             ],
             [
              0.3333333333333333,
              "#9c179e"
             ],
             [
              0.4444444444444444,
              "#bd3786"
             ],
             [
              0.5555555555555556,
              "#d8576b"
             ],
             [
              0.6666666666666666,
              "#ed7953"
             ],
             [
              0.7777777777777778,
              "#fb9f3a"
             ],
             [
              0.8888888888888888,
              "#fdca26"
             ],
             [
              1,
              "#f0f921"
             ]
            ],
            "type": "heatmap"
           }
          ],
          "heatmapgl": [
           {
            "colorbar": {
             "outlinewidth": 0,
             "ticks": ""
            },
            "colorscale": [
             [
              0,
              "#0d0887"
             ],
             [
              0.1111111111111111,
              "#46039f"
             ],
             [
              0.2222222222222222,
              "#7201a8"
             ],
             [
              0.3333333333333333,
              "#9c179e"
             ],
             [
              0.4444444444444444,
              "#bd3786"
             ],
             [
              0.5555555555555556,
              "#d8576b"
             ],
             [
              0.6666666666666666,
              "#ed7953"
             ],
             [
              0.7777777777777778,
              "#fb9f3a"
             ],
             [
              0.8888888888888888,
              "#fdca26"
             ],
             [
              1,
              "#f0f921"
             ]
            ],
            "type": "heatmapgl"
           }
          ],
          "histogram": [
           {
            "marker": {
             "pattern": {
              "fillmode": "overlay",
              "size": 10,
              "solidity": 0.2
             }
            },
            "type": "histogram"
           }
          ],
          "histogram2d": [
           {
            "colorbar": {
             "outlinewidth": 0,
             "ticks": ""
            },
            "colorscale": [
             [
              0,
              "#0d0887"
             ],
             [
              0.1111111111111111,
              "#46039f"
             ],
             [
              0.2222222222222222,
              "#7201a8"
             ],
             [
              0.3333333333333333,
              "#9c179e"
             ],
             [
              0.4444444444444444,
              "#bd3786"
             ],
             [
              0.5555555555555556,
              "#d8576b"
             ],
             [
              0.6666666666666666,
              "#ed7953"
             ],
             [
              0.7777777777777778,
              "#fb9f3a"
             ],
             [
              0.8888888888888888,
              "#fdca26"
             ],
             [
              1,
              "#f0f921"
             ]
            ],
            "type": "histogram2d"
           }
          ],
          "histogram2dcontour": [
           {
            "colorbar": {
             "outlinewidth": 0,
             "ticks": ""
            },
            "colorscale": [
             [
              0,
              "#0d0887"
             ],
             [
              0.1111111111111111,
              "#46039f"
             ],
             [
              0.2222222222222222,
              "#7201a8"
             ],
             [
              0.3333333333333333,
              "#9c179e"
             ],
             [
              0.4444444444444444,
              "#bd3786"
             ],
             [
              0.5555555555555556,
              "#d8576b"
             ],
             [
              0.6666666666666666,
              "#ed7953"
             ],
             [
              0.7777777777777778,
              "#fb9f3a"
             ],
             [
              0.8888888888888888,
              "#fdca26"
             ],
             [
              1,
              "#f0f921"
             ]
            ],
            "type": "histogram2dcontour"
           }
          ],
          "mesh3d": [
           {
            "colorbar": {
             "outlinewidth": 0,
             "ticks": ""
            },
            "type": "mesh3d"
           }
          ],
          "parcoords": [
           {
            "line": {
             "colorbar": {
              "outlinewidth": 0,
              "ticks": ""
             }
            },
            "type": "parcoords"
           }
          ],
          "pie": [
           {
            "automargin": true,
            "type": "pie"
           }
          ],
          "scatter": [
           {
            "fillpattern": {
             "fillmode": "overlay",
             "size": 10,
             "solidity": 0.2
            },
            "type": "scatter"
           }
          ],
          "scatter3d": [
           {
            "line": {
             "colorbar": {
              "outlinewidth": 0,
              "ticks": ""
             }
            },
            "marker": {
             "colorbar": {
              "outlinewidth": 0,
              "ticks": ""
             }
            },
            "type": "scatter3d"
           }
          ],
          "scattercarpet": [
           {
            "marker": {
             "colorbar": {
              "outlinewidth": 0,
              "ticks": ""
             }
            },
            "type": "scattercarpet"
           }
          ],
          "scattergeo": [
           {
            "marker": {
             "colorbar": {
              "outlinewidth": 0,
              "ticks": ""
             }
            },
            "type": "scattergeo"
           }
          ],
          "scattergl": [
           {
            "marker": {
             "colorbar": {
              "outlinewidth": 0,
              "ticks": ""
             }
            },
            "type": "scattergl"
           }
          ],
          "scattermapbox": [
           {
            "marker": {
             "colorbar": {
              "outlinewidth": 0,
              "ticks": ""
             }
            },
            "type": "scattermapbox"
           }
          ],
          "scatterpolar": [
           {
            "marker": {
             "colorbar": {
              "outlinewidth": 0,
              "ticks": ""
             }
            },
            "type": "scatterpolar"
           }
          ],
          "scatterpolargl": [
           {
            "marker": {
             "colorbar": {
              "outlinewidth": 0,
              "ticks": ""
             }
            },
            "type": "scatterpolargl"
           }
          ],
          "scatterternary": [
           {
            "marker": {
             "colorbar": {
              "outlinewidth": 0,
              "ticks": ""
             }
            },
            "type": "scatterternary"
           }
          ],
          "surface": [
           {
            "colorbar": {
             "outlinewidth": 0,
             "ticks": ""
            },
            "colorscale": [
             [
              0,
              "#0d0887"
             ],
             [
              0.1111111111111111,
              "#46039f"
             ],
             [
              0.2222222222222222,
              "#7201a8"
             ],
             [
              0.3333333333333333,
              "#9c179e"
             ],
             [
              0.4444444444444444,
              "#bd3786"
             ],
             [
              0.5555555555555556,
              "#d8576b"
             ],
             [
              0.6666666666666666,
              "#ed7953"
             ],
             [
              0.7777777777777778,
              "#fb9f3a"
             ],
             [
              0.8888888888888888,
              "#fdca26"
             ],
             [
              1,
              "#f0f921"
             ]
            ],
            "type": "surface"
           }
          ],
          "table": [
           {
            "cells": {
             "fill": {
              "color": "#EBF0F8"
             },
             "line": {
              "color": "white"
             }
            },
            "header": {
             "fill": {
              "color": "#C8D4E3"
             },
             "line": {
              "color": "white"
             }
            },
            "type": "table"
           }
          ]
         },
         "layout": {
          "annotationdefaults": {
           "arrowcolor": "#2a3f5f",
           "arrowhead": 0,
           "arrowwidth": 1
          },
          "autotypenumbers": "strict",
          "coloraxis": {
           "colorbar": {
            "outlinewidth": 0,
            "ticks": ""
           }
          },
          "colorscale": {
           "diverging": [
            [
             0,
             "#8e0152"
            ],
            [
             0.1,
             "#c51b7d"
            ],
            [
             0.2,
             "#de77ae"
            ],
            [
             0.3,
             "#f1b6da"
            ],
            [
             0.4,
             "#fde0ef"
            ],
            [
             0.5,
             "#f7f7f7"
            ],
            [
             0.6,
             "#e6f5d0"
            ],
            [
             0.7,
             "#b8e186"
            ],
            [
             0.8,
             "#7fbc41"
            ],
            [
             0.9,
             "#4d9221"
            ],
            [
             1,
             "#276419"
            ]
           ],
           "sequential": [
            [
             0,
             "#0d0887"
            ],
            [
             0.1111111111111111,
             "#46039f"
            ],
            [
             0.2222222222222222,
             "#7201a8"
            ],
            [
             0.3333333333333333,
             "#9c179e"
            ],
            [
             0.4444444444444444,
             "#bd3786"
            ],
            [
             0.5555555555555556,
             "#d8576b"
            ],
            [
             0.6666666666666666,
             "#ed7953"
            ],
            [
             0.7777777777777778,
             "#fb9f3a"
            ],
            [
             0.8888888888888888,
             "#fdca26"
            ],
            [
             1,
             "#f0f921"
            ]
           ],
           "sequentialminus": [
            [
             0,
             "#0d0887"
            ],
            [
             0.1111111111111111,
             "#46039f"
            ],
            [
             0.2222222222222222,
             "#7201a8"
            ],
            [
             0.3333333333333333,
             "#9c179e"
            ],
            [
             0.4444444444444444,
             "#bd3786"
            ],
            [
             0.5555555555555556,
             "#d8576b"
            ],
            [
             0.6666666666666666,
             "#ed7953"
            ],
            [
             0.7777777777777778,
             "#fb9f3a"
            ],
            [
             0.8888888888888888,
             "#fdca26"
            ],
            [
             1,
             "#f0f921"
            ]
           ]
          },
          "colorway": [
           "#636efa",
           "#EF553B",
           "#00cc96",
           "#ab63fa",
           "#FFA15A",
           "#19d3f3",
           "#FF6692",
           "#B6E880",
           "#FF97FF",
           "#FECB52"
          ],
          "font": {
           "color": "#2a3f5f"
          },
          "geo": {
           "bgcolor": "white",
           "lakecolor": "white",
           "landcolor": "#E5ECF6",
           "showlakes": true,
           "showland": true,
           "subunitcolor": "white"
          },
          "hoverlabel": {
           "align": "left"
          },
          "hovermode": "closest",
          "mapbox": {
           "style": "light"
          },
          "paper_bgcolor": "white",
          "plot_bgcolor": "#E5ECF6",
          "polar": {
           "angularaxis": {
            "gridcolor": "white",
            "linecolor": "white",
            "ticks": ""
           },
           "bgcolor": "#E5ECF6",
           "radialaxis": {
            "gridcolor": "white",
            "linecolor": "white",
            "ticks": ""
           }
          },
          "scene": {
           "xaxis": {
            "backgroundcolor": "#E5ECF6",
            "gridcolor": "white",
            "gridwidth": 2,
            "linecolor": "white",
            "showbackground": true,
            "ticks": "",
            "zerolinecolor": "white"
           },
           "yaxis": {
            "backgroundcolor": "#E5ECF6",
            "gridcolor": "white",
            "gridwidth": 2,
            "linecolor": "white",
            "showbackground": true,
            "ticks": "",
            "zerolinecolor": "white"
           },
           "zaxis": {
            "backgroundcolor": "#E5ECF6",
            "gridcolor": "white",
            "gridwidth": 2,
            "linecolor": "white",
            "showbackground": true,
            "ticks": "",
            "zerolinecolor": "white"
           }
          },
          "shapedefaults": {
           "line": {
            "color": "#2a3f5f"
           }
          },
          "ternary": {
           "aaxis": {
            "gridcolor": "white",
            "linecolor": "white",
            "ticks": ""
           },
           "baxis": {
            "gridcolor": "white",
            "linecolor": "white",
            "ticks": ""
           },
           "bgcolor": "#E5ECF6",
           "caxis": {
            "gridcolor": "white",
            "linecolor": "white",
            "ticks": ""
           }
          },
          "title": {
           "x": 0.05
          },
          "xaxis": {
           "automargin": true,
           "gridcolor": "white",
           "linecolor": "white",
           "ticks": "",
           "title": {
            "standoff": 15
           },
           "zerolinecolor": "white",
           "zerolinewidth": 2
          },
          "yaxis": {
           "automargin": true,
           "gridcolor": "white",
           "linecolor": "white",
           "ticks": "",
           "title": {
            "standoff": 15
           },
           "zerolinecolor": "white",
           "zerolinewidth": 2
          }
         }
        },
        "title": {
         "text": "Local AcME: observation ID 1442. Predicted: 0.584",
         "x": 0.5,
         "xanchor": "center",
         "y": 0.9,
         "yanchor": "top"
        },
        "xaxis": {
         "anchor": "y",
         "domain": [
          0,
          1
         ],
         "title": {
          "text": "predict"
         }
        },
        "yaxis": {
         "anchor": "x",
         "domain": [
          0,
          1
         ],
         "title": {
          "text": "feature"
         }
        }
       }
      }
     },
     "metadata": {},
     "output_type": "display_data"
    }
   ],
   "source": [
    "random_loc_exp = random.choice(local_explanations)\n",
    "what_if = random_loc_exp.summary_plot(local=True, n_features=10) \n",
    "what_if.show()\n",
    "what_if.update_layout(width=100*15, height=100*6, font=dict(size=18))\n",
    "what_if.write_image('results/TEP_local_random.pdf')"
   ]
  },
  {
   "cell_type": "markdown",
   "metadata": {},
   "source": [
    "Explain an anomaly with 'middle' anomaly score"
   ]
  },
  {
   "cell_type": "code",
   "execution_count": 19,
   "metadata": {},
   "outputs": [
    {
     "name": "stdout",
     "output_type": "stream",
     "text": [
      "Using default weights for anomaly detection feature importance\n"
     ]
    },
    {
     "data": {
      "application/vnd.plotly.v1+json": {
       "config": {
        "plotlyServerURL": "https://plot.ly"
       },
       "data": [
        {
         "customdata": [
          [
           77.441
          ],
          [
           77.427
          ],
          [
           77.413
          ],
          [
           77.399
          ],
          [
           77.333
          ],
          [
           77.372
          ],
          [
           77.359
          ],
          [
           77.346
          ],
          [
           77.386
          ],
          [
           77.455
          ],
          [
           77.764
          ],
          [
           77.487
          ],
          [
           77.504
          ],
          [
           77.523
          ],
          [
           77.542
          ],
          [
           77.564
          ],
          [
           77.586
          ],
          [
           77.611
          ],
          [
           77.639
          ],
          [
           77.673
          ],
          [
           77.712
          ],
          [
           77.32
          ],
          [
           77.47
          ],
          [
           77.307
          ],
          [
           77.163
          ],
          [
           77.2945
          ],
          [
           77.992
          ],
          [
           76.921
          ],
          [
           76.954
          ],
          [
           76.981
          ],
          [
           77.006
          ],
          [
           77.028
          ],
          [
           77.048
          ],
          [
           77.067
          ],
          [
           77.085
          ],
          [
           77.102
          ],
          [
           77.295
          ],
          [
           77.118
          ],
          [
           77.147
          ],
          [
           77.177
          ],
          [
           77.19
          ],
          [
           77.203
          ],
          [
           77.217
          ],
          [
           77.231
          ],
          [
           77.244
          ],
          [
           77.257
          ],
          [
           77.27
          ],
          [
           77.282
          ],
          [
           77.133
          ],
          [
           76.824
          ],
          [
           76.879
          ],
          [
           18.272
          ],
          [
           18.75
          ],
          [
           18.737
          ],
          [
           18.723
          ],
          [
           18.709
          ],
          [
           18.696
          ],
          [
           18.68
          ],
          [
           18.666
          ],
          [
           18.649
          ],
          [
           18.632
          ],
          [
           18.615
          ],
          [
           18.763
          ],
          [
           18.597
          ],
          [
           18.559
          ],
          [
           18.541
          ],
          [
           18.522
          ],
          [
           18.501
          ],
          [
           18.479
          ],
          [
           18.454
          ],
          [
           18.431
          ],
          [
           18.401
          ],
          [
           18.366
          ],
          [
           18.324
          ],
          [
           18.579
          ],
          [
           18.776
          ],
          [
           19.347
          ],
          [
           18.788
          ],
          [
           19.288
          ],
          [
           19.234
          ],
          [
           19.193
          ],
          [
           19.158
          ],
          [
           19.125
          ],
          [
           19.099
          ],
          [
           18.7785
          ],
          [
           19.053
          ],
          [
           19.032
          ],
          [
           19.012
          ],
          [
           18.992
          ],
          [
           19.076
          ],
          [
           18.958
          ],
          [
           18.974
          ],
          [
           18.817
          ],
          [
           18.831
          ],
          [
           18.847
          ],
          [
           18.861
          ],
          [
           18.803
          ],
          [
           18.892
          ],
          [
           18.907
          ],
          [
           18.923
          ],
          [
           18.941
          ],
          [
           18.877
          ],
          [
           230.56
          ],
          [
           230.15
          ],
          [
           229.76
          ],
          [
           229.3
          ],
          [
           228.85
          ],
          [
           228.41
          ],
          [
           227.95
          ],
          [
           227.45
          ],
          [
           226.95
          ],
          [
           226.41
          ],
          [
           214.7295
          ],
          [
           225.16
          ],
          [
           224.51
          ],
          [
           223.81
          ],
          [
           223.03
          ],
          [
           222.2
          ],
          [
           221.37
          ],
          [
           220.39
          ],
          [
           219.23
          ],
          [
           218.06
          ],
          [
           216.62
          ],
          [
           230.97
          ],
          [
           225.79
          ],
          [
           231.36
          ],
          [
           237.41
          ],
          [
           232.2286
          ],
          [
           286.27
          ],
          [
           248.7
          ],
          [
           247.05
          ],
          [
           245.68
          ],
          [
           244.5262
          ],
          [
           243.48
          ],
          [
           242.49
          ],
          [
           241.61
          ],
          [
           240.76
          ],
          [
           240.01
          ],
          [
           239.31
          ],
          [
           238.64
          ],
          [
           238.01
          ],
          [
           236.8306
          ],
          [
           236.28
          ],
          [
           235.76
          ],
          [
           235.2
          ],
          [
           234.66
          ],
          [
           234.16
          ],
          [
           233.65
          ],
          [
           233.15
          ],
          [
           232.69
          ],
          [
           232.4947
          ],
          [
           231.77
          ],
          [
           251.2905
          ],
          [
           65.075
          ],
          [
           65.803
          ],
          [
           65.842
          ],
          [
           65.861
          ],
          [
           65.882
          ],
          [
           65.905
          ],
          [
           65.927
          ],
          [
           65.951
          ],
          [
           65.974
          ],
          [
           65.997
          ],
          [
           66.021
          ],
          [
           66.045
          ],
          [
           65.822
          ],
          [
           66.072
          ],
          [
           66.132
          ],
          [
           66.163
          ],
          [
           66.198
          ],
          [
           66.232
          ],
          [
           66.27
          ],
          [
           66.316
          ],
          [
           66.365
          ],
          [
           66.419
          ],
          [
           66.485
          ],
          [
           68.878
          ],
          [
           66.101
          ],
          [
           65.8135
          ],
          [
           66.576
          ],
          [
           65.785
          ],
          [
           65.159
          ],
          [
           65.223
          ],
          [
           65.275
          ],
          [
           65.32
          ],
          [
           65.359
          ],
          [
           65.395
          ],
          [
           65.425
          ],
          [
           65.454
          ],
          [
           65.482
          ],
          [
           65.51
          ],
          [
           65.535
          ],
          [
           65.561
          ],
          [
           65.584
          ],
          [
           65.606
          ],
          [
           65.627
          ],
          [
           65.647
          ],
          [
           65.668
          ],
          [
           65.687
          ],
          [
           65.705
          ],
          [
           65.721
          ],
          [
           65.737
          ],
          [
           65.752
          ],
          [
           65.768
          ],
          [
           4440.3
          ],
          [
           4453
          ],
          [
           4457.6
          ],
          [
           4447.2
          ],
          [
           4515.5
          ],
          [
           4517.4
          ],
          [
           4519.2
          ],
          [
           4521.2
          ],
          [
           4523.1
          ],
          [
           4525.1
          ],
          [
           4527.2
          ],
          [
           4529.3
          ],
          [
           4531.6
          ],
          [
           4533.9
          ],
          [
           4536.1
          ],
          [
           4538.7
          ],
          [
           4541.4
          ],
          [
           4544.2
          ],
          [
           4547.2912
          ],
          [
           4550.5
          ],
          [
           4554.1
          ],
          [
           4558
          ],
          [
           4562.7
          ],
          [
           4567.9
          ],
          [
           4573.7
          ],
          [
           4513.7
          ],
          [
           4574.605
          ],
          [
           4511.7
          ],
          [
           4508
          ],
          [
           4461.3
          ],
          [
           4464.7
          ],
          [
           4468.3
          ],
          [
           4471.4
          ],
          [
           4474.4
          ],
          [
           4476.9
          ],
          [
           4479.5
          ],
          [
           4481.9
          ],
          [
           4484.3
          ],
          [
           4486.5
          ],
          [
           4488.6
          ],
          [
           4490.8
          ],
          [
           4492.9
          ],
          [
           4494.7
          ],
          [
           4496.7
          ],
          [
           4498.7
          ],
          [
           4500.5
          ],
          [
           4502.4
          ],
          [
           4504.2
          ],
          [
           4506.1
          ],
          [
           4507.6504
          ],
          [
           4509.9
          ],
          [
           75.769
          ],
          [
           75.703
          ],
          [
           75.845
          ],
          [
           74.9995
          ],
          [
           75.028
          ],
          [
           75.054
          ],
          [
           75.081
          ],
          [
           75.107
          ],
          [
           75.133
          ],
          [
           75.16
          ],
          [
           75.187
          ],
          [
           75.2144
          ],
          [
           75.2437
          ],
          [
           75.274
          ],
          [
           75.303
          ],
          [
           75.334
          ],
          [
           75.368
          ],
          [
           75.401
          ],
          [
           75.436
          ],
          [
           75.472
          ],
          [
           75.511
          ],
          [
           75.55
          ],
          [
           75.598
          ],
          [
           75.647
          ],
          [
           76.345
          ],
          [
           75.941
          ],
          [
           74.9701
          ],
          [
           74.917
          ],
          [
           74.058
          ],
          [
           74.153
          ],
          [
           74.229
          ],
          [
           74.294
          ],
          [
           74.351
          ],
          [
           74.4
          ],
          [
           74.449
          ],
          [
           74.491
          ],
          [
           74.531
          ],
          [
           74.567
          ],
          [
           74.601
          ],
          [
           74.634
          ],
          [
           74.666
          ],
          [
           74.696
          ],
          [
           74.724
          ],
          [
           74.753
          ],
          [
           74.781
          ],
          [
           74.81
          ],
          [
           74.838
          ],
          [
           74.864
          ],
          [
           74.891
          ],
          [
           74.945
          ],
          [
           74.999
          ],
          [
           42.974
          ],
          [
           43.845
          ],
          [
           43.8195
          ],
          [
           43.812
          ],
          [
           43.788
          ],
          [
           43.765
          ],
          [
           43.739
          ],
          [
           43.713
          ],
          [
           43.689
          ],
          [
           43.661
          ],
          [
           43.638
          ],
          [
           43.61
          ],
          [
           43.582
          ],
          [
           43.551
          ],
          [
           43.518
          ],
          [
           43.49
          ],
          [
           43.463
          ],
          [
           43.422
          ],
          [
           43.386
          ],
          [
           43.349
          ],
          [
           43.313
          ],
          [
           43.264
          ],
          [
           43.224
          ],
          [
           43.828
          ],
          [
           43.179
          ],
          [
           43.87
          ],
          [
           43.893
          ],
          [
           44.839
          ],
          [
           44.652
          ],
          [
           44.5747
          ],
          [
           44.512
          ],
          [
           44.456
          ],
          [
           44.403
          ],
          [
           44.361
          ],
          [
           44.323
          ],
          [
           44.285
          ],
          [
           44.252
          ],
          [
           44.218
          ],
          [
           44.188
          ],
          [
           44.158
          ],
          [
           44.128
          ],
          [
           44.097
          ],
          [
           44.068
          ],
          [
           44.038
          ],
          [
           44.0134
          ],
          [
           43.986
          ],
          [
           43.958
          ],
          [
           43.935
          ],
          [
           43.913
          ],
          [
           43.054
          ],
          [
           43.128
          ],
          [
           0.8694
          ],
          [
           0.8649
          ],
          [
           0.8028
          ],
          [
           0.8381
          ],
          [
           0.839
          ],
          [
           0.84
          ],
          [
           0.841
          ],
          [
           0.8418
          ],
          [
           0.8428
          ],
          [
           0.8438
          ],
          [
           0.8448
          ],
          [
           0.8456
          ],
          [
           0.8465
          ],
          [
           0.8475
          ],
          [
           0.8488
          ],
          [
           0.8498
          ],
          [
           0.851
          ],
          [
           0.8522
          ],
          [
           0.8541
          ],
          [
           0.8559
          ],
          [
           0.8575
          ],
          [
           0.8594
          ],
          [
           0.8617
          ],
          [
           0.7698
          ],
          [
           0.8372
          ],
          [
           0.8363
          ],
          [
           0.8357
          ],
          [
           0.835
          ],
          [
           0.8359
          ],
          [
           0.8097
          ],
          [
           0.8122
          ],
          [
           0.8142
          ],
          [
           0.8159
          ],
          [
           0.8175
          ],
          [
           0.819
          ],
          [
           0.8203
          ],
          [
           0.8217
          ],
          [
           0.8228
          ],
          [
           0.8241
          ],
          [
           0.8067
          ],
          [
           0.8259
          ],
          [
           0.8268
          ],
          [
           0.8278
          ],
          [
           0.8287
          ],
          [
           0.8297
          ],
          [
           0.8307
          ],
          [
           0.8317
          ],
          [
           0.8326
          ],
          [
           0.8335
          ],
          [
           0.8343
          ],
          [
           0.825
          ],
          [
           49.175
          ],
          [
           49.017
          ],
          [
           48.864
          ],
          [
           48.315
          ],
          [
           48.577
          ],
          [
           48.444
          ],
          [
           49.331
          ],
          [
           48.194
          ],
          [
           48.719
          ],
          [
           49.492
          ],
          [
           50.442
          ],
          [
           49.8175
          ],
          [
           50.0068
          ],
          [
           50.208
          ],
          [
           50.6709
          ],
          [
           50.926
          ],
          [
           51.229
          ],
          [
           51.558
          ],
          [
           51.9003
          ],
          [
           48.0795
          ],
          [
           52.3247
          ],
          [
           49.645
          ],
          [
           48.069
          ],
          [
           46.7079
          ],
          [
           47.829
          ],
          [
           43.4389
          ],
          [
           44.305
          ],
          [
           44.616
          ],
          [
           44.8914
          ],
          [
           45.1437
          ],
          [
           45.3671
          ],
          [
           45.584
          ],
          [
           45.777
          ],
          [
           45.9602
          ],
          [
           46.113
          ],
          [
           47.946
          ],
          [
           46.27
          ],
          [
           46.568
          ],
          [
           46.8403
          ],
          [
           46.974
          ],
          [
           47.099
          ],
          [
           47.225
          ],
          [
           47.3277
          ],
          [
           47.409
          ],
          [
           47.493
          ],
          [
           47.594
          ],
          [
           47.707
          ],
          [
           46.421
          ],
          [
           43.947
          ],
          [
           64.709
          ],
          [
           52.9921
          ],
          [
           80.132
          ],
          [
           80.142
          ],
          [
           80.153
          ],
          [
           80.164
          ],
          [
           80.177
          ],
          [
           80.189
          ],
          [
           80.201
          ],
          [
           80.213
          ],
          [
           80.227
          ],
          [
           80.241
          ],
          [
           80.255
          ],
          [
           79.681
          ],
          [
           80.284
          ],
          [
           80.299
          ],
          [
           80.316
          ],
          [
           80.333
          ],
          [
           80.352
          ],
          [
           80.372
          ],
          [
           80.394
          ],
          [
           80.418
          ],
          [
           80.448
          ],
          [
           80.483
          ],
          [
           80.532
          ],
          [
           80.121
          ],
          [
           80.27
          ],
          [
           80.109
          ],
          [
           80.098
          ],
          [
           79.731
          ],
          [
           79.768
          ],
          [
           79.799
          ],
          [
           79.825
          ],
          [
           79.848
          ],
          [
           79.869
          ],
          [
           79.887
          ],
          [
           79.904
          ],
          [
           79.921
          ],
          [
           79.935
          ],
          [
           80.1075
          ],
          [
           79.95
          ],
          [
           79.978
          ],
          [
           79.991
          ],
          [
           80.005
          ],
          [
           80.018
          ],
          [
           80.03
          ],
          [
           80.041
          ],
          [
           80.053
          ],
          [
           80.065
          ],
          [
           80.076
          ],
          [
           80.087
          ],
          [
           79.964
          ],
          [
           81.513
          ]
         ],
         "hovertemplate": "Feature: <b>%{y}</b><br><br>Predict: %{x}<br>Original value: %{customdata[0]}<br>Quantile: %{marker.color}",
         "legendgroup": "",
         "marker": {
          "color": [
           0.7062,
           0.6875,
           0.6688,
           0.65,
           0.5562,
           0.6125,
           0.5938,
           0.575,
           0.6312,
           0.725,
           0.95,
           0.7625,
           0.7812,
           0.8,
           0.8188,
           0.8375,
           0.8562,
           0.875,
           0.8938,
           0.9125,
           0.9312,
           0.5375,
           0.7438,
           0.5188,
           0.3125,
           0.4999,
           0.9838,
           0.0875,
           0.1062,
           0.125,
           0.1438,
           0.1625,
           0.1813,
           0.2,
           0.2188,
           0.2375,
           0.5,
           0.2562,
           0.2938,
           0.3312,
           0.35,
           0.3687,
           0.3875,
           0.4062,
           0.425,
           0.4438,
           0.4625,
           0.4812,
           0.275,
           0.05,
           0.0688,
           0.05,
           0.4625,
           0.4438,
           0.425,
           0.4062,
           0.3875,
           0.3687,
           0.35,
           0.3312,
           0.3125,
           0.2938,
           0.4812,
           0.275,
           0.2375,
           0.2188,
           0.2,
           0.1813,
           0.1625,
           0.1438,
           0.125,
           0.1062,
           0.0875,
           0.0688,
           0.2562,
           0.5,
           0.9655,
           0.5188,
           0.95,
           0.9312,
           0.9125,
           0.8938,
           0.875,
           0.8562,
           0.5057,
           0.8188,
           0.8,
           0.7812,
           0.7625,
           0.8375,
           0.725,
           0.7438,
           0.5562,
           0.575,
           0.5938,
           0.6125,
           0.5375,
           0.65,
           0.6688,
           0.6875,
           0.7062,
           0.6312,
           0.4438,
           0.425,
           0.4062,
           0.3875,
           0.3687,
           0.35,
           0.3312,
           0.3125,
           0.2938,
           0.275,
           0.05,
           0.2375,
           0.2188,
           0.2,
           0.1813,
           0.1625,
           0.1438,
           0.125,
           0.1062,
           0.0875,
           0.0688,
           0.4625,
           0.2562,
           0.4812,
           0.7062,
           0.5188,
           0.9944,
           0.9312,
           0.9125,
           0.8938,
           0.875,
           0.8562,
           0.8375,
           0.8188,
           0.8,
           0.7812,
           0.7625,
           0.7438,
           0.725,
           0.6875,
           0.6688,
           0.65,
           0.6312,
           0.6125,
           0.5938,
           0.575,
           0.5562,
           0.5375,
           0.5298,
           0.5,
           0.95,
           0.05,
           0.5188,
           0.5562,
           0.575,
           0.5938,
           0.6125,
           0.6312,
           0.65,
           0.6688,
           0.6875,
           0.7062,
           0.725,
           0.5375,
           0.7438,
           0.7812,
           0.8,
           0.8188,
           0.8375,
           0.8562,
           0.875,
           0.8938,
           0.9125,
           0.9312,
           0.9962,
           0.7625,
           0.5293,
           0.95,
           0.5,
           0.0688,
           0.0875,
           0.1062,
           0.125,
           0.1438,
           0.1625,
           0.1813,
           0.2,
           0.2188,
           0.2375,
           0.2562,
           0.275,
           0.2938,
           0.3125,
           0.3312,
           0.35,
           0.3687,
           0.3875,
           0.4062,
           0.425,
           0.4438,
           0.4625,
           0.4812,
           0.05,
           0.0875,
           0.1062,
           0.0688,
           0.575,
           0.5938,
           0.6125,
           0.6312,
           0.65,
           0.6688,
           0.6875,
           0.7062,
           0.725,
           0.7438,
           0.7625,
           0.7812,
           0.8,
           0.8188,
           0.8375,
           0.8562,
           0.875,
           0.8938,
           0.9125,
           0.9312,
           0.9478,
           0.5562,
           0.95,
           0.5375,
           0.5,
           0.125,
           0.1438,
           0.1625,
           0.1813,
           0.2,
           0.2188,
           0.2375,
           0.2562,
           0.275,
           0.2938,
           0.3125,
           0.3312,
           0.35,
           0.3687,
           0.3875,
           0.4062,
           0.425,
           0.4438,
           0.4625,
           0.4812,
           0.496,
           0.5188,
           0.9125,
           0.8938,
           0.9312,
           0.5003,
           0.5188,
           0.5375,
           0.5562,
           0.575,
           0.5938,
           0.6125,
           0.6312,
           0.65,
           0.6688,
           0.6875,
           0.7062,
           0.725,
           0.7438,
           0.7625,
           0.7812,
           0.8,
           0.8188,
           0.8375,
           0.8562,
           0.875,
           0.9857,
           0.95,
           0.4812,
           0.4438,
           0.05,
           0.0688,
           0.0875,
           0.1062,
           0.125,
           0.1438,
           0.1625,
           0.1813,
           0.2,
           0.2188,
           0.2375,
           0.2562,
           0.275,
           0.2938,
           0.3125,
           0.3312,
           0.35,
           0.3687,
           0.3875,
           0.4062,
           0.425,
           0.4625,
           0.5,
           0.05,
           0.5188,
           0.4871,
           0.4812,
           0.4625,
           0.4438,
           0.425,
           0.4062,
           0.3875,
           0.3687,
           0.35,
           0.3312,
           0.3125,
           0.2938,
           0.275,
           0.2562,
           0.2375,
           0.2188,
           0.2,
           0.1813,
           0.1625,
           0.1438,
           0.125,
           0.5,
           0.1062,
           0.5375,
           0.5562,
           0.9797,
           0.95,
           0.9312,
           0.9125,
           0.8938,
           0.875,
           0.8562,
           0.8375,
           0.8188,
           0.8,
           0.7812,
           0.7625,
           0.7438,
           0.725,
           0.7062,
           0.6875,
           0.6688,
           0.65,
           0.6312,
           0.6125,
           0.5938,
           0.575,
           0.0688,
           0.0875,
           0.95,
           0.9312,
           0.05,
           0.5562,
           0.575,
           0.5938,
           0.6125,
           0.6312,
           0.65,
           0.6688,
           0.6875,
           0.7062,
           0.725,
           0.7438,
           0.7625,
           0.7812,
           0.8,
           0.8188,
           0.8375,
           0.8562,
           0.875,
           0.8938,
           0.9125,
           0.0097,
           0.5375,
           0.5188,
           0.5,
           0.4812,
           0.509,
           0.0875,
           0.1062,
           0.125,
           0.1438,
           0.1625,
           0.1813,
           0.2,
           0.2188,
           0.2375,
           0.2562,
           0.0688,
           0.2938,
           0.3125,
           0.3312,
           0.35,
           0.3687,
           0.3875,
           0.4062,
           0.425,
           0.4438,
           0.4625,
           0.275,
           0.6875,
           0.6688,
           0.65,
           0.575,
           0.6125,
           0.5938,
           0.7062,
           0.5562,
           0.6312,
           0.725,
           0.8188,
           0.7625,
           0.7812,
           0.8,
           0.8375,
           0.8562,
           0.875,
           0.8938,
           0.9125,
           0.5394,
           0.9312,
           0.7438,
           0.5375,
           0.3125,
           0.5,
           0.05,
           0.0875,
           0.1062,
           0.125,
           0.1438,
           0.1625,
           0.1813,
           0.2,
           0.2188,
           0.2375,
           0.5188,
           0.2562,
           0.2938,
           0.3312,
           0.35,
           0.3687,
           0.3875,
           0.4062,
           0.425,
           0.4438,
           0.4625,
           0.4812,
           0.275,
           0.0688,
           0.9953,
           0.95,
           0.5375,
           0.5562,
           0.575,
           0.5938,
           0.6125,
           0.6312,
           0.65,
           0.6688,
           0.6875,
           0.7062,
           0.725,
           0.05,
           0.7625,
           0.7812,
           0.8,
           0.8188,
           0.8375,
           0.8562,
           0.875,
           0.8938,
           0.9125,
           0.9312,
           0.95,
           0.5188,
           0.7438,
           0.5,
           0.4812,
           0.0688,
           0.0875,
           0.1062,
           0.125,
           0.1438,
           0.1625,
           0.1813,
           0.2,
           0.2188,
           0.2375,
           0.4977,
           0.2562,
           0.2938,
           0.3125,
           0.3312,
           0.35,
           0.3687,
           0.3875,
           0.4062,
           0.425,
           0.4438,
           0.4625,
           0.275,
           0.9916
          ],
          "coloraxis": "coloraxis",
          "size": [
           0.05,
           0.05,
           0.05,
           0.05,
           0.05,
           0.05,
           0.05,
           0.05,
           0.05,
           0.05,
           0.05,
           0.05,
           0.05,
           0.05,
           0.05,
           0.05,
           0.05,
           0.05,
           0.05,
           0.05,
           0.05,
           0.05,
           0.05,
           0.05,
           0.05,
           0.05,
           0.3,
           0.05,
           0.05,
           0.05,
           0.05,
           0.05,
           0.05,
           0.05,
           0.05,
           0.05,
           0.05,
           0.05,
           0.05,
           0.05,
           0.05,
           0.05,
           0.05,
           0.05,
           0.05,
           0.05,
           0.05,
           0.05,
           0.05,
           0.05,
           0.05,
           0.05,
           0.05,
           0.05,
           0.05,
           0.05,
           0.05,
           0.05,
           0.05,
           0.05,
           0.05,
           0.05,
           0.05,
           0.05,
           0.05,
           0.05,
           0.05,
           0.05,
           0.05,
           0.05,
           0.05,
           0.05,
           0.05,
           0.05,
           0.05,
           0.05,
           0.3,
           0.05,
           0.05,
           0.05,
           0.05,
           0.05,
           0.05,
           0.05,
           0.05,
           0.05,
           0.05,
           0.05,
           0.05,
           0.05,
           0.05,
           0.05,
           0.05,
           0.05,
           0.05,
           0.05,
           0.05,
           0.05,
           0.05,
           0.05,
           0.05,
           0.05,
           0.05,
           0.05,
           0.05,
           0.05,
           0.05,
           0.05,
           0.05,
           0.05,
           0.05,
           0.05,
           0.05,
           0.05,
           0.05,
           0.05,
           0.05,
           0.05,
           0.05,
           0.05,
           0.05,
           0.05,
           0.05,
           0.05,
           0.05,
           0.05,
           0.05,
           0.05,
           0.3,
           0.05,
           0.05,
           0.05,
           0.05,
           0.05,
           0.05,
           0.05,
           0.05,
           0.05,
           0.05,
           0.05,
           0.05,
           0.05,
           0.05,
           0.05,
           0.05,
           0.05,
           0.05,
           0.05,
           0.05,
           0.05,
           0.05,
           0.05,
           0.05,
           0.05,
           0.05,
           0.05,
           0.05,
           0.05,
           0.05,
           0.05,
           0.05,
           0.05,
           0.05,
           0.05,
           0.05,
           0.05,
           0.05,
           0.05,
           0.05,
           0.05,
           0.05,
           0.05,
           0.05,
           0.05,
           0.05,
           0.05,
           0.3,
           0.05,
           0.05,
           0.05,
           0.05,
           0.05,
           0.05,
           0.05,
           0.05,
           0.05,
           0.05,
           0.05,
           0.05,
           0.05,
           0.05,
           0.05,
           0.05,
           0.05,
           0.05,
           0.05,
           0.05,
           0.05,
           0.05,
           0.05,
           0.05,
           0.05,
           0.05,
           0.05,
           0.05,
           0.05,
           0.05,
           0.05,
           0.05,
           0.05,
           0.05,
           0.05,
           0.05,
           0.05,
           0.05,
           0.05,
           0.05,
           0.05,
           0.05,
           0.05,
           0.05,
           0.05,
           0.05,
           0.05,
           0.05,
           0.05,
           0.05,
           0.05,
           0.3,
           0.05,
           0.05,
           0.05,
           0.05,
           0.05,
           0.05,
           0.05,
           0.05,
           0.05,
           0.05,
           0.05,
           0.05,
           0.05,
           0.05,
           0.05,
           0.05,
           0.05,
           0.05,
           0.05,
           0.05,
           0.05,
           0.05,
           0.05,
           0.05,
           0.05,
           0.05,
           0.05,
           0.05,
           0.05,
           0.05,
           0.05,
           0.05,
           0.05,
           0.05,
           0.05,
           0.05,
           0.05,
           0.05,
           0.05,
           0.05,
           0.05,
           0.05,
           0.05,
           0.05,
           0.05,
           0.05,
           0.05,
           0.05,
           0.05,
           0.05,
           0.3,
           0.05,
           0.05,
           0.05,
           0.05,
           0.05,
           0.05,
           0.05,
           0.05,
           0.05,
           0.05,
           0.05,
           0.05,
           0.05,
           0.05,
           0.05,
           0.05,
           0.05,
           0.05,
           0.05,
           0.05,
           0.05,
           0.05,
           0.05,
           0.05,
           0.05,
           0.05,
           0.05,
           0.05,
           0.05,
           0.05,
           0.05,
           0.05,
           0.05,
           0.05,
           0.05,
           0.05,
           0.05,
           0.05,
           0.05,
           0.05,
           0.05,
           0.05,
           0.05,
           0.05,
           0.05,
           0.05,
           0.05,
           0.05,
           0.05,
           0.05,
           0.05,
           0.05,
           0.05,
           0.3,
           0.05,
           0.05,
           0.05,
           0.05,
           0.05,
           0.05,
           0.05,
           0.05,
           0.05,
           0.05,
           0.05,
           0.05,
           0.05,
           0.05,
           0.05,
           0.05,
           0.05,
           0.05,
           0.05,
           0.05,
           0.05,
           0.05,
           0.05,
           0.05,
           0.05,
           0.05,
           0.05,
           0.05,
           0.05,
           0.05,
           0.05,
           0.05,
           0.05,
           0.05,
           0.05,
           0.05,
           0.05,
           0.05,
           0.05,
           0.05,
           0.05,
           0.05,
           0.05,
           0.05,
           0.05,
           0.05,
           0.3,
           0.05,
           0.05,
           0.05,
           0.05,
           0.05,
           0.05,
           0.05,
           0.05,
           0.05,
           0.05,
           0.05,
           0.05,
           0.05,
           0.05,
           0.05,
           0.05,
           0.05,
           0.05,
           0.05,
           0.05,
           0.05,
           0.05,
           0.05,
           0.05,
           0.05,
           0.05,
           0.05,
           0.05,
           0.05,
           0.05,
           0.05,
           0.05,
           0.05,
           0.05,
           0.05,
           0.05,
           0.05,
           0.05,
           0.05,
           0.05,
           0.05,
           0.05,
           0.05,
           0.05,
           0.05,
           0.05,
           0.05,
           0.05,
           0.05,
           0.05,
           0.05,
           0.05,
           0.05,
           0.05,
           0.05,
           0.05,
           0.05,
           0.05,
           0.05,
           0.05,
           0.05,
           0.05,
           0.05,
           0.05,
           0.05,
           0.05,
           0.05,
           0.05,
           0.05,
           0.05,
           0.05,
           0.05,
           0.05,
           0.05,
           0.05,
           0.05,
           0.3,
           0.05,
           0.05,
           0.05,
           0.05,
           0.05,
           0.05,
           0.05,
           0.05,
           0.05,
           0.05,
           0.05,
           0.05,
           0.05,
           0.05,
           0.05,
           0.05,
           0.05,
           0.05,
           0.05,
           0.05,
           0.05,
           0.05,
           0.05,
           0.05,
           0.05,
           0.05,
           0.05,
           0.05,
           0.05,
           0.05,
           0.05,
           0.05,
           0.05,
           0.05,
           0.05,
           0.05,
           0.05,
           0.05,
           0.05,
           0.05,
           0.05,
           0.05,
           0.05,
           0.05,
           0.05,
           0.05,
           0.05,
           0.05,
           0.05,
           0.05,
           0.05,
           0.3
          ],
          "sizemode": "area",
          "sizeref": 0.00075,
          "symbol": "circle"
         },
         "mode": "markers",
         "name": "",
         "orientation": "h",
         "showlegend": false,
         "type": "scatter",
         "x": [
          0.5032,
          0.5032,
          0.5032,
          0.5032,
          0.5032,
          0.5032,
          0.5032,
          0.5032,
          0.5032,
          0.5032,
          0.505,
          0.5035,
          0.5035,
          0.5035,
          0.5035,
          0.5039,
          0.5042,
          0.5042,
          0.5048,
          0.5048,
          0.5048,
          0.5035,
          0.5035,
          0.5035,
          0.5047,
          0.504,
          0.506,
          0.5048,
          0.5045,
          0.5045,
          0.5045,
          0.5045,
          0.5045,
          0.5045,
          0.5045,
          0.5045,
          0.504,
          0.5045,
          0.5047,
          0.5049,
          0.5047,
          0.5045,
          0.5045,
          0.5045,
          0.5045,
          0.5045,
          0.5045,
          0.5045,
          0.5047,
          0.5053,
          0.5048,
          0.5047,
          0.5029,
          0.5029,
          0.5029,
          0.5029,
          0.5029,
          0.503,
          0.503,
          0.503,
          0.503,
          0.503,
          0.5033,
          0.503,
          0.503,
          0.503,
          0.503,
          0.503,
          0.503,
          0.503,
          0.503,
          0.5043,
          0.5047,
          0.5047,
          0.503,
          0.5033,
          0.506,
          0.5033,
          0.5053,
          0.5053,
          0.5053,
          0.505,
          0.505,
          0.505,
          0.5033,
          0.5048,
          0.5047,
          0.5047,
          0.5047,
          0.505,
          0.504,
          0.504,
          0.5033,
          0.5033,
          0.5033,
          0.5035,
          0.5033,
          0.5035,
          0.5035,
          0.5035,
          0.504,
          0.5035,
          0.5029,
          0.5029,
          0.5029,
          0.503,
          0.503,
          0.503,
          0.503,
          0.503,
          0.503,
          0.503,
          0.5038,
          0.503,
          0.503,
          0.5031,
          0.5031,
          0.5031,
          0.5038,
          0.5038,
          0.5038,
          0.5038,
          0.5038,
          0.5029,
          0.503,
          0.5029,
          0.503,
          0.5029,
          0.506,
          0.5036,
          0.5035,
          0.5035,
          0.5035,
          0.503,
          0.503,
          0.503,
          0.503,
          0.503,
          0.503,
          0.503,
          0.503,
          0.5029,
          0.5029,
          0.5029,
          0.5029,
          0.5029,
          0.5029,
          0.5029,
          0.5029,
          0.5029,
          0.5029,
          0.5029,
          0.5036,
          0.5037,
          0.5029,
          0.5029,
          0.5029,
          0.5027,
          0.5028,
          0.5028,
          0.5028,
          0.5036,
          0.5036,
          0.5036,
          0.5037,
          0.5029,
          0.5037,
          0.5037,
          0.5037,
          0.5037,
          0.5037,
          0.5039,
          0.5039,
          0.5039,
          0.5039,
          0.5043,
          0.506,
          0.5037,
          0.5029,
          0.5043,
          0.5032,
          0.5037,
          0.5032,
          0.5032,
          0.5032,
          0.5032,
          0.5032,
          0.5032,
          0.5032,
          0.5031,
          0.5031,
          0.5031,
          0.5031,
          0.5031,
          0.5031,
          0.5031,
          0.5031,
          0.5031,
          0.5031,
          0.5031,
          0.5031,
          0.5031,
          0.5031,
          0.5032,
          0.5056,
          0.5049,
          0.5043,
          0.5056,
          0.503,
          0.503,
          0.503,
          0.503,
          0.503,
          0.5032,
          0.5032,
          0.5032,
          0.5032,
          0.5035,
          0.5035,
          0.5035,
          0.5035,
          0.5039,
          0.5048,
          0.5049,
          0.5053,
          0.5053,
          0.5054,
          0.5054,
          0.506,
          0.503,
          0.506,
          0.503,
          0.503,
          0.5041,
          0.5041,
          0.5037,
          0.5037,
          0.5031,
          0.5031,
          0.503,
          0.503,
          0.503,
          0.503,
          0.503,
          0.503,
          0.503,
          0.5026,
          0.5026,
          0.5026,
          0.5026,
          0.5028,
          0.5028,
          0.503,
          0.503,
          0.503,
          0.505,
          0.5048,
          0.5053,
          0.5033,
          0.5033,
          0.5033,
          0.5033,
          0.5033,
          0.5038,
          0.5038,
          0.5038,
          0.5038,
          0.5038,
          0.5038,
          0.5038,
          0.5038,
          0.5043,
          0.5044,
          0.5044,
          0.5044,
          0.5044,
          0.5044,
          0.5044,
          0.5044,
          0.506,
          0.5053,
          0.5033,
          0.5033,
          0.5036,
          0.5027,
          0.5027,
          0.5027,
          0.5027,
          0.5029,
          0.5026,
          0.5026,
          0.5026,
          0.5026,
          0.5026,
          0.5026,
          0.5026,
          0.5028,
          0.5028,
          0.5028,
          0.5028,
          0.5028,
          0.5028,
          0.5033,
          0.5033,
          0.5033,
          0.5033,
          0.5047,
          0.5029,
          0.5029,
          0.5029,
          0.5029,
          0.5035,
          0.5035,
          0.5032,
          0.5032,
          0.5032,
          0.5032,
          0.5032,
          0.5032,
          0.5032,
          0.5033,
          0.5033,
          0.5033,
          0.5042,
          0.5042,
          0.5042,
          0.5042,
          0.5042,
          0.5042,
          0.5029,
          0.5042,
          0.5024,
          0.5024,
          0.506,
          0.5042,
          0.5042,
          0.5042,
          0.5032,
          0.5032,
          0.5032,
          0.5032,
          0.5032,
          0.5032,
          0.5031,
          0.5031,
          0.5031,
          0.5024,
          0.5024,
          0.5024,
          0.5024,
          0.5024,
          0.5024,
          0.5024,
          0.5024,
          0.5024,
          0.5047,
          0.5047,
          0.5011,
          0.5007,
          0.5025,
          0.5006,
          0.5006,
          0.5006,
          0.5006,
          0.5006,
          0.5006,
          0.5006,
          0.5006,
          0.5005,
          0.5005,
          0.5005,
          0.5005,
          0.5005,
          0.5005,
          0.5005,
          0.5009,
          0.5009,
          0.5009,
          0.5007,
          0.5007,
          0.506,
          0.5002,
          0.5001,
          0.5006,
          0.5006,
          0.5006,
          0.502,
          0.502,
          0.5017,
          0.5017,
          0.5017,
          0.5017,
          0.5007,
          0.5007,
          0.5007,
          0.5007,
          0.5025,
          0.5007,
          0.5007,
          0.5007,
          0.5007,
          0.5007,
          0.5007,
          0.5007,
          0.5007,
          0.5006,
          0.5006,
          0.5007,
          0.5,
          0.5,
          0.5,
          0.5,
          0.5,
          0.5,
          0.5,
          0.5,
          0.5,
          0.5,
          0.5003,
          0.5003,
          0.5002,
          0.5002,
          0.5003,
          0.5003,
          0.5008,
          0.5008,
          0.5013,
          0.5,
          0.502,
          0.5,
          0.5,
          0.4999,
          0.4999,
          0.5006,
          0.5007,
          0.5003,
          0.5003,
          0.5001,
          0.5001,
          0.4997,
          0.4997,
          0.4997,
          0.4999,
          0.5,
          0.4999,
          0.4999,
          0.4999,
          0.4999,
          0.4999,
          0.4999,
          0.4999,
          0.4999,
          0.4999,
          0.4999,
          0.4999,
          0.4999,
          0.5007,
          0.506,
          0.502,
          0.4996,
          0.4996,
          0.4996,
          0.4996,
          0.4996,
          0.4996,
          0.4996,
          0.4996,
          0.4996,
          0.4996,
          0.4996,
          0.5005,
          0.4996,
          0.4996,
          0.4996,
          0.4999,
          0.4999,
          0.4999,
          0.5003,
          0.5006,
          0.5006,
          0.5006,
          0.5008,
          0.4996,
          0.4996,
          0.4996,
          0.4996,
          0.5005,
          0.4997,
          0.4997,
          0.4997,
          0.4994,
          0.4994,
          0.4994,
          0.4994,
          0.4994,
          0.4994,
          0.4996,
          0.4994,
          0.4994,
          0.4994,
          0.4994,
          0.4994,
          0.4994,
          0.4994,
          0.4994,
          0.4994,
          0.4994,
          0.4996,
          0.4994,
          0.506
         ],
         "xaxis": "x",
         "y": [
          "xmeas_22",
          "xmeas_22",
          "xmeas_22",
          "xmeas_22",
          "xmeas_22",
          "xmeas_22",
          "xmeas_22",
          "xmeas_22",
          "xmeas_22",
          "xmeas_22",
          "xmeas_22",
          "xmeas_22",
          "xmeas_22",
          "xmeas_22",
          "xmeas_22",
          "xmeas_22",
          "xmeas_22",
          "xmeas_22",
          "xmeas_22",
          "xmeas_22",
          "xmeas_22",
          "xmeas_22",
          "xmeas_22",
          "xmeas_22",
          "xmeas_22",
          "xmeas_22",
          "xmeas_22",
          "xmeas_22",
          "xmeas_22",
          "xmeas_22",
          "xmeas_22",
          "xmeas_22",
          "xmeas_22",
          "xmeas_22",
          "xmeas_22",
          "xmeas_22",
          "xmeas_22",
          "xmeas_22",
          "xmeas_22",
          "xmeas_22",
          "xmeas_22",
          "xmeas_22",
          "xmeas_22",
          "xmeas_22",
          "xmeas_22",
          "xmeas_22",
          "xmeas_22",
          "xmeas_22",
          "xmeas_22",
          "xmeas_22",
          "xmeas_22",
          "xmeas_27",
          "xmeas_27",
          "xmeas_27",
          "xmeas_27",
          "xmeas_27",
          "xmeas_27",
          "xmeas_27",
          "xmeas_27",
          "xmeas_27",
          "xmeas_27",
          "xmeas_27",
          "xmeas_27",
          "xmeas_27",
          "xmeas_27",
          "xmeas_27",
          "xmeas_27",
          "xmeas_27",
          "xmeas_27",
          "xmeas_27",
          "xmeas_27",
          "xmeas_27",
          "xmeas_27",
          "xmeas_27",
          "xmeas_27",
          "xmeas_27",
          "xmeas_27",
          "xmeas_27",
          "xmeas_27",
          "xmeas_27",
          "xmeas_27",
          "xmeas_27",
          "xmeas_27",
          "xmeas_27",
          "xmeas_27",
          "xmeas_27",
          "xmeas_27",
          "xmeas_27",
          "xmeas_27",
          "xmeas_27",
          "xmeas_27",
          "xmeas_27",
          "xmeas_27",
          "xmeas_27",
          "xmeas_27",
          "xmeas_27",
          "xmeas_27",
          "xmeas_27",
          "xmeas_27",
          "xmeas_27",
          "xmeas_27",
          "xmeas_27",
          "xmeas_19",
          "xmeas_19",
          "xmeas_19",
          "xmeas_19",
          "xmeas_19",
          "xmeas_19",
          "xmeas_19",
          "xmeas_19",
          "xmeas_19",
          "xmeas_19",
          "xmeas_19",
          "xmeas_19",
          "xmeas_19",
          "xmeas_19",
          "xmeas_19",
          "xmeas_19",
          "xmeas_19",
          "xmeas_19",
          "xmeas_19",
          "xmeas_19",
          "xmeas_19",
          "xmeas_19",
          "xmeas_19",
          "xmeas_19",
          "xmeas_19",
          "xmeas_19",
          "xmeas_19",
          "xmeas_19",
          "xmeas_19",
          "xmeas_19",
          "xmeas_19",
          "xmeas_19",
          "xmeas_19",
          "xmeas_19",
          "xmeas_19",
          "xmeas_19",
          "xmeas_19",
          "xmeas_19",
          "xmeas_19",
          "xmeas_19",
          "xmeas_19",
          "xmeas_19",
          "xmeas_19",
          "xmeas_19",
          "xmeas_19",
          "xmeas_19",
          "xmeas_19",
          "xmeas_19",
          "xmeas_19",
          "xmeas_19",
          "xmeas_19",
          "xmeas_18",
          "xmeas_18",
          "xmeas_18",
          "xmeas_18",
          "xmeas_18",
          "xmeas_18",
          "xmeas_18",
          "xmeas_18",
          "xmeas_18",
          "xmeas_18",
          "xmeas_18",
          "xmeas_18",
          "xmeas_18",
          "xmeas_18",
          "xmeas_18",
          "xmeas_18",
          "xmeas_18",
          "xmeas_18",
          "xmeas_18",
          "xmeas_18",
          "xmeas_18",
          "xmeas_18",
          "xmeas_18",
          "xmeas_18",
          "xmeas_18",
          "xmeas_18",
          "xmeas_18",
          "xmeas_18",
          "xmeas_18",
          "xmeas_18",
          "xmeas_18",
          "xmeas_18",
          "xmeas_18",
          "xmeas_18",
          "xmeas_18",
          "xmeas_18",
          "xmeas_18",
          "xmeas_18",
          "xmeas_18",
          "xmeas_18",
          "xmeas_18",
          "xmeas_18",
          "xmeas_18",
          "xmeas_18",
          "xmeas_18",
          "xmeas_18",
          "xmeas_18",
          "xmeas_18",
          "xmeas_18",
          "xmeas_18",
          "xmeas_18",
          "xmeas_3",
          "xmeas_3",
          "xmeas_3",
          "xmeas_3",
          "xmeas_3",
          "xmeas_3",
          "xmeas_3",
          "xmeas_3",
          "xmeas_3",
          "xmeas_3",
          "xmeas_3",
          "xmeas_3",
          "xmeas_3",
          "xmeas_3",
          "xmeas_3",
          "xmeas_3",
          "xmeas_3",
          "xmeas_3",
          "xmeas_3",
          "xmeas_3",
          "xmeas_3",
          "xmeas_3",
          "xmeas_3",
          "xmeas_3",
          "xmeas_3",
          "xmeas_3",
          "xmeas_3",
          "xmeas_3",
          "xmeas_3",
          "xmeas_3",
          "xmeas_3",
          "xmeas_3",
          "xmeas_3",
          "xmeas_3",
          "xmeas_3",
          "xmeas_3",
          "xmeas_3",
          "xmeas_3",
          "xmeas_3",
          "xmeas_3",
          "xmeas_3",
          "xmeas_3",
          "xmeas_3",
          "xmeas_3",
          "xmeas_3",
          "xmeas_3",
          "xmeas_3",
          "xmeas_3",
          "xmeas_3",
          "xmeas_3",
          "xmeas_3",
          "xmeas_8",
          "xmeas_8",
          "xmeas_8",
          "xmeas_8",
          "xmeas_8",
          "xmeas_8",
          "xmeas_8",
          "xmeas_8",
          "xmeas_8",
          "xmeas_8",
          "xmeas_8",
          "xmeas_8",
          "xmeas_8",
          "xmeas_8",
          "xmeas_8",
          "xmeas_8",
          "xmeas_8",
          "xmeas_8",
          "xmeas_8",
          "xmeas_8",
          "xmeas_8",
          "xmeas_8",
          "xmeas_8",
          "xmeas_8",
          "xmeas_8",
          "xmeas_8",
          "xmeas_8",
          "xmeas_8",
          "xmeas_8",
          "xmeas_8",
          "xmeas_8",
          "xmeas_8",
          "xmeas_8",
          "xmeas_8",
          "xmeas_8",
          "xmeas_8",
          "xmeas_8",
          "xmeas_8",
          "xmeas_8",
          "xmeas_8",
          "xmeas_8",
          "xmeas_8",
          "xmeas_8",
          "xmeas_8",
          "xmeas_8",
          "xmeas_8",
          "xmeas_8",
          "xmeas_8",
          "xmeas_8",
          "xmeas_8",
          "xmeas_8",
          "xmeas_41",
          "xmeas_41",
          "xmeas_41",
          "xmeas_41",
          "xmeas_41",
          "xmeas_41",
          "xmeas_41",
          "xmeas_41",
          "xmeas_41",
          "xmeas_41",
          "xmeas_41",
          "xmeas_41",
          "xmeas_41",
          "xmeas_41",
          "xmeas_41",
          "xmeas_41",
          "xmeas_41",
          "xmeas_41",
          "xmeas_41",
          "xmeas_41",
          "xmeas_41",
          "xmeas_41",
          "xmeas_41",
          "xmeas_41",
          "xmeas_41",
          "xmeas_41",
          "xmeas_41",
          "xmeas_41",
          "xmeas_41",
          "xmeas_41",
          "xmeas_41",
          "xmeas_41",
          "xmeas_41",
          "xmeas_41",
          "xmeas_41",
          "xmeas_41",
          "xmeas_41",
          "xmeas_41",
          "xmeas_41",
          "xmeas_41",
          "xmeas_41",
          "xmeas_41",
          "xmeas_41",
          "xmeas_41",
          "xmeas_41",
          "xmeas_41",
          "xmeas_41",
          "xmeas_41",
          "xmeas_41",
          "xmeas_41",
          "xmeas_41",
          "xmeas_38",
          "xmeas_38",
          "xmeas_38",
          "xmeas_38",
          "xmeas_38",
          "xmeas_38",
          "xmeas_38",
          "xmeas_38",
          "xmeas_38",
          "xmeas_38",
          "xmeas_38",
          "xmeas_38",
          "xmeas_38",
          "xmeas_38",
          "xmeas_38",
          "xmeas_38",
          "xmeas_38",
          "xmeas_38",
          "xmeas_38",
          "xmeas_38",
          "xmeas_38",
          "xmeas_38",
          "xmeas_38",
          "xmeas_38",
          "xmeas_38",
          "xmeas_38",
          "xmeas_38",
          "xmeas_38",
          "xmeas_38",
          "xmeas_38",
          "xmeas_38",
          "xmeas_38",
          "xmeas_38",
          "xmeas_38",
          "xmeas_38",
          "xmeas_38",
          "xmeas_38",
          "xmeas_38",
          "xmeas_38",
          "xmeas_38",
          "xmeas_38",
          "xmeas_38",
          "xmeas_38",
          "xmeas_38",
          "xmeas_38",
          "xmeas_38",
          "xmeas_38",
          "xmeas_38",
          "xmeas_38",
          "xmeas_38",
          "xmeas_38",
          "xmv_9",
          "xmv_9",
          "xmv_9",
          "xmv_9",
          "xmv_9",
          "xmv_9",
          "xmv_9",
          "xmv_9",
          "xmv_9",
          "xmv_9",
          "xmv_9",
          "xmv_9",
          "xmv_9",
          "xmv_9",
          "xmv_9",
          "xmv_9",
          "xmv_9",
          "xmv_9",
          "xmv_9",
          "xmv_9",
          "xmv_9",
          "xmv_9",
          "xmv_9",
          "xmv_9",
          "xmv_9",
          "xmv_9",
          "xmv_9",
          "xmv_9",
          "xmv_9",
          "xmv_9",
          "xmv_9",
          "xmv_9",
          "xmv_9",
          "xmv_9",
          "xmv_9",
          "xmv_9",
          "xmv_9",
          "xmv_9",
          "xmv_9",
          "xmv_9",
          "xmv_9",
          "xmv_9",
          "xmv_9",
          "xmv_9",
          "xmv_9",
          "xmv_9",
          "xmv_9",
          "xmv_9",
          "xmv_9",
          "xmv_9",
          "xmv_9",
          "xmeas_11",
          "xmeas_11",
          "xmeas_11",
          "xmeas_11",
          "xmeas_11",
          "xmeas_11",
          "xmeas_11",
          "xmeas_11",
          "xmeas_11",
          "xmeas_11",
          "xmeas_11",
          "xmeas_11",
          "xmeas_11",
          "xmeas_11",
          "xmeas_11",
          "xmeas_11",
          "xmeas_11",
          "xmeas_11",
          "xmeas_11",
          "xmeas_11",
          "xmeas_11",
          "xmeas_11",
          "xmeas_11",
          "xmeas_11",
          "xmeas_11",
          "xmeas_11",
          "xmeas_11",
          "xmeas_11",
          "xmeas_11",
          "xmeas_11",
          "xmeas_11",
          "xmeas_11",
          "xmeas_11",
          "xmeas_11",
          "xmeas_11",
          "xmeas_11",
          "xmeas_11",
          "xmeas_11",
          "xmeas_11",
          "xmeas_11",
          "xmeas_11",
          "xmeas_11",
          "xmeas_11",
          "xmeas_11",
          "xmeas_11",
          "xmeas_11",
          "xmeas_11",
          "xmeas_11",
          "xmeas_11",
          "xmeas_11",
          "xmeas_11"
         ],
         "yaxis": "y"
        }
       ],
       "layout": {
        "coloraxis": {
         "colorbar": {
          "title": {
           "text": "quantile"
          }
         },
         "colorscale": [
          [
           0,
           "midnightblue"
          ],
          [
           0.5,
           "lightskyblue"
          ],
          [
           1,
           "limegreen"
          ]
         ]
        },
        "legend": {
         "itemsizing": "constant",
         "tracegroupgap": 0
        },
        "shapes": [
         {
          "line": {
           "color": "red",
           "dash": "dash",
           "width": 2
          },
          "type": "line",
          "x0": 0.5060089976890828,
          "x1": 0.5060089976890828,
          "y0": "xmeas_22",
          "y1": "xmeas_11"
         },
         {
          "line": {
           "color": "black",
           "dash": "solid",
           "width": 2
          },
          "type": "line",
          "x0": 0.5,
          "x1": 0.5,
          "y0": "xmeas_22",
          "y1": "xmeas_11"
         }
        ],
        "template": {
         "data": {
          "bar": [
           {
            "error_x": {
             "color": "#2a3f5f"
            },
            "error_y": {
             "color": "#2a3f5f"
            },
            "marker": {
             "line": {
              "color": "#E5ECF6",
              "width": 0.5
             },
             "pattern": {
              "fillmode": "overlay",
              "size": 10,
              "solidity": 0.2
             }
            },
            "type": "bar"
           }
          ],
          "barpolar": [
           {
            "marker": {
             "line": {
              "color": "#E5ECF6",
              "width": 0.5
             },
             "pattern": {
              "fillmode": "overlay",
              "size": 10,
              "solidity": 0.2
             }
            },
            "type": "barpolar"
           }
          ],
          "carpet": [
           {
            "aaxis": {
             "endlinecolor": "#2a3f5f",
             "gridcolor": "white",
             "linecolor": "white",
             "minorgridcolor": "white",
             "startlinecolor": "#2a3f5f"
            },
            "baxis": {
             "endlinecolor": "#2a3f5f",
             "gridcolor": "white",
             "linecolor": "white",
             "minorgridcolor": "white",
             "startlinecolor": "#2a3f5f"
            },
            "type": "carpet"
           }
          ],
          "choropleth": [
           {
            "colorbar": {
             "outlinewidth": 0,
             "ticks": ""
            },
            "type": "choropleth"
           }
          ],
          "contour": [
           {
            "colorbar": {
             "outlinewidth": 0,
             "ticks": ""
            },
            "colorscale": [
             [
              0,
              "#0d0887"
             ],
             [
              0.1111111111111111,
              "#46039f"
             ],
             [
              0.2222222222222222,
              "#7201a8"
             ],
             [
              0.3333333333333333,
              "#9c179e"
             ],
             [
              0.4444444444444444,
              "#bd3786"
             ],
             [
              0.5555555555555556,
              "#d8576b"
             ],
             [
              0.6666666666666666,
              "#ed7953"
             ],
             [
              0.7777777777777778,
              "#fb9f3a"
             ],
             [
              0.8888888888888888,
              "#fdca26"
             ],
             [
              1,
              "#f0f921"
             ]
            ],
            "type": "contour"
           }
          ],
          "contourcarpet": [
           {
            "colorbar": {
             "outlinewidth": 0,
             "ticks": ""
            },
            "type": "contourcarpet"
           }
          ],
          "heatmap": [
           {
            "colorbar": {
             "outlinewidth": 0,
             "ticks": ""
            },
            "colorscale": [
             [
              0,
              "#0d0887"
             ],
             [
              0.1111111111111111,
              "#46039f"
             ],
             [
              0.2222222222222222,
              "#7201a8"
             ],
             [
              0.3333333333333333,
              "#9c179e"
             ],
             [
              0.4444444444444444,
              "#bd3786"
             ],
             [
              0.5555555555555556,
              "#d8576b"
             ],
             [
              0.6666666666666666,
              "#ed7953"
             ],
             [
              0.7777777777777778,
              "#fb9f3a"
             ],
             [
              0.8888888888888888,
              "#fdca26"
             ],
             [
              1,
              "#f0f921"
             ]
            ],
            "type": "heatmap"
           }
          ],
          "heatmapgl": [
           {
            "colorbar": {
             "outlinewidth": 0,
             "ticks": ""
            },
            "colorscale": [
             [
              0,
              "#0d0887"
             ],
             [
              0.1111111111111111,
              "#46039f"
             ],
             [
              0.2222222222222222,
              "#7201a8"
             ],
             [
              0.3333333333333333,
              "#9c179e"
             ],
             [
              0.4444444444444444,
              "#bd3786"
             ],
             [
              0.5555555555555556,
              "#d8576b"
             ],
             [
              0.6666666666666666,
              "#ed7953"
             ],
             [
              0.7777777777777778,
              "#fb9f3a"
             ],
             [
              0.8888888888888888,
              "#fdca26"
             ],
             [
              1,
              "#f0f921"
             ]
            ],
            "type": "heatmapgl"
           }
          ],
          "histogram": [
           {
            "marker": {
             "pattern": {
              "fillmode": "overlay",
              "size": 10,
              "solidity": 0.2
             }
            },
            "type": "histogram"
           }
          ],
          "histogram2d": [
           {
            "colorbar": {
             "outlinewidth": 0,
             "ticks": ""
            },
            "colorscale": [
             [
              0,
              "#0d0887"
             ],
             [
              0.1111111111111111,
              "#46039f"
             ],
             [
              0.2222222222222222,
              "#7201a8"
             ],
             [
              0.3333333333333333,
              "#9c179e"
             ],
             [
              0.4444444444444444,
              "#bd3786"
             ],
             [
              0.5555555555555556,
              "#d8576b"
             ],
             [
              0.6666666666666666,
              "#ed7953"
             ],
             [
              0.7777777777777778,
              "#fb9f3a"
             ],
             [
              0.8888888888888888,
              "#fdca26"
             ],
             [
              1,
              "#f0f921"
             ]
            ],
            "type": "histogram2d"
           }
          ],
          "histogram2dcontour": [
           {
            "colorbar": {
             "outlinewidth": 0,
             "ticks": ""
            },
            "colorscale": [
             [
              0,
              "#0d0887"
             ],
             [
              0.1111111111111111,
              "#46039f"
             ],
             [
              0.2222222222222222,
              "#7201a8"
             ],
             [
              0.3333333333333333,
              "#9c179e"
             ],
             [
              0.4444444444444444,
              "#bd3786"
             ],
             [
              0.5555555555555556,
              "#d8576b"
             ],
             [
              0.6666666666666666,
              "#ed7953"
             ],
             [
              0.7777777777777778,
              "#fb9f3a"
             ],
             [
              0.8888888888888888,
              "#fdca26"
             ],
             [
              1,
              "#f0f921"
             ]
            ],
            "type": "histogram2dcontour"
           }
          ],
          "mesh3d": [
           {
            "colorbar": {
             "outlinewidth": 0,
             "ticks": ""
            },
            "type": "mesh3d"
           }
          ],
          "parcoords": [
           {
            "line": {
             "colorbar": {
              "outlinewidth": 0,
              "ticks": ""
             }
            },
            "type": "parcoords"
           }
          ],
          "pie": [
           {
            "automargin": true,
            "type": "pie"
           }
          ],
          "scatter": [
           {
            "fillpattern": {
             "fillmode": "overlay",
             "size": 10,
             "solidity": 0.2
            },
            "type": "scatter"
           }
          ],
          "scatter3d": [
           {
            "line": {
             "colorbar": {
              "outlinewidth": 0,
              "ticks": ""
             }
            },
            "marker": {
             "colorbar": {
              "outlinewidth": 0,
              "ticks": ""
             }
            },
            "type": "scatter3d"
           }
          ],
          "scattercarpet": [
           {
            "marker": {
             "colorbar": {
              "outlinewidth": 0,
              "ticks": ""
             }
            },
            "type": "scattercarpet"
           }
          ],
          "scattergeo": [
           {
            "marker": {
             "colorbar": {
              "outlinewidth": 0,
              "ticks": ""
             }
            },
            "type": "scattergeo"
           }
          ],
          "scattergl": [
           {
            "marker": {
             "colorbar": {
              "outlinewidth": 0,
              "ticks": ""
             }
            },
            "type": "scattergl"
           }
          ],
          "scattermapbox": [
           {
            "marker": {
             "colorbar": {
              "outlinewidth": 0,
              "ticks": ""
             }
            },
            "type": "scattermapbox"
           }
          ],
          "scatterpolar": [
           {
            "marker": {
             "colorbar": {
              "outlinewidth": 0,
              "ticks": ""
             }
            },
            "type": "scatterpolar"
           }
          ],
          "scatterpolargl": [
           {
            "marker": {
             "colorbar": {
              "outlinewidth": 0,
              "ticks": ""
             }
            },
            "type": "scatterpolargl"
           }
          ],
          "scatterternary": [
           {
            "marker": {
             "colorbar": {
              "outlinewidth": 0,
              "ticks": ""
             }
            },
            "type": "scatterternary"
           }
          ],
          "surface": [
           {
            "colorbar": {
             "outlinewidth": 0,
             "ticks": ""
            },
            "colorscale": [
             [
              0,
              "#0d0887"
             ],
             [
              0.1111111111111111,
              "#46039f"
             ],
             [
              0.2222222222222222,
              "#7201a8"
             ],
             [
              0.3333333333333333,
              "#9c179e"
             ],
             [
              0.4444444444444444,
              "#bd3786"
             ],
             [
              0.5555555555555556,
              "#d8576b"
             ],
             [
              0.6666666666666666,
              "#ed7953"
             ],
             [
              0.7777777777777778,
              "#fb9f3a"
             ],
             [
              0.8888888888888888,
              "#fdca26"
             ],
             [
              1,
              "#f0f921"
             ]
            ],
            "type": "surface"
           }
          ],
          "table": [
           {
            "cells": {
             "fill": {
              "color": "#EBF0F8"
             },
             "line": {
              "color": "white"
             }
            },
            "header": {
             "fill": {
              "color": "#C8D4E3"
             },
             "line": {
              "color": "white"
             }
            },
            "type": "table"
           }
          ]
         },
         "layout": {
          "annotationdefaults": {
           "arrowcolor": "#2a3f5f",
           "arrowhead": 0,
           "arrowwidth": 1
          },
          "autotypenumbers": "strict",
          "coloraxis": {
           "colorbar": {
            "outlinewidth": 0,
            "ticks": ""
           }
          },
          "colorscale": {
           "diverging": [
            [
             0,
             "#8e0152"
            ],
            [
             0.1,
             "#c51b7d"
            ],
            [
             0.2,
             "#de77ae"
            ],
            [
             0.3,
             "#f1b6da"
            ],
            [
             0.4,
             "#fde0ef"
            ],
            [
             0.5,
             "#f7f7f7"
            ],
            [
             0.6,
             "#e6f5d0"
            ],
            [
             0.7,
             "#b8e186"
            ],
            [
             0.8,
             "#7fbc41"
            ],
            [
             0.9,
             "#4d9221"
            ],
            [
             1,
             "#276419"
            ]
           ],
           "sequential": [
            [
             0,
             "#0d0887"
            ],
            [
             0.1111111111111111,
             "#46039f"
            ],
            [
             0.2222222222222222,
             "#7201a8"
            ],
            [
             0.3333333333333333,
             "#9c179e"
            ],
            [
             0.4444444444444444,
             "#bd3786"
            ],
            [
             0.5555555555555556,
             "#d8576b"
            ],
            [
             0.6666666666666666,
             "#ed7953"
            ],
            [
             0.7777777777777778,
             "#fb9f3a"
            ],
            [
             0.8888888888888888,
             "#fdca26"
            ],
            [
             1,
             "#f0f921"
            ]
           ],
           "sequentialminus": [
            [
             0,
             "#0d0887"
            ],
            [
             0.1111111111111111,
             "#46039f"
            ],
            [
             0.2222222222222222,
             "#7201a8"
            ],
            [
             0.3333333333333333,
             "#9c179e"
            ],
            [
             0.4444444444444444,
             "#bd3786"
            ],
            [
             0.5555555555555556,
             "#d8576b"
            ],
            [
             0.6666666666666666,
             "#ed7953"
            ],
            [
             0.7777777777777778,
             "#fb9f3a"
            ],
            [
             0.8888888888888888,
             "#fdca26"
            ],
            [
             1,
             "#f0f921"
            ]
           ]
          },
          "colorway": [
           "#636efa",
           "#EF553B",
           "#00cc96",
           "#ab63fa",
           "#FFA15A",
           "#19d3f3",
           "#FF6692",
           "#B6E880",
           "#FF97FF",
           "#FECB52"
          ],
          "font": {
           "color": "#2a3f5f"
          },
          "geo": {
           "bgcolor": "white",
           "lakecolor": "white",
           "landcolor": "#E5ECF6",
           "showlakes": true,
           "showland": true,
           "subunitcolor": "white"
          },
          "hoverlabel": {
           "align": "left"
          },
          "hovermode": "closest",
          "mapbox": {
           "style": "light"
          },
          "paper_bgcolor": "white",
          "plot_bgcolor": "#E5ECF6",
          "polar": {
           "angularaxis": {
            "gridcolor": "white",
            "linecolor": "white",
            "ticks": ""
           },
           "bgcolor": "#E5ECF6",
           "radialaxis": {
            "gridcolor": "white",
            "linecolor": "white",
            "ticks": ""
           }
          },
          "scene": {
           "xaxis": {
            "backgroundcolor": "#E5ECF6",
            "gridcolor": "white",
            "gridwidth": 2,
            "linecolor": "white",
            "showbackground": true,
            "ticks": "",
            "zerolinecolor": "white"
           },
           "yaxis": {
            "backgroundcolor": "#E5ECF6",
            "gridcolor": "white",
            "gridwidth": 2,
            "linecolor": "white",
            "showbackground": true,
            "ticks": "",
            "zerolinecolor": "white"
           },
           "zaxis": {
            "backgroundcolor": "#E5ECF6",
            "gridcolor": "white",
            "gridwidth": 2,
            "linecolor": "white",
            "showbackground": true,
            "ticks": "",
            "zerolinecolor": "white"
           }
          },
          "shapedefaults": {
           "line": {
            "color": "#2a3f5f"
           }
          },
          "ternary": {
           "aaxis": {
            "gridcolor": "white",
            "linecolor": "white",
            "ticks": ""
           },
           "baxis": {
            "gridcolor": "white",
            "linecolor": "white",
            "ticks": ""
           },
           "bgcolor": "#E5ECF6",
           "caxis": {
            "gridcolor": "white",
            "linecolor": "white",
            "ticks": ""
           }
          },
          "title": {
           "x": 0.05
          },
          "xaxis": {
           "automargin": true,
           "gridcolor": "white",
           "linecolor": "white",
           "ticks": "",
           "title": {
            "standoff": 15
           },
           "zerolinecolor": "white",
           "zerolinewidth": 2
          },
          "yaxis": {
           "automargin": true,
           "gridcolor": "white",
           "linecolor": "white",
           "ticks": "",
           "title": {
            "standoff": 15
           },
           "zerolinecolor": "white",
           "zerolinewidth": 2
          }
         }
        },
        "title": {
         "text": "Local AcME: observation ID 225. Predicted: 0.506",
         "x": 0.5,
         "xanchor": "center",
         "y": 0.9,
         "yanchor": "top"
        },
        "xaxis": {
         "anchor": "y",
         "domain": [
          0,
          1
         ],
         "title": {
          "text": "predict"
         }
        },
        "yaxis": {
         "anchor": "x",
         "domain": [
          0,
          1
         ],
         "title": {
          "text": "feature"
         }
        }
       }
      }
     },
     "metadata": {},
     "output_type": "display_data"
    }
   ],
   "source": [
    "data_to_explain['Abs_Diff'] = np.abs(data_to_explain['Score'] - 0.506)\n",
    "random_anomaly = data_to_explain.loc[data_to_explain['Abs_Diff'].idxmin()]\n",
    "\n",
    "acme_exp_2 = ACME(ad_model, 'Score', features=features, task='ad', score_function=if_score_function)\n",
    "acme_exp_2.explain(data_12, robust=True)\n",
    "\n",
    "acme_loc_example = acme_exp_2.explain_local(pd.Series(random_anomaly))\n",
    "what_if_fig = acme_loc_example.summary_plot(local=True, n_features=10)\n",
    "what_if_fig.show()"
   ]
  }
 ],
 "metadata": {
  "kernelspec": {
   "display_name": "Python 3 (ipykernel)",
   "language": "python",
   "name": "python3"
  },
  "language_info": {
   "codemirror_mode": {
    "name": "ipython",
    "version": 3
   },
   "file_extension": ".py",
   "mimetype": "text/x-python",
   "name": "python",
   "nbconvert_exporter": "python",
   "pygments_lexer": "ipython3",
   "version": "3.11.5"
  }
 },
 "nbformat": 4,
 "nbformat_minor": 4
}
