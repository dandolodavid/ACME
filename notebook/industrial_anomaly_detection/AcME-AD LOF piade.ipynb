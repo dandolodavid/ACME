{
 "cells": [
  {
   "cell_type": "code",
   "execution_count": 1,
   "metadata": {},
   "outputs": [],
   "source": [
    "import numpy as np\n",
    "import pandas as pd \n",
    "import random \n",
    "import copy \n",
    "import warnings\n",
    "import sys\n",
    "import pickle\n",
    "\n",
    "from tqdm import tqdm\n",
    "from copy import deepcopy\n",
    "from pyod.models.lof import LOF\n",
    "\n",
    "sys.path.append('../../')\n",
    "from ACME.ACME import ACME\n",
    "from ACME.visual_utils import * \n",
    "sys.path.remove('../../')\n",
    "\n",
    "warnings.filterwarnings('ignore')\n",
    "\n",
    "# set seed for reproducibility\n",
    "np.random.seed(0)\n",
    "random.seed(0)"
   ]
  },
  {
   "cell_type": "markdown",
   "metadata": {},
   "source": [
    "# AcME-AD to explain LODA in PIADE sequences dataset"
   ]
  },
  {
   "cell_type": "code",
   "execution_count": 2,
   "metadata": {},
   "outputs": [],
   "source": [
    "# import data\n",
    "data = pd.read_csv('ad_industrial_datasets/piade_sequences_1h_data.csv')\n",
    "data = data.drop(columns=['interval_start'])\n",
    "data = data.fillna(0)\n",
    "\n",
    "features = [c for c in data.columns if c != 'equipment_ID']"
   ]
  },
  {
   "cell_type": "code",
   "execution_count": 3,
   "metadata": {},
   "outputs": [],
   "source": [
    "# split data based on equipment ID\n",
    "equipments = data['equipment_ID'].unique()\n",
    "data_equipment = [data[data['equipment_ID'] ==e] for e in equipments]\n",
    "\n",
    "# keep only equipment 2 for the example, select a different equipment if you want\n",
    "data = data_equipment[1]"
   ]
  },
  {
   "cell_type": "markdown",
   "metadata": {},
   "source": [
    "## Model training"
   ]
  },
  {
   "cell_type": "markdown",
   "metadata": {},
   "source": [
    "Because it is an unsupervised task, no contamination is available. Since on the other notebook, IsolationForest with Sklearn implementation automatically compute the threshold, we choose a contamination value that_ \n",
    "1. yields to an acceptable number of anomalies when deployed in real scenarios; \n",
    "2. produces a number of anomalies close to the one produced by IF with automatic threshold."
   ]
  },
  {
   "cell_type": "code",
   "execution_count": 4,
   "metadata": {},
   "outputs": [],
   "source": [
    "ad_model = LOF(contamination=0.01).fit(data[features])\n",
    "data['Prediction'] = ad_model.labels_\n",
    "\n",
    "raw_scores = ad_model.decision_scores_\n",
    "EPS = 1e-1\n",
    "l = max(np.abs(np.max(raw_scores)-ad_model.threshold_), np.abs(np.min(raw_scores)-ad_model.threshold_)) + EPS\n",
    "lb = ad_model.threshold_ - l\n",
    "ub = ad_model.threshold_ + l\n",
    "data['Score'] = (raw_scores - lb) / (ub - lb)\n",
    "\n",
    "def score_function(model, X): \n",
    "    return (model.decision_function(X) - lb) / (ub - lb)"
   ]
  },
  {
   "cell_type": "markdown",
   "metadata": {},
   "source": [
    "## Explanations"
   ]
  },
  {
   "cell_type": "code",
   "execution_count": 5,
   "metadata": {},
   "outputs": [
    {
     "name": "stdout",
     "output_type": "stream",
     "text": [
      "Number of anomalies: 28\n"
     ]
    }
   ],
   "source": [
    "data_to_explain = data[data['Prediction'] == 1]\n",
    "print('Number of anomalies:', data_to_explain.shape[0])"
   ]
  },
  {
   "cell_type": "markdown",
   "metadata": {},
   "source": [
    "Compute and save explanations"
   ]
  },
  {
   "cell_type": "code",
   "execution_count": 6,
   "metadata": {},
   "outputs": [
    {
     "name": "stderr",
     "output_type": "stream",
     "text": [
      "100%|██████████| 28/28 [54:42<00:00, 117.24s/it]\n"
     ]
    }
   ],
   "source": [
    "acme_rankings = pd.DataFrame(columns=features)\n",
    "acme_local_explanations = {}\n",
    "\n",
    "acme_exp = ACME(ad_model, 'Score', features=features, task = 'ad', score_function=score_function)\n",
    "acme_exp = acme_exp.explain(data, robust = True)\n",
    "\n",
    "for j in tqdm(range(len(data_to_explain))):\n",
    "    local_explanation = acme_exp.explain_local(data_to_explain.iloc[j])\n",
    "    feature_table = local_explanation.feature_importance(local=True, weights={\"delta\":0.3, \"ratio\":0.2, \"change\":0.3, \"distance\":0.2})\n",
    "    acme_rankings.loc[j] = feature_table['importance'].rank(ascending=False, method='min')\n",
    "    acme_local_explanations[j] = local_explanation"
   ]
  },
  {
   "cell_type": "code",
   "execution_count": 7,
   "metadata": {},
   "outputs": [],
   "source": [
    "# # save results \n",
    "# with open('results/piade_lof_acme_rankings_equip2.pkl', 'wb') as f:\n",
    "#     pickle.dump(acme_rankings, f)\n",
    "\n",
    "# with open('results/piade_lof_acme_local_explanations_equip2.pkl', 'wb') as f:\n",
    "#     pickle.dump(acme_local_explanations, f)"
   ]
  },
  {
   "cell_type": "code",
   "execution_count": 8,
   "metadata": {},
   "outputs": [],
   "source": [
    "# # load results \n",
    "# with open('results/piade_lof_acme_rankings_equip2.pkl', 'rb') as f:\n",
    "#     acme_rankings = pickle.load(f)\n",
    "\n",
    "# with open('results/piade_lof_acme_local_explanations_equip2.pkl', 'rb') as f:\n",
    "#     acme_local_explanations = pickle.load(f)"
   ]
  },
  {
   "cell_type": "markdown",
   "metadata": {},
   "source": [
    "Plot the stacked barplot.\n",
    "\n",
    "Note: features that are ranked in the k-th positon less than t% of the anomalies are merged in a unique 'other' group. In this case t% = 5%, but different threshold can be taken depending on the application. "
   ]
  },
  {
   "cell_type": "code",
   "execution_count": 18,
   "metadata": {},
   "outputs": [],
   "source": [
    "# custom colors for the results in the paper\n",
    "# note that they are valid only for equipment 2.\n",
    "feature_colors = {\n",
    "    \"#changes\": {\"color\": \"midnightblue\", \"pattern\": \"\"},\n",
    "    \"A_005\": {\"color\": \"#858be3\", \"pattern\": \"\"},\n",
    "    \"A_008\": {\"color\": \"#ff8200\", \"pattern\": \"-\"},\n",
    "    \"A_010\": {\"color\": \"deepskyblue\", \"pattern\": \".\"},\n",
    "    \"A_017\": {\"color\": \"lightslategray\", \"pattern\": \"|\"},\n",
    "    \"A_020\": {\"color\": \"#665cfa\", \"pattern\": \"x\"},\n",
    "    \"count_sum\": {\"color\": \"crimson\", \"pattern\": \"\"},\n",
    "    \"downtime/downtime\": {\"color\": \"#4af5f9\", \"pattern\": \"/\"},\n",
    "    \"idle/idle\": {\"color\": \"wheat\", \"pattern\": \"x\"},\n",
    "    \"performance_loss/performance_loss\": {\"color\": 'rosyBrown', \"pattern\": \"|\"},\n",
    "    \"production/production\": {\"color\": \"steelBlue\", \"pattern\": \"\"},\n",
    "    \"A_003\": {\"color\": \"lavender\", \"pattern\": \"|\"},\n",
    "    \"scheduled_downtime/scheduled_downtime\": {\"color\": \"lightcoral\", \"pattern\": \"x\"},\n",
    "    \"A_101\": {\"color\": \"lightseagreen\", \"pattern\": \"+\"},\n",
    "}"
   ]
  },
  {
   "cell_type": "code",
   "execution_count": 19,
   "metadata": {},
   "outputs": [
    {
     "data": {
      "application/vnd.plotly.v1+json": {
       "config": {
        "plotlyServerURL": "https://plot.ly"
       },
       "data": [
        {
         "marker": {
          "color": "midnightblue",
          "pattern": {
           "shape": "",
           "size": 6
          }
         },
         "name": "#changes",
         "showlegend": true,
         "type": "bar",
         "width": 0.6,
         "x": [
          1,
          2,
          3,
          4,
          5
         ],
         "y": [
          0.7142857142857143,
          0.07142857142857142,
          0.07142857142857142,
          0,
          0
         ]
        },
        {
         "marker": {
          "color": "lavender",
          "pattern": {
           "shape": "|",
           "size": 6
          }
         },
         "name": "A_003",
         "showlegend": true,
         "type": "bar",
         "width": 0.6,
         "x": [
          1,
          2,
          3,
          4,
          5
         ],
         "y": [
          0,
          0,
          0,
          0.07142857142857142,
          0
         ]
        },
        {
         "marker": {
          "color": "#858be3",
          "pattern": {
           "shape": "",
           "size": 6
          }
         },
         "name": "A_005",
         "showlegend": true,
         "type": "bar",
         "width": 0.6,
         "x": [
          1,
          2,
          3,
          4,
          5
         ],
         "y": [
          0,
          0.10714285714285714,
          0.17857142857142858,
          0,
          0
         ]
        },
        {
         "marker": {
          "color": "#ff8200",
          "pattern": {
           "shape": "-",
           "size": 6
          }
         },
         "name": "A_008",
         "showlegend": true,
         "type": "bar",
         "width": 0.6,
         "x": [
          1,
          2,
          3,
          4,
          5
         ],
         "y": [
          0,
          0,
          0,
          0,
          0.25
         ]
        },
        {
         "marker": {
          "color": "deepskyblue",
          "pattern": {
           "shape": ".",
           "size": 6
          }
         },
         "name": "A_010",
         "showlegend": true,
         "type": "bar",
         "width": 0.6,
         "x": [
          1,
          2,
          3,
          4,
          5
         ],
         "y": [
          0,
          0.10714285714285714,
          0.10714285714285714,
          0,
          0
         ]
        },
        {
         "marker": {
          "color": "lightslategray",
          "pattern": {
           "shape": "|",
           "size": 6
          }
         },
         "name": "A_017",
         "showlegend": true,
         "type": "bar",
         "width": 0.6,
         "x": [
          1,
          2,
          3,
          4,
          5
         ],
         "y": [
          0,
          0.07142857142857142,
          0,
          0,
          0.10714285714285714
         ]
        },
        {
         "marker": {
          "color": "#665cfa",
          "pattern": {
           "shape": "x",
           "size": 6
          }
         },
         "name": "A_020",
         "showlegend": true,
         "type": "bar",
         "width": 0.6,
         "x": [
          1,
          2,
          3,
          4,
          5
         ],
         "y": [
          0,
          0,
          0.07142857142857142,
          0.14285714285714285,
          0.07142857142857142
         ]
        },
        {
         "marker": {
          "color": "lightseagreen",
          "pattern": {
           "shape": "+",
           "size": 6
          }
         },
         "name": "A_101",
         "showlegend": true,
         "type": "bar",
         "width": 0.6,
         "x": [
          1,
          2,
          3,
          4,
          5
         ],
         "y": [
          0,
          0.10714285714285714,
          0,
          0,
          0
         ]
        },
        {
         "marker": {
          "color": "crimson",
          "pattern": {
           "shape": "",
           "size": 6
          }
         },
         "name": "count_sum",
         "showlegend": true,
         "type": "bar",
         "width": 0.6,
         "x": [
          1,
          2,
          3,
          4,
          5
         ],
         "y": [
          0,
          0,
          0.07142857142857142,
          0.10714285714285714,
          0
         ]
        },
        {
         "marker": {
          "color": "#4af5f9",
          "pattern": {
           "shape": "/",
           "size": 6
          }
         },
         "name": "downtime/downtime",
         "showlegend": true,
         "type": "bar",
         "width": 0.6,
         "x": [
          1,
          2,
          3,
          4,
          5
         ],
         "y": [
          0,
          0,
          0.07142857142857142,
          0.10714285714285714,
          0.07142857142857142
         ]
        },
        {
         "marker": {
          "color": "wheat",
          "pattern": {
           "shape": "x",
           "size": 6
          }
         },
         "name": "idle/idle",
         "showlegend": true,
         "type": "bar",
         "width": 0.6,
         "x": [
          1,
          2,
          3,
          4,
          5
         ],
         "y": [
          0,
          0.17857142857142858,
          0.10714285714285714,
          0.07142857142857142,
          0
         ]
        },
        {
         "marker": {
          "color": "rosyBrown",
          "pattern": {
           "shape": "|",
           "size": 6
          }
         },
         "name": "performance_loss/performance_loss",
         "showlegend": true,
         "type": "bar",
         "width": 0.6,
         "x": [
          1,
          2,
          3,
          4,
          5
         ],
         "y": [
          0,
          0.07142857142857142,
          0.07142857142857142,
          0.07142857142857142,
          0
         ]
        },
        {
         "marker": {
          "color": "steelBlue",
          "pattern": {
           "shape": "",
           "size": 6
          }
         },
         "name": "production/production",
         "showlegend": true,
         "type": "bar",
         "width": 0.6,
         "x": [
          1,
          2,
          3,
          4,
          5
         ],
         "y": [
          0,
          0.14285714285714285,
          0.14285714285714285,
          0,
          0
         ]
        },
        {
         "marker": {
          "color": "lightcoral",
          "pattern": {
           "shape": "x",
           "size": 6
          }
         },
         "name": "scheduled_downtime/scheduled_downtime",
         "showlegend": true,
         "type": "bar",
         "width": 0.6,
         "x": [
          1,
          2,
          3,
          4,
          5
         ],
         "y": [
          0,
          0.07142857142857142,
          0,
          0,
          0
         ]
        },
        {
         "marker": {
          "color": "#abb0b8"
         },
         "name": "others",
         "showlegend": true,
         "type": "bar",
         "width": 0.6,
         "x": [
          1,
          2,
          3,
          4,
          5
         ],
         "y": [
          0.2857142857142857,
          0.07142857142857162,
          0.1071428571428572,
          0.4285714285714286,
          0.5
         ]
        }
       ],
       "layout": {
        "bargap": 0.1,
        "barmode": "stack",
        "legend": {
         "entrywidth": 0.5,
         "font": {
          "size": 18
         },
         "title": {
          "text": "Feature"
         }
        },
        "template": {
         "data": {
          "bar": [
           {
            "error_x": {
             "color": "#2a3f5f"
            },
            "error_y": {
             "color": "#2a3f5f"
            },
            "marker": {
             "line": {
              "color": "#E5ECF6",
              "width": 0.5
             },
             "pattern": {
              "fillmode": "overlay",
              "size": 10,
              "solidity": 0.2
             }
            },
            "type": "bar"
           }
          ],
          "barpolar": [
           {
            "marker": {
             "line": {
              "color": "#E5ECF6",
              "width": 0.5
             },
             "pattern": {
              "fillmode": "overlay",
              "size": 10,
              "solidity": 0.2
             }
            },
            "type": "barpolar"
           }
          ],
          "carpet": [
           {
            "aaxis": {
             "endlinecolor": "#2a3f5f",
             "gridcolor": "white",
             "linecolor": "white",
             "minorgridcolor": "white",
             "startlinecolor": "#2a3f5f"
            },
            "baxis": {
             "endlinecolor": "#2a3f5f",
             "gridcolor": "white",
             "linecolor": "white",
             "minorgridcolor": "white",
             "startlinecolor": "#2a3f5f"
            },
            "type": "carpet"
           }
          ],
          "choropleth": [
           {
            "colorbar": {
             "outlinewidth": 0,
             "ticks": ""
            },
            "type": "choropleth"
           }
          ],
          "contour": [
           {
            "colorbar": {
             "outlinewidth": 0,
             "ticks": ""
            },
            "colorscale": [
             [
              0,
              "#0d0887"
             ],
             [
              0.1111111111111111,
              "#46039f"
             ],
             [
              0.2222222222222222,
              "#7201a8"
             ],
             [
              0.3333333333333333,
              "#9c179e"
             ],
             [
              0.4444444444444444,
              "#bd3786"
             ],
             [
              0.5555555555555556,
              "#d8576b"
             ],
             [
              0.6666666666666666,
              "#ed7953"
             ],
             [
              0.7777777777777778,
              "#fb9f3a"
             ],
             [
              0.8888888888888888,
              "#fdca26"
             ],
             [
              1,
              "#f0f921"
             ]
            ],
            "type": "contour"
           }
          ],
          "contourcarpet": [
           {
            "colorbar": {
             "outlinewidth": 0,
             "ticks": ""
            },
            "type": "contourcarpet"
           }
          ],
          "heatmap": [
           {
            "colorbar": {
             "outlinewidth": 0,
             "ticks": ""
            },
            "colorscale": [
             [
              0,
              "#0d0887"
             ],
             [
              0.1111111111111111,
              "#46039f"
             ],
             [
              0.2222222222222222,
              "#7201a8"
             ],
             [
              0.3333333333333333,
              "#9c179e"
             ],
             [
              0.4444444444444444,
              "#bd3786"
             ],
             [
              0.5555555555555556,
              "#d8576b"
             ],
             [
              0.6666666666666666,
              "#ed7953"
             ],
             [
              0.7777777777777778,
              "#fb9f3a"
             ],
             [
              0.8888888888888888,
              "#fdca26"
             ],
             [
              1,
              "#f0f921"
             ]
            ],
            "type": "heatmap"
           }
          ],
          "heatmapgl": [
           {
            "colorbar": {
             "outlinewidth": 0,
             "ticks": ""
            },
            "colorscale": [
             [
              0,
              "#0d0887"
             ],
             [
              0.1111111111111111,
              "#46039f"
             ],
             [
              0.2222222222222222,
              "#7201a8"
             ],
             [
              0.3333333333333333,
              "#9c179e"
             ],
             [
              0.4444444444444444,
              "#bd3786"
             ],
             [
              0.5555555555555556,
              "#d8576b"
             ],
             [
              0.6666666666666666,
              "#ed7953"
             ],
             [
              0.7777777777777778,
              "#fb9f3a"
             ],
             [
              0.8888888888888888,
              "#fdca26"
             ],
             [
              1,
              "#f0f921"
             ]
            ],
            "type": "heatmapgl"
           }
          ],
          "histogram": [
           {
            "marker": {
             "pattern": {
              "fillmode": "overlay",
              "size": 10,
              "solidity": 0.2
             }
            },
            "type": "histogram"
           }
          ],
          "histogram2d": [
           {
            "colorbar": {
             "outlinewidth": 0,
             "ticks": ""
            },
            "colorscale": [
             [
              0,
              "#0d0887"
             ],
             [
              0.1111111111111111,
              "#46039f"
             ],
             [
              0.2222222222222222,
              "#7201a8"
             ],
             [
              0.3333333333333333,
              "#9c179e"
             ],
             [
              0.4444444444444444,
              "#bd3786"
             ],
             [
              0.5555555555555556,
              "#d8576b"
             ],
             [
              0.6666666666666666,
              "#ed7953"
             ],
             [
              0.7777777777777778,
              "#fb9f3a"
             ],
             [
              0.8888888888888888,
              "#fdca26"
             ],
             [
              1,
              "#f0f921"
             ]
            ],
            "type": "histogram2d"
           }
          ],
          "histogram2dcontour": [
           {
            "colorbar": {
             "outlinewidth": 0,
             "ticks": ""
            },
            "colorscale": [
             [
              0,
              "#0d0887"
             ],
             [
              0.1111111111111111,
              "#46039f"
             ],
             [
              0.2222222222222222,
              "#7201a8"
             ],
             [
              0.3333333333333333,
              "#9c179e"
             ],
             [
              0.4444444444444444,
              "#bd3786"
             ],
             [
              0.5555555555555556,
              "#d8576b"
             ],
             [
              0.6666666666666666,
              "#ed7953"
             ],
             [
              0.7777777777777778,
              "#fb9f3a"
             ],
             [
              0.8888888888888888,
              "#fdca26"
             ],
             [
              1,
              "#f0f921"
             ]
            ],
            "type": "histogram2dcontour"
           }
          ],
          "mesh3d": [
           {
            "colorbar": {
             "outlinewidth": 0,
             "ticks": ""
            },
            "type": "mesh3d"
           }
          ],
          "parcoords": [
           {
            "line": {
             "colorbar": {
              "outlinewidth": 0,
              "ticks": ""
             }
            },
            "type": "parcoords"
           }
          ],
          "pie": [
           {
            "automargin": true,
            "type": "pie"
           }
          ],
          "scatter": [
           {
            "fillpattern": {
             "fillmode": "overlay",
             "size": 10,
             "solidity": 0.2
            },
            "type": "scatter"
           }
          ],
          "scatter3d": [
           {
            "line": {
             "colorbar": {
              "outlinewidth": 0,
              "ticks": ""
             }
            },
            "marker": {
             "colorbar": {
              "outlinewidth": 0,
              "ticks": ""
             }
            },
            "type": "scatter3d"
           }
          ],
          "scattercarpet": [
           {
            "marker": {
             "colorbar": {
              "outlinewidth": 0,
              "ticks": ""
             }
            },
            "type": "scattercarpet"
           }
          ],
          "scattergeo": [
           {
            "marker": {
             "colorbar": {
              "outlinewidth": 0,
              "ticks": ""
             }
            },
            "type": "scattergeo"
           }
          ],
          "scattergl": [
           {
            "marker": {
             "colorbar": {
              "outlinewidth": 0,
              "ticks": ""
             }
            },
            "type": "scattergl"
           }
          ],
          "scattermapbox": [
           {
            "marker": {
             "colorbar": {
              "outlinewidth": 0,
              "ticks": ""
             }
            },
            "type": "scattermapbox"
           }
          ],
          "scatterpolar": [
           {
            "marker": {
             "colorbar": {
              "outlinewidth": 0,
              "ticks": ""
             }
            },
            "type": "scatterpolar"
           }
          ],
          "scatterpolargl": [
           {
            "marker": {
             "colorbar": {
              "outlinewidth": 0,
              "ticks": ""
             }
            },
            "type": "scatterpolargl"
           }
          ],
          "scatterternary": [
           {
            "marker": {
             "colorbar": {
              "outlinewidth": 0,
              "ticks": ""
             }
            },
            "type": "scatterternary"
           }
          ],
          "surface": [
           {
            "colorbar": {
             "outlinewidth": 0,
             "ticks": ""
            },
            "colorscale": [
             [
              0,
              "#0d0887"
             ],
             [
              0.1111111111111111,
              "#46039f"
             ],
             [
              0.2222222222222222,
              "#7201a8"
             ],
             [
              0.3333333333333333,
              "#9c179e"
             ],
             [
              0.4444444444444444,
              "#bd3786"
             ],
             [
              0.5555555555555556,
              "#d8576b"
             ],
             [
              0.6666666666666666,
              "#ed7953"
             ],
             [
              0.7777777777777778,
              "#fb9f3a"
             ],
             [
              0.8888888888888888,
              "#fdca26"
             ],
             [
              1,
              "#f0f921"
             ]
            ],
            "type": "surface"
           }
          ],
          "table": [
           {
            "cells": {
             "fill": {
              "color": "#EBF0F8"
             },
             "line": {
              "color": "white"
             }
            },
            "header": {
             "fill": {
              "color": "#C8D4E3"
             },
             "line": {
              "color": "white"
             }
            },
            "type": "table"
           }
          ]
         },
         "layout": {
          "annotationdefaults": {
           "arrowcolor": "#2a3f5f",
           "arrowhead": 0,
           "arrowwidth": 1
          },
          "autotypenumbers": "strict",
          "coloraxis": {
           "colorbar": {
            "outlinewidth": 0,
            "ticks": ""
           }
          },
          "colorscale": {
           "diverging": [
            [
             0,
             "#8e0152"
            ],
            [
             0.1,
             "#c51b7d"
            ],
            [
             0.2,
             "#de77ae"
            ],
            [
             0.3,
             "#f1b6da"
            ],
            [
             0.4,
             "#fde0ef"
            ],
            [
             0.5,
             "#f7f7f7"
            ],
            [
             0.6,
             "#e6f5d0"
            ],
            [
             0.7,
             "#b8e186"
            ],
            [
             0.8,
             "#7fbc41"
            ],
            [
             0.9,
             "#4d9221"
            ],
            [
             1,
             "#276419"
            ]
           ],
           "sequential": [
            [
             0,
             "#0d0887"
            ],
            [
             0.1111111111111111,
             "#46039f"
            ],
            [
             0.2222222222222222,
             "#7201a8"
            ],
            [
             0.3333333333333333,
             "#9c179e"
            ],
            [
             0.4444444444444444,
             "#bd3786"
            ],
            [
             0.5555555555555556,
             "#d8576b"
            ],
            [
             0.6666666666666666,
             "#ed7953"
            ],
            [
             0.7777777777777778,
             "#fb9f3a"
            ],
            [
             0.8888888888888888,
             "#fdca26"
            ],
            [
             1,
             "#f0f921"
            ]
           ],
           "sequentialminus": [
            [
             0,
             "#0d0887"
            ],
            [
             0.1111111111111111,
             "#46039f"
            ],
            [
             0.2222222222222222,
             "#7201a8"
            ],
            [
             0.3333333333333333,
             "#9c179e"
            ],
            [
             0.4444444444444444,
             "#bd3786"
            ],
            [
             0.5555555555555556,
             "#d8576b"
            ],
            [
             0.6666666666666666,
             "#ed7953"
            ],
            [
             0.7777777777777778,
             "#fb9f3a"
            ],
            [
             0.8888888888888888,
             "#fdca26"
            ],
            [
             1,
             "#f0f921"
            ]
           ]
          },
          "colorway": [
           "#636efa",
           "#EF553B",
           "#00cc96",
           "#ab63fa",
           "#FFA15A",
           "#19d3f3",
           "#FF6692",
           "#B6E880",
           "#FF97FF",
           "#FECB52"
          ],
          "font": {
           "color": "#2a3f5f"
          },
          "geo": {
           "bgcolor": "white",
           "lakecolor": "white",
           "landcolor": "#E5ECF6",
           "showlakes": true,
           "showland": true,
           "subunitcolor": "white"
          },
          "hoverlabel": {
           "align": "left"
          },
          "hovermode": "closest",
          "mapbox": {
           "style": "light"
          },
          "paper_bgcolor": "white",
          "plot_bgcolor": "#E5ECF6",
          "polar": {
           "angularaxis": {
            "gridcolor": "white",
            "linecolor": "white",
            "ticks": ""
           },
           "bgcolor": "#E5ECF6",
           "radialaxis": {
            "gridcolor": "white",
            "linecolor": "white",
            "ticks": ""
           }
          },
          "scene": {
           "xaxis": {
            "backgroundcolor": "#E5ECF6",
            "gridcolor": "white",
            "gridwidth": 2,
            "linecolor": "white",
            "showbackground": true,
            "ticks": "",
            "zerolinecolor": "white"
           },
           "yaxis": {
            "backgroundcolor": "#E5ECF6",
            "gridcolor": "white",
            "gridwidth": 2,
            "linecolor": "white",
            "showbackground": true,
            "ticks": "",
            "zerolinecolor": "white"
           },
           "zaxis": {
            "backgroundcolor": "#E5ECF6",
            "gridcolor": "white",
            "gridwidth": 2,
            "linecolor": "white",
            "showbackground": true,
            "ticks": "",
            "zerolinecolor": "white"
           }
          },
          "shapedefaults": {
           "line": {
            "color": "#2a3f5f"
           }
          },
          "ternary": {
           "aaxis": {
            "gridcolor": "white",
            "linecolor": "white",
            "ticks": ""
           },
           "baxis": {
            "gridcolor": "white",
            "linecolor": "white",
            "ticks": ""
           },
           "bgcolor": "#E5ECF6",
           "caxis": {
            "gridcolor": "white",
            "linecolor": "white",
            "ticks": ""
           }
          },
          "title": {
           "x": 0.05
          },
          "xaxis": {
           "automargin": true,
           "gridcolor": "white",
           "linecolor": "white",
           "ticks": "",
           "title": {
            "standoff": 15
           },
           "zerolinecolor": "white",
           "zerolinewidth": 2
          },
          "yaxis": {
           "automargin": true,
           "gridcolor": "white",
           "linecolor": "white",
           "ticks": "",
           "title": {
            "standoff": 15
           },
           "zerolinecolor": "white",
           "zerolinewidth": 2
          }
         }
        },
        "title": {},
        "xaxis": {
         "tickfont": {
          "size": 18
         },
         "tickmode": "array",
         "tickvals": [
          1,
          2,
          3,
          4,
          5
         ],
         "title": {
          "font": {
           "size": 18
          },
          "text": "Ranking Position"
         }
        },
        "yaxis": {
         "tickfont": {
          "size": 18
         },
         "title": {
          "font": {
           "size": 18
          },
          "text": "Normalized Count"
         }
        }
       }
      }
     },
     "metadata": {},
     "output_type": "display_data"
    }
   ],
   "source": [
    "acme_rank_counting = acme_rankings.apply(pd.Series.value_counts).fillna(0).astype(int)\n",
    "acme_rank_counting = acme_rank_counting / acme_rank_counting.sum()\n",
    "\n",
    "acme_stacked_barplot_fig = feature_importance_distribution_barplot(acme_rank_counting, n_positions = 5, threshold=0.05, color_pattern_dict=feature_colors)\n",
    "acme_stacked_barplot_fig.show()"
   ]
  },
  {
   "cell_type": "markdown",
   "metadata": {},
   "source": [
    "Local what-if analysis tool"
   ]
  },
  {
   "cell_type": "code",
   "execution_count": 20,
   "metadata": {},
   "outputs": [
    {
     "name": "stdout",
     "output_type": "stream",
     "text": [
      "Using default weights for anomaly detection feature importance\n"
     ]
    },
    {
     "data": {
      "application/vnd.plotly.v1+json": {
       "config": {
        "plotlyServerURL": "https://plot.ly"
       },
       "data": [
        {
         "customdata": [
          [
           13
          ],
          [
           3
          ],
          [
           4
          ],
          [
           4
          ],
          [
           4
          ],
          [
           4.393
          ],
          [
           5
          ],
          [
           5
          ],
          [
           5
          ],
          [
           5
          ],
          [
           5
          ],
          [
           6
          ],
          [
           6
          ],
          [
           6
          ],
          [
           6
          ],
          [
           7
          ],
          [
           7
          ],
          [
           7
          ],
          [
           8
          ],
          [
           8
          ],
          [
           9
          ],
          [
           9
          ],
          [
           10
          ],
          [
           4
          ],
          [
           12
          ],
          [
           4
          ],
          [
           3
          ],
          [
           0
          ],
          [
           0
          ],
          [
           0
          ],
          [
           0
          ],
          [
           0
          ],
          [
           0
          ],
          [
           1
          ],
          [
           1
          ],
          [
           1
          ],
          [
           1
          ],
          [
           1
          ],
          [
           2
          ],
          [
           2
          ],
          [
           2
          ],
          [
           2
          ],
          [
           2
          ],
          [
           2
          ],
          [
           2
          ],
          [
           3
          ],
          [
           3
          ],
          [
           3
          ],
          [
           3
          ],
          [
           0
          ],
          [
           0
          ],
          [
           0
          ],
          [
           0
          ],
          [
           0
          ],
          [
           0
          ],
          [
           0
          ],
          [
           0
          ],
          [
           0
          ],
          [
           0
          ],
          [
           0
          ],
          [
           0
          ],
          [
           0
          ],
          [
           0
          ],
          [
           0
          ],
          [
           0
          ],
          [
           0
          ],
          [
           0
          ],
          [
           0
          ],
          [
           0
          ],
          [
           0
          ],
          [
           0
          ],
          [
           0
          ],
          [
           0
          ],
          [
           0
          ],
          [
           0
          ],
          [
           0
          ],
          [
           0
          ],
          [
           0
          ],
          [
           0
          ],
          [
           0
          ],
          [
           0
          ],
          [
           0
          ],
          [
           0
          ],
          [
           0
          ],
          [
           0
          ],
          [
           0
          ],
          [
           0
          ],
          [
           0
          ],
          [
           0
          ],
          [
           0
          ],
          [
           0
          ],
          [
           0
          ],
          [
           0
          ],
          [
           0
          ],
          [
           0
          ],
          [
           0
          ],
          [
           0
          ],
          [
           0
          ],
          [
           0
          ],
          [
           0
          ],
          [
           0.0022
          ],
          [
           0
          ],
          [
           0
          ],
          [
           0
          ],
          [
           0
          ],
          [
           0
          ],
          [
           0
          ],
          [
           0
          ],
          [
           0
          ],
          [
           0
          ],
          [
           0
          ],
          [
           0
          ],
          [
           0
          ],
          [
           0
          ],
          [
           0
          ],
          [
           0
          ],
          [
           0
          ],
          [
           0
          ],
          [
           0
          ],
          [
           0
          ],
          [
           0
          ],
          [
           0
          ],
          [
           0
          ],
          [
           0
          ],
          [
           0
          ],
          [
           0
          ],
          [
           0
          ],
          [
           0
          ],
          [
           0
          ],
          [
           0
          ],
          [
           0
          ],
          [
           0
          ],
          [
           0
          ],
          [
           0
          ],
          [
           0
          ],
          [
           0
          ],
          [
           0
          ],
          [
           0
          ],
          [
           0
          ],
          [
           0
          ],
          [
           0
          ],
          [
           0
          ],
          [
           0
          ],
          [
           0
          ],
          [
           0
          ],
          [
           0
          ],
          [
           0
          ],
          [
           0
          ],
          [
           0
          ],
          [
           0
          ],
          [
           0
          ],
          [
           0
          ],
          [
           0.0147
          ],
          [
           0
          ],
          [
           0
          ],
          [
           0
          ],
          [
           0
          ],
          [
           0
          ],
          [
           0
          ],
          [
           0
          ],
          [
           0
          ],
          [
           0
          ],
          [
           0
          ],
          [
           0
          ],
          [
           0
          ],
          [
           0
          ],
          [
           0
          ],
          [
           0
          ],
          [
           0
          ],
          [
           0
          ],
          [
           0
          ],
          [
           0
          ],
          [
           0
          ],
          [
           0
          ],
          [
           0
          ],
          [
           0
          ],
          [
           0
          ],
          [
           0
          ],
          [
           0
          ],
          [
           0
          ],
          [
           0
          ],
          [
           0.0257
          ],
          [
           0
          ],
          [
           0
          ],
          [
           0
          ],
          [
           0
          ],
          [
           0
          ],
          [
           0
          ],
          [
           0
          ],
          [
           0
          ],
          [
           0
          ],
          [
           0
          ],
          [
           0
          ],
          [
           0
          ],
          [
           0
          ],
          [
           0
          ],
          [
           0
          ],
          [
           0
          ],
          [
           0
          ],
          [
           0
          ],
          [
           0
          ],
          [
           0
          ],
          [
           0
          ],
          [
           0
          ],
          [
           0.1029
          ],
          [
           0.1079
          ],
          [
           0.1136
          ],
          [
           0.0293
          ],
          [
           0.1264
          ],
          [
           0.1312
          ],
          [
           0.1366
          ],
          [
           0.0336
          ],
          [
           0.1199
          ],
          [
           0.097
          ],
          [
           0.0702
          ],
          [
           0.0872
          ],
          [
           0.082
          ],
          [
           0.0761
          ],
          [
           0.0653
          ],
          [
           0.0602
          ],
          [
           0.0556
          ],
          [
           0.0496
          ],
          [
           0.0446
          ],
          [
           0.0391
          ],
          [
           0.1416
          ],
          [
           0.0921
          ],
          [
           0.1486
          ],
          [
           0.2274
          ],
          [
           0.1608
          ],
          [
           0.4992
          ],
          [
           0.897
          ],
          [
           0.4128
          ],
          [
           0.3829
          ],
          [
           0.3585
          ],
          [
           0.3378
          ],
          [
           0.321
          ],
          [
           0.3041
          ],
          [
           0.292
          ],
          [
           0.2776
          ],
          [
           0.1552
          ],
          [
           0.2651
          ],
          [
           0.2439
          ],
          [
           0.235
          ],
          [
           0.2191
          ],
          [
           0.2098
          ],
          [
           0.1999
          ],
          [
           0.1946
          ],
          [
           0.1911
          ],
          [
           0.1865
          ],
          [
           0.1781
          ],
          [
           0.1695
          ],
          [
           0.2536
          ],
          [
           0.4501
          ],
          [
           0.0172
          ],
          [
           0.0237
          ],
          [
           1
          ],
          [
           1
          ],
          [
           1
          ],
          [
           1
          ],
          [
           1
          ],
          [
           1
          ],
          [
           1
          ],
          [
           1
          ],
          [
           1
          ],
          [
           1
          ],
          [
           1
          ],
          [
           1
          ],
          [
           1
          ],
          [
           1
          ],
          [
           1
          ],
          [
           1
          ],
          [
           1
          ],
          [
           1
          ],
          [
           1
          ],
          [
           1
          ],
          [
           1
          ],
          [
           1
          ],
          [
           1
          ],
          [
           1
          ],
          [
           1
          ],
          [
           0
          ],
          [
           0
          ],
          [
           0.9207
          ],
          [
           1
          ],
          [
           1
          ],
          [
           1
          ],
          [
           1
          ],
          [
           1
          ],
          [
           1
          ],
          [
           1
          ],
          [
           1
          ],
          [
           1
          ],
          [
           1
          ],
          [
           1
          ],
          [
           1
          ],
          [
           1
          ],
          [
           1
          ],
          [
           1
          ],
          [
           1
          ],
          [
           1
          ],
          [
           1
          ],
          [
           1
          ],
          [
           1
          ],
          [
           1
          ],
          [
           0
          ],
          [
           1
          ],
          [
           0
          ],
          [
           0
          ],
          [
           0
          ],
          [
           0
          ],
          [
           0
          ],
          [
           0
          ],
          [
           0
          ],
          [
           0
          ],
          [
           0
          ],
          [
           0
          ],
          [
           0
          ],
          [
           1
          ],
          [
           0
          ],
          [
           0
          ],
          [
           0
          ],
          [
           0
          ],
          [
           0
          ],
          [
           0
          ],
          [
           0
          ],
          [
           0
          ],
          [
           0
          ],
          [
           0
          ],
          [
           0
          ],
          [
           0
          ],
          [
           0
          ],
          [
           0
          ],
          [
           0
          ],
          [
           1
          ],
          [
           1
          ],
          [
           1
          ],
          [
           0.1171
          ],
          [
           0
          ],
          [
           0
          ],
          [
           0
          ],
          [
           0
          ],
          [
           0
          ],
          [
           0
          ],
          [
           0
          ],
          [
           0
          ],
          [
           0
          ],
          [
           0
          ],
          [
           0
          ],
          [
           0
          ],
          [
           0
          ],
          [
           0
          ],
          [
           0
          ],
          [
           0
          ],
          [
           0
          ],
          [
           0
          ],
          [
           0
          ],
          [
           0
          ],
          [
           1
          ],
          [
           1
          ],
          [
           7
          ],
          [
           7
          ],
          [
           7
          ],
          [
           7.3824
          ],
          [
           8
          ],
          [
           8
          ],
          [
           8
          ],
          [
           9
          ],
          [
           9
          ],
          [
           10
          ],
          [
           7
          ],
          [
           10
          ],
          [
           11
          ],
          [
           11
          ],
          [
           12
          ],
          [
           13
          ],
          [
           13
          ],
          [
           14
          ],
          [
           16
          ],
          [
           18
          ],
          [
           20
          ],
          [
           0
          ],
          [
           10
          ],
          [
           6
          ],
          [
           9
          ],
          [
           6
          ],
          [
           6
          ],
          [
           2
          ],
          [
           2
          ],
          [
           2
          ],
          [
           2
          ],
          [
           2
          ],
          [
           3
          ],
          [
           3
          ],
          [
           3
          ],
          [
           3
          ],
          [
           4
          ],
          [
           1
          ],
          [
           4
          ],
          [
           4
          ],
          [
           5
          ],
          [
           5
          ],
          [
           5
          ],
          [
           5
          ],
          [
           6
          ],
          [
           5
          ],
          [
           4
          ],
          [
           4
          ],
          [
           5
          ],
          [
           13
          ],
          [
           17
          ],
          [
           17
          ],
          [
           16
          ],
          [
           15
          ],
          [
           15
          ],
          [
           14
          ],
          [
           18
          ],
          [
           14
          ],
          [
           14
          ],
          [
           13
          ],
          [
           11
          ],
          [
           12
          ],
          [
           12
          ],
          [
           11
          ],
          [
           10
          ],
          [
           10
          ],
          [
           9
          ],
          [
           8
          ],
          [
           7
          ],
          [
           6
          ],
          [
           18
          ],
          [
           12
          ],
          [
           19
          ],
          [
           49
          ],
          [
           20
          ],
          [
           43.725
          ],
          [
           40
          ],
          [
           37
          ],
          [
           35
          ],
          [
           33
          ],
          [
           32
          ],
          [
           31
          ],
          [
           30
          ],
          [
           28
          ],
          [
           28
          ],
          [
           19
          ],
          [
           26
          ],
          [
           25
          ],
          [
           24
          ],
          [
           23
          ],
          [
           23
          ],
          [
           22
          ],
          [
           22
          ],
          [
           21.3934
          ],
          [
           21
          ],
          [
           20
          ],
          [
           20
          ],
          [
           26
          ],
          [
           6
          ],
          [
           4
          ],
          [
           2
          ],
          [
           0
          ],
          [
           0
          ],
          [
           0
          ],
          [
           0
          ],
          [
           0
          ],
          [
           0
          ],
          [
           0
          ],
          [
           0
          ],
          [
           0
          ],
          [
           0
          ],
          [
           0
          ],
          [
           0
          ],
          [
           0
          ],
          [
           0
          ],
          [
           0
          ],
          [
           0
          ],
          [
           0
          ],
          [
           0
          ],
          [
           0
          ],
          [
           0
          ],
          [
           0
          ],
          [
           0
          ],
          [
           0
          ],
          [
           4
          ],
          [
           0
          ],
          [
           0
          ],
          [
           2
          ],
          [
           1
          ],
          [
           1
          ],
          [
           1
          ],
          [
           1
          ],
          [
           1
          ],
          [
           1
          ],
          [
           0.1894
          ],
          [
           0
          ],
          [
           0
          ],
          [
           0
          ],
          [
           0
          ],
          [
           0
          ],
          [
           0
          ],
          [
           0
          ],
          [
           0
          ],
          [
           0
          ],
          [
           0
          ],
          [
           0
          ],
          [
           0
          ],
          [
           0
          ],
          [
           0
          ],
          [
           0
          ],
          [
           0
          ]
         ],
         "hovertemplate": "Feature: <b>%{y}</b><br><br>Predict: %{x}<br>Original value: %{customdata[0]}<br>Quantile: %{marker.color}",
         "legendgroup": "",
         "marker": {
          "color": [
           0.95,
           0.4625,
           0.5562,
           0.575,
           0.5938,
           0.607,
           0.6125,
           0.6312,
           0.65,
           0.6688,
           0.6875,
           0.7062,
           0.725,
           0.7438,
           0.7625,
           0.7812,
           0.8,
           0.8188,
           0.8375,
           0.8562,
           0.875,
           0.8938,
           0.9125,
           0.5375,
           0.9312,
           0.5188,
           0.4812,
           0.0873,
           0.0875,
           0.1062,
           0.125,
           0.1438,
           0.1625,
           0.1813,
           0.2,
           0.2188,
           0.2375,
           0.2562,
           0.275,
           0.2938,
           0.3125,
           0.3312,
           0.35,
           0.3687,
           0.3875,
           0.4062,
           0.425,
           0.4438,
           0.5,
           0.0688,
           0.05,
           0.0688,
           0.5562,
           0.575,
           0.5938,
           0.6125,
           0.6312,
           0.65,
           0.6688,
           0.6875,
           0.7062,
           0.725,
           0.7438,
           0.7625,
           0.7812,
           0.8,
           0.8188,
           0.8375,
           0.8562,
           0.875,
           0.8938,
           0.9125,
           0.9312,
           0.5375,
           0.5,
           0.4991,
           0.4812,
           0.05,
           0.0875,
           0.1062,
           0.125,
           0.1438,
           0.1625,
           0.1813,
           0.2,
           0.2188,
           0.2375,
           0.95,
           0.2562,
           0.2938,
           0.3125,
           0.3312,
           0.35,
           0.3687,
           0.3875,
           0.4062,
           0.425,
           0.4438,
           0.4625,
           0.275,
           0.9978,
           0.5188,
           0.5375,
           0.5188,
           0.5562,
           0.575,
           0.5938,
           0.6125,
           0.6312,
           0.65,
           0.6688,
           0.6875,
           0.7062,
           0.5,
           0.725,
           0.7625,
           0.7812,
           0.8,
           0.8188,
           0.8375,
           0.8562,
           0.875,
           0.8938,
           0.9125,
           0.9312,
           0.7438,
           0.95,
           0.4928,
           0.4625,
           0.05,
           0.0688,
           0.0875,
           0.1062,
           0.125,
           0.1438,
           0.1625,
           0.1813,
           0.2,
           0.2188,
           0.4812,
           0.2375,
           0.275,
           0.2938,
           0.3125,
           0.3312,
           0.35,
           0.3687,
           0.3875,
           0.4062,
           0.425,
           0.4438,
           0.2562,
           0.9853,
           0.05,
           0.0875,
           0.4625,
           0.4438,
           0.425,
           0.4062,
           0.3875,
           0.3687,
           0.35,
           0.3312,
           0.3125,
           0.2938,
           0.4812,
           0.275,
           0.2375,
           0.2188,
           0.2,
           0.1813,
           0.1625,
           0.1438,
           0.125,
           0.1062,
           0.9312,
           0.0688,
           0.2562,
           0.4873,
           0.95,
           0.5188,
           0.9743,
           0.5,
           0.8938,
           0.875,
           0.8562,
           0.8375,
           0.8188,
           0.8,
           0.7812,
           0.7625,
           0.7438,
           0.725,
           0.9125,
           0.6875,
           0.6688,
           0.65,
           0.6312,
           0.6125,
           0.5938,
           0.575,
           0.5562,
           0.5375,
           0.7062,
           0.35,
           0.3687,
           0.3875,
           0.0875,
           0.425,
           0.4438,
           0.4625,
           0.1062,
           0.4062,
           0.3312,
           0.2375,
           0.2938,
           0.275,
           0.2562,
           0.2188,
           0.2,
           0.1813,
           0.1625,
           0.1438,
           0.125,
           0.4812,
           0.3125,
           0.5,
           0.6875,
           0.5375,
           0.95,
           0.9941,
           0.9125,
           0.8938,
           0.875,
           0.8562,
           0.8375,
           0.8188,
           0.8,
           0.7812,
           0.5188,
           0.7625,
           0.725,
           0.7062,
           0.6688,
           0.65,
           0.6312,
           0.6125,
           0.6033,
           0.5938,
           0.575,
           0.5562,
           0.7438,
           0.9312,
           0.05,
           0.0688,
           0.5188,
           0.5375,
           0.5562,
           0.575,
           0.5938,
           0.6125,
           0.6312,
           0.65,
           0.6688,
           0.6875,
           0.7062,
           0.725,
           0.7438,
           0.7625,
           0.7812,
           0.8,
           0.8188,
           0.8375,
           0.8562,
           0.875,
           0.8938,
           0.5,
           0.4812,
           0.4625,
           0.4438,
           0.05,
           0.0688,
           0.0793,
           0.0875,
           0.1062,
           0.125,
           0.1438,
           0.1625,
           0.1813,
           0.2,
           0.9125,
           0.2188,
           0.2562,
           0.275,
           0.2938,
           0.3125,
           0.3312,
           0.35,
           0.3687,
           0.3875,
           0.4062,
           0.425,
           0.2375,
           0.9312,
           0.0398,
           0.95,
           0.4625,
           0.4438,
           0.4417,
           0.425,
           0.4062,
           0.3875,
           0.3687,
           0.35,
           0.3312,
           0.3125,
           0.2938,
           0.95,
           0.2562,
           0.2375,
           0.2188,
           0.2,
           0.1813,
           0.1625,
           0.1438,
           0.125,
           0.1062,
           0.0875,
           0.05,
           0.4812,
           0.275,
           0.5,
           0.5375,
           0.9312,
           0.9125,
           0.8938,
           0.8829,
           0.875,
           0.8562,
           0.8375,
           0.8188,
           0.8,
           0.7812,
           0.5188,
           0.7625,
           0.725,
           0.7062,
           0.6875,
           0.6688,
           0.65,
           0.6312,
           0.6125,
           0.5938,
           0.575,
           0.5562,
           0.7438,
           0.0688,
           0.0688,
           0.0875,
           0.575,
           0.5938,
           0.6125,
           0.6176,
           0.6312,
           0.65,
           0.6688,
           0.6875,
           0.7062,
           0.7438,
           0.5562,
           0.7625,
           0.8,
           0.8188,
           0.8375,
           0.8562,
           0.875,
           0.8938,
           0.9125,
           0.9312,
           0.95,
           0.05,
           0.7812,
           0.5375,
           0.725,
           0.5,
           0.5188,
           0.125,
           0.1438,
           0.1625,
           0.1813,
           0.2,
           0.2188,
           0.2375,
           0.2562,
           0.275,
           0.2938,
           0.1062,
           0.3312,
           0.3125,
           0.4625,
           0.4438,
           0.425,
           0.4229,
           0.4812,
           0.3875,
           0.3687,
           0.35,
           0.4062,
           0.2938,
           0.4438,
           0.425,
           0.4062,
           0.3875,
           0.3687,
           0.35,
           0.4625,
           0.3312,
           0.3125,
           0.275,
           0.2,
           0.2527,
           0.2375,
           0.2188,
           0.1813,
           0.1625,
           0.1438,
           0.125,
           0.1062,
           0.0875,
           0.4812,
           0.2562,
           0.5,
           0.95,
           0.5375,
           0.9312,
           0.9125,
           0.8938,
           0.875,
           0.8562,
           0.8375,
           0.8188,
           0.8,
           0.7812,
           0.7625,
           0.5188,
           0.7438,
           0.7062,
           0.6875,
           0.6688,
           0.65,
           0.6312,
           0.6125,
           0.6066,
           0.5938,
           0.575,
           0.5562,
           0.725,
           0.0688,
           0.05,
           0.95,
           0.4625,
           0.4438,
           0.425,
           0.4062,
           0.3875,
           0.3687,
           0.35,
           0.3312,
           0.3125,
           0.2938,
           0.4812,
           0.275,
           0.2375,
           0.2188,
           0.2,
           0.1813,
           0.1625,
           0.1438,
           0.125,
           0.1062,
           0.0875,
           0.05,
           0.2562,
           0.9813,
           0.5,
           0.5375,
           0.9312,
           0.9125,
           0.8938,
           0.875,
           0.8562,
           0.8375,
           0.8188,
           0.8106,
           0.8,
           0.7812,
           0.5188,
           0.7625,
           0.725,
           0.7062,
           0.6875,
           0.6688,
           0.65,
           0.6312,
           0.6125,
           0.5938,
           0.575,
           0.5562,
           0.7438,
           0.0688
          ],
          "coloraxis": "coloraxis",
          "size": [
           0.05,
           0.05,
           0.05,
           0.05,
           0.05,
           0.05,
           0.05,
           0.05,
           0.05,
           0.05,
           0.05,
           0.05,
           0.05,
           0.05,
           0.05,
           0.05,
           0.05,
           0.05,
           0.05,
           0.05,
           0.05,
           0.05,
           0.05,
           0.05,
           0.05,
           0.05,
           0.05,
           0.3,
           0.05,
           0.05,
           0.05,
           0.05,
           0.05,
           0.05,
           0.05,
           0.05,
           0.05,
           0.05,
           0.05,
           0.05,
           0.05,
           0.05,
           0.05,
           0.05,
           0.05,
           0.05,
           0.05,
           0.05,
           0.05,
           0.05,
           0.05,
           0.05,
           0.05,
           0.05,
           0.05,
           0.05,
           0.05,
           0.05,
           0.05,
           0.05,
           0.05,
           0.05,
           0.05,
           0.05,
           0.05,
           0.05,
           0.05,
           0.05,
           0.05,
           0.05,
           0.05,
           0.05,
           0.05,
           0.05,
           0.05,
           0.3,
           0.05,
           0.05,
           0.05,
           0.05,
           0.05,
           0.05,
           0.05,
           0.05,
           0.05,
           0.05,
           0.05,
           0.05,
           0.05,
           0.05,
           0.05,
           0.05,
           0.05,
           0.05,
           0.05,
           0.05,
           0.05,
           0.05,
           0.05,
           0.05,
           0.05,
           0.05,
           0.05,
           0.05,
           0.05,
           0.05,
           0.05,
           0.05,
           0.05,
           0.05,
           0.05,
           0.05,
           0.05,
           0.05,
           0.05,
           0.05,
           0.05,
           0.05,
           0.05,
           0.05,
           0.05,
           0.05,
           0.05,
           0.05,
           0.05,
           0.05,
           0.05,
           0.3,
           0.05,
           0.05,
           0.05,
           0.05,
           0.05,
           0.05,
           0.05,
           0.05,
           0.05,
           0.05,
           0.05,
           0.05,
           0.05,
           0.05,
           0.05,
           0.05,
           0.05,
           0.05,
           0.05,
           0.05,
           0.05,
           0.05,
           0.05,
           0.05,
           0.05,
           0.05,
           0.05,
           0.05,
           0.05,
           0.05,
           0.05,
           0.05,
           0.05,
           0.05,
           0.05,
           0.05,
           0.05,
           0.05,
           0.05,
           0.05,
           0.05,
           0.05,
           0.05,
           0.05,
           0.05,
           0.05,
           0.05,
           0.05,
           0.05,
           0.05,
           0.3,
           0.05,
           0.05,
           0.05,
           0.05,
           0.05,
           0.05,
           0.05,
           0.05,
           0.05,
           0.05,
           0.05,
           0.05,
           0.05,
           0.05,
           0.05,
           0.05,
           0.05,
           0.05,
           0.05,
           0.05,
           0.05,
           0.05,
           0.05,
           0.05,
           0.05,
           0.05,
           0.05,
           0.05,
           0.05,
           0.05,
           0.05,
           0.05,
           0.05,
           0.05,
           0.05,
           0.05,
           0.05,
           0.05,
           0.05,
           0.05,
           0.05,
           0.05,
           0.05,
           0.05,
           0.05,
           0.05,
           0.05,
           0.05,
           0.05,
           0.05,
           0.05,
           0.3,
           0.05,
           0.05,
           0.05,
           0.05,
           0.05,
           0.05,
           0.05,
           0.05,
           0.05,
           0.05,
           0.05,
           0.05,
           0.05,
           0.05,
           0.05,
           0.05,
           0.05,
           0.05,
           0.05,
           0.05,
           0.05,
           0.05,
           0.05,
           0.05,
           0.05,
           0.05,
           0.05,
           0.05,
           0.05,
           0.05,
           0.05,
           0.05,
           0.05,
           0.05,
           0.05,
           0.05,
           0.05,
           0.05,
           0.05,
           0.05,
           0.05,
           0.05,
           0.05,
           0.05,
           0.05,
           0.05,
           0.05,
           0.05,
           0.05,
           0.05,
           0.05,
           0.05,
           0.05,
           0.05,
           0.05,
           0.05,
           0.05,
           0.05,
           0.05,
           0.05,
           0.05,
           0.05,
           0.05,
           0.05,
           0.05,
           0.05,
           0.05,
           0.05,
           0.05,
           0.05,
           0.05,
           0.05,
           0.05,
           0.3,
           0.05,
           0.05,
           0.05,
           0.3,
           0.05,
           0.05,
           0.05,
           0.05,
           0.05,
           0.05,
           0.05,
           0.05,
           0.05,
           0.05,
           0.05,
           0.05,
           0.05,
           0.05,
           0.05,
           0.05,
           0.05,
           0.05,
           0.05,
           0.05,
           0.05,
           0.05,
           0.05,
           0.05,
           0.05,
           0.05,
           0.05,
           0.05,
           0.05,
           0.05,
           0.05,
           0.05,
           0.05,
           0.05,
           0.05,
           0.05,
           0.05,
           0.05,
           0.05,
           0.05,
           0.05,
           0.05,
           0.05,
           0.05,
           0.05,
           0.05,
           0.05,
           0.05,
           0.05,
           0.05,
           0.05,
           0.05,
           0.05,
           0.05,
           0.05,
           0.05,
           0.05,
           0.05,
           0.05,
           0.05,
           0.05,
           0.05,
           0.05,
           0.05,
           0.05,
           0.05,
           0.05,
           0.05,
           0.05,
           0.05,
           0.05,
           0.05,
           0.05,
           0.05,
           0.05,
           0.05,
           0.05,
           0.05,
           0.05,
           0.05,
           0.05,
           0.05,
           0.05,
           0.05,
           0.05,
           0.05,
           0.05,
           0.05,
           0.05,
           0.05,
           0.05,
           0.05,
           0.05,
           0.3,
           0.05,
           0.05,
           0.05,
           0.05,
           0.05,
           0.05,
           0.05,
           0.05,
           0.05,
           0.05,
           0.05,
           0.05,
           0.05,
           0.05,
           0.05,
           0.05,
           0.05,
           0.3,
           0.05,
           0.05,
           0.05,
           0.05,
           0.05,
           0.05,
           0.05,
           0.05,
           0.05,
           0.05,
           0.05,
           0.05,
           0.05,
           0.05,
           0.05,
           0.05,
           0.05,
           0.05,
           0.05,
           0.05,
           0.05,
           0.05,
           0.05,
           0.05,
           0.05,
           0.05,
           0.05,
           0.05,
           0.05,
           0.05,
           0.05,
           0.05,
           0.05,
           0.05,
           0.05,
           0.05,
           0.05,
           0.05,
           0.05,
           0.05,
           0.05,
           0.05,
           0.05,
           0.05,
           0.05,
           0.05,
           0.05,
           0.05,
           0.05,
           0.05,
           0.05,
           0.05,
           0.05,
           0.05,
           0.05,
           0.05,
           0.05,
           0.05,
           0.05,
           0.05,
           0.05,
           0.05,
           0.3,
           0.05,
           0.05,
           0.05,
           0.05,
           0.05,
           0.05,
           0.05,
           0.05,
           0.05,
           0.05,
           0.05,
           0.05,
           0.05,
           0.05,
           0.05,
           0.05,
           0.05,
           0.05,
           0.05,
           0.05,
           0.05,
           0.05,
           0.05,
           0.05,
           0.05,
           0.05
          ],
          "sizemode": "area",
          "sizeref": 0.00075,
          "symbol": "circle"
         },
         "mode": "markers",
         "name": "",
         "orientation": "h",
         "showlegend": false,
         "type": "scatter",
         "x": [
          1.145,
          0.5399,
          0.5575,
          0.5575,
          0.5575,
          0.5763,
          0.6,
          0.6,
          0.6,
          0.6,
          0.6,
          0.6313,
          0.6313,
          0.6313,
          0.6313,
          0.6923,
          0.6923,
          0.6923,
          0.7836,
          0.7836,
          0.8649,
          0.8649,
          0.9208,
          0.5575,
          1.0891,
          0.5575,
          0.5399,
          0.5554,
          0.5554,
          0.5554,
          0.5554,
          0.5554,
          0.5554,
          0.5483,
          0.5483,
          0.5483,
          0.5483,
          0.5483,
          0.5277,
          0.5277,
          0.5277,
          0.5277,
          0.5277,
          0.5277,
          0.5277,
          0.5399,
          0.5399,
          0.5399,
          0.5399,
          0.5554,
          0.5554,
          0.5554,
          0.5554,
          0.5554,
          0.5554,
          0.5554,
          0.5554,
          0.5554,
          0.5554,
          0.5554,
          0.5554,
          0.5554,
          0.5554,
          0.5554,
          0.5554,
          0.5554,
          0.5554,
          0.5554,
          0.5554,
          0.5554,
          0.5554,
          0.5554,
          0.5554,
          0.5554,
          0.5554,
          0.5554,
          0.5554,
          0.5554,
          0.5554,
          0.5554,
          0.5554,
          0.5554,
          0.5554,
          0.5554,
          0.5554,
          0.5554,
          0.5554,
          0.5554,
          0.5554,
          0.5554,
          0.5554,
          0.5554,
          0.5554,
          0.5554,
          0.5554,
          0.5554,
          0.5554,
          0.5554,
          0.5554,
          0.5554,
          0.5554,
          0.5554,
          0.5554,
          0.5554,
          0.5554,
          0.5554,
          0.5554,
          0.5554,
          0.5554,
          0.5554,
          0.5554,
          0.5554,
          0.5554,
          0.5554,
          0.5554,
          0.5554,
          0.5554,
          0.5554,
          0.5554,
          0.5554,
          0.5554,
          0.5554,
          0.5554,
          0.5554,
          0.5554,
          0.5554,
          0.5554,
          0.5554,
          0.5554,
          0.5554,
          0.5554,
          0.5554,
          0.5554,
          0.5554,
          0.5554,
          0.5554,
          0.5554,
          0.5554,
          0.5554,
          0.5554,
          0.5554,
          0.5554,
          0.5554,
          0.5554,
          0.5554,
          0.5554,
          0.5554,
          0.5554,
          0.5554,
          0.5554,
          0.5554,
          0.5554,
          0.5554,
          0.5554,
          0.5554,
          0.5554,
          0.5554,
          0.5554,
          0.5554,
          0.5554,
          0.5554,
          0.5554,
          0.5554,
          0.5554,
          0.5554,
          0.5554,
          0.5554,
          0.5554,
          0.5554,
          0.5554,
          0.5554,
          0.5554,
          0.5554,
          0.5554,
          0.5554,
          0.5554,
          0.5554,
          0.5554,
          0.5554,
          0.5554,
          0.5554,
          0.5554,
          0.5554,
          0.5554,
          0.5554,
          0.5554,
          0.5554,
          0.5554,
          0.5554,
          0.5554,
          0.5554,
          0.5554,
          0.5554,
          0.5554,
          0.5554,
          0.5554,
          0.5554,
          0.5554,
          0.5554,
          0.5554,
          0.5554,
          0.5554,
          0.5554,
          0.5554,
          0.5527,
          0.5526,
          0.5526,
          0.5531,
          0.5526,
          0.5525,
          0.5525,
          0.553,
          0.5526,
          0.5527,
          0.5528,
          0.5527,
          0.5528,
          0.5528,
          0.5528,
          0.5529,
          0.5529,
          0.5529,
          0.553,
          0.553,
          0.5525,
          0.5527,
          0.5525,
          0.5523,
          0.5524,
          0.5525,
          0.5554,
          0.5522,
          0.5522,
          0.5522,
          0.5522,
          0.5522,
          0.5522,
          0.5522,
          0.5522,
          0.5525,
          0.5522,
          0.5522,
          0.5522,
          0.5523,
          0.5523,
          0.5523,
          0.5523,
          0.5523,
          0.5524,
          0.5524,
          0.5524,
          0.5522,
          0.5523,
          0.5531,
          0.5531,
          0.5463,
          0.5463,
          0.5463,
          0.5463,
          0.5463,
          0.5463,
          0.5463,
          0.5463,
          0.5463,
          0.5463,
          0.5463,
          0.5463,
          0.5463,
          0.5463,
          0.5463,
          0.5463,
          0.5463,
          0.5463,
          0.5463,
          0.5463,
          0.5463,
          0.5463,
          0.5463,
          0.5463,
          0.5463,
          0.5554,
          0.5554,
          0.5463,
          0.5463,
          0.5463,
          0.5463,
          0.5463,
          0.5463,
          0.5463,
          0.5463,
          0.5463,
          0.5463,
          0.5463,
          0.5463,
          0.5463,
          0.5463,
          0.5463,
          0.5463,
          0.5463,
          0.5463,
          0.5463,
          0.5463,
          0.5463,
          0.5463,
          0.5554,
          0.5463,
          0.5554,
          0.5554,
          0.5554,
          0.5554,
          0.5554,
          0.5554,
          0.5554,
          0.5554,
          0.5554,
          0.5554,
          0.5554,
          0.5447,
          0.5554,
          0.5554,
          0.5554,
          0.5554,
          0.5554,
          0.5554,
          0.5554,
          0.5554,
          0.5554,
          0.5554,
          0.5554,
          0.5554,
          0.5554,
          0.5554,
          0.5554,
          0.5447,
          0.5447,
          0.5447,
          0.5552,
          0.5554,
          0.5554,
          0.5554,
          0.5554,
          0.5554,
          0.5554,
          0.5554,
          0.5554,
          0.5554,
          0.5554,
          0.5554,
          0.5554,
          0.5554,
          0.5554,
          0.5554,
          0.5554,
          0.5554,
          0.5554,
          0.5554,
          0.5554,
          0.6761,
          0.6761,
          0.5969,
          0.5969,
          0.5969,
          0.5987,
          0.6236,
          0.6236,
          0.6236,
          0.6759,
          0.6759,
          0.7125,
          0.5969,
          0.7125,
          0.7265,
          0.7265,
          0.7936,
          0.8926,
          0.8926,
          0.9351,
          1.0929,
          1.2617,
          1.4689,
          0.7268,
          0.7125,
          0.5672,
          0.6759,
          0.5672,
          0.5672,
          0.6361,
          0.6361,
          0.6361,
          0.6361,
          0.6361,
          0.6099,
          0.6099,
          0.6099,
          0.6099,
          0.5586,
          0.6761,
          0.5586,
          0.5586,
          0.5554,
          0.5554,
          0.5554,
          0.5554,
          0.5672,
          0.5554,
          0.5586,
          0.5586,
          0.5554,
          0.5172,
          0.4369,
          0.4369,
          0.4437,
          0.4503,
          0.4503,
          0.4749,
          0.4411,
          0.4749,
          0.4749,
          0.5172,
          0.5798,
          0.5554,
          0.5554,
          0.5798,
          0.6437,
          0.6437,
          0.6787,
          0.7169,
          0.7648,
          0.8375,
          0.4411,
          0.5554,
          0.4362,
          0.8442,
          0.4635,
          0.9122,
          0.872,
          0.8402,
          0.8074,
          0.7932,
          0.763,
          0.7302,
          0.696,
          0.6487,
          0.6487,
          0.4362,
          0.6146,
          0.5861,
          0.562,
          0.533,
          0.533,
          0.5068,
          0.5068,
          0.4899,
          0.4819,
          0.4635,
          0.4635,
          0.6146,
          0.8375,
          0.9959,
          0.4709,
          0.4489,
          0.4489,
          0.4489,
          0.4489,
          0.4489,
          0.4489,
          0.4489,
          0.4489,
          0.4489,
          0.4489,
          0.4489,
          0.4489,
          0.4489,
          0.4489,
          0.4489,
          0.4489,
          0.4489,
          0.4489,
          0.4489,
          0.4489,
          0.4489,
          0.4489,
          0.4489,
          0.5554,
          0.4489,
          0.4489,
          0.4709,
          0.4623,
          0.4623,
          0.4623,
          0.4623,
          0.4623,
          0.4623,
          0.4481,
          0.4489,
          0.4489,
          0.4489,
          0.4489,
          0.4489,
          0.4489,
          0.4489,
          0.4489,
          0.4489,
          0.4489,
          0.4489,
          0.4489,
          0.4489,
          0.4489,
          0.4489,
          0.4489
         ],
         "xaxis": "x",
         "y": [
          "performance_loss/performance_loss",
          "performance_loss/performance_loss",
          "performance_loss/performance_loss",
          "performance_loss/performance_loss",
          "performance_loss/performance_loss",
          "performance_loss/performance_loss",
          "performance_loss/performance_loss",
          "performance_loss/performance_loss",
          "performance_loss/performance_loss",
          "performance_loss/performance_loss",
          "performance_loss/performance_loss",
          "performance_loss/performance_loss",
          "performance_loss/performance_loss",
          "performance_loss/performance_loss",
          "performance_loss/performance_loss",
          "performance_loss/performance_loss",
          "performance_loss/performance_loss",
          "performance_loss/performance_loss",
          "performance_loss/performance_loss",
          "performance_loss/performance_loss",
          "performance_loss/performance_loss",
          "performance_loss/performance_loss",
          "performance_loss/performance_loss",
          "performance_loss/performance_loss",
          "performance_loss/performance_loss",
          "performance_loss/performance_loss",
          "performance_loss/performance_loss",
          "performance_loss/performance_loss",
          "performance_loss/performance_loss",
          "performance_loss/performance_loss",
          "performance_loss/performance_loss",
          "performance_loss/performance_loss",
          "performance_loss/performance_loss",
          "performance_loss/performance_loss",
          "performance_loss/performance_loss",
          "performance_loss/performance_loss",
          "performance_loss/performance_loss",
          "performance_loss/performance_loss",
          "performance_loss/performance_loss",
          "performance_loss/performance_loss",
          "performance_loss/performance_loss",
          "performance_loss/performance_loss",
          "performance_loss/performance_loss",
          "performance_loss/performance_loss",
          "performance_loss/performance_loss",
          "performance_loss/performance_loss",
          "performance_loss/performance_loss",
          "performance_loss/performance_loss",
          "performance_loss/performance_loss",
          "performance_loss/performance_loss",
          "performance_loss/performance_loss",
          "A_074",
          "A_074",
          "A_074",
          "A_074",
          "A_074",
          "A_074",
          "A_074",
          "A_074",
          "A_074",
          "A_074",
          "A_074",
          "A_074",
          "A_074",
          "A_074",
          "A_074",
          "A_074",
          "A_074",
          "A_074",
          "A_074",
          "A_074",
          "A_074",
          "A_074",
          "A_074",
          "A_074",
          "A_074",
          "A_074",
          "A_074",
          "A_074",
          "A_074",
          "A_074",
          "A_074",
          "A_074",
          "A_074",
          "A_074",
          "A_074",
          "A_074",
          "A_074",
          "A_074",
          "A_074",
          "A_074",
          "A_074",
          "A_074",
          "A_074",
          "A_074",
          "A_074",
          "A_074",
          "A_074",
          "A_074",
          "A_074",
          "A_074",
          "A_074",
          "A_031",
          "A_031",
          "A_031",
          "A_031",
          "A_031",
          "A_031",
          "A_031",
          "A_031",
          "A_031",
          "A_031",
          "A_031",
          "A_031",
          "A_031",
          "A_031",
          "A_031",
          "A_031",
          "A_031",
          "A_031",
          "A_031",
          "A_031",
          "A_031",
          "A_031",
          "A_031",
          "A_031",
          "A_031",
          "A_031",
          "A_031",
          "A_031",
          "A_031",
          "A_031",
          "A_031",
          "A_031",
          "A_031",
          "A_031",
          "A_031",
          "A_031",
          "A_031",
          "A_031",
          "A_031",
          "A_031",
          "A_031",
          "A_031",
          "A_031",
          "A_031",
          "A_031",
          "A_031",
          "A_031",
          "A_031",
          "A_031",
          "A_031",
          "A_031",
          "A_009",
          "A_009",
          "A_009",
          "A_009",
          "A_009",
          "A_009",
          "A_009",
          "A_009",
          "A_009",
          "A_009",
          "A_009",
          "A_009",
          "A_009",
          "A_009",
          "A_009",
          "A_009",
          "A_009",
          "A_009",
          "A_009",
          "A_009",
          "A_009",
          "A_009",
          "A_009",
          "A_009",
          "A_009",
          "A_009",
          "A_009",
          "A_009",
          "A_009",
          "A_009",
          "A_009",
          "A_009",
          "A_009",
          "A_009",
          "A_009",
          "A_009",
          "A_009",
          "A_009",
          "A_009",
          "A_009",
          "A_009",
          "A_009",
          "A_009",
          "A_009",
          "A_009",
          "A_009",
          "A_009",
          "A_009",
          "A_009",
          "A_009",
          "A_009",
          "%downtime",
          "%downtime",
          "%downtime",
          "%downtime",
          "%downtime",
          "%downtime",
          "%downtime",
          "%downtime",
          "%downtime",
          "%downtime",
          "%downtime",
          "%downtime",
          "%downtime",
          "%downtime",
          "%downtime",
          "%downtime",
          "%downtime",
          "%downtime",
          "%downtime",
          "%downtime",
          "%downtime",
          "%downtime",
          "%downtime",
          "%downtime",
          "%downtime",
          "%downtime",
          "%downtime",
          "%downtime",
          "%downtime",
          "%downtime",
          "%downtime",
          "%downtime",
          "%downtime",
          "%downtime",
          "%downtime",
          "%downtime",
          "%downtime",
          "%downtime",
          "%downtime",
          "%downtime",
          "%downtime",
          "%downtime",
          "%downtime",
          "%downtime",
          "%downtime",
          "%downtime",
          "%downtime",
          "%downtime",
          "%downtime",
          "%downtime",
          "%downtime",
          "performance_loss/production",
          "performance_loss/production",
          "performance_loss/production",
          "performance_loss/production",
          "performance_loss/production",
          "performance_loss/production",
          "performance_loss/production",
          "performance_loss/production",
          "performance_loss/production",
          "performance_loss/production",
          "performance_loss/production",
          "performance_loss/production",
          "performance_loss/production",
          "performance_loss/production",
          "performance_loss/production",
          "performance_loss/production",
          "performance_loss/production",
          "performance_loss/production",
          "performance_loss/production",
          "performance_loss/production",
          "performance_loss/production",
          "performance_loss/production",
          "performance_loss/production",
          "performance_loss/production",
          "performance_loss/production",
          "performance_loss/production",
          "performance_loss/production",
          "performance_loss/production",
          "performance_loss/production",
          "performance_loss/production",
          "performance_loss/production",
          "performance_loss/production",
          "performance_loss/production",
          "performance_loss/production",
          "performance_loss/production",
          "performance_loss/production",
          "performance_loss/production",
          "performance_loss/production",
          "performance_loss/production",
          "performance_loss/production",
          "performance_loss/production",
          "performance_loss/production",
          "performance_loss/production",
          "performance_loss/production",
          "performance_loss/production",
          "performance_loss/production",
          "performance_loss/production",
          "performance_loss/production",
          "performance_loss/production",
          "performance_loss/production",
          "performance_loss/production",
          "A_011",
          "A_011",
          "A_011",
          "A_011",
          "A_011",
          "A_011",
          "A_011",
          "A_011",
          "A_011",
          "A_011",
          "A_011",
          "A_011",
          "A_011",
          "A_011",
          "A_011",
          "A_011",
          "A_011",
          "A_011",
          "A_011",
          "A_011",
          "A_011",
          "A_011",
          "A_011",
          "A_011",
          "A_011",
          "A_011",
          "A_011",
          "A_011",
          "A_011",
          "A_011",
          "A_011",
          "A_011",
          "A_011",
          "A_011",
          "A_011",
          "A_011",
          "A_011",
          "A_011",
          "A_011",
          "A_011",
          "A_011",
          "A_011",
          "A_011",
          "A_011",
          "A_011",
          "A_011",
          "A_011",
          "A_011",
          "A_011",
          "A_011",
          "A_011",
          "production/production",
          "production/production",
          "production/production",
          "production/production",
          "production/production",
          "production/production",
          "production/production",
          "production/production",
          "production/production",
          "production/production",
          "production/production",
          "production/production",
          "production/production",
          "production/production",
          "production/production",
          "production/production",
          "production/production",
          "production/production",
          "production/production",
          "production/production",
          "production/production",
          "production/production",
          "production/production",
          "production/production",
          "production/production",
          "production/production",
          "production/production",
          "production/production",
          "production/production",
          "production/production",
          "production/production",
          "production/production",
          "production/production",
          "production/production",
          "production/production",
          "production/production",
          "production/production",
          "production/production",
          "production/production",
          "production/production",
          "production/production",
          "production/production",
          "production/production",
          "production/production",
          "production/production",
          "production/production",
          "production/production",
          "production/production",
          "production/production",
          "production/production",
          "production/production",
          "#changes",
          "#changes",
          "#changes",
          "#changes",
          "#changes",
          "#changes",
          "#changes",
          "#changes",
          "#changes",
          "#changes",
          "#changes",
          "#changes",
          "#changes",
          "#changes",
          "#changes",
          "#changes",
          "#changes",
          "#changes",
          "#changes",
          "#changes",
          "#changes",
          "#changes",
          "#changes",
          "#changes",
          "#changes",
          "#changes",
          "#changes",
          "#changes",
          "#changes",
          "#changes",
          "#changes",
          "#changes",
          "#changes",
          "#changes",
          "#changes",
          "#changes",
          "#changes",
          "#changes",
          "#changes",
          "#changes",
          "#changes",
          "#changes",
          "#changes",
          "#changes",
          "#changes",
          "#changes",
          "#changes",
          "#changes",
          "#changes",
          "#changes",
          "#changes",
          "A_020",
          "A_020",
          "A_020",
          "A_020",
          "A_020",
          "A_020",
          "A_020",
          "A_020",
          "A_020",
          "A_020",
          "A_020",
          "A_020",
          "A_020",
          "A_020",
          "A_020",
          "A_020",
          "A_020",
          "A_020",
          "A_020",
          "A_020",
          "A_020",
          "A_020",
          "A_020",
          "A_020",
          "A_020",
          "A_020",
          "A_020",
          "A_020",
          "A_020",
          "A_020",
          "A_020",
          "A_020",
          "A_020",
          "A_020",
          "A_020",
          "A_020",
          "A_020",
          "A_020",
          "A_020",
          "A_020",
          "A_020",
          "A_020",
          "A_020",
          "A_020",
          "A_020",
          "A_020",
          "A_020",
          "A_020",
          "A_020",
          "A_020",
          "A_020"
         ],
         "yaxis": "y"
        }
       ],
       "layout": {
        "coloraxis": {
         "colorbar": {
          "title": {
           "text": "quantile"
          }
         },
         "colorscale": [
          [
           0,
           "midnightblue"
          ],
          [
           0.5,
           "lightskyblue"
          ],
          [
           1,
           "limegreen"
          ]
         ]
        },
        "legend": {
         "itemsizing": "constant",
         "tracegroupgap": 0
        },
        "shapes": [
         {
          "line": {
           "color": "red",
           "dash": "dash",
           "width": 2
          },
          "type": "line",
          "x0": 0.5554262192154725,
          "x1": 0.5554262192154725,
          "y0": "performance_loss/performance_loss",
          "y1": "A_020"
         },
         {
          "line": {
           "color": "black",
           "dash": "solid",
           "width": 2
          },
          "type": "line",
          "x0": 0.5,
          "x1": 0.5,
          "y0": "performance_loss/performance_loss",
          "y1": "A_020"
         }
        ],
        "template": {
         "data": {
          "bar": [
           {
            "error_x": {
             "color": "#2a3f5f"
            },
            "error_y": {
             "color": "#2a3f5f"
            },
            "marker": {
             "line": {
              "color": "#E5ECF6",
              "width": 0.5
             },
             "pattern": {
              "fillmode": "overlay",
              "size": 10,
              "solidity": 0.2
             }
            },
            "type": "bar"
           }
          ],
          "barpolar": [
           {
            "marker": {
             "line": {
              "color": "#E5ECF6",
              "width": 0.5
             },
             "pattern": {
              "fillmode": "overlay",
              "size": 10,
              "solidity": 0.2
             }
            },
            "type": "barpolar"
           }
          ],
          "carpet": [
           {
            "aaxis": {
             "endlinecolor": "#2a3f5f",
             "gridcolor": "white",
             "linecolor": "white",
             "minorgridcolor": "white",
             "startlinecolor": "#2a3f5f"
            },
            "baxis": {
             "endlinecolor": "#2a3f5f",
             "gridcolor": "white",
             "linecolor": "white",
             "minorgridcolor": "white",
             "startlinecolor": "#2a3f5f"
            },
            "type": "carpet"
           }
          ],
          "choropleth": [
           {
            "colorbar": {
             "outlinewidth": 0,
             "ticks": ""
            },
            "type": "choropleth"
           }
          ],
          "contour": [
           {
            "colorbar": {
             "outlinewidth": 0,
             "ticks": ""
            },
            "colorscale": [
             [
              0,
              "#0d0887"
             ],
             [
              0.1111111111111111,
              "#46039f"
             ],
             [
              0.2222222222222222,
              "#7201a8"
             ],
             [
              0.3333333333333333,
              "#9c179e"
             ],
             [
              0.4444444444444444,
              "#bd3786"
             ],
             [
              0.5555555555555556,
              "#d8576b"
             ],
             [
              0.6666666666666666,
              "#ed7953"
             ],
             [
              0.7777777777777778,
              "#fb9f3a"
             ],
             [
              0.8888888888888888,
              "#fdca26"
             ],
             [
              1,
              "#f0f921"
             ]
            ],
            "type": "contour"
           }
          ],
          "contourcarpet": [
           {
            "colorbar": {
             "outlinewidth": 0,
             "ticks": ""
            },
            "type": "contourcarpet"
           }
          ],
          "heatmap": [
           {
            "colorbar": {
             "outlinewidth": 0,
             "ticks": ""
            },
            "colorscale": [
             [
              0,
              "#0d0887"
             ],
             [
              0.1111111111111111,
              "#46039f"
             ],
             [
              0.2222222222222222,
              "#7201a8"
             ],
             [
              0.3333333333333333,
              "#9c179e"
             ],
             [
              0.4444444444444444,
              "#bd3786"
             ],
             [
              0.5555555555555556,
              "#d8576b"
             ],
             [
              0.6666666666666666,
              "#ed7953"
             ],
             [
              0.7777777777777778,
              "#fb9f3a"
             ],
             [
              0.8888888888888888,
              "#fdca26"
             ],
             [
              1,
              "#f0f921"
             ]
            ],
            "type": "heatmap"
           }
          ],
          "heatmapgl": [
           {
            "colorbar": {
             "outlinewidth": 0,
             "ticks": ""
            },
            "colorscale": [
             [
              0,
              "#0d0887"
             ],
             [
              0.1111111111111111,
              "#46039f"
             ],
             [
              0.2222222222222222,
              "#7201a8"
             ],
             [
              0.3333333333333333,
              "#9c179e"
             ],
             [
              0.4444444444444444,
              "#bd3786"
             ],
             [
              0.5555555555555556,
              "#d8576b"
             ],
             [
              0.6666666666666666,
              "#ed7953"
             ],
             [
              0.7777777777777778,
              "#fb9f3a"
             ],
             [
              0.8888888888888888,
              "#fdca26"
             ],
             [
              1,
              "#f0f921"
             ]
            ],
            "type": "heatmapgl"
           }
          ],
          "histogram": [
           {
            "marker": {
             "pattern": {
              "fillmode": "overlay",
              "size": 10,
              "solidity": 0.2
             }
            },
            "type": "histogram"
           }
          ],
          "histogram2d": [
           {
            "colorbar": {
             "outlinewidth": 0,
             "ticks": ""
            },
            "colorscale": [
             [
              0,
              "#0d0887"
             ],
             [
              0.1111111111111111,
              "#46039f"
             ],
             [
              0.2222222222222222,
              "#7201a8"
             ],
             [
              0.3333333333333333,
              "#9c179e"
             ],
             [
              0.4444444444444444,
              "#bd3786"
             ],
             [
              0.5555555555555556,
              "#d8576b"
             ],
             [
              0.6666666666666666,
              "#ed7953"
             ],
             [
              0.7777777777777778,
              "#fb9f3a"
             ],
             [
              0.8888888888888888,
              "#fdca26"
             ],
             [
              1,
              "#f0f921"
             ]
            ],
            "type": "histogram2d"
           }
          ],
          "histogram2dcontour": [
           {
            "colorbar": {
             "outlinewidth": 0,
             "ticks": ""
            },
            "colorscale": [
             [
              0,
              "#0d0887"
             ],
             [
              0.1111111111111111,
              "#46039f"
             ],
             [
              0.2222222222222222,
              "#7201a8"
             ],
             [
              0.3333333333333333,
              "#9c179e"
             ],
             [
              0.4444444444444444,
              "#bd3786"
             ],
             [
              0.5555555555555556,
              "#d8576b"
             ],
             [
              0.6666666666666666,
              "#ed7953"
             ],
             [
              0.7777777777777778,
              "#fb9f3a"
             ],
             [
              0.8888888888888888,
              "#fdca26"
             ],
             [
              1,
              "#f0f921"
             ]
            ],
            "type": "histogram2dcontour"
           }
          ],
          "mesh3d": [
           {
            "colorbar": {
             "outlinewidth": 0,
             "ticks": ""
            },
            "type": "mesh3d"
           }
          ],
          "parcoords": [
           {
            "line": {
             "colorbar": {
              "outlinewidth": 0,
              "ticks": ""
             }
            },
            "type": "parcoords"
           }
          ],
          "pie": [
           {
            "automargin": true,
            "type": "pie"
           }
          ],
          "scatter": [
           {
            "fillpattern": {
             "fillmode": "overlay",
             "size": 10,
             "solidity": 0.2
            },
            "type": "scatter"
           }
          ],
          "scatter3d": [
           {
            "line": {
             "colorbar": {
              "outlinewidth": 0,
              "ticks": ""
             }
            },
            "marker": {
             "colorbar": {
              "outlinewidth": 0,
              "ticks": ""
             }
            },
            "type": "scatter3d"
           }
          ],
          "scattercarpet": [
           {
            "marker": {
             "colorbar": {
              "outlinewidth": 0,
              "ticks": ""
             }
            },
            "type": "scattercarpet"
           }
          ],
          "scattergeo": [
           {
            "marker": {
             "colorbar": {
              "outlinewidth": 0,
              "ticks": ""
             }
            },
            "type": "scattergeo"
           }
          ],
          "scattergl": [
           {
            "marker": {
             "colorbar": {
              "outlinewidth": 0,
              "ticks": ""
             }
            },
            "type": "scattergl"
           }
          ],
          "scattermapbox": [
           {
            "marker": {
             "colorbar": {
              "outlinewidth": 0,
              "ticks": ""
             }
            },
            "type": "scattermapbox"
           }
          ],
          "scatterpolar": [
           {
            "marker": {
             "colorbar": {
              "outlinewidth": 0,
              "ticks": ""
             }
            },
            "type": "scatterpolar"
           }
          ],
          "scatterpolargl": [
           {
            "marker": {
             "colorbar": {
              "outlinewidth": 0,
              "ticks": ""
             }
            },
            "type": "scatterpolargl"
           }
          ],
          "scatterternary": [
           {
            "marker": {
             "colorbar": {
              "outlinewidth": 0,
              "ticks": ""
             }
            },
            "type": "scatterternary"
           }
          ],
          "surface": [
           {
            "colorbar": {
             "outlinewidth": 0,
             "ticks": ""
            },
            "colorscale": [
             [
              0,
              "#0d0887"
             ],
             [
              0.1111111111111111,
              "#46039f"
             ],
             [
              0.2222222222222222,
              "#7201a8"
             ],
             [
              0.3333333333333333,
              "#9c179e"
             ],
             [
              0.4444444444444444,
              "#bd3786"
             ],
             [
              0.5555555555555556,
              "#d8576b"
             ],
             [
              0.6666666666666666,
              "#ed7953"
             ],
             [
              0.7777777777777778,
              "#fb9f3a"
             ],
             [
              0.8888888888888888,
              "#fdca26"
             ],
             [
              1,
              "#f0f921"
             ]
            ],
            "type": "surface"
           }
          ],
          "table": [
           {
            "cells": {
             "fill": {
              "color": "#EBF0F8"
             },
             "line": {
              "color": "white"
             }
            },
            "header": {
             "fill": {
              "color": "#C8D4E3"
             },
             "line": {
              "color": "white"
             }
            },
            "type": "table"
           }
          ]
         },
         "layout": {
          "annotationdefaults": {
           "arrowcolor": "#2a3f5f",
           "arrowhead": 0,
           "arrowwidth": 1
          },
          "autotypenumbers": "strict",
          "coloraxis": {
           "colorbar": {
            "outlinewidth": 0,
            "ticks": ""
           }
          },
          "colorscale": {
           "diverging": [
            [
             0,
             "#8e0152"
            ],
            [
             0.1,
             "#c51b7d"
            ],
            [
             0.2,
             "#de77ae"
            ],
            [
             0.3,
             "#f1b6da"
            ],
            [
             0.4,
             "#fde0ef"
            ],
            [
             0.5,
             "#f7f7f7"
            ],
            [
             0.6,
             "#e6f5d0"
            ],
            [
             0.7,
             "#b8e186"
            ],
            [
             0.8,
             "#7fbc41"
            ],
            [
             0.9,
             "#4d9221"
            ],
            [
             1,
             "#276419"
            ]
           ],
           "sequential": [
            [
             0,
             "#0d0887"
            ],
            [
             0.1111111111111111,
             "#46039f"
            ],
            [
             0.2222222222222222,
             "#7201a8"
            ],
            [
             0.3333333333333333,
             "#9c179e"
            ],
            [
             0.4444444444444444,
             "#bd3786"
            ],
            [
             0.5555555555555556,
             "#d8576b"
            ],
            [
             0.6666666666666666,
             "#ed7953"
            ],
            [
             0.7777777777777778,
             "#fb9f3a"
            ],
            [
             0.8888888888888888,
             "#fdca26"
            ],
            [
             1,
             "#f0f921"
            ]
           ],
           "sequentialminus": [
            [
             0,
             "#0d0887"
            ],
            [
             0.1111111111111111,
             "#46039f"
            ],
            [
             0.2222222222222222,
             "#7201a8"
            ],
            [
             0.3333333333333333,
             "#9c179e"
            ],
            [
             0.4444444444444444,
             "#bd3786"
            ],
            [
             0.5555555555555556,
             "#d8576b"
            ],
            [
             0.6666666666666666,
             "#ed7953"
            ],
            [
             0.7777777777777778,
             "#fb9f3a"
            ],
            [
             0.8888888888888888,
             "#fdca26"
            ],
            [
             1,
             "#f0f921"
            ]
           ]
          },
          "colorway": [
           "#636efa",
           "#EF553B",
           "#00cc96",
           "#ab63fa",
           "#FFA15A",
           "#19d3f3",
           "#FF6692",
           "#B6E880",
           "#FF97FF",
           "#FECB52"
          ],
          "font": {
           "color": "#2a3f5f"
          },
          "geo": {
           "bgcolor": "white",
           "lakecolor": "white",
           "landcolor": "#E5ECF6",
           "showlakes": true,
           "showland": true,
           "subunitcolor": "white"
          },
          "hoverlabel": {
           "align": "left"
          },
          "hovermode": "closest",
          "mapbox": {
           "style": "light"
          },
          "paper_bgcolor": "white",
          "plot_bgcolor": "#E5ECF6",
          "polar": {
           "angularaxis": {
            "gridcolor": "white",
            "linecolor": "white",
            "ticks": ""
           },
           "bgcolor": "#E5ECF6",
           "radialaxis": {
            "gridcolor": "white",
            "linecolor": "white",
            "ticks": ""
           }
          },
          "scene": {
           "xaxis": {
            "backgroundcolor": "#E5ECF6",
            "gridcolor": "white",
            "gridwidth": 2,
            "linecolor": "white",
            "showbackground": true,
            "ticks": "",
            "zerolinecolor": "white"
           },
           "yaxis": {
            "backgroundcolor": "#E5ECF6",
            "gridcolor": "white",
            "gridwidth": 2,
            "linecolor": "white",
            "showbackground": true,
            "ticks": "",
            "zerolinecolor": "white"
           },
           "zaxis": {
            "backgroundcolor": "#E5ECF6",
            "gridcolor": "white",
            "gridwidth": 2,
            "linecolor": "white",
            "showbackground": true,
            "ticks": "",
            "zerolinecolor": "white"
           }
          },
          "shapedefaults": {
           "line": {
            "color": "#2a3f5f"
           }
          },
          "ternary": {
           "aaxis": {
            "gridcolor": "white",
            "linecolor": "white",
            "ticks": ""
           },
           "baxis": {
            "gridcolor": "white",
            "linecolor": "white",
            "ticks": ""
           },
           "bgcolor": "#E5ECF6",
           "caxis": {
            "gridcolor": "white",
            "linecolor": "white",
            "ticks": ""
           }
          },
          "title": {
           "x": 0.05
          },
          "xaxis": {
           "automargin": true,
           "gridcolor": "white",
           "linecolor": "white",
           "ticks": "",
           "title": {
            "standoff": 15
           },
           "zerolinecolor": "white",
           "zerolinewidth": 2
          },
          "yaxis": {
           "automargin": true,
           "gridcolor": "white",
           "linecolor": "white",
           "ticks": "",
           "title": {
            "standoff": 15
           },
           "zerolinecolor": "white",
           "zerolinewidth": 2
          }
         }
        },
        "title": {
         "text": "Local AcME: observation ID 11598. Predicted: 0.555",
         "x": 0.5,
         "xanchor": "center",
         "y": 0.9,
         "yanchor": "top"
        },
        "xaxis": {
         "anchor": "y",
         "domain": [
          0,
          1
         ],
         "title": {
          "text": "predict"
         }
        },
        "yaxis": {
         "anchor": "x",
         "domain": [
          0,
          1
         ],
         "title": {
          "text": "feature"
         }
        }
       }
      }
     },
     "metadata": {},
     "output_type": "display_data"
    }
   ],
   "source": [
    "k = random.choice(list(acme_local_explanations.keys()))\n",
    "acme_loc_summary_plot = acme_local_explanations[k].summary_plot(local=True, n_features = 10)\n",
    "# acme_loc_summary_plot.update_layout(width = 100 * 15, height = 100 * 6, font = dict(size=18))\n",
    "acme_loc_summary_plot.show()"
   ]
  }
 ],
 "metadata": {
  "kernelspec": {
   "display_name": "Python 3 (ipykernel)",
   "language": "python",
   "name": "python3"
  },
  "language_info": {
   "codemirror_mode": {
    "name": "ipython",
    "version": 3
   },
   "file_extension": ".py",
   "mimetype": "text/x-python",
   "name": "python",
   "nbconvert_exporter": "python",
   "pygments_lexer": "ipython3",
   "version": "3.11.5"
  }
 },
 "nbformat": 4,
 "nbformat_minor": 4
}
