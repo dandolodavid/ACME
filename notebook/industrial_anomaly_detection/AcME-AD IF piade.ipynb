{
 "cells": [
  {
   "cell_type": "code",
   "execution_count": 1,
   "metadata": {},
   "outputs": [],
   "source": [
    "import numpy as np\n",
    "import pandas as pd \n",
    "import random \n",
    "import copy \n",
    "import warnings\n",
    "import sys\n",
    "import pickle\n",
    "\n",
    "from tqdm import tqdm\n",
    "from copy import deepcopy\n",
    "from sklearn.ensemble import IsolationForest\n",
    "\n",
    "sys.path.append('../../')\n",
    "from ACME.ACME import ACME\n",
    "from ACME.visual_utils import * \n",
    "sys.path.remove('../../')\n",
    "\n",
    "warnings.filterwarnings('ignore')\n",
    "\n",
    "# set seed for reproducibility\n",
    "np.random.seed(0)\n",
    "random.seed(0)"
   ]
  },
  {
   "cell_type": "markdown",
   "metadata": {},
   "source": [
    "# AcME-AD to explain Isolation Forest in PIADE sequences dataset"
   ]
  },
  {
   "cell_type": "code",
   "execution_count": 2,
   "metadata": {},
   "outputs": [],
   "source": [
    "# import data\n",
    "data = pd.read_csv('ad_industrial_datasets/piade_sequences_1h_data.csv')\n",
    "data = data.drop(columns=['interval_start'])\n",
    "data = data.fillna(0)\n",
    "\n",
    "features = [c for c in data.columns if c != 'equipment_ID']"
   ]
  },
  {
   "cell_type": "code",
   "execution_count": 3,
   "metadata": {},
   "outputs": [],
   "source": [
    "# split data based on equipment ID\n",
    "equipments = data['equipment_ID'].unique()\n",
    "data_equipment = [data[data['equipment_ID'] ==e] for e in equipments]"
   ]
  },
  {
   "cell_type": "markdown",
   "metadata": {},
   "source": [
    "## Model training"
   ]
  },
  {
   "cell_type": "code",
   "execution_count": 4,
   "metadata": {},
   "outputs": [],
   "source": [
    "def if_score_function(model, X): \n",
    "    return 0.5 * (-model.decision_function(X) + 1)\n",
    "\n",
    "ad_models = []\n",
    "for i in range(len(equipments)):\n",
    "    ad_model = IsolationForest().fit(data_equipment[i][features])\n",
    "    ad_models.append(ad_model)\n",
    "\n",
    "    data_equipment[i]['Score'] = if_score_function(ad_model, data_equipment[i][features])\n",
    "    data_equipment[i]['Prediction'] = ad_model.predict(data_equipment[i][features])\n",
    "    data_equipment[i]['Prediction'] = data_equipment[i]['Prediction'].apply(lambda x: 1 if x == -1 else 0)"
   ]
  },
  {
   "cell_type": "markdown",
   "metadata": {},
   "source": [
    "## Explanations"
   ]
  },
  {
   "cell_type": "code",
   "execution_count": 5,
   "metadata": {},
   "outputs": [
    {
     "name": "stdout",
     "output_type": "stream",
     "text": [
      "Anomalies to explain in equipment 1 : 41\n",
      "Anomalies to explain in equipment 2 : 26\n",
      "Anomalies to explain in equipment 3 : 88\n",
      "Anomalies to explain in equipment 4 : 12\n",
      "Anomalies to explain in equipment 5 : 12\n"
     ]
    }
   ],
   "source": [
    "data_to_explain = []\n",
    "for i in range(len(equipments)): \n",
    "    data_to_explain.append(data_equipment[i][data_equipment[i]['Prediction'] == 1])\n",
    "    print('Anomalies to explain in equipment', i+1, ':', len(data_to_explain[i]))"
   ]
  },
  {
   "cell_type": "markdown",
   "metadata": {},
   "source": [
    "Compute and save explanations for all the equipments"
   ]
  },
  {
   "cell_type": "code",
   "execution_count": 6,
   "metadata": {},
   "outputs": [],
   "source": [
    "# # comment this part if you want to use the our saved explanations explanations\n",
    "# acme_rankings = [pd.DataFrame(columns=features) for _ in range(len(equipments))]\n",
    "# acme_local_explanations = []\n",
    "\n",
    "# for i in range(len(equipments)):\n",
    "#     print('Explaining equipment', i+1, 'with AcME-AD')\n",
    "#     acme_exp = ACME(ad_models[i], 'Score', features=features, task = 'ad', score_function=if_score_function)\n",
    "#     acme_exp = acme_exp.explain(data_equipment[i], robust = True)\n",
    "\n",
    "#     acme_local_table = {}\n",
    "#     for j in tqdm(range(len(data_to_explain[i]))):\n",
    "#         local_explanation = acme_exp.explain_local(data_to_explain[i].iloc[j]) \n",
    "#         feature_table = local_explanation.feature_importance(local=True, weights={\"delta\":0.3, \"ratio\":0.2, \"change\":0.3, \"distance\":0.2})\n",
    "#         acme_rankings[i].loc[j] = feature_table['importance'].rank(ascending=False, method='min')\n",
    "        \n",
    "#         acme_local_table[j] = local_explanation\n",
    "#     acme_local_explanations.append(acme_local_table)"
   ]
  },
  {
   "cell_type": "code",
   "execution_count": 7,
   "metadata": {},
   "outputs": [],
   "source": [
    "# uncomment this part if you want to load the saved explanations\n",
    "# load results \n",
    "with open('results/piade_if_acme_rankings.pkl', 'rb') as f:\n",
    "    acme_rankings = pickle.load(f)\n",
    "\n",
    "with open('results/piade_if_acme_local_explanations.pkl', 'rb') as f:\n",
    "    acme_local_explanations = pickle.load(f)"
   ]
  },
  {
   "cell_type": "markdown",
   "metadata": {},
   "source": [
    "For each equipment plot the stacked barplot. \n",
    "\n",
    "Note: features that are ranked in the k-th positon less than t% of the anomalies are merged in a unique 'other' group. In this case t% = 5%, but different threshold can be taken depending on the application. "
   ]
  },
  {
   "cell_type": "code",
   "execution_count": 8,
   "metadata": {},
   "outputs": [],
   "source": [
    "# custom colors for the results in the paper\n",
    "feature_colors = {\n",
    "    \"#changes\": {\"color\": \"midnightblue\", \"pattern\": \"\"},\n",
    "    \"%idle\": {\"color\": \"limegreen\", \"pattern\": \"+\"},\n",
    "    \"A_004\": {\"color\": \"turquoise\", \"pattern\": \"-\"},\n",
    "    \"A_005\": {\"color\": \"#858be3\", \"pattern\": \"\"},\n",
    "    \"A_008\": {\"color\": \"#ff8200\", \"pattern\": \"-\"},\n",
    "    \"A_010\": {\"color\": \"deepskyblue\", \"pattern\": \".\"},\n",
    "    \"A_012\": {\"color\": \"#a777f1\", \"pattern\": \"\\\\\"},\n",
    "    \"A_017\": {\"color\": \"lightslategray\", \"pattern\": \"|\"},\n",
    "    \"A_020\": {\"color\": \"#665cfa\", \"pattern\": \"x\"},\n",
    "    \"A_027\": {\"color\": \"#008bff\", \"pattern\": \"+\"},\n",
    "    \"count_sum\": {\"color\": \"crimson\", \"pattern\": \"\"},\n",
    "    \"downtime/downtime\": {\"color\": \"#4af5f9\", \"pattern\": \"/\"},\n",
    "    \"idle/idle\": {\"color\": \"wheat\", \"pattern\": \"x\"},\n",
    "    \"idle/performance_loss\": {\"color\": \"lavender\", \"pattern\": \".\"},\n",
    "    \"performance_loss/performance_loss\": {\"color\": 'rosyBrown', \"pattern\": \"|\"},\n",
    "    \"production/production\": {\"color\": \"steelBlue\", \"pattern\": \"\"},\n",
    "    \"production/scheduled_downtime\": {\"color\": \"#00cc7c\", \"pattern\": \"\"},\n",
    "    \"scheduled_downtime/downtime\": {\"color\": \"#ab63fa\", \"pattern\": \".\"},\n",
    "}"
   ]
  },
  {
   "cell_type": "code",
   "execution_count": 9,
   "metadata": {},
   "outputs": [
    {
     "data": {
      "application/vnd.plotly.v1+json": {
       "config": {
        "plotlyServerURL": "https://plot.ly"
       },
       "data": [
        {
         "marker": {
          "color": "midnightblue",
          "pattern": {
           "shape": "",
           "size": 6
          }
         },
         "name": "#changes",
         "showlegend": true,
         "type": "bar",
         "width": 0.6,
         "x": [
          1,
          2,
          3,
          4,
          5
         ],
         "y": [
          0,
          0,
          0,
          0.14634146341463414,
          0.14634146341463414
         ]
        },
        {
         "marker": {
          "color": "lightslategray",
          "pattern": {
           "shape": "/",
           "size": 6
          }
         },
         "name": "%scheduled_downtime",
         "showlegend": true,
         "type": "bar",
         "width": 0.6,
         "x": [
          1,
          2,
          3,
          4,
          5
         ],
         "y": [
          0,
          0,
          0.0975609756097561,
          0,
          0
         ]
        },
        {
         "marker": {
          "color": "limegreen",
          "pattern": {
           "shape": "|",
           "size": 6
          }
         },
         "name": "A_002",
         "showlegend": true,
         "type": "bar",
         "width": 0.6,
         "x": [
          1,
          2,
          3,
          4,
          5
         ],
         "y": [
          0.12195121951219512,
          0,
          0,
          0,
          0
         ]
        },
        {
         "marker": {
          "color": "rosyBrown",
          "pattern": {
           "shape": "x",
           "size": 6
          }
         },
         "name": "A_003",
         "showlegend": true,
         "type": "bar",
         "width": 0.6,
         "x": [
          1,
          2,
          3,
          4,
          5
         ],
         "y": [
          0.12195121951219512,
          0,
          0,
          0,
          0
         ]
        },
        {
         "marker": {
          "color": "#f781bf",
          "pattern": {
           "shape": "-",
           "size": 6
          }
         },
         "name": "A_004",
         "showlegend": true,
         "type": "bar",
         "width": 0.6,
         "x": [
          1,
          2,
          3,
          4,
          5
         ],
         "y": [
          0.07317073170731707,
          0,
          0,
          0,
          0
         ]
        },
        {
         "marker": {
          "color": "#a65628",
          "pattern": {
           "shape": "\\",
           "size": 6
          }
         },
         "name": "A_005",
         "showlegend": true,
         "type": "bar",
         "width": 0.6,
         "x": [
          1,
          2,
          3,
          4,
          5
         ],
         "y": [
          0.07317073170731707,
          0,
          0,
          0,
          0
         ]
        },
        {
         "marker": {
          "color": "#e41a1c",
          "pattern": {
           "shape": "+",
           "size": 6
          }
         },
         "name": "A_010",
         "showlegend": true,
         "type": "bar",
         "width": 0.6,
         "x": [
          1,
          2,
          3,
          4,
          5
         ],
         "y": [
          0.07317073170731707,
          0,
          0,
          0.0975609756097561,
          0
         ]
        },
        {
         "marker": {
          "color": "midnightblue",
          "pattern": {
           "shape": ".",
           "size": 6
          }
         },
         "name": "A_062",
         "showlegend": true,
         "type": "bar",
         "width": 0.6,
         "x": [
          1,
          2,
          3,
          4,
          5
         ],
         "y": [
          0,
          0.07317073170731707,
          0,
          0,
          0
         ]
        },
        {
         "marker": {
          "color": "#dede00",
          "pattern": {
           "shape": "",
           "size": 6
          }
         },
         "name": "A_066",
         "showlegend": true,
         "type": "bar",
         "width": 0.6,
         "x": [
          1,
          2,
          3,
          4,
          5
         ],
         "y": [
          0,
          0.12195121951219512,
          0,
          0.07317073170731707,
          0
         ]
        },
        {
         "marker": {
          "color": "#377eb8",
          "pattern": {
           "shape": "/",
           "size": 6
          }
         },
         "name": "count_sum",
         "showlegend": true,
         "type": "bar",
         "width": 0.6,
         "x": [
          1,
          2,
          3,
          4,
          5
         ],
         "y": [
          0,
          0,
          0.14634146341463414,
          0.0975609756097561,
          0.0975609756097561
         ]
        },
        {
         "marker": {
          "color": "lavender",
          "pattern": {
           "shape": "|",
           "size": 6
          }
         },
         "name": "idle/idle",
         "showlegend": true,
         "type": "bar",
         "width": 0.6,
         "x": [
          1,
          2,
          3,
          4,
          5
         ],
         "y": [
          0,
          0,
          0,
          0,
          0.0975609756097561
         ]
        },
        {
         "marker": {
          "color": "rosyBrown",
          "pattern": {
           "shape": "x",
           "size": 6
          }
         },
         "name": "performance_loss/performance_loss",
         "showlegend": true,
         "type": "bar",
         "width": 0.6,
         "x": [
          1,
          2,
          3,
          4,
          5
         ],
         "y": [
          0,
          0,
          0.1951219512195122,
          0.17073170731707318,
          0.24390243902439024
         ]
        },
        {
         "marker": {
          "color": "#a65628",
          "pattern": {
           "shape": "-",
           "size": 6
          }
         },
         "name": "production/production",
         "showlegend": true,
         "type": "bar",
         "width": 0.6,
         "x": [
          1,
          2,
          3,
          4,
          5
         ],
         "y": [
          0.21951219512195122,
          0.3170731707317073,
          0.12195121951219512,
          0,
          0.07317073170731707
         ]
        },
        {
         "marker": {
          "color": "#984ea3",
          "pattern": {
           "shape": "\\",
           "size": 6
          }
         },
         "name": "scheduled_downtime/scheduled_downtime",
         "showlegend": true,
         "type": "bar",
         "width": 0.6,
         "x": [
          1,
          2,
          3,
          4,
          5
         ],
         "y": [
          0,
          0.07317073170731707,
          0.12195121951219512,
          0.17073170731707318,
          0
         ]
        },
        {
         "marker": {
          "color": "#abb0b8"
         },
         "name": "others",
         "showlegend": true,
         "type": "bar",
         "width": 0.6,
         "x": [
          1,
          2,
          3,
          4,
          5
         ],
         "y": [
          0.31707317073170727,
          0.41463414634146345,
          0.31707317073170727,
          0.24390243902439013,
          0.3414634146341464
         ]
        }
       ],
       "layout": {
        "bargap": 0.1,
        "barmode": "stack",
        "legend": {
         "entrywidth": 0.5,
         "font": {
          "size": 18
         },
         "title": {
          "text": "Feature"
         }
        },
        "template": {
         "data": {
          "bar": [
           {
            "error_x": {
             "color": "#2a3f5f"
            },
            "error_y": {
             "color": "#2a3f5f"
            },
            "marker": {
             "line": {
              "color": "#E5ECF6",
              "width": 0.5
             },
             "pattern": {
              "fillmode": "overlay",
              "size": 10,
              "solidity": 0.2
             }
            },
            "type": "bar"
           }
          ],
          "barpolar": [
           {
            "marker": {
             "line": {
              "color": "#E5ECF6",
              "width": 0.5
             },
             "pattern": {
              "fillmode": "overlay",
              "size": 10,
              "solidity": 0.2
             }
            },
            "type": "barpolar"
           }
          ],
          "carpet": [
           {
            "aaxis": {
             "endlinecolor": "#2a3f5f",
             "gridcolor": "white",
             "linecolor": "white",
             "minorgridcolor": "white",
             "startlinecolor": "#2a3f5f"
            },
            "baxis": {
             "endlinecolor": "#2a3f5f",
             "gridcolor": "white",
             "linecolor": "white",
             "minorgridcolor": "white",
             "startlinecolor": "#2a3f5f"
            },
            "type": "carpet"
           }
          ],
          "choropleth": [
           {
            "colorbar": {
             "outlinewidth": 0,
             "ticks": ""
            },
            "type": "choropleth"
           }
          ],
          "contour": [
           {
            "colorbar": {
             "outlinewidth": 0,
             "ticks": ""
            },
            "colorscale": [
             [
              0,
              "#0d0887"
             ],
             [
              0.1111111111111111,
              "#46039f"
             ],
             [
              0.2222222222222222,
              "#7201a8"
             ],
             [
              0.3333333333333333,
              "#9c179e"
             ],
             [
              0.4444444444444444,
              "#bd3786"
             ],
             [
              0.5555555555555556,
              "#d8576b"
             ],
             [
              0.6666666666666666,
              "#ed7953"
             ],
             [
              0.7777777777777778,
              "#fb9f3a"
             ],
             [
              0.8888888888888888,
              "#fdca26"
             ],
             [
              1,
              "#f0f921"
             ]
            ],
            "type": "contour"
           }
          ],
          "contourcarpet": [
           {
            "colorbar": {
             "outlinewidth": 0,
             "ticks": ""
            },
            "type": "contourcarpet"
           }
          ],
          "heatmap": [
           {
            "colorbar": {
             "outlinewidth": 0,
             "ticks": ""
            },
            "colorscale": [
             [
              0,
              "#0d0887"
             ],
             [
              0.1111111111111111,
              "#46039f"
             ],
             [
              0.2222222222222222,
              "#7201a8"
             ],
             [
              0.3333333333333333,
              "#9c179e"
             ],
             [
              0.4444444444444444,
              "#bd3786"
             ],
             [
              0.5555555555555556,
              "#d8576b"
             ],
             [
              0.6666666666666666,
              "#ed7953"
             ],
             [
              0.7777777777777778,
              "#fb9f3a"
             ],
             [
              0.8888888888888888,
              "#fdca26"
             ],
             [
              1,
              "#f0f921"
             ]
            ],
            "type": "heatmap"
           }
          ],
          "heatmapgl": [
           {
            "colorbar": {
             "outlinewidth": 0,
             "ticks": ""
            },
            "colorscale": [
             [
              0,
              "#0d0887"
             ],
             [
              0.1111111111111111,
              "#46039f"
             ],
             [
              0.2222222222222222,
              "#7201a8"
             ],
             [
              0.3333333333333333,
              "#9c179e"
             ],
             [
              0.4444444444444444,
              "#bd3786"
             ],
             [
              0.5555555555555556,
              "#d8576b"
             ],
             [
              0.6666666666666666,
              "#ed7953"
             ],
             [
              0.7777777777777778,
              "#fb9f3a"
             ],
             [
              0.8888888888888888,
              "#fdca26"
             ],
             [
              1,
              "#f0f921"
             ]
            ],
            "type": "heatmapgl"
           }
          ],
          "histogram": [
           {
            "marker": {
             "pattern": {
              "fillmode": "overlay",
              "size": 10,
              "solidity": 0.2
             }
            },
            "type": "histogram"
           }
          ],
          "histogram2d": [
           {
            "colorbar": {
             "outlinewidth": 0,
             "ticks": ""
            },
            "colorscale": [
             [
              0,
              "#0d0887"
             ],
             [
              0.1111111111111111,
              "#46039f"
             ],
             [
              0.2222222222222222,
              "#7201a8"
             ],
             [
              0.3333333333333333,
              "#9c179e"
             ],
             [
              0.4444444444444444,
              "#bd3786"
             ],
             [
              0.5555555555555556,
              "#d8576b"
             ],
             [
              0.6666666666666666,
              "#ed7953"
             ],
             [
              0.7777777777777778,
              "#fb9f3a"
             ],
             [
              0.8888888888888888,
              "#fdca26"
             ],
             [
              1,
              "#f0f921"
             ]
            ],
            "type": "histogram2d"
           }
          ],
          "histogram2dcontour": [
           {
            "colorbar": {
             "outlinewidth": 0,
             "ticks": ""
            },
            "colorscale": [
             [
              0,
              "#0d0887"
             ],
             [
              0.1111111111111111,
              "#46039f"
             ],
             [
              0.2222222222222222,
              "#7201a8"
             ],
             [
              0.3333333333333333,
              "#9c179e"
             ],
             [
              0.4444444444444444,
              "#bd3786"
             ],
             [
              0.5555555555555556,
              "#d8576b"
             ],
             [
              0.6666666666666666,
              "#ed7953"
             ],
             [
              0.7777777777777778,
              "#fb9f3a"
             ],
             [
              0.8888888888888888,
              "#fdca26"
             ],
             [
              1,
              "#f0f921"
             ]
            ],
            "type": "histogram2dcontour"
           }
          ],
          "mesh3d": [
           {
            "colorbar": {
             "outlinewidth": 0,
             "ticks": ""
            },
            "type": "mesh3d"
           }
          ],
          "parcoords": [
           {
            "line": {
             "colorbar": {
              "outlinewidth": 0,
              "ticks": ""
             }
            },
            "type": "parcoords"
           }
          ],
          "pie": [
           {
            "automargin": true,
            "type": "pie"
           }
          ],
          "scatter": [
           {
            "fillpattern": {
             "fillmode": "overlay",
             "size": 10,
             "solidity": 0.2
            },
            "type": "scatter"
           }
          ],
          "scatter3d": [
           {
            "line": {
             "colorbar": {
              "outlinewidth": 0,
              "ticks": ""
             }
            },
            "marker": {
             "colorbar": {
              "outlinewidth": 0,
              "ticks": ""
             }
            },
            "type": "scatter3d"
           }
          ],
          "scattercarpet": [
           {
            "marker": {
             "colorbar": {
              "outlinewidth": 0,
              "ticks": ""
             }
            },
            "type": "scattercarpet"
           }
          ],
          "scattergeo": [
           {
            "marker": {
             "colorbar": {
              "outlinewidth": 0,
              "ticks": ""
             }
            },
            "type": "scattergeo"
           }
          ],
          "scattergl": [
           {
            "marker": {
             "colorbar": {
              "outlinewidth": 0,
              "ticks": ""
             }
            },
            "type": "scattergl"
           }
          ],
          "scattermapbox": [
           {
            "marker": {
             "colorbar": {
              "outlinewidth": 0,
              "ticks": ""
             }
            },
            "type": "scattermapbox"
           }
          ],
          "scatterpolar": [
           {
            "marker": {
             "colorbar": {
              "outlinewidth": 0,
              "ticks": ""
             }
            },
            "type": "scatterpolar"
           }
          ],
          "scatterpolargl": [
           {
            "marker": {
             "colorbar": {
              "outlinewidth": 0,
              "ticks": ""
             }
            },
            "type": "scatterpolargl"
           }
          ],
          "scatterternary": [
           {
            "marker": {
             "colorbar": {
              "outlinewidth": 0,
              "ticks": ""
             }
            },
            "type": "scatterternary"
           }
          ],
          "surface": [
           {
            "colorbar": {
             "outlinewidth": 0,
             "ticks": ""
            },
            "colorscale": [
             [
              0,
              "#0d0887"
             ],
             [
              0.1111111111111111,
              "#46039f"
             ],
             [
              0.2222222222222222,
              "#7201a8"
             ],
             [
              0.3333333333333333,
              "#9c179e"
             ],
             [
              0.4444444444444444,
              "#bd3786"
             ],
             [
              0.5555555555555556,
              "#d8576b"
             ],
             [
              0.6666666666666666,
              "#ed7953"
             ],
             [
              0.7777777777777778,
              "#fb9f3a"
             ],
             [
              0.8888888888888888,
              "#fdca26"
             ],
             [
              1,
              "#f0f921"
             ]
            ],
            "type": "surface"
           }
          ],
          "table": [
           {
            "cells": {
             "fill": {
              "color": "#EBF0F8"
             },
             "line": {
              "color": "white"
             }
            },
            "header": {
             "fill": {
              "color": "#C8D4E3"
             },
             "line": {
              "color": "white"
             }
            },
            "type": "table"
           }
          ]
         },
         "layout": {
          "annotationdefaults": {
           "arrowcolor": "#2a3f5f",
           "arrowhead": 0,
           "arrowwidth": 1
          },
          "autotypenumbers": "strict",
          "coloraxis": {
           "colorbar": {
            "outlinewidth": 0,
            "ticks": ""
           }
          },
          "colorscale": {
           "diverging": [
            [
             0,
             "#8e0152"
            ],
            [
             0.1,
             "#c51b7d"
            ],
            [
             0.2,
             "#de77ae"
            ],
            [
             0.3,
             "#f1b6da"
            ],
            [
             0.4,
             "#fde0ef"
            ],
            [
             0.5,
             "#f7f7f7"
            ],
            [
             0.6,
             "#e6f5d0"
            ],
            [
             0.7,
             "#b8e186"
            ],
            [
             0.8,
             "#7fbc41"
            ],
            [
             0.9,
             "#4d9221"
            ],
            [
             1,
             "#276419"
            ]
           ],
           "sequential": [
            [
             0,
             "#0d0887"
            ],
            [
             0.1111111111111111,
             "#46039f"
            ],
            [
             0.2222222222222222,
             "#7201a8"
            ],
            [
             0.3333333333333333,
             "#9c179e"
            ],
            [
             0.4444444444444444,
             "#bd3786"
            ],
            [
             0.5555555555555556,
             "#d8576b"
            ],
            [
             0.6666666666666666,
             "#ed7953"
            ],
            [
             0.7777777777777778,
             "#fb9f3a"
            ],
            [
             0.8888888888888888,
             "#fdca26"
            ],
            [
             1,
             "#f0f921"
            ]
           ],
           "sequentialminus": [
            [
             0,
             "#0d0887"
            ],
            [
             0.1111111111111111,
             "#46039f"
            ],
            [
             0.2222222222222222,
             "#7201a8"
            ],
            [
             0.3333333333333333,
             "#9c179e"
            ],
            [
             0.4444444444444444,
             "#bd3786"
            ],
            [
             0.5555555555555556,
             "#d8576b"
            ],
            [
             0.6666666666666666,
             "#ed7953"
            ],
            [
             0.7777777777777778,
             "#fb9f3a"
            ],
            [
             0.8888888888888888,
             "#fdca26"
            ],
            [
             1,
             "#f0f921"
            ]
           ]
          },
          "colorway": [
           "#636efa",
           "#EF553B",
           "#00cc96",
           "#ab63fa",
           "#FFA15A",
           "#19d3f3",
           "#FF6692",
           "#B6E880",
           "#FF97FF",
           "#FECB52"
          ],
          "font": {
           "color": "#2a3f5f"
          },
          "geo": {
           "bgcolor": "white",
           "lakecolor": "white",
           "landcolor": "#E5ECF6",
           "showlakes": true,
           "showland": true,
           "subunitcolor": "white"
          },
          "hoverlabel": {
           "align": "left"
          },
          "hovermode": "closest",
          "mapbox": {
           "style": "light"
          },
          "paper_bgcolor": "white",
          "plot_bgcolor": "#E5ECF6",
          "polar": {
           "angularaxis": {
            "gridcolor": "white",
            "linecolor": "white",
            "ticks": ""
           },
           "bgcolor": "#E5ECF6",
           "radialaxis": {
            "gridcolor": "white",
            "linecolor": "white",
            "ticks": ""
           }
          },
          "scene": {
           "xaxis": {
            "backgroundcolor": "#E5ECF6",
            "gridcolor": "white",
            "gridwidth": 2,
            "linecolor": "white",
            "showbackground": true,
            "ticks": "",
            "zerolinecolor": "white"
           },
           "yaxis": {
            "backgroundcolor": "#E5ECF6",
            "gridcolor": "white",
            "gridwidth": 2,
            "linecolor": "white",
            "showbackground": true,
            "ticks": "",
            "zerolinecolor": "white"
           },
           "zaxis": {
            "backgroundcolor": "#E5ECF6",
            "gridcolor": "white",
            "gridwidth": 2,
            "linecolor": "white",
            "showbackground": true,
            "ticks": "",
            "zerolinecolor": "white"
           }
          },
          "shapedefaults": {
           "line": {
            "color": "#2a3f5f"
           }
          },
          "ternary": {
           "aaxis": {
            "gridcolor": "white",
            "linecolor": "white",
            "ticks": ""
           },
           "baxis": {
            "gridcolor": "white",
            "linecolor": "white",
            "ticks": ""
           },
           "bgcolor": "#E5ECF6",
           "caxis": {
            "gridcolor": "white",
            "linecolor": "white",
            "ticks": ""
           }
          },
          "title": {
           "x": 0.05
          },
          "xaxis": {
           "automargin": true,
           "gridcolor": "white",
           "linecolor": "white",
           "ticks": "",
           "title": {
            "standoff": 15
           },
           "zerolinecolor": "white",
           "zerolinewidth": 2
          },
          "yaxis": {
           "automargin": true,
           "gridcolor": "white",
           "linecolor": "white",
           "ticks": "",
           "title": {
            "standoff": 15
           },
           "zerolinecolor": "white",
           "zerolinewidth": 2
          }
         }
        },
        "title": {
         "font": {
          "size": 18
         },
         "text": "Equipment 1"
        },
        "xaxis": {
         "tickfont": {
          "size": 18
         },
         "tickmode": "array",
         "tickvals": [
          1,
          2,
          3,
          4,
          5
         ],
         "title": {
          "font": {
           "size": 18
          },
          "text": "Ranking Position"
         }
        },
        "yaxis": {
         "tickfont": {
          "size": 18
         },
         "title": {
          "font": {
           "size": 18
          },
          "text": "Normalized Count"
         }
        }
       }
      }
     },
     "metadata": {},
     "output_type": "display_data"
    },
    {
     "data": {
      "application/vnd.plotly.v1+json": {
       "config": {
        "plotlyServerURL": "https://plot.ly"
       },
       "data": [
        {
         "marker": {
          "color": "midnightblue",
          "pattern": {
           "shape": "",
           "size": 6
          }
         },
         "name": "#changes",
         "showlegend": true,
         "type": "bar",
         "width": 0.6,
         "x": [
          1,
          2,
          3,
          4,
          5
         ],
         "y": [
          0,
          0,
          0,
          0,
          0.11538461538461539
         ]
        },
        {
         "marker": {
          "color": "#858be3",
          "pattern": {
           "shape": "",
           "size": 6
          }
         },
         "name": "A_005",
         "showlegend": true,
         "type": "bar",
         "width": 0.6,
         "x": [
          1,
          2,
          3,
          4,
          5
         ],
         "y": [
          0.07692307692307693,
          0,
          0,
          0.07692307692307693,
          0.11538461538461539
         ]
        },
        {
         "marker": {
          "color": "#ff8200",
          "pattern": {
           "shape": "-",
           "size": 6
          }
         },
         "name": "A_008",
         "showlegend": true,
         "type": "bar",
         "width": 0.6,
         "x": [
          1,
          2,
          3,
          4,
          5
         ],
         "y": [
          0.11538461538461539,
          0,
          0,
          0,
          0.07692307692307693
         ]
        },
        {
         "marker": {
          "color": "deepskyblue",
          "pattern": {
           "shape": ".",
           "size": 6
          }
         },
         "name": "A_010",
         "showlegend": true,
         "type": "bar",
         "width": 0.6,
         "x": [
          1,
          2,
          3,
          4,
          5
         ],
         "y": [
          0.15384615384615385,
          0.15384615384615385,
          0.23076923076923078,
          0.19230769230769232,
          0.07692307692307693
         ]
        },
        {
         "marker": {
          "color": "lightslategray",
          "pattern": {
           "shape": "|",
           "size": 6
          }
         },
         "name": "A_017",
         "showlegend": true,
         "type": "bar",
         "width": 0.6,
         "x": [
          1,
          2,
          3,
          4,
          5
         ],
         "y": [
          0.07692307692307693,
          0.07692307692307693,
          0.11538461538461539,
          0,
          0
         ]
        },
        {
         "marker": {
          "color": "#665cfa",
          "pattern": {
           "shape": "x",
           "size": 6
          }
         },
         "name": "A_020",
         "showlegend": true,
         "type": "bar",
         "width": 0.6,
         "x": [
          1,
          2,
          3,
          4,
          5
         ],
         "y": [
          0,
          0.07692307692307693,
          0,
          0,
          0
         ]
        },
        {
         "marker": {
          "color": "#008bff",
          "pattern": {
           "shape": "+",
           "size": 6
          }
         },
         "name": "A_027",
         "showlegend": true,
         "type": "bar",
         "width": 0.6,
         "x": [
          1,
          2,
          3,
          4,
          5
         ],
         "y": [
          0.07692307692307693,
          0,
          0,
          0,
          0
         ]
        },
        {
         "marker": {
          "color": "crimson",
          "pattern": {
           "shape": "",
           "size": 6
          }
         },
         "name": "count_sum",
         "showlegend": true,
         "type": "bar",
         "width": 0.6,
         "x": [
          1,
          2,
          3,
          4,
          5
         ],
         "y": [
          0,
          0,
          0,
          0.07692307692307693,
          0
         ]
        },
        {
         "marker": {
          "color": "#4af5f9",
          "pattern": {
           "shape": "/",
           "size": 6
          }
         },
         "name": "downtime/downtime",
         "showlegend": true,
         "type": "bar",
         "width": 0.6,
         "x": [
          1,
          2,
          3,
          4,
          5
         ],
         "y": [
          0,
          0,
          0.11538461538461539,
          0.19230769230769232,
          0.34615384615384615
         ]
        },
        {
         "marker": {
          "color": "rosyBrown",
          "pattern": {
           "shape": "|",
           "size": 6
          }
         },
         "name": "performance_loss/performance_loss",
         "showlegend": true,
         "type": "bar",
         "width": 0.6,
         "x": [
          1,
          2,
          3,
          4,
          5
         ],
         "y": [
          0.2692307692307692,
          0.23076923076923078,
          0.07692307692307693,
          0.11538461538461539,
          0
         ]
        },
        {
         "marker": {
          "color": "steelBlue",
          "pattern": {
           "shape": "",
           "size": 6
          }
         },
         "name": "production/production",
         "showlegend": true,
         "type": "bar",
         "width": 0.6,
         "x": [
          1,
          2,
          3,
          4,
          5
         ],
         "y": [
          0.11538461538461539,
          0.19230769230769232,
          0.19230769230769232,
          0.15384615384615385,
          0.07692307692307693
         ]
        },
        {
         "marker": {
          "color": "#abb0b8"
         },
         "name": "others",
         "showlegend": true,
         "type": "bar",
         "width": 0.6,
         "x": [
          1,
          2,
          3,
          4,
          5
         ],
         "y": [
          0.11538461538461542,
          0.26923076923076916,
          0.26923076923076916,
          0.19230769230769218,
          0.1923076923076923
         ]
        }
       ],
       "layout": {
        "bargap": 0.1,
        "barmode": "stack",
        "legend": {
         "entrywidth": 0.5,
         "font": {
          "size": 18
         },
         "title": {
          "text": "Feature"
         }
        },
        "template": {
         "data": {
          "bar": [
           {
            "error_x": {
             "color": "#2a3f5f"
            },
            "error_y": {
             "color": "#2a3f5f"
            },
            "marker": {
             "line": {
              "color": "#E5ECF6",
              "width": 0.5
             },
             "pattern": {
              "fillmode": "overlay",
              "size": 10,
              "solidity": 0.2
             }
            },
            "type": "bar"
           }
          ],
          "barpolar": [
           {
            "marker": {
             "line": {
              "color": "#E5ECF6",
              "width": 0.5
             },
             "pattern": {
              "fillmode": "overlay",
              "size": 10,
              "solidity": 0.2
             }
            },
            "type": "barpolar"
           }
          ],
          "carpet": [
           {
            "aaxis": {
             "endlinecolor": "#2a3f5f",
             "gridcolor": "white",
             "linecolor": "white",
             "minorgridcolor": "white",
             "startlinecolor": "#2a3f5f"
            },
            "baxis": {
             "endlinecolor": "#2a3f5f",
             "gridcolor": "white",
             "linecolor": "white",
             "minorgridcolor": "white",
             "startlinecolor": "#2a3f5f"
            },
            "type": "carpet"
           }
          ],
          "choropleth": [
           {
            "colorbar": {
             "outlinewidth": 0,
             "ticks": ""
            },
            "type": "choropleth"
           }
          ],
          "contour": [
           {
            "colorbar": {
             "outlinewidth": 0,
             "ticks": ""
            },
            "colorscale": [
             [
              0,
              "#0d0887"
             ],
             [
              0.1111111111111111,
              "#46039f"
             ],
             [
              0.2222222222222222,
              "#7201a8"
             ],
             [
              0.3333333333333333,
              "#9c179e"
             ],
             [
              0.4444444444444444,
              "#bd3786"
             ],
             [
              0.5555555555555556,
              "#d8576b"
             ],
             [
              0.6666666666666666,
              "#ed7953"
             ],
             [
              0.7777777777777778,
              "#fb9f3a"
             ],
             [
              0.8888888888888888,
              "#fdca26"
             ],
             [
              1,
              "#f0f921"
             ]
            ],
            "type": "contour"
           }
          ],
          "contourcarpet": [
           {
            "colorbar": {
             "outlinewidth": 0,
             "ticks": ""
            },
            "type": "contourcarpet"
           }
          ],
          "heatmap": [
           {
            "colorbar": {
             "outlinewidth": 0,
             "ticks": ""
            },
            "colorscale": [
             [
              0,
              "#0d0887"
             ],
             [
              0.1111111111111111,
              "#46039f"
             ],
             [
              0.2222222222222222,
              "#7201a8"
             ],
             [
              0.3333333333333333,
              "#9c179e"
             ],
             [
              0.4444444444444444,
              "#bd3786"
             ],
             [
              0.5555555555555556,
              "#d8576b"
             ],
             [
              0.6666666666666666,
              "#ed7953"
             ],
             [
              0.7777777777777778,
              "#fb9f3a"
             ],
             [
              0.8888888888888888,
              "#fdca26"
             ],
             [
              1,
              "#f0f921"
             ]
            ],
            "type": "heatmap"
           }
          ],
          "heatmapgl": [
           {
            "colorbar": {
             "outlinewidth": 0,
             "ticks": ""
            },
            "colorscale": [
             [
              0,
              "#0d0887"
             ],
             [
              0.1111111111111111,
              "#46039f"
             ],
             [
              0.2222222222222222,
              "#7201a8"
             ],
             [
              0.3333333333333333,
              "#9c179e"
             ],
             [
              0.4444444444444444,
              "#bd3786"
             ],
             [
              0.5555555555555556,
              "#d8576b"
             ],
             [
              0.6666666666666666,
              "#ed7953"
             ],
             [
              0.7777777777777778,
              "#fb9f3a"
             ],
             [
              0.8888888888888888,
              "#fdca26"
             ],
             [
              1,
              "#f0f921"
             ]
            ],
            "type": "heatmapgl"
           }
          ],
          "histogram": [
           {
            "marker": {
             "pattern": {
              "fillmode": "overlay",
              "size": 10,
              "solidity": 0.2
             }
            },
            "type": "histogram"
           }
          ],
          "histogram2d": [
           {
            "colorbar": {
             "outlinewidth": 0,
             "ticks": ""
            },
            "colorscale": [
             [
              0,
              "#0d0887"
             ],
             [
              0.1111111111111111,
              "#46039f"
             ],
             [
              0.2222222222222222,
              "#7201a8"
             ],
             [
              0.3333333333333333,
              "#9c179e"
             ],
             [
              0.4444444444444444,
              "#bd3786"
             ],
             [
              0.5555555555555556,
              "#d8576b"
             ],
             [
              0.6666666666666666,
              "#ed7953"
             ],
             [
              0.7777777777777778,
              "#fb9f3a"
             ],
             [
              0.8888888888888888,
              "#fdca26"
             ],
             [
              1,
              "#f0f921"
             ]
            ],
            "type": "histogram2d"
           }
          ],
          "histogram2dcontour": [
           {
            "colorbar": {
             "outlinewidth": 0,
             "ticks": ""
            },
            "colorscale": [
             [
              0,
              "#0d0887"
             ],
             [
              0.1111111111111111,
              "#46039f"
             ],
             [
              0.2222222222222222,
              "#7201a8"
             ],
             [
              0.3333333333333333,
              "#9c179e"
             ],
             [
              0.4444444444444444,
              "#bd3786"
             ],
             [
              0.5555555555555556,
              "#d8576b"
             ],
             [
              0.6666666666666666,
              "#ed7953"
             ],
             [
              0.7777777777777778,
              "#fb9f3a"
             ],
             [
              0.8888888888888888,
              "#fdca26"
             ],
             [
              1,
              "#f0f921"
             ]
            ],
            "type": "histogram2dcontour"
           }
          ],
          "mesh3d": [
           {
            "colorbar": {
             "outlinewidth": 0,
             "ticks": ""
            },
            "type": "mesh3d"
           }
          ],
          "parcoords": [
           {
            "line": {
             "colorbar": {
              "outlinewidth": 0,
              "ticks": ""
             }
            },
            "type": "parcoords"
           }
          ],
          "pie": [
           {
            "automargin": true,
            "type": "pie"
           }
          ],
          "scatter": [
           {
            "fillpattern": {
             "fillmode": "overlay",
             "size": 10,
             "solidity": 0.2
            },
            "type": "scatter"
           }
          ],
          "scatter3d": [
           {
            "line": {
             "colorbar": {
              "outlinewidth": 0,
              "ticks": ""
             }
            },
            "marker": {
             "colorbar": {
              "outlinewidth": 0,
              "ticks": ""
             }
            },
            "type": "scatter3d"
           }
          ],
          "scattercarpet": [
           {
            "marker": {
             "colorbar": {
              "outlinewidth": 0,
              "ticks": ""
             }
            },
            "type": "scattercarpet"
           }
          ],
          "scattergeo": [
           {
            "marker": {
             "colorbar": {
              "outlinewidth": 0,
              "ticks": ""
             }
            },
            "type": "scattergeo"
           }
          ],
          "scattergl": [
           {
            "marker": {
             "colorbar": {
              "outlinewidth": 0,
              "ticks": ""
             }
            },
            "type": "scattergl"
           }
          ],
          "scattermapbox": [
           {
            "marker": {
             "colorbar": {
              "outlinewidth": 0,
              "ticks": ""
             }
            },
            "type": "scattermapbox"
           }
          ],
          "scatterpolar": [
           {
            "marker": {
             "colorbar": {
              "outlinewidth": 0,
              "ticks": ""
             }
            },
            "type": "scatterpolar"
           }
          ],
          "scatterpolargl": [
           {
            "marker": {
             "colorbar": {
              "outlinewidth": 0,
              "ticks": ""
             }
            },
            "type": "scatterpolargl"
           }
          ],
          "scatterternary": [
           {
            "marker": {
             "colorbar": {
              "outlinewidth": 0,
              "ticks": ""
             }
            },
            "type": "scatterternary"
           }
          ],
          "surface": [
           {
            "colorbar": {
             "outlinewidth": 0,
             "ticks": ""
            },
            "colorscale": [
             [
              0,
              "#0d0887"
             ],
             [
              0.1111111111111111,
              "#46039f"
             ],
             [
              0.2222222222222222,
              "#7201a8"
             ],
             [
              0.3333333333333333,
              "#9c179e"
             ],
             [
              0.4444444444444444,
              "#bd3786"
             ],
             [
              0.5555555555555556,
              "#d8576b"
             ],
             [
              0.6666666666666666,
              "#ed7953"
             ],
             [
              0.7777777777777778,
              "#fb9f3a"
             ],
             [
              0.8888888888888888,
              "#fdca26"
             ],
             [
              1,
              "#f0f921"
             ]
            ],
            "type": "surface"
           }
          ],
          "table": [
           {
            "cells": {
             "fill": {
              "color": "#EBF0F8"
             },
             "line": {
              "color": "white"
             }
            },
            "header": {
             "fill": {
              "color": "#C8D4E3"
             },
             "line": {
              "color": "white"
             }
            },
            "type": "table"
           }
          ]
         },
         "layout": {
          "annotationdefaults": {
           "arrowcolor": "#2a3f5f",
           "arrowhead": 0,
           "arrowwidth": 1
          },
          "autotypenumbers": "strict",
          "coloraxis": {
           "colorbar": {
            "outlinewidth": 0,
            "ticks": ""
           }
          },
          "colorscale": {
           "diverging": [
            [
             0,
             "#8e0152"
            ],
            [
             0.1,
             "#c51b7d"
            ],
            [
             0.2,
             "#de77ae"
            ],
            [
             0.3,
             "#f1b6da"
            ],
            [
             0.4,
             "#fde0ef"
            ],
            [
             0.5,
             "#f7f7f7"
            ],
            [
             0.6,
             "#e6f5d0"
            ],
            [
             0.7,
             "#b8e186"
            ],
            [
             0.8,
             "#7fbc41"
            ],
            [
             0.9,
             "#4d9221"
            ],
            [
             1,
             "#276419"
            ]
           ],
           "sequential": [
            [
             0,
             "#0d0887"
            ],
            [
             0.1111111111111111,
             "#46039f"
            ],
            [
             0.2222222222222222,
             "#7201a8"
            ],
            [
             0.3333333333333333,
             "#9c179e"
            ],
            [
             0.4444444444444444,
             "#bd3786"
            ],
            [
             0.5555555555555556,
             "#d8576b"
            ],
            [
             0.6666666666666666,
             "#ed7953"
            ],
            [
             0.7777777777777778,
             "#fb9f3a"
            ],
            [
             0.8888888888888888,
             "#fdca26"
            ],
            [
             1,
             "#f0f921"
            ]
           ],
           "sequentialminus": [
            [
             0,
             "#0d0887"
            ],
            [
             0.1111111111111111,
             "#46039f"
            ],
            [
             0.2222222222222222,
             "#7201a8"
            ],
            [
             0.3333333333333333,
             "#9c179e"
            ],
            [
             0.4444444444444444,
             "#bd3786"
            ],
            [
             0.5555555555555556,
             "#d8576b"
            ],
            [
             0.6666666666666666,
             "#ed7953"
            ],
            [
             0.7777777777777778,
             "#fb9f3a"
            ],
            [
             0.8888888888888888,
             "#fdca26"
            ],
            [
             1,
             "#f0f921"
            ]
           ]
          },
          "colorway": [
           "#636efa",
           "#EF553B",
           "#00cc96",
           "#ab63fa",
           "#FFA15A",
           "#19d3f3",
           "#FF6692",
           "#B6E880",
           "#FF97FF",
           "#FECB52"
          ],
          "font": {
           "color": "#2a3f5f"
          },
          "geo": {
           "bgcolor": "white",
           "lakecolor": "white",
           "landcolor": "#E5ECF6",
           "showlakes": true,
           "showland": true,
           "subunitcolor": "white"
          },
          "hoverlabel": {
           "align": "left"
          },
          "hovermode": "closest",
          "mapbox": {
           "style": "light"
          },
          "paper_bgcolor": "white",
          "plot_bgcolor": "#E5ECF6",
          "polar": {
           "angularaxis": {
            "gridcolor": "white",
            "linecolor": "white",
            "ticks": ""
           },
           "bgcolor": "#E5ECF6",
           "radialaxis": {
            "gridcolor": "white",
            "linecolor": "white",
            "ticks": ""
           }
          },
          "scene": {
           "xaxis": {
            "backgroundcolor": "#E5ECF6",
            "gridcolor": "white",
            "gridwidth": 2,
            "linecolor": "white",
            "showbackground": true,
            "ticks": "",
            "zerolinecolor": "white"
           },
           "yaxis": {
            "backgroundcolor": "#E5ECF6",
            "gridcolor": "white",
            "gridwidth": 2,
            "linecolor": "white",
            "showbackground": true,
            "ticks": "",
            "zerolinecolor": "white"
           },
           "zaxis": {
            "backgroundcolor": "#E5ECF6",
            "gridcolor": "white",
            "gridwidth": 2,
            "linecolor": "white",
            "showbackground": true,
            "ticks": "",
            "zerolinecolor": "white"
           }
          },
          "shapedefaults": {
           "line": {
            "color": "#2a3f5f"
           }
          },
          "ternary": {
           "aaxis": {
            "gridcolor": "white",
            "linecolor": "white",
            "ticks": ""
           },
           "baxis": {
            "gridcolor": "white",
            "linecolor": "white",
            "ticks": ""
           },
           "bgcolor": "#E5ECF6",
           "caxis": {
            "gridcolor": "white",
            "linecolor": "white",
            "ticks": ""
           }
          },
          "title": {
           "x": 0.05
          },
          "xaxis": {
           "automargin": true,
           "gridcolor": "white",
           "linecolor": "white",
           "ticks": "",
           "title": {
            "standoff": 15
           },
           "zerolinecolor": "white",
           "zerolinewidth": 2
          },
          "yaxis": {
           "automargin": true,
           "gridcolor": "white",
           "linecolor": "white",
           "ticks": "",
           "title": {
            "standoff": 15
           },
           "zerolinecolor": "white",
           "zerolinewidth": 2
          }
         }
        },
        "title": {
         "font": {
          "size": 18
         },
         "text": "Equipment 2"
        },
        "xaxis": {
         "tickfont": {
          "size": 18
         },
         "tickmode": "array",
         "tickvals": [
          1,
          2,
          3,
          4,
          5
         ],
         "title": {
          "font": {
           "size": 18
          },
          "text": "Ranking Position"
         }
        },
        "yaxis": {
         "tickfont": {
          "size": 18
         },
         "title": {
          "font": {
           "size": 18
          },
          "text": "Normalized Count"
         }
        }
       }
      }
     },
     "metadata": {},
     "output_type": "display_data"
    },
    {
     "data": {
      "application/vnd.plotly.v1+json": {
       "config": {
        "plotlyServerURL": "https://plot.ly"
       },
       "data": [
        {
         "marker": {
          "color": "midnightblue",
          "pattern": {
           "shape": "",
           "size": 6
          }
         },
         "name": "#changes",
         "showlegend": true,
         "type": "bar",
         "width": 0.6,
         "x": [
          1,
          2,
          3,
          4,
          5
         ],
         "y": [
          0,
          0,
          0,
          0.07954545454545454,
          0
         ]
        },
        {
         "marker": {
          "color": "lightslategray",
          "pattern": {
           "shape": "/",
           "size": 6
          }
         },
         "name": "%scheduled_downtime",
         "showlegend": true,
         "type": "bar",
         "width": 0.6,
         "x": [
          1,
          2,
          3,
          4,
          5
         ],
         "y": [
          0,
          0,
          0.06818181818181818,
          0.1590909090909091,
          0
         ]
        },
        {
         "marker": {
          "color": "rosyBrown",
          "pattern": {
           "shape": "|",
           "size": 6
          }
         },
         "name": "A_003",
         "showlegend": true,
         "type": "bar",
         "width": 0.6,
         "x": [
          1,
          2,
          3,
          4,
          5
         ],
         "y": [
          0.06818181818181818,
          0.056818181818181816,
          0,
          0,
          0
         ]
        },
        {
         "marker": {
          "color": "#dede00",
          "pattern": {
           "shape": "x",
           "size": 6
          }
         },
         "name": "A_006",
         "showlegend": true,
         "type": "bar",
         "width": 0.6,
         "x": [
          1,
          2,
          3,
          4,
          5
         ],
         "y": [
          0,
          0,
          0.056818181818181816,
          0,
          0
         ]
        },
        {
         "marker": {
          "color": "#e41a1c",
          "pattern": {
           "shape": "-",
           "size": 6
          }
         },
         "name": "A_010",
         "showlegend": true,
         "type": "bar",
         "width": 0.6,
         "x": [
          1,
          2,
          3,
          4,
          5
         ],
         "y": [
          0.07954545454545454,
          0,
          0,
          0,
          0
         ]
        },
        {
         "marker": {
          "color": "limegreen",
          "pattern": {
           "shape": "\\",
           "size": 6
          }
         },
         "name": "A_017",
         "showlegend": true,
         "type": "bar",
         "width": 0.6,
         "x": [
          1,
          2,
          3,
          4,
          5
         ],
         "y": [
          0,
          0,
          0.056818181818181816,
          0,
          0
         ]
        },
        {
         "marker": {
          "color": "midnightblue",
          "pattern": {
           "shape": "+",
           "size": 6
          }
         },
         "name": "A_020",
         "showlegend": true,
         "type": "bar",
         "width": 0.6,
         "x": [
          1,
          2,
          3,
          4,
          5
         ],
         "y": [
          0.07954545454545454,
          0,
          0,
          0,
          0
         ]
        },
        {
         "marker": {
          "color": "#377eb8",
          "pattern": {
           "shape": ".",
           "size": 6
          }
         },
         "name": "count_sum",
         "showlegend": true,
         "type": "bar",
         "width": 0.6,
         "x": [
          1,
          2,
          3,
          4,
          5
         ],
         "y": [
          0,
          0,
          0,
          0,
          0.056818181818181816
         ]
        },
        {
         "marker": {
          "color": "limegreen",
          "pattern": {
           "shape": "",
           "size": 6
          }
         },
         "name": "downtime/downtime",
         "showlegend": true,
         "type": "bar",
         "width": 0.6,
         "x": [
          1,
          2,
          3,
          4,
          5
         ],
         "y": [
          0,
          0,
          0,
          0,
          0.06818181818181818
         ]
        },
        {
         "marker": {
          "color": "lavender",
          "pattern": {
           "shape": "/",
           "size": 6
          }
         },
         "name": "idle/idle",
         "showlegend": true,
         "type": "bar",
         "width": 0.6,
         "x": [
          1,
          2,
          3,
          4,
          5
         ],
         "y": [
          0,
          0,
          0,
          0.056818181818181816,
          0
         ]
        },
        {
         "marker": {
          "color": "rosyBrown",
          "pattern": {
           "shape": "|",
           "size": 6
          }
         },
         "name": "idle/production",
         "showlegend": true,
         "type": "bar",
         "width": 0.6,
         "x": [
          1,
          2,
          3,
          4,
          5
         ],
         "y": [
          0.11363636363636363,
          0,
          0,
          0,
          0
         ]
        },
        {
         "marker": {
          "color": "#4daf4a",
          "pattern": {
           "shape": "x",
           "size": 6
          }
         },
         "name": "idle/scheduled_downtime",
         "showlegend": true,
         "type": "bar",
         "width": 0.6,
         "x": [
          1,
          2,
          3,
          4,
          5
         ],
         "y": [
          0,
          0.1590909090909091,
          0,
          0,
          0
         ]
        },
        {
         "marker": {
          "color": "rosyBrown",
          "pattern": {
           "shape": "-",
           "size": 6
          }
         },
         "name": "performance_loss/performance_loss",
         "showlegend": true,
         "type": "bar",
         "width": 0.6,
         "x": [
          1,
          2,
          3,
          4,
          5
         ],
         "y": [
          0,
          0.06818181818181818,
          0.07954545454545454,
          0,
          0.10227272727272728
         ]
        },
        {
         "marker": {
          "color": "#984ea3",
          "pattern": {
           "shape": "\\",
           "size": 6
          }
         },
         "name": "production/downtime",
         "showlegend": true,
         "type": "bar",
         "width": 0.6,
         "x": [
          1,
          2,
          3,
          4,
          5
         ],
         "y": [
          0,
          0,
          0.125,
          0.07954545454545454,
          0.22727272727272727
         ]
        },
        {
         "marker": {
          "color": "#a65628",
          "pattern": {
           "shape": "+",
           "size": 6
          }
         },
         "name": "production/production",
         "showlegend": true,
         "type": "bar",
         "width": 0.6,
         "x": [
          1,
          2,
          3,
          4,
          5
         ],
         "y": [
          0,
          0.09090909090909091,
          0.07954545454545454,
          0.07954545454545454,
          0.056818181818181816
         ]
        },
        {
         "marker": {
          "color": "#e41a1c",
          "pattern": {
           "shape": ".",
           "size": 6
          }
         },
         "name": "production/scheduled_downtime",
         "showlegend": true,
         "type": "bar",
         "width": 0.6,
         "x": [
          1,
          2,
          3,
          4,
          5
         ],
         "y": [
          0.056818181818181816,
          0.1590909090909091,
          0.11363636363636363,
          0.056818181818181816,
          0
         ]
        },
        {
         "marker": {
          "color": "#f781bf",
          "pattern": {
           "shape": "",
           "size": 6
          }
         },
         "name": "scheduled_downtime/downtime",
         "showlegend": true,
         "type": "bar",
         "width": 0.6,
         "x": [
          1,
          2,
          3,
          4,
          5
         ],
         "y": [
          0,
          0,
          0.125,
          0.13636363636363635,
          0.18181818181818182
         ]
        },
        {
         "marker": {
          "color": "#984ea3",
          "pattern": {
           "shape": "/",
           "size": 6
          }
         },
         "name": "scheduled_downtime/scheduled_downtime",
         "showlegend": true,
         "type": "bar",
         "width": 0.6,
         "x": [
          1,
          2,
          3,
          4,
          5
         ],
         "y": [
          0.2727272727272727,
          0.125,
          0,
          0,
          0
         ]
        },
        {
         "marker": {
          "color": "#abb0b8"
         },
         "name": "others",
         "showlegend": true,
         "type": "bar",
         "width": 0.6,
         "x": [
          1,
          2,
          3,
          4,
          5
         ],
         "y": [
          0.3295454545454546,
          0.34090909090909094,
          0.2954545454545455,
          0.3522727272727273,
          0.3068181818181819
         ]
        }
       ],
       "layout": {
        "bargap": 0.1,
        "barmode": "stack",
        "legend": {
         "entrywidth": 0.5,
         "font": {
          "size": 18
         },
         "title": {
          "text": "Feature"
         }
        },
        "template": {
         "data": {
          "bar": [
           {
            "error_x": {
             "color": "#2a3f5f"
            },
            "error_y": {
             "color": "#2a3f5f"
            },
            "marker": {
             "line": {
              "color": "#E5ECF6",
              "width": 0.5
             },
             "pattern": {
              "fillmode": "overlay",
              "size": 10,
              "solidity": 0.2
             }
            },
            "type": "bar"
           }
          ],
          "barpolar": [
           {
            "marker": {
             "line": {
              "color": "#E5ECF6",
              "width": 0.5
             },
             "pattern": {
              "fillmode": "overlay",
              "size": 10,
              "solidity": 0.2
             }
            },
            "type": "barpolar"
           }
          ],
          "carpet": [
           {
            "aaxis": {
             "endlinecolor": "#2a3f5f",
             "gridcolor": "white",
             "linecolor": "white",
             "minorgridcolor": "white",
             "startlinecolor": "#2a3f5f"
            },
            "baxis": {
             "endlinecolor": "#2a3f5f",
             "gridcolor": "white",
             "linecolor": "white",
             "minorgridcolor": "white",
             "startlinecolor": "#2a3f5f"
            },
            "type": "carpet"
           }
          ],
          "choropleth": [
           {
            "colorbar": {
             "outlinewidth": 0,
             "ticks": ""
            },
            "type": "choropleth"
           }
          ],
          "contour": [
           {
            "colorbar": {
             "outlinewidth": 0,
             "ticks": ""
            },
            "colorscale": [
             [
              0,
              "#0d0887"
             ],
             [
              0.1111111111111111,
              "#46039f"
             ],
             [
              0.2222222222222222,
              "#7201a8"
             ],
             [
              0.3333333333333333,
              "#9c179e"
             ],
             [
              0.4444444444444444,
              "#bd3786"
             ],
             [
              0.5555555555555556,
              "#d8576b"
             ],
             [
              0.6666666666666666,
              "#ed7953"
             ],
             [
              0.7777777777777778,
              "#fb9f3a"
             ],
             [
              0.8888888888888888,
              "#fdca26"
             ],
             [
              1,
              "#f0f921"
             ]
            ],
            "type": "contour"
           }
          ],
          "contourcarpet": [
           {
            "colorbar": {
             "outlinewidth": 0,
             "ticks": ""
            },
            "type": "contourcarpet"
           }
          ],
          "heatmap": [
           {
            "colorbar": {
             "outlinewidth": 0,
             "ticks": ""
            },
            "colorscale": [
             [
              0,
              "#0d0887"
             ],
             [
              0.1111111111111111,
              "#46039f"
             ],
             [
              0.2222222222222222,
              "#7201a8"
             ],
             [
              0.3333333333333333,
              "#9c179e"
             ],
             [
              0.4444444444444444,
              "#bd3786"
             ],
             [
              0.5555555555555556,
              "#d8576b"
             ],
             [
              0.6666666666666666,
              "#ed7953"
             ],
             [
              0.7777777777777778,
              "#fb9f3a"
             ],
             [
              0.8888888888888888,
              "#fdca26"
             ],
             [
              1,
              "#f0f921"
             ]
            ],
            "type": "heatmap"
           }
          ],
          "heatmapgl": [
           {
            "colorbar": {
             "outlinewidth": 0,
             "ticks": ""
            },
            "colorscale": [
             [
              0,
              "#0d0887"
             ],
             [
              0.1111111111111111,
              "#46039f"
             ],
             [
              0.2222222222222222,
              "#7201a8"
             ],
             [
              0.3333333333333333,
              "#9c179e"
             ],
             [
              0.4444444444444444,
              "#bd3786"
             ],
             [
              0.5555555555555556,
              "#d8576b"
             ],
             [
              0.6666666666666666,
              "#ed7953"
             ],
             [
              0.7777777777777778,
              "#fb9f3a"
             ],
             [
              0.8888888888888888,
              "#fdca26"
             ],
             [
              1,
              "#f0f921"
             ]
            ],
            "type": "heatmapgl"
           }
          ],
          "histogram": [
           {
            "marker": {
             "pattern": {
              "fillmode": "overlay",
              "size": 10,
              "solidity": 0.2
             }
            },
            "type": "histogram"
           }
          ],
          "histogram2d": [
           {
            "colorbar": {
             "outlinewidth": 0,
             "ticks": ""
            },
            "colorscale": [
             [
              0,
              "#0d0887"
             ],
             [
              0.1111111111111111,
              "#46039f"
             ],
             [
              0.2222222222222222,
              "#7201a8"
             ],
             [
              0.3333333333333333,
              "#9c179e"
             ],
             [
              0.4444444444444444,
              "#bd3786"
             ],
             [
              0.5555555555555556,
              "#d8576b"
             ],
             [
              0.6666666666666666,
              "#ed7953"
             ],
             [
              0.7777777777777778,
              "#fb9f3a"
             ],
             [
              0.8888888888888888,
              "#fdca26"
             ],
             [
              1,
              "#f0f921"
             ]
            ],
            "type": "histogram2d"
           }
          ],
          "histogram2dcontour": [
           {
            "colorbar": {
             "outlinewidth": 0,
             "ticks": ""
            },
            "colorscale": [
             [
              0,
              "#0d0887"
             ],
             [
              0.1111111111111111,
              "#46039f"
             ],
             [
              0.2222222222222222,
              "#7201a8"
             ],
             [
              0.3333333333333333,
              "#9c179e"
             ],
             [
              0.4444444444444444,
              "#bd3786"
             ],
             [
              0.5555555555555556,
              "#d8576b"
             ],
             [
              0.6666666666666666,
              "#ed7953"
             ],
             [
              0.7777777777777778,
              "#fb9f3a"
             ],
             [
              0.8888888888888888,
              "#fdca26"
             ],
             [
              1,
              "#f0f921"
             ]
            ],
            "type": "histogram2dcontour"
           }
          ],
          "mesh3d": [
           {
            "colorbar": {
             "outlinewidth": 0,
             "ticks": ""
            },
            "type": "mesh3d"
           }
          ],
          "parcoords": [
           {
            "line": {
             "colorbar": {
              "outlinewidth": 0,
              "ticks": ""
             }
            },
            "type": "parcoords"
           }
          ],
          "pie": [
           {
            "automargin": true,
            "type": "pie"
           }
          ],
          "scatter": [
           {
            "fillpattern": {
             "fillmode": "overlay",
             "size": 10,
             "solidity": 0.2
            },
            "type": "scatter"
           }
          ],
          "scatter3d": [
           {
            "line": {
             "colorbar": {
              "outlinewidth": 0,
              "ticks": ""
             }
            },
            "marker": {
             "colorbar": {
              "outlinewidth": 0,
              "ticks": ""
             }
            },
            "type": "scatter3d"
           }
          ],
          "scattercarpet": [
           {
            "marker": {
             "colorbar": {
              "outlinewidth": 0,
              "ticks": ""
             }
            },
            "type": "scattercarpet"
           }
          ],
          "scattergeo": [
           {
            "marker": {
             "colorbar": {
              "outlinewidth": 0,
              "ticks": ""
             }
            },
            "type": "scattergeo"
           }
          ],
          "scattergl": [
           {
            "marker": {
             "colorbar": {
              "outlinewidth": 0,
              "ticks": ""
             }
            },
            "type": "scattergl"
           }
          ],
          "scattermapbox": [
           {
            "marker": {
             "colorbar": {
              "outlinewidth": 0,
              "ticks": ""
             }
            },
            "type": "scattermapbox"
           }
          ],
          "scatterpolar": [
           {
            "marker": {
             "colorbar": {
              "outlinewidth": 0,
              "ticks": ""
             }
            },
            "type": "scatterpolar"
           }
          ],
          "scatterpolargl": [
           {
            "marker": {
             "colorbar": {
              "outlinewidth": 0,
              "ticks": ""
             }
            },
            "type": "scatterpolargl"
           }
          ],
          "scatterternary": [
           {
            "marker": {
             "colorbar": {
              "outlinewidth": 0,
              "ticks": ""
             }
            },
            "type": "scatterternary"
           }
          ],
          "surface": [
           {
            "colorbar": {
             "outlinewidth": 0,
             "ticks": ""
            },
            "colorscale": [
             [
              0,
              "#0d0887"
             ],
             [
              0.1111111111111111,
              "#46039f"
             ],
             [
              0.2222222222222222,
              "#7201a8"
             ],
             [
              0.3333333333333333,
              "#9c179e"
             ],
             [
              0.4444444444444444,
              "#bd3786"
             ],
             [
              0.5555555555555556,
              "#d8576b"
             ],
             [
              0.6666666666666666,
              "#ed7953"
             ],
             [
              0.7777777777777778,
              "#fb9f3a"
             ],
             [
              0.8888888888888888,
              "#fdca26"
             ],
             [
              1,
              "#f0f921"
             ]
            ],
            "type": "surface"
           }
          ],
          "table": [
           {
            "cells": {
             "fill": {
              "color": "#EBF0F8"
             },
             "line": {
              "color": "white"
             }
            },
            "header": {
             "fill": {
              "color": "#C8D4E3"
             },
             "line": {
              "color": "white"
             }
            },
            "type": "table"
           }
          ]
         },
         "layout": {
          "annotationdefaults": {
           "arrowcolor": "#2a3f5f",
           "arrowhead": 0,
           "arrowwidth": 1
          },
          "autotypenumbers": "strict",
          "coloraxis": {
           "colorbar": {
            "outlinewidth": 0,
            "ticks": ""
           }
          },
          "colorscale": {
           "diverging": [
            [
             0,
             "#8e0152"
            ],
            [
             0.1,
             "#c51b7d"
            ],
            [
             0.2,
             "#de77ae"
            ],
            [
             0.3,
             "#f1b6da"
            ],
            [
             0.4,
             "#fde0ef"
            ],
            [
             0.5,
             "#f7f7f7"
            ],
            [
             0.6,
             "#e6f5d0"
            ],
            [
             0.7,
             "#b8e186"
            ],
            [
             0.8,
             "#7fbc41"
            ],
            [
             0.9,
             "#4d9221"
            ],
            [
             1,
             "#276419"
            ]
           ],
           "sequential": [
            [
             0,
             "#0d0887"
            ],
            [
             0.1111111111111111,
             "#46039f"
            ],
            [
             0.2222222222222222,
             "#7201a8"
            ],
            [
             0.3333333333333333,
             "#9c179e"
            ],
            [
             0.4444444444444444,
             "#bd3786"
            ],
            [
             0.5555555555555556,
             "#d8576b"
            ],
            [
             0.6666666666666666,
             "#ed7953"
            ],
            [
             0.7777777777777778,
             "#fb9f3a"
            ],
            [
             0.8888888888888888,
             "#fdca26"
            ],
            [
             1,
             "#f0f921"
            ]
           ],
           "sequentialminus": [
            [
             0,
             "#0d0887"
            ],
            [
             0.1111111111111111,
             "#46039f"
            ],
            [
             0.2222222222222222,
             "#7201a8"
            ],
            [
             0.3333333333333333,
             "#9c179e"
            ],
            [
             0.4444444444444444,
             "#bd3786"
            ],
            [
             0.5555555555555556,
             "#d8576b"
            ],
            [
             0.6666666666666666,
             "#ed7953"
            ],
            [
             0.7777777777777778,
             "#fb9f3a"
            ],
            [
             0.8888888888888888,
             "#fdca26"
            ],
            [
             1,
             "#f0f921"
            ]
           ]
          },
          "colorway": [
           "#636efa",
           "#EF553B",
           "#00cc96",
           "#ab63fa",
           "#FFA15A",
           "#19d3f3",
           "#FF6692",
           "#B6E880",
           "#FF97FF",
           "#FECB52"
          ],
          "font": {
           "color": "#2a3f5f"
          },
          "geo": {
           "bgcolor": "white",
           "lakecolor": "white",
           "landcolor": "#E5ECF6",
           "showlakes": true,
           "showland": true,
           "subunitcolor": "white"
          },
          "hoverlabel": {
           "align": "left"
          },
          "hovermode": "closest",
          "mapbox": {
           "style": "light"
          },
          "paper_bgcolor": "white",
          "plot_bgcolor": "#E5ECF6",
          "polar": {
           "angularaxis": {
            "gridcolor": "white",
            "linecolor": "white",
            "ticks": ""
           },
           "bgcolor": "#E5ECF6",
           "radialaxis": {
            "gridcolor": "white",
            "linecolor": "white",
            "ticks": ""
           }
          },
          "scene": {
           "xaxis": {
            "backgroundcolor": "#E5ECF6",
            "gridcolor": "white",
            "gridwidth": 2,
            "linecolor": "white",
            "showbackground": true,
            "ticks": "",
            "zerolinecolor": "white"
           },
           "yaxis": {
            "backgroundcolor": "#E5ECF6",
            "gridcolor": "white",
            "gridwidth": 2,
            "linecolor": "white",
            "showbackground": true,
            "ticks": "",
            "zerolinecolor": "white"
           },
           "zaxis": {
            "backgroundcolor": "#E5ECF6",
            "gridcolor": "white",
            "gridwidth": 2,
            "linecolor": "white",
            "showbackground": true,
            "ticks": "",
            "zerolinecolor": "white"
           }
          },
          "shapedefaults": {
           "line": {
            "color": "#2a3f5f"
           }
          },
          "ternary": {
           "aaxis": {
            "gridcolor": "white",
            "linecolor": "white",
            "ticks": ""
           },
           "baxis": {
            "gridcolor": "white",
            "linecolor": "white",
            "ticks": ""
           },
           "bgcolor": "#E5ECF6",
           "caxis": {
            "gridcolor": "white",
            "linecolor": "white",
            "ticks": ""
           }
          },
          "title": {
           "x": 0.05
          },
          "xaxis": {
           "automargin": true,
           "gridcolor": "white",
           "linecolor": "white",
           "ticks": "",
           "title": {
            "standoff": 15
           },
           "zerolinecolor": "white",
           "zerolinewidth": 2
          },
          "yaxis": {
           "automargin": true,
           "gridcolor": "white",
           "linecolor": "white",
           "ticks": "",
           "title": {
            "standoff": 15
           },
           "zerolinecolor": "white",
           "zerolinewidth": 2
          }
         }
        },
        "title": {
         "font": {
          "size": 18
         },
         "text": "Equipment 3"
        },
        "xaxis": {
         "tickfont": {
          "size": 18
         },
         "tickmode": "array",
         "tickvals": [
          1,
          2,
          3,
          4,
          5
         ],
         "title": {
          "font": {
           "size": 18
          },
          "text": "Ranking Position"
         }
        },
        "yaxis": {
         "tickfont": {
          "size": 18
         },
         "title": {
          "font": {
           "size": 18
          },
          "text": "Normalized Count"
         }
        }
       }
      }
     },
     "metadata": {},
     "output_type": "display_data"
    },
    {
     "data": {
      "application/vnd.plotly.v1+json": {
       "config": {
        "plotlyServerURL": "https://plot.ly"
       },
       "data": [
        {
         "marker": {
          "color": "midnightblue",
          "pattern": {
           "shape": "",
           "size": 6
          }
         },
         "name": "#changes",
         "showlegend": true,
         "type": "bar",
         "width": 0.6,
         "x": [
          1,
          2,
          3,
          4,
          5
         ],
         "y": [
          0,
          0.08333333333333333,
          0.16666666666666666,
          0.08333333333333333,
          0.08333333333333333
         ]
        },
        {
         "marker": {
          "color": "#858be3",
          "pattern": {
           "shape": "/",
           "size": 6
          }
         },
         "name": "%downtime",
         "showlegend": true,
         "type": "bar",
         "width": 0.6,
         "x": [
          1,
          2,
          3,
          4,
          5
         ],
         "y": [
          0,
          0,
          0,
          0,
          0.08333333333333333
         ]
        },
        {
         "marker": {
          "color": "lightslategray",
          "pattern": {
           "shape": "|",
           "size": 6
          }
         },
         "name": "%scheduled_downtime",
         "showlegend": true,
         "type": "bar",
         "width": 0.6,
         "x": [
          1,
          2,
          3,
          4,
          5
         ],
         "y": [
          0.08333333333333333,
          0,
          0,
          0,
          0.08333333333333333
         ]
        },
        {
         "marker": {
          "color": "rosyBrown",
          "pattern": {
           "shape": "x",
           "size": 6
          }
         },
         "name": "A_003",
         "showlegend": true,
         "type": "bar",
         "width": 0.6,
         "x": [
          1,
          2,
          3,
          4,
          5
         ],
         "y": [
          0.08333333333333333,
          0,
          0.25,
          0,
          0
         ]
        },
        {
         "marker": {
          "color": "#f781bf",
          "pattern": {
           "shape": "-",
           "size": 6
          }
         },
         "name": "A_004",
         "showlegend": true,
         "type": "bar",
         "width": 0.6,
         "x": [
          1,
          2,
          3,
          4,
          5
         ],
         "y": [
          0,
          0.08333333333333333,
          0,
          0,
          0
         ]
        },
        {
         "marker": {
          "color": "#377eb8",
          "pattern": {
           "shape": "\\",
           "size": 6
          }
         },
         "name": "A_008",
         "showlegend": true,
         "type": "bar",
         "width": 0.6,
         "x": [
          1,
          2,
          3,
          4,
          5
         ],
         "y": [
          0.08333333333333333,
          0,
          0.08333333333333333,
          0,
          0
         ]
        },
        {
         "marker": {
          "color": "#e41a1c",
          "pattern": {
           "shape": "+",
           "size": 6
          }
         },
         "name": "A_010",
         "showlegend": true,
         "type": "bar",
         "width": 0.6,
         "x": [
          1,
          2,
          3,
          4,
          5
         ],
         "y": [
          0.16666666666666666,
          0.16666666666666666,
          0.08333333333333333,
          0,
          0.08333333333333333
         ]
        },
        {
         "marker": {
          "color": "lavender",
          "pattern": {
           "shape": ".",
           "size": 6
          }
         },
         "name": "A_013",
         "showlegend": true,
         "type": "bar",
         "width": 0.6,
         "x": [
          1,
          2,
          3,
          4,
          5
         ],
         "y": [
          0,
          0,
          0.08333333333333333,
          0,
          0
         ]
        },
        {
         "marker": {
          "color": "#999999",
          "pattern": {
           "shape": "",
           "size": 6
          }
         },
         "name": "A_016",
         "showlegend": true,
         "type": "bar",
         "width": 0.6,
         "x": [
          1,
          2,
          3,
          4,
          5
         ],
         "y": [
          0,
          0.08333333333333333,
          0,
          0,
          0.08333333333333333
         ]
        },
        {
         "marker": {
          "color": "limegreen",
          "pattern": {
           "shape": "/",
           "size": 6
          }
         },
         "name": "A_018",
         "showlegend": true,
         "type": "bar",
         "width": 0.6,
         "x": [
          1,
          2,
          3,
          4,
          5
         ],
         "y": [
          0,
          0.08333333333333333,
          0,
          0,
          0
         ]
        },
        {
         "marker": {
          "color": "midnightblue",
          "pattern": {
           "shape": "|",
           "size": 6
          }
         },
         "name": "A_020",
         "showlegend": true,
         "type": "bar",
         "width": 0.6,
         "x": [
          1,
          2,
          3,
          4,
          5
         ],
         "y": [
          0,
          0,
          0,
          0,
          0.08333333333333333
         ]
        },
        {
         "marker": {
          "color": "#377eb8",
          "pattern": {
           "shape": "x",
           "size": 6
          }
         },
         "name": "A_023",
         "showlegend": true,
         "type": "bar",
         "width": 0.6,
         "x": [
          1,
          2,
          3,
          4,
          5
         ],
         "y": [
          0.08333333333333333,
          0,
          0,
          0,
          0
         ]
        },
        {
         "marker": {
          "color": "#f781bf",
          "pattern": {
           "shape": "-",
           "size": 6
          }
         },
         "name": "A_024",
         "showlegend": true,
         "type": "bar",
         "width": 0.6,
         "x": [
          1,
          2,
          3,
          4,
          5
         ],
         "y": [
          0,
          0,
          0,
          0.08333333333333333,
          0
         ]
        },
        {
         "marker": {
          "color": "#dede00",
          "pattern": {
           "shape": "\\",
           "size": 6
          }
         },
         "name": "A_030",
         "showlegend": true,
         "type": "bar",
         "width": 0.6,
         "x": [
          1,
          2,
          3,
          4,
          5
         ],
         "y": [
          0.08333333333333333,
          0,
          0,
          0,
          0
         ]
        },
        {
         "marker": {
          "color": "#858be3",
          "pattern": {
           "shape": "+",
           "size": 6
          }
         },
         "name": "A_031",
         "showlegend": true,
         "type": "bar",
         "width": 0.6,
         "x": [
          1,
          2,
          3,
          4,
          5
         ],
         "y": [
          0,
          0.08333333333333333,
          0,
          0,
          0
         ]
        },
        {
         "marker": {
          "color": "#377eb8",
          "pattern": {
           "shape": ".",
           "size": 6
          }
         },
         "name": "count_sum",
         "showlegend": true,
         "type": "bar",
         "width": 0.6,
         "x": [
          1,
          2,
          3,
          4,
          5
         ],
         "y": [
          0,
          0.16666666666666666,
          0.08333333333333333,
          0.25,
          0.08333333333333333
         ]
        },
        {
         "marker": {
          "color": "limegreen",
          "pattern": {
           "shape": "",
           "size": 6
          }
         },
         "name": "downtime/downtime",
         "showlegend": true,
         "type": "bar",
         "width": 0.6,
         "x": [
          1,
          2,
          3,
          4,
          5
         ],
         "y": [
          0,
          0,
          0,
          0.08333333333333333,
          0.08333333333333333
         ]
        },
        {
         "marker": {
          "color": "rosyBrown",
          "pattern": {
           "shape": "/",
           "size": 6
          }
         },
         "name": "performance_loss/performance_loss",
         "showlegend": true,
         "type": "bar",
         "width": 0.6,
         "x": [
          1,
          2,
          3,
          4,
          5
         ],
         "y": [
          0,
          0,
          0,
          0.16666666666666666,
          0
         ]
        },
        {
         "marker": {
          "color": "#984ea3",
          "pattern": {
           "shape": "|",
           "size": 6
          }
         },
         "name": "production/downtime",
         "showlegend": true,
         "type": "bar",
         "width": 0.6,
         "x": [
          1,
          2,
          3,
          4,
          5
         ],
         "y": [
          0.08333333333333333,
          0.08333333333333333,
          0,
          0.08333333333333333,
          0.16666666666666666
         ]
        },
        {
         "marker": {
          "color": "#a65628",
          "pattern": {
           "shape": "x",
           "size": 6
          }
         },
         "name": "production/production",
         "showlegend": true,
         "type": "bar",
         "width": 0.6,
         "x": [
          1,
          2,
          3,
          4,
          5
         ],
         "y": [
          0,
          0,
          0.08333333333333333,
          0.08333333333333333,
          0.16666666666666666
         ]
        },
        {
         "marker": {
          "color": "#e41a1c",
          "pattern": {
           "shape": "-",
           "size": 6
          }
         },
         "name": "production/scheduled_downtime",
         "showlegend": true,
         "type": "bar",
         "width": 0.6,
         "x": [
          1,
          2,
          3,
          4,
          5
         ],
         "y": [
          0,
          0,
          0.08333333333333333,
          0.16666666666666666,
          0
         ]
        },
        {
         "marker": {
          "color": "#f781bf",
          "pattern": {
           "shape": "\\",
           "size": 6
          }
         },
         "name": "scheduled_downtime/downtime",
         "showlegend": true,
         "type": "bar",
         "width": 0.6,
         "x": [
          1,
          2,
          3,
          4,
          5
         ],
         "y": [
          0.16666666666666666,
          0.16666666666666666,
          0.08333333333333333,
          0,
          0
         ]
        },
        {
         "marker": {
          "color": "#984ea3",
          "pattern": {
           "shape": "+",
           "size": 6
          }
         },
         "name": "scheduled_downtime/scheduled_downtime",
         "showlegend": true,
         "type": "bar",
         "width": 0.6,
         "x": [
          1,
          2,
          3,
          4,
          5
         ],
         "y": [
          0.16666666666666666,
          0,
          0,
          0,
          0
         ]
        },
        {
         "marker": {
          "color": "#abb0b8"
         },
         "name": "others",
         "showlegend": true,
         "type": "bar",
         "width": 0.6,
         "x": [
          1,
          2,
          3,
          4,
          5
         ],
         "y": [
          1.1102230246251565e-16,
          1.1102230246251565e-16,
          0,
          0,
          1.1102230246251565e-16
         ]
        }
       ],
       "layout": {
        "bargap": 0.1,
        "barmode": "stack",
        "legend": {
         "entrywidth": 0.5,
         "font": {
          "size": 18
         },
         "title": {
          "text": "Feature"
         }
        },
        "template": {
         "data": {
          "bar": [
           {
            "error_x": {
             "color": "#2a3f5f"
            },
            "error_y": {
             "color": "#2a3f5f"
            },
            "marker": {
             "line": {
              "color": "#E5ECF6",
              "width": 0.5
             },
             "pattern": {
              "fillmode": "overlay",
              "size": 10,
              "solidity": 0.2
             }
            },
            "type": "bar"
           }
          ],
          "barpolar": [
           {
            "marker": {
             "line": {
              "color": "#E5ECF6",
              "width": 0.5
             },
             "pattern": {
              "fillmode": "overlay",
              "size": 10,
              "solidity": 0.2
             }
            },
            "type": "barpolar"
           }
          ],
          "carpet": [
           {
            "aaxis": {
             "endlinecolor": "#2a3f5f",
             "gridcolor": "white",
             "linecolor": "white",
             "minorgridcolor": "white",
             "startlinecolor": "#2a3f5f"
            },
            "baxis": {
             "endlinecolor": "#2a3f5f",
             "gridcolor": "white",
             "linecolor": "white",
             "minorgridcolor": "white",
             "startlinecolor": "#2a3f5f"
            },
            "type": "carpet"
           }
          ],
          "choropleth": [
           {
            "colorbar": {
             "outlinewidth": 0,
             "ticks": ""
            },
            "type": "choropleth"
           }
          ],
          "contour": [
           {
            "colorbar": {
             "outlinewidth": 0,
             "ticks": ""
            },
            "colorscale": [
             [
              0,
              "#0d0887"
             ],
             [
              0.1111111111111111,
              "#46039f"
             ],
             [
              0.2222222222222222,
              "#7201a8"
             ],
             [
              0.3333333333333333,
              "#9c179e"
             ],
             [
              0.4444444444444444,
              "#bd3786"
             ],
             [
              0.5555555555555556,
              "#d8576b"
             ],
             [
              0.6666666666666666,
              "#ed7953"
             ],
             [
              0.7777777777777778,
              "#fb9f3a"
             ],
             [
              0.8888888888888888,
              "#fdca26"
             ],
             [
              1,
              "#f0f921"
             ]
            ],
            "type": "contour"
           }
          ],
          "contourcarpet": [
           {
            "colorbar": {
             "outlinewidth": 0,
             "ticks": ""
            },
            "type": "contourcarpet"
           }
          ],
          "heatmap": [
           {
            "colorbar": {
             "outlinewidth": 0,
             "ticks": ""
            },
            "colorscale": [
             [
              0,
              "#0d0887"
             ],
             [
              0.1111111111111111,
              "#46039f"
             ],
             [
              0.2222222222222222,
              "#7201a8"
             ],
             [
              0.3333333333333333,
              "#9c179e"
             ],
             [
              0.4444444444444444,
              "#bd3786"
             ],
             [
              0.5555555555555556,
              "#d8576b"
             ],
             [
              0.6666666666666666,
              "#ed7953"
             ],
             [
              0.7777777777777778,
              "#fb9f3a"
             ],
             [
              0.8888888888888888,
              "#fdca26"
             ],
             [
              1,
              "#f0f921"
             ]
            ],
            "type": "heatmap"
           }
          ],
          "heatmapgl": [
           {
            "colorbar": {
             "outlinewidth": 0,
             "ticks": ""
            },
            "colorscale": [
             [
              0,
              "#0d0887"
             ],
             [
              0.1111111111111111,
              "#46039f"
             ],
             [
              0.2222222222222222,
              "#7201a8"
             ],
             [
              0.3333333333333333,
              "#9c179e"
             ],
             [
              0.4444444444444444,
              "#bd3786"
             ],
             [
              0.5555555555555556,
              "#d8576b"
             ],
             [
              0.6666666666666666,
              "#ed7953"
             ],
             [
              0.7777777777777778,
              "#fb9f3a"
             ],
             [
              0.8888888888888888,
              "#fdca26"
             ],
             [
              1,
              "#f0f921"
             ]
            ],
            "type": "heatmapgl"
           }
          ],
          "histogram": [
           {
            "marker": {
             "pattern": {
              "fillmode": "overlay",
              "size": 10,
              "solidity": 0.2
             }
            },
            "type": "histogram"
           }
          ],
          "histogram2d": [
           {
            "colorbar": {
             "outlinewidth": 0,
             "ticks": ""
            },
            "colorscale": [
             [
              0,
              "#0d0887"
             ],
             [
              0.1111111111111111,
              "#46039f"
             ],
             [
              0.2222222222222222,
              "#7201a8"
             ],
             [
              0.3333333333333333,
              "#9c179e"
             ],
             [
              0.4444444444444444,
              "#bd3786"
             ],
             [
              0.5555555555555556,
              "#d8576b"
             ],
             [
              0.6666666666666666,
              "#ed7953"
             ],
             [
              0.7777777777777778,
              "#fb9f3a"
             ],
             [
              0.8888888888888888,
              "#fdca26"
             ],
             [
              1,
              "#f0f921"
             ]
            ],
            "type": "histogram2d"
           }
          ],
          "histogram2dcontour": [
           {
            "colorbar": {
             "outlinewidth": 0,
             "ticks": ""
            },
            "colorscale": [
             [
              0,
              "#0d0887"
             ],
             [
              0.1111111111111111,
              "#46039f"
             ],
             [
              0.2222222222222222,
              "#7201a8"
             ],
             [
              0.3333333333333333,
              "#9c179e"
             ],
             [
              0.4444444444444444,
              "#bd3786"
             ],
             [
              0.5555555555555556,
              "#d8576b"
             ],
             [
              0.6666666666666666,
              "#ed7953"
             ],
             [
              0.7777777777777778,
              "#fb9f3a"
             ],
             [
              0.8888888888888888,
              "#fdca26"
             ],
             [
              1,
              "#f0f921"
             ]
            ],
            "type": "histogram2dcontour"
           }
          ],
          "mesh3d": [
           {
            "colorbar": {
             "outlinewidth": 0,
             "ticks": ""
            },
            "type": "mesh3d"
           }
          ],
          "parcoords": [
           {
            "line": {
             "colorbar": {
              "outlinewidth": 0,
              "ticks": ""
             }
            },
            "type": "parcoords"
           }
          ],
          "pie": [
           {
            "automargin": true,
            "type": "pie"
           }
          ],
          "scatter": [
           {
            "fillpattern": {
             "fillmode": "overlay",
             "size": 10,
             "solidity": 0.2
            },
            "type": "scatter"
           }
          ],
          "scatter3d": [
           {
            "line": {
             "colorbar": {
              "outlinewidth": 0,
              "ticks": ""
             }
            },
            "marker": {
             "colorbar": {
              "outlinewidth": 0,
              "ticks": ""
             }
            },
            "type": "scatter3d"
           }
          ],
          "scattercarpet": [
           {
            "marker": {
             "colorbar": {
              "outlinewidth": 0,
              "ticks": ""
             }
            },
            "type": "scattercarpet"
           }
          ],
          "scattergeo": [
           {
            "marker": {
             "colorbar": {
              "outlinewidth": 0,
              "ticks": ""
             }
            },
            "type": "scattergeo"
           }
          ],
          "scattergl": [
           {
            "marker": {
             "colorbar": {
              "outlinewidth": 0,
              "ticks": ""
             }
            },
            "type": "scattergl"
           }
          ],
          "scattermapbox": [
           {
            "marker": {
             "colorbar": {
              "outlinewidth": 0,
              "ticks": ""
             }
            },
            "type": "scattermapbox"
           }
          ],
          "scatterpolar": [
           {
            "marker": {
             "colorbar": {
              "outlinewidth": 0,
              "ticks": ""
             }
            },
            "type": "scatterpolar"
           }
          ],
          "scatterpolargl": [
           {
            "marker": {
             "colorbar": {
              "outlinewidth": 0,
              "ticks": ""
             }
            },
            "type": "scatterpolargl"
           }
          ],
          "scatterternary": [
           {
            "marker": {
             "colorbar": {
              "outlinewidth": 0,
              "ticks": ""
             }
            },
            "type": "scatterternary"
           }
          ],
          "surface": [
           {
            "colorbar": {
             "outlinewidth": 0,
             "ticks": ""
            },
            "colorscale": [
             [
              0,
              "#0d0887"
             ],
             [
              0.1111111111111111,
              "#46039f"
             ],
             [
              0.2222222222222222,
              "#7201a8"
             ],
             [
              0.3333333333333333,
              "#9c179e"
             ],
             [
              0.4444444444444444,
              "#bd3786"
             ],
             [
              0.5555555555555556,
              "#d8576b"
             ],
             [
              0.6666666666666666,
              "#ed7953"
             ],
             [
              0.7777777777777778,
              "#fb9f3a"
             ],
             [
              0.8888888888888888,
              "#fdca26"
             ],
             [
              1,
              "#f0f921"
             ]
            ],
            "type": "surface"
           }
          ],
          "table": [
           {
            "cells": {
             "fill": {
              "color": "#EBF0F8"
             },
             "line": {
              "color": "white"
             }
            },
            "header": {
             "fill": {
              "color": "#C8D4E3"
             },
             "line": {
              "color": "white"
             }
            },
            "type": "table"
           }
          ]
         },
         "layout": {
          "annotationdefaults": {
           "arrowcolor": "#2a3f5f",
           "arrowhead": 0,
           "arrowwidth": 1
          },
          "autotypenumbers": "strict",
          "coloraxis": {
           "colorbar": {
            "outlinewidth": 0,
            "ticks": ""
           }
          },
          "colorscale": {
           "diverging": [
            [
             0,
             "#8e0152"
            ],
            [
             0.1,
             "#c51b7d"
            ],
            [
             0.2,
             "#de77ae"
            ],
            [
             0.3,
             "#f1b6da"
            ],
            [
             0.4,
             "#fde0ef"
            ],
            [
             0.5,
             "#f7f7f7"
            ],
            [
             0.6,
             "#e6f5d0"
            ],
            [
             0.7,
             "#b8e186"
            ],
            [
             0.8,
             "#7fbc41"
            ],
            [
             0.9,
             "#4d9221"
            ],
            [
             1,
             "#276419"
            ]
           ],
           "sequential": [
            [
             0,
             "#0d0887"
            ],
            [
             0.1111111111111111,
             "#46039f"
            ],
            [
             0.2222222222222222,
             "#7201a8"
            ],
            [
             0.3333333333333333,
             "#9c179e"
            ],
            [
             0.4444444444444444,
             "#bd3786"
            ],
            [
             0.5555555555555556,
             "#d8576b"
            ],
            [
             0.6666666666666666,
             "#ed7953"
            ],
            [
             0.7777777777777778,
             "#fb9f3a"
            ],
            [
             0.8888888888888888,
             "#fdca26"
            ],
            [
             1,
             "#f0f921"
            ]
           ],
           "sequentialminus": [
            [
             0,
             "#0d0887"
            ],
            [
             0.1111111111111111,
             "#46039f"
            ],
            [
             0.2222222222222222,
             "#7201a8"
            ],
            [
             0.3333333333333333,
             "#9c179e"
            ],
            [
             0.4444444444444444,
             "#bd3786"
            ],
            [
             0.5555555555555556,
             "#d8576b"
            ],
            [
             0.6666666666666666,
             "#ed7953"
            ],
            [
             0.7777777777777778,
             "#fb9f3a"
            ],
            [
             0.8888888888888888,
             "#fdca26"
            ],
            [
             1,
             "#f0f921"
            ]
           ]
          },
          "colorway": [
           "#636efa",
           "#EF553B",
           "#00cc96",
           "#ab63fa",
           "#FFA15A",
           "#19d3f3",
           "#FF6692",
           "#B6E880",
           "#FF97FF",
           "#FECB52"
          ],
          "font": {
           "color": "#2a3f5f"
          },
          "geo": {
           "bgcolor": "white",
           "lakecolor": "white",
           "landcolor": "#E5ECF6",
           "showlakes": true,
           "showland": true,
           "subunitcolor": "white"
          },
          "hoverlabel": {
           "align": "left"
          },
          "hovermode": "closest",
          "mapbox": {
           "style": "light"
          },
          "paper_bgcolor": "white",
          "plot_bgcolor": "#E5ECF6",
          "polar": {
           "angularaxis": {
            "gridcolor": "white",
            "linecolor": "white",
            "ticks": ""
           },
           "bgcolor": "#E5ECF6",
           "radialaxis": {
            "gridcolor": "white",
            "linecolor": "white",
            "ticks": ""
           }
          },
          "scene": {
           "xaxis": {
            "backgroundcolor": "#E5ECF6",
            "gridcolor": "white",
            "gridwidth": 2,
            "linecolor": "white",
            "showbackground": true,
            "ticks": "",
            "zerolinecolor": "white"
           },
           "yaxis": {
            "backgroundcolor": "#E5ECF6",
            "gridcolor": "white",
            "gridwidth": 2,
            "linecolor": "white",
            "showbackground": true,
            "ticks": "",
            "zerolinecolor": "white"
           },
           "zaxis": {
            "backgroundcolor": "#E5ECF6",
            "gridcolor": "white",
            "gridwidth": 2,
            "linecolor": "white",
            "showbackground": true,
            "ticks": "",
            "zerolinecolor": "white"
           }
          },
          "shapedefaults": {
           "line": {
            "color": "#2a3f5f"
           }
          },
          "ternary": {
           "aaxis": {
            "gridcolor": "white",
            "linecolor": "white",
            "ticks": ""
           },
           "baxis": {
            "gridcolor": "white",
            "linecolor": "white",
            "ticks": ""
           },
           "bgcolor": "#E5ECF6",
           "caxis": {
            "gridcolor": "white",
            "linecolor": "white",
            "ticks": ""
           }
          },
          "title": {
           "x": 0.05
          },
          "xaxis": {
           "automargin": true,
           "gridcolor": "white",
           "linecolor": "white",
           "ticks": "",
           "title": {
            "standoff": 15
           },
           "zerolinecolor": "white",
           "zerolinewidth": 2
          },
          "yaxis": {
           "automargin": true,
           "gridcolor": "white",
           "linecolor": "white",
           "ticks": "",
           "title": {
            "standoff": 15
           },
           "zerolinecolor": "white",
           "zerolinewidth": 2
          }
         }
        },
        "title": {
         "font": {
          "size": 18
         },
         "text": "Equipment 4"
        },
        "xaxis": {
         "tickfont": {
          "size": 18
         },
         "tickmode": "array",
         "tickvals": [
          1,
          2,
          3,
          4,
          5
         ],
         "title": {
          "font": {
           "size": 18
          },
          "text": "Ranking Position"
         }
        },
        "yaxis": {
         "tickfont": {
          "size": 18
         },
         "title": {
          "font": {
           "size": 18
          },
          "text": "Normalized Count"
         }
        }
       }
      }
     },
     "metadata": {},
     "output_type": "display_data"
    },
    {
     "data": {
      "application/vnd.plotly.v1+json": {
       "config": {
        "plotlyServerURL": "https://plot.ly"
       },
       "data": [
        {
         "marker": {
          "color": "limegreen",
          "pattern": {
           "shape": "",
           "size": 6
          }
         },
         "name": "A_002",
         "showlegend": true,
         "type": "bar",
         "width": 0.6,
         "x": [
          1,
          2,
          3,
          4,
          5
         ],
         "y": [
          0,
          0,
          0,
          0,
          0.16666666666666666
         ]
        },
        {
         "marker": {
          "color": "lightslategray",
          "pattern": {
           "shape": "/",
           "size": 6
          }
         },
         "name": "A_012",
         "showlegend": true,
         "type": "bar",
         "width": 0.6,
         "x": [
          1,
          2,
          3,
          4,
          5
         ],
         "y": [
          0,
          0.08333333333333333,
          0,
          0,
          0
         ]
        },
        {
         "marker": {
          "color": "lavender",
          "pattern": {
           "shape": "|",
           "size": 6
          }
         },
         "name": "A_013",
         "showlegend": true,
         "type": "bar",
         "width": 0.6,
         "x": [
          1,
          2,
          3,
          4,
          5
         ],
         "y": [
          0.08333333333333333,
          0,
          0,
          0,
          0
         ]
        },
        {
         "marker": {
          "color": "limegreen",
          "pattern": {
           "shape": "x",
           "size": 6
          }
         },
         "name": "A_017",
         "showlegend": true,
         "type": "bar",
         "width": 0.6,
         "x": [
          1,
          2,
          3,
          4,
          5
         ],
         "y": [
          0,
          0,
          0,
          0.08333333333333333,
          0
         ]
        },
        {
         "marker": {
          "color": "#999999",
          "pattern": {
           "shape": "-",
           "size": 6
          }
         },
         "name": "A_021",
         "showlegend": true,
         "type": "bar",
         "width": 0.6,
         "x": [
          1,
          2,
          3,
          4,
          5
         ],
         "y": [
          0.08333333333333333,
          0,
          0,
          0,
          0
         ]
        },
        {
         "marker": {
          "color": "#f781bf",
          "pattern": {
           "shape": "\\",
           "size": 6
          }
         },
         "name": "A_024",
         "showlegend": true,
         "type": "bar",
         "width": 0.6,
         "x": [
          1,
          2,
          3,
          4,
          5
         ],
         "y": [
          0.08333333333333333,
          0,
          0,
          0,
          0
         ]
        },
        {
         "marker": {
          "color": "#377eb8",
          "pattern": {
           "shape": "+",
           "size": 6
          }
         },
         "name": "A_071",
         "showlegend": true,
         "type": "bar",
         "width": 0.6,
         "x": [
          1,
          2,
          3,
          4,
          5
         ],
         "y": [
          0,
          0,
          0.08333333333333333,
          0,
          0
         ]
        },
        {
         "marker": {
          "color": "#377eb8",
          "pattern": {
           "shape": ".",
           "size": 6
          }
         },
         "name": "A_108",
         "showlegend": true,
         "type": "bar",
         "width": 0.6,
         "x": [
          1,
          2,
          3,
          4,
          5
         ],
         "y": [
          0.08333333333333333,
          0,
          0,
          0,
          0
         ]
        },
        {
         "marker": {
          "color": "turquoise",
          "pattern": {
           "shape": "",
           "size": 6
          }
         },
         "name": "A_113",
         "showlegend": true,
         "type": "bar",
         "width": 0.6,
         "x": [
          1,
          2,
          3,
          4,
          5
         ],
         "y": [
          0,
          0,
          0.08333333333333333,
          0,
          0
         ]
        },
        {
         "marker": {
          "color": "#984ea3",
          "pattern": {
           "shape": "/",
           "size": 6
          }
         },
         "name": "A_116",
         "showlegend": true,
         "type": "bar",
         "width": 0.6,
         "x": [
          1,
          2,
          3,
          4,
          5
         ],
         "y": [
          0,
          0,
          0.08333333333333333,
          0,
          0
         ]
        },
        {
         "marker": {
          "color": "#377eb8",
          "pattern": {
           "shape": "|",
           "size": 6
          }
         },
         "name": "count_sum",
         "showlegend": true,
         "type": "bar",
         "width": 0.6,
         "x": [
          1,
          2,
          3,
          4,
          5
         ],
         "y": [
          0,
          0.08333333333333333,
          0,
          0,
          0
         ]
        },
        {
         "marker": {
          "color": "limegreen",
          "pattern": {
           "shape": "x",
           "size": 6
          }
         },
         "name": "downtime/downtime",
         "showlegend": true,
         "type": "bar",
         "width": 0.6,
         "x": [
          1,
          2,
          3,
          4,
          5
         ],
         "y": [
          0,
          0,
          0,
          0,
          0.08333333333333333
         ]
        },
        {
         "marker": {
          "color": "lavender",
          "pattern": {
           "shape": "-",
           "size": 6
          }
         },
         "name": "idle/idle",
         "showlegend": true,
         "type": "bar",
         "width": 0.6,
         "x": [
          1,
          2,
          3,
          4,
          5
         ],
         "y": [
          0.08333333333333333,
          0,
          0.08333333333333333,
          0,
          0.3333333333333333
         ]
        },
        {
         "marker": {
          "color": "#984ea3",
          "pattern": {
           "shape": "\\",
           "size": 6
          }
         },
         "name": "production/downtime",
         "showlegend": true,
         "type": "bar",
         "width": 0.6,
         "x": [
          1,
          2,
          3,
          4,
          5
         ],
         "y": [
          0,
          0.08333333333333333,
          0.25,
          0.4166666666666667,
          0.16666666666666666
         ]
        },
        {
         "marker": {
          "color": "#e41a1c",
          "pattern": {
           "shape": "+",
           "size": 6
          }
         },
         "name": "production/scheduled_downtime",
         "showlegend": true,
         "type": "bar",
         "width": 0.6,
         "x": [
          1,
          2,
          3,
          4,
          5
         ],
         "y": [
          0.16666666666666666,
          0.5,
          0.08333333333333333,
          0.08333333333333333,
          0.08333333333333333
         ]
        },
        {
         "marker": {
          "color": "#f781bf",
          "pattern": {
           "shape": ".",
           "size": 6
          }
         },
         "name": "scheduled_downtime/downtime",
         "showlegend": true,
         "type": "bar",
         "width": 0.6,
         "x": [
          1,
          2,
          3,
          4,
          5
         ],
         "y": [
          0,
          0,
          0.3333333333333333,
          0.3333333333333333,
          0.16666666666666666
         ]
        },
        {
         "marker": {
          "color": "#984ea3",
          "pattern": {
           "shape": "",
           "size": 6
          }
         },
         "name": "scheduled_downtime/scheduled_downtime",
         "showlegend": true,
         "type": "bar",
         "width": 0.6,
         "x": [
          1,
          2,
          3,
          4,
          5
         ],
         "y": [
          0.4166666666666667,
          0.25,
          0,
          0.08333333333333333,
          0
         ]
        },
        {
         "marker": {
          "color": "#abb0b8"
         },
         "name": "others",
         "showlegend": true,
         "type": "bar",
         "width": 0.6,
         "x": [
          1,
          2,
          3,
          4,
          5
         ],
         "y": [
          0,
          0,
          0,
          0,
          1.1102230246251565e-16
         ]
        }
       ],
       "layout": {
        "bargap": 0.1,
        "barmode": "stack",
        "legend": {
         "entrywidth": 0.5,
         "font": {
          "size": 18
         },
         "title": {
          "text": "Feature"
         }
        },
        "template": {
         "data": {
          "bar": [
           {
            "error_x": {
             "color": "#2a3f5f"
            },
            "error_y": {
             "color": "#2a3f5f"
            },
            "marker": {
             "line": {
              "color": "#E5ECF6",
              "width": 0.5
             },
             "pattern": {
              "fillmode": "overlay",
              "size": 10,
              "solidity": 0.2
             }
            },
            "type": "bar"
           }
          ],
          "barpolar": [
           {
            "marker": {
             "line": {
              "color": "#E5ECF6",
              "width": 0.5
             },
             "pattern": {
              "fillmode": "overlay",
              "size": 10,
              "solidity": 0.2
             }
            },
            "type": "barpolar"
           }
          ],
          "carpet": [
           {
            "aaxis": {
             "endlinecolor": "#2a3f5f",
             "gridcolor": "white",
             "linecolor": "white",
             "minorgridcolor": "white",
             "startlinecolor": "#2a3f5f"
            },
            "baxis": {
             "endlinecolor": "#2a3f5f",
             "gridcolor": "white",
             "linecolor": "white",
             "minorgridcolor": "white",
             "startlinecolor": "#2a3f5f"
            },
            "type": "carpet"
           }
          ],
          "choropleth": [
           {
            "colorbar": {
             "outlinewidth": 0,
             "ticks": ""
            },
            "type": "choropleth"
           }
          ],
          "contour": [
           {
            "colorbar": {
             "outlinewidth": 0,
             "ticks": ""
            },
            "colorscale": [
             [
              0,
              "#0d0887"
             ],
             [
              0.1111111111111111,
              "#46039f"
             ],
             [
              0.2222222222222222,
              "#7201a8"
             ],
             [
              0.3333333333333333,
              "#9c179e"
             ],
             [
              0.4444444444444444,
              "#bd3786"
             ],
             [
              0.5555555555555556,
              "#d8576b"
             ],
             [
              0.6666666666666666,
              "#ed7953"
             ],
             [
              0.7777777777777778,
              "#fb9f3a"
             ],
             [
              0.8888888888888888,
              "#fdca26"
             ],
             [
              1,
              "#f0f921"
             ]
            ],
            "type": "contour"
           }
          ],
          "contourcarpet": [
           {
            "colorbar": {
             "outlinewidth": 0,
             "ticks": ""
            },
            "type": "contourcarpet"
           }
          ],
          "heatmap": [
           {
            "colorbar": {
             "outlinewidth": 0,
             "ticks": ""
            },
            "colorscale": [
             [
              0,
              "#0d0887"
             ],
             [
              0.1111111111111111,
              "#46039f"
             ],
             [
              0.2222222222222222,
              "#7201a8"
             ],
             [
              0.3333333333333333,
              "#9c179e"
             ],
             [
              0.4444444444444444,
              "#bd3786"
             ],
             [
              0.5555555555555556,
              "#d8576b"
             ],
             [
              0.6666666666666666,
              "#ed7953"
             ],
             [
              0.7777777777777778,
              "#fb9f3a"
             ],
             [
              0.8888888888888888,
              "#fdca26"
             ],
             [
              1,
              "#f0f921"
             ]
            ],
            "type": "heatmap"
           }
          ],
          "heatmapgl": [
           {
            "colorbar": {
             "outlinewidth": 0,
             "ticks": ""
            },
            "colorscale": [
             [
              0,
              "#0d0887"
             ],
             [
              0.1111111111111111,
              "#46039f"
             ],
             [
              0.2222222222222222,
              "#7201a8"
             ],
             [
              0.3333333333333333,
              "#9c179e"
             ],
             [
              0.4444444444444444,
              "#bd3786"
             ],
             [
              0.5555555555555556,
              "#d8576b"
             ],
             [
              0.6666666666666666,
              "#ed7953"
             ],
             [
              0.7777777777777778,
              "#fb9f3a"
             ],
             [
              0.8888888888888888,
              "#fdca26"
             ],
             [
              1,
              "#f0f921"
             ]
            ],
            "type": "heatmapgl"
           }
          ],
          "histogram": [
           {
            "marker": {
             "pattern": {
              "fillmode": "overlay",
              "size": 10,
              "solidity": 0.2
             }
            },
            "type": "histogram"
           }
          ],
          "histogram2d": [
           {
            "colorbar": {
             "outlinewidth": 0,
             "ticks": ""
            },
            "colorscale": [
             [
              0,
              "#0d0887"
             ],
             [
              0.1111111111111111,
              "#46039f"
             ],
             [
              0.2222222222222222,
              "#7201a8"
             ],
             [
              0.3333333333333333,
              "#9c179e"
             ],
             [
              0.4444444444444444,
              "#bd3786"
             ],
             [
              0.5555555555555556,
              "#d8576b"
             ],
             [
              0.6666666666666666,
              "#ed7953"
             ],
             [
              0.7777777777777778,
              "#fb9f3a"
             ],
             [
              0.8888888888888888,
              "#fdca26"
             ],
             [
              1,
              "#f0f921"
             ]
            ],
            "type": "histogram2d"
           }
          ],
          "histogram2dcontour": [
           {
            "colorbar": {
             "outlinewidth": 0,
             "ticks": ""
            },
            "colorscale": [
             [
              0,
              "#0d0887"
             ],
             [
              0.1111111111111111,
              "#46039f"
             ],
             [
              0.2222222222222222,
              "#7201a8"
             ],
             [
              0.3333333333333333,
              "#9c179e"
             ],
             [
              0.4444444444444444,
              "#bd3786"
             ],
             [
              0.5555555555555556,
              "#d8576b"
             ],
             [
              0.6666666666666666,
              "#ed7953"
             ],
             [
              0.7777777777777778,
              "#fb9f3a"
             ],
             [
              0.8888888888888888,
              "#fdca26"
             ],
             [
              1,
              "#f0f921"
             ]
            ],
            "type": "histogram2dcontour"
           }
          ],
          "mesh3d": [
           {
            "colorbar": {
             "outlinewidth": 0,
             "ticks": ""
            },
            "type": "mesh3d"
           }
          ],
          "parcoords": [
           {
            "line": {
             "colorbar": {
              "outlinewidth": 0,
              "ticks": ""
             }
            },
            "type": "parcoords"
           }
          ],
          "pie": [
           {
            "automargin": true,
            "type": "pie"
           }
          ],
          "scatter": [
           {
            "fillpattern": {
             "fillmode": "overlay",
             "size": 10,
             "solidity": 0.2
            },
            "type": "scatter"
           }
          ],
          "scatter3d": [
           {
            "line": {
             "colorbar": {
              "outlinewidth": 0,
              "ticks": ""
             }
            },
            "marker": {
             "colorbar": {
              "outlinewidth": 0,
              "ticks": ""
             }
            },
            "type": "scatter3d"
           }
          ],
          "scattercarpet": [
           {
            "marker": {
             "colorbar": {
              "outlinewidth": 0,
              "ticks": ""
             }
            },
            "type": "scattercarpet"
           }
          ],
          "scattergeo": [
           {
            "marker": {
             "colorbar": {
              "outlinewidth": 0,
              "ticks": ""
             }
            },
            "type": "scattergeo"
           }
          ],
          "scattergl": [
           {
            "marker": {
             "colorbar": {
              "outlinewidth": 0,
              "ticks": ""
             }
            },
            "type": "scattergl"
           }
          ],
          "scattermapbox": [
           {
            "marker": {
             "colorbar": {
              "outlinewidth": 0,
              "ticks": ""
             }
            },
            "type": "scattermapbox"
           }
          ],
          "scatterpolar": [
           {
            "marker": {
             "colorbar": {
              "outlinewidth": 0,
              "ticks": ""
             }
            },
            "type": "scatterpolar"
           }
          ],
          "scatterpolargl": [
           {
            "marker": {
             "colorbar": {
              "outlinewidth": 0,
              "ticks": ""
             }
            },
            "type": "scatterpolargl"
           }
          ],
          "scatterternary": [
           {
            "marker": {
             "colorbar": {
              "outlinewidth": 0,
              "ticks": ""
             }
            },
            "type": "scatterternary"
           }
          ],
          "surface": [
           {
            "colorbar": {
             "outlinewidth": 0,
             "ticks": ""
            },
            "colorscale": [
             [
              0,
              "#0d0887"
             ],
             [
              0.1111111111111111,
              "#46039f"
             ],
             [
              0.2222222222222222,
              "#7201a8"
             ],
             [
              0.3333333333333333,
              "#9c179e"
             ],
             [
              0.4444444444444444,
              "#bd3786"
             ],
             [
              0.5555555555555556,
              "#d8576b"
             ],
             [
              0.6666666666666666,
              "#ed7953"
             ],
             [
              0.7777777777777778,
              "#fb9f3a"
             ],
             [
              0.8888888888888888,
              "#fdca26"
             ],
             [
              1,
              "#f0f921"
             ]
            ],
            "type": "surface"
           }
          ],
          "table": [
           {
            "cells": {
             "fill": {
              "color": "#EBF0F8"
             },
             "line": {
              "color": "white"
             }
            },
            "header": {
             "fill": {
              "color": "#C8D4E3"
             },
             "line": {
              "color": "white"
             }
            },
            "type": "table"
           }
          ]
         },
         "layout": {
          "annotationdefaults": {
           "arrowcolor": "#2a3f5f",
           "arrowhead": 0,
           "arrowwidth": 1
          },
          "autotypenumbers": "strict",
          "coloraxis": {
           "colorbar": {
            "outlinewidth": 0,
            "ticks": ""
           }
          },
          "colorscale": {
           "diverging": [
            [
             0,
             "#8e0152"
            ],
            [
             0.1,
             "#c51b7d"
            ],
            [
             0.2,
             "#de77ae"
            ],
            [
             0.3,
             "#f1b6da"
            ],
            [
             0.4,
             "#fde0ef"
            ],
            [
             0.5,
             "#f7f7f7"
            ],
            [
             0.6,
             "#e6f5d0"
            ],
            [
             0.7,
             "#b8e186"
            ],
            [
             0.8,
             "#7fbc41"
            ],
            [
             0.9,
             "#4d9221"
            ],
            [
             1,
             "#276419"
            ]
           ],
           "sequential": [
            [
             0,
             "#0d0887"
            ],
            [
             0.1111111111111111,
             "#46039f"
            ],
            [
             0.2222222222222222,
             "#7201a8"
            ],
            [
             0.3333333333333333,
             "#9c179e"
            ],
            [
             0.4444444444444444,
             "#bd3786"
            ],
            [
             0.5555555555555556,
             "#d8576b"
            ],
            [
             0.6666666666666666,
             "#ed7953"
            ],
            [
             0.7777777777777778,
             "#fb9f3a"
            ],
            [
             0.8888888888888888,
             "#fdca26"
            ],
            [
             1,
             "#f0f921"
            ]
           ],
           "sequentialminus": [
            [
             0,
             "#0d0887"
            ],
            [
             0.1111111111111111,
             "#46039f"
            ],
            [
             0.2222222222222222,
             "#7201a8"
            ],
            [
             0.3333333333333333,
             "#9c179e"
            ],
            [
             0.4444444444444444,
             "#bd3786"
            ],
            [
             0.5555555555555556,
             "#d8576b"
            ],
            [
             0.6666666666666666,
             "#ed7953"
            ],
            [
             0.7777777777777778,
             "#fb9f3a"
            ],
            [
             0.8888888888888888,
             "#fdca26"
            ],
            [
             1,
             "#f0f921"
            ]
           ]
          },
          "colorway": [
           "#636efa",
           "#EF553B",
           "#00cc96",
           "#ab63fa",
           "#FFA15A",
           "#19d3f3",
           "#FF6692",
           "#B6E880",
           "#FF97FF",
           "#FECB52"
          ],
          "font": {
           "color": "#2a3f5f"
          },
          "geo": {
           "bgcolor": "white",
           "lakecolor": "white",
           "landcolor": "#E5ECF6",
           "showlakes": true,
           "showland": true,
           "subunitcolor": "white"
          },
          "hoverlabel": {
           "align": "left"
          },
          "hovermode": "closest",
          "mapbox": {
           "style": "light"
          },
          "paper_bgcolor": "white",
          "plot_bgcolor": "#E5ECF6",
          "polar": {
           "angularaxis": {
            "gridcolor": "white",
            "linecolor": "white",
            "ticks": ""
           },
           "bgcolor": "#E5ECF6",
           "radialaxis": {
            "gridcolor": "white",
            "linecolor": "white",
            "ticks": ""
           }
          },
          "scene": {
           "xaxis": {
            "backgroundcolor": "#E5ECF6",
            "gridcolor": "white",
            "gridwidth": 2,
            "linecolor": "white",
            "showbackground": true,
            "ticks": "",
            "zerolinecolor": "white"
           },
           "yaxis": {
            "backgroundcolor": "#E5ECF6",
            "gridcolor": "white",
            "gridwidth": 2,
            "linecolor": "white",
            "showbackground": true,
            "ticks": "",
            "zerolinecolor": "white"
           },
           "zaxis": {
            "backgroundcolor": "#E5ECF6",
            "gridcolor": "white",
            "gridwidth": 2,
            "linecolor": "white",
            "showbackground": true,
            "ticks": "",
            "zerolinecolor": "white"
           }
          },
          "shapedefaults": {
           "line": {
            "color": "#2a3f5f"
           }
          },
          "ternary": {
           "aaxis": {
            "gridcolor": "white",
            "linecolor": "white",
            "ticks": ""
           },
           "baxis": {
            "gridcolor": "white",
            "linecolor": "white",
            "ticks": ""
           },
           "bgcolor": "#E5ECF6",
           "caxis": {
            "gridcolor": "white",
            "linecolor": "white",
            "ticks": ""
           }
          },
          "title": {
           "x": 0.05
          },
          "xaxis": {
           "automargin": true,
           "gridcolor": "white",
           "linecolor": "white",
           "ticks": "",
           "title": {
            "standoff": 15
           },
           "zerolinecolor": "white",
           "zerolinewidth": 2
          },
          "yaxis": {
           "automargin": true,
           "gridcolor": "white",
           "linecolor": "white",
           "ticks": "",
           "title": {
            "standoff": 15
           },
           "zerolinecolor": "white",
           "zerolinewidth": 2
          }
         }
        },
        "title": {
         "font": {
          "size": 18
         },
         "text": "Equipment 5"
        },
        "xaxis": {
         "tickfont": {
          "size": 18
         },
         "tickmode": "array",
         "tickvals": [
          1,
          2,
          3,
          4,
          5
         ],
         "title": {
          "font": {
           "size": 18
          },
          "text": "Ranking Position"
         }
        },
        "yaxis": {
         "tickfont": {
          "size": 18
         },
         "title": {
          "font": {
           "size": 18
          },
          "text": "Normalized Count"
         }
        }
       }
      }
     },
     "metadata": {},
     "output_type": "display_data"
    }
   ],
   "source": [
    "for i in range(len(equipments)): \n",
    "    acme_rank_counting = acme_rankings[i].apply(pd.Series.value_counts).fillna(0).astype(int)\n",
    "    acme_rank_counting = acme_rank_counting / acme_rank_counting.sum()\n",
    "\n",
    "    if i==1:\n",
    "        # just custom colors\n",
    "        acme_stacked_barplot_fig = feature_importance_distribution_barplot(acme_rank_counting, title='Equipment ' + str(i+1), n_positions = 5, threshold=0.05, color_pattern_dict=feature_colors)\n",
    "        acme_stacked_barplot_fig.show()\n",
    "\n",
    "    else: \n",
    "        acme_stacked_barplot_fig = feature_importance_distribution_barplot(acme_rank_counting, title='Equipment ' + str(i+1), n_positions = 5, threshold=0.05)\n",
    "        acme_stacked_barplot_fig.show()"
   ]
  },
  {
   "cell_type": "markdown",
   "metadata": {},
   "source": [
    "## Local summary plot"
   ]
  },
  {
   "cell_type": "code",
   "execution_count": 10,
   "metadata": {
    "jupyter": {
     "source_hidden": true
    }
   },
   "outputs": [
    {
     "name": "stdout",
     "output_type": "stream",
     "text": [
      "Equipment  1\n",
      "Using default weights for anomaly detection feature importance\n"
     ]
    },
    {
     "data": {
      "application/vnd.plotly.v1+json": {
       "config": {
        "plotlyServerURL": "https://plot.ly"
       },
       "data": [
        {
         "customdata": [
          [
           1
          ],
          [
           1
          ],
          [
           1
          ],
          [
           1
          ],
          [
           1
          ],
          [
           1
          ],
          [
           1
          ],
          [
           1
          ],
          [
           1
          ],
          [
           1
          ],
          [
           1
          ],
          [
           1
          ],
          [
           1
          ],
          [
           1
          ],
          [
           1
          ],
          [
           1
          ],
          [
           1
          ],
          [
           1
          ],
          [
           1
          ],
          [
           1
          ],
          [
           1
          ],
          [
           1
          ],
          [
           1
          ],
          [
           1
          ],
          [
           0.4771
          ],
          [
           0
          ],
          [
           0
          ],
          [
           0
          ],
          [
           0
          ],
          [
           0
          ],
          [
           0
          ],
          [
           0
          ],
          [
           0
          ],
          [
           0
          ],
          [
           0
          ],
          [
           0
          ],
          [
           0
          ],
          [
           0
          ],
          [
           0
          ],
          [
           0
          ],
          [
           0
          ],
          [
           0
          ],
          [
           0
          ],
          [
           0
          ],
          [
           0
          ],
          [
           0
          ],
          [
           0
          ],
          [
           0
          ],
          [
           0
          ],
          [
           0
          ],
          [
           0
          ],
          [
           1
          ],
          [
           1
          ],
          [
           1
          ],
          [
           1
          ],
          [
           1
          ],
          [
           1
          ],
          [
           1
          ],
          [
           1
          ],
          [
           1
          ],
          [
           1
          ],
          [
           1
          ],
          [
           1
          ],
          [
           1
          ],
          [
           1
          ],
          [
           1
          ],
          [
           1
          ],
          [
           1
          ],
          [
           1
          ],
          [
           1
          ],
          [
           1
          ],
          [
           1
          ],
          [
           0
          ],
          [
           1
          ],
          [
           1
          ],
          [
           1
          ],
          [
           0.5125
          ],
          [
           0
          ],
          [
           1
          ],
          [
           0
          ],
          [
           0
          ],
          [
           0
          ],
          [
           0
          ],
          [
           0
          ],
          [
           0
          ],
          [
           0
          ],
          [
           0
          ],
          [
           0
          ],
          [
           0
          ],
          [
           0
          ],
          [
           0
          ],
          [
           0
          ],
          [
           0
          ],
          [
           0
          ],
          [
           0
          ],
          [
           0
          ],
          [
           0
          ],
          [
           0
          ],
          [
           0
          ],
          [
           0
          ],
          [
           0
          ],
          [
           0
          ],
          [
           2
          ],
          [
           3
          ],
          [
           3
          ],
          [
           3
          ],
          [
           2
          ],
          [
           2
          ],
          [
           2
          ],
          [
           2
          ],
          [
           2
          ],
          [
           2
          ],
          [
           2
          ],
          [
           3
          ],
          [
           1
          ],
          [
           1
          ],
          [
           1
          ],
          [
           1
          ],
          [
           1
          ],
          [
           1
          ],
          [
           1
          ],
          [
           1
          ],
          [
           1
          ],
          [
           0
          ],
          [
           2
          ],
          [
           3
          ],
          [
           0
          ],
          [
           3
          ],
          [
           9
          ],
          [
           9
          ],
          [
           8
          ],
          [
           8
          ],
          [
           7
          ],
          [
           7
          ],
          [
           7
          ],
          [
           6
          ],
          [
           6
          ],
          [
           6
          ],
          [
           3
          ],
          [
           6
          ],
          [
           5
          ],
          [
           5
          ],
          [
           5
          ],
          [
           4
          ],
          [
           4
          ],
          [
           4
          ],
          [
           4
          ],
          [
           4
          ],
          [
           4
          ],
          [
           3.438
          ],
          [
           5
          ],
          [
           0
          ],
          [
           9
          ],
          [
           0.5152
          ],
          [
           0
          ],
          [
           0
          ],
          [
           0
          ],
          [
           0
          ],
          [
           0
          ],
          [
           0
          ],
          [
           0
          ],
          [
           0
          ],
          [
           0
          ],
          [
           0
          ],
          [
           0
          ],
          [
           0
          ],
          [
           0
          ],
          [
           0
          ],
          [
           0
          ],
          [
           0
          ],
          [
           0
          ],
          [
           0
          ],
          [
           0
          ],
          [
           0
          ],
          [
           0
          ],
          [
           0
          ],
          [
           0
          ],
          [
           0
          ],
          [
           1
          ],
          [
           1
          ],
          [
           1
          ],
          [
           1
          ],
          [
           1
          ],
          [
           1
          ],
          [
           1
          ],
          [
           1
          ],
          [
           1
          ],
          [
           1
          ],
          [
           1
          ],
          [
           1
          ],
          [
           1
          ],
          [
           1
          ],
          [
           1
          ],
          [
           1
          ],
          [
           1
          ],
          [
           1
          ],
          [
           1
          ],
          [
           1
          ],
          [
           1
          ],
          [
           1
          ],
          [
           1
          ],
          [
           1
          ],
          [
           1
          ],
          [
           0
          ],
          [
           0.0198
          ],
          [
           0.954
          ],
          [
           0.7345
          ],
          [
           0.7441
          ],
          [
           0.7546
          ],
          [
           0.764
          ],
          [
           0.7745
          ],
          [
           0.7836
          ],
          [
           0.7926
          ],
          [
           0.8005
          ],
          [
           0.8105
          ],
          [
           0.8208
          ],
          [
           0.8302
          ],
          [
           0.8398
          ],
          [
           0.8485
          ],
          [
           0.8582
          ],
          [
           0.868
          ],
          [
           0.8782
          ],
          [
           0.8883
          ],
          [
           0.899
          ],
          [
           0.911
          ],
          [
           0.922
          ],
          [
           0.9369
          ],
          [
           0.7237
          ],
          [
           0.0506
          ],
          [
           0.7134
          ],
          [
           0.1156
          ],
          [
           0.2813
          ],
          [
           0.3229
          ],
          [
           0.3569
          ],
          [
           0.3873
          ],
          [
           0.4192
          ],
          [
           0.4445
          ],
          [
           0.4688
          ],
          [
           0.4924
          ],
          [
           0.5125
          ],
          [
           0.5331
          ],
          [
           0.5512
          ],
          [
           0.5721
          ],
          [
           0.5881
          ],
          [
           0.6046
          ],
          [
           0.6174
          ],
          [
           0.6326
          ],
          [
           0.6337
          ],
          [
           0.6478
          ],
          [
           0.6608
          ],
          [
           0.6762
          ],
          [
           0.6899
          ],
          [
           0.7016
          ],
          [
           0.234
          ],
          [
           0.1814
          ],
          [
           8
          ],
          [
           2
          ],
          [
           2
          ],
          [
           2
          ],
          [
           2
          ],
          [
           2
          ],
          [
           2
          ],
          [
           2
          ],
          [
           2
          ],
          [
           2
          ],
          [
           2
          ],
          [
           1
          ],
          [
           1
          ],
          [
           1
          ],
          [
           1
          ],
          [
           1
          ],
          [
           1
          ],
          [
           1
          ],
          [
           1
          ],
          [
           1
          ],
          [
           1
          ],
          [
           1
          ],
          [
           3
          ],
          [
           8
          ],
          [
           3
          ],
          [
           3
          ],
          [
           7
          ],
          [
           7
          ],
          [
           7
          ],
          [
           6
          ],
          [
           6
          ],
          [
           6
          ],
          [
           5
          ],
          [
           5
          ],
          [
           5
          ],
          [
           5
          ],
          [
           5
          ],
          [
           4
          ],
          [
           4
          ],
          [
           4
          ],
          [
           4
          ],
          [
           4
          ],
          [
           4
          ],
          [
           3.4112
          ],
          [
           3
          ],
          [
           3
          ],
          [
           3
          ],
          [
           3
          ],
          [
           9
          ],
          [
           1
          ],
          [
           10
          ],
          [
           0
          ],
          [
           0
          ],
          [
           0
          ],
          [
           0
          ],
          [
           0
          ],
          [
           0
          ],
          [
           0
          ],
          [
           0
          ],
          [
           0
          ],
          [
           0
          ],
          [
           0
          ],
          [
           0
          ],
          [
           0
          ],
          [
           0
          ],
          [
           0
          ],
          [
           0
          ],
          [
           0
          ],
          [
           0
          ],
          [
           0
          ],
          [
           0
          ],
          [
           0
          ],
          [
           0
          ],
          [
           0
          ],
          [
           0
          ],
          [
           0
          ],
          [
           0
          ],
          [
           0
          ],
          [
           1
          ],
          [
           1
          ],
          [
           1
          ],
          [
           1
          ],
          [
           1
          ],
          [
           1
          ],
          [
           0
          ],
          [
           1
          ],
          [
           1
          ],
          [
           1
          ],
          [
           1
          ],
          [
           1
          ],
          [
           1
          ],
          [
           1
          ],
          [
           0
          ],
          [
           0
          ],
          [
           0
          ],
          [
           0
          ],
          [
           0
          ],
          [
           0
          ],
          [
           0
          ],
          [
           0
          ],
          [
           0.2736
          ],
          [
           0
          ],
          [
           0
          ],
          [
           0
          ],
          [
           0
          ],
          [
           0
          ],
          [
           0
          ],
          [
           0
          ],
          [
           0
          ],
          [
           0
          ],
          [
           0
          ],
          [
           0
          ],
          [
           0
          ],
          [
           0
          ],
          [
           0
          ],
          [
           0
          ],
          [
           0
          ],
          [
           0
          ],
          [
           0
          ],
          [
           0
          ],
          [
           0
          ],
          [
           0
          ],
          [
           0
          ],
          [
           0
          ],
          [
           0
          ],
          [
           0
          ],
          [
           0.0054
          ],
          [
           0
          ],
          [
           0
          ],
          [
           0.2306
          ],
          [
           0.1505
          ],
          [
           0.1015
          ],
          [
           0.075
          ],
          [
           0.0573
          ],
          [
           0.0451
          ],
          [
           0.0357
          ],
          [
           0.035
          ],
          [
           0.0296
          ],
          [
           0.023
          ],
          [
           0.015
          ],
          [
           0.0095
          ],
          [
           0.0018
          ],
          [
           0
          ],
          [
           0
          ],
          [
           0
          ],
          [
           0
          ],
          [
           0
          ],
          [
           0
          ],
          [
           0
          ],
          [
           0
          ],
          [
           0
          ],
          [
           0
          ],
          [
           0.937
          ],
          [
           0
          ],
          [
           3
          ],
          [
           0
          ],
          [
           0
          ],
          [
           0
          ],
          [
           0
          ],
          [
           0
          ],
          [
           0
          ],
          [
           0
          ],
          [
           0
          ],
          [
           0
          ],
          [
           0
          ],
          [
           0
          ],
          [
           0
          ],
          [
           0
          ],
          [
           0
          ],
          [
           0
          ],
          [
           0
          ],
          [
           0
          ],
          [
           0
          ],
          [
           0
          ],
          [
           0
          ],
          [
           0
          ],
          [
           8
          ],
          [
           0
          ],
          [
           0
          ],
          [
           0
          ],
          [
           0
          ],
          [
           2
          ],
          [
           0
          ],
          [
           1
          ],
          [
           1
          ],
          [
           1
          ],
          [
           0.1268
          ],
          [
           0
          ],
          [
           0
          ],
          [
           0
          ],
          [
           0
          ],
          [
           0
          ],
          [
           0
          ],
          [
           0
          ],
          [
           0
          ],
          [
           0
          ],
          [
           0
          ],
          [
           0
          ],
          [
           0
          ],
          [
           0
          ],
          [
           0
          ],
          [
           0
          ],
          [
           0
          ],
          [
           0
          ],
          [
           0
          ],
          [
           0
          ],
          [
           0
          ],
          [
           0
          ],
          [
           0
          ],
          [
           0
          ],
          [
           0
          ],
          [
           0
          ],
          [
           0
          ],
          [
           0
          ],
          [
           0
          ],
          [
           0
          ],
          [
           0
          ],
          [
           0
          ],
          [
           0
          ],
          [
           0
          ],
          [
           0
          ],
          [
           0
          ],
          [
           0
          ],
          [
           0
          ],
          [
           0
          ],
          [
           0
          ],
          [
           0
          ],
          [
           0
          ],
          [
           1
          ],
          [
           0
          ],
          [
           0
          ],
          [
           0.011
          ],
          [
           0
          ],
          [
           0
          ],
          [
           0
          ],
          [
           0
          ],
          [
           0
          ],
          [
           0
          ],
          [
           0
          ],
          [
           0
          ],
          [
           0
          ],
          [
           0
          ],
          [
           0
          ],
          [
           0
          ],
          [
           0
          ],
          [
           0
          ],
          [
           0
          ],
          [
           0
          ],
          [
           0
          ],
          [
           0
          ],
          [
           0
          ],
          [
           0
          ],
          [
           0
          ],
          [
           0
          ],
          [
           0
          ]
         ],
         "hovertemplate": "Feature: <b>%{y}</b><br><br>Predict: %{x}<br>Original value: %{customdata[0]}<br>Quantile: %{marker.color}",
         "legendgroup": "",
         "marker": {
          "color": [
           0.725,
           0.5562,
           0.575,
           0.5938,
           0.6125,
           0.6312,
           0.65,
           0.6688,
           0.6875,
           0.7062,
           0.7438,
           0.8375,
           0.7625,
           0.7812,
           0.8,
           0.8188,
           0.5375,
           0.8562,
           0.875,
           0.8938,
           0.9125,
           0.9312,
           0.95,
           0.7615,
           0.5229,
           0.5,
           0.05,
           0.5188,
           0.0688,
           0.0875,
           0.1062,
           0.125,
           0.1438,
           0.1625,
           0.2,
           0.2188,
           0.2375,
           0.2562,
           0.1813,
           0.2938,
           0.3125,
           0.3312,
           0.35,
           0.4812,
           0.3687,
           0.3875,
           0.4062,
           0.425,
           0.4438,
           0.4625,
           0.275,
           0.7062,
           0.6875,
           0.6688,
           0.65,
           0.5562,
           0.6125,
           0.5938,
           0.575,
           0.7438,
           0.6312,
           0.7625,
           0.725,
           0.8,
           0.8188,
           0.8375,
           0.8562,
           0.875,
           0.8938,
           0.9125,
           0.9312,
           0.95,
           0.05,
           0.5375,
           0.7812,
           0.5188,
           0.4875,
           0.0688,
           0.5,
           0.0875,
           0.1062,
           0.125,
           0.1438,
           0.1625,
           0.1813,
           0.2188,
           0.2375,
           0.2438,
           0.2562,
           0.2,
           0.2938,
           0.275,
           0.4625,
           0.4438,
           0.425,
           0.4062,
           0.4812,
           0.3687,
           0.35,
           0.3312,
           0.3125,
           0.3875,
           0.3125,
           0.4812,
           0.4625,
           0.4438,
           0.425,
           0.4062,
           0.3875,
           0.3687,
           0.35,
           0.3312,
           0.2938,
           0.5,
           0.2562,
           0.2375,
           0.2188,
           0.2,
           0.1813,
           0.1625,
           0.1438,
           0.125,
           0.1062,
           0.0875,
           0.275,
           0.5188,
           0.0688,
           0.5562,
           0.9413,
           0.9312,
           0.9125,
           0.8938,
           0.875,
           0.8562,
           0.8375,
           0.8188,
           0.8,
           0.7812,
           0.5375,
           0.7625,
           0.725,
           0.7062,
           0.6875,
           0.6688,
           0.65,
           0.6312,
           0.6125,
           0.5938,
           0.575,
           0.562,
           0.7438,
           0.05,
           0.95,
           0.4848,
           0.4625,
           0.4438,
           0.425,
           0.4062,
           0.3875,
           0.3687,
           0.35,
           0.3312,
           0.3125,
           0.2938,
           0.4812,
           0.275,
           0.2424,
           0.2375,
           0.2188,
           0.2,
           0.1813,
           0.1625,
           0.1438,
           0.125,
           0.1062,
           0.0875,
           0.2562,
           0.0688,
           0.5,
           0.5375,
           0.95,
           0.9312,
           0.9125,
           0.8938,
           0.875,
           0.8562,
           0.8375,
           0.8188,
           0.8,
           0.7812,
           0.5188,
           0.7625,
           0.725,
           0.7062,
           0.6875,
           0.6688,
           0.65,
           0.6312,
           0.6125,
           0.5938,
           0.575,
           0.5562,
           0.7438,
           0.05,
           0.0361,
           0.95,
           0.5562,
           0.575,
           0.5938,
           0.6125,
           0.6312,
           0.65,
           0.6688,
           0.6875,
           0.7062,
           0.725,
           0.7438,
           0.7625,
           0.7812,
           0.8,
           0.8188,
           0.8375,
           0.8562,
           0.875,
           0.8938,
           0.9125,
           0.9312,
           0.5375,
           0.05,
           0.5188,
           0.0688,
           0.125,
           0.1438,
           0.1625,
           0.1813,
           0.2,
           0.2188,
           0.2375,
           0.2562,
           0.275,
           0.2938,
           0.3125,
           0.3312,
           0.35,
           0.3687,
           0.3875,
           0.4051,
           0.4062,
           0.425,
           0.4438,
           0.4625,
           0.4812,
           0.5,
           0.1062,
           0.0875,
           0.9125,
           0.4438,
           0.425,
           0.4062,
           0.3875,
           0.3687,
           0.35,
           0.3312,
           0.3125,
           0.2938,
           0.275,
           0.2562,
           0.2375,
           0.2188,
           0.2,
           0.1813,
           0.1625,
           0.1438,
           0.125,
           0.1062,
           0.0875,
           0.0688,
           0.4625,
           0.9312,
           0.4812,
           0.5188,
           0.8938,
           0.875,
           0.8562,
           0.8375,
           0.8188,
           0.8,
           0.7812,
           0.7625,
           0.7438,
           0.725,
           0.7062,
           0.6875,
           0.6688,
           0.65,
           0.6312,
           0.6125,
           0.5938,
           0.5888,
           0.575,
           0.5562,
           0.5375,
           0.5,
           0.95,
           0.05,
           0.9699,
           0.5,
           0.4812,
           0.4625,
           0.4438,
           0.425,
           0.4062,
           0.3875,
           0.3687,
           0.35,
           0.3312,
           0.3125,
           0.2938,
           0.275,
           0.2562,
           0.2375,
           0.2188,
           0.2,
           0.1813,
           0.1625,
           0.1438,
           0.125,
           0.1062,
           0.0875,
           0.5188,
           0.05,
           0.0688,
           0.5562,
           0.95,
           0.9312,
           0.9125,
           0.8938,
           0.875,
           0.8633,
           0.5375,
           0.8375,
           0.8188,
           0.8,
           0.7812,
           0.8562,
           0.7438,
           0.7625,
           0.5938,
           0.6125,
           0.6312,
           0.65,
           0.575,
           0.6875,
           0.7062,
           0.725,
           0.7264,
           0.6688,
           0.4625,
           0.4438,
           0.425,
           0.4062,
           0.3875,
           0.3687,
           0.35,
           0.3312,
           0.3125,
           0.2938,
           0.0688,
           0.2562,
           0.2375,
           0.2188,
           0.2,
           0.1813,
           0.1625,
           0.1438,
           0.125,
           0.1062,
           0.0875,
           0.4812,
           0.275,
           0.5,
           0.7438,
           0.5375,
           0.05,
           0.95,
           0.9312,
           0.9125,
           0.8938,
           0.875,
           0.8562,
           0.8395,
           0.8375,
           0.8188,
           0.8,
           0.7812,
           0.7625,
           0.725,
           0.7062,
           0.6875,
           0.6688,
           0.65,
           0.6312,
           0.6125,
           0.5938,
           0.575,
           0.5562,
           0.5188,
           0.9988,
           0.5188,
           0.95,
           0.4438,
           0.425,
           0.4062,
           0.3875,
           0.3687,
           0.35,
           0.3312,
           0.3125,
           0.2938,
           0.2562,
           0.4625,
           0.2375,
           0.2,
           0.1813,
           0.1625,
           0.1438,
           0.125,
           0.1062,
           0.0875,
           0.0688,
           0.05,
           0.9957,
           0.2188,
           0.4812,
           0.275,
           0.5375,
           0.9312,
           0.5,
           0.9125,
           0.8938,
           0.875,
           0.8732,
           0.8562,
           0.8188,
           0.8,
           0.7812,
           0.7625,
           0.8375,
           0.725,
           0.5562,
           0.7438,
           0.5938,
           0.6125,
           0.6312,
           0.575,
           0.6688,
           0.6875,
           0.7062,
           0.65,
           0.3125,
           0.4812,
           0.4625,
           0.4438,
           0.425,
           0.4062,
           0.3875,
           0.3687,
           0.35,
           0.3312,
           0.2938,
           0.0875,
           0.2562,
           0.2375,
           0.2188,
           0.2,
           0.1813,
           0.1625,
           0.1438,
           0.125,
           0.1062,
           0.5,
           0.275,
           0.5188,
           0.9944,
           0.5562,
           0.05,
           0.989,
           0.95,
           0.9312,
           0.9125,
           0.8938,
           0.875,
           0.8562,
           0.8375,
           0.8188,
           0.8,
           0.7812,
           0.7625,
           0.7438,
           0.725,
           0.7062,
           0.6875,
           0.6688,
           0.65,
           0.6312,
           0.6125,
           0.5938,
           0.575,
           0.5375,
           0.0688
          ],
          "coloraxis": "coloraxis",
          "size": [
           0.05,
           0.05,
           0.05,
           0.05,
           0.05,
           0.05,
           0.05,
           0.05,
           0.05,
           0.05,
           0.05,
           0.05,
           0.05,
           0.05,
           0.05,
           0.05,
           0.05,
           0.05,
           0.05,
           0.05,
           0.05,
           0.05,
           0.05,
           0.3,
           0.05,
           0.05,
           0.05,
           0.05,
           0.05,
           0.05,
           0.05,
           0.05,
           0.05,
           0.05,
           0.05,
           0.05,
           0.05,
           0.05,
           0.05,
           0.05,
           0.05,
           0.05,
           0.05,
           0.05,
           0.05,
           0.05,
           0.05,
           0.05,
           0.05,
           0.05,
           0.05,
           0.05,
           0.05,
           0.05,
           0.05,
           0.05,
           0.05,
           0.05,
           0.05,
           0.05,
           0.05,
           0.05,
           0.05,
           0.05,
           0.05,
           0.05,
           0.05,
           0.05,
           0.05,
           0.05,
           0.05,
           0.05,
           0.05,
           0.05,
           0.05,
           0.05,
           0.05,
           0.05,
           0.05,
           0.05,
           0.05,
           0.05,
           0.05,
           0.05,
           0.05,
           0.05,
           0.05,
           0.3,
           0.05,
           0.05,
           0.05,
           0.05,
           0.05,
           0.05,
           0.05,
           0.05,
           0.05,
           0.05,
           0.05,
           0.05,
           0.05,
           0.05,
           0.05,
           0.05,
           0.05,
           0.05,
           0.05,
           0.05,
           0.05,
           0.05,
           0.05,
           0.05,
           0.05,
           0.05,
           0.05,
           0.05,
           0.05,
           0.05,
           0.05,
           0.05,
           0.05,
           0.05,
           0.05,
           0.05,
           0.05,
           0.05,
           0.05,
           0.05,
           0.3,
           0.05,
           0.05,
           0.05,
           0.05,
           0.05,
           0.05,
           0.05,
           0.05,
           0.05,
           0.05,
           0.05,
           0.05,
           0.05,
           0.05,
           0.05,
           0.05,
           0.05,
           0.05,
           0.05,
           0.05,
           0.05,
           0.05,
           0.05,
           0.05,
           0.05,
           0.05,
           0.05,
           0.05,
           0.05,
           0.05,
           0.05,
           0.05,
           0.05,
           0.05,
           0.05,
           0.05,
           0.05,
           0.3,
           0.05,
           0.05,
           0.05,
           0.05,
           0.05,
           0.05,
           0.05,
           0.05,
           0.05,
           0.05,
           0.05,
           0.05,
           0.05,
           0.05,
           0.05,
           0.05,
           0.05,
           0.05,
           0.05,
           0.05,
           0.05,
           0.05,
           0.05,
           0.05,
           0.05,
           0.05,
           0.05,
           0.05,
           0.05,
           0.05,
           0.05,
           0.05,
           0.05,
           0.05,
           0.05,
           0.05,
           0.05,
           0.3,
           0.05,
           0.05,
           0.05,
           0.05,
           0.05,
           0.05,
           0.05,
           0.05,
           0.05,
           0.05,
           0.05,
           0.05,
           0.05,
           0.05,
           0.05,
           0.05,
           0.05,
           0.05,
           0.05,
           0.05,
           0.05,
           0.05,
           0.05,
           0.05,
           0.05,
           0.05,
           0.05,
           0.05,
           0.05,
           0.05,
           0.05,
           0.05,
           0.05,
           0.05,
           0.05,
           0.05,
           0.05,
           0.05,
           0.05,
           0.05,
           0.05,
           0.05,
           0.05,
           0.05,
           0.05,
           0.05,
           0.05,
           0.05,
           0.05,
           0.05,
           0.05,
           0.05,
           0.05,
           0.05,
           0.05,
           0.05,
           0.05,
           0.05,
           0.05,
           0.05,
           0.05,
           0.05,
           0.05,
           0.05,
           0.05,
           0.05,
           0.05,
           0.05,
           0.05,
           0.05,
           0.05,
           0.05,
           0.05,
           0.05,
           0.05,
           0.05,
           0.05,
           0.05,
           0.05,
           0.05,
           0.05,
           0.05,
           0.05,
           0.05,
           0.05,
           0.05,
           0.05,
           0.05,
           0.05,
           0.05,
           0.05,
           0.05,
           0.05,
           0.05,
           0.05,
           0.05,
           0.05,
           0.05,
           0.05,
           0.05,
           0.3,
           0.05,
           0.05,
           0.05,
           0.05,
           0.05,
           0.05,
           0.05,
           0.05,
           0.05,
           0.05,
           0.05,
           0.05,
           0.05,
           0.05,
           0.05,
           0.05,
           0.05,
           0.05,
           0.05,
           0.05,
           0.05,
           0.05,
           0.05,
           0.05,
           0.05,
           0.05,
           0.05,
           0.05,
           0.05,
           0.05,
           0.05,
           0.05,
           0.3,
           0.05,
           0.05,
           0.05,
           0.05,
           0.05,
           0.05,
           0.05,
           0.05,
           0.05,
           0.05,
           0.05,
           0.05,
           0.05,
           0.05,
           0.05,
           0.05,
           0.05,
           0.05,
           0.05,
           0.05,
           0.05,
           0.05,
           0.05,
           0.05,
           0.05,
           0.05,
           0.05,
           0.05,
           0.05,
           0.05,
           0.05,
           0.05,
           0.05,
           0.05,
           0.05,
           0.05,
           0.05,
           0.05,
           0.05,
           0.05,
           0.05,
           0.05,
           0.05,
           0.05,
           0.05,
           0.05,
           0.05,
           0.05,
           0.05,
           0.05,
           0.05,
           0.05,
           0.05,
           0.05,
           0.05,
           0.05,
           0.05,
           0.05,
           0.05,
           0.05,
           0.05,
           0.05,
           0.05,
           0.05,
           0.05,
           0.05,
           0.05,
           0.05,
           0.3,
           0.05,
           0.05,
           0.05,
           0.05,
           0.05,
           0.05,
           0.05,
           0.05,
           0.05,
           0.05,
           0.05,
           0.05,
           0.05,
           0.05,
           0.05,
           0.05,
           0.05,
           0.05,
           0.05,
           0.05,
           0.05,
           0.05,
           0.05,
           0.3,
           0.05,
           0.05,
           0.05,
           0.05,
           0.05,
           0.05,
           0.05,
           0.05,
           0.05,
           0.05,
           0.05,
           0.05,
           0.05,
           0.05,
           0.05,
           0.05,
           0.05,
           0.05,
           0.05,
           0.05,
           0.05,
           0.05,
           0.05,
           0.05,
           0.05,
           0.05,
           0.05,
           0.05,
           0.05,
           0.05,
           0.05,
           0.05,
           0.05,
           0.05,
           0.05,
           0.05,
           0.05,
           0.05,
           0.05,
           0.05,
           0.05,
           0.05,
           0.05,
           0.05,
           0.05,
           0.05,
           0.05,
           0.05,
           0.05,
           0.05,
           0.05,
           0.3,
           0.05,
           0.05,
           0.05,
           0.05,
           0.05,
           0.05,
           0.05,
           0.05,
           0.05,
           0.05,
           0.05,
           0.05,
           0.05,
           0.05,
           0.05,
           0.05,
           0.05,
           0.05,
           0.05,
           0.05,
           0.05,
           0.05,
           0.05,
           0.05,
           0.05,
           0.05
          ],
          "sizemode": "area",
          "sizeref": 0.00075,
          "symbol": "circle"
         },
         "mode": "markers",
         "name": "",
         "orientation": "h",
         "showlegend": false,
         "type": "scatter",
         "x": [
          0.5037,
          0.5037,
          0.5037,
          0.5037,
          0.5037,
          0.5037,
          0.5037,
          0.5037,
          0.5037,
          0.5037,
          0.5037,
          0.5037,
          0.5037,
          0.5037,
          0.5037,
          0.5037,
          0.5037,
          0.5037,
          0.5037,
          0.5037,
          0.5037,
          0.5037,
          0.5037,
          0.5037,
          0.5027,
          0.5008,
          0.5008,
          0.5008,
          0.5008,
          0.5008,
          0.5008,
          0.5008,
          0.5008,
          0.5008,
          0.5008,
          0.5008,
          0.5008,
          0.5008,
          0.5008,
          0.5008,
          0.5008,
          0.5008,
          0.5008,
          0.5008,
          0.5008,
          0.5008,
          0.5008,
          0.5008,
          0.5008,
          0.5008,
          0.5008,
          0.5002,
          0.5002,
          0.5002,
          0.5002,
          0.5002,
          0.5002,
          0.5002,
          0.5002,
          0.5002,
          0.5002,
          0.5002,
          0.5002,
          0.5002,
          0.5002,
          0.5002,
          0.5002,
          0.5002,
          0.5002,
          0.5002,
          0.5002,
          0.5002,
          0.5037,
          0.5002,
          0.5002,
          0.5002,
          0.5002,
          0.5037,
          0.5002,
          0.5037,
          0.5037,
          0.5037,
          0.5037,
          0.5037,
          0.5037,
          0.5037,
          0.5037,
          0.5037,
          0.5037,
          0.5037,
          0.5037,
          0.5037,
          0.5037,
          0.5037,
          0.5037,
          0.5037,
          0.5037,
          0.5037,
          0.5037,
          0.5037,
          0.5037,
          0.5037,
          0.5009,
          0.5009,
          0.5009,
          0.5009,
          0.5009,
          0.5009,
          0.5009,
          0.5009,
          0.5009,
          0.5009,
          0.5009,
          0.5009,
          0.5009,
          0.5009,
          0.5009,
          0.5009,
          0.5009,
          0.5009,
          0.5009,
          0.5009,
          0.5009,
          0.5009,
          0.5009,
          0.5009,
          0.5009,
          0.5009,
          0.5037,
          0.5037,
          0.5021,
          0.5021,
          0.5025,
          0.5025,
          0.5025,
          0.5022,
          0.5022,
          0.5022,
          0.5009,
          0.5022,
          0.5015,
          0.5015,
          0.5015,
          0.5,
          0.5,
          0.5,
          0.5,
          0.5,
          0.5,
          0.5009,
          0.5015,
          0.5009,
          0.5037,
          0.5005,
          0.5037,
          0.5037,
          0.5037,
          0.5037,
          0.5037,
          0.5037,
          0.5037,
          0.5037,
          0.5037,
          0.5037,
          0.5037,
          0.5037,
          0.5037,
          0.5037,
          0.5037,
          0.5037,
          0.5037,
          0.5037,
          0.5037,
          0.5037,
          0.5037,
          0.5037,
          0.5037,
          0.5037,
          0.4995,
          0.4995,
          0.4995,
          0.4995,
          0.4995,
          0.4995,
          0.4995,
          0.4995,
          0.4995,
          0.4995,
          0.4995,
          0.4995,
          0.4995,
          0.4995,
          0.4995,
          0.4995,
          0.4995,
          0.4995,
          0.4995,
          0.4995,
          0.4995,
          0.4995,
          0.4995,
          0.4995,
          0.4995,
          0.5037,
          0.5037,
          0.4991,
          0.4984,
          0.4984,
          0.4984,
          0.4984,
          0.4984,
          0.4984,
          0.4984,
          0.4984,
          0.4984,
          0.4984,
          0.4984,
          0.4984,
          0.4984,
          0.4984,
          0.4984,
          0.4984,
          0.4984,
          0.4984,
          0.4991,
          0.4991,
          0.4991,
          0.4984,
          0.5028,
          0.4984,
          0.5028,
          0.5028,
          0.5007,
          0.5004,
          0.5004,
          0.4991,
          0.4991,
          0.4991,
          0.4991,
          0.4991,
          0.4991,
          0.4989,
          0.4989,
          0.4984,
          0.4984,
          0.4984,
          0.4984,
          0.4984,
          0.4984,
          0.4984,
          0.4984,
          0.4984,
          0.4984,
          0.5028,
          0.5028,
          0.5028,
          0.4987,
          0.4987,
          0.4987,
          0.4987,
          0.4987,
          0.4987,
          0.4987,
          0.4987,
          0.4987,
          0.4987,
          0.4975,
          0.4975,
          0.4975,
          0.4975,
          0.4975,
          0.4975,
          0.4975,
          0.4975,
          0.4975,
          0.4975,
          0.4975,
          0.4981,
          0.5028,
          0.4981,
          0.4981,
          0.5001,
          0.5001,
          0.5001,
          0.4997,
          0.4997,
          0.4997,
          0.4981,
          0.4981,
          0.4981,
          0.4981,
          0.4981,
          0.498,
          0.498,
          0.498,
          0.498,
          0.498,
          0.498,
          0.4981,
          0.4981,
          0.4981,
          0.4981,
          0.4981,
          0.5037,
          0.4975,
          0.5037,
          0.4939,
          0.4939,
          0.4939,
          0.4939,
          0.4939,
          0.4939,
          0.4939,
          0.4939,
          0.4939,
          0.4939,
          0.4939,
          0.4939,
          0.4939,
          0.4939,
          0.4939,
          0.4939,
          0.4939,
          0.4939,
          0.4939,
          0.4939,
          0.4939,
          0.4939,
          0.4939,
          0.4939,
          0.4939,
          0.4939,
          0.4939,
          0.5037,
          0.5037,
          0.5037,
          0.5037,
          0.5037,
          0.5037,
          0.4939,
          0.5037,
          0.5037,
          0.5037,
          0.5037,
          0.5037,
          0.5037,
          0.5037,
          0.4939,
          0.4939,
          0.4939,
          0.4939,
          0.4939,
          0.4939,
          0.4939,
          0.4939,
          0.494,
          0.4939,
          0.4871,
          0.4871,
          0.4871,
          0.4871,
          0.4871,
          0.4871,
          0.4871,
          0.4871,
          0.4871,
          0.4871,
          0.4871,
          0.4871,
          0.4871,
          0.4871,
          0.4871,
          0.4871,
          0.4871,
          0.4871,
          0.4871,
          0.4871,
          0.4871,
          0.4871,
          0.4871,
          0.4871,
          0.4871,
          0.4871,
          0.4871,
          0.4924,
          0.4907,
          0.4905,
          0.4905,
          0.4899,
          0.4874,
          0.4874,
          0.4874,
          0.4871,
          0.4871,
          0.4871,
          0.4871,
          0.4871,
          0.4871,
          0.4871,
          0.4871,
          0.4871,
          0.4871,
          0.4871,
          0.4871,
          0.4871,
          0.4871,
          0.4871,
          0.5037,
          0.4835,
          0.4914,
          0.4835,
          0.4835,
          0.4835,
          0.4835,
          0.4835,
          0.4835,
          0.4835,
          0.4835,
          0.4835,
          0.4835,
          0.4835,
          0.4835,
          0.4835,
          0.4835,
          0.4835,
          0.4835,
          0.4835,
          0.4835,
          0.4835,
          0.4835,
          0.4835,
          0.5037,
          0.4835,
          0.4835,
          0.4835,
          0.4835,
          0.4892,
          0.4835,
          0.4861,
          0.4861,
          0.4861,
          0.4835,
          0.4835,
          0.4835,
          0.4835,
          0.4835,
          0.4835,
          0.4835,
          0.4835,
          0.4835,
          0.4835,
          0.4835,
          0.4835,
          0.4835,
          0.4835,
          0.4835,
          0.4835,
          0.4835,
          0.4835,
          0.4802,
          0.4802,
          0.4802,
          0.4802,
          0.4802,
          0.4802,
          0.4802,
          0.4802,
          0.4802,
          0.4802,
          0.4802,
          0.4802,
          0.4802,
          0.4802,
          0.4802,
          0.4802,
          0.4802,
          0.4802,
          0.4802,
          0.4802,
          0.4802,
          0.4802,
          0.4802,
          0.4802,
          0.5037,
          0.4802,
          0.4802,
          0.4802,
          0.4802,
          0.4802,
          0.4802,
          0.4802,
          0.4802,
          0.4802,
          0.4802,
          0.4802,
          0.4802,
          0.4802,
          0.4802,
          0.4802,
          0.4802,
          0.4802,
          0.4802,
          0.4802,
          0.4802,
          0.4802,
          0.4802,
          0.4802,
          0.4802,
          0.4802,
          0.4802
         ],
         "xaxis": "x",
         "y": [
          "production/downtime",
          "production/downtime",
          "production/downtime",
          "production/downtime",
          "production/downtime",
          "production/downtime",
          "production/downtime",
          "production/downtime",
          "production/downtime",
          "production/downtime",
          "production/downtime",
          "production/downtime",
          "production/downtime",
          "production/downtime",
          "production/downtime",
          "production/downtime",
          "production/downtime",
          "production/downtime",
          "production/downtime",
          "production/downtime",
          "production/downtime",
          "production/downtime",
          "production/downtime",
          "production/downtime",
          "production/downtime",
          "production/downtime",
          "production/downtime",
          "production/downtime",
          "production/downtime",
          "production/downtime",
          "production/downtime",
          "production/downtime",
          "production/downtime",
          "production/downtime",
          "production/downtime",
          "production/downtime",
          "production/downtime",
          "production/downtime",
          "production/downtime",
          "production/downtime",
          "production/downtime",
          "production/downtime",
          "production/downtime",
          "production/downtime",
          "production/downtime",
          "production/downtime",
          "production/downtime",
          "production/downtime",
          "production/downtime",
          "production/downtime",
          "production/downtime",
          "production/scheduled_downtime",
          "production/scheduled_downtime",
          "production/scheduled_downtime",
          "production/scheduled_downtime",
          "production/scheduled_downtime",
          "production/scheduled_downtime",
          "production/scheduled_downtime",
          "production/scheduled_downtime",
          "production/scheduled_downtime",
          "production/scheduled_downtime",
          "production/scheduled_downtime",
          "production/scheduled_downtime",
          "production/scheduled_downtime",
          "production/scheduled_downtime",
          "production/scheduled_downtime",
          "production/scheduled_downtime",
          "production/scheduled_downtime",
          "production/scheduled_downtime",
          "production/scheduled_downtime",
          "production/scheduled_downtime",
          "production/scheduled_downtime",
          "production/scheduled_downtime",
          "production/scheduled_downtime",
          "production/scheduled_downtime",
          "production/scheduled_downtime",
          "production/scheduled_downtime",
          "production/scheduled_downtime",
          "production/scheduled_downtime",
          "production/scheduled_downtime",
          "production/scheduled_downtime",
          "production/scheduled_downtime",
          "production/scheduled_downtime",
          "production/scheduled_downtime",
          "production/scheduled_downtime",
          "production/scheduled_downtime",
          "production/scheduled_downtime",
          "production/scheduled_downtime",
          "production/scheduled_downtime",
          "production/scheduled_downtime",
          "production/scheduled_downtime",
          "production/scheduled_downtime",
          "production/scheduled_downtime",
          "production/scheduled_downtime",
          "production/scheduled_downtime",
          "production/scheduled_downtime",
          "production/scheduled_downtime",
          "production/scheduled_downtime",
          "production/scheduled_downtime",
          "production/scheduled_downtime",
          "production/scheduled_downtime",
          "production/scheduled_downtime",
          "production/production",
          "production/production",
          "production/production",
          "production/production",
          "production/production",
          "production/production",
          "production/production",
          "production/production",
          "production/production",
          "production/production",
          "production/production",
          "production/production",
          "production/production",
          "production/production",
          "production/production",
          "production/production",
          "production/production",
          "production/production",
          "production/production",
          "production/production",
          "production/production",
          "production/production",
          "production/production",
          "production/production",
          "production/production",
          "production/production",
          "production/production",
          "production/production",
          "production/production",
          "production/production",
          "production/production",
          "production/production",
          "production/production",
          "production/production",
          "production/production",
          "production/production",
          "production/production",
          "production/production",
          "production/production",
          "production/production",
          "production/production",
          "production/production",
          "production/production",
          "production/production",
          "production/production",
          "production/production",
          "production/production",
          "production/production",
          "production/production",
          "production/production",
          "production/production",
          "scheduled_downtime/downtime",
          "scheduled_downtime/downtime",
          "scheduled_downtime/downtime",
          "scheduled_downtime/downtime",
          "scheduled_downtime/downtime",
          "scheduled_downtime/downtime",
          "scheduled_downtime/downtime",
          "scheduled_downtime/downtime",
          "scheduled_downtime/downtime",
          "scheduled_downtime/downtime",
          "scheduled_downtime/downtime",
          "scheduled_downtime/downtime",
          "scheduled_downtime/downtime",
          "scheduled_downtime/downtime",
          "scheduled_downtime/downtime",
          "scheduled_downtime/downtime",
          "scheduled_downtime/downtime",
          "scheduled_downtime/downtime",
          "scheduled_downtime/downtime",
          "scheduled_downtime/downtime",
          "scheduled_downtime/downtime",
          "scheduled_downtime/downtime",
          "scheduled_downtime/downtime",
          "scheduled_downtime/downtime",
          "scheduled_downtime/downtime",
          "scheduled_downtime/downtime",
          "scheduled_downtime/downtime",
          "scheduled_downtime/downtime",
          "scheduled_downtime/downtime",
          "scheduled_downtime/downtime",
          "scheduled_downtime/downtime",
          "scheduled_downtime/downtime",
          "scheduled_downtime/downtime",
          "scheduled_downtime/downtime",
          "scheduled_downtime/downtime",
          "scheduled_downtime/downtime",
          "scheduled_downtime/downtime",
          "scheduled_downtime/downtime",
          "scheduled_downtime/downtime",
          "scheduled_downtime/downtime",
          "scheduled_downtime/downtime",
          "scheduled_downtime/downtime",
          "scheduled_downtime/downtime",
          "scheduled_downtime/downtime",
          "scheduled_downtime/downtime",
          "scheduled_downtime/downtime",
          "scheduled_downtime/downtime",
          "scheduled_downtime/downtime",
          "scheduled_downtime/downtime",
          "scheduled_downtime/downtime",
          "scheduled_downtime/downtime",
          "%production",
          "%production",
          "%production",
          "%production",
          "%production",
          "%production",
          "%production",
          "%production",
          "%production",
          "%production",
          "%production",
          "%production",
          "%production",
          "%production",
          "%production",
          "%production",
          "%production",
          "%production",
          "%production",
          "%production",
          "%production",
          "%production",
          "%production",
          "%production",
          "%production",
          "%production",
          "%production",
          "%production",
          "%production",
          "%production",
          "%production",
          "%production",
          "%production",
          "%production",
          "%production",
          "%production",
          "%production",
          "%production",
          "%production",
          "%production",
          "%production",
          "%production",
          "%production",
          "%production",
          "%production",
          "%production",
          "%production",
          "%production",
          "%production",
          "%production",
          "%production",
          "count_sum",
          "count_sum",
          "count_sum",
          "count_sum",
          "count_sum",
          "count_sum",
          "count_sum",
          "count_sum",
          "count_sum",
          "count_sum",
          "count_sum",
          "count_sum",
          "count_sum",
          "count_sum",
          "count_sum",
          "count_sum",
          "count_sum",
          "count_sum",
          "count_sum",
          "count_sum",
          "count_sum",
          "count_sum",
          "count_sum",
          "count_sum",
          "count_sum",
          "count_sum",
          "count_sum",
          "count_sum",
          "count_sum",
          "count_sum",
          "count_sum",
          "count_sum",
          "count_sum",
          "count_sum",
          "count_sum",
          "count_sum",
          "count_sum",
          "count_sum",
          "count_sum",
          "count_sum",
          "count_sum",
          "count_sum",
          "count_sum",
          "count_sum",
          "count_sum",
          "count_sum",
          "count_sum",
          "count_sum",
          "count_sum",
          "count_sum",
          "count_sum",
          "idle/performance_loss",
          "idle/performance_loss",
          "idle/performance_loss",
          "idle/performance_loss",
          "idle/performance_loss",
          "idle/performance_loss",
          "idle/performance_loss",
          "idle/performance_loss",
          "idle/performance_loss",
          "idle/performance_loss",
          "idle/performance_loss",
          "idle/performance_loss",
          "idle/performance_loss",
          "idle/performance_loss",
          "idle/performance_loss",
          "idle/performance_loss",
          "idle/performance_loss",
          "idle/performance_loss",
          "idle/performance_loss",
          "idle/performance_loss",
          "idle/performance_loss",
          "idle/performance_loss",
          "idle/performance_loss",
          "idle/performance_loss",
          "idle/performance_loss",
          "idle/performance_loss",
          "idle/performance_loss",
          "idle/performance_loss",
          "idle/performance_loss",
          "idle/performance_loss",
          "idle/performance_loss",
          "idle/performance_loss",
          "idle/performance_loss",
          "idle/performance_loss",
          "idle/performance_loss",
          "idle/performance_loss",
          "idle/performance_loss",
          "idle/performance_loss",
          "idle/performance_loss",
          "idle/performance_loss",
          "idle/performance_loss",
          "idle/performance_loss",
          "idle/performance_loss",
          "idle/performance_loss",
          "idle/performance_loss",
          "idle/performance_loss",
          "idle/performance_loss",
          "idle/performance_loss",
          "idle/performance_loss",
          "idle/performance_loss",
          "idle/performance_loss",
          "%idle",
          "%idle",
          "%idle",
          "%idle",
          "%idle",
          "%idle",
          "%idle",
          "%idle",
          "%idle",
          "%idle",
          "%idle",
          "%idle",
          "%idle",
          "%idle",
          "%idle",
          "%idle",
          "%idle",
          "%idle",
          "%idle",
          "%idle",
          "%idle",
          "%idle",
          "%idle",
          "%idle",
          "%idle",
          "%idle",
          "%idle",
          "%idle",
          "%idle",
          "%idle",
          "%idle",
          "%idle",
          "%idle",
          "%idle",
          "%idle",
          "%idle",
          "%idle",
          "%idle",
          "%idle",
          "%idle",
          "%idle",
          "%idle",
          "%idle",
          "%idle",
          "%idle",
          "%idle",
          "%idle",
          "%idle",
          "%idle",
          "%idle",
          "%idle",
          "A_066",
          "A_066",
          "A_066",
          "A_066",
          "A_066",
          "A_066",
          "A_066",
          "A_066",
          "A_066",
          "A_066",
          "A_066",
          "A_066",
          "A_066",
          "A_066",
          "A_066",
          "A_066",
          "A_066",
          "A_066",
          "A_066",
          "A_066",
          "A_066",
          "A_066",
          "A_066",
          "A_066",
          "A_066",
          "A_066",
          "A_066",
          "A_066",
          "A_066",
          "A_066",
          "A_066",
          "A_066",
          "A_066",
          "A_066",
          "A_066",
          "A_066",
          "A_066",
          "A_066",
          "A_066",
          "A_066",
          "A_066",
          "A_066",
          "A_066",
          "A_066",
          "A_066",
          "A_066",
          "A_066",
          "A_066",
          "A_066",
          "A_066",
          "A_066",
          "A_004",
          "A_004",
          "A_004",
          "A_004",
          "A_004",
          "A_004",
          "A_004",
          "A_004",
          "A_004",
          "A_004",
          "A_004",
          "A_004",
          "A_004",
          "A_004",
          "A_004",
          "A_004",
          "A_004",
          "A_004",
          "A_004",
          "A_004",
          "A_004",
          "A_004",
          "A_004",
          "A_004",
          "A_004",
          "A_004",
          "A_004",
          "A_004",
          "A_004",
          "A_004",
          "A_004",
          "A_004",
          "A_004",
          "A_004",
          "A_004",
          "A_004",
          "A_004",
          "A_004",
          "A_004",
          "A_004",
          "A_004",
          "A_004",
          "A_004",
          "A_004",
          "A_004",
          "A_004",
          "A_004",
          "A_004",
          "A_004",
          "A_004",
          "A_004"
         ],
         "yaxis": "y"
        }
       ],
       "layout": {
        "coloraxis": {
         "colorbar": {
          "title": {
           "text": "quantile"
          }
         },
         "colorscale": [
          [
           0,
           "midnightblue"
          ],
          [
           0.5,
           "lightskyblue"
          ],
          [
           1,
           "limegreen"
          ]
         ]
        },
        "legend": {
         "itemsizing": "constant",
         "tracegroupgap": 0
        },
        "shapes": [
         {
          "line": {
           "color": "red",
           "dash": "dash",
           "width": 2
          },
          "type": "line",
          "x0": 0.5037156610480629,
          "x1": 0.5037156610480629,
          "y0": "production/downtime",
          "y1": "A_004"
         },
         {
          "line": {
           "color": "black",
           "dash": "solid",
           "width": 2
          },
          "type": "line",
          "x0": 0.5,
          "x1": 0.5,
          "y0": "production/downtime",
          "y1": "A_004"
         }
        ],
        "template": {
         "data": {
          "bar": [
           {
            "error_x": {
             "color": "#2a3f5f"
            },
            "error_y": {
             "color": "#2a3f5f"
            },
            "marker": {
             "line": {
              "color": "#E5ECF6",
              "width": 0.5
             },
             "pattern": {
              "fillmode": "overlay",
              "size": 10,
              "solidity": 0.2
             }
            },
            "type": "bar"
           }
          ],
          "barpolar": [
           {
            "marker": {
             "line": {
              "color": "#E5ECF6",
              "width": 0.5
             },
             "pattern": {
              "fillmode": "overlay",
              "size": 10,
              "solidity": 0.2
             }
            },
            "type": "barpolar"
           }
          ],
          "carpet": [
           {
            "aaxis": {
             "endlinecolor": "#2a3f5f",
             "gridcolor": "white",
             "linecolor": "white",
             "minorgridcolor": "white",
             "startlinecolor": "#2a3f5f"
            },
            "baxis": {
             "endlinecolor": "#2a3f5f",
             "gridcolor": "white",
             "linecolor": "white",
             "minorgridcolor": "white",
             "startlinecolor": "#2a3f5f"
            },
            "type": "carpet"
           }
          ],
          "choropleth": [
           {
            "colorbar": {
             "outlinewidth": 0,
             "ticks": ""
            },
            "type": "choropleth"
           }
          ],
          "contour": [
           {
            "colorbar": {
             "outlinewidth": 0,
             "ticks": ""
            },
            "colorscale": [
             [
              0,
              "#0d0887"
             ],
             [
              0.1111111111111111,
              "#46039f"
             ],
             [
              0.2222222222222222,
              "#7201a8"
             ],
             [
              0.3333333333333333,
              "#9c179e"
             ],
             [
              0.4444444444444444,
              "#bd3786"
             ],
             [
              0.5555555555555556,
              "#d8576b"
             ],
             [
              0.6666666666666666,
              "#ed7953"
             ],
             [
              0.7777777777777778,
              "#fb9f3a"
             ],
             [
              0.8888888888888888,
              "#fdca26"
             ],
             [
              1,
              "#f0f921"
             ]
            ],
            "type": "contour"
           }
          ],
          "contourcarpet": [
           {
            "colorbar": {
             "outlinewidth": 0,
             "ticks": ""
            },
            "type": "contourcarpet"
           }
          ],
          "heatmap": [
           {
            "colorbar": {
             "outlinewidth": 0,
             "ticks": ""
            },
            "colorscale": [
             [
              0,
              "#0d0887"
             ],
             [
              0.1111111111111111,
              "#46039f"
             ],
             [
              0.2222222222222222,
              "#7201a8"
             ],
             [
              0.3333333333333333,
              "#9c179e"
             ],
             [
              0.4444444444444444,
              "#bd3786"
             ],
             [
              0.5555555555555556,
              "#d8576b"
             ],
             [
              0.6666666666666666,
              "#ed7953"
             ],
             [
              0.7777777777777778,
              "#fb9f3a"
             ],
             [
              0.8888888888888888,
              "#fdca26"
             ],
             [
              1,
              "#f0f921"
             ]
            ],
            "type": "heatmap"
           }
          ],
          "heatmapgl": [
           {
            "colorbar": {
             "outlinewidth": 0,
             "ticks": ""
            },
            "colorscale": [
             [
              0,
              "#0d0887"
             ],
             [
              0.1111111111111111,
              "#46039f"
             ],
             [
              0.2222222222222222,
              "#7201a8"
             ],
             [
              0.3333333333333333,
              "#9c179e"
             ],
             [
              0.4444444444444444,
              "#bd3786"
             ],
             [
              0.5555555555555556,
              "#d8576b"
             ],
             [
              0.6666666666666666,
              "#ed7953"
             ],
             [
              0.7777777777777778,
              "#fb9f3a"
             ],
             [
              0.8888888888888888,
              "#fdca26"
             ],
             [
              1,
              "#f0f921"
             ]
            ],
            "type": "heatmapgl"
           }
          ],
          "histogram": [
           {
            "marker": {
             "pattern": {
              "fillmode": "overlay",
              "size": 10,
              "solidity": 0.2
             }
            },
            "type": "histogram"
           }
          ],
          "histogram2d": [
           {
            "colorbar": {
             "outlinewidth": 0,
             "ticks": ""
            },
            "colorscale": [
             [
              0,
              "#0d0887"
             ],
             [
              0.1111111111111111,
              "#46039f"
             ],
             [
              0.2222222222222222,
              "#7201a8"
             ],
             [
              0.3333333333333333,
              "#9c179e"
             ],
             [
              0.4444444444444444,
              "#bd3786"
             ],
             [
              0.5555555555555556,
              "#d8576b"
             ],
             [
              0.6666666666666666,
              "#ed7953"
             ],
             [
              0.7777777777777778,
              "#fb9f3a"
             ],
             [
              0.8888888888888888,
              "#fdca26"
             ],
             [
              1,
              "#f0f921"
             ]
            ],
            "type": "histogram2d"
           }
          ],
          "histogram2dcontour": [
           {
            "colorbar": {
             "outlinewidth": 0,
             "ticks": ""
            },
            "colorscale": [
             [
              0,
              "#0d0887"
             ],
             [
              0.1111111111111111,
              "#46039f"
             ],
             [
              0.2222222222222222,
              "#7201a8"
             ],
             [
              0.3333333333333333,
              "#9c179e"
             ],
             [
              0.4444444444444444,
              "#bd3786"
             ],
             [
              0.5555555555555556,
              "#d8576b"
             ],
             [
              0.6666666666666666,
              "#ed7953"
             ],
             [
              0.7777777777777778,
              "#fb9f3a"
             ],
             [
              0.8888888888888888,
              "#fdca26"
             ],
             [
              1,
              "#f0f921"
             ]
            ],
            "type": "histogram2dcontour"
           }
          ],
          "mesh3d": [
           {
            "colorbar": {
             "outlinewidth": 0,
             "ticks": ""
            },
            "type": "mesh3d"
           }
          ],
          "parcoords": [
           {
            "line": {
             "colorbar": {
              "outlinewidth": 0,
              "ticks": ""
             }
            },
            "type": "parcoords"
           }
          ],
          "pie": [
           {
            "automargin": true,
            "type": "pie"
           }
          ],
          "scatter": [
           {
            "fillpattern": {
             "fillmode": "overlay",
             "size": 10,
             "solidity": 0.2
            },
            "type": "scatter"
           }
          ],
          "scatter3d": [
           {
            "line": {
             "colorbar": {
              "outlinewidth": 0,
              "ticks": ""
             }
            },
            "marker": {
             "colorbar": {
              "outlinewidth": 0,
              "ticks": ""
             }
            },
            "type": "scatter3d"
           }
          ],
          "scattercarpet": [
           {
            "marker": {
             "colorbar": {
              "outlinewidth": 0,
              "ticks": ""
             }
            },
            "type": "scattercarpet"
           }
          ],
          "scattergeo": [
           {
            "marker": {
             "colorbar": {
              "outlinewidth": 0,
              "ticks": ""
             }
            },
            "type": "scattergeo"
           }
          ],
          "scattergl": [
           {
            "marker": {
             "colorbar": {
              "outlinewidth": 0,
              "ticks": ""
             }
            },
            "type": "scattergl"
           }
          ],
          "scattermapbox": [
           {
            "marker": {
             "colorbar": {
              "outlinewidth": 0,
              "ticks": ""
             }
            },
            "type": "scattermapbox"
           }
          ],
          "scatterpolar": [
           {
            "marker": {
             "colorbar": {
              "outlinewidth": 0,
              "ticks": ""
             }
            },
            "type": "scatterpolar"
           }
          ],
          "scatterpolargl": [
           {
            "marker": {
             "colorbar": {
              "outlinewidth": 0,
              "ticks": ""
             }
            },
            "type": "scatterpolargl"
           }
          ],
          "scatterternary": [
           {
            "marker": {
             "colorbar": {
              "outlinewidth": 0,
              "ticks": ""
             }
            },
            "type": "scatterternary"
           }
          ],
          "surface": [
           {
            "colorbar": {
             "outlinewidth": 0,
             "ticks": ""
            },
            "colorscale": [
             [
              0,
              "#0d0887"
             ],
             [
              0.1111111111111111,
              "#46039f"
             ],
             [
              0.2222222222222222,
              "#7201a8"
             ],
             [
              0.3333333333333333,
              "#9c179e"
             ],
             [
              0.4444444444444444,
              "#bd3786"
             ],
             [
              0.5555555555555556,
              "#d8576b"
             ],
             [
              0.6666666666666666,
              "#ed7953"
             ],
             [
              0.7777777777777778,
              "#fb9f3a"
             ],
             [
              0.8888888888888888,
              "#fdca26"
             ],
             [
              1,
              "#f0f921"
             ]
            ],
            "type": "surface"
           }
          ],
          "table": [
           {
            "cells": {
             "fill": {
              "color": "#EBF0F8"
             },
             "line": {
              "color": "white"
             }
            },
            "header": {
             "fill": {
              "color": "#C8D4E3"
             },
             "line": {
              "color": "white"
             }
            },
            "type": "table"
           }
          ]
         },
         "layout": {
          "annotationdefaults": {
           "arrowcolor": "#2a3f5f",
           "arrowhead": 0,
           "arrowwidth": 1
          },
          "autotypenumbers": "strict",
          "coloraxis": {
           "colorbar": {
            "outlinewidth": 0,
            "ticks": ""
           }
          },
          "colorscale": {
           "diverging": [
            [
             0,
             "#8e0152"
            ],
            [
             0.1,
             "#c51b7d"
            ],
            [
             0.2,
             "#de77ae"
            ],
            [
             0.3,
             "#f1b6da"
            ],
            [
             0.4,
             "#fde0ef"
            ],
            [
             0.5,
             "#f7f7f7"
            ],
            [
             0.6,
             "#e6f5d0"
            ],
            [
             0.7,
             "#b8e186"
            ],
            [
             0.8,
             "#7fbc41"
            ],
            [
             0.9,
             "#4d9221"
            ],
            [
             1,
             "#276419"
            ]
           ],
           "sequential": [
            [
             0,
             "#0d0887"
            ],
            [
             0.1111111111111111,
             "#46039f"
            ],
            [
             0.2222222222222222,
             "#7201a8"
            ],
            [
             0.3333333333333333,
             "#9c179e"
            ],
            [
             0.4444444444444444,
             "#bd3786"
            ],
            [
             0.5555555555555556,
             "#d8576b"
            ],
            [
             0.6666666666666666,
             "#ed7953"
            ],
            [
             0.7777777777777778,
             "#fb9f3a"
            ],
            [
             0.8888888888888888,
             "#fdca26"
            ],
            [
             1,
             "#f0f921"
            ]
           ],
           "sequentialminus": [
            [
             0,
             "#0d0887"
            ],
            [
             0.1111111111111111,
             "#46039f"
            ],
            [
             0.2222222222222222,
             "#7201a8"
            ],
            [
             0.3333333333333333,
             "#9c179e"
            ],
            [
             0.4444444444444444,
             "#bd3786"
            ],
            [
             0.5555555555555556,
             "#d8576b"
            ],
            [
             0.6666666666666666,
             "#ed7953"
            ],
            [
             0.7777777777777778,
             "#fb9f3a"
            ],
            [
             0.8888888888888888,
             "#fdca26"
            ],
            [
             1,
             "#f0f921"
            ]
           ]
          },
          "colorway": [
           "#636efa",
           "#EF553B",
           "#00cc96",
           "#ab63fa",
           "#FFA15A",
           "#19d3f3",
           "#FF6692",
           "#B6E880",
           "#FF97FF",
           "#FECB52"
          ],
          "font": {
           "color": "#2a3f5f"
          },
          "geo": {
           "bgcolor": "white",
           "lakecolor": "white",
           "landcolor": "#E5ECF6",
           "showlakes": true,
           "showland": true,
           "subunitcolor": "white"
          },
          "hoverlabel": {
           "align": "left"
          },
          "hovermode": "closest",
          "mapbox": {
           "style": "light"
          },
          "paper_bgcolor": "white",
          "plot_bgcolor": "#E5ECF6",
          "polar": {
           "angularaxis": {
            "gridcolor": "white",
            "linecolor": "white",
            "ticks": ""
           },
           "bgcolor": "#E5ECF6",
           "radialaxis": {
            "gridcolor": "white",
            "linecolor": "white",
            "ticks": ""
           }
          },
          "scene": {
           "xaxis": {
            "backgroundcolor": "#E5ECF6",
            "gridcolor": "white",
            "gridwidth": 2,
            "linecolor": "white",
            "showbackground": true,
            "ticks": "",
            "zerolinecolor": "white"
           },
           "yaxis": {
            "backgroundcolor": "#E5ECF6",
            "gridcolor": "white",
            "gridwidth": 2,
            "linecolor": "white",
            "showbackground": true,
            "ticks": "",
            "zerolinecolor": "white"
           },
           "zaxis": {
            "backgroundcolor": "#E5ECF6",
            "gridcolor": "white",
            "gridwidth": 2,
            "linecolor": "white",
            "showbackground": true,
            "ticks": "",
            "zerolinecolor": "white"
           }
          },
          "shapedefaults": {
           "line": {
            "color": "#2a3f5f"
           }
          },
          "ternary": {
           "aaxis": {
            "gridcolor": "white",
            "linecolor": "white",
            "ticks": ""
           },
           "baxis": {
            "gridcolor": "white",
            "linecolor": "white",
            "ticks": ""
           },
           "bgcolor": "#E5ECF6",
           "caxis": {
            "gridcolor": "white",
            "linecolor": "white",
            "ticks": ""
           }
          },
          "title": {
           "x": 0.05
          },
          "xaxis": {
           "automargin": true,
           "gridcolor": "white",
           "linecolor": "white",
           "ticks": "",
           "title": {
            "standoff": 15
           },
           "zerolinecolor": "white",
           "zerolinewidth": 2
          },
          "yaxis": {
           "automargin": true,
           "gridcolor": "white",
           "linecolor": "white",
           "ticks": "",
           "title": {
            "standoff": 15
           },
           "zerolinecolor": "white",
           "zerolinewidth": 2
          }
         }
        },
        "title": {
         "text": "Local AcME: observation ID 8383. Predicted: 0.504",
         "x": 0.5,
         "xanchor": "center",
         "y": 0.9,
         "yanchor": "top"
        },
        "xaxis": {
         "anchor": "y",
         "domain": [
          0,
          1
         ],
         "title": {
          "text": "predict"
         }
        },
        "yaxis": {
         "anchor": "x",
         "domain": [
          0,
          1
         ],
         "title": {
          "text": "feature"
         }
        }
       }
      }
     },
     "metadata": {},
     "output_type": "display_data"
    },
    {
     "name": "stdout",
     "output_type": "stream",
     "text": [
      "Equipment  2\n",
      "Using default weights for anomaly detection feature importance\n"
     ]
    },
    {
     "data": {
      "application/vnd.plotly.v1+json": {
       "config": {
        "plotlyServerURL": "https://plot.ly"
       },
       "data": [
        {
         "customdata": [
          [
           1
          ],
          [
           1
          ],
          [
           1
          ],
          [
           1
          ],
          [
           1
          ],
          [
           1
          ],
          [
           1
          ],
          [
           1
          ],
          [
           1
          ],
          [
           1
          ],
          [
           1
          ],
          [
           1
          ],
          [
           1
          ],
          [
           1
          ],
          [
           1
          ],
          [
           1
          ],
          [
           1
          ],
          [
           1
          ],
          [
           1
          ],
          [
           1
          ],
          [
           1
          ],
          [
           1
          ],
          [
           1
          ],
          [
           1
          ],
          [
           1
          ],
          [
           0
          ],
          [
           1
          ],
          [
           0
          ],
          [
           0
          ],
          [
           0
          ],
          [
           0
          ],
          [
           0
          ],
          [
           0
          ],
          [
           1
          ],
          [
           0
          ],
          [
           0
          ],
          [
           0
          ],
          [
           0
          ],
          [
           0
          ],
          [
           0
          ],
          [
           0
          ],
          [
           0
          ],
          [
           0
          ],
          [
           0.6569
          ],
          [
           1
          ],
          [
           1
          ],
          [
           1
          ],
          [
           1
          ],
          [
           1
          ],
          [
           1
          ],
          [
           0
          ],
          [
           1
          ],
          [
           1
          ],
          [
           1
          ],
          [
           0.3204
          ],
          [
           0
          ],
          [
           0
          ],
          [
           0
          ],
          [
           0
          ],
          [
           0
          ],
          [
           0
          ],
          [
           1
          ],
          [
           1
          ],
          [
           1
          ],
          [
           1
          ],
          [
           1
          ],
          [
           1
          ],
          [
           1
          ],
          [
           1
          ],
          [
           1
          ],
          [
           1
          ],
          [
           1
          ],
          [
           0
          ],
          [
           1
          ],
          [
           0
          ],
          [
           1
          ],
          [
           0
          ],
          [
           0
          ],
          [
           0
          ],
          [
           0
          ],
          [
           0
          ],
          [
           0
          ],
          [
           0
          ],
          [
           0
          ],
          [
           0
          ],
          [
           0
          ],
          [
           0
          ],
          [
           0
          ],
          [
           0
          ],
          [
           0
          ],
          [
           0
          ],
          [
           0
          ],
          [
           0
          ],
          [
           0
          ],
          [
           0
          ],
          [
           0
          ],
          [
           0
          ],
          [
           0
          ],
          [
           0
          ],
          [
           0
          ],
          [
           0
          ],
          [
           0
          ],
          [
           0
          ],
          [
           0
          ],
          [
           0
          ],
          [
           0
          ],
          [
           0
          ],
          [
           0
          ],
          [
           0
          ],
          [
           0
          ],
          [
           0
          ],
          [
           0
          ],
          [
           0
          ],
          [
           0
          ],
          [
           0
          ],
          [
           0
          ],
          [
           0
          ],
          [
           0
          ],
          [
           0
          ],
          [
           0
          ],
          [
           0
          ],
          [
           0
          ],
          [
           0
          ],
          [
           0
          ],
          [
           0
          ],
          [
           0
          ],
          [
           0
          ],
          [
           0
          ],
          [
           3
          ],
          [
           2
          ],
          [
           2
          ],
          [
           1
          ],
          [
           1
          ],
          [
           1
          ],
          [
           1
          ],
          [
           1
          ],
          [
           1
          ],
          [
           0.1894
          ],
          [
           0
          ],
          [
           0
          ],
          [
           0
          ],
          [
           0
          ],
          [
           0
          ],
          [
           0
          ],
          [
           0
          ],
          [
           0
          ],
          [
           0
          ],
          [
           0
          ],
          [
           0
          ],
          [
           0
          ],
          [
           0
          ],
          [
           0
          ],
          [
           0
          ],
          [
           0
          ],
          [
           0
          ],
          [
           0
          ],
          [
           0
          ],
          [
           0
          ],
          [
           0
          ],
          [
           0
          ],
          [
           0
          ],
          [
           0
          ],
          [
           0
          ],
          [
           0
          ],
          [
           0
          ],
          [
           0
          ],
          [
           0
          ],
          [
           0
          ],
          [
           0
          ],
          [
           0
          ],
          [
           0
          ],
          [
           0
          ],
          [
           0
          ],
          [
           0
          ],
          [
           0
          ],
          [
           0
          ],
          [
           0
          ],
          [
           0
          ],
          [
           0
          ],
          [
           0
          ],
          [
           1
          ],
          [
           1
          ],
          [
           1
          ],
          [
           1
          ],
          [
           0.1171
          ],
          [
           0
          ],
          [
           0
          ],
          [
           0
          ],
          [
           0
          ],
          [
           0
          ],
          [
           0
          ],
          [
           1
          ],
          [
           0
          ],
          [
           0
          ],
          [
           0
          ],
          [
           0
          ],
          [
           0
          ],
          [
           0
          ],
          [
           0
          ],
          [
           0
          ],
          [
           0
          ],
          [
           0
          ],
          [
           0
          ],
          [
           0
          ],
          [
           103
          ],
          [
           4
          ],
          [
           43.725
          ],
          [
           17
          ],
          [
           17
          ],
          [
           16
          ],
          [
           15
          ],
          [
           15
          ],
          [
           14
          ],
          [
           14
          ],
          [
           14
          ],
          [
           13
          ],
          [
           13
          ],
          [
           12
          ],
          [
           12
          ],
          [
           11
          ],
          [
           11
          ],
          [
           10
          ],
          [
           10
          ],
          [
           9
          ],
          [
           8
          ],
          [
           7
          ],
          [
           6
          ],
          [
           6
          ],
          [
           18
          ],
          [
           18
          ],
          [
           19
          ],
          [
           19
          ],
          [
           40
          ],
          [
           37
          ],
          [
           35
          ],
          [
           33
          ],
          [
           32
          ],
          [
           31
          ],
          [
           30
          ],
          [
           28
          ],
          [
           28
          ],
          [
           26
          ],
          [
           49
          ],
          [
           26
          ],
          [
           24
          ],
          [
           23
          ],
          [
           23
          ],
          [
           22
          ],
          [
           22
          ],
          [
           21.3934
          ],
          [
           21
          ],
          [
           20
          ],
          [
           20
          ],
          [
           20
          ],
          [
           25
          ],
          [
           1
          ],
          [
           1
          ],
          [
           1
          ],
          [
           6
          ],
          [
           6
          ],
          [
           6.3802
          ],
          [
           7
          ],
          [
           7
          ],
          [
           7
          ],
          [
           7
          ],
          [
           8
          ],
          [
           8
          ],
          [
           9
          ],
          [
           9
          ],
          [
           9
          ],
          [
           10
          ],
          [
           10
          ],
          [
           11
          ],
          [
           11
          ],
          [
           12
          ],
          [
           13
          ],
          [
           14
          ],
          [
           16
          ],
          [
           27
          ],
          [
           6
          ],
          [
           6
          ],
          [
           8
          ],
          [
           5
          ],
          [
           6
          ],
          [
           2
          ],
          [
           2
          ],
          [
           2
          ],
          [
           2
          ],
          [
           2
          ],
          [
           2
          ],
          [
           3
          ],
          [
           3
          ],
          [
           3
          ],
          [
           3
          ],
          [
           1
          ],
          [
           5
          ],
          [
           4
          ],
          [
           4
          ],
          [
           4
          ],
          [
           4
          ],
          [
           4
          ],
          [
           4
          ],
          [
           5
          ],
          [
           5
          ],
          [
           5
          ],
          [
           3
          ],
          [
           4
          ],
          [
           4
          ],
          [
           5
          ],
          [
           5
          ],
          [
           6
          ],
          [
           5
          ],
          [
           5
          ],
          [
           6
          ],
          [
           4
          ],
          [
           5
          ],
          [
           4
          ],
          [
           2
          ],
          [
           3
          ],
          [
           3
          ],
          [
           3
          ],
          [
           3
          ],
          [
           2
          ],
          [
           2
          ],
          [
           2
          ],
          [
           2
          ],
          [
           1
          ],
          [
           1
          ],
          [
           4
          ],
          [
           6
          ],
          [
           42
          ],
          [
           7
          ],
          [
           0
          ],
          [
           20
          ],
          [
           18
          ],
          [
           16
          ],
          [
           14
          ],
          [
           13
          ],
          [
           13
          ],
          [
           12
          ],
          [
           11
          ],
          [
           11
          ],
          [
           10
          ],
          [
           10
          ],
          [
           10
          ],
          [
           9
          ],
          [
           9
          ],
          [
           9
          ],
          [
           8
          ],
          [
           8
          ],
          [
           8
          ],
          [
           7.3824
          ],
          [
           7
          ],
          [
           7
          ],
          [
           7
          ],
          [
           6
          ],
          [
           1
          ],
          [
           28
          ],
          [
           13
          ],
          [
           3
          ],
          [
           3
          ],
          [
           3
          ],
          [
           3
          ],
          [
           2
          ],
          [
           2
          ],
          [
           2
          ],
          [
           2
          ],
          [
           2
          ],
          [
           2
          ],
          [
           3
          ],
          [
           2
          ],
          [
           1
          ],
          [
           1
          ],
          [
           1
          ],
          [
           1
          ],
          [
           0
          ],
          [
           0
          ],
          [
           0
          ],
          [
           0
          ],
          [
           0
          ],
          [
           0
          ],
          [
           1
          ],
          [
           3
          ],
          [
           0
          ],
          [
           4
          ],
          [
           4
          ],
          [
           12
          ],
          [
           10
          ],
          [
           9
          ],
          [
           9
          ],
          [
           8
          ],
          [
           8
          ],
          [
           7
          ],
          [
           7
          ],
          [
           6
          ],
          [
           6
          ],
          [
           7
          ],
          [
           6
          ],
          [
           5
          ],
          [
           5
          ],
          [
           4
          ],
          [
           5
          ],
          [
           5
          ],
          [
           5
          ],
          [
           4.393
          ],
          [
           4
          ],
          [
           4
          ],
          [
           6
          ],
          [
           3
          ],
          [
           3
          ],
          [
           3
          ],
          [
           4
          ],
          [
           3
          ],
          [
           3
          ],
          [
           4
          ],
          [
           2
          ],
          [
           3
          ],
          [
           2
          ],
          [
           0
          ],
          [
           2
          ],
          [
           2
          ],
          [
           1
          ],
          [
           1
          ],
          [
           1
          ],
          [
           1
          ],
          [
           1
          ],
          [
           1
          ],
          [
           0
          ],
          [
           4
          ],
          [
           2
          ],
          [
           4
          ],
          [
           7
          ],
          [
           5
          ],
          [
           0
          ],
          [
           13
          ],
          [
           12
          ],
          [
           11
          ],
          [
           10
          ],
          [
           10
          ],
          [
           9
          ],
          [
           9
          ],
          [
           8
          ],
          [
           8
          ],
          [
           4
          ],
          [
           8
          ],
          [
           7
          ],
          [
           6
          ],
          [
           6
          ],
          [
           6
          ],
          [
           6
          ],
          [
           5.3806
          ],
          [
           5
          ],
          [
           5
          ],
          [
           5
          ],
          [
           5
          ],
          [
           7
          ],
          [
           0
          ],
          [
           26
          ],
          [
           15
          ],
          [
           18
          ],
          [
           0
          ],
          [
           0
          ],
          [
           0
          ],
          [
           0
          ],
          [
           0
          ],
          [
           0
          ],
          [
           0
          ],
          [
           0
          ],
          [
           0
          ],
          [
           0
          ],
          [
           0
          ],
          [
           0
          ],
          [
           0
          ],
          [
           0
          ],
          [
           0
          ],
          [
           0
          ],
          [
           0
          ],
          [
           0
          ],
          [
           0
          ],
          [
           0
          ],
          [
           0
          ],
          [
           0
          ],
          [
           0
          ],
          [
           0
          ],
          [
           0
          ],
          [
           0
          ],
          [
           4
          ],
          [
           3
          ],
          [
           2
          ],
          [
           2
          ],
          [
           1
          ],
          [
           1
          ],
          [
           1
          ],
          [
           1
          ],
          [
           1
          ],
          [
           1
          ],
          [
           6
          ],
          [
           0.2499
          ],
          [
           0
          ],
          [
           0
          ],
          [
           0
          ],
          [
           0
          ],
          [
           0
          ],
          [
           0
          ],
          [
           0
          ],
          [
           0
          ],
          [
           0
          ],
          [
           0
          ],
          [
           0
          ],
          [
           0
          ]
         ],
         "hovertemplate": "Feature: <b>%{y}</b><br><br>Predict: %{x}<br>Original value: %{customdata[0]}<br>Quantile: %{marker.color}",
         "legendgroup": "",
         "marker": {
          "color": [
           0.6875,
           0.6688,
           0.65,
           0.6312,
           0.5375,
           0.5938,
           0.575,
           0.5562,
           0.7062,
           0.6125,
           0.725,
           0.5188,
           0.7625,
           0.7812,
           0.8,
           0.8188,
           0.8375,
           0.8562,
           0.875,
           0.8938,
           0.9125,
           0.9312,
           0.95,
           0.7438,
           0.5,
           0.05,
           0.4625,
           0.0688,
           0.0875,
           0.1062,
           0.125,
           0.1438,
           0.1625,
           0.4812,
           0.1813,
           0.2,
           0.2188,
           0.2375,
           0.1717,
           0.275,
           0.2938,
           0.3125,
           0.3312,
           0.3431,
           0.35,
           0.3687,
           0.3875,
           0.4062,
           0.425,
           0.4438,
           0.2562,
           0.725,
           0.7062,
           0.6875,
           0.6796,
           0.575,
           0.65,
           0.6312,
           0.6125,
           0.5938,
           0.6688,
           0.7438,
           0.95,
           0.8,
           0.8188,
           0.8375,
           0.84,
           0.8562,
           0.875,
           0.8938,
           0.9125,
           0.9312,
           0.5562,
           0.7625,
           0.5375,
           0.7812,
           0.5,
           0.5188,
           0.0875,
           0.0688,
           0.1062,
           0.125,
           0.1438,
           0.1625,
           0.1813,
           0.2,
           0.2188,
           0.2375,
           0.2562,
           0.05,
           0.2938,
           0.3125,
           0.3312,
           0.35,
           0.3687,
           0.3875,
           0.4062,
           0.425,
           0.4438,
           0.4625,
           0.4812,
           0.275,
           0.3125,
           0.3312,
           0.35,
           0.4438,
           0.3875,
           0.4062,
           0.425,
           0.2938,
           0.3687,
           0.275,
           0.1813,
           0.2375,
           0.2188,
           0.2,
           0.4625,
           0.1625,
           0.1438,
           0.125,
           0.1062,
           0.0875,
           0.0688,
           0.05,
           0.2562,
           0.4812,
           0.5938,
           0.5188,
           0.9646,
           0.95,
           0.9312,
           0.9125,
           0.8938,
           0.875,
           0.8562,
           0.8375,
           0.8188,
           0.8106,
           0.8,
           0.7812,
           0.7625,
           0.7438,
           0.7062,
           0.6875,
           0.6688,
           0.65,
           0.6312,
           0.6125,
           0.575,
           0.5562,
           0.5375,
           0.5,
           0.725,
           0.0688,
           0.0875,
           0.4625,
           0.4438,
           0.425,
           0.4062,
           0.3875,
           0.3687,
           0.35,
           0.3312,
           0.3125,
           0.2938,
           0.275,
           0.2562,
           0.2375,
           0.2188,
           0.2,
           0.1813,
           0.1625,
           0.1438,
           0.125,
           0.1062,
           0.05,
           0.4812,
           0.5,
           0.5188,
           0.7625,
           0.933,
           0.9312,
           0.9125,
           0.8938,
           0.8829,
           0.875,
           0.8562,
           0.8375,
           0.8188,
           0.8,
           0.7812,
           0.95,
           0.7438,
           0.725,
           0.7062,
           0.6875,
           0.6688,
           0.65,
           0.6312,
           0.6125,
           0.5938,
           0.575,
           0.5562,
           0.5375,
           0.995,
           0.05,
           0.9312,
           0.4438,
           0.425,
           0.4062,
           0.3875,
           0.3687,
           0.35,
           0.3312,
           0.3125,
           0.2938,
           0.275,
           0.2562,
           0.2375,
           0.2188,
           0.2,
           0.1813,
           0.1625,
           0.1438,
           0.125,
           0.1062,
           0.0875,
           0.0688,
           0.4625,
           0.4812,
           0.5,
           0.5188,
           0.9125,
           0.8938,
           0.875,
           0.8562,
           0.8375,
           0.8188,
           0.8,
           0.7812,
           0.7625,
           0.7438,
           0.95,
           0.725,
           0.6875,
           0.6688,
           0.65,
           0.6312,
           0.6125,
           0.6066,
           0.5938,
           0.575,
           0.5562,
           0.5375,
           0.7062,
           0.05,
           0.0688,
           0.0875,
           0.5938,
           0.6125,
           0.6198,
           0.6312,
           0.65,
           0.6688,
           0.6875,
           0.7062,
           0.725,
           0.7625,
           0.7812,
           0.8,
           0.8188,
           0.8375,
           0.8562,
           0.875,
           0.8938,
           0.9125,
           0.9312,
           0.95,
           0.9923,
           0.575,
           0.5562,
           0.7438,
           0.5188,
           0.5375,
           0.125,
           0.1438,
           0.1625,
           0.1813,
           0.2,
           0.2188,
           0.2375,
           0.2562,
           0.275,
           0.2938,
           0.1062,
           0.5,
           0.3312,
           0.35,
           0.3687,
           0.3875,
           0.4062,
           0.425,
           0.4438,
           0.4625,
           0.4812,
           0.3125,
           0.35,
           0.3687,
           0.3875,
           0.4062,
           0.5,
           0.4438,
           0.4625,
           0.4812,
           0.3312,
           0.425,
           0.3125,
           0.2,
           0.275,
           0.2562,
           0.2375,
           0.2188,
           0.1813,
           0.1625,
           0.1438,
           0.125,
           0.1062,
           0.0875,
           0.2938,
           0.5188,
           0.993,
           0.5562,
           0.05,
           0.95,
           0.9312,
           0.9125,
           0.8938,
           0.875,
           0.8562,
           0.8375,
           0.8188,
           0.8,
           0.7812,
           0.7625,
           0.7438,
           0.725,
           0.7062,
           0.6875,
           0.6688,
           0.65,
           0.6312,
           0.6176,
           0.6125,
           0.5938,
           0.575,
           0.5375,
           0.0688,
           0.9936,
           0.95,
           0.4625,
           0.4438,
           0.425,
           0.4062,
           0.3875,
           0.3687,
           0.35,
           0.3312,
           0.3125,
           0.2938,
           0.4812,
           0.275,
           0.2375,
           0.2188,
           0.2,
           0.1813,
           0.1625,
           0.1438,
           0.125,
           0.1062,
           0.0875,
           0.0688,
           0.2562,
           0.5,
           0.05,
           0.5375,
           0.5188,
           0.9312,
           0.9125,
           0.8938,
           0.875,
           0.8562,
           0.8375,
           0.8,
           0.7812,
           0.7625,
           0.7438,
           0.8188,
           0.7062,
           0.6875,
           0.6688,
           0.5562,
           0.65,
           0.6312,
           0.6125,
           0.607,
           0.5938,
           0.575,
           0.725,
           0.3312,
           0.35,
           0.3687,
           0.4625,
           0.4062,
           0.425,
           0.4438,
           0.3125,
           0.3875,
           0.2938,
           0.0875,
           0.2562,
           0.2375,
           0.2188,
           0.2,
           0.1813,
           0.1625,
           0.1438,
           0.125,
           0.1062,
           0.4812,
           0.275,
           0.5,
           0.7062,
           0.5375,
           0.0688,
           0.9312,
           0.9125,
           0.8938,
           0.875,
           0.8562,
           0.8375,
           0.8188,
           0.8,
           0.7812,
           0.5188,
           0.7625,
           0.725,
           0.6875,
           0.6688,
           0.65,
           0.6312,
           0.6194,
           0.6125,
           0.5938,
           0.575,
           0.5562,
           0.7438,
           0.05,
           0.9923,
           0.95,
           0.9932,
           0.4625,
           0.4438,
           0.425,
           0.4062,
           0.3875,
           0.3687,
           0.35,
           0.3312,
           0.3125,
           0.2938,
           0.275,
           0.2562,
           0.2188,
           0.2,
           0.1813,
           0.1625,
           0.1438,
           0.125,
           0.1062,
           0.0875,
           0.0688,
           0.05,
           0.2375,
           0.4812,
           0.5,
           0.5375,
           0.9312,
           0.9125,
           0.8938,
           0.875,
           0.8562,
           0.8375,
           0.8188,
           0.8,
           0.7812,
           0.7625,
           0.95,
           0.7501,
           0.725,
           0.7062,
           0.6875,
           0.6688,
           0.65,
           0.6312,
           0.6125,
           0.5938,
           0.575,
           0.5562,
           0.7438,
           0.5188
          ],
          "coloraxis": "coloraxis",
          "size": [
           0.05,
           0.05,
           0.05,
           0.05,
           0.05,
           0.05,
           0.05,
           0.05,
           0.05,
           0.05,
           0.05,
           0.05,
           0.05,
           0.05,
           0.05,
           0.05,
           0.05,
           0.05,
           0.05,
           0.05,
           0.05,
           0.05,
           0.05,
           0.05,
           0.05,
           0.05,
           0.05,
           0.05,
           0.05,
           0.05,
           0.05,
           0.05,
           0.05,
           0.05,
           0.05,
           0.05,
           0.05,
           0.05,
           0.3,
           0.05,
           0.05,
           0.05,
           0.05,
           0.05,
           0.05,
           0.05,
           0.05,
           0.05,
           0.05,
           0.05,
           0.05,
           0.05,
           0.05,
           0.05,
           0.05,
           0.05,
           0.05,
           0.05,
           0.05,
           0.05,
           0.05,
           0.05,
           0.05,
           0.05,
           0.05,
           0.05,
           0.3,
           0.05,
           0.05,
           0.05,
           0.05,
           0.05,
           0.05,
           0.05,
           0.05,
           0.05,
           0.05,
           0.05,
           0.05,
           0.05,
           0.05,
           0.05,
           0.05,
           0.05,
           0.05,
           0.05,
           0.05,
           0.05,
           0.05,
           0.05,
           0.05,
           0.05,
           0.05,
           0.05,
           0.05,
           0.05,
           0.05,
           0.05,
           0.05,
           0.05,
           0.05,
           0.05,
           0.05,
           0.05,
           0.05,
           0.05,
           0.05,
           0.05,
           0.05,
           0.05,
           0.05,
           0.05,
           0.05,
           0.05,
           0.05,
           0.05,
           0.05,
           0.05,
           0.05,
           0.05,
           0.05,
           0.05,
           0.05,
           0.05,
           0.05,
           0.05,
           0.05,
           0.05,
           0.3,
           0.05,
           0.05,
           0.05,
           0.05,
           0.05,
           0.05,
           0.05,
           0.05,
           0.05,
           0.05,
           0.05,
           0.05,
           0.05,
           0.05,
           0.05,
           0.05,
           0.05,
           0.05,
           0.05,
           0.05,
           0.05,
           0.05,
           0.05,
           0.05,
           0.05,
           0.05,
           0.05,
           0.05,
           0.05,
           0.05,
           0.05,
           0.05,
           0.05,
           0.05,
           0.05,
           0.05,
           0.05,
           0.05,
           0.05,
           0.05,
           0.05,
           0.05,
           0.05,
           0.05,
           0.05,
           0.05,
           0.05,
           0.05,
           0.05,
           0.05,
           0.05,
           0.3,
           0.05,
           0.05,
           0.05,
           0.05,
           0.05,
           0.05,
           0.05,
           0.05,
           0.05,
           0.05,
           0.05,
           0.05,
           0.05,
           0.05,
           0.05,
           0.05,
           0.05,
           0.05,
           0.05,
           0.05,
           0.05,
           0.05,
           0.05,
           0.3,
           0.05,
           0.05,
           0.05,
           0.05,
           0.05,
           0.05,
           0.05,
           0.05,
           0.05,
           0.05,
           0.05,
           0.05,
           0.05,
           0.05,
           0.05,
           0.05,
           0.05,
           0.05,
           0.05,
           0.05,
           0.05,
           0.05,
           0.05,
           0.05,
           0.05,
           0.05,
           0.05,
           0.05,
           0.05,
           0.05,
           0.05,
           0.05,
           0.05,
           0.05,
           0.05,
           0.05,
           0.05,
           0.05,
           0.05,
           0.05,
           0.05,
           0.05,
           0.05,
           0.05,
           0.05,
           0.05,
           0.05,
           0.05,
           0.05,
           0.05,
           0.05,
           0.05,
           0.05,
           0.05,
           0.05,
           0.05,
           0.05,
           0.05,
           0.05,
           0.05,
           0.05,
           0.05,
           0.05,
           0.05,
           0.05,
           0.05,
           0.05,
           0.05,
           0.05,
           0.05,
           0.05,
           0.05,
           0.05,
           0.3,
           0.05,
           0.05,
           0.05,
           0.05,
           0.05,
           0.05,
           0.05,
           0.05,
           0.05,
           0.05,
           0.05,
           0.05,
           0.05,
           0.05,
           0.05,
           0.05,
           0.05,
           0.05,
           0.05,
           0.05,
           0.05,
           0.05,
           0.05,
           0.05,
           0.05,
           0.05,
           0.05,
           0.05,
           0.05,
           0.05,
           0.05,
           0.05,
           0.05,
           0.05,
           0.05,
           0.05,
           0.05,
           0.05,
           0.05,
           0.05,
           0.05,
           0.05,
           0.05,
           0.05,
           0.05,
           0.05,
           0.05,
           0.05,
           0.05,
           0.05,
           0.05,
           0.3,
           0.05,
           0.05,
           0.05,
           0.05,
           0.05,
           0.05,
           0.05,
           0.05,
           0.05,
           0.05,
           0.05,
           0.05,
           0.05,
           0.05,
           0.05,
           0.05,
           0.05,
           0.05,
           0.05,
           0.05,
           0.05,
           0.05,
           0.05,
           0.05,
           0.05,
           0.05,
           0.3,
           0.05,
           0.05,
           0.05,
           0.05,
           0.05,
           0.05,
           0.05,
           0.05,
           0.05,
           0.05,
           0.05,
           0.05,
           0.05,
           0.05,
           0.05,
           0.05,
           0.05,
           0.05,
           0.05,
           0.05,
           0.05,
           0.05,
           0.05,
           0.05,
           0.05,
           0.05,
           0.05,
           0.05,
           0.05,
           0.05,
           0.05,
           0.05,
           0.05,
           0.05,
           0.05,
           0.05,
           0.05,
           0.05,
           0.05,
           0.05,
           0.05,
           0.05,
           0.05,
           0.05,
           0.05,
           0.05,
           0.05,
           0.05,
           0.05,
           0.05,
           0.05,
           0.05,
           0.05,
           0.05,
           0.05,
           0.05,
           0.05,
           0.05,
           0.05,
           0.05,
           0.05,
           0.05,
           0.05,
           0.05,
           0.05,
           0.05,
           0.05,
           0.05,
           0.05,
           0.05,
           0.05,
           0.05,
           0.05,
           0.05,
           0.05,
           0.05,
           0.05,
           0.05,
           0.05,
           0.05,
           0.05,
           0.05,
           0.05,
           0.05,
           0.05,
           0.05,
           0.05,
           0.05,
           0.05,
           0.05,
           0.05,
           0.05,
           0.05,
           0.05,
           0.05,
           0.05,
           0.05,
           0.05,
           0.05,
           0.3,
           0.05,
           0.3,
           0.05,
           0.05,
           0.05,
           0.05,
           0.05,
           0.05,
           0.05,
           0.05,
           0.05,
           0.05,
           0.05,
           0.05,
           0.05,
           0.05,
           0.05,
           0.05,
           0.05,
           0.05,
           0.05,
           0.05,
           0.05,
           0.05,
           0.05,
           0.05,
           0.05,
           0.05,
           0.05,
           0.05,
           0.05,
           0.05,
           0.05,
           0.05,
           0.05,
           0.05,
           0.05,
           0.05,
           0.05,
           0.05,
           0.05,
           0.05,
           0.05,
           0.05,
           0.05,
           0.05,
           0.05,
           0.05,
           0.05,
           0.05,
           0.05,
           0.05
          ],
          "sizemode": "area",
          "sizeref": 0.00075,
          "symbol": "circle"
         },
         "mode": "markers",
         "name": "",
         "orientation": "h",
         "showlegend": false,
         "type": "scatter",
         "x": [
          0.5038,
          0.5038,
          0.5038,
          0.5038,
          0.5038,
          0.5038,
          0.5038,
          0.5038,
          0.5038,
          0.5038,
          0.5038,
          0.5038,
          0.5038,
          0.5038,
          0.5038,
          0.5038,
          0.5038,
          0.5038,
          0.5038,
          0.5038,
          0.5038,
          0.5038,
          0.5038,
          0.5038,
          0.5038,
          0.5075,
          0.5038,
          0.5075,
          0.5075,
          0.5075,
          0.5075,
          0.5075,
          0.5075,
          0.5038,
          0.5075,
          0.5075,
          0.5075,
          0.5075,
          0.5075,
          0.5075,
          0.5075,
          0.5075,
          0.5075,
          0.5039,
          0.5038,
          0.5038,
          0.5038,
          0.5038,
          0.5038,
          0.5038,
          0.5075,
          0.5075,
          0.5075,
          0.5075,
          0.5045,
          0.5035,
          0.5035,
          0.5035,
          0.5035,
          0.5035,
          0.5035,
          0.5075,
          0.5075,
          0.5075,
          0.5075,
          0.5075,
          0.5075,
          0.5075,
          0.5075,
          0.5075,
          0.5075,
          0.5075,
          0.5035,
          0.5075,
          0.5035,
          0.5075,
          0.5035,
          0.5035,
          0.5035,
          0.5035,
          0.5035,
          0.5035,
          0.5035,
          0.5035,
          0.5035,
          0.5035,
          0.5035,
          0.5035,
          0.5035,
          0.5035,
          0.5035,
          0.5035,
          0.5035,
          0.5035,
          0.5035,
          0.5035,
          0.5035,
          0.5035,
          0.5035,
          0.5035,
          0.5035,
          0.5035,
          0.5023,
          0.5023,
          0.5023,
          0.5023,
          0.5023,
          0.5023,
          0.5023,
          0.5023,
          0.5023,
          0.5023,
          0.5023,
          0.5023,
          0.5023,
          0.5023,
          0.5023,
          0.5023,
          0.5023,
          0.5023,
          0.5023,
          0.5023,
          0.5023,
          0.5023,
          0.5023,
          0.5023,
          0.5023,
          0.5023,
          0.5075,
          0.5049,
          0.5049,
          0.5048,
          0.5048,
          0.5048,
          0.5048,
          0.5048,
          0.5048,
          0.5025,
          0.5023,
          0.5023,
          0.5023,
          0.5023,
          0.5023,
          0.5023,
          0.5023,
          0.5023,
          0.5023,
          0.5023,
          0.5023,
          0.5023,
          0.5023,
          0.5023,
          0.5023,
          0.5014,
          0.5014,
          0.5014,
          0.5014,
          0.5014,
          0.5014,
          0.5014,
          0.5014,
          0.5014,
          0.5014,
          0.5014,
          0.5014,
          0.5014,
          0.5014,
          0.5014,
          0.5014,
          0.5014,
          0.5014,
          0.5014,
          0.5014,
          0.5014,
          0.5014,
          0.5014,
          0.5014,
          0.5014,
          0.5014,
          0.5014,
          0.5075,
          0.5075,
          0.5075,
          0.5075,
          0.5042,
          0.5014,
          0.5014,
          0.5014,
          0.5014,
          0.5014,
          0.5014,
          0.5075,
          0.5014,
          0.5014,
          0.5014,
          0.5014,
          0.5014,
          0.5014,
          0.5014,
          0.5014,
          0.5014,
          0.5014,
          0.5014,
          0.5014,
          0.5075,
          0.5036,
          0.5048,
          0.5026,
          0.5026,
          0.5026,
          0.5026,
          0.5026,
          0.5032,
          0.5032,
          0.5032,
          0.5032,
          0.5032,
          0.5032,
          0.5032,
          0.5032,
          0.5032,
          0.5032,
          0.5032,
          0.5032,
          0.5032,
          0.5036,
          0.5036,
          0.5036,
          0.5011,
          0.5011,
          0.5011,
          0.5011,
          0.5033,
          0.5033,
          0.5018,
          0.5018,
          0.5018,
          0.5011,
          0.5011,
          0.5011,
          0.5011,
          0.5011,
          0.5048,
          0.5011,
          0.5011,
          0.5011,
          0.5011,
          0.5011,
          0.5011,
          0.5011,
          0.5011,
          0.5011,
          0.5011,
          0.5011,
          0.5011,
          0.502,
          0.502,
          0.502,
          0.5004,
          0.5004,
          0.5004,
          0.502,
          0.502,
          0.502,
          0.502,
          0.5023,
          0.5023,
          0.5023,
          0.5023,
          0.5023,
          0.5023,
          0.5023,
          0.5033,
          0.5033,
          0.5051,
          0.5051,
          0.5051,
          0.5059,
          0.5075,
          0.5004,
          0.5004,
          0.5023,
          0.5004,
          0.5004,
          0.5004,
          0.5004,
          0.5004,
          0.5004,
          0.5004,
          0.5004,
          0.5004,
          0.5004,
          0.5004,
          0.5004,
          0.502,
          0.5004,
          0.5004,
          0.5004,
          0.5004,
          0.5004,
          0.5004,
          0.5004,
          0.5004,
          0.5004,
          0.5004,
          0.5004,
          0.4967,
          0.4967,
          0.4967,
          0.4967,
          0.4967,
          0.4967,
          0.4967,
          0.4967,
          0.4967,
          0.4967,
          0.4967,
          0.4967,
          0.4967,
          0.4967,
          0.4967,
          0.4967,
          0.4967,
          0.4967,
          0.4967,
          0.4967,
          0.4973,
          0.4973,
          0.4967,
          0.4967,
          0.5075,
          0.4975,
          0.498,
          0.5003,
          0.5003,
          0.5003,
          0.5004,
          0.5008,
          0.5008,
          0.4997,
          0.4997,
          0.4997,
          0.4997,
          0.4997,
          0.4997,
          0.4997,
          0.4997,
          0.4997,
          0.4997,
          0.4997,
          0.4997,
          0.4975,
          0.4975,
          0.4975,
          0.4975,
          0.4967,
          0.4973,
          0.5075,
          0.5018,
          0.4993,
          0.4993,
          0.4993,
          0.4993,
          0.4996,
          0.4996,
          0.4996,
          0.4996,
          0.4996,
          0.4996,
          0.4993,
          0.4996,
          0.5007,
          0.5007,
          0.5007,
          0.5007,
          0.5007,
          0.5007,
          0.5007,
          0.5007,
          0.5007,
          0.5007,
          0.5007,
          0.4993,
          0.5007,
          0.4993,
          0.4993,
          0.5001,
          0.4978,
          0.4984,
          0.4984,
          0.4987,
          0.4987,
          0.4987,
          0.4987,
          0.4984,
          0.4984,
          0.4987,
          0.4984,
          0.4984,
          0.4984,
          0.4993,
          0.4984,
          0.4984,
          0.4984,
          0.4984,
          0.4993,
          0.4993,
          0.4984,
          0.4994,
          0.4994,
          0.4994,
          0.4994,
          0.4994,
          0.4994,
          0.4994,
          0.499,
          0.4994,
          0.499,
          0.4996,
          0.499,
          0.499,
          0.4987,
          0.4987,
          0.4987,
          0.4987,
          0.4987,
          0.4987,
          0.4996,
          0.4994,
          0.499,
          0.4994,
          0.4993,
          0.4994,
          0.4996,
          0.4987,
          0.4989,
          0.4989,
          0.4982,
          0.4982,
          0.4982,
          0.4982,
          0.4991,
          0.4991,
          0.4994,
          0.4991,
          0.4993,
          0.4994,
          0.4994,
          0.4994,
          0.4994,
          0.4994,
          0.4994,
          0.4994,
          0.4994,
          0.4994,
          0.4993,
          0.4996,
          0.5075,
          0.5007,
          0.5075,
          0.491,
          0.491,
          0.491,
          0.491,
          0.491,
          0.491,
          0.491,
          0.491,
          0.491,
          0.491,
          0.491,
          0.491,
          0.491,
          0.491,
          0.491,
          0.491,
          0.491,
          0.491,
          0.491,
          0.491,
          0.491,
          0.491,
          0.491,
          0.491,
          0.491,
          0.491,
          0.4932,
          0.4911,
          0.4911,
          0.4911,
          0.4911,
          0.4911,
          0.4911,
          0.4911,
          0.4911,
          0.4911,
          0.4972,
          0.491,
          0.491,
          0.491,
          0.491,
          0.491,
          0.491,
          0.491,
          0.491,
          0.491,
          0.491,
          0.491,
          0.491,
          0.491
         ],
         "xaxis": "x",
         "y": [
          "production/downtime",
          "production/downtime",
          "production/downtime",
          "production/downtime",
          "production/downtime",
          "production/downtime",
          "production/downtime",
          "production/downtime",
          "production/downtime",
          "production/downtime",
          "production/downtime",
          "production/downtime",
          "production/downtime",
          "production/downtime",
          "production/downtime",
          "production/downtime",
          "production/downtime",
          "production/downtime",
          "production/downtime",
          "production/downtime",
          "production/downtime",
          "production/downtime",
          "production/downtime",
          "production/downtime",
          "production/downtime",
          "production/downtime",
          "production/downtime",
          "production/downtime",
          "production/downtime",
          "production/downtime",
          "production/downtime",
          "production/downtime",
          "production/downtime",
          "production/downtime",
          "production/downtime",
          "production/downtime",
          "production/downtime",
          "production/downtime",
          "production/downtime",
          "production/downtime",
          "production/downtime",
          "production/downtime",
          "production/downtime",
          "production/downtime",
          "production/downtime",
          "production/downtime",
          "production/downtime",
          "production/downtime",
          "production/downtime",
          "production/downtime",
          "production/downtime",
          "production/scheduled_downtime",
          "production/scheduled_downtime",
          "production/scheduled_downtime",
          "production/scheduled_downtime",
          "production/scheduled_downtime",
          "production/scheduled_downtime",
          "production/scheduled_downtime",
          "production/scheduled_downtime",
          "production/scheduled_downtime",
          "production/scheduled_downtime",
          "production/scheduled_downtime",
          "production/scheduled_downtime",
          "production/scheduled_downtime",
          "production/scheduled_downtime",
          "production/scheduled_downtime",
          "production/scheduled_downtime",
          "production/scheduled_downtime",
          "production/scheduled_downtime",
          "production/scheduled_downtime",
          "production/scheduled_downtime",
          "production/scheduled_downtime",
          "production/scheduled_downtime",
          "production/scheduled_downtime",
          "production/scheduled_downtime",
          "production/scheduled_downtime",
          "production/scheduled_downtime",
          "production/scheduled_downtime",
          "production/scheduled_downtime",
          "production/scheduled_downtime",
          "production/scheduled_downtime",
          "production/scheduled_downtime",
          "production/scheduled_downtime",
          "production/scheduled_downtime",
          "production/scheduled_downtime",
          "production/scheduled_downtime",
          "production/scheduled_downtime",
          "production/scheduled_downtime",
          "production/scheduled_downtime",
          "production/scheduled_downtime",
          "production/scheduled_downtime",
          "production/scheduled_downtime",
          "production/scheduled_downtime",
          "production/scheduled_downtime",
          "production/scheduled_downtime",
          "production/scheduled_downtime",
          "production/scheduled_downtime",
          "production/scheduled_downtime",
          "production/scheduled_downtime",
          "production/scheduled_downtime",
          "production/scheduled_downtime",
          "production/scheduled_downtime",
          "A_020",
          "A_020",
          "A_020",
          "A_020",
          "A_020",
          "A_020",
          "A_020",
          "A_020",
          "A_020",
          "A_020",
          "A_020",
          "A_020",
          "A_020",
          "A_020",
          "A_020",
          "A_020",
          "A_020",
          "A_020",
          "A_020",
          "A_020",
          "A_020",
          "A_020",
          "A_020",
          "A_020",
          "A_020",
          "A_020",
          "A_020",
          "A_020",
          "A_020",
          "A_020",
          "A_020",
          "A_020",
          "A_020",
          "A_020",
          "A_020",
          "A_020",
          "A_020",
          "A_020",
          "A_020",
          "A_020",
          "A_020",
          "A_020",
          "A_020",
          "A_020",
          "A_020",
          "A_020",
          "A_020",
          "A_020",
          "A_020",
          "A_020",
          "A_020",
          "A_011",
          "A_011",
          "A_011",
          "A_011",
          "A_011",
          "A_011",
          "A_011",
          "A_011",
          "A_011",
          "A_011",
          "A_011",
          "A_011",
          "A_011",
          "A_011",
          "A_011",
          "A_011",
          "A_011",
          "A_011",
          "A_011",
          "A_011",
          "A_011",
          "A_011",
          "A_011",
          "A_011",
          "A_011",
          "A_011",
          "A_011",
          "A_011",
          "A_011",
          "A_011",
          "A_011",
          "A_011",
          "A_011",
          "A_011",
          "A_011",
          "A_011",
          "A_011",
          "A_011",
          "A_011",
          "A_011",
          "A_011",
          "A_011",
          "A_011",
          "A_011",
          "A_011",
          "A_011",
          "A_011",
          "A_011",
          "A_011",
          "A_011",
          "A_011",
          "#changes",
          "#changes",
          "#changes",
          "#changes",
          "#changes",
          "#changes",
          "#changes",
          "#changes",
          "#changes",
          "#changes",
          "#changes",
          "#changes",
          "#changes",
          "#changes",
          "#changes",
          "#changes",
          "#changes",
          "#changes",
          "#changes",
          "#changes",
          "#changes",
          "#changes",
          "#changes",
          "#changes",
          "#changes",
          "#changes",
          "#changes",
          "#changes",
          "#changes",
          "#changes",
          "#changes",
          "#changes",
          "#changes",
          "#changes",
          "#changes",
          "#changes",
          "#changes",
          "#changes",
          "#changes",
          "#changes",
          "#changes",
          "#changes",
          "#changes",
          "#changes",
          "#changes",
          "#changes",
          "#changes",
          "#changes",
          "#changes",
          "#changes",
          "#changes",
          "count_sum",
          "count_sum",
          "count_sum",
          "count_sum",
          "count_sum",
          "count_sum",
          "count_sum",
          "count_sum",
          "count_sum",
          "count_sum",
          "count_sum",
          "count_sum",
          "count_sum",
          "count_sum",
          "count_sum",
          "count_sum",
          "count_sum",
          "count_sum",
          "count_sum",
          "count_sum",
          "count_sum",
          "count_sum",
          "count_sum",
          "count_sum",
          "count_sum",
          "count_sum",
          "count_sum",
          "count_sum",
          "count_sum",
          "count_sum",
          "count_sum",
          "count_sum",
          "count_sum",
          "count_sum",
          "count_sum",
          "count_sum",
          "count_sum",
          "count_sum",
          "count_sum",
          "count_sum",
          "count_sum",
          "count_sum",
          "count_sum",
          "count_sum",
          "count_sum",
          "count_sum",
          "count_sum",
          "count_sum",
          "count_sum",
          "count_sum",
          "count_sum",
          "production/production",
          "production/production",
          "production/production",
          "production/production",
          "production/production",
          "production/production",
          "production/production",
          "production/production",
          "production/production",
          "production/production",
          "production/production",
          "production/production",
          "production/production",
          "production/production",
          "production/production",
          "production/production",
          "production/production",
          "production/production",
          "production/production",
          "production/production",
          "production/production",
          "production/production",
          "production/production",
          "production/production",
          "production/production",
          "production/production",
          "production/production",
          "production/production",
          "production/production",
          "production/production",
          "production/production",
          "production/production",
          "production/production",
          "production/production",
          "production/production",
          "production/production",
          "production/production",
          "production/production",
          "production/production",
          "production/production",
          "production/production",
          "production/production",
          "production/production",
          "production/production",
          "production/production",
          "production/production",
          "production/production",
          "production/production",
          "production/production",
          "production/production",
          "production/production",
          "performance_loss/performance_loss",
          "performance_loss/performance_loss",
          "performance_loss/performance_loss",
          "performance_loss/performance_loss",
          "performance_loss/performance_loss",
          "performance_loss/performance_loss",
          "performance_loss/performance_loss",
          "performance_loss/performance_loss",
          "performance_loss/performance_loss",
          "performance_loss/performance_loss",
          "performance_loss/performance_loss",
          "performance_loss/performance_loss",
          "performance_loss/performance_loss",
          "performance_loss/performance_loss",
          "performance_loss/performance_loss",
          "performance_loss/performance_loss",
          "performance_loss/performance_loss",
          "performance_loss/performance_loss",
          "performance_loss/performance_loss",
          "performance_loss/performance_loss",
          "performance_loss/performance_loss",
          "performance_loss/performance_loss",
          "performance_loss/performance_loss",
          "performance_loss/performance_loss",
          "performance_loss/performance_loss",
          "performance_loss/performance_loss",
          "performance_loss/performance_loss",
          "performance_loss/performance_loss",
          "performance_loss/performance_loss",
          "performance_loss/performance_loss",
          "performance_loss/performance_loss",
          "performance_loss/performance_loss",
          "performance_loss/performance_loss",
          "performance_loss/performance_loss",
          "performance_loss/performance_loss",
          "performance_loss/performance_loss",
          "performance_loss/performance_loss",
          "performance_loss/performance_loss",
          "performance_loss/performance_loss",
          "performance_loss/performance_loss",
          "performance_loss/performance_loss",
          "performance_loss/performance_loss",
          "performance_loss/performance_loss",
          "performance_loss/performance_loss",
          "performance_loss/performance_loss",
          "performance_loss/performance_loss",
          "performance_loss/performance_loss",
          "performance_loss/performance_loss",
          "performance_loss/performance_loss",
          "performance_loss/performance_loss",
          "performance_loss/performance_loss",
          "downtime/downtime",
          "downtime/downtime",
          "downtime/downtime",
          "downtime/downtime",
          "downtime/downtime",
          "downtime/downtime",
          "downtime/downtime",
          "downtime/downtime",
          "downtime/downtime",
          "downtime/downtime",
          "downtime/downtime",
          "downtime/downtime",
          "downtime/downtime",
          "downtime/downtime",
          "downtime/downtime",
          "downtime/downtime",
          "downtime/downtime",
          "downtime/downtime",
          "downtime/downtime",
          "downtime/downtime",
          "downtime/downtime",
          "downtime/downtime",
          "downtime/downtime",
          "downtime/downtime",
          "downtime/downtime",
          "downtime/downtime",
          "downtime/downtime",
          "downtime/downtime",
          "downtime/downtime",
          "downtime/downtime",
          "downtime/downtime",
          "downtime/downtime",
          "downtime/downtime",
          "downtime/downtime",
          "downtime/downtime",
          "downtime/downtime",
          "downtime/downtime",
          "downtime/downtime",
          "downtime/downtime",
          "downtime/downtime",
          "downtime/downtime",
          "downtime/downtime",
          "downtime/downtime",
          "downtime/downtime",
          "downtime/downtime",
          "downtime/downtime",
          "downtime/downtime",
          "downtime/downtime",
          "downtime/downtime",
          "downtime/downtime",
          "downtime/downtime",
          "A_010",
          "A_010",
          "A_010",
          "A_010",
          "A_010",
          "A_010",
          "A_010",
          "A_010",
          "A_010",
          "A_010",
          "A_010",
          "A_010",
          "A_010",
          "A_010",
          "A_010",
          "A_010",
          "A_010",
          "A_010",
          "A_010",
          "A_010",
          "A_010",
          "A_010",
          "A_010",
          "A_010",
          "A_010",
          "A_010",
          "A_010",
          "A_010",
          "A_010",
          "A_010",
          "A_010",
          "A_010",
          "A_010",
          "A_010",
          "A_010",
          "A_010",
          "A_010",
          "A_010",
          "A_010",
          "A_010",
          "A_010",
          "A_010",
          "A_010",
          "A_010",
          "A_010",
          "A_010",
          "A_010",
          "A_010",
          "A_010",
          "A_010",
          "A_010"
         ],
         "yaxis": "y"
        }
       ],
       "layout": {
        "coloraxis": {
         "colorbar": {
          "title": {
           "text": "quantile"
          }
         },
         "colorscale": [
          [
           0,
           "midnightblue"
          ],
          [
           0.5,
           "lightskyblue"
          ],
          [
           1,
           "limegreen"
          ]
         ]
        },
        "legend": {
         "itemsizing": "constant",
         "tracegroupgap": 0
        },
        "shapes": [
         {
          "line": {
           "color": "red",
           "dash": "dash",
           "width": 2
          },
          "type": "line",
          "x0": 0.5075276041483949,
          "x1": 0.5075276041483949,
          "y0": "production/downtime",
          "y1": "A_010"
         },
         {
          "line": {
           "color": "black",
           "dash": "solid",
           "width": 2
          },
          "type": "line",
          "x0": 0.5,
          "x1": 0.5,
          "y0": "production/downtime",
          "y1": "A_010"
         }
        ],
        "template": {
         "data": {
          "bar": [
           {
            "error_x": {
             "color": "#2a3f5f"
            },
            "error_y": {
             "color": "#2a3f5f"
            },
            "marker": {
             "line": {
              "color": "#E5ECF6",
              "width": 0.5
             },
             "pattern": {
              "fillmode": "overlay",
              "size": 10,
              "solidity": 0.2
             }
            },
            "type": "bar"
           }
          ],
          "barpolar": [
           {
            "marker": {
             "line": {
              "color": "#E5ECF6",
              "width": 0.5
             },
             "pattern": {
              "fillmode": "overlay",
              "size": 10,
              "solidity": 0.2
             }
            },
            "type": "barpolar"
           }
          ],
          "carpet": [
           {
            "aaxis": {
             "endlinecolor": "#2a3f5f",
             "gridcolor": "white",
             "linecolor": "white",
             "minorgridcolor": "white",
             "startlinecolor": "#2a3f5f"
            },
            "baxis": {
             "endlinecolor": "#2a3f5f",
             "gridcolor": "white",
             "linecolor": "white",
             "minorgridcolor": "white",
             "startlinecolor": "#2a3f5f"
            },
            "type": "carpet"
           }
          ],
          "choropleth": [
           {
            "colorbar": {
             "outlinewidth": 0,
             "ticks": ""
            },
            "type": "choropleth"
           }
          ],
          "contour": [
           {
            "colorbar": {
             "outlinewidth": 0,
             "ticks": ""
            },
            "colorscale": [
             [
              0,
              "#0d0887"
             ],
             [
              0.1111111111111111,
              "#46039f"
             ],
             [
              0.2222222222222222,
              "#7201a8"
             ],
             [
              0.3333333333333333,
              "#9c179e"
             ],
             [
              0.4444444444444444,
              "#bd3786"
             ],
             [
              0.5555555555555556,
              "#d8576b"
             ],
             [
              0.6666666666666666,
              "#ed7953"
             ],
             [
              0.7777777777777778,
              "#fb9f3a"
             ],
             [
              0.8888888888888888,
              "#fdca26"
             ],
             [
              1,
              "#f0f921"
             ]
            ],
            "type": "contour"
           }
          ],
          "contourcarpet": [
           {
            "colorbar": {
             "outlinewidth": 0,
             "ticks": ""
            },
            "type": "contourcarpet"
           }
          ],
          "heatmap": [
           {
            "colorbar": {
             "outlinewidth": 0,
             "ticks": ""
            },
            "colorscale": [
             [
              0,
              "#0d0887"
             ],
             [
              0.1111111111111111,
              "#46039f"
             ],
             [
              0.2222222222222222,
              "#7201a8"
             ],
             [
              0.3333333333333333,
              "#9c179e"
             ],
             [
              0.4444444444444444,
              "#bd3786"
             ],
             [
              0.5555555555555556,
              "#d8576b"
             ],
             [
              0.6666666666666666,
              "#ed7953"
             ],
             [
              0.7777777777777778,
              "#fb9f3a"
             ],
             [
              0.8888888888888888,
              "#fdca26"
             ],
             [
              1,
              "#f0f921"
             ]
            ],
            "type": "heatmap"
           }
          ],
          "heatmapgl": [
           {
            "colorbar": {
             "outlinewidth": 0,
             "ticks": ""
            },
            "colorscale": [
             [
              0,
              "#0d0887"
             ],
             [
              0.1111111111111111,
              "#46039f"
             ],
             [
              0.2222222222222222,
              "#7201a8"
             ],
             [
              0.3333333333333333,
              "#9c179e"
             ],
             [
              0.4444444444444444,
              "#bd3786"
             ],
             [
              0.5555555555555556,
              "#d8576b"
             ],
             [
              0.6666666666666666,
              "#ed7953"
             ],
             [
              0.7777777777777778,
              "#fb9f3a"
             ],
             [
              0.8888888888888888,
              "#fdca26"
             ],
             [
              1,
              "#f0f921"
             ]
            ],
            "type": "heatmapgl"
           }
          ],
          "histogram": [
           {
            "marker": {
             "pattern": {
              "fillmode": "overlay",
              "size": 10,
              "solidity": 0.2
             }
            },
            "type": "histogram"
           }
          ],
          "histogram2d": [
           {
            "colorbar": {
             "outlinewidth": 0,
             "ticks": ""
            },
            "colorscale": [
             [
              0,
              "#0d0887"
             ],
             [
              0.1111111111111111,
              "#46039f"
             ],
             [
              0.2222222222222222,
              "#7201a8"
             ],
             [
              0.3333333333333333,
              "#9c179e"
             ],
             [
              0.4444444444444444,
              "#bd3786"
             ],
             [
              0.5555555555555556,
              "#d8576b"
             ],
             [
              0.6666666666666666,
              "#ed7953"
             ],
             [
              0.7777777777777778,
              "#fb9f3a"
             ],
             [
              0.8888888888888888,
              "#fdca26"
             ],
             [
              1,
              "#f0f921"
             ]
            ],
            "type": "histogram2d"
           }
          ],
          "histogram2dcontour": [
           {
            "colorbar": {
             "outlinewidth": 0,
             "ticks": ""
            },
            "colorscale": [
             [
              0,
              "#0d0887"
             ],
             [
              0.1111111111111111,
              "#46039f"
             ],
             [
              0.2222222222222222,
              "#7201a8"
             ],
             [
              0.3333333333333333,
              "#9c179e"
             ],
             [
              0.4444444444444444,
              "#bd3786"
             ],
             [
              0.5555555555555556,
              "#d8576b"
             ],
             [
              0.6666666666666666,
              "#ed7953"
             ],
             [
              0.7777777777777778,
              "#fb9f3a"
             ],
             [
              0.8888888888888888,
              "#fdca26"
             ],
             [
              1,
              "#f0f921"
             ]
            ],
            "type": "histogram2dcontour"
           }
          ],
          "mesh3d": [
           {
            "colorbar": {
             "outlinewidth": 0,
             "ticks": ""
            },
            "type": "mesh3d"
           }
          ],
          "parcoords": [
           {
            "line": {
             "colorbar": {
              "outlinewidth": 0,
              "ticks": ""
             }
            },
            "type": "parcoords"
           }
          ],
          "pie": [
           {
            "automargin": true,
            "type": "pie"
           }
          ],
          "scatter": [
           {
            "fillpattern": {
             "fillmode": "overlay",
             "size": 10,
             "solidity": 0.2
            },
            "type": "scatter"
           }
          ],
          "scatter3d": [
           {
            "line": {
             "colorbar": {
              "outlinewidth": 0,
              "ticks": ""
             }
            },
            "marker": {
             "colorbar": {
              "outlinewidth": 0,
              "ticks": ""
             }
            },
            "type": "scatter3d"
           }
          ],
          "scattercarpet": [
           {
            "marker": {
             "colorbar": {
              "outlinewidth": 0,
              "ticks": ""
             }
            },
            "type": "scattercarpet"
           }
          ],
          "scattergeo": [
           {
            "marker": {
             "colorbar": {
              "outlinewidth": 0,
              "ticks": ""
             }
            },
            "type": "scattergeo"
           }
          ],
          "scattergl": [
           {
            "marker": {
             "colorbar": {
              "outlinewidth": 0,
              "ticks": ""
             }
            },
            "type": "scattergl"
           }
          ],
          "scattermapbox": [
           {
            "marker": {
             "colorbar": {
              "outlinewidth": 0,
              "ticks": ""
             }
            },
            "type": "scattermapbox"
           }
          ],
          "scatterpolar": [
           {
            "marker": {
             "colorbar": {
              "outlinewidth": 0,
              "ticks": ""
             }
            },
            "type": "scatterpolar"
           }
          ],
          "scatterpolargl": [
           {
            "marker": {
             "colorbar": {
              "outlinewidth": 0,
              "ticks": ""
             }
            },
            "type": "scatterpolargl"
           }
          ],
          "scatterternary": [
           {
            "marker": {
             "colorbar": {
              "outlinewidth": 0,
              "ticks": ""
             }
            },
            "type": "scatterternary"
           }
          ],
          "surface": [
           {
            "colorbar": {
             "outlinewidth": 0,
             "ticks": ""
            },
            "colorscale": [
             [
              0,
              "#0d0887"
             ],
             [
              0.1111111111111111,
              "#46039f"
             ],
             [
              0.2222222222222222,
              "#7201a8"
             ],
             [
              0.3333333333333333,
              "#9c179e"
             ],
             [
              0.4444444444444444,
              "#bd3786"
             ],
             [
              0.5555555555555556,
              "#d8576b"
             ],
             [
              0.6666666666666666,
              "#ed7953"
             ],
             [
              0.7777777777777778,
              "#fb9f3a"
             ],
             [
              0.8888888888888888,
              "#fdca26"
             ],
             [
              1,
              "#f0f921"
             ]
            ],
            "type": "surface"
           }
          ],
          "table": [
           {
            "cells": {
             "fill": {
              "color": "#EBF0F8"
             },
             "line": {
              "color": "white"
             }
            },
            "header": {
             "fill": {
              "color": "#C8D4E3"
             },
             "line": {
              "color": "white"
             }
            },
            "type": "table"
           }
          ]
         },
         "layout": {
          "annotationdefaults": {
           "arrowcolor": "#2a3f5f",
           "arrowhead": 0,
           "arrowwidth": 1
          },
          "autotypenumbers": "strict",
          "coloraxis": {
           "colorbar": {
            "outlinewidth": 0,
            "ticks": ""
           }
          },
          "colorscale": {
           "diverging": [
            [
             0,
             "#8e0152"
            ],
            [
             0.1,
             "#c51b7d"
            ],
            [
             0.2,
             "#de77ae"
            ],
            [
             0.3,
             "#f1b6da"
            ],
            [
             0.4,
             "#fde0ef"
            ],
            [
             0.5,
             "#f7f7f7"
            ],
            [
             0.6,
             "#e6f5d0"
            ],
            [
             0.7,
             "#b8e186"
            ],
            [
             0.8,
             "#7fbc41"
            ],
            [
             0.9,
             "#4d9221"
            ],
            [
             1,
             "#276419"
            ]
           ],
           "sequential": [
            [
             0,
             "#0d0887"
            ],
            [
             0.1111111111111111,
             "#46039f"
            ],
            [
             0.2222222222222222,
             "#7201a8"
            ],
            [
             0.3333333333333333,
             "#9c179e"
            ],
            [
             0.4444444444444444,
             "#bd3786"
            ],
            [
             0.5555555555555556,
             "#d8576b"
            ],
            [
             0.6666666666666666,
             "#ed7953"
            ],
            [
             0.7777777777777778,
             "#fb9f3a"
            ],
            [
             0.8888888888888888,
             "#fdca26"
            ],
            [
             1,
             "#f0f921"
            ]
           ],
           "sequentialminus": [
            [
             0,
             "#0d0887"
            ],
            [
             0.1111111111111111,
             "#46039f"
            ],
            [
             0.2222222222222222,
             "#7201a8"
            ],
            [
             0.3333333333333333,
             "#9c179e"
            ],
            [
             0.4444444444444444,
             "#bd3786"
            ],
            [
             0.5555555555555556,
             "#d8576b"
            ],
            [
             0.6666666666666666,
             "#ed7953"
            ],
            [
             0.7777777777777778,
             "#fb9f3a"
            ],
            [
             0.8888888888888888,
             "#fdca26"
            ],
            [
             1,
             "#f0f921"
            ]
           ]
          },
          "colorway": [
           "#636efa",
           "#EF553B",
           "#00cc96",
           "#ab63fa",
           "#FFA15A",
           "#19d3f3",
           "#FF6692",
           "#B6E880",
           "#FF97FF",
           "#FECB52"
          ],
          "font": {
           "color": "#2a3f5f"
          },
          "geo": {
           "bgcolor": "white",
           "lakecolor": "white",
           "landcolor": "#E5ECF6",
           "showlakes": true,
           "showland": true,
           "subunitcolor": "white"
          },
          "hoverlabel": {
           "align": "left"
          },
          "hovermode": "closest",
          "mapbox": {
           "style": "light"
          },
          "paper_bgcolor": "white",
          "plot_bgcolor": "#E5ECF6",
          "polar": {
           "angularaxis": {
            "gridcolor": "white",
            "linecolor": "white",
            "ticks": ""
           },
           "bgcolor": "#E5ECF6",
           "radialaxis": {
            "gridcolor": "white",
            "linecolor": "white",
            "ticks": ""
           }
          },
          "scene": {
           "xaxis": {
            "backgroundcolor": "#E5ECF6",
            "gridcolor": "white",
            "gridwidth": 2,
            "linecolor": "white",
            "showbackground": true,
            "ticks": "",
            "zerolinecolor": "white"
           },
           "yaxis": {
            "backgroundcolor": "#E5ECF6",
            "gridcolor": "white",
            "gridwidth": 2,
            "linecolor": "white",
            "showbackground": true,
            "ticks": "",
            "zerolinecolor": "white"
           },
           "zaxis": {
            "backgroundcolor": "#E5ECF6",
            "gridcolor": "white",
            "gridwidth": 2,
            "linecolor": "white",
            "showbackground": true,
            "ticks": "",
            "zerolinecolor": "white"
           }
          },
          "shapedefaults": {
           "line": {
            "color": "#2a3f5f"
           }
          },
          "ternary": {
           "aaxis": {
            "gridcolor": "white",
            "linecolor": "white",
            "ticks": ""
           },
           "baxis": {
            "gridcolor": "white",
            "linecolor": "white",
            "ticks": ""
           },
           "bgcolor": "#E5ECF6",
           "caxis": {
            "gridcolor": "white",
            "linecolor": "white",
            "ticks": ""
           }
          },
          "title": {
           "x": 0.05
          },
          "xaxis": {
           "automargin": true,
           "gridcolor": "white",
           "linecolor": "white",
           "ticks": "",
           "title": {
            "standoff": 15
           },
           "zerolinecolor": "white",
           "zerolinewidth": 2
          },
          "yaxis": {
           "automargin": true,
           "gridcolor": "white",
           "linecolor": "white",
           "ticks": "",
           "title": {
            "standoff": 15
           },
           "zerolinecolor": "white",
           "zerolinewidth": 2
          }
         }
        },
        "title": {
         "text": "Local AcME: observation ID 11290. Predicted: 0.508",
         "x": 0.5,
         "xanchor": "center",
         "y": 0.9,
         "yanchor": "top"
        },
        "xaxis": {
         "anchor": "y",
         "domain": [
          0,
          1
         ],
         "title": {
          "text": "predict"
         }
        },
        "yaxis": {
         "anchor": "x",
         "domain": [
          0,
          1
         ],
         "title": {
          "text": "feature"
         }
        }
       }
      }
     },
     "metadata": {},
     "output_type": "display_data"
    },
    {
     "name": "stdout",
     "output_type": "stream",
     "text": [
      "Equipment  3\n",
      "Using default weights for anomaly detection feature importance\n"
     ]
    },
    {
     "data": {
      "application/vnd.plotly.v1+json": {
       "config": {
        "plotlyServerURL": "https://plot.ly"
       },
       "data": [
        {
         "customdata": [
          [
           6
          ],
          [
           1
          ],
          [
           1
          ],
          [
           1
          ],
          [
           0
          ],
          [
           0
          ],
          [
           0
          ],
          [
           0
          ],
          [
           0
          ],
          [
           0
          ],
          [
           0
          ],
          [
           1
          ],
          [
           0
          ],
          [
           0
          ],
          [
           0
          ],
          [
           0
          ],
          [
           0
          ],
          [
           0
          ],
          [
           0
          ],
          [
           0
          ],
          [
           0
          ],
          [
           0
          ],
          [
           0
          ],
          [
           0
          ],
          [
           1
          ],
          [
           0
          ],
          [
           1
          ],
          [
           0
          ],
          [
           5
          ],
          [
           5
          ],
          [
           4
          ],
          [
           4
          ],
          [
           4
          ],
          [
           4
          ],
          [
           3
          ],
          [
           3
          ],
          [
           3
          ],
          [
           3
          ],
          [
           3
          ],
          [
           2
          ],
          [
           3
          ],
          [
           1
          ],
          [
           1
          ],
          [
           1.416
          ],
          [
           2
          ],
          [
           1
          ],
          [
           2
          ],
          [
           2
          ],
          [
           2
          ],
          [
           2
          ],
          [
           2
          ],
          [
           0.0404
          ],
          [
           0.0143
          ],
          [
           0.0167
          ],
          [
           0.0188
          ],
          [
           0.0219
          ],
          [
           0.025
          ],
          [
           0.0287
          ],
          [
           0.0316
          ],
          [
           0.0346
          ],
          [
           0.0375
          ],
          [
           0.0451
          ],
          [
           0.2379
          ],
          [
           0.0569
          ],
          [
           0.0609
          ],
          [
           0.0638
          ],
          [
           0.0716
          ],
          [
           0.0811
          ],
          [
           0.0923
          ],
          [
           0.1086
          ],
          [
           0.1119
          ],
          [
           0.1305
          ],
          [
           0.1636
          ],
          [
           0.0502
          ],
          [
           0.0085
          ],
          [
           0.0115
          ],
          [
           0.0036
          ],
          [
           0.3416
          ],
          [
           0
          ],
          [
           0
          ],
          [
           0
          ],
          [
           0
          ],
          [
           0
          ],
          [
           0
          ],
          [
           0
          ],
          [
           0
          ],
          [
           0
          ],
          [
           0
          ],
          [
           0
          ],
          [
           0
          ],
          [
           0
          ],
          [
           0
          ],
          [
           0
          ],
          [
           0
          ],
          [
           0
          ],
          [
           0
          ],
          [
           0
          ],
          [
           0
          ],
          [
           0
          ],
          [
           0.0022
          ],
          [
           0.0063
          ],
          [
           0
          ],
          [
           0
          ],
          [
           2
          ],
          [
           0
          ],
          [
           0
          ],
          [
           0
          ],
          [
           0
          ],
          [
           0
          ],
          [
           0
          ],
          [
           0
          ],
          [
           0
          ],
          [
           0
          ],
          [
           0
          ],
          [
           0
          ],
          [
           0
          ],
          [
           0
          ],
          [
           0
          ],
          [
           0
          ],
          [
           0
          ],
          [
           0
          ],
          [
           0
          ],
          [
           0
          ],
          [
           0
          ],
          [
           0
          ],
          [
           0
          ],
          [
           0
          ],
          [
           0
          ],
          [
           0
          ],
          [
           2
          ],
          [
           1
          ],
          [
           1
          ],
          [
           1
          ],
          [
           1
          ],
          [
           1
          ],
          [
           1
          ],
          [
           1
          ],
          [
           1
          ],
          [
           1
          ],
          [
           2
          ],
          [
           1
          ],
          [
           0
          ],
          [
           0
          ],
          [
           0
          ],
          [
           0
          ],
          [
           0
          ],
          [
           0
          ],
          [
           0
          ],
          [
           0
          ],
          [
           0
          ],
          [
           0
          ],
          [
           0.2708
          ],
          [
           0
          ],
          [
           0
          ],
          [
           1
          ],
          [
           1
          ],
          [
           1
          ],
          [
           1
          ],
          [
           1
          ],
          [
           1
          ],
          [
           1
          ],
          [
           1
          ],
          [
           1
          ],
          [
           1
          ],
          [
           1
          ],
          [
           1
          ],
          [
           1
          ],
          [
           1
          ],
          [
           1
          ],
          [
           0.793
          ],
          [
           0
          ],
          [
           0
          ],
          [
           0
          ],
          [
           0
          ],
          [
           0
          ],
          [
           0
          ],
          [
           0
          ],
          [
           1
          ],
          [
           0
          ],
          [
           1
          ],
          [
           1
          ],
          [
           1
          ],
          [
           1
          ],
          [
           1
          ],
          [
           1
          ],
          [
           1
          ],
          [
           1
          ],
          [
           1
          ],
          [
           1
          ],
          [
           1
          ],
          [
           1
          ],
          [
           1
          ],
          [
           1
          ],
          [
           1
          ],
          [
           1
          ],
          [
           1
          ],
          [
           1
          ],
          [
           1
          ],
          [
           1
          ],
          [
           1
          ],
          [
           1
          ],
          [
           1
          ],
          [
           1
          ],
          [
           0
          ],
          [
           0
          ],
          [
           0.028
          ],
          [
           0.9793
          ],
          [
           0.7624
          ],
          [
           0.7501
          ],
          [
           0.7368
          ],
          [
           0.7218
          ],
          [
           0.7066
          ],
          [
           0.7052
          ],
          [
           0.6933
          ],
          [
           0.6757
          ],
          [
           0.6616
          ],
          [
           0.6452
          ],
          [
           0.7744
          ],
          [
           0.6274
          ],
          [
           0.5845
          ],
          [
           0.5602
          ],
          [
           0.5303
          ],
          [
           0.4877
          ],
          [
           0.4515
          ],
          [
           0.3844
          ],
          [
           0.3194
          ],
          [
           0.2071
          ],
          [
           0.9836
          ],
          [
           0.0783
          ],
          [
           0.6077
          ],
          [
           0.7905
          ],
          [
           0
          ],
          [
           0.8154
          ],
          [
           0.8028
          ],
          [
           0.9701
          ],
          [
           0.9644
          ],
          [
           0.9588
          ],
          [
           0.9528
          ],
          [
           0.947
          ],
          [
           0.9413
          ],
          [
           0.9344
          ],
          [
           0.9268
          ],
          [
           0.9188
          ],
          [
           0.9126
          ],
          [
           0.9753
          ],
          [
           0.8968
          ],
          [
           0.8898
          ],
          [
           0.882
          ],
          [
           0.8756
          ],
          [
           0.8655
          ],
          [
           0.8558
          ],
          [
           0.8463
          ],
          [
           0.8362
          ],
          [
           0.8264
          ],
          [
           0.9041
          ],
          [
           1
          ],
          [
           1
          ],
          [
           1
          ],
          [
           1
          ],
          [
           1
          ],
          [
           1
          ],
          [
           1
          ],
          [
           1
          ],
          [
           1
          ],
          [
           1
          ],
          [
           1
          ],
          [
           1
          ],
          [
           1
          ],
          [
           1
          ],
          [
           1
          ],
          [
           1
          ],
          [
           1
          ],
          [
           0.8767
          ],
          [
           1
          ],
          [
           0
          ],
          [
           1
          ],
          [
           0
          ],
          [
           1
          ],
          [
           1
          ],
          [
           0
          ],
          [
           1
          ],
          [
           1
          ],
          [
           1
          ],
          [
           1
          ],
          [
           1
          ],
          [
           1
          ],
          [
           1
          ],
          [
           1
          ],
          [
           1
          ],
          [
           1
          ],
          [
           1
          ],
          [
           1
          ],
          [
           1
          ],
          [
           1
          ],
          [
           1
          ],
          [
           1
          ],
          [
           1
          ],
          [
           1
          ],
          [
           1
          ],
          [
           1
          ],
          [
           1
          ],
          [
           1
          ],
          [
           1
          ],
          [
           0
          ],
          [
           0
          ],
          [
           1
          ],
          [
           1
          ],
          [
           0
          ],
          [
           0
          ],
          [
           0
          ],
          [
           0
          ],
          [
           0
          ],
          [
           0
          ],
          [
           0
          ],
          [
           0
          ],
          [
           0
          ],
          [
           0
          ],
          [
           0
          ],
          [
           0
          ],
          [
           0
          ],
          [
           0
          ],
          [
           0
          ],
          [
           0
          ],
          [
           0
          ],
          [
           0
          ],
          [
           0
          ],
          [
           0
          ],
          [
           0
          ],
          [
           0
          ],
          [
           0
          ],
          [
           0
          ],
          [
           1
          ],
          [
           1
          ],
          [
           0.0907
          ],
          [
           0
          ],
          [
           0
          ],
          [
           0
          ],
          [
           0
          ],
          [
           0
          ],
          [
           0
          ],
          [
           0
          ],
          [
           0
          ],
          [
           1
          ],
          [
           0
          ],
          [
           0
          ],
          [
           0
          ],
          [
           0
          ],
          [
           0
          ],
          [
           0
          ],
          [
           0
          ],
          [
           0
          ],
          [
           0
          ],
          [
           0
          ],
          [
           0
          ],
          [
           0
          ],
          [
           0
          ],
          [
           0
          ],
          [
           0
          ],
          [
           0.8823
          ],
          [
           0
          ],
          [
           0
          ],
          [
           0
          ],
          [
           0
          ],
          [
           0
          ],
          [
           0
          ],
          [
           0
          ],
          [
           0
          ],
          [
           0
          ],
          [
           0
          ],
          [
           0
          ],
          [
           0
          ],
          [
           0
          ],
          [
           0
          ],
          [
           0
          ],
          [
           0
          ],
          [
           0
          ],
          [
           0
          ],
          [
           0
          ],
          [
           0
          ],
          [
           0
          ],
          [
           0
          ],
          [
           0
          ],
          [
           0
          ],
          [
           0
          ],
          [
           0
          ],
          [
           0
          ],
          [
           0.1337
          ],
          [
           0.0371
          ],
          [
           0.0205
          ],
          [
           0.0071
          ],
          [
           0
          ],
          [
           0
          ],
          [
           0
          ],
          [
           0
          ],
          [
           0
          ],
          [
           0
          ],
          [
           0
          ],
          [
           0
          ],
          [
           0
          ],
          [
           0
          ],
          [
           0
          ],
          [
           0
          ],
          [
           0
          ],
          [
           0
          ],
          [
           0
          ],
          [
           0
          ],
          [
           0
          ],
          [
           0
          ],
          [
           0
          ],
          [
           0
          ],
          [
           0
          ],
          [
           0
          ],
          [
           0
          ],
          [
           0
          ],
          [
           0
          ],
          [
           0
          ],
          [
           0
          ],
          [
           0
          ],
          [
           0
          ],
          [
           0.0181
          ],
          [
           0
          ],
          [
           0
          ],
          [
           0
          ],
          [
           0
          ],
          [
           0
          ],
          [
           0
          ],
          [
           0
          ],
          [
           0
          ],
          [
           0
          ],
          [
           0
          ],
          [
           0
          ],
          [
           0
          ],
          [
           1
          ],
          [
           0
          ],
          [
           0
          ],
          [
           0
          ],
          [
           0
          ],
          [
           0
          ],
          [
           0
          ],
          [
           0
          ],
          [
           0
          ],
          [
           0
          ],
          [
           0
          ],
          [
           0
          ],
          [
           0
          ],
          [
           0
          ],
          [
           0
          ],
          [
           0
          ],
          [
           0
          ],
          [
           0
          ],
          [
           0
          ],
          [
           0
          ],
          [
           0
          ],
          [
           0
          ],
          [
           0
          ],
          [
           0
          ],
          [
           0
          ],
          [
           0
          ],
          [
           0
          ],
          [
           0
          ],
          [
           0
          ],
          [
           0
          ],
          [
           0
          ],
          [
           0
          ],
          [
           0
          ],
          [
           0
          ],
          [
           0
          ],
          [
           0
          ],
          [
           0
          ],
          [
           0
          ],
          [
           0
          ],
          [
           0
          ],
          [
           0
          ],
          [
           0
          ],
          [
           0
          ],
          [
           0
          ],
          [
           0
          ],
          [
           0
          ],
          [
           0
          ],
          [
           0
          ],
          [
           0
          ],
          [
           0
          ],
          [
           0
          ],
          [
           0
          ],
          [
           0
          ],
          [
           0.0228
          ],
          [
           0
          ],
          [
           0
          ],
          [
           0
          ],
          [
           0
          ],
          [
           0
          ],
          [
           0
          ],
          [
           0
          ],
          [
           0
          ],
          [
           0
          ],
          [
           0
          ],
          [
           0
          ],
          [
           0
          ],
          [
           0
          ],
          [
           0
          ],
          [
           0
          ],
          [
           0
          ],
          [
           0
          ],
          [
           0
          ],
          [
           0
          ],
          [
           0
          ],
          [
           0
          ],
          [
           0
          ],
          [
           0
          ],
          [
           1
          ]
         ],
         "hovertemplate": "Feature: <b>%{y}</b><br><br>Predict: %{x}<br>Original value: %{customdata[0]}<br>Quantile: %{marker.color}",
         "legendgroup": "",
         "marker": {
          "color": [
           0.95,
           0.4625,
           0.4438,
           0.425,
           0.4062,
           0.3875,
           0.3687,
           0.35,
           0.3312,
           0.3125,
           0.05,
           0.4812,
           0.275,
           0.2375,
           0.2188,
           0.2082,
           0.2,
           0.1813,
           0.1625,
           0.1438,
           0.125,
           0.1062,
           0.0875,
           0.2562,
           0.5,
           0.2938,
           0.5188,
           0.0688,
           0.9312,
           0.9125,
           0.8938,
           0.875,
           0.8562,
           0.8375,
           0.8,
           0.7812,
           0.7625,
           0.7438,
           0.8188,
           0.7062,
           0.725,
           0.5562,
           0.575,
           0.584,
           0.5938,
           0.5375,
           0.6312,
           0.65,
           0.6688,
           0.6875,
           0.6125,
           0.725,
           0.5562,
           0.575,
           0.5938,
           0.6125,
           0.6312,
           0.65,
           0.6688,
           0.6875,
           0.7062,
           0.7438,
           0.9312,
           0.7812,
           0.7927,
           0.8,
           0.8188,
           0.8375,
           0.8562,
           0.875,
           0.8784,
           0.8938,
           0.9125,
           0.7625,
           0.5188,
           0.5375,
           0.4812,
           0.95,
           0.0688,
           0.0875,
           0.1062,
           0.125,
           0.1438,
           0.1625,
           0.1813,
           0.2,
           0.2188,
           0.2375,
           0.2562,
           0.275,
           0.2938,
           0.3125,
           0.3312,
           0.35,
           0.3687,
           0.3875,
           0.4062,
           0.425,
           0.4438,
           0.4625,
           0.5,
           0.05,
           0.05,
           0.9312,
           0.4438,
           0.425,
           0.4062,
           0.3875,
           0.3687,
           0.35,
           0.3312,
           0.3125,
           0.2938,
           0.275,
           0.2562,
           0.2375,
           0.2188,
           0.2,
           0.1813,
           0.1625,
           0.1438,
           0.125,
           0.1062,
           0.0875,
           0.0688,
           0.4625,
           0.4812,
           0.5,
           0.5375,
           0.9125,
           0.8938,
           0.875,
           0.8562,
           0.8375,
           0.8188,
           0.812,
           0.8,
           0.7812,
           0.7625,
           0.95,
           0.7438,
           0.725,
           0.7062,
           0.6875,
           0.6688,
           0.65,
           0.6312,
           0.6125,
           0.5938,
           0.575,
           0.5562,
           0.7292,
           0.5188,
           0.05,
           0.4812,
           0.4625,
           0.4438,
           0.425,
           0.4062,
           0.3875,
           0.3687,
           0.35,
           0.3312,
           0.3125,
           0.2938,
           0.5,
           0.275,
           0.2375,
           0.2188,
           0.207,
           0.2,
           0.1813,
           0.1625,
           0.1438,
           0.125,
           0.1062,
           0.1037,
           0.2562,
           0.0688,
           0.5188,
           0.5562,
           0.95,
           0.9312,
           0.9125,
           0.8938,
           0.875,
           0.8562,
           0.8375,
           0.8188,
           0.8,
           0.5375,
           0.7812,
           0.7438,
           0.725,
           0.7062,
           0.6875,
           0.6688,
           0.65,
           0.6312,
           0.6125,
           0.5938,
           0.575,
           0.7625,
           0.0875,
           0.05,
           0.0688,
           0.9312,
           0.4438,
           0.425,
           0.4062,
           0.3875,
           0.3687,
           0.3676,
           0.35,
           0.3312,
           0.3125,
           0.2938,
           0.4625,
           0.275,
           0.2375,
           0.2188,
           0.2,
           0.1813,
           0.1625,
           0.1438,
           0.125,
           0.1062,
           0.95,
           0.0875,
           0.2562,
           0.4812,
           0.0284,
           0.5188,
           0.5,
           0.8938,
           0.875,
           0.8562,
           0.8375,
           0.8188,
           0.8,
           0.7812,
           0.7625,
           0.7438,
           0.725,
           0.9125,
           0.6875,
           0.6688,
           0.65,
           0.6312,
           0.6125,
           0.5938,
           0.575,
           0.5562,
           0.5375,
           0.7062,
           0.3125,
           0.3312,
           0.35,
           0.425,
           0.3875,
           0.4062,
           0.4438,
           0.3687,
           0.2938,
           0.2,
           0.2562,
           0.2375,
           0.2188,
           0.1813,
           0.1625,
           0.1438,
           0.125,
           0.1233,
           0.4625,
           0.0875,
           0.275,
           0.1062,
           0.6688,
           0.5,
           0.0688,
           0.8938,
           0.875,
           0.8562,
           0.8375,
           0.8188,
           0.8,
           0.7812,
           0.7625,
           0.7438,
           0.725,
           0.7062,
           0.6875,
           0.65,
           0.6312,
           0.6125,
           0.5938,
           0.575,
           0.5562,
           0.5375,
           0.5188,
           0.4812,
           0.9125,
           0.95,
           0.05,
           0.0618,
           0.9312,
           0.9312,
           0.425,
           0.4062,
           0.3875,
           0.3687,
           0.35,
           0.3312,
           0.3125,
           0.2938,
           0.275,
           0.2562,
           0.2188,
           0.4438,
           0.2,
           0.1813,
           0.1625,
           0.1438,
           0.125,
           0.1062,
           0.0875,
           0.0688,
           0.2375,
           0.4625,
           0.4812,
           0.5,
           0.95,
           0.9548,
           0.9093,
           0.8938,
           0.875,
           0.8562,
           0.8375,
           0.8188,
           0.8,
           0.7812,
           0.7625,
           0.9125,
           0.7438,
           0.7062,
           0.6875,
           0.6688,
           0.65,
           0.6312,
           0.6125,
           0.5938,
           0.575,
           0.5562,
           0.5375,
           0.5188,
           0.725,
           0.05,
           0.5375,
           0.9966,
           0.4625,
           0.4438,
           0.425,
           0.4062,
           0.3875,
           0.3687,
           0.35,
           0.3312,
           0.3125,
           0.2938,
           0.4812,
           0.2562,
           0.2188,
           0.2,
           0.1813,
           0.1625,
           0.1438,
           0.125,
           0.1062,
           0.0875,
           0.0688,
           0.05,
           0.2375,
           0.5,
           0.275,
           0.5562,
           0.5188,
           0.95,
           0.9312,
           0.9271,
           0.9125,
           0.8938,
           0.875,
           0.8375,
           0.8188,
           0.8,
           0.7812,
           0.8562,
           0.5938,
           0.7438,
           0.725,
           0.7062,
           0.6875,
           0.6688,
           0.65,
           0.6312,
           0.6125,
           0.7625,
           0.575,
           0.7062,
           0.6875,
           0.6688,
           0.65,
           0.5562,
           0.6125,
           0.5938,
           0.575,
           0.725,
           0.6312,
           0.7438,
           0.9819,
           0.7812,
           0.8,
           0.8188,
           0.8375,
           0.8562,
           0.875,
           0.8938,
           0.9125,
           0.9312,
           0.95,
           0.5375,
           0.7625,
           0.9911,
           0.5188,
           0.4812,
           0.5,
           0.0688,
           0.0875,
           0.1062,
           0.125,
           0.1438,
           0.1625,
           0.1813,
           0.2,
           0.2188,
           0.2375,
           0.05,
           0.275,
           0.2938,
           0.3125,
           0.3312,
           0.35,
           0.3687,
           0.3875,
           0.4062,
           0.425,
           0.4438,
           0.4625,
           0.2562,
           0.7062,
           0.6875,
           0.6688,
           0.5562,
           0.6312,
           0.6125,
           0.5938,
           0.575,
           0.65,
           0.725,
           0.8375,
           0.7625,
           0.7812,
           0.8,
           0.8188,
           0.8562,
           0.875,
           0.8938,
           0.9125,
           0.9312,
           0.5375,
           0.95,
           0.7438,
           0.5188,
           0.275,
           0.4812,
           0.9772,
           0.05,
           0.0688,
           0.0875,
           0.1062,
           0.125,
           0.1438,
           0.1625,
           0.1813,
           0.2,
           0.2188,
           0.2375,
           0.2562,
           0.2938,
           0.3125,
           0.3312,
           0.35,
           0.3687,
           0.3875,
           0.4062,
           0.425,
           0.4438,
           0.4625,
           0.5,
           0.9879
          ],
          "coloraxis": "coloraxis",
          "size": [
           0.05,
           0.05,
           0.05,
           0.05,
           0.05,
           0.05,
           0.05,
           0.05,
           0.05,
           0.05,
           0.05,
           0.05,
           0.05,
           0.05,
           0.05,
           0.3,
           0.05,
           0.05,
           0.05,
           0.05,
           0.05,
           0.05,
           0.05,
           0.05,
           0.05,
           0.05,
           0.05,
           0.05,
           0.05,
           0.05,
           0.05,
           0.05,
           0.05,
           0.05,
           0.05,
           0.05,
           0.05,
           0.05,
           0.05,
           0.05,
           0.05,
           0.05,
           0.05,
           0.05,
           0.05,
           0.05,
           0.05,
           0.05,
           0.05,
           0.05,
           0.05,
           0.05,
           0.05,
           0.05,
           0.05,
           0.05,
           0.05,
           0.05,
           0.05,
           0.05,
           0.05,
           0.05,
           0.05,
           0.05,
           0.05,
           0.05,
           0.05,
           0.05,
           0.05,
           0.05,
           0.3,
           0.05,
           0.05,
           0.05,
           0.05,
           0.05,
           0.05,
           0.05,
           0.05,
           0.05,
           0.05,
           0.05,
           0.05,
           0.05,
           0.05,
           0.05,
           0.05,
           0.05,
           0.05,
           0.05,
           0.05,
           0.05,
           0.05,
           0.05,
           0.05,
           0.05,
           0.05,
           0.05,
           0.05,
           0.05,
           0.05,
           0.05,
           0.05,
           0.05,
           0.05,
           0.05,
           0.05,
           0.05,
           0.05,
           0.05,
           0.05,
           0.05,
           0.05,
           0.05,
           0.05,
           0.05,
           0.05,
           0.05,
           0.05,
           0.05,
           0.05,
           0.05,
           0.05,
           0.05,
           0.05,
           0.05,
           0.05,
           0.05,
           0.05,
           0.05,
           0.05,
           0.05,
           0.05,
           0.05,
           0.05,
           0.3,
           0.05,
           0.05,
           0.05,
           0.05,
           0.05,
           0.05,
           0.05,
           0.05,
           0.05,
           0.05,
           0.05,
           0.05,
           0.05,
           0.05,
           0.05,
           0.05,
           0.05,
           0.05,
           0.05,
           0.05,
           0.05,
           0.05,
           0.05,
           0.05,
           0.05,
           0.05,
           0.05,
           0.05,
           0.05,
           0.05,
           0.05,
           0.05,
           0.05,
           0.05,
           0.05,
           0.05,
           0.05,
           0.05,
           0.05,
           0.05,
           0.3,
           0.05,
           0.05,
           0.05,
           0.05,
           0.05,
           0.05,
           0.05,
           0.05,
           0.05,
           0.05,
           0.05,
           0.05,
           0.05,
           0.05,
           0.05,
           0.05,
           0.05,
           0.05,
           0.05,
           0.05,
           0.05,
           0.05,
           0.05,
           0.05,
           0.05,
           0.05,
           0.05,
           0.05,
           0.05,
           0.05,
           0.05,
           0.05,
           0.05,
           0.05,
           0.05,
           0.05,
           0.05,
           0.05,
           0.05,
           0.05,
           0.05,
           0.05,
           0.05,
           0.05,
           0.05,
           0.05,
           0.05,
           0.05,
           0.05,
           0.05,
           0.05,
           0.05,
           0.05,
           0.05,
           0.3,
           0.05,
           0.05,
           0.05,
           0.05,
           0.05,
           0.05,
           0.05,
           0.05,
           0.05,
           0.05,
           0.05,
           0.05,
           0.05,
           0.05,
           0.05,
           0.05,
           0.05,
           0.05,
           0.05,
           0.05,
           0.05,
           0.05,
           0.05,
           0.05,
           0.05,
           0.05,
           0.05,
           0.05,
           0.05,
           0.05,
           0.05,
           0.05,
           0.05,
           0.05,
           0.05,
           0.05,
           0.05,
           0.05,
           0.05,
           0.05,
           0.05,
           0.05,
           0.05,
           0.05,
           0.05,
           0.05,
           0.05,
           0.05,
           0.05,
           0.05,
           0.05,
           0.05,
           0.05,
           0.05,
           0.05,
           0.05,
           0.05,
           0.05,
           0.05,
           0.05,
           0.05,
           0.05,
           0.05,
           0.05,
           0.05,
           0.05,
           0.05,
           0.05,
           0.05,
           0.05,
           0.05,
           0.05,
           0.3,
           0.05,
           0.05,
           0.05,
           0.05,
           0.05,
           0.05,
           0.05,
           0.05,
           0.05,
           0.05,
           0.05,
           0.05,
           0.05,
           0.05,
           0.05,
           0.05,
           0.05,
           0.05,
           0.05,
           0.05,
           0.05,
           0.05,
           0.05,
           0.05,
           0.05,
           0.05,
           0.05,
           0.3,
           0.05,
           0.05,
           0.05,
           0.05,
           0.05,
           0.05,
           0.05,
           0.05,
           0.05,
           0.05,
           0.05,
           0.05,
           0.05,
           0.05,
           0.05,
           0.05,
           0.05,
           0.05,
           0.05,
           0.05,
           0.05,
           0.05,
           0.05,
           0.05,
           0.05,
           0.3,
           0.05,
           0.05,
           0.05,
           0.05,
           0.05,
           0.05,
           0.05,
           0.05,
           0.05,
           0.05,
           0.05,
           0.05,
           0.05,
           0.05,
           0.05,
           0.05,
           0.05,
           0.05,
           0.05,
           0.05,
           0.05,
           0.05,
           0.05,
           0.05,
           0.05,
           0.05,
           0.05,
           0.05,
           0.05,
           0.05,
           0.05,
           0.05,
           0.05,
           0.05,
           0.05,
           0.05,
           0.05,
           0.05,
           0.05,
           0.05,
           0.05,
           0.05,
           0.05,
           0.05,
           0.05,
           0.05,
           0.05,
           0.05,
           0.05,
           0.05,
           0.05,
           0.05,
           0.05,
           0.05,
           0.05,
           0.05,
           0.05,
           0.05,
           0.05,
           0.05,
           0.05,
           0.05,
           0.05,
           0.05,
           0.05,
           0.05,
           0.05,
           0.05,
           0.05,
           0.05,
           0.05,
           0.05,
           0.05,
           0.3,
           0.05,
           0.05,
           0.05,
           0.05,
           0.05,
           0.05,
           0.05,
           0.05,
           0.05,
           0.05,
           0.05,
           0.05,
           0.05,
           0.05,
           0.05,
           0.05,
           0.05,
           0.05,
           0.05,
           0.05,
           0.05,
           0.05,
           0.05,
           0.05,
           0.05,
           0.05,
           0.05,
           0.05,
           0.05,
           0.05,
           0.05,
           0.05,
           0.05,
           0.05,
           0.05,
           0.05,
           0.05,
           0.05,
           0.05,
           0.05,
           0.05,
           0.05,
           0.05,
           0.05,
           0.05,
           0.05,
           0.05,
           0.05,
           0.05,
           0.05,
           0.05,
           0.05,
           0.05,
           0.05,
           0.05,
           0.05,
           0.05,
           0.05,
           0.05,
           0.05,
           0.05,
           0.05,
           0.05,
           0.05,
           0.05,
           0.05,
           0.05,
           0.05,
           0.05,
           0.05,
           0.05,
           0.05,
           0.05,
           0.05,
           0.05,
           0.05,
           0.3
          ],
          "sizemode": "area",
          "sizeref": 0.00075,
          "symbol": "circle"
         },
         "mode": "markers",
         "name": "",
         "orientation": "h",
         "showlegend": false,
         "type": "scatter",
         "x": [
          0.508,
          0.5026,
          0.5026,
          0.5026,
          0.503,
          0.503,
          0.503,
          0.503,
          0.503,
          0.503,
          0.503,
          0.5026,
          0.503,
          0.503,
          0.503,
          0.503,
          0.503,
          0.503,
          0.503,
          0.503,
          0.503,
          0.503,
          0.503,
          0.503,
          0.5026,
          0.503,
          0.5026,
          0.503,
          0.508,
          0.508,
          0.5067,
          0.5067,
          0.5067,
          0.5067,
          0.5038,
          0.5038,
          0.5038,
          0.5038,
          0.5038,
          0.5038,
          0.5038,
          0.5026,
          0.5026,
          0.5026,
          0.5038,
          0.5026,
          0.5038,
          0.5038,
          0.5038,
          0.5038,
          0.5038,
          0.5012,
          0.5012,
          0.5012,
          0.5012,
          0.5012,
          0.5014,
          0.5014,
          0.5014,
          0.5014,
          0.5012,
          0.5012,
          0.5048,
          0.5012,
          0.5012,
          0.5023,
          0.503,
          0.503,
          0.5028,
          0.503,
          0.503,
          0.503,
          0.5033,
          0.5012,
          0.5014,
          0.5014,
          0.5014,
          0.5067,
          0.5014,
          0.5014,
          0.5014,
          0.5014,
          0.5014,
          0.5014,
          0.5014,
          0.5014,
          0.5014,
          0.5014,
          0.5014,
          0.5014,
          0.5014,
          0.5014,
          0.5014,
          0.5014,
          0.5014,
          0.5014,
          0.5014,
          0.5014,
          0.5014,
          0.5014,
          0.5014,
          0.5014,
          0.5011,
          0.5035,
          0.5011,
          0.5011,
          0.5011,
          0.5011,
          0.5011,
          0.5011,
          0.5011,
          0.5011,
          0.5011,
          0.5011,
          0.5011,
          0.5011,
          0.5011,
          0.5011,
          0.5011,
          0.5011,
          0.5011,
          0.5011,
          0.5011,
          0.5011,
          0.5011,
          0.5011,
          0.5011,
          0.5011,
          0.5011,
          0.5035,
          0.503,
          0.503,
          0.503,
          0.503,
          0.503,
          0.503,
          0.503,
          0.503,
          0.503,
          0.5035,
          0.503,
          0.5011,
          0.5011,
          0.5011,
          0.5011,
          0.5011,
          0.5011,
          0.5011,
          0.5011,
          0.5011,
          0.5011,
          0.5009,
          0.5011,
          0.503,
          0.5013,
          0.5013,
          0.5013,
          0.5013,
          0.5013,
          0.5013,
          0.5013,
          0.5013,
          0.5013,
          0.5013,
          0.5013,
          0.5013,
          0.5013,
          0.5013,
          0.5013,
          0.5016,
          0.503,
          0.503,
          0.503,
          0.503,
          0.503,
          0.503,
          0.503,
          0.5013,
          0.503,
          0.5013,
          0.5013,
          0.5013,
          0.5013,
          0.5013,
          0.5013,
          0.5013,
          0.5013,
          0.5013,
          0.5013,
          0.5013,
          0.5013,
          0.5013,
          0.5013,
          0.5013,
          0.5013,
          0.5013,
          0.5013,
          0.5013,
          0.5013,
          0.5013,
          0.5013,
          0.5013,
          0.5013,
          0.503,
          0.503,
          0.5024,
          0.5009,
          0.5005,
          0.5005,
          0.5005,
          0.5005,
          0.5005,
          0.5005,
          0.5,
          0.5,
          0.5,
          0.5,
          0.5005,
          0.5,
          0.5005,
          0.5005,
          0.5005,
          0.5009,
          0.5009,
          0.5013,
          0.5009,
          0.5016,
          0.5009,
          0.5018,
          0.5,
          0.5005,
          0.503,
          0.5005,
          0.5005,
          0.5011,
          0.5011,
          0.5011,
          0.5011,
          0.5006,
          0.5006,
          0.5006,
          0.5006,
          0.5006,
          0.5006,
          0.5011,
          0.5006,
          0.5006,
          0.5006,
          0.5006,
          0.5006,
          0.5005,
          0.5005,
          0.5005,
          0.5005,
          0.5006,
          0.488,
          0.488,
          0.488,
          0.488,
          0.488,
          0.488,
          0.488,
          0.488,
          0.488,
          0.488,
          0.488,
          0.488,
          0.488,
          0.488,
          0.488,
          0.488,
          0.488,
          0.488,
          0.488,
          0.503,
          0.488,
          0.503,
          0.488,
          0.488,
          0.503,
          0.488,
          0.488,
          0.488,
          0.488,
          0.488,
          0.488,
          0.488,
          0.488,
          0.488,
          0.488,
          0.488,
          0.488,
          0.488,
          0.488,
          0.488,
          0.488,
          0.488,
          0.488,
          0.488,
          0.488,
          0.488,
          0.488,
          0.488,
          0.503,
          0.503,
          0.488,
          0.503,
          0.4931,
          0.4931,
          0.4931,
          0.4931,
          0.4931,
          0.4931,
          0.4931,
          0.4931,
          0.4931,
          0.4931,
          0.4931,
          0.4931,
          0.4931,
          0.4931,
          0.4931,
          0.4931,
          0.4931,
          0.4931,
          0.4931,
          0.4931,
          0.4931,
          0.4931,
          0.4931,
          0.4931,
          0.503,
          0.503,
          0.4931,
          0.4931,
          0.4931,
          0.4931,
          0.4931,
          0.4931,
          0.4931,
          0.4931,
          0.4931,
          0.503,
          0.4931,
          0.4931,
          0.4931,
          0.4931,
          0.4931,
          0.4931,
          0.4931,
          0.4931,
          0.4931,
          0.4931,
          0.4931,
          0.4931,
          0.4931,
          0.4931,
          0.4913,
          0.503,
          0.4913,
          0.4913,
          0.4913,
          0.4913,
          0.4913,
          0.4913,
          0.4913,
          0.4913,
          0.4913,
          0.4913,
          0.4913,
          0.4913,
          0.4913,
          0.4913,
          0.4913,
          0.4913,
          0.4913,
          0.4913,
          0.4913,
          0.4913,
          0.4913,
          0.4913,
          0.4913,
          0.4913,
          0.4913,
          0.4913,
          0.4913,
          0.4922,
          0.4926,
          0.4926,
          0.4926,
          0.4913,
          0.4913,
          0.4913,
          0.4913,
          0.4913,
          0.4913,
          0.4913,
          0.4913,
          0.4913,
          0.4913,
          0.4913,
          0.4913,
          0.4913,
          0.4913,
          0.4913,
          0.4913,
          0.4913,
          0.4913,
          0.4872,
          0.4872,
          0.4872,
          0.4872,
          0.4872,
          0.4872,
          0.4872,
          0.4872,
          0.4872,
          0.4872,
          0.4872,
          0.4884,
          0.4872,
          0.4872,
          0.4872,
          0.4872,
          0.4872,
          0.4872,
          0.4872,
          0.4872,
          0.4872,
          0.4872,
          0.4872,
          0.4872,
          0.503,
          0.4872,
          0.4872,
          0.4872,
          0.4872,
          0.4872,
          0.4872,
          0.4872,
          0.4872,
          0.4872,
          0.4872,
          0.4872,
          0.4872,
          0.4872,
          0.4872,
          0.4872,
          0.4872,
          0.4872,
          0.4872,
          0.4872,
          0.4872,
          0.4872,
          0.4872,
          0.4872,
          0.4872,
          0.4872,
          0.4872,
          0.4832,
          0.4832,
          0.4832,
          0.4832,
          0.4832,
          0.4832,
          0.4832,
          0.4832,
          0.4832,
          0.4832,
          0.4832,
          0.4832,
          0.4832,
          0.4832,
          0.4832,
          0.4832,
          0.4832,
          0.4832,
          0.4832,
          0.4832,
          0.4832,
          0.4832,
          0.4832,
          0.4832,
          0.4832,
          0.4832,
          0.4832,
          0.4832,
          0.4832,
          0.4832,
          0.4832,
          0.4832,
          0.4832,
          0.4832,
          0.4832,
          0.4832,
          0.4832,
          0.4832,
          0.4832,
          0.4832,
          0.4832,
          0.4832,
          0.4832,
          0.4832,
          0.4832,
          0.4832,
          0.4832,
          0.4832,
          0.4832,
          0.4832,
          0.503
         ],
         "xaxis": "x",
         "y": [
          "performance_loss/performance_loss",
          "performance_loss/performance_loss",
          "performance_loss/performance_loss",
          "performance_loss/performance_loss",
          "performance_loss/performance_loss",
          "performance_loss/performance_loss",
          "performance_loss/performance_loss",
          "performance_loss/performance_loss",
          "performance_loss/performance_loss",
          "performance_loss/performance_loss",
          "performance_loss/performance_loss",
          "performance_loss/performance_loss",
          "performance_loss/performance_loss",
          "performance_loss/performance_loss",
          "performance_loss/performance_loss",
          "performance_loss/performance_loss",
          "performance_loss/performance_loss",
          "performance_loss/performance_loss",
          "performance_loss/performance_loss",
          "performance_loss/performance_loss",
          "performance_loss/performance_loss",
          "performance_loss/performance_loss",
          "performance_loss/performance_loss",
          "performance_loss/performance_loss",
          "performance_loss/performance_loss",
          "performance_loss/performance_loss",
          "performance_loss/performance_loss",
          "performance_loss/performance_loss",
          "performance_loss/performance_loss",
          "performance_loss/performance_loss",
          "performance_loss/performance_loss",
          "performance_loss/performance_loss",
          "performance_loss/performance_loss",
          "performance_loss/performance_loss",
          "performance_loss/performance_loss",
          "performance_loss/performance_loss",
          "performance_loss/performance_loss",
          "performance_loss/performance_loss",
          "performance_loss/performance_loss",
          "performance_loss/performance_loss",
          "performance_loss/performance_loss",
          "performance_loss/performance_loss",
          "performance_loss/performance_loss",
          "performance_loss/performance_loss",
          "performance_loss/performance_loss",
          "performance_loss/performance_loss",
          "performance_loss/performance_loss",
          "performance_loss/performance_loss",
          "performance_loss/performance_loss",
          "performance_loss/performance_loss",
          "performance_loss/performance_loss",
          "%idle",
          "%idle",
          "%idle",
          "%idle",
          "%idle",
          "%idle",
          "%idle",
          "%idle",
          "%idle",
          "%idle",
          "%idle",
          "%idle",
          "%idle",
          "%idle",
          "%idle",
          "%idle",
          "%idle",
          "%idle",
          "%idle",
          "%idle",
          "%idle",
          "%idle",
          "%idle",
          "%idle",
          "%idle",
          "%idle",
          "%idle",
          "%idle",
          "%idle",
          "%idle",
          "%idle",
          "%idle",
          "%idle",
          "%idle",
          "%idle",
          "%idle",
          "%idle",
          "%idle",
          "%idle",
          "%idle",
          "%idle",
          "%idle",
          "%idle",
          "%idle",
          "%idle",
          "%idle",
          "%idle",
          "%idle",
          "%idle",
          "%idle",
          "%idle",
          "idle/idle",
          "idle/idle",
          "idle/idle",
          "idle/idle",
          "idle/idle",
          "idle/idle",
          "idle/idle",
          "idle/idle",
          "idle/idle",
          "idle/idle",
          "idle/idle",
          "idle/idle",
          "idle/idle",
          "idle/idle",
          "idle/idle",
          "idle/idle",
          "idle/idle",
          "idle/idle",
          "idle/idle",
          "idle/idle",
          "idle/idle",
          "idle/idle",
          "idle/idle",
          "idle/idle",
          "idle/idle",
          "idle/idle",
          "idle/idle",
          "idle/idle",
          "idle/idle",
          "idle/idle",
          "idle/idle",
          "idle/idle",
          "idle/idle",
          "idle/idle",
          "idle/idle",
          "idle/idle",
          "idle/idle",
          "idle/idle",
          "idle/idle",
          "idle/idle",
          "idle/idle",
          "idle/idle",
          "idle/idle",
          "idle/idle",
          "idle/idle",
          "idle/idle",
          "idle/idle",
          "idle/idle",
          "idle/idle",
          "idle/idle",
          "idle/idle",
          "performance_loss/production",
          "performance_loss/production",
          "performance_loss/production",
          "performance_loss/production",
          "performance_loss/production",
          "performance_loss/production",
          "performance_loss/production",
          "performance_loss/production",
          "performance_loss/production",
          "performance_loss/production",
          "performance_loss/production",
          "performance_loss/production",
          "performance_loss/production",
          "performance_loss/production",
          "performance_loss/production",
          "performance_loss/production",
          "performance_loss/production",
          "performance_loss/production",
          "performance_loss/production",
          "performance_loss/production",
          "performance_loss/production",
          "performance_loss/production",
          "performance_loss/production",
          "performance_loss/production",
          "performance_loss/production",
          "performance_loss/production",
          "performance_loss/production",
          "performance_loss/production",
          "performance_loss/production",
          "performance_loss/production",
          "performance_loss/production",
          "performance_loss/production",
          "performance_loss/production",
          "performance_loss/production",
          "performance_loss/production",
          "performance_loss/production",
          "performance_loss/production",
          "performance_loss/production",
          "performance_loss/production",
          "performance_loss/production",
          "performance_loss/production",
          "performance_loss/production",
          "performance_loss/production",
          "performance_loss/production",
          "performance_loss/production",
          "performance_loss/production",
          "performance_loss/production",
          "performance_loss/production",
          "performance_loss/production",
          "performance_loss/production",
          "performance_loss/production",
          "%production",
          "%production",
          "%production",
          "%production",
          "%production",
          "%production",
          "%production",
          "%production",
          "%production",
          "%production",
          "%production",
          "%production",
          "%production",
          "%production",
          "%production",
          "%production",
          "%production",
          "%production",
          "%production",
          "%production",
          "%production",
          "%production",
          "%production",
          "%production",
          "%production",
          "%production",
          "%production",
          "%production",
          "%production",
          "%production",
          "%production",
          "%production",
          "%production",
          "%production",
          "%production",
          "%production",
          "%production",
          "%production",
          "%production",
          "%production",
          "%production",
          "%production",
          "%production",
          "%production",
          "%production",
          "%production",
          "%production",
          "%production",
          "%production",
          "%production",
          "%production",
          "production/downtime",
          "production/downtime",
          "production/downtime",
          "production/downtime",
          "production/downtime",
          "production/downtime",
          "production/downtime",
          "production/downtime",
          "production/downtime",
          "production/downtime",
          "production/downtime",
          "production/downtime",
          "production/downtime",
          "production/downtime",
          "production/downtime",
          "production/downtime",
          "production/downtime",
          "production/downtime",
          "production/downtime",
          "production/downtime",
          "production/downtime",
          "production/downtime",
          "production/downtime",
          "production/downtime",
          "production/downtime",
          "production/downtime",
          "production/downtime",
          "production/downtime",
          "production/downtime",
          "production/downtime",
          "production/downtime",
          "production/downtime",
          "production/downtime",
          "production/downtime",
          "production/downtime",
          "production/downtime",
          "production/downtime",
          "production/downtime",
          "production/downtime",
          "production/downtime",
          "production/downtime",
          "production/downtime",
          "production/downtime",
          "production/downtime",
          "production/downtime",
          "production/downtime",
          "production/downtime",
          "production/downtime",
          "production/downtime",
          "production/downtime",
          "production/downtime",
          "scheduled_downtime/downtime",
          "scheduled_downtime/downtime",
          "scheduled_downtime/downtime",
          "scheduled_downtime/downtime",
          "scheduled_downtime/downtime",
          "scheduled_downtime/downtime",
          "scheduled_downtime/downtime",
          "scheduled_downtime/downtime",
          "scheduled_downtime/downtime",
          "scheduled_downtime/downtime",
          "scheduled_downtime/downtime",
          "scheduled_downtime/downtime",
          "scheduled_downtime/downtime",
          "scheduled_downtime/downtime",
          "scheduled_downtime/downtime",
          "scheduled_downtime/downtime",
          "scheduled_downtime/downtime",
          "scheduled_downtime/downtime",
          "scheduled_downtime/downtime",
          "scheduled_downtime/downtime",
          "scheduled_downtime/downtime",
          "scheduled_downtime/downtime",
          "scheduled_downtime/downtime",
          "scheduled_downtime/downtime",
          "scheduled_downtime/downtime",
          "scheduled_downtime/downtime",
          "scheduled_downtime/downtime",
          "scheduled_downtime/downtime",
          "scheduled_downtime/downtime",
          "scheduled_downtime/downtime",
          "scheduled_downtime/downtime",
          "scheduled_downtime/downtime",
          "scheduled_downtime/downtime",
          "scheduled_downtime/downtime",
          "scheduled_downtime/downtime",
          "scheduled_downtime/downtime",
          "scheduled_downtime/downtime",
          "scheduled_downtime/downtime",
          "scheduled_downtime/downtime",
          "scheduled_downtime/downtime",
          "scheduled_downtime/downtime",
          "scheduled_downtime/downtime",
          "scheduled_downtime/downtime",
          "scheduled_downtime/downtime",
          "scheduled_downtime/downtime",
          "scheduled_downtime/downtime",
          "scheduled_downtime/downtime",
          "scheduled_downtime/downtime",
          "scheduled_downtime/downtime",
          "scheduled_downtime/downtime",
          "scheduled_downtime/downtime",
          "%scheduled_downtime",
          "%scheduled_downtime",
          "%scheduled_downtime",
          "%scheduled_downtime",
          "%scheduled_downtime",
          "%scheduled_downtime",
          "%scheduled_downtime",
          "%scheduled_downtime",
          "%scheduled_downtime",
          "%scheduled_downtime",
          "%scheduled_downtime",
          "%scheduled_downtime",
          "%scheduled_downtime",
          "%scheduled_downtime",
          "%scheduled_downtime",
          "%scheduled_downtime",
          "%scheduled_downtime",
          "%scheduled_downtime",
          "%scheduled_downtime",
          "%scheduled_downtime",
          "%scheduled_downtime",
          "%scheduled_downtime",
          "%scheduled_downtime",
          "%scheduled_downtime",
          "%scheduled_downtime",
          "%scheduled_downtime",
          "%scheduled_downtime",
          "%scheduled_downtime",
          "%scheduled_downtime",
          "%scheduled_downtime",
          "%scheduled_downtime",
          "%scheduled_downtime",
          "%scheduled_downtime",
          "%scheduled_downtime",
          "%scheduled_downtime",
          "%scheduled_downtime",
          "%scheduled_downtime",
          "%scheduled_downtime",
          "%scheduled_downtime",
          "%scheduled_downtime",
          "%scheduled_downtime",
          "%scheduled_downtime",
          "%scheduled_downtime",
          "%scheduled_downtime",
          "%scheduled_downtime",
          "%scheduled_downtime",
          "%scheduled_downtime",
          "%scheduled_downtime",
          "%scheduled_downtime",
          "%scheduled_downtime",
          "%scheduled_downtime",
          "idle/scheduled_downtime",
          "idle/scheduled_downtime",
          "idle/scheduled_downtime",
          "idle/scheduled_downtime",
          "idle/scheduled_downtime",
          "idle/scheduled_downtime",
          "idle/scheduled_downtime",
          "idle/scheduled_downtime",
          "idle/scheduled_downtime",
          "idle/scheduled_downtime",
          "idle/scheduled_downtime",
          "idle/scheduled_downtime",
          "idle/scheduled_downtime",
          "idle/scheduled_downtime",
          "idle/scheduled_downtime",
          "idle/scheduled_downtime",
          "idle/scheduled_downtime",
          "idle/scheduled_downtime",
          "idle/scheduled_downtime",
          "idle/scheduled_downtime",
          "idle/scheduled_downtime",
          "idle/scheduled_downtime",
          "idle/scheduled_downtime",
          "idle/scheduled_downtime",
          "idle/scheduled_downtime",
          "idle/scheduled_downtime",
          "idle/scheduled_downtime",
          "idle/scheduled_downtime",
          "idle/scheduled_downtime",
          "idle/scheduled_downtime",
          "idle/scheduled_downtime",
          "idle/scheduled_downtime",
          "idle/scheduled_downtime",
          "idle/scheduled_downtime",
          "idle/scheduled_downtime",
          "idle/scheduled_downtime",
          "idle/scheduled_downtime",
          "idle/scheduled_downtime",
          "idle/scheduled_downtime",
          "idle/scheduled_downtime",
          "idle/scheduled_downtime",
          "idle/scheduled_downtime",
          "idle/scheduled_downtime",
          "idle/scheduled_downtime",
          "idle/scheduled_downtime",
          "idle/scheduled_downtime",
          "idle/scheduled_downtime",
          "idle/scheduled_downtime",
          "idle/scheduled_downtime",
          "idle/scheduled_downtime",
          "idle/scheduled_downtime",
          "scheduled_downtime/scheduled_downtime",
          "scheduled_downtime/scheduled_downtime",
          "scheduled_downtime/scheduled_downtime",
          "scheduled_downtime/scheduled_downtime",
          "scheduled_downtime/scheduled_downtime",
          "scheduled_downtime/scheduled_downtime",
          "scheduled_downtime/scheduled_downtime",
          "scheduled_downtime/scheduled_downtime",
          "scheduled_downtime/scheduled_downtime",
          "scheduled_downtime/scheduled_downtime",
          "scheduled_downtime/scheduled_downtime",
          "scheduled_downtime/scheduled_downtime",
          "scheduled_downtime/scheduled_downtime",
          "scheduled_downtime/scheduled_downtime",
          "scheduled_downtime/scheduled_downtime",
          "scheduled_downtime/scheduled_downtime",
          "scheduled_downtime/scheduled_downtime",
          "scheduled_downtime/scheduled_downtime",
          "scheduled_downtime/scheduled_downtime",
          "scheduled_downtime/scheduled_downtime",
          "scheduled_downtime/scheduled_downtime",
          "scheduled_downtime/scheduled_downtime",
          "scheduled_downtime/scheduled_downtime",
          "scheduled_downtime/scheduled_downtime",
          "scheduled_downtime/scheduled_downtime",
          "scheduled_downtime/scheduled_downtime",
          "scheduled_downtime/scheduled_downtime",
          "scheduled_downtime/scheduled_downtime",
          "scheduled_downtime/scheduled_downtime",
          "scheduled_downtime/scheduled_downtime",
          "scheduled_downtime/scheduled_downtime",
          "scheduled_downtime/scheduled_downtime",
          "scheduled_downtime/scheduled_downtime",
          "scheduled_downtime/scheduled_downtime",
          "scheduled_downtime/scheduled_downtime",
          "scheduled_downtime/scheduled_downtime",
          "scheduled_downtime/scheduled_downtime",
          "scheduled_downtime/scheduled_downtime",
          "scheduled_downtime/scheduled_downtime",
          "scheduled_downtime/scheduled_downtime",
          "scheduled_downtime/scheduled_downtime",
          "scheduled_downtime/scheduled_downtime",
          "scheduled_downtime/scheduled_downtime",
          "scheduled_downtime/scheduled_downtime",
          "scheduled_downtime/scheduled_downtime",
          "scheduled_downtime/scheduled_downtime",
          "scheduled_downtime/scheduled_downtime",
          "scheduled_downtime/scheduled_downtime",
          "scheduled_downtime/scheduled_downtime",
          "scheduled_downtime/scheduled_downtime",
          "scheduled_downtime/scheduled_downtime"
         ],
         "yaxis": "y"
        }
       ],
       "layout": {
        "coloraxis": {
         "colorbar": {
          "title": {
           "text": "quantile"
          }
         },
         "colorscale": [
          [
           0,
           "midnightblue"
          ],
          [
           0.5,
           "lightskyblue"
          ],
          [
           1,
           "limegreen"
          ]
         ]
        },
        "legend": {
         "itemsizing": "constant",
         "tracegroupgap": 0
        },
        "shapes": [
         {
          "line": {
           "color": "red",
           "dash": "dash",
           "width": 2
          },
          "type": "line",
          "x0": 0.5029952685328931,
          "x1": 0.5029952685328931,
          "y0": "performance_loss/performance_loss",
          "y1": "scheduled_downtime/scheduled_downtime"
         },
         {
          "line": {
           "color": "black",
           "dash": "solid",
           "width": 2
          },
          "type": "line",
          "x0": 0.5,
          "x1": 0.5,
          "y0": "performance_loss/performance_loss",
          "y1": "scheduled_downtime/scheduled_downtime"
         }
        ],
        "template": {
         "data": {
          "bar": [
           {
            "error_x": {
             "color": "#2a3f5f"
            },
            "error_y": {
             "color": "#2a3f5f"
            },
            "marker": {
             "line": {
              "color": "#E5ECF6",
              "width": 0.5
             },
             "pattern": {
              "fillmode": "overlay",
              "size": 10,
              "solidity": 0.2
             }
            },
            "type": "bar"
           }
          ],
          "barpolar": [
           {
            "marker": {
             "line": {
              "color": "#E5ECF6",
              "width": 0.5
             },
             "pattern": {
              "fillmode": "overlay",
              "size": 10,
              "solidity": 0.2
             }
            },
            "type": "barpolar"
           }
          ],
          "carpet": [
           {
            "aaxis": {
             "endlinecolor": "#2a3f5f",
             "gridcolor": "white",
             "linecolor": "white",
             "minorgridcolor": "white",
             "startlinecolor": "#2a3f5f"
            },
            "baxis": {
             "endlinecolor": "#2a3f5f",
             "gridcolor": "white",
             "linecolor": "white",
             "minorgridcolor": "white",
             "startlinecolor": "#2a3f5f"
            },
            "type": "carpet"
           }
          ],
          "choropleth": [
           {
            "colorbar": {
             "outlinewidth": 0,
             "ticks": ""
            },
            "type": "choropleth"
           }
          ],
          "contour": [
           {
            "colorbar": {
             "outlinewidth": 0,
             "ticks": ""
            },
            "colorscale": [
             [
              0,
              "#0d0887"
             ],
             [
              0.1111111111111111,
              "#46039f"
             ],
             [
              0.2222222222222222,
              "#7201a8"
             ],
             [
              0.3333333333333333,
              "#9c179e"
             ],
             [
              0.4444444444444444,
              "#bd3786"
             ],
             [
              0.5555555555555556,
              "#d8576b"
             ],
             [
              0.6666666666666666,
              "#ed7953"
             ],
             [
              0.7777777777777778,
              "#fb9f3a"
             ],
             [
              0.8888888888888888,
              "#fdca26"
             ],
             [
              1,
              "#f0f921"
             ]
            ],
            "type": "contour"
           }
          ],
          "contourcarpet": [
           {
            "colorbar": {
             "outlinewidth": 0,
             "ticks": ""
            },
            "type": "contourcarpet"
           }
          ],
          "heatmap": [
           {
            "colorbar": {
             "outlinewidth": 0,
             "ticks": ""
            },
            "colorscale": [
             [
              0,
              "#0d0887"
             ],
             [
              0.1111111111111111,
              "#46039f"
             ],
             [
              0.2222222222222222,
              "#7201a8"
             ],
             [
              0.3333333333333333,
              "#9c179e"
             ],
             [
              0.4444444444444444,
              "#bd3786"
             ],
             [
              0.5555555555555556,
              "#d8576b"
             ],
             [
              0.6666666666666666,
              "#ed7953"
             ],
             [
              0.7777777777777778,
              "#fb9f3a"
             ],
             [
              0.8888888888888888,
              "#fdca26"
             ],
             [
              1,
              "#f0f921"
             ]
            ],
            "type": "heatmap"
           }
          ],
          "heatmapgl": [
           {
            "colorbar": {
             "outlinewidth": 0,
             "ticks": ""
            },
            "colorscale": [
             [
              0,
              "#0d0887"
             ],
             [
              0.1111111111111111,
              "#46039f"
             ],
             [
              0.2222222222222222,
              "#7201a8"
             ],
             [
              0.3333333333333333,
              "#9c179e"
             ],
             [
              0.4444444444444444,
              "#bd3786"
             ],
             [
              0.5555555555555556,
              "#d8576b"
             ],
             [
              0.6666666666666666,
              "#ed7953"
             ],
             [
              0.7777777777777778,
              "#fb9f3a"
             ],
             [
              0.8888888888888888,
              "#fdca26"
             ],
             [
              1,
              "#f0f921"
             ]
            ],
            "type": "heatmapgl"
           }
          ],
          "histogram": [
           {
            "marker": {
             "pattern": {
              "fillmode": "overlay",
              "size": 10,
              "solidity": 0.2
             }
            },
            "type": "histogram"
           }
          ],
          "histogram2d": [
           {
            "colorbar": {
             "outlinewidth": 0,
             "ticks": ""
            },
            "colorscale": [
             [
              0,
              "#0d0887"
             ],
             [
              0.1111111111111111,
              "#46039f"
             ],
             [
              0.2222222222222222,
              "#7201a8"
             ],
             [
              0.3333333333333333,
              "#9c179e"
             ],
             [
              0.4444444444444444,
              "#bd3786"
             ],
             [
              0.5555555555555556,
              "#d8576b"
             ],
             [
              0.6666666666666666,
              "#ed7953"
             ],
             [
              0.7777777777777778,
              "#fb9f3a"
             ],
             [
              0.8888888888888888,
              "#fdca26"
             ],
             [
              1,
              "#f0f921"
             ]
            ],
            "type": "histogram2d"
           }
          ],
          "histogram2dcontour": [
           {
            "colorbar": {
             "outlinewidth": 0,
             "ticks": ""
            },
            "colorscale": [
             [
              0,
              "#0d0887"
             ],
             [
              0.1111111111111111,
              "#46039f"
             ],
             [
              0.2222222222222222,
              "#7201a8"
             ],
             [
              0.3333333333333333,
              "#9c179e"
             ],
             [
              0.4444444444444444,
              "#bd3786"
             ],
             [
              0.5555555555555556,
              "#d8576b"
             ],
             [
              0.6666666666666666,
              "#ed7953"
             ],
             [
              0.7777777777777778,
              "#fb9f3a"
             ],
             [
              0.8888888888888888,
              "#fdca26"
             ],
             [
              1,
              "#f0f921"
             ]
            ],
            "type": "histogram2dcontour"
           }
          ],
          "mesh3d": [
           {
            "colorbar": {
             "outlinewidth": 0,
             "ticks": ""
            },
            "type": "mesh3d"
           }
          ],
          "parcoords": [
           {
            "line": {
             "colorbar": {
              "outlinewidth": 0,
              "ticks": ""
             }
            },
            "type": "parcoords"
           }
          ],
          "pie": [
           {
            "automargin": true,
            "type": "pie"
           }
          ],
          "scatter": [
           {
            "fillpattern": {
             "fillmode": "overlay",
             "size": 10,
             "solidity": 0.2
            },
            "type": "scatter"
           }
          ],
          "scatter3d": [
           {
            "line": {
             "colorbar": {
              "outlinewidth": 0,
              "ticks": ""
             }
            },
            "marker": {
             "colorbar": {
              "outlinewidth": 0,
              "ticks": ""
             }
            },
            "type": "scatter3d"
           }
          ],
          "scattercarpet": [
           {
            "marker": {
             "colorbar": {
              "outlinewidth": 0,
              "ticks": ""
             }
            },
            "type": "scattercarpet"
           }
          ],
          "scattergeo": [
           {
            "marker": {
             "colorbar": {
              "outlinewidth": 0,
              "ticks": ""
             }
            },
            "type": "scattergeo"
           }
          ],
          "scattergl": [
           {
            "marker": {
             "colorbar": {
              "outlinewidth": 0,
              "ticks": ""
             }
            },
            "type": "scattergl"
           }
          ],
          "scattermapbox": [
           {
            "marker": {
             "colorbar": {
              "outlinewidth": 0,
              "ticks": ""
             }
            },
            "type": "scattermapbox"
           }
          ],
          "scatterpolar": [
           {
            "marker": {
             "colorbar": {
              "outlinewidth": 0,
              "ticks": ""
             }
            },
            "type": "scatterpolar"
           }
          ],
          "scatterpolargl": [
           {
            "marker": {
             "colorbar": {
              "outlinewidth": 0,
              "ticks": ""
             }
            },
            "type": "scatterpolargl"
           }
          ],
          "scatterternary": [
           {
            "marker": {
             "colorbar": {
              "outlinewidth": 0,
              "ticks": ""
             }
            },
            "type": "scatterternary"
           }
          ],
          "surface": [
           {
            "colorbar": {
             "outlinewidth": 0,
             "ticks": ""
            },
            "colorscale": [
             [
              0,
              "#0d0887"
             ],
             [
              0.1111111111111111,
              "#46039f"
             ],
             [
              0.2222222222222222,
              "#7201a8"
             ],
             [
              0.3333333333333333,
              "#9c179e"
             ],
             [
              0.4444444444444444,
              "#bd3786"
             ],
             [
              0.5555555555555556,
              "#d8576b"
             ],
             [
              0.6666666666666666,
              "#ed7953"
             ],
             [
              0.7777777777777778,
              "#fb9f3a"
             ],
             [
              0.8888888888888888,
              "#fdca26"
             ],
             [
              1,
              "#f0f921"
             ]
            ],
            "type": "surface"
           }
          ],
          "table": [
           {
            "cells": {
             "fill": {
              "color": "#EBF0F8"
             },
             "line": {
              "color": "white"
             }
            },
            "header": {
             "fill": {
              "color": "#C8D4E3"
             },
             "line": {
              "color": "white"
             }
            },
            "type": "table"
           }
          ]
         },
         "layout": {
          "annotationdefaults": {
           "arrowcolor": "#2a3f5f",
           "arrowhead": 0,
           "arrowwidth": 1
          },
          "autotypenumbers": "strict",
          "coloraxis": {
           "colorbar": {
            "outlinewidth": 0,
            "ticks": ""
           }
          },
          "colorscale": {
           "diverging": [
            [
             0,
             "#8e0152"
            ],
            [
             0.1,
             "#c51b7d"
            ],
            [
             0.2,
             "#de77ae"
            ],
            [
             0.3,
             "#f1b6da"
            ],
            [
             0.4,
             "#fde0ef"
            ],
            [
             0.5,
             "#f7f7f7"
            ],
            [
             0.6,
             "#e6f5d0"
            ],
            [
             0.7,
             "#b8e186"
            ],
            [
             0.8,
             "#7fbc41"
            ],
            [
             0.9,
             "#4d9221"
            ],
            [
             1,
             "#276419"
            ]
           ],
           "sequential": [
            [
             0,
             "#0d0887"
            ],
            [
             0.1111111111111111,
             "#46039f"
            ],
            [
             0.2222222222222222,
             "#7201a8"
            ],
            [
             0.3333333333333333,
             "#9c179e"
            ],
            [
             0.4444444444444444,
             "#bd3786"
            ],
            [
             0.5555555555555556,
             "#d8576b"
            ],
            [
             0.6666666666666666,
             "#ed7953"
            ],
            [
             0.7777777777777778,
             "#fb9f3a"
            ],
            [
             0.8888888888888888,
             "#fdca26"
            ],
            [
             1,
             "#f0f921"
            ]
           ],
           "sequentialminus": [
            [
             0,
             "#0d0887"
            ],
            [
             0.1111111111111111,
             "#46039f"
            ],
            [
             0.2222222222222222,
             "#7201a8"
            ],
            [
             0.3333333333333333,
             "#9c179e"
            ],
            [
             0.4444444444444444,
             "#bd3786"
            ],
            [
             0.5555555555555556,
             "#d8576b"
            ],
            [
             0.6666666666666666,
             "#ed7953"
            ],
            [
             0.7777777777777778,
             "#fb9f3a"
            ],
            [
             0.8888888888888888,
             "#fdca26"
            ],
            [
             1,
             "#f0f921"
            ]
           ]
          },
          "colorway": [
           "#636efa",
           "#EF553B",
           "#00cc96",
           "#ab63fa",
           "#FFA15A",
           "#19d3f3",
           "#FF6692",
           "#B6E880",
           "#FF97FF",
           "#FECB52"
          ],
          "font": {
           "color": "#2a3f5f"
          },
          "geo": {
           "bgcolor": "white",
           "lakecolor": "white",
           "landcolor": "#E5ECF6",
           "showlakes": true,
           "showland": true,
           "subunitcolor": "white"
          },
          "hoverlabel": {
           "align": "left"
          },
          "hovermode": "closest",
          "mapbox": {
           "style": "light"
          },
          "paper_bgcolor": "white",
          "plot_bgcolor": "#E5ECF6",
          "polar": {
           "angularaxis": {
            "gridcolor": "white",
            "linecolor": "white",
            "ticks": ""
           },
           "bgcolor": "#E5ECF6",
           "radialaxis": {
            "gridcolor": "white",
            "linecolor": "white",
            "ticks": ""
           }
          },
          "scene": {
           "xaxis": {
            "backgroundcolor": "#E5ECF6",
            "gridcolor": "white",
            "gridwidth": 2,
            "linecolor": "white",
            "showbackground": true,
            "ticks": "",
            "zerolinecolor": "white"
           },
           "yaxis": {
            "backgroundcolor": "#E5ECF6",
            "gridcolor": "white",
            "gridwidth": 2,
            "linecolor": "white",
            "showbackground": true,
            "ticks": "",
            "zerolinecolor": "white"
           },
           "zaxis": {
            "backgroundcolor": "#E5ECF6",
            "gridcolor": "white",
            "gridwidth": 2,
            "linecolor": "white",
            "showbackground": true,
            "ticks": "",
            "zerolinecolor": "white"
           }
          },
          "shapedefaults": {
           "line": {
            "color": "#2a3f5f"
           }
          },
          "ternary": {
           "aaxis": {
            "gridcolor": "white",
            "linecolor": "white",
            "ticks": ""
           },
           "baxis": {
            "gridcolor": "white",
            "linecolor": "white",
            "ticks": ""
           },
           "bgcolor": "#E5ECF6",
           "caxis": {
            "gridcolor": "white",
            "linecolor": "white",
            "ticks": ""
           }
          },
          "title": {
           "x": 0.05
          },
          "xaxis": {
           "automargin": true,
           "gridcolor": "white",
           "linecolor": "white",
           "ticks": "",
           "title": {
            "standoff": 15
           },
           "zerolinecolor": "white",
           "zerolinewidth": 2
          },
          "yaxis": {
           "automargin": true,
           "gridcolor": "white",
           "linecolor": "white",
           "ticks": "",
           "title": {
            "standoff": 15
           },
           "zerolinecolor": "white",
           "zerolinewidth": 2
          }
         }
        },
        "title": {
         "text": "Local AcME: observation ID 14593. Predicted: 0.503",
         "x": 0.5,
         "xanchor": "center",
         "y": 0.9,
         "yanchor": "top"
        },
        "xaxis": {
         "anchor": "y",
         "domain": [
          0,
          1
         ],
         "title": {
          "text": "predict"
         }
        },
        "yaxis": {
         "anchor": "x",
         "domain": [
          0,
          1
         ],
         "title": {
          "text": "feature"
         }
        }
       }
      }
     },
     "metadata": {},
     "output_type": "display_data"
    },
    {
     "name": "stdout",
     "output_type": "stream",
     "text": [
      "Equipment  4\n",
      "Using default weights for anomaly detection feature importance\n"
     ]
    },
    {
     "data": {
      "application/vnd.plotly.v1+json": {
       "config": {
        "plotlyServerURL": "https://plot.ly"
       },
       "data": [
        {
         "customdata": [
          [
           0
          ],
          [
           0
          ],
          [
           0
          ],
          [
           0
          ],
          [
           0
          ],
          [
           0
          ],
          [
           0
          ],
          [
           0
          ],
          [
           0
          ],
          [
           0
          ],
          [
           0.2475
          ],
          [
           1
          ],
          [
           1
          ],
          [
           1
          ],
          [
           1
          ],
          [
           1
          ],
          [
           1
          ],
          [
           1
          ],
          [
           2
          ],
          [
           2
          ],
          [
           3
          ],
          [
           3
          ],
          [
           3
          ],
          [
           0
          ],
          [
           0
          ],
          [
           0
          ],
          [
           0
          ],
          [
           0
          ],
          [
           0
          ],
          [
           0
          ],
          [
           0
          ],
          [
           0
          ],
          [
           0
          ],
          [
           0
          ],
          [
           0
          ],
          [
           0
          ],
          [
           0
          ],
          [
           0
          ],
          [
           0
          ],
          [
           0
          ],
          [
           0
          ],
          [
           0
          ],
          [
           0
          ],
          [
           0
          ],
          [
           0
          ],
          [
           0
          ],
          [
           0
          ],
          [
           0
          ],
          [
           0
          ],
          [
           0
          ],
          [
           0
          ],
          [
           7
          ],
          [
           0
          ],
          [
           5
          ],
          [
           5
          ],
          [
           5
          ],
          [
           5.3791
          ],
          [
           6
          ],
          [
           6
          ],
          [
           6
          ],
          [
           6
          ],
          [
           7
          ],
          [
           7
          ],
          [
           7
          ],
          [
           8
          ],
          [
           8
          ],
          [
           8
          ],
          [
           9
          ],
          [
           10
          ],
          [
           10
          ],
          [
           11
          ],
          [
           12
          ],
          [
           13
          ],
          [
           14
          ],
          [
           5
          ],
          [
           0
          ],
          [
           5
          ],
          [
           4
          ],
          [
           1
          ],
          [
           1
          ],
          [
           1
          ],
          [
           1
          ],
          [
           1
          ],
          [
           2
          ],
          [
           2
          ],
          [
           2
          ],
          [
           2
          ],
          [
           2
          ],
          [
           4
          ],
          [
           2
          ],
          [
           3
          ],
          [
           3
          ],
          [
           3
          ],
          [
           3
          ],
          [
           3
          ],
          [
           4
          ],
          [
           4
          ],
          [
           4
          ],
          [
           4
          ],
          [
           4
          ],
          [
           3
          ],
          [
           13
          ],
          [
           0.2606
          ],
          [
           0.0085
          ],
          [
           0.0069
          ],
          [
           0.0639
          ],
          [
           0.067
          ],
          [
           0.0702
          ],
          [
           0.0751
          ],
          [
           0.0786
          ],
          [
           0.0828
          ],
          [
           0.086
          ],
          [
           0.0877
          ],
          [
           0.0922
          ],
          [
           0.1029
          ],
          [
           0.1096
          ],
          [
           0.1167
          ],
          [
           0.1234
          ],
          [
           0.1338
          ],
          [
           0.1423
          ],
          [
           0.1531
          ],
          [
           0.1665
          ],
          [
           0.1816
          ],
          [
           0.2044
          ],
          [
           0.2238
          ],
          [
           0.2275
          ],
          [
           0.0608
          ],
          [
           0.0579
          ],
          [
           0.0978
          ],
          [
           0.0525
          ],
          [
           0.0555
          ],
          [
           0.0107
          ],
          [
           0.012
          ],
          [
           0.0132
          ],
          [
           0.015
          ],
          [
           0.0168
          ],
          [
           0.0186
          ],
          [
           0.0203
          ],
          [
           0.0217
          ],
          [
           0.0234
          ],
          [
           0.0253
          ],
          [
           0.0098
          ],
          [
           0.0497
          ],
          [
           0.0289
          ],
          [
           0.0309
          ],
          [
           0.0323
          ],
          [
           0.0344
          ],
          [
           0.0368
          ],
          [
           0.0392
          ],
          [
           0.0416
          ],
          [
           0.0443
          ],
          [
           0.0468
          ],
          [
           0.027
          ],
          [
           0.3077
          ],
          [
           0.2954
          ],
          [
           0.2819
          ],
          [
           0.2702
          ],
          [
           0.2193
          ],
          [
           0.255
          ],
          [
           0.2502
          ],
          [
           0.2402
          ],
          [
           0.3213
          ],
          [
           0.2293
          ],
          [
           0.2604
          ],
          [
           0.3361
          ],
          [
           0.443
          ],
          [
           0.3633
          ],
          [
           0.379
          ],
          [
           0.4027
          ],
          [
           0.4208
          ],
          [
           0.4638
          ],
          [
           0.4874
          ],
          [
           0.5161
          ],
          [
           0.5379
          ],
          [
           0.5697
          ],
          [
           0.6112
          ],
          [
           0.3507
          ],
          [
           0.209
          ],
          [
           0.0103
          ],
          [
           0.1877
          ],
          [
           0.6557
          ],
          [
           0.0199
          ],
          [
           0.0279
          ],
          [
           0.0366
          ],
          [
           0.0438
          ],
          [
           0.052
          ],
          [
           0.0597
          ],
          [
           0.0679
          ],
          [
           0.0757
          ],
          [
           0.0832
          ],
          [
           0.1974
          ],
          [
           0.0861
          ],
          [
           0.0978
          ],
          [
           0.106
          ],
          [
           0.1134
          ],
          [
           0.1208
          ],
          [
           0.129
          ],
          [
           0.1375
          ],
          [
           0.145
          ],
          [
           0.1544
          ],
          [
           0.1624
          ],
          [
           0.1712
          ],
          [
           0.1801
          ],
          [
           0.091
          ],
          [
           45
          ],
          [
           9
          ],
          [
           0
          ],
          [
           0
          ],
          [
           0
          ],
          [
           1
          ],
          [
           1
          ],
          [
           1
          ],
          [
           1
          ],
          [
           1
          ],
          [
           1
          ],
          [
           1
          ],
          [
           1
          ],
          [
           1.2826
          ],
          [
           2
          ],
          [
           2
          ],
          [
           2
          ],
          [
           2
          ],
          [
           3
          ],
          [
           3
          ],
          [
           3
          ],
          [
           4
          ],
          [
           4
          ],
          [
           5
          ],
          [
           6
          ],
          [
           0
          ],
          [
           7
          ],
          [
           0
          ],
          [
           0
          ],
          [
           0
          ],
          [
           0
          ],
          [
           0
          ],
          [
           0
          ],
          [
           0
          ],
          [
           0
          ],
          [
           0
          ],
          [
           0
          ],
          [
           0
          ],
          [
           0
          ],
          [
           0
          ],
          [
           0
          ],
          [
           0
          ],
          [
           0
          ],
          [
           0
          ],
          [
           0
          ],
          [
           0
          ],
          [
           0
          ],
          [
           0
          ],
          [
           0
          ],
          [
           0
          ],
          [
           0
          ],
          [
           11
          ],
          [
           10
          ],
          [
           0
          ],
          [
           2
          ],
          [
           2
          ],
          [
           3
          ],
          [
           3
          ],
          [
           3
          ],
          [
           3
          ],
          [
           3
          ],
          [
           3.3337
          ],
          [
           4
          ],
          [
           4
          ],
          [
           4
          ],
          [
           4
          ],
          [
           5
          ],
          [
           5
          ],
          [
           5
          ],
          [
           6
          ],
          [
           6
          ],
          [
           7
          ],
          [
           7
          ],
          [
           8
          ],
          [
           9
          ],
          [
           2
          ],
          [
           13
          ],
          [
           2
          ],
          [
           2
          ],
          [
           0
          ],
          [
           0
          ],
          [
           0
          ],
          [
           0
          ],
          [
           0
          ],
          [
           0
          ],
          [
           0
          ],
          [
           0
          ],
          [
           0
          ],
          [
           0
          ],
          [
           1
          ],
          [
           1
          ],
          [
           1
          ],
          [
           1
          ],
          [
           1
          ],
          [
           1
          ],
          [
           1
          ],
          [
           1
          ],
          [
           1
          ],
          [
           2
          ],
          [
           2
          ],
          [
           2
          ],
          [
           48
          ],
          [
           1
          ],
          [
           18
          ],
          [
           5
          ],
          [
           5
          ],
          [
           5
          ],
          [
           5
          ],
          [
           5
          ],
          [
           5
          ],
          [
           4
          ],
          [
           4
          ],
          [
           4
          ],
          [
           4
          ],
          [
           6
          ],
          [
           4
          ],
          [
           3
          ],
          [
           3
          ],
          [
           3
          ],
          [
           3
          ],
          [
           2
          ],
          [
           2
          ],
          [
           2
          ],
          [
           2
          ],
          [
           1
          ],
          [
           57
          ],
          [
           3
          ],
          [
           6
          ],
          [
           4
          ],
          [
           6
          ],
          [
           6
          ],
          [
           14
          ],
          [
           13
          ],
          [
           12
          ],
          [
           12
          ],
          [
           11
          ],
          [
           11
          ],
          [
           10
          ],
          [
           10
          ],
          [
           9
          ],
          [
           9
          ],
          [
           15
          ],
          [
           8
          ],
          [
           9
          ],
          [
           7
          ],
          [
           7
          ],
          [
           7
          ],
          [
           7
          ],
          [
           6
          ],
          [
           7.3478
          ],
          [
           8
          ],
          [
           8
          ],
          [
           7
          ],
          [
           13
          ],
          [
           16
          ],
          [
           16
          ],
          [
           15
          ],
          [
           15
          ],
          [
           14
          ],
          [
           14
          ],
          [
           17
          ],
          [
           13
          ],
          [
           13
          ],
          [
           12
          ],
          [
           10
          ],
          [
           11
          ],
          [
           11
          ],
          [
           10
          ],
          [
           9
          ],
          [
           9
          ],
          [
           8
          ],
          [
           8
          ],
          [
           7
          ],
          [
           7
          ],
          [
           17
          ],
          [
           12
          ],
          [
           18
          ],
          [
           6
          ],
          [
           19
          ],
          [
           5
          ],
          [
           122
          ],
          [
           47
          ],
          [
           42
          ],
          [
           38
          ],
          [
           36
          ],
          [
           34
          ],
          [
           32
          ],
          [
           31
          ],
          [
           29
          ],
          [
           18
          ],
          [
           28
          ],
          [
           26
          ],
          [
           25
          ],
          [
           24
          ],
          [
           23
          ],
          [
           22
          ],
          [
           22
          ],
          [
           21
          ],
          [
           20
          ],
          [
           20
          ],
          [
           19.3882
          ],
          [
           27
          ],
          [
           7
          ],
          [
           5
          ],
          [
           14
          ],
          [
           3
          ],
          [
           2
          ],
          [
           2
          ],
          [
           2
          ],
          [
           2
          ],
          [
           2
          ],
          [
           2
          ],
          [
           2
          ],
          [
           2
          ],
          [
           2
          ],
          [
           3
          ],
          [
           1
          ],
          [
           1
          ],
          [
           1
          ],
          [
           1
          ],
          [
           1
          ],
          [
           1
          ],
          [
           1
          ],
          [
           1
          ],
          [
           1
          ],
          [
           1
          ],
          [
           49
          ],
          [
           1
          ],
          [
           3
          ],
          [
           2
          ],
          [
           3
          ],
          [
           3
          ],
          [
           11
          ],
          [
           10
          ],
          [
           9
          ],
          [
           8
          ],
          [
           8
          ],
          [
           7
          ],
          [
           7
          ],
          [
           6
          ],
          [
           6
          ],
          [
           6
          ],
          [
           5
          ],
          [
           12
          ],
          [
           3
          ],
          [
           5
          ],
          [
           5
          ],
          [
           4.3316
          ],
          [
           4
          ],
          [
           4
          ],
          [
           4
          ],
          [
           4
          ],
          [
           4
          ],
          [
           3
          ],
          [
           5
          ],
          [
           0
          ],
          [
           0
          ],
          [
           0
          ],
          [
           0
          ],
          [
           0
          ],
          [
           0
          ],
          [
           0
          ],
          [
           0
          ],
          [
           0
          ],
          [
           0
          ],
          [
           0
          ],
          [
           0
          ],
          [
           0
          ],
          [
           0
          ],
          [
           0
          ],
          [
           0
          ],
          [
           0
          ],
          [
           0
          ],
          [
           0
          ],
          [
           0
          ],
          [
           0.0144
          ],
          [
           1
          ],
          [
           0
          ],
          [
           0
          ],
          [
           0
          ],
          [
           0
          ],
          [
           0
          ],
          [
           0
          ],
          [
           0
          ],
          [
           0
          ],
          [
           0
          ],
          [
           0
          ],
          [
           0
          ],
          [
           0
          ],
          [
           0
          ],
          [
           0
          ],
          [
           0
          ],
          [
           0
          ],
          [
           0
          ],
          [
           0
          ],
          [
           0
          ],
          [
           0
          ],
          [
           0
          ],
          [
           0
          ],
          [
           0
          ],
          [
           0
          ],
          [
           0
          ],
          [
           0
          ],
          [
           0
          ],
          [
           0
          ],
          [
           0
          ]
         ],
         "hovertemplate": "Feature: <b>%{y}</b><br><br>Predict: %{x}<br>Original value: %{customdata[0]}<br>Quantile: %{marker.color}",
         "legendgroup": "",
         "marker": {
          "color": [
           0.0688,
           0.5938,
           0.6125,
           0.6312,
           0.65,
           0.6688,
           0.6875,
           0.7062,
           0.725,
           0.7438,
           0.7525,
           0.7625,
           0.7812,
           0.8,
           0.8188,
           0.8375,
           0.8562,
           0.875,
           0.8938,
           0.9125,
           0.9312,
           0.936,
           0.95,
           0.575,
           0.5562,
           0.5375,
           0.5188,
           0.0875,
           0.1062,
           0.125,
           0.1438,
           0.1625,
           0.1813,
           0.2,
           0.2188,
           0.2375,
           0.275,
           0.05,
           0.2938,
           0.3312,
           0.35,
           0.3687,
           0.3875,
           0.4062,
           0.425,
           0.4438,
           0.4625,
           0.4812,
           0.5,
           0.3125,
           0.2562,
           0.725,
           0.0688,
           0.575,
           0.5938,
           0.6125,
           0.6209,
           0.6312,
           0.65,
           0.6688,
           0.6875,
           0.7062,
           0.7438,
           0.7625,
           0.7812,
           0.8,
           0.8188,
           0.8375,
           0.8562,
           0.875,
           0.8938,
           0.9125,
           0.9312,
           0.95,
           0.5562,
           0.05,
           0.5375,
           0.5,
           0.0875,
           0.1062,
           0.125,
           0.1438,
           0.1625,
           0.1813,
           0.2,
           0.2188,
           0.2375,
           0.2562,
           0.5188,
           0.275,
           0.3125,
           0.3312,
           0.35,
           0.3687,
           0.3875,
           0.4062,
           0.425,
           0.4438,
           0.4625,
           0.4812,
           0.2938,
           0.9317,
           0.95,
           0.0688,
           0.05,
           0.575,
           0.5938,
           0.6125,
           0.6312,
           0.65,
           0.6688,
           0.681,
           0.6875,
           0.7062,
           0.7438,
           0.7625,
           0.7812,
           0.8,
           0.8188,
           0.8375,
           0.8562,
           0.875,
           0.8938,
           0.9125,
           0.9273,
           0.9312,
           0.5562,
           0.5375,
           0.725,
           0.5,
           0.5188,
           0.1062,
           0.125,
           0.1438,
           0.1625,
           0.1813,
           0.2,
           0.2188,
           0.2375,
           0.2562,
           0.275,
           0.0875,
           0.4812,
           0.3125,
           0.3312,
           0.35,
           0.3687,
           0.3875,
           0.4062,
           0.425,
           0.4438,
           0.4625,
           0.2938,
           0.6688,
           0.65,
           0.6312,
           0.6125,
           0.5188,
           0.5837,
           0.575,
           0.5562,
           0.6875,
           0.5375,
           0.5938,
           0.7062,
           0.8188,
           0.7438,
           0.7625,
           0.7812,
           0.8,
           0.8375,
           0.8562,
           0.875,
           0.8938,
           0.9125,
           0.9312,
           0.725,
           0.5,
           0.05,
           0.4625,
           0.95,
           0.0688,
           0.0875,
           0.1062,
           0.125,
           0.1438,
           0.1625,
           0.1813,
           0.2,
           0.2188,
           0.4812,
           0.2261,
           0.2562,
           0.275,
           0.2938,
           0.3125,
           0.3312,
           0.35,
           0.3687,
           0.3875,
           0.4062,
           0.425,
           0.4438,
           0.2375,
           1,
           0.95,
           0.0688,
           0.05,
           0.5562,
           0.575,
           0.5938,
           0.6125,
           0.6312,
           0.65,
           0.6688,
           0.6875,
           0.7062,
           0.7174,
           0.725,
           0.7438,
           0.7625,
           0.7812,
           0.8,
           0.8188,
           0.8375,
           0.8562,
           0.875,
           0.8938,
           0.9125,
           0.5375,
           0.9312,
           0.5188,
           0.4812,
           0.0875,
           0.1062,
           0.125,
           0.1438,
           0.1625,
           0.1813,
           0.2,
           0.2188,
           0.2375,
           0.2562,
           0.275,
           0.2938,
           0.3125,
           0.3312,
           0.35,
           0.3687,
           0.3875,
           0.4062,
           0.425,
           0.4438,
           0.4625,
           0.5,
           0.9312,
           0.9125,
           0.05,
           0.5375,
           0.5562,
           0.575,
           0.5938,
           0.6125,
           0.6312,
           0.65,
           0.6663,
           0.6688,
           0.6875,
           0.7062,
           0.725,
           0.7438,
           0.7625,
           0.7812,
           0.8,
           0.8188,
           0.8375,
           0.8562,
           0.875,
           0.8938,
           0.5188,
           0.95,
           0.5,
           0.4625,
           0.0688,
           0.0875,
           0.1062,
           0.125,
           0.1438,
           0.1625,
           0.1813,
           0.2,
           0.2188,
           0.2375,
           0.2562,
           0.275,
           0.2938,
           0.3125,
           0.3312,
           0.35,
           0.3687,
           0.3875,
           0.4062,
           0.425,
           0.4438,
           0.4812,
           0.9997,
           0.05,
           0.95,
           0.4625,
           0.4438,
           0.425,
           0.4062,
           0.3875,
           0.3687,
           0.35,
           0.3312,
           0.3125,
           0.275,
           0.4812,
           0.2562,
           0.2188,
           0.2,
           0.1813,
           0.1625,
           0.1438,
           0.125,
           0.1062,
           0.0875,
           0.0688,
           0.9997,
           0.2375,
           0.5,
           0.2938,
           0.5375,
           0.5188,
           0.9125,
           0.8938,
           0.875,
           0.8562,
           0.8375,
           0.8188,
           0.8,
           0.7812,
           0.7625,
           0.7438,
           0.9312,
           0.7062,
           0.725,
           0.575,
           0.5938,
           0.6125,
           0.6312,
           0.5562,
           0.6522,
           0.6688,
           0.6875,
           0.65,
           0.35,
           0.5,
           0.4812,
           0.4625,
           0.4438,
           0.425,
           0.4062,
           0.5188,
           0.3875,
           0.3687,
           0.3312,
           0.2375,
           0.2938,
           0.275,
           0.2562,
           0.2188,
           0.2,
           0.1813,
           0.1625,
           0.1438,
           0.125,
           0.5375,
           0.3125,
           0.5562,
           0.0875,
           0.5938,
           0.0688,
           0.9997,
           0.95,
           0.9312,
           0.9125,
           0.8938,
           0.875,
           0.8562,
           0.8375,
           0.8188,
           0.575,
           0.8,
           0.7625,
           0.7438,
           0.725,
           0.7062,
           0.6875,
           0.6688,
           0.65,
           0.6312,
           0.6125,
           0.6118,
           0.7812,
           0.1062,
           0.05,
           0.95,
           0.4438,
           0.425,
           0.4062,
           0.3875,
           0.3687,
           0.35,
           0.3312,
           0.3125,
           0.2938,
           0.2562,
           0.4625,
           0.2375,
           0.2,
           0.1813,
           0.1625,
           0.1438,
           0.125,
           0.1062,
           0.0875,
           0.0688,
           0.05,
           0.9997,
           0.2188,
           0.4812,
           0.275,
           0.5188,
           0.5,
           0.9125,
           0.8938,
           0.875,
           0.8562,
           0.8375,
           0.8188,
           0.8,
           0.7812,
           0.7625,
           0.7438,
           0.725,
           0.9312,
           0.5375,
           0.6875,
           0.6688,
           0.6684,
           0.65,
           0.6312,
           0.6125,
           0.5938,
           0.575,
           0.5562,
           0.7062,
           0.7062,
           0.6875,
           0.6688,
           0.65,
           0.5562,
           0.6125,
           0.5938,
           0.575,
           0.725,
           0.6312,
           0.7625,
           0.875,
           0.8,
           0.8188,
           0.8375,
           0.8562,
           0.8938,
           0.9125,
           0.9312,
           0.95,
           0.9856,
           0.9928,
           0.7812,
           0.5375,
           0.05,
           0.5,
           0.0688,
           0.0875,
           0.1062,
           0.125,
           0.1438,
           0.1625,
           0.1813,
           0.2,
           0.2188,
           0.2375,
           0.2562,
           0.275,
           0.2938,
           0.3125,
           0.3312,
           0.35,
           0.3687,
           0.3875,
           0.4062,
           0.425,
           0.4438,
           0.4625,
           0.4812,
           0.5188,
           0.7438
          ],
          "coloraxis": "coloraxis",
          "size": [
           0.05,
           0.05,
           0.05,
           0.05,
           0.05,
           0.05,
           0.05,
           0.05,
           0.05,
           0.05,
           0.05,
           0.05,
           0.05,
           0.05,
           0.05,
           0.05,
           0.05,
           0.05,
           0.05,
           0.05,
           0.05,
           0.3,
           0.05,
           0.05,
           0.05,
           0.05,
           0.05,
           0.05,
           0.05,
           0.05,
           0.05,
           0.05,
           0.05,
           0.05,
           0.05,
           0.05,
           0.05,
           0.05,
           0.05,
           0.05,
           0.05,
           0.05,
           0.05,
           0.05,
           0.05,
           0.05,
           0.05,
           0.05,
           0.05,
           0.05,
           0.05,
           0.05,
           0.05,
           0.05,
           0.05,
           0.05,
           0.05,
           0.05,
           0.05,
           0.05,
           0.05,
           0.05,
           0.05,
           0.05,
           0.05,
           0.05,
           0.05,
           0.05,
           0.05,
           0.05,
           0.05,
           0.05,
           0.05,
           0.05,
           0.05,
           0.05,
           0.05,
           0.05,
           0.05,
           0.05,
           0.05,
           0.05,
           0.05,
           0.05,
           0.05,
           0.05,
           0.05,
           0.05,
           0.05,
           0.05,
           0.05,
           0.05,
           0.05,
           0.05,
           0.05,
           0.05,
           0.05,
           0.05,
           0.05,
           0.05,
           0.05,
           0.3,
           0.05,
           0.05,
           0.05,
           0.05,
           0.05,
           0.05,
           0.05,
           0.05,
           0.05,
           0.05,
           0.05,
           0.05,
           0.05,
           0.05,
           0.05,
           0.05,
           0.05,
           0.05,
           0.05,
           0.05,
           0.05,
           0.05,
           0.3,
           0.05,
           0.05,
           0.05,
           0.05,
           0.05,
           0.05,
           0.05,
           0.05,
           0.05,
           0.05,
           0.05,
           0.05,
           0.05,
           0.05,
           0.05,
           0.05,
           0.05,
           0.05,
           0.05,
           0.05,
           0.05,
           0.05,
           0.05,
           0.05,
           0.05,
           0.05,
           0.05,
           0.05,
           0.05,
           0.05,
           0.05,
           0.05,
           0.05,
           0.05,
           0.05,
           0.05,
           0.05,
           0.05,
           0.05,
           0.05,
           0.05,
           0.05,
           0.05,
           0.05,
           0.05,
           0.05,
           0.05,
           0.05,
           0.05,
           0.05,
           0.05,
           0.05,
           0.05,
           0.05,
           0.05,
           0.05,
           0.05,
           0.05,
           0.05,
           0.05,
           0.05,
           0.05,
           0.05,
           0.05,
           0.05,
           0.05,
           0.3,
           0.05,
           0.05,
           0.05,
           0.05,
           0.05,
           0.05,
           0.05,
           0.05,
           0.05,
           0.05,
           0.05,
           0.05,
           0.3,
           0.05,
           0.05,
           0.05,
           0.05,
           0.05,
           0.05,
           0.05,
           0.05,
           0.05,
           0.05,
           0.05,
           0.05,
           0.05,
           0.05,
           0.05,
           0.05,
           0.05,
           0.05,
           0.05,
           0.05,
           0.05,
           0.05,
           0.05,
           0.05,
           0.05,
           0.05,
           0.05,
           0.05,
           0.05,
           0.05,
           0.05,
           0.05,
           0.05,
           0.05,
           0.05,
           0.05,
           0.05,
           0.05,
           0.05,
           0.05,
           0.05,
           0.05,
           0.05,
           0.05,
           0.05,
           0.05,
           0.05,
           0.05,
           0.05,
           0.05,
           0.05,
           0.05,
           0.05,
           0.05,
           0.05,
           0.05,
           0.05,
           0.05,
           0.05,
           0.05,
           0.05,
           0.05,
           0.05,
           0.05,
           0.05,
           0.05,
           0.05,
           0.05,
           0.05,
           0.05,
           0.05,
           0.05,
           0.05,
           0.05,
           0.05,
           0.05,
           0.05,
           0.05,
           0.05,
           0.05,
           0.05,
           0.05,
           0.05,
           0.05,
           0.05,
           0.05,
           0.05,
           0.05,
           0.05,
           0.05,
           0.05,
           0.05,
           0.05,
           0.05,
           0.05,
           0.05,
           0.05,
           0.05,
           0.05,
           0.05,
           0.3,
           0.05,
           0.05,
           0.05,
           0.05,
           0.05,
           0.05,
           0.05,
           0.05,
           0.05,
           0.05,
           0.05,
           0.05,
           0.05,
           0.05,
           0.05,
           0.05,
           0.05,
           0.05,
           0.05,
           0.05,
           0.05,
           0.05,
           0.05,
           0.3,
           0.05,
           0.05,
           0.05,
           0.05,
           0.05,
           0.05,
           0.05,
           0.05,
           0.05,
           0.05,
           0.05,
           0.05,
           0.05,
           0.05,
           0.05,
           0.05,
           0.05,
           0.05,
           0.05,
           0.05,
           0.05,
           0.05,
           0.05,
           0.05,
           0.05,
           0.05,
           0.05,
           0.05,
           0.05,
           0.05,
           0.05,
           0.05,
           0.05,
           0.05,
           0.05,
           0.05,
           0.05,
           0.05,
           0.05,
           0.05,
           0.05,
           0.05,
           0.05,
           0.05,
           0.05,
           0.05,
           0.05,
           0.05,
           0.05,
           0.05,
           0.05,
           0.05,
           0.05,
           0.05,
           0.3,
           0.05,
           0.05,
           0.05,
           0.05,
           0.05,
           0.05,
           0.05,
           0.05,
           0.05,
           0.05,
           0.05,
           0.05,
           0.05,
           0.05,
           0.05,
           0.05,
           0.05,
           0.05,
           0.05,
           0.05,
           0.05,
           0.05,
           0.05,
           0.05,
           0.05,
           0.05,
           0.05,
           0.05,
           0.05,
           0.05,
           0.05,
           0.05,
           0.05,
           0.05,
           0.05,
           0.05,
           0.05,
           0.05,
           0.05,
           0.05,
           0.05,
           0.05,
           0.05,
           0.05,
           0.05,
           0.3,
           0.05,
           0.05,
           0.05,
           0.05,
           0.05,
           0.05,
           0.05,
           0.05,
           0.05,
           0.05,
           0.05,
           0.05,
           0.05,
           0.05,
           0.05,
           0.05,
           0.05,
           0.05,
           0.05,
           0.05,
           0.05,
           0.05,
           0.05,
           0.05,
           0.05,
           0.05,
           0.05,
           0.05,
           0.05,
           0.05,
           0.05,
           0.05,
           0.05,
           0.05,
           0.05,
           0.05,
           0.05,
           0.05,
           0.05,
           0.05,
           0.05,
           0.05,
           0.05,
           0.05,
           0.05,
           0.05,
           0.05,
           0.05,
           0.05,
           0.3,
           0.05,
           0.05,
           0.05,
           0.05,
           0.05,
           0.05,
           0.05,
           0.05,
           0.05,
           0.05,
           0.05,
           0.05,
           0.05,
           0.05,
           0.05,
           0.05,
           0.05,
           0.05,
           0.05,
           0.05,
           0.05,
           0.05,
           0.05,
           0.05,
           0.05,
           0.05,
           0.05,
           0.05,
           0.05
          ],
          "sizemode": "area",
          "sizeref": 0.00075,
          "symbol": "circle"
         },
         "mode": "markers",
         "name": "",
         "orientation": "h",
         "showlegend": false,
         "type": "scatter",
         "x": [
          0.5001,
          0.5001,
          0.5001,
          0.5001,
          0.5001,
          0.5001,
          0.5001,
          0.5001,
          0.5001,
          0.5001,
          0.5001,
          0.5001,
          0.5001,
          0.5001,
          0.5001,
          0.5001,
          0.5001,
          0.5001,
          0.5013,
          0.5013,
          0.5024,
          0.5024,
          0.5024,
          0.5001,
          0.5001,
          0.5001,
          0.5001,
          0.5001,
          0.5001,
          0.5001,
          0.5001,
          0.5001,
          0.5001,
          0.5001,
          0.5001,
          0.5001,
          0.5001,
          0.5001,
          0.5001,
          0.5001,
          0.5001,
          0.5001,
          0.5001,
          0.5001,
          0.5001,
          0.5001,
          0.5001,
          0.5001,
          0.5001,
          0.5001,
          0.5001,
          0.4997,
          0.4989,
          0.4992,
          0.4992,
          0.4992,
          0.4992,
          0.4997,
          0.4997,
          0.4997,
          0.4997,
          0.4997,
          0.4997,
          0.4997,
          0.5011,
          0.5011,
          0.5011,
          0.5011,
          0.5024,
          0.5024,
          0.5024,
          0.5024,
          0.5024,
          0.5024,
          0.4992,
          0.4989,
          0.4992,
          0.4983,
          0.4989,
          0.4989,
          0.4989,
          0.4989,
          0.4989,
          0.4987,
          0.4987,
          0.4987,
          0.4987,
          0.4987,
          0.4983,
          0.4987,
          0.4987,
          0.4987,
          0.4987,
          0.4987,
          0.4987,
          0.4983,
          0.4983,
          0.4983,
          0.4983,
          0.4983,
          0.4987,
          0.5024,
          0.5024,
          0.4997,
          0.4997,
          0.4991,
          0.4991,
          0.4991,
          0.4991,
          0.4991,
          0.4991,
          0.4991,
          0.4991,
          0.4991,
          0.4991,
          0.4991,
          0.4991,
          0.4991,
          0.4991,
          0.5011,
          0.5016,
          0.5016,
          0.5024,
          0.5024,
          0.5024,
          0.5024,
          0.4991,
          0.4991,
          0.4991,
          0.4991,
          0.4991,
          0.4997,
          0.4997,
          0.4997,
          0.4997,
          0.4997,
          0.4997,
          0.4997,
          0.4997,
          0.4997,
          0.4997,
          0.4997,
          0.4991,
          0.4997,
          0.4997,
          0.4997,
          0.4997,
          0.4997,
          0.4997,
          0.4997,
          0.4997,
          0.4991,
          0.4997,
          0.4981,
          0.4981,
          0.4981,
          0.4981,
          0.4981,
          0.4981,
          0.4981,
          0.4981,
          0.4981,
          0.4981,
          0.4981,
          0.4981,
          0.4983,
          0.4983,
          0.4983,
          0.4983,
          0.4983,
          0.4983,
          0.4983,
          0.4983,
          0.4983,
          0.4983,
          0.4995,
          0.4981,
          0.4981,
          0.5024,
          0.4979,
          0.4998,
          0.5024,
          0.5024,
          0.5024,
          0.5024,
          0.5024,
          0.5024,
          0.5024,
          0.5024,
          0.5024,
          0.4979,
          0.5024,
          0.5024,
          0.5002,
          0.5002,
          0.4984,
          0.4984,
          0.4984,
          0.4984,
          0.4981,
          0.4979,
          0.4979,
          0.4979,
          0.5024,
          0.5024,
          0.4962,
          0.4946,
          0.4946,
          0.4946,
          0.4948,
          0.4948,
          0.4948,
          0.4948,
          0.4948,
          0.4948,
          0.4948,
          0.4948,
          0.4948,
          0.4947,
          0.4947,
          0.4947,
          0.4947,
          0.4962,
          0.4962,
          0.4962,
          0.4962,
          0.4962,
          0.4962,
          0.4962,
          0.4946,
          0.4962,
          0.4946,
          0.4946,
          0.4946,
          0.4946,
          0.4946,
          0.4946,
          0.4946,
          0.4946,
          0.4946,
          0.4946,
          0.4946,
          0.4946,
          0.4946,
          0.4946,
          0.4946,
          0.4946,
          0.4946,
          0.4946,
          0.4946,
          0.4946,
          0.4946,
          0.4946,
          0.4946,
          0.4946,
          0.4941,
          0.4941,
          0.4956,
          0.4948,
          0.4948,
          0.4948,
          0.4948,
          0.4948,
          0.4948,
          0.4948,
          0.4948,
          0.4948,
          0.4948,
          0.4948,
          0.4948,
          0.4941,
          0.4941,
          0.4941,
          0.4941,
          0.4941,
          0.4941,
          0.4941,
          0.4941,
          0.4941,
          0.4948,
          0.4941,
          0.4948,
          0.4948,
          0.4956,
          0.4956,
          0.4956,
          0.4956,
          0.4956,
          0.4956,
          0.4956,
          0.4956,
          0.4956,
          0.4956,
          0.4956,
          0.4956,
          0.4956,
          0.4956,
          0.4956,
          0.4956,
          0.4956,
          0.4956,
          0.4956,
          0.4948,
          0.4948,
          0.4948,
          0.5024,
          0.4911,
          0.4935,
          0.4904,
          0.4904,
          0.4904,
          0.4904,
          0.4904,
          0.4904,
          0.4904,
          0.4904,
          0.4904,
          0.4904,
          0.4904,
          0.4904,
          0.4911,
          0.4911,
          0.4911,
          0.4911,
          0.4911,
          0.4911,
          0.4911,
          0.4911,
          0.4911,
          0.5024,
          0.4911,
          0.4904,
          0.4904,
          0.4904,
          0.4904,
          0.4915,
          0.4909,
          0.4909,
          0.4909,
          0.4909,
          0.4909,
          0.4904,
          0.4904,
          0.4904,
          0.4904,
          0.4929,
          0.4904,
          0.4904,
          0.4904,
          0.4904,
          0.4904,
          0.4904,
          0.4904,
          0.4904,
          0.4904,
          0.4904,
          0.4904,
          0.4872,
          0.4872,
          0.4872,
          0.4872,
          0.4872,
          0.4872,
          0.4872,
          0.4872,
          0.4872,
          0.4872,
          0.4872,
          0.4872,
          0.4872,
          0.4872,
          0.4872,
          0.4872,
          0.4872,
          0.4872,
          0.4872,
          0.4872,
          0.4872,
          0.4872,
          0.4872,
          0.4872,
          0.4872,
          0.4872,
          0.4872,
          0.5024,
          0.4919,
          0.4897,
          0.4897,
          0.4897,
          0.4897,
          0.4891,
          0.4891,
          0.4883,
          0.4872,
          0.4883,
          0.4883,
          0.4883,
          0.4883,
          0.4883,
          0.4883,
          0.4883,
          0.4883,
          0.4872,
          0.4872,
          0.4872,
          0.4883,
          0.4872,
          0.4872,
          0.4855,
          0.4834,
          0.4831,
          0.4831,
          0.4831,
          0.4831,
          0.4831,
          0.4831,
          0.4831,
          0.4831,
          0.4831,
          0.4834,
          0.4831,
          0.4831,
          0.4831,
          0.4831,
          0.4831,
          0.4831,
          0.4831,
          0.4831,
          0.4831,
          0.4831,
          0.5024,
          0.4831,
          0.4834,
          0.4831,
          0.4834,
          0.4834,
          0.4842,
          0.483,
          0.483,
          0.4819,
          0.4819,
          0.4817,
          0.4817,
          0.4831,
          0.4831,
          0.4831,
          0.4831,
          0.4838,
          0.4834,
          0.4831,
          0.4831,
          0.4831,
          0.4831,
          0.4831,
          0.4831,
          0.4831,
          0.4831,
          0.4834,
          0.4831,
          0.4739,
          0.4739,
          0.4739,
          0.4739,
          0.4739,
          0.4739,
          0.4739,
          0.4739,
          0.4739,
          0.4739,
          0.4739,
          0.4739,
          0.4739,
          0.4739,
          0.4739,
          0.4739,
          0.4739,
          0.4739,
          0.4739,
          0.4739,
          0.4756,
          0.5024,
          0.4739,
          0.4739,
          0.4739,
          0.4739,
          0.4739,
          0.4739,
          0.4739,
          0.4739,
          0.4739,
          0.4739,
          0.4739,
          0.4739,
          0.4739,
          0.4739,
          0.4739,
          0.4739,
          0.4739,
          0.4739,
          0.4739,
          0.4739,
          0.4739,
          0.4739,
          0.4739,
          0.4739,
          0.4739,
          0.4739,
          0.4739,
          0.4739,
          0.4739
         ],
         "xaxis": "x",
         "y": [
          "A_020",
          "A_020",
          "A_020",
          "A_020",
          "A_020",
          "A_020",
          "A_020",
          "A_020",
          "A_020",
          "A_020",
          "A_020",
          "A_020",
          "A_020",
          "A_020",
          "A_020",
          "A_020",
          "A_020",
          "A_020",
          "A_020",
          "A_020",
          "A_020",
          "A_020",
          "A_020",
          "A_020",
          "A_020",
          "A_020",
          "A_020",
          "A_020",
          "A_020",
          "A_020",
          "A_020",
          "A_020",
          "A_020",
          "A_020",
          "A_020",
          "A_020",
          "A_020",
          "A_020",
          "A_020",
          "A_020",
          "A_020",
          "A_020",
          "A_020",
          "A_020",
          "A_020",
          "A_020",
          "A_020",
          "A_020",
          "A_020",
          "A_020",
          "A_020",
          "performance_loss/performance_loss",
          "performance_loss/performance_loss",
          "performance_loss/performance_loss",
          "performance_loss/performance_loss",
          "performance_loss/performance_loss",
          "performance_loss/performance_loss",
          "performance_loss/performance_loss",
          "performance_loss/performance_loss",
          "performance_loss/performance_loss",
          "performance_loss/performance_loss",
          "performance_loss/performance_loss",
          "performance_loss/performance_loss",
          "performance_loss/performance_loss",
          "performance_loss/performance_loss",
          "performance_loss/performance_loss",
          "performance_loss/performance_loss",
          "performance_loss/performance_loss",
          "performance_loss/performance_loss",
          "performance_loss/performance_loss",
          "performance_loss/performance_loss",
          "performance_loss/performance_loss",
          "performance_loss/performance_loss",
          "performance_loss/performance_loss",
          "performance_loss/performance_loss",
          "performance_loss/performance_loss",
          "performance_loss/performance_loss",
          "performance_loss/performance_loss",
          "performance_loss/performance_loss",
          "performance_loss/performance_loss",
          "performance_loss/performance_loss",
          "performance_loss/performance_loss",
          "performance_loss/performance_loss",
          "performance_loss/performance_loss",
          "performance_loss/performance_loss",
          "performance_loss/performance_loss",
          "performance_loss/performance_loss",
          "performance_loss/performance_loss",
          "performance_loss/performance_loss",
          "performance_loss/performance_loss",
          "performance_loss/performance_loss",
          "performance_loss/performance_loss",
          "performance_loss/performance_loss",
          "performance_loss/performance_loss",
          "performance_loss/performance_loss",
          "performance_loss/performance_loss",
          "performance_loss/performance_loss",
          "performance_loss/performance_loss",
          "performance_loss/performance_loss",
          "performance_loss/performance_loss",
          "performance_loss/performance_loss",
          "performance_loss/performance_loss",
          "%downtime",
          "%downtime",
          "%downtime",
          "%downtime",
          "%downtime",
          "%downtime",
          "%downtime",
          "%downtime",
          "%downtime",
          "%downtime",
          "%downtime",
          "%downtime",
          "%downtime",
          "%downtime",
          "%downtime",
          "%downtime",
          "%downtime",
          "%downtime",
          "%downtime",
          "%downtime",
          "%downtime",
          "%downtime",
          "%downtime",
          "%downtime",
          "%downtime",
          "%downtime",
          "%downtime",
          "%downtime",
          "%downtime",
          "%downtime",
          "%downtime",
          "%downtime",
          "%downtime",
          "%downtime",
          "%downtime",
          "%downtime",
          "%downtime",
          "%downtime",
          "%downtime",
          "%downtime",
          "%downtime",
          "%downtime",
          "%downtime",
          "%downtime",
          "%downtime",
          "%downtime",
          "%downtime",
          "%downtime",
          "%downtime",
          "%downtime",
          "%downtime",
          "%performance_loss",
          "%performance_loss",
          "%performance_loss",
          "%performance_loss",
          "%performance_loss",
          "%performance_loss",
          "%performance_loss",
          "%performance_loss",
          "%performance_loss",
          "%performance_loss",
          "%performance_loss",
          "%performance_loss",
          "%performance_loss",
          "%performance_loss",
          "%performance_loss",
          "%performance_loss",
          "%performance_loss",
          "%performance_loss",
          "%performance_loss",
          "%performance_loss",
          "%performance_loss",
          "%performance_loss",
          "%performance_loss",
          "%performance_loss",
          "%performance_loss",
          "%performance_loss",
          "%performance_loss",
          "%performance_loss",
          "%performance_loss",
          "%performance_loss",
          "%performance_loss",
          "%performance_loss",
          "%performance_loss",
          "%performance_loss",
          "%performance_loss",
          "%performance_loss",
          "%performance_loss",
          "%performance_loss",
          "%performance_loss",
          "%performance_loss",
          "%performance_loss",
          "%performance_loss",
          "%performance_loss",
          "%performance_loss",
          "%performance_loss",
          "%performance_loss",
          "%performance_loss",
          "%performance_loss",
          "%performance_loss",
          "%performance_loss",
          "%performance_loss",
          "A_005",
          "A_005",
          "A_005",
          "A_005",
          "A_005",
          "A_005",
          "A_005",
          "A_005",
          "A_005",
          "A_005",
          "A_005",
          "A_005",
          "A_005",
          "A_005",
          "A_005",
          "A_005",
          "A_005",
          "A_005",
          "A_005",
          "A_005",
          "A_005",
          "A_005",
          "A_005",
          "A_005",
          "A_005",
          "A_005",
          "A_005",
          "A_005",
          "A_005",
          "A_005",
          "A_005",
          "A_005",
          "A_005",
          "A_005",
          "A_005",
          "A_005",
          "A_005",
          "A_005",
          "A_005",
          "A_005",
          "A_005",
          "A_005",
          "A_005",
          "A_005",
          "A_005",
          "A_005",
          "A_005",
          "A_005",
          "A_005",
          "A_005",
          "A_005",
          "downtime/downtime",
          "downtime/downtime",
          "downtime/downtime",
          "downtime/downtime",
          "downtime/downtime",
          "downtime/downtime",
          "downtime/downtime",
          "downtime/downtime",
          "downtime/downtime",
          "downtime/downtime",
          "downtime/downtime",
          "downtime/downtime",
          "downtime/downtime",
          "downtime/downtime",
          "downtime/downtime",
          "downtime/downtime",
          "downtime/downtime",
          "downtime/downtime",
          "downtime/downtime",
          "downtime/downtime",
          "downtime/downtime",
          "downtime/downtime",
          "downtime/downtime",
          "downtime/downtime",
          "downtime/downtime",
          "downtime/downtime",
          "downtime/downtime",
          "downtime/downtime",
          "downtime/downtime",
          "downtime/downtime",
          "downtime/downtime",
          "downtime/downtime",
          "downtime/downtime",
          "downtime/downtime",
          "downtime/downtime",
          "downtime/downtime",
          "downtime/downtime",
          "downtime/downtime",
          "downtime/downtime",
          "downtime/downtime",
          "downtime/downtime",
          "downtime/downtime",
          "downtime/downtime",
          "downtime/downtime",
          "downtime/downtime",
          "downtime/downtime",
          "downtime/downtime",
          "downtime/downtime",
          "downtime/downtime",
          "downtime/downtime",
          "downtime/downtime",
          "production/production",
          "production/production",
          "production/production",
          "production/production",
          "production/production",
          "production/production",
          "production/production",
          "production/production",
          "production/production",
          "production/production",
          "production/production",
          "production/production",
          "production/production",
          "production/production",
          "production/production",
          "production/production",
          "production/production",
          "production/production",
          "production/production",
          "production/production",
          "production/production",
          "production/production",
          "production/production",
          "production/production",
          "production/production",
          "production/production",
          "production/production",
          "production/production",
          "production/production",
          "production/production",
          "production/production",
          "production/production",
          "production/production",
          "production/production",
          "production/production",
          "production/production",
          "production/production",
          "production/production",
          "production/production",
          "production/production",
          "production/production",
          "production/production",
          "production/production",
          "production/production",
          "production/production",
          "production/production",
          "production/production",
          "production/production",
          "production/production",
          "production/production",
          "production/production",
          "#changes",
          "#changes",
          "#changes",
          "#changes",
          "#changes",
          "#changes",
          "#changes",
          "#changes",
          "#changes",
          "#changes",
          "#changes",
          "#changes",
          "#changes",
          "#changes",
          "#changes",
          "#changes",
          "#changes",
          "#changes",
          "#changes",
          "#changes",
          "#changes",
          "#changes",
          "#changes",
          "#changes",
          "#changes",
          "#changes",
          "#changes",
          "#changes",
          "#changes",
          "#changes",
          "#changes",
          "#changes",
          "#changes",
          "#changes",
          "#changes",
          "#changes",
          "#changes",
          "#changes",
          "#changes",
          "#changes",
          "#changes",
          "#changes",
          "#changes",
          "#changes",
          "#changes",
          "#changes",
          "#changes",
          "#changes",
          "#changes",
          "#changes",
          "#changes",
          "count_sum",
          "count_sum",
          "count_sum",
          "count_sum",
          "count_sum",
          "count_sum",
          "count_sum",
          "count_sum",
          "count_sum",
          "count_sum",
          "count_sum",
          "count_sum",
          "count_sum",
          "count_sum",
          "count_sum",
          "count_sum",
          "count_sum",
          "count_sum",
          "count_sum",
          "count_sum",
          "count_sum",
          "count_sum",
          "count_sum",
          "count_sum",
          "count_sum",
          "count_sum",
          "count_sum",
          "count_sum",
          "count_sum",
          "count_sum",
          "count_sum",
          "count_sum",
          "count_sum",
          "count_sum",
          "count_sum",
          "count_sum",
          "count_sum",
          "count_sum",
          "count_sum",
          "count_sum",
          "count_sum",
          "count_sum",
          "count_sum",
          "count_sum",
          "count_sum",
          "count_sum",
          "count_sum",
          "count_sum",
          "count_sum",
          "count_sum",
          "count_sum",
          "A_030",
          "A_030",
          "A_030",
          "A_030",
          "A_030",
          "A_030",
          "A_030",
          "A_030",
          "A_030",
          "A_030",
          "A_030",
          "A_030",
          "A_030",
          "A_030",
          "A_030",
          "A_030",
          "A_030",
          "A_030",
          "A_030",
          "A_030",
          "A_030",
          "A_030",
          "A_030",
          "A_030",
          "A_030",
          "A_030",
          "A_030",
          "A_030",
          "A_030",
          "A_030",
          "A_030",
          "A_030",
          "A_030",
          "A_030",
          "A_030",
          "A_030",
          "A_030",
          "A_030",
          "A_030",
          "A_030",
          "A_030",
          "A_030",
          "A_030",
          "A_030",
          "A_030",
          "A_030",
          "A_030",
          "A_030",
          "A_030",
          "A_030",
          "A_030"
         ],
         "yaxis": "y"
        }
       ],
       "layout": {
        "coloraxis": {
         "colorbar": {
          "title": {
           "text": "quantile"
          }
         },
         "colorscale": [
          [
           0,
           "midnightblue"
          ],
          [
           0.5,
           "lightskyblue"
          ],
          [
           1,
           "limegreen"
          ]
         ]
        },
        "legend": {
         "itemsizing": "constant",
         "tracegroupgap": 0
        },
        "shapes": [
         {
          "line": {
           "color": "red",
           "dash": "dash",
           "width": 2
          },
          "type": "line",
          "x0": 0.5024434256642443,
          "x1": 0.5024434256642443,
          "y0": "A_020",
          "y1": "A_030"
         },
         {
          "line": {
           "color": "black",
           "dash": "solid",
           "width": 2
          },
          "type": "line",
          "x0": 0.5,
          "x1": 0.5,
          "y0": "A_020",
          "y1": "A_030"
         }
        ],
        "template": {
         "data": {
          "bar": [
           {
            "error_x": {
             "color": "#2a3f5f"
            },
            "error_y": {
             "color": "#2a3f5f"
            },
            "marker": {
             "line": {
              "color": "#E5ECF6",
              "width": 0.5
             },
             "pattern": {
              "fillmode": "overlay",
              "size": 10,
              "solidity": 0.2
             }
            },
            "type": "bar"
           }
          ],
          "barpolar": [
           {
            "marker": {
             "line": {
              "color": "#E5ECF6",
              "width": 0.5
             },
             "pattern": {
              "fillmode": "overlay",
              "size": 10,
              "solidity": 0.2
             }
            },
            "type": "barpolar"
           }
          ],
          "carpet": [
           {
            "aaxis": {
             "endlinecolor": "#2a3f5f",
             "gridcolor": "white",
             "linecolor": "white",
             "minorgridcolor": "white",
             "startlinecolor": "#2a3f5f"
            },
            "baxis": {
             "endlinecolor": "#2a3f5f",
             "gridcolor": "white",
             "linecolor": "white",
             "minorgridcolor": "white",
             "startlinecolor": "#2a3f5f"
            },
            "type": "carpet"
           }
          ],
          "choropleth": [
           {
            "colorbar": {
             "outlinewidth": 0,
             "ticks": ""
            },
            "type": "choropleth"
           }
          ],
          "contour": [
           {
            "colorbar": {
             "outlinewidth": 0,
             "ticks": ""
            },
            "colorscale": [
             [
              0,
              "#0d0887"
             ],
             [
              0.1111111111111111,
              "#46039f"
             ],
             [
              0.2222222222222222,
              "#7201a8"
             ],
             [
              0.3333333333333333,
              "#9c179e"
             ],
             [
              0.4444444444444444,
              "#bd3786"
             ],
             [
              0.5555555555555556,
              "#d8576b"
             ],
             [
              0.6666666666666666,
              "#ed7953"
             ],
             [
              0.7777777777777778,
              "#fb9f3a"
             ],
             [
              0.8888888888888888,
              "#fdca26"
             ],
             [
              1,
              "#f0f921"
             ]
            ],
            "type": "contour"
           }
          ],
          "contourcarpet": [
           {
            "colorbar": {
             "outlinewidth": 0,
             "ticks": ""
            },
            "type": "contourcarpet"
           }
          ],
          "heatmap": [
           {
            "colorbar": {
             "outlinewidth": 0,
             "ticks": ""
            },
            "colorscale": [
             [
              0,
              "#0d0887"
             ],
             [
              0.1111111111111111,
              "#46039f"
             ],
             [
              0.2222222222222222,
              "#7201a8"
             ],
             [
              0.3333333333333333,
              "#9c179e"
             ],
             [
              0.4444444444444444,
              "#bd3786"
             ],
             [
              0.5555555555555556,
              "#d8576b"
             ],
             [
              0.6666666666666666,
              "#ed7953"
             ],
             [
              0.7777777777777778,
              "#fb9f3a"
             ],
             [
              0.8888888888888888,
              "#fdca26"
             ],
             [
              1,
              "#f0f921"
             ]
            ],
            "type": "heatmap"
           }
          ],
          "heatmapgl": [
           {
            "colorbar": {
             "outlinewidth": 0,
             "ticks": ""
            },
            "colorscale": [
             [
              0,
              "#0d0887"
             ],
             [
              0.1111111111111111,
              "#46039f"
             ],
             [
              0.2222222222222222,
              "#7201a8"
             ],
             [
              0.3333333333333333,
              "#9c179e"
             ],
             [
              0.4444444444444444,
              "#bd3786"
             ],
             [
              0.5555555555555556,
              "#d8576b"
             ],
             [
              0.6666666666666666,
              "#ed7953"
             ],
             [
              0.7777777777777778,
              "#fb9f3a"
             ],
             [
              0.8888888888888888,
              "#fdca26"
             ],
             [
              1,
              "#f0f921"
             ]
            ],
            "type": "heatmapgl"
           }
          ],
          "histogram": [
           {
            "marker": {
             "pattern": {
              "fillmode": "overlay",
              "size": 10,
              "solidity": 0.2
             }
            },
            "type": "histogram"
           }
          ],
          "histogram2d": [
           {
            "colorbar": {
             "outlinewidth": 0,
             "ticks": ""
            },
            "colorscale": [
             [
              0,
              "#0d0887"
             ],
             [
              0.1111111111111111,
              "#46039f"
             ],
             [
              0.2222222222222222,
              "#7201a8"
             ],
             [
              0.3333333333333333,
              "#9c179e"
             ],
             [
              0.4444444444444444,
              "#bd3786"
             ],
             [
              0.5555555555555556,
              "#d8576b"
             ],
             [
              0.6666666666666666,
              "#ed7953"
             ],
             [
              0.7777777777777778,
              "#fb9f3a"
             ],
             [
              0.8888888888888888,
              "#fdca26"
             ],
             [
              1,
              "#f0f921"
             ]
            ],
            "type": "histogram2d"
           }
          ],
          "histogram2dcontour": [
           {
            "colorbar": {
             "outlinewidth": 0,
             "ticks": ""
            },
            "colorscale": [
             [
              0,
              "#0d0887"
             ],
             [
              0.1111111111111111,
              "#46039f"
             ],
             [
              0.2222222222222222,
              "#7201a8"
             ],
             [
              0.3333333333333333,
              "#9c179e"
             ],
             [
              0.4444444444444444,
              "#bd3786"
             ],
             [
              0.5555555555555556,
              "#d8576b"
             ],
             [
              0.6666666666666666,
              "#ed7953"
             ],
             [
              0.7777777777777778,
              "#fb9f3a"
             ],
             [
              0.8888888888888888,
              "#fdca26"
             ],
             [
              1,
              "#f0f921"
             ]
            ],
            "type": "histogram2dcontour"
           }
          ],
          "mesh3d": [
           {
            "colorbar": {
             "outlinewidth": 0,
             "ticks": ""
            },
            "type": "mesh3d"
           }
          ],
          "parcoords": [
           {
            "line": {
             "colorbar": {
              "outlinewidth": 0,
              "ticks": ""
             }
            },
            "type": "parcoords"
           }
          ],
          "pie": [
           {
            "automargin": true,
            "type": "pie"
           }
          ],
          "scatter": [
           {
            "fillpattern": {
             "fillmode": "overlay",
             "size": 10,
             "solidity": 0.2
            },
            "type": "scatter"
           }
          ],
          "scatter3d": [
           {
            "line": {
             "colorbar": {
              "outlinewidth": 0,
              "ticks": ""
             }
            },
            "marker": {
             "colorbar": {
              "outlinewidth": 0,
              "ticks": ""
             }
            },
            "type": "scatter3d"
           }
          ],
          "scattercarpet": [
           {
            "marker": {
             "colorbar": {
              "outlinewidth": 0,
              "ticks": ""
             }
            },
            "type": "scattercarpet"
           }
          ],
          "scattergeo": [
           {
            "marker": {
             "colorbar": {
              "outlinewidth": 0,
              "ticks": ""
             }
            },
            "type": "scattergeo"
           }
          ],
          "scattergl": [
           {
            "marker": {
             "colorbar": {
              "outlinewidth": 0,
              "ticks": ""
             }
            },
            "type": "scattergl"
           }
          ],
          "scattermapbox": [
           {
            "marker": {
             "colorbar": {
              "outlinewidth": 0,
              "ticks": ""
             }
            },
            "type": "scattermapbox"
           }
          ],
          "scatterpolar": [
           {
            "marker": {
             "colorbar": {
              "outlinewidth": 0,
              "ticks": ""
             }
            },
            "type": "scatterpolar"
           }
          ],
          "scatterpolargl": [
           {
            "marker": {
             "colorbar": {
              "outlinewidth": 0,
              "ticks": ""
             }
            },
            "type": "scatterpolargl"
           }
          ],
          "scatterternary": [
           {
            "marker": {
             "colorbar": {
              "outlinewidth": 0,
              "ticks": ""
             }
            },
            "type": "scatterternary"
           }
          ],
          "surface": [
           {
            "colorbar": {
             "outlinewidth": 0,
             "ticks": ""
            },
            "colorscale": [
             [
              0,
              "#0d0887"
             ],
             [
              0.1111111111111111,
              "#46039f"
             ],
             [
              0.2222222222222222,
              "#7201a8"
             ],
             [
              0.3333333333333333,
              "#9c179e"
             ],
             [
              0.4444444444444444,
              "#bd3786"
             ],
             [
              0.5555555555555556,
              "#d8576b"
             ],
             [
              0.6666666666666666,
              "#ed7953"
             ],
             [
              0.7777777777777778,
              "#fb9f3a"
             ],
             [
              0.8888888888888888,
              "#fdca26"
             ],
             [
              1,
              "#f0f921"
             ]
            ],
            "type": "surface"
           }
          ],
          "table": [
           {
            "cells": {
             "fill": {
              "color": "#EBF0F8"
             },
             "line": {
              "color": "white"
             }
            },
            "header": {
             "fill": {
              "color": "#C8D4E3"
             },
             "line": {
              "color": "white"
             }
            },
            "type": "table"
           }
          ]
         },
         "layout": {
          "annotationdefaults": {
           "arrowcolor": "#2a3f5f",
           "arrowhead": 0,
           "arrowwidth": 1
          },
          "autotypenumbers": "strict",
          "coloraxis": {
           "colorbar": {
            "outlinewidth": 0,
            "ticks": ""
           }
          },
          "colorscale": {
           "diverging": [
            [
             0,
             "#8e0152"
            ],
            [
             0.1,
             "#c51b7d"
            ],
            [
             0.2,
             "#de77ae"
            ],
            [
             0.3,
             "#f1b6da"
            ],
            [
             0.4,
             "#fde0ef"
            ],
            [
             0.5,
             "#f7f7f7"
            ],
            [
             0.6,
             "#e6f5d0"
            ],
            [
             0.7,
             "#b8e186"
            ],
            [
             0.8,
             "#7fbc41"
            ],
            [
             0.9,
             "#4d9221"
            ],
            [
             1,
             "#276419"
            ]
           ],
           "sequential": [
            [
             0,
             "#0d0887"
            ],
            [
             0.1111111111111111,
             "#46039f"
            ],
            [
             0.2222222222222222,
             "#7201a8"
            ],
            [
             0.3333333333333333,
             "#9c179e"
            ],
            [
             0.4444444444444444,
             "#bd3786"
            ],
            [
             0.5555555555555556,
             "#d8576b"
            ],
            [
             0.6666666666666666,
             "#ed7953"
            ],
            [
             0.7777777777777778,
             "#fb9f3a"
            ],
            [
             0.8888888888888888,
             "#fdca26"
            ],
            [
             1,
             "#f0f921"
            ]
           ],
           "sequentialminus": [
            [
             0,
             "#0d0887"
            ],
            [
             0.1111111111111111,
             "#46039f"
            ],
            [
             0.2222222222222222,
             "#7201a8"
            ],
            [
             0.3333333333333333,
             "#9c179e"
            ],
            [
             0.4444444444444444,
             "#bd3786"
            ],
            [
             0.5555555555555556,
             "#d8576b"
            ],
            [
             0.6666666666666666,
             "#ed7953"
            ],
            [
             0.7777777777777778,
             "#fb9f3a"
            ],
            [
             0.8888888888888888,
             "#fdca26"
            ],
            [
             1,
             "#f0f921"
            ]
           ]
          },
          "colorway": [
           "#636efa",
           "#EF553B",
           "#00cc96",
           "#ab63fa",
           "#FFA15A",
           "#19d3f3",
           "#FF6692",
           "#B6E880",
           "#FF97FF",
           "#FECB52"
          ],
          "font": {
           "color": "#2a3f5f"
          },
          "geo": {
           "bgcolor": "white",
           "lakecolor": "white",
           "landcolor": "#E5ECF6",
           "showlakes": true,
           "showland": true,
           "subunitcolor": "white"
          },
          "hoverlabel": {
           "align": "left"
          },
          "hovermode": "closest",
          "mapbox": {
           "style": "light"
          },
          "paper_bgcolor": "white",
          "plot_bgcolor": "#E5ECF6",
          "polar": {
           "angularaxis": {
            "gridcolor": "white",
            "linecolor": "white",
            "ticks": ""
           },
           "bgcolor": "#E5ECF6",
           "radialaxis": {
            "gridcolor": "white",
            "linecolor": "white",
            "ticks": ""
           }
          },
          "scene": {
           "xaxis": {
            "backgroundcolor": "#E5ECF6",
            "gridcolor": "white",
            "gridwidth": 2,
            "linecolor": "white",
            "showbackground": true,
            "ticks": "",
            "zerolinecolor": "white"
           },
           "yaxis": {
            "backgroundcolor": "#E5ECF6",
            "gridcolor": "white",
            "gridwidth": 2,
            "linecolor": "white",
            "showbackground": true,
            "ticks": "",
            "zerolinecolor": "white"
           },
           "zaxis": {
            "backgroundcolor": "#E5ECF6",
            "gridcolor": "white",
            "gridwidth": 2,
            "linecolor": "white",
            "showbackground": true,
            "ticks": "",
            "zerolinecolor": "white"
           }
          },
          "shapedefaults": {
           "line": {
            "color": "#2a3f5f"
           }
          },
          "ternary": {
           "aaxis": {
            "gridcolor": "white",
            "linecolor": "white",
            "ticks": ""
           },
           "baxis": {
            "gridcolor": "white",
            "linecolor": "white",
            "ticks": ""
           },
           "bgcolor": "#E5ECF6",
           "caxis": {
            "gridcolor": "white",
            "linecolor": "white",
            "ticks": ""
           }
          },
          "title": {
           "x": 0.05
          },
          "xaxis": {
           "automargin": true,
           "gridcolor": "white",
           "linecolor": "white",
           "ticks": "",
           "title": {
            "standoff": 15
           },
           "zerolinecolor": "white",
           "zerolinewidth": 2
          },
          "yaxis": {
           "automargin": true,
           "gridcolor": "white",
           "linecolor": "white",
           "ticks": "",
           "title": {
            "standoff": 15
           },
           "zerolinecolor": "white",
           "zerolinewidth": 2
          }
         }
        },
        "title": {
         "text": "Local AcME: observation ID 18429. Predicted: 0.502",
         "x": 0.5,
         "xanchor": "center",
         "y": 0.9,
         "yanchor": "top"
        },
        "xaxis": {
         "anchor": "y",
         "domain": [
          0,
          1
         ],
         "title": {
          "text": "predict"
         }
        },
        "yaxis": {
         "anchor": "x",
         "domain": [
          0,
          1
         ],
         "title": {
          "text": "feature"
         }
        }
       }
      }
     },
     "metadata": {},
     "output_type": "display_data"
    },
    {
     "name": "stdout",
     "output_type": "stream",
     "text": [
      "Equipment  5\n",
      "Using default weights for anomaly detection feature importance\n"
     ]
    },
    {
     "data": {
      "application/vnd.plotly.v1+json": {
       "config": {
        "plotlyServerURL": "https://plot.ly"
       },
       "data": [
        {
         "customdata": [
          [
           0.7716
          ],
          [
           0.7592
          ],
          [
           0.7442
          ],
          [
           0.7355
          ],
          [
           0.7261
          ],
          [
           0.7096
          ],
          [
           0.6927
          ],
          [
           0.6709
          ],
          [
           0.6497
          ],
          [
           0.6287
          ],
          [
           0.0858
          ],
          [
           0.574
          ],
          [
           0.5446
          ],
          [
           0.4989
          ],
          [
           0.4522
          ],
          [
           0.412
          ],
          [
           0.3597
          ],
          [
           0.3121
          ],
          [
           0.2589
          ],
          [
           0.1864
          ],
          [
           0.1044
          ],
          [
           0.784
          ],
          [
           0.6035
          ],
          [
           0.798
          ],
          [
           0.9244
          ],
          [
           0.8335
          ],
          [
           0.992
          ],
          [
           0.9884
          ],
          [
           0.9845
          ],
          [
           0.9799
          ],
          [
           0.9754
          ],
          [
           0.97
          ],
          [
           0.9651
          ],
          [
           0.9602
          ],
          [
           0.9541
          ],
          [
           0.9488
          ],
          [
           0.9429
          ],
          [
           0.9375
          ],
          [
           0.9303
          ],
          [
           0.918
          ],
          [
           0.9116
          ],
          [
           0.9051
          ],
          [
           0.8979
          ],
          [
           0.8899
          ],
          [
           0.8817
          ],
          [
           0.8744
          ],
          [
           0.8652
          ],
          [
           0.8549
          ],
          [
           0.8453
          ],
          [
           0.8101
          ],
          [
           0.8233
          ],
          [
           1
          ],
          [
           19
          ],
          [
           13
          ],
          [
           14
          ],
          [
           14
          ],
          [
           15.3698
          ],
          [
           16
          ],
          [
           16
          ],
          [
           17
          ],
          [
           18
          ],
          [
           18
          ],
          [
           20
          ],
          [
           13
          ],
          [
           21
          ],
          [
           23
          ],
          [
           24
          ],
          [
           25
          ],
          [
           27
          ],
          [
           29
          ],
          [
           31
          ],
          [
           33.075
          ],
          [
           36
          ],
          [
           41
          ],
          [
           54
          ],
          [
           22
          ],
          [
           12
          ],
          [
           15
          ],
          [
           11
          ],
          [
           1
          ],
          [
           2
          ],
          [
           3
          ],
          [
           3
          ],
          [
           3
          ],
          [
           4
          ],
          [
           4
          ],
          [
           12
          ],
          [
           5
          ],
          [
           5
          ],
          [
           6
          ],
          [
           6
          ],
          [
           5
          ],
          [
           11
          ],
          [
           7
          ],
          [
           7
          ],
          [
           8
          ],
          [
           8
          ],
          [
           9
          ],
          [
           9
          ],
          [
           10
          ],
          [
           10
          ],
          [
           7
          ],
          [
           0
          ],
          [
           0
          ],
          [
           0
          ],
          [
           0
          ],
          [
           0
          ],
          [
           0
          ],
          [
           0
          ],
          [
           0
          ],
          [
           0
          ],
          [
           0
          ],
          [
           0
          ],
          [
           0
          ],
          [
           0
          ],
          [
           0
          ],
          [
           0
          ],
          [
           0
          ],
          [
           0
          ],
          [
           0
          ],
          [
           0
          ],
          [
           0
          ],
          [
           0
          ],
          [
           0
          ],
          [
           0
          ],
          [
           0
          ],
          [
           0
          ],
          [
           0
          ],
          [
           0
          ],
          [
           0.006
          ],
          [
           0
          ],
          [
           0
          ],
          [
           0
          ],
          [
           0
          ],
          [
           0
          ],
          [
           0
          ],
          [
           0
          ],
          [
           0
          ],
          [
           0
          ],
          [
           0
          ],
          [
           0
          ],
          [
           0
          ],
          [
           0
          ],
          [
           0
          ],
          [
           0
          ],
          [
           0
          ],
          [
           0
          ],
          [
           0.0204
          ],
          [
           0
          ],
          [
           0
          ],
          [
           0
          ],
          [
           0
          ],
          [
           0
          ],
          [
           0
          ],
          [
           0
          ],
          [
           0
          ],
          [
           0
          ],
          [
           0
          ],
          [
           0
          ],
          [
           0
          ],
          [
           0
          ],
          [
           0
          ],
          [
           0
          ],
          [
           0
          ],
          [
           0
          ],
          [
           0
          ],
          [
           0
          ],
          [
           0
          ],
          [
           0
          ],
          [
           0
          ],
          [
           0
          ],
          [
           0
          ],
          [
           0
          ],
          [
           0
          ],
          [
           0
          ],
          [
           0
          ],
          [
           0
          ],
          [
           0
          ],
          [
           0
          ],
          [
           1.2463
          ],
          [
           0
          ],
          [
           13
          ],
          [
           7
          ],
          [
           6
          ],
          [
           5
          ],
          [
           4
          ],
          [
           4
          ],
          [
           3
          ],
          [
           2
          ],
          [
           2
          ],
          [
           2
          ],
          [
           2
          ],
          [
           3
          ],
          [
           1
          ],
          [
           1
          ],
          [
           0
          ],
          [
           0
          ],
          [
           0
          ],
          [
           0
          ],
          [
           0
          ],
          [
           1
          ],
          [
           1
          ],
          [
           1
          ],
          [
           1
          ],
          [
           5
          ],
          [
           3
          ],
          [
           3
          ],
          [
           4
          ],
          [
           4
          ],
          [
           4
          ],
          [
           4
          ],
          [
           4.3215
          ],
          [
           5
          ],
          [
           5
          ],
          [
           6
          ],
          [
           23
          ],
          [
           7
          ],
          [
           7
          ],
          [
           8
          ],
          [
           8
          ],
          [
           9
          ],
          [
           10
          ],
          [
           11
          ],
          [
           12
          ],
          [
           13
          ],
          [
           15
          ],
          [
           3
          ],
          [
           6
          ],
          [
           3
          ],
          [
           2
          ],
          [
           2
          ],
          [
           0
          ],
          [
           0
          ],
          [
           0
          ],
          [
           0
          ],
          [
           0
          ],
          [
           0
          ],
          [
           0
          ],
          [
           0
          ],
          [
           0
          ],
          [
           0
          ],
          [
           0
          ],
          [
           0
          ],
          [
           0
          ],
          [
           0
          ],
          [
           0
          ],
          [
           1
          ],
          [
           1
          ],
          [
           1
          ],
          [
           1
          ],
          [
           1
          ],
          [
           2
          ],
          [
           2
          ],
          [
           2
          ],
          [
           0
          ],
          [
           0
          ],
          [
           0
          ],
          [
           0
          ],
          [
           0
          ],
          [
           0
          ],
          [
           0
          ],
          [
           0
          ],
          [
           0
          ],
          [
           0
          ],
          [
           0
          ],
          [
           0
          ],
          [
           0
          ],
          [
           0
          ],
          [
           0
          ],
          [
           0
          ],
          [
           0
          ],
          [
           0
          ],
          [
           0
          ],
          [
           0
          ],
          [
           0
          ],
          [
           0
          ],
          [
           0
          ],
          [
           0
          ],
          [
           0
          ],
          [
           0
          ],
          [
           0
          ],
          [
           0.0352
          ],
          [
           0
          ],
          [
           0
          ],
          [
           0
          ],
          [
           0
          ],
          [
           0
          ],
          [
           0
          ],
          [
           0
          ],
          [
           0
          ],
          [
           0
          ],
          [
           0
          ],
          [
           0
          ],
          [
           0
          ],
          [
           0
          ],
          [
           0
          ],
          [
           0
          ],
          [
           0
          ],
          [
           0
          ],
          [
           0
          ],
          [
           0
          ],
          [
           0
          ],
          [
           0
          ],
          [
           0
          ],
          [
           0
          ],
          [
           1
          ],
          [
           1
          ],
          [
           1
          ],
          [
           1
          ],
          [
           1
          ],
          [
           1
          ],
          [
           1
          ],
          [
           1
          ],
          [
           1
          ],
          [
           1
          ],
          [
           1
          ],
          [
           1
          ],
          [
           1
          ],
          [
           1
          ],
          [
           1
          ],
          [
           1
          ],
          [
           1
          ],
          [
           1
          ],
          [
           1
          ],
          [
           1
          ],
          [
           0.9566
          ],
          [
           0
          ],
          [
           1
          ],
          [
           1
          ],
          [
           1
          ],
          [
           1
          ],
          [
           1
          ],
          [
           1
          ],
          [
           1
          ],
          [
           1
          ],
          [
           1
          ],
          [
           1
          ],
          [
           1
          ],
          [
           1
          ],
          [
           1
          ],
          [
           1
          ],
          [
           1
          ],
          [
           1
          ],
          [
           1
          ],
          [
           1
          ],
          [
           1
          ],
          [
           1
          ],
          [
           1
          ],
          [
           1
          ],
          [
           1
          ],
          [
           1
          ],
          [
           1
          ],
          [
           1
          ],
          [
           1
          ],
          [
           1
          ],
          [
           1
          ],
          [
           1
          ],
          [
           0
          ],
          [
           0
          ],
          [
           0
          ],
          [
           0
          ],
          [
           0
          ],
          [
           0
          ],
          [
           0
          ],
          [
           0
          ],
          [
           0
          ],
          [
           0
          ],
          [
           0
          ],
          [
           0
          ],
          [
           0
          ],
          [
           0
          ],
          [
           0
          ],
          [
           0
          ],
          [
           0
          ],
          [
           0
          ],
          [
           0
          ],
          [
           0
          ],
          [
           0
          ],
          [
           0
          ],
          [
           0
          ],
          [
           0
          ],
          [
           0
          ],
          [
           0
          ],
          [
           0
          ],
          [
           0
          ],
          [
           0
          ],
          [
           1
          ],
          [
           0.0339
          ],
          [
           0
          ],
          [
           0
          ],
          [
           0
          ],
          [
           0
          ],
          [
           0
          ],
          [
           0
          ],
          [
           0
          ],
          [
           0
          ],
          [
           0
          ],
          [
           0
          ],
          [
           0
          ],
          [
           0
          ],
          [
           0
          ],
          [
           0
          ],
          [
           0
          ],
          [
           0
          ],
          [
           0
          ],
          [
           0
          ],
          [
           0
          ],
          [
           0
          ],
          [
           0
          ],
          [
           0
          ],
          [
           0
          ],
          [
           0
          ],
          [
           0
          ],
          [
           0
          ],
          [
           0
          ],
          [
           0
          ],
          [
           0
          ],
          [
           0
          ],
          [
           0
          ],
          [
           0
          ],
          [
           0
          ],
          [
           0
          ],
          [
           0
          ],
          [
           0
          ],
          [
           0
          ],
          [
           0
          ],
          [
           0
          ],
          [
           0
          ],
          [
           0
          ],
          [
           0
          ],
          [
           0
          ],
          [
           0
          ],
          [
           0
          ],
          [
           0
          ],
          [
           0
          ],
          [
           0
          ],
          [
           0
          ],
          [
           0
          ],
          [
           0
          ],
          [
           0
          ],
          [
           0
          ],
          [
           0
          ],
          [
           0
          ],
          [
           0
          ],
          [
           0
          ],
          [
           0
          ],
          [
           0
          ],
          [
           0
          ],
          [
           0
          ],
          [
           0
          ],
          [
           0
          ],
          [
           0
          ],
          [
           0
          ],
          [
           0
          ],
          [
           0
          ],
          [
           0
          ],
          [
           0
          ],
          [
           1
          ],
          [
           0.012
          ],
          [
           0
          ],
          [
           0
          ],
          [
           0
          ],
          [
           0
          ],
          [
           0
          ],
          [
           0
          ],
          [
           0
          ],
          [
           0
          ],
          [
           0
          ],
          [
           0
          ],
          [
           0
          ],
          [
           0
          ],
          [
           0
          ],
          [
           0
          ],
          [
           0
          ],
          [
           0
          ],
          [
           0
          ],
          [
           0
          ],
          [
           0
          ],
          [
           0
          ],
          [
           0
          ],
          [
           0
          ],
          [
           0.0019
          ],
          [
           0
          ],
          [
           0
          ],
          [
           0
          ],
          [
           0
          ],
          [
           0
          ],
          [
           0
          ],
          [
           0
          ],
          [
           0
          ],
          [
           0
          ],
          [
           0
          ],
          [
           0
          ],
          [
           0
          ],
          [
           0
          ],
          [
           0
          ],
          [
           0
          ],
          [
           0
          ],
          [
           0
          ],
          [
           0
          ],
          [
           0
          ],
          [
           0
          ],
          [
           0
          ],
          [
           0
          ],
          [
           0
          ],
          [
           0
          ],
          [
           0
          ],
          [
           0
          ],
          [
           0
          ],
          [
           1
          ]
         ],
         "hovertemplate": "Feature: <b>%{y}</b><br><br>Predict: %{x}<br>Original value: %{customdata[0]}<br>Quantile: %{marker.color}",
         "legendgroup": "",
         "marker": {
          "color": [
           0.4062,
           0.3875,
           0.3687,
           0.3605,
           0.35,
           0.3312,
           0.3125,
           0.2938,
           0.275,
           0.2562,
           0.0447,
           0.2188,
           0.2,
           0.1813,
           0.1625,
           0.1438,
           0.125,
           0.1062,
           0.0875,
           0.0688,
           0.05,
           0.425,
           0.2375,
           0.4438,
           0.7062,
           0.5,
           0.95,
           0.9312,
           0.9125,
           0.8938,
           0.875,
           0.8562,
           0.8375,
           0.8188,
           0.8,
           0.7812,
           0.7625,
           0.7438,
           0.725,
           0.6875,
           0.6688,
           0.65,
           0.6312,
           0.6125,
           0.5938,
           0.575,
           0.5562,
           0.5375,
           0.5188,
           0.4625,
           0.4812,
           0.05,
           0.725,
           0.5562,
           0.575,
           0.5938,
           0.6302,
           0.6312,
           0.65,
           0.6688,
           0.6875,
           0.7062,
           0.7438,
           0.5375,
           0.7625,
           0.8,
           0.8188,
           0.8375,
           0.8562,
           0.875,
           0.8938,
           0.9125,
           0.9312,
           0.95,
           0.9805,
           0.7812,
           0.5188,
           0.6125,
           0.4812,
           0.0688,
           0.0875,
           0.1062,
           0.125,
           0.1438,
           0.1625,
           0.1813,
           0.5,
           0.2188,
           0.2375,
           0.2562,
           0.275,
           0.2,
           0.4625,
           0.3125,
           0.3312,
           0.35,
           0.3687,
           0.3875,
           0.4062,
           0.425,
           0.4438,
           0.2938,
           0.2938,
           0.3125,
           0.3312,
           0.35,
           0.4438,
           0.3875,
           0.4062,
           0.425,
           0.275,
           0.3687,
           0.2562,
           0.725,
           0.2188,
           0.2,
           0.1813,
           0.1625,
           0.1438,
           0.125,
           0.1062,
           0.0875,
           0.0688,
           0.05,
           0.4625,
           0.2375,
           0.4812,
           0.875,
           0.5188,
           0.9669,
           0.95,
           0.9312,
           0.9125,
           0.8938,
           0.8562,
           0.5,
           0.8188,
           0.8,
           0.7812,
           0.7625,
           0.8375,
           0.5375,
           0.7438,
           0.5562,
           0.575,
           0.5938,
           0.6125,
           0.9739,
           0.6312,
           0.65,
           0.6688,
           0.6875,
           0.7062,
           0.4438,
           0.425,
           0.4062,
           0.3875,
           0.3687,
           0.35,
           0.3312,
           0.3125,
           0.2938,
           0.275,
           0.4625,
           0.5188,
           0.2375,
           0.2188,
           0.2,
           0.1813,
           0.1625,
           0.1438,
           0.125,
           0.1062,
           0.0875,
           0.0688,
           0.05,
           0.4812,
           0.2562,
           0.5,
           0.7537,
           0.5375,
           0.9907,
           0.95,
           0.9312,
           0.9125,
           0.8938,
           0.875,
           0.8375,
           0.8188,
           0.8,
           0.7812,
           0.7625,
           0.8562,
           0.725,
           0.7438,
           0.575,
           0.5938,
           0.6125,
           0.6312,
           0.5562,
           0.6688,
           0.6875,
           0.7062,
           0.65,
           0.725,
           0.575,
           0.5938,
           0.6125,
           0.6312,
           0.65,
           0.6688,
           0.6785,
           0.6875,
           0.7062,
           0.7438,
           0.9846,
           0.7812,
           0.8,
           0.8188,
           0.8375,
           0.8562,
           0.875,
           0.8938,
           0.9125,
           0.9312,
           0.95,
           0.5562,
           0.7625,
           0.5375,
           0.5188,
           0.5,
           0.0688,
           0.0875,
           0.1062,
           0.125,
           0.1438,
           0.1625,
           0.1813,
           0.2,
           0.2188,
           0.2375,
           0.2562,
           0.05,
           0.2938,
           0.3125,
           0.3312,
           0.35,
           0.3687,
           0.3875,
           0.4062,
           0.425,
           0.4438,
           0.4625,
           0.4812,
           0.275,
           0.6875,
           0.6688,
           0.65,
           0.6312,
           0.5375,
           0.5938,
           0.575,
           0.5562,
           0.7062,
           0.6125,
           0.725,
           0.8375,
           0.7625,
           0.7812,
           0.8,
           0.8188,
           0.8562,
           0.875,
           0.8938,
           0.9125,
           0.9312,
           0.95,
           0.7438,
           0.5,
           0.5188,
           0.4625,
           0.9648,
           0.05,
           0.0688,
           0.0875,
           0.1062,
           0.125,
           0.1438,
           0.1625,
           0.1813,
           0.2,
           0.2188,
           0.2375,
           0.2562,
           0.275,
           0.2938,
           0.3125,
           0.3312,
           0.35,
           0.3687,
           0.3875,
           0.4062,
           0.425,
           0.4438,
           0.4812,
           0.9825,
           0.9312,
           0.875,
           0.35,
           0.3312,
           0.3125,
           0.2938,
           0.275,
           0.2562,
           0.2375,
           0.2188,
           0.2,
           0.1813,
           0.3687,
           0.8562,
           0.125,
           0.1062,
           0.0875,
           0.0688,
           0.05,
           0.0434,
           0.0218,
           0.8938,
           0.9125,
           0.95,
           0.1438,
           0.3875,
           0.1625,
           0.425,
           0.8375,
           0.4062,
           0.8,
           0.7812,
           0.7625,
           0.7438,
           0.725,
           0.7062,
           0.6875,
           0.6688,
           0.65,
           0.8188,
           0.6125,
           0.6312,
           0.4438,
           0.4812,
           0.5,
           0.4625,
           0.5375,
           0.5562,
           0.5938,
           0.575,
           0.5188,
           0.35,
           0.3687,
           0.3875,
           0.4062,
           0.4438,
           0.4625,
           0.3312,
           0.4812,
           0.5,
           0.5188,
           0.425,
           0.3125,
           0.2188,
           0.275,
           0.2562,
           0.2375,
           0.2,
           0.1813,
           0.1625,
           0.1438,
           0.125,
           0.1062,
           0.0875,
           0.05,
           0.2938,
           0.5375,
           0.0688,
           0.5938,
           0.5562,
           0.9831,
           0.9661,
           0.95,
           0.9312,
           0.9125,
           0.8938,
           0.875,
           0.8562,
           0.8375,
           0.8188,
           0.575,
           0.7812,
           0.7625,
           0.7438,
           0.725,
           0.7062,
           0.6875,
           0.6688,
           0.65,
           0.6312,
           0.6125,
           0.8,
           0.6875,
           0.6688,
           0.65,
           0.575,
           0.6125,
           0.5938,
           0.7062,
           0.6312,
           0.725,
           0.8188,
           0.7625,
           0.7812,
           0.8,
           0.5562,
           0.8375,
           0.8562,
           0.875,
           0.8938,
           0.9125,
           0.9312,
           0.95,
           0.7438,
           0.5375,
           0.425,
           0.5,
           0.05,
           0.0688,
           0.0875,
           0.1062,
           0.125,
           0.1438,
           0.1625,
           0.1813,
           0.2,
           0.2188,
           0.5188,
           0.2375,
           0.275,
           0.2938,
           0.3312,
           0.35,
           0.3687,
           0.3875,
           0.4062,
           0.4438,
           0.4625,
           0.4812,
           0.2562,
           0.3125,
           0.9915,
           0.988,
           0.5562,
           0.575,
           0.5938,
           0.6125,
           0.6312,
           0.65,
           0.6688,
           0.6875,
           0.7062,
           0.725,
           0.7438,
           0.05,
           0.7812,
           0.8,
           0.8188,
           0.8375,
           0.8562,
           0.875,
           0.8938,
           0.9125,
           0.9312,
           0.95,
           0.9981,
           0.5375,
           0.7625,
           0.5188,
           0.4812,
           0.0688,
           0.0875,
           0.1062,
           0.125,
           0.1438,
           0.1625,
           0.1813,
           0.2,
           0.2188,
           0.2375,
           0.5,
           0.2562,
           0.2938,
           0.3125,
           0.3312,
           0.35,
           0.3687,
           0.3875,
           0.4062,
           0.425,
           0.4438,
           0.4625,
           0.275,
           0.9992
          ],
          "coloraxis": "coloraxis",
          "size": [
           0.05,
           0.05,
           0.05,
           0.05,
           0.05,
           0.05,
           0.05,
           0.05,
           0.05,
           0.05,
           0.3,
           0.05,
           0.05,
           0.05,
           0.05,
           0.05,
           0.05,
           0.05,
           0.05,
           0.05,
           0.05,
           0.05,
           0.05,
           0.05,
           0.05,
           0.05,
           0.05,
           0.05,
           0.05,
           0.05,
           0.05,
           0.05,
           0.05,
           0.05,
           0.05,
           0.05,
           0.05,
           0.05,
           0.05,
           0.05,
           0.05,
           0.05,
           0.05,
           0.05,
           0.05,
           0.05,
           0.05,
           0.05,
           0.05,
           0.05,
           0.05,
           0.05,
           0.05,
           0.05,
           0.05,
           0.05,
           0.05,
           0.05,
           0.05,
           0.05,
           0.05,
           0.05,
           0.05,
           0.05,
           0.05,
           0.05,
           0.05,
           0.05,
           0.05,
           0.05,
           0.05,
           0.05,
           0.05,
           0.05,
           0.3,
           0.05,
           0.05,
           0.05,
           0.05,
           0.05,
           0.05,
           0.05,
           0.05,
           0.05,
           0.05,
           0.05,
           0.05,
           0.05,
           0.05,
           0.05,
           0.05,
           0.05,
           0.05,
           0.05,
           0.05,
           0.05,
           0.05,
           0.05,
           0.05,
           0.05,
           0.05,
           0.05,
           0.05,
           0.05,
           0.05,
           0.05,
           0.05,
           0.05,
           0.05,
           0.05,
           0.05,
           0.05,
           0.05,
           0.05,
           0.05,
           0.05,
           0.05,
           0.05,
           0.05,
           0.05,
           0.05,
           0.05,
           0.05,
           0.05,
           0.05,
           0.05,
           0.05,
           0.05,
           0.05,
           0.05,
           0.05,
           0.05,
           0.05,
           0.05,
           0.05,
           0.05,
           0.05,
           0.05,
           0.05,
           0.05,
           0.05,
           0.05,
           0.05,
           0.05,
           0.05,
           0.05,
           0.05,
           0.3,
           0.05,
           0.05,
           0.05,
           0.05,
           0.05,
           0.05,
           0.05,
           0.05,
           0.05,
           0.05,
           0.05,
           0.05,
           0.05,
           0.05,
           0.05,
           0.05,
           0.05,
           0.05,
           0.05,
           0.05,
           0.05,
           0.05,
           0.05,
           0.05,
           0.05,
           0.05,
           0.05,
           0.05,
           0.05,
           0.05,
           0.05,
           0.05,
           0.05,
           0.3,
           0.05,
           0.05,
           0.05,
           0.05,
           0.05,
           0.05,
           0.05,
           0.05,
           0.05,
           0.05,
           0.05,
           0.05,
           0.05,
           0.05,
           0.05,
           0.05,
           0.05,
           0.05,
           0.05,
           0.05,
           0.05,
           0.05,
           0.05,
           0.05,
           0.05,
           0.05,
           0.05,
           0.05,
           0.05,
           0.05,
           0.05,
           0.05,
           0.05,
           0.3,
           0.05,
           0.05,
           0.05,
           0.05,
           0.05,
           0.05,
           0.05,
           0.05,
           0.05,
           0.05,
           0.05,
           0.05,
           0.05,
           0.05,
           0.05,
           0.05,
           0.05,
           0.05,
           0.05,
           0.05,
           0.05,
           0.05,
           0.05,
           0.05,
           0.05,
           0.05,
           0.05,
           0.05,
           0.05,
           0.05,
           0.05,
           0.05,
           0.05,
           0.05,
           0.05,
           0.05,
           0.05,
           0.05,
           0.05,
           0.05,
           0.05,
           0.05,
           0.05,
           0.05,
           0.05,
           0.05,
           0.05,
           0.05,
           0.05,
           0.05,
           0.05,
           0.05,
           0.05,
           0.05,
           0.05,
           0.05,
           0.05,
           0.05,
           0.05,
           0.05,
           0.05,
           0.05,
           0.05,
           0.05,
           0.05,
           0.05,
           0.05,
           0.05,
           0.05,
           0.05,
           0.05,
           0.05,
           0.05,
           0.05,
           0.05,
           0.05,
           0.05,
           0.05,
           0.05,
           0.05,
           0.05,
           0.05,
           0.05,
           0.05,
           0.05,
           0.05,
           0.05,
           0.05,
           0.05,
           0.3,
           0.05,
           0.05,
           0.05,
           0.05,
           0.05,
           0.05,
           0.05,
           0.05,
           0.05,
           0.05,
           0.05,
           0.05,
           0.05,
           0.05,
           0.05,
           0.05,
           0.05,
           0.05,
           0.05,
           0.05,
           0.3,
           0.05,
           0.05,
           0.05,
           0.05,
           0.05,
           0.05,
           0.05,
           0.05,
           0.05,
           0.05,
           0.05,
           0.05,
           0.05,
           0.05,
           0.05,
           0.05,
           0.05,
           0.05,
           0.05,
           0.05,
           0.05,
           0.05,
           0.05,
           0.05,
           0.05,
           0.05,
           0.05,
           0.05,
           0.05,
           0.05,
           0.05,
           0.05,
           0.05,
           0.05,
           0.05,
           0.05,
           0.05,
           0.05,
           0.05,
           0.05,
           0.05,
           0.05,
           0.05,
           0.05,
           0.05,
           0.05,
           0.05,
           0.05,
           0.05,
           0.05,
           0.05,
           0.05,
           0.05,
           0.05,
           0.05,
           0.05,
           0.05,
           0.05,
           0.05,
           0.3,
           0.05,
           0.05,
           0.05,
           0.05,
           0.05,
           0.05,
           0.05,
           0.05,
           0.05,
           0.05,
           0.05,
           0.05,
           0.05,
           0.05,
           0.05,
           0.05,
           0.05,
           0.05,
           0.05,
           0.05,
           0.05,
           0.05,
           0.05,
           0.05,
           0.05,
           0.05,
           0.05,
           0.05,
           0.05,
           0.05,
           0.05,
           0.05,
           0.05,
           0.05,
           0.05,
           0.05,
           0.05,
           0.05,
           0.05,
           0.05,
           0.05,
           0.05,
           0.05,
           0.05,
           0.05,
           0.05,
           0.05,
           0.05,
           0.05,
           0.05,
           0.05,
           0.05,
           0.05,
           0.05,
           0.05,
           0.05,
           0.05,
           0.05,
           0.05,
           0.05,
           0.05,
           0.05,
           0.05,
           0.05,
           0.05,
           0.05,
           0.05,
           0.05,
           0.05,
           0.05,
           0.3,
           0.05,
           0.05,
           0.05,
           0.05,
           0.05,
           0.05,
           0.05,
           0.05,
           0.05,
           0.05,
           0.05,
           0.05,
           0.05,
           0.05,
           0.05,
           0.05,
           0.05,
           0.05,
           0.05,
           0.05,
           0.05,
           0.05,
           0.05,
           0.05,
           0.05,
           0.05,
           0.05,
           0.05,
           0.05,
           0.05,
           0.05,
           0.05,
           0.05,
           0.05,
           0.05,
           0.05,
           0.05,
           0.05,
           0.05,
           0.05,
           0.05,
           0.05,
           0.05,
           0.05,
           0.05,
           0.05,
           0.05,
           0.05,
           0.05,
           0.05,
           0.05,
           0.3
          ],
          "sizemode": "area",
          "sizeref": 0.00075,
          "symbol": "circle"
         },
         "mode": "markers",
         "name": "",
         "orientation": "h",
         "showlegend": false,
         "type": "scatter",
         "x": [
          0.5005,
          0.5005,
          0.5005,
          0.5005,
          0.5005,
          0.5007,
          0.5007,
          0.5007,
          0.5007,
          0.5007,
          0.5051,
          0.5007,
          0.5012,
          0.5012,
          0.5024,
          0.5034,
          0.5034,
          0.5051,
          0.5051,
          0.5043,
          0.506,
          0.5005,
          0.5007,
          0.5005,
          0.5004,
          0.5004,
          0.5004,
          0.5004,
          0.5004,
          0.5004,
          0.5004,
          0.5004,
          0.5004,
          0.5004,
          0.5004,
          0.5004,
          0.5004,
          0.5004,
          0.5004,
          0.5004,
          0.5004,
          0.5004,
          0.5004,
          0.5004,
          0.5004,
          0.5004,
          0.5004,
          0.5004,
          0.5004,
          0.5004,
          0.5004,
          0.5052,
          0.502,
          0.5015,
          0.5015,
          0.5015,
          0.502,
          0.502,
          0.502,
          0.502,
          0.502,
          0.502,
          0.502,
          0.5015,
          0.502,
          0.502,
          0.5024,
          0.5024,
          0.5024,
          0.5024,
          0.5024,
          0.5024,
          0.5025,
          0.5034,
          0.5051,
          0.502,
          0.5015,
          0.5013,
          0.5016,
          0.5052,
          0.5042,
          0.5035,
          0.5035,
          0.5035,
          0.5035,
          0.5035,
          0.5015,
          0.5035,
          0.5035,
          0.5035,
          0.5035,
          0.5035,
          0.5016,
          0.5022,
          0.5022,
          0.5019,
          0.5019,
          0.5019,
          0.5019,
          0.5019,
          0.5019,
          0.5022,
          0.505,
          0.505,
          0.505,
          0.505,
          0.505,
          0.505,
          0.505,
          0.505,
          0.505,
          0.505,
          0.505,
          0.505,
          0.505,
          0.505,
          0.505,
          0.505,
          0.505,
          0.505,
          0.505,
          0.505,
          0.505,
          0.505,
          0.505,
          0.505,
          0.505,
          0.505,
          0.505,
          0.505,
          0.505,
          0.505,
          0.505,
          0.505,
          0.505,
          0.505,
          0.505,
          0.505,
          0.505,
          0.505,
          0.505,
          0.505,
          0.505,
          0.505,
          0.505,
          0.505,
          0.505,
          0.5051,
          0.505,
          0.505,
          0.505,
          0.505,
          0.505,
          0.4993,
          0.4993,
          0.4993,
          0.4993,
          0.4993,
          0.4993,
          0.4993,
          0.4993,
          0.4993,
          0.4993,
          0.4993,
          0.4993,
          0.4993,
          0.4993,
          0.4993,
          0.4993,
          0.4993,
          0.4993,
          0.4993,
          0.4993,
          0.4993,
          0.4993,
          0.4993,
          0.4993,
          0.4993,
          0.4993,
          0.4994,
          0.4993,
          0.5051,
          0.5003,
          0.5001,
          0.5001,
          0.5001,
          0.5001,
          0.4988,
          0.4984,
          0.4984,
          0.4984,
          0.4984,
          0.4988,
          0.4994,
          0.4994,
          0.4993,
          0.4993,
          0.4993,
          0.4993,
          0.4993,
          0.4994,
          0.4994,
          0.4994,
          0.4994,
          0.4989,
          0.4987,
          0.4987,
          0.4989,
          0.4989,
          0.4989,
          0.4989,
          0.4989,
          0.4989,
          0.4989,
          0.4989,
          0.5051,
          0.4994,
          0.4994,
          0.4994,
          0.4994,
          0.4994,
          0.4998,
          0.4998,
          0.4998,
          0.4998,
          0.5002,
          0.4987,
          0.4989,
          0.4987,
          0.4994,
          0.4994,
          0.4994,
          0.4994,
          0.4994,
          0.4994,
          0.4994,
          0.4994,
          0.4994,
          0.4994,
          0.4994,
          0.4994,
          0.4994,
          0.4994,
          0.4994,
          0.4994,
          0.4994,
          0.4994,
          0.4994,
          0.4994,
          0.4994,
          0.4994,
          0.4994,
          0.4994,
          0.4994,
          0.4994,
          0.4952,
          0.4952,
          0.4952,
          0.4952,
          0.4952,
          0.4952,
          0.4952,
          0.4952,
          0.4952,
          0.4952,
          0.4952,
          0.4952,
          0.4952,
          0.4952,
          0.4952,
          0.4952,
          0.4952,
          0.4952,
          0.4952,
          0.4952,
          0.4952,
          0.4952,
          0.4952,
          0.4952,
          0.4952,
          0.4952,
          0.4952,
          0.4952,
          0.4952,
          0.4952,
          0.4952,
          0.4952,
          0.4952,
          0.4952,
          0.4952,
          0.4952,
          0.4952,
          0.4952,
          0.4952,
          0.4952,
          0.4952,
          0.4952,
          0.4952,
          0.4952,
          0.4952,
          0.4952,
          0.4952,
          0.4952,
          0.4952,
          0.4952,
          0.5051,
          0.4894,
          0.4894,
          0.4894,
          0.4894,
          0.4894,
          0.4894,
          0.4894,
          0.4894,
          0.4894,
          0.4894,
          0.4894,
          0.4894,
          0.4894,
          0.4894,
          0.4894,
          0.4894,
          0.4894,
          0.4894,
          0.4894,
          0.4909,
          0.5051,
          0.4894,
          0.4894,
          0.4894,
          0.4894,
          0.4894,
          0.4894,
          0.4894,
          0.4894,
          0.4894,
          0.4894,
          0.4894,
          0.4894,
          0.4894,
          0.4894,
          0.4894,
          0.4894,
          0.4894,
          0.4894,
          0.4894,
          0.4894,
          0.4894,
          0.4894,
          0.4894,
          0.4894,
          0.4894,
          0.4894,
          0.4894,
          0.4894,
          0.4894,
          0.4894,
          0.4908,
          0.4908,
          0.4908,
          0.4908,
          0.4908,
          0.4908,
          0.4908,
          0.4908,
          0.4908,
          0.4908,
          0.4908,
          0.4908,
          0.4908,
          0.4908,
          0.4908,
          0.4908,
          0.4908,
          0.4908,
          0.4908,
          0.4908,
          0.4908,
          0.4908,
          0.4908,
          0.4908,
          0.4908,
          0.4908,
          0.4908,
          0.4908,
          0.4908,
          0.5051,
          0.4908,
          0.4908,
          0.4908,
          0.4908,
          0.4908,
          0.4908,
          0.4908,
          0.4908,
          0.4908,
          0.4908,
          0.4908,
          0.4908,
          0.4908,
          0.4908,
          0.4908,
          0.4908,
          0.4908,
          0.4908,
          0.4908,
          0.4908,
          0.4908,
          0.4906,
          0.4906,
          0.4906,
          0.4906,
          0.4906,
          0.4906,
          0.4906,
          0.4906,
          0.4906,
          0.4906,
          0.4906,
          0.4906,
          0.4906,
          0.4906,
          0.4906,
          0.4906,
          0.4906,
          0.4906,
          0.4906,
          0.4906,
          0.4906,
          0.4906,
          0.4906,
          0.4906,
          0.4906,
          0.4906,
          0.4906,
          0.4906,
          0.4906,
          0.4906,
          0.4906,
          0.4906,
          0.4906,
          0.4906,
          0.4906,
          0.4906,
          0.4906,
          0.4906,
          0.4906,
          0.4906,
          0.4906,
          0.4906,
          0.4906,
          0.4906,
          0.4906,
          0.4906,
          0.4906,
          0.4906,
          0.4906,
          0.5051,
          0.4906,
          0.4908,
          0.4908,
          0.4908,
          0.4908,
          0.4908,
          0.4908,
          0.4908,
          0.4908,
          0.4908,
          0.4908,
          0.4908,
          0.4908,
          0.4908,
          0.4908,
          0.4908,
          0.4908,
          0.4908,
          0.4908,
          0.4908,
          0.4908,
          0.4908,
          0.4908,
          0.4908,
          0.4908,
          0.4908,
          0.4908,
          0.4908,
          0.4908,
          0.4908,
          0.4908,
          0.4908,
          0.4908,
          0.4908,
          0.4908,
          0.4908,
          0.4908,
          0.4908,
          0.4908,
          0.4908,
          0.4908,
          0.4908,
          0.4908,
          0.4908,
          0.4908,
          0.4908,
          0.4908,
          0.4908,
          0.4908,
          0.4908,
          0.4908,
          0.5051
         ],
         "xaxis": "x",
         "y": [
          "%production",
          "%production",
          "%production",
          "%production",
          "%production",
          "%production",
          "%production",
          "%production",
          "%production",
          "%production",
          "%production",
          "%production",
          "%production",
          "%production",
          "%production",
          "%production",
          "%production",
          "%production",
          "%production",
          "%production",
          "%production",
          "%production",
          "%production",
          "%production",
          "%production",
          "%production",
          "%production",
          "%production",
          "%production",
          "%production",
          "%production",
          "%production",
          "%production",
          "%production",
          "%production",
          "%production",
          "%production",
          "%production",
          "%production",
          "%production",
          "%production",
          "%production",
          "%production",
          "%production",
          "%production",
          "%production",
          "%production",
          "%production",
          "%production",
          "%production",
          "%production",
          "#changes",
          "#changes",
          "#changes",
          "#changes",
          "#changes",
          "#changes",
          "#changes",
          "#changes",
          "#changes",
          "#changes",
          "#changes",
          "#changes",
          "#changes",
          "#changes",
          "#changes",
          "#changes",
          "#changes",
          "#changes",
          "#changes",
          "#changes",
          "#changes",
          "#changes",
          "#changes",
          "#changes",
          "#changes",
          "#changes",
          "#changes",
          "#changes",
          "#changes",
          "#changes",
          "#changes",
          "#changes",
          "#changes",
          "#changes",
          "#changes",
          "#changes",
          "#changes",
          "#changes",
          "#changes",
          "#changes",
          "#changes",
          "#changes",
          "#changes",
          "#changes",
          "#changes",
          "#changes",
          "#changes",
          "#changes",
          "#changes",
          "#changes",
          "#changes",
          "%scheduled_downtime",
          "%scheduled_downtime",
          "%scheduled_downtime",
          "%scheduled_downtime",
          "%scheduled_downtime",
          "%scheduled_downtime",
          "%scheduled_downtime",
          "%scheduled_downtime",
          "%scheduled_downtime",
          "%scheduled_downtime",
          "%scheduled_downtime",
          "%scheduled_downtime",
          "%scheduled_downtime",
          "%scheduled_downtime",
          "%scheduled_downtime",
          "%scheduled_downtime",
          "%scheduled_downtime",
          "%scheduled_downtime",
          "%scheduled_downtime",
          "%scheduled_downtime",
          "%scheduled_downtime",
          "%scheduled_downtime",
          "%scheduled_downtime",
          "%scheduled_downtime",
          "%scheduled_downtime",
          "%scheduled_downtime",
          "%scheduled_downtime",
          "%scheduled_downtime",
          "%scheduled_downtime",
          "%scheduled_downtime",
          "%scheduled_downtime",
          "%scheduled_downtime",
          "%scheduled_downtime",
          "%scheduled_downtime",
          "%scheduled_downtime",
          "%scheduled_downtime",
          "%scheduled_downtime",
          "%scheduled_downtime",
          "%scheduled_downtime",
          "%scheduled_downtime",
          "%scheduled_downtime",
          "%scheduled_downtime",
          "%scheduled_downtime",
          "%scheduled_downtime",
          "%scheduled_downtime",
          "%scheduled_downtime",
          "%scheduled_downtime",
          "%scheduled_downtime",
          "%scheduled_downtime",
          "%scheduled_downtime",
          "%scheduled_downtime",
          "idle/idle",
          "idle/idle",
          "idle/idle",
          "idle/idle",
          "idle/idle",
          "idle/idle",
          "idle/idle",
          "idle/idle",
          "idle/idle",
          "idle/idle",
          "idle/idle",
          "idle/idle",
          "idle/idle",
          "idle/idle",
          "idle/idle",
          "idle/idle",
          "idle/idle",
          "idle/idle",
          "idle/idle",
          "idle/idle",
          "idle/idle",
          "idle/idle",
          "idle/idle",
          "idle/idle",
          "idle/idle",
          "idle/idle",
          "idle/idle",
          "idle/idle",
          "idle/idle",
          "idle/idle",
          "idle/idle",
          "idle/idle",
          "idle/idle",
          "idle/idle",
          "idle/idle",
          "idle/idle",
          "idle/idle",
          "idle/idle",
          "idle/idle",
          "idle/idle",
          "idle/idle",
          "idle/idle",
          "idle/idle",
          "idle/idle",
          "idle/idle",
          "idle/idle",
          "idle/idle",
          "idle/idle",
          "idle/idle",
          "idle/idle",
          "idle/idle",
          "performance_loss/performance_loss",
          "performance_loss/performance_loss",
          "performance_loss/performance_loss",
          "performance_loss/performance_loss",
          "performance_loss/performance_loss",
          "performance_loss/performance_loss",
          "performance_loss/performance_loss",
          "performance_loss/performance_loss",
          "performance_loss/performance_loss",
          "performance_loss/performance_loss",
          "performance_loss/performance_loss",
          "performance_loss/performance_loss",
          "performance_loss/performance_loss",
          "performance_loss/performance_loss",
          "performance_loss/performance_loss",
          "performance_loss/performance_loss",
          "performance_loss/performance_loss",
          "performance_loss/performance_loss",
          "performance_loss/performance_loss",
          "performance_loss/performance_loss",
          "performance_loss/performance_loss",
          "performance_loss/performance_loss",
          "performance_loss/performance_loss",
          "performance_loss/performance_loss",
          "performance_loss/performance_loss",
          "performance_loss/performance_loss",
          "performance_loss/performance_loss",
          "performance_loss/performance_loss",
          "performance_loss/performance_loss",
          "performance_loss/performance_loss",
          "performance_loss/performance_loss",
          "performance_loss/performance_loss",
          "performance_loss/performance_loss",
          "performance_loss/performance_loss",
          "performance_loss/performance_loss",
          "performance_loss/performance_loss",
          "performance_loss/performance_loss",
          "performance_loss/performance_loss",
          "performance_loss/performance_loss",
          "performance_loss/performance_loss",
          "performance_loss/performance_loss",
          "performance_loss/performance_loss",
          "performance_loss/performance_loss",
          "performance_loss/performance_loss",
          "performance_loss/performance_loss",
          "performance_loss/performance_loss",
          "performance_loss/performance_loss",
          "performance_loss/performance_loss",
          "performance_loss/performance_loss",
          "performance_loss/performance_loss",
          "performance_loss/performance_loss",
          "scheduled_downtime/downtime",
          "scheduled_downtime/downtime",
          "scheduled_downtime/downtime",
          "scheduled_downtime/downtime",
          "scheduled_downtime/downtime",
          "scheduled_downtime/downtime",
          "scheduled_downtime/downtime",
          "scheduled_downtime/downtime",
          "scheduled_downtime/downtime",
          "scheduled_downtime/downtime",
          "scheduled_downtime/downtime",
          "scheduled_downtime/downtime",
          "scheduled_downtime/downtime",
          "scheduled_downtime/downtime",
          "scheduled_downtime/downtime",
          "scheduled_downtime/downtime",
          "scheduled_downtime/downtime",
          "scheduled_downtime/downtime",
          "scheduled_downtime/downtime",
          "scheduled_downtime/downtime",
          "scheduled_downtime/downtime",
          "scheduled_downtime/downtime",
          "scheduled_downtime/downtime",
          "scheduled_downtime/downtime",
          "scheduled_downtime/downtime",
          "scheduled_downtime/downtime",
          "scheduled_downtime/downtime",
          "scheduled_downtime/downtime",
          "scheduled_downtime/downtime",
          "scheduled_downtime/downtime",
          "scheduled_downtime/downtime",
          "scheduled_downtime/downtime",
          "scheduled_downtime/downtime",
          "scheduled_downtime/downtime",
          "scheduled_downtime/downtime",
          "scheduled_downtime/downtime",
          "scheduled_downtime/downtime",
          "scheduled_downtime/downtime",
          "scheduled_downtime/downtime",
          "scheduled_downtime/downtime",
          "scheduled_downtime/downtime",
          "scheduled_downtime/downtime",
          "scheduled_downtime/downtime",
          "scheduled_downtime/downtime",
          "scheduled_downtime/downtime",
          "scheduled_downtime/downtime",
          "scheduled_downtime/downtime",
          "scheduled_downtime/downtime",
          "scheduled_downtime/downtime",
          "scheduled_downtime/downtime",
          "scheduled_downtime/downtime",
          "production/downtime",
          "production/downtime",
          "production/downtime",
          "production/downtime",
          "production/downtime",
          "production/downtime",
          "production/downtime",
          "production/downtime",
          "production/downtime",
          "production/downtime",
          "production/downtime",
          "production/downtime",
          "production/downtime",
          "production/downtime",
          "production/downtime",
          "production/downtime",
          "production/downtime",
          "production/downtime",
          "production/downtime",
          "production/downtime",
          "production/downtime",
          "production/downtime",
          "production/downtime",
          "production/downtime",
          "production/downtime",
          "production/downtime",
          "production/downtime",
          "production/downtime",
          "production/downtime",
          "production/downtime",
          "production/downtime",
          "production/downtime",
          "production/downtime",
          "production/downtime",
          "production/downtime",
          "production/downtime",
          "production/downtime",
          "production/downtime",
          "production/downtime",
          "production/downtime",
          "production/downtime",
          "production/downtime",
          "production/downtime",
          "production/downtime",
          "production/downtime",
          "production/downtime",
          "production/downtime",
          "production/downtime",
          "production/downtime",
          "production/downtime",
          "production/downtime",
          "production/scheduled_downtime",
          "production/scheduled_downtime",
          "production/scheduled_downtime",
          "production/scheduled_downtime",
          "production/scheduled_downtime",
          "production/scheduled_downtime",
          "production/scheduled_downtime",
          "production/scheduled_downtime",
          "production/scheduled_downtime",
          "production/scheduled_downtime",
          "production/scheduled_downtime",
          "production/scheduled_downtime",
          "production/scheduled_downtime",
          "production/scheduled_downtime",
          "production/scheduled_downtime",
          "production/scheduled_downtime",
          "production/scheduled_downtime",
          "production/scheduled_downtime",
          "production/scheduled_downtime",
          "production/scheduled_downtime",
          "production/scheduled_downtime",
          "production/scheduled_downtime",
          "production/scheduled_downtime",
          "production/scheduled_downtime",
          "production/scheduled_downtime",
          "production/scheduled_downtime",
          "production/scheduled_downtime",
          "production/scheduled_downtime",
          "production/scheduled_downtime",
          "production/scheduled_downtime",
          "production/scheduled_downtime",
          "production/scheduled_downtime",
          "production/scheduled_downtime",
          "production/scheduled_downtime",
          "production/scheduled_downtime",
          "production/scheduled_downtime",
          "production/scheduled_downtime",
          "production/scheduled_downtime",
          "production/scheduled_downtime",
          "production/scheduled_downtime",
          "production/scheduled_downtime",
          "production/scheduled_downtime",
          "production/scheduled_downtime",
          "production/scheduled_downtime",
          "production/scheduled_downtime",
          "production/scheduled_downtime",
          "production/scheduled_downtime",
          "production/scheduled_downtime",
          "production/scheduled_downtime",
          "production/scheduled_downtime",
          "production/scheduled_downtime",
          "scheduled_downtime/scheduled_downtime",
          "scheduled_downtime/scheduled_downtime",
          "scheduled_downtime/scheduled_downtime",
          "scheduled_downtime/scheduled_downtime",
          "scheduled_downtime/scheduled_downtime",
          "scheduled_downtime/scheduled_downtime",
          "scheduled_downtime/scheduled_downtime",
          "scheduled_downtime/scheduled_downtime",
          "scheduled_downtime/scheduled_downtime",
          "scheduled_downtime/scheduled_downtime",
          "scheduled_downtime/scheduled_downtime",
          "scheduled_downtime/scheduled_downtime",
          "scheduled_downtime/scheduled_downtime",
          "scheduled_downtime/scheduled_downtime",
          "scheduled_downtime/scheduled_downtime",
          "scheduled_downtime/scheduled_downtime",
          "scheduled_downtime/scheduled_downtime",
          "scheduled_downtime/scheduled_downtime",
          "scheduled_downtime/scheduled_downtime",
          "scheduled_downtime/scheduled_downtime",
          "scheduled_downtime/scheduled_downtime",
          "scheduled_downtime/scheduled_downtime",
          "scheduled_downtime/scheduled_downtime",
          "scheduled_downtime/scheduled_downtime",
          "scheduled_downtime/scheduled_downtime",
          "scheduled_downtime/scheduled_downtime",
          "scheduled_downtime/scheduled_downtime",
          "scheduled_downtime/scheduled_downtime",
          "scheduled_downtime/scheduled_downtime",
          "scheduled_downtime/scheduled_downtime",
          "scheduled_downtime/scheduled_downtime",
          "scheduled_downtime/scheduled_downtime",
          "scheduled_downtime/scheduled_downtime",
          "scheduled_downtime/scheduled_downtime",
          "scheduled_downtime/scheduled_downtime",
          "scheduled_downtime/scheduled_downtime",
          "scheduled_downtime/scheduled_downtime",
          "scheduled_downtime/scheduled_downtime",
          "scheduled_downtime/scheduled_downtime",
          "scheduled_downtime/scheduled_downtime",
          "scheduled_downtime/scheduled_downtime",
          "scheduled_downtime/scheduled_downtime",
          "scheduled_downtime/scheduled_downtime",
          "scheduled_downtime/scheduled_downtime",
          "scheduled_downtime/scheduled_downtime",
          "scheduled_downtime/scheduled_downtime",
          "scheduled_downtime/scheduled_downtime",
          "scheduled_downtime/scheduled_downtime",
          "scheduled_downtime/scheduled_downtime",
          "scheduled_downtime/scheduled_downtime",
          "scheduled_downtime/scheduled_downtime",
          "A_024",
          "A_024",
          "A_024",
          "A_024",
          "A_024",
          "A_024",
          "A_024",
          "A_024",
          "A_024",
          "A_024",
          "A_024",
          "A_024",
          "A_024",
          "A_024",
          "A_024",
          "A_024",
          "A_024",
          "A_024",
          "A_024",
          "A_024",
          "A_024",
          "A_024",
          "A_024",
          "A_024",
          "A_024",
          "A_024",
          "A_024",
          "A_024",
          "A_024",
          "A_024",
          "A_024",
          "A_024",
          "A_024",
          "A_024",
          "A_024",
          "A_024",
          "A_024",
          "A_024",
          "A_024",
          "A_024",
          "A_024",
          "A_024",
          "A_024",
          "A_024",
          "A_024",
          "A_024",
          "A_024",
          "A_024",
          "A_024",
          "A_024",
          "A_024"
         ],
         "yaxis": "y"
        }
       ],
       "layout": {
        "coloraxis": {
         "colorbar": {
          "title": {
           "text": "quantile"
          }
         },
         "colorscale": [
          [
           0,
           "midnightblue"
          ],
          [
           0.5,
           "lightskyblue"
          ],
          [
           1,
           "limegreen"
          ]
         ]
        },
        "legend": {
         "itemsizing": "constant",
         "tracegroupgap": 0
        },
        "shapes": [
         {
          "line": {
           "color": "red",
           "dash": "dash",
           "width": 2
          },
          "type": "line",
          "x0": 0.5051209038903732,
          "x1": 0.5051209038903732,
          "y0": "%production",
          "y1": "A_024"
         },
         {
          "line": {
           "color": "black",
           "dash": "solid",
           "width": 2
          },
          "type": "line",
          "x0": 0.5,
          "x1": 0.5,
          "y0": "%production",
          "y1": "A_024"
         }
        ],
        "template": {
         "data": {
          "bar": [
           {
            "error_x": {
             "color": "#2a3f5f"
            },
            "error_y": {
             "color": "#2a3f5f"
            },
            "marker": {
             "line": {
              "color": "#E5ECF6",
              "width": 0.5
             },
             "pattern": {
              "fillmode": "overlay",
              "size": 10,
              "solidity": 0.2
             }
            },
            "type": "bar"
           }
          ],
          "barpolar": [
           {
            "marker": {
             "line": {
              "color": "#E5ECF6",
              "width": 0.5
             },
             "pattern": {
              "fillmode": "overlay",
              "size": 10,
              "solidity": 0.2
             }
            },
            "type": "barpolar"
           }
          ],
          "carpet": [
           {
            "aaxis": {
             "endlinecolor": "#2a3f5f",
             "gridcolor": "white",
             "linecolor": "white",
             "minorgridcolor": "white",
             "startlinecolor": "#2a3f5f"
            },
            "baxis": {
             "endlinecolor": "#2a3f5f",
             "gridcolor": "white",
             "linecolor": "white",
             "minorgridcolor": "white",
             "startlinecolor": "#2a3f5f"
            },
            "type": "carpet"
           }
          ],
          "choropleth": [
           {
            "colorbar": {
             "outlinewidth": 0,
             "ticks": ""
            },
            "type": "choropleth"
           }
          ],
          "contour": [
           {
            "colorbar": {
             "outlinewidth": 0,
             "ticks": ""
            },
            "colorscale": [
             [
              0,
              "#0d0887"
             ],
             [
              0.1111111111111111,
              "#46039f"
             ],
             [
              0.2222222222222222,
              "#7201a8"
             ],
             [
              0.3333333333333333,
              "#9c179e"
             ],
             [
              0.4444444444444444,
              "#bd3786"
             ],
             [
              0.5555555555555556,
              "#d8576b"
             ],
             [
              0.6666666666666666,
              "#ed7953"
             ],
             [
              0.7777777777777778,
              "#fb9f3a"
             ],
             [
              0.8888888888888888,
              "#fdca26"
             ],
             [
              1,
              "#f0f921"
             ]
            ],
            "type": "contour"
           }
          ],
          "contourcarpet": [
           {
            "colorbar": {
             "outlinewidth": 0,
             "ticks": ""
            },
            "type": "contourcarpet"
           }
          ],
          "heatmap": [
           {
            "colorbar": {
             "outlinewidth": 0,
             "ticks": ""
            },
            "colorscale": [
             [
              0,
              "#0d0887"
             ],
             [
              0.1111111111111111,
              "#46039f"
             ],
             [
              0.2222222222222222,
              "#7201a8"
             ],
             [
              0.3333333333333333,
              "#9c179e"
             ],
             [
              0.4444444444444444,
              "#bd3786"
             ],
             [
              0.5555555555555556,
              "#d8576b"
             ],
             [
              0.6666666666666666,
              "#ed7953"
             ],
             [
              0.7777777777777778,
              "#fb9f3a"
             ],
             [
              0.8888888888888888,
              "#fdca26"
             ],
             [
              1,
              "#f0f921"
             ]
            ],
            "type": "heatmap"
           }
          ],
          "heatmapgl": [
           {
            "colorbar": {
             "outlinewidth": 0,
             "ticks": ""
            },
            "colorscale": [
             [
              0,
              "#0d0887"
             ],
             [
              0.1111111111111111,
              "#46039f"
             ],
             [
              0.2222222222222222,
              "#7201a8"
             ],
             [
              0.3333333333333333,
              "#9c179e"
             ],
             [
              0.4444444444444444,
              "#bd3786"
             ],
             [
              0.5555555555555556,
              "#d8576b"
             ],
             [
              0.6666666666666666,
              "#ed7953"
             ],
             [
              0.7777777777777778,
              "#fb9f3a"
             ],
             [
              0.8888888888888888,
              "#fdca26"
             ],
             [
              1,
              "#f0f921"
             ]
            ],
            "type": "heatmapgl"
           }
          ],
          "histogram": [
           {
            "marker": {
             "pattern": {
              "fillmode": "overlay",
              "size": 10,
              "solidity": 0.2
             }
            },
            "type": "histogram"
           }
          ],
          "histogram2d": [
           {
            "colorbar": {
             "outlinewidth": 0,
             "ticks": ""
            },
            "colorscale": [
             [
              0,
              "#0d0887"
             ],
             [
              0.1111111111111111,
              "#46039f"
             ],
             [
              0.2222222222222222,
              "#7201a8"
             ],
             [
              0.3333333333333333,
              "#9c179e"
             ],
             [
              0.4444444444444444,
              "#bd3786"
             ],
             [
              0.5555555555555556,
              "#d8576b"
             ],
             [
              0.6666666666666666,
              "#ed7953"
             ],
             [
              0.7777777777777778,
              "#fb9f3a"
             ],
             [
              0.8888888888888888,
              "#fdca26"
             ],
             [
              1,
              "#f0f921"
             ]
            ],
            "type": "histogram2d"
           }
          ],
          "histogram2dcontour": [
           {
            "colorbar": {
             "outlinewidth": 0,
             "ticks": ""
            },
            "colorscale": [
             [
              0,
              "#0d0887"
             ],
             [
              0.1111111111111111,
              "#46039f"
             ],
             [
              0.2222222222222222,
              "#7201a8"
             ],
             [
              0.3333333333333333,
              "#9c179e"
             ],
             [
              0.4444444444444444,
              "#bd3786"
             ],
             [
              0.5555555555555556,
              "#d8576b"
             ],
             [
              0.6666666666666666,
              "#ed7953"
             ],
             [
              0.7777777777777778,
              "#fb9f3a"
             ],
             [
              0.8888888888888888,
              "#fdca26"
             ],
             [
              1,
              "#f0f921"
             ]
            ],
            "type": "histogram2dcontour"
           }
          ],
          "mesh3d": [
           {
            "colorbar": {
             "outlinewidth": 0,
             "ticks": ""
            },
            "type": "mesh3d"
           }
          ],
          "parcoords": [
           {
            "line": {
             "colorbar": {
              "outlinewidth": 0,
              "ticks": ""
             }
            },
            "type": "parcoords"
           }
          ],
          "pie": [
           {
            "automargin": true,
            "type": "pie"
           }
          ],
          "scatter": [
           {
            "fillpattern": {
             "fillmode": "overlay",
             "size": 10,
             "solidity": 0.2
            },
            "type": "scatter"
           }
          ],
          "scatter3d": [
           {
            "line": {
             "colorbar": {
              "outlinewidth": 0,
              "ticks": ""
             }
            },
            "marker": {
             "colorbar": {
              "outlinewidth": 0,
              "ticks": ""
             }
            },
            "type": "scatter3d"
           }
          ],
          "scattercarpet": [
           {
            "marker": {
             "colorbar": {
              "outlinewidth": 0,
              "ticks": ""
             }
            },
            "type": "scattercarpet"
           }
          ],
          "scattergeo": [
           {
            "marker": {
             "colorbar": {
              "outlinewidth": 0,
              "ticks": ""
             }
            },
            "type": "scattergeo"
           }
          ],
          "scattergl": [
           {
            "marker": {
             "colorbar": {
              "outlinewidth": 0,
              "ticks": ""
             }
            },
            "type": "scattergl"
           }
          ],
          "scattermapbox": [
           {
            "marker": {
             "colorbar": {
              "outlinewidth": 0,
              "ticks": ""
             }
            },
            "type": "scattermapbox"
           }
          ],
          "scatterpolar": [
           {
            "marker": {
             "colorbar": {
              "outlinewidth": 0,
              "ticks": ""
             }
            },
            "type": "scatterpolar"
           }
          ],
          "scatterpolargl": [
           {
            "marker": {
             "colorbar": {
              "outlinewidth": 0,
              "ticks": ""
             }
            },
            "type": "scatterpolargl"
           }
          ],
          "scatterternary": [
           {
            "marker": {
             "colorbar": {
              "outlinewidth": 0,
              "ticks": ""
             }
            },
            "type": "scatterternary"
           }
          ],
          "surface": [
           {
            "colorbar": {
             "outlinewidth": 0,
             "ticks": ""
            },
            "colorscale": [
             [
              0,
              "#0d0887"
             ],
             [
              0.1111111111111111,
              "#46039f"
             ],
             [
              0.2222222222222222,
              "#7201a8"
             ],
             [
              0.3333333333333333,
              "#9c179e"
             ],
             [
              0.4444444444444444,
              "#bd3786"
             ],
             [
              0.5555555555555556,
              "#d8576b"
             ],
             [
              0.6666666666666666,
              "#ed7953"
             ],
             [
              0.7777777777777778,
              "#fb9f3a"
             ],
             [
              0.8888888888888888,
              "#fdca26"
             ],
             [
              1,
              "#f0f921"
             ]
            ],
            "type": "surface"
           }
          ],
          "table": [
           {
            "cells": {
             "fill": {
              "color": "#EBF0F8"
             },
             "line": {
              "color": "white"
             }
            },
            "header": {
             "fill": {
              "color": "#C8D4E3"
             },
             "line": {
              "color": "white"
             }
            },
            "type": "table"
           }
          ]
         },
         "layout": {
          "annotationdefaults": {
           "arrowcolor": "#2a3f5f",
           "arrowhead": 0,
           "arrowwidth": 1
          },
          "autotypenumbers": "strict",
          "coloraxis": {
           "colorbar": {
            "outlinewidth": 0,
            "ticks": ""
           }
          },
          "colorscale": {
           "diverging": [
            [
             0,
             "#8e0152"
            ],
            [
             0.1,
             "#c51b7d"
            ],
            [
             0.2,
             "#de77ae"
            ],
            [
             0.3,
             "#f1b6da"
            ],
            [
             0.4,
             "#fde0ef"
            ],
            [
             0.5,
             "#f7f7f7"
            ],
            [
             0.6,
             "#e6f5d0"
            ],
            [
             0.7,
             "#b8e186"
            ],
            [
             0.8,
             "#7fbc41"
            ],
            [
             0.9,
             "#4d9221"
            ],
            [
             1,
             "#276419"
            ]
           ],
           "sequential": [
            [
             0,
             "#0d0887"
            ],
            [
             0.1111111111111111,
             "#46039f"
            ],
            [
             0.2222222222222222,
             "#7201a8"
            ],
            [
             0.3333333333333333,
             "#9c179e"
            ],
            [
             0.4444444444444444,
             "#bd3786"
            ],
            [
             0.5555555555555556,
             "#d8576b"
            ],
            [
             0.6666666666666666,
             "#ed7953"
            ],
            [
             0.7777777777777778,
             "#fb9f3a"
            ],
            [
             0.8888888888888888,
             "#fdca26"
            ],
            [
             1,
             "#f0f921"
            ]
           ],
           "sequentialminus": [
            [
             0,
             "#0d0887"
            ],
            [
             0.1111111111111111,
             "#46039f"
            ],
            [
             0.2222222222222222,
             "#7201a8"
            ],
            [
             0.3333333333333333,
             "#9c179e"
            ],
            [
             0.4444444444444444,
             "#bd3786"
            ],
            [
             0.5555555555555556,
             "#d8576b"
            ],
            [
             0.6666666666666666,
             "#ed7953"
            ],
            [
             0.7777777777777778,
             "#fb9f3a"
            ],
            [
             0.8888888888888888,
             "#fdca26"
            ],
            [
             1,
             "#f0f921"
            ]
           ]
          },
          "colorway": [
           "#636efa",
           "#EF553B",
           "#00cc96",
           "#ab63fa",
           "#FFA15A",
           "#19d3f3",
           "#FF6692",
           "#B6E880",
           "#FF97FF",
           "#FECB52"
          ],
          "font": {
           "color": "#2a3f5f"
          },
          "geo": {
           "bgcolor": "white",
           "lakecolor": "white",
           "landcolor": "#E5ECF6",
           "showlakes": true,
           "showland": true,
           "subunitcolor": "white"
          },
          "hoverlabel": {
           "align": "left"
          },
          "hovermode": "closest",
          "mapbox": {
           "style": "light"
          },
          "paper_bgcolor": "white",
          "plot_bgcolor": "#E5ECF6",
          "polar": {
           "angularaxis": {
            "gridcolor": "white",
            "linecolor": "white",
            "ticks": ""
           },
           "bgcolor": "#E5ECF6",
           "radialaxis": {
            "gridcolor": "white",
            "linecolor": "white",
            "ticks": ""
           }
          },
          "scene": {
           "xaxis": {
            "backgroundcolor": "#E5ECF6",
            "gridcolor": "white",
            "gridwidth": 2,
            "linecolor": "white",
            "showbackground": true,
            "ticks": "",
            "zerolinecolor": "white"
           },
           "yaxis": {
            "backgroundcolor": "#E5ECF6",
            "gridcolor": "white",
            "gridwidth": 2,
            "linecolor": "white",
            "showbackground": true,
            "ticks": "",
            "zerolinecolor": "white"
           },
           "zaxis": {
            "backgroundcolor": "#E5ECF6",
            "gridcolor": "white",
            "gridwidth": 2,
            "linecolor": "white",
            "showbackground": true,
            "ticks": "",
            "zerolinecolor": "white"
           }
          },
          "shapedefaults": {
           "line": {
            "color": "#2a3f5f"
           }
          },
          "ternary": {
           "aaxis": {
            "gridcolor": "white",
            "linecolor": "white",
            "ticks": ""
           },
           "baxis": {
            "gridcolor": "white",
            "linecolor": "white",
            "ticks": ""
           },
           "bgcolor": "#E5ECF6",
           "caxis": {
            "gridcolor": "white",
            "linecolor": "white",
            "ticks": ""
           }
          },
          "title": {
           "x": 0.05
          },
          "xaxis": {
           "automargin": true,
           "gridcolor": "white",
           "linecolor": "white",
           "ticks": "",
           "title": {
            "standoff": 15
           },
           "zerolinecolor": "white",
           "zerolinewidth": 2
          },
          "yaxis": {
           "automargin": true,
           "gridcolor": "white",
           "linecolor": "white",
           "ticks": "",
           "title": {
            "standoff": 15
           },
           "zerolinecolor": "white",
           "zerolinewidth": 2
          }
         }
        },
        "title": {
         "text": "Local AcME: observation ID 22766. Predicted: 0.505",
         "x": 0.5,
         "xanchor": "center",
         "y": 0.9,
         "yanchor": "top"
        },
        "xaxis": {
         "anchor": "y",
         "domain": [
          0,
          1
         ],
         "title": {
          "text": "predict"
         }
        },
        "yaxis": {
         "anchor": "x",
         "domain": [
          0,
          1
         ],
         "title": {
          "text": "feature"
         }
        }
       }
      }
     },
     "metadata": {},
     "output_type": "display_data"
    }
   ],
   "source": [
    "for i in range(len(equipments)): \n",
    "    print(\"Equipment \", i+1)\n",
    "    k = random.choice(list(acme_local_explanations[i].keys()))\n",
    "    acme_loc_summary_plot = acme_local_explanations[i][k].summary_plot(local=True, n_features = 10)\n",
    "    # acme_loc_summary_plot.update_layout(width = 100 * 15, height = 100 * 6, font = dict(size=18))\n",
    "    acme_loc_summary_plot.show()"
   ]
  }
 ],
 "metadata": {
  "kernelspec": {
   "display_name": "Python 3 (ipykernel)",
   "language": "python",
   "name": "python3"
  },
  "language_info": {
   "codemirror_mode": {
    "name": "ipython",
    "version": 3
   },
   "file_extension": ".py",
   "mimetype": "text/x-python",
   "name": "python",
   "nbconvert_exporter": "python",
   "pygments_lexer": "ipython3",
   "version": "3.11.5"
  }
 },
 "nbformat": 4,
 "nbformat_minor": 4
}
