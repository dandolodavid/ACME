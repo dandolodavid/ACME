{
 "cells": [
  {
   "cell_type": "code",
   "execution_count": null,
   "metadata": {},
   "outputs": [],
   "source": [
    "import numpy as np\n",
    "import pandas as pd \n",
    "import random \n",
    "import copy \n",
    "import warnings\n",
    "import sys\n",
    "import pickle\n",
    "import time\n",
    "import shap\n",
    "\n",
    "from tqdm import tqdm\n",
    "from copy import deepcopy\n",
    "from pyod.models.loda import LODA\n",
    "from sklearn.ensemble import IsolationForest\n",
    "\n",
    "sys.path.append('../../')\n",
    "from ACME.ACME import ACME\n",
    "from ACME.visual_utils import * \n",
    "sys.path.remove('../../')\n",
    "\n",
    "warnings.filterwarnings('ignore')\n",
    "\n",
    "# set seed for reproducibility\n",
    "np.random.seed(0)\n",
    "random.seed(0)"
   ]
  },
  {
   "cell_type": "markdown",
   "metadata": {},
   "source": [
    "# AcME-AD vs KernelSHAP: time comparison on IF and LODA\n",
    "Get the computational time to fit the explainer and explain 1 anomaly on PIADE dataset"
   ]
  },
  {
   "cell_type": "code",
   "execution_count": null,
   "metadata": {},
   "outputs": [],
   "source": [
    "# import data\n",
    "data = pd.read_csv('ad_industrial_datasets/piade_sequences_1h_data.csv')\n",
    "data = data.drop(columns=['interval_start'])\n",
    "data = data.fillna(0)"
   ]
  },
  {
   "cell_type": "code",
   "execution_count": null,
   "metadata": {},
   "outputs": [],
   "source": [
    "# split data based on equipment ID\n",
    "equipments = data['equipment_ID'].unique()\n",
    "data_equipment = [data[data['equipment_ID'] ==e] for e in equipments]\n",
    "\n",
    "# keep only equipment 2 for the example\n",
    "data = data_equipment[1].copy()\n",
    "features = data.drop(columns=['equipment_ID']).columns \n",
    "print(features)"
   ]
  },
  {
   "cell_type": "markdown",
   "metadata": {},
   "source": [
    "## Isolation Forest"
   ]
  },
  {
   "cell_type": "code",
   "execution_count": null,
   "metadata": {},
   "outputs": [],
   "source": [
    "def if_score_function(model, X): \n",
    "    return 0.5 * (-model.decision_function(X) + 1)\n",
    "\n",
    "ad_model = IsolationForest().fit(data[features])\n",
    "data['Score'] = if_score_function(ad_model, data[features])\n",
    "data['Prediction'] = ad_model.predict(data[features])\n",
    "data['Prediction'] = data['Prediction'].apply(lambda x: 1 if x == -1 else 0)"
   ]
  },
  {
   "cell_type": "code",
   "execution_count": null,
   "metadata": {},
   "outputs": [],
   "source": [
    "anomaly_to_explain = data[data['Prediction'] == 1].sample(1).iloc[0].squeeze()\n",
    "print(anomaly_to_explain)\n",
    "print(type(anomaly_to_explain))"
   ]
  },
  {
   "cell_type": "markdown",
   "metadata": {},
   "source": [
    "AcME-AD"
   ]
  },
  {
   "cell_type": "code",
   "execution_count": null,
   "metadata": {},
   "outputs": [],
   "source": [
    "acme_time = time.time()\n",
    "acme = ACME(ad_model, 'Score', features=features, task='ad', score_function=if_score_function)\n",
    "acme = acme.explain(data, robust=True)\n",
    "acme_loc_exp = acme.explain_local(anomaly_to_explain)\n",
    "feat_table = acme_loc_exp.feature_importance(local=True)\n",
    "acme_time = time.time() - acme_time\n",
    "\n",
    "print('ACME time:', acme_time)"
   ]
  },
  {
   "cell_type": "markdown",
   "metadata": {},
   "source": [
    "KernelSHAP"
   ]
  },
  {
   "cell_type": "code",
   "execution_count": null,
   "metadata": {},
   "outputs": [],
   "source": [
    "def if_score_function_shap( X): \n",
    "    return 0.5 * (-ad_model.decision_function(X) + 1)"
   ]
  },
  {
   "cell_type": "code",
   "execution_count": null,
   "metadata": {},
   "outputs": [],
   "source": [
    "background_shap = [data[features].sample(frac=0.25), data[features].sample(frac=0.5), data[features].sample(frac=0.75), data[features].sample(frac=1)]\n",
    "\n",
    "for i, b_data in enumerate(background_shap):\n",
    "    shap_time = time.time()\n",
    "    explainer = shap.KernelExplainer(if_score_function_shap, b_data[features].values)\n",
    "    shap_values = explainer.shap_values(anomaly_to_explain[features].values)\n",
    "    shap_time = time.time() - shap_time\n",
    "    print('SHAP time', i, ':', shap_time)"
   ]
  },
  {
   "cell_type": "markdown",
   "metadata": {},
   "source": [
    "## LODA"
   ]
  },
  {
   "cell_type": "code",
   "execution_count": null,
   "metadata": {},
   "outputs": [],
   "source": [
    "data = data_equipment[1].copy()"
   ]
  },
  {
   "cell_type": "code",
   "execution_count": null,
   "metadata": {},
   "outputs": [],
   "source": [
    "ad_model = LODA(contamination=0.01).fit(data[features])\n",
    "data['Prediction'] = ad_model.labels_\n",
    "\n",
    "raw_scores = ad_model.decision_scores_\n",
    "EPS = 1e-1\n",
    "l = max(np.abs(np.max(raw_scores)-ad_model.threshold_), np.abs(np.min(raw_scores)-ad_model.threshold_)) + EPS\n",
    "lb = ad_model.threshold_ - l\n",
    "ub = ad_model.threshold_ + l\n",
    "data['Score'] = (raw_scores - lb) / (ub - lb)\n",
    "\n",
    "def score_function(model, X): \n",
    "    return (model.decision_function(X) - lb) / (ub - lb)"
   ]
  },
  {
   "cell_type": "code",
   "execution_count": null,
   "metadata": {},
   "outputs": [],
   "source": [
    "anomaly_to_explain = data[data['Prediction'] == 1].sample(1).iloc[0].squeeze()"
   ]
  },
  {
   "cell_type": "markdown",
   "metadata": {},
   "source": [
    "AcME-AD"
   ]
  },
  {
   "cell_type": "code",
   "execution_count": null,
   "metadata": {},
   "outputs": [],
   "source": [
    "acme_time = time.time()\n",
    "acme = ACME(ad_model, 'Score', features, task='ad', score_function=score_function)\n",
    "acme = acme.explain(data, robust=True)\n",
    "acme_loc_exp = acme.explain_local(anomaly_to_explain)\n",
    "feat_table = acme_loc_exp.feature_importance(local=True)\n",
    "acme_time = time.time() - acme_time\n",
    "\n",
    "print('ACME time:', acme_time)"
   ]
  },
  {
   "cell_type": "markdown",
   "metadata": {},
   "source": [
    "KernelSHAP"
   ]
  },
  {
   "cell_type": "code",
   "execution_count": null,
   "metadata": {},
   "outputs": [],
   "source": [
    "background_shap = [data[features].sample(frac=0.25), data[features].sample(frac=0.5), data[features].sample(frac=0.75), data[features].sample(frac=1)]\n",
    "\n",
    "for i, b_data in enumerate(background_shap):\n",
    "    shap_time = time.time()\n",
    "    explainer = shap.KernelExplainer(if_score_function_shap, b_data[features].values)\n",
    "    shap_values = explainer.shap_values(anomaly_to_explain[features].values)\n",
    "    shap_time = time.time() - shap_time\n",
    "    print('SHAP time', i, ':', shap_time)"
   ]
  }
 ],
 "metadata": {
  "kernelspec": {
   "display_name": "Python 3 (ipykernel)",
   "language": "python",
   "name": "python3"
  },
  "language_info": {
   "codemirror_mode": {
    "name": "ipython",
    "version": 3
   },
   "file_extension": ".py",
   "mimetype": "text/x-python",
   "name": "python",
   "nbconvert_exporter": "python",
   "pygments_lexer": "ipython3",
   "version": "3.11.5"
  }
 },
 "nbformat": 4,
 "nbformat_minor": 4
}
