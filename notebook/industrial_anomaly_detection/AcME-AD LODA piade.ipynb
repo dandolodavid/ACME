{
 "cells": [
  {
   "cell_type": "code",
   "execution_count": 1,
   "metadata": {},
   "outputs": [],
   "source": [
    "import numpy as np\n",
    "import pandas as pd \n",
    "import random \n",
    "import copy \n",
    "import warnings\n",
    "import sys\n",
    "import pickle\n",
    "\n",
    "from tqdm import tqdm\n",
    "from copy import deepcopy\n",
    "from pyod.models.loda import LODA\n",
    "\n",
    "sys.path.append('../../')\n",
    "from ACME.ACME import ACME\n",
    "from ACME.visual_utils import * \n",
    "sys.path.remove('../../')\n",
    "\n",
    "warnings.filterwarnings('ignore')\n",
    "\n",
    "# set seed for reproducibility\n",
    "np.random.seed(0)\n",
    "random.seed(0)"
   ]
  },
  {
   "cell_type": "markdown",
   "metadata": {},
   "source": [
    "# AcME-AD to explain LODA in PIADE sequences dataset"
   ]
  },
  {
   "cell_type": "code",
   "execution_count": 2,
   "metadata": {},
   "outputs": [],
   "source": [
    "# import data\n",
    "data = pd.read_csv('ad_industrial_datasets/piade_sequences_1h_data.csv')\n",
    "data = data.drop(columns=['interval_start'])\n",
    "data = data.fillna(0)\n",
    "\n",
    "features = [c for c in data.columns if c != 'equipment_ID']"
   ]
  },
  {
   "cell_type": "code",
   "execution_count": 3,
   "metadata": {},
   "outputs": [],
   "source": [
    "# split data based on equipment ID\n",
    "equipments = data['equipment_ID'].unique()\n",
    "data_equipment = [data[data['equipment_ID'] ==e] for e in equipments]\n",
    "\n",
    "# keep only equipment 2 for the example, select a different equipment if you want\n",
    "data = data_equipment[1]"
   ]
  },
  {
   "cell_type": "markdown",
   "metadata": {},
   "source": [
    "## Model training"
   ]
  },
  {
   "cell_type": "markdown",
   "metadata": {},
   "source": [
    "Because it is an unsupervised task, no contamination is available. Since on the other notebook, IsolationForest with Sklearn implementation automatically compute the threshold, we choose a contamination value that_ \n",
    "1. yields to an acceptable number of anomalies when deployed in real scenarios; \n",
    "2. produces a number of anomalies close to the one produced by IF with automatic threshold."
   ]
  },
  {
   "cell_type": "code",
   "execution_count": 4,
   "metadata": {},
   "outputs": [],
   "source": [
    "ad_model = LODA(contamination=0.01).fit(data[features])\n",
    "data['Prediction'] = ad_model.labels_\n",
    "\n",
    "raw_scores = ad_model.decision_scores_\n",
    "EPS = 1e-1\n",
    "l = max(np.abs(np.max(raw_scores)-ad_model.threshold_), np.abs(np.min(raw_scores)-ad_model.threshold_)) + EPS\n",
    "lb = ad_model.threshold_ - l\n",
    "ub = ad_model.threshold_ + l\n",
    "data['Score'] = (raw_scores - lb) / (ub - lb)\n",
    "\n",
    "def score_function(model, X): \n",
    "    return (model.decision_function(X) - lb) / (ub - lb)"
   ]
  },
  {
   "cell_type": "markdown",
   "metadata": {},
   "source": [
    "## Explanations"
   ]
  },
  {
   "cell_type": "code",
   "execution_count": 5,
   "metadata": {},
   "outputs": [
    {
     "name": "stdout",
     "output_type": "stream",
     "text": [
      "Number of anomalies: 28\n"
     ]
    }
   ],
   "source": [
    "data_to_explain = data[data['Prediction'] == 1]\n",
    "print('Number of anomalies:', data_to_explain.shape[0])"
   ]
  },
  {
   "cell_type": "markdown",
   "metadata": {},
   "source": [
    "Compute and save explanations"
   ]
  },
  {
   "cell_type": "code",
   "execution_count": 6,
   "metadata": {},
   "outputs": [],
   "source": [
    "# acme_rankings = pd.DataFrame(columns=features)\n",
    "# acme_local_explanations = {}\n",
    "\n",
    "# acme_exp = ACME(ad_model, 'Score', features=features, task = 'ad', score_function=score_function)\n",
    "# acme_exp = acme_exp.explain(data, robust = True)\n",
    "\n",
    "# for j in tqdm(range(len(data_to_explain))):\n",
    "#     local_explanation = acme_exp.explain_local(data_to_explain.iloc[j])\n",
    "#     feature_table = local_explanation.feature_importance(local=True, weights={\"delta\":0.3, \"ratio\":0.2, \"change\":0.3, \"distance\":0.2})\n",
    "#     acme_rankings.loc[j] = feature_table['importance'].rank(ascending=False, method='min')\n",
    "#     acme_local_explanations[j] = local_explanation"
   ]
  },
  {
   "cell_type": "code",
   "execution_count": 7,
   "metadata": {},
   "outputs": [],
   "source": [
    "# load results \n",
    "with open('results/piade_loda_acme_rankings_equip2.pkl', 'rb') as f:\n",
    "    acme_rankings = pickle.load(f)\n",
    "\n",
    "with open('results/piade_loda_acme_local_explanations_equip2.pkl', 'rb') as f:\n",
    "    acme_local_explanations = pickle.load(f)"
   ]
  },
  {
   "cell_type": "markdown",
   "metadata": {},
   "source": [
    "Plot the stacked barplot.\n",
    "\n",
    "Note: features that are ranked in the k-th positon less than t% of the anomalies are merged in a unique 'other' group. In this case t% = 5%, but different threshold can be taken depending on the application. "
   ]
  },
  {
   "cell_type": "code",
   "execution_count": 8,
   "metadata": {},
   "outputs": [],
   "source": [
    "# custom colors for the results in the paper\n",
    "# note that they are valid only for equipment 2.\n",
    "feature_colors = {\n",
    "    \"#changes\": {\"color\": \"midnightblue\", \"pattern\": \"\"},\n",
    "    \"%idle\": {\"color\": \"limegreen\", \"pattern\": \"+\"},\n",
    "    \"A_004\": {\"color\": \"turquoise\", \"pattern\": \"-\"},\n",
    "    \"A_005\": {\"color\": \"#858be3\", \"pattern\": \"\"},\n",
    "    \"A_008\": {\"color\": \"#ff8200\", \"pattern\": \"-\"},\n",
    "    \"A_010\": {\"color\": \"deepskyblue\", \"pattern\": \".\"},\n",
    "    \"A_012\": {\"color\": \"#a777f1\", \"pattern\": \"\\\\\"},\n",
    "    \"A_017\": {\"color\": \"lightslategray\", \"pattern\": \"|\"},\n",
    "    \"A_020\": {\"color\": \"#665cfa\", \"pattern\": \"x\"},\n",
    "    \"A_027\": {\"color\": \"#008bff\", \"pattern\": \"+\"},\n",
    "    \"count_sum\": {\"color\": \"crimson\", \"pattern\": \"\"},\n",
    "    \"downtime/downtime\": {\"color\": \"#4af5f9\", \"pattern\": \"/\"},\n",
    "    \"idle/idle\": {\"color\": \"wheat\", \"pattern\": \"x\"},\n",
    "    \"idle/performance_loss\": {\"color\": \"lavender\", \"pattern\": \".\"},\n",
    "    \"performance_loss/performance_loss\": {\"color\": 'rosyBrown', \"pattern\": \"|\"},\n",
    "    \"production/production\": {\"color\": \"steelBlue\", \"pattern\": \"\"},\n",
    "    \"production/scheduled_downtime\": {\"color\": \"#00cc7c\", \"pattern\": \"\"},\n",
    "    \"scheduled_downtime/downtime\": {\"color\": \"#ab63fa\", \"pattern\": \".\"},\n",
    "}"
   ]
  },
  {
   "cell_type": "code",
   "execution_count": 9,
   "metadata": {},
   "outputs": [
    {
     "data": {
      "application/vnd.plotly.v1+json": {
       "config": {
        "plotlyServerURL": "https://plot.ly"
       },
       "data": [
        {
         "marker": {
          "color": "midnightblue",
          "pattern": {
           "shape": "",
           "size": 6
          }
         },
         "name": "#changes",
         "showlegend": true,
         "type": "bar",
         "width": 0.6,
         "x": [
          1,
          2,
          3,
          4,
          5
         ],
         "y": [
          0.21428571428571427,
          0.17857142857142858,
          0.17857142857142858,
          0.10714285714285714,
          0.07142857142857142
         ]
        },
        {
         "marker": {
          "color": "limegreen",
          "pattern": {
           "shape": "+",
           "size": 6
          }
         },
         "name": "%idle",
         "showlegend": true,
         "type": "bar",
         "width": 0.6,
         "x": [
          1,
          2,
          3,
          4,
          5
         ],
         "y": [
          0,
          0,
          0.07142857142857142,
          0,
          0
         ]
        },
        {
         "marker": {
          "color": "turquoise",
          "pattern": {
           "shape": "-",
           "size": 6
          }
         },
         "name": "A_004",
         "showlegend": true,
         "type": "bar",
         "width": 0.6,
         "x": [
          1,
          2,
          3,
          4,
          5
         ],
         "y": [
          0,
          0,
          0,
          0.07142857142857142,
          0
         ]
        },
        {
         "marker": {
          "color": "deepskyblue",
          "pattern": {
           "shape": ".",
           "size": 6
          }
         },
         "name": "A_010",
         "showlegend": true,
         "type": "bar",
         "width": 0.6,
         "x": [
          1,
          2,
          3,
          4,
          5
         ],
         "y": [
          0.10714285714285714,
          0.07142857142857142,
          0.14285714285714285,
          0,
          0.17857142857142858
         ]
        },
        {
         "marker": {
          "color": "#a777f1",
          "pattern": {
           "shape": "\\",
           "size": 6
          }
         },
         "name": "A_012",
         "showlegend": true,
         "type": "bar",
         "width": 0.6,
         "x": [
          1,
          2,
          3,
          4,
          5
         ],
         "y": [
          0,
          0,
          0.17857142857142858,
          0.21428571428571427,
          0
         ]
        },
        {
         "marker": {
          "color": "lightslategray",
          "pattern": {
           "shape": "|",
           "size": 6
          }
         },
         "name": "A_017",
         "showlegend": true,
         "type": "bar",
         "width": 0.6,
         "x": [
          1,
          2,
          3,
          4,
          5
         ],
         "y": [
          0.14285714285714285,
          0,
          0,
          0,
          0
         ]
        },
        {
         "marker": {
          "color": "crimson",
          "pattern": {
           "shape": "",
           "size": 6
          }
         },
         "name": "count_sum",
         "showlegend": true,
         "type": "bar",
         "width": 0.6,
         "x": [
          1,
          2,
          3,
          4,
          5
         ],
         "y": [
          0.32142857142857145,
          0.17857142857142858,
          0,
          0.14285714285714285,
          0.14285714285714285
         ]
        },
        {
         "marker": {
          "color": "#4af5f9",
          "pattern": {
           "shape": "/",
           "size": 6
          }
         },
         "name": "downtime/downtime",
         "showlegend": true,
         "type": "bar",
         "width": 0.6,
         "x": [
          1,
          2,
          3,
          4,
          5
         ],
         "y": [
          0,
          0.32142857142857145,
          0.07142857142857142,
          0.07142857142857142,
          0.14285714285714285
         ]
        },
        {
         "marker": {
          "color": "wheat",
          "pattern": {
           "shape": "x",
           "size": 6
          }
         },
         "name": "idle/idle",
         "showlegend": true,
         "type": "bar",
         "width": 0.6,
         "x": [
          1,
          2,
          3,
          4,
          5
         ],
         "y": [
          0,
          0.07142857142857142,
          0,
          0,
          0
         ]
        },
        {
         "marker": {
          "color": "lavender",
          "pattern": {
           "shape": ".",
           "size": 6
          }
         },
         "name": "idle/performance_loss",
         "showlegend": true,
         "type": "bar",
         "width": 0.6,
         "x": [
          1,
          2,
          3,
          4,
          5
         ],
         "y": [
          0,
          0,
          0,
          0.07142857142857142,
          0
         ]
        },
        {
         "marker": {
          "color": "rosyBrown",
          "pattern": {
           "shape": "|",
           "size": 6
          }
         },
         "name": "performance_loss/performance_loss",
         "showlegend": true,
         "type": "bar",
         "width": 0.6,
         "x": [
          1,
          2,
          3,
          4,
          5
         ],
         "y": [
          0,
          0,
          0,
          0.07142857142857142,
          0.10714285714285714
         ]
        },
        {
         "marker": {
          "color": "steelBlue",
          "pattern": {
           "shape": "",
           "size": 6
          }
         },
         "name": "production/production",
         "showlegend": true,
         "type": "bar",
         "width": 0.6,
         "x": [
          1,
          2,
          3,
          4,
          5
         ],
         "y": [
          0,
          0.07142857142857142,
          0.17857142857142858,
          0.07142857142857142,
          0.14285714285714285
         ]
        },
        {
         "marker": {
          "color": "#00cc7c",
          "pattern": {
           "shape": "",
           "size": 6
          }
         },
         "name": "production/scheduled_downtime",
         "showlegend": true,
         "type": "bar",
         "width": 0.6,
         "x": [
          1,
          2,
          3,
          4,
          5
         ],
         "y": [
          0,
          0,
          0,
          0,
          0.07142857142857142
         ]
        },
        {
         "marker": {
          "color": "#ab63fa",
          "pattern": {
           "shape": ".",
           "size": 6
          }
         },
         "name": "scheduled_downtime/downtime",
         "showlegend": true,
         "type": "bar",
         "width": 0.6,
         "x": [
          1,
          2,
          3,
          4,
          5
         ],
         "y": [
          0,
          0,
          0,
          0,
          0.07142857142857142
         ]
        },
        {
         "marker": {
          "color": "#abb0b8"
         },
         "name": "others",
         "showlegend": true,
         "type": "bar",
         "width": 0.6,
         "x": [
          1,
          2,
          3,
          4,
          5
         ],
         "y": [
          0.2142857142857143,
          0.1071428571428572,
          0.1785714285714286,
          0.17857142857142883,
          0.07142857142857162
         ]
        }
       ],
       "layout": {
        "bargap": 0.1,
        "barmode": "stack",
        "legend": {
         "entrywidth": 0.5,
         "font": {
          "size": 18
         },
         "title": {
          "text": "Feature"
         }
        },
        "template": {
         "data": {
          "bar": [
           {
            "error_x": {
             "color": "#2a3f5f"
            },
            "error_y": {
             "color": "#2a3f5f"
            },
            "marker": {
             "line": {
              "color": "#E5ECF6",
              "width": 0.5
             },
             "pattern": {
              "fillmode": "overlay",
              "size": 10,
              "solidity": 0.2
             }
            },
            "type": "bar"
           }
          ],
          "barpolar": [
           {
            "marker": {
             "line": {
              "color": "#E5ECF6",
              "width": 0.5
             },
             "pattern": {
              "fillmode": "overlay",
              "size": 10,
              "solidity": 0.2
             }
            },
            "type": "barpolar"
           }
          ],
          "carpet": [
           {
            "aaxis": {
             "endlinecolor": "#2a3f5f",
             "gridcolor": "white",
             "linecolor": "white",
             "minorgridcolor": "white",
             "startlinecolor": "#2a3f5f"
            },
            "baxis": {
             "endlinecolor": "#2a3f5f",
             "gridcolor": "white",
             "linecolor": "white",
             "minorgridcolor": "white",
             "startlinecolor": "#2a3f5f"
            },
            "type": "carpet"
           }
          ],
          "choropleth": [
           {
            "colorbar": {
             "outlinewidth": 0,
             "ticks": ""
            },
            "type": "choropleth"
           }
          ],
          "contour": [
           {
            "colorbar": {
             "outlinewidth": 0,
             "ticks": ""
            },
            "colorscale": [
             [
              0,
              "#0d0887"
             ],
             [
              0.1111111111111111,
              "#46039f"
             ],
             [
              0.2222222222222222,
              "#7201a8"
             ],
             [
              0.3333333333333333,
              "#9c179e"
             ],
             [
              0.4444444444444444,
              "#bd3786"
             ],
             [
              0.5555555555555556,
              "#d8576b"
             ],
             [
              0.6666666666666666,
              "#ed7953"
             ],
             [
              0.7777777777777778,
              "#fb9f3a"
             ],
             [
              0.8888888888888888,
              "#fdca26"
             ],
             [
              1,
              "#f0f921"
             ]
            ],
            "type": "contour"
           }
          ],
          "contourcarpet": [
           {
            "colorbar": {
             "outlinewidth": 0,
             "ticks": ""
            },
            "type": "contourcarpet"
           }
          ],
          "heatmap": [
           {
            "colorbar": {
             "outlinewidth": 0,
             "ticks": ""
            },
            "colorscale": [
             [
              0,
              "#0d0887"
             ],
             [
              0.1111111111111111,
              "#46039f"
             ],
             [
              0.2222222222222222,
              "#7201a8"
             ],
             [
              0.3333333333333333,
              "#9c179e"
             ],
             [
              0.4444444444444444,
              "#bd3786"
             ],
             [
              0.5555555555555556,
              "#d8576b"
             ],
             [
              0.6666666666666666,
              "#ed7953"
             ],
             [
              0.7777777777777778,
              "#fb9f3a"
             ],
             [
              0.8888888888888888,
              "#fdca26"
             ],
             [
              1,
              "#f0f921"
             ]
            ],
            "type": "heatmap"
           }
          ],
          "heatmapgl": [
           {
            "colorbar": {
             "outlinewidth": 0,
             "ticks": ""
            },
            "colorscale": [
             [
              0,
              "#0d0887"
             ],
             [
              0.1111111111111111,
              "#46039f"
             ],
             [
              0.2222222222222222,
              "#7201a8"
             ],
             [
              0.3333333333333333,
              "#9c179e"
             ],
             [
              0.4444444444444444,
              "#bd3786"
             ],
             [
              0.5555555555555556,
              "#d8576b"
             ],
             [
              0.6666666666666666,
              "#ed7953"
             ],
             [
              0.7777777777777778,
              "#fb9f3a"
             ],
             [
              0.8888888888888888,
              "#fdca26"
             ],
             [
              1,
              "#f0f921"
             ]
            ],
            "type": "heatmapgl"
           }
          ],
          "histogram": [
           {
            "marker": {
             "pattern": {
              "fillmode": "overlay",
              "size": 10,
              "solidity": 0.2
             }
            },
            "type": "histogram"
           }
          ],
          "histogram2d": [
           {
            "colorbar": {
             "outlinewidth": 0,
             "ticks": ""
            },
            "colorscale": [
             [
              0,
              "#0d0887"
             ],
             [
              0.1111111111111111,
              "#46039f"
             ],
             [
              0.2222222222222222,
              "#7201a8"
             ],
             [
              0.3333333333333333,
              "#9c179e"
             ],
             [
              0.4444444444444444,
              "#bd3786"
             ],
             [
              0.5555555555555556,
              "#d8576b"
             ],
             [
              0.6666666666666666,
              "#ed7953"
             ],
             [
              0.7777777777777778,
              "#fb9f3a"
             ],
             [
              0.8888888888888888,
              "#fdca26"
             ],
             [
              1,
              "#f0f921"
             ]
            ],
            "type": "histogram2d"
           }
          ],
          "histogram2dcontour": [
           {
            "colorbar": {
             "outlinewidth": 0,
             "ticks": ""
            },
            "colorscale": [
             [
              0,
              "#0d0887"
             ],
             [
              0.1111111111111111,
              "#46039f"
             ],
             [
              0.2222222222222222,
              "#7201a8"
             ],
             [
              0.3333333333333333,
              "#9c179e"
             ],
             [
              0.4444444444444444,
              "#bd3786"
             ],
             [
              0.5555555555555556,
              "#d8576b"
             ],
             [
              0.6666666666666666,
              "#ed7953"
             ],
             [
              0.7777777777777778,
              "#fb9f3a"
             ],
             [
              0.8888888888888888,
              "#fdca26"
             ],
             [
              1,
              "#f0f921"
             ]
            ],
            "type": "histogram2dcontour"
           }
          ],
          "mesh3d": [
           {
            "colorbar": {
             "outlinewidth": 0,
             "ticks": ""
            },
            "type": "mesh3d"
           }
          ],
          "parcoords": [
           {
            "line": {
             "colorbar": {
              "outlinewidth": 0,
              "ticks": ""
             }
            },
            "type": "parcoords"
           }
          ],
          "pie": [
           {
            "automargin": true,
            "type": "pie"
           }
          ],
          "scatter": [
           {
            "fillpattern": {
             "fillmode": "overlay",
             "size": 10,
             "solidity": 0.2
            },
            "type": "scatter"
           }
          ],
          "scatter3d": [
           {
            "line": {
             "colorbar": {
              "outlinewidth": 0,
              "ticks": ""
             }
            },
            "marker": {
             "colorbar": {
              "outlinewidth": 0,
              "ticks": ""
             }
            },
            "type": "scatter3d"
           }
          ],
          "scattercarpet": [
           {
            "marker": {
             "colorbar": {
              "outlinewidth": 0,
              "ticks": ""
             }
            },
            "type": "scattercarpet"
           }
          ],
          "scattergeo": [
           {
            "marker": {
             "colorbar": {
              "outlinewidth": 0,
              "ticks": ""
             }
            },
            "type": "scattergeo"
           }
          ],
          "scattergl": [
           {
            "marker": {
             "colorbar": {
              "outlinewidth": 0,
              "ticks": ""
             }
            },
            "type": "scattergl"
           }
          ],
          "scattermapbox": [
           {
            "marker": {
             "colorbar": {
              "outlinewidth": 0,
              "ticks": ""
             }
            },
            "type": "scattermapbox"
           }
          ],
          "scatterpolar": [
           {
            "marker": {
             "colorbar": {
              "outlinewidth": 0,
              "ticks": ""
             }
            },
            "type": "scatterpolar"
           }
          ],
          "scatterpolargl": [
           {
            "marker": {
             "colorbar": {
              "outlinewidth": 0,
              "ticks": ""
             }
            },
            "type": "scatterpolargl"
           }
          ],
          "scatterternary": [
           {
            "marker": {
             "colorbar": {
              "outlinewidth": 0,
              "ticks": ""
             }
            },
            "type": "scatterternary"
           }
          ],
          "surface": [
           {
            "colorbar": {
             "outlinewidth": 0,
             "ticks": ""
            },
            "colorscale": [
             [
              0,
              "#0d0887"
             ],
             [
              0.1111111111111111,
              "#46039f"
             ],
             [
              0.2222222222222222,
              "#7201a8"
             ],
             [
              0.3333333333333333,
              "#9c179e"
             ],
             [
              0.4444444444444444,
              "#bd3786"
             ],
             [
              0.5555555555555556,
              "#d8576b"
             ],
             [
              0.6666666666666666,
              "#ed7953"
             ],
             [
              0.7777777777777778,
              "#fb9f3a"
             ],
             [
              0.8888888888888888,
              "#fdca26"
             ],
             [
              1,
              "#f0f921"
             ]
            ],
            "type": "surface"
           }
          ],
          "table": [
           {
            "cells": {
             "fill": {
              "color": "#EBF0F8"
             },
             "line": {
              "color": "white"
             }
            },
            "header": {
             "fill": {
              "color": "#C8D4E3"
             },
             "line": {
              "color": "white"
             }
            },
            "type": "table"
           }
          ]
         },
         "layout": {
          "annotationdefaults": {
           "arrowcolor": "#2a3f5f",
           "arrowhead": 0,
           "arrowwidth": 1
          },
          "autotypenumbers": "strict",
          "coloraxis": {
           "colorbar": {
            "outlinewidth": 0,
            "ticks": ""
           }
          },
          "colorscale": {
           "diverging": [
            [
             0,
             "#8e0152"
            ],
            [
             0.1,
             "#c51b7d"
            ],
            [
             0.2,
             "#de77ae"
            ],
            [
             0.3,
             "#f1b6da"
            ],
            [
             0.4,
             "#fde0ef"
            ],
            [
             0.5,
             "#f7f7f7"
            ],
            [
             0.6,
             "#e6f5d0"
            ],
            [
             0.7,
             "#b8e186"
            ],
            [
             0.8,
             "#7fbc41"
            ],
            [
             0.9,
             "#4d9221"
            ],
            [
             1,
             "#276419"
            ]
           ],
           "sequential": [
            [
             0,
             "#0d0887"
            ],
            [
             0.1111111111111111,
             "#46039f"
            ],
            [
             0.2222222222222222,
             "#7201a8"
            ],
            [
             0.3333333333333333,
             "#9c179e"
            ],
            [
             0.4444444444444444,
             "#bd3786"
            ],
            [
             0.5555555555555556,
             "#d8576b"
            ],
            [
             0.6666666666666666,
             "#ed7953"
            ],
            [
             0.7777777777777778,
             "#fb9f3a"
            ],
            [
             0.8888888888888888,
             "#fdca26"
            ],
            [
             1,
             "#f0f921"
            ]
           ],
           "sequentialminus": [
            [
             0,
             "#0d0887"
            ],
            [
             0.1111111111111111,
             "#46039f"
            ],
            [
             0.2222222222222222,
             "#7201a8"
            ],
            [
             0.3333333333333333,
             "#9c179e"
            ],
            [
             0.4444444444444444,
             "#bd3786"
            ],
            [
             0.5555555555555556,
             "#d8576b"
            ],
            [
             0.6666666666666666,
             "#ed7953"
            ],
            [
             0.7777777777777778,
             "#fb9f3a"
            ],
            [
             0.8888888888888888,
             "#fdca26"
            ],
            [
             1,
             "#f0f921"
            ]
           ]
          },
          "colorway": [
           "#636efa",
           "#EF553B",
           "#00cc96",
           "#ab63fa",
           "#FFA15A",
           "#19d3f3",
           "#FF6692",
           "#B6E880",
           "#FF97FF",
           "#FECB52"
          ],
          "font": {
           "color": "#2a3f5f"
          },
          "geo": {
           "bgcolor": "white",
           "lakecolor": "white",
           "landcolor": "#E5ECF6",
           "showlakes": true,
           "showland": true,
           "subunitcolor": "white"
          },
          "hoverlabel": {
           "align": "left"
          },
          "hovermode": "closest",
          "mapbox": {
           "style": "light"
          },
          "paper_bgcolor": "white",
          "plot_bgcolor": "#E5ECF6",
          "polar": {
           "angularaxis": {
            "gridcolor": "white",
            "linecolor": "white",
            "ticks": ""
           },
           "bgcolor": "#E5ECF6",
           "radialaxis": {
            "gridcolor": "white",
            "linecolor": "white",
            "ticks": ""
           }
          },
          "scene": {
           "xaxis": {
            "backgroundcolor": "#E5ECF6",
            "gridcolor": "white",
            "gridwidth": 2,
            "linecolor": "white",
            "showbackground": true,
            "ticks": "",
            "zerolinecolor": "white"
           },
           "yaxis": {
            "backgroundcolor": "#E5ECF6",
            "gridcolor": "white",
            "gridwidth": 2,
            "linecolor": "white",
            "showbackground": true,
            "ticks": "",
            "zerolinecolor": "white"
           },
           "zaxis": {
            "backgroundcolor": "#E5ECF6",
            "gridcolor": "white",
            "gridwidth": 2,
            "linecolor": "white",
            "showbackground": true,
            "ticks": "",
            "zerolinecolor": "white"
           }
          },
          "shapedefaults": {
           "line": {
            "color": "#2a3f5f"
           }
          },
          "ternary": {
           "aaxis": {
            "gridcolor": "white",
            "linecolor": "white",
            "ticks": ""
           },
           "baxis": {
            "gridcolor": "white",
            "linecolor": "white",
            "ticks": ""
           },
           "bgcolor": "#E5ECF6",
           "caxis": {
            "gridcolor": "white",
            "linecolor": "white",
            "ticks": ""
           }
          },
          "title": {
           "x": 0.05
          },
          "xaxis": {
           "automargin": true,
           "gridcolor": "white",
           "linecolor": "white",
           "ticks": "",
           "title": {
            "standoff": 15
           },
           "zerolinecolor": "white",
           "zerolinewidth": 2
          },
          "yaxis": {
           "automargin": true,
           "gridcolor": "white",
           "linecolor": "white",
           "ticks": "",
           "title": {
            "standoff": 15
           },
           "zerolinecolor": "white",
           "zerolinewidth": 2
          }
         }
        },
        "title": {},
        "xaxis": {
         "tickfont": {
          "size": 18
         },
         "tickmode": "array",
         "tickvals": [
          1,
          2,
          3,
          4,
          5
         ],
         "title": {
          "font": {
           "size": 18
          },
          "text": "Ranking Position"
         }
        },
        "yaxis": {
         "tickfont": {
          "size": 18
         },
         "title": {
          "font": {
           "size": 18
          },
          "text": "Normalized Count"
         }
        }
       }
      }
     },
     "metadata": {},
     "output_type": "display_data"
    }
   ],
   "source": [
    "acme_rank_counting = acme_rankings.apply(pd.Series.value_counts).fillna(0).astype(int)\n",
    "acme_rank_counting = acme_rank_counting / acme_rank_counting.sum()\n",
    "\n",
    "acme_stacked_barplot_fig = feature_importance_distribution_barplot(acme_rank_counting, n_positions = 5, threshold=0.05, color_pattern_dict =feature_colors )\n",
    "acme_stacked_barplot_fig.show()"
   ]
  },
  {
   "cell_type": "markdown",
   "metadata": {},
   "source": [
    "Local what-if analysis tool"
   ]
  },
  {
   "cell_type": "code",
   "execution_count": 10,
   "metadata": {},
   "outputs": [
    {
     "name": "stdout",
     "output_type": "stream",
     "text": [
      "Using default weights for anomaly detection feature importance\n"
     ]
    },
    {
     "data": {
      "application/vnd.plotly.v1+json": {
       "config": {
        "plotlyServerURL": "https://plot.ly"
       },
       "data": [
        {
         "customdata": [
          [
           0
          ],
          [
           0
          ],
          [
           0
          ],
          [
           0
          ],
          [
           0
          ],
          [
           0
          ],
          [
           0
          ],
          [
           0
          ],
          [
           0
          ],
          [
           0
          ],
          [
           0
          ],
          [
           0
          ],
          [
           0
          ],
          [
           0
          ],
          [
           0
          ],
          [
           0
          ],
          [
           0
          ],
          [
           0
          ],
          [
           0
          ],
          [
           0
          ],
          [
           0
          ],
          [
           0
          ],
          [
           0
          ],
          [
           0
          ],
          [
           0
          ],
          [
           2
          ],
          [
           1
          ],
          [
           1
          ],
          [
           1
          ],
          [
           1
          ],
          [
           1
          ],
          [
           1
          ],
          [
           0.1894
          ],
          [
           0
          ],
          [
           0
          ],
          [
           0
          ],
          [
           0
          ],
          [
           0
          ],
          [
           0
          ],
          [
           0
          ],
          [
           0
          ],
          [
           0
          ],
          [
           0
          ],
          [
           0
          ],
          [
           0
          ],
          [
           0
          ],
          [
           0
          ],
          [
           0
          ],
          [
           0
          ],
          [
           2
          ],
          [
           0
          ],
          [
           2
          ],
          [
           2
          ],
          [
           2
          ],
          [
           2
          ],
          [
           2.3717
          ],
          [
           3
          ],
          [
           3
          ],
          [
           3
          ],
          [
           3
          ],
          [
           3
          ],
          [
           2
          ],
          [
           3
          ],
          [
           4
          ],
          [
           4
          ],
          [
           5
          ],
          [
           5
          ],
          [
           5
          ],
          [
           6
          ],
          [
           6
          ],
          [
           7
          ],
          [
           7
          ],
          [
           8
          ],
          [
           4
          ],
          [
           9
          ],
          [
           2
          ],
          [
           1
          ],
          [
           0
          ],
          [
           0
          ],
          [
           0
          ],
          [
           0
          ],
          [
           0
          ],
          [
           0
          ],
          [
           0
          ],
          [
           0
          ],
          [
           0
          ],
          [
           0
          ],
          [
           2
          ],
          [
           0
          ],
          [
           0
          ],
          [
           0
          ],
          [
           0
          ],
          [
           0
          ],
          [
           1
          ],
          [
           1
          ],
          [
           1
          ],
          [
           1
          ],
          [
           1
          ],
          [
           1
          ],
          [
           0
          ],
          [
           0
          ],
          [
           31
          ],
          [
           0
          ],
          [
           0
          ],
          [
           0
          ],
          [
           0
          ],
          [
           0
          ],
          [
           0
          ],
          [
           0
          ],
          [
           0
          ],
          [
           0
          ],
          [
           0
          ],
          [
           0
          ],
          [
           0
          ],
          [
           0
          ],
          [
           0
          ],
          [
           0
          ],
          [
           0
          ],
          [
           0
          ],
          [
           0
          ],
          [
           0
          ],
          [
           0
          ],
          [
           0
          ],
          [
           0
          ],
          [
           0.0639
          ],
          [
           0
          ],
          [
           0
          ],
          [
           0
          ],
          [
           1
          ],
          [
           0
          ],
          [
           0
          ],
          [
           0
          ],
          [
           0
          ],
          [
           0
          ],
          [
           0
          ],
          [
           0
          ],
          [
           0
          ],
          [
           0
          ],
          [
           0
          ],
          [
           0
          ],
          [
           0
          ],
          [
           0
          ],
          [
           0
          ],
          [
           0
          ],
          [
           0
          ],
          [
           0
          ],
          [
           0
          ],
          [
           0
          ],
          [
           0
          ],
          [
           0
          ],
          [
           0
          ],
          [
           0
          ],
          [
           0
          ],
          [
           7
          ],
          [
           9
          ],
          [
           9
          ],
          [
           8
          ],
          [
           8
          ],
          [
           7
          ],
          [
           7.3824
          ],
          [
           7
          ],
          [
           7
          ],
          [
           9
          ],
          [
           8
          ],
          [
           10
          ],
          [
           13
          ],
          [
           10
          ],
          [
           11
          ],
          [
           11
          ],
          [
           12
          ],
          [
           13
          ],
          [
           14
          ],
          [
           16
          ],
          [
           18
          ],
          [
           20
          ],
          [
           34
          ],
          [
           10
          ],
          [
           6
          ],
          [
           6
          ],
          [
           0
          ],
          [
           1
          ],
          [
           1
          ],
          [
           1
          ],
          [
           2
          ],
          [
           2
          ],
          [
           2
          ],
          [
           6
          ],
          [
           2
          ],
          [
           3
          ],
          [
           3
          ],
          [
           3
          ],
          [
           2
          ],
          [
           4
          ],
          [
           3
          ],
          [
           5
          ],
          [
           5
          ],
          [
           5
          ],
          [
           5
          ],
          [
           6
          ],
          [
           4
          ],
          [
           4
          ],
          [
           4
          ],
          [
           4
          ],
          [
           5
          ],
          [
           20
          ],
          [
           20
          ],
          [
           21
          ],
          [
           21.3934
          ],
          [
           22
          ],
          [
           22
          ],
          [
           23
          ],
          [
           23
          ],
          [
           24
          ],
          [
           25
          ],
          [
           49
          ],
          [
           26
          ],
          [
           28
          ],
          [
           28
          ],
          [
           30
          ],
          [
           31
          ],
          [
           32
          ],
          [
           33
          ],
          [
           35
          ],
          [
           37
          ],
          [
           40
          ],
          [
           20
          ],
          [
           26
          ],
          [
           19
          ],
          [
           13
          ],
          [
           18
          ],
          [
           74
          ],
          [
           6
          ],
          [
           6
          ],
          [
           7
          ],
          [
           8
          ],
          [
           9
          ],
          [
           10
          ],
          [
           10
          ],
          [
           11
          ],
          [
           11
          ],
          [
           19
          ],
          [
           12
          ],
          [
           13
          ],
          [
           14
          ],
          [
           14
          ],
          [
           14
          ],
          [
           15
          ],
          [
           15
          ],
          [
           16
          ],
          [
           17
          ],
          [
           17
          ],
          [
           18
          ],
          [
           12
          ],
          [
           43.725
          ],
          [
           4
          ],
          [
           0
          ],
          [
           0
          ],
          [
           0
          ],
          [
           0
          ],
          [
           0
          ],
          [
           0
          ],
          [
           0
          ],
          [
           0.3317
          ],
          [
           1
          ],
          [
           1
          ],
          [
           1
          ],
          [
           0
          ],
          [
           1
          ],
          [
           1
          ],
          [
           1
          ],
          [
           1
          ],
          [
           1
          ],
          [
           1
          ],
          [
           1
          ],
          [
           1
          ],
          [
           1
          ],
          [
           1
          ],
          [
           1
          ],
          [
           1
          ],
          [
           0
          ],
          [
           1
          ],
          [
           0
          ],
          [
           0
          ],
          [
           0
          ],
          [
           0
          ],
          [
           0
          ],
          [
           0
          ],
          [
           0
          ],
          [
           0
          ],
          [
           0
          ],
          [
           0
          ],
          [
           0
          ],
          [
           0
          ],
          [
           0
          ],
          [
           0
          ],
          [
           0
          ],
          [
           0
          ],
          [
           0
          ],
          [
           0
          ],
          [
           0
          ],
          [
           0
          ],
          [
           0
          ],
          [
           0
          ],
          [
           0
          ],
          [
           0
          ],
          [
           0
          ],
          [
           1
          ],
          [
           1
          ],
          [
           1
          ],
          [
           1
          ],
          [
           1
          ],
          [
           1
          ],
          [
           1
          ],
          [
           1
          ],
          [
           1
          ],
          [
           0.7218
          ],
          [
           0
          ],
          [
           0
          ],
          [
           0
          ],
          [
           0
          ],
          [
           0
          ],
          [
           0
          ],
          [
           0
          ],
          [
           0
          ],
          [
           0
          ],
          [
           0
          ],
          [
           0
          ],
          [
           1
          ],
          [
           0
          ],
          [
           1
          ],
          [
           1
          ],
          [
           1
          ],
          [
           0
          ],
          [
           1
          ],
          [
           1
          ],
          [
           1
          ],
          [
           1
          ],
          [
           1
          ],
          [
           1
          ],
          [
           1
          ],
          [
           1
          ],
          [
           1
          ],
          [
           1
          ],
          [
           1
          ],
          [
           1
          ],
          [
           1
          ],
          [
           1
          ],
          [
           1
          ],
          [
           1
          ],
          [
           1
          ],
          [
           1
          ],
          [
           1
          ],
          [
           1
          ],
          [
           1
          ],
          [
           1
          ],
          [
           1
          ],
          [
           1
          ],
          [
           0
          ],
          [
           0
          ],
          [
           0
          ],
          [
           0
          ],
          [
           0
          ],
          [
           0
          ],
          [
           0
          ],
          [
           0
          ],
          [
           0
          ],
          [
           0
          ],
          [
           0
          ],
          [
           0
          ],
          [
           0
          ],
          [
           0
          ],
          [
           0
          ],
          [
           0
          ],
          [
           0
          ],
          [
           0
          ],
          [
           0
          ],
          [
           0
          ],
          [
           0
          ],
          [
           0.1057
          ],
          [
           1
          ],
          [
           0
          ],
          [
           0
          ],
          [
           0
          ],
          [
           0
          ],
          [
           0
          ],
          [
           0
          ],
          [
           0
          ],
          [
           0
          ],
          [
           0
          ],
          [
           0
          ],
          [
           0
          ],
          [
           0
          ],
          [
           0
          ],
          [
           0
          ],
          [
           1
          ],
          [
           0
          ],
          [
           0
          ],
          [
           0
          ],
          [
           0
          ],
          [
           0
          ],
          [
           0
          ],
          [
           0
          ],
          [
           0
          ],
          [
           0
          ],
          [
           0
          ],
          [
           0
          ],
          [
           0
          ],
          [
           1
          ],
          [
           33
          ],
          [
           0
          ],
          [
           13
          ],
          [
           4
          ],
          [
           3
          ],
          [
           3
          ],
          [
           3
          ],
          [
           3
          ],
          [
           3
          ],
          [
           3
          ],
          [
           2
          ],
          [
           2
          ],
          [
           2
          ],
          [
           4
          ],
          [
           2
          ],
          [
           1
          ],
          [
           1
          ],
          [
           1
          ],
          [
           1
          ],
          [
           1
          ],
          [
           1
          ],
          [
           0
          ],
          [
           0
          ],
          [
           0
          ],
          [
           15
          ],
          [
           2
          ],
          [
           4
          ],
          [
           4
          ],
          [
           12
          ],
          [
           4
          ],
          [
           11
          ],
          [
           10
          ],
          [
           10
          ],
          [
           9
          ],
          [
           9
          ],
          [
           8
          ],
          [
           8
          ],
          [
           7
          ],
          [
           7
          ],
          [
           7
          ],
          [
           8
          ],
          [
           6
          ],
          [
           6
          ],
          [
           6
          ],
          [
           5.3806
          ],
          [
           5
          ],
          [
           5
          ],
          [
           5
          ],
          [
           5
          ],
          [
           5
          ],
          [
           6
          ],
          [
           5
          ],
          [
           3
          ],
          [
           3
          ],
          [
           4
          ],
          [
           4
          ],
          [
           4
          ],
          [
           4
          ],
          [
           4
          ],
          [
           3
          ],
          [
           4
          ],
          [
           3
          ],
          [
           16
          ],
          [
           2
          ],
          [
           2
          ],
          [
           2
          ],
          [
           2
          ],
          [
           2
          ],
          [
           2
          ],
          [
           1
          ],
          [
           1
          ],
          [
           1
          ],
          [
           5
          ],
          [
           1
          ],
          [
           3
          ],
          [
           5
          ],
          [
           7
          ],
          [
           5
          ],
          [
           34
          ],
          [
           13
          ],
          [
           12
          ],
          [
           11
          ],
          [
           11
          ],
          [
           10
          ],
          [
           10
          ],
          [
           9
          ],
          [
           9
          ],
          [
           9
          ],
          [
           5
          ],
          [
           8
          ],
          [
           8
          ],
          [
           7
          ],
          [
           7
          ],
          [
           7
          ],
          [
           6.3802
          ],
          [
           6
          ],
          [
           6
          ],
          [
           6
          ],
          [
           6
          ],
          [
           6
          ],
          [
           8
          ],
          [
           14
          ]
         ],
         "hovertemplate": "Feature: <b>%{y}</b><br><br>Predict: %{x}<br>Original value: %{customdata[0]}<br>Quantile: %{marker.color}",
         "legendgroup": "",
         "marker": {
          "color": [
           0.4438,
           0.425,
           0.4062,
           0.4055,
           0.3875,
           0.3687,
           0.35,
           0.3312,
           0.3125,
           0.2938,
           0.275,
           0.2562,
           0.2375,
           0.2188,
           0.2,
           0.1813,
           0.1625,
           0.1438,
           0.125,
           0.1062,
           0.0875,
           0.4625,
           0.4812,
           0.5188,
           0.5375,
           0.9312,
           0.9125,
           0.8938,
           0.875,
           0.8562,
           0.8375,
           0.8188,
           0.8106,
           0.8,
           0.7812,
           0.0688,
           0.7625,
           0.725,
           0.7062,
           0.6875,
           0.6688,
           0.65,
           0.6312,
           0.6125,
           0.5938,
           0.575,
           0.5562,
           0.7438,
           0.05,
           0.95,
           0.5,
           0.5562,
           0.575,
           0.5938,
           0.6125,
           0.6283,
           0.6312,
           0.65,
           0.6688,
           0.6875,
           0.7062,
           0.5375,
           0.725,
           0.7625,
           0.7812,
           0.8,
           0.8188,
           0.8375,
           0.8562,
           0.875,
           0.8938,
           0.9125,
           0.9312,
           0.7438,
           0.95,
           0.5188,
           0.4812,
           0.0688,
           0.0875,
           0.1062,
           0.125,
           0.1438,
           0.1625,
           0.1813,
           0.2,
           0.2188,
           0.2375,
           0.5,
           0.2562,
           0.2938,
           0.3125,
           0.3312,
           0.35,
           0.3687,
           0.3875,
           0.4062,
           0.425,
           0.4438,
           0.4625,
           0.275,
           0.05,
           1,
           0.05,
           0.5375,
           0.5562,
           0.575,
           0.5938,
           0.6125,
           0.6312,
           0.65,
           0.6688,
           0.6875,
           0.725,
           0.5188,
           0.7438,
           0.7812,
           0.8,
           0.8188,
           0.8375,
           0.8562,
           0.875,
           0.8938,
           0.9125,
           0.9312,
           0.9361,
           0.7625,
           0.5,
           0.7062,
           0.95,
           0.4812,
           0.0875,
           0.1062,
           0.125,
           0.1438,
           0.1625,
           0.1813,
           0.2,
           0.2188,
           0.2375,
           0.2562,
           0.275,
           0.0688,
           0.3125,
           0.3312,
           0.35,
           0.3687,
           0.3875,
           0.4062,
           0.425,
           0.4438,
           0.4625,
           0.4683,
           0.2938,
           0.5562,
           0.7062,
           0.6875,
           0.6688,
           0.65,
           0.575,
           0.6176,
           0.6125,
           0.5938,
           0.725,
           0.6312,
           0.7438,
           0.8562,
           0.7812,
           0.8,
           0.8188,
           0.8375,
           0.875,
           0.8938,
           0.9125,
           0.9312,
           0.95,
           0.9862,
           0.7625,
           0.5375,
           0.5,
           0.05,
           0.0688,
           0.0875,
           0.1062,
           0.125,
           0.1438,
           0.1625,
           0.5188,
           0.2,
           0.2188,
           0.2375,
           0.2562,
           0.1813,
           0.2938,
           0.275,
           0.4625,
           0.4438,
           0.425,
           0.4062,
           0.4812,
           0.3687,
           0.35,
           0.3312,
           0.3125,
           0.3875,
           0.5562,
           0.575,
           0.5938,
           0.6066,
           0.6125,
           0.6312,
           0.65,
           0.6688,
           0.6875,
           0.7062,
           0.95,
           0.7438,
           0.7625,
           0.7812,
           0.8,
           0.8188,
           0.8375,
           0.8562,
           0.875,
           0.8938,
           0.9125,
           0.5375,
           0.725,
           0.5188,
           0.275,
           0.4812,
           0.9837,
           0.0688,
           0.0875,
           0.1062,
           0.125,
           0.1438,
           0.1625,
           0.1813,
           0.2,
           0.2188,
           0.5,
           0.2375,
           0.2938,
           0.3125,
           0.3312,
           0.35,
           0.3687,
           0.3875,
           0.4062,
           0.425,
           0.4438,
           0.4625,
           0.2562,
           0.9312,
           0.05,
           0.05,
           0.5562,
           0.575,
           0.5938,
           0.6125,
           0.6312,
           0.65,
           0.6683,
           0.6688,
           0.6875,
           0.7062,
           0.5375,
           0.725,
           0.7625,
           0.7812,
           0.8,
           0.8188,
           0.8375,
           0.8562,
           0.875,
           0.8938,
           0.9125,
           0.9312,
           0.7438,
           0.5188,
           0.95,
           0.4812,
           0.0688,
           0.0875,
           0.1062,
           0.125,
           0.1438,
           0.1625,
           0.5,
           0.2,
           0.2188,
           0.2375,
           0.2562,
           0.1813,
           0.2938,
           0.275,
           0.4438,
           0.425,
           0.4062,
           0.3875,
           0.4625,
           0.35,
           0.3343,
           0.3312,
           0.3125,
           0.3687,
           0.4438,
           0.425,
           0.4062,
           0.3875,
           0.3687,
           0.35,
           0.3312,
           0.3125,
           0.2938,
           0.2782,
           0.0688,
           0.2562,
           0.2375,
           0.2188,
           0.2,
           0.1813,
           0.1625,
           0.1438,
           0.125,
           0.1062,
           0.0875,
           0.4625,
           0.275,
           0.4812,
           0.6875,
           0.5188,
           0.05,
           0.9125,
           0.8938,
           0.875,
           0.8562,
           0.8375,
           0.8188,
           0.8,
           0.7812,
           0.7625,
           0.5,
           0.7438,
           0.7062,
           0.6688,
           0.65,
           0.6393,
           0.6312,
           0.6125,
           0.5938,
           0.575,
           0.5562,
           0.5375,
           0.725,
           0.95,
           0.9312,
           0.4812,
           0.5375,
           0.5562,
           0.575,
           0.5938,
           0.6125,
           0.6312,
           0.65,
           0.6688,
           0.6875,
           0.7062,
           0.5188,
           0.725,
           0.7625,
           0.7812,
           0.8,
           0.8188,
           0.8375,
           0.8562,
           0.875,
           0.8938,
           0.8943,
           0.9125,
           0.7438,
           0.5,
           0.4625,
           0.4473,
           0.05,
           0.0688,
           0.0875,
           0.1062,
           0.125,
           0.1438,
           0.1625,
           0.1813,
           0.2,
           0.2188,
           0.95,
           0.2375,
           0.275,
           0.2938,
           0.3125,
           0.3312,
           0.35,
           0.3687,
           0.3875,
           0.4062,
           0.425,
           0.4438,
           0.2562,
           0.9312,
           0.9985,
           0.05,
           0.9312,
           0.4438,
           0.425,
           0.4062,
           0.3875,
           0.3687,
           0.35,
           0.3312,
           0.3125,
           0.2938,
           0.275,
           0.4625,
           0.2562,
           0.2188,
           0.2,
           0.1813,
           0.1625,
           0.1438,
           0.125,
           0.1062,
           0.0875,
           0.0688,
           0.95,
           0.2375,
           0.4812,
           0.5188,
           0.9125,
           0.5,
           0.8938,
           0.875,
           0.8562,
           0.8375,
           0.8188,
           0.8,
           0.7625,
           0.7438,
           0.725,
           0.7062,
           0.7812,
           0.6688,
           0.65,
           0.6312,
           0.6194,
           0.6125,
           0.5938,
           0.575,
           0.5562,
           0.5375,
           0.6875,
           0.4438,
           0.2938,
           0.3125,
           0.3312,
           0.425,
           0.3687,
           0.3875,
           0.4062,
           0.275,
           0.35,
           0.2562,
           0.95,
           0.2188,
           0.2,
           0.1813,
           0.1625,
           0.1438,
           0.125,
           0.1062,
           0.0875,
           0.0688,
           0.4625,
           0.05,
           0.2375,
           0.4812,
           0.6875,
           0.5188,
           0.9985,
           0.9125,
           0.8938,
           0.875,
           0.8562,
           0.8375,
           0.8188,
           0.8,
           0.7812,
           0.7625,
           0.5,
           0.7438,
           0.7062,
           0.6688,
           0.65,
           0.6312,
           0.6198,
           0.6125,
           0.5938,
           0.575,
           0.5562,
           0.5375,
           0.725,
           0.9312
          ],
          "coloraxis": "coloraxis",
          "size": [
           0.05,
           0.05,
           0.05,
           0.3,
           0.05,
           0.05,
           0.05,
           0.05,
           0.05,
           0.05,
           0.05,
           0.05,
           0.05,
           0.05,
           0.05,
           0.05,
           0.05,
           0.05,
           0.05,
           0.05,
           0.05,
           0.05,
           0.05,
           0.05,
           0.05,
           0.05,
           0.05,
           0.05,
           0.05,
           0.05,
           0.05,
           0.05,
           0.05,
           0.05,
           0.05,
           0.05,
           0.05,
           0.05,
           0.05,
           0.05,
           0.05,
           0.05,
           0.05,
           0.05,
           0.05,
           0.05,
           0.05,
           0.05,
           0.05,
           0.05,
           0.05,
           0.05,
           0.05,
           0.05,
           0.05,
           0.05,
           0.05,
           0.05,
           0.05,
           0.05,
           0.05,
           0.05,
           0.05,
           0.05,
           0.05,
           0.05,
           0.05,
           0.05,
           0.05,
           0.05,
           0.05,
           0.05,
           0.05,
           0.05,
           0.05,
           0.05,
           0.05,
           0.05,
           0.05,
           0.05,
           0.05,
           0.05,
           0.05,
           0.05,
           0.05,
           0.05,
           0.05,
           0.05,
           0.05,
           0.05,
           0.05,
           0.05,
           0.05,
           0.05,
           0.05,
           0.05,
           0.05,
           0.05,
           0.05,
           0.05,
           0.05,
           0.3,
           0.05,
           0.05,
           0.05,
           0.05,
           0.05,
           0.05,
           0.05,
           0.05,
           0.05,
           0.05,
           0.05,
           0.05,
           0.05,
           0.05,
           0.05,
           0.05,
           0.05,
           0.05,
           0.05,
           0.05,
           0.05,
           0.05,
           0.05,
           0.05,
           0.05,
           0.05,
           0.05,
           0.05,
           0.05,
           0.05,
           0.05,
           0.05,
           0.05,
           0.05,
           0.05,
           0.05,
           0.05,
           0.05,
           0.05,
           0.05,
           0.05,
           0.05,
           0.05,
           0.05,
           0.05,
           0.05,
           0.05,
           0.05,
           0.05,
           0.3,
           0.05,
           0.05,
           0.05,
           0.05,
           0.05,
           0.05,
           0.05,
           0.05,
           0.05,
           0.05,
           0.05,
           0.05,
           0.05,
           0.05,
           0.05,
           0.05,
           0.05,
           0.05,
           0.05,
           0.05,
           0.05,
           0.05,
           0.05,
           0.3,
           0.05,
           0.05,
           0.05,
           0.05,
           0.05,
           0.05,
           0.05,
           0.05,
           0.05,
           0.05,
           0.05,
           0.05,
           0.05,
           0.05,
           0.05,
           0.05,
           0.05,
           0.05,
           0.05,
           0.05,
           0.05,
           0.05,
           0.05,
           0.05,
           0.05,
           0.05,
           0.05,
           0.05,
           0.05,
           0.05,
           0.05,
           0.05,
           0.05,
           0.05,
           0.05,
           0.05,
           0.05,
           0.05,
           0.05,
           0.05,
           0.05,
           0.05,
           0.05,
           0.05,
           0.05,
           0.05,
           0.05,
           0.05,
           0.05,
           0.05,
           0.05,
           0.05,
           0.05,
           0.05,
           0.3,
           0.05,
           0.05,
           0.05,
           0.05,
           0.05,
           0.05,
           0.05,
           0.05,
           0.05,
           0.05,
           0.05,
           0.05,
           0.05,
           0.05,
           0.05,
           0.05,
           0.05,
           0.05,
           0.05,
           0.05,
           0.05,
           0.05,
           0.05,
           0.05,
           0.05,
           0.05,
           0.05,
           0.05,
           0.05,
           0.05,
           0.05,
           0.05,
           0.05,
           0.05,
           0.05,
           0.05,
           0.05,
           0.05,
           0.05,
           0.05,
           0.05,
           0.05,
           0.05,
           0.05,
           0.05,
           0.05,
           0.05,
           0.05,
           0.05,
           0.05,
           0.05,
           0.05,
           0.05,
           0.05,
           0.05,
           0.05,
           0.05,
           0.05,
           0.05,
           0.05,
           0.05,
           0.05,
           0.05,
           0.05,
           0.05,
           0.05,
           0.05,
           0.05,
           0.05,
           0.05,
           0.05,
           0.3,
           0.05,
           0.05,
           0.05,
           0.05,
           0.05,
           0.05,
           0.05,
           0.05,
           0.05,
           0.05,
           0.05,
           0.05,
           0.05,
           0.05,
           0.05,
           0.05,
           0.05,
           0.05,
           0.05,
           0.05,
           0.05,
           0.05,
           0.05,
           0.05,
           0.05,
           0.05,
           0.05,
           0.05,
           0.05,
           0.05,
           0.05,
           0.05,
           0.05,
           0.05,
           0.05,
           0.05,
           0.05,
           0.05,
           0.05,
           0.05,
           0.05,
           0.05,
           0.05,
           0.05,
           0.3,
           0.05,
           0.05,
           0.05,
           0.05,
           0.05,
           0.05,
           0.05,
           0.05,
           0.05,
           0.05,
           0.05,
           0.05,
           0.05,
           0.05,
           0.05,
           0.05,
           0.05,
           0.05,
           0.05,
           0.05,
           0.05,
           0.05,
           0.05,
           0.05,
           0.05,
           0.05,
           0.05,
           0.05,
           0.05,
           0.05,
           0.05,
           0.05,
           0.05,
           0.05,
           0.05,
           0.3,
           0.05,
           0.05,
           0.05,
           0.05,
           0.05,
           0.05,
           0.05,
           0.05,
           0.05,
           0.05,
           0.05,
           0.05,
           0.05,
           0.05,
           0.05,
           0.05,
           0.05,
           0.05,
           0.05,
           0.05,
           0.05,
           0.05,
           0.05,
           0.05,
           0.3,
           0.05,
           0.05,
           0.05,
           0.05,
           0.05,
           0.05,
           0.05,
           0.05,
           0.05,
           0.05,
           0.05,
           0.05,
           0.05,
           0.05,
           0.05,
           0.05,
           0.05,
           0.05,
           0.05,
           0.05,
           0.05,
           0.05,
           0.05,
           0.05,
           0.05,
           0.05,
           0.05,
           0.05,
           0.05,
           0.05,
           0.05,
           0.05,
           0.05,
           0.05,
           0.05,
           0.05,
           0.05,
           0.05,
           0.05,
           0.05,
           0.05,
           0.05,
           0.05,
           0.05,
           0.05,
           0.05,
           0.05,
           0.05,
           0.05,
           0.05,
           0.05,
           0.05,
           0.05,
           0.05,
           0.05,
           0.05,
           0.05,
           0.05,
           0.05,
           0.05,
           0.05,
           0.05,
           0.05,
           0.05,
           0.05,
           0.05,
           0.05,
           0.05,
           0.05,
           0.05,
           0.05,
           0.05,
           0.05,
           0.05,
           0.05,
           0.05,
           0.05,
           0.3,
           0.05,
           0.05,
           0.05,
           0.05,
           0.05,
           0.05,
           0.05,
           0.05,
           0.05,
           0.05,
           0.05,
           0.05,
           0.05,
           0.05,
           0.05,
           0.05,
           0.05,
           0.05,
           0.05,
           0.05,
           0.05,
           0.05,
           0.05
          ],
          "sizemode": "area",
          "sizeref": 0.00075,
          "symbol": "circle"
         },
         "mode": "markers",
         "name": "",
         "orientation": "h",
         "showlegend": false,
         "type": "scatter",
         "x": [
          0.5115,
          0.5115,
          0.5115,
          0.5115,
          0.5115,
          0.5115,
          0.5115,
          0.5115,
          0.5115,
          0.5115,
          0.5115,
          0.5115,
          0.5115,
          0.5115,
          0.5115,
          0.5115,
          0.5115,
          0.5115,
          0.5115,
          0.5115,
          0.5115,
          0.5115,
          0.5115,
          0.5115,
          0.5115,
          0.5108,
          0.5095,
          0.5095,
          0.5095,
          0.5095,
          0.5095,
          0.5095,
          0.5115,
          0.5115,
          0.5115,
          0.5115,
          0.5115,
          0.5115,
          0.5115,
          0.5115,
          0.5115,
          0.5115,
          0.5115,
          0.5115,
          0.5115,
          0.5115,
          0.5115,
          0.5115,
          0.5115,
          0.5108,
          0.5115,
          0.5095,
          0.5095,
          0.5095,
          0.5095,
          0.5095,
          0.5095,
          0.5095,
          0.5095,
          0.5095,
          0.5095,
          0.5095,
          0.5095,
          0.5095,
          0.5095,
          0.5099,
          0.5099,
          0.5099,
          0.5099,
          0.5099,
          0.5099,
          0.5099,
          0.5101,
          0.5095,
          0.5101,
          0.5095,
          0.5095,
          0.509,
          0.509,
          0.509,
          0.509,
          0.509,
          0.509,
          0.509,
          0.509,
          0.509,
          0.509,
          0.5095,
          0.509,
          0.509,
          0.509,
          0.509,
          0.509,
          0.5095,
          0.5095,
          0.5095,
          0.5095,
          0.5095,
          0.5095,
          0.509,
          0.509,
          0.5115,
          0.5115,
          0.5115,
          0.5115,
          0.5115,
          0.5115,
          0.5115,
          0.5115,
          0.5115,
          0.5115,
          0.5115,
          0.5115,
          0.5115,
          0.5115,
          0.5115,
          0.5115,
          0.5115,
          0.5115,
          0.5115,
          0.5115,
          0.5115,
          0.5115,
          0.5115,
          0.5098,
          0.5115,
          0.5115,
          0.5115,
          0.5083,
          0.5115,
          0.5115,
          0.5115,
          0.5115,
          0.5115,
          0.5115,
          0.5115,
          0.5115,
          0.5115,
          0.5115,
          0.5115,
          0.5115,
          0.5115,
          0.5115,
          0.5115,
          0.5115,
          0.5115,
          0.5115,
          0.5115,
          0.5115,
          0.5115,
          0.5115,
          0.5115,
          0.5115,
          0.506,
          0.5065,
          0.5065,
          0.5065,
          0.5065,
          0.506,
          0.506,
          0.506,
          0.506,
          0.5065,
          0.5065,
          0.5065,
          0.5065,
          0.5065,
          0.5065,
          0.5065,
          0.5065,
          0.5065,
          0.5065,
          0.5076,
          0.5076,
          0.5076,
          0.5115,
          0.5065,
          0.506,
          0.506,
          0.5057,
          0.506,
          0.506,
          0.506,
          0.506,
          0.506,
          0.506,
          0.506,
          0.506,
          0.506,
          0.506,
          0.506,
          0.506,
          0.506,
          0.506,
          0.506,
          0.506,
          0.506,
          0.506,
          0.506,
          0.506,
          0.506,
          0.506,
          0.506,
          0.506,
          0.5053,
          0.5053,
          0.5053,
          0.5053,
          0.5053,
          0.5053,
          0.5053,
          0.5053,
          0.5062,
          0.5062,
          0.5099,
          0.5062,
          0.5062,
          0.5062,
          0.5062,
          0.5059,
          0.507,
          0.508,
          0.508,
          0.508,
          0.508,
          0.5053,
          0.5062,
          0.5053,
          0.5031,
          0.5053,
          0.5115,
          0.5031,
          0.5031,
          0.5031,
          0.5031,
          0.5031,
          0.5031,
          0.5031,
          0.5031,
          0.5031,
          0.5053,
          0.5031,
          0.5031,
          0.5031,
          0.5031,
          0.5031,
          0.5036,
          0.5036,
          0.5036,
          0.5053,
          0.5053,
          0.5053,
          0.5031,
          0.508,
          0.5031,
          0.5115,
          0.5115,
          0.5115,
          0.5115,
          0.5115,
          0.5115,
          0.5115,
          0.5023,
          0.511,
          0.511,
          0.511,
          0.5115,
          0.511,
          0.511,
          0.511,
          0.511,
          0.511,
          0.511,
          0.511,
          0.511,
          0.511,
          0.511,
          0.511,
          0.511,
          0.5115,
          0.511,
          0.5115,
          0.5115,
          0.5115,
          0.5115,
          0.5115,
          0.5115,
          0.5115,
          0.5115,
          0.5115,
          0.5115,
          0.5115,
          0.5115,
          0.5115,
          0.5115,
          0.5115,
          0.5115,
          0.5115,
          0.5115,
          0.5115,
          0.5115,
          0.5115,
          0.5115,
          0.5115,
          0.5115,
          0.5115,
          0.5115,
          0.5115,
          0.5115,
          0.5115,
          0.5115,
          0.5115,
          0.5115,
          0.5115,
          0.5115,
          0.5247,
          0.498,
          0.498,
          0.498,
          0.498,
          0.498,
          0.498,
          0.498,
          0.498,
          0.498,
          0.498,
          0.498,
          0.5115,
          0.498,
          0.5115,
          0.5115,
          0.5115,
          0.498,
          0.5115,
          0.5115,
          0.5115,
          0.5115,
          0.5115,
          0.5115,
          0.5115,
          0.5115,
          0.5115,
          0.5115,
          0.5115,
          0.5115,
          0.5115,
          0.5115,
          0.5115,
          0.5115,
          0.5115,
          0.5115,
          0.5115,
          0.5115,
          0.5115,
          0.5115,
          0.5115,
          0.5115,
          0.5115,
          0.5115,
          0.5115,
          0.5115,
          0.5115,
          0.5115,
          0.5115,
          0.5115,
          0.5115,
          0.5115,
          0.5115,
          0.5115,
          0.5115,
          0.5115,
          0.5115,
          0.5115,
          0.5115,
          0.5115,
          0.5115,
          0.5115,
          0.5115,
          0.5115,
          0.4959,
          0.5115,
          0.5115,
          0.5115,
          0.5115,
          0.5115,
          0.5115,
          0.5115,
          0.5115,
          0.5115,
          0.5115,
          0.5115,
          0.5115,
          0.5115,
          0.5115,
          0.4959,
          0.5115,
          0.5115,
          0.5115,
          0.5115,
          0.5115,
          0.5115,
          0.5115,
          0.5115,
          0.5115,
          0.5115,
          0.5115,
          0.5115,
          0.4959,
          0.5115,
          0.4911,
          0.4964,
          0.4924,
          0.492,
          0.492,
          0.492,
          0.492,
          0.492,
          0.492,
          0.4916,
          0.4916,
          0.4916,
          0.4924,
          0.4916,
          0.4911,
          0.4911,
          0.4911,
          0.4911,
          0.4911,
          0.4911,
          0.4911,
          0.4911,
          0.4911,
          0.4969,
          0.4916,
          0.4924,
          0.4924,
          0.4953,
          0.4924,
          0.4949,
          0.4949,
          0.4949,
          0.494,
          0.494,
          0.4937,
          0.4937,
          0.4925,
          0.4925,
          0.4925,
          0.4937,
          0.4925,
          0.4925,
          0.4925,
          0.4924,
          0.4924,
          0.4924,
          0.4924,
          0.4924,
          0.4924,
          0.4925,
          0.4768,
          0.4757,
          0.4757,
          0.4757,
          0.4757,
          0.4757,
          0.4757,
          0.4757,
          0.4757,
          0.4757,
          0.4757,
          0.4805,
          0.4757,
          0.4757,
          0.4757,
          0.4757,
          0.4757,
          0.4757,
          0.4768,
          0.4768,
          0.4768,
          0.4768,
          0.4768,
          0.4757,
          0.4768,
          0.4773,
          0.4768,
          0.5115,
          0.4801,
          0.4784,
          0.4773,
          0.4773,
          0.4777,
          0.4777,
          0.4777,
          0.4777,
          0.4777,
          0.4768,
          0.4768,
          0.4768,
          0.4773,
          0.4773,
          0.4773,
          0.4773,
          0.4773,
          0.4773,
          0.4773,
          0.4773,
          0.4773,
          0.4768,
          0.4805
         ],
         "xaxis": "x",
         "y": [
          "A_020",
          "A_020",
          "A_020",
          "A_020",
          "A_020",
          "A_020",
          "A_020",
          "A_020",
          "A_020",
          "A_020",
          "A_020",
          "A_020",
          "A_020",
          "A_020",
          "A_020",
          "A_020",
          "A_020",
          "A_020",
          "A_020",
          "A_020",
          "A_020",
          "A_020",
          "A_020",
          "A_020",
          "A_020",
          "A_020",
          "A_020",
          "A_020",
          "A_020",
          "A_020",
          "A_020",
          "A_020",
          "A_020",
          "A_020",
          "A_020",
          "A_020",
          "A_020",
          "A_020",
          "A_020",
          "A_020",
          "A_020",
          "A_020",
          "A_020",
          "A_020",
          "A_020",
          "A_020",
          "A_020",
          "A_020",
          "A_020",
          "A_020",
          "A_020",
          "A_101",
          "A_101",
          "A_101",
          "A_101",
          "A_101",
          "A_101",
          "A_101",
          "A_101",
          "A_101",
          "A_101",
          "A_101",
          "A_101",
          "A_101",
          "A_101",
          "A_101",
          "A_101",
          "A_101",
          "A_101",
          "A_101",
          "A_101",
          "A_101",
          "A_101",
          "A_101",
          "A_101",
          "A_101",
          "A_101",
          "A_101",
          "A_101",
          "A_101",
          "A_101",
          "A_101",
          "A_101",
          "A_101",
          "A_101",
          "A_101",
          "A_101",
          "A_101",
          "A_101",
          "A_101",
          "A_101",
          "A_101",
          "A_101",
          "A_101",
          "A_101",
          "A_101",
          "A_101",
          "A_101",
          "A_101",
          "A_101",
          "A_101",
          "A_101",
          "A_017",
          "A_017",
          "A_017",
          "A_017",
          "A_017",
          "A_017",
          "A_017",
          "A_017",
          "A_017",
          "A_017",
          "A_017",
          "A_017",
          "A_017",
          "A_017",
          "A_017",
          "A_017",
          "A_017",
          "A_017",
          "A_017",
          "A_017",
          "A_017",
          "A_017",
          "A_017",
          "A_017",
          "A_017",
          "A_017",
          "A_017",
          "A_017",
          "A_017",
          "A_017",
          "A_017",
          "A_017",
          "A_017",
          "A_017",
          "A_017",
          "A_017",
          "A_017",
          "A_017",
          "A_017",
          "A_017",
          "A_017",
          "A_017",
          "A_017",
          "A_017",
          "A_017",
          "A_017",
          "A_017",
          "A_017",
          "A_017",
          "A_017",
          "A_017",
          "production/production",
          "production/production",
          "production/production",
          "production/production",
          "production/production",
          "production/production",
          "production/production",
          "production/production",
          "production/production",
          "production/production",
          "production/production",
          "production/production",
          "production/production",
          "production/production",
          "production/production",
          "production/production",
          "production/production",
          "production/production",
          "production/production",
          "production/production",
          "production/production",
          "production/production",
          "production/production",
          "production/production",
          "production/production",
          "production/production",
          "production/production",
          "production/production",
          "production/production",
          "production/production",
          "production/production",
          "production/production",
          "production/production",
          "production/production",
          "production/production",
          "production/production",
          "production/production",
          "production/production",
          "production/production",
          "production/production",
          "production/production",
          "production/production",
          "production/production",
          "production/production",
          "production/production",
          "production/production",
          "production/production",
          "production/production",
          "production/production",
          "production/production",
          "production/production",
          "#changes",
          "#changes",
          "#changes",
          "#changes",
          "#changes",
          "#changes",
          "#changes",
          "#changes",
          "#changes",
          "#changes",
          "#changes",
          "#changes",
          "#changes",
          "#changes",
          "#changes",
          "#changes",
          "#changes",
          "#changes",
          "#changes",
          "#changes",
          "#changes",
          "#changes",
          "#changes",
          "#changes",
          "#changes",
          "#changes",
          "#changes",
          "#changes",
          "#changes",
          "#changes",
          "#changes",
          "#changes",
          "#changes",
          "#changes",
          "#changes",
          "#changes",
          "#changes",
          "#changes",
          "#changes",
          "#changes",
          "#changes",
          "#changes",
          "#changes",
          "#changes",
          "#changes",
          "#changes",
          "#changes",
          "#changes",
          "#changes",
          "#changes",
          "#changes",
          "scheduled_downtime/downtime",
          "scheduled_downtime/downtime",
          "scheduled_downtime/downtime",
          "scheduled_downtime/downtime",
          "scheduled_downtime/downtime",
          "scheduled_downtime/downtime",
          "scheduled_downtime/downtime",
          "scheduled_downtime/downtime",
          "scheduled_downtime/downtime",
          "scheduled_downtime/downtime",
          "scheduled_downtime/downtime",
          "scheduled_downtime/downtime",
          "scheduled_downtime/downtime",
          "scheduled_downtime/downtime",
          "scheduled_downtime/downtime",
          "scheduled_downtime/downtime",
          "scheduled_downtime/downtime",
          "scheduled_downtime/downtime",
          "scheduled_downtime/downtime",
          "scheduled_downtime/downtime",
          "scheduled_downtime/downtime",
          "scheduled_downtime/downtime",
          "scheduled_downtime/downtime",
          "scheduled_downtime/downtime",
          "scheduled_downtime/downtime",
          "scheduled_downtime/downtime",
          "scheduled_downtime/downtime",
          "scheduled_downtime/downtime",
          "scheduled_downtime/downtime",
          "scheduled_downtime/downtime",
          "scheduled_downtime/downtime",
          "scheduled_downtime/downtime",
          "scheduled_downtime/downtime",
          "scheduled_downtime/downtime",
          "scheduled_downtime/downtime",
          "scheduled_downtime/downtime",
          "scheduled_downtime/downtime",
          "scheduled_downtime/downtime",
          "scheduled_downtime/downtime",
          "scheduled_downtime/downtime",
          "scheduled_downtime/downtime",
          "scheduled_downtime/downtime",
          "scheduled_downtime/downtime",
          "scheduled_downtime/downtime",
          "scheduled_downtime/downtime",
          "scheduled_downtime/downtime",
          "scheduled_downtime/downtime",
          "scheduled_downtime/downtime",
          "scheduled_downtime/downtime",
          "scheduled_downtime/downtime",
          "scheduled_downtime/downtime",
          "idle/performance_loss",
          "idle/performance_loss",
          "idle/performance_loss",
          "idle/performance_loss",
          "idle/performance_loss",
          "idle/performance_loss",
          "idle/performance_loss",
          "idle/performance_loss",
          "idle/performance_loss",
          "idle/performance_loss",
          "idle/performance_loss",
          "idle/performance_loss",
          "idle/performance_loss",
          "idle/performance_loss",
          "idle/performance_loss",
          "idle/performance_loss",
          "idle/performance_loss",
          "idle/performance_loss",
          "idle/performance_loss",
          "idle/performance_loss",
          "idle/performance_loss",
          "idle/performance_loss",
          "idle/performance_loss",
          "idle/performance_loss",
          "idle/performance_loss",
          "idle/performance_loss",
          "idle/performance_loss",
          "idle/performance_loss",
          "idle/performance_loss",
          "idle/performance_loss",
          "idle/performance_loss",
          "idle/performance_loss",
          "idle/performance_loss",
          "idle/performance_loss",
          "idle/performance_loss",
          "idle/performance_loss",
          "idle/performance_loss",
          "idle/performance_loss",
          "idle/performance_loss",
          "idle/performance_loss",
          "idle/performance_loss",
          "idle/performance_loss",
          "idle/performance_loss",
          "idle/performance_loss",
          "idle/performance_loss",
          "idle/performance_loss",
          "idle/performance_loss",
          "idle/performance_loss",
          "idle/performance_loss",
          "idle/performance_loss",
          "idle/performance_loss",
          "A_012",
          "A_012",
          "A_012",
          "A_012",
          "A_012",
          "A_012",
          "A_012",
          "A_012",
          "A_012",
          "A_012",
          "A_012",
          "A_012",
          "A_012",
          "A_012",
          "A_012",
          "A_012",
          "A_012",
          "A_012",
          "A_012",
          "A_012",
          "A_012",
          "A_012",
          "A_012",
          "A_012",
          "A_012",
          "A_012",
          "A_012",
          "A_012",
          "A_012",
          "A_012",
          "A_012",
          "A_012",
          "A_012",
          "A_012",
          "A_012",
          "A_012",
          "A_012",
          "A_012",
          "A_012",
          "A_012",
          "A_012",
          "A_012",
          "A_012",
          "A_012",
          "A_012",
          "A_012",
          "A_012",
          "A_012",
          "A_012",
          "A_012",
          "A_012",
          "downtime/downtime",
          "downtime/downtime",
          "downtime/downtime",
          "downtime/downtime",
          "downtime/downtime",
          "downtime/downtime",
          "downtime/downtime",
          "downtime/downtime",
          "downtime/downtime",
          "downtime/downtime",
          "downtime/downtime",
          "downtime/downtime",
          "downtime/downtime",
          "downtime/downtime",
          "downtime/downtime",
          "downtime/downtime",
          "downtime/downtime",
          "downtime/downtime",
          "downtime/downtime",
          "downtime/downtime",
          "downtime/downtime",
          "downtime/downtime",
          "downtime/downtime",
          "downtime/downtime",
          "downtime/downtime",
          "downtime/downtime",
          "downtime/downtime",
          "downtime/downtime",
          "downtime/downtime",
          "downtime/downtime",
          "downtime/downtime",
          "downtime/downtime",
          "downtime/downtime",
          "downtime/downtime",
          "downtime/downtime",
          "downtime/downtime",
          "downtime/downtime",
          "downtime/downtime",
          "downtime/downtime",
          "downtime/downtime",
          "downtime/downtime",
          "downtime/downtime",
          "downtime/downtime",
          "downtime/downtime",
          "downtime/downtime",
          "downtime/downtime",
          "downtime/downtime",
          "downtime/downtime",
          "downtime/downtime",
          "downtime/downtime",
          "downtime/downtime",
          "count_sum",
          "count_sum",
          "count_sum",
          "count_sum",
          "count_sum",
          "count_sum",
          "count_sum",
          "count_sum",
          "count_sum",
          "count_sum",
          "count_sum",
          "count_sum",
          "count_sum",
          "count_sum",
          "count_sum",
          "count_sum",
          "count_sum",
          "count_sum",
          "count_sum",
          "count_sum",
          "count_sum",
          "count_sum",
          "count_sum",
          "count_sum",
          "count_sum",
          "count_sum",
          "count_sum",
          "count_sum",
          "count_sum",
          "count_sum",
          "count_sum",
          "count_sum",
          "count_sum",
          "count_sum",
          "count_sum",
          "count_sum",
          "count_sum",
          "count_sum",
          "count_sum",
          "count_sum",
          "count_sum",
          "count_sum",
          "count_sum",
          "count_sum",
          "count_sum",
          "count_sum",
          "count_sum",
          "count_sum",
          "count_sum",
          "count_sum",
          "count_sum"
         ],
         "yaxis": "y"
        }
       ],
       "layout": {
        "coloraxis": {
         "colorbar": {
          "title": {
           "text": "quantile"
          }
         },
         "colorscale": [
          [
           0,
           "midnightblue"
          ],
          [
           0.5,
           "lightskyblue"
          ],
          [
           1,
           "limegreen"
          ]
         ]
        },
        "legend": {
         "itemsizing": "constant",
         "tracegroupgap": 0
        },
        "shapes": [
         {
          "line": {
           "color": "red",
           "dash": "dash",
           "width": 2
          },
          "type": "line",
          "x0": 0.511516637633156,
          "x1": 0.511516637633156,
          "y0": "A_020",
          "y1": "count_sum"
         },
         {
          "line": {
           "color": "black",
           "dash": "solid",
           "width": 2
          },
          "type": "line",
          "x0": 0.5,
          "x1": 0.5,
          "y0": "A_020",
          "y1": "count_sum"
         }
        ],
        "template": {
         "data": {
          "bar": [
           {
            "error_x": {
             "color": "#2a3f5f"
            },
            "error_y": {
             "color": "#2a3f5f"
            },
            "marker": {
             "line": {
              "color": "#E5ECF6",
              "width": 0.5
             },
             "pattern": {
              "fillmode": "overlay",
              "size": 10,
              "solidity": 0.2
             }
            },
            "type": "bar"
           }
          ],
          "barpolar": [
           {
            "marker": {
             "line": {
              "color": "#E5ECF6",
              "width": 0.5
             },
             "pattern": {
              "fillmode": "overlay",
              "size": 10,
              "solidity": 0.2
             }
            },
            "type": "barpolar"
           }
          ],
          "carpet": [
           {
            "aaxis": {
             "endlinecolor": "#2a3f5f",
             "gridcolor": "white",
             "linecolor": "white",
             "minorgridcolor": "white",
             "startlinecolor": "#2a3f5f"
            },
            "baxis": {
             "endlinecolor": "#2a3f5f",
             "gridcolor": "white",
             "linecolor": "white",
             "minorgridcolor": "white",
             "startlinecolor": "#2a3f5f"
            },
            "type": "carpet"
           }
          ],
          "choropleth": [
           {
            "colorbar": {
             "outlinewidth": 0,
             "ticks": ""
            },
            "type": "choropleth"
           }
          ],
          "contour": [
           {
            "colorbar": {
             "outlinewidth": 0,
             "ticks": ""
            },
            "colorscale": [
             [
              0,
              "#0d0887"
             ],
             [
              0.1111111111111111,
              "#46039f"
             ],
             [
              0.2222222222222222,
              "#7201a8"
             ],
             [
              0.3333333333333333,
              "#9c179e"
             ],
             [
              0.4444444444444444,
              "#bd3786"
             ],
             [
              0.5555555555555556,
              "#d8576b"
             ],
             [
              0.6666666666666666,
              "#ed7953"
             ],
             [
              0.7777777777777778,
              "#fb9f3a"
             ],
             [
              0.8888888888888888,
              "#fdca26"
             ],
             [
              1,
              "#f0f921"
             ]
            ],
            "type": "contour"
           }
          ],
          "contourcarpet": [
           {
            "colorbar": {
             "outlinewidth": 0,
             "ticks": ""
            },
            "type": "contourcarpet"
           }
          ],
          "heatmap": [
           {
            "colorbar": {
             "outlinewidth": 0,
             "ticks": ""
            },
            "colorscale": [
             [
              0,
              "#0d0887"
             ],
             [
              0.1111111111111111,
              "#46039f"
             ],
             [
              0.2222222222222222,
              "#7201a8"
             ],
             [
              0.3333333333333333,
              "#9c179e"
             ],
             [
              0.4444444444444444,
              "#bd3786"
             ],
             [
              0.5555555555555556,
              "#d8576b"
             ],
             [
              0.6666666666666666,
              "#ed7953"
             ],
             [
              0.7777777777777778,
              "#fb9f3a"
             ],
             [
              0.8888888888888888,
              "#fdca26"
             ],
             [
              1,
              "#f0f921"
             ]
            ],
            "type": "heatmap"
           }
          ],
          "heatmapgl": [
           {
            "colorbar": {
             "outlinewidth": 0,
             "ticks": ""
            },
            "colorscale": [
             [
              0,
              "#0d0887"
             ],
             [
              0.1111111111111111,
              "#46039f"
             ],
             [
              0.2222222222222222,
              "#7201a8"
             ],
             [
              0.3333333333333333,
              "#9c179e"
             ],
             [
              0.4444444444444444,
              "#bd3786"
             ],
             [
              0.5555555555555556,
              "#d8576b"
             ],
             [
              0.6666666666666666,
              "#ed7953"
             ],
             [
              0.7777777777777778,
              "#fb9f3a"
             ],
             [
              0.8888888888888888,
              "#fdca26"
             ],
             [
              1,
              "#f0f921"
             ]
            ],
            "type": "heatmapgl"
           }
          ],
          "histogram": [
           {
            "marker": {
             "pattern": {
              "fillmode": "overlay",
              "size": 10,
              "solidity": 0.2
             }
            },
            "type": "histogram"
           }
          ],
          "histogram2d": [
           {
            "colorbar": {
             "outlinewidth": 0,
             "ticks": ""
            },
            "colorscale": [
             [
              0,
              "#0d0887"
             ],
             [
              0.1111111111111111,
              "#46039f"
             ],
             [
              0.2222222222222222,
              "#7201a8"
             ],
             [
              0.3333333333333333,
              "#9c179e"
             ],
             [
              0.4444444444444444,
              "#bd3786"
             ],
             [
              0.5555555555555556,
              "#d8576b"
             ],
             [
              0.6666666666666666,
              "#ed7953"
             ],
             [
              0.7777777777777778,
              "#fb9f3a"
             ],
             [
              0.8888888888888888,
              "#fdca26"
             ],
             [
              1,
              "#f0f921"
             ]
            ],
            "type": "histogram2d"
           }
          ],
          "histogram2dcontour": [
           {
            "colorbar": {
             "outlinewidth": 0,
             "ticks": ""
            },
            "colorscale": [
             [
              0,
              "#0d0887"
             ],
             [
              0.1111111111111111,
              "#46039f"
             ],
             [
              0.2222222222222222,
              "#7201a8"
             ],
             [
              0.3333333333333333,
              "#9c179e"
             ],
             [
              0.4444444444444444,
              "#bd3786"
             ],
             [
              0.5555555555555556,
              "#d8576b"
             ],
             [
              0.6666666666666666,
              "#ed7953"
             ],
             [
              0.7777777777777778,
              "#fb9f3a"
             ],
             [
              0.8888888888888888,
              "#fdca26"
             ],
             [
              1,
              "#f0f921"
             ]
            ],
            "type": "histogram2dcontour"
           }
          ],
          "mesh3d": [
           {
            "colorbar": {
             "outlinewidth": 0,
             "ticks": ""
            },
            "type": "mesh3d"
           }
          ],
          "parcoords": [
           {
            "line": {
             "colorbar": {
              "outlinewidth": 0,
              "ticks": ""
             }
            },
            "type": "parcoords"
           }
          ],
          "pie": [
           {
            "automargin": true,
            "type": "pie"
           }
          ],
          "scatter": [
           {
            "fillpattern": {
             "fillmode": "overlay",
             "size": 10,
             "solidity": 0.2
            },
            "type": "scatter"
           }
          ],
          "scatter3d": [
           {
            "line": {
             "colorbar": {
              "outlinewidth": 0,
              "ticks": ""
             }
            },
            "marker": {
             "colorbar": {
              "outlinewidth": 0,
              "ticks": ""
             }
            },
            "type": "scatter3d"
           }
          ],
          "scattercarpet": [
           {
            "marker": {
             "colorbar": {
              "outlinewidth": 0,
              "ticks": ""
             }
            },
            "type": "scattercarpet"
           }
          ],
          "scattergeo": [
           {
            "marker": {
             "colorbar": {
              "outlinewidth": 0,
              "ticks": ""
             }
            },
            "type": "scattergeo"
           }
          ],
          "scattergl": [
           {
            "marker": {
             "colorbar": {
              "outlinewidth": 0,
              "ticks": ""
             }
            },
            "type": "scattergl"
           }
          ],
          "scattermapbox": [
           {
            "marker": {
             "colorbar": {
              "outlinewidth": 0,
              "ticks": ""
             }
            },
            "type": "scattermapbox"
           }
          ],
          "scatterpolar": [
           {
            "marker": {
             "colorbar": {
              "outlinewidth": 0,
              "ticks": ""
             }
            },
            "type": "scatterpolar"
           }
          ],
          "scatterpolargl": [
           {
            "marker": {
             "colorbar": {
              "outlinewidth": 0,
              "ticks": ""
             }
            },
            "type": "scatterpolargl"
           }
          ],
          "scatterternary": [
           {
            "marker": {
             "colorbar": {
              "outlinewidth": 0,
              "ticks": ""
             }
            },
            "type": "scatterternary"
           }
          ],
          "surface": [
           {
            "colorbar": {
             "outlinewidth": 0,
             "ticks": ""
            },
            "colorscale": [
             [
              0,
              "#0d0887"
             ],
             [
              0.1111111111111111,
              "#46039f"
             ],
             [
              0.2222222222222222,
              "#7201a8"
             ],
             [
              0.3333333333333333,
              "#9c179e"
             ],
             [
              0.4444444444444444,
              "#bd3786"
             ],
             [
              0.5555555555555556,
              "#d8576b"
             ],
             [
              0.6666666666666666,
              "#ed7953"
             ],
             [
              0.7777777777777778,
              "#fb9f3a"
             ],
             [
              0.8888888888888888,
              "#fdca26"
             ],
             [
              1,
              "#f0f921"
             ]
            ],
            "type": "surface"
           }
          ],
          "table": [
           {
            "cells": {
             "fill": {
              "color": "#EBF0F8"
             },
             "line": {
              "color": "white"
             }
            },
            "header": {
             "fill": {
              "color": "#C8D4E3"
             },
             "line": {
              "color": "white"
             }
            },
            "type": "table"
           }
          ]
         },
         "layout": {
          "annotationdefaults": {
           "arrowcolor": "#2a3f5f",
           "arrowhead": 0,
           "arrowwidth": 1
          },
          "autotypenumbers": "strict",
          "coloraxis": {
           "colorbar": {
            "outlinewidth": 0,
            "ticks": ""
           }
          },
          "colorscale": {
           "diverging": [
            [
             0,
             "#8e0152"
            ],
            [
             0.1,
             "#c51b7d"
            ],
            [
             0.2,
             "#de77ae"
            ],
            [
             0.3,
             "#f1b6da"
            ],
            [
             0.4,
             "#fde0ef"
            ],
            [
             0.5,
             "#f7f7f7"
            ],
            [
             0.6,
             "#e6f5d0"
            ],
            [
             0.7,
             "#b8e186"
            ],
            [
             0.8,
             "#7fbc41"
            ],
            [
             0.9,
             "#4d9221"
            ],
            [
             1,
             "#276419"
            ]
           ],
           "sequential": [
            [
             0,
             "#0d0887"
            ],
            [
             0.1111111111111111,
             "#46039f"
            ],
            [
             0.2222222222222222,
             "#7201a8"
            ],
            [
             0.3333333333333333,
             "#9c179e"
            ],
            [
             0.4444444444444444,
             "#bd3786"
            ],
            [
             0.5555555555555556,
             "#d8576b"
            ],
            [
             0.6666666666666666,
             "#ed7953"
            ],
            [
             0.7777777777777778,
             "#fb9f3a"
            ],
            [
             0.8888888888888888,
             "#fdca26"
            ],
            [
             1,
             "#f0f921"
            ]
           ],
           "sequentialminus": [
            [
             0,
             "#0d0887"
            ],
            [
             0.1111111111111111,
             "#46039f"
            ],
            [
             0.2222222222222222,
             "#7201a8"
            ],
            [
             0.3333333333333333,
             "#9c179e"
            ],
            [
             0.4444444444444444,
             "#bd3786"
            ],
            [
             0.5555555555555556,
             "#d8576b"
            ],
            [
             0.6666666666666666,
             "#ed7953"
            ],
            [
             0.7777777777777778,
             "#fb9f3a"
            ],
            [
             0.8888888888888888,
             "#fdca26"
            ],
            [
             1,
             "#f0f921"
            ]
           ]
          },
          "colorway": [
           "#636efa",
           "#EF553B",
           "#00cc96",
           "#ab63fa",
           "#FFA15A",
           "#19d3f3",
           "#FF6692",
           "#B6E880",
           "#FF97FF",
           "#FECB52"
          ],
          "font": {
           "color": "#2a3f5f"
          },
          "geo": {
           "bgcolor": "white",
           "lakecolor": "white",
           "landcolor": "#E5ECF6",
           "showlakes": true,
           "showland": true,
           "subunitcolor": "white"
          },
          "hoverlabel": {
           "align": "left"
          },
          "hovermode": "closest",
          "mapbox": {
           "style": "light"
          },
          "paper_bgcolor": "white",
          "plot_bgcolor": "#E5ECF6",
          "polar": {
           "angularaxis": {
            "gridcolor": "white",
            "linecolor": "white",
            "ticks": ""
           },
           "bgcolor": "#E5ECF6",
           "radialaxis": {
            "gridcolor": "white",
            "linecolor": "white",
            "ticks": ""
           }
          },
          "scene": {
           "xaxis": {
            "backgroundcolor": "#E5ECF6",
            "gridcolor": "white",
            "gridwidth": 2,
            "linecolor": "white",
            "showbackground": true,
            "ticks": "",
            "zerolinecolor": "white"
           },
           "yaxis": {
            "backgroundcolor": "#E5ECF6",
            "gridcolor": "white",
            "gridwidth": 2,
            "linecolor": "white",
            "showbackground": true,
            "ticks": "",
            "zerolinecolor": "white"
           },
           "zaxis": {
            "backgroundcolor": "#E5ECF6",
            "gridcolor": "white",
            "gridwidth": 2,
            "linecolor": "white",
            "showbackground": true,
            "ticks": "",
            "zerolinecolor": "white"
           }
          },
          "shapedefaults": {
           "line": {
            "color": "#2a3f5f"
           }
          },
          "ternary": {
           "aaxis": {
            "gridcolor": "white",
            "linecolor": "white",
            "ticks": ""
           },
           "baxis": {
            "gridcolor": "white",
            "linecolor": "white",
            "ticks": ""
           },
           "bgcolor": "#E5ECF6",
           "caxis": {
            "gridcolor": "white",
            "linecolor": "white",
            "ticks": ""
           }
          },
          "title": {
           "x": 0.05
          },
          "xaxis": {
           "automargin": true,
           "gridcolor": "white",
           "linecolor": "white",
           "ticks": "",
           "title": {
            "standoff": 15
           },
           "zerolinecolor": "white",
           "zerolinewidth": 2
          },
          "yaxis": {
           "automargin": true,
           "gridcolor": "white",
           "linecolor": "white",
           "ticks": "",
           "title": {
            "standoff": 15
           },
           "zerolinecolor": "white",
           "zerolinewidth": 2
          }
         }
        },
        "title": {
         "text": "Local AcME: observation ID 11541. Predicted: 0.512",
         "x": 0.5,
         "xanchor": "center",
         "y": 0.9,
         "yanchor": "top"
        },
        "xaxis": {
         "anchor": "y",
         "domain": [
          0,
          1
         ],
         "title": {
          "text": "predict"
         }
        },
        "yaxis": {
         "anchor": "x",
         "domain": [
          0,
          1
         ],
         "title": {
          "text": "feature"
         }
        }
       }
      }
     },
     "metadata": {},
     "output_type": "display_data"
    }
   ],
   "source": [
    "k = random.choice(list(acme_local_explanations.keys()))\n",
    "acme_loc_summary_plot = acme_local_explanations[k].summary_plot(local=True, n_features = 10)\n",
    "# acme_loc_summary_plot.update_layout(width = 100 * 15, height = 100 * 6, font = dict(size=18))\n",
    "acme_loc_summary_plot.show()"
   ]
  }
 ],
 "metadata": {
  "kernelspec": {
   "display_name": "Python 3 (ipykernel)",
   "language": "python",
   "name": "python3"
  },
  "language_info": {
   "codemirror_mode": {
    "name": "ipython",
    "version": 3
   },
   "file_extension": ".py",
   "mimetype": "text/x-python",
   "name": "python",
   "nbconvert_exporter": "python",
   "pygments_lexer": "ipython3",
   "version": "3.11.5"
  }
 },
 "nbformat": 4,
 "nbformat_minor": 4
}
